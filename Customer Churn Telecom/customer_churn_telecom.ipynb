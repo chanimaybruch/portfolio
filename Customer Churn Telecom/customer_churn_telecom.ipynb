{
 "cells": [
  {
   "cell_type": "markdown",
   "id": "18a23fc8-ea43-4b1c-bd28-7e4ba2b0603d",
   "metadata": {},
   "source": [
    "# Introduction\n",
    "## Project Goal\n",
    "We will analyze the data on clients of the telecom operator Interconnect to forecast their churn of clients. Our goal is to create a machine learning model that will predit clients who are likely to leave so that Interconnect will be able to offer these clients incentives to stay. Our machine learning task will involve binary classification. We will also explore features that may be associated with churn in order to make suggestions to the company on how to prevent churn.\n",
    "\n",
    "## Data Description\n",
    "\n",
    "The data consists of files obtained from different sources:\n",
    "\n",
    "- `contract.csv` — contract information\n",
    "- `personal.csv` — the client's personal data\n",
    "- `internet.csv` — information about Internet services\n",
    "- `phone.csv` — information about telephone services\n",
    "\n",
    "In each file, the column `customerID` contains a unique code assigned to each client."
   ]
  },
  {
   "cell_type": "markdown",
   "id": "74c2e769-7f61-4d82-9f2d-bdb95defc4d8",
   "metadata": {},
   "source": [
    "## Initialization"
   ]
  },
  {
   "cell_type": "code",
   "execution_count": 141,
   "id": "62fa9f7e-9cf8-409e-bb17-eac6d2876d3b",
   "metadata": {},
   "outputs": [
    {
     "name": "stdout",
     "output_type": "stream",
     "text": [
      "Requirement already satisfied: pip in c:\\users\\abba\\anaconda3\\lib\\site-packages (23.1.2)\n",
      "Note: you may need to restart the kernel to use updated packages.\n"
     ]
    }
   ],
   "source": [
    "pip install --upgrade pip"
   ]
  },
  {
   "cell_type": "code",
   "execution_count": 142,
   "id": "e62c70ea-067f-45af-9887-0ac663ea7701",
   "metadata": {},
   "outputs": [
    {
     "name": "stdout",
     "output_type": "stream",
     "text": [
      "Requirement already satisfied: scikit-learn in c:\\users\\abba\\anaconda3\\lib\\site-packages (1.2.2)\n",
      "Requirement already satisfied: numpy>=1.17.3 in c:\\users\\abba\\anaconda3\\lib\\site-packages (from scikit-learn) (1.22.4)\n",
      "Requirement already satisfied: scipy>=1.3.2 in c:\\users\\abba\\anaconda3\\lib\\site-packages (from scikit-learn) (1.7.3)\n",
      "Requirement already satisfied: joblib>=1.1.1 in c:\\users\\abba\\anaconda3\\lib\\site-packages (from scikit-learn) (1.2.0)\n",
      "Requirement already satisfied: threadpoolctl>=2.0.0 in c:\\users\\abba\\anaconda3\\lib\\site-packages (from scikit-learn) (3.1.0)\n",
      "Note: you may need to restart the kernel to use updated packages.\n"
     ]
    }
   ],
   "source": [
    "pip install scikit-learn --upgrade"
   ]
  },
  {
   "cell_type": "code",
   "execution_count": 143,
   "id": "91e95c1b-a3ec-4eff-8a7c-f8da150298ec",
   "metadata": {},
   "outputs": [
    {
     "name": "stdout",
     "output_type": "stream",
     "text": [
      "Requirement already satisfied: category_encoders in c:\\users\\abba\\anaconda3\\lib\\site-packages (2.5.1.post0)\n",
      "Requirement already satisfied: numpy>=1.14.0 in c:\\users\\abba\\anaconda3\\lib\\site-packages (from category_encoders) (1.22.4)\n",
      "Requirement already satisfied: scikit-learn>=0.20.0 in c:\\users\\abba\\anaconda3\\lib\\site-packages (from category_encoders) (1.2.2)\n",
      "Requirement already satisfied: scipy>=1.0.0 in c:\\users\\abba\\anaconda3\\lib\\site-packages (from category_encoders) (1.7.3)\n",
      "Requirement already satisfied: statsmodels>=0.9.0 in c:\\users\\abba\\anaconda3\\lib\\site-packages (from category_encoders) (0.13.2)\n",
      "Requirement already satisfied: pandas>=1.0.5 in c:\\users\\abba\\anaconda3\\lib\\site-packages (from category_encoders) (1.4.2)\n",
      "Requirement already satisfied: patsy>=0.5.1 in c:\\users\\abba\\anaconda3\\lib\\site-packages (from category_encoders) (0.5.2)\n",
      "Requirement already satisfied: python-dateutil>=2.8.1 in c:\\users\\abba\\anaconda3\\lib\\site-packages (from pandas>=1.0.5->category_encoders) (2.8.2)\n",
      "Requirement already satisfied: pytz>=2020.1 in c:\\users\\abba\\anaconda3\\lib\\site-packages (from pandas>=1.0.5->category_encoders) (2021.3)\n",
      "Requirement already satisfied: six in c:\\users\\abba\\anaconda3\\lib\\site-packages (from patsy>=0.5.1->category_encoders) (1.16.0)\n",
      "Requirement already satisfied: joblib>=1.1.1 in c:\\users\\abba\\anaconda3\\lib\\site-packages (from scikit-learn>=0.20.0->category_encoders) (1.2.0)\n",
      "Requirement already satisfied: threadpoolctl>=2.0.0 in c:\\users\\abba\\anaconda3\\lib\\site-packages (from scikit-learn>=0.20.0->category_encoders) (3.1.0)\n",
      "Requirement already satisfied: packaging>=21.3 in c:\\users\\abba\\anaconda3\\lib\\site-packages (from statsmodels>=0.9.0->category_encoders) (21.3)\n",
      "Requirement already satisfied: pyparsing!=3.0.5,>=2.0.2 in c:\\users\\abba\\anaconda3\\lib\\site-packages (from packaging>=21.3->statsmodels>=0.9.0->category_encoders) (3.0.4)\n",
      "Note: you may need to restart the kernel to use updated packages.\n"
     ]
    }
   ],
   "source": [
    "pip install category_encoders"
   ]
  },
  {
   "cell_type": "code",
   "execution_count": 144,
   "id": "00c84202-5704-4ffa-9a8a-9f2369cb0b6c",
   "metadata": {},
   "outputs": [
    {
     "name": "stdout",
     "output_type": "stream",
     "text": [
      "Requirement already satisfied: lightgbm in c:\\users\\abba\\anaconda3\\lib\\site-packages (3.3.3)\n",
      "Requirement already satisfied: wheel in c:\\users\\abba\\anaconda3\\lib\\site-packages (from lightgbm) (0.37.1)\n",
      "Requirement already satisfied: numpy in c:\\users\\abba\\anaconda3\\lib\\site-packages (from lightgbm) (1.22.4)\n",
      "Requirement already satisfied: scipy in c:\\users\\abba\\anaconda3\\lib\\site-packages (from lightgbm) (1.7.3)\n",
      "Requirement already satisfied: scikit-learn!=0.22.0 in c:\\users\\abba\\anaconda3\\lib\\site-packages (from lightgbm) (1.2.2)\n",
      "Requirement already satisfied: joblib>=1.1.1 in c:\\users\\abba\\anaconda3\\lib\\site-packages (from scikit-learn!=0.22.0->lightgbm) (1.2.0)\n",
      "Requirement already satisfied: threadpoolctl>=2.0.0 in c:\\users\\abba\\anaconda3\\lib\\site-packages (from scikit-learn!=0.22.0->lightgbm) (3.1.0)\n",
      "Note: you may need to restart the kernel to use updated packages.\n"
     ]
    }
   ],
   "source": [
    "pip install lightgbm "
   ]
  },
  {
   "cell_type": "code",
   "execution_count": 145,
   "id": "c3e9b508-1f69-49cd-bb09-85c65202827a",
   "metadata": {},
   "outputs": [
    {
     "name": "stdout",
     "output_type": "stream",
     "text": [
      "Requirement already satisfied: catboost in c:\\users\\abba\\anaconda3\\lib\\site-packages (1.1.1)\n",
      "Requirement already satisfied: graphviz in c:\\users\\abba\\anaconda3\\lib\\site-packages (from catboost) (0.20.1)\n",
      "Requirement already satisfied: matplotlib in c:\\users\\abba\\anaconda3\\lib\\site-packages (from catboost) (3.5.1)\n",
      "Requirement already satisfied: numpy>=1.16.0 in c:\\users\\abba\\anaconda3\\lib\\site-packages (from catboost) (1.22.4)\n",
      "Requirement already satisfied: pandas>=0.24.0 in c:\\users\\abba\\anaconda3\\lib\\site-packages (from catboost) (1.4.2)\n",
      "Requirement already satisfied: scipy in c:\\users\\abba\\anaconda3\\lib\\site-packages (from catboost) (1.7.3)\n",
      "Requirement already satisfied: plotly in c:\\users\\abba\\anaconda3\\lib\\site-packages (from catboost) (4.5.4)\n",
      "Requirement already satisfied: six in c:\\users\\abba\\anaconda3\\lib\\site-packages (from catboost) (1.16.0)\n",
      "Requirement already satisfied: python-dateutil>=2.8.1 in c:\\users\\abba\\anaconda3\\lib\\site-packages (from pandas>=0.24.0->catboost) (2.8.2)\n",
      "Requirement already satisfied: pytz>=2020.1 in c:\\users\\abba\\anaconda3\\lib\\site-packages (from pandas>=0.24.0->catboost) (2021.3)\n",
      "Requirement already satisfied: cycler>=0.10 in c:\\users\\abba\\anaconda3\\lib\\site-packages (from matplotlib->catboost) (0.11.0)\n",
      "Requirement already satisfied: fonttools>=4.22.0 in c:\\users\\abba\\anaconda3\\lib\\site-packages (from matplotlib->catboost) (4.25.0)\n",
      "Requirement already satisfied: kiwisolver>=1.0.1 in c:\\users\\abba\\anaconda3\\lib\\site-packages (from matplotlib->catboost) (1.3.2)\n",
      "Requirement already satisfied: packaging>=20.0 in c:\\users\\abba\\anaconda3\\lib\\site-packages (from matplotlib->catboost) (21.3)\n",
      "Requirement already satisfied: pillow>=6.2.0 in c:\\users\\abba\\anaconda3\\lib\\site-packages (from matplotlib->catboost) (9.0.1)\n",
      "Requirement already satisfied: pyparsing>=2.2.1 in c:\\users\\abba\\anaconda3\\lib\\site-packages (from matplotlib->catboost) (3.0.4)\n",
      "Requirement already satisfied: retrying>=1.3.3 in c:\\users\\abba\\anaconda3\\lib\\site-packages (from plotly->catboost) (1.3.4)\n",
      "Note: you may need to restart the kernel to use updated packages.\n"
     ]
    }
   ],
   "source": [
    "pip install catboost"
   ]
  },
  {
   "cell_type": "code",
   "execution_count": 146,
   "id": "73b8cf01-16a1-470a-8b49-036e85854291",
   "metadata": {},
   "outputs": [
    {
     "name": "stdout",
     "output_type": "stream",
     "text": [
      "Requirement already satisfied: xgboost in c:\\users\\abba\\anaconda3\\lib\\site-packages (1.7.5)\n",
      "Note: you may need to restart the kernel to use updated packages.Requirement already satisfied: numpy in c:\\users\\abba\\anaconda3\\lib\\site-packages (from xgboost) (1.22.4)\n",
      "Requirement already satisfied: scipy in c:\\users\\abba\\anaconda3\\lib\\site-packages (from xgboost) (1.7.3)\n",
      "\n"
     ]
    }
   ],
   "source": [
    "pip install xgboost"
   ]
  },
  {
   "cell_type": "code",
   "execution_count": 147,
   "id": "a38521b5-d2fd-4417-ac63-d132b4ff8f48",
   "metadata": {},
   "outputs": [
    {
     "name": "stdout",
     "output_type": "stream",
     "text": [
      "Requirement already satisfied: imblearn in c:\\users\\abba\\anaconda3\\lib\\site-packages (0.0)\n",
      "Requirement already satisfied: imbalanced-learn in c:\\users\\abba\\anaconda3\\lib\\site-packages (from imblearn) (0.10.1)\n",
      "Requirement already satisfied: numpy>=1.17.3 in c:\\users\\abba\\anaconda3\\lib\\site-packages (from imbalanced-learn->imblearn) (1.22.4)\n",
      "Requirement already satisfied: scipy>=1.3.2 in c:\\users\\abba\\anaconda3\\lib\\site-packages (from imbalanced-learn->imblearn) (1.7.3)\n",
      "Requirement already satisfied: scikit-learn>=1.0.2 in c:\\users\\abba\\anaconda3\\lib\\site-packages (from imbalanced-learn->imblearn) (1.2.2)\n",
      "Requirement already satisfied: joblib>=1.1.1 in c:\\users\\abba\\anaconda3\\lib\\site-packages (from imbalanced-learn->imblearn) (1.2.0)\n",
      "Requirement already satisfied: threadpoolctl>=2.0.0 in c:\\users\\abba\\anaconda3\\lib\\site-packages (from imbalanced-learn->imblearn) (3.1.0)\n",
      "Note: you may need to restart the kernel to use updated packages.\n"
     ]
    }
   ],
   "source": [
    "pip install imblearn"
   ]
  },
  {
   "cell_type": "code",
   "execution_count": 148,
   "id": "f6c1d426-14f5-4943-ab1a-27a61b442674",
   "metadata": {},
   "outputs": [],
   "source": [
    "# import libraries\n",
    "\n",
    "import numpy as np\n",
    "import pandas as pd\n",
    "import matplotlib.pyplot as plt\n",
    "import seaborn as sns\n",
    "import plotly.express as px\n",
    "from sklearn.preprocessing import OneHotEncoder\n",
    "from sklearn.model_selection import train_test_split\n",
    "from sklearn.linear_model import LogisticRegression\n",
    "from sklearn.tree import DecisionTreeClassifier\n",
    "from sklearn.ensemble import RandomForestClassifier\n",
    "from sklearn.model_selection import RandomizedSearchCV\n",
    "from sklearn.compose import ColumnTransformer\n",
    "from sklearn import metrics\n",
    "from sklearn.preprocessing import StandardScaler\n",
    "from sklearn.metrics import f1_score, roc_auc_score, confusion_matrix\n",
    "from sklearn.utils import shuffle\n",
    "import category_encoders as ce\n",
    "import catboost as cb\n",
    "from catboost import CatBoostClassifier\n",
    "from xgboost import XGBClassifier\n",
    "import lightgbm\n",
    "from lightgbm import LGBMClassifier\n",
    "import imblearn\n",
    "import sklearn.preprocessing\n",
    "from sklearn.model_selection import train_test_split\n",
    "from sklearn.model_selection import GridSearchCV\n",
    "from sklearn.model_selection import train_test_split, GridSearchCV, StratifiedKFold\n",
    "from sklearn.preprocessing import MinMaxScaler\n",
    "from imblearn.over_sampling import SMOTE\n",
    "from imblearn.pipeline import Pipeline as imbpipeline\n",
    "from sklearn.model_selection import cross_val_score\n",
    "from statistics import mean\n",
    "import warnings\n",
    "warnings.filterwarnings('ignore')\n",
    "warnings.simplefilter('ignore')"
   ]
  },
  {
   "cell_type": "markdown",
   "id": "581e7f54-b9c6-4ba6-8bd7-44a0c5e0bb69",
   "metadata": {},
   "source": [
    "## Load Data"
   ]
  },
  {
   "cell_type": "code",
   "execution_count": 149,
   "id": "1bea49e8-2a75-4e3f-8012-881dc67bd560",
   "metadata": {},
   "outputs": [],
   "source": [
    "try:\n",
    "    personal_df = pd.read_csv('personal.csv')\n",
    "    phone_df = pd.read_csv('phone.csv')\n",
    "    internet_df = pd.read_csv('internet.csv')\n",
    "    contract_df = pd.read_csv('contract.csv')\n",
    "except:\n",
    "    personal_df = pd.read_csv('/datasets/final_provider/personal.csv')\n",
    "    phone_df = pd.read_csv('/datasets/final_provider/phone.csv')\n",
    "    internet_df = pd.read_csv('/datasets/final_provider/internet.csv')\n",
    "    contract_df = pd.read_csv('/datasets/final_provider/contract.csv')"
   ]
  },
  {
   "cell_type": "markdown",
   "id": "b6b40ca8-f9f4-40d5-8605-e0db0a5f5643",
   "metadata": {},
   "source": [
    "## Review Data"
   ]
  },
  {
   "cell_type": "code",
   "execution_count": 150,
   "id": "760b6b47-7d52-4cfd-a60c-6b43e8b41a3b",
   "metadata": {},
   "outputs": [
    {
     "name": "stdout",
     "output_type": "stream",
     "text": [
      "<class 'pandas.core.frame.DataFrame'>\n",
      "RangeIndex: 7043 entries, 0 to 7042\n",
      "Data columns (total 5 columns):\n",
      " #   Column         Non-Null Count  Dtype \n",
      "---  ------         --------------  ----- \n",
      " 0   customerID     7043 non-null   object\n",
      " 1   gender         7043 non-null   object\n",
      " 2   SeniorCitizen  7043 non-null   int64 \n",
      " 3   Partner        7043 non-null   object\n",
      " 4   Dependents     7043 non-null   object\n",
      "dtypes: int64(1), object(4)\n",
      "memory usage: 275.2+ KB\n"
     ]
    }
   ],
   "source": [
    "personal_df.info()"
   ]
  },
  {
   "cell_type": "code",
   "execution_count": 151,
   "id": "075993a4-feda-497c-a613-93d8dddeeeef",
   "metadata": {},
   "outputs": [
    {
     "data": {
      "text/html": [
       "<div>\n",
       "<style scoped>\n",
       "    .dataframe tbody tr th:only-of-type {\n",
       "        vertical-align: middle;\n",
       "    }\n",
       "\n",
       "    .dataframe tbody tr th {\n",
       "        vertical-align: top;\n",
       "    }\n",
       "\n",
       "    .dataframe thead th {\n",
       "        text-align: right;\n",
       "    }\n",
       "</style>\n",
       "<table border=\"1\" class=\"dataframe\">\n",
       "  <thead>\n",
       "    <tr style=\"text-align: right;\">\n",
       "      <th></th>\n",
       "      <th>customerID</th>\n",
       "      <th>gender</th>\n",
       "      <th>SeniorCitizen</th>\n",
       "      <th>Partner</th>\n",
       "      <th>Dependents</th>\n",
       "    </tr>\n",
       "  </thead>\n",
       "  <tbody>\n",
       "    <tr>\n",
       "      <th>0</th>\n",
       "      <td>7590-VHVEG</td>\n",
       "      <td>Female</td>\n",
       "      <td>0</td>\n",
       "      <td>Yes</td>\n",
       "      <td>No</td>\n",
       "    </tr>\n",
       "    <tr>\n",
       "      <th>1</th>\n",
       "      <td>5575-GNVDE</td>\n",
       "      <td>Male</td>\n",
       "      <td>0</td>\n",
       "      <td>No</td>\n",
       "      <td>No</td>\n",
       "    </tr>\n",
       "    <tr>\n",
       "      <th>2</th>\n",
       "      <td>3668-QPYBK</td>\n",
       "      <td>Male</td>\n",
       "      <td>0</td>\n",
       "      <td>No</td>\n",
       "      <td>No</td>\n",
       "    </tr>\n",
       "    <tr>\n",
       "      <th>3</th>\n",
       "      <td>7795-CFOCW</td>\n",
       "      <td>Male</td>\n",
       "      <td>0</td>\n",
       "      <td>No</td>\n",
       "      <td>No</td>\n",
       "    </tr>\n",
       "    <tr>\n",
       "      <th>4</th>\n",
       "      <td>9237-HQITU</td>\n",
       "      <td>Female</td>\n",
       "      <td>0</td>\n",
       "      <td>No</td>\n",
       "      <td>No</td>\n",
       "    </tr>\n",
       "  </tbody>\n",
       "</table>\n",
       "</div>"
      ],
      "text/plain": [
       "   customerID  gender  SeniorCitizen Partner Dependents\n",
       "0  7590-VHVEG  Female              0     Yes         No\n",
       "1  5575-GNVDE    Male              0      No         No\n",
       "2  3668-QPYBK    Male              0      No         No\n",
       "3  7795-CFOCW    Male              0      No         No\n",
       "4  9237-HQITU  Female              0      No         No"
      ]
     },
     "execution_count": 151,
     "metadata": {},
     "output_type": "execute_result"
    }
   ],
   "source": [
    "personal_df.head()"
   ]
  },
  {
   "cell_type": "code",
   "execution_count": 152,
   "id": "e33389be-84be-4906-a826-77897d44b41d",
   "metadata": {},
   "outputs": [
    {
     "name": "stdout",
     "output_type": "stream",
     "text": [
      "<class 'pandas.core.frame.DataFrame'>\n",
      "RangeIndex: 6361 entries, 0 to 6360\n",
      "Data columns (total 2 columns):\n",
      " #   Column         Non-Null Count  Dtype \n",
      "---  ------         --------------  ----- \n",
      " 0   customerID     6361 non-null   object\n",
      " 1   MultipleLines  6361 non-null   object\n",
      "dtypes: object(2)\n",
      "memory usage: 99.5+ KB\n"
     ]
    }
   ],
   "source": [
    "phone_df.info()"
   ]
  },
  {
   "cell_type": "code",
   "execution_count": 153,
   "id": "521d7a53-89d1-46a3-ab20-4573e6d0ab5e",
   "metadata": {},
   "outputs": [
    {
     "name": "stdout",
     "output_type": "stream",
     "text": [
      "<class 'pandas.core.frame.DataFrame'>\n",
      "RangeIndex: 5517 entries, 0 to 5516\n",
      "Data columns (total 8 columns):\n",
      " #   Column            Non-Null Count  Dtype \n",
      "---  ------            --------------  ----- \n",
      " 0   customerID        5517 non-null   object\n",
      " 1   InternetService   5517 non-null   object\n",
      " 2   OnlineSecurity    5517 non-null   object\n",
      " 3   OnlineBackup      5517 non-null   object\n",
      " 4   DeviceProtection  5517 non-null   object\n",
      " 5   TechSupport       5517 non-null   object\n",
      " 6   StreamingTV       5517 non-null   object\n",
      " 7   StreamingMovies   5517 non-null   object\n",
      "dtypes: object(8)\n",
      "memory usage: 344.9+ KB\n"
     ]
    }
   ],
   "source": [
    "internet_df.info()"
   ]
  },
  {
   "cell_type": "code",
   "execution_count": 154,
   "id": "e5844d5c-6758-4108-8d70-4f0f1ff28f91",
   "metadata": {},
   "outputs": [
    {
     "name": "stdout",
     "output_type": "stream",
     "text": [
      "<class 'pandas.core.frame.DataFrame'>\n",
      "RangeIndex: 7043 entries, 0 to 7042\n",
      "Data columns (total 8 columns):\n",
      " #   Column            Non-Null Count  Dtype  \n",
      "---  ------            --------------  -----  \n",
      " 0   customerID        7043 non-null   object \n",
      " 1   BeginDate         7043 non-null   object \n",
      " 2   EndDate           7043 non-null   object \n",
      " 3   Type              7043 non-null   object \n",
      " 4   PaperlessBilling  7043 non-null   object \n",
      " 5   PaymentMethod     7043 non-null   object \n",
      " 6   MonthlyCharges    7043 non-null   float64\n",
      " 7   TotalCharges      7043 non-null   object \n",
      "dtypes: float64(1), object(7)\n",
      "memory usage: 440.3+ KB\n"
     ]
    }
   ],
   "source": [
    "contract_df.info()"
   ]
  },
  {
   "cell_type": "markdown",
   "id": "b1de919c-b496-4037-8ebe-f96f48055d15",
   "metadata": {},
   "source": [
    "# Data Processing"
   ]
  },
  {
   "cell_type": "markdown",
   "id": "1693c4e7-190e-44cf-9ff2-ccf5bc8736c9",
   "metadata": {},
   "source": [
    "## Merge Dataframes\n",
    "There are four dataframes with information. We will merge these four dataframes into one dataframe to create a dataframe with features we can use to train a model to predict churn. Each dataframe has a customerID column. The personal_df has 7043 rows. The contract_df has 7043 rows.\n",
    "We will merge these two dataframes and see how many customer IDs we will get if we merge the dataframes on customerID."
   ]
  },
  {
   "cell_type": "code",
   "execution_count": 155,
   "id": "8e1c3849-1e66-4165-b738-50694f634f79",
   "metadata": {},
   "outputs": [
    {
     "name": "stdout",
     "output_type": "stream",
     "text": [
      "<class 'pandas.core.frame.DataFrame'>\n",
      "Int64Index: 7043 entries, 0 to 7042\n",
      "Data columns (total 12 columns):\n",
      " #   Column            Non-Null Count  Dtype  \n",
      "---  ------            --------------  -----  \n",
      " 0   customerID        7043 non-null   object \n",
      " 1   gender            7043 non-null   object \n",
      " 2   SeniorCitizen     7043 non-null   int64  \n",
      " 3   Partner           7043 non-null   object \n",
      " 4   Dependents        7043 non-null   object \n",
      " 5   BeginDate         7043 non-null   object \n",
      " 6   EndDate           7043 non-null   object \n",
      " 7   Type              7043 non-null   object \n",
      " 8   PaperlessBilling  7043 non-null   object \n",
      " 9   PaymentMethod     7043 non-null   object \n",
      " 10  MonthlyCharges    7043 non-null   float64\n",
      " 11  TotalCharges      7043 non-null   object \n",
      "dtypes: float64(1), int64(1), object(10)\n",
      "memory usage: 715.3+ KB\n"
     ]
    }
   ],
   "source": [
    "# Merging personal_df and contract_df to create df\n",
    "\n",
    "df = pd.merge(personal_df, contract_df, on='customerID')\n",
    "df.info()"
   ]
  },
  {
   "cell_type": "markdown",
   "id": "71e252be-c3a0-4fdf-9060-02a9259b7b82",
   "metadata": {},
   "source": [
    "Now we will merge the phone_df and internet_df with the main df, one at a time. We will use indicator=True to create a column that indicates where each row in the dataframe originated."
   ]
  },
  {
   "cell_type": "code",
   "execution_count": 156,
   "id": "6ff5fa7a-4135-4276-a28c-317eefab044c",
   "metadata": {},
   "outputs": [
    {
     "name": "stdout",
     "output_type": "stream",
     "text": [
      "<class 'pandas.core.frame.DataFrame'>\n",
      "Int64Index: 7043 entries, 0 to 7042\n",
      "Data columns (total 13 columns):\n",
      " #   Column            Non-Null Count  Dtype  \n",
      "---  ------            --------------  -----  \n",
      " 0   customerID        7043 non-null   object \n",
      " 1   gender            7043 non-null   object \n",
      " 2   SeniorCitizen     7043 non-null   int64  \n",
      " 3   Partner           7043 non-null   object \n",
      " 4   Dependents        7043 non-null   object \n",
      " 5   BeginDate         7043 non-null   object \n",
      " 6   EndDate           7043 non-null   object \n",
      " 7   Type              7043 non-null   object \n",
      " 8   PaperlessBilling  7043 non-null   object \n",
      " 9   PaymentMethod     7043 non-null   object \n",
      " 10  MonthlyCharges    7043 non-null   float64\n",
      " 11  TotalCharges      7043 non-null   object \n",
      " 12  MultipleLines     6361 non-null   object \n",
      "dtypes: float64(1), int64(1), object(11)\n",
      "memory usage: 770.3+ KB\n"
     ]
    }
   ],
   "source": [
    "# Merging df with phone_df\n",
    "\n",
    "df = pd.merge(df, phone_df,  how=\"left\", on='customerID', indicator=False)\n",
    "df.info()"
   ]
  },
  {
   "cell_type": "code",
   "execution_count": 157,
   "id": "60d2047c-ac42-4822-8db6-a7f8540fc9f1",
   "metadata": {},
   "outputs": [
    {
     "name": "stdout",
     "output_type": "stream",
     "text": [
      "<class 'pandas.core.frame.DataFrame'>\n",
      "Int64Index: 7043 entries, 0 to 7042\n",
      "Data columns (total 20 columns):\n",
      " #   Column            Non-Null Count  Dtype  \n",
      "---  ------            --------------  -----  \n",
      " 0   customerID        7043 non-null   object \n",
      " 1   gender            7043 non-null   object \n",
      " 2   SeniorCitizen     7043 non-null   int64  \n",
      " 3   Partner           7043 non-null   object \n",
      " 4   Dependents        7043 non-null   object \n",
      " 5   BeginDate         7043 non-null   object \n",
      " 6   EndDate           7043 non-null   object \n",
      " 7   Type              7043 non-null   object \n",
      " 8   PaperlessBilling  7043 non-null   object \n",
      " 9   PaymentMethod     7043 non-null   object \n",
      " 10  MonthlyCharges    7043 non-null   float64\n",
      " 11  TotalCharges      7043 non-null   object \n",
      " 12  MultipleLines     6361 non-null   object \n",
      " 13  InternetService   5517 non-null   object \n",
      " 14  OnlineSecurity    5517 non-null   object \n",
      " 15  OnlineBackup      5517 non-null   object \n",
      " 16  DeviceProtection  5517 non-null   object \n",
      " 17  TechSupport       5517 non-null   object \n",
      " 18  StreamingTV       5517 non-null   object \n",
      " 19  StreamingMovies   5517 non-null   object \n",
      "dtypes: float64(1), int64(1), object(18)\n",
      "memory usage: 1.1+ MB\n"
     ]
    }
   ],
   "source": [
    "# Merging df with internet_df\n",
    "\n",
    "df = pd.merge(df, internet_df,  how=\"left\", on='customerID', indicator=False)\n",
    "df.info()"
   ]
  },
  {
   "cell_type": "code",
   "execution_count": 158,
   "id": "ca99ea8a-b591-496c-84a0-90b5295c0ab2",
   "metadata": {},
   "outputs": [
    {
     "data": {
      "text/html": [
       "<div>\n",
       "<style scoped>\n",
       "    .dataframe tbody tr th:only-of-type {\n",
       "        vertical-align: middle;\n",
       "    }\n",
       "\n",
       "    .dataframe tbody tr th {\n",
       "        vertical-align: top;\n",
       "    }\n",
       "\n",
       "    .dataframe thead th {\n",
       "        text-align: right;\n",
       "    }\n",
       "</style>\n",
       "<table border=\"1\" class=\"dataframe\">\n",
       "  <thead>\n",
       "    <tr style=\"text-align: right;\">\n",
       "      <th></th>\n",
       "      <th>customerID</th>\n",
       "      <th>gender</th>\n",
       "      <th>SeniorCitizen</th>\n",
       "      <th>Partner</th>\n",
       "      <th>Dependents</th>\n",
       "      <th>BeginDate</th>\n",
       "      <th>EndDate</th>\n",
       "      <th>Type</th>\n",
       "      <th>PaperlessBilling</th>\n",
       "      <th>PaymentMethod</th>\n",
       "      <th>MonthlyCharges</th>\n",
       "      <th>TotalCharges</th>\n",
       "      <th>MultipleLines</th>\n",
       "      <th>InternetService</th>\n",
       "      <th>OnlineSecurity</th>\n",
       "      <th>OnlineBackup</th>\n",
       "      <th>DeviceProtection</th>\n",
       "      <th>TechSupport</th>\n",
       "      <th>StreamingTV</th>\n",
       "      <th>StreamingMovies</th>\n",
       "    </tr>\n",
       "  </thead>\n",
       "  <tbody>\n",
       "    <tr>\n",
       "      <th>0</th>\n",
       "      <td>7590-VHVEG</td>\n",
       "      <td>Female</td>\n",
       "      <td>0</td>\n",
       "      <td>Yes</td>\n",
       "      <td>No</td>\n",
       "      <td>2020-01-01</td>\n",
       "      <td>No</td>\n",
       "      <td>Month-to-month</td>\n",
       "      <td>Yes</td>\n",
       "      <td>Electronic check</td>\n",
       "      <td>29.85</td>\n",
       "      <td>29.85</td>\n",
       "      <td>NaN</td>\n",
       "      <td>DSL</td>\n",
       "      <td>No</td>\n",
       "      <td>Yes</td>\n",
       "      <td>No</td>\n",
       "      <td>No</td>\n",
       "      <td>No</td>\n",
       "      <td>No</td>\n",
       "    </tr>\n",
       "    <tr>\n",
       "      <th>1</th>\n",
       "      <td>5575-GNVDE</td>\n",
       "      <td>Male</td>\n",
       "      <td>0</td>\n",
       "      <td>No</td>\n",
       "      <td>No</td>\n",
       "      <td>2017-04-01</td>\n",
       "      <td>No</td>\n",
       "      <td>One year</td>\n",
       "      <td>No</td>\n",
       "      <td>Mailed check</td>\n",
       "      <td>56.95</td>\n",
       "      <td>1889.5</td>\n",
       "      <td>No</td>\n",
       "      <td>DSL</td>\n",
       "      <td>Yes</td>\n",
       "      <td>No</td>\n",
       "      <td>Yes</td>\n",
       "      <td>No</td>\n",
       "      <td>No</td>\n",
       "      <td>No</td>\n",
       "    </tr>\n",
       "  </tbody>\n",
       "</table>\n",
       "</div>"
      ],
      "text/plain": [
       "   customerID  gender  SeniorCitizen Partner Dependents   BeginDate EndDate  \\\n",
       "0  7590-VHVEG  Female              0     Yes         No  2020-01-01      No   \n",
       "1  5575-GNVDE    Male              0      No         No  2017-04-01      No   \n",
       "\n",
       "             Type PaperlessBilling     PaymentMethod  MonthlyCharges  \\\n",
       "0  Month-to-month              Yes  Electronic check           29.85   \n",
       "1        One year               No      Mailed check           56.95   \n",
       "\n",
       "  TotalCharges MultipleLines InternetService OnlineSecurity OnlineBackup  \\\n",
       "0        29.85           NaN             DSL             No          Yes   \n",
       "1       1889.5            No             DSL            Yes           No   \n",
       "\n",
       "  DeviceProtection TechSupport StreamingTV StreamingMovies  \n",
       "0               No          No          No              No  \n",
       "1              Yes          No          No              No  "
      ]
     },
     "execution_count": 158,
     "metadata": {},
     "output_type": "execute_result"
    }
   ],
   "source": [
    "# Reviewing df after merge\n",
    "df.head(2)"
   ]
  },
  {
   "cell_type": "markdown",
   "id": "1f6233d6-c13d-42cd-970b-a55c555b9371",
   "metadata": {},
   "source": [
    "We created a dataframe with all of the information on the customers with phone services and the customers with internet services, according to their customerID. Now we will process the data."
   ]
  },
  {
   "cell_type": "markdown",
   "id": "b8eb0926-d320-4603-b27e-d89f2cde316e",
   "metadata": {
    "tags": []
   },
   "source": [
    "## Convert Columns to Lowercase"
   ]
  },
  {
   "cell_type": "markdown",
   "id": "8ab9bd3f-4455-41ca-a240-799f73d141e9",
   "metadata": {},
   "source": [
    "We will convert all column headers to lowercase format."
   ]
  },
  {
   "cell_type": "code",
   "execution_count": 159,
   "id": "d6d98637-a889-4f59-801f-75be81edd6a5",
   "metadata": {},
   "outputs": [
    {
     "name": "stdout",
     "output_type": "stream",
     "text": [
      "<class 'pandas.core.frame.DataFrame'>\n",
      "Int64Index: 7043 entries, 0 to 7042\n",
      "Data columns (total 20 columns):\n",
      " #   Column            Non-Null Count  Dtype  \n",
      "---  ------            --------------  -----  \n",
      " 0   customerid        7043 non-null   object \n",
      " 1   gender            7043 non-null   object \n",
      " 2   seniorcitizen     7043 non-null   int64  \n",
      " 3   partner           7043 non-null   object \n",
      " 4   dependents        7043 non-null   object \n",
      " 5   begindate         7043 non-null   object \n",
      " 6   enddate           7043 non-null   object \n",
      " 7   type              7043 non-null   object \n",
      " 8   paperlessbilling  7043 non-null   object \n",
      " 9   paymentmethod     7043 non-null   object \n",
      " 10  monthlycharges    7043 non-null   float64\n",
      " 11  totalcharges      7043 non-null   object \n",
      " 12  multiplelines     6361 non-null   object \n",
      " 13  internetservice   5517 non-null   object \n",
      " 14  onlinesecurity    5517 non-null   object \n",
      " 15  onlinebackup      5517 non-null   object \n",
      " 16  deviceprotection  5517 non-null   object \n",
      " 17  techsupport       5517 non-null   object \n",
      " 18  streamingtv       5517 non-null   object \n",
      " 19  streamingmovies   5517 non-null   object \n",
      "dtypes: float64(1), int64(1), object(18)\n",
      "memory usage: 1.1+ MB\n"
     ]
    }
   ],
   "source": [
    "# Convert columns to lowercase\n",
    "\n",
    "df.columns= df.columns.str.lower()\n",
    "df.info()"
   ]
  },
  {
   "cell_type": "markdown",
   "id": "ea0bb4e2-3a78-4562-ae2f-9b57da5efae6",
   "metadata": {},
   "source": [
    "## Check for duplicates"
   ]
  },
  {
   "cell_type": "code",
   "execution_count": 160,
   "id": "477fc7bc-4773-435f-af8c-99140c2ac700",
   "metadata": {},
   "outputs": [
    {
     "data": {
      "text/plain": [
       "False    7043\n",
       "dtype: int64"
      ]
     },
     "execution_count": 160,
     "metadata": {},
     "output_type": "execute_result"
    }
   ],
   "source": [
    "# Checking df for duplicate rows\n",
    "\n",
    "df.duplicated().value_counts()"
   ]
  },
  {
   "cell_type": "markdown",
   "id": "41d3785a-1e42-4b5f-b4ec-be57c8dfa565",
   "metadata": {
    "tags": []
   },
   "source": [
    "## Missing Values"
   ]
  },
  {
   "cell_type": "code",
   "execution_count": 161,
   "id": "24b6b913-27e6-402c-a8a1-ffec09f391d4",
   "metadata": {},
   "outputs": [
    {
     "data": {
      "text/plain": [
       "customerid             0\n",
       "gender                 0\n",
       "seniorcitizen          0\n",
       "partner                0\n",
       "dependents             0\n",
       "begindate              0\n",
       "enddate                0\n",
       "type                   0\n",
       "paperlessbilling       0\n",
       "paymentmethod          0\n",
       "monthlycharges         0\n",
       "totalcharges           0\n",
       "multiplelines        682\n",
       "internetservice     1526\n",
       "onlinesecurity      1526\n",
       "onlinebackup        1526\n",
       "deviceprotection    1526\n",
       "techsupport         1526\n",
       "streamingtv         1526\n",
       "streamingmovies     1526\n",
       "dtype: int64"
      ]
     },
     "execution_count": 161,
     "metadata": {},
     "output_type": "execute_result"
    }
   ],
   "source": [
    "# Checking for missing values\n",
    "\n",
    "df.isnull().sum()"
   ]
  },
  {
   "cell_type": "markdown",
   "id": "efb627d3-053d-477a-b280-4104d06da6b7",
   "metadata": {},
   "source": [
    "There are missing values after merging the phone and internet dataframes with the personal and contract dataframes. We will check the values in the columns with missing values to determine how to fill these missing values."
   ]
  },
  {
   "cell_type": "code",
   "execution_count": 162,
   "id": "2143466a-18c9-4991-9b54-fde2ef85b455",
   "metadata": {},
   "outputs": [
    {
     "data": {
      "text/plain": [
       "No     3390\n",
       "Yes    2971\n",
       "Name: multiplelines, dtype: int64"
      ]
     },
     "execution_count": 162,
     "metadata": {},
     "output_type": "execute_result"
    }
   ],
   "source": [
    "# Checking the values of df['MultipleLines']\n",
    "\n",
    "df['multiplelines'].value_counts()"
   ]
  },
  {
   "cell_type": "markdown",
   "id": "1ab75038-9f16-46d7-a409-ca0662509056",
   "metadata": {},
   "source": [
    "There are 682 customers that lack information about their phone service. The filled in values are either yes or no. We might assume that if there is a missing value it is because the customer lacked phone service, and fill missing values with \"no\". The missing value occurred because we merged the phone data and internet data on a list of customers. We will fill in the missing values with \"no\"."
   ]
  },
  {
   "cell_type": "markdown",
   "id": "3092b166-784f-4bde-9177-8ae3cf8218aa",
   "metadata": {},
   "source": [
    "Likewise, there are 1526 customers that lack information about their internet service. Let's check the values in these columns."
   ]
  },
  {
   "cell_type": "code",
   "execution_count": 163,
   "id": "aa1314a0-4800-4338-9dcb-9fae185a8733",
   "metadata": {},
   "outputs": [
    {
     "data": {
      "text/plain": [
       "Fiber optic    3096\n",
       "DSL            2421\n",
       "Name: internetservice, dtype: int64"
      ]
     },
     "execution_count": 163,
     "metadata": {},
     "output_type": "execute_result"
    }
   ],
   "source": [
    "# Checking the values of df['internetservice']\n",
    "\n",
    "df['internetservice'].value_counts()"
   ]
  },
  {
   "cell_type": "markdown",
   "id": "44e8d0b8-0365-4c7e-9a9f-fd46ca338a96",
   "metadata": {},
   "source": [
    "Similarly, there are 1526 customers missing information about their internet services. The filled in values are either yes or no. We might assume that if there is a missing value it is because the customer lacked any internet services, and fill missing values with \"no\". We will fill in the missing values with \"no\"."
   ]
  },
  {
   "cell_type": "code",
   "execution_count": 164,
   "id": "bf905b7e-fe3b-4812-b5b3-3bc149eafbac",
   "metadata": {},
   "outputs": [],
   "source": [
    "# Converting rows with NaN values to \"No\"\n",
    "\n",
    "df['multiplelines'] = df['multiplelines'].fillna(\"No\")\n",
    "df['internetservice'] = df['internetservice'] .fillna(\"None\")\n",
    "df['onlinesecurity'] = df['onlinesecurity'].fillna(\"No\")\n",
    "df['onlinebackup'] = df['onlinebackup'].fillna(\"No\")\n",
    "df['deviceprotection'] = df['deviceprotection'].fillna(\"No\")\n",
    "df['techsupport'] = df['techsupport'].fillna(\"No\")\n",
    "df['streamingtv'] = df['streamingtv'].fillna(\"No\")\n",
    "df['streamingmovies'] = df['streamingmovies'].fillna(\"No\")"
   ]
  },
  {
   "cell_type": "markdown",
   "id": "206836bf-ed5e-4030-875b-3e93e05c579e",
   "metadata": {
    "tags": []
   },
   "source": [
    "## Converting Data Types\n",
    "We will analyze each column to see if and how to convert the data type."
   ]
  },
  {
   "cell_type": "code",
   "execution_count": 165,
   "id": "2c748b3e-c8c2-411a-a6ed-d03195609c84",
   "metadata": {},
   "outputs": [
    {
     "name": "stdout",
     "output_type": "stream",
     "text": [
      "<class 'pandas.core.frame.DataFrame'>\n",
      "Int64Index: 7043 entries, 0 to 7042\n",
      "Data columns (total 20 columns):\n",
      " #   Column            Non-Null Count  Dtype  \n",
      "---  ------            --------------  -----  \n",
      " 0   customerid        7043 non-null   object \n",
      " 1   gender            7043 non-null   object \n",
      " 2   seniorcitizen     7043 non-null   int64  \n",
      " 3   partner           7043 non-null   object \n",
      " 4   dependents        7043 non-null   object \n",
      " 5   begindate         7043 non-null   object \n",
      " 6   enddate           7043 non-null   object \n",
      " 7   type              7043 non-null   object \n",
      " 8   paperlessbilling  7043 non-null   object \n",
      " 9   paymentmethod     7043 non-null   object \n",
      " 10  monthlycharges    7043 non-null   float64\n",
      " 11  totalcharges      7043 non-null   object \n",
      " 12  multiplelines     7043 non-null   object \n",
      " 13  internetservice   7043 non-null   object \n",
      " 14  onlinesecurity    7043 non-null   object \n",
      " 15  onlinebackup      7043 non-null   object \n",
      " 16  deviceprotection  7043 non-null   object \n",
      " 17  techsupport       7043 non-null   object \n",
      " 18  streamingtv       7043 non-null   object \n",
      " 19  streamingmovies   7043 non-null   object \n",
      "dtypes: float64(1), int64(1), object(18)\n",
      "memory usage: 1.1+ MB\n"
     ]
    }
   ],
   "source": [
    "df.info()"
   ]
  },
  {
   "cell_type": "markdown",
   "id": "b3b23329-cd63-478c-aee3-ca30f102e522",
   "metadata": {},
   "source": [
    "### Converting to Datetime Types"
   ]
  },
  {
   "cell_type": "code",
   "execution_count": 166,
   "id": "a4227182-39f9-4e79-a576-f736e1d47225",
   "metadata": {},
   "outputs": [
    {
     "data": {
      "text/plain": [
       "4513    2013-10-01\n",
       "4610    2013-10-01\n",
       "3439    2013-10-01\n",
       "975     2013-11-01\n",
       "3040    2013-11-01\n",
       "           ...    \n",
       "3331    2020-02-01\n",
       "6670    2020-02-01\n",
       "936     2020-02-01\n",
       "3826    2020-02-01\n",
       "6754    2020-02-01\n",
       "Name: begindate, Length: 7043, dtype: object"
      ]
     },
     "execution_count": 166,
     "metadata": {},
     "output_type": "execute_result"
    }
   ],
   "source": [
    "# Checking dates in the df['begindate'] before converting to datetime type\n",
    "\n",
    "df['begindate'].sort_values()"
   ]
  },
  {
   "cell_type": "markdown",
   "id": "67ac70e0-1b26-48b0-875b-7a114a864889",
   "metadata": {},
   "source": [
    "The dates range from October 2013 to February 2020. "
   ]
  },
  {
   "cell_type": "code",
   "execution_count": 167,
   "id": "75676cef-7e99-4270-9fce-aa8e20f1161f",
   "metadata": {},
   "outputs": [
    {
     "name": "stdout",
     "output_type": "stream",
     "text": [
      "<class 'pandas.core.series.Series'>\n",
      "Int64Index: 7043 entries, 0 to 7042\n",
      "Series name: begindate\n",
      "Non-Null Count  Dtype         \n",
      "--------------  -----         \n",
      "7043 non-null   datetime64[ns]\n",
      "dtypes: datetime64[ns](1)\n",
      "memory usage: 110.0 KB\n"
     ]
    }
   ],
   "source": [
    "# Converting 'begindate' to datetime type\n",
    "\n",
    "df['begindate'] = pd.to_datetime(df['begindate'], format=\"%Y-%m-%d\")\n",
    "df['begindate'].info()"
   ]
  },
  {
   "cell_type": "code",
   "execution_count": 168,
   "id": "4af18dc0-f8bd-496d-a2b8-c394ccf707d0",
   "metadata": {},
   "outputs": [
    {
     "data": {
      "text/plain": [
       "No                     5174\n",
       "2019-11-01 00:00:00     485\n",
       "2019-12-01 00:00:00     466\n",
       "2020-01-01 00:00:00     460\n",
       "2019-10-01 00:00:00     458\n",
       "Name: enddate, dtype: int64"
      ]
     },
     "execution_count": 168,
     "metadata": {},
     "output_type": "execute_result"
    }
   ],
   "source": [
    "# Checking dates in the df['enddate']\n",
    "\n",
    "df['enddate'].value_counts()"
   ]
  },
  {
   "cell_type": "markdown",
   "id": "f5a419f2-7a45-4b33-bb5d-2061d55bea3c",
   "metadata": {},
   "source": [
    "## Feature Engineering 'Churn' Column"
   ]
  },
  {
   "cell_type": "markdown",
   "id": "d796af1c-8e7b-4fa0-b443-4189f8686b6e",
   "metadata": {},
   "source": [
    "The 'No' in 'enddate' prevents the column from being converted to a datetime type.\n",
    "\n",
    "We will use 'enddate' to create a new column called churn with 0= no churn, and 1=churn. The string 'no' in the 'enddate' column means the customer is still active and there is no churn for that customer. For the purpose of model training it does not matter when the customer ended the service. As long as there is any date for 'enddate' the result is the same, the client has cancelled the service. So we will create an additional column 'churn' using the values in 'enddate' with 0 for a 'no' response and 1 if there is any enddate, so that 1 indicates customer churn."
   ]
  },
  {
   "cell_type": "code",
   "execution_count": 169,
   "id": "7cad7926-b7f8-4e2b-b7e8-d5741434f9ee",
   "metadata": {},
   "outputs": [],
   "source": [
    "# Creating a new column 'churn', replacing all strings that do not equal \"0\" (meaning 'no') with \"1\" and that equal \"0\" with \"0\"\n",
    "\n",
    "df['churn'] = np.where(df['enddate'] != \"No\", '1', '0')"
   ]
  },
  {
   "cell_type": "markdown",
   "id": "ca0e1f66-09ea-4be2-b85c-8e0b8c0802d4",
   "metadata": {},
   "source": [
    "In the 'cancelled', customers who cancelled = 1, and customers who remain = 0."
   ]
  },
  {
   "cell_type": "code",
   "execution_count": 170,
   "id": "1e87aa7a-3615-416b-9ffc-25fe9df0a4d6",
   "metadata": {},
   "outputs": [
    {
     "data": {
      "text/plain": [
       "0    5174\n",
       "1    1869\n",
       "Name: churn, dtype: int64"
      ]
     },
     "execution_count": 170,
     "metadata": {},
     "output_type": "execute_result"
    }
   ],
   "source": [
    "df['churn'].value_counts()"
   ]
  },
  {
   "cell_type": "code",
   "execution_count": 171,
   "id": "bb5860e1-4c8c-4e30-81f4-d7b4e5df879f",
   "metadata": {},
   "outputs": [
    {
     "data": {
      "text/plain": [
       "No                     5174\n",
       "2019-11-01 00:00:00     485\n",
       "2019-12-01 00:00:00     466\n",
       "2020-01-01 00:00:00     460\n",
       "2019-10-01 00:00:00     458\n",
       "Name: enddate, dtype: int64"
      ]
     },
     "execution_count": 171,
     "metadata": {},
     "output_type": "execute_result"
    }
   ],
   "source": [
    "df['enddate'].value_counts()"
   ]
  },
  {
   "cell_type": "markdown",
   "id": "4a75084e-7dd0-4114-9ba8-c880fa8e655d",
   "metadata": {},
   "source": [
    "We will now extract the datetime data from 'enddate' to create a new column 'endterm' to calculate customer longevity. We will use the maximum date in the data for customers who did not cancel, so that we can calculate their longevity."
   ]
  },
  {
   "cell_type": "markdown",
   "id": "178ec6c7-e0c0-4616-bd54-c7e3672dae77",
   "metadata": {},
   "source": [
    "## Feature Engineering 'Endterm' Column as Datetime Type\n",
    "\n",
    "We will create an artificial enddate for active customers using the last date in the data so that we can use these values to determine a customer's longevity whether they cancelled or not. This information will be stored in a new column 'endterm'."
   ]
  },
  {
   "cell_type": "code",
   "execution_count": 172,
   "id": "52a96d6e-b800-4dd7-ba2f-52585e4450ef",
   "metadata": {},
   "outputs": [
    {
     "data": {
      "text/plain": [
       "No                     5174\n",
       "2019-11-01 00:00:00     485\n",
       "2019-12-01 00:00:00     466\n",
       "2020-01-01 00:00:00     460\n",
       "2019-10-01 00:00:00     458\n",
       "Name: endterm, dtype: int64"
      ]
     },
     "execution_count": 172,
     "metadata": {},
     "output_type": "execute_result"
    }
   ],
   "source": [
    "df['endterm'] = df['enddate']\n",
    "df['endterm'].value_counts()"
   ]
  },
  {
   "cell_type": "code",
   "execution_count": 173,
   "id": "0dcde681-c5b8-46b6-8459-ddd1400abe6e",
   "metadata": {},
   "outputs": [
    {
     "data": {
      "text/plain": [
       "2020-02-01             5174\n",
       "2019-11-01 00:00:00     485\n",
       "2019-12-01 00:00:00     466\n",
       "2020-01-01 00:00:00     460\n",
       "2019-10-01 00:00:00     458\n",
       "Name: endterm, dtype: int64"
      ]
     },
     "execution_count": 173,
     "metadata": {},
     "output_type": "execute_result"
    }
   ],
   "source": [
    "df['endterm'] = df['enddate']\n",
    "df['endterm'] = df['endterm'].replace(['No'], '2020-02-01')\n",
    "df['endterm'].value_counts()"
   ]
  },
  {
   "cell_type": "code",
   "execution_count": 174,
   "id": "d9e89a17-9e03-4856-a8c1-ef4047eac292",
   "metadata": {},
   "outputs": [
    {
     "name": "stdout",
     "output_type": "stream",
     "text": [
      "<class 'pandas.core.series.Series'>\n",
      "Int64Index: 7043 entries, 0 to 7042\n",
      "Series name: endterm\n",
      "Non-Null Count  Dtype         \n",
      "--------------  -----         \n",
      "7043 non-null   datetime64[ns]\n",
      "dtypes: datetime64[ns](1)\n",
      "memory usage: 110.0 KB\n"
     ]
    }
   ],
   "source": [
    "# Converting 'begindate' to datetime type\n",
    "\n",
    "df['endterm'] = pd.to_datetime(df['endterm'], format=\"%Y-%m-%d\")\n",
    "df['endterm'].info()"
   ]
  },
  {
   "cell_type": "markdown",
   "id": "45944b9f-134f-4e8d-a100-3d388847df16",
   "metadata": {},
   "source": [
    "### Feature Engineering 'Longevity' Column by Months\n",
    "\n",
    "We will create a new column 'longevity' calculating a customer's term in months using the datetime data."
   ]
  },
  {
   "cell_type": "code",
   "execution_count": 175,
   "id": "b9382a66-cd62-48c4-877c-a21c6e7bcd97",
   "metadata": {},
   "outputs": [],
   "source": [
    "df['longevity'] = ((df.endterm - df.begindate)/np.timedelta64(1, 'M'))"
   ]
  },
  {
   "cell_type": "code",
   "execution_count": 176,
   "id": "88379fce-a1e7-42b5-8147-0b3c266603a4",
   "metadata": {},
   "outputs": [],
   "source": [
    "df['longevity'] = df['longevity'].astype(int)"
   ]
  },
  {
   "cell_type": "code",
   "execution_count": 177,
   "id": "90096622-c97b-4bbf-bec2-daa966cc84c2",
   "metadata": {},
   "outputs": [
    {
     "data": {
      "text/plain": [
       "count    7043.000000\n",
       "mean       32.166832\n",
       "std        24.529822\n",
       "min         0.000000\n",
       "25%         8.000000\n",
       "50%        29.000000\n",
       "75%        55.000000\n",
       "max        71.000000\n",
       "Name: longevity, dtype: float64"
      ]
     },
     "execution_count": 177,
     "metadata": {},
     "output_type": "execute_result"
    }
   ],
   "source": [
    "df['longevity'].describe()"
   ]
  },
  {
   "cell_type": "code",
   "execution_count": 178,
   "id": "61331a24-8911-4764-ab8a-36039642f2df",
   "metadata": {},
   "outputs": [],
   "source": [
    "# Creating a function to plot distributions\n",
    " \n",
    "def hist_plot(data, column):\n",
    "        fig, ax = plt.subplots(1, 1)\n",
    "        ax.hist(data[column], bins=10)\n",
    "        ax.set_title(column)\n",
    "        ax.set_xlabel(column)\n",
    "        ax.set_ylabel('frequency')\n",
    "        plt.show()"
   ]
  },
  {
   "cell_type": "code",
   "execution_count": 179,
   "id": "4907e50d-9bce-407c-a2ab-726370113558",
   "metadata": {},
   "outputs": [
    {
     "data": {
      "image/png": "[encoded data removed]",
      "text/plain": [
       "<Figure size 540x252 with 1 Axes>"
      ]
     },
     "metadata": {
      "needs_background": "light"
     },
     "output_type": "display_data"
    }
   ],
   "source": [
    "# Plotting the distribution of 'type'\n",
    "hist_plot(df, 'longevity')"
   ]
  },
  {
   "cell_type": "markdown",
   "id": "7f55cc09-53aa-4b15-a606-9b2cda887056",
   "metadata": {},
   "source": [
    "Customer longevity ranges from 0-71 months, with the majority of customers divided between new and long-time customers. Around 1600 customers are new, averaging around 0-5 months. Around 1200 customers are long-time, averaging 65-70 months terms."
   ]
  },
  {
   "cell_type": "markdown",
   "id": "ddab5295-da1f-46c1-bbb3-5c8fb804e2b9",
   "metadata": {},
   "source": [
    "## Analyzing Columns in Dataframe\n",
    "\n",
    "There are different types of columns. Some columns contain values in object form that can be converted to integer, which will improve model training. We will investigate each column and convert values to 0 and 1 where possible. Some columns contain integer values but they need to be converted from an object type to integer type."
   ]
  },
  {
   "cell_type": "code",
   "execution_count": 180,
   "id": "ce9e0e29-e383-4d16-9e97-4e63c468cacc",
   "metadata": {},
   "outputs": [
    {
     "data": {
      "text/plain": [
       "customerid                  object\n",
       "gender                      object\n",
       "seniorcitizen                int64\n",
       "partner                     object\n",
       "dependents                  object\n",
       "begindate           datetime64[ns]\n",
       "enddate                     object\n",
       "type                        object\n",
       "paperlessbilling            object\n",
       "paymentmethod               object\n",
       "monthlycharges             float64\n",
       "totalcharges                object\n",
       "multiplelines               object\n",
       "internetservice             object\n",
       "onlinesecurity              object\n",
       "onlinebackup                object\n",
       "deviceprotection            object\n",
       "techsupport                 object\n",
       "streamingtv                 object\n",
       "streamingmovies             object\n",
       "churn                       object\n",
       "endterm             datetime64[ns]\n",
       "longevity                    int32\n",
       "dtype: object"
      ]
     },
     "execution_count": 180,
     "metadata": {},
     "output_type": "execute_result"
    }
   ],
   "source": [
    "# View data types for each column\n",
    "df.dtypes"
   ]
  },
  {
   "cell_type": "code",
   "execution_count": 181,
   "id": "abe7d361-2cc7-4bde-a21d-4be924889e87",
   "metadata": {},
   "outputs": [
    {
     "data": {
      "text/plain": [
       "Male      0.504756\n",
       "Female    0.495244\n",
       "Name: gender, dtype: float64"
      ]
     },
     "execution_count": 181,
     "metadata": {},
     "output_type": "execute_result"
    }
   ],
   "source": [
    "df['gender'].value_counts(normalize=True)"
   ]
  },
  {
   "cell_type": "markdown",
   "id": "2d05044a-d3c4-4bd0-889f-438e0953be1f",
   "metadata": {},
   "source": [
    "We will replace the gender labels with numerical values so we can calculate correlations."
   ]
  },
  {
   "cell_type": "code",
   "execution_count": 182,
   "id": "cc746cb6-08c2-4078-a2bd-8f1753adba9e",
   "metadata": {},
   "outputs": [],
   "source": [
    "# Replacing gender labels with numerical values\n",
    "df = df.replace({'Male':'0',\n",
    "            'Female':'1'})"
   ]
  },
  {
   "cell_type": "code",
   "execution_count": 183,
   "id": "3430b6b1-4326-4536-89c8-3e6adeb8392a",
   "metadata": {},
   "outputs": [
    {
     "data": {
      "text/plain": [
       "0    0.837853\n",
       "1    0.162147\n",
       "Name: seniorcitizen, dtype: float64"
      ]
     },
     "execution_count": 183,
     "metadata": {},
     "output_type": "execute_result"
    }
   ],
   "source": [
    "df['seniorcitizen'].value_counts(normalize=True)"
   ]
  },
  {
   "cell_type": "code",
   "execution_count": 184,
   "id": "7b7843e4-2b14-4194-a441-7197ae443827",
   "metadata": {},
   "outputs": [
    {
     "data": {
      "text/plain": [
       "No     0.516967\n",
       "Yes    0.483033\n",
       "Name: partner, dtype: float64"
      ]
     },
     "execution_count": 184,
     "metadata": {},
     "output_type": "execute_result"
    }
   ],
   "source": [
    "df['partner'].value_counts(normalize=True)"
   ]
  },
  {
   "cell_type": "code",
   "execution_count": 185,
   "id": "da7eba20-5f67-4d9a-898c-2e93c6b120cf",
   "metadata": {},
   "outputs": [
    {
     "data": {
      "text/plain": [
       "No     0.700412\n",
       "Yes    0.299588\n",
       "Name: dependents, dtype: float64"
      ]
     },
     "execution_count": 185,
     "metadata": {},
     "output_type": "execute_result"
    }
   ],
   "source": [
    "df['dependents'].value_counts(normalize=True)"
   ]
  },
  {
   "cell_type": "code",
   "execution_count": 186,
   "id": "02c8fdb1-8b6d-4cad-84f5-a14271824dac",
   "metadata": {},
   "outputs": [
    {
     "data": {
      "text/plain": [
       "Month-to-month    0.550192\n",
       "Two year          0.240664\n",
       "One year          0.209144\n",
       "Name: type, dtype: float64"
      ]
     },
     "execution_count": 186,
     "metadata": {},
     "output_type": "execute_result"
    }
   ],
   "source": [
    "df['type'].value_counts(normalize=True)"
   ]
  },
  {
   "cell_type": "code",
   "execution_count": 187,
   "id": "73bba874-87a4-44e2-8541-8cce30a4e783",
   "metadata": {},
   "outputs": [
    {
     "data": {
      "image/png": "[encoded data removed]",
      "text/plain": [
       "<Figure size 540x252 with 1 Axes>"
      ]
     },
     "metadata": {
      "needs_background": "light"
     },
     "output_type": "display_data"
    }
   ],
   "source": [
    "# Plotting the distribution of 'type'\n",
    "hist_plot(df, 'type')"
   ]
  },
  {
   "cell_type": "markdown",
   "id": "a9d99cdb-5deb-4eca-9d9a-e7e9f4b43c1a",
   "metadata": {},
   "source": [
    "There are three type of plans: one-year (21%), month-to-month (55%), and two-year (24%) plans. The month-to-month plan is the most popular."
   ]
  },
  {
   "cell_type": "code",
   "execution_count": 188,
   "id": "d91f39d8-d8e1-479a-9be7-0187c19679c3",
   "metadata": {},
   "outputs": [
    {
     "data": {
      "text/plain": [
       "Yes    0.592219\n",
       "No     0.407781\n",
       "Name: paperlessbilling, dtype: float64"
      ]
     },
     "execution_count": 188,
     "metadata": {},
     "output_type": "execute_result"
    }
   ],
   "source": [
    "df['paperlessbilling'].value_counts(normalize=True)"
   ]
  },
  {
   "cell_type": "code",
   "execution_count": 189,
   "id": "bfabf298-2168-4c7c-9937-389da75f8cb4",
   "metadata": {},
   "outputs": [
    {
     "data": {
      "text/plain": [
       "Electronic check             0.335794\n",
       "Mailed check                 0.228880\n",
       "Bank transfer (automatic)    0.219225\n",
       "Credit card (automatic)      0.216101\n",
       "Name: paymentmethod, dtype: float64"
      ]
     },
     "execution_count": 189,
     "metadata": {},
     "output_type": "execute_result"
    }
   ],
   "source": [
    "df['paymentmethod'].value_counts(normalize=True)"
   ]
  },
  {
   "cell_type": "code",
   "execution_count": 190,
   "id": "072c2fbd-6f37-4ca0-b700-62ef3753226f",
   "metadata": {},
   "outputs": [
    {
     "data": {
      "image/png": "[encoded data removed]",
      "text/plain": [
       "<Figure size 540x252 with 1 Axes>"
      ]
     },
     "metadata": {
      "needs_background": "light"
     },
     "output_type": "display_data"
    }
   ],
   "source": [
    "# Plotting the distribution of 'paymentmethod'\n",
    "hist_plot(df, 'paymentmethod')"
   ]
  },
  {
   "cell_type": "markdown",
   "id": "ab105e1b-9efa-4162-9714-893901e8dc98",
   "metadata": {},
   "source": [
    "Out of the four payment methods, electronic check is the most popular method."
   ]
  },
  {
   "cell_type": "code",
   "execution_count": 191,
   "id": "f1c41cef-a994-4eea-a6be-982490107bd0",
   "metadata": {},
   "outputs": [
    {
     "data": {
      "text/plain": [
       "count    7043.000000\n",
       "mean       64.761692\n",
       "std        30.090047\n",
       "min        18.250000\n",
       "25%        35.500000\n",
       "50%        70.350000\n",
       "75%        89.850000\n",
       "max       118.750000\n",
       "Name: monthlycharges, dtype: float64"
      ]
     },
     "execution_count": 191,
     "metadata": {},
     "output_type": "execute_result"
    }
   ],
   "source": [
    "df['monthlycharges'].describe()"
   ]
  },
  {
   "cell_type": "code",
   "execution_count": 192,
   "id": "1d5daab6-3d05-4ee5-a7f3-8e60a5327948",
   "metadata": {},
   "outputs": [
    {
     "data": {
      "image/png": "[encoded data removed]",
      "text/plain": [
       "<Figure size 540x252 with 1 Axes>"
      ]
     },
     "metadata": {
      "needs_background": "light"
     },
     "output_type": "display_data"
    }
   ],
   "source": [
    "# Plotting the distribution of 'monthlycharges'\n",
    "hist_plot(df, 'monthlycharges')"
   ]
  },
  {
   "cell_type": "markdown",
   "id": "e44881ab-a3f7-4c81-aced-cb3ced90f6c9",
   "metadata": {},
   "source": [
    "There is a range of monthly charges among customers. Monthly charges range from 18.25 to 118.75, with an average of 70.35. A high percentage of customers pay low charges every month, with the remaining customers evenly distributed from low to high monthly payments."
   ]
  },
  {
   "cell_type": "code",
   "execution_count": 193,
   "id": "a3e596d7-5df3-45d3-9b83-b620231c35b2",
   "metadata": {},
   "outputs": [
    {
     "data": {
      "text/plain": [
       "          11\n",
       "20.2      11\n",
       "19.75      9\n",
       "20.05      8\n",
       "19.9       8\n",
       "          ..\n",
       "6849.4     1\n",
       "692.35     1\n",
       "130.15     1\n",
       "3211.9     1\n",
       "6844.5     1\n",
       "Name: totalcharges, Length: 6531, dtype: int64"
      ]
     },
     "execution_count": 193,
     "metadata": {},
     "output_type": "execute_result"
    }
   ],
   "source": [
    "df['totalcharges'].value_counts()"
   ]
  },
  {
   "cell_type": "markdown",
   "id": "d3abc2c6-4c5b-4888-b9ec-93c38d2d5783",
   "metadata": {},
   "source": [
    "There are 11 charges missing in 'totalcharges'. We will fill these in by multiplying monthlycharges by the longevity, which is the number of months of a customer's term."
   ]
  },
  {
   "cell_type": "code",
   "execution_count": 194,
   "id": "d93c9f58-d543-4975-8db4-da59143087f0",
   "metadata": {},
   "outputs": [],
   "source": [
    "df['totalcharges']= df['monthlycharges'] * df['longevity']"
   ]
  },
  {
   "cell_type": "code",
   "execution_count": 195,
   "id": "8300d044-aea2-4c46-a629-cd88fea7ccae",
   "metadata": {},
   "outputs": [
    {
     "data": {
      "text/plain": [
       "count    7043.000000\n",
       "mean     2264.884261\n",
       "std      2256.976408\n",
       "min         0.000000\n",
       "25%       393.075000\n",
       "50%      1386.000000\n",
       "75%      3779.475000\n",
       "max      8431.250000\n",
       "Name: totalcharges, dtype: float64"
      ]
     },
     "execution_count": 195,
     "metadata": {},
     "output_type": "execute_result"
    }
   ],
   "source": [
    "df['totalcharges'].describe()"
   ]
  },
  {
   "cell_type": "code",
   "execution_count": 196,
   "id": "262fe868-81a5-4b62-a7bc-2c7c3ed13b2e",
   "metadata": {},
   "outputs": [
    {
     "data": {
      "image/png": "[encoded data removed]",
      "text/plain": [
       "<Figure size 540x252 with 1 Axes>"
      ]
     },
     "metadata": {
      "needs_background": "light"
     },
     "output_type": "display_data"
    }
   ],
   "source": [
    "# Plotting the distribution of 'totalcharges'\n",
    "hist_plot(df, 'totalcharges')"
   ]
  },
  {
   "cell_type": "markdown",
   "id": "c0073b55-45e0-42ff-8594-0d4a5e4f7fa8",
   "metadata": {},
   "source": [
    "Most customer have low total charges, with a min of 0, a max of 8431, and an average of 1386."
   ]
  },
  {
   "cell_type": "code",
   "execution_count": 197,
   "id": "5711679d-6c82-437a-a5c2-f9f0c583bdb7",
   "metadata": {},
   "outputs": [
    {
     "data": {
      "text/plain": [
       "No     4072\n",
       "Yes    2971\n",
       "Name: multiplelines, dtype: int64"
      ]
     },
     "execution_count": 197,
     "metadata": {},
     "output_type": "execute_result"
    }
   ],
   "source": [
    "df['multiplelines'].value_counts()"
   ]
  },
  {
   "cell_type": "code",
   "execution_count": 198,
   "id": "8af0c03d-1335-4848-bbc5-79df5090f4be",
   "metadata": {},
   "outputs": [
    {
     "data": {
      "text/plain": [
       "Fiber optic    3096\n",
       "DSL            2421\n",
       "None           1526\n",
       "Name: internetservice, dtype: int64"
      ]
     },
     "execution_count": 198,
     "metadata": {},
     "output_type": "execute_result"
    }
   ],
   "source": [
    "df['internetservice'].value_counts()"
   ]
  },
  {
   "cell_type": "code",
   "execution_count": 199,
   "id": "4b0ee873-8aa8-42e3-9d69-a9b5c532a968",
   "metadata": {},
   "outputs": [
    {
     "data": {
      "text/plain": [
       "No     5024\n",
       "Yes    2019\n",
       "Name: onlinesecurity, dtype: int64"
      ]
     },
     "execution_count": 199,
     "metadata": {},
     "output_type": "execute_result"
    }
   ],
   "source": [
    "df['onlinesecurity'].value_counts()"
   ]
  },
  {
   "cell_type": "code",
   "execution_count": 200,
   "id": "e55d8e1f-fb9d-485d-981a-0f35df0a62f0",
   "metadata": {},
   "outputs": [
    {
     "data": {
      "text/plain": [
       "No     4614\n",
       "Yes    2429\n",
       "Name: onlinebackup, dtype: int64"
      ]
     },
     "execution_count": 200,
     "metadata": {},
     "output_type": "execute_result"
    }
   ],
   "source": [
    "df['onlinebackup'].value_counts()"
   ]
  },
  {
   "cell_type": "code",
   "execution_count": 201,
   "id": "2918aa1b-2bd2-44ab-9494-a762e2dd354b",
   "metadata": {},
   "outputs": [
    {
     "data": {
      "text/plain": [
       "No     4621\n",
       "Yes    2422\n",
       "Name: deviceprotection, dtype: int64"
      ]
     },
     "execution_count": 201,
     "metadata": {},
     "output_type": "execute_result"
    }
   ],
   "source": [
    "df['deviceprotection'].value_counts()"
   ]
  },
  {
   "cell_type": "code",
   "execution_count": 202,
   "id": "b358e81d-27e4-4641-abc1-5c43973f4e40",
   "metadata": {},
   "outputs": [
    {
     "data": {
      "text/plain": [
       "No     4999\n",
       "Yes    2044\n",
       "Name: techsupport, dtype: int64"
      ]
     },
     "execution_count": 202,
     "metadata": {},
     "output_type": "execute_result"
    }
   ],
   "source": [
    "df['techsupport'].value_counts()"
   ]
  },
  {
   "cell_type": "code",
   "execution_count": 203,
   "id": "41f78d02-9a2e-425e-9060-576730712ee6",
   "metadata": {},
   "outputs": [
    {
     "data": {
      "text/plain": [
       "No     4336\n",
       "Yes    2707\n",
       "Name: streamingtv, dtype: int64"
      ]
     },
     "execution_count": 203,
     "metadata": {},
     "output_type": "execute_result"
    }
   ],
   "source": [
    "df['streamingtv'].value_counts()"
   ]
  },
  {
   "cell_type": "code",
   "execution_count": 204,
   "id": "62c91f45-8ecf-4345-827a-241ac914e314",
   "metadata": {},
   "outputs": [
    {
     "data": {
      "text/plain": [
       "No     4311\n",
       "Yes    2732\n",
       "Name: streamingmovies, dtype: int64"
      ]
     },
     "execution_count": 204,
     "metadata": {},
     "output_type": "execute_result"
    }
   ],
   "source": [
    "df['streamingmovies'].value_counts()"
   ]
  },
  {
   "cell_type": "markdown",
   "id": "154c238a-fc4b-49ba-8705-08c497e8a1f8",
   "metadata": {},
   "source": [
    "Based on our analysis, we can convert the columns where there are Yes and No values to integeers to enable effective machine learning."
   ]
  },
  {
   "cell_type": "code",
   "execution_count": 205,
   "id": "68beacf8-669f-4559-be6b-f042ff125895",
   "metadata": {},
   "outputs": [],
   "source": [
    "# Replace 'No' with 0 and 'Yes' with 1 in the dataframe\n",
    "df = df.replace({'No':'0',\n",
    "            'Yes':'1'})"
   ]
  },
  {
   "cell_type": "code",
   "execution_count": 206,
   "id": "e09b252c-3525-4a4b-b3e0-b560381e07b6",
   "metadata": {},
   "outputs": [],
   "source": [
    "# Converting data to integer type\n",
    "df.gender = df.gender.astype('int64')\n",
    "df.partner = df.partner.astype('int64')\n",
    "df.dependents  = df.dependents .astype('int64')\n",
    "df.paperlessbilling = df.paperlessbilling.astype('int64')\n",
    "df.multiplelines = df.multiplelines.astype('int64')\n",
    "df.onlinesecurity = df.onlinesecurity.astype('int64')\n",
    "df.deviceprotection = df.deviceprotection.astype('int64')\n",
    "df.techsupport = df.techsupport .astype('int64')\n",
    "df.streamingtv = df.streamingtv.astype('int64')\n",
    "df.onlinebackup = df.onlinebackup.astype('int64')\n",
    "df.streamingmovies = df.streamingmovies.astype('int64')\n",
    "df.churn= df.churn.astype('int64')"
   ]
  },
  {
   "cell_type": "code",
   "execution_count": 207,
   "id": "4fd41b87-5a3a-4196-b2d8-2e9a236e9ffa",
   "metadata": {},
   "outputs": [
    {
     "name": "stdout",
     "output_type": "stream",
     "text": [
      "<class 'pandas.core.frame.DataFrame'>\n",
      "Int64Index: 7043 entries, 0 to 7042\n",
      "Data columns (total 23 columns):\n",
      " #   Column            Non-Null Count  Dtype         \n",
      "---  ------            --------------  -----         \n",
      " 0   customerid        7043 non-null   object        \n",
      " 1   gender            7043 non-null   int64         \n",
      " 2   seniorcitizen     7043 non-null   int64         \n",
      " 3   partner           7043 non-null   int64         \n",
      " 4   dependents        7043 non-null   int64         \n",
      " 5   begindate         7043 non-null   datetime64[ns]\n",
      " 6   enddate           7043 non-null   object        \n",
      " 7   type              7043 non-null   object        \n",
      " 8   paperlessbilling  7043 non-null   int64         \n",
      " 9   paymentmethod     7043 non-null   object        \n",
      " 10  monthlycharges    7043 non-null   float64       \n",
      " 11  totalcharges      7043 non-null   float64       \n",
      " 12  multiplelines     7043 non-null   int64         \n",
      " 13  internetservice   7043 non-null   object        \n",
      " 14  onlinesecurity    7043 non-null   int64         \n",
      " 15  onlinebackup      7043 non-null   int64         \n",
      " 16  deviceprotection  7043 non-null   int64         \n",
      " 17  techsupport       7043 non-null   int64         \n",
      " 18  streamingtv       7043 non-null   int64         \n",
      " 19  streamingmovies   7043 non-null   int64         \n",
      " 20  churn             7043 non-null   int64         \n",
      " 21  endterm           7043 non-null   datetime64[ns]\n",
      " 22  longevity         7043 non-null   int32         \n",
      "dtypes: datetime64[ns](2), float64(2), int32(1), int64(13), object(5)\n",
      "memory usage: 1.3+ MB\n"
     ]
    }
   ],
   "source": [
    "df.info()"
   ]
  },
  {
   "cell_type": "markdown",
   "id": "ac5315d8-e123-48ea-805e-6f096e313cc1",
   "metadata": {},
   "source": [
    "# Exploratory Data Analysis\n",
    "\n",
    "We will explore correlations between the features. We will also compare customers who did or did not churn based on certain features that could relate to churn."
   ]
  },
  {
   "cell_type": "code",
   "execution_count": 208,
   "id": "0dd24b90-4097-4bbc-9515-9dcf7639a2e0",
   "metadata": {},
   "outputs": [
    {
     "data": {
      "image/png": "[encoded data removed]",
      "text/plain": [
       "<Figure size 1440x720 with 2 Axes>"
      ]
     },
     "metadata": {
      "needs_background": "light"
     },
     "output_type": "display_data"
    }
   ],
   "source": [
    "# Plotting correlations for numerical features included in the data\n",
    "\n",
    "correlation_mat = df.corr()\n",
    "fig, ax = plt.subplots(figsize=(20,10))\n",
    "sns.heatmap(correlation_mat, annot = True, linewidths=.5, ax=ax)\n",
    "plt.show()"
   ]
  },
  {
   "cell_type": "markdown",
   "id": "c68565cb-dddb-45d4-8a8f-c1dd78010846",
   "metadata": {},
   "source": [
    "In this heatmap displaying the correlations between different features, we see that longevity and total charges (0.83) are highly correlated. This makes sense since the more months a customer has a service, the higher the total charges would be. We will therefore drop 'totalcharges' before training the machine learning model to avoid collinearity. Likewise, streamingtv (0.63) and streamingmovies (0.63) are correlated with monthlycharges, since these two services are expensive and should correlate with a higher monthly charge. Churn is not significantly correlated with any feature so we will need to include a combination of the features in the machine learning model. Churn is moderately negatively correlated with longevity (-0.36), so that the longer a customer remains, the less likely the customer is to churn."
   ]
  },
  {
   "cell_type": "code",
   "execution_count": 209,
   "id": "ce30fbc5-dcc5-4e12-87cb-8aaa6066fc07",
   "metadata": {},
   "outputs": [
    {
     "data": {
      "image/png": "[encoded data removed]",
      "text/plain": [
       "<Figure size 288x288 with 1 Axes>"
      ]
     },
     "metadata": {},
     "output_type": "display_data"
    }
   ],
   "source": [
    "# Exploring percentage of customers who churned\n",
    "\n",
    "df['churn'].value_counts().plot.pie(autopct='%1.1f%%',figsize=(4,4));\n",
    "plt.title(\"Percentage of Customers Who Churned\")\n",
    "plt.show()"
   ]
  },
  {
   "cell_type": "markdown",
   "id": "e995b135-c06a-4c6d-8f65-2c08a062ac25",
   "metadata": {},
   "source": [
    "We will compare these two classes of customers based on various features."
   ]
  },
  {
   "cell_type": "code",
   "execution_count": 210,
   "id": "458bc3d7-75b0-43a9-ae97-766df61f65a9",
   "metadata": {},
   "outputs": [],
   "source": [
    "# Dividing 'churn' into groups of customers\n",
    "\n",
    "churn = df.loc[df['churn'] == 1]\n",
    "no_churn = df.loc[df['churn'] == 0]"
   ]
  },
  {
   "cell_type": "code",
   "execution_count": 211,
   "id": "2a102425-44bf-4b30-974b-eb46e729f794",
   "metadata": {},
   "outputs": [
    {
     "data": {
      "image/png": "[encoded data removed]",
      "text/plain": [
       "<Figure size 540x252 with 1 Axes>"
      ]
     },
     "metadata": {
      "needs_background": "light"
     },
     "output_type": "display_data"
    }
   ],
   "source": [
    "sns.countplot(\"churn\", data=df,hue=\"gender\")\n",
    "plt.show()"
   ]
  },
  {
   "cell_type": "markdown",
   "id": "75e629d7-fea0-4b6e-89bd-8480e6598f13",
   "metadata": {},
   "source": [
    "Gender distribution is the same for churn and no churn customers, so we will drop gender from the dataframe."
   ]
  },
  {
   "cell_type": "code",
   "execution_count": 212,
   "id": "90cd3521-a9fc-48e1-8128-9399cd63d62c",
   "metadata": {},
   "outputs": [
    {
     "data": {
      "text/plain": [
       "Month-to-month    0.885500\n",
       "One year          0.088818\n",
       "Two year          0.025682\n",
       "Name: type, dtype: float64"
      ]
     },
     "execution_count": 212,
     "metadata": {},
     "output_type": "execute_result"
    }
   ],
   "source": [
    "churn['type'].value_counts(normalize=True)"
   ]
  },
  {
   "cell_type": "code",
   "execution_count": 213,
   "id": "f41d8b80-c2a0-4be0-9f40-b4a3a4642b8b",
   "metadata": {},
   "outputs": [
    {
     "data": {
      "text/plain": [
       "Month-to-month    0.429068\n",
       "Two year          0.318322\n",
       "One year          0.252609\n",
       "Name: type, dtype: float64"
      ]
     },
     "execution_count": 213,
     "metadata": {},
     "output_type": "execute_result"
    }
   ],
   "source": [
    "no_churn['type'].value_counts(normalize=True)"
   ]
  },
  {
   "cell_type": "code",
   "execution_count": 214,
   "id": "bc8d6135-f9dc-4d44-ab1d-bce1c82f4f37",
   "metadata": {},
   "outputs": [
    {
     "data": {
      "text/plain": [
       "<AxesSubplot:xlabel='churn', ylabel='count'>"
      ]
     },
     "execution_count": 214,
     "metadata": {},
     "output_type": "execute_result"
    },
    {
     "data": {
      "image/png": "[encoded data removed]",
      "text/plain": [
       "<Figure size 540x252 with 1 Axes>"
      ]
     },
     "metadata": {
      "needs_background": "light"
     },
     "output_type": "display_data"
    }
   ],
   "source": [
    "sns.countplot(\"churn\", data=df,hue=\"type\")"
   ]
  },
  {
   "cell_type": "markdown",
   "id": "d1671fe0-b133-43a5-b793-d6e06baa0b64",
   "metadata": {},
   "source": [
    "Customers who churned had a higher percentage of number of month-to-month contracts, 88%, compared to no_churn customers where 43% had month-to-month contracts."
   ]
  },
  {
   "cell_type": "code",
   "execution_count": 215,
   "id": "bb5594f0-5251-4608-ba5f-a4ca26b5818b",
   "metadata": {},
   "outputs": [
    {
     "data": {
      "image/png": "[encoded data removed]",
      "text/plain": [
       "<Figure size 540x252 with 1 Axes>"
      ]
     },
     "metadata": {
      "needs_background": "light"
     },
     "output_type": "display_data"
    }
   ],
   "source": [
    "# Plotting box plots comparing monthly charges\n",
    "\n",
    "plt.rcParams[\"figure.figsize\"] = [7.50, 3.50]\n",
    "plt.rcParams[\"figure.autolayout\"] = True\n",
    "\n",
    "# Pandas dataframe\n",
    "data = pd.DataFrame({\"churn\": churn['monthlycharges'], \"no_churn\": no_churn['monthlycharges']})\n",
    "\n",
    "# Plot the dataframe\n",
    "ax = data[['churn', 'no_churn']].plot(kind='box', title='Comparing Monthly Charges of Customers Who Cancelled and Remained')\n",
    "\n",
    "# Display the plot\n",
    "plt.show()"
   ]
  },
  {
   "cell_type": "markdown",
   "id": "2a32a2af-eeef-4751-9c89-ce91e14d187c",
   "metadata": {},
   "source": [
    "We can see from the boxplots side by side that the range and the average monthly charge of customers who cancelled was higher than for customers who remained."
   ]
  },
  {
   "cell_type": "code",
   "execution_count": 216,
   "id": "53ed4db9-9eaf-4697-9bbc-29f5f1fb897e",
   "metadata": {},
   "outputs": [
    {
     "data": {
      "image/png": "[encoded data removed]",
      "text/plain": [
       "<Figure size 540x252 with 1 Axes>"
      ]
     },
     "metadata": {
      "needs_background": "light"
     },
     "output_type": "display_data"
    }
   ],
   "source": [
    "# Plotting box plots comparing longevity\n",
    "\n",
    "plt.rcParams[\"figure.figsize\"] = [7.50, 3.50]\n",
    "plt.rcParams[\"figure.autolayout\"] = True\n",
    "\n",
    "# Pandas dataframe\n",
    "data = pd.DataFrame({\"churn\": churn['longevity'], \"no_churn\": no_churn['longevity']})\n",
    "\n",
    "# Plot the dataframe\n",
    "ax = data[['churn', 'no_churn']].plot(kind='box', title='Comparing Longevity of Customers Who Cancelled and Remained')\n",
    "\n",
    "# Display the plot\n",
    "plt.show()"
   ]
  },
  {
   "cell_type": "code",
   "execution_count": 217,
   "id": "32442e5f-1514-4ddb-aca2-48d8bcb72e7a",
   "metadata": {},
   "outputs": [
    {
     "data": {
      "text/plain": [
       "count    1869.000000\n",
       "mean       17.588015\n",
       "std        19.489864\n",
       "min         0.000000\n",
       "25%         2.000000\n",
       "50%         9.000000\n",
       "75%        29.000000\n",
       "max        71.000000\n",
       "Name: longevity, dtype: float64"
      ]
     },
     "execution_count": 217,
     "metadata": {},
     "output_type": "execute_result"
    }
   ],
   "source": [
    "churn['longevity'].describe()"
   ]
  },
  {
   "cell_type": "markdown",
   "id": "10b3c0ea-c409-4ae0-b148-4ca11c7c5861",
   "metadata": {},
   "source": [
    "Based on the side by side boxplots, we can see that customers who cancelled were fairly new customers. They averaged less than a 10 month longevity compared to customers who remained, who averaged around a 40 month longevity.\n",
    "\n",
    "We can see there are outliers for customers who had high longevity and cancelled. Let's explore if we should eliminate these outliers."
   ]
  },
  {
   "cell_type": "markdown",
   "id": "3daa7c49-2b95-400b-b52d-307f7c70cc2d",
   "metadata": {},
   "source": [
    "We will apply a function for eliminating outliers to the 'longevity' feature in the df to eliminate outliers equally across churn and no_churn customers."
   ]
  },
  {
   "cell_type": "code",
   "execution_count": 218,
   "id": "7aa0f311-380a-4eab-b91c-0976c5310314",
   "metadata": {},
   "outputs": [],
   "source": [
    "# Creating function for eliminating outliers\n",
    "\n",
    "def outliers(df, column):\n",
    "        \n",
    "        #finding Q1 and Q2\n",
    "        Q1 = column.quantile(0.25)\n",
    "        Q3 = column.quantile(0.75)\n",
    "       \n",
    "        #finding the IQR\n",
    "        IQR = Q3-Q1\n",
    "        \n",
    "        #finding the upper and lower limit\n",
    "        upper_limit = Q3 + 1.5*IQR\n",
    "        lower_limit = Q1 - 1.5*IQR\n",
    "        \n",
    "        #finding outliers\n",
    "        df[column > upper_limit]\n",
    "        df[column < lower_limit]\n",
    "        \n",
    "        #trimming\n",
    "        df = df[column < upper_limit] \n",
    "        df = df[column > lower_limit]\n",
    "    \n",
    "        return df.info() "
   ]
  },
  {
   "cell_type": "code",
   "execution_count": 219,
   "id": "9b234193-9ee0-4982-8f6f-8d533c04c820",
   "metadata": {},
   "outputs": [
    {
     "name": "stdout",
     "output_type": "stream",
     "text": [
      "<class 'pandas.core.frame.DataFrame'>\n",
      "Int64Index: 7043 entries, 0 to 7042\n",
      "Data columns (total 23 columns):\n",
      " #   Column            Non-Null Count  Dtype         \n",
      "---  ------            --------------  -----         \n",
      " 0   customerid        7043 non-null   object        \n",
      " 1   gender            7043 non-null   int64         \n",
      " 2   seniorcitizen     7043 non-null   int64         \n",
      " 3   partner           7043 non-null   int64         \n",
      " 4   dependents        7043 non-null   int64         \n",
      " 5   begindate         7043 non-null   datetime64[ns]\n",
      " 6   enddate           7043 non-null   object        \n",
      " 7   type              7043 non-null   object        \n",
      " 8   paperlessbilling  7043 non-null   int64         \n",
      " 9   paymentmethod     7043 non-null   object        \n",
      " 10  monthlycharges    7043 non-null   float64       \n",
      " 11  totalcharges      7043 non-null   float64       \n",
      " 12  multiplelines     7043 non-null   int64         \n",
      " 13  internetservice   7043 non-null   object        \n",
      " 14  onlinesecurity    7043 non-null   int64         \n",
      " 15  onlinebackup      7043 non-null   int64         \n",
      " 16  deviceprotection  7043 non-null   int64         \n",
      " 17  techsupport       7043 non-null   int64         \n",
      " 18  streamingtv       7043 non-null   int64         \n",
      " 19  streamingmovies   7043 non-null   int64         \n",
      " 20  churn             7043 non-null   int64         \n",
      " 21  endterm           7043 non-null   datetime64[ns]\n",
      " 22  longevity         7043 non-null   int32         \n",
      "dtypes: datetime64[ns](2), float64(2), int32(1), int64(13), object(5)\n",
      "memory usage: 1.3+ MB\n"
     ]
    }
   ],
   "source": [
    "# Eliminating outliers\n",
    "\n",
    "outliers(df, df['longevity']) "
   ]
  },
  {
   "cell_type": "markdown",
   "id": "92ab775a-97f8-47d2-a30b-0bded7fa6549",
   "metadata": {},
   "source": [
    "Even though there are outliers within the churn classes, we did not drop any customers based on longevity since there were no significant outliers within the longevity feature overall. Dropping outliers for only customers with churn could bias the data."
   ]
  },
  {
   "cell_type": "code",
   "execution_count": 220,
   "id": "367299f9-4d38-4cb5-a06e-eabb19fd2bc5",
   "metadata": {},
   "outputs": [
    {
     "data": {
      "text/plain": [
       "Electronic check             0.573034\n",
       "Mailed check                 0.164794\n",
       "Bank transfer (automatic)    0.138042\n",
       "Credit card (automatic)      0.124131\n",
       "Name: paymentmethod, dtype: float64"
      ]
     },
     "execution_count": 220,
     "metadata": {},
     "output_type": "execute_result"
    }
   ],
   "source": [
    "churn['paymentmethod'].value_counts(normalize=True)"
   ]
  },
  {
   "cell_type": "code",
   "execution_count": 221,
   "id": "98b8bd9b-819a-43a5-b537-fabc04f9e71d",
   "metadata": {},
   "outputs": [
    {
     "data": {
      "text/plain": [
       "Mailed check                 0.252029\n",
       "Electronic check             0.250097\n",
       "Credit card (automatic)      0.249324\n",
       "Bank transfer (automatic)    0.248550\n",
       "Name: paymentmethod, dtype: float64"
      ]
     },
     "execution_count": 221,
     "metadata": {},
     "output_type": "execute_result"
    }
   ],
   "source": [
    "no_churn['paymentmethod'].value_counts(normalize=True)"
   ]
  },
  {
   "cell_type": "code",
   "execution_count": 222,
   "id": "783481f6-2bf6-4881-964e-d77db5cb17e2",
   "metadata": {},
   "outputs": [
    {
     "data": {
      "image/png": "[encoded data removed]",
      "text/plain": [
       "<Figure size 540x252 with 1 Axes>"
      ]
     },
     "metadata": {
      "needs_background": "light"
     },
     "output_type": "display_data"
    }
   ],
   "source": [
    "# Comparing 'paymentmethod' of customers based on 'cancelled'\n",
    "\n",
    "X = ['Electronic check','Mailed check','Bank transfer (automatic)','Credit card (automatic)']\n",
    "churn = [0.57, 0.16, 0.13, 0.12]\n",
    "no_churn = [0.25, 0.25, 0.25, 0.25]\n",
    "  \n",
    "X_axis = np.arange(len(X))\n",
    "  \n",
    "plt.bar(X_axis - 0.2, churn, 0.4, label = 'churn')\n",
    "plt.bar(X_axis + 0.2, no_churn, 0.4, label = 'no_churn')\n",
    "  \n",
    "plt.xticks(X_axis, X)\n",
    "plt.xlabel(\"Payment Method\")\n",
    "plt.ylabel(\"Number of Customers\")\n",
    "plt.title(\"Number of Customers with Each Payment Method\")\n",
    "plt.legend()\n",
    "plt.show()"
   ]
  },
  {
   "cell_type": "markdown",
   "id": "f97d54bc-4d5f-4aba-a83b-e2bd8460ca62",
   "metadata": {},
   "source": [
    "Based on this barplot of the differences of payment method between customers who churned and did not churn, customers who churned were much more likely to pay by electronic check. At the same time, customers who remained were slightly more likely to pay be mailed check than customers who cancelled. We will explore if there is a connection between paying by electronic check and cancelling since more than half of customers who cancelled paid by electronic check. Let's see if this is related to paperless billing."
   ]
  },
  {
   "cell_type": "code",
   "execution_count": 223,
   "id": "d3d71a94-315e-4766-8513-ac4c28b39f5c",
   "metadata": {},
   "outputs": [
    {
     "data": {
      "image/png": "[encoded data removed]",
      "text/plain": [
       "<Figure size 540x252 with 1 Axes>"
      ]
     },
     "metadata": {
      "needs_background": "light"
     },
     "output_type": "display_data"
    }
   ],
   "source": [
    "sns.countplot(\"churn\", data=df,hue=\"paperlessbilling\")\n",
    "plt.show()"
   ]
  },
  {
   "cell_type": "markdown",
   "id": "c3e21268-fc6a-4e69-ae14-af2e19f233f6",
   "metadata": {},
   "source": [
    "It looks like customers receiving paper bills was not a factor in cancellation since customers who cancelled were more likely to have paperless billing than customers who remained. It may be that electronic check was associated with churn because it is not an automatic payment and customers see their monthly invoice which may remind them of how much they are paying and motivate them to cancel."
   ]
  },
  {
   "cell_type": "markdown",
   "id": "0a2f4ce6-b913-4150-ab37-c2b259461f86",
   "metadata": {},
   "source": [
    "# Preparation for Model Training"
   ]
  },
  {
   "cell_type": "markdown",
   "id": "9dec1633-0e00-4e77-842f-6ac0d6c5ceaf",
   "metadata": {},
   "source": [
    "We will drop certain columns before model training: 'customerid', 'merge_phone' and 'merge_internet' are unnecessary for machine learning.\n",
    "Datetime columns are unnecessary since our target is customer churn and the exact 'begindate' and 'enddate' or 'endterm' is unimportant.\n",
    "We will drop 'gender' since it was not found to be different based on churn.\n",
    "We also need to drop features that have collinearity. For example 'totalcharges' results from 'monthlycharges' and 'longevity' so we will drop 'totalcharges'. Likewise 'type' (which is month-to-month, one-year, or two-year) correlates with 'longevity' so we will drop 'type'."
   ]
  },
  {
   "cell_type": "code",
   "execution_count": 224,
   "id": "70460279-b920-45a1-9686-08d49ce11492",
   "metadata": {},
   "outputs": [
    {
     "name": "stdout",
     "output_type": "stream",
     "text": [
      "<class 'pandas.core.frame.DataFrame'>\n",
      "Int64Index: 7043 entries, 0 to 7042\n",
      "Data columns (total 16 columns):\n",
      " #   Column            Non-Null Count  Dtype  \n",
      "---  ------            --------------  -----  \n",
      " 0   seniorcitizen     7043 non-null   int64  \n",
      " 1   partner           7043 non-null   int64  \n",
      " 2   dependents        7043 non-null   int64  \n",
      " 3   paperlessbilling  7043 non-null   int64  \n",
      " 4   paymentmethod     7043 non-null   object \n",
      " 5   monthlycharges    7043 non-null   float64\n",
      " 6   multiplelines     7043 non-null   int64  \n",
      " 7   internetservice   7043 non-null   object \n",
      " 8   onlinesecurity    7043 non-null   int64  \n",
      " 9   onlinebackup      7043 non-null   int64  \n",
      " 10  deviceprotection  7043 non-null   int64  \n",
      " 11  techsupport       7043 non-null   int64  \n",
      " 12  streamingtv       7043 non-null   int64  \n",
      " 13  streamingmovies   7043 non-null   int64  \n",
      " 14  churn             7043 non-null   int64  \n",
      " 15  longevity         7043 non-null   int32  \n",
      "dtypes: float64(1), int32(1), int64(12), object(2)\n",
      "memory usage: 907.9+ KB\n"
     ]
    }
   ],
   "source": [
    "# Dropping columns not needed for machine learning\n",
    "\n",
    "df_final = df.drop(['customerid', 'gender', 'enddate', 'begindate', 'endterm', 'totalcharges', 'type'], axis=1)\n",
    "df_final.info()"
   ]
  },
  {
   "cell_type": "markdown",
   "id": "98eb5e03-3fdd-43f9-a29d-5a55fdd2900f",
   "metadata": {},
   "source": [
    "After data preprocessing, the final dataframe has 16 columns and 7043 rows."
   ]
  },
  {
   "cell_type": "markdown",
   "id": "10d4ca9c-31d1-4623-96c1-a146f7e5d9ce",
   "metadata": {},
   "source": [
    "# Model Training"
   ]
  },
  {
   "cell_type": "markdown",
   "id": "200214dc-0752-48ed-a6a7-b7f11d72817f",
   "metadata": {},
   "source": [
    "We will train different models with various hyperparameters. First we prepare the data for model training by assigning the features and target. We will then split the data into a 3 sets for training, validation and testing the final model. We use a linear regression as a baseline model. We will then build several models including a decision tree with hyperparameter tuning, a random forest with hyperparameter tuning, XGBoost, LightGBM, and CatBoost. We will use GridSearchCV to tune hyperparameters and analyze the AUC_ROC and F1 scores of the models to determine the best model and use this for our test set."
   ]
  },
  {
   "cell_type": "markdown",
   "id": "3b2ad51a-c726-4e6a-b79b-a43bfa7bf6c8",
   "metadata": {},
   "source": [
    "## Preparing Data for Model Training  <a class=\"anchor\" id=\"section_1_1\"></a>"
   ]
  },
  {
   "cell_type": "markdown",
   "id": "0e964ac7-2a32-4b70-8ef3-0de21e3036ad",
   "metadata": {},
   "source": [
    "### Converting Objects to Category Type"
   ]
  },
  {
   "cell_type": "code",
   "execution_count": 225,
   "id": "405b4b0b-eb03-400d-80f7-7f208a6d73f6",
   "metadata": {},
   "outputs": [
    {
     "name": "stdout",
     "output_type": "stream",
     "text": [
      "<class 'pandas.core.frame.DataFrame'>\n",
      "Int64Index: 7043 entries, 0 to 7042\n",
      "Data columns (total 16 columns):\n",
      " #   Column            Non-Null Count  Dtype   \n",
      "---  ------            --------------  -----   \n",
      " 0   seniorcitizen     7043 non-null   int64   \n",
      " 1   partner           7043 non-null   int64   \n",
      " 2   dependents        7043 non-null   int64   \n",
      " 3   paperlessbilling  7043 non-null   int64   \n",
      " 4   paymentmethod     7043 non-null   category\n",
      " 5   monthlycharges    7043 non-null   float64 \n",
      " 6   multiplelines     7043 non-null   int64   \n",
      " 7   internetservice   7043 non-null   category\n",
      " 8   onlinesecurity    7043 non-null   int64   \n",
      " 9   onlinebackup      7043 non-null   int64   \n",
      " 10  deviceprotection  7043 non-null   int64   \n",
      " 11  techsupport       7043 non-null   int64   \n",
      " 12  streamingtv       7043 non-null   int64   \n",
      " 13  streamingmovies   7043 non-null   int64   \n",
      " 14  churn             7043 non-null   int64   \n",
      " 15  longevity         7043 non-null   int32   \n",
      "dtypes: category(2), float64(1), int32(1), int64(12)\n",
      "memory usage: 811.9 KB\n"
     ]
    }
   ],
   "source": [
    "# Converting objects to categorical type\n",
    "\n",
    "df_final['paymentmethod'] = df_final.paymentmethod.astype('category')\n",
    "df_final['internetservice'] = df_final.internetservice.astype('category')\n",
    "\n",
    "df_final.info()"
   ]
  },
  {
   "cell_type": "code",
   "execution_count": 226,
   "id": "66cae459-a915-45d1-bd5f-602733bfeb45",
   "metadata": {},
   "outputs": [],
   "source": [
    "# Encoding categorical features using drop first to avoid collinearity or dummy trap\n",
    "\n",
    "cat_features = ['paymentmethod', 'internetservice']\n",
    "\n",
    "df_final_encoded = pd.get_dummies(df_final, columns=cat_features, drop_first=True)"
   ]
  },
  {
   "cell_type": "markdown",
   "id": "86837680-6424-42eb-a7ce-6bb566ea9c69",
   "metadata": {},
   "source": [
    "### Checking for Class Imbalance  <a class=\"anchor\" id=\"section_1_1\"></a>\n",
    "\n",
    "Our goal is to predict which customers will leave based on the behavior of customers with similar features. We will assign 'churn' as our target variable and train our model to predict whether or not a customer cancelled. "
   ]
  },
  {
   "cell_type": "code",
   "execution_count": 227,
   "id": "1952c4af-d059-44ef-935b-7c4a13b91f5e",
   "metadata": {},
   "outputs": [
    {
     "name": "stdout",
     "output_type": "stream",
     "text": [
      "(7043, 18)\n",
      "(7043,)\n"
     ]
    }
   ],
   "source": [
    "# We will assign 'churn' as the target variable, the feature we need to predict, and the remaining attributes as the features.\n",
    " \n",
    "X = df_final_encoded.drop(['churn'], axis=1)\n",
    "y = df_final_encoded['churn']\n",
    " \n",
    "print(X.shape)\n",
    "print(y.shape)"
   ]
  },
  {
   "cell_type": "markdown",
   "id": "8ca4a38a-fecb-4501-8fc1-a76c9a38a9c1",
   "metadata": {},
   "source": [
    "Before we train our model, we need to know the class distribution of 'churn'."
   ]
  },
  {
   "cell_type": "code",
   "execution_count": 228,
   "id": "a5e21c30-8812-4bf5-a058-90423d249fe4",
   "metadata": {},
   "outputs": [
    {
     "data": {
      "text/plain": [
       "0    0.73463\n",
       "1    0.26537\n",
       "Name: churn, dtype: float64"
      ]
     },
     "execution_count": 228,
     "metadata": {},
     "output_type": "execute_result"
    }
   ],
   "source": [
    "# Checking the percentages of df['churn'] values\n",
    "\n",
    "df_final_encoded['churn'].value_counts(normalize=True)"
   ]
  },
  {
   "cell_type": "markdown",
   "id": "db8736a3-4fad-4ab2-b532-fcb8f796da55",
   "metadata": {},
   "source": [
    "There is a class imbalance in the target column. \"0\" is 72% and \"1\" 26%, around 3:1 ratio. We will address this class imbalance."
   ]
  },
  {
   "cell_type": "markdown",
   "id": "e2da930a-d532-4caa-9bda-358c28f23abb",
   "metadata": {},
   "source": [
    "### Splitting the Dataframe 3-Way <a class=\"anchor\" id=\"chapter1\"></a>\n",
    "\n",
    "First we will start with the source data and split it into three parts: training, validation, and test. This way, we can compare three models and use the test set for the final evaluation of the best model. We will leave as much data for the training as possible but make the sizes of the validation set and the test set equal. This will give us a source data split into a 3:1:1 ratio or  60% training, 20% validation, and 20% testing. "
   ]
  },
  {
   "cell_type": "code",
   "execution_count": 229,
   "id": "f5531a32-fcfb-48fa-840b-aae850d432d3",
   "metadata": {},
   "outputs": [],
   "source": [
    "# Splitting the data using indexing twice to create a 3:1:1 split for training, validation, and testing.\n",
    "# We will use valid sets for model training and test set for the final model\n",
    "\n",
    "X_train, X_test, y_train, y_test = train_test_split(X, y, test_size=0.2, random_state=12345, shuffle=True)\n",
    "X_train, X_valid, y_train, y_valid = train_test_split(X_train, y_train, test_size=0.25, random_state=12345, shuffle=True)"
   ]
  },
  {
   "cell_type": "markdown",
   "id": "d2b63bb1-6376-4235-9b7f-7f99b589e976",
   "metadata": {
    "tags": []
   },
   "source": [
    "### Standardize the Data  <a class=\"anchor\" id=\"section_1_1\"></a>\n",
    "We will scale the features in the training data using standard scaler so that features with higher values do not get unnecessary weighting during the model training."
   ]
  },
  {
   "cell_type": "code",
   "execution_count": 230,
   "id": "0b2291b3-d500-4ccc-bb1e-02377af2bb43",
   "metadata": {
    "tags": []
   },
   "outputs": [],
   "source": [
    "# Standardizing the data\n",
    "\n",
    "numeric = ['monthlycharges', 'longevity']\n",
    "  \n",
    "scaler = StandardScaler()\n",
    "scaler.fit(X_train[numeric]) \n",
    "pd.options.mode.chained_assignment = None\n",
    "X_train[numeric] = scaler.transform(X_train[numeric])\n",
    "X_valid[numeric] = scaler.transform(X_valid[numeric])\n",
    "X_test[numeric]= scaler.transform(X_test[numeric])"
   ]
  },
  {
   "cell_type": "markdown",
   "id": "ef91fe7a",
   "metadata": {},
   "source": [
    "### Upsampling using SMOTE to Address Class Imbalance\n",
    "\n",
    "We will only resample the train set data so that the validation and test sets are representative of the real world data which has a class imbalance."
   ]
  },
  {
   "cell_type": "code",
   "execution_count": 231,
   "id": "88e48d70",
   "metadata": {},
   "outputs": [],
   "source": [
    "# Using SMOTE to Oversample the data\n",
    "    \n",
    "from imblearn.over_sampling import SMOTE\n",
    "\n",
    "smote = SMOTE(random_state = 12345)\n",
    "X_train_resampled, y_train_resampled = smote.fit_resample(X_train, y_train)"
   ]
  },
  {
   "cell_type": "markdown",
   "id": "4b06146c-4177-4629-b974-9be92816835b",
   "metadata": {},
   "source": [
    "## Logistic Regression<a class=\"anchor\" id=\"chapter1\"></a>\n",
    "\n",
    "Since this is a binary classification problem, we will initially train a model using LogisticRegression and use this for our baseline model."
   ]
  },
  {
   "cell_type": "code",
   "execution_count": 232,
   "id": "a2967b57-6a5a-4a91-8d96-fc8d2eeff2f1",
   "metadata": {},
   "outputs": [
    {
     "name": "stdout",
     "output_type": "stream",
     "text": [
      "Logistic Regression scores:\n",
      "AUC-ROC score: 0.8121847905399604\n",
      "F1: 0.5817307692307693\n"
     ]
    }
   ],
   "source": [
    "# Developing a model with LogisticRegression\n",
    "\n",
    "lr_model =  LogisticRegression(random_state=12345, solver='liblinear', class_weight='balanced') \n",
    "lr_model = lr_model.fit(X_train_resampled, y_train_resampled)\n",
    "y_pred = lr_model.predict(X_valid)\n",
    "\n",
    "probabilities_valid = lr_model.predict_proba(X_valid)\n",
    "probabilities_one_valid = probabilities_valid[:, 1]\n",
    "auc_roc = roc_auc_score(y_valid, probabilities_one_valid)\n",
    "\n",
    "print('Logistic Regression scores:')\n",
    "print('AUC-ROC score:',auc_roc)\n",
    "print('F1:', f1_score(y_valid, y_pred))"
   ]
  },
  {
   "cell_type": "markdown",
   "id": "2dfe7b41-dd12-4e66-bb64-db59513e777b",
   "metadata": {},
   "source": [
    "Now, we will train different models and compare the models to the LogisticRegression model to find the best model."
   ]
  },
  {
   "cell_type": "markdown",
   "id": "7901fd93-cf09-4cc8-8b8f-22276e01e8c7",
   "metadata": {},
   "source": [
    "### DecisionTreeClassifier Model <a class=\"anchor\" id=\"section_1_1\"></a>"
   ]
  },
  {
   "cell_type": "code",
   "execution_count": 233,
   "id": "900f719d-c231-4edc-8a9c-f386784cf02b",
   "metadata": {},
   "outputs": [
    {
     "name": "stdout",
     "output_type": "stream",
     "text": [
      "max_depth = 9\n",
      "Decision Tree Classifier scores:\n",
      "AUC-ROC score: 0.7607855288007555\n",
      "F1 score of the best model on the validation set: 0.7404672611382951\n"
     ]
    }
   ],
   "source": [
    "# Developing a model with DecisionTreeClassifier\n",
    " \n",
    "best_model = None\n",
    "best_result = 0\n",
    "\n",
    "for depth in range(1, 10):\n",
    "    dtc_model = DecisionTreeClassifier(random_state=12345, max_depth=depth) \n",
    "    dtc_model.fit(X_train_resampled, y_train_resampled)\n",
    "    \n",
    "    predictions_valid = dtc_model.predict(X_valid)\n",
    "    result = roc_auc_score(y_valid, predictions_valid)\n",
    "    if result > best_result:\n",
    "        best_model = dtc_model\n",
    "        best_result = result\n",
    "        \n",
    "print(\"max_depth =\", depth)\n",
    "probabilities_valid = dtc_model.predict_proba(X_valid)\n",
    "probabilities_one_valid = probabilities_valid[:, 1]\n",
    "auc_roc = roc_auc_score(y_valid, probabilities_one_valid)\n",
    "print('Decision Tree Classifier scores:')\n",
    "print('AUC-ROC score:',auc_roc)\n",
    "print(\"F1 score of the best model on the validation set:\", best_result)"
   ]
  },
  {
   "cell_type": "markdown",
   "id": "8a9b8981-bc73-41bf-b0dc-4d9dba298c0a",
   "metadata": {
    "tags": []
   },
   "source": [
    "### RandomForest Classifier <a class=\"anchor\" id=\"chapter1\"></a>"
   ]
  },
  {
   "cell_type": "code",
   "execution_count": 234,
   "id": "c88afbfe-e5ac-4ca6-ae73-07c0198127aa",
   "metadata": {},
   "outputs": [
    {
     "name": "stdout",
     "output_type": "stream",
     "text": [
      "Random Forest Classifier scores:\n",
      "AUC-ROC score: 0.7809723474117949\n",
      "F1 of the best model on the validation set (n_estimators = 9): 0.6985081873980599\n"
     ]
    }
   ],
   "source": [
    "# Developing a model with RandomForestClassifier\n",
    " \n",
    "best_score = 0\n",
    "best_est = 0\n",
    "for est in range(1, 11): # choose hyperparameter range\n",
    "    rfc_model = RandomForestClassifier(random_state=12345, n_estimators= est) \n",
    "    rfc_model.fit(X_train_resampled, y_train_resampled)\n",
    "    \n",
    "    predictions = rfc_model.predict(X_valid)\n",
    "    score = roc_auc_score(y_valid, predictions)\n",
    "    if score > best_score:\n",
    "        best_score = score \n",
    "        best_est = est\n",
    "        \n",
    "probabilities_valid = rfc_model.predict_proba(X_valid)\n",
    "probabilities_one_valid = probabilities_valid[:, 1]\n",
    "auc_roc = roc_auc_score(y_valid, probabilities_one_valid)\n",
    "print('Random Forest Classifier scores:')\n",
    "print('AUC-ROC score:',auc_roc)\n",
    "print(\"F1 of the best model on the validation set (n_estimators = {}): {}\".format(best_est, best_score))"
   ]
  },
  {
   "cell_type": "markdown",
   "id": "2fc8deaa-5af7-4fd1-8b2a-42937b666a71",
   "metadata": {},
   "source": [
    "### XGB Model"
   ]
  },
  {
   "cell_type": "code",
   "execution_count": 235,
   "id": "e3558c53-77e2-4e71-a3ea-02c39d1a0e76",
   "metadata": {},
   "outputs": [
    {
     "name": "stdout",
     "output_type": "stream",
     "text": [
      "XGB Classifier scores:\n",
      "AUC-ROC score: 0.8121847905399604\n",
      "F1: 0.5403899721448469\n"
     ]
    }
   ],
   "source": [
    "# Developing a model with XGBClassifier\n",
    "\n",
    "XGB_model = XGBClassifier(learning_rate= 0.3,max_depth = 15,n_estimators = 500)\n",
    "XGB_model.fit(X_train_resampled, y_train_resampled)\n",
    "y_pred = XGB_model.predict(X_valid)\n",
    "\n",
    "\n",
    "probabilities_valid = lr_model.predict_proba(X_valid)\n",
    "probabilities_one_valid = probabilities_valid[:, 1]\n",
    "auc_roc = roc_auc_score(y_valid, probabilities_one_valid)\n",
    "print('XGB Classifier scores:')\n",
    "print('AUC-ROC score:',auc_roc)\n",
    "print('F1:', f1_score(y_valid, y_pred))"
   ]
  },
  {
   "cell_type": "markdown",
   "id": "eb4c75cc-4415-44b1-a555-70c26a416b66",
   "metadata": {},
   "source": [
    "### LightGBM Model <a class=\"anchor\" id=\"section_1_1\"></a>"
   ]
  },
  {
   "cell_type": "code",
   "execution_count": 236,
   "id": "40d6fdfb-c060-445f-a5b0-049b7f960ca1",
   "metadata": {},
   "outputs": [
    {
     "name": "stdout",
     "output_type": "stream",
     "text": [
      "XGB Classifier scores:\n",
      "AUC-ROC score: 0.8121847905399604\n",
      "F1: 0.582109479305741\n"
     ]
    }
   ],
   "source": [
    "# Building the lightGBMClassifier model\n",
    "\n",
    "lgb_model = LGBMClassifier(boosting_type='gbdt', class_weight=None, colsample_bytree=1.0,\n",
    "               importance_type='split', learning_rate=0.1, max_depth=-1,\n",
    "               min_child_samples=20, min_child_weight=0.001, min_split_gain=0.0,\n",
    "               n_estimators=100, n_jobs=-1, num_leaves=31, objective=None,\n",
    "               random_state=None, reg_alpha=0.0, reg_lambda=0.0,\n",
    "               subsample=1.0, subsample_for_bin=200000, subsample_freq=0)\n",
    "lgb_model.fit(X_train_resampled, y_train_resampled)\n",
    "\n",
    "y_pred = lgb_model.predict(X_valid)\n",
    "\n",
    "probabilities_valid = lr_model.predict_proba(X_valid)\n",
    "probabilities_one_valid = probabilities_valid[:, 1]\n",
    "auc_roc = roc_auc_score(y_valid, probabilities_one_valid)\n",
    "\n",
    "print('XGB Classifier scores:')\n",
    "print('AUC-ROC score:',auc_roc)\n",
    "print('F1:', f1_score(y_valid, y_pred))"
   ]
  },
  {
   "cell_type": "markdown",
   "id": "4b3e8435-c9ea-4543-97dc-5d3874279b09",
   "metadata": {
    "tags": []
   },
   "source": [
    "### Catboost Model <a class=\"anchor\" id=\"section_1_1\"></a>"
   ]
  },
  {
   "cell_type": "code",
   "execution_count": 237,
   "id": "c83e5071-bf13-4a01-b828-bec62ee6f3c0",
   "metadata": {},
   "outputs": [
    {
     "name": "stdout",
     "output_type": "stream",
     "text": [
      "CatBoost Classifier scores:\n",
      "AUC-ROC score: 0.8355880869602542\n",
      "F1: 0.5888888888888889\n"
     ]
    }
   ],
   "source": [
    "# Developing a CatBoostClassifier model\n",
    "\n",
    "categorical_features = list(df_final.select_dtypes(include=['object']).columns.values.tolist())\n",
    "\n",
    "#clf = CatBoostClassifier(iterations=100, cat_features=categorical_features, metric_period=50)\n",
    "clf = CatBoostClassifier(iterations=100, cat_features=categorical_features, metric_period=50, verbose=False, random_state=12345, scale_pos_weight=3)\n",
    "\n",
    "clf.fit(X_train, y_train, \n",
    "          eval_set=(X_valid, y_valid),\n",
    "          use_best_model=True, \n",
    "          cat_features=categorical_features)\n",
    "y_pred = clf.predict(X_valid)\n",
    "\n",
    "\n",
    "probabilities_valid = clf.predict_proba(X_valid)\n",
    "probabilities_one_valid = probabilities_valid[:, 1]\n",
    "auc_roc = roc_auc_score(y_valid, probabilities_one_valid)\n",
    "print('CatBoost Classifier scores:')\n",
    "print('AUC-ROC score:',auc_roc)\n",
    "print('F1:', f1_score(y_valid, y_pred))"
   ]
  },
  {
   "cell_type": "markdown",
   "id": "8d1fc08b-db33-401c-a0d9-5da47ee57e02",
   "metadata": {
    "tags": []
   },
   "source": [
    "### Developing CatBoost model using best parameters from GridSearchCV\n",
    "Since CatBoost was the best model so far, we will tune hyperparameters of CatBoost using GridSearchCV. We will use a pipeline so that the data is resampled within each fold separately."
   ]
  },
  {
   "cell_type": "code",
   "execution_count": 238,
   "id": "f167da55-0066-4a1c-a0ab-bf137f20bd7e",
   "metadata": {},
   "outputs": [],
   "source": [
    "from imblearn.pipeline import Pipeline as imbpipeline\n",
    "\n",
    "clf = CatBoostClassifier(iterations=100, cat_features=categorical_features, metric_period=50, verbose=False)\n",
    "\n",
    "pipeline = imbpipeline(steps=[['smote', SMOTE(random_state=12345)],\n",
    "    (\"estimator\", clf )\n",
    "])\n"
   ]
  },
  {
   "cell_type": "code",
   "execution_count": 239,
   "id": "59a1ecd3-91e6-4cf8-900d-d41892a33bc9",
   "metadata": {},
   "outputs": [],
   "source": [
    "param_grid = {\n",
    "    \"estimator__depth\": [4, 5, 6],\n",
    "    \"estimator__iterations\": [50, 100],\n",
    "    \"estimator__learning_rate\": [0.001, 0.01, 0.1], \n",
    "    \"estimator__l2_leaf_reg\": [3, 5, 100],\n",
    "    \"estimator__thread_count\": [4]\n",
    "}"
   ]
  },
  {
   "cell_type": "code",
   "execution_count": 240,
   "id": "22bdd16f-5b4d-4c13-bfac-e3f018f88d9a",
   "metadata": {},
   "outputs": [],
   "source": [
    "stratified_kfold = StratifiedKFold(n_splits=3,\n",
    "                                       shuffle=True,\n",
    "                                       random_state=11)"
   ]
  },
  {
   "cell_type": "code",
   "execution_count": 241,
   "id": "3dac0b47-82f9-4c73-91e3-1b5025b58a9e",
   "metadata": {},
   "outputs": [
    {
     "data": {
      "text/html": [
       "<style>#sk-container-id-1 {color: black;background-color: white;}#sk-container-id-1 pre{padding: 0;}#sk-container-id-1 div.sk-toggleable {background-color: white;}#sk-container-id-1 label.sk-toggleable__label {cursor: pointer;display: block;width: 100%;margin-bottom: 0;padding: 0.3em;box-sizing: border-box;text-align: center;}#sk-container-id-1 label.sk-toggleable__label-arrow:before {content: \"▸\";float: left;margin-right: 0.25em;color: #696969;}#sk-container-id-1 label.sk-toggleable__label-arrow:hover:before {color: black;}#sk-container-id-1 div.sk-estimator:hover label.sk-toggleable__label-arrow:before {color: black;}#sk-container-id-1 div.sk-toggleable__content {max-height: 0;max-width: 0;overflow: hidden;text-align: left;background-color: #f0f8ff;}#sk-container-id-1 div.sk-toggleable__content pre {margin: 0.2em;color: black;border-radius: 0.25em;background-color: #f0f8ff;}#sk-container-id-1 input.sk-toggleable__control:checked~div.sk-toggleable__content {max-height: 200px;max-width: 100%;overflow: auto;}#sk-container-id-1 input.sk-toggleable__control:checked~label.sk-toggleable__label-arrow:before {content: \"▾\";}#sk-container-id-1 div.sk-estimator input.sk-toggleable__control:checked~label.sk-toggleable__label {background-color: #d4ebff;}#sk-container-id-1 div.sk-label input.sk-toggleable__control:checked~label.sk-toggleable__label {background-color: #d4ebff;}#sk-container-id-1 input.sk-hidden--visually {border: 0;clip: rect(1px 1px 1px 1px);clip: rect(1px, 1px, 1px, 1px);height: 1px;margin: -1px;overflow: hidden;padding: 0;position: absolute;width: 1px;}#sk-container-id-1 div.sk-estimator {font-family: monospace;background-color: #f0f8ff;border: 1px dotted black;border-radius: 0.25em;box-sizing: border-box;margin-bottom: 0.5em;}#sk-container-id-1 div.sk-estimator:hover {background-color: #d4ebff;}#sk-container-id-1 div.sk-parallel-item::after {content: \"\";width: 100%;border-bottom: 1px solid gray;flex-grow: 1;}#sk-container-id-1 div.sk-label:hover label.sk-toggleable__label {background-color: #d4ebff;}#sk-container-id-1 div.sk-serial::before {content: \"\";position: absolute;border-left: 1px solid gray;box-sizing: border-box;top: 0;bottom: 0;left: 50%;z-index: 0;}#sk-container-id-1 div.sk-serial {display: flex;flex-direction: column;align-items: center;background-color: white;padding-right: 0.2em;padding-left: 0.2em;position: relative;}#sk-container-id-1 div.sk-item {position: relative;z-index: 1;}#sk-container-id-1 div.sk-parallel {display: flex;align-items: stretch;justify-content: center;background-color: white;position: relative;}#sk-container-id-1 div.sk-item::before, #sk-container-id-1 div.sk-parallel-item::before {content: \"\";position: absolute;border-left: 1px solid gray;box-sizing: border-box;top: 0;bottom: 0;left: 50%;z-index: -1;}#sk-container-id-1 div.sk-parallel-item {display: flex;flex-direction: column;z-index: 1;position: relative;background-color: white;}#sk-container-id-1 div.sk-parallel-item:first-child::after {align-self: flex-end;width: 50%;}#sk-container-id-1 div.sk-parallel-item:last-child::after {align-self: flex-start;width: 50%;}#sk-container-id-1 div.sk-parallel-item:only-child::after {width: 0;}#sk-container-id-1 div.sk-dashed-wrapped {border: 1px dashed gray;margin: 0 0.4em 0.5em 0.4em;box-sizing: border-box;padding-bottom: 0.4em;background-color: white;}#sk-container-id-1 div.sk-label label {font-family: monospace;font-weight: bold;display: inline-block;line-height: 1.2em;}#sk-container-id-1 div.sk-label-container {text-align: center;}#sk-container-id-1 div.sk-container {/* jupyter's `normalize.less` sets `[hidden] { display: none; }` but bootstrap.min.css set `[hidden] { display: none !important; }` so we also need the `!important` here to be able to override the default hidden behavior on the sphinx rendered scikit-learn.org. See: https://github.com/scikit-learn/scikit-learn/issues/21755 */display: inline-block !important;position: relative;}#sk-container-id-1 div.sk-text-repr-fallback {display: none;}</style><div id=\"sk-container-id-1\" class=\"sk-top-container\"><div class=\"sk-text-repr-fallback\"><pre>GridSearchCV(cv=StratifiedKFold(n_splits=3, random_state=11, shuffle=True),\n",
       "             estimator=Pipeline(steps=[[&#x27;smote&#x27;, SMOTE(random_state=12345)],\n",
       "                                       (&#x27;estimator&#x27;,\n",
       "                                        &lt;catboost.core.CatBoostClassifier object at 0x0000026FBF04CD90&gt;)]),\n",
       "             n_jobs=-1,\n",
       "             param_grid={&#x27;estimator__depth&#x27;: [4, 5, 6],\n",
       "                         &#x27;estimator__iterations&#x27;: [50, 100],\n",
       "                         &#x27;estimator__l2_leaf_reg&#x27;: [3, 5, 100],\n",
       "                         &#x27;estimator__learning_rate&#x27;: [0.001, 0.01, 0.1],\n",
       "                         &#x27;estimator__thread_count&#x27;: [4]},\n",
       "             scoring=&#x27;roc_auc&#x27;)</pre><b>In a Jupyter environment, please rerun this cell to show the HTML representation or trust the notebook. <br />On GitHub, the HTML representation is unable to render, please try loading this page with nbviewer.org.</b></div><div class=\"sk-container\" hidden><div class=\"sk-item sk-dashed-wrapped\"><div class=\"sk-label-container\"><div class=\"sk-label sk-toggleable\"><input class=\"sk-toggleable__control sk-hidden--visually\" id=\"sk-estimator-id-1\" type=\"checkbox\" ><label for=\"sk-estimator-id-1\" class=\"sk-toggleable__label sk-toggleable__label-arrow\">GridSearchCV</label><div class=\"sk-toggleable__content\"><pre>GridSearchCV(cv=StratifiedKFold(n_splits=3, random_state=11, shuffle=True),\n",
       "             estimator=Pipeline(steps=[[&#x27;smote&#x27;, SMOTE(random_state=12345)],\n",
       "                                       (&#x27;estimator&#x27;,\n",
       "                                        &lt;catboost.core.CatBoostClassifier object at 0x0000026FBF04CD90&gt;)]),\n",
       "             n_jobs=-1,\n",
       "             param_grid={&#x27;estimator__depth&#x27;: [4, 5, 6],\n",
       "                         &#x27;estimator__iterations&#x27;: [50, 100],\n",
       "                         &#x27;estimator__l2_leaf_reg&#x27;: [3, 5, 100],\n",
       "                         &#x27;estimator__learning_rate&#x27;: [0.001, 0.01, 0.1],\n",
       "                         &#x27;estimator__thread_count&#x27;: [4]},\n",
       "             scoring=&#x27;roc_auc&#x27;)</pre></div></div></div><div class=\"sk-parallel\"><div class=\"sk-parallel-item\"><div class=\"sk-item\"><div class=\"sk-label-container\"><div class=\"sk-label sk-toggleable\"><input class=\"sk-toggleable__control sk-hidden--visually\" id=\"sk-estimator-id-2\" type=\"checkbox\" ><label for=\"sk-estimator-id-2\" class=\"sk-toggleable__label sk-toggleable__label-arrow\">estimator: Pipeline</label><div class=\"sk-toggleable__content\"><pre>Pipeline(steps=[[&#x27;smote&#x27;, SMOTE(random_state=12345)],\n",
       "                (&#x27;estimator&#x27;,\n",
       "                 &lt;catboost.core.CatBoostClassifier object at 0x0000026FBF04CD90&gt;)])</pre></div></div></div><div class=\"sk-serial\"><div class=\"sk-item\"><div class=\"sk-serial\"><div class=\"sk-item\"><div class=\"sk-estimator sk-toggleable\"><input class=\"sk-toggleable__control sk-hidden--visually\" id=\"sk-estimator-id-3\" type=\"checkbox\" ><label for=\"sk-estimator-id-3\" class=\"sk-toggleable__label sk-toggleable__label-arrow\">SMOTE</label><div class=\"sk-toggleable__content\"><pre>SMOTE(random_state=12345)</pre></div></div></div><div class=\"sk-item\"><div class=\"sk-estimator sk-toggleable\"><input class=\"sk-toggleable__control sk-hidden--visually\" id=\"sk-estimator-id-4\" type=\"checkbox\" ><label for=\"sk-estimator-id-4\" class=\"sk-toggleable__label sk-toggleable__label-arrow\">CatBoostClassifier</label><div class=\"sk-toggleable__content\"><pre>&lt;catboost.core.CatBoostClassifier object at 0x0000026FBF04CD90&gt;</pre></div></div></div></div></div></div></div></div></div></div></div></div>"
      ],
      "text/plain": [
       "GridSearchCV(cv=StratifiedKFold(n_splits=3, random_state=11, shuffle=True),\n",
       "             estimator=Pipeline(steps=[['smote', SMOTE(random_state=12345)],\n",
       "                                       ('estimator',\n",
       "                                        <catboost.core.CatBoostClassifier object at 0x0000026FBF04CD90>)]),\n",
       "             n_jobs=-1,\n",
       "             param_grid={'estimator__depth': [4, 5, 6],\n",
       "                         'estimator__iterations': [50, 100],\n",
       "                         'estimator__l2_leaf_reg': [3, 5, 100],\n",
       "                         'estimator__learning_rate': [0.001, 0.01, 0.1],\n",
       "                         'estimator__thread_count': [4]},\n",
       "             scoring='roc_auc')"
      ]
     },
     "execution_count": 241,
     "metadata": {},
     "output_type": "execute_result"
    }
   ],
   "source": [
    "gscv = GridSearchCV(estimator=pipeline,\n",
    "                           param_grid=param_grid,\n",
    "                           scoring='roc_auc',\n",
    "                           cv=stratified_kfold,\n",
    "                           n_jobs=-1)\n",
    "gscv.fit(X_train, y_train)"
   ]
  },
  {
   "cell_type": "code",
   "execution_count": 242,
   "id": "c642ce68-c9f6-4a1e-ace1-824b0737d2a1",
   "metadata": {},
   "outputs": [
    {
     "data": {
      "text/plain": [
       "{'estimator__depth': 4,\n",
       " 'estimator__iterations': 100,\n",
       " 'estimator__l2_leaf_reg': 5,\n",
       " 'estimator__learning_rate': 0.1,\n",
       " 'estimator__thread_count': 4}"
      ]
     },
     "metadata": {},
     "output_type": "display_data"
    }
   ],
   "source": [
    "display(gscv.best_params_)"
   ]
  },
  {
   "cell_type": "markdown",
   "id": "50df9ed5-0c69-4e69-abc8-67416dbc8a54",
   "metadata": {},
   "source": [
    "We will apply these best parameters from GridSearchCV to the CatBoostClassifier model below."
   ]
  },
  {
   "cell_type": "code",
   "execution_count": 245,
   "id": "34b2b5db-92d0-49e8-8fef-629ea40fc451",
   "metadata": {},
   "outputs": [
    {
     "name": "stdout",
     "output_type": "stream",
     "text": [
      "CatBoost Classifier with GridSearchCV hyperparameter tuning scores:\n",
      "AUC-ROC score: 0.8332971177783499\n",
      "F1: 0.5894988066825776\n"
     ]
    }
   ],
   "source": [
    "# Developing a CatBoostClassifier model using the best parameters from GridSearchCV\n",
    "\n",
    "categorical_features = list(df_final.select_dtypes(include=['object']).columns.values.tolist())\n",
    "\n",
    "clf = CatBoostClassifier(depth= 4, iterations= 100, l2_leaf_reg=5, learning_rate= 0.1, thread_count=4, verbose=False)\n",
    "\n",
    "clf.fit(X_train_resampled, y_train_resampled, \n",
    "          eval_set=(X_valid, y_valid),\n",
    "          use_best_model=True, \n",
    "          cat_features=categorical_features)\n",
    "y_pred = clf.predict(X_valid)\n",
    "\n",
    "\n",
    "probabilities_valid = clf.predict_proba(X_valid)\n",
    "probabilities_one_valid = probabilities_valid[:, 1]\n",
    "auc_roc = roc_auc_score(y_valid, probabilities_one_valid)\n",
    "print('CatBoost Classifier with GridSearchCV hyperparameter tuning scores:')\n",
    "print('AUC-ROC score:',auc_roc)\n",
    "print('F1:', f1_score(y_valid, y_pred))"
   ]
  },
  {
   "cell_type": "markdown",
   "id": "bc6f0593-64fd-4a5b-942d-b1d43ce0c0a5",
   "metadata": {},
   "source": [
    "Interestingly, our initial CatBoost Classifier model outperformed the best parameters indicated by GridSearchCV, so we will use our initial parameters for CatBoost Classifier to evaluate our model using the test set."
   ]
  },
  {
   "cell_type": "markdown",
   "id": "a9ed3153-384a-4a92-83aa-2a3961906975",
   "metadata": {},
   "source": [
    "### Final Model to Assess Test Set <a class=\"anchor\" id=\"chapter1\"></a>\n",
    "\n",
    "Catboost Classifier had the highest AUC_ROC score so we will evaluate it using the test set."
   ]
  },
  {
   "cell_type": "code",
   "execution_count": 246,
   "id": "cba0edf1-46f3-4fde-9fb0-4fd194ad9c46",
   "metadata": {},
   "outputs": [
    {
     "name": "stdout",
     "output_type": "stream",
     "text": [
      "CatBoost Classifier with test set:\n",
      "AUC-ROC score: 0.8377372748930503\n",
      "F1: 0.642706131078224\n"
     ]
    }
   ],
   "source": [
    "# Testing CatBoost Classifier model\n",
    "\n",
    "categorical_features = list(df_final.select_dtypes(include=['object']).columns.values.tolist())\n",
    "\n",
    "clf = CatBoostClassifier(depth= 6, iterations= 100, l2_leaf_reg=7, learning_rate= 0.01, thread_count=4, verbose=False)\n",
    "\n",
    "clf.fit(X_train_resampled, y_train_resampled, \n",
    "          eval_set=(X_test, y_test),\n",
    "          use_best_model=True, \n",
    "          cat_features=categorical_features)\n",
    "y_pred = clf.predict(X_test)\n",
    "\n",
    "probabilities_valid = clf.predict_proba(X_test)\n",
    "probabilities_one_valid = probabilities_valid[:, 1]\n",
    "auc_roc = roc_auc_score(y_test, probabilities_one_valid)\n",
    "print('CatBoost Classifier with test set:')\n",
    "print('AUC-ROC score:',auc_roc)\n",
    "print('F1:', f1_score(y_test, y_pred))"
   ]
  },
  {
   "cell_type": "markdown",
   "id": "feafa278-1648-4c0f-932c-c1b2601039fe",
   "metadata": {},
   "source": [
    "We will examine the importance of the features in the data using Catboost feature_importance attribute."
   ]
  },
  {
   "cell_type": "code",
   "execution_count": 247,
   "id": "3e4cba18-607a-4ebf-a246-cb18b4b810b9",
   "metadata": {},
   "outputs": [
    {
     "data": {
      "text/plain": [
       "Text(0.5, 1.0, 'Feature Importance')"
      ]
     },
     "execution_count": 247,
     "metadata": {},
     "output_type": "execute_result"
    },
    {
     "data": {
      "image/png": "[encoded data removed]",
      "text/plain": [
       "<Figure size 864x720 with 1 Axes>"
      ]
     },
     "metadata": {
      "needs_background": "light"
     },
     "output_type": "display_data"
    }
   ],
   "source": [
    "# Plotting feature importance of Catboost Model\n",
    "\n",
    "X_train = pd.DataFrame(X_train, columns = X.columns)\n",
    "X_test = pd.DataFrame(X_test, columns=X.columns)\n",
    "\n",
    "feature_importance = clf.feature_importances_\n",
    "sorted_idx = np.argsort(feature_importance)\n",
    "fig = plt.figure(figsize=(12, 10))\n",
    "plt.barh(range(len(sorted_idx)), feature_importance[sorted_idx], align='center')\n",
    "plt.yticks(range(len(sorted_idx)), (X_test.columns)[sorted_idx])\n",
    "plt.title('Feature Importance')"
   ]
  },
  {
   "cell_type": "markdown",
   "id": "9e7cdf1d-256f-4b28-ac16-ab4ad093f4bf",
   "metadata": {},
   "source": [
    "We can see from CatBoost feature importance plot that the features that contribute most to predicting churn: longevity, monthlycharges, internet service, techsupport, paymentmethod, onlinesecurity, onlinebackup, and dependents."
   ]
  },
  {
   "cell_type": "markdown",
   "id": "9bca8ce2-7fca-4b0e-8790-69ade800c2d3",
   "metadata": {},
   "source": [
    "## Model Sanity Check <a class=\"anchor\" id=\"section_1_1\"></a>\n",
    "\n",
    "We will use a confusion Matrix to see if our model is really efficient at predicting the positive class. We will interpret the results."
   ]
  },
  {
   "cell_type": "code",
   "execution_count": 248,
   "id": "47fcd8fb-b4d1-4fd0-8935-fc00ff972c96",
   "metadata": {},
   "outputs": [
    {
     "data": {
      "text/plain": [
       "0.7601135557132718"
      ]
     },
     "execution_count": 248,
     "metadata": {},
     "output_type": "execute_result"
    }
   ],
   "source": [
    "target_pred = clf.predict(X_test)\n",
    "acc = clf.score(X_test, y_test)\n",
    "acc"
   ]
  },
  {
   "cell_type": "code",
   "execution_count": 249,
   "id": "6af3b54b-5145-475d-abf6-2f309ac2740c",
   "metadata": {},
   "outputs": [],
   "source": [
    "# Calculating a confusion matrix\n",
    "conf_matrix = metrics.confusion_matrix(y_test, target_pred)"
   ]
  },
  {
   "cell_type": "code",
   "execution_count": 250,
   "id": "0277118d-6df2-4fb5-b30c-2d1459018b8c",
   "metadata": {},
   "outputs": [
    {
     "data": {
      "image/png": "[encoded data removed]",
      "text/plain": [
       "<Figure size 648x648 with 2 Axes>"
      ]
     },
     "metadata": {
      "needs_background": "light"
     },
     "output_type": "display_data"
    }
   ],
   "source": [
    " # Plotting a confusion matrix\n",
    " \n",
    "plt.figure(figsize=(9,9))\n",
    "sns.heatmap(conf_matrix, annot=True, fmt=\".3f\", linewidths=.5, square = True, cmap = 'Blues_r');\n",
    "plt.ylabel('Actual label');\n",
    "plt.xlabel('Predicted label');\n",
    "all_sample_title = 'Accuracy Score: {0}'.format(acc)\n",
    "plt.title(all_sample_title, size = 15);"
   ]
  },
  {
   "cell_type": "markdown",
   "id": "486c29d5-6671-4d28-845e-f009ea36cc88",
   "metadata": {},
   "source": [
    "According to the confusion matrix, the model is predicting both classes and has a precision and recall rate that indicates the model performs better than random. The model correctly predicted churn and no_churn the majority of the time. It looks like the model is slightly favoring the minority class. In this data, it should not be problematic for the company to inaccurately flag customers as churn candidates and offer them incentives to remain, so it is preferable for our model to be better at identifying churn customers even if it is also inaccurately identifying non_churn customers as churn customers."
   ]
  },
  {
   "cell_type": "markdown",
   "id": "ff86c5d4-fe70-4e71-9061-753a04a47db5",
   "metadata": {},
   "source": [
    "## General Conclusion <a class=\"anchor\" id=\"chapter1\"></a>"
   ]
  },
  {
   "cell_type": "markdown",
   "id": "43f8bc9a-7279-44d3-a13f-8deb13cc7285",
   "metadata": {},
   "source": [
    "Our best perfoming model was the CatBoostClassifier model with an AUC-ROC score of 0.84 and an F1 score of 0.64.\n",
    "\n",
    "We can see from the CatBoost feature importance plot the features that contribute most to predicting churn: longevity, monthlycharges, techsupport, paymentmethod, onlinesecurity, and internetservice.\n",
    "\n",
    "Based on our exploratory data analysis and Catboost's feature importance plot, we identified several factors that might lead to a customer to cancel the service:\n",
    "\n",
    "Customers who cancelled were fairly new customers or customers with a lower longevity.  They averaged less than a 10 month longevity compared to customers who remained, who averaged around a 40 month longevity. Churn was moderately negatively correlated with longevity (-0.36), so that the longer a customer remains, the less likely the customer was to churn. Customers who churned had a higher percentage of month-to-month contracts, 88%, compared to no_churn customers where 43% had month-to-month contracts. This indicates that customers who signed up for contracts of a longer duration were less likely to churn.\n",
    "\n",
    "Customers who had a higher monthly fee were more likely to leave. In addition, customers who paid by electronic check were more likely to leave than those who paid by mail check, credit card or bank transfer. It is unclear why electronic check would be associated with churn. It is possible that customers who paid by electronic check did not have an automatic payment and so they saw their invoice each month, which may have motivated them to churn.\n",
    "\n",
    "Also internet service was found to be an important feature in predicting churn. It is worthwhile to explore if churn based on internet serivce was due to the high cost of the service or poor service quality.\n",
    "\n",
    "Other factors that may be associated with churn and need further exploration are techsupport, onlinesecurity, onlinebackup, and dependents.\n",
    "\n",
    "Suggestions to the company to prevent churn:\n",
    "\n",
    "The company might offer a financial incentive to sign up for an annual or multi-annual contract instead of monthly. A customer who is signed up for 12 months or longer has a greater likelihood of remaining. For example, customers could receive a 20% discount to sign up for an annual contract.\n",
    "\n",
    "Also, is possible that if the payments were automatic then month-to-month customers would not think monthly about their monthly fee and would retain the service. Therefore, the company might offer financial incentives to get automatic payments. For example, offer a discount for customers to transfer to an automatic payment plan.\n",
    "\n",
    "In addition, the company could temporarily offer a lower fee for more expensive services such as internet services so that customers would get used to them and be willing to pay the higher fee once the temporary low fee period has ended. "
   ]
  }
 ],
 "metadata": {
  "kernelspec": {
   "display_name": "Python 3 (ipykernel)",
   "language": "python",
   "name": "python3"
  },
  "language_info": {
   "codemirror_mode": {
    "name": "ipython",
    "version": 3
   },
   "file_extension": ".py",
   "mimetype": "text/x-python",
   "name": "python",
   "nbconvert_exporter": "python",
   "pygments_lexer": "ipython3",
   "version": "3.9.12"
  },
  "toc": {
   "base_numbering": 1,
   "nav_menu": {},
   "number_sections": true,
   "sideBar": true,
   "skip_h1_title": true,
   "title_cell": "Table of Contents",
   "title_sidebar": "Contents",
   "toc_cell": false,
   "toc_position": {},
   "toc_section_display": true,
   "toc_window_display": false
  }
 },
 "nbformat": 4,
 "nbformat_minor": 5
}
