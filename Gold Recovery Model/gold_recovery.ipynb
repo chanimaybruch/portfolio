{
 "cells": [
  {
   "cell_type": "markdown",
   "id": "dd6468a2-733e-4c2f-a5e9-85566803d316",
   "metadata": {},
   "source": [
    "# Project Goal\n",
    "\n",
    "Prepare a prototype of a machine learning model for Zyfra to predict the amount of gold recovered from gold ore. The model will help to optimize the production and eliminate unprofitable parameters."
   ]
  },
  {
   "cell_type": "markdown",
   "id": "684d4591-b4b4-41e9-b69b-367be250c46b",
   "metadata": {},
   "source": [
    "# Initializing Data"
   ]
  },
  {
   "cell_type": "code",
   "execution_count": 85,
   "id": "17a3c23b-d046-483b-841d-989c2498f7ad",
   "metadata": {},
   "outputs": [],
   "source": [
    "# importing libraries\n",
    "\n",
    "import pandas as pd\n",
    "import numpy as np\n",
    "import matplotlib.pyplot as plt\n",
    "import seaborn as sns\n",
    "from numpy import nanmean\n",
    "from scipy import stats as st\n",
    "from sklearn.linear_model import LinearRegression\n",
    "from sklearn.tree import DecisionTreeRegressor\n",
    "from sklearn.ensemble import RandomForestRegressor\n",
    "from sklearn.preprocessing import StandardScaler\n",
    "from sklearn.metrics import make_scorer\n",
    "from sklearn.model_selection import cross_val_score\n",
    "from sklearn.model_selection import cross_validate\n",
    "from sklearn.model_selection import cross_val_predict\n",
    "from sklearn.dummy import DummyRegressor\n",
    "from sklearn import metrics\n",
    "from sklearn.metrics import mean_absolute_error\n",
    "from sklearn.model_selection import train_test_split\n",
    "import warnings\n",
    "warnings.filterwarnings('ignore')\n",
    "warnings.simplefilter('ignore')"
   ]
  },
  {
   "cell_type": "code",
   "execution_count": 86,
   "id": "645b661d-5553-4041-a91d-6a277cc8bea7",
   "metadata": {},
   "outputs": [],
   "source": [
    "# Importing Beta Bank file and checking data\n",
    "\n",
    "train = pd.read_csv('gold_recovery_train.csv')\n",
    "test = pd.read_csv('gold_recovery_test.csv')\n",
    "full = pd.read_csv('gold_recovery_full.csv')"
   ]
  },
  {
   "cell_type": "markdown",
   "id": "5577fb48-227f-418c-b28f-fb90ccdaff23",
   "metadata": {},
   "source": [
    "# Data Preprocessing\n",
    "We will preprocess the data of each dataframe at a time."
   ]
  },
  {
   "cell_type": "markdown",
   "id": "0c528141-cfe9-4d29-939b-628105d3fa50",
   "metadata": {
    "tags": []
   },
   "source": [
    "##  Gold Recovery Train Data"
   ]
  },
  {
   "cell_type": "code",
   "execution_count": 87,
   "id": "f0c9f58d-6ab8-4f68-877c-66b536ca6e9a",
   "metadata": {},
   "outputs": [
    {
     "data": {
      "text/html": [
       "<div>\n",
       "<style scoped>\n",
       "    .dataframe tbody tr th:only-of-type {\n",
       "        vertical-align: middle;\n",
       "    }\n",
       "\n",
       "    .dataframe tbody tr th {\n",
       "        vertical-align: top;\n",
       "    }\n",
       "\n",
       "    .dataframe thead th {\n",
       "        text-align: right;\n",
       "    }\n",
       "</style>\n",
       "<table border=\"1\" class=\"dataframe\">\n",
       "  <thead>\n",
       "    <tr style=\"text-align: right;\">\n",
       "      <th></th>\n",
       "      <th>date</th>\n",
       "      <th>final.output.concentrate_ag</th>\n",
       "      <th>final.output.concentrate_pb</th>\n",
       "      <th>final.output.concentrate_sol</th>\n",
       "      <th>final.output.concentrate_au</th>\n",
       "      <th>final.output.recovery</th>\n",
       "      <th>final.output.tail_ag</th>\n",
       "      <th>final.output.tail_pb</th>\n",
       "      <th>final.output.tail_sol</th>\n",
       "      <th>final.output.tail_au</th>\n",
       "      <th>...</th>\n",
       "      <th>secondary_cleaner.state.floatbank4_a_air</th>\n",
       "      <th>secondary_cleaner.state.floatbank4_a_level</th>\n",
       "      <th>secondary_cleaner.state.floatbank4_b_air</th>\n",
       "      <th>secondary_cleaner.state.floatbank4_b_level</th>\n",
       "      <th>secondary_cleaner.state.floatbank5_a_air</th>\n",
       "      <th>secondary_cleaner.state.floatbank5_a_level</th>\n",
       "      <th>secondary_cleaner.state.floatbank5_b_air</th>\n",
       "      <th>secondary_cleaner.state.floatbank5_b_level</th>\n",
       "      <th>secondary_cleaner.state.floatbank6_a_air</th>\n",
       "      <th>secondary_cleaner.state.floatbank6_a_level</th>\n",
       "    </tr>\n",
       "  </thead>\n",
       "  <tbody>\n",
       "    <tr>\n",
       "      <th>0</th>\n",
       "      <td>2016-01-15 00:00:00</td>\n",
       "      <td>6.055403</td>\n",
       "      <td>9.889648</td>\n",
       "      <td>5.507324</td>\n",
       "      <td>42.192020</td>\n",
       "      <td>70.541216</td>\n",
       "      <td>10.411962</td>\n",
       "      <td>0.895447</td>\n",
       "      <td>16.904297</td>\n",
       "      <td>2.143149</td>\n",
       "      <td>...</td>\n",
       "      <td>14.016835</td>\n",
       "      <td>-502.488007</td>\n",
       "      <td>12.099931</td>\n",
       "      <td>-504.715942</td>\n",
       "      <td>9.925633</td>\n",
       "      <td>-498.310211</td>\n",
       "      <td>8.079666</td>\n",
       "      <td>-500.470978</td>\n",
       "      <td>14.151341</td>\n",
       "      <td>-605.841980</td>\n",
       "    </tr>\n",
       "    <tr>\n",
       "      <th>1</th>\n",
       "      <td>2016-01-15 01:00:00</td>\n",
       "      <td>6.029369</td>\n",
       "      <td>9.968944</td>\n",
       "      <td>5.257781</td>\n",
       "      <td>42.701629</td>\n",
       "      <td>69.266198</td>\n",
       "      <td>10.462676</td>\n",
       "      <td>0.927452</td>\n",
       "      <td>16.634514</td>\n",
       "      <td>2.224930</td>\n",
       "      <td>...</td>\n",
       "      <td>13.992281</td>\n",
       "      <td>-505.503262</td>\n",
       "      <td>11.950531</td>\n",
       "      <td>-501.331529</td>\n",
       "      <td>10.039245</td>\n",
       "      <td>-500.169983</td>\n",
       "      <td>7.984757</td>\n",
       "      <td>-500.582168</td>\n",
       "      <td>13.998353</td>\n",
       "      <td>-599.787184</td>\n",
       "    </tr>\n",
       "  </tbody>\n",
       "</table>\n",
       "<p>2 rows × 87 columns</p>\n",
       "</div>"
      ],
      "text/plain": [
       "                  date  final.output.concentrate_ag  \\\n",
       "0  2016-01-15 00:00:00                     6.055403   \n",
       "1  2016-01-15 01:00:00                     6.029369   \n",
       "\n",
       "   final.output.concentrate_pb  final.output.concentrate_sol  \\\n",
       "0                     9.889648                      5.507324   \n",
       "1                     9.968944                      5.257781   \n",
       "\n",
       "   final.output.concentrate_au  final.output.recovery  final.output.tail_ag  \\\n",
       "0                    42.192020              70.541216             10.411962   \n",
       "1                    42.701629              69.266198             10.462676   \n",
       "\n",
       "   final.output.tail_pb  final.output.tail_sol  final.output.tail_au  ...  \\\n",
       "0              0.895447              16.904297              2.143149  ...   \n",
       "1              0.927452              16.634514              2.224930  ...   \n",
       "\n",
       "   secondary_cleaner.state.floatbank4_a_air  \\\n",
       "0                                 14.016835   \n",
       "1                                 13.992281   \n",
       "\n",
       "   secondary_cleaner.state.floatbank4_a_level  \\\n",
       "0                                 -502.488007   \n",
       "1                                 -505.503262   \n",
       "\n",
       "   secondary_cleaner.state.floatbank4_b_air  \\\n",
       "0                                 12.099931   \n",
       "1                                 11.950531   \n",
       "\n",
       "   secondary_cleaner.state.floatbank4_b_level  \\\n",
       "0                                 -504.715942   \n",
       "1                                 -501.331529   \n",
       "\n",
       "   secondary_cleaner.state.floatbank5_a_air  \\\n",
       "0                                  9.925633   \n",
       "1                                 10.039245   \n",
       "\n",
       "   secondary_cleaner.state.floatbank5_a_level  \\\n",
       "0                                 -498.310211   \n",
       "1                                 -500.169983   \n",
       "\n",
       "   secondary_cleaner.state.floatbank5_b_air  \\\n",
       "0                                  8.079666   \n",
       "1                                  7.984757   \n",
       "\n",
       "   secondary_cleaner.state.floatbank5_b_level  \\\n",
       "0                                 -500.470978   \n",
       "1                                 -500.582168   \n",
       "\n",
       "   secondary_cleaner.state.floatbank6_a_air  \\\n",
       "0                                 14.151341   \n",
       "1                                 13.998353   \n",
       "\n",
       "   secondary_cleaner.state.floatbank6_a_level  \n",
       "0                                 -605.841980  \n",
       "1                                 -599.787184  \n",
       "\n",
       "[2 rows x 87 columns]"
      ]
     },
     "execution_count": 87,
     "metadata": {},
     "output_type": "execute_result"
    }
   ],
   "source": [
    "# Review Gold Recovery Train Data\n",
    "train.head(2)"
   ]
  },
  {
   "cell_type": "code",
   "execution_count": 88,
   "id": "50d132a4-e1be-4f10-9bd0-28795b4bf2d8",
   "metadata": {},
   "outputs": [
    {
     "name": "stdout",
     "output_type": "stream",
     "text": [
      "<class 'pandas.core.frame.DataFrame'>\n",
      "RangeIndex: 16860 entries, 0 to 16859\n",
      "Data columns (total 87 columns):\n",
      " #   Column                                              Non-Null Count  Dtype  \n",
      "---  ------                                              --------------  -----  \n",
      " 0   date                                                16860 non-null  object \n",
      " 1   final.output.concentrate_ag                         16788 non-null  float64\n",
      " 2   final.output.concentrate_pb                         16788 non-null  float64\n",
      " 3   final.output.concentrate_sol                        16490 non-null  float64\n",
      " 4   final.output.concentrate_au                         16789 non-null  float64\n",
      " 5   final.output.recovery                               15339 non-null  float64\n",
      " 6   final.output.tail_ag                                16794 non-null  float64\n",
      " 7   final.output.tail_pb                                16677 non-null  float64\n",
      " 8   final.output.tail_sol                               16715 non-null  float64\n",
      " 9   final.output.tail_au                                16794 non-null  float64\n",
      " 10  primary_cleaner.input.sulfate                       15553 non-null  float64\n",
      " 11  primary_cleaner.input.depressant                    15598 non-null  float64\n",
      " 12  primary_cleaner.input.feed_size                     16860 non-null  float64\n",
      " 13  primary_cleaner.input.xanthate                      15875 non-null  float64\n",
      " 14  primary_cleaner.output.concentrate_ag               16778 non-null  float64\n",
      " 15  primary_cleaner.output.concentrate_pb               16502 non-null  float64\n",
      " 16  primary_cleaner.output.concentrate_sol              16224 non-null  float64\n",
      " 17  primary_cleaner.output.concentrate_au               16778 non-null  float64\n",
      " 18  primary_cleaner.output.tail_ag                      16777 non-null  float64\n",
      " 19  primary_cleaner.output.tail_pb                      16761 non-null  float64\n",
      " 20  primary_cleaner.output.tail_sol                     16579 non-null  float64\n",
      " 21  primary_cleaner.output.tail_au                      16777 non-null  float64\n",
      " 22  primary_cleaner.state.floatbank8_a_air              16820 non-null  float64\n",
      " 23  primary_cleaner.state.floatbank8_a_level            16827 non-null  float64\n",
      " 24  primary_cleaner.state.floatbank8_b_air              16820 non-null  float64\n",
      " 25  primary_cleaner.state.floatbank8_b_level            16833 non-null  float64\n",
      " 26  primary_cleaner.state.floatbank8_c_air              16822 non-null  float64\n",
      " 27  primary_cleaner.state.floatbank8_c_level            16833 non-null  float64\n",
      " 28  primary_cleaner.state.floatbank8_d_air              16821 non-null  float64\n",
      " 29  primary_cleaner.state.floatbank8_d_level            16833 non-null  float64\n",
      " 30  rougher.calculation.sulfate_to_au_concentrate       16833 non-null  float64\n",
      " 31  rougher.calculation.floatbank10_sulfate_to_au_feed  16833 non-null  float64\n",
      " 32  rougher.calculation.floatbank11_sulfate_to_au_feed  16833 non-null  float64\n",
      " 33  rougher.calculation.au_pb_ratio                     15618 non-null  float64\n",
      " 34  rougher.input.feed_ag                               16778 non-null  float64\n",
      " 35  rougher.input.feed_pb                               16632 non-null  float64\n",
      " 36  rougher.input.feed_rate                             16347 non-null  float64\n",
      " 37  rougher.input.feed_size                             16443 non-null  float64\n",
      " 38  rougher.input.feed_sol                              16568 non-null  float64\n",
      " 39  rougher.input.feed_au                               16777 non-null  float64\n",
      " 40  rougher.input.floatbank10_sulfate                   15816 non-null  float64\n",
      " 41  rougher.input.floatbank10_xanthate                  16514 non-null  float64\n",
      " 42  rougher.input.floatbank11_sulfate                   16237 non-null  float64\n",
      " 43  rougher.input.floatbank11_xanthate                  14956 non-null  float64\n",
      " 44  rougher.output.concentrate_ag                       16778 non-null  float64\n",
      " 45  rougher.output.concentrate_pb                       16778 non-null  float64\n",
      " 46  rougher.output.concentrate_sol                      16698 non-null  float64\n",
      " 47  rougher.output.concentrate_au                       16778 non-null  float64\n",
      " 48  rougher.output.recovery                             14287 non-null  float64\n",
      " 49  rougher.output.tail_ag                              14610 non-null  float64\n",
      " 50  rougher.output.tail_pb                              16778 non-null  float64\n",
      " 51  rougher.output.tail_sol                             14611 non-null  float64\n",
      " 52  rougher.output.tail_au                              14611 non-null  float64\n",
      " 53  rougher.state.floatbank10_a_air                     16807 non-null  float64\n",
      " 54  rougher.state.floatbank10_a_level                   16807 non-null  float64\n",
      " 55  rougher.state.floatbank10_b_air                     16807 non-null  float64\n",
      " 56  rougher.state.floatbank10_b_level                   16807 non-null  float64\n",
      " 57  rougher.state.floatbank10_c_air                     16807 non-null  float64\n",
      " 58  rougher.state.floatbank10_c_level                   16814 non-null  float64\n",
      " 59  rougher.state.floatbank10_d_air                     16802 non-null  float64\n",
      " 60  rougher.state.floatbank10_d_level                   16809 non-null  float64\n",
      " 61  rougher.state.floatbank10_e_air                     16257 non-null  float64\n",
      " 62  rougher.state.floatbank10_e_level                   16809 non-null  float64\n",
      " 63  rougher.state.floatbank10_f_air                     16802 non-null  float64\n",
      " 64  rougher.state.floatbank10_f_level                   16802 non-null  float64\n",
      " 65  secondary_cleaner.output.tail_ag                    16776 non-null  float64\n",
      " 66  secondary_cleaner.output.tail_pb                    16764 non-null  float64\n",
      " 67  secondary_cleaner.output.tail_sol                   14874 non-null  float64\n",
      " 68  secondary_cleaner.output.tail_au                    16778 non-null  float64\n",
      " 69  secondary_cleaner.state.floatbank2_a_air            16497 non-null  float64\n",
      " 70  secondary_cleaner.state.floatbank2_a_level          16751 non-null  float64\n",
      " 71  secondary_cleaner.state.floatbank2_b_air            16705 non-null  float64\n",
      " 72  secondary_cleaner.state.floatbank2_b_level          16748 non-null  float64\n",
      " 73  secondary_cleaner.state.floatbank3_a_air            16763 non-null  float64\n",
      " 74  secondary_cleaner.state.floatbank3_a_level          16747 non-null  float64\n",
      " 75  secondary_cleaner.state.floatbank3_b_air            16752 non-null  float64\n",
      " 76  secondary_cleaner.state.floatbank3_b_level          16750 non-null  float64\n",
      " 77  secondary_cleaner.state.floatbank4_a_air            16731 non-null  float64\n",
      " 78  secondary_cleaner.state.floatbank4_a_level          16747 non-null  float64\n",
      " 79  secondary_cleaner.state.floatbank4_b_air            16768 non-null  float64\n",
      " 80  secondary_cleaner.state.floatbank4_b_level          16767 non-null  float64\n",
      " 81  secondary_cleaner.state.floatbank5_a_air            16775 non-null  float64\n",
      " 82  secondary_cleaner.state.floatbank5_a_level          16775 non-null  float64\n",
      " 83  secondary_cleaner.state.floatbank5_b_air            16775 non-null  float64\n",
      " 84  secondary_cleaner.state.floatbank5_b_level          16776 non-null  float64\n",
      " 85  secondary_cleaner.state.floatbank6_a_air            16757 non-null  float64\n",
      " 86  secondary_cleaner.state.floatbank6_a_level          16775 non-null  float64\n",
      "dtypes: float64(86), object(1)\n",
      "memory usage: 11.2+ MB\n"
     ]
    }
   ],
   "source": [
    "train.info()"
   ]
  },
  {
   "cell_type": "markdown",
   "id": "56cce618-5669-407b-ae3e-20e109ef9730",
   "metadata": {},
   "source": [
    "In the train dataframe, there were 16860 rows and 87 columns. The date was an object, but the remaining columns were float types. Many of the columns have missing values which will interfere with model training so we will drop the missing values."
   ]
  },
  {
   "cell_type": "code",
   "execution_count": 89,
   "id": "62d047bf-12bd-4233-830b-2776afa3e12a",
   "metadata": {},
   "outputs": [
    {
     "data": {
      "text/html": [
       "<div>\n",
       "<style scoped>\n",
       "    .dataframe tbody tr th:only-of-type {\n",
       "        vertical-align: middle;\n",
       "    }\n",
       "\n",
       "    .dataframe tbody tr th {\n",
       "        vertical-align: top;\n",
       "    }\n",
       "\n",
       "    .dataframe thead th {\n",
       "        text-align: right;\n",
       "    }\n",
       "</style>\n",
       "<table border=\"1\" class=\"dataframe\">\n",
       "  <thead>\n",
       "    <tr style=\"text-align: right;\">\n",
       "      <th></th>\n",
       "      <th>date</th>\n",
       "      <th>final.output.concentrate_ag</th>\n",
       "      <th>final.output.concentrate_pb</th>\n",
       "      <th>final.output.concentrate_sol</th>\n",
       "      <th>final.output.concentrate_au</th>\n",
       "      <th>final.output.recovery</th>\n",
       "      <th>final.output.tail_ag</th>\n",
       "      <th>final.output.tail_pb</th>\n",
       "      <th>final.output.tail_sol</th>\n",
       "      <th>final.output.tail_au</th>\n",
       "      <th>...</th>\n",
       "      <th>secondary_cleaner.state.floatbank4_a_air</th>\n",
       "      <th>secondary_cleaner.state.floatbank4_a_level</th>\n",
       "      <th>secondary_cleaner.state.floatbank4_b_air</th>\n",
       "      <th>secondary_cleaner.state.floatbank4_b_level</th>\n",
       "      <th>secondary_cleaner.state.floatbank5_a_air</th>\n",
       "      <th>secondary_cleaner.state.floatbank5_a_level</th>\n",
       "      <th>secondary_cleaner.state.floatbank5_b_air</th>\n",
       "      <th>secondary_cleaner.state.floatbank5_b_level</th>\n",
       "      <th>secondary_cleaner.state.floatbank6_a_air</th>\n",
       "      <th>secondary_cleaner.state.floatbank6_a_level</th>\n",
       "    </tr>\n",
       "  </thead>\n",
       "  <tbody>\n",
       "  </tbody>\n",
       "</table>\n",
       "<p>0 rows × 87 columns</p>\n",
       "</div>"
      ],
      "text/plain": [
       "Empty DataFrame\n",
       "Columns: [date, final.output.concentrate_ag, final.output.concentrate_pb, final.output.concentrate_sol, final.output.concentrate_au, final.output.recovery, final.output.tail_ag, final.output.tail_pb, final.output.tail_sol, final.output.tail_au, primary_cleaner.input.sulfate, primary_cleaner.input.depressant, primary_cleaner.input.feed_size, primary_cleaner.input.xanthate, primary_cleaner.output.concentrate_ag, primary_cleaner.output.concentrate_pb, primary_cleaner.output.concentrate_sol, primary_cleaner.output.concentrate_au, primary_cleaner.output.tail_ag, primary_cleaner.output.tail_pb, primary_cleaner.output.tail_sol, primary_cleaner.output.tail_au, primary_cleaner.state.floatbank8_a_air, primary_cleaner.state.floatbank8_a_level, primary_cleaner.state.floatbank8_b_air, primary_cleaner.state.floatbank8_b_level, primary_cleaner.state.floatbank8_c_air, primary_cleaner.state.floatbank8_c_level, primary_cleaner.state.floatbank8_d_air, primary_cleaner.state.floatbank8_d_level, rougher.calculation.sulfate_to_au_concentrate, rougher.calculation.floatbank10_sulfate_to_au_feed, rougher.calculation.floatbank11_sulfate_to_au_feed, rougher.calculation.au_pb_ratio, rougher.input.feed_ag, rougher.input.feed_pb, rougher.input.feed_rate, rougher.input.feed_size, rougher.input.feed_sol, rougher.input.feed_au, rougher.input.floatbank10_sulfate, rougher.input.floatbank10_xanthate, rougher.input.floatbank11_sulfate, rougher.input.floatbank11_xanthate, rougher.output.concentrate_ag, rougher.output.concentrate_pb, rougher.output.concentrate_sol, rougher.output.concentrate_au, rougher.output.recovery, rougher.output.tail_ag, rougher.output.tail_pb, rougher.output.tail_sol, rougher.output.tail_au, rougher.state.floatbank10_a_air, rougher.state.floatbank10_a_level, rougher.state.floatbank10_b_air, rougher.state.floatbank10_b_level, rougher.state.floatbank10_c_air, rougher.state.floatbank10_c_level, rougher.state.floatbank10_d_air, rougher.state.floatbank10_d_level, rougher.state.floatbank10_e_air, rougher.state.floatbank10_e_level, rougher.state.floatbank10_f_air, rougher.state.floatbank10_f_level, secondary_cleaner.output.tail_ag, secondary_cleaner.output.tail_pb, secondary_cleaner.output.tail_sol, secondary_cleaner.output.tail_au, secondary_cleaner.state.floatbank2_a_air, secondary_cleaner.state.floatbank2_a_level, secondary_cleaner.state.floatbank2_b_air, secondary_cleaner.state.floatbank2_b_level, secondary_cleaner.state.floatbank3_a_air, secondary_cleaner.state.floatbank3_a_level, secondary_cleaner.state.floatbank3_b_air, secondary_cleaner.state.floatbank3_b_level, secondary_cleaner.state.floatbank4_a_air, secondary_cleaner.state.floatbank4_a_level, secondary_cleaner.state.floatbank4_b_air, secondary_cleaner.state.floatbank4_b_level, secondary_cleaner.state.floatbank5_a_air, secondary_cleaner.state.floatbank5_a_level, secondary_cleaner.state.floatbank5_b_air, secondary_cleaner.state.floatbank5_b_level, secondary_cleaner.state.floatbank6_a_air, secondary_cleaner.state.floatbank6_a_level]\n",
       "Index: []\n",
       "\n",
       "[0 rows x 87 columns]"
      ]
     },
     "execution_count": 89,
     "metadata": {},
     "output_type": "execute_result"
    }
   ],
   "source": [
    "# Checking for duplicates in train\n",
    "\n",
    "duplicate = train[train.duplicated()]\n",
    "duplicate"
   ]
  },
  {
   "cell_type": "markdown",
   "id": "2c87a927-1dbf-4759-bbf4-61d46958606c",
   "metadata": {},
   "source": [
    "There were no duplicates in the train data."
   ]
  },
  {
   "cell_type": "markdown",
   "id": "2bf4d724-e281-48b5-8024-c6733c09ba25",
   "metadata": {},
   "source": [
    "##  Gold Recovery Test Data"
   ]
  },
  {
   "cell_type": "code",
   "execution_count": 90,
   "id": "c012f8c7-4d08-4b86-9fab-0f7301250745",
   "metadata": {},
   "outputs": [
    {
     "data": {
      "text/html": [
       "<div>\n",
       "<style scoped>\n",
       "    .dataframe tbody tr th:only-of-type {\n",
       "        vertical-align: middle;\n",
       "    }\n",
       "\n",
       "    .dataframe tbody tr th {\n",
       "        vertical-align: top;\n",
       "    }\n",
       "\n",
       "    .dataframe thead th {\n",
       "        text-align: right;\n",
       "    }\n",
       "</style>\n",
       "<table border=\"1\" class=\"dataframe\">\n",
       "  <thead>\n",
       "    <tr style=\"text-align: right;\">\n",
       "      <th></th>\n",
       "      <th>date</th>\n",
       "      <th>primary_cleaner.input.sulfate</th>\n",
       "      <th>primary_cleaner.input.depressant</th>\n",
       "      <th>primary_cleaner.input.feed_size</th>\n",
       "      <th>primary_cleaner.input.xanthate</th>\n",
       "      <th>primary_cleaner.state.floatbank8_a_air</th>\n",
       "      <th>primary_cleaner.state.floatbank8_a_level</th>\n",
       "      <th>primary_cleaner.state.floatbank8_b_air</th>\n",
       "      <th>primary_cleaner.state.floatbank8_b_level</th>\n",
       "      <th>primary_cleaner.state.floatbank8_c_air</th>\n",
       "      <th>...</th>\n",
       "      <th>secondary_cleaner.state.floatbank4_a_air</th>\n",
       "      <th>secondary_cleaner.state.floatbank4_a_level</th>\n",
       "      <th>secondary_cleaner.state.floatbank4_b_air</th>\n",
       "      <th>secondary_cleaner.state.floatbank4_b_level</th>\n",
       "      <th>secondary_cleaner.state.floatbank5_a_air</th>\n",
       "      <th>secondary_cleaner.state.floatbank5_a_level</th>\n",
       "      <th>secondary_cleaner.state.floatbank5_b_air</th>\n",
       "      <th>secondary_cleaner.state.floatbank5_b_level</th>\n",
       "      <th>secondary_cleaner.state.floatbank6_a_air</th>\n",
       "      <th>secondary_cleaner.state.floatbank6_a_level</th>\n",
       "    </tr>\n",
       "  </thead>\n",
       "  <tbody>\n",
       "    <tr>\n",
       "      <th>0</th>\n",
       "      <td>2016-09-01 00:59:59</td>\n",
       "      <td>210.800909</td>\n",
       "      <td>14.993118</td>\n",
       "      <td>8.08</td>\n",
       "      <td>1.005021</td>\n",
       "      <td>1398.981301</td>\n",
       "      <td>-500.225577</td>\n",
       "      <td>1399.144926</td>\n",
       "      <td>-499.919735</td>\n",
       "      <td>1400.102998</td>\n",
       "      <td>...</td>\n",
       "      <td>12.023554</td>\n",
       "      <td>-497.795834</td>\n",
       "      <td>8.016656</td>\n",
       "      <td>-501.289139</td>\n",
       "      <td>7.946562</td>\n",
       "      <td>-432.317850</td>\n",
       "      <td>4.872511</td>\n",
       "      <td>-500.037437</td>\n",
       "      <td>26.705889</td>\n",
       "      <td>-499.709414</td>\n",
       "    </tr>\n",
       "    <tr>\n",
       "      <th>1</th>\n",
       "      <td>2016-09-01 01:59:59</td>\n",
       "      <td>215.392455</td>\n",
       "      <td>14.987471</td>\n",
       "      <td>8.08</td>\n",
       "      <td>0.990469</td>\n",
       "      <td>1398.777912</td>\n",
       "      <td>-500.057435</td>\n",
       "      <td>1398.055362</td>\n",
       "      <td>-499.778182</td>\n",
       "      <td>1396.151033</td>\n",
       "      <td>...</td>\n",
       "      <td>12.058140</td>\n",
       "      <td>-498.695773</td>\n",
       "      <td>8.130979</td>\n",
       "      <td>-499.634209</td>\n",
       "      <td>7.958270</td>\n",
       "      <td>-525.839648</td>\n",
       "      <td>4.878850</td>\n",
       "      <td>-500.162375</td>\n",
       "      <td>25.019940</td>\n",
       "      <td>-499.819438</td>\n",
       "    </tr>\n",
       "  </tbody>\n",
       "</table>\n",
       "<p>2 rows × 53 columns</p>\n",
       "</div>"
      ],
      "text/plain": [
       "                  date  primary_cleaner.input.sulfate  \\\n",
       "0  2016-09-01 00:59:59                     210.800909   \n",
       "1  2016-09-01 01:59:59                     215.392455   \n",
       "\n",
       "   primary_cleaner.input.depressant  primary_cleaner.input.feed_size  \\\n",
       "0                         14.993118                             8.08   \n",
       "1                         14.987471                             8.08   \n",
       "\n",
       "   primary_cleaner.input.xanthate  primary_cleaner.state.floatbank8_a_air  \\\n",
       "0                        1.005021                             1398.981301   \n",
       "1                        0.990469                             1398.777912   \n",
       "\n",
       "   primary_cleaner.state.floatbank8_a_level  \\\n",
       "0                               -500.225577   \n",
       "1                               -500.057435   \n",
       "\n",
       "   primary_cleaner.state.floatbank8_b_air  \\\n",
       "0                             1399.144926   \n",
       "1                             1398.055362   \n",
       "\n",
       "   primary_cleaner.state.floatbank8_b_level  \\\n",
       "0                               -499.919735   \n",
       "1                               -499.778182   \n",
       "\n",
       "   primary_cleaner.state.floatbank8_c_air  ...  \\\n",
       "0                             1400.102998  ...   \n",
       "1                             1396.151033  ...   \n",
       "\n",
       "   secondary_cleaner.state.floatbank4_a_air  \\\n",
       "0                                 12.023554   \n",
       "1                                 12.058140   \n",
       "\n",
       "   secondary_cleaner.state.floatbank4_a_level  \\\n",
       "0                                 -497.795834   \n",
       "1                                 -498.695773   \n",
       "\n",
       "   secondary_cleaner.state.floatbank4_b_air  \\\n",
       "0                                  8.016656   \n",
       "1                                  8.130979   \n",
       "\n",
       "   secondary_cleaner.state.floatbank4_b_level  \\\n",
       "0                                 -501.289139   \n",
       "1                                 -499.634209   \n",
       "\n",
       "   secondary_cleaner.state.floatbank5_a_air  \\\n",
       "0                                  7.946562   \n",
       "1                                  7.958270   \n",
       "\n",
       "   secondary_cleaner.state.floatbank5_a_level  \\\n",
       "0                                 -432.317850   \n",
       "1                                 -525.839648   \n",
       "\n",
       "   secondary_cleaner.state.floatbank5_b_air  \\\n",
       "0                                  4.872511   \n",
       "1                                  4.878850   \n",
       "\n",
       "   secondary_cleaner.state.floatbank5_b_level  \\\n",
       "0                                 -500.037437   \n",
       "1                                 -500.162375   \n",
       "\n",
       "   secondary_cleaner.state.floatbank6_a_air  \\\n",
       "0                                 26.705889   \n",
       "1                                 25.019940   \n",
       "\n",
       "   secondary_cleaner.state.floatbank6_a_level  \n",
       "0                                 -499.709414  \n",
       "1                                 -499.819438  \n",
       "\n",
       "[2 rows x 53 columns]"
      ]
     },
     "execution_count": 90,
     "metadata": {},
     "output_type": "execute_result"
    }
   ],
   "source": [
    "# Review Gold Recovery Test Data\n",
    "\n",
    "test.head(2)"
   ]
  },
  {
   "cell_type": "code",
   "execution_count": 91,
   "id": "62a5a1ef-2aab-4f4a-961c-7520ec6ba199",
   "metadata": {},
   "outputs": [
    {
     "name": "stdout",
     "output_type": "stream",
     "text": [
      "<class 'pandas.core.frame.DataFrame'>\n",
      "RangeIndex: 5856 entries, 0 to 5855\n",
      "Data columns (total 53 columns):\n",
      " #   Column                                      Non-Null Count  Dtype  \n",
      "---  ------                                      --------------  -----  \n",
      " 0   date                                        5856 non-null   object \n",
      " 1   primary_cleaner.input.sulfate               5554 non-null   float64\n",
      " 2   primary_cleaner.input.depressant            5572 non-null   float64\n",
      " 3   primary_cleaner.input.feed_size             5856 non-null   float64\n",
      " 4   primary_cleaner.input.xanthate              5690 non-null   float64\n",
      " 5   primary_cleaner.state.floatbank8_a_air      5840 non-null   float64\n",
      " 6   primary_cleaner.state.floatbank8_a_level    5840 non-null   float64\n",
      " 7   primary_cleaner.state.floatbank8_b_air      5840 non-null   float64\n",
      " 8   primary_cleaner.state.floatbank8_b_level    5840 non-null   float64\n",
      " 9   primary_cleaner.state.floatbank8_c_air      5840 non-null   float64\n",
      " 10  primary_cleaner.state.floatbank8_c_level    5840 non-null   float64\n",
      " 11  primary_cleaner.state.floatbank8_d_air      5840 non-null   float64\n",
      " 12  primary_cleaner.state.floatbank8_d_level    5840 non-null   float64\n",
      " 13  rougher.input.feed_ag                       5840 non-null   float64\n",
      " 14  rougher.input.feed_pb                       5840 non-null   float64\n",
      " 15  rougher.input.feed_rate                     5816 non-null   float64\n",
      " 16  rougher.input.feed_size                     5834 non-null   float64\n",
      " 17  rougher.input.feed_sol                      5789 non-null   float64\n",
      " 18  rougher.input.feed_au                       5840 non-null   float64\n",
      " 19  rougher.input.floatbank10_sulfate           5599 non-null   float64\n",
      " 20  rougher.input.floatbank10_xanthate          5733 non-null   float64\n",
      " 21  rougher.input.floatbank11_sulfate           5801 non-null   float64\n",
      " 22  rougher.input.floatbank11_xanthate          5503 non-null   float64\n",
      " 23  rougher.state.floatbank10_a_air             5839 non-null   float64\n",
      " 24  rougher.state.floatbank10_a_level           5840 non-null   float64\n",
      " 25  rougher.state.floatbank10_b_air             5839 non-null   float64\n",
      " 26  rougher.state.floatbank10_b_level           5840 non-null   float64\n",
      " 27  rougher.state.floatbank10_c_air             5839 non-null   float64\n",
      " 28  rougher.state.floatbank10_c_level           5840 non-null   float64\n",
      " 29  rougher.state.floatbank10_d_air             5839 non-null   float64\n",
      " 30  rougher.state.floatbank10_d_level           5840 non-null   float64\n",
      " 31  rougher.state.floatbank10_e_air             5839 non-null   float64\n",
      " 32  rougher.state.floatbank10_e_level           5840 non-null   float64\n",
      " 33  rougher.state.floatbank10_f_air             5839 non-null   float64\n",
      " 34  rougher.state.floatbank10_f_level           5840 non-null   float64\n",
      " 35  secondary_cleaner.state.floatbank2_a_air    5836 non-null   float64\n",
      " 36  secondary_cleaner.state.floatbank2_a_level  5840 non-null   float64\n",
      " 37  secondary_cleaner.state.floatbank2_b_air    5833 non-null   float64\n",
      " 38  secondary_cleaner.state.floatbank2_b_level  5840 non-null   float64\n",
      " 39  secondary_cleaner.state.floatbank3_a_air    5822 non-null   float64\n",
      " 40  secondary_cleaner.state.floatbank3_a_level  5840 non-null   float64\n",
      " 41  secondary_cleaner.state.floatbank3_b_air    5840 non-null   float64\n",
      " 42  secondary_cleaner.state.floatbank3_b_level  5840 non-null   float64\n",
      " 43  secondary_cleaner.state.floatbank4_a_air    5840 non-null   float64\n",
      " 44  secondary_cleaner.state.floatbank4_a_level  5840 non-null   float64\n",
      " 45  secondary_cleaner.state.floatbank4_b_air    5840 non-null   float64\n",
      " 46  secondary_cleaner.state.floatbank4_b_level  5840 non-null   float64\n",
      " 47  secondary_cleaner.state.floatbank5_a_air    5840 non-null   float64\n",
      " 48  secondary_cleaner.state.floatbank5_a_level  5840 non-null   float64\n",
      " 49  secondary_cleaner.state.floatbank5_b_air    5840 non-null   float64\n",
      " 50  secondary_cleaner.state.floatbank5_b_level  5840 non-null   float64\n",
      " 51  secondary_cleaner.state.floatbank6_a_air    5840 non-null   float64\n",
      " 52  secondary_cleaner.state.floatbank6_a_level  5840 non-null   float64\n",
      "dtypes: float64(52), object(1)\n",
      "memory usage: 2.4+ MB\n"
     ]
    }
   ],
   "source": [
    "test.info()"
   ]
  },
  {
   "cell_type": "markdown",
   "id": "4be8cc4d-8d7c-43ff-9e80-592ebd19f3b1",
   "metadata": {},
   "source": [
    "In the test data, there were 5856 rows and 53 columns.  The date was an object, but the remaining columns were float types. Many of the columns have missing values which will interfere with model training so we will drop the missing values."
   ]
  },
  {
   "cell_type": "code",
   "execution_count": 92,
   "id": "70d249cb-d7f1-4423-9159-ba55ef267d1d",
   "metadata": {},
   "outputs": [
    {
     "data": {
      "text/html": [
       "<div>\n",
       "<style scoped>\n",
       "    .dataframe tbody tr th:only-of-type {\n",
       "        vertical-align: middle;\n",
       "    }\n",
       "\n",
       "    .dataframe tbody tr th {\n",
       "        vertical-align: top;\n",
       "    }\n",
       "\n",
       "    .dataframe thead th {\n",
       "        text-align: right;\n",
       "    }\n",
       "</style>\n",
       "<table border=\"1\" class=\"dataframe\">\n",
       "  <thead>\n",
       "    <tr style=\"text-align: right;\">\n",
       "      <th></th>\n",
       "      <th>date</th>\n",
       "      <th>primary_cleaner.input.sulfate</th>\n",
       "      <th>primary_cleaner.input.depressant</th>\n",
       "      <th>primary_cleaner.input.feed_size</th>\n",
       "      <th>primary_cleaner.input.xanthate</th>\n",
       "      <th>primary_cleaner.state.floatbank8_a_air</th>\n",
       "      <th>primary_cleaner.state.floatbank8_a_level</th>\n",
       "      <th>primary_cleaner.state.floatbank8_b_air</th>\n",
       "      <th>primary_cleaner.state.floatbank8_b_level</th>\n",
       "      <th>primary_cleaner.state.floatbank8_c_air</th>\n",
       "      <th>...</th>\n",
       "      <th>secondary_cleaner.state.floatbank4_a_air</th>\n",
       "      <th>secondary_cleaner.state.floatbank4_a_level</th>\n",
       "      <th>secondary_cleaner.state.floatbank4_b_air</th>\n",
       "      <th>secondary_cleaner.state.floatbank4_b_level</th>\n",
       "      <th>secondary_cleaner.state.floatbank5_a_air</th>\n",
       "      <th>secondary_cleaner.state.floatbank5_a_level</th>\n",
       "      <th>secondary_cleaner.state.floatbank5_b_air</th>\n",
       "      <th>secondary_cleaner.state.floatbank5_b_level</th>\n",
       "      <th>secondary_cleaner.state.floatbank6_a_air</th>\n",
       "      <th>secondary_cleaner.state.floatbank6_a_level</th>\n",
       "    </tr>\n",
       "  </thead>\n",
       "  <tbody>\n",
       "  </tbody>\n",
       "</table>\n",
       "<p>0 rows × 53 columns</p>\n",
       "</div>"
      ],
      "text/plain": [
       "Empty DataFrame\n",
       "Columns: [date, primary_cleaner.input.sulfate, primary_cleaner.input.depressant, primary_cleaner.input.feed_size, primary_cleaner.input.xanthate, primary_cleaner.state.floatbank8_a_air, primary_cleaner.state.floatbank8_a_level, primary_cleaner.state.floatbank8_b_air, primary_cleaner.state.floatbank8_b_level, primary_cleaner.state.floatbank8_c_air, primary_cleaner.state.floatbank8_c_level, primary_cleaner.state.floatbank8_d_air, primary_cleaner.state.floatbank8_d_level, rougher.input.feed_ag, rougher.input.feed_pb, rougher.input.feed_rate, rougher.input.feed_size, rougher.input.feed_sol, rougher.input.feed_au, rougher.input.floatbank10_sulfate, rougher.input.floatbank10_xanthate, rougher.input.floatbank11_sulfate, rougher.input.floatbank11_xanthate, rougher.state.floatbank10_a_air, rougher.state.floatbank10_a_level, rougher.state.floatbank10_b_air, rougher.state.floatbank10_b_level, rougher.state.floatbank10_c_air, rougher.state.floatbank10_c_level, rougher.state.floatbank10_d_air, rougher.state.floatbank10_d_level, rougher.state.floatbank10_e_air, rougher.state.floatbank10_e_level, rougher.state.floatbank10_f_air, rougher.state.floatbank10_f_level, secondary_cleaner.state.floatbank2_a_air, secondary_cleaner.state.floatbank2_a_level, secondary_cleaner.state.floatbank2_b_air, secondary_cleaner.state.floatbank2_b_level, secondary_cleaner.state.floatbank3_a_air, secondary_cleaner.state.floatbank3_a_level, secondary_cleaner.state.floatbank3_b_air, secondary_cleaner.state.floatbank3_b_level, secondary_cleaner.state.floatbank4_a_air, secondary_cleaner.state.floatbank4_a_level, secondary_cleaner.state.floatbank4_b_air, secondary_cleaner.state.floatbank4_b_level, secondary_cleaner.state.floatbank5_a_air, secondary_cleaner.state.floatbank5_a_level, secondary_cleaner.state.floatbank5_b_air, secondary_cleaner.state.floatbank5_b_level, secondary_cleaner.state.floatbank6_a_air, secondary_cleaner.state.floatbank6_a_level]\n",
       "Index: []\n",
       "\n",
       "[0 rows x 53 columns]"
      ]
     },
     "execution_count": 92,
     "metadata": {},
     "output_type": "execute_result"
    }
   ],
   "source": [
    "# Checking for duplicates in test\n",
    "\n",
    "duplicate = test[test.duplicated()]\n",
    "duplicate"
   ]
  },
  {
   "cell_type": "markdown",
   "id": "9aa37fbf-18bf-40b2-ab99-6110b6f45d1a",
   "metadata": {},
   "source": [
    "There were no duplicates in the train data."
   ]
  },
  {
   "cell_type": "markdown",
   "id": "fd65e7f3-4919-42c9-8ac6-389683d0cc27",
   "metadata": {},
   "source": [
    "###  Gold Recovery Full Data"
   ]
  },
  {
   "cell_type": "code",
   "execution_count": 93,
   "id": "ba9784ce-cd95-4160-bb2b-37cee1e90b3a",
   "metadata": {},
   "outputs": [
    {
     "data": {
      "text/html": [
       "<div>\n",
       "<style scoped>\n",
       "    .dataframe tbody tr th:only-of-type {\n",
       "        vertical-align: middle;\n",
       "    }\n",
       "\n",
       "    .dataframe tbody tr th {\n",
       "        vertical-align: top;\n",
       "    }\n",
       "\n",
       "    .dataframe thead th {\n",
       "        text-align: right;\n",
       "    }\n",
       "</style>\n",
       "<table border=\"1\" class=\"dataframe\">\n",
       "  <thead>\n",
       "    <tr style=\"text-align: right;\">\n",
       "      <th></th>\n",
       "      <th>date</th>\n",
       "      <th>final.output.concentrate_ag</th>\n",
       "      <th>final.output.concentrate_pb</th>\n",
       "      <th>final.output.concentrate_sol</th>\n",
       "      <th>final.output.concentrate_au</th>\n",
       "      <th>final.output.recovery</th>\n",
       "      <th>final.output.tail_ag</th>\n",
       "      <th>final.output.tail_pb</th>\n",
       "      <th>final.output.tail_sol</th>\n",
       "      <th>final.output.tail_au</th>\n",
       "      <th>...</th>\n",
       "      <th>secondary_cleaner.state.floatbank4_a_air</th>\n",
       "      <th>secondary_cleaner.state.floatbank4_a_level</th>\n",
       "      <th>secondary_cleaner.state.floatbank4_b_air</th>\n",
       "      <th>secondary_cleaner.state.floatbank4_b_level</th>\n",
       "      <th>secondary_cleaner.state.floatbank5_a_air</th>\n",
       "      <th>secondary_cleaner.state.floatbank5_a_level</th>\n",
       "      <th>secondary_cleaner.state.floatbank5_b_air</th>\n",
       "      <th>secondary_cleaner.state.floatbank5_b_level</th>\n",
       "      <th>secondary_cleaner.state.floatbank6_a_air</th>\n",
       "      <th>secondary_cleaner.state.floatbank6_a_level</th>\n",
       "    </tr>\n",
       "  </thead>\n",
       "  <tbody>\n",
       "    <tr>\n",
       "      <th>0</th>\n",
       "      <td>2016-01-15 00:00:00</td>\n",
       "      <td>6.055403</td>\n",
       "      <td>9.889648</td>\n",
       "      <td>5.507324</td>\n",
       "      <td>42.192020</td>\n",
       "      <td>70.541216</td>\n",
       "      <td>10.411962</td>\n",
       "      <td>0.895447</td>\n",
       "      <td>16.904297</td>\n",
       "      <td>2.143149</td>\n",
       "      <td>...</td>\n",
       "      <td>14.016835</td>\n",
       "      <td>-502.488007</td>\n",
       "      <td>12.099931</td>\n",
       "      <td>-504.715942</td>\n",
       "      <td>9.925633</td>\n",
       "      <td>-498.310211</td>\n",
       "      <td>8.079666</td>\n",
       "      <td>-500.470978</td>\n",
       "      <td>14.151341</td>\n",
       "      <td>-605.841980</td>\n",
       "    </tr>\n",
       "    <tr>\n",
       "      <th>1</th>\n",
       "      <td>2016-01-15 01:00:00</td>\n",
       "      <td>6.029369</td>\n",
       "      <td>9.968944</td>\n",
       "      <td>5.257781</td>\n",
       "      <td>42.701629</td>\n",
       "      <td>69.266198</td>\n",
       "      <td>10.462676</td>\n",
       "      <td>0.927452</td>\n",
       "      <td>16.634514</td>\n",
       "      <td>2.224930</td>\n",
       "      <td>...</td>\n",
       "      <td>13.992281</td>\n",
       "      <td>-505.503262</td>\n",
       "      <td>11.950531</td>\n",
       "      <td>-501.331529</td>\n",
       "      <td>10.039245</td>\n",
       "      <td>-500.169983</td>\n",
       "      <td>7.984757</td>\n",
       "      <td>-500.582168</td>\n",
       "      <td>13.998353</td>\n",
       "      <td>-599.787184</td>\n",
       "    </tr>\n",
       "  </tbody>\n",
       "</table>\n",
       "<p>2 rows × 87 columns</p>\n",
       "</div>"
      ],
      "text/plain": [
       "                  date  final.output.concentrate_ag  \\\n",
       "0  2016-01-15 00:00:00                     6.055403   \n",
       "1  2016-01-15 01:00:00                     6.029369   \n",
       "\n",
       "   final.output.concentrate_pb  final.output.concentrate_sol  \\\n",
       "0                     9.889648                      5.507324   \n",
       "1                     9.968944                      5.257781   \n",
       "\n",
       "   final.output.concentrate_au  final.output.recovery  final.output.tail_ag  \\\n",
       "0                    42.192020              70.541216             10.411962   \n",
       "1                    42.701629              69.266198             10.462676   \n",
       "\n",
       "   final.output.tail_pb  final.output.tail_sol  final.output.tail_au  ...  \\\n",
       "0              0.895447              16.904297              2.143149  ...   \n",
       "1              0.927452              16.634514              2.224930  ...   \n",
       "\n",
       "   secondary_cleaner.state.floatbank4_a_air  \\\n",
       "0                                 14.016835   \n",
       "1                                 13.992281   \n",
       "\n",
       "   secondary_cleaner.state.floatbank4_a_level  \\\n",
       "0                                 -502.488007   \n",
       "1                                 -505.503262   \n",
       "\n",
       "   secondary_cleaner.state.floatbank4_b_air  \\\n",
       "0                                 12.099931   \n",
       "1                                 11.950531   \n",
       "\n",
       "   secondary_cleaner.state.floatbank4_b_level  \\\n",
       "0                                 -504.715942   \n",
       "1                                 -501.331529   \n",
       "\n",
       "   secondary_cleaner.state.floatbank5_a_air  \\\n",
       "0                                  9.925633   \n",
       "1                                 10.039245   \n",
       "\n",
       "   secondary_cleaner.state.floatbank5_a_level  \\\n",
       "0                                 -498.310211   \n",
       "1                                 -500.169983   \n",
       "\n",
       "   secondary_cleaner.state.floatbank5_b_air  \\\n",
       "0                                  8.079666   \n",
       "1                                  7.984757   \n",
       "\n",
       "   secondary_cleaner.state.floatbank5_b_level  \\\n",
       "0                                 -500.470978   \n",
       "1                                 -500.582168   \n",
       "\n",
       "   secondary_cleaner.state.floatbank6_a_air  \\\n",
       "0                                 14.151341   \n",
       "1                                 13.998353   \n",
       "\n",
       "   secondary_cleaner.state.floatbank6_a_level  \n",
       "0                                 -605.841980  \n",
       "1                                 -599.787184  \n",
       "\n",
       "[2 rows x 87 columns]"
      ]
     },
     "execution_count": 93,
     "metadata": {},
     "output_type": "execute_result"
    }
   ],
   "source": [
    "# Review Gold Recovery Full Data\n",
    "\n",
    "full.head(2)"
   ]
  },
  {
   "cell_type": "code",
   "execution_count": 94,
   "id": "003b5f4b-5c93-4565-bcb2-469943eb24c4",
   "metadata": {},
   "outputs": [
    {
     "name": "stdout",
     "output_type": "stream",
     "text": [
      "<class 'pandas.core.frame.DataFrame'>\n",
      "RangeIndex: 22716 entries, 0 to 22715\n",
      "Data columns (total 87 columns):\n",
      " #   Column                                              Non-Null Count  Dtype  \n",
      "---  ------                                              --------------  -----  \n",
      " 0   date                                                22716 non-null  object \n",
      " 1   final.output.concentrate_ag                         22627 non-null  float64\n",
      " 2   final.output.concentrate_pb                         22629 non-null  float64\n",
      " 3   final.output.concentrate_sol                        22331 non-null  float64\n",
      " 4   final.output.concentrate_au                         22630 non-null  float64\n",
      " 5   final.output.recovery                               20753 non-null  float64\n",
      " 6   final.output.tail_ag                                22633 non-null  float64\n",
      " 7   final.output.tail_pb                                22516 non-null  float64\n",
      " 8   final.output.tail_sol                               22445 non-null  float64\n",
      " 9   final.output.tail_au                                22635 non-null  float64\n",
      " 10  primary_cleaner.input.sulfate                       21107 non-null  float64\n",
      " 11  primary_cleaner.input.depressant                    21170 non-null  float64\n",
      " 12  primary_cleaner.input.feed_size                     22716 non-null  float64\n",
      " 13  primary_cleaner.input.xanthate                      21565 non-null  float64\n",
      " 14  primary_cleaner.output.concentrate_ag               22618 non-null  float64\n",
      " 15  primary_cleaner.output.concentrate_pb               22268 non-null  float64\n",
      " 16  primary_cleaner.output.concentrate_sol              21918 non-null  float64\n",
      " 17  primary_cleaner.output.concentrate_au               22618 non-null  float64\n",
      " 18  primary_cleaner.output.tail_ag                      22614 non-null  float64\n",
      " 19  primary_cleaner.output.tail_pb                      22594 non-null  float64\n",
      " 20  primary_cleaner.output.tail_sol                     22365 non-null  float64\n",
      " 21  primary_cleaner.output.tail_au                      22617 non-null  float64\n",
      " 22  primary_cleaner.state.floatbank8_a_air              22660 non-null  float64\n",
      " 23  primary_cleaner.state.floatbank8_a_level            22667 non-null  float64\n",
      " 24  primary_cleaner.state.floatbank8_b_air              22660 non-null  float64\n",
      " 25  primary_cleaner.state.floatbank8_b_level            22673 non-null  float64\n",
      " 26  primary_cleaner.state.floatbank8_c_air              22662 non-null  float64\n",
      " 27  primary_cleaner.state.floatbank8_c_level            22673 non-null  float64\n",
      " 28  primary_cleaner.state.floatbank8_d_air              22661 non-null  float64\n",
      " 29  primary_cleaner.state.floatbank8_d_level            22673 non-null  float64\n",
      " 30  rougher.calculation.sulfate_to_au_concentrate       22672 non-null  float64\n",
      " 31  rougher.calculation.floatbank10_sulfate_to_au_feed  22672 non-null  float64\n",
      " 32  rougher.calculation.floatbank11_sulfate_to_au_feed  22672 non-null  float64\n",
      " 33  rougher.calculation.au_pb_ratio                     21089 non-null  float64\n",
      " 34  rougher.input.feed_ag                               22618 non-null  float64\n",
      " 35  rougher.input.feed_pb                               22472 non-null  float64\n",
      " 36  rougher.input.feed_rate                             22163 non-null  float64\n",
      " 37  rougher.input.feed_size                             22277 non-null  float64\n",
      " 38  rougher.input.feed_sol                              22357 non-null  float64\n",
      " 39  rougher.input.feed_au                               22617 non-null  float64\n",
      " 40  rougher.input.floatbank10_sulfate                   21415 non-null  float64\n",
      " 41  rougher.input.floatbank10_xanthate                  22247 non-null  float64\n",
      " 42  rougher.input.floatbank11_sulfate                   22038 non-null  float64\n",
      " 43  rougher.input.floatbank11_xanthate                  20459 non-null  float64\n",
      " 44  rougher.output.concentrate_ag                       22618 non-null  float64\n",
      " 45  rougher.output.concentrate_pb                       22618 non-null  float64\n",
      " 46  rougher.output.concentrate_sol                      22526 non-null  float64\n",
      " 47  rougher.output.concentrate_au                       22618 non-null  float64\n",
      " 48  rougher.output.recovery                             19597 non-null  float64\n",
      " 49  rougher.output.tail_ag                              19979 non-null  float64\n",
      " 50  rougher.output.tail_pb                              22618 non-null  float64\n",
      " 51  rougher.output.tail_sol                             19980 non-null  float64\n",
      " 52  rougher.output.tail_au                              19980 non-null  float64\n",
      " 53  rougher.state.floatbank10_a_air                     22646 non-null  float64\n",
      " 54  rougher.state.floatbank10_a_level                   22647 non-null  float64\n",
      " 55  rougher.state.floatbank10_b_air                     22646 non-null  float64\n",
      " 56  rougher.state.floatbank10_b_level                   22647 non-null  float64\n",
      " 57  rougher.state.floatbank10_c_air                     22646 non-null  float64\n",
      " 58  rougher.state.floatbank10_c_level                   22654 non-null  float64\n",
      " 59  rougher.state.floatbank10_d_air                     22641 non-null  float64\n",
      " 60  rougher.state.floatbank10_d_level                   22649 non-null  float64\n",
      " 61  rougher.state.floatbank10_e_air                     22096 non-null  float64\n",
      " 62  rougher.state.floatbank10_e_level                   22649 non-null  float64\n",
      " 63  rougher.state.floatbank10_f_air                     22641 non-null  float64\n",
      " 64  rougher.state.floatbank10_f_level                   22642 non-null  float64\n",
      " 65  secondary_cleaner.output.tail_ag                    22616 non-null  float64\n",
      " 66  secondary_cleaner.output.tail_pb                    22600 non-null  float64\n",
      " 67  secondary_cleaner.output.tail_sol                   20501 non-null  float64\n",
      " 68  secondary_cleaner.output.tail_au                    22618 non-null  float64\n",
      " 69  secondary_cleaner.state.floatbank2_a_air            22333 non-null  float64\n",
      " 70  secondary_cleaner.state.floatbank2_a_level          22591 non-null  float64\n",
      " 71  secondary_cleaner.state.floatbank2_b_air            22538 non-null  float64\n",
      " 72  secondary_cleaner.state.floatbank2_b_level          22588 non-null  float64\n",
      " 73  secondary_cleaner.state.floatbank3_a_air            22585 non-null  float64\n",
      " 74  secondary_cleaner.state.floatbank3_a_level          22587 non-null  float64\n",
      " 75  secondary_cleaner.state.floatbank3_b_air            22592 non-null  float64\n",
      " 76  secondary_cleaner.state.floatbank3_b_level          22590 non-null  float64\n",
      " 77  secondary_cleaner.state.floatbank4_a_air            22571 non-null  float64\n",
      " 78  secondary_cleaner.state.floatbank4_a_level          22587 non-null  float64\n",
      " 79  secondary_cleaner.state.floatbank4_b_air            22608 non-null  float64\n",
      " 80  secondary_cleaner.state.floatbank4_b_level          22607 non-null  float64\n",
      " 81  secondary_cleaner.state.floatbank5_a_air            22615 non-null  float64\n",
      " 82  secondary_cleaner.state.floatbank5_a_level          22615 non-null  float64\n",
      " 83  secondary_cleaner.state.floatbank5_b_air            22615 non-null  float64\n",
      " 84  secondary_cleaner.state.floatbank5_b_level          22616 non-null  float64\n",
      " 85  secondary_cleaner.state.floatbank6_a_air            22597 non-null  float64\n",
      " 86  secondary_cleaner.state.floatbank6_a_level          22615 non-null  float64\n",
      "dtypes: float64(86), object(1)\n",
      "memory usage: 15.1+ MB\n"
     ]
    }
   ],
   "source": [
    "full.info()"
   ]
  },
  {
   "cell_type": "markdown",
   "id": "426f53d7-962d-4431-9e61-9fae4e4cdf6c",
   "metadata": {},
   "source": [
    "In the full data, there were 22716 rows and 87 columns. The data was an object, but the remaining columns were float types. Many of the columns have missing values which will interfere with model training so we will drop the missing values later on."
   ]
  },
  {
   "cell_type": "code",
   "execution_count": 95,
   "id": "4db84fea-4012-45c8-8d5a-473d48fd505a",
   "metadata": {},
   "outputs": [
    {
     "data": {
      "text/html": [
       "<div>\n",
       "<style scoped>\n",
       "    .dataframe tbody tr th:only-of-type {\n",
       "        vertical-align: middle;\n",
       "    }\n",
       "\n",
       "    .dataframe tbody tr th {\n",
       "        vertical-align: top;\n",
       "    }\n",
       "\n",
       "    .dataframe thead th {\n",
       "        text-align: right;\n",
       "    }\n",
       "</style>\n",
       "<table border=\"1\" class=\"dataframe\">\n",
       "  <thead>\n",
       "    <tr style=\"text-align: right;\">\n",
       "      <th></th>\n",
       "      <th>date</th>\n",
       "      <th>final.output.concentrate_ag</th>\n",
       "      <th>final.output.concentrate_pb</th>\n",
       "      <th>final.output.concentrate_sol</th>\n",
       "      <th>final.output.concentrate_au</th>\n",
       "      <th>final.output.recovery</th>\n",
       "      <th>final.output.tail_ag</th>\n",
       "      <th>final.output.tail_pb</th>\n",
       "      <th>final.output.tail_sol</th>\n",
       "      <th>final.output.tail_au</th>\n",
       "      <th>...</th>\n",
       "      <th>secondary_cleaner.state.floatbank4_a_air</th>\n",
       "      <th>secondary_cleaner.state.floatbank4_a_level</th>\n",
       "      <th>secondary_cleaner.state.floatbank4_b_air</th>\n",
       "      <th>secondary_cleaner.state.floatbank4_b_level</th>\n",
       "      <th>secondary_cleaner.state.floatbank5_a_air</th>\n",
       "      <th>secondary_cleaner.state.floatbank5_a_level</th>\n",
       "      <th>secondary_cleaner.state.floatbank5_b_air</th>\n",
       "      <th>secondary_cleaner.state.floatbank5_b_level</th>\n",
       "      <th>secondary_cleaner.state.floatbank6_a_air</th>\n",
       "      <th>secondary_cleaner.state.floatbank6_a_level</th>\n",
       "    </tr>\n",
       "  </thead>\n",
       "  <tbody>\n",
       "  </tbody>\n",
       "</table>\n",
       "<p>0 rows × 87 columns</p>\n",
       "</div>"
      ],
      "text/plain": [
       "Empty DataFrame\n",
       "Columns: [date, final.output.concentrate_ag, final.output.concentrate_pb, final.output.concentrate_sol, final.output.concentrate_au, final.output.recovery, final.output.tail_ag, final.output.tail_pb, final.output.tail_sol, final.output.tail_au, primary_cleaner.input.sulfate, primary_cleaner.input.depressant, primary_cleaner.input.feed_size, primary_cleaner.input.xanthate, primary_cleaner.output.concentrate_ag, primary_cleaner.output.concentrate_pb, primary_cleaner.output.concentrate_sol, primary_cleaner.output.concentrate_au, primary_cleaner.output.tail_ag, primary_cleaner.output.tail_pb, primary_cleaner.output.tail_sol, primary_cleaner.output.tail_au, primary_cleaner.state.floatbank8_a_air, primary_cleaner.state.floatbank8_a_level, primary_cleaner.state.floatbank8_b_air, primary_cleaner.state.floatbank8_b_level, primary_cleaner.state.floatbank8_c_air, primary_cleaner.state.floatbank8_c_level, primary_cleaner.state.floatbank8_d_air, primary_cleaner.state.floatbank8_d_level, rougher.calculation.sulfate_to_au_concentrate, rougher.calculation.floatbank10_sulfate_to_au_feed, rougher.calculation.floatbank11_sulfate_to_au_feed, rougher.calculation.au_pb_ratio, rougher.input.feed_ag, rougher.input.feed_pb, rougher.input.feed_rate, rougher.input.feed_size, rougher.input.feed_sol, rougher.input.feed_au, rougher.input.floatbank10_sulfate, rougher.input.floatbank10_xanthate, rougher.input.floatbank11_sulfate, rougher.input.floatbank11_xanthate, rougher.output.concentrate_ag, rougher.output.concentrate_pb, rougher.output.concentrate_sol, rougher.output.concentrate_au, rougher.output.recovery, rougher.output.tail_ag, rougher.output.tail_pb, rougher.output.tail_sol, rougher.output.tail_au, rougher.state.floatbank10_a_air, rougher.state.floatbank10_a_level, rougher.state.floatbank10_b_air, rougher.state.floatbank10_b_level, rougher.state.floatbank10_c_air, rougher.state.floatbank10_c_level, rougher.state.floatbank10_d_air, rougher.state.floatbank10_d_level, rougher.state.floatbank10_e_air, rougher.state.floatbank10_e_level, rougher.state.floatbank10_f_air, rougher.state.floatbank10_f_level, secondary_cleaner.output.tail_ag, secondary_cleaner.output.tail_pb, secondary_cleaner.output.tail_sol, secondary_cleaner.output.tail_au, secondary_cleaner.state.floatbank2_a_air, secondary_cleaner.state.floatbank2_a_level, secondary_cleaner.state.floatbank2_b_air, secondary_cleaner.state.floatbank2_b_level, secondary_cleaner.state.floatbank3_a_air, secondary_cleaner.state.floatbank3_a_level, secondary_cleaner.state.floatbank3_b_air, secondary_cleaner.state.floatbank3_b_level, secondary_cleaner.state.floatbank4_a_air, secondary_cleaner.state.floatbank4_a_level, secondary_cleaner.state.floatbank4_b_air, secondary_cleaner.state.floatbank4_b_level, secondary_cleaner.state.floatbank5_a_air, secondary_cleaner.state.floatbank5_a_level, secondary_cleaner.state.floatbank5_b_air, secondary_cleaner.state.floatbank5_b_level, secondary_cleaner.state.floatbank6_a_air, secondary_cleaner.state.floatbank6_a_level]\n",
       "Index: []\n",
       "\n",
       "[0 rows x 87 columns]"
      ]
     },
     "execution_count": 95,
     "metadata": {},
     "output_type": "execute_result"
    }
   ],
   "source": [
    "# Checking for duplicates in test\n",
    "\n",
    "duplicate = full[full.duplicated()]\n",
    "duplicate"
   ]
  },
  {
   "cell_type": "markdown",
   "id": "c5830d05-7de3-49a3-9070-a48fd675f9ef",
   "metadata": {},
   "source": [
    "There were no duplicates in full."
   ]
  },
  {
   "cell_type": "markdown",
   "id": "ad0ac0b1-a6e0-428a-945d-192c1ac2ade1",
   "metadata": {},
   "source": [
    "## Calculating Recovery"
   ]
  },
  {
   "cell_type": "markdown",
   "id": "42aa2f4e-659b-43bf-a9d8-1bcea8bc9872",
   "metadata": {},
   "source": [
    "We will check that rougher output recovery was calculated correctly. Using the training set, we will calculate recovery for the rougher.output.recovery feature and find the MAE between our calculations and the feature values."
   ]
  },
  {
   "cell_type": "code",
   "execution_count": 96,
   "id": "67b2ed31-9992-4f37-a0ae-c6eabf768055",
   "metadata": {},
   "outputs": [],
   "source": [
    "# Creating function for calculating recovery\n",
    "\n",
    "def recovery(df, C, F, T):\n",
    "    \n",
    "    rec = (df[C] * (df[F]-df[T])) / (df[F] * (df[C]-df[T])) * 100\n",
    "    \n",
    "    return rec "
   ]
  },
  {
   "cell_type": "code",
   "execution_count": 97,
   "id": "a3476672-1d4e-48e2-a4eb-d1ee4a721ed5",
   "metadata": {},
   "outputs": [
    {
     "data": {
      "text/plain": [
       "0        87.107763\n",
       "1        86.843261\n",
       "2        86.842308\n",
       "3        87.226430\n",
       "4        86.688794\n",
       "           ...    \n",
       "16855    89.574376\n",
       "16856    87.724007\n",
       "16857    88.890579\n",
       "16858    89.858126\n",
       "16859    89.514960\n",
       "Length: 16860, dtype: float64"
      ]
     },
     "execution_count": 97,
     "metadata": {},
     "output_type": "execute_result"
    }
   ],
   "source": [
    "# Calculating rougher_output_recovery using recovery function\n",
    "\n",
    "rougher_output_recovery_calc = recovery(train,'rougher.output.concentrate_au', 'rougher.input.feed_au', 'rougher.output.tail_au')\n",
    "rougher_output_recovery_calc"
   ]
  },
  {
   "cell_type": "code",
   "execution_count": 98,
   "id": "1b75e855-ad85-4922-84e7-400c7a57b8c6",
   "metadata": {},
   "outputs": [],
   "source": [
    "# Creating a function to calculate MAE between our findings and the rougher.output.recovery feature\n",
    "\n",
    "def mae(recovery, calc):\n",
    "    recovery, calc = np.array(recovery), np.array(calc)\n",
    "    return nanmean(np.abs(recovery - calc))"
   ]
  },
  {
   "cell_type": "code",
   "execution_count": 99,
   "id": "c8327129-0e23-4d97-8c7a-9f1fcfe59039",
   "metadata": {},
   "outputs": [
    {
     "data": {
      "text/plain": [
       "9.303415616264301e-15"
      ]
     },
     "execution_count": 99,
     "metadata": {},
     "output_type": "execute_result"
    }
   ],
   "source": [
    " mae(train['rougher.output.recovery'], rougher_output_recovery_calc)"
   ]
  },
  {
   "cell_type": "markdown",
   "id": "a0709f0c-3803-4463-a7fc-855aa894e21e",
   "metadata": {},
   "source": [
    "The MAE between our calculations and the rougher_output_recovery values in the train set was almost zero, so we can be confident that the rougher.output.recovery is valid. The slight discrepancy in the values we calculated and the values in the dataframe may be the result of incorrect calculations or rounding differences in the calculations that were performed."
   ]
  },
  {
   "cell_type": "markdown",
   "id": "e97d6871-6ebf-4ea0-a45c-3a800ed43e54",
   "metadata": {},
   "source": [
    "## Test Set Feature Analysis\n",
    "\n",
    "We will compare the features in the test set with the train set to check for missing features."
   ]
  },
  {
   "cell_type": "code",
   "execution_count": 100,
   "id": "aab1462f-9de6-4d69-ae57-17ce93f2b5b1",
   "metadata": {},
   "outputs": [
    {
     "data": {
      "text/plain": [
       "['primary_cleaner.output.tail_ag',\n",
       " 'primary_cleaner.output.concentrate_sol',\n",
       " 'final.output.tail_au',\n",
       " 'rougher.output.concentrate_au',\n",
       " 'secondary_cleaner.output.tail_ag',\n",
       " 'primary_cleaner.output.tail_pb',\n",
       " 'rougher.output.tail_au',\n",
       " 'rougher.calculation.floatbank11_sulfate_to_au_feed',\n",
       " 'final.output.concentrate_au',\n",
       " 'primary_cleaner.output.concentrate_au',\n",
       " 'rougher.calculation.au_pb_ratio',\n",
       " 'primary_cleaner.output.concentrate_pb',\n",
       " 'primary_cleaner.output.tail_au',\n",
       " 'secondary_cleaner.output.tail_sol',\n",
       " 'final.output.concentrate_sol',\n",
       " 'rougher.output.concentrate_pb',\n",
       " 'rougher.output.recovery',\n",
       " 'rougher.output.tail_sol',\n",
       " 'secondary_cleaner.output.tail_pb',\n",
       " 'final.output.tail_ag',\n",
       " 'final.output.concentrate_ag',\n",
       " 'rougher.output.tail_ag',\n",
       " 'rougher.calculation.sulfate_to_au_concentrate',\n",
       " 'rougher.output.concentrate_ag',\n",
       " 'final.output.recovery',\n",
       " 'final.output.tail_sol',\n",
       " 'rougher.output.tail_pb',\n",
       " 'primary_cleaner.output.concentrate_ag',\n",
       " 'final.output.tail_pb',\n",
       " 'rougher.calculation.floatbank10_sulfate_to_au_feed',\n",
       " 'rougher.output.concentrate_sol',\n",
       " 'primary_cleaner.output.tail_sol',\n",
       " 'secondary_cleaner.output.tail_au',\n",
       " 'final.output.concentrate_pb']"
      ]
     },
     "execution_count": 100,
     "metadata": {},
     "output_type": "execute_result"
    }
   ],
   "source": [
    "# Comparing train and test dataframes to identify features missing from test dataframe\n",
    "\n",
    "train_missing = list(set(train) - set(test))\n",
    "train_missing"
   ]
  },
  {
   "cell_type": "markdown",
   "id": "0176f0a8-ce09-452f-9d1e-331f8d3303a4",
   "metadata": {},
   "source": [
    "The features missing in the test set were those pertaining to outputs or calculations. It seems these were omitted from the test set since these values can only be obtained after the process has been completed and they would not help to train a model to predict metal concentrations. We will take this into account when assigning our features and targets to train our model after data preprocessing is completed.\n"
   ]
  },
  {
   "cell_type": "markdown",
   "id": "9b6a538e-8d00-4584-b83f-d449a4673908",
   "metadata": {},
   "source": [
    "# Exploratory Data Analysis\n",
    "\n",
    "We will explore the concentrations of metals at different purification stages to check how the purification affects the metal concentration levels and to find any anomalies."
   ]
  },
  {
   "cell_type": "markdown",
   "id": "18897cb3-ab8d-40f1-840c-7f1873cd3ae0",
   "metadata": {},
   "source": [
    "## Histograms of Concentrations of Each Metal Across Purification Stages\n",
    "\n",
    "We will plot the distribution of the concentrations of each metal at each purification stage to explore how the concentrations of metals (Au, Ag, Pb) change depending on the purification stage. We will create a function to plot the distribution of concentrations of Au, Ag, and Pb separately across purification stages."
   ]
  },
  {
   "cell_type": "code",
   "execution_count": 101,
   "id": "cc38b69e-339a-4c22-b31f-df5056f87a24",
   "metadata": {},
   "outputs": [],
   "source": [
    "# Creating a function to plot the distribution of concentrations of metals across purification stages.\n",
    "\n",
    "def conc_hist(df, rougher_input_feed, rougher_output_concentrate, rougher_output_tail, primary_cleaner_output_concentrate,\\\n",
    "              primary_cleaner_output_tail, secondary_cleaner_output_tail, final_output_concentrate, final_output_tail):\n",
    "\n",
    "    plt.hist(df[rougher_input_feed], alpha=.5, color= 'purple', bins=50);\n",
    "    plt.hist(df[rougher_output_concentrate], alpha=.5, color= 'yellow', bins=50);\n",
    "    plt.hist(df[rougher_output_tail], alpha=.5, color= 'blue', bins=50);\n",
    "    plt.hist(df[primary_cleaner_output_concentrate], alpha=.5, color= 'orange', bins=50);\n",
    "    plt.hist(df[primary_cleaner_output_tail], alpha=.5, color= 'grey', bins=50);\n",
    "    plt.hist(df[secondary_cleaner_output_tail], alpha=.5, color= 'pink', bins=50);\n",
    "    plt.hist(df[final_output_concentrate], alpha=.5, color= 'red', bins=50);\n",
    "    plt.hist(df[final_output_tail], alpha=.5, color= 'green', bins=50);\n",
    "    plt.legend([rougher_input_feed, rougher_output_concentrate, rougher_output_tail,\\\n",
    "            primary_cleaner_output_concentrate, primary_cleaner_output_tail, secondary_cleaner_output_tail, \\\n",
    "           final_output_concentrate, final_output_tail], loc='upper right', bbox_to_anchor=(1.75, 1.0))\n",
    "    plt.title('Concentration Across Purification Stages')\n",
    "    plt.xlabel('Concentration')\n",
    "    plt.ylabel('Frequency')\n",
    "    plt.show()"
   ]
  },
  {
   "cell_type": "code",
   "execution_count": 102,
   "id": "04731d51-a999-452d-a53e-267b0ebaadf3",
   "metadata": {},
   "outputs": [
    {
     "data": {
      "image/png": "[encoded data removed]",
      "text/plain": [
       "<Figure size 432x288 with 1 Axes>"
      ]
     },
     "metadata": {
      "needs_background": "light"
     },
     "output_type": "display_data"
    }
   ],
   "source": [
    "# Applying a function to plot the distribution of concentrations of Au across purification stages.\n",
    "\n",
    "conc_hist(full,'rougher.input.feed_au', 'rougher.output.concentrate_au', 'rougher.output.tail_au',\\\n",
    "              'primary_cleaner.output.concentrate_au', 'primary_cleaner.output.tail_au',\\\n",
    "             'secondary_cleaner.output.tail_au', 'final.output.concentrate_au', 'final.output.tail_au')"
   ]
  },
  {
   "cell_type": "markdown",
   "id": "2532e427-82b9-4c1f-96f3-71bf4a210e57",
   "metadata": {},
   "source": [
    "The concentration of Au increased throughout the purification process. The median concentration level in the feed was around 8 and in the final.output.concentrate it was around 45. This makes sense, because the purification process is designed to extract gold."
   ]
  },
  {
   "cell_type": "code",
   "execution_count": 103,
   "id": "071981b5-bce8-4e24-aacc-53ec560933fb",
   "metadata": {},
   "outputs": [
    {
     "data": {
      "image/png": "[encoded data removed]",
      "text/plain": [
       "<Figure size 432x288 with 1 Axes>"
      ]
     },
     "metadata": {
      "needs_background": "light"
     },
     "output_type": "display_data"
    }
   ],
   "source": [
    "# Applying a function to plot the distribution of concentrations of Ag across purification stages.\n",
    "\n",
    "conc_hist(full,'rougher.input.feed_ag', 'rougher.output.concentrate_ag', 'rougher.output.tail_ag',\\\n",
    "              'primary_cleaner.output.concentrate_ag', 'primary_cleaner.output.tail_ag',\\\n",
    "             'secondary_cleaner.output.tail_ag', 'final.output.concentrate_ag', 'final.output.tail_ag')"
   ]
  },
  {
   "cell_type": "markdown",
   "id": "d82781d5-adee-4469-9929-6caefca0928d",
   "metadata": {},
   "source": [
    "The concentration of Ag in the output.concentrates decreased, yet it increased in the output.tails through the purification process. This makes sense, because the purification process is designed to extract gold and separate out the silver."
   ]
  },
  {
   "cell_type": "code",
   "execution_count": 104,
   "id": "881217cb-f655-4257-a315-219a37a66b22",
   "metadata": {},
   "outputs": [
    {
     "data": {
      "image/png": "[encoded data removed]",
      "text/plain": [
       "<Figure size 432x288 with 1 Axes>"
      ]
     },
     "metadata": {
      "needs_background": "light"
     },
     "output_type": "display_data"
    }
   ],
   "source": [
    "# Applying a function to plot the distribution of concentrations of Pb across purification stages.\n",
    "\n",
    "conc_hist(full,'rougher.input.feed_pb', 'rougher.output.concentrate_pb', 'rougher.output.tail_pb',\\\n",
    "              'primary_cleaner.output.concentrate_pb', 'primary_cleaner.output.tail_pb',\\\n",
    "             'secondary_cleaner.output.tail_pb', 'final.output.concentrate_pb', 'final.output.tail_pb')"
   ]
  },
  {
   "cell_type": "markdown",
   "id": "d2cff8e2-6178-4a52-a0f1-1f926939fc86",
   "metadata": {},
   "source": [
    "The concentration of Pb in the output concentrate increased through the purification process. The median concentration level in the input feed was 2.7 and it was around 10 in the final.output.concentrate. It appears that lead is filtered along with gold through the purification process."
   ]
  },
  {
   "cell_type": "markdown",
   "id": "a8a3bcd4-9448-4785-bc02-e7e420986704",
   "metadata": {},
   "source": [
    "Overall, the concentrations of Au and Pb in the output concentration increased through the purification process. The concentrations of Au and Pb seemed somewhat correlated. However, the concentration of Ag decreased through the purification process. "
   ]
  },
  {
   "cell_type": "markdown",
   "id": "028e3d88-6325-4db5-b004-461c5c68ec03",
   "metadata": {},
   "source": [
    "## Histograms of Concentrations of Metals At Each Purification Stage\n",
    "\n",
    "We will plot the distribution of the concentrations of all metal at each purification stage to explore how the relative concentrations of metals (Au, Ag, Pb) change depending on the purification stage. We will create a function to plot the distribution of concentrations of Au, Ag, and Pb at purification stage."
   ]
  },
  {
   "cell_type": "code",
   "execution_count": 105,
   "id": "d8fd43f2-0268-4ce3-a2bc-bf3b138b3b29",
   "metadata": {},
   "outputs": [],
   "source": [
    "# Creating a function to plot the distribution of concentrations of metals at each purification stages.\n",
    "\n",
    "def metals_conc(df, au, ag, pb):\n",
    "    \n",
    "    plt.hist(df[au], alpha=.5, color= 'red', bins=50);\n",
    "    plt.hist(df[ag], alpha=.5, color= 'green', bins=50);\n",
    "    plt.hist(df[pb], alpha=.5, color= 'blue', bins=50);\n",
    "    plt.legend([au, ag, pb], loc='upper right', bbox_to_anchor=(1.5, 1.0))\n",
    "    plt.title('Concentration of Metals At Each Purification Stage')\n",
    "    plt.xlabel('Concentration')\n",
    "    plt.ylabel('Frequency')\n",
    "    plt.show()"
   ]
  },
  {
   "cell_type": "code",
   "execution_count": 106,
   "id": "5c9df3d8-3853-4120-a302-481fc7982663",
   "metadata": {},
   "outputs": [
    {
     "data": {
      "image/png": "[encoded data removed]",
      "text/plain": [
       "<Figure size 432x288 with 1 Axes>"
      ]
     },
     "metadata": {
      "needs_background": "light"
     },
     "output_type": "display_data"
    }
   ],
   "source": [
    "# Plotting the distribution of metals in 'rougher.input.feed'\n",
    "\n",
    "metals_conc(full,'rougher.input.feed_au', 'rougher.input.feed_ag', 'rougher.input.feed_pb')"
   ]
  },
  {
   "cell_type": "markdown",
   "id": "a72b60e8-3a95-42b3-9f6f-fc44c20b13d3",
   "metadata": {},
   "source": [
    "The concentrations of Au and Ag were similar in the feed, while the concentration of Pb was relatively lower."
   ]
  },
  {
   "cell_type": "code",
   "execution_count": 107,
   "id": "51c48fd8-220b-415a-b500-090fecbb39fd",
   "metadata": {},
   "outputs": [
    {
     "data": {
      "image/png": "[encoded data removed]",
      "text/plain": [
       "<Figure size 432x288 with 1 Axes>"
      ]
     },
     "metadata": {
      "needs_background": "light"
     },
     "output_type": "display_data"
    }
   ],
   "source": [
    "# Plotting the distribution of metals in 'rougher.output.concentrate'\n",
    "\n",
    "metals_conc(full,'rougher.output.concentrate_au', 'rougher.output.concentrate_ag', 'rougher.output.concentrate_pb')"
   ]
  },
  {
   "cell_type": "markdown",
   "id": "89d5cd7b-4401-431a-b8ac-558e0317a16b",
   "metadata": {},
   "source": [
    "There were relatively normal distributions of metals in the rougher.output.concentrate, with the highest being Au, followed by Ag, and Pb. Yet there were also some abnormally low values of concentrate. These outliers need to be removed before model training."
   ]
  },
  {
   "cell_type": "code",
   "execution_count": 108,
   "id": "ba967dbb-b2e1-4fbd-bbad-9a51adb01ce5",
   "metadata": {},
   "outputs": [
    {
     "data": {
      "image/png": "[encoded data removed]",
      "text/plain": [
       "<Figure size 432x288 with 1 Axes>"
      ]
     },
     "metadata": {
      "needs_background": "light"
     },
     "output_type": "display_data"
    }
   ],
   "source": [
    "# Plotting the distribution of metals in 'rougher.output.tail'\n",
    "\n",
    "metals_conc(full,'rougher.output.tail_au', 'rougher.output.tail_ag', 'rougher.output.tail_pb')"
   ]
  },
  {
   "cell_type": "markdown",
   "id": "b4f18659-7046-4f0a-95bf-58f300f1d384",
   "metadata": {},
   "source": [
    "In the rougher.output.tail, Ag had the highest concentration with a median of 6 and Au and Pb had lower levels of concentration. This makes sense since the tail had the silver that was separated out through the purification process."
   ]
  },
  {
   "cell_type": "code",
   "execution_count": 109,
   "id": "e1cf7aa8-8816-4a35-bf1b-ade16cb180a0",
   "metadata": {},
   "outputs": [
    {
     "data": {
      "image/png": "[encoded data removed]",
      "text/plain": [
       "<Figure size 432x288 with 1 Axes>"
      ]
     },
     "metadata": {
      "needs_background": "light"
     },
     "output_type": "display_data"
    }
   ],
   "source": [
    "# Plotting the distribution of metals in 'primary_cleaner.output.concentrate'\n",
    "\n",
    "metals_conc(full,'primary_cleaner.output.concentrate_au', 'primary_cleaner.output.concentrate_ag', 'primary_cleaner.output.concentrate_pb')"
   ]
  },
  {
   "cell_type": "markdown",
   "id": "d50eb1e0-3f40-435e-bb4b-c10d36fab66c",
   "metadata": {},
   "source": [
    "There were relatively normal distributions of metals in the primary_cleaner.output.concentrate, with the highest being Au, followed by Ag and Pb. Yet there were also some abnormally low values of the metals in the concentrate. These outliers need to be removed before model training."
   ]
  },
  {
   "cell_type": "code",
   "execution_count": 110,
   "id": "1c3f48c4-b57e-477b-a589-8df11312dce7",
   "metadata": {},
   "outputs": [
    {
     "data": {
      "image/png": "[encoded data removed]",
      "text/plain": [
       "<Figure size 432x288 with 1 Axes>"
      ]
     },
     "metadata": {
      "needs_background": "light"
     },
     "output_type": "display_data"
    }
   ],
   "source": [
    "# Plotting the distribution of metals in 'primary_cleaner.output.tail'\n",
    "\n",
    "metals_conc(full,'primary_cleaner.output.tail_au', 'primary_cleaner.output.tail_ag', 'primary_cleaner.output.tail_pb')"
   ]
  },
  {
   "cell_type": "markdown",
   "id": "25165720-115a-428e-b68d-251d6c4c6333",
   "metadata": {},
   "source": [
    "In the primary_cleaner.output.tail, Ag had the highest concentration with a median of 15 and Au and Pb had lower levels of concentration. This makes sense since the tail had the silver that was separated out through the purification process. Yet there were also some abnormally small concentration levels of metals."
   ]
  },
  {
   "cell_type": "code",
   "execution_count": 111,
   "id": "eb23032c-ce6f-45bb-a0dc-257581a9909d",
   "metadata": {},
   "outputs": [
    {
     "data": {
      "image/png": "[encoded data removed]",
      "text/plain": [
       "<Figure size 432x288 with 1 Axes>"
      ]
     },
     "metadata": {
      "needs_background": "light"
     },
     "output_type": "display_data"
    }
   ],
   "source": [
    "# Plotting the distribution of metals in 'secondary_cleaner.output.tail'\n",
    "\n",
    "metals_conc(full, 'secondary_cleaner.output.tail_au', 'secondary_cleaner.output.tail_ag', 'secondary_cleaner.output.tail_pb')"
   ]
  },
  {
   "cell_type": "markdown",
   "id": "717814b7-a568-49b6-9bf0-d65dc066520a",
   "metadata": {},
   "source": [
    "In the secondary_cleaner.output.tail, Ag had the highest concentration  and Au and Pb had lower levels of concentration. This makes sense since the tail had the silver that was separated out through the purification process. Yet there were also some abnormally small concentration levels of metals."
   ]
  },
  {
   "cell_type": "code",
   "execution_count": 112,
   "id": "8378ee27-0794-4024-804a-8fe6f12aa84f",
   "metadata": {},
   "outputs": [
    {
     "data": {
      "image/png": "[encoded data removed]",
      "text/plain": [
       "<Figure size 432x288 with 1 Axes>"
      ]
     },
     "metadata": {
      "needs_background": "light"
     },
     "output_type": "display_data"
    }
   ],
   "source": [
    "# Plotting the distribution of metals in 'final.output.concentrate'\n",
    "\n",
    "metals_conc(full, 'final.output.concentrate_au', 'final.output.concentrate_ag', 'final.output.concentrate_pb')"
   ]
  },
  {
   "cell_type": "markdown",
   "id": "2e30cdc5-4db7-4055-967e-9e11e298a249",
   "metadata": {},
   "source": [
    "In the final.output.concentrate, there were relatively normal distributions of metals, with the highest being Au, followed by Ag and Pb. Yet there were also some abnormally low values of the metals in the concentrate. These outliers need to be removed before model training."
   ]
  },
  {
   "cell_type": "code",
   "execution_count": 113,
   "id": "901c44b7-cd78-40d6-a9c0-983ef4efa4dd",
   "metadata": {},
   "outputs": [
    {
     "data": {
      "image/png": "[encoded data removed]",
      "text/plain": [
       "<Figure size 432x288 with 1 Axes>"
      ]
     },
     "metadata": {
      "needs_background": "light"
     },
     "output_type": "display_data"
    }
   ],
   "source": [
    "# Plotting the distribution of metals in 'final.output.tail'\n",
    "\n",
    "metals_conc(full,'final.output.tail_au', 'final.output.tail_ag', 'final.output.tail_pb')"
   ]
  },
  {
   "cell_type": "markdown",
   "id": "282356af-e546-4eb5-a685-cad129564082",
   "metadata": {},
   "source": [
    "As expected, the concentration of Au increased in the output concentrate at each stage of the purification process. The ration of of Ag and Pb to Au decreased in the output concentrate. Conversely, the ratio of Ag to Au and Pb increased in the output tail at each stage of purification. In the final.output.concentrate, there were relatively normal distributions of metals, with the highest being Au, followed by Ag and Pb. Yet there were also some abnormally low values of the metals in the concentrate. These outliers need to be removed before model training."
   ]
  },
  {
   "cell_type": "markdown",
   "id": "7dea45b1-688d-4dd2-bdb3-f2e77e3c71ac",
   "metadata": {},
   "source": [
    "## Comparison of Train and Test Set Feed Particle Size Distribution\n",
    "\n",
    "We will compare the feed particle size distributions in the training and test sets.  If the distributions vary significantly, the model evaluation will be incorrect."
   ]
  },
  {
   "cell_type": "code",
   "execution_count": 114,
   "id": "eb8db7a1-db53-44e9-b6af-d45d36307429",
   "metadata": {},
   "outputs": [],
   "source": [
    "# Creating a function to compare the particle size distributions in the training and test sets\n",
    "\n",
    "def feed(df, rougher_input_feed_size):\n",
    "\n",
    "    plt.hist(df[rougher_input_feed_size], alpha=.5, color= 'red', bins=50);\n",
    "    plt.legend([rougher_input_feed_size], loc='upper right')\n",
    "    plt.title('Feed Particle Size Distribution')\n",
    "    plt.xlabel('Feed Size')\n",
    "    plt.ylabel('Frequency')\n",
    "    plt.show()"
   ]
  },
  {
   "cell_type": "code",
   "execution_count": 115,
   "id": "14f88c83-e717-4ae9-a1e4-08b1db2fb950",
   "metadata": {},
   "outputs": [
    {
     "data": {
      "image/png": "[encoded data removed]",
      "text/plain": [
       "<Figure size 432x288 with 1 Axes>"
      ]
     },
     "metadata": {
      "needs_background": "light"
     },
     "output_type": "display_data"
    }
   ],
   "source": [
    "feed(train, 'rougher.input.feed_size')"
   ]
  },
  {
   "cell_type": "code",
   "execution_count": 116,
   "id": "f90816a4-0f00-4216-80f1-c2f88c13b653",
   "metadata": {},
   "outputs": [
    {
     "data": {
      "image/png": "[encoded data removed]",
      "text/plain": [
       "<Figure size 432x288 with 1 Axes>"
      ]
     },
     "metadata": {
      "needs_background": "light"
     },
     "output_type": "display_data"
    }
   ],
   "source": [
    "feed(test, 'rougher.input.feed_size')"
   ]
  },
  {
   "cell_type": "markdown",
   "id": "23d31924-b7ca-4db9-99fd-69603088f5bf",
   "metadata": {},
   "source": [
    "The feed particle size distributions in the train and test data seem to have similar distributions, but it seems that outliers are affecting the distributions so the histograms are different. Let's examine the range of concentrations further with statistics."
   ]
  },
  {
   "cell_type": "code",
   "execution_count": 117,
   "id": "96f571d5-f94c-4061-bde8-3a70ce7f30a2",
   "metadata": {},
   "outputs": [
    {
     "data": {
      "text/plain": [
       "count    16443.000000\n",
       "mean        58.676444\n",
       "std         23.922591\n",
       "min          9.659576\n",
       "25%         47.575879\n",
       "50%         54.104257\n",
       "75%         65.051064\n",
       "max        484.967466\n",
       "Name: rougher.input.feed_size, dtype: float64"
      ]
     },
     "execution_count": 117,
     "metadata": {},
     "output_type": "execute_result"
    }
   ],
   "source": [
    "train['rougher.input.feed_size'].describe()"
   ]
  },
  {
   "cell_type": "code",
   "execution_count": 118,
   "id": "bc281d2b-ac8b-4296-b789-51372dc84445",
   "metadata": {},
   "outputs": [
    {
     "data": {
      "text/plain": [
       "count    5834.000000\n",
       "mean       55.937535\n",
       "std        22.724254\n",
       "min         0.046369\n",
       "25%        43.890852\n",
       "50%        50.002004\n",
       "75%        61.638434\n",
       "max       477.445473\n",
       "Name: rougher.input.feed_size, dtype: float64"
      ]
     },
     "execution_count": 118,
     "metadata": {},
     "output_type": "execute_result"
    }
   ],
   "source": [
    "test['rougher.input.feed_size'].describe()"
   ]
  },
  {
   "cell_type": "markdown",
   "id": "d68a5f8b-c1c6-4368-8cda-70cd90618353",
   "metadata": {},
   "source": [
    "The median feed particle size level in the train set was 54 and the mean was 57\n",
    "Yet, the median feed particle size level in the test set was 50 and the mean was 55. The difference between the medians and the means indicates that the median is affected by outliers. We can see the outliers since the min and medians are far away from the median and means.\n",
    "\n",
    "It is difficult to assess the way these outliers will affect the model training. Let's examine the total concentrations of metals at each stage to check for outliers. It's possible that there is a very small amount of one metal in the sample, but not of all three metals simultaneously."
   ]
  },
  {
   "cell_type": "markdown",
   "id": "cf4ef1bb-c1a3-456a-9a89-ed0f53aac43e",
   "metadata": {},
   "source": [
    "## Total Concentrations at Different Stages\n",
    "\n",
    "Let's explore the total concentrations at each stage. We will create a function to sum the concentrations of the metals at different stages: raw feed, rougher concentrate, and final concentrate."
   ]
  },
  {
   "cell_type": "code",
   "execution_count": 119,
   "id": "1a3189b1-78ca-4c57-996c-6dccff33bae9",
   "metadata": {},
   "outputs": [],
   "source": [
    "# Creating a function to sum concentrations of Au, Ag, and Pb at different stages\n",
    "\n",
    "def total_conc(df, au, ag, pb):\n",
    "    for i in df:\n",
    "        total = df[au] + df[ag] + df[pb]\n",
    "    return total"
   ]
  },
  {
   "cell_type": "code",
   "execution_count": 120,
   "id": "94249878-2463-4fad-95dd-b1af6a278b78",
   "metadata": {},
   "outputs": [],
   "source": [
    "# Calculating total concentration of metals in raw feed\n",
    "\n",
    "full['total_feed'] = total_conc(full,'rougher.input.feed_au', 'rougher.input.feed_ag' , 'rougher.input.feed_pb')"
   ]
  },
  {
   "cell_type": "code",
   "execution_count": 121,
   "id": "cc4485f4-b80d-4e01-8a92-10180560b125",
   "metadata": {},
   "outputs": [],
   "source": [
    "# Visualizing distribution of total concentration of metals in raw feed\n",
    "\n",
    "def totals(column):\n",
    "    plt.hist(full[column], alpha=.5, color= 'red', bins=50);\n",
    "    plt.legend([column], loc='upper right')\n",
    "    plt.title('Total Metal Concentration Distribution')\n",
    "    plt.xlabel('Total Concentration')\n",
    "    plt.ylabel('Frequency')\n",
    "    plt.show()"
   ]
  },
  {
   "cell_type": "code",
   "execution_count": 122,
   "id": "7908d48d-8fec-41c7-986e-1ee5080b2729",
   "metadata": {},
   "outputs": [
    {
     "data": {
      "image/png": "[encoded data removed]",
      "text/plain": [
       "<Figure size 432x288 with 1 Axes>"
      ]
     },
     "metadata": {
      "needs_background": "light"
     },
     "output_type": "display_data"
    }
   ],
   "source": [
    "totals('total_feed')"
   ]
  },
  {
   "cell_type": "code",
   "execution_count": 123,
   "id": "62e5507a-8d4d-4a1c-bbcd-32761c63bb6e",
   "metadata": {},
   "outputs": [],
   "source": [
    "# Calculating total concentration of metals in rougher concentrate\n",
    "\n",
    "full['total_rougher'] = total_conc(full,'rougher.output.concentrate_au', 'rougher.output.concentrate_ag' , 'rougher.output.concentrate_pb') "
   ]
  },
  {
   "cell_type": "code",
   "execution_count": 124,
   "id": "cd74c3c6-d7cc-4c51-9407-0aff9b85ea3f",
   "metadata": {},
   "outputs": [
    {
     "data": {
      "image/png": "[encoded data removed]",
      "text/plain": [
       "<Figure size 432x288 with 1 Axes>"
      ]
     },
     "metadata": {
      "needs_background": "light"
     },
     "output_type": "display_data"
    }
   ],
   "source": [
    "totals('total_rougher')"
   ]
  },
  {
   "cell_type": "code",
   "execution_count": 125,
   "id": "48696962-5699-433e-8085-74f863f8c2eb",
   "metadata": {},
   "outputs": [],
   "source": [
    "# Calculating total concentration of metals in final concentrate\n",
    "\n",
    "full['total_final'] = total_conc(full,'final.output.concentrate_au', 'final.output.concentrate_ag' , 'final.output.concentrate_pb')"
   ]
  },
  {
   "cell_type": "code",
   "execution_count": 126,
   "id": "6e3850cd-20de-479e-b78c-06d4ae1862a1",
   "metadata": {},
   "outputs": [
    {
     "data": {
      "image/png": "[encoded data removed]",
      "text/plain": [
       "<Figure size 432x288 with 1 Axes>"
      ]
     },
     "metadata": {
      "needs_background": "light"
     },
     "output_type": "display_data"
    }
   ],
   "source": [
    "totals('total_final')"
   ]
  },
  {
   "cell_type": "markdown",
   "id": "1784fb64-3240-421c-8901-d40e8f0f3537",
   "metadata": {},
   "source": [
    "There are significant outliers in the total concentrations of metals at different stages. There are fewer outliers in the output as time goes on. We will eliminate instances with these abnormally low levels of concentrate in the total_feed, which is the start of the process."
   ]
  },
  {
   "cell_type": "markdown",
   "id": "ce1efe94-4d01-4bc3-a98d-b3edcb747d39",
   "metadata": {},
   "source": [
    "## Eliminating Outliers\n",
    "\n",
    "We will eliminate the outliers in the 'total_feed', since this is the first step in the process. To do so, we will create a function to remove values 1.5(IQR) above the Q3 and below the Q1 range."
   ]
  },
  {
   "cell_type": "code",
   "execution_count": 127,
   "id": "b1ae8096-233a-456b-b16a-998b58b40ea7",
   "metadata": {},
   "outputs": [],
   "source": [
    "# Creating function for eliminating outliers\n",
    "\n",
    "def outliers(df, column):\n",
    "        \n",
    "        #finding Q1 and Q2\n",
    "        Q1 = column.quantile(0.25)\n",
    "        Q3 = column.quantile(0.75)\n",
    "       \n",
    "        #finding the IQR\n",
    "        IQR = Q3-Q1\n",
    "        \n",
    "        #finding the upper and lower limit\n",
    "        upper_limit = Q3 + 1.5*IQR\n",
    "        lower_limit = Q1 - 1.5*IQR\n",
    "        \n",
    "        #finding outliers\n",
    "        df[column > upper_limit]\n",
    "        df[column < lower_limit]\n",
    "        \n",
    "        #trimming\n",
    "        df = df[column < upper_limit]\n",
    "        df = df[column > lower_limit]\n",
    "        return df        "
   ]
  },
  {
   "cell_type": "code",
   "execution_count": 128,
   "id": "77b188bb-bdfe-4725-9b1b-83bb9a750a7d",
   "metadata": {},
   "outputs": [
    {
     "name": "stdout",
     "output_type": "stream",
     "text": [
      "<class 'pandas.core.frame.DataFrame'>\n",
      "Int64Index: 20479 entries, 0 to 22715\n",
      "Data columns (total 90 columns):\n",
      " #   Column                                              Non-Null Count  Dtype  \n",
      "---  ------                                              --------------  -----  \n",
      " 0   date                                                20479 non-null  object \n",
      " 1   final.output.concentrate_ag                         20472 non-null  float64\n",
      " 2   final.output.concentrate_pb                         20473 non-null  float64\n",
      " 3   final.output.concentrate_sol                        20205 non-null  float64\n",
      " 4   final.output.concentrate_au                         20474 non-null  float64\n",
      " 5   final.output.recovery                               20258 non-null  float64\n",
      " 6   final.output.tail_ag                                20477 non-null  float64\n",
      " 7   final.output.tail_pb                                20461 non-null  float64\n",
      " 8   final.output.tail_sol                               20410 non-null  float64\n",
      " 9   final.output.tail_au                                20479 non-null  float64\n",
      " 10  primary_cleaner.input.sulfate                       20397 non-null  float64\n",
      " 11  primary_cleaner.input.depressant                    20386 non-null  float64\n",
      " 12  primary_cleaner.input.feed_size                     20479 non-null  float64\n",
      " 13  primary_cleaner.input.xanthate                      20323 non-null  float64\n",
      " 14  primary_cleaner.output.concentrate_ag               20479 non-null  float64\n",
      " 15  primary_cleaner.output.concentrate_pb               20205 non-null  float64\n",
      " 16  primary_cleaner.output.concentrate_sol              19883 non-null  float64\n",
      " 17  primary_cleaner.output.concentrate_au               20479 non-null  float64\n",
      " 18  primary_cleaner.output.tail_ag                      20475 non-null  float64\n",
      " 19  primary_cleaner.output.tail_pb                      20456 non-null  float64\n",
      " 20  primary_cleaner.output.tail_sol                     20276 non-null  float64\n",
      " 21  primary_cleaner.output.tail_au                      20479 non-null  float64\n",
      " 22  primary_cleaner.state.floatbank8_a_air              20475 non-null  float64\n",
      " 23  primary_cleaner.state.floatbank8_a_level            20478 non-null  float64\n",
      " 24  primary_cleaner.state.floatbank8_b_air              20475 non-null  float64\n",
      " 25  primary_cleaner.state.floatbank8_b_level            20478 non-null  float64\n",
      " 26  primary_cleaner.state.floatbank8_c_air              20477 non-null  float64\n",
      " 27  primary_cleaner.state.floatbank8_c_level            20478 non-null  float64\n",
      " 28  primary_cleaner.state.floatbank8_d_air              20476 non-null  float64\n",
      " 29  primary_cleaner.state.floatbank8_d_level            20478 non-null  float64\n",
      " 30  rougher.calculation.sulfate_to_au_concentrate       20477 non-null  float64\n",
      " 31  rougher.calculation.floatbank10_sulfate_to_au_feed  20477 non-null  float64\n",
      " 32  rougher.calculation.floatbank11_sulfate_to_au_feed  20477 non-null  float64\n",
      " 33  rougher.calculation.au_pb_ratio                     20479 non-null  float64\n",
      " 34  rougher.input.feed_ag                               20479 non-null  float64\n",
      " 35  rougher.input.feed_pb                               20479 non-null  float64\n",
      " 36  rougher.input.feed_rate                             20455 non-null  float64\n",
      " 37  rougher.input.feed_size                             20321 non-null  float64\n",
      " 38  rougher.input.feed_sol                              20270 non-null  float64\n",
      " 39  rougher.input.feed_au                               20479 non-null  float64\n",
      " 40  rougher.input.floatbank10_sulfate                   20391 non-null  float64\n",
      " 41  rougher.input.floatbank10_xanthate                  20463 non-null  float64\n",
      " 42  rougher.input.floatbank11_sulfate                   20415 non-null  float64\n",
      " 43  rougher.input.floatbank11_xanthate                  19977 non-null  float64\n",
      " 44  rougher.output.concentrate_ag                       20479 non-null  float64\n",
      " 45  rougher.output.concentrate_pb                       20479 non-null  float64\n",
      " 46  rougher.output.concentrate_sol                      20397 non-null  float64\n",
      " 47  rougher.output.concentrate_au                       20479 non-null  float64\n",
      " 48  rougher.output.recovery                             19446 non-null  float64\n",
      " 49  rougher.output.tail_ag                              19689 non-null  float64\n",
      " 50  rougher.output.tail_pb                              20479 non-null  float64\n",
      " 51  rougher.output.tail_sol                             19690 non-null  float64\n",
      " 52  rougher.output.tail_au                              19690 non-null  float64\n",
      " 53  rougher.state.floatbank10_a_air                     20478 non-null  float64\n",
      " 54  rougher.state.floatbank10_a_level                   20478 non-null  float64\n",
      " 55  rougher.state.floatbank10_b_air                     20478 non-null  float64\n",
      " 56  rougher.state.floatbank10_b_level                   20478 non-null  float64\n",
      " 57  rougher.state.floatbank10_c_air                     20478 non-null  float64\n",
      " 58  rougher.state.floatbank10_c_level                   20478 non-null  float64\n",
      " 59  rougher.state.floatbank10_d_air                     20479 non-null  float64\n",
      " 60  rougher.state.floatbank10_d_level                   20479 non-null  float64\n",
      " 61  rougher.state.floatbank10_e_air                     19973 non-null  float64\n",
      " 62  rougher.state.floatbank10_e_level                   20479 non-null  float64\n",
      " 63  rougher.state.floatbank10_f_air                     20479 non-null  float64\n",
      " 64  rougher.state.floatbank10_f_level                   20479 non-null  float64\n",
      " 65  secondary_cleaner.output.tail_ag                    20477 non-null  float64\n",
      " 66  secondary_cleaner.output.tail_pb                    20461 non-null  float64\n",
      " 67  secondary_cleaner.output.tail_sol                   18514 non-null  float64\n",
      " 68  secondary_cleaner.output.tail_au                    20479 non-null  float64\n",
      " 69  secondary_cleaner.state.floatbank2_a_air            20241 non-null  float64\n",
      " 70  secondary_cleaner.state.floatbank2_a_level          20478 non-null  float64\n",
      " 71  secondary_cleaner.state.floatbank2_b_air            20448 non-null  float64\n",
      " 72  secondary_cleaner.state.floatbank2_b_level          20478 non-null  float64\n",
      " 73  secondary_cleaner.state.floatbank3_a_air            20462 non-null  float64\n",
      " 74  secondary_cleaner.state.floatbank3_a_level          20478 non-null  float64\n",
      " 75  secondary_cleaner.state.floatbank3_b_air            20478 non-null  float64\n",
      " 76  secondary_cleaner.state.floatbank3_b_level          20478 non-null  float64\n",
      " 77  secondary_cleaner.state.floatbank4_a_air            20469 non-null  float64\n",
      " 78  secondary_cleaner.state.floatbank4_a_level          20478 non-null  float64\n",
      " 79  secondary_cleaner.state.floatbank4_b_air            20478 non-null  float64\n",
      " 80  secondary_cleaner.state.floatbank4_b_level          20478 non-null  float64\n",
      " 81  secondary_cleaner.state.floatbank5_a_air            20478 non-null  float64\n",
      " 82  secondary_cleaner.state.floatbank5_a_level          20478 non-null  float64\n",
      " 83  secondary_cleaner.state.floatbank5_b_air            20478 non-null  float64\n",
      " 84  secondary_cleaner.state.floatbank5_b_level          20478 non-null  float64\n",
      " 85  secondary_cleaner.state.floatbank6_a_air            20472 non-null  float64\n",
      " 86  secondary_cleaner.state.floatbank6_a_level          20478 non-null  float64\n",
      " 87  total_feed                                          20479 non-null  float64\n",
      " 88  total_rougher                                       20479 non-null  float64\n",
      " 89  total_final                                         20472 non-null  float64\n",
      "dtypes: float64(89), object(1)\n",
      "memory usage: 14.2+ MB\n"
     ]
    }
   ],
   "source": [
    "# Applying the outliers function to the 'total_feed' values in the full data\n",
    "\n",
    "full = outliers(full, full['total_feed']) \n",
    "full.info()"
   ]
  },
  {
   "cell_type": "code",
   "execution_count": 129,
   "id": "34d6f25b-4ca2-47e8-a64d-d310792720f7",
   "metadata": {},
   "outputs": [],
   "source": [
    "# Applying the function to recalculate the total concentrations at the feed level\n",
    "\n",
    "full['total_feed'] = total_conc(full,'rougher.input.feed_au', 'rougher.input.feed_ag' , 'rougher.input.feed_pb')"
   ]
  },
  {
   "cell_type": "code",
   "execution_count": 130,
   "id": "1832dd49-90ac-4ffd-82e9-71a3b8f71a4f",
   "metadata": {},
   "outputs": [
    {
     "data": {
      "image/png": "[encoded data removed]",
      "text/plain": [
       "<Figure size 432x288 with 1 Axes>"
      ]
     },
     "metadata": {
      "needs_background": "light"
     },
     "output_type": "display_data"
    }
   ],
   "source": [
    "# Reexamining the total distrbution of the 'total_feed'\n",
    "\n",
    "totals('total_feed')"
   ]
  },
  {
   "cell_type": "markdown",
   "id": "5cec4abb-6b2c-49f9-b722-e655cd0f9b6e",
   "metadata": {},
   "source": [
    "After removing outliers, 20479 records or 90% of the data in the full data remain. We will use this data and filter it to create a new train and a new test set that would have the same order of columns and rows to help train our model. "
   ]
  },
  {
   "cell_type": "markdown",
   "id": "2f7c9de3-151e-4488-aaaa-69c021c09142",
   "metadata": {
    "tags": []
   },
   "source": [
    "## New Train Set\n",
    "\n",
    "We will use the train df to filter records from the full df that belong to the train set.\n",
    "Then we will filter the new train df so that it will contain only the features matching with the test set. This filtered train df will be used to assign the features in model training. Before we do this, we will drop missing values from the full data."
   ]
  },
  {
   "cell_type": "code",
   "execution_count": 131,
   "id": "81bf8dc4-38c5-4f55-b8fc-d16ae6c3c164",
   "metadata": {},
   "outputs": [
    {
     "name": "stdout",
     "output_type": "stream",
     "text": [
      "<class 'pandas.core.frame.DataFrame'>\n",
      "Int64Index: 16082 entries, 0 to 22715\n",
      "Data columns (total 90 columns):\n",
      " #   Column                                              Non-Null Count  Dtype  \n",
      "---  ------                                              --------------  -----  \n",
      " 0   date                                                16082 non-null  object \n",
      " 1   final.output.concentrate_ag                         16082 non-null  float64\n",
      " 2   final.output.concentrate_pb                         16082 non-null  float64\n",
      " 3   final.output.concentrate_sol                        16082 non-null  float64\n",
      " 4   final.output.concentrate_au                         16082 non-null  float64\n",
      " 5   final.output.recovery                               16082 non-null  float64\n",
      " 6   final.output.tail_ag                                16082 non-null  float64\n",
      " 7   final.output.tail_pb                                16082 non-null  float64\n",
      " 8   final.output.tail_sol                               16082 non-null  float64\n",
      " 9   final.output.tail_au                                16082 non-null  float64\n",
      " 10  primary_cleaner.input.sulfate                       16082 non-null  float64\n",
      " 11  primary_cleaner.input.depressant                    16082 non-null  float64\n",
      " 12  primary_cleaner.input.feed_size                     16082 non-null  float64\n",
      " 13  primary_cleaner.input.xanthate                      16082 non-null  float64\n",
      " 14  primary_cleaner.output.concentrate_ag               16082 non-null  float64\n",
      " 15  primary_cleaner.output.concentrate_pb               16082 non-null  float64\n",
      " 16  primary_cleaner.output.concentrate_sol              16082 non-null  float64\n",
      " 17  primary_cleaner.output.concentrate_au               16082 non-null  float64\n",
      " 18  primary_cleaner.output.tail_ag                      16082 non-null  float64\n",
      " 19  primary_cleaner.output.tail_pb                      16082 non-null  float64\n",
      " 20  primary_cleaner.output.tail_sol                     16082 non-null  float64\n",
      " 21  primary_cleaner.output.tail_au                      16082 non-null  float64\n",
      " 22  primary_cleaner.state.floatbank8_a_air              16082 non-null  float64\n",
      " 23  primary_cleaner.state.floatbank8_a_level            16082 non-null  float64\n",
      " 24  primary_cleaner.state.floatbank8_b_air              16082 non-null  float64\n",
      " 25  primary_cleaner.state.floatbank8_b_level            16082 non-null  float64\n",
      " 26  primary_cleaner.state.floatbank8_c_air              16082 non-null  float64\n",
      " 27  primary_cleaner.state.floatbank8_c_level            16082 non-null  float64\n",
      " 28  primary_cleaner.state.floatbank8_d_air              16082 non-null  float64\n",
      " 29  primary_cleaner.state.floatbank8_d_level            16082 non-null  float64\n",
      " 30  rougher.calculation.sulfate_to_au_concentrate       16082 non-null  float64\n",
      " 31  rougher.calculation.floatbank10_sulfate_to_au_feed  16082 non-null  float64\n",
      " 32  rougher.calculation.floatbank11_sulfate_to_au_feed  16082 non-null  float64\n",
      " 33  rougher.calculation.au_pb_ratio                     16082 non-null  float64\n",
      " 34  rougher.input.feed_ag                               16082 non-null  float64\n",
      " 35  rougher.input.feed_pb                               16082 non-null  float64\n",
      " 36  rougher.input.feed_rate                             16082 non-null  float64\n",
      " 37  rougher.input.feed_size                             16082 non-null  float64\n",
      " 38  rougher.input.feed_sol                              16082 non-null  float64\n",
      " 39  rougher.input.feed_au                               16082 non-null  float64\n",
      " 40  rougher.input.floatbank10_sulfate                   16082 non-null  float64\n",
      " 41  rougher.input.floatbank10_xanthate                  16082 non-null  float64\n",
      " 42  rougher.input.floatbank11_sulfate                   16082 non-null  float64\n",
      " 43  rougher.input.floatbank11_xanthate                  16082 non-null  float64\n",
      " 44  rougher.output.concentrate_ag                       16082 non-null  float64\n",
      " 45  rougher.output.concentrate_pb                       16082 non-null  float64\n",
      " 46  rougher.output.concentrate_sol                      16082 non-null  float64\n",
      " 47  rougher.output.concentrate_au                       16082 non-null  float64\n",
      " 48  rougher.output.recovery                             16082 non-null  float64\n",
      " 49  rougher.output.tail_ag                              16082 non-null  float64\n",
      " 50  rougher.output.tail_pb                              16082 non-null  float64\n",
      " 51  rougher.output.tail_sol                             16082 non-null  float64\n",
      " 52  rougher.output.tail_au                              16082 non-null  float64\n",
      " 53  rougher.state.floatbank10_a_air                     16082 non-null  float64\n",
      " 54  rougher.state.floatbank10_a_level                   16082 non-null  float64\n",
      " 55  rougher.state.floatbank10_b_air                     16082 non-null  float64\n",
      " 56  rougher.state.floatbank10_b_level                   16082 non-null  float64\n",
      " 57  rougher.state.floatbank10_c_air                     16082 non-null  float64\n",
      " 58  rougher.state.floatbank10_c_level                   16082 non-null  float64\n",
      " 59  rougher.state.floatbank10_d_air                     16082 non-null  float64\n",
      " 60  rougher.state.floatbank10_d_level                   16082 non-null  float64\n",
      " 61  rougher.state.floatbank10_e_air                     16082 non-null  float64\n",
      " 62  rougher.state.floatbank10_e_level                   16082 non-null  float64\n",
      " 63  rougher.state.floatbank10_f_air                     16082 non-null  float64\n",
      " 64  rougher.state.floatbank10_f_level                   16082 non-null  float64\n",
      " 65  secondary_cleaner.output.tail_ag                    16082 non-null  float64\n",
      " 66  secondary_cleaner.output.tail_pb                    16082 non-null  float64\n",
      " 67  secondary_cleaner.output.tail_sol                   16082 non-null  float64\n",
      " 68  secondary_cleaner.output.tail_au                    16082 non-null  float64\n",
      " 69  secondary_cleaner.state.floatbank2_a_air            16082 non-null  float64\n",
      " 70  secondary_cleaner.state.floatbank2_a_level          16082 non-null  float64\n",
      " 71  secondary_cleaner.state.floatbank2_b_air            16082 non-null  float64\n",
      " 72  secondary_cleaner.state.floatbank2_b_level          16082 non-null  float64\n",
      " 73  secondary_cleaner.state.floatbank3_a_air            16082 non-null  float64\n",
      " 74  secondary_cleaner.state.floatbank3_a_level          16082 non-null  float64\n",
      " 75  secondary_cleaner.state.floatbank3_b_air            16082 non-null  float64\n",
      " 76  secondary_cleaner.state.floatbank3_b_level          16082 non-null  float64\n",
      " 77  secondary_cleaner.state.floatbank4_a_air            16082 non-null  float64\n",
      " 78  secondary_cleaner.state.floatbank4_a_level          16082 non-null  float64\n",
      " 79  secondary_cleaner.state.floatbank4_b_air            16082 non-null  float64\n",
      " 80  secondary_cleaner.state.floatbank4_b_level          16082 non-null  float64\n",
      " 81  secondary_cleaner.state.floatbank5_a_air            16082 non-null  float64\n",
      " 82  secondary_cleaner.state.floatbank5_a_level          16082 non-null  float64\n",
      " 83  secondary_cleaner.state.floatbank5_b_air            16082 non-null  float64\n",
      " 84  secondary_cleaner.state.floatbank5_b_level          16082 non-null  float64\n",
      " 85  secondary_cleaner.state.floatbank6_a_air            16082 non-null  float64\n",
      " 86  secondary_cleaner.state.floatbank6_a_level          16082 non-null  float64\n",
      " 87  total_feed                                          16082 non-null  float64\n",
      " 88  total_rougher                                       16082 non-null  float64\n",
      " 89  total_final                                         16082 non-null  float64\n",
      "dtypes: float64(89), object(1)\n",
      "memory usage: 11.2+ MB\n"
     ]
    }
   ],
   "source": [
    "# Dropping missing values from full for model training\n",
    "\n",
    "full = full.dropna()\n",
    "full.info()"
   ]
  },
  {
   "cell_type": "markdown",
   "id": "558cca9d-27ff-4d48-bfc2-87069a8e441d",
   "metadata": {},
   "source": [
    "After dropping mxissing values, the train set contained 11001 rows, the remaining 65% of the data."
   ]
  },
  {
   "cell_type": "code",
   "execution_count": 132,
   "id": "91bcc6e7-a507-4f93-8601-152c7198fecd",
   "metadata": {},
   "outputs": [
    {
     "name": "stdout",
     "output_type": "stream",
     "text": [
      "<class 'pandas.core.frame.DataFrame'>\n",
      "Int64Index: 11006 entries, 0 to 22715\n",
      "Data columns (total 90 columns):\n",
      " #   Column                                              Non-Null Count  Dtype  \n",
      "---  ------                                              --------------  -----  \n",
      " 0   date                                                11006 non-null  object \n",
      " 1   final.output.concentrate_ag                         11006 non-null  float64\n",
      " 2   final.output.concentrate_pb                         11006 non-null  float64\n",
      " 3   final.output.concentrate_sol                        11006 non-null  float64\n",
      " 4   final.output.concentrate_au                         11006 non-null  float64\n",
      " 5   final.output.recovery                               11006 non-null  float64\n",
      " 6   final.output.tail_ag                                11006 non-null  float64\n",
      " 7   final.output.tail_pb                                11006 non-null  float64\n",
      " 8   final.output.tail_sol                               11006 non-null  float64\n",
      " 9   final.output.tail_au                                11006 non-null  float64\n",
      " 10  primary_cleaner.input.sulfate                       11006 non-null  float64\n",
      " 11  primary_cleaner.input.depressant                    11006 non-null  float64\n",
      " 12  primary_cleaner.input.feed_size                     11006 non-null  float64\n",
      " 13  primary_cleaner.input.xanthate                      11006 non-null  float64\n",
      " 14  primary_cleaner.output.concentrate_ag               11006 non-null  float64\n",
      " 15  primary_cleaner.output.concentrate_pb               11006 non-null  float64\n",
      " 16  primary_cleaner.output.concentrate_sol              11006 non-null  float64\n",
      " 17  primary_cleaner.output.concentrate_au               11006 non-null  float64\n",
      " 18  primary_cleaner.output.tail_ag                      11006 non-null  float64\n",
      " 19  primary_cleaner.output.tail_pb                      11006 non-null  float64\n",
      " 20  primary_cleaner.output.tail_sol                     11006 non-null  float64\n",
      " 21  primary_cleaner.output.tail_au                      11006 non-null  float64\n",
      " 22  primary_cleaner.state.floatbank8_a_air              11006 non-null  float64\n",
      " 23  primary_cleaner.state.floatbank8_a_level            11006 non-null  float64\n",
      " 24  primary_cleaner.state.floatbank8_b_air              11006 non-null  float64\n",
      " 25  primary_cleaner.state.floatbank8_b_level            11006 non-null  float64\n",
      " 26  primary_cleaner.state.floatbank8_c_air              11006 non-null  float64\n",
      " 27  primary_cleaner.state.floatbank8_c_level            11006 non-null  float64\n",
      " 28  primary_cleaner.state.floatbank8_d_air              11006 non-null  float64\n",
      " 29  primary_cleaner.state.floatbank8_d_level            11006 non-null  float64\n",
      " 30  rougher.calculation.sulfate_to_au_concentrate       11006 non-null  float64\n",
      " 31  rougher.calculation.floatbank10_sulfate_to_au_feed  11006 non-null  float64\n",
      " 32  rougher.calculation.floatbank11_sulfate_to_au_feed  11006 non-null  float64\n",
      " 33  rougher.calculation.au_pb_ratio                     11006 non-null  float64\n",
      " 34  rougher.input.feed_ag                               11006 non-null  float64\n",
      " 35  rougher.input.feed_pb                               11006 non-null  float64\n",
      " 36  rougher.input.feed_rate                             11006 non-null  float64\n",
      " 37  rougher.input.feed_size                             11006 non-null  float64\n",
      " 38  rougher.input.feed_sol                              11006 non-null  float64\n",
      " 39  rougher.input.feed_au                               11006 non-null  float64\n",
      " 40  rougher.input.floatbank10_sulfate                   11006 non-null  float64\n",
      " 41  rougher.input.floatbank10_xanthate                  11006 non-null  float64\n",
      " 42  rougher.input.floatbank11_sulfate                   11006 non-null  float64\n",
      " 43  rougher.input.floatbank11_xanthate                  11006 non-null  float64\n",
      " 44  rougher.output.concentrate_ag                       11006 non-null  float64\n",
      " 45  rougher.output.concentrate_pb                       11006 non-null  float64\n",
      " 46  rougher.output.concentrate_sol                      11006 non-null  float64\n",
      " 47  rougher.output.concentrate_au                       11006 non-null  float64\n",
      " 48  rougher.output.recovery                             11006 non-null  float64\n",
      " 49  rougher.output.tail_ag                              11006 non-null  float64\n",
      " 50  rougher.output.tail_pb                              11006 non-null  float64\n",
      " 51  rougher.output.tail_sol                             11006 non-null  float64\n",
      " 52  rougher.output.tail_au                              11006 non-null  float64\n",
      " 53  rougher.state.floatbank10_a_air                     11006 non-null  float64\n",
      " 54  rougher.state.floatbank10_a_level                   11006 non-null  float64\n",
      " 55  rougher.state.floatbank10_b_air                     11006 non-null  float64\n",
      " 56  rougher.state.floatbank10_b_level                   11006 non-null  float64\n",
      " 57  rougher.state.floatbank10_c_air                     11006 non-null  float64\n",
      " 58  rougher.state.floatbank10_c_level                   11006 non-null  float64\n",
      " 59  rougher.state.floatbank10_d_air                     11006 non-null  float64\n",
      " 60  rougher.state.floatbank10_d_level                   11006 non-null  float64\n",
      " 61  rougher.state.floatbank10_e_air                     11006 non-null  float64\n",
      " 62  rougher.state.floatbank10_e_level                   11006 non-null  float64\n",
      " 63  rougher.state.floatbank10_f_air                     11006 non-null  float64\n",
      " 64  rougher.state.floatbank10_f_level                   11006 non-null  float64\n",
      " 65  secondary_cleaner.output.tail_ag                    11006 non-null  float64\n",
      " 66  secondary_cleaner.output.tail_pb                    11006 non-null  float64\n",
      " 67  secondary_cleaner.output.tail_sol                   11006 non-null  float64\n",
      " 68  secondary_cleaner.output.tail_au                    11006 non-null  float64\n",
      " 69  secondary_cleaner.state.floatbank2_a_air            11006 non-null  float64\n",
      " 70  secondary_cleaner.state.floatbank2_a_level          11006 non-null  float64\n",
      " 71  secondary_cleaner.state.floatbank2_b_air            11006 non-null  float64\n",
      " 72  secondary_cleaner.state.floatbank2_b_level          11006 non-null  float64\n",
      " 73  secondary_cleaner.state.floatbank3_a_air            11006 non-null  float64\n",
      " 74  secondary_cleaner.state.floatbank3_a_level          11006 non-null  float64\n",
      " 75  secondary_cleaner.state.floatbank3_b_air            11006 non-null  float64\n",
      " 76  secondary_cleaner.state.floatbank3_b_level          11006 non-null  float64\n",
      " 77  secondary_cleaner.state.floatbank4_a_air            11006 non-null  float64\n",
      " 78  secondary_cleaner.state.floatbank4_a_level          11006 non-null  float64\n",
      " 79  secondary_cleaner.state.floatbank4_b_air            11006 non-null  float64\n",
      " 80  secondary_cleaner.state.floatbank4_b_level          11006 non-null  float64\n",
      " 81  secondary_cleaner.state.floatbank5_a_air            11006 non-null  float64\n",
      " 82  secondary_cleaner.state.floatbank5_a_level          11006 non-null  float64\n",
      " 83  secondary_cleaner.state.floatbank5_b_air            11006 non-null  float64\n",
      " 84  secondary_cleaner.state.floatbank5_b_level          11006 non-null  float64\n",
      " 85  secondary_cleaner.state.floatbank6_a_air            11006 non-null  float64\n",
      " 86  secondary_cleaner.state.floatbank6_a_level          11006 non-null  float64\n",
      " 87  total_feed                                          11006 non-null  float64\n",
      " 88  total_rougher                                       11006 non-null  float64\n",
      " 89  total_final                                         11006 non-null  float64\n",
      "dtypes: float64(89), object(1)\n",
      "memory usage: 7.6+ MB\n"
     ]
    }
   ],
   "source": [
    "# Filtering full to identify records in train set using 'date' as a common identifier\n",
    "\n",
    "train2 = full.loc[full['date'].isin(train['date'])]\n",
    "train2.info()"
   ]
  },
  {
   "cell_type": "code",
   "execution_count": 133,
   "id": "54c01e17-320c-4c1c-973f-0e8de71d2db4",
   "metadata": {},
   "outputs": [
    {
     "name": "stdout",
     "output_type": "stream",
     "text": [
      "<class 'pandas.core.frame.DataFrame'>\n",
      "Int64Index: 11006 entries, 0 to 22715\n",
      "Data columns (total 53 columns):\n",
      " #   Column                                      Non-Null Count  Dtype  \n",
      "---  ------                                      --------------  -----  \n",
      " 0   date                                        11006 non-null  object \n",
      " 1   primary_cleaner.input.depressant            11006 non-null  float64\n",
      " 2   primary_cleaner.input.feed_size             11006 non-null  float64\n",
      " 3   primary_cleaner.input.sulfate               11006 non-null  float64\n",
      " 4   primary_cleaner.input.xanthate              11006 non-null  float64\n",
      " 5   primary_cleaner.state.floatbank8_a_air      11006 non-null  float64\n",
      " 6   primary_cleaner.state.floatbank8_a_level    11006 non-null  float64\n",
      " 7   primary_cleaner.state.floatbank8_b_air      11006 non-null  float64\n",
      " 8   primary_cleaner.state.floatbank8_b_level    11006 non-null  float64\n",
      " 9   primary_cleaner.state.floatbank8_c_air      11006 non-null  float64\n",
      " 10  primary_cleaner.state.floatbank8_c_level    11006 non-null  float64\n",
      " 11  primary_cleaner.state.floatbank8_d_air      11006 non-null  float64\n",
      " 12  primary_cleaner.state.floatbank8_d_level    11006 non-null  float64\n",
      " 13  rougher.input.feed_ag                       11006 non-null  float64\n",
      " 14  rougher.input.feed_au                       11006 non-null  float64\n",
      " 15  rougher.input.feed_pb                       11006 non-null  float64\n",
      " 16  rougher.input.feed_rate                     11006 non-null  float64\n",
      " 17  rougher.input.feed_size                     11006 non-null  float64\n",
      " 18  rougher.input.feed_sol                      11006 non-null  float64\n",
      " 19  rougher.input.floatbank10_sulfate           11006 non-null  float64\n",
      " 20  rougher.input.floatbank10_xanthate          11006 non-null  float64\n",
      " 21  rougher.input.floatbank11_sulfate           11006 non-null  float64\n",
      " 22  rougher.input.floatbank11_xanthate          11006 non-null  float64\n",
      " 23  rougher.state.floatbank10_a_air             11006 non-null  float64\n",
      " 24  rougher.state.floatbank10_a_level           11006 non-null  float64\n",
      " 25  rougher.state.floatbank10_b_air             11006 non-null  float64\n",
      " 26  rougher.state.floatbank10_b_level           11006 non-null  float64\n",
      " 27  rougher.state.floatbank10_c_air             11006 non-null  float64\n",
      " 28  rougher.state.floatbank10_c_level           11006 non-null  float64\n",
      " 29  rougher.state.floatbank10_d_air             11006 non-null  float64\n",
      " 30  rougher.state.floatbank10_d_level           11006 non-null  float64\n",
      " 31  rougher.state.floatbank10_e_air             11006 non-null  float64\n",
      " 32  rougher.state.floatbank10_e_level           11006 non-null  float64\n",
      " 33  rougher.state.floatbank10_f_air             11006 non-null  float64\n",
      " 34  rougher.state.floatbank10_f_level           11006 non-null  float64\n",
      " 35  secondary_cleaner.state.floatbank2_a_air    11006 non-null  float64\n",
      " 36  secondary_cleaner.state.floatbank2_a_level  11006 non-null  float64\n",
      " 37  secondary_cleaner.state.floatbank2_b_air    11006 non-null  float64\n",
      " 38  secondary_cleaner.state.floatbank2_b_level  11006 non-null  float64\n",
      " 39  secondary_cleaner.state.floatbank3_a_air    11006 non-null  float64\n",
      " 40  secondary_cleaner.state.floatbank3_a_level  11006 non-null  float64\n",
      " 41  secondary_cleaner.state.floatbank3_b_air    11006 non-null  float64\n",
      " 42  secondary_cleaner.state.floatbank3_b_level  11006 non-null  float64\n",
      " 43  secondary_cleaner.state.floatbank4_a_air    11006 non-null  float64\n",
      " 44  secondary_cleaner.state.floatbank4_a_level  11006 non-null  float64\n",
      " 45  secondary_cleaner.state.floatbank4_b_air    11006 non-null  float64\n",
      " 46  secondary_cleaner.state.floatbank4_b_level  11006 non-null  float64\n",
      " 47  secondary_cleaner.state.floatbank5_a_air    11006 non-null  float64\n",
      " 48  secondary_cleaner.state.floatbank5_a_level  11006 non-null  float64\n",
      " 49  secondary_cleaner.state.floatbank5_b_air    11006 non-null  float64\n",
      " 50  secondary_cleaner.state.floatbank5_b_level  11006 non-null  float64\n",
      " 51  secondary_cleaner.state.floatbank6_a_air    11006 non-null  float64\n",
      " 52  secondary_cleaner.state.floatbank6_a_level  11006 non-null  float64\n",
      "dtypes: float64(52), object(1)\n",
      "memory usage: 4.5+ MB\n"
     ]
    }
   ],
   "source": [
    "# Filtering train set so that it contains only 53 columns containing features included in the test set\n",
    "\n",
    "train2_missing = list(set(train2) - set(test))\n",
    "train2_matching = list(set(train2) - set(train2_missing))\n",
    "train2_matching.sort()\n",
    "train2_features = train2.filter(train2_matching, axis=1)\n",
    "\n",
    "train2_features.info()"
   ]
  },
  {
   "cell_type": "markdown",
   "id": "dfffec35-ab59-42db-bf2c-a197363b6402",
   "metadata": {},
   "source": [
    "## New Test Set\n",
    "\n",
    "We will use the test df to filter records from the full df that belong to the test set.\n",
    "Then we will filter the new test df so that it will contain only the features matching with the test set. This filtered train df will be used to assign the features in model training."
   ]
  },
  {
   "cell_type": "code",
   "execution_count": 134,
   "id": "b69fe605-175a-4305-b278-821b2bae6b20",
   "metadata": {},
   "outputs": [
    {
     "name": "stdout",
     "output_type": "stream",
     "text": [
      "<class 'pandas.core.frame.DataFrame'>\n",
      "Int64Index: 5076 entries, 5521 to 17208\n",
      "Data columns (total 90 columns):\n",
      " #   Column                                              Non-Null Count  Dtype  \n",
      "---  ------                                              --------------  -----  \n",
      " 0   date                                                5076 non-null   object \n",
      " 1   final.output.concentrate_ag                         5076 non-null   float64\n",
      " 2   final.output.concentrate_pb                         5076 non-null   float64\n",
      " 3   final.output.concentrate_sol                        5076 non-null   float64\n",
      " 4   final.output.concentrate_au                         5076 non-null   float64\n",
      " 5   final.output.recovery                               5076 non-null   float64\n",
      " 6   final.output.tail_ag                                5076 non-null   float64\n",
      " 7   final.output.tail_pb                                5076 non-null   float64\n",
      " 8   final.output.tail_sol                               5076 non-null   float64\n",
      " 9   final.output.tail_au                                5076 non-null   float64\n",
      " 10  primary_cleaner.input.sulfate                       5076 non-null   float64\n",
      " 11  primary_cleaner.input.depressant                    5076 non-null   float64\n",
      " 12  primary_cleaner.input.feed_size                     5076 non-null   float64\n",
      " 13  primary_cleaner.input.xanthate                      5076 non-null   float64\n",
      " 14  primary_cleaner.output.concentrate_ag               5076 non-null   float64\n",
      " 15  primary_cleaner.output.concentrate_pb               5076 non-null   float64\n",
      " 16  primary_cleaner.output.concentrate_sol              5076 non-null   float64\n",
      " 17  primary_cleaner.output.concentrate_au               5076 non-null   float64\n",
      " 18  primary_cleaner.output.tail_ag                      5076 non-null   float64\n",
      " 19  primary_cleaner.output.tail_pb                      5076 non-null   float64\n",
      " 20  primary_cleaner.output.tail_sol                     5076 non-null   float64\n",
      " 21  primary_cleaner.output.tail_au                      5076 non-null   float64\n",
      " 22  primary_cleaner.state.floatbank8_a_air              5076 non-null   float64\n",
      " 23  primary_cleaner.state.floatbank8_a_level            5076 non-null   float64\n",
      " 24  primary_cleaner.state.floatbank8_b_air              5076 non-null   float64\n",
      " 25  primary_cleaner.state.floatbank8_b_level            5076 non-null   float64\n",
      " 26  primary_cleaner.state.floatbank8_c_air              5076 non-null   float64\n",
      " 27  primary_cleaner.state.floatbank8_c_level            5076 non-null   float64\n",
      " 28  primary_cleaner.state.floatbank8_d_air              5076 non-null   float64\n",
      " 29  primary_cleaner.state.floatbank8_d_level            5076 non-null   float64\n",
      " 30  rougher.calculation.sulfate_to_au_concentrate       5076 non-null   float64\n",
      " 31  rougher.calculation.floatbank10_sulfate_to_au_feed  5076 non-null   float64\n",
      " 32  rougher.calculation.floatbank11_sulfate_to_au_feed  5076 non-null   float64\n",
      " 33  rougher.calculation.au_pb_ratio                     5076 non-null   float64\n",
      " 34  rougher.input.feed_ag                               5076 non-null   float64\n",
      " 35  rougher.input.feed_pb                               5076 non-null   float64\n",
      " 36  rougher.input.feed_rate                             5076 non-null   float64\n",
      " 37  rougher.input.feed_size                             5076 non-null   float64\n",
      " 38  rougher.input.feed_sol                              5076 non-null   float64\n",
      " 39  rougher.input.feed_au                               5076 non-null   float64\n",
      " 40  rougher.input.floatbank10_sulfate                   5076 non-null   float64\n",
      " 41  rougher.input.floatbank10_xanthate                  5076 non-null   float64\n",
      " 42  rougher.input.floatbank11_sulfate                   5076 non-null   float64\n",
      " 43  rougher.input.floatbank11_xanthate                  5076 non-null   float64\n",
      " 44  rougher.output.concentrate_ag                       5076 non-null   float64\n",
      " 45  rougher.output.concentrate_pb                       5076 non-null   float64\n",
      " 46  rougher.output.concentrate_sol                      5076 non-null   float64\n",
      " 47  rougher.output.concentrate_au                       5076 non-null   float64\n",
      " 48  rougher.output.recovery                             5076 non-null   float64\n",
      " 49  rougher.output.tail_ag                              5076 non-null   float64\n",
      " 50  rougher.output.tail_pb                              5076 non-null   float64\n",
      " 51  rougher.output.tail_sol                             5076 non-null   float64\n",
      " 52  rougher.output.tail_au                              5076 non-null   float64\n",
      " 53  rougher.state.floatbank10_a_air                     5076 non-null   float64\n",
      " 54  rougher.state.floatbank10_a_level                   5076 non-null   float64\n",
      " 55  rougher.state.floatbank10_b_air                     5076 non-null   float64\n",
      " 56  rougher.state.floatbank10_b_level                   5076 non-null   float64\n",
      " 57  rougher.state.floatbank10_c_air                     5076 non-null   float64\n",
      " 58  rougher.state.floatbank10_c_level                   5076 non-null   float64\n",
      " 59  rougher.state.floatbank10_d_air                     5076 non-null   float64\n",
      " 60  rougher.state.floatbank10_d_level                   5076 non-null   float64\n",
      " 61  rougher.state.floatbank10_e_air                     5076 non-null   float64\n",
      " 62  rougher.state.floatbank10_e_level                   5076 non-null   float64\n",
      " 63  rougher.state.floatbank10_f_air                     5076 non-null   float64\n",
      " 64  rougher.state.floatbank10_f_level                   5076 non-null   float64\n",
      " 65  secondary_cleaner.output.tail_ag                    5076 non-null   float64\n",
      " 66  secondary_cleaner.output.tail_pb                    5076 non-null   float64\n",
      " 67  secondary_cleaner.output.tail_sol                   5076 non-null   float64\n",
      " 68  secondary_cleaner.output.tail_au                    5076 non-null   float64\n",
      " 69  secondary_cleaner.state.floatbank2_a_air            5076 non-null   float64\n",
      " 70  secondary_cleaner.state.floatbank2_a_level          5076 non-null   float64\n",
      " 71  secondary_cleaner.state.floatbank2_b_air            5076 non-null   float64\n",
      " 72  secondary_cleaner.state.floatbank2_b_level          5076 non-null   float64\n",
      " 73  secondary_cleaner.state.floatbank3_a_air            5076 non-null   float64\n",
      " 74  secondary_cleaner.state.floatbank3_a_level          5076 non-null   float64\n",
      " 75  secondary_cleaner.state.floatbank3_b_air            5076 non-null   float64\n",
      " 76  secondary_cleaner.state.floatbank3_b_level          5076 non-null   float64\n",
      " 77  secondary_cleaner.state.floatbank4_a_air            5076 non-null   float64\n",
      " 78  secondary_cleaner.state.floatbank4_a_level          5076 non-null   float64\n",
      " 79  secondary_cleaner.state.floatbank4_b_air            5076 non-null   float64\n",
      " 80  secondary_cleaner.state.floatbank4_b_level          5076 non-null   float64\n",
      " 81  secondary_cleaner.state.floatbank5_a_air            5076 non-null   float64\n",
      " 82  secondary_cleaner.state.floatbank5_a_level          5076 non-null   float64\n",
      " 83  secondary_cleaner.state.floatbank5_b_air            5076 non-null   float64\n",
      " 84  secondary_cleaner.state.floatbank5_b_level          5076 non-null   float64\n",
      " 85  secondary_cleaner.state.floatbank6_a_air            5076 non-null   float64\n",
      " 86  secondary_cleaner.state.floatbank6_a_level          5076 non-null   float64\n",
      " 87  total_feed                                          5076 non-null   float64\n",
      " 88  total_rougher                                       5076 non-null   float64\n",
      " 89  total_final                                         5076 non-null   float64\n",
      "dtypes: float64(89), object(1)\n",
      "memory usage: 3.5+ MB\n"
     ]
    }
   ],
   "source": [
    "# Filtering full to identify records in train set using 'date' as a common identifier.\n",
    "\n",
    "test2 = full.loc[full['date'].isin(test['date'])]\n",
    "\n",
    "test2.info()"
   ]
  },
  {
   "cell_type": "markdown",
   "id": "691748e2-8d21-46d9-af51-4275cfe954e7",
   "metadata": {},
   "source": [
    "After dropping missing values, the test set contained 5073 rows, the remaining 87% of our data."
   ]
  },
  {
   "cell_type": "code",
   "execution_count": 135,
   "id": "376af572-b111-4c89-945d-d1ac9bb7005e",
   "metadata": {},
   "outputs": [
    {
     "name": "stdout",
     "output_type": "stream",
     "text": [
      "<class 'pandas.core.frame.DataFrame'>\n",
      "Int64Index: 5076 entries, 5521 to 17208\n",
      "Data columns (total 53 columns):\n",
      " #   Column                                      Non-Null Count  Dtype  \n",
      "---  ------                                      --------------  -----  \n",
      " 0   date                                        5076 non-null   object \n",
      " 1   primary_cleaner.input.depressant            5076 non-null   float64\n",
      " 2   primary_cleaner.input.feed_size             5076 non-null   float64\n",
      " 3   primary_cleaner.input.sulfate               5076 non-null   float64\n",
      " 4   primary_cleaner.input.xanthate              5076 non-null   float64\n",
      " 5   primary_cleaner.state.floatbank8_a_air      5076 non-null   float64\n",
      " 6   primary_cleaner.state.floatbank8_a_level    5076 non-null   float64\n",
      " 7   primary_cleaner.state.floatbank8_b_air      5076 non-null   float64\n",
      " 8   primary_cleaner.state.floatbank8_b_level    5076 non-null   float64\n",
      " 9   primary_cleaner.state.floatbank8_c_air      5076 non-null   float64\n",
      " 10  primary_cleaner.state.floatbank8_c_level    5076 non-null   float64\n",
      " 11  primary_cleaner.state.floatbank8_d_air      5076 non-null   float64\n",
      " 12  primary_cleaner.state.floatbank8_d_level    5076 non-null   float64\n",
      " 13  rougher.input.feed_ag                       5076 non-null   float64\n",
      " 14  rougher.input.feed_au                       5076 non-null   float64\n",
      " 15  rougher.input.feed_pb                       5076 non-null   float64\n",
      " 16  rougher.input.feed_rate                     5076 non-null   float64\n",
      " 17  rougher.input.feed_size                     5076 non-null   float64\n",
      " 18  rougher.input.feed_sol                      5076 non-null   float64\n",
      " 19  rougher.input.floatbank10_sulfate           5076 non-null   float64\n",
      " 20  rougher.input.floatbank10_xanthate          5076 non-null   float64\n",
      " 21  rougher.input.floatbank11_sulfate           5076 non-null   float64\n",
      " 22  rougher.input.floatbank11_xanthate          5076 non-null   float64\n",
      " 23  rougher.state.floatbank10_a_air             5076 non-null   float64\n",
      " 24  rougher.state.floatbank10_a_level           5076 non-null   float64\n",
      " 25  rougher.state.floatbank10_b_air             5076 non-null   float64\n",
      " 26  rougher.state.floatbank10_b_level           5076 non-null   float64\n",
      " 27  rougher.state.floatbank10_c_air             5076 non-null   float64\n",
      " 28  rougher.state.floatbank10_c_level           5076 non-null   float64\n",
      " 29  rougher.state.floatbank10_d_air             5076 non-null   float64\n",
      " 30  rougher.state.floatbank10_d_level           5076 non-null   float64\n",
      " 31  rougher.state.floatbank10_e_air             5076 non-null   float64\n",
      " 32  rougher.state.floatbank10_e_level           5076 non-null   float64\n",
      " 33  rougher.state.floatbank10_f_air             5076 non-null   float64\n",
      " 34  rougher.state.floatbank10_f_level           5076 non-null   float64\n",
      " 35  secondary_cleaner.state.floatbank2_a_air    5076 non-null   float64\n",
      " 36  secondary_cleaner.state.floatbank2_a_level  5076 non-null   float64\n",
      " 37  secondary_cleaner.state.floatbank2_b_air    5076 non-null   float64\n",
      " 38  secondary_cleaner.state.floatbank2_b_level  5076 non-null   float64\n",
      " 39  secondary_cleaner.state.floatbank3_a_air    5076 non-null   float64\n",
      " 40  secondary_cleaner.state.floatbank3_a_level  5076 non-null   float64\n",
      " 41  secondary_cleaner.state.floatbank3_b_air    5076 non-null   float64\n",
      " 42  secondary_cleaner.state.floatbank3_b_level  5076 non-null   float64\n",
      " 43  secondary_cleaner.state.floatbank4_a_air    5076 non-null   float64\n",
      " 44  secondary_cleaner.state.floatbank4_a_level  5076 non-null   float64\n",
      " 45  secondary_cleaner.state.floatbank4_b_air    5076 non-null   float64\n",
      " 46  secondary_cleaner.state.floatbank4_b_level  5076 non-null   float64\n",
      " 47  secondary_cleaner.state.floatbank5_a_air    5076 non-null   float64\n",
      " 48  secondary_cleaner.state.floatbank5_a_level  5076 non-null   float64\n",
      " 49  secondary_cleaner.state.floatbank5_b_air    5076 non-null   float64\n",
      " 50  secondary_cleaner.state.floatbank5_b_level  5076 non-null   float64\n",
      " 51  secondary_cleaner.state.floatbank6_a_air    5076 non-null   float64\n",
      " 52  secondary_cleaner.state.floatbank6_a_level  5076 non-null   float64\n",
      "dtypes: float64(52), object(1)\n",
      "memory usage: 2.1+ MB\n"
     ]
    }
   ],
   "source": [
    "# Filtering test set so that it containsonly 53 columns containing features included in the test set\n",
    "\n",
    "test2_missing = list(set(test2) - set(test))\n",
    "test2_matching = list(set(test2) - set(test2_missing))\n",
    "test2_matching.sort()\n",
    "test2_features = test2.filter(test2_matching, axis=1)\n",
    "\n",
    "test2_features.info()"
   ]
  },
  {
   "cell_type": "markdown",
   "id": "14688df4-1626-4562-aa96-598c1635ea0c",
   "metadata": {},
   "source": [
    "# Model Development\n",
    "\n",
    "We will assign different dataframes to the train and test features and targets."
   ]
  },
  {
   "cell_type": "code",
   "execution_count": 136,
   "id": "402c69b3-06c4-4291-85f6-83b7968dcb8a",
   "metadata": {},
   "outputs": [],
   "source": [
    "# Selecting the features and targets\n",
    "\n",
    "features_train = train2_features.drop(['date'], axis=1) \n",
    "target_train = train2[['rougher.output.recovery', 'final.output.recovery']]\n",
    "\n",
    "features_test = test2_features.drop(['date'], axis=1)\n",
    "target_test = test2[['rougher.output.recovery', 'final.output.recovery']]"
   ]
  },
  {
   "cell_type": "markdown",
   "id": "eb068842-2e85-4d39-b338-1083916b56ae",
   "metadata": {},
   "source": [
    "## Data Standardization \n",
    "\n",
    "We need to standardize the features so that features with higher values do not get unnecessary weighting during the model training. We will use standard scaler to standardize the data."
   ]
  },
  {
   "cell_type": "markdown",
   "id": "94111f3d-777c-4172-85ff-ee0d7a6d603f",
   "metadata": {},
   "source": [
    "We will create a function to calculate the SMAPE value and train models to predict the outcomes of the purification process."
   ]
  },
  {
   "cell_type": "markdown",
   "id": "4d04ba45-dfac-4eec-944d-9742d7fa4e90",
   "metadata": {},
   "source": [
    "## SMAPE Function"
   ]
  },
  {
   "cell_type": "code",
   "execution_count": 137,
   "id": "a9412c38-1723-45bd-be4b-e59c334ae7ab",
   "metadata": {},
   "outputs": [],
   "source": [
    "# Creating function to calculate sMAPE.\n",
    "def smape2(y_true, y_pred):\n",
    "    smape = np.mean(abs(y_pred - y_true) / ((abs(y_true) + abs(y_pred)) / 2)) * 100 \n",
    "    return smape"
   ]
  },
  {
   "cell_type": "code",
   "execution_count": 138,
   "id": "cab068a9-6528-4636-8249-19d8fd6424d6",
   "metadata": {},
   "outputs": [],
   "source": [
    "# Create function to calculate final sMAPE.\n",
    "def final_smape(smape_rougher, smape_final):\n",
    "    fs = (0.25 * (smape_rougher)) + ( 0.75 * (smape_final))\n",
    "    return fs"
   ]
  },
  {
   "cell_type": "markdown",
   "id": "d53d964b-f82e-49e5-b7fe-e764183a5ac5",
   "metadata": {},
   "source": [
    "# Model Training\n",
    "\n",
    "We will create a function to score the model training using sMAPE with make_scorer as a scorer for cross validation."
   ]
  },
  {
   "cell_type": "code",
   "execution_count": 139,
   "id": "0210fc39-cfdb-4567-ab4c-966b9dcfcc0d",
   "metadata": {},
   "outputs": [],
   "source": [
    "# Creating function for model training using cross-validation\n",
    "\n",
    "def cross_val(model, features, target):\n",
    "    \n",
    "    scores = cross_val_score(model, features, target, cv=5, scoring=make_scorer(smape2), verbose=0)\n",
    "    final_score = sum(scores) / len(scores)\n",
    "    return final_score"
   ]
  },
  {
   "cell_type": "markdown",
   "id": "1df3dd9a-443c-4d3c-9edd-a9ceb626e923",
   "metadata": {},
   "source": [
    "Since there are two outputs, we will split the target into two outputs in order to train and score each model. We will select as the best model the model that has the lowest combined sMAPE score."
   ]
  },
  {
   "cell_type": "code",
   "execution_count": 140,
   "id": "ea80cd52-bf5b-457d-bc98-11607abc3ab8",
   "metadata": {},
   "outputs": [],
   "source": [
    "# Selecting the features and targets\n",
    "\n",
    "features_train = train2_features.drop(['date'], axis=1) \n",
    "target_rougher = train2['rougher.output.recovery']\n",
    "target_final = train2['final.output.recovery']\n",
    "\n",
    "features_test = test2_features.drop(['date'], axis=1)\n",
    "test_rougher = test2['rougher.output.recovery']\n",
    "test_final = test2['final.output.recovery']"
   ]
  },
  {
   "cell_type": "markdown",
   "id": "f3954d42-3e80-4a46-99ca-a7ecfdc36291",
   "metadata": {},
   "source": [
    "## Linear Regression Training"
   ]
  },
  {
   "cell_type": "code",
   "execution_count": 141,
   "id": "38b6dd08-1f29-4b8f-9a12-94380a20425d",
   "metadata": {},
   "outputs": [
    {
     "data": {
      "text/plain": [
       "11.850419615540915"
      ]
     },
     "execution_count": 141,
     "metadata": {},
     "output_type": "execute_result"
    }
   ],
   "source": [
    "model = LinearRegression()\n",
    "lr_smape_rougher = cross_val(model, features_train, target_rougher)\n",
    "lr_smape_rougher"
   ]
  },
  {
   "cell_type": "code",
   "execution_count": 142,
   "id": "f42e5b5f-b094-4cf7-984f-5ad7a7aa1e47",
   "metadata": {},
   "outputs": [
    {
     "data": {
      "text/plain": [
       "9.74963852285416"
      ]
     },
     "execution_count": 142,
     "metadata": {},
     "output_type": "execute_result"
    }
   ],
   "source": [
    "model = LinearRegression()\n",
    "lr_smape_final = cross_val(model, features_train, target_final)\n",
    "lr_smape_final"
   ]
  },
  {
   "cell_type": "code",
   "execution_count": 143,
   "id": "f1ad3f42",
   "metadata": {},
   "outputs": [
    {
     "data": {
      "text/plain": [
       "10.274833796025849"
      ]
     },
     "execution_count": 143,
     "metadata": {},
     "output_type": "execute_result"
    }
   ],
   "source": [
    "lr_final_smape= final_smape(lr_smape_rougher, lr_smape_final)\n",
    "lr_final_smape"
   ]
  },
  {
   "cell_type": "markdown",
   "id": "fea1f449-0d1f-4896-bf6a-42a6fa6b2a9c",
   "metadata": {},
   "source": [
    "## DecisionTreeRegressor Training\n",
    "\n",
    "We will train a model using DecisionTreeRegressor and tune hyperparameters to find the best model."
   ]
  },
  {
   "cell_type": "code",
   "execution_count": 144,
   "id": "1bbcce33-d7c3-4865-b0a1-4bd0c065541c",
   "metadata": {},
   "outputs": [
    {
     "name": "stdout",
     "output_type": "stream",
     "text": [
      "max_depth = 5\n",
      "sMAPE score: 10.716636401631261\n"
     ]
    }
   ],
   "source": [
    "# Developing a model with DecisionTreeRegressor for target_rougher\n",
    " \n",
    "best_model = None\n",
    "best_result = 100\n",
    "\n",
    "for depth in range(1, 6):\n",
    "    model = DecisionTreeRegressor(max_depth=depth) \n",
    "    result = cross_val(model, features_train, target_rougher)\n",
    "    if result < best_result:\n",
    "        best_model = model\n",
    "        best_result = result\n",
    "        dt_smape_rougher = best_result\n",
    "        \n",
    "print(\"max_depth =\", depth)\n",
    "print(\"sMAPE score:\", best_result)"
   ]
  },
  {
   "cell_type": "code",
   "execution_count": 145,
   "id": "668b0742-0820-401d-af1e-723f03796805",
   "metadata": {},
   "outputs": [
    {
     "name": "stdout",
     "output_type": "stream",
     "text": [
      "max_depth = 5\n",
      "sMAPE score: 8.731889281750501\n"
     ]
    }
   ],
   "source": [
    "# Developing a model with DecisionTreeRegressor for target_final\n",
    " \n",
    "best_model = None\n",
    "best_result = 100\n",
    "\n",
    "for depth in range(1, 6):\n",
    "    model = DecisionTreeRegressor(max_depth=depth) \n",
    "    result = cross_val(model, features_train, target_final)\n",
    "    if result < best_result:\n",
    "        best_model = model\n",
    "        best_result = result\n",
    "        dt_smape_final = best_result\n",
    "        \n",
    "print(\"max_depth =\", depth)\n",
    "print(\"sMAPE score:\", best_result)"
   ]
  },
  {
   "cell_type": "code",
   "execution_count": 146,
   "id": "98f53268",
   "metadata": {},
   "outputs": [
    {
     "data": {
      "text/plain": [
       "9.22807606172069"
      ]
     },
     "execution_count": 146,
     "metadata": {},
     "output_type": "execute_result"
    }
   ],
   "source": [
    "dt_final_smape = final_smape(dt_smape_rougher, dt_smape_final)\n",
    "dt_final_smape"
   ]
  },
  {
   "cell_type": "markdown",
   "id": "8983df1b-195e-432b-b5eb-e4ded18889c9",
   "metadata": {},
   "source": [
    "## RandomForestRegressor\n",
    "\n",
    "We will train a model using RandomForestRegressor and tune hyperparameters to find the best model."
   ]
  },
  {
   "cell_type": "code",
   "execution_count": 147,
   "id": "003e1c32-df13-4b8f-9891-378a166259b5",
   "metadata": {},
   "outputs": [
    {
     "name": "stdout",
     "output_type": "stream",
     "text": [
      "sMAPE score (n_estimators = 4): 15.68307978464355\n"
     ]
    }
   ],
   "source": [
    "# Developing a model with RandomForestRegressor for target_rougher\n",
    " \n",
    "best_score = 100\n",
    "best_est = 0\n",
    "for est in range(1, 5):\n",
    "    model = RandomForestRegressor(n_estimators= est)\n",
    "    score = cross_val(model, features_train, target_rougher)\n",
    "    if score < best_score:\n",
    "        best_score = score \n",
    "        best_est = est \n",
    "        rf_smape_rougher = best_score\n",
    " \n",
    "print(\"sMAPE score (n_estimators = {}): {}\".format(best_est, best_score))"
   ]
  },
  {
   "cell_type": "code",
   "execution_count": 148,
   "id": "2bdfcc31-bc1f-45e1-a7bd-85011dec7432",
   "metadata": {},
   "outputs": [
    {
     "name": "stdout",
     "output_type": "stream",
     "text": [
      "sMAPE score (n_estimators = 4): 12.831903472201812\n"
     ]
    }
   ],
   "source": [
    "# Developing a model with RandomForestRegressor for target_final\n",
    " \n",
    "best_score = 100\n",
    "best_est = 0\n",
    "for est in range(1, 5): \n",
    "    model = RandomForestRegressor(n_estimators= est) #\n",
    "    score = cross_val(model, features_train, target_final)\n",
    "    if score < best_score:\n",
    "        best_score = score \n",
    "        best_est = est\n",
    "        rf_smape_final = best_score\n",
    " \n",
    "print(\"sMAPE score (n_estimators = {}): {}\".format(best_est, best_score))"
   ]
  },
  {
   "cell_type": "code",
   "execution_count": 149,
   "id": "33679daa",
   "metadata": {},
   "outputs": [
    {
     "data": {
      "text/plain": [
       "13.544697550312247"
      ]
     },
     "execution_count": 149,
     "metadata": {},
     "output_type": "execute_result"
    }
   ],
   "source": [
    "rf_final_smape = final_smape(rf_smape_rougher, rf_smape_final)\n",
    "rf_final_smape"
   ]
  },
  {
   "cell_type": "markdown",
   "id": "943b87f7-cf0f-4134-a5c9-6f6721def621",
   "metadata": {},
   "source": [
    "# Model Testing"
   ]
  },
  {
   "cell_type": "markdown",
   "id": "c92a2a6a-12c5-4ade-89d4-7e7fd08104c3",
   "metadata": {},
   "source": [
    "The best model with the lowest sMAPE score was DecisionTreeRegressor(max_depth=5), with final sMAPE score 9.2%. The LinearRegression final sMAPE was 10.3% and the RandomForestRegressor was 12.2%. However, sicne the scores of DecisionTreeRegressor and LinearRegression are close, we will use both for the testing to see which ultimately is the most accurate model.\n",
    "\n",
    "Since there are two outputs, we will split the test target into two outputs in order to test and score the model. "
   ]
  },
  {
   "cell_type": "markdown",
   "id": "11b0bdb8",
   "metadata": {},
   "source": [
    "## DecisionTreeRegressor"
   ]
  },
  {
   "cell_type": "code",
   "execution_count": 150,
   "id": "140f0a43",
   "metadata": {},
   "outputs": [
    {
     "data": {
      "text/plain": [
       "array([84.19298908, 84.19298908, 84.19298908, ..., 90.70912192,\n",
       "       90.70912192, 90.70912192])"
      ]
     },
     "execution_count": 150,
     "metadata": {},
     "output_type": "execute_result"
    }
   ],
   "source": [
    "# Testing the best model to predict rougher.output.recovery values\n",
    "\n",
    "model = DecisionTreeRegressor(max_depth=5)\n",
    "model.fit(features_train, target_rougher)\n",
    "dt_predicted_rougher = model.predict(features_test)\n",
    "dt_predicted_rougher"
   ]
  },
  {
   "cell_type": "code",
   "execution_count": 151,
   "id": "b31f909d",
   "metadata": {},
   "outputs": [
    {
     "data": {
      "text/plain": [
       "array([69.50594302, 69.50594302, 69.50594302, ..., 74.48328639,\n",
       "       74.48328639, 74.48328639])"
      ]
     },
     "execution_count": 151,
     "metadata": {},
     "output_type": "execute_result"
    }
   ],
   "source": [
    "# Testing the best model to predict final.output.recovery values\n",
    "\n",
    "model = DecisionTreeRegressor(max_depth=5)\n",
    "model.fit(features_train, target_final)\n",
    "dt_predicted_final = model.predict(features_test)\n",
    "dt_predicted_final"
   ]
  },
  {
   "cell_type": "code",
   "execution_count": 152,
   "id": "280446fe",
   "metadata": {},
   "outputs": [
    {
     "data": {
      "text/plain": [
       "11.82758070571275"
      ]
     },
     "execution_count": 152,
     "metadata": {},
     "output_type": "execute_result"
    }
   ],
   "source": [
    "# Calculating smape score for rougher.output.recovery predictions\n",
    "\n",
    "dt_smape_rougher2 = smape2(test_rougher, dt_predicted_rougher)\n",
    "dt_smape_rougher2"
   ]
  },
  {
   "cell_type": "code",
   "execution_count": 153,
   "id": "a045ee24",
   "metadata": {},
   "outputs": [
    {
     "data": {
      "text/plain": [
       "9.102811671521879"
      ]
     },
     "execution_count": 153,
     "metadata": {},
     "output_type": "execute_result"
    }
   ],
   "source": [
    "# Calculating smape score for final.output.recovery predictions\n",
    "\n",
    "dt_smape_final2 = smape2(test_final, dt_predicted_final)\n",
    "dt_smape_final2"
   ]
  },
  {
   "cell_type": "code",
   "execution_count": 154,
   "id": "eb9d564c",
   "metadata": {},
   "outputs": [
    {
     "data": {
      "text/plain": [
       "9.784003930069597"
      ]
     },
     "execution_count": 154,
     "metadata": {},
     "output_type": "execute_result"
    }
   ],
   "source": [
    "# Calculating final smape score for DecisionTreeRegressor\n",
    "\n",
    "dt_final_smape2 = final_smape(dt_smape_rougher2, dt_smape_final2)\n",
    "dt_final_smape2"
   ]
  },
  {
   "cell_type": "markdown",
   "id": "b5df37f7",
   "metadata": {},
   "source": [
    "## LinearRegression"
   ]
  },
  {
   "cell_type": "code",
   "execution_count": 155,
   "id": "0fe26c9f-5a19-42c0-8f37-c937b0844b53",
   "metadata": {},
   "outputs": [
    {
     "data": {
      "text/plain": [
       "array([88.61264634, 91.87250365, 91.53514268, ..., 89.53439272,\n",
       "       90.32001263, 89.96285565])"
      ]
     },
     "execution_count": 155,
     "metadata": {},
     "output_type": "execute_result"
    }
   ],
   "source": [
    "# Testing the LinearRegression to predict rougher.output.recovery values\n",
    "\n",
    "model = LinearRegression()\n",
    "model.fit(features_train, target_rougher)\n",
    "lr_predicted_rougher = model.predict(features_test)\n",
    "lr_predicted_rougher"
   ]
  },
  {
   "cell_type": "code",
   "execution_count": 156,
   "id": "ad79843f-8d92-4459-b794-35b8db9c2b16",
   "metadata": {},
   "outputs": [
    {
     "data": {
      "text/plain": [
       "array([72.29902276, 73.07586724, 73.03764662, ..., 72.26687046,\n",
       "       74.33470167, 73.3608047 ])"
      ]
     },
     "execution_count": 156,
     "metadata": {},
     "output_type": "execute_result"
    }
   ],
   "source": [
    "# Testing the LinearRegression to predict final.output.recovery values\n",
    "\n",
    "model = LinearRegression()\n",
    "model.fit(features_train, target_final)\n",
    "lr_predicted_final = model.predict(features_test)\n",
    "lr_predicted_final"
   ]
  },
  {
   "cell_type": "code",
   "execution_count": 157,
   "id": "1b1dcb84-45af-440d-9095-23f8ab31dc73",
   "metadata": {},
   "outputs": [
    {
     "data": {
      "text/plain": [
       "10.232202727148211"
      ]
     },
     "execution_count": 157,
     "metadata": {},
     "output_type": "execute_result"
    }
   ],
   "source": [
    "# Calculating smape score for rougher.output.recovery predictions\n",
    "\n",
    "lr_smape_rougher2 = smape2(test_rougher, lr_predicted_rougher)\n",
    "lr_smape_rougher2"
   ]
  },
  {
   "cell_type": "code",
   "execution_count": 158,
   "id": "c477e6fe",
   "metadata": {},
   "outputs": [
    {
     "data": {
      "text/plain": [
       "7.992510356013797"
      ]
     },
     "execution_count": 158,
     "metadata": {},
     "output_type": "execute_result"
    }
   ],
   "source": [
    "# Calculating smape score for final.output.recovery predictions\n",
    "\n",
    "lr_smape_final2 = smape2(test_final, lr_predicted_final)\n",
    "lr_smape_final2"
   ]
  },
  {
   "cell_type": "code",
   "execution_count": 159,
   "id": "c85b66bd",
   "metadata": {},
   "outputs": [
    {
     "data": {
      "text/plain": [
       "8.552433448797402"
      ]
     },
     "execution_count": 159,
     "metadata": {},
     "output_type": "execute_result"
    }
   ],
   "source": [
    "# Calculating final smape score for model\n",
    "\n",
    "lr_final_smape2 = final_smape(lr_smape_rougher2, lr_smape_final2)\n",
    "lr_final_smape2"
   ]
  },
  {
   "cell_type": "markdown",
   "id": "4f6b7f71-b996-41c0-8230-44e14ecd79ce",
   "metadata": {},
   "source": [
    "The final_smape score for DecisionTreeRegressor was 9.8% and for LinearRegression was 8.6%. It looks like there was overfitting with the DecisionTreeRegressor since the final_smape score for the testing set was higher than for the training set. Ultimately, LinearRegression seems to be the best model at predicting levels of ouput from the purification process.\n",
    "We will get a baseline model score using a dummy regressor where the regressor always predicts the mean and compare it to our scores to see if our model is better at predicting than a constant model."
   ]
  },
  {
   "cell_type": "markdown",
   "id": "c5794d24",
   "metadata": {},
   "source": [
    "## Dummy Regressor"
   ]
  },
  {
   "cell_type": "code",
   "execution_count": 160,
   "id": "1730ef18-0bfa-417e-9be5-7c5896a42663",
   "metadata": {},
   "outputs": [
    {
     "data": {
      "text/plain": [
       "array([82.75772384, 82.75772384, 82.75772384, ..., 82.75772384,\n",
       "       82.75772384, 82.75772384])"
      ]
     },
     "execution_count": 160,
     "metadata": {},
     "output_type": "execute_result"
    }
   ],
   "source": [
    "# Testing the best model to predict rougher.output.recovery values\n",
    "\n",
    "dummy_regr = DummyRegressor(strategy=\"mean\")\n",
    "dummy_regr.fit(features_train, target_rougher)\n",
    "dr_predicted_rougher = dummy_regr.predict(features_test)\n",
    "dr_predicted_rougher"
   ]
  },
  {
   "cell_type": "code",
   "execution_count": 161,
   "id": "60787e8f-d357-4728-a4bb-8c6369482019",
   "metadata": {},
   "outputs": [
    {
     "data": {
      "text/plain": [
       "10.21020006400347"
      ]
     },
     "execution_count": 161,
     "metadata": {},
     "output_type": "execute_result"
    }
   ],
   "source": [
    "dr_smape_rougher = smape2(test_rougher, dr_predicted_rougher)\n",
    "dr_smape_rougher"
   ]
  },
  {
   "cell_type": "code",
   "execution_count": 162,
   "id": "4ae7de37-659b-44fe-ba97-2cb11d1a7444",
   "metadata": {},
   "outputs": [
    {
     "data": {
      "text/plain": [
       "array([66.79378, 66.79378, 66.79378, ..., 66.79378, 66.79378, 66.79378])"
      ]
     },
     "execution_count": 162,
     "metadata": {},
     "output_type": "execute_result"
    }
   ],
   "source": [
    "# Testing the best model to predict rougher.output.recovery values\n",
    "\n",
    "dummy_regr = DummyRegressor(strategy=\"mean\")\n",
    "dummy_regr.fit(features_train, target_final)\n",
    "dr_predicted_final = dummy_regr.predict(features_test)\n",
    "dr_predicted_final"
   ]
  },
  {
   "cell_type": "code",
   "execution_count": 163,
   "id": "e76a2898-d4ec-464d-ae74-fe48843747e3",
   "metadata": {},
   "outputs": [
    {
     "data": {
      "text/plain": [
       "8.76102105028473"
      ]
     },
     "execution_count": 163,
     "metadata": {},
     "output_type": "execute_result"
    }
   ],
   "source": [
    "dr_smape_final = smape2(test_final, dr_predicted_final)\n",
    "dr_smape_final"
   ]
  },
  {
   "cell_type": "code",
   "execution_count": 164,
   "id": "77e23ecb-d52c-4d32-af96-e98f16d08e6a",
   "metadata": {},
   "outputs": [
    {
     "data": {
      "text/plain": [
       "9.123315803714416"
      ]
     },
     "execution_count": 164,
     "metadata": {},
     "output_type": "execute_result"
    }
   ],
   "source": [
    "dr_final_smape = final_smape(dr_smape_rougher, dr_smape_final)\n",
    "dr_final_smape"
   ]
  },
  {
   "cell_type": "markdown",
   "id": "1708c491-bb1e-4d5d-b943-fa2be721e70a",
   "metadata": {},
   "source": [
    "The level of error was higher using a constant model, sMAPE was 9.1%, indicating that our model performed slightly better than a baseline model."
   ]
  },
  {
   "cell_type": "markdown",
   "id": "c4536960-d218-43a6-aa89-98d830b469b6",
   "metadata": {},
   "source": [
    "# General Conclusion\n",
    "\n",
    "Our goal was to prepare a prototype of a machine learning model for Zyfra. The model was designed predict the amount of gold recovered from gold ore. The model was to be used to optimize the production and eliminate unprofitable parameters.\n",
    "\n",
    "We used three dataframes for this project. \n",
    " – In the train dataframe, there were 16860 rows and 87 columns. The date was an object, but the remaining columns were float types. Many of the columns had missing values which will interfere with model training so we dropped the missing values.\n",
    "\n",
    " – In the test data, there were 5856 rows and 53 columns.  The date was an object, but the remaining columns were float types. We dropped missing values.\n",
    "\n",
    " – In the full data, there were 22716 rows and 87 columns. The date was an object, but the remaining columns were float types. We dropped missing values.\n",
    "\n",
    "We calculated the recovery using the data and compared it to the rougher_output_recovery values in the train set. The MAE between our calculations and the rougher_output_recovery values in the train set was almost zero, so we can be confident that the rougher.output.recovery values were valid.\n",
    "\n",
    "We compared the features in the test set with the train set to check for missing features. The features missing in the test set were those pertaining to outputs or calculations. It seems these were omitted from the test set since these values can only be obtained after the process has been completed and they would not help to train a model to predict metal concentrations.\n",
    "\n",
    "We visualized the distribution of gold, silver, and lead during the purification process. First we visualized each metal across purification stages. The histograms displayed that the purification process worked, levels of goal in the concentrate increased through the process and silver decreased. Then we visualized all three metals at each purification stage. We noticed abnormally low levels of metal concentration in the purification stages. We then compared the feed particle size distributions in the training and test sets.The feed particle size distributions in the train and test data seemed to have similar distributions, but it seemed that outliers were affecting the distributions so the histograms are different. The statistics demonstrated the presence of many outliers.\n",
    "\n",
    "We examined the total concentrations of metals at each stage to check for outliers. It's possible that there is a very small amount of one metal in the sample, but not of all three metals simultaneously. There were significant outliers in the total concentrations of metals at different stages. We eliminated the outliers in the 'total_feed', since this was the first step in the process. To do so, we removed values 1.5(IQR) above the Q3 and below the Q1 range. After removing outliers, 20479 records or 90% of the data in the full data remained. We used this data and filtered it to create a new train and a new test set that would have the same order of columns and rows to help train our model. \n",
    "\n",
    "We used the train df to filter records from the full df that belong to the train set. Then we filtered the new train df so that it would contain only the features matching with the test set. This filtered train df was used to assign the features in model training. Before we did this, we dropped missing values from the full data. \n",
    "\n",
    "We assigned different dataframes to the train and test features and targets. Since there were two outputs, we split the target into two outputs in order to train and score each model. \n",
    "\n",
    "We created a function to calculate the sMAPE value and the final sMAPE value and train models to predict the outcomes of the purification process. We created a function to score the model training using smape with make_scorer as a scorer for cross validation.\n",
    "\n",
    "We developed three models using cross validation with sMAPE as an evaluation metric. The best model with the lowest sMAPE score was DecisionTreeRegressor(max_depth=5), with final sMAPE score 9.2%. The LinearRegression final sMAPE was 10.3% and the RandomForestRegressor was around 12.5%. However, since the scores of DecisionTreeRegressor and LinearRegression were close, we used both for the testing to see which ultimately would be the most accurate model.\n",
    "\n",
    "The final_smape score for DecisionTreeRegressor was 9.8% and for LinearRegression was 8.6%. It looks like there was overfitting with the DecisionTreeRegressor since the final_smape score for the testing set was higher than for the training set. LinearRegression was the best model at predicting levels of ouput from the purification process.\n",
    "We got a baseline model score using a dummy regressor where the regressor always predicts the mean and compared it to our scores to see if our model is better at predicting than a constant model. The level of error was higher using a constant model, sMAPE was 9.1%, indicating that our LinearRegression model performed slightly better than a baseline model."
   ]
  }
 ],
 "metadata": {
  "kernelspec": {
   "display_name": "Python 3 (ipykernel)",
   "language": "python",
   "name": "python3"
  },
  "language_info": {
   "codemirror_mode": {
    "name": "ipython",
    "version": 3
   },
   "file_extension": ".py",
   "mimetype": "text/x-python",
   "name": "python",
   "nbconvert_exporter": "python",
   "pygments_lexer": "ipython3",
   "version": "3.9.12"
  },
  "toc": {
   "base_numbering": 1,
   "nav_menu": {},
   "number_sections": true,
   "sideBar": true,
   "skip_h1_title": true,
   "title_cell": "Table of Contents",
   "title_sidebar": "Contents",
   "toc_cell": false,
   "toc_position": {
    "height": "calc(100% - 180px)",
    "left": "10px",
    "top": "150px",
    "width": "291.312px"
   },
   "toc_section_display": true,
   "toc_window_display": false
  }
 },
 "nbformat": 4,
 "nbformat_minor": 5
}
