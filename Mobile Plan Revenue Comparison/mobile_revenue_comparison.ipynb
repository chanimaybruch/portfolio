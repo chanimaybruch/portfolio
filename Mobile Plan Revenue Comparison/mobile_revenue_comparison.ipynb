{
 "cells": [
  {
   "cell_type": "markdown",
   "metadata": {},
   "source": [
    "# Business Goal"
   ]
  },
  {
   "cell_type": "markdown",
   "metadata": {},
   "source": [
    "The telecome operator Megaline seeks to analyze its two prepaid plans, Surf and Ultimate. The commercial department wants to know which of the plans brings in more revenue in order to adjust the advertising budget.\n",
    "\n",
    "We will use a sample of 500 Megaline clients to analyze the clients' behavior and determine which prepaid plan brings in more revenue. We will analyze data on usage of calls, message and internet data to explore the monthly usage for users of each plan and to determine if there are any differences between users of the plans. We will also explore differences in the monthly revenue and overall revenue for users of each plan to determine if there is a significant difference in revenue between plans."
   ]
  },
  {
   "cell_type": "markdown",
   "metadata": {},
   "source": [
    "# Initialization"
   ]
  },
  {
   "cell_type": "code",
   "execution_count": 84,
   "metadata": {},
   "outputs": [],
   "source": [
    "# Loading all the libraries\n",
    "\n",
    "import pandas as pd\n",
    "import matplotlib.pyplot as plt\n",
    "import numpy as np\n",
    "import seaborn as sns\n",
    "from scipy import stats"
   ]
  },
  {
   "cell_type": "markdown",
   "metadata": {},
   "source": [
    "## Load Data"
   ]
  },
  {
   "cell_type": "code",
   "execution_count": 85,
   "metadata": {},
   "outputs": [],
   "source": [
    "# Load the data files\n",
    "\n",
    "plans_data = pd.read_csv('megaline_plans.csv')\n",
    "users_data = pd.read_csv('megaline_users.csv')\n",
    "calls_data = pd.read_csv('megaline_calls.csv')\n",
    "messages_data = pd.read_csv('megaline_messages.csv')\n",
    "internet_data = pd.read_csv('megaline_internet.csv')"
   ]
  },
  {
   "cell_type": "markdown",
   "metadata": {},
   "source": [
    "# Data Preprocessing"
   ]
  },
  {
   "cell_type": "markdown",
   "metadata": {},
   "source": [
    "The data is split into four dataframes. We will explore each one and preprocess the data."
   ]
  },
  {
   "cell_type": "markdown",
   "metadata": {},
   "source": [
    "## Plans"
   ]
  },
  {
   "cell_type": "code",
   "execution_count": 86,
   "metadata": {},
   "outputs": [
    {
     "name": "stdout",
     "output_type": "stream",
     "text": [
      "<class 'pandas.core.frame.DataFrame'>\n",
      "RangeIndex: 2 entries, 0 to 1\n",
      "Data columns (total 8 columns):\n",
      " #   Column                 Non-Null Count  Dtype  \n",
      "---  ------                 --------------  -----  \n",
      " 0   messages_included      2 non-null      int64  \n",
      " 1   mb_per_month_included  2 non-null      int64  \n",
      " 2   minutes_included       2 non-null      int64  \n",
      " 3   usd_monthly_pay        2 non-null      int64  \n",
      " 4   usd_per_gb             2 non-null      int64  \n",
      " 5   usd_per_message        2 non-null      float64\n",
      " 6   usd_per_minute         2 non-null      float64\n",
      " 7   plan_name              2 non-null      object \n",
      "dtypes: float64(2), int64(5), object(1)\n",
      "memory usage: 256.0+ bytes\n"
     ]
    }
   ],
   "source": [
    "plans_data.info()"
   ]
  },
  {
   "cell_type": "code",
   "execution_count": 87,
   "metadata": {},
   "outputs": [
    {
     "data": {
      "text/html": [
       "<div>\n",
       "<style scoped>\n",
       "    .dataframe tbody tr th:only-of-type {\n",
       "        vertical-align: middle;\n",
       "    }\n",
       "\n",
       "    .dataframe tbody tr th {\n",
       "        vertical-align: top;\n",
       "    }\n",
       "\n",
       "    .dataframe thead th {\n",
       "        text-align: right;\n",
       "    }\n",
       "</style>\n",
       "<table border=\"1\" class=\"dataframe\">\n",
       "  <thead>\n",
       "    <tr style=\"text-align: right;\">\n",
       "      <th></th>\n",
       "      <th>messages_included</th>\n",
       "      <th>mb_per_month_included</th>\n",
       "      <th>minutes_included</th>\n",
       "      <th>usd_monthly_pay</th>\n",
       "      <th>usd_per_gb</th>\n",
       "      <th>usd_per_message</th>\n",
       "      <th>usd_per_minute</th>\n",
       "      <th>plan_name</th>\n",
       "    </tr>\n",
       "  </thead>\n",
       "  <tbody>\n",
       "    <tr>\n",
       "      <th>0</th>\n",
       "      <td>50</td>\n",
       "      <td>15360</td>\n",
       "      <td>500</td>\n",
       "      <td>20</td>\n",
       "      <td>10</td>\n",
       "      <td>0.03</td>\n",
       "      <td>0.03</td>\n",
       "      <td>surf</td>\n",
       "    </tr>\n",
       "    <tr>\n",
       "      <th>1</th>\n",
       "      <td>1000</td>\n",
       "      <td>30720</td>\n",
       "      <td>3000</td>\n",
       "      <td>70</td>\n",
       "      <td>7</td>\n",
       "      <td>0.01</td>\n",
       "      <td>0.01</td>\n",
       "      <td>ultimate</td>\n",
       "    </tr>\n",
       "  </tbody>\n",
       "</table>\n",
       "</div>"
      ],
      "text/plain": [
       "   messages_included  mb_per_month_included  minutes_included  \\\n",
       "0                 50                  15360               500   \n",
       "1               1000                  30720              3000   \n",
       "\n",
       "   usd_monthly_pay  usd_per_gb  usd_per_message  usd_per_minute plan_name  \n",
       "0               20          10             0.03            0.03      surf  \n",
       "1               70           7             0.01            0.01  ultimate  "
      ]
     },
     "execution_count": 87,
     "metadata": {},
     "output_type": "execute_result"
    }
   ],
   "source": [
    "plans_data.head()"
   ]
  },
  {
   "cell_type": "markdown",
   "metadata": {},
   "source": [
    "The plans table provides data on two plans: surf and ultimate.\n",
    "There are 2 rows, containing 8 columns with the specifics for each plan.\n",
    "\n",
    " - messages_included — monthly text allowance\n",
    " - mb_per_month_included — data volume allowance (in megabytes) - equal to 15 GB\n",
    " - minutes_included — monthly minute allowance\n",
    " - usd_monthly_pay — monthly charge in US dollars\n",
    " - usd_per_gb — price per extra gigabyte of data after exceeding the package limits (1 GB = 1024 megabytes)\n",
    " - usd_per_message — price per text after exceeding the package limits\n",
    " - usd_per_minute — price per minute after exceeding the package limits (e.g., if the package includes 100 minutes, the 101st minute will be charged)\n",
    " - plan_name — calling plan name\n",
    "\n",
    "The plan is an object datatype and most of the columns are integers. We need to change the column 'plan_name' to 'plan' so that it matches the similar column for the users_data and we can merge these dataframes for future analysis.\n",
    "\n",
    "Note: usd_per_message and usd_per_minute are float types. We need to keep these as float types because they signify revenue of less than a dollar.\n",
    "There are no missing values.\n",
    "In the analysis, we will need to calculate monthly revenue using the internet data in the form of gb. Since data usage is rounded up per month after each 1024 mb used, we will convert this to gb later in the analysis after aggregating the data per month."
   ]
  },
  {
   "cell_type": "markdown",
   "metadata": {},
   "source": [
    " "
   ]
  },
  {
   "cell_type": "markdown",
   "metadata": {},
   "source": [
    "### Plans Data Preprocessing"
   ]
  },
  {
   "cell_type": "code",
   "execution_count": 88,
   "metadata": {},
   "outputs": [],
   "source": [
    "# Renaming 'plan_name' to 'plan' for future analysis\n",
    "\n",
    "plans_data.rename(columns = {'plan_name':'plan'}, inplace = True)"
   ]
  },
  {
   "cell_type": "markdown",
   "metadata": {},
   "source": [
    "## Users"
   ]
  },
  {
   "cell_type": "code",
   "execution_count": 89,
   "metadata": {},
   "outputs": [
    {
     "name": "stdout",
     "output_type": "stream",
     "text": [
      "<class 'pandas.core.frame.DataFrame'>\n",
      "RangeIndex: 500 entries, 0 to 499\n",
      "Data columns (total 8 columns):\n",
      " #   Column      Non-Null Count  Dtype \n",
      "---  ------      --------------  ----- \n",
      " 0   user_id     500 non-null    int64 \n",
      " 1   first_name  500 non-null    object\n",
      " 2   last_name   500 non-null    object\n",
      " 3   age         500 non-null    int64 \n",
      " 4   city        500 non-null    object\n",
      " 5   reg_date    500 non-null    object\n",
      " 6   plan        500 non-null    object\n",
      " 7   churn_date  34 non-null     object\n",
      "dtypes: int64(2), object(6)\n",
      "memory usage: 31.4+ KB\n"
     ]
    }
   ],
   "source": [
    "# Print the general/summary information about the users' DataFrame\n",
    "\n",
    "users_data.info()"
   ]
  },
  {
   "cell_type": "code",
   "execution_count": 90,
   "metadata": {},
   "outputs": [
    {
     "data": {
      "text/html": [
       "<div>\n",
       "<style scoped>\n",
       "    .dataframe tbody tr th:only-of-type {\n",
       "        vertical-align: middle;\n",
       "    }\n",
       "\n",
       "    .dataframe tbody tr th {\n",
       "        vertical-align: top;\n",
       "    }\n",
       "\n",
       "    .dataframe thead th {\n",
       "        text-align: right;\n",
       "    }\n",
       "</style>\n",
       "<table border=\"1\" class=\"dataframe\">\n",
       "  <thead>\n",
       "    <tr style=\"text-align: right;\">\n",
       "      <th></th>\n",
       "      <th>user_id</th>\n",
       "      <th>first_name</th>\n",
       "      <th>last_name</th>\n",
       "      <th>age</th>\n",
       "      <th>city</th>\n",
       "      <th>reg_date</th>\n",
       "      <th>plan</th>\n",
       "      <th>churn_date</th>\n",
       "    </tr>\n",
       "  </thead>\n",
       "  <tbody>\n",
       "    <tr>\n",
       "      <th>0</th>\n",
       "      <td>1000</td>\n",
       "      <td>Anamaria</td>\n",
       "      <td>Bauer</td>\n",
       "      <td>45</td>\n",
       "      <td>Atlanta-Sandy Springs-Roswell, GA MSA</td>\n",
       "      <td>2018-12-24</td>\n",
       "      <td>ultimate</td>\n",
       "      <td>NaN</td>\n",
       "    </tr>\n",
       "    <tr>\n",
       "      <th>1</th>\n",
       "      <td>1001</td>\n",
       "      <td>Mickey</td>\n",
       "      <td>Wilkerson</td>\n",
       "      <td>28</td>\n",
       "      <td>Seattle-Tacoma-Bellevue, WA MSA</td>\n",
       "      <td>2018-08-13</td>\n",
       "      <td>surf</td>\n",
       "      <td>NaN</td>\n",
       "    </tr>\n",
       "    <tr>\n",
       "      <th>2</th>\n",
       "      <td>1002</td>\n",
       "      <td>Carlee</td>\n",
       "      <td>Hoffman</td>\n",
       "      <td>36</td>\n",
       "      <td>Las Vegas-Henderson-Paradise, NV MSA</td>\n",
       "      <td>2018-10-21</td>\n",
       "      <td>surf</td>\n",
       "      <td>NaN</td>\n",
       "    </tr>\n",
       "    <tr>\n",
       "      <th>3</th>\n",
       "      <td>1003</td>\n",
       "      <td>Reynaldo</td>\n",
       "      <td>Jenkins</td>\n",
       "      <td>52</td>\n",
       "      <td>Tulsa, OK MSA</td>\n",
       "      <td>2018-01-28</td>\n",
       "      <td>surf</td>\n",
       "      <td>NaN</td>\n",
       "    </tr>\n",
       "    <tr>\n",
       "      <th>4</th>\n",
       "      <td>1004</td>\n",
       "      <td>Leonila</td>\n",
       "      <td>Thompson</td>\n",
       "      <td>40</td>\n",
       "      <td>Seattle-Tacoma-Bellevue, WA MSA</td>\n",
       "      <td>2018-05-23</td>\n",
       "      <td>surf</td>\n",
       "      <td>NaN</td>\n",
       "    </tr>\n",
       "  </tbody>\n",
       "</table>\n",
       "</div>"
      ],
      "text/plain": [
       "   user_id first_name  last_name  age                                   city  \\\n",
       "0     1000   Anamaria      Bauer   45  Atlanta-Sandy Springs-Roswell, GA MSA   \n",
       "1     1001     Mickey  Wilkerson   28        Seattle-Tacoma-Bellevue, WA MSA   \n",
       "2     1002     Carlee    Hoffman   36   Las Vegas-Henderson-Paradise, NV MSA   \n",
       "3     1003   Reynaldo    Jenkins   52                          Tulsa, OK MSA   \n",
       "4     1004    Leonila   Thompson   40        Seattle-Tacoma-Bellevue, WA MSA   \n",
       "\n",
       "     reg_date      plan churn_date  \n",
       "0  2018-12-24  ultimate        NaN  \n",
       "1  2018-08-13      surf        NaN  \n",
       "2  2018-10-21      surf        NaN  \n",
       "3  2018-01-28      surf        NaN  \n",
       "4  2018-05-23      surf        NaN  "
      ]
     },
     "execution_count": 90,
     "metadata": {},
     "output_type": "execute_result"
    }
   ],
   "source": [
    "# Print a sample of data for users\n",
    "\n",
    "users_data.head()"
   ]
  },
  {
   "cell_type": "markdown",
   "metadata": {},
   "source": [
    "The users table (data on users) has 8 columns with information on 500 user_ids:\n",
    "\n",
    " - user_id — unique user identifier\n",
    " - first_name — user's name\n",
    " - last_name — user's last name\n",
    " - age — user's age (years)\n",
    " - reg_date — subscription date (dd, mm, yy)\n",
    " - churn_date — the date the user stopped using the service (if the value is missing, the calling plan was being used when this database was extracted)\n",
    " - city — user's city of residence\n",
    " - plan — calling plan name\n",
    "\n",
    "The user_id is represented by an integer. Age is an integer. All other columns are object types (first_name, last_name, city, reg_date, plan, churn_date.) \n",
    "The reg_date and churn_date need to be converted to datetime types.\n",
    "There are missing values in churn_date, which means the plan was being used when the data was extracted. If we replace these missing values with 'active' to indicate the user never stopped the service we will not be able to convert the column values to a datetime because there will be string values so we will leave it as is."
   ]
  },
  {
   "cell_type": "markdown",
   "metadata": {},
   "source": [
    " "
   ]
  },
  {
   "cell_type": "markdown",
   "metadata": {},
   "source": [
    "### User Data Preprocessing"
   ]
  },
  {
   "cell_type": "code",
   "execution_count": 91,
   "metadata": {},
   "outputs": [],
   "source": [
    "# Changing reg_date and churn_date to datetime value\n",
    " \n",
    "users_data['reg_date'] = pd.to_datetime(users_data['reg_date'], format='%Y-%m-%d')\n",
    "users_data['churn_date'] = pd.to_datetime(users_data['churn_date'], format='%Y-%m-%d')"
   ]
  },
  {
   "cell_type": "code",
   "execution_count": 92,
   "metadata": {},
   "outputs": [
    {
     "name": "stdout",
     "output_type": "stream",
     "text": [
      "<class 'pandas.core.frame.DataFrame'>\n",
      "RangeIndex: 500 entries, 0 to 499\n",
      "Data columns (total 8 columns):\n",
      " #   Column      Non-Null Count  Dtype         \n",
      "---  ------      --------------  -----         \n",
      " 0   user_id     500 non-null    int64         \n",
      " 1   first_name  500 non-null    object        \n",
      " 2   last_name   500 non-null    object        \n",
      " 3   age         500 non-null    int64         \n",
      " 4   city        500 non-null    object        \n",
      " 5   reg_date    500 non-null    datetime64[ns]\n",
      " 6   plan        500 non-null    object        \n",
      " 7   churn_date  34 non-null     datetime64[ns]\n",
      "dtypes: datetime64[ns](2), int64(2), object(4)\n",
      "memory usage: 31.4+ KB\n"
     ]
    },
    {
     "data": {
      "text/html": [
       "<div>\n",
       "<style scoped>\n",
       "    .dataframe tbody tr th:only-of-type {\n",
       "        vertical-align: middle;\n",
       "    }\n",
       "\n",
       "    .dataframe tbody tr th {\n",
       "        vertical-align: top;\n",
       "    }\n",
       "\n",
       "    .dataframe thead th {\n",
       "        text-align: right;\n",
       "    }\n",
       "</style>\n",
       "<table border=\"1\" class=\"dataframe\">\n",
       "  <thead>\n",
       "    <tr style=\"text-align: right;\">\n",
       "      <th></th>\n",
       "      <th>user_id</th>\n",
       "      <th>first_name</th>\n",
       "      <th>last_name</th>\n",
       "      <th>age</th>\n",
       "      <th>city</th>\n",
       "      <th>reg_date</th>\n",
       "      <th>plan</th>\n",
       "      <th>churn_date</th>\n",
       "    </tr>\n",
       "  </thead>\n",
       "  <tbody>\n",
       "    <tr>\n",
       "      <th>0</th>\n",
       "      <td>1000</td>\n",
       "      <td>Anamaria</td>\n",
       "      <td>Bauer</td>\n",
       "      <td>45</td>\n",
       "      <td>Atlanta-Sandy Springs-Roswell, GA MSA</td>\n",
       "      <td>2018-12-24</td>\n",
       "      <td>ultimate</td>\n",
       "      <td>NaT</td>\n",
       "    </tr>\n",
       "    <tr>\n",
       "      <th>1</th>\n",
       "      <td>1001</td>\n",
       "      <td>Mickey</td>\n",
       "      <td>Wilkerson</td>\n",
       "      <td>28</td>\n",
       "      <td>Seattle-Tacoma-Bellevue, WA MSA</td>\n",
       "      <td>2018-08-13</td>\n",
       "      <td>surf</td>\n",
       "      <td>NaT</td>\n",
       "    </tr>\n",
       "    <tr>\n",
       "      <th>2</th>\n",
       "      <td>1002</td>\n",
       "      <td>Carlee</td>\n",
       "      <td>Hoffman</td>\n",
       "      <td>36</td>\n",
       "      <td>Las Vegas-Henderson-Paradise, NV MSA</td>\n",
       "      <td>2018-10-21</td>\n",
       "      <td>surf</td>\n",
       "      <td>NaT</td>\n",
       "    </tr>\n",
       "    <tr>\n",
       "      <th>3</th>\n",
       "      <td>1003</td>\n",
       "      <td>Reynaldo</td>\n",
       "      <td>Jenkins</td>\n",
       "      <td>52</td>\n",
       "      <td>Tulsa, OK MSA</td>\n",
       "      <td>2018-01-28</td>\n",
       "      <td>surf</td>\n",
       "      <td>NaT</td>\n",
       "    </tr>\n",
       "    <tr>\n",
       "      <th>4</th>\n",
       "      <td>1004</td>\n",
       "      <td>Leonila</td>\n",
       "      <td>Thompson</td>\n",
       "      <td>40</td>\n",
       "      <td>Seattle-Tacoma-Bellevue, WA MSA</td>\n",
       "      <td>2018-05-23</td>\n",
       "      <td>surf</td>\n",
       "      <td>NaT</td>\n",
       "    </tr>\n",
       "  </tbody>\n",
       "</table>\n",
       "</div>"
      ],
      "text/plain": [
       "   user_id first_name  last_name  age                                   city  \\\n",
       "0     1000   Anamaria      Bauer   45  Atlanta-Sandy Springs-Roswell, GA MSA   \n",
       "1     1001     Mickey  Wilkerson   28        Seattle-Tacoma-Bellevue, WA MSA   \n",
       "2     1002     Carlee    Hoffman   36   Las Vegas-Henderson-Paradise, NV MSA   \n",
       "3     1003   Reynaldo    Jenkins   52                          Tulsa, OK MSA   \n",
       "4     1004    Leonila   Thompson   40        Seattle-Tacoma-Bellevue, WA MSA   \n",
       "\n",
       "    reg_date      plan churn_date  \n",
       "0 2018-12-24  ultimate        NaT  \n",
       "1 2018-08-13      surf        NaT  \n",
       "2 2018-10-21      surf        NaT  \n",
       "3 2018-01-28      surf        NaT  \n",
       "4 2018-05-23      surf        NaT  "
      ]
     },
     "execution_count": 92,
     "metadata": {},
     "output_type": "execute_result"
    }
   ],
   "source": [
    "# Checking that datetime value was assigned and missing values were replaced\n",
    "users_data.info()\n",
    "users_data.head()"
   ]
  },
  {
   "cell_type": "markdown",
   "metadata": {},
   "source": [
    "## Calls"
   ]
  },
  {
   "cell_type": "code",
   "execution_count": 93,
   "metadata": {},
   "outputs": [
    {
     "name": "stdout",
     "output_type": "stream",
     "text": [
      "<class 'pandas.core.frame.DataFrame'>\n",
      "RangeIndex: 137735 entries, 0 to 137734\n",
      "Data columns (total 4 columns):\n",
      " #   Column     Non-Null Count   Dtype  \n",
      "---  ------     --------------   -----  \n",
      " 0   id         137735 non-null  object \n",
      " 1   user_id    137735 non-null  int64  \n",
      " 2   call_date  137735 non-null  object \n",
      " 3   duration   137735 non-null  float64\n",
      "dtypes: float64(1), int64(1), object(2)\n",
      "memory usage: 4.2+ MB\n"
     ]
    }
   ],
   "source": [
    "# Print the general/summary information about the calls' DataFrame\n",
    "\n",
    "calls_data.info()"
   ]
  },
  {
   "cell_type": "code",
   "execution_count": 94,
   "metadata": {},
   "outputs": [
    {
     "data": {
      "text/html": [
       "<div>\n",
       "<style scoped>\n",
       "    .dataframe tbody tr th:only-of-type {\n",
       "        vertical-align: middle;\n",
       "    }\n",
       "\n",
       "    .dataframe tbody tr th {\n",
       "        vertical-align: top;\n",
       "    }\n",
       "\n",
       "    .dataframe thead th {\n",
       "        text-align: right;\n",
       "    }\n",
       "</style>\n",
       "<table border=\"1\" class=\"dataframe\">\n",
       "  <thead>\n",
       "    <tr style=\"text-align: right;\">\n",
       "      <th></th>\n",
       "      <th>id</th>\n",
       "      <th>user_id</th>\n",
       "      <th>call_date</th>\n",
       "      <th>duration</th>\n",
       "    </tr>\n",
       "  </thead>\n",
       "  <tbody>\n",
       "    <tr>\n",
       "      <th>0</th>\n",
       "      <td>1000_93</td>\n",
       "      <td>1000</td>\n",
       "      <td>2018-12-27</td>\n",
       "      <td>8.52</td>\n",
       "    </tr>\n",
       "    <tr>\n",
       "      <th>1</th>\n",
       "      <td>1000_145</td>\n",
       "      <td>1000</td>\n",
       "      <td>2018-12-27</td>\n",
       "      <td>13.66</td>\n",
       "    </tr>\n",
       "    <tr>\n",
       "      <th>2</th>\n",
       "      <td>1000_247</td>\n",
       "      <td>1000</td>\n",
       "      <td>2018-12-27</td>\n",
       "      <td>14.48</td>\n",
       "    </tr>\n",
       "    <tr>\n",
       "      <th>3</th>\n",
       "      <td>1000_309</td>\n",
       "      <td>1000</td>\n",
       "      <td>2018-12-28</td>\n",
       "      <td>5.76</td>\n",
       "    </tr>\n",
       "    <tr>\n",
       "      <th>4</th>\n",
       "      <td>1000_380</td>\n",
       "      <td>1000</td>\n",
       "      <td>2018-12-30</td>\n",
       "      <td>4.22</td>\n",
       "    </tr>\n",
       "  </tbody>\n",
       "</table>\n",
       "</div>"
      ],
      "text/plain": [
       "         id  user_id   call_date  duration\n",
       "0   1000_93     1000  2018-12-27      8.52\n",
       "1  1000_145     1000  2018-12-27     13.66\n",
       "2  1000_247     1000  2018-12-27     14.48\n",
       "3  1000_309     1000  2018-12-28      5.76\n",
       "4  1000_380     1000  2018-12-30      4.22"
      ]
     },
     "execution_count": 94,
     "metadata": {},
     "output_type": "execute_result"
    }
   ],
   "source": [
    "# Print a sample of data for calls\n",
    "\n",
    "calls_data.head()"
   ]
  },
  {
   "cell_type": "markdown",
   "metadata": {},
   "source": [
    "The calls_data has four columns, and 137735 rows:\n",
    " - id — unique call identifier\n",
    " - call_date — call date\n",
    " - duration — call duration (in minutes)\n",
    " - user_id — the identifier of the user making the call\n",
    "\n",
    "The id is an object type and the user_id is an integer. It may not make a difference but they should be consistent. Let's change the id type to an integer type. Also, since we need to merge dataframes that contain id for different meanings, let's rename id as call_id.\n",
    "The call_date needs to be changed from an object to a datetime type.\n",
    "The duration is a float type. Megaline rounds seconds up to minutes. For calls, each individual call is rounded up: even if the call lasted just one second, it will be counted as one minute. So we should change this to an integer type after rounding each number up to the nearest minute. If we changed it to an integer type before it would round each number down to the nearest whole number.\n",
    "There are no missing values."
   ]
  },
  {
   "cell_type": "markdown",
   "metadata": {},
   "source": [
    " "
   ]
  },
  {
   "cell_type": "markdown",
   "metadata": {},
   "source": [
    "### Call Data Preprocessing"
   ]
  },
  {
   "cell_type": "code",
   "execution_count": 95,
   "metadata": {},
   "outputs": [],
   "source": [
    "# Changing id to an integer type\n",
    "calls_data['id'] = calls_data['id'].astype(int)"
   ]
  },
  {
   "cell_type": "code",
   "execution_count": 96,
   "metadata": {},
   "outputs": [],
   "source": [
    "# Renaming the column 'id' to 'call_id'\n",
    "calls_data.rename(columns = {'id':'call_id'}, inplace = True)"
   ]
  },
  {
   "cell_type": "code",
   "execution_count": 97,
   "metadata": {},
   "outputs": [],
   "source": [
    "# Changing call_date to datetime type\n",
    "calls_data['call_date'] = pd.to_datetime(calls_data['call_date'], format='%Y-%m-%d')"
   ]
  },
  {
   "cell_type": "code",
   "execution_count": 98,
   "metadata": {},
   "outputs": [],
   "source": [
    "#Rounding values in 'duration' up to the nearest integer and converting to integer\n",
    "\n",
    "calls_data['duration'] = np.ceil(calls_data['duration'])\n",
    "calls_data['duration'] = calls_data['duration'].astype(int)"
   ]
  },
  {
   "cell_type": "code",
   "execution_count": 99,
   "metadata": {},
   "outputs": [
    {
     "name": "stdout",
     "output_type": "stream",
     "text": [
      "<class 'pandas.core.frame.DataFrame'>\n",
      "RangeIndex: 137735 entries, 0 to 137734\n",
      "Data columns (total 4 columns):\n",
      " #   Column     Non-Null Count   Dtype         \n",
      "---  ------     --------------   -----         \n",
      " 0   call_id    137735 non-null  int32         \n",
      " 1   user_id    137735 non-null  int64         \n",
      " 2   call_date  137735 non-null  datetime64[ns]\n",
      " 3   duration   137735 non-null  int32         \n",
      "dtypes: datetime64[ns](1), int32(2), int64(1)\n",
      "memory usage: 3.2 MB\n"
     ]
    },
    {
     "data": {
      "text/html": [
       "<div>\n",
       "<style scoped>\n",
       "    .dataframe tbody tr th:only-of-type {\n",
       "        vertical-align: middle;\n",
       "    }\n",
       "\n",
       "    .dataframe tbody tr th {\n",
       "        vertical-align: top;\n",
       "    }\n",
       "\n",
       "    .dataframe thead th {\n",
       "        text-align: right;\n",
       "    }\n",
       "</style>\n",
       "<table border=\"1\" class=\"dataframe\">\n",
       "  <thead>\n",
       "    <tr style=\"text-align: right;\">\n",
       "      <th></th>\n",
       "      <th>call_id</th>\n",
       "      <th>user_id</th>\n",
       "      <th>call_date</th>\n",
       "      <th>duration</th>\n",
       "    </tr>\n",
       "  </thead>\n",
       "  <tbody>\n",
       "    <tr>\n",
       "      <th>0</th>\n",
       "      <td>100093</td>\n",
       "      <td>1000</td>\n",
       "      <td>2018-12-27</td>\n",
       "      <td>9</td>\n",
       "    </tr>\n",
       "    <tr>\n",
       "      <th>1</th>\n",
       "      <td>1000145</td>\n",
       "      <td>1000</td>\n",
       "      <td>2018-12-27</td>\n",
       "      <td>14</td>\n",
       "    </tr>\n",
       "    <tr>\n",
       "      <th>2</th>\n",
       "      <td>1000247</td>\n",
       "      <td>1000</td>\n",
       "      <td>2018-12-27</td>\n",
       "      <td>15</td>\n",
       "    </tr>\n",
       "    <tr>\n",
       "      <th>3</th>\n",
       "      <td>1000309</td>\n",
       "      <td>1000</td>\n",
       "      <td>2018-12-28</td>\n",
       "      <td>6</td>\n",
       "    </tr>\n",
       "    <tr>\n",
       "      <th>4</th>\n",
       "      <td>1000380</td>\n",
       "      <td>1000</td>\n",
       "      <td>2018-12-30</td>\n",
       "      <td>5</td>\n",
       "    </tr>\n",
       "  </tbody>\n",
       "</table>\n",
       "</div>"
      ],
      "text/plain": [
       "   call_id  user_id  call_date  duration\n",
       "0   100093     1000 2018-12-27         9\n",
       "1  1000145     1000 2018-12-27        14\n",
       "2  1000247     1000 2018-12-27        15\n",
       "3  1000309     1000 2018-12-28         6\n",
       "4  1000380     1000 2018-12-30         5"
      ]
     },
     "execution_count": 99,
     "metadata": {},
     "output_type": "execute_result"
    }
   ],
   "source": [
    "#Checking column values\n",
    "calls_data.info()\n",
    "calls_data.head()"
   ]
  },
  {
   "cell_type": "markdown",
   "metadata": {},
   "source": [
    "### Enrich Call Data"
   ]
  },
  {
   "cell_type": "markdown",
   "metadata": {},
   "source": [
    "In order to calculate monthly revenue, we need to create a month column for calls_data so that in our analyses we can sum all the calls per month per user."
   ]
  },
  {
   "cell_type": "code",
   "execution_count": 100,
   "metadata": {},
   "outputs": [],
   "source": [
    "# Creating a column for 'month' in calls_data\n",
    "\n",
    "calls_data['month'] = pd.DatetimeIndex(calls_data['call_date']).month"
   ]
  },
  {
   "cell_type": "code",
   "execution_count": 101,
   "metadata": {},
   "outputs": [
    {
     "data": {
      "text/html": [
       "<div>\n",
       "<style scoped>\n",
       "    .dataframe tbody tr th:only-of-type {\n",
       "        vertical-align: middle;\n",
       "    }\n",
       "\n",
       "    .dataframe tbody tr th {\n",
       "        vertical-align: top;\n",
       "    }\n",
       "\n",
       "    .dataframe thead th {\n",
       "        text-align: right;\n",
       "    }\n",
       "</style>\n",
       "<table border=\"1\" class=\"dataframe\">\n",
       "  <thead>\n",
       "    <tr style=\"text-align: right;\">\n",
       "      <th></th>\n",
       "      <th>call_id</th>\n",
       "      <th>user_id</th>\n",
       "      <th>call_date</th>\n",
       "      <th>duration</th>\n",
       "      <th>month</th>\n",
       "    </tr>\n",
       "  </thead>\n",
       "  <tbody>\n",
       "    <tr>\n",
       "      <th>0</th>\n",
       "      <td>100093</td>\n",
       "      <td>1000</td>\n",
       "      <td>2018-12-27</td>\n",
       "      <td>9</td>\n",
       "      <td>12</td>\n",
       "    </tr>\n",
       "    <tr>\n",
       "      <th>1</th>\n",
       "      <td>1000145</td>\n",
       "      <td>1000</td>\n",
       "      <td>2018-12-27</td>\n",
       "      <td>14</td>\n",
       "      <td>12</td>\n",
       "    </tr>\n",
       "    <tr>\n",
       "      <th>2</th>\n",
       "      <td>1000247</td>\n",
       "      <td>1000</td>\n",
       "      <td>2018-12-27</td>\n",
       "      <td>15</td>\n",
       "      <td>12</td>\n",
       "    </tr>\n",
       "    <tr>\n",
       "      <th>3</th>\n",
       "      <td>1000309</td>\n",
       "      <td>1000</td>\n",
       "      <td>2018-12-28</td>\n",
       "      <td>6</td>\n",
       "      <td>12</td>\n",
       "    </tr>\n",
       "    <tr>\n",
       "      <th>4</th>\n",
       "      <td>1000380</td>\n",
       "      <td>1000</td>\n",
       "      <td>2018-12-30</td>\n",
       "      <td>5</td>\n",
       "      <td>12</td>\n",
       "    </tr>\n",
       "  </tbody>\n",
       "</table>\n",
       "</div>"
      ],
      "text/plain": [
       "   call_id  user_id  call_date  duration  month\n",
       "0   100093     1000 2018-12-27         9     12\n",
       "1  1000145     1000 2018-12-27        14     12\n",
       "2  1000247     1000 2018-12-27        15     12\n",
       "3  1000309     1000 2018-12-28         6     12\n",
       "4  1000380     1000 2018-12-30         5     12"
      ]
     },
     "execution_count": 101,
     "metadata": {},
     "output_type": "execute_result"
    }
   ],
   "source": [
    "# Checking calls_data for changes\n",
    "calls_data.head()"
   ]
  },
  {
   "cell_type": "markdown",
   "metadata": {},
   "source": [
    "## Messages"
   ]
  },
  {
   "cell_type": "code",
   "execution_count": 102,
   "metadata": {},
   "outputs": [
    {
     "name": "stdout",
     "output_type": "stream",
     "text": [
      "<class 'pandas.core.frame.DataFrame'>\n",
      "RangeIndex: 76051 entries, 0 to 76050\n",
      "Data columns (total 3 columns):\n",
      " #   Column        Non-Null Count  Dtype \n",
      "---  ------        --------------  ----- \n",
      " 0   id            76051 non-null  object\n",
      " 1   user_id       76051 non-null  int64 \n",
      " 2   message_date  76051 non-null  object\n",
      "dtypes: int64(1), object(2)\n",
      "memory usage: 1.7+ MB\n"
     ]
    }
   ],
   "source": [
    "# Print the general/summary information about the messages' DataFrame\n",
    "\n",
    "messages_data.info()"
   ]
  },
  {
   "cell_type": "code",
   "execution_count": 103,
   "metadata": {},
   "outputs": [
    {
     "data": {
      "text/html": [
       "<div>\n",
       "<style scoped>\n",
       "    .dataframe tbody tr th:only-of-type {\n",
       "        vertical-align: middle;\n",
       "    }\n",
       "\n",
       "    .dataframe tbody tr th {\n",
       "        vertical-align: top;\n",
       "    }\n",
       "\n",
       "    .dataframe thead th {\n",
       "        text-align: right;\n",
       "    }\n",
       "</style>\n",
       "<table border=\"1\" class=\"dataframe\">\n",
       "  <thead>\n",
       "    <tr style=\"text-align: right;\">\n",
       "      <th></th>\n",
       "      <th>id</th>\n",
       "      <th>user_id</th>\n",
       "      <th>message_date</th>\n",
       "    </tr>\n",
       "  </thead>\n",
       "  <tbody>\n",
       "    <tr>\n",
       "      <th>0</th>\n",
       "      <td>1000_125</td>\n",
       "      <td>1000</td>\n",
       "      <td>2018-12-27</td>\n",
       "    </tr>\n",
       "    <tr>\n",
       "      <th>1</th>\n",
       "      <td>1000_160</td>\n",
       "      <td>1000</td>\n",
       "      <td>2018-12-31</td>\n",
       "    </tr>\n",
       "    <tr>\n",
       "      <th>2</th>\n",
       "      <td>1000_223</td>\n",
       "      <td>1000</td>\n",
       "      <td>2018-12-31</td>\n",
       "    </tr>\n",
       "    <tr>\n",
       "      <th>3</th>\n",
       "      <td>1000_251</td>\n",
       "      <td>1000</td>\n",
       "      <td>2018-12-27</td>\n",
       "    </tr>\n",
       "    <tr>\n",
       "      <th>4</th>\n",
       "      <td>1000_255</td>\n",
       "      <td>1000</td>\n",
       "      <td>2018-12-26</td>\n",
       "    </tr>\n",
       "  </tbody>\n",
       "</table>\n",
       "</div>"
      ],
      "text/plain": [
       "         id  user_id message_date\n",
       "0  1000_125     1000   2018-12-27\n",
       "1  1000_160     1000   2018-12-31\n",
       "2  1000_223     1000   2018-12-31\n",
       "3  1000_251     1000   2018-12-27\n",
       "4  1000_255     1000   2018-12-26"
      ]
     },
     "execution_count": 103,
     "metadata": {},
     "output_type": "execute_result"
    }
   ],
   "source": [
    "# Print a sample of data for messages\n",
    "\n",
    "messages_data.head()"
   ]
  },
  {
   "cell_type": "markdown",
   "metadata": {},
   "source": [
    "The messages table (data on texts) has 76051 entries.\n",
    "id — unique text message identifier\n",
    "message_date — text message date\n",
    "user_id — the identifier of the user sending the text\n",
    "\n",
    "The id is an object type. Let's convert this to an integer. Let's also rename this column from 'id' to 'message_id' so it will be clear and distinct from 'call_id'.\n",
    "The message_date needs to be converted from an object type to a datetime type.\n",
    "There are no missing values."
   ]
  },
  {
   "cell_type": "markdown",
   "metadata": {},
   "source": [
    " "
   ]
  },
  {
   "cell_type": "markdown",
   "metadata": {},
   "source": [
    "### Message Data Preprocessing"
   ]
  },
  {
   "cell_type": "code",
   "execution_count": 104,
   "metadata": {},
   "outputs": [],
   "source": [
    "# Renaming the column 'id' to 'message_id'\n",
    "messages_data.rename(columns = {'id':'message_id'}, inplace = True)"
   ]
  },
  {
   "cell_type": "code",
   "execution_count": 105,
   "metadata": {},
   "outputs": [],
   "source": [
    "# Converting message_id to an integer type\n",
    "messages_data['message_id'] = messages_data['message_id'].astype(int)"
   ]
  },
  {
   "cell_type": "code",
   "execution_count": 106,
   "metadata": {},
   "outputs": [],
   "source": [
    "# Converting message_date to a datetime type\n",
    "messages_data['message_date'] = pd.to_datetime(messages_data['message_date'], format='%Y-%m-%d')"
   ]
  },
  {
   "cell_type": "code",
   "execution_count": 107,
   "metadata": {},
   "outputs": [
    {
     "name": "stdout",
     "output_type": "stream",
     "text": [
      "<class 'pandas.core.frame.DataFrame'>\n",
      "RangeIndex: 76051 entries, 0 to 76050\n",
      "Data columns (total 3 columns):\n",
      " #   Column        Non-Null Count  Dtype         \n",
      "---  ------        --------------  -----         \n",
      " 0   message_id    76051 non-null  int32         \n",
      " 1   user_id       76051 non-null  int64         \n",
      " 2   message_date  76051 non-null  datetime64[ns]\n",
      "dtypes: datetime64[ns](1), int32(1), int64(1)\n",
      "memory usage: 1.5 MB\n"
     ]
    }
   ],
   "source": [
    "#Checking columns in messages_data\n",
    "messages_data.info()"
   ]
  },
  {
   "cell_type": "code",
   "execution_count": 108,
   "metadata": {},
   "outputs": [
    {
     "data": {
      "text/html": [
       "<div>\n",
       "<style scoped>\n",
       "    .dataframe tbody tr th:only-of-type {\n",
       "        vertical-align: middle;\n",
       "    }\n",
       "\n",
       "    .dataframe tbody tr th {\n",
       "        vertical-align: top;\n",
       "    }\n",
       "\n",
       "    .dataframe thead th {\n",
       "        text-align: right;\n",
       "    }\n",
       "</style>\n",
       "<table border=\"1\" class=\"dataframe\">\n",
       "  <thead>\n",
       "    <tr style=\"text-align: right;\">\n",
       "      <th></th>\n",
       "      <th>message_id</th>\n",
       "      <th>user_id</th>\n",
       "      <th>message_date</th>\n",
       "      <th>month</th>\n",
       "    </tr>\n",
       "  </thead>\n",
       "  <tbody>\n",
       "    <tr>\n",
       "      <th>0</th>\n",
       "      <td>1000125</td>\n",
       "      <td>1000</td>\n",
       "      <td>2018-12-27</td>\n",
       "      <td>12</td>\n",
       "    </tr>\n",
       "    <tr>\n",
       "      <th>1</th>\n",
       "      <td>1000160</td>\n",
       "      <td>1000</td>\n",
       "      <td>2018-12-31</td>\n",
       "      <td>12</td>\n",
       "    </tr>\n",
       "    <tr>\n",
       "      <th>2</th>\n",
       "      <td>1000223</td>\n",
       "      <td>1000</td>\n",
       "      <td>2018-12-31</td>\n",
       "      <td>12</td>\n",
       "    </tr>\n",
       "    <tr>\n",
       "      <th>3</th>\n",
       "      <td>1000251</td>\n",
       "      <td>1000</td>\n",
       "      <td>2018-12-27</td>\n",
       "      <td>12</td>\n",
       "    </tr>\n",
       "    <tr>\n",
       "      <th>4</th>\n",
       "      <td>1000255</td>\n",
       "      <td>1000</td>\n",
       "      <td>2018-12-26</td>\n",
       "      <td>12</td>\n",
       "    </tr>\n",
       "  </tbody>\n",
       "</table>\n",
       "</div>"
      ],
      "text/plain": [
       "   message_id  user_id message_date  month\n",
       "0     1000125     1000   2018-12-27     12\n",
       "1     1000160     1000   2018-12-31     12\n",
       "2     1000223     1000   2018-12-31     12\n",
       "3     1000251     1000   2018-12-27     12\n",
       "4     1000255     1000   2018-12-26     12"
      ]
     },
     "execution_count": 108,
     "metadata": {},
     "output_type": "execute_result"
    }
   ],
   "source": [
    "# Creating a column for 'month' in messages_data\n",
    "\n",
    "messages_data['month'] = pd.DatetimeIndex(messages_data['message_date']).month\n",
    "messages_data.head()"
   ]
  },
  {
   "cell_type": "markdown",
   "metadata": {},
   "source": [
    "## Internet"
   ]
  },
  {
   "cell_type": "code",
   "execution_count": 109,
   "metadata": {},
   "outputs": [
    {
     "name": "stdout",
     "output_type": "stream",
     "text": [
      "<class 'pandas.core.frame.DataFrame'>\n",
      "RangeIndex: 104825 entries, 0 to 104824\n",
      "Data columns (total 4 columns):\n",
      " #   Column        Non-Null Count   Dtype  \n",
      "---  ------        --------------   -----  \n",
      " 0   id            104825 non-null  object \n",
      " 1   user_id       104825 non-null  int64  \n",
      " 2   session_date  104825 non-null  object \n",
      " 3   mb_used       104825 non-null  float64\n",
      "dtypes: float64(1), int64(1), object(2)\n",
      "memory usage: 3.2+ MB\n"
     ]
    }
   ],
   "source": [
    "# Print the general/summary information about the internet DataFrame\n",
    "\n",
    "internet_data.info()"
   ]
  },
  {
   "cell_type": "code",
   "execution_count": 110,
   "metadata": {},
   "outputs": [
    {
     "data": {
      "text/html": [
       "<div>\n",
       "<style scoped>\n",
       "    .dataframe tbody tr th:only-of-type {\n",
       "        vertical-align: middle;\n",
       "    }\n",
       "\n",
       "    .dataframe tbody tr th {\n",
       "        vertical-align: top;\n",
       "    }\n",
       "\n",
       "    .dataframe thead th {\n",
       "        text-align: right;\n",
       "    }\n",
       "</style>\n",
       "<table border=\"1\" class=\"dataframe\">\n",
       "  <thead>\n",
       "    <tr style=\"text-align: right;\">\n",
       "      <th></th>\n",
       "      <th>id</th>\n",
       "      <th>user_id</th>\n",
       "      <th>session_date</th>\n",
       "      <th>mb_used</th>\n",
       "    </tr>\n",
       "  </thead>\n",
       "  <tbody>\n",
       "    <tr>\n",
       "      <th>0</th>\n",
       "      <td>1000_13</td>\n",
       "      <td>1000</td>\n",
       "      <td>2018-12-29</td>\n",
       "      <td>89.86</td>\n",
       "    </tr>\n",
       "    <tr>\n",
       "      <th>1</th>\n",
       "      <td>1000_204</td>\n",
       "      <td>1000</td>\n",
       "      <td>2018-12-31</td>\n",
       "      <td>0.00</td>\n",
       "    </tr>\n",
       "    <tr>\n",
       "      <th>2</th>\n",
       "      <td>1000_379</td>\n",
       "      <td>1000</td>\n",
       "      <td>2018-12-28</td>\n",
       "      <td>660.40</td>\n",
       "    </tr>\n",
       "    <tr>\n",
       "      <th>3</th>\n",
       "      <td>1000_413</td>\n",
       "      <td>1000</td>\n",
       "      <td>2018-12-26</td>\n",
       "      <td>270.99</td>\n",
       "    </tr>\n",
       "    <tr>\n",
       "      <th>4</th>\n",
       "      <td>1000_442</td>\n",
       "      <td>1000</td>\n",
       "      <td>2018-12-27</td>\n",
       "      <td>880.22</td>\n",
       "    </tr>\n",
       "  </tbody>\n",
       "</table>\n",
       "</div>"
      ],
      "text/plain": [
       "         id  user_id session_date  mb_used\n",
       "0   1000_13     1000   2018-12-29    89.86\n",
       "1  1000_204     1000   2018-12-31     0.00\n",
       "2  1000_379     1000   2018-12-28   660.40\n",
       "3  1000_413     1000   2018-12-26   270.99\n",
       "4  1000_442     1000   2018-12-27   880.22"
      ]
     },
     "execution_count": 110,
     "metadata": {},
     "output_type": "execute_result"
    }
   ],
   "source": [
    "# Print a sample of data for the internet traffic\n",
    "\n",
    "internet_data.head()"
   ]
  },
  {
   "cell_type": "markdown",
   "metadata": {},
   "source": [
    "The internet table (data on web sessions) has 4 columns, 104825 entries.\n",
    "\n",
    " - id — unique session identifier\n",
    " - mb_used — the volume of data spent during the session (in megabytes)\n",
    " - session_date — web session date\n",
    " - user_id — user identifier\n",
    "\n",
    "There are no missing values.\n",
    "The id is an object type. Let's convert this to an integer. The session_date needs to be converted from an object type to a datetime type.\n",
    "The mb_used is a float type. It is important to note that mb_used represents the volume of data spent during a session (in megabytes). At Megaline, for web traffic, individual web sessions are not rounded up. Instead, the total gb for the month is rounded up. So after we aggregated the date per month, we will need to calculate monthly charges for extra data based on rate of $10 per 1 GB of data. If someone uses 1025 megabytes this month, they will be charged for 2 gigabytes. We will create a column 'gb_used' later on  to calculate internet usage for future analysis."
   ]
  },
  {
   "cell_type": "markdown",
   "metadata": {},
   "source": [
    " "
   ]
  },
  {
   "cell_type": "markdown",
   "metadata": {},
   "source": [
    "### Internet Data Preprocessing"
   ]
  },
  {
   "cell_type": "code",
   "execution_count": 111,
   "metadata": {},
   "outputs": [
    {
     "name": "stdout",
     "output_type": "stream",
     "text": [
      "<class 'pandas.core.frame.DataFrame'>\n",
      "RangeIndex: 104825 entries, 0 to 104824\n",
      "Data columns (total 4 columns):\n",
      " #   Column        Non-Null Count   Dtype         \n",
      "---  ------        --------------   -----         \n",
      " 0   id            104825 non-null  int32         \n",
      " 1   user_id       104825 non-null  int64         \n",
      " 2   session_date  104825 non-null  datetime64[ns]\n",
      " 3   mb_used       104825 non-null  float64       \n",
      "dtypes: datetime64[ns](1), float64(1), int32(1), int64(1)\n",
      "memory usage: 2.8 MB\n"
     ]
    }
   ],
   "source": [
    "# Converting id to an integer type and session_date to a datetime type\n",
    "\n",
    "internet_data['id'] = internet_data['id'].astype(int)\n",
    "\n",
    "internet_data['session_date'] = pd.to_datetime(internet_data['session_date'], format='%Y-%m-%d')\n",
    "\n",
    "#Checking columns in internet_data\n",
    "internet_data.info()"
   ]
  },
  {
   "cell_type": "markdown",
   "metadata": {},
   "source": [
    "### Enrich Internet Data"
   ]
  },
  {
   "cell_type": "markdown",
   "metadata": {},
   "source": [
    "Let's create a month colum for internet_data to be used for future analysis."
   ]
  },
  {
   "cell_type": "code",
   "execution_count": 112,
   "metadata": {},
   "outputs": [
    {
     "data": {
      "text/html": [
       "<div>\n",
       "<style scoped>\n",
       "    .dataframe tbody tr th:only-of-type {\n",
       "        vertical-align: middle;\n",
       "    }\n",
       "\n",
       "    .dataframe tbody tr th {\n",
       "        vertical-align: top;\n",
       "    }\n",
       "\n",
       "    .dataframe thead th {\n",
       "        text-align: right;\n",
       "    }\n",
       "</style>\n",
       "<table border=\"1\" class=\"dataframe\">\n",
       "  <thead>\n",
       "    <tr style=\"text-align: right;\">\n",
       "      <th></th>\n",
       "      <th>id</th>\n",
       "      <th>user_id</th>\n",
       "      <th>session_date</th>\n",
       "      <th>mb_used</th>\n",
       "      <th>month</th>\n",
       "    </tr>\n",
       "  </thead>\n",
       "  <tbody>\n",
       "    <tr>\n",
       "      <th>0</th>\n",
       "      <td>100013</td>\n",
       "      <td>1000</td>\n",
       "      <td>2018-12-29</td>\n",
       "      <td>89.86</td>\n",
       "      <td>12</td>\n",
       "    </tr>\n",
       "    <tr>\n",
       "      <th>1</th>\n",
       "      <td>1000204</td>\n",
       "      <td>1000</td>\n",
       "      <td>2018-12-31</td>\n",
       "      <td>0.00</td>\n",
       "      <td>12</td>\n",
       "    </tr>\n",
       "    <tr>\n",
       "      <th>2</th>\n",
       "      <td>1000379</td>\n",
       "      <td>1000</td>\n",
       "      <td>2018-12-28</td>\n",
       "      <td>660.40</td>\n",
       "      <td>12</td>\n",
       "    </tr>\n",
       "    <tr>\n",
       "      <th>3</th>\n",
       "      <td>1000413</td>\n",
       "      <td>1000</td>\n",
       "      <td>2018-12-26</td>\n",
       "      <td>270.99</td>\n",
       "      <td>12</td>\n",
       "    </tr>\n",
       "    <tr>\n",
       "      <th>4</th>\n",
       "      <td>1000442</td>\n",
       "      <td>1000</td>\n",
       "      <td>2018-12-27</td>\n",
       "      <td>880.22</td>\n",
       "      <td>12</td>\n",
       "    </tr>\n",
       "  </tbody>\n",
       "</table>\n",
       "</div>"
      ],
      "text/plain": [
       "        id  user_id session_date  mb_used  month\n",
       "0   100013     1000   2018-12-29    89.86     12\n",
       "1  1000204     1000   2018-12-31     0.00     12\n",
       "2  1000379     1000   2018-12-28   660.40     12\n",
       "3  1000413     1000   2018-12-26   270.99     12\n",
       "4  1000442     1000   2018-12-27   880.22     12"
      ]
     },
     "execution_count": 112,
     "metadata": {},
     "output_type": "execute_result"
    }
   ],
   "source": [
    "# Creating a column for 'month' in internet_data\n",
    "\n",
    "internet_data['month'] = pd.DatetimeIndex(internet_data['session_date']).month\n",
    "internet_data.head()"
   ]
  },
  {
   "cell_type": "code",
   "execution_count": 113,
   "metadata": {},
   "outputs": [
    {
     "data": {
      "text/html": [
       "<div>\n",
       "<style scoped>\n",
       "    .dataframe tbody tr th:only-of-type {\n",
       "        vertical-align: middle;\n",
       "    }\n",
       "\n",
       "    .dataframe tbody tr th {\n",
       "        vertical-align: top;\n",
       "    }\n",
       "\n",
       "    .dataframe thead th {\n",
       "        text-align: right;\n",
       "    }\n",
       "</style>\n",
       "<table border=\"1\" class=\"dataframe\">\n",
       "  <thead>\n",
       "    <tr style=\"text-align: right;\">\n",
       "      <th></th>\n",
       "      <th>id</th>\n",
       "      <th>user_id</th>\n",
       "      <th>session_date</th>\n",
       "      <th>mb_used</th>\n",
       "      <th>month</th>\n",
       "    </tr>\n",
       "  </thead>\n",
       "  <tbody>\n",
       "    <tr>\n",
       "      <th>0</th>\n",
       "      <td>100013</td>\n",
       "      <td>1000</td>\n",
       "      <td>2018-12-29</td>\n",
       "      <td>89.86</td>\n",
       "      <td>12</td>\n",
       "    </tr>\n",
       "    <tr>\n",
       "      <th>1</th>\n",
       "      <td>1000204</td>\n",
       "      <td>1000</td>\n",
       "      <td>2018-12-31</td>\n",
       "      <td>0.00</td>\n",
       "      <td>12</td>\n",
       "    </tr>\n",
       "    <tr>\n",
       "      <th>2</th>\n",
       "      <td>1000379</td>\n",
       "      <td>1000</td>\n",
       "      <td>2018-12-28</td>\n",
       "      <td>660.40</td>\n",
       "      <td>12</td>\n",
       "    </tr>\n",
       "    <tr>\n",
       "      <th>3</th>\n",
       "      <td>1000413</td>\n",
       "      <td>1000</td>\n",
       "      <td>2018-12-26</td>\n",
       "      <td>270.99</td>\n",
       "      <td>12</td>\n",
       "    </tr>\n",
       "    <tr>\n",
       "      <th>4</th>\n",
       "      <td>1000442</td>\n",
       "      <td>1000</td>\n",
       "      <td>2018-12-27</td>\n",
       "      <td>880.22</td>\n",
       "      <td>12</td>\n",
       "    </tr>\n",
       "  </tbody>\n",
       "</table>\n",
       "</div>"
      ],
      "text/plain": [
       "        id  user_id session_date  mb_used  month\n",
       "0   100013     1000   2018-12-29    89.86     12\n",
       "1  1000204     1000   2018-12-31     0.00     12\n",
       "2  1000379     1000   2018-12-28   660.40     12\n",
       "3  1000413     1000   2018-12-26   270.99     12\n",
       "4  1000442     1000   2018-12-27   880.22     12"
      ]
     },
     "execution_count": 113,
     "metadata": {},
     "output_type": "execute_result"
    }
   ],
   "source": [
    "# Checking internet_data after changes\n",
    "\n",
    "internet_data.head()"
   ]
  },
  {
   "cell_type": "markdown",
   "metadata": {},
   "source": [
    "Now we have a column 'gb_used' to use for calculating monthly revenue below."
   ]
  },
  {
   "cell_type": "markdown",
   "metadata": {},
   "source": [
    "## Study Plan Conditions"
   ]
  },
  {
   "cell_type": "code",
   "execution_count": 114,
   "metadata": {},
   "outputs": [
    {
     "data": {
      "text/html": [
       "<div>\n",
       "<style scoped>\n",
       "    .dataframe tbody tr th:only-of-type {\n",
       "        vertical-align: middle;\n",
       "    }\n",
       "\n",
       "    .dataframe tbody tr th {\n",
       "        vertical-align: top;\n",
       "    }\n",
       "\n",
       "    .dataframe thead th {\n",
       "        text-align: right;\n",
       "    }\n",
       "</style>\n",
       "<table border=\"1\" class=\"dataframe\">\n",
       "  <thead>\n",
       "    <tr style=\"text-align: right;\">\n",
       "      <th></th>\n",
       "      <th>messages_included</th>\n",
       "      <th>mb_per_month_included</th>\n",
       "      <th>minutes_included</th>\n",
       "      <th>usd_monthly_pay</th>\n",
       "      <th>usd_per_gb</th>\n",
       "      <th>usd_per_message</th>\n",
       "      <th>usd_per_minute</th>\n",
       "      <th>plan</th>\n",
       "    </tr>\n",
       "  </thead>\n",
       "  <tbody>\n",
       "    <tr>\n",
       "      <th>0</th>\n",
       "      <td>50</td>\n",
       "      <td>15360</td>\n",
       "      <td>500</td>\n",
       "      <td>20</td>\n",
       "      <td>10</td>\n",
       "      <td>0.03</td>\n",
       "      <td>0.03</td>\n",
       "      <td>surf</td>\n",
       "    </tr>\n",
       "    <tr>\n",
       "      <th>1</th>\n",
       "      <td>1000</td>\n",
       "      <td>30720</td>\n",
       "      <td>3000</td>\n",
       "      <td>70</td>\n",
       "      <td>7</td>\n",
       "      <td>0.01</td>\n",
       "      <td>0.01</td>\n",
       "      <td>ultimate</td>\n",
       "    </tr>\n",
       "  </tbody>\n",
       "</table>\n",
       "</div>"
      ],
      "text/plain": [
       "   messages_included  mb_per_month_included  minutes_included  \\\n",
       "0                 50                  15360               500   \n",
       "1               1000                  30720              3000   \n",
       "\n",
       "   usd_monthly_pay  usd_per_gb  usd_per_message  usd_per_minute      plan  \n",
       "0               20          10             0.03            0.03      surf  \n",
       "1               70           7             0.01            0.01  ultimate  "
      ]
     },
     "execution_count": 114,
     "metadata": {},
     "output_type": "execute_result"
    }
   ],
   "source": [
    "plans_data.head()"
   ]
  },
  {
   "cell_type": "markdown",
   "metadata": {},
   "source": [
    "## Aggregate Data Per User\n"
   ]
  },
  {
   "cell_type": "markdown",
   "metadata": {},
   "source": [
    "We need to aggregate the data per user into one dataframe for future analysis."
   ]
  },
  {
   "cell_type": "code",
   "execution_count": 115,
   "metadata": {},
   "outputs": [
    {
     "data": {
      "text/html": [
       "<div>\n",
       "<style scoped>\n",
       "    .dataframe tbody tr th:only-of-type {\n",
       "        vertical-align: middle;\n",
       "    }\n",
       "\n",
       "    .dataframe tbody tr th {\n",
       "        vertical-align: top;\n",
       "    }\n",
       "\n",
       "    .dataframe thead th {\n",
       "        text-align: right;\n",
       "    }\n",
       "</style>\n",
       "<table border=\"1\" class=\"dataframe\">\n",
       "  <thead>\n",
       "    <tr style=\"text-align: right;\">\n",
       "      <th></th>\n",
       "      <th></th>\n",
       "      <th>call_id</th>\n",
       "    </tr>\n",
       "    <tr>\n",
       "      <th>user_id</th>\n",
       "      <th>month</th>\n",
       "      <th></th>\n",
       "    </tr>\n",
       "  </thead>\n",
       "  <tbody>\n",
       "    <tr>\n",
       "      <th>1000</th>\n",
       "      <th>12</th>\n",
       "      <td>16</td>\n",
       "    </tr>\n",
       "    <tr>\n",
       "      <th rowspan=\"4\" valign=\"top\">1001</th>\n",
       "      <th>8</th>\n",
       "      <td>27</td>\n",
       "    </tr>\n",
       "    <tr>\n",
       "      <th>9</th>\n",
       "      <td>49</td>\n",
       "    </tr>\n",
       "    <tr>\n",
       "      <th>10</th>\n",
       "      <td>65</td>\n",
       "    </tr>\n",
       "    <tr>\n",
       "      <th>11</th>\n",
       "      <td>64</td>\n",
       "    </tr>\n",
       "  </tbody>\n",
       "</table>\n",
       "</div>"
      ],
      "text/plain": [
       "               call_id\n",
       "user_id month         \n",
       "1000    12          16\n",
       "1001    8           27\n",
       "        9           49\n",
       "        10          65\n",
       "        11          64"
      ]
     },
     "execution_count": 115,
     "metadata": {},
     "output_type": "execute_result"
    }
   ],
   "source": [
    "# Calculate the number of calls made by each user per month. Save the result.\n",
    "\n",
    "user_calls = calls_data.pivot_table(index = ('user_id','month'), values = 'call_id', aggfunc = ('count'))\n",
    "\n",
    "user_calls.head()"
   ]
  },
  {
   "cell_type": "code",
   "execution_count": 116,
   "metadata": {},
   "outputs": [
    {
     "data": {
      "text/html": [
       "<div>\n",
       "<style scoped>\n",
       "    .dataframe tbody tr th:only-of-type {\n",
       "        vertical-align: middle;\n",
       "    }\n",
       "\n",
       "    .dataframe tbody tr th {\n",
       "        vertical-align: top;\n",
       "    }\n",
       "\n",
       "    .dataframe thead th {\n",
       "        text-align: right;\n",
       "    }\n",
       "</style>\n",
       "<table border=\"1\" class=\"dataframe\">\n",
       "  <thead>\n",
       "    <tr style=\"text-align: right;\">\n",
       "      <th></th>\n",
       "      <th></th>\n",
       "      <th>duration</th>\n",
       "    </tr>\n",
       "    <tr>\n",
       "      <th>user_id</th>\n",
       "      <th>month</th>\n",
       "      <th></th>\n",
       "    </tr>\n",
       "  </thead>\n",
       "  <tbody>\n",
       "    <tr>\n",
       "      <th>1000</th>\n",
       "      <th>12</th>\n",
       "      <td>124</td>\n",
       "    </tr>\n",
       "    <tr>\n",
       "      <th rowspan=\"4\" valign=\"top\">1001</th>\n",
       "      <th>8</th>\n",
       "      <td>182</td>\n",
       "    </tr>\n",
       "    <tr>\n",
       "      <th>9</th>\n",
       "      <td>315</td>\n",
       "    </tr>\n",
       "    <tr>\n",
       "      <th>10</th>\n",
       "      <td>393</td>\n",
       "    </tr>\n",
       "    <tr>\n",
       "      <th>11</th>\n",
       "      <td>426</td>\n",
       "    </tr>\n",
       "  </tbody>\n",
       "</table>\n",
       "</div>"
      ],
      "text/plain": [
       "               duration\n",
       "user_id month          \n",
       "1000    12          124\n",
       "1001    8           182\n",
       "        9           315\n",
       "        10          393\n",
       "        11          426"
      ]
     },
     "execution_count": 116,
     "metadata": {},
     "output_type": "execute_result"
    }
   ],
   "source": [
    "# Calculate the number of calls and the number of minutes made by each user per month. Save the result.\n",
    "\n",
    "user_minutes = calls_data.pivot_table(index = ('user_id','month'), values = 'duration', aggfunc = ('sum'))\n",
    "user_minutes.head()"
   ]
  },
  {
   "cell_type": "code",
   "execution_count": 117,
   "metadata": {},
   "outputs": [
    {
     "data": {
      "text/html": [
       "<div>\n",
       "<style scoped>\n",
       "    .dataframe tbody tr th:only-of-type {\n",
       "        vertical-align: middle;\n",
       "    }\n",
       "\n",
       "    .dataframe tbody tr th {\n",
       "        vertical-align: top;\n",
       "    }\n",
       "\n",
       "    .dataframe thead th {\n",
       "        text-align: right;\n",
       "    }\n",
       "</style>\n",
       "<table border=\"1\" class=\"dataframe\">\n",
       "  <thead>\n",
       "    <tr style=\"text-align: right;\">\n",
       "      <th></th>\n",
       "      <th></th>\n",
       "      <th>message_id</th>\n",
       "    </tr>\n",
       "    <tr>\n",
       "      <th>user_id</th>\n",
       "      <th>month</th>\n",
       "      <th></th>\n",
       "    </tr>\n",
       "  </thead>\n",
       "  <tbody>\n",
       "    <tr>\n",
       "      <th>1000</th>\n",
       "      <th>12</th>\n",
       "      <td>11</td>\n",
       "    </tr>\n",
       "    <tr>\n",
       "      <th rowspan=\"4\" valign=\"top\">1001</th>\n",
       "      <th>8</th>\n",
       "      <td>30</td>\n",
       "    </tr>\n",
       "    <tr>\n",
       "      <th>9</th>\n",
       "      <td>44</td>\n",
       "    </tr>\n",
       "    <tr>\n",
       "      <th>10</th>\n",
       "      <td>53</td>\n",
       "    </tr>\n",
       "    <tr>\n",
       "      <th>11</th>\n",
       "      <td>36</td>\n",
       "    </tr>\n",
       "  </tbody>\n",
       "</table>\n",
       "</div>"
      ],
      "text/plain": [
       "               message_id\n",
       "user_id month            \n",
       "1000    12             11\n",
       "1001    8              30\n",
       "        9              44\n",
       "        10             53\n",
       "        11             36"
      ]
     },
     "execution_count": 117,
     "metadata": {},
     "output_type": "execute_result"
    }
   ],
   "source": [
    "# Calculate the number of messages sent by each user per month. Save the result.\n",
    "\n",
    "user_messages = messages_data.pivot_table(index=('user_id', 'month'), values= 'message_id', aggfunc='count')\n",
    "user_messages.head()"
   ]
  },
  {
   "cell_type": "code",
   "execution_count": 118,
   "metadata": {},
   "outputs": [
    {
     "data": {
      "text/html": [
       "<div>\n",
       "<style scoped>\n",
       "    .dataframe tbody tr th:only-of-type {\n",
       "        vertical-align: middle;\n",
       "    }\n",
       "\n",
       "    .dataframe tbody tr th {\n",
       "        vertical-align: top;\n",
       "    }\n",
       "\n",
       "    .dataframe thead th {\n",
       "        text-align: right;\n",
       "    }\n",
       "</style>\n",
       "<table border=\"1\" class=\"dataframe\">\n",
       "  <thead>\n",
       "    <tr style=\"text-align: right;\">\n",
       "      <th></th>\n",
       "      <th></th>\n",
       "      <th>mb_used</th>\n",
       "    </tr>\n",
       "    <tr>\n",
       "      <th>user_id</th>\n",
       "      <th>month</th>\n",
       "      <th></th>\n",
       "    </tr>\n",
       "  </thead>\n",
       "  <tbody>\n",
       "    <tr>\n",
       "      <th>1000</th>\n",
       "      <th>12</th>\n",
       "      <td>1901.47</td>\n",
       "    </tr>\n",
       "    <tr>\n",
       "      <th rowspan=\"4\" valign=\"top\">1001</th>\n",
       "      <th>8</th>\n",
       "      <td>6919.15</td>\n",
       "    </tr>\n",
       "    <tr>\n",
       "      <th>9</th>\n",
       "      <td>13314.82</td>\n",
       "    </tr>\n",
       "    <tr>\n",
       "      <th>10</th>\n",
       "      <td>22330.49</td>\n",
       "    </tr>\n",
       "    <tr>\n",
       "      <th>11</th>\n",
       "      <td>18504.30</td>\n",
       "    </tr>\n",
       "  </tbody>\n",
       "</table>\n",
       "</div>"
      ],
      "text/plain": [
       "                mb_used\n",
       "user_id month          \n",
       "1000    12      1901.47\n",
       "1001    8       6919.15\n",
       "        9      13314.82\n",
       "        10     22330.49\n",
       "        11     18504.30"
      ]
     },
     "execution_count": 118,
     "metadata": {},
     "output_type": "execute_result"
    }
   ],
   "source": [
    "# Calculate the volume of internet traffic used by each user per month. Save the result.\n",
    "\n",
    "user_internet = internet_data.pivot_table(index=('user_id', 'month'), values= 'mb_used', aggfunc='sum')\n",
    "user_internet.head()"
   ]
  },
  {
   "cell_type": "markdown",
   "metadata": {},
   "source": [
    "Putting the aggregate data together into one DataFrame so that one record in it would represent what an unique user consumed in a given month."
   ]
  },
  {
   "cell_type": "code",
   "execution_count": 119,
   "metadata": {},
   "outputs": [
    {
     "name": "stdout",
     "output_type": "stream",
     "text": [
      "<class 'pandas.core.frame.DataFrame'>\n",
      "Int64Index: 2293 entries, 0 to 2292\n",
      "Data columns (total 6 columns):\n",
      " #   Column      Non-Null Count  Dtype  \n",
      "---  ------      --------------  -----  \n",
      " 0   user_id     2293 non-null   int64  \n",
      " 1   month       2293 non-null   int64  \n",
      " 2   call_id     2258 non-null   float64\n",
      " 3   duration    2258 non-null   float64\n",
      " 4   message_id  1806 non-null   float64\n",
      " 5   mb_used     2277 non-null   float64\n",
      "dtypes: float64(4), int64(2)\n",
      "memory usage: 125.4 KB\n"
     ]
    },
    {
     "data": {
      "text/html": [
       "<div>\n",
       "<style scoped>\n",
       "    .dataframe tbody tr th:only-of-type {\n",
       "        vertical-align: middle;\n",
       "    }\n",
       "\n",
       "    .dataframe tbody tr th {\n",
       "        vertical-align: top;\n",
       "    }\n",
       "\n",
       "    .dataframe thead th {\n",
       "        text-align: right;\n",
       "    }\n",
       "</style>\n",
       "<table border=\"1\" class=\"dataframe\">\n",
       "  <thead>\n",
       "    <tr style=\"text-align: right;\">\n",
       "      <th></th>\n",
       "      <th>user_id</th>\n",
       "      <th>month</th>\n",
       "      <th>call_id</th>\n",
       "      <th>duration</th>\n",
       "      <th>message_id</th>\n",
       "      <th>mb_used</th>\n",
       "    </tr>\n",
       "  </thead>\n",
       "  <tbody>\n",
       "    <tr>\n",
       "      <th>0</th>\n",
       "      <td>1000</td>\n",
       "      <td>12</td>\n",
       "      <td>16.0</td>\n",
       "      <td>124.0</td>\n",
       "      <td>11.0</td>\n",
       "      <td>1901.47</td>\n",
       "    </tr>\n",
       "    <tr>\n",
       "      <th>1</th>\n",
       "      <td>1001</td>\n",
       "      <td>8</td>\n",
       "      <td>27.0</td>\n",
       "      <td>182.0</td>\n",
       "      <td>30.0</td>\n",
       "      <td>6919.15</td>\n",
       "    </tr>\n",
       "    <tr>\n",
       "      <th>2</th>\n",
       "      <td>1001</td>\n",
       "      <td>9</td>\n",
       "      <td>49.0</td>\n",
       "      <td>315.0</td>\n",
       "      <td>44.0</td>\n",
       "      <td>13314.82</td>\n",
       "    </tr>\n",
       "    <tr>\n",
       "      <th>3</th>\n",
       "      <td>1001</td>\n",
       "      <td>10</td>\n",
       "      <td>65.0</td>\n",
       "      <td>393.0</td>\n",
       "      <td>53.0</td>\n",
       "      <td>22330.49</td>\n",
       "    </tr>\n",
       "    <tr>\n",
       "      <th>4</th>\n",
       "      <td>1001</td>\n",
       "      <td>11</td>\n",
       "      <td>64.0</td>\n",
       "      <td>426.0</td>\n",
       "      <td>36.0</td>\n",
       "      <td>18504.30</td>\n",
       "    </tr>\n",
       "    <tr>\n",
       "      <th>5</th>\n",
       "      <td>1001</td>\n",
       "      <td>12</td>\n",
       "      <td>56.0</td>\n",
       "      <td>412.0</td>\n",
       "      <td>44.0</td>\n",
       "      <td>19369.18</td>\n",
       "    </tr>\n",
       "    <tr>\n",
       "      <th>6</th>\n",
       "      <td>1002</td>\n",
       "      <td>10</td>\n",
       "      <td>11.0</td>\n",
       "      <td>59.0</td>\n",
       "      <td>15.0</td>\n",
       "      <td>6552.01</td>\n",
       "    </tr>\n",
       "    <tr>\n",
       "      <th>7</th>\n",
       "      <td>1002</td>\n",
       "      <td>11</td>\n",
       "      <td>55.0</td>\n",
       "      <td>386.0</td>\n",
       "      <td>32.0</td>\n",
       "      <td>19345.08</td>\n",
       "    </tr>\n",
       "    <tr>\n",
       "      <th>8</th>\n",
       "      <td>1002</td>\n",
       "      <td>12</td>\n",
       "      <td>47.0</td>\n",
       "      <td>384.0</td>\n",
       "      <td>41.0</td>\n",
       "      <td>14396.24</td>\n",
       "    </tr>\n",
       "    <tr>\n",
       "      <th>9</th>\n",
       "      <td>1003</td>\n",
       "      <td>12</td>\n",
       "      <td>149.0</td>\n",
       "      <td>1104.0</td>\n",
       "      <td>50.0</td>\n",
       "      <td>27044.14</td>\n",
       "    </tr>\n",
       "  </tbody>\n",
       "</table>\n",
       "</div>"
      ],
      "text/plain": [
       "   user_id  month  call_id  duration  message_id   mb_used\n",
       "0     1000     12     16.0     124.0        11.0   1901.47\n",
       "1     1001      8     27.0     182.0        30.0   6919.15\n",
       "2     1001      9     49.0     315.0        44.0  13314.82\n",
       "3     1001     10     65.0     393.0        53.0  22330.49\n",
       "4     1001     11     64.0     426.0        36.0  18504.30\n",
       "5     1001     12     56.0     412.0        44.0  19369.18\n",
       "6     1002     10     11.0      59.0        15.0   6552.01\n",
       "7     1002     11     55.0     386.0        32.0  19345.08\n",
       "8     1002     12     47.0     384.0        41.0  14396.24\n",
       "9     1003     12    149.0    1104.0        50.0  27044.14"
      ]
     },
     "execution_count": 119,
     "metadata": {},
     "output_type": "execute_result"
    }
   ],
   "source": [
    "# Merge the data for calls, minutes, messages, internet based on user_id and month\n",
    "\n",
    "merge1 = user_calls.merge(user_minutes, on=['user_id', 'month'], how='left')\n",
    "merge2 = merge1.merge(user_messages, on=['user_id', 'month'], how='outer')\n",
    "merge3 = merge2.reset_index().merge(user_internet, on=['user_id', 'month'], how='outer')\n",
    "\n",
    "merge3.info()\n",
    "merge3.head(10)"
   ]
  },
  {
   "cell_type": "code",
   "execution_count": 120,
   "metadata": {},
   "outputs": [
    {
     "name": "stdout",
     "output_type": "stream",
     "text": [
      "<class 'pandas.core.frame.DataFrame'>\n",
      "Int64Index: 2303 entries, 0 to 2302\n",
      "Data columns (total 14 columns):\n",
      " #   Column      Non-Null Count  Dtype         \n",
      "---  ------      --------------  -----         \n",
      " 0   index       2293 non-null   float64       \n",
      " 1   user_id     2303 non-null   int64         \n",
      " 2   month       2293 non-null   float64       \n",
      " 3   call_id     2258 non-null   float64       \n",
      " 4   duration    2258 non-null   float64       \n",
      " 5   message_id  1806 non-null   float64       \n",
      " 6   mb_used     2277 non-null   float64       \n",
      " 7   first_name  2303 non-null   object        \n",
      " 8   last_name   2303 non-null   object        \n",
      " 9   age         2303 non-null   int64         \n",
      " 10  city        2303 non-null   object        \n",
      " 11  reg_date    2303 non-null   datetime64[ns]\n",
      " 12  plan        2303 non-null   object        \n",
      " 13  churn_date  160 non-null    datetime64[ns]\n",
      "dtypes: datetime64[ns](2), float64(6), int64(2), object(4)\n",
      "memory usage: 269.9+ KB\n"
     ]
    },
    {
     "data": {
      "text/html": [
       "<div>\n",
       "<style scoped>\n",
       "    .dataframe tbody tr th:only-of-type {\n",
       "        vertical-align: middle;\n",
       "    }\n",
       "\n",
       "    .dataframe tbody tr th {\n",
       "        vertical-align: top;\n",
       "    }\n",
       "\n",
       "    .dataframe thead th {\n",
       "        text-align: right;\n",
       "    }\n",
       "</style>\n",
       "<table border=\"1\" class=\"dataframe\">\n",
       "  <thead>\n",
       "    <tr style=\"text-align: right;\">\n",
       "      <th></th>\n",
       "      <th>index</th>\n",
       "      <th>user_id</th>\n",
       "      <th>month</th>\n",
       "      <th>call_id</th>\n",
       "      <th>duration</th>\n",
       "      <th>message_id</th>\n",
       "      <th>mb_used</th>\n",
       "      <th>first_name</th>\n",
       "      <th>last_name</th>\n",
       "      <th>age</th>\n",
       "      <th>city</th>\n",
       "      <th>reg_date</th>\n",
       "      <th>plan</th>\n",
       "      <th>churn_date</th>\n",
       "    </tr>\n",
       "  </thead>\n",
       "  <tbody>\n",
       "    <tr>\n",
       "      <th>0</th>\n",
       "      <td>0.0</td>\n",
       "      <td>1000</td>\n",
       "      <td>12.0</td>\n",
       "      <td>16.0</td>\n",
       "      <td>124.0</td>\n",
       "      <td>11.0</td>\n",
       "      <td>1901.47</td>\n",
       "      <td>Anamaria</td>\n",
       "      <td>Bauer</td>\n",
       "      <td>45</td>\n",
       "      <td>Atlanta-Sandy Springs-Roswell, GA MSA</td>\n",
       "      <td>2018-12-24</td>\n",
       "      <td>ultimate</td>\n",
       "      <td>NaT</td>\n",
       "    </tr>\n",
       "    <tr>\n",
       "      <th>1</th>\n",
       "      <td>1.0</td>\n",
       "      <td>1001</td>\n",
       "      <td>8.0</td>\n",
       "      <td>27.0</td>\n",
       "      <td>182.0</td>\n",
       "      <td>30.0</td>\n",
       "      <td>6919.15</td>\n",
       "      <td>Mickey</td>\n",
       "      <td>Wilkerson</td>\n",
       "      <td>28</td>\n",
       "      <td>Seattle-Tacoma-Bellevue, WA MSA</td>\n",
       "      <td>2018-08-13</td>\n",
       "      <td>surf</td>\n",
       "      <td>NaT</td>\n",
       "    </tr>\n",
       "    <tr>\n",
       "      <th>2</th>\n",
       "      <td>2.0</td>\n",
       "      <td>1001</td>\n",
       "      <td>9.0</td>\n",
       "      <td>49.0</td>\n",
       "      <td>315.0</td>\n",
       "      <td>44.0</td>\n",
       "      <td>13314.82</td>\n",
       "      <td>Mickey</td>\n",
       "      <td>Wilkerson</td>\n",
       "      <td>28</td>\n",
       "      <td>Seattle-Tacoma-Bellevue, WA MSA</td>\n",
       "      <td>2018-08-13</td>\n",
       "      <td>surf</td>\n",
       "      <td>NaT</td>\n",
       "    </tr>\n",
       "    <tr>\n",
       "      <th>3</th>\n",
       "      <td>3.0</td>\n",
       "      <td>1001</td>\n",
       "      <td>10.0</td>\n",
       "      <td>65.0</td>\n",
       "      <td>393.0</td>\n",
       "      <td>53.0</td>\n",
       "      <td>22330.49</td>\n",
       "      <td>Mickey</td>\n",
       "      <td>Wilkerson</td>\n",
       "      <td>28</td>\n",
       "      <td>Seattle-Tacoma-Bellevue, WA MSA</td>\n",
       "      <td>2018-08-13</td>\n",
       "      <td>surf</td>\n",
       "      <td>NaT</td>\n",
       "    </tr>\n",
       "    <tr>\n",
       "      <th>4</th>\n",
       "      <td>4.0</td>\n",
       "      <td>1001</td>\n",
       "      <td>11.0</td>\n",
       "      <td>64.0</td>\n",
       "      <td>426.0</td>\n",
       "      <td>36.0</td>\n",
       "      <td>18504.30</td>\n",
       "      <td>Mickey</td>\n",
       "      <td>Wilkerson</td>\n",
       "      <td>28</td>\n",
       "      <td>Seattle-Tacoma-Bellevue, WA MSA</td>\n",
       "      <td>2018-08-13</td>\n",
       "      <td>surf</td>\n",
       "      <td>NaT</td>\n",
       "    </tr>\n",
       "  </tbody>\n",
       "</table>\n",
       "</div>"
      ],
      "text/plain": [
       "   index  user_id  month  call_id  duration  message_id   mb_used first_name  \\\n",
       "0    0.0     1000   12.0     16.0     124.0        11.0   1901.47   Anamaria   \n",
       "1    1.0     1001    8.0     27.0     182.0        30.0   6919.15     Mickey   \n",
       "2    2.0     1001    9.0     49.0     315.0        44.0  13314.82     Mickey   \n",
       "3    3.0     1001   10.0     65.0     393.0        53.0  22330.49     Mickey   \n",
       "4    4.0     1001   11.0     64.0     426.0        36.0  18504.30     Mickey   \n",
       "\n",
       "   last_name  age                                   city   reg_date      plan  \\\n",
       "0      Bauer   45  Atlanta-Sandy Springs-Roswell, GA MSA 2018-12-24  ultimate   \n",
       "1  Wilkerson   28        Seattle-Tacoma-Bellevue, WA MSA 2018-08-13      surf   \n",
       "2  Wilkerson   28        Seattle-Tacoma-Bellevue, WA MSA 2018-08-13      surf   \n",
       "3  Wilkerson   28        Seattle-Tacoma-Bellevue, WA MSA 2018-08-13      surf   \n",
       "4  Wilkerson   28        Seattle-Tacoma-Bellevue, WA MSA 2018-08-13      surf   \n",
       "\n",
       "  churn_date  \n",
       "0        NaT  \n",
       "1        NaT  \n",
       "2        NaT  \n",
       "3        NaT  \n",
       "4        NaT  "
      ]
     },
     "execution_count": 120,
     "metadata": {},
     "output_type": "execute_result"
    }
   ],
   "source": [
    "#Merging users_data with users usage info\n",
    "              \n",
    "merge4 = merge3.reset_index().merge(users_data, on='user_id', how='right')\n",
    "merge4.info()\n",
    "merge4.head() "
   ]
  },
  {
   "cell_type": "code",
   "execution_count": 121,
   "metadata": {},
   "outputs": [
    {
     "data": {
      "text/html": [
       "<div>\n",
       "<style scoped>\n",
       "    .dataframe tbody tr th:only-of-type {\n",
       "        vertical-align: middle;\n",
       "    }\n",
       "\n",
       "    .dataframe tbody tr th {\n",
       "        vertical-align: top;\n",
       "    }\n",
       "\n",
       "    .dataframe thead th {\n",
       "        text-align: right;\n",
       "    }\n",
       "</style>\n",
       "<table border=\"1\" class=\"dataframe\">\n",
       "  <thead>\n",
       "    <tr style=\"text-align: right;\">\n",
       "      <th></th>\n",
       "      <th>index</th>\n",
       "      <th>user_id</th>\n",
       "      <th>month</th>\n",
       "      <th>call_id</th>\n",
       "      <th>duration</th>\n",
       "      <th>message_id</th>\n",
       "      <th>mb_used</th>\n",
       "      <th>first_name</th>\n",
       "      <th>last_name</th>\n",
       "      <th>age</th>\n",
       "      <th>city</th>\n",
       "      <th>reg_date</th>\n",
       "      <th>plan</th>\n",
       "      <th>churn_date</th>\n",
       "      <th>messages_included</th>\n",
       "      <th>mb_per_month_included</th>\n",
       "      <th>minutes_included</th>\n",
       "      <th>usd_monthly_pay</th>\n",
       "      <th>usd_per_gb</th>\n",
       "      <th>usd_per_message</th>\n",
       "      <th>usd_per_minute</th>\n",
       "    </tr>\n",
       "  </thead>\n",
       "  <tbody>\n",
       "    <tr>\n",
       "      <th>0</th>\n",
       "      <td>0.0</td>\n",
       "      <td>1000</td>\n",
       "      <td>12.0</td>\n",
       "      <td>16.0</td>\n",
       "      <td>124.0</td>\n",
       "      <td>11.0</td>\n",
       "      <td>1901.47</td>\n",
       "      <td>Anamaria</td>\n",
       "      <td>Bauer</td>\n",
       "      <td>45</td>\n",
       "      <td>Atlanta-Sandy Springs-Roswell, GA MSA</td>\n",
       "      <td>2018-12-24</td>\n",
       "      <td>ultimate</td>\n",
       "      <td>NaT</td>\n",
       "      <td>1000</td>\n",
       "      <td>30720</td>\n",
       "      <td>3000</td>\n",
       "      <td>70</td>\n",
       "      <td>7</td>\n",
       "      <td>0.01</td>\n",
       "      <td>0.01</td>\n",
       "    </tr>\n",
       "    <tr>\n",
       "      <th>1</th>\n",
       "      <td>1.0</td>\n",
       "      <td>1001</td>\n",
       "      <td>8.0</td>\n",
       "      <td>27.0</td>\n",
       "      <td>182.0</td>\n",
       "      <td>30.0</td>\n",
       "      <td>6919.15</td>\n",
       "      <td>Mickey</td>\n",
       "      <td>Wilkerson</td>\n",
       "      <td>28</td>\n",
       "      <td>Seattle-Tacoma-Bellevue, WA MSA</td>\n",
       "      <td>2018-08-13</td>\n",
       "      <td>surf</td>\n",
       "      <td>NaT</td>\n",
       "      <td>50</td>\n",
       "      <td>15360</td>\n",
       "      <td>500</td>\n",
       "      <td>20</td>\n",
       "      <td>10</td>\n",
       "      <td>0.03</td>\n",
       "      <td>0.03</td>\n",
       "    </tr>\n",
       "    <tr>\n",
       "      <th>2</th>\n",
       "      <td>2.0</td>\n",
       "      <td>1001</td>\n",
       "      <td>9.0</td>\n",
       "      <td>49.0</td>\n",
       "      <td>315.0</td>\n",
       "      <td>44.0</td>\n",
       "      <td>13314.82</td>\n",
       "      <td>Mickey</td>\n",
       "      <td>Wilkerson</td>\n",
       "      <td>28</td>\n",
       "      <td>Seattle-Tacoma-Bellevue, WA MSA</td>\n",
       "      <td>2018-08-13</td>\n",
       "      <td>surf</td>\n",
       "      <td>NaT</td>\n",
       "      <td>50</td>\n",
       "      <td>15360</td>\n",
       "      <td>500</td>\n",
       "      <td>20</td>\n",
       "      <td>10</td>\n",
       "      <td>0.03</td>\n",
       "      <td>0.03</td>\n",
       "    </tr>\n",
       "    <tr>\n",
       "      <th>3</th>\n",
       "      <td>3.0</td>\n",
       "      <td>1001</td>\n",
       "      <td>10.0</td>\n",
       "      <td>65.0</td>\n",
       "      <td>393.0</td>\n",
       "      <td>53.0</td>\n",
       "      <td>22330.49</td>\n",
       "      <td>Mickey</td>\n",
       "      <td>Wilkerson</td>\n",
       "      <td>28</td>\n",
       "      <td>Seattle-Tacoma-Bellevue, WA MSA</td>\n",
       "      <td>2018-08-13</td>\n",
       "      <td>surf</td>\n",
       "      <td>NaT</td>\n",
       "      <td>50</td>\n",
       "      <td>15360</td>\n",
       "      <td>500</td>\n",
       "      <td>20</td>\n",
       "      <td>10</td>\n",
       "      <td>0.03</td>\n",
       "      <td>0.03</td>\n",
       "    </tr>\n",
       "    <tr>\n",
       "      <th>4</th>\n",
       "      <td>4.0</td>\n",
       "      <td>1001</td>\n",
       "      <td>11.0</td>\n",
       "      <td>64.0</td>\n",
       "      <td>426.0</td>\n",
       "      <td>36.0</td>\n",
       "      <td>18504.30</td>\n",
       "      <td>Mickey</td>\n",
       "      <td>Wilkerson</td>\n",
       "      <td>28</td>\n",
       "      <td>Seattle-Tacoma-Bellevue, WA MSA</td>\n",
       "      <td>2018-08-13</td>\n",
       "      <td>surf</td>\n",
       "      <td>NaT</td>\n",
       "      <td>50</td>\n",
       "      <td>15360</td>\n",
       "      <td>500</td>\n",
       "      <td>20</td>\n",
       "      <td>10</td>\n",
       "      <td>0.03</td>\n",
       "      <td>0.03</td>\n",
       "    </tr>\n",
       "  </tbody>\n",
       "</table>\n",
       "</div>"
      ],
      "text/plain": [
       "   index  user_id  month  call_id  duration  message_id   mb_used first_name  \\\n",
       "0    0.0     1000   12.0     16.0     124.0        11.0   1901.47   Anamaria   \n",
       "1    1.0     1001    8.0     27.0     182.0        30.0   6919.15     Mickey   \n",
       "2    2.0     1001    9.0     49.0     315.0        44.0  13314.82     Mickey   \n",
       "3    3.0     1001   10.0     65.0     393.0        53.0  22330.49     Mickey   \n",
       "4    4.0     1001   11.0     64.0     426.0        36.0  18504.30     Mickey   \n",
       "\n",
       "   last_name  age                                   city   reg_date      plan  \\\n",
       "0      Bauer   45  Atlanta-Sandy Springs-Roswell, GA MSA 2018-12-24  ultimate   \n",
       "1  Wilkerson   28        Seattle-Tacoma-Bellevue, WA MSA 2018-08-13      surf   \n",
       "2  Wilkerson   28        Seattle-Tacoma-Bellevue, WA MSA 2018-08-13      surf   \n",
       "3  Wilkerson   28        Seattle-Tacoma-Bellevue, WA MSA 2018-08-13      surf   \n",
       "4  Wilkerson   28        Seattle-Tacoma-Bellevue, WA MSA 2018-08-13      surf   \n",
       "\n",
       "  churn_date  messages_included  mb_per_month_included  minutes_included  \\\n",
       "0        NaT               1000                  30720              3000   \n",
       "1        NaT                 50                  15360               500   \n",
       "2        NaT                 50                  15360               500   \n",
       "3        NaT                 50                  15360               500   \n",
       "4        NaT                 50                  15360               500   \n",
       "\n",
       "   usd_monthly_pay  usd_per_gb  usd_per_message  usd_per_minute  \n",
       "0               70           7             0.01            0.01  \n",
       "1               20          10             0.03            0.03  \n",
       "2               20          10             0.03            0.03  \n",
       "3               20          10             0.03            0.03  \n",
       "4               20          10             0.03            0.03  "
      ]
     },
     "execution_count": 121,
     "metadata": {},
     "output_type": "execute_result"
    }
   ],
   "source": [
    "# Add the plan information\n",
    "\n",
    "users = merge4.merge(plans_data, on='plan', how='left')\n",
    "users.head()"
   ]
  },
  {
   "cell_type": "markdown",
   "metadata": {},
   "source": [
    "There are NaN values in the message_id column indicating 0 usage per user per period. Let's fill in these missing values with 0 to indicate no usage."
   ]
  },
  {
   "cell_type": "code",
   "execution_count": 122,
   "metadata": {},
   "outputs": [],
   "source": [
    "# Filling in missing values in message_id with 0\n",
    "\n",
    "users['message_id']= users['message_id'].fillna(0)"
   ]
  },
  {
   "cell_type": "markdown",
   "metadata": {},
   "source": [
    "Now that we have one dataframe with all of the information per user per month, we need to calculate the extra internet used per month so that we can include this in our calculation of monthly revenue per user. At Megaline, the total for the month is rounded up. If someone uses 1025 megabytes this month over the standard GB included in the plan, they will be charged for 2 gigabytes."
   ]
  },
  {
   "cell_type": "code",
   "execution_count": 123,
   "metadata": {},
   "outputs": [],
   "source": [
    "# Calculating extra GB used per month\n",
    "\n",
    "def internet(users):\n",
    "    for user in users:\n",
    "        if users['mb_used'] > users['mb_per_month_included']:\n",
    "            gb_used = (users['mb_used'] - users['mb_per_month_included'])/1024\n",
    "        else:\n",
    "            gb_used = 0\n",
    "            \n",
    "        return gb_used"
   ]
  },
  {
   "cell_type": "code",
   "execution_count": 124,
   "metadata": {},
   "outputs": [
    {
     "data": {
      "text/html": [
       "<div>\n",
       "<style scoped>\n",
       "    .dataframe tbody tr th:only-of-type {\n",
       "        vertical-align: middle;\n",
       "    }\n",
       "\n",
       "    .dataframe tbody tr th {\n",
       "        vertical-align: top;\n",
       "    }\n",
       "\n",
       "    .dataframe thead th {\n",
       "        text-align: right;\n",
       "    }\n",
       "</style>\n",
       "<table border=\"1\" class=\"dataframe\">\n",
       "  <thead>\n",
       "    <tr style=\"text-align: right;\">\n",
       "      <th></th>\n",
       "      <th>index</th>\n",
       "      <th>user_id</th>\n",
       "      <th>month</th>\n",
       "      <th>call_id</th>\n",
       "      <th>duration</th>\n",
       "      <th>message_id</th>\n",
       "      <th>mb_used</th>\n",
       "      <th>first_name</th>\n",
       "      <th>last_name</th>\n",
       "      <th>age</th>\n",
       "      <th>city</th>\n",
       "      <th>reg_date</th>\n",
       "      <th>plan</th>\n",
       "      <th>churn_date</th>\n",
       "      <th>messages_included</th>\n",
       "      <th>mb_per_month_included</th>\n",
       "      <th>minutes_included</th>\n",
       "      <th>usd_monthly_pay</th>\n",
       "      <th>usd_per_gb</th>\n",
       "      <th>usd_per_message</th>\n",
       "      <th>usd_per_minute</th>\n",
       "      <th>gb_used</th>\n",
       "    </tr>\n",
       "  </thead>\n",
       "  <tbody>\n",
       "    <tr>\n",
       "      <th>0</th>\n",
       "      <td>0.0</td>\n",
       "      <td>1000</td>\n",
       "      <td>12.0</td>\n",
       "      <td>16.0</td>\n",
       "      <td>124.0</td>\n",
       "      <td>11.0</td>\n",
       "      <td>1901.47</td>\n",
       "      <td>Anamaria</td>\n",
       "      <td>Bauer</td>\n",
       "      <td>45</td>\n",
       "      <td>Atlanta-Sandy Springs-Roswell, GA MSA</td>\n",
       "      <td>2018-12-24</td>\n",
       "      <td>ultimate</td>\n",
       "      <td>NaT</td>\n",
       "      <td>1000</td>\n",
       "      <td>30720</td>\n",
       "      <td>3000</td>\n",
       "      <td>70</td>\n",
       "      <td>7</td>\n",
       "      <td>0.01</td>\n",
       "      <td>0.01</td>\n",
       "      <td>0.0</td>\n",
       "    </tr>\n",
       "    <tr>\n",
       "      <th>1</th>\n",
       "      <td>1.0</td>\n",
       "      <td>1001</td>\n",
       "      <td>8.0</td>\n",
       "      <td>27.0</td>\n",
       "      <td>182.0</td>\n",
       "      <td>30.0</td>\n",
       "      <td>6919.15</td>\n",
       "      <td>Mickey</td>\n",
       "      <td>Wilkerson</td>\n",
       "      <td>28</td>\n",
       "      <td>Seattle-Tacoma-Bellevue, WA MSA</td>\n",
       "      <td>2018-08-13</td>\n",
       "      <td>surf</td>\n",
       "      <td>NaT</td>\n",
       "      <td>50</td>\n",
       "      <td>15360</td>\n",
       "      <td>500</td>\n",
       "      <td>20</td>\n",
       "      <td>10</td>\n",
       "      <td>0.03</td>\n",
       "      <td>0.03</td>\n",
       "      <td>0.0</td>\n",
       "    </tr>\n",
       "    <tr>\n",
       "      <th>2</th>\n",
       "      <td>2.0</td>\n",
       "      <td>1001</td>\n",
       "      <td>9.0</td>\n",
       "      <td>49.0</td>\n",
       "      <td>315.0</td>\n",
       "      <td>44.0</td>\n",
       "      <td>13314.82</td>\n",
       "      <td>Mickey</td>\n",
       "      <td>Wilkerson</td>\n",
       "      <td>28</td>\n",
       "      <td>Seattle-Tacoma-Bellevue, WA MSA</td>\n",
       "      <td>2018-08-13</td>\n",
       "      <td>surf</td>\n",
       "      <td>NaT</td>\n",
       "      <td>50</td>\n",
       "      <td>15360</td>\n",
       "      <td>500</td>\n",
       "      <td>20</td>\n",
       "      <td>10</td>\n",
       "      <td>0.03</td>\n",
       "      <td>0.03</td>\n",
       "      <td>0.0</td>\n",
       "    </tr>\n",
       "    <tr>\n",
       "      <th>3</th>\n",
       "      <td>3.0</td>\n",
       "      <td>1001</td>\n",
       "      <td>10.0</td>\n",
       "      <td>65.0</td>\n",
       "      <td>393.0</td>\n",
       "      <td>53.0</td>\n",
       "      <td>22330.49</td>\n",
       "      <td>Mickey</td>\n",
       "      <td>Wilkerson</td>\n",
       "      <td>28</td>\n",
       "      <td>Seattle-Tacoma-Bellevue, WA MSA</td>\n",
       "      <td>2018-08-13</td>\n",
       "      <td>surf</td>\n",
       "      <td>NaT</td>\n",
       "      <td>50</td>\n",
       "      <td>15360</td>\n",
       "      <td>500</td>\n",
       "      <td>20</td>\n",
       "      <td>10</td>\n",
       "      <td>0.03</td>\n",
       "      <td>0.03</td>\n",
       "      <td>7.0</td>\n",
       "    </tr>\n",
       "    <tr>\n",
       "      <th>4</th>\n",
       "      <td>4.0</td>\n",
       "      <td>1001</td>\n",
       "      <td>11.0</td>\n",
       "      <td>64.0</td>\n",
       "      <td>426.0</td>\n",
       "      <td>36.0</td>\n",
       "      <td>18504.30</td>\n",
       "      <td>Mickey</td>\n",
       "      <td>Wilkerson</td>\n",
       "      <td>28</td>\n",
       "      <td>Seattle-Tacoma-Bellevue, WA MSA</td>\n",
       "      <td>2018-08-13</td>\n",
       "      <td>surf</td>\n",
       "      <td>NaT</td>\n",
       "      <td>50</td>\n",
       "      <td>15360</td>\n",
       "      <td>500</td>\n",
       "      <td>20</td>\n",
       "      <td>10</td>\n",
       "      <td>0.03</td>\n",
       "      <td>0.03</td>\n",
       "      <td>4.0</td>\n",
       "    </tr>\n",
       "  </tbody>\n",
       "</table>\n",
       "</div>"
      ],
      "text/plain": [
       "   index  user_id  month  call_id  duration  message_id   mb_used first_name  \\\n",
       "0    0.0     1000   12.0     16.0     124.0        11.0   1901.47   Anamaria   \n",
       "1    1.0     1001    8.0     27.0     182.0        30.0   6919.15     Mickey   \n",
       "2    2.0     1001    9.0     49.0     315.0        44.0  13314.82     Mickey   \n",
       "3    3.0     1001   10.0     65.0     393.0        53.0  22330.49     Mickey   \n",
       "4    4.0     1001   11.0     64.0     426.0        36.0  18504.30     Mickey   \n",
       "\n",
       "   last_name  age                                   city   reg_date      plan  \\\n",
       "0      Bauer   45  Atlanta-Sandy Springs-Roswell, GA MSA 2018-12-24  ultimate   \n",
       "1  Wilkerson   28        Seattle-Tacoma-Bellevue, WA MSA 2018-08-13      surf   \n",
       "2  Wilkerson   28        Seattle-Tacoma-Bellevue, WA MSA 2018-08-13      surf   \n",
       "3  Wilkerson   28        Seattle-Tacoma-Bellevue, WA MSA 2018-08-13      surf   \n",
       "4  Wilkerson   28        Seattle-Tacoma-Bellevue, WA MSA 2018-08-13      surf   \n",
       "\n",
       "  churn_date  messages_included  mb_per_month_included  minutes_included  \\\n",
       "0        NaT               1000                  30720              3000   \n",
       "1        NaT                 50                  15360               500   \n",
       "2        NaT                 50                  15360               500   \n",
       "3        NaT                 50                  15360               500   \n",
       "4        NaT                 50                  15360               500   \n",
       "\n",
       "   usd_monthly_pay  usd_per_gb  usd_per_message  usd_per_minute  gb_used  \n",
       "0               70           7             0.01            0.01      0.0  \n",
       "1               20          10             0.03            0.03      0.0  \n",
       "2               20          10             0.03            0.03      0.0  \n",
       "3               20          10             0.03            0.03      7.0  \n",
       "4               20          10             0.03            0.03      4.0  "
      ]
     },
     "execution_count": 124,
     "metadata": {},
     "output_type": "execute_result"
    }
   ],
   "source": [
    "# Applying the function to create a new column 'gb_used' with 'gb_used' rounded up\n",
    "users['gb_used'] = users.apply(internet, axis=1)\n",
    "users['gb_used'] = np.ceil(users['gb_used'])            \n",
    "users.head()"
   ]
  },
  {
   "cell_type": "markdown",
   "metadata": {},
   "source": [
    "Now that we have created one table with user specific information, we can calculate the monthly revenue for each user. To do this, we need to take into account the plan the user is on and calculate the standard charges plus the additional charges for usage above the plan limits. \n",
    "Let's create a function to calculate monthly revenue for each user per plan."
   ]
  },
  {
   "cell_type": "code",
   "execution_count": 125,
   "metadata": {},
   "outputs": [],
   "source": [
    "# Calculating the monthly revenue for each user\n",
    "\n",
    "def monthly_revenue(users):\n",
    "\n",
    "    for user_id in users:\n",
    "        #add monthly charge\n",
    "        monthly_charge = users['usd_monthly_pay']\n",
    "        \n",
    "        #add extra minutes charge\n",
    "        if (users['duration'] > users['minutes_included']):\n",
    "            xminutes_charge = (users['duration'] - users['minutes_included']) * (users['usd_per_minute'])\n",
    "        else:\n",
    "            xminutes_charge = 0\n",
    "            \n",
    "        #add extra text messages charge\n",
    "        if (users['message_id'] > users['messages_included']):\n",
    "            xmessages_charge = (users['message_id'] - users['messages_included']) * (users['usd_per_message'])\n",
    "        else:\n",
    "            xmessages_charge = 0\n",
    "            \n",
    "        #add extra data charge    \n",
    "        if (users['gb_used'] > 0):\n",
    "            xinternet_charge = (users['gb_used']) * (users['usd_per_gb']) \n",
    "        else:\n",
    "            xinternet_charge = 0\n",
    "            \n",
    "        #total monthly revenue  \n",
    "        revenue = monthly_charge + xminutes_charge + xmessages_charge + xinternet_charge\n",
    "        \n",
    "        return revenue"
   ]
  },
  {
   "cell_type": "code",
   "execution_count": 126,
   "metadata": {},
   "outputs": [],
   "source": [
    "pd.set_option ('display.max_columns', None)"
   ]
  },
  {
   "cell_type": "code",
   "execution_count": 127,
   "metadata": {},
   "outputs": [
    {
     "data": {
      "text/html": [
       "<div>\n",
       "<style scoped>\n",
       "    .dataframe tbody tr th:only-of-type {\n",
       "        vertical-align: middle;\n",
       "    }\n",
       "\n",
       "    .dataframe tbody tr th {\n",
       "        vertical-align: top;\n",
       "    }\n",
       "\n",
       "    .dataframe thead th {\n",
       "        text-align: right;\n",
       "    }\n",
       "</style>\n",
       "<table border=\"1\" class=\"dataframe\">\n",
       "  <thead>\n",
       "    <tr style=\"text-align: right;\">\n",
       "      <th></th>\n",
       "      <th>index</th>\n",
       "      <th>user_id</th>\n",
       "      <th>month</th>\n",
       "      <th>call_id</th>\n",
       "      <th>duration</th>\n",
       "      <th>message_id</th>\n",
       "      <th>mb_used</th>\n",
       "      <th>first_name</th>\n",
       "      <th>last_name</th>\n",
       "      <th>age</th>\n",
       "      <th>city</th>\n",
       "      <th>reg_date</th>\n",
       "      <th>plan</th>\n",
       "      <th>churn_date</th>\n",
       "      <th>messages_included</th>\n",
       "      <th>mb_per_month_included</th>\n",
       "      <th>minutes_included</th>\n",
       "      <th>usd_monthly_pay</th>\n",
       "      <th>usd_per_gb</th>\n",
       "      <th>usd_per_message</th>\n",
       "      <th>usd_per_minute</th>\n",
       "      <th>gb_used</th>\n",
       "      <th>monthly_revenue</th>\n",
       "    </tr>\n",
       "  </thead>\n",
       "  <tbody>\n",
       "    <tr>\n",
       "      <th>0</th>\n",
       "      <td>0.0</td>\n",
       "      <td>1000</td>\n",
       "      <td>12.0</td>\n",
       "      <td>16.0</td>\n",
       "      <td>124.0</td>\n",
       "      <td>11.0</td>\n",
       "      <td>1901.47</td>\n",
       "      <td>Anamaria</td>\n",
       "      <td>Bauer</td>\n",
       "      <td>45</td>\n",
       "      <td>Atlanta-Sandy Springs-Roswell, GA MSA</td>\n",
       "      <td>2018-12-24</td>\n",
       "      <td>ultimate</td>\n",
       "      <td>NaT</td>\n",
       "      <td>1000</td>\n",
       "      <td>30720</td>\n",
       "      <td>3000</td>\n",
       "      <td>70</td>\n",
       "      <td>7</td>\n",
       "      <td>0.01</td>\n",
       "      <td>0.01</td>\n",
       "      <td>0.0</td>\n",
       "      <td>70.00</td>\n",
       "    </tr>\n",
       "    <tr>\n",
       "      <th>1</th>\n",
       "      <td>1.0</td>\n",
       "      <td>1001</td>\n",
       "      <td>8.0</td>\n",
       "      <td>27.0</td>\n",
       "      <td>182.0</td>\n",
       "      <td>30.0</td>\n",
       "      <td>6919.15</td>\n",
       "      <td>Mickey</td>\n",
       "      <td>Wilkerson</td>\n",
       "      <td>28</td>\n",
       "      <td>Seattle-Tacoma-Bellevue, WA MSA</td>\n",
       "      <td>2018-08-13</td>\n",
       "      <td>surf</td>\n",
       "      <td>NaT</td>\n",
       "      <td>50</td>\n",
       "      <td>15360</td>\n",
       "      <td>500</td>\n",
       "      <td>20</td>\n",
       "      <td>10</td>\n",
       "      <td>0.03</td>\n",
       "      <td>0.03</td>\n",
       "      <td>0.0</td>\n",
       "      <td>20.00</td>\n",
       "    </tr>\n",
       "    <tr>\n",
       "      <th>2</th>\n",
       "      <td>2.0</td>\n",
       "      <td>1001</td>\n",
       "      <td>9.0</td>\n",
       "      <td>49.0</td>\n",
       "      <td>315.0</td>\n",
       "      <td>44.0</td>\n",
       "      <td>13314.82</td>\n",
       "      <td>Mickey</td>\n",
       "      <td>Wilkerson</td>\n",
       "      <td>28</td>\n",
       "      <td>Seattle-Tacoma-Bellevue, WA MSA</td>\n",
       "      <td>2018-08-13</td>\n",
       "      <td>surf</td>\n",
       "      <td>NaT</td>\n",
       "      <td>50</td>\n",
       "      <td>15360</td>\n",
       "      <td>500</td>\n",
       "      <td>20</td>\n",
       "      <td>10</td>\n",
       "      <td>0.03</td>\n",
       "      <td>0.03</td>\n",
       "      <td>0.0</td>\n",
       "      <td>20.00</td>\n",
       "    </tr>\n",
       "    <tr>\n",
       "      <th>3</th>\n",
       "      <td>3.0</td>\n",
       "      <td>1001</td>\n",
       "      <td>10.0</td>\n",
       "      <td>65.0</td>\n",
       "      <td>393.0</td>\n",
       "      <td>53.0</td>\n",
       "      <td>22330.49</td>\n",
       "      <td>Mickey</td>\n",
       "      <td>Wilkerson</td>\n",
       "      <td>28</td>\n",
       "      <td>Seattle-Tacoma-Bellevue, WA MSA</td>\n",
       "      <td>2018-08-13</td>\n",
       "      <td>surf</td>\n",
       "      <td>NaT</td>\n",
       "      <td>50</td>\n",
       "      <td>15360</td>\n",
       "      <td>500</td>\n",
       "      <td>20</td>\n",
       "      <td>10</td>\n",
       "      <td>0.03</td>\n",
       "      <td>0.03</td>\n",
       "      <td>7.0</td>\n",
       "      <td>90.09</td>\n",
       "    </tr>\n",
       "    <tr>\n",
       "      <th>4</th>\n",
       "      <td>4.0</td>\n",
       "      <td>1001</td>\n",
       "      <td>11.0</td>\n",
       "      <td>64.0</td>\n",
       "      <td>426.0</td>\n",
       "      <td>36.0</td>\n",
       "      <td>18504.30</td>\n",
       "      <td>Mickey</td>\n",
       "      <td>Wilkerson</td>\n",
       "      <td>28</td>\n",
       "      <td>Seattle-Tacoma-Bellevue, WA MSA</td>\n",
       "      <td>2018-08-13</td>\n",
       "      <td>surf</td>\n",
       "      <td>NaT</td>\n",
       "      <td>50</td>\n",
       "      <td>15360</td>\n",
       "      <td>500</td>\n",
       "      <td>20</td>\n",
       "      <td>10</td>\n",
       "      <td>0.03</td>\n",
       "      <td>0.03</td>\n",
       "      <td>4.0</td>\n",
       "      <td>60.00</td>\n",
       "    </tr>\n",
       "  </tbody>\n",
       "</table>\n",
       "</div>"
      ],
      "text/plain": [
       "   index  user_id  month  call_id  duration  message_id   mb_used first_name  \\\n",
       "0    0.0     1000   12.0     16.0     124.0        11.0   1901.47   Anamaria   \n",
       "1    1.0     1001    8.0     27.0     182.0        30.0   6919.15     Mickey   \n",
       "2    2.0     1001    9.0     49.0     315.0        44.0  13314.82     Mickey   \n",
       "3    3.0     1001   10.0     65.0     393.0        53.0  22330.49     Mickey   \n",
       "4    4.0     1001   11.0     64.0     426.0        36.0  18504.30     Mickey   \n",
       "\n",
       "   last_name  age                                   city   reg_date      plan  \\\n",
       "0      Bauer   45  Atlanta-Sandy Springs-Roswell, GA MSA 2018-12-24  ultimate   \n",
       "1  Wilkerson   28        Seattle-Tacoma-Bellevue, WA MSA 2018-08-13      surf   \n",
       "2  Wilkerson   28        Seattle-Tacoma-Bellevue, WA MSA 2018-08-13      surf   \n",
       "3  Wilkerson   28        Seattle-Tacoma-Bellevue, WA MSA 2018-08-13      surf   \n",
       "4  Wilkerson   28        Seattle-Tacoma-Bellevue, WA MSA 2018-08-13      surf   \n",
       "\n",
       "  churn_date  messages_included  mb_per_month_included  minutes_included  \\\n",
       "0        NaT               1000                  30720              3000   \n",
       "1        NaT                 50                  15360               500   \n",
       "2        NaT                 50                  15360               500   \n",
       "3        NaT                 50                  15360               500   \n",
       "4        NaT                 50                  15360               500   \n",
       "\n",
       "   usd_monthly_pay  usd_per_gb  usd_per_message  usd_per_minute  gb_used  \\\n",
       "0               70           7             0.01            0.01      0.0   \n",
       "1               20          10             0.03            0.03      0.0   \n",
       "2               20          10             0.03            0.03      0.0   \n",
       "3               20          10             0.03            0.03      7.0   \n",
       "4               20          10             0.03            0.03      4.0   \n",
       "\n",
       "   monthly_revenue  \n",
       "0            70.00  \n",
       "1            20.00  \n",
       "2            20.00  \n",
       "3            90.09  \n",
       "4            60.00  "
      ]
     },
     "execution_count": 127,
     "metadata": {},
     "output_type": "execute_result"
    }
   ],
   "source": [
    "users['monthly_revenue'] = users.apply(monthly_revenue, axis=1)\n",
    "users.head()"
   ]
  },
  {
   "cell_type": "markdown",
   "metadata": {},
   "source": [
    "## Study User Behaviour"
   ]
  },
  {
   "cell_type": "markdown",
   "metadata": {},
   "source": [
    "Now that we have the monthly revenue calculated per user and the rest of the data in one table, we can explore the data. Since our goal is to compare the plans and decide which is more profitable, we need to calculate the statistics and plots on a per-plan basis."
   ]
  },
  {
   "cell_type": "markdown",
   "metadata": {},
   "source": [
    "### Calls"
   ]
  },
  {
   "cell_type": "markdown",
   "metadata": {},
   "source": [
    "Let's explore call usage per plan per month."
   ]
  },
  {
   "cell_type": "code",
   "execution_count": 128,
   "metadata": {},
   "outputs": [
    {
     "data": {
      "image/png": "[encoded data removed]",
      "text/plain": [
       "<Figure size 720x432 with 1 Axes>"
      ]
     },
     "metadata": {
      "needs_background": "light"
     },
     "output_type": "display_data"
    }
   ],
   "source": [
    "# Comparing average duration of calls per month per plan.\n",
    "\n",
    "users.pivot_table(index='month',columns='plan', values = 'duration', aggfunc=['mean']).plot(kind='bar', figsize=(10, 6))\n",
    "\n",
    "plt.xlabel(\"Months\")\n",
    "plt.ylabel(\"Average duration of calls\")\n",
    "plt.title(\"Average duration of calls per month per plan\")\n",
    "plt.legend(loc='upper right')\n",
    "plt.show()"
   ]
  },
  {
   "cell_type": "markdown",
   "metadata": {},
   "source": [
    "The average duration of calls per month varied across months for each plan. The mean duration tended to get higher from January to December for both plans. However, the average duration of calls for 'ultimate' was particularly high for February. "
   ]
  },
  {
   "cell_type": "markdown",
   "metadata": {},
   "source": [
    "Let's split users by plan and explore the data for each plan separately. This was help us understand if the data on call duration is significantly affected by outliers before we proceed with our analysis."
   ]
  },
  {
   "cell_type": "code",
   "execution_count": 129,
   "metadata": {},
   "outputs": [],
   "source": [
    "# Splitting the data based on plan: surf and ultimate\n",
    "surf = users[(users['plan'] == 'surf')]\n",
    "ultimate = users[(users['plan'] == 'ultimate')]"
   ]
  },
  {
   "cell_type": "code",
   "execution_count": 130,
   "metadata": {},
   "outputs": [
    {
     "data": {
      "text/plain": [
       "count     713.000000\n",
       "mean      434.676017\n",
       "std       237.852123\n",
       "min         0.000000\n",
       "25%       263.000000\n",
       "50%       425.000000\n",
       "75%       566.000000\n",
       "max      1369.000000\n",
       "Name: duration, dtype: float64"
      ]
     },
     "execution_count": 130,
     "metadata": {},
     "output_type": "execute_result"
    }
   ],
   "source": [
    "ultimate['duration'].describe()"
   ]
  },
  {
   "cell_type": "code",
   "execution_count": 131,
   "metadata": {},
   "outputs": [
    {
     "data": {
      "text/plain": [
       "count    1545.000000\n",
       "mean      436.519741\n",
       "std       229.283805\n",
       "min         0.000000\n",
       "25%       279.000000\n",
       "50%       430.000000\n",
       "75%       579.000000\n",
       "max      1510.000000\n",
       "Name: duration, dtype: float64"
      ]
     },
     "execution_count": 131,
     "metadata": {},
     "output_type": "execute_result"
    }
   ],
   "source": [
    "surf['duration'].describe()"
   ]
  },
  {
   "cell_type": "markdown",
   "metadata": {},
   "source": [
    "The mean call duration for ultimate users was 434 and the median was 425. The mean call duration for surf users was 436 and the median was 430. These mean and median values per plan are close so it looks like the distribution of values for call duration was not significantly affected by outliers."
   ]
  },
  {
   "cell_type": "markdown",
   "metadata": {},
   "source": [
    "Let's compare the  number of minutes users of each plan require each month. We will need to calculate the number of extra minutes above the standard minutes included in the plan and create a column for these minutes. We will then plot a histogram displaying the minutes required for each plan."
   ]
  },
  {
   "cell_type": "code",
   "execution_count": 132,
   "metadata": {},
   "outputs": [],
   "source": [
    "# Creating a column for 'minutes_required' using a function\n",
    "\n",
    "def xminutes(users):\n",
    "\n",
    "    for user_id in users:\n",
    "     \n",
    "        if (users['duration'] > users['minutes_included']):\n",
    "            xminutes = (users['duration'] - users['minutes_included'])\n",
    "        else:\n",
    "            xminutes = 0\n",
    "\n",
    "        return round(xminutes)"
   ]
  },
  {
   "cell_type": "code",
   "execution_count": 133,
   "metadata": {},
   "outputs": [],
   "source": [
    "# Applying 'xminutes' function to users and creating a column 'xminutes' to store the data\n",
    "users['xminutes'] = users.apply(xminutes, axis=1)"
   ]
  },
  {
   "cell_type": "markdown",
   "metadata": {},
   "source": [
    "Now we have an 'xminutes' column in users with a record of how many extra minutes each user needed per month. Let's plot this data per plan."
   ]
  },
  {
   "cell_type": "code",
   "execution_count": 134,
   "metadata": {
    "scrolled": true
   },
   "outputs": [
    {
     "data": {
      "image/png": "[encoded data removed]",
      "text/plain": [
       "<Figure size 576x288 with 1 Axes>"
      ]
     },
     "metadata": {
      "needs_background": "light"
     },
     "output_type": "display_data"
    }
   ],
   "source": [
    "# Plotting 'xminutes' per month per plan using barplot\n",
    "\n",
    "users.pivot_table(index='month',columns='plan', values ='xminutes', aggfunc=['sum']).plot(kind='bar', figsize=(8, 4))\n",
    "\n",
    "plt.xlabel(\"Months\")\n",
    "plt.ylabel(\"minutes\")\n",
    "plt.title(\"Extra minutes per month per plan\")\n",
    "plt.legend(loc='upper right')\n",
    "plt.show()"
   ]
  },
  {
   "cell_type": "markdown",
   "metadata": {},
   "source": [
    "The extra minutes required per month were different for each plan. For surf, an increasing number of extra minutes were required as the year progressed from January to December. Yet, ultimate users generally did not need extra minutes. This makes sense since ultimate users had 3000 minutes included on the standard plan, while surf had only 500 minutes.\n",
    "\n",
    "Let's use a histogram to plot the frequency of these values for xminutes per plan and check the distribution. We will create a function to plot these histograms."
   ]
  },
  {
   "cell_type": "code",
   "execution_count": 135,
   "metadata": {},
   "outputs": [
    {
     "data": {
      "image/png": "[encoded data removed]",
      "text/plain": [
       "<Figure size 432x288 with 1 Axes>"
      ]
     },
     "metadata": {
      "needs_background": "light"
     },
     "output_type": "display_data"
    }
   ],
   "source": [
    "# Plotting the variance of 'xminutes' per plan using a histogram\n",
    "\n",
    "sns.histplot(users, x='xminutes', hue='plan')\n",
    "plt.xlabel(\"xminutes\")\n",
    "plt.ylabel(\"frequency\")\n",
    "plt.title(\"Extra minutes per month per plan\")\n",
    "plt.show()"
   ]
  },
  {
   "cell_type": "markdown",
   "metadata": {},
   "source": [
    "There was a big difference between extra minutes required for each plan. The surf plan members tended to require more extra minutes than ultimate users. Surf users mostly used less than 200 extra minutes but they may have used over 700 extra minutes. However, ultimate users who require extra minutes tended to need less than 100 minutes."
   ]
  },
  {
   "cell_type": "markdown",
   "metadata": {},
   "source": [
    "Let's explore call duration further. We will plot a histogram for call duration and calculate the mean and the variation of the call duration to explore whether users on the different plans have different behaviours for call usage."
   ]
  },
  {
   "cell_type": "code",
   "execution_count": 136,
   "metadata": {},
   "outputs": [],
   "source": [
    " # Calculate the mean and the variance of call duration\n",
    "\n",
    "def users_stat(variable):\n",
    "    fig, ax = plt.subplots(figsize=(8,7))\n",
    "    ax = sns.histplot(users, x=variable, hue='plan')\n",
    "    plt.show()\n",
    " \n",
    "    mean=round(users[variable].mean())\n",
    "    std=round(users[variable].std())\n",
    "    var=round(users[variable].std())\n",
    "    cv=std/mean # Coeeficient of variation\n",
    "\n",
    "    print('The overall average for', variable, 'is:', mean)\n",
    "    print('The variance for', variable, 'is:', var)\n",
    "    print('The standard deviation for', variable, 'is:', std)\n",
    "    print('The averages per plan:')\n",
    "    print(users.groupby(['plan'])[variable].mean())\n",
    "    if cv>1:\n",
    "        print('Values vary a lot')\n",
    "    else:\n",
    "        print('Values are centered around the average')"
   ]
  },
  {
   "cell_type": "code",
   "execution_count": 137,
   "metadata": {},
   "outputs": [
    {
     "data": {
      "image/png": "[encoded data removed]",
      "text/plain": [
       "<Figure size 576x504 with 1 Axes>"
      ]
     },
     "metadata": {
      "needs_background": "light"
     },
     "output_type": "display_data"
    },
    {
     "name": "stdout",
     "output_type": "stream",
     "text": [
      "The overall average for duration is: 436\n",
      "The variance for duration is: 232\n",
      "The standard deviation for duration is: 232\n",
      "The averages per plan:\n",
      "plan\n",
      "surf        436.519741\n",
      "ultimate    434.676017\n",
      "Name: duration, dtype: float64\n",
      "Values are centered around the average\n"
     ]
    }
   ],
   "source": [
    "users_stat('duration')"
   ]
  },
  {
   "cell_type": "markdown",
   "metadata": {},
   "source": [
    "The distributions of call duration for the plans are similar. The average duration 436 for surf and 434 for ultimate. It seems that the user call behavior for both plans was similar even though surf users required more extra minutes.\n",
    "\n",
    "Let's plot a boxplot to visualize the distribution of the monthly call duration for each plan."
   ]
  },
  {
   "cell_type": "code",
   "execution_count": 138,
   "metadata": {},
   "outputs": [
    {
     "data": {
      "image/png": "[encoded data removed]",
      "text/plain": [
       "<Figure size 720x360 with 1 Axes>"
      ]
     },
     "metadata": {
      "needs_background": "light"
     },
     "output_type": "display_data"
    }
   ],
   "source": [
    "# Plotting a boxplot to visualize the distribution of the monthly call duration for surf\n",
    "\n",
    "surf.pivot(values='duration', columns='month').boxplot(figsize=(10,5))\n",
    "plt.show()"
   ]
  },
  {
   "cell_type": "code",
   "execution_count": 139,
   "metadata": {},
   "outputs": [
    {
     "data": {
      "image/png": "[encoded data removed]",
      "text/plain": [
       "<Figure size 720x360 with 1 Axes>"
      ]
     },
     "metadata": {
      "needs_background": "light"
     },
     "output_type": "display_data"
    }
   ],
   "source": [
    "# Plotting a boxplot to visualize the distribution of the monthly call duration for ultimate\n",
    "\n",
    "ultimate.pivot(values='duration', columns='month').boxplot(figsize=(10,5))\n",
    "plt.show()"
   ]
  },
  {
   "cell_type": "markdown",
   "metadata": {},
   "source": [
    "The boxplots for surf and ultimate users are similar across monthly call duration, indicating similar user call behavior between the plans."
   ]
  },
  {
   "cell_type": "markdown",
   "metadata": {},
   "source": [
    "The distributions of call duration for the plans are similar. The average duration 436 for surf and 434 for ultimate. It seems that the user call behavior for both plans was similar even though surf users required more extra minutes."
   ]
  },
  {
   "cell_type": "markdown",
   "metadata": {},
   "source": [
    "### Messages"
   ]
  },
  {
   "cell_type": "markdown",
   "metadata": {},
   "source": [
    "Let's explore message usage per plan per month."
   ]
  },
  {
   "cell_type": "code",
   "execution_count": 140,
   "metadata": {},
   "outputs": [
    {
     "data": {
      "image/png": "[encoded data removed]",
      "text/plain": [
       "<Figure size 720x432 with 1 Axes>"
      ]
     },
     "metadata": {
      "needs_background": "light"
     },
     "output_type": "display_data"
    }
   ],
   "source": [
    "# Comparing the number of messages users of each plan tend to send each month\n",
    "\n",
    "users.pivot_table(index='month',columns='plan', values = 'message_id', aggfunc=['mean']).plot(kind='bar', figsize=(10, 6))\n",
    "\n",
    "plt.xlabel(\"months\")\n",
    "plt.ylabel(\"messages\")\n",
    "plt.title(\"messages per month per plan\")\n",
    "plt.legend(loc='upper right')\n",
    "plt.show()"
   ]
  },
  {
   "cell_type": "markdown",
   "metadata": {},
   "source": [
    "The plot shows that both surf and ultimate users tended to increase the number of messages sent per month as the year progressed. Ultimate users seem to send more messages on average. We will explore this further with a statistical analysis."
   ]
  },
  {
   "cell_type": "markdown",
   "metadata": {},
   "source": [
    "Let's compare the  number of extra messages users of each plan require each month. We will need to calculate the number of extra messages above the standard minutes included in the plan and create a column for these messages. We will then plot a histogram displaying the messages required for each plan."
   ]
  },
  {
   "cell_type": "code",
   "execution_count": 141,
   "metadata": {},
   "outputs": [],
   "source": [
    "# Creating a column for 'messages_required' using a function\n",
    "\n",
    "def xmessages(users):\n",
    "\n",
    "    for user_id in users:\n",
    "     \n",
    "        if (users['message_id'] > users['messages_included']):\n",
    "            xmessages = (users['message_id'] - users['messages_included'])\n",
    "        else:\n",
    "            xmessages = 0\n",
    "\n",
    "        return round(xmessages)"
   ]
  },
  {
   "cell_type": "code",
   "execution_count": 142,
   "metadata": {},
   "outputs": [],
   "source": [
    "# Applying 'xmessages' function to users and creating a column 'xmessages' to store the data\n",
    "users['xmessages'] = users.apply(xmessages, axis=1)"
   ]
  },
  {
   "cell_type": "markdown",
   "metadata": {},
   "source": [
    "Now we have an 'xmessages' column in users with a record of how many extra messages each user needed per month. Let's plot this data per plan."
   ]
  },
  {
   "cell_type": "code",
   "execution_count": 143,
   "metadata": {
    "scrolled": true
   },
   "outputs": [
    {
     "data": {
      "image/png": "[encoded data removed]",
      "text/plain": [
       "<Figure size 576x288 with 1 Axes>"
      ]
     },
     "metadata": {
      "needs_background": "light"
     },
     "output_type": "display_data"
    }
   ],
   "source": [
    "# Plotting 'xmessages' per month per plan using barplot\n",
    "\n",
    "users.pivot_table(index='month',columns='plan', values ='xmessages', aggfunc=['sum']).plot(kind='bar', figsize=(8, 4))\n",
    "\n",
    "plt.xlabel(\"months\")\n",
    "plt.ylabel(\"messages\")\n",
    "plt.title(\"Extra messages per month per plan\")\n",
    "plt.legend(loc='upper right')\n",
    "plt.show()"
   ]
  },
  {
   "cell_type": "markdown",
   "metadata": {},
   "source": [
    "The extra messages required per month was different for each plan. For surf, an increasing number of extra messages were required as the year progressed from January to December. Yet, ultimate users generally did not need extra messages. This makes sense since ultimate users had 1000 messages included on the standard plan, while surf had only 50 messages.\n",
    "\n",
    "Let's use a histogram to plot the frequency of these values for x per plan and check the distribution. We will create a function to plot these histograms."
   ]
  },
  {
   "cell_type": "code",
   "execution_count": 144,
   "metadata": {},
   "outputs": [
    {
     "data": {
      "image/png": "[encoded data removed]",
      "text/plain": [
       "<Figure size 432x288 with 1 Axes>"
      ]
     },
     "metadata": {
      "needs_background": "light"
     },
     "output_type": "display_data"
    }
   ],
   "source": [
    "# Plotting the variance of 'xmessages' per plan using a histogram\n",
    "\n",
    "sns.histplot(users, x='xmessages', hue='plan')\n",
    "plt.xlabel(\"xmessages\")\n",
    "plt.ylabel(\"frequency\")\n",
    "plt.title(\"Extra messages per month per plan\")\n",
    "plt.show()"
   ]
  },
  {
   "cell_type": "markdown",
   "metadata": {},
   "source": [
    "There was a big difference between extra messages required for each plan. The surf plan members tended to require more extra messages than ultimate users. Surf users mostly used less than 25 extra messages but they may have used over 100 extra messages. However, ultimate users who required extra messages tended to need less than 25 messages."
   ]
  },
  {
   "cell_type": "markdown",
   "metadata": {},
   "source": [
    "Let's explore messages further. We will plot a histogram for messages and calculate the mean and the variation of messages to explore whether users on the different plans have different behaviours for their message usage."
   ]
  },
  {
   "cell_type": "code",
   "execution_count": 145,
   "metadata": {},
   "outputs": [],
   "source": [
    " # Calculate the mean and the variance of message usage\n",
    "\n",
    "def users_stat(variable):\n",
    "    fig, ax = plt.subplots(figsize=(8,7))\n",
    "    ax = sns.histplot(users, x=variable, hue='plan')\n",
    "    plt.show()\n",
    " \n",
    "    mean=round(users[variable].mean())\n",
    "    std=round(users[variable].std())\n",
    "    var=round(users[variable].std())\n",
    "    cv=std/mean # Coeeficient of variation\n",
    "\n",
    "\n",
    "    print('The overall average for', variable, 'is:', mean)\n",
    "    print('The variance for', variable, 'is:', var)\n",
    "    print('The standard deviation for', variable, 'is:', std)\n",
    "    print('The averages per plan:')\n",
    "    print(users.groupby(['plan'])[variable].mean())\n",
    "    if cv>1:\n",
    "        print('Values vary a lot')\n",
    "    else:\n",
    "        print('Values are centered around the average')"
   ]
  },
  {
   "cell_type": "code",
   "execution_count": 146,
   "metadata": {},
   "outputs": [
    {
     "data": {
      "image/png": "[encoded data removed]",
      "text/plain": [
       "<Figure size 576x504 with 1 Axes>"
      ]
     },
     "metadata": {
      "needs_background": "light"
     },
     "output_type": "display_data"
    },
    {
     "name": "stdout",
     "output_type": "stream",
     "text": [
      "The overall average for message_id is: 33\n",
      "The variance for message_id is: 34\n",
      "The standard deviation for message_id is: 34\n",
      "The averages per plan:\n",
      "plan\n",
      "surf        31.041165\n",
      "ultimate    37.343923\n",
      "Name: message_id, dtype: float64\n",
      "Values vary a lot\n"
     ]
    }
   ],
   "source": [
    "users_stat('message_id')"
   ]
  },
  {
   "cell_type": "markdown",
   "metadata": {},
   "source": [
    "There was a difference in message behavior between the plans. The mean for messages sent was 30 for surf and 37 for ultimate. Overall, ultimate users tended to send more mesages than surf users per month.\n",
    "Let's plot a boxplot to visualize the distribution of monthly messages for each plan."
   ]
  },
  {
   "cell_type": "code",
   "execution_count": 147,
   "metadata": {},
   "outputs": [
    {
     "data": {
      "image/png": "[encoded data removed]",
      "text/plain": [
       "<Figure size 720x360 with 1 Axes>"
      ]
     },
     "metadata": {
      "needs_background": "light"
     },
     "output_type": "display_data"
    }
   ],
   "source": [
    "# Plotting a boxplot to visualize the distribution of the monthly call duration for surf\n",
    "\n",
    "surf.pivot(values='message_id', columns='month').boxplot(figsize=(10,5))\n",
    "plt.show()"
   ]
  },
  {
   "cell_type": "code",
   "execution_count": 148,
   "metadata": {},
   "outputs": [
    {
     "data": {
      "image/png": "[encoded data removed]",
      "text/plain": [
       "<Figure size 720x360 with 1 Axes>"
      ]
     },
     "metadata": {
      "needs_background": "light"
     },
     "output_type": "display_data"
    }
   ],
   "source": [
    "# Plotting a boxplot to visualize the distribution of the monthly call duration for ultimate\n",
    "\n",
    "ultimate.pivot(values='message_id', columns='month').boxplot(figsize=(10,5))\n",
    "plt.show()"
   ]
  },
  {
   "cell_type": "markdown",
   "metadata": {},
   "source": [
    "The boxplots for surf and ultimate users are different across monthly call duration, indicating that ultimate users tend to send more messages per month than surf users."
   ]
  },
  {
   "cell_type": "markdown",
   "metadata": {},
   "source": [
    " "
   ]
  },
  {
   "cell_type": "markdown",
   "metadata": {},
   "source": [
    "### Internet"
   ]
  },
  {
   "cell_type": "markdown",
   "metadata": {},
   "source": [
    "Let's explore internet usage per plan per month."
   ]
  },
  {
   "cell_type": "code",
   "execution_count": 149,
   "metadata": {},
   "outputs": [
    {
     "data": {
      "image/png": "[encoded data removed]",
      "text/plain": [
       "<Figure size 720x432 with 1 Axes>"
      ]
     },
     "metadata": {
      "needs_background": "light"
     },
     "output_type": "display_data"
    }
   ],
   "source": [
    "# Compare the amount of internet traffic consumed by users per plan\n",
    "\n",
    "users.pivot_table(index='month',columns='plan', values = 'mb_used', aggfunc=['mean']).plot(kind='bar', figsize=(10, 6))\n",
    "\n",
    "plt.xlabel(\"Months\")\n",
    "plt.ylabel(\"mb_used\")\n",
    "plt.title(\"Internet usage per month per plan\")\n",
    "plt.legend(loc='upper right')\n",
    "plt.show()"
   ]
  },
  {
   "cell_type": "markdown",
   "metadata": {},
   "source": [
    "The amount of internet used (mb_used) varied per month. Less internet was used in January compared to other months. Ultimate users tended to use slightly more internet than surf users, but there did not seem to be a significant difference in internet usage between the plans. We will check this further with statistical analysis."
   ]
  },
  {
   "cell_type": "markdown",
   "metadata": {},
   "source": [
    "Let's compare the  number of extra gb users of each plan require each month. We already created a column gb_used indicating the extra internet a user required per month. We will use this to plot a histogram displaying the gb required for each plan."
   ]
  },
  {
   "cell_type": "code",
   "execution_count": 150,
   "metadata": {
    "scrolled": true
   },
   "outputs": [
    {
     "data": {
      "image/png": "[encoded data removed]",
      "text/plain": [
       "<Figure size 576x288 with 1 Axes>"
      ]
     },
     "metadata": {
      "needs_background": "light"
     },
     "output_type": "display_data"
    }
   ],
   "source": [
    "# Plotting 'gb_used' per month per plan using barplot\n",
    "\n",
    "users.pivot_table(index='month',columns='plan', values ='gb_used', aggfunc=['sum']).plot(kind='bar', figsize=(8, 4))\n",
    "\n",
    "plt.xlabel(\"months\")\n",
    "plt.ylabel(\"extra gb used\")\n",
    "plt.title(\"Extra gb per month per plan\")\n",
    "plt.legend(loc='upper right')\n",
    "plt.show()"
   ]
  },
  {
   "cell_type": "markdown",
   "metadata": {},
   "source": [
    "The distribution of extra internet required per month was similar for both plans in that the internet required tended to increase per month as the year progressed. However, extra internet usage differed between plans, such that surf users required more extra internet than ultimate users.  This makes sense since ultimate users had 30 GB included on the standard plan, while surf had only 15 GB included.\n",
    "\n",
    "Let's use a histogram to plot the frequency of these values for x per plan and check the distribution. We will create a function to plot these histograms."
   ]
  },
  {
   "cell_type": "code",
   "execution_count": 151,
   "metadata": {},
   "outputs": [
    {
     "data": {
      "image/png": "[encoded data removed]",
      "text/plain": [
       "<Figure size 432x288 with 1 Axes>"
      ]
     },
     "metadata": {
      "needs_background": "light"
     },
     "output_type": "display_data"
    }
   ],
   "source": [
    "# Plotting the variance of 'xgb' per plan using a histogram\n",
    "\n",
    "sns.histplot(users, x='gb_used', hue='plan')\n",
    "plt.xlabel(\"extra internet\")\n",
    "plt.ylabel(\"frequency\")\n",
    "plt.title(\"Extra internet per month per plan\")\n",
    "plt.show()"
   ]
  },
  {
   "cell_type": "markdown",
   "metadata": {},
   "source": [
    "There is a big difference between extra internet data required for each plan. The surf plan members tendedto require more extra GB than ultimate users. The distribution of users requiring higher amounts of GB was skewed towards the higher end for surf users than for ultimate users."
   ]
  },
  {
   "cell_type": "markdown",
   "metadata": {},
   "source": [
    "Let's explore internet usages further. We will plot a histogram for internet usage and calculate the mean and the variation of internet usage to explore whether users on the different plans have different behaviours for their internet usage."
   ]
  },
  {
   "cell_type": "code",
   "execution_count": 152,
   "metadata": {},
   "outputs": [],
   "source": [
    " # Calculate the mean and the variance of the internet usage\n",
    "\n",
    "def users_stat(variable):\n",
    "    fig, ax = plt.subplots(figsize=(8,7))\n",
    "    ax = sns.histplot(users, x=variable, hue='plan')\n",
    "    plt.show()\n",
    " \n",
    "    mean=round(users[variable].mean())\n",
    "    std=round(users[variable].std())\n",
    "    var=round(users[variable].std())\n",
    "    cv=std/mean # Coeeficient of variation\n",
    "\n",
    "\n",
    "    print('The overall average for', variable, 'is:', mean)\n",
    "    print('The variance for', variable, 'is:', var)\n",
    "    print('The standard deviation for', variable, 'is:', std)\n",
    "    print('The averages per plan:')\n",
    "    print(users.groupby(['plan'])[variable].mean())\n",
    "    if cv>1:\n",
    "        print('Values vary a lot')\n",
    "    else:\n",
    "        print('Values are centered around the average')"
   ]
  },
  {
   "cell_type": "code",
   "execution_count": 153,
   "metadata": {},
   "outputs": [
    {
     "data": {
      "image/png": "[encoded data removed]",
      "text/plain": [
       "<Figure size 576x504 with 1 Axes>"
      ]
     },
     "metadata": {
      "needs_background": "light"
     },
     "output_type": "display_data"
    },
    {
     "name": "stdout",
     "output_type": "stream",
     "text": [
      "The overall average for mb_used is: 16882\n",
      "The variance for mb_used is: 7870\n",
      "The standard deviation for mb_used is: 7870\n",
      "The averages per plan:\n",
      "plan\n",
      "surf        16717.702137\n",
      "ultimate    17238.642253\n",
      "Name: mb_used, dtype: float64\n",
      "Values are centered around the average\n"
     ]
    }
   ],
   "source": [
    "users_stat('mb_used')"
   ]
  },
  {
   "cell_type": "markdown",
   "metadata": {},
   "source": [
    "The distributions for internet usage were similar across the plans. The mean mb used for surf users were 16717 and 17238 for ultimate. There was a normal distribution of internet usage across the plans.\n",
    "Let's plot a boxplot to visualize the distribution of monthly internet usage for each plan."
   ]
  },
  {
   "cell_type": "code",
   "execution_count": 154,
   "metadata": {},
   "outputs": [
    {
     "data": {
      "image/png": "[encoded data removed]",
      "text/plain": [
       "<Figure size 720x360 with 1 Axes>"
      ]
     },
     "metadata": {
      "needs_background": "light"
     },
     "output_type": "display_data"
    }
   ],
   "source": [
    "# Plotting a boxplot to visualize the distribution of the monthly call duration for surf\n",
    "\n",
    "surf.pivot(values='gb_used', columns='month').boxplot(figsize=(10,5))\n",
    "plt.show()"
   ]
  },
  {
   "cell_type": "code",
   "execution_count": 155,
   "metadata": {},
   "outputs": [
    {
     "data": {
      "image/png": "[encoded data removed]",
      "text/plain": [
       "<Figure size 720x360 with 1 Axes>"
      ]
     },
     "metadata": {
      "needs_background": "light"
     },
     "output_type": "display_data"
    }
   ],
   "source": [
    "# Plotting a boxplot to visualize the distribution of the monthly call duration for ultimate\n",
    "\n",
    "ultimate.pivot(values='gb_used', columns='month').boxplot(figsize=(10,5))\n",
    "plt.show()"
   ]
  },
  {
   "cell_type": "markdown",
   "metadata": {},
   "source": [
    "The boxplots for surf and ultimate users have a similar distribution, with users tending to have a lower range of internet usage in the months of January and February and higher ranges as the year progressed. Internate usage by ultimate users had a higher range than for surf users, yet the averages of users of both plans tended to be similar per month. There was a slightly higher internet usage for ultimate users than surf users yet this difference is not significant."
   ]
  },
  {
   "cell_type": "markdown",
   "metadata": {},
   "source": [
    " "
   ]
  },
  {
   "cell_type": "markdown",
   "metadata": {},
   "source": [
    "## Revenue"
   ]
  },
  {
   "cell_type": "markdown",
   "metadata": {},
   "source": [
    "Let's explore the difference in revenue between the plans."
   ]
  },
  {
   "cell_type": "code",
   "execution_count": 156,
   "metadata": {},
   "outputs": [
    {
     "data": {
      "image/png": "[encoded data removed]",
      "text/plain": [
       "<Figure size 432x288 with 1 Axes>"
      ]
     },
     "metadata": {
      "needs_background": "light"
     },
     "output_type": "display_data"
    }
   ],
   "source": [
    "# Plotting the variance of call revenue per plan\n",
    "\n",
    "sns.histplot(users, x='monthly_revenue', hue='plan')\n",
    "plt.xlabel(\"monthly revenue\")\n",
    "plt.ylabel(\"frequency\")\n",
    "plt.title(\"Monthly revenue per month per plan\")\n",
    "plt.show()"
   ]
  },
  {
   "cell_type": "markdown",
   "metadata": {},
   "source": [
    "The distribution of monthly revenue seems skewed to the right for ultimate users, indicating an average higher revenue from ultimate surf users. We will explore this further to see if this difference is statistically significant. "
   ]
  },
  {
   "cell_type": "code",
   "execution_count": 157,
   "metadata": {},
   "outputs": [
    {
     "data": {
      "image/png": "[encoded data removed]",
      "text/plain": [
       "<Figure size 576x504 with 1 Axes>"
      ]
     },
     "metadata": {
      "needs_background": "light"
     },
     "output_type": "display_data"
    },
    {
     "name": "stdout",
     "output_type": "stream",
     "text": [
      "The overall average for monthly_revenue is: 64\n",
      "The variance for monthly_revenue is: 47\n",
      "The standard deviation for monthly_revenue is: 47\n",
      "The averages per plan:\n",
      "plan\n",
      "surf        60.551729\n",
      "ultimate    72.301105\n",
      "Name: monthly_revenue, dtype: float64\n",
      "Values are centered around the average\n"
     ]
    }
   ],
   "source": [
    " # Calculate the mean and the variance of revenue\n",
    "\n",
    "users_stat('monthly_revenue')"
   ]
  },
  {
   "cell_type": "markdown",
   "metadata": {},
   "source": [
    "The distributions of revenue was normal for both plans. Yet, there was a higher revenue from ultimate users than surf users. The mean monthly revenue was 61 for surf users and 72 was for ultimate users.\n",
    "Let's explore the monthly revenue between plans using a box plot."
   ]
  },
  {
   "cell_type": "code",
   "execution_count": 158,
   "metadata": {},
   "outputs": [
    {
     "data": {
      "image/png": "[encoded data removed]",
      "text/plain": [
       "<Figure size 720x360 with 1 Axes>"
      ]
     },
     "metadata": {
      "needs_background": "light"
     },
     "output_type": "display_data"
    }
   ],
   "source": [
    "surf.pivot(values='monthly_revenue', columns='month').boxplot(figsize=(10,5))\n",
    "plt.show()"
   ]
  },
  {
   "cell_type": "code",
   "execution_count": 159,
   "metadata": {},
   "outputs": [
    {
     "data": {
      "image/png": "[encoded data removed]",
      "text/plain": [
       "<Figure size 720x360 with 1 Axes>"
      ]
     },
     "metadata": {
      "needs_background": "light"
     },
     "output_type": "display_data"
    }
   ],
   "source": [
    "ultimate.pivot(values='monthly_revenue', columns='month').boxplot(figsize=(10,5))\n",
    "plt.show()"
   ]
  },
  {
   "cell_type": "markdown",
   "metadata": {},
   "source": [
    "The monthly revenue differed between plans, such that ultimate users tended to generate more monthly revenue than surf users. "
   ]
  },
  {
   "cell_type": "markdown",
   "metadata": {},
   "source": [
    " "
   ]
  },
  {
   "cell_type": "markdown",
   "metadata": {},
   "source": [
    "## Test Statistical Hypotheses"
   ]
  },
  {
   "cell_type": "markdown",
   "metadata": {},
   "source": [
    "We have analyzed the differences in usage between the plans. Let's test hypotheses to investigate if the differences in revenue between the plans are statistically significant.\n",
    "The null hypotheses: The average revenue for users of ultimate and surf do not differ.\n",
    "The alternative hypothesis: The average revenue for users of ultimate and surf differ.\n",
    "We will use a ttest_ind since there are two independent samples.\n",
    "We will use an alpha level of 0.01, a strict measure of statistical significance."
   ]
  },
  {
   "cell_type": "markdown",
   "metadata": {},
   "source": [
    "Let's use Levene’s test to check that variances are equal before we test our hypothesis. We will use an alpha level of 0.01."
   ]
  },
  {
   "cell_type": "code",
   "execution_count": 160,
   "metadata": {},
   "outputs": [
    {
     "data": {
      "text/plain": [
       "3.070976609395645e-83"
      ]
     },
     "execution_count": 160,
     "metadata": {},
     "output_type": "execute_result"
    }
   ],
   "source": [
    "p_value_Levene=stats.levene(ultimate['monthly_revenue'], surf['monthly_revenue'], center='median').pvalue\n",
    "p_value_Levene"
   ]
  },
  {
   "cell_type": "markdown",
   "metadata": {},
   "source": [
    "The p-value of Levene's test is close to zero and below an alpha level of 0.01, the samples are not equal in variance. We will indicate this in the equal_var parameter of our t-test."
   ]
  },
  {
   "cell_type": "code",
   "execution_count": 161,
   "metadata": {},
   "outputs": [],
   "source": [
    "# Creating a function to test the hypothesis using a t-test \n",
    "\n",
    "def ttest(sample1, sample2):\n",
    "\n",
    "    alpha = 0.01\n",
    "    results = stats.ttest_ind(sample1,sample2, equal_var= False)\n",
    "\n",
    "    print('p-value: ', results.pvalue) \n",
    "\n",
    "    if results.pvalue < alpha:\n",
    "        print('We reject the null hypothesis')\n",
    "    else:\n",
    "        print(\"We can't reject the null hypothesis\")"
   ]
  },
  {
   "cell_type": "code",
   "execution_count": 162,
   "metadata": {},
   "outputs": [
    {
     "name": "stdout",
     "output_type": "stream",
     "text": [
      "p-value:  1.218411585212325e-15\n",
      "We reject the null hypothesis\n"
     ]
    }
   ],
   "source": [
    "ttest(ultimate['monthly_revenue'], surf['monthly_revenue'])"
   ]
  },
  {
   "cell_type": "markdown",
   "metadata": {},
   "source": [
    "The p-value for our test was close to zero, indicating that the chances of obtaining this result by chance is close to zero. This indicates that we need to reject the null hypothesis. There was a statistically significnt difference in revenue between plans."
   ]
  },
  {
   "cell_type": "markdown",
   "metadata": {},
   "source": [
    "Let's compare the average revenue from users in the NY-NJ area and users from other regions. We will slice the data of NY-NJ users and other users and compare these dataframes to see if they differ."
   ]
  },
  {
   "cell_type": "code",
   "execution_count": 163,
   "metadata": {},
   "outputs": [],
   "source": [
    "# Using str.contains to get the users in NY-NJ vs not.\n",
    "\n",
    "NY_NJ_users = users[users['city'].str.contains('NY|NJ')]\n",
    "other_users = users[~users['city'].str.contains('NY|NJ')]"
   ]
  },
  {
   "cell_type": "markdown",
   "metadata": {},
   "source": [
    "The null hypotheses: The average revenue for users from NY/NJ and other users do not differ.\n",
    "The alternative hypothesis: The average revenue for users from NY/NJ and other users differ.\n",
    "We will use a ttest_ind since there are two independent samples.\n",
    "We will use an alpha level of 0.01, a strict measure of statistical significance.\n",
    "Let's use Levene's test to check if the variance of the samples are equal. If they are not equal we will use the function created for the t-test above."
   ]
  },
  {
   "cell_type": "code",
   "execution_count": 164,
   "metadata": {},
   "outputs": [
    {
     "data": {
      "text/plain": [
       "0.0017242670853101626"
      ]
     },
     "execution_count": 164,
     "metadata": {},
     "output_type": "execute_result"
    }
   ],
   "source": [
    "p_value_Levene=stats.levene(NY_NJ_users['monthly_revenue'], other_users['monthly_revenue'], center='median').pvalue\n",
    "p_value_Levene"
   ]
  },
  {
   "cell_type": "markdown",
   "metadata": {},
   "source": [
    "The p-value of Levene's test is less than the alpha level of 0.01 so we will indicated unequal variance in the t-test. Let's apply the function for the t-test."
   ]
  },
  {
   "cell_type": "code",
   "execution_count": 165,
   "metadata": {},
   "outputs": [
    {
     "name": "stdout",
     "output_type": "stream",
     "text": [
      "p-value:  0.12126002617160894\n",
      "We can't reject the null hypothesis\n"
     ]
    }
   ],
   "source": [
    "ttest(NY_NJ_users['monthly_revenue'], other_users['monthly_revenue'])"
   ]
  },
  {
   "cell_type": "markdown",
   "metadata": {},
   "source": [
    "The p-value was 0.12, which is above the alpha level of 0.1 and even above an alpha level of 0.05. So we cannot reject the null hypothesis that there is no significant difference between users from NY/NJ and other users."
   ]
  },
  {
   "cell_type": "markdown",
   "metadata": {},
   "source": [
    "## General Conclusion"
   ]
  },
  {
   "cell_type": "markdown",
   "metadata": {},
   "source": [
    "We used four dataframes five our analyses: plans_data, users_data, calls_data, messages_data, and internet_data. Prior to our analyses, we preprocessed the data in each dataframe. \n",
    "For plans_data, we added a column 'gb_per_month_included' to the plans dataframe to make it easier to calculate monthly revenue using gb for our analysis. We also renamed the column ‘plan_name’ to ‘plan’ to make it easier to merge the dataframes.\n",
    "\n",
    "For users_data,  we converted reg_date and churn_date to datetime types.\n",
    "\n",
    "For calls_data, we renamed ‘id’ to ‘caller_id’ to easily identify it after creating a merged dataframe later on. We converted the call_date to a datetime type. We also changed ‘duration’ to an integer type after rounding each number up to the nearest minute, since megaline rounds call duration up to the nearest minute. We also create a column for ‘month’ to analyze call behavior per month for future analysis.\n",
    "\n",
    "For messages_data, we renamed the column ‘id’ to ‘message_id’ to easily identify it after creating a merged dataframe. We also converted message_date to a datetime type. We also create a column for ‘month’ to analyze call behavior per month for future analysis.\n",
    "\n",
    "For internet_data, we converted ‘session_date’ to a datetime type. We created a column for ‘month’ to analyze call behavior per month for future analysis.\n",
    "\n",
    "After preprocessing the data, we aggregated the data on user call, message and internet usage by grouping by month and user id. We, then, merged the data in these tables with user info and plans info to create one dataframe with user specific information.\n",
    "\n",
    "After merging the data, we filled in missing values in the message_id column with zeros to indicate where there was no usage.\n",
    "\n",
    "We created a column 'gb_used' to calculate extra internet usage per month for future analysis. We rounded the values in gb_used up and converted it to an integer. \n",
    "\n",
    "We created a function to calculate monthly revenue.\n",
    "\n",
    "After processing the data, we studied user behavior. There were several interesting observations:\n",
    "\n",
    "For call usage:\n",
    "The average duration of calls per month varied across months for each plan. The mean duration tended to get higher from January to December for both plans. However, the average duration of calls for 'ultimate' was particularly high for February.  Yet, the mean call duration for ultimate users was 434 and the median was 425. The mean call duration for surf users was 436 and the median was 430. These mean and median values per plan are close so it appeared that the distribution of values for call duration was not significantly affected by outliers.\n",
    "\n",
    "The extra minutes required per month were different for each plan. For surf, an increasing number of extra minutes were required as the year progressed from January to December. There was a big difference between extra minutes required for each plan. The surf plan members tended to require more extra minutes than ultimate users. Surf users mostly used less than 200 extra minutes but they may have used over 700 extra minutes. However, ultimate users who require extra minutes tended to need less than 100 minutes. Ultimate users generally did not need extra minutes. This makes sense since ultimate users had 3000 minutes included on the standard plan, while surf had only 500 minutes.\n",
    "\n",
    "The distributions of call duration for the plans were similar. The average duration 436 for surf and 434 for ultimate. It seems that the user call behavior for both plans was similar even though surf users required more extra minutes.\n",
    "\n",
    "For message usage:\n",
    "\n",
    "Both surf and ultimate users tended to increase the number of messages sent per month as the year progressed. Ultimate users seem to send more messages on average.\n",
    "\n",
    "The extra messages required per month was different for each plan. For surf, an increasing number of extra messages were required as the year progressed from January to December. \n",
    "There was a big difference between extra messages required for each plan. The surf plan members tended to require more extra messages than ultimate users. Surf users mostly used less than 25 extra messages but they may have used over 100 extra messages. However, ultimate users who required extra messages tended to need less than 25 messages. Ultimate users generally did not need extra messages. This makes sense since ultimate users had 1000 messages included on the standard plan, while surf had only 50 messages.\n",
    "\n",
    "There was a difference in message behavior between the plans. The mean for messages sent was 30 for surf and 37 for ultimate. Overall, ultimate users tended to send more mesages than surf users per month.\n",
    "\n",
    "For internet usage:\n",
    "\n",
    "The amount of internet used (mb_used) varied per month. Less internet was used in January compared to other months. Ultimate users tended to use slightly more internet than surf users, but there did not seem to be a significant difference in internet usage between the plans.\n",
    "\n",
    "The distribution of extra internet required per month was similar for both plans in that the internet required tended to increase per month as the year progressed. However, extra internet usage differed between plans, such that surf users required more extra internet than ultimate users.  This makes sense since ultimate users had 30 GB included on the standard plan, while surf had only 15 GB included.\n",
    "\n",
    "The distributions for internet usage were similar across the plans. The mean mb used for surf users were 16717 and 17238 for ultimate. There was a normal distribution of internet usage across the plans.  Internate usage by ultimate users had a higher range than for surf users, yet the averages of users of both plans tended to be similar per month. There was a slightly higher internet usage for ultimate users than surf users yet this difference is not significant.\n",
    "\n",
    "For monthly revenue:\n",
    "The monthly revenue differed between plans, such that ultimate users tended to generate more monthly revenue than surf users. The distributions of revenue was normal for both plans. Yet, there was a higher revenue from ultimate users than surf users. The mean monthly revenue was 61 for surf users and 72 for ultimate users.\n",
    "\n",
    "We tested the hypotheses to investigate if the differences in revenue between the plans are statistically significant.\n",
    "The null hypotheses: The average revenue for users of ultimate and surf do not differ.\n",
    "The alternative hypothesis: The average revenue for users of ultimate and surf differ.\n",
    "We used a ttest_ind since there were two independent samples.\n",
    "We used an alpha level of 0.01, a strict measure of statistical significance.\n",
    "The p-value for our test was close to zero, indicating that the chances of obtaining this result by chance is close to zero. This indicates that we need to reject the null hypothesis. There was a statistically significant difference in revenue between plans.\n",
    "\n",
    "We tested the hypotheses to compare the average revenue from users in the NY-NJ area and users from other regions.\n",
    "The alternative hypothesis: The average revenue for users from NY/NJ and other users differ.\n",
    "We used a ttest_ind since there were two independent samples.\n",
    "We used an alpha level of 0.01, a strict measure of statistical significance.\n",
    "The p-value was 0.12, which was above the alpha level of 0.1 and even above an alpha level of 0.05. So we cannot reject the null hypothesis that there is no significant difference between users from NY/NJ and other users."
   ]
  }
 ],
 "metadata": {
  "ExecuteTimeLog": [
   {
    "duration": 828,
    "start_time": "2021-11-16T09:21:11.304Z"
   },
   {
    "duration": 893,
    "start_time": "2021-11-16T09:21:17.728Z"
   },
   {
    "duration": 1150,
    "start_time": "2021-11-16T09:21:29.568Z"
   },
   {
    "duration": 3,
    "start_time": "2021-11-16T09:24:14.495Z"
   },
   {
    "duration": 120,
    "start_time": "2021-11-16T09:24:46.630Z"
   },
   {
    "duration": 3,
    "start_time": "2021-11-16T09:28:27.882Z"
   },
   {
    "duration": 4,
    "start_time": "2021-11-16T09:29:54.281Z"
   },
   {
    "duration": 3,
    "start_time": "2021-11-16T09:30:45.936Z"
   },
   {
    "duration": 4,
    "start_time": "2021-11-16T09:31:06.300Z"
   },
   {
    "duration": 113,
    "start_time": "2021-11-16T09:31:37.208Z"
   },
   {
    "duration": 143,
    "start_time": "2021-11-16T09:31:48.656Z"
   },
   {
    "duration": 98,
    "start_time": "2021-11-16T09:31:55.678Z"
   },
   {
    "duration": 3,
    "start_time": "2021-11-16T09:32:08.535Z"
   },
   {
    "duration": 111,
    "start_time": "2021-11-16T09:32:10.120Z"
   },
   {
    "duration": 3,
    "start_time": "2021-11-16T09:32:15.732Z"
   },
   {
    "duration": 4,
    "start_time": "2021-11-16T09:32:29.423Z"
   },
   {
    "duration": 3,
    "start_time": "2021-11-16T10:03:03.074Z"
   },
   {
    "duration": 3,
    "start_time": "2021-11-16T10:10:01.288Z"
   },
   {
    "duration": 3,
    "start_time": "2021-11-16T10:10:46.923Z"
   },
   {
    "duration": 121,
    "start_time": "2021-11-16T10:37:46.494Z"
   },
   {
    "duration": 125,
    "start_time": "2021-11-16T10:38:20.632Z"
   },
   {
    "duration": 112,
    "start_time": "2021-11-16T10:46:53.001Z"
   },
   {
    "duration": 110,
    "start_time": "2021-11-16T10:48:25.775Z"
   },
   {
    "duration": 3,
    "start_time": "2021-11-16T10:50:18.720Z"
   },
   {
    "duration": 4,
    "start_time": "2021-11-16T10:50:37.649Z"
   },
   {
    "duration": 2,
    "start_time": "2021-11-16T10:50:51.884Z"
   },
   {
    "duration": 3,
    "start_time": "2021-11-16T10:51:56.237Z"
   },
   {
    "duration": 101,
    "start_time": "2021-11-16T10:53:13.791Z"
   },
   {
    "duration": 3,
    "start_time": "2021-11-16T10:55:59.186Z"
   },
   {
    "duration": 3,
    "start_time": "2021-11-16T10:56:10.751Z"
   },
   {
    "duration": 3,
    "start_time": "2021-11-16T10:56:49.038Z"
   },
   {
    "duration": 3,
    "start_time": "2021-11-16T10:56:49.174Z"
   },
   {
    "duration": 4,
    "start_time": "2021-11-16T10:56:49.414Z"
   },
   {
    "duration": 3,
    "start_time": "2021-11-16T10:56:49.680Z"
   },
   {
    "duration": 3,
    "start_time": "2021-11-16T10:56:50.370Z"
   },
   {
    "duration": 114,
    "start_time": "2021-11-16T10:59:34.518Z"
   },
   {
    "duration": 3,
    "start_time": "2021-11-16T11:01:41.201Z"
   },
   {
    "duration": 116,
    "start_time": "2021-11-16T11:01:48.754Z"
   },
   {
    "duration": 3,
    "start_time": "2021-11-16T11:02:16.685Z"
   },
   {
    "duration": 3,
    "start_time": "2021-11-16T11:02:19.479Z"
   },
   {
    "duration": 3,
    "start_time": "2021-11-16T11:02:47.067Z"
   },
   {
    "duration": 3,
    "start_time": "2021-11-16T11:02:49.353Z"
   },
   {
    "duration": 3,
    "start_time": "2021-11-16T11:03:07.835Z"
   },
   {
    "duration": 3,
    "start_time": "2021-11-16T11:03:07.953Z"
   },
   {
    "duration": 112,
    "start_time": "2021-11-16T11:07:52.072Z"
   },
   {
    "duration": 187,
    "start_time": "2021-11-16T11:09:23.468Z"
   },
   {
    "duration": 4,
    "start_time": "2021-11-16T11:10:01.455Z"
   },
   {
    "duration": 3,
    "start_time": "2021-11-16T11:10:05.069Z"
   },
   {
    "duration": 4,
    "start_time": "2021-11-16T11:10:13.376Z"
   },
   {
    "duration": 3,
    "start_time": "2021-11-16T11:10:14.434Z"
   },
   {
    "duration": 3,
    "start_time": "2021-11-16T11:10:22.853Z"
   },
   {
    "duration": 4,
    "start_time": "2021-11-16T11:27:29.279Z"
   },
   {
    "duration": 4,
    "start_time": "2021-11-16T11:29:08.919Z"
   },
   {
    "duration": 118,
    "start_time": "2021-11-16T11:29:46.703Z"
   },
   {
    "duration": 437,
    "start_time": "2021-11-16T11:36:02.181Z"
   },
   {
    "duration": 157,
    "start_time": "2021-11-16T11:36:14.388Z"
   },
   {
    "duration": 207,
    "start_time": "2021-11-16T11:47:15.898Z"
   },
   {
    "duration": 3,
    "start_time": "2021-11-16T11:53:52.092Z"
   },
   {
    "duration": 3,
    "start_time": "2021-11-16T11:53:52.236Z"
   },
   {
    "duration": 3,
    "start_time": "2021-11-16T11:59:12.005Z"
   },
   {
    "duration": 112,
    "start_time": "2021-11-16T12:00:33.446Z"
   },
   {
    "duration": 3,
    "start_time": "2021-11-16T12:02:14.453Z"
   },
   {
    "duration": 3,
    "start_time": "2021-11-16T12:02:39.512Z"
   },
   {
    "duration": 106,
    "start_time": "2021-11-16T12:03:03.460Z"
   },
   {
    "duration": 3,
    "start_time": "2021-11-17T20:37:21.139Z"
   },
   {
    "duration": 3,
    "start_time": "2021-11-17T20:37:22.229Z"
   },
   {
    "duration": 3,
    "start_time": "2021-11-17T20:38:38.806Z"
   },
   {
    "duration": 3,
    "start_time": "2021-11-17T20:38:41.958Z"
   },
   {
    "duration": 3,
    "start_time": "2021-11-17T20:43:46.551Z"
   },
   {
    "duration": 4,
    "start_time": "2021-11-17T20:58:21.835Z"
   },
   {
    "duration": 3,
    "start_time": "2021-11-17T20:59:21.872Z"
   },
   {
    "duration": 4,
    "start_time": "2021-11-17T20:59:45.352Z"
   },
   {
    "duration": 4,
    "start_time": "2021-11-17T20:59:49.646Z"
   },
   {
    "duration": 159,
    "start_time": "2021-11-17T21:02:26.949Z"
   },
   {
    "duration": 3,
    "start_time": "2021-11-17T21:03:53.461Z"
   },
   {
    "duration": 3,
    "start_time": "2021-11-17T21:03:53.694Z"
   },
   {
    "duration": 3,
    "start_time": "2021-11-17T21:05:28.145Z"
   },
   {
    "duration": 116,
    "start_time": "2021-11-17T21:05:57.787Z"
   },
   {
    "duration": 3,
    "start_time": "2021-11-17T21:06:37.993Z"
   },
   {
    "duration": 3,
    "start_time": "2021-11-17T21:06:38.261Z"
   },
   {
    "duration": 3,
    "start_time": "2021-11-17T21:11:54.358Z"
   },
   {
    "duration": 3,
    "start_time": "2021-11-17T21:12:43.846Z"
   },
   {
    "duration": 4,
    "start_time": "2021-11-17T21:13:08.773Z"
   },
   {
    "duration": 3,
    "start_time": "2021-11-17T21:14:44.441Z"
   },
   {
    "duration": 3,
    "start_time": "2021-11-17T21:15:42.059Z"
   },
   {
    "duration": 4,
    "start_time": "2021-11-17T21:15:51.995Z"
   },
   {
    "duration": 3,
    "start_time": "2021-11-17T21:15:53.923Z"
   },
   {
    "duration": 3,
    "start_time": "2021-11-17T21:15:55.282Z"
   },
   {
    "duration": 3,
    "start_time": "2021-11-17T21:16:28.492Z"
   },
   {
    "duration": 3,
    "start_time": "2021-11-17T21:16:32.603Z"
   },
   {
    "duration": 3,
    "start_time": "2021-11-17T21:17:06.941Z"
   },
   {
    "duration": 98,
    "start_time": "2021-11-17T21:18:05.733Z"
   },
   {
    "duration": 4,
    "start_time": "2021-11-17T21:21:35.255Z"
   },
   {
    "duration": 3,
    "start_time": "2021-11-17T21:21:37.804Z"
   },
   {
    "duration": 4,
    "start_time": "2021-11-17T21:23:06.071Z"
   },
   {
    "duration": 3,
    "start_time": "2021-11-17T21:23:24.799Z"
   },
   {
    "duration": 3,
    "start_time": "2021-11-17T21:23:32.591Z"
   },
   {
    "duration": 98,
    "start_time": "2021-11-17T21:28:31.559Z"
   },
   {
    "duration": 3,
    "start_time": "2021-11-17T21:28:45.448Z"
   },
   {
    "duration": 3,
    "start_time": "2021-11-17T21:29:17.303Z"
   },
   {
    "duration": 3,
    "start_time": "2021-11-17T21:29:29.617Z"
   },
   {
    "duration": 3,
    "start_time": "2021-11-17T21:29:32.681Z"
   },
   {
    "duration": 3,
    "start_time": "2021-11-17T21:36:11.474Z"
   },
   {
    "duration": 3,
    "start_time": "2021-11-17T21:36:14.791Z"
   },
   {
    "duration": 3,
    "start_time": "2021-11-17T21:36:53.943Z"
   },
   {
    "duration": 3,
    "start_time": "2021-11-17T21:36:56.165Z"
   },
   {
    "duration": 4,
    "start_time": "2021-11-17T21:37:16.590Z"
   },
   {
    "duration": 3,
    "start_time": "2021-11-17T21:37:22.702Z"
   },
   {
    "duration": 4,
    "start_time": "2021-11-17T21:38:03.479Z"
   },
   {
    "duration": 3,
    "start_time": "2021-11-17T21:38:08.601Z"
   },
   {
    "duration": 3,
    "start_time": "2021-11-17T21:38:12.928Z"
   },
   {
    "duration": 3,
    "start_time": "2021-11-17T21:38:48.896Z"
   },
   {
    "duration": 2,
    "start_time": "2021-11-17T21:38:49.171Z"
   },
   {
    "duration": 4,
    "start_time": "2021-11-17T21:39:57.889Z"
   },
   {
    "duration": 3,
    "start_time": "2021-11-17T21:39:58.057Z"
   },
   {
    "duration": 3,
    "start_time": "2021-11-17T21:41:20.108Z"
   },
   {
    "duration": 3,
    "start_time": "2021-11-17T21:41:20.629Z"
   },
   {
    "duration": 3,
    "start_time": "2021-11-17T21:42:49.136Z"
   },
   {
    "duration": 3,
    "start_time": "2021-11-17T21:43:15.137Z"
   },
   {
    "duration": 4,
    "start_time": "2021-11-17T21:43:16.766Z"
   },
   {
    "duration": 4,
    "start_time": "2021-11-17T21:43:31.711Z"
   },
   {
    "duration": 3,
    "start_time": "2021-11-17T21:43:36.312Z"
   },
   {
    "duration": 4,
    "start_time": "2021-11-17T21:45:08.825Z"
   },
   {
    "duration": 4,
    "start_time": "2021-11-17T21:45:10.119Z"
   },
   {
    "duration": 4,
    "start_time": "2021-11-17T21:45:13.748Z"
   },
   {
    "duration": 3,
    "start_time": "2021-11-17T21:45:22.219Z"
   },
   {
    "duration": 3,
    "start_time": "2021-11-17T21:45:33.412Z"
   },
   {
    "duration": 2,
    "start_time": "2021-11-17T21:46:01.885Z"
   },
   {
    "duration": 3,
    "start_time": "2021-11-17T21:46:03.628Z"
   },
   {
    "duration": 107,
    "start_time": "2021-11-17T21:47:32.512Z"
   },
   {
    "duration": 103,
    "start_time": "2021-11-17T21:50:36.243Z"
   },
   {
    "duration": 3,
    "start_time": "2021-11-18T06:28:31.440Z"
   },
   {
    "duration": 3,
    "start_time": "2021-11-18T06:29:00.168Z"
   },
   {
    "duration": 3,
    "start_time": "2021-11-18T06:31:27.008Z"
   },
   {
    "duration": 2,
    "start_time": "2021-11-18T06:35:34.288Z"
   },
   {
    "duration": 2,
    "start_time": "2021-11-18T06:38:04.527Z"
   },
   {
    "duration": 41,
    "start_time": "2022-08-31T12:50:45.772Z"
   },
   {
    "duration": 1310,
    "start_time": "2022-08-31T12:51:19.050Z"
   },
   {
    "duration": 778,
    "start_time": "2022-08-31T12:51:20.369Z"
   },
   {
    "duration": 13,
    "start_time": "2022-08-31T12:51:24.970Z"
   },
   {
    "duration": 12,
    "start_time": "2022-08-31T12:51:46.080Z"
   },
   {
    "duration": 15,
    "start_time": "2022-08-31T12:51:59.753Z"
   },
   {
    "duration": 11,
    "start_time": "2022-08-31T12:52:06.640Z"
   },
   {
    "duration": 11,
    "start_time": "2022-08-31T13:48:29.688Z"
   },
   {
    "duration": 9,
    "start_time": "2022-08-31T13:52:15.220Z"
   },
   {
    "duration": 8,
    "start_time": "2022-08-31T13:52:32.974Z"
   },
   {
    "duration": 13,
    "start_time": "2022-08-31T14:03:11.438Z"
   },
   {
    "duration": 16,
    "start_time": "2022-08-31T14:05:46.327Z"
   },
   {
    "duration": 1002,
    "start_time": "2022-08-31T14:06:23.585Z"
   },
   {
    "duration": 868,
    "start_time": "2022-08-31T14:06:27.155Z"
   },
   {
    "duration": 3,
    "start_time": "2022-08-31T14:06:37.332Z"
   },
   {
    "duration": 381,
    "start_time": "2022-08-31T14:06:37.337Z"
   },
   {
    "duration": 9,
    "start_time": "2022-08-31T14:06:37.720Z"
   },
   {
    "duration": 13,
    "start_time": "2022-08-31T14:06:37.731Z"
   },
   {
    "duration": 17,
    "start_time": "2022-08-31T14:06:37.746Z"
   },
   {
    "duration": 27,
    "start_time": "2022-08-31T14:06:37.765Z"
   },
   {
    "duration": 16,
    "start_time": "2022-08-31T14:06:37.794Z"
   },
   {
    "duration": 13,
    "start_time": "2022-08-31T14:06:45.052Z"
   },
   {
    "duration": 18,
    "start_time": "2022-08-31T14:10:46.601Z"
   },
   {
    "duration": 8,
    "start_time": "2022-08-31T14:11:11.738Z"
   },
   {
    "duration": 26,
    "start_time": "2022-08-31T14:21:09.997Z"
   },
   {
    "duration": 1314,
    "start_time": "2022-08-31T14:22:11.173Z"
   },
   {
    "duration": 14,
    "start_time": "2022-08-31T14:22:57.755Z"
   },
   {
    "duration": 1393,
    "start_time": "2022-08-31T14:23:26.027Z"
   },
   {
    "duration": 25,
    "start_time": "2022-08-31T14:24:01.076Z"
   },
   {
    "duration": 3,
    "start_time": "2022-08-31T14:24:20.521Z"
   },
   {
    "duration": 21,
    "start_time": "2022-08-31T14:24:23.027Z"
   },
   {
    "duration": 4,
    "start_time": "2022-08-31T14:33:41.215Z"
   },
   {
    "duration": 11,
    "start_time": "2022-08-31T14:33:55.431Z"
   },
   {
    "duration": 17,
    "start_time": "2022-08-31T14:34:40.422Z"
   },
   {
    "duration": 17,
    "start_time": "2022-08-31T14:35:37.425Z"
   },
   {
    "duration": 18,
    "start_time": "2022-08-31T14:35:57.435Z"
   },
   {
    "duration": 6,
    "start_time": "2022-08-31T14:36:04.706Z"
   },
   {
    "duration": 13,
    "start_time": "2022-08-31T14:37:44.552Z"
   },
   {
    "duration": 7,
    "start_time": "2022-08-31T14:37:56.656Z"
   },
   {
    "duration": 14,
    "start_time": "2022-08-31T14:45:45.514Z"
   },
   {
    "duration": 25,
    "start_time": "2022-08-31T14:45:57.649Z"
   },
   {
    "duration": 15,
    "start_time": "2022-08-31T14:47:19.768Z"
   },
   {
    "duration": 11,
    "start_time": "2022-08-31T14:47:26.378Z"
   },
   {
    "duration": 34,
    "start_time": "2022-08-31T14:52:14.582Z"
   },
   {
    "duration": 47,
    "start_time": "2022-08-31T18:02:50.812Z"
   },
   {
    "duration": 1328,
    "start_time": "2022-08-31T18:02:56.628Z"
   },
   {
    "duration": 750,
    "start_time": "2022-08-31T18:02:57.958Z"
   },
   {
    "duration": 15,
    "start_time": "2022-08-31T18:02:58.714Z"
   },
   {
    "duration": 13,
    "start_time": "2022-08-31T18:02:58.731Z"
   },
   {
    "duration": 10,
    "start_time": "2022-08-31T18:02:58.746Z"
   },
   {
    "duration": 11,
    "start_time": "2022-08-31T18:02:58.757Z"
   },
   {
    "duration": 10,
    "start_time": "2022-08-31T18:02:58.770Z"
   },
   {
    "duration": 40,
    "start_time": "2022-08-31T18:02:58.781Z"
   },
   {
    "duration": 19,
    "start_time": "2022-08-31T18:02:58.823Z"
   },
   {
    "duration": 7,
    "start_time": "2022-08-31T18:02:58.845Z"
   },
   {
    "duration": 16,
    "start_time": "2022-08-31T18:02:58.854Z"
   },
   {
    "duration": 17,
    "start_time": "2022-08-31T18:02:58.871Z"
   },
   {
    "duration": 4,
    "start_time": "2022-08-31T18:02:58.889Z"
   },
   {
    "duration": 31,
    "start_time": "2022-08-31T18:02:58.895Z"
   },
   {
    "duration": 15,
    "start_time": "2022-08-31T18:02:58.927Z"
   },
   {
    "duration": 6,
    "start_time": "2022-08-31T18:02:58.943Z"
   },
   {
    "duration": 25,
    "start_time": "2022-08-31T18:02:58.950Z"
   },
   {
    "duration": 42,
    "start_time": "2022-08-31T18:02:58.977Z"
   },
   {
    "duration": 7,
    "start_time": "2022-08-31T18:02:59.021Z"
   },
   {
    "duration": 30,
    "start_time": "2022-08-31T18:02:59.030Z"
   },
   {
    "duration": 7,
    "start_time": "2022-08-31T18:03:13.590Z"
   },
   {
    "duration": 4,
    "start_time": "2022-08-31T19:16:07.296Z"
   },
   {
    "duration": 5,
    "start_time": "2022-08-31T19:16:25.955Z"
   },
   {
    "duration": 12,
    "start_time": "2022-08-31T19:16:30.427Z"
   },
   {
    "duration": 10,
    "start_time": "2022-08-31T19:16:54.475Z"
   },
   {
    "duration": 3,
    "start_time": "2022-08-31T19:17:40.242Z"
   },
   {
    "duration": 597,
    "start_time": "2022-08-31T19:17:40.246Z"
   },
   {
    "duration": 11,
    "start_time": "2022-08-31T19:17:40.845Z"
   },
   {
    "duration": 12,
    "start_time": "2022-08-31T19:17:40.857Z"
   },
   {
    "duration": 12,
    "start_time": "2022-08-31T19:17:40.871Z"
   },
   {
    "duration": 42,
    "start_time": "2022-08-31T19:17:40.885Z"
   },
   {
    "duration": 12,
    "start_time": "2022-08-31T19:17:40.936Z"
   },
   {
    "duration": 9,
    "start_time": "2022-08-31T19:17:40.949Z"
   },
   {
    "duration": 5,
    "start_time": "2022-08-31T19:17:45.936Z"
   },
   {
    "duration": 19,
    "start_time": "2022-08-31T19:17:48.301Z"
   },
   {
    "duration": 7,
    "start_time": "2022-08-31T19:48:32.680Z"
   },
   {
    "duration": 3,
    "start_time": "2022-08-31T19:52:31.536Z"
   },
   {
    "duration": 346,
    "start_time": "2022-08-31T19:52:31.542Z"
   },
   {
    "duration": 10,
    "start_time": "2022-08-31T19:52:31.890Z"
   },
   {
    "duration": 26,
    "start_time": "2022-08-31T19:52:31.901Z"
   },
   {
    "duration": 7,
    "start_time": "2022-08-31T19:52:31.929Z"
   },
   {
    "duration": 11,
    "start_time": "2022-08-31T19:52:31.937Z"
   },
   {
    "duration": 13,
    "start_time": "2022-08-31T19:52:31.949Z"
   },
   {
    "duration": 5,
    "start_time": "2022-08-31T19:52:31.964Z"
   },
   {
    "duration": 10,
    "start_time": "2022-08-31T19:52:31.970Z"
   },
   {
    "duration": 11,
    "start_time": "2022-08-31T19:52:31.981Z"
   },
   {
    "duration": 27,
    "start_time": "2022-08-31T19:52:31.995Z"
   },
   {
    "duration": 10,
    "start_time": "2022-08-31T19:52:32.024Z"
   },
   {
    "duration": 15,
    "start_time": "2022-08-31T19:52:32.036Z"
   },
   {
    "duration": 29,
    "start_time": "2022-08-31T19:52:32.053Z"
   },
   {
    "duration": 5,
    "start_time": "2022-08-31T19:52:32.084Z"
   },
   {
    "duration": 30,
    "start_time": "2022-08-31T19:52:32.091Z"
   },
   {
    "duration": 17,
    "start_time": "2022-08-31T19:52:32.123Z"
   },
   {
    "duration": 11,
    "start_time": "2022-08-31T19:52:32.142Z"
   },
   {
    "duration": 26,
    "start_time": "2022-08-31T19:52:32.154Z"
   },
   {
    "duration": 3,
    "start_time": "2022-08-31T19:52:32.181Z"
   },
   {
    "duration": 40,
    "start_time": "2022-08-31T19:52:32.185Z"
   },
   {
    "duration": 8,
    "start_time": "2022-08-31T19:52:32.226Z"
   },
   {
    "duration": 31,
    "start_time": "2022-08-31T19:52:32.235Z"
   },
   {
    "duration": 5,
    "start_time": "2022-08-31T19:52:32.268Z"
   },
   {
    "duration": 44,
    "start_time": "2022-08-31T19:52:32.276Z"
   },
   {
    "duration": 9,
    "start_time": "2022-08-31T19:56:44.744Z"
   },
   {
    "duration": 7,
    "start_time": "2022-08-31T21:04:38.025Z"
   },
   {
    "duration": 6,
    "start_time": "2022-08-31T21:04:42.760Z"
   },
   {
    "duration": 58,
    "start_time": "2022-08-31T21:05:10.392Z"
   },
   {
    "duration": 74,
    "start_time": "2022-08-31T21:05:17.769Z"
   },
   {
    "duration": 8,
    "start_time": "2022-08-31T21:05:21.106Z"
   },
   {
    "duration": 15,
    "start_time": "2022-08-31T21:11:52.595Z"
   },
   {
    "duration": 16,
    "start_time": "2022-08-31T21:12:06.633Z"
   },
   {
    "duration": 13,
    "start_time": "2022-08-31T21:12:12.906Z"
   },
   {
    "duration": 13,
    "start_time": "2022-08-31T21:12:39.205Z"
   },
   {
    "duration": 2,
    "start_time": "2022-08-31T21:12:48.653Z"
   },
   {
    "duration": 285,
    "start_time": "2022-08-31T21:12:48.658Z"
   },
   {
    "duration": 9,
    "start_time": "2022-08-31T21:12:48.945Z"
   },
   {
    "duration": 10,
    "start_time": "2022-08-31T21:12:48.955Z"
   },
   {
    "duration": 12,
    "start_time": "2022-08-31T21:12:48.967Z"
   },
   {
    "duration": 28,
    "start_time": "2022-08-31T21:12:48.981Z"
   },
   {
    "duration": 4,
    "start_time": "2022-08-31T21:12:49.011Z"
   },
   {
    "duration": 6,
    "start_time": "2022-08-31T21:12:49.017Z"
   },
   {
    "duration": 12,
    "start_time": "2022-08-31T21:12:49.024Z"
   },
   {
    "duration": 18,
    "start_time": "2022-08-31T21:12:49.037Z"
   },
   {
    "duration": 8,
    "start_time": "2022-08-31T21:12:49.057Z"
   },
   {
    "duration": 45,
    "start_time": "2022-08-31T21:12:49.066Z"
   },
   {
    "duration": 19,
    "start_time": "2022-08-31T21:12:49.113Z"
   },
   {
    "duration": 5,
    "start_time": "2022-08-31T21:12:49.133Z"
   },
   {
    "duration": 14,
    "start_time": "2022-08-31T21:12:49.140Z"
   },
   {
    "duration": 13,
    "start_time": "2022-08-31T21:12:49.156Z"
   },
   {
    "duration": 41,
    "start_time": "2022-08-31T21:12:49.170Z"
   },
   {
    "duration": 24,
    "start_time": "2022-08-31T21:12:49.213Z"
   },
   {
    "duration": 2,
    "start_time": "2022-08-31T21:12:49.239Z"
   },
   {
    "duration": 16,
    "start_time": "2022-08-31T21:12:49.243Z"
   },
   {
    "duration": 8,
    "start_time": "2022-08-31T21:12:49.260Z"
   },
   {
    "duration": 59,
    "start_time": "2022-08-31T21:12:49.270Z"
   },
   {
    "duration": 14,
    "start_time": "2022-08-31T21:12:52.234Z"
   },
   {
    "duration": 45,
    "start_time": "2022-09-01T09:00:39.257Z"
   },
   {
    "duration": 1230,
    "start_time": "2022-09-01T09:00:43.583Z"
   },
   {
    "duration": 829,
    "start_time": "2022-09-01T09:00:44.815Z"
   },
   {
    "duration": 12,
    "start_time": "2022-09-01T09:00:45.646Z"
   },
   {
    "duration": 29,
    "start_time": "2022-09-01T09:00:45.660Z"
   },
   {
    "duration": 25,
    "start_time": "2022-09-01T09:00:45.690Z"
   },
   {
    "duration": 23,
    "start_time": "2022-09-01T09:00:45.717Z"
   },
   {
    "duration": 8,
    "start_time": "2022-09-01T09:00:45.741Z"
   },
   {
    "duration": 29,
    "start_time": "2022-09-01T09:00:45.751Z"
   },
   {
    "duration": 45,
    "start_time": "2022-09-01T09:00:45.782Z"
   },
   {
    "duration": 41,
    "start_time": "2022-09-01T09:00:45.830Z"
   },
   {
    "duration": 20,
    "start_time": "2022-09-01T09:00:45.873Z"
   },
   {
    "duration": 55,
    "start_time": "2022-09-01T09:00:45.895Z"
   },
   {
    "duration": 59,
    "start_time": "2022-09-01T09:00:45.952Z"
   },
   {
    "duration": 57,
    "start_time": "2022-09-01T09:00:46.014Z"
   },
   {
    "duration": 46,
    "start_time": "2022-09-01T09:00:46.073Z"
   },
   {
    "duration": 1384,
    "start_time": "2022-09-01T09:00:50.421Z"
   },
   {
    "duration": 35,
    "start_time": "2022-09-01T09:01:20.291Z"
   },
   {
    "duration": 36,
    "start_time": "2022-09-01T09:01:37.373Z"
   },
   {
    "duration": 23,
    "start_time": "2022-09-01T09:04:02.204Z"
   },
   {
    "duration": 15,
    "start_time": "2022-09-01T09:07:55.583Z"
   },
   {
    "duration": 22,
    "start_time": "2022-09-01T09:08:03.223Z"
   },
   {
    "duration": 3,
    "start_time": "2022-09-01T09:08:19.381Z"
   },
   {
    "duration": 338,
    "start_time": "2022-09-01T09:08:19.388Z"
   },
   {
    "duration": 10,
    "start_time": "2022-09-01T09:08:19.728Z"
   },
   {
    "duration": 20,
    "start_time": "2022-09-01T09:08:19.739Z"
   },
   {
    "duration": 39,
    "start_time": "2022-09-01T09:08:19.761Z"
   },
   {
    "duration": 28,
    "start_time": "2022-09-01T09:08:19.803Z"
   },
   {
    "duration": 20,
    "start_time": "2022-09-01T09:08:19.833Z"
   },
   {
    "duration": 21,
    "start_time": "2022-09-01T09:08:19.854Z"
   },
   {
    "duration": 30,
    "start_time": "2022-09-01T09:08:19.877Z"
   },
   {
    "duration": 35,
    "start_time": "2022-09-01T09:08:19.909Z"
   },
   {
    "duration": 7,
    "start_time": "2022-09-01T09:08:19.946Z"
   },
   {
    "duration": 43,
    "start_time": "2022-09-01T09:08:19.955Z"
   },
   {
    "duration": 30,
    "start_time": "2022-09-01T09:08:20.000Z"
   },
   {
    "duration": 7,
    "start_time": "2022-09-01T09:08:20.032Z"
   },
   {
    "duration": 31,
    "start_time": "2022-09-01T09:08:20.042Z"
   },
   {
    "duration": 20,
    "start_time": "2022-09-01T09:08:51.339Z"
   },
   {
    "duration": 20,
    "start_time": "2022-09-01T09:09:55.078Z"
   },
   {
    "duration": 28,
    "start_time": "2022-09-01T09:10:55.309Z"
   },
   {
    "duration": 16,
    "start_time": "2022-09-01T09:11:55.172Z"
   },
   {
    "duration": 23,
    "start_time": "2022-09-01T09:12:01.203Z"
   },
   {
    "duration": 3,
    "start_time": "2022-09-01T09:12:13.567Z"
   },
   {
    "duration": 324,
    "start_time": "2022-09-01T09:12:13.573Z"
   },
   {
    "duration": 10,
    "start_time": "2022-09-01T09:12:13.899Z"
   },
   {
    "duration": 17,
    "start_time": "2022-09-01T09:12:13.911Z"
   },
   {
    "duration": 14,
    "start_time": "2022-09-01T09:12:13.930Z"
   },
   {
    "duration": 13,
    "start_time": "2022-09-01T09:12:13.946Z"
   },
   {
    "duration": 15,
    "start_time": "2022-09-01T09:12:13.960Z"
   },
   {
    "duration": 13,
    "start_time": "2022-09-01T09:12:13.977Z"
   },
   {
    "duration": 13,
    "start_time": "2022-09-01T09:12:13.991Z"
   },
   {
    "duration": 25,
    "start_time": "2022-09-01T09:12:14.006Z"
   },
   {
    "duration": 9,
    "start_time": "2022-09-01T09:12:14.033Z"
   },
   {
    "duration": 17,
    "start_time": "2022-09-01T09:12:14.044Z"
   },
   {
    "duration": 24,
    "start_time": "2022-09-01T09:12:14.063Z"
   },
   {
    "duration": 20,
    "start_time": "2022-09-01T09:12:14.089Z"
   },
   {
    "duration": 16,
    "start_time": "2022-09-01T09:12:14.110Z"
   },
   {
    "duration": 19,
    "start_time": "2022-09-01T09:12:16.317Z"
   },
   {
    "duration": 24,
    "start_time": "2022-09-01T09:12:23.516Z"
   },
   {
    "duration": 24,
    "start_time": "2022-09-01T09:12:44.479Z"
   },
   {
    "duration": 21,
    "start_time": "2022-09-01T09:13:06.528Z"
   },
   {
    "duration": 21,
    "start_time": "2022-09-01T09:14:08.667Z"
   },
   {
    "duration": 21,
    "start_time": "2022-09-01T09:14:14.103Z"
   },
   {
    "duration": 26,
    "start_time": "2022-09-01T09:15:52.675Z"
   },
   {
    "duration": 32,
    "start_time": "2022-09-01T09:17:45.103Z"
   },
   {
    "duration": 31,
    "start_time": "2022-09-01T09:21:24.708Z"
   },
   {
    "duration": 26,
    "start_time": "2022-09-01T09:22:23.023Z"
   },
   {
    "duration": 26,
    "start_time": "2022-09-01T09:23:04.313Z"
   },
   {
    "duration": 25,
    "start_time": "2022-09-01T09:25:30.948Z"
   },
   {
    "duration": 25,
    "start_time": "2022-09-01T09:30:45.753Z"
   },
   {
    "duration": 10,
    "start_time": "2022-09-01T09:31:14.853Z"
   },
   {
    "duration": 11,
    "start_time": "2022-09-01T09:31:20.178Z"
   },
   {
    "duration": 25,
    "start_time": "2022-09-01T09:31:24.544Z"
   },
   {
    "duration": 22,
    "start_time": "2022-09-01T09:32:12.698Z"
   },
   {
    "duration": 23,
    "start_time": "2022-09-01T09:34:12.304Z"
   },
   {
    "duration": 18,
    "start_time": "2022-09-01T09:34:21.320Z"
   },
   {
    "duration": 11,
    "start_time": "2022-09-01T09:40:16.635Z"
   },
   {
    "duration": 15,
    "start_time": "2022-09-01T09:56:06.492Z"
   },
   {
    "duration": 11,
    "start_time": "2022-09-01T09:56:12.537Z"
   },
   {
    "duration": 14,
    "start_time": "2022-09-01T09:56:31.621Z"
   },
   {
    "duration": 17,
    "start_time": "2022-09-01T09:57:07.420Z"
   },
   {
    "duration": 28,
    "start_time": "2022-09-01T09:58:26.961Z"
   },
   {
    "duration": 9,
    "start_time": "2022-09-01T10:27:00.835Z"
   },
   {
    "duration": 11,
    "start_time": "2022-09-01T10:27:52.632Z"
   },
   {
    "duration": 15,
    "start_time": "2022-09-01T10:28:26.870Z"
   },
   {
    "duration": 52,
    "start_time": "2022-09-01T10:30:26.862Z"
   },
   {
    "duration": 23,
    "start_time": "2022-09-01T10:30:57.237Z"
   },
   {
    "duration": 3,
    "start_time": "2022-09-01T10:31:25.438Z"
   },
   {
    "duration": 322,
    "start_time": "2022-09-01T10:31:25.447Z"
   },
   {
    "duration": 10,
    "start_time": "2022-09-01T10:31:25.771Z"
   },
   {
    "duration": 12,
    "start_time": "2022-09-01T10:31:25.782Z"
   },
   {
    "duration": 20,
    "start_time": "2022-09-01T10:31:25.796Z"
   },
   {
    "duration": 14,
    "start_time": "2022-09-01T10:31:25.817Z"
   },
   {
    "duration": 3,
    "start_time": "2022-09-01T10:31:25.833Z"
   },
   {
    "duration": 8,
    "start_time": "2022-09-01T10:31:25.838Z"
   },
   {
    "duration": 20,
    "start_time": "2022-09-01T10:31:28.321Z"
   },
   {
    "duration": 10,
    "start_time": "2022-09-01T10:31:50.034Z"
   },
   {
    "duration": 5,
    "start_time": "2022-09-01T10:32:30.038Z"
   },
   {
    "duration": 26,
    "start_time": "2022-09-01T10:32:38.206Z"
   },
   {
    "duration": 3,
    "start_time": "2022-09-01T10:33:42.617Z"
   },
   {
    "duration": 318,
    "start_time": "2022-09-01T10:33:42.622Z"
   },
   {
    "duration": 9,
    "start_time": "2022-09-01T10:33:42.942Z"
   },
   {
    "duration": 7,
    "start_time": "2022-09-01T10:33:42.953Z"
   },
   {
    "duration": 11,
    "start_time": "2022-09-01T10:33:42.962Z"
   },
   {
    "duration": 13,
    "start_time": "2022-09-01T10:33:42.974Z"
   },
   {
    "duration": 5,
    "start_time": "2022-09-01T10:33:42.989Z"
   },
   {
    "duration": 5,
    "start_time": "2022-09-01T10:33:43.009Z"
   },
   {
    "duration": 16,
    "start_time": "2022-09-01T10:33:45.398Z"
   },
   {
    "duration": 23,
    "start_time": "2022-09-01T10:34:03.392Z"
   },
   {
    "duration": 16,
    "start_time": "2022-09-01T10:34:16.691Z"
   },
   {
    "duration": 48,
    "start_time": "2022-09-01T10:36:31.172Z"
   },
   {
    "duration": 69,
    "start_time": "2022-09-01T10:36:45.259Z"
   },
   {
    "duration": 3,
    "start_time": "2022-09-01T10:36:49.888Z"
   },
   {
    "duration": 300,
    "start_time": "2022-09-01T10:36:49.894Z"
   },
   {
    "duration": 11,
    "start_time": "2022-09-01T10:36:50.196Z"
   },
   {
    "duration": 18,
    "start_time": "2022-09-01T10:36:50.208Z"
   },
   {
    "duration": 12,
    "start_time": "2022-09-01T10:36:50.229Z"
   },
   {
    "duration": 11,
    "start_time": "2022-09-01T10:36:50.243Z"
   },
   {
    "duration": 6,
    "start_time": "2022-09-01T10:36:50.256Z"
   },
   {
    "duration": 14,
    "start_time": "2022-09-01T10:36:50.263Z"
   },
   {
    "duration": 23,
    "start_time": "2022-09-01T10:36:50.279Z"
   },
   {
    "duration": 22,
    "start_time": "2022-09-01T10:36:50.303Z"
   },
   {
    "duration": 7,
    "start_time": "2022-09-01T10:36:50.327Z"
   },
   {
    "duration": 18,
    "start_time": "2022-09-01T10:36:50.336Z"
   },
   {
    "duration": 20,
    "start_time": "2022-09-01T10:36:50.355Z"
   },
   {
    "duration": 5,
    "start_time": "2022-09-01T10:36:50.377Z"
   },
   {
    "duration": 37,
    "start_time": "2022-09-01T10:36:50.383Z"
   },
   {
    "duration": 20,
    "start_time": "2022-09-01T10:36:50.422Z"
   },
   {
    "duration": 15,
    "start_time": "2022-09-01T10:36:50.443Z"
   },
   {
    "duration": 8,
    "start_time": "2022-09-01T10:36:50.460Z"
   },
   {
    "duration": 48,
    "start_time": "2022-09-01T10:36:50.470Z"
   },
   {
    "duration": 13,
    "start_time": "2022-09-01T10:36:50.520Z"
   },
   {
    "duration": 24,
    "start_time": "2022-09-01T10:36:50.534Z"
   },
   {
    "duration": 7,
    "start_time": "2022-09-01T10:36:50.560Z"
   },
   {
    "duration": 53,
    "start_time": "2022-09-01T10:36:50.569Z"
   },
   {
    "duration": 17,
    "start_time": "2022-09-01T10:36:50.624Z"
   },
   {
    "duration": 15,
    "start_time": "2022-09-01T10:36:50.643Z"
   },
   {
    "duration": 8,
    "start_time": "2022-09-01T10:36:50.660Z"
   },
   {
    "duration": 42,
    "start_time": "2022-09-01T10:36:50.669Z"
   },
   {
    "duration": 18,
    "start_time": "2022-09-01T10:36:50.713Z"
   },
   {
    "duration": 15,
    "start_time": "2022-09-01T10:36:50.733Z"
   },
   {
    "duration": 17,
    "start_time": "2022-09-01T10:36:50.750Z"
   },
   {
    "duration": 50,
    "start_time": "2022-09-01T10:36:54.427Z"
   },
   {
    "duration": 10,
    "start_time": "2022-09-01T10:38:12.646Z"
   },
   {
    "duration": 12,
    "start_time": "2022-09-01T10:38:59.916Z"
   },
   {
    "duration": 15,
    "start_time": "2022-09-01T10:39:11.052Z"
   },
   {
    "duration": 13,
    "start_time": "2022-09-01T10:39:39.151Z"
   },
   {
    "duration": 14,
    "start_time": "2022-09-01T10:43:38.614Z"
   },
   {
    "duration": 2,
    "start_time": "2022-09-01T10:43:48.840Z"
   },
   {
    "duration": 312,
    "start_time": "2022-09-01T10:43:48.846Z"
   },
   {
    "duration": 10,
    "start_time": "2022-09-01T10:43:49.160Z"
   },
   {
    "duration": 13,
    "start_time": "2022-09-01T10:43:49.171Z"
   },
   {
    "duration": 12,
    "start_time": "2022-09-01T10:43:49.186Z"
   },
   {
    "duration": 9,
    "start_time": "2022-09-01T10:43:49.209Z"
   },
   {
    "duration": 6,
    "start_time": "2022-09-01T10:43:49.219Z"
   },
   {
    "duration": 8,
    "start_time": "2022-09-01T10:43:49.226Z"
   },
   {
    "duration": 19,
    "start_time": "2022-09-01T10:43:49.235Z"
   },
   {
    "duration": 18,
    "start_time": "2022-09-01T10:43:49.256Z"
   },
   {
    "duration": 8,
    "start_time": "2022-09-01T10:43:49.276Z"
   },
   {
    "duration": 40,
    "start_time": "2022-09-01T10:43:49.285Z"
   },
   {
    "duration": 5,
    "start_time": "2022-09-01T10:43:49.327Z"
   },
   {
    "duration": 23,
    "start_time": "2022-09-01T10:43:49.334Z"
   },
   {
    "duration": 4,
    "start_time": "2022-09-01T10:43:49.359Z"
   },
   {
    "duration": 15,
    "start_time": "2022-09-01T10:43:52.353Z"
   },
   {
    "duration": 2,
    "start_time": "2022-09-01T10:45:58.827Z"
   },
   {
    "duration": 308,
    "start_time": "2022-09-01T10:45:58.831Z"
   },
   {
    "duration": 10,
    "start_time": "2022-09-01T10:45:59.140Z"
   },
   {
    "duration": 34,
    "start_time": "2022-09-01T10:45:59.152Z"
   },
   {
    "duration": 19,
    "start_time": "2022-09-01T10:45:59.187Z"
   },
   {
    "duration": 27,
    "start_time": "2022-09-01T10:45:59.208Z"
   },
   {
    "duration": 14,
    "start_time": "2022-09-01T10:45:59.237Z"
   },
   {
    "duration": 29,
    "start_time": "2022-09-01T10:45:59.253Z"
   },
   {
    "duration": 24,
    "start_time": "2022-09-01T10:45:59.284Z"
   },
   {
    "duration": 36,
    "start_time": "2022-09-01T10:45:59.310Z"
   },
   {
    "duration": 23,
    "start_time": "2022-09-01T10:45:59.348Z"
   },
   {
    "duration": 36,
    "start_time": "2022-09-01T10:45:59.372Z"
   },
   {
    "duration": 30,
    "start_time": "2022-09-01T10:45:59.409Z"
   },
   {
    "duration": 0,
    "start_time": "2022-09-01T10:45:59.441Z"
   },
   {
    "duration": 0,
    "start_time": "2022-09-01T10:45:59.442Z"
   },
   {
    "duration": 11,
    "start_time": "2022-09-01T10:46:08.370Z"
   },
   {
    "duration": 3,
    "start_time": "2022-09-01T10:46:48.068Z"
   },
   {
    "duration": 3,
    "start_time": "2022-09-01T10:46:51.926Z"
   },
   {
    "duration": 20,
    "start_time": "2022-09-01T10:46:53.776Z"
   },
   {
    "duration": 10,
    "start_time": "2022-09-01T10:48:06.879Z"
   },
   {
    "duration": 2,
    "start_time": "2022-09-01T10:48:11.281Z"
   },
   {
    "duration": 304,
    "start_time": "2022-09-01T10:48:11.298Z"
   },
   {
    "duration": 10,
    "start_time": "2022-09-01T10:48:11.604Z"
   },
   {
    "duration": 48,
    "start_time": "2022-09-01T10:48:11.615Z"
   },
   {
    "duration": 28,
    "start_time": "2022-09-01T10:48:11.665Z"
   },
   {
    "duration": 34,
    "start_time": "2022-09-01T10:48:11.696Z"
   },
   {
    "duration": 22,
    "start_time": "2022-09-01T10:48:11.731Z"
   },
   {
    "duration": 29,
    "start_time": "2022-09-01T10:48:11.755Z"
   },
   {
    "duration": 44,
    "start_time": "2022-09-01T10:48:11.786Z"
   },
   {
    "duration": 35,
    "start_time": "2022-09-01T10:48:11.832Z"
   },
   {
    "duration": 8,
    "start_time": "2022-09-01T10:48:11.869Z"
   },
   {
    "duration": 19,
    "start_time": "2022-09-01T10:48:11.879Z"
   },
   {
    "duration": 6,
    "start_time": "2022-09-01T10:48:11.900Z"
   },
   {
    "duration": 22,
    "start_time": "2022-09-01T10:48:11.907Z"
   },
   {
    "duration": 5,
    "start_time": "2022-09-01T10:48:11.931Z"
   },
   {
    "duration": 33,
    "start_time": "2022-09-01T10:48:11.937Z"
   },
   {
    "duration": 20,
    "start_time": "2022-09-01T10:48:11.972Z"
   },
   {
    "duration": 18,
    "start_time": "2022-09-01T10:48:11.994Z"
   },
   {
    "duration": 7,
    "start_time": "2022-09-01T10:48:12.013Z"
   },
   {
    "duration": 36,
    "start_time": "2022-09-01T10:48:12.021Z"
   },
   {
    "duration": 13,
    "start_time": "2022-09-01T10:48:12.059Z"
   },
   {
    "duration": 16,
    "start_time": "2022-09-01T10:48:12.073Z"
   },
   {
    "duration": 24,
    "start_time": "2022-09-01T10:48:12.091Z"
   },
   {
    "duration": 40,
    "start_time": "2022-09-01T10:48:12.116Z"
   },
   {
    "duration": 17,
    "start_time": "2022-09-01T10:48:12.157Z"
   },
   {
    "duration": 36,
    "start_time": "2022-09-01T10:48:12.176Z"
   },
   {
    "duration": 8,
    "start_time": "2022-09-01T10:48:12.214Z"
   },
   {
    "duration": 11,
    "start_time": "2022-09-01T10:48:14.482Z"
   },
   {
    "duration": 24,
    "start_time": "2022-09-01T10:48:32.037Z"
   },
   {
    "duration": 18,
    "start_time": "2022-09-01T10:48:46.478Z"
   },
   {
    "duration": 33,
    "start_time": "2022-09-01T10:48:52.584Z"
   },
   {
    "duration": 13,
    "start_time": "2022-09-01T10:49:01.997Z"
   },
   {
    "duration": 3,
    "start_time": "2022-09-01T10:53:16.009Z"
   },
   {
    "duration": 358,
    "start_time": "2022-09-01T10:53:16.038Z"
   },
   {
    "duration": 26,
    "start_time": "2022-09-01T10:53:16.399Z"
   },
   {
    "duration": 17,
    "start_time": "2022-09-01T10:53:16.427Z"
   },
   {
    "duration": 22,
    "start_time": "2022-09-01T10:53:16.446Z"
   },
   {
    "duration": 71,
    "start_time": "2022-09-01T10:53:16.470Z"
   },
   {
    "duration": 55,
    "start_time": "2022-09-01T10:53:16.543Z"
   },
   {
    "duration": 25,
    "start_time": "2022-09-01T10:53:16.600Z"
   },
   {
    "duration": 51,
    "start_time": "2022-09-01T10:53:16.626Z"
   },
   {
    "duration": 34,
    "start_time": "2022-09-01T10:53:16.679Z"
   },
   {
    "duration": 14,
    "start_time": "2022-09-01T10:53:16.715Z"
   },
   {
    "duration": 50,
    "start_time": "2022-09-01T10:53:16.730Z"
   },
   {
    "duration": 50,
    "start_time": "2022-09-01T10:53:16.781Z"
   },
   {
    "duration": 53,
    "start_time": "2022-09-01T10:53:16.833Z"
   },
   {
    "duration": 24,
    "start_time": "2022-09-01T10:53:16.888Z"
   },
   {
    "duration": 36,
    "start_time": "2022-09-01T10:53:16.914Z"
   },
   {
    "duration": 40,
    "start_time": "2022-09-01T10:53:16.952Z"
   },
   {
    "duration": 40,
    "start_time": "2022-09-01T10:53:16.994Z"
   },
   {
    "duration": 39,
    "start_time": "2022-09-01T10:53:17.036Z"
   },
   {
    "duration": 21,
    "start_time": "2022-09-01T10:53:17.077Z"
   },
   {
    "duration": 40,
    "start_time": "2022-09-01T10:53:17.099Z"
   },
   {
    "duration": 11,
    "start_time": "2022-09-01T10:53:19.925Z"
   },
   {
    "duration": 14,
    "start_time": "2022-09-01T10:53:34.087Z"
   },
   {
    "duration": 2,
    "start_time": "2022-09-01T10:53:43.655Z"
   },
   {
    "duration": 325,
    "start_time": "2022-09-01T10:53:43.676Z"
   },
   {
    "duration": 12,
    "start_time": "2022-09-01T10:53:44.003Z"
   },
   {
    "duration": 19,
    "start_time": "2022-09-01T10:53:44.017Z"
   },
   {
    "duration": 21,
    "start_time": "2022-09-01T10:53:44.038Z"
   },
   {
    "duration": 16,
    "start_time": "2022-09-01T10:53:44.061Z"
   },
   {
    "duration": 11,
    "start_time": "2022-09-01T10:53:44.078Z"
   },
   {
    "duration": 12,
    "start_time": "2022-09-01T10:53:44.090Z"
   },
   {
    "duration": 24,
    "start_time": "2022-09-01T10:53:44.103Z"
   },
   {
    "duration": 25,
    "start_time": "2022-09-01T10:53:44.128Z"
   },
   {
    "duration": 7,
    "start_time": "2022-09-01T10:53:44.155Z"
   },
   {
    "duration": 19,
    "start_time": "2022-09-01T10:53:44.164Z"
   },
   {
    "duration": 7,
    "start_time": "2022-09-01T10:53:44.184Z"
   },
   {
    "duration": 35,
    "start_time": "2022-09-01T10:53:44.192Z"
   },
   {
    "duration": 5,
    "start_time": "2022-09-01T10:53:44.230Z"
   },
   {
    "duration": 21,
    "start_time": "2022-09-01T10:53:44.237Z"
   },
   {
    "duration": 22,
    "start_time": "2022-09-01T10:53:44.260Z"
   },
   {
    "duration": 34,
    "start_time": "2022-09-01T10:53:44.284Z"
   },
   {
    "duration": 11,
    "start_time": "2022-09-01T10:53:44.319Z"
   },
   {
    "duration": 23,
    "start_time": "2022-09-01T10:53:44.331Z"
   },
   {
    "duration": 18,
    "start_time": "2022-09-01T10:53:44.356Z"
   },
   {
    "duration": 10,
    "start_time": "2022-09-01T10:53:44.376Z"
   },
   {
    "duration": 31,
    "start_time": "2022-09-01T10:53:44.387Z"
   },
   {
    "duration": 18,
    "start_time": "2022-09-01T10:53:44.420Z"
   },
   {
    "duration": 31,
    "start_time": "2022-09-01T10:53:44.439Z"
   },
   {
    "duration": 40,
    "start_time": "2022-09-01T10:53:44.471Z"
   },
   {
    "duration": 18,
    "start_time": "2022-09-01T10:53:44.512Z"
   },
   {
    "duration": 28,
    "start_time": "2022-09-01T10:53:44.532Z"
   },
   {
    "duration": 23,
    "start_time": "2022-09-01T10:53:44.562Z"
   },
   {
    "duration": 44,
    "start_time": "2022-09-01T10:53:44.587Z"
   },
   {
    "duration": 19,
    "start_time": "2022-09-01T10:53:44.633Z"
   },
   {
    "duration": 21,
    "start_time": "2022-09-01T10:53:47.388Z"
   },
   {
    "duration": 19,
    "start_time": "2022-09-01T10:54:26.032Z"
   },
   {
    "duration": 4,
    "start_time": "2022-09-01T10:55:33.673Z"
   },
   {
    "duration": 3,
    "start_time": "2022-09-01T10:55:35.993Z"
   },
   {
    "duration": 3,
    "start_time": "2022-09-01T10:55:37.974Z"
   },
   {
    "duration": 11,
    "start_time": "2022-09-01T10:55:39.734Z"
   },
   {
    "duration": 20,
    "start_time": "2022-09-01T10:56:41.723Z"
   },
   {
    "duration": 25,
    "start_time": "2022-09-01T10:57:44.658Z"
   },
   {
    "duration": 31,
    "start_time": "2022-09-01T11:03:21.846Z"
   },
   {
    "duration": 24,
    "start_time": "2022-09-01T11:06:26.178Z"
   },
   {
    "duration": 30,
    "start_time": "2022-09-01T11:06:32.152Z"
   },
   {
    "duration": 33,
    "start_time": "2022-09-01T11:06:37.389Z"
   },
   {
    "duration": 3,
    "start_time": "2022-09-01T11:06:53.248Z"
   },
   {
    "duration": 330,
    "start_time": "2022-09-01T11:06:53.253Z"
   },
   {
    "duration": 10,
    "start_time": "2022-09-01T11:06:53.585Z"
   },
   {
    "duration": 45,
    "start_time": "2022-09-01T11:06:53.597Z"
   },
   {
    "duration": 17,
    "start_time": "2022-09-01T11:06:53.644Z"
   },
   {
    "duration": 24,
    "start_time": "2022-09-01T11:06:53.663Z"
   },
   {
    "duration": 27,
    "start_time": "2022-09-01T11:06:53.689Z"
   },
   {
    "duration": 23,
    "start_time": "2022-09-01T11:06:53.718Z"
   },
   {
    "duration": 31,
    "start_time": "2022-09-01T11:06:53.742Z"
   },
   {
    "duration": 36,
    "start_time": "2022-09-01T11:06:53.774Z"
   },
   {
    "duration": 7,
    "start_time": "2022-09-01T11:06:53.813Z"
   },
   {
    "duration": 33,
    "start_time": "2022-09-01T11:06:53.821Z"
   },
   {
    "duration": 12,
    "start_time": "2022-09-01T11:06:53.856Z"
   },
   {
    "duration": 40,
    "start_time": "2022-09-01T11:06:53.869Z"
   },
   {
    "duration": 12,
    "start_time": "2022-09-01T11:06:53.911Z"
   },
   {
    "duration": 17,
    "start_time": "2022-09-01T11:06:53.925Z"
   },
   {
    "duration": 31,
    "start_time": "2022-09-01T11:06:53.944Z"
   },
   {
    "duration": 13,
    "start_time": "2022-09-01T11:06:53.977Z"
   },
   {
    "duration": 12,
    "start_time": "2022-09-01T11:06:53.992Z"
   },
   {
    "duration": 30,
    "start_time": "2022-09-01T11:06:54.006Z"
   },
   {
    "duration": 27,
    "start_time": "2022-09-01T11:06:54.038Z"
   },
   {
    "duration": 31,
    "start_time": "2022-09-01T11:06:54.067Z"
   },
   {
    "duration": 26,
    "start_time": "2022-09-01T11:06:54.100Z"
   },
   {
    "duration": 29,
    "start_time": "2022-09-01T11:06:54.127Z"
   },
   {
    "duration": 26,
    "start_time": "2022-09-01T11:06:54.157Z"
   },
   {
    "duration": 17,
    "start_time": "2022-09-01T11:06:54.184Z"
   },
   {
    "duration": 47,
    "start_time": "2022-09-01T11:06:54.202Z"
   },
   {
    "duration": 17,
    "start_time": "2022-09-01T11:06:54.250Z"
   },
   {
    "duration": 24,
    "start_time": "2022-09-01T11:06:54.269Z"
   },
   {
    "duration": 19,
    "start_time": "2022-09-01T11:06:54.295Z"
   },
   {
    "duration": 36,
    "start_time": "2022-09-01T11:06:54.316Z"
   },
   {
    "duration": 18,
    "start_time": "2022-09-01T11:06:54.353Z"
   },
   {
    "duration": 29,
    "start_time": "2022-09-01T11:06:54.373Z"
   },
   {
    "duration": 23,
    "start_time": "2022-09-01T11:06:54.404Z"
   },
   {
    "duration": 31,
    "start_time": "2022-09-01T11:06:57.489Z"
   },
   {
    "duration": 11,
    "start_time": "2022-09-01T11:07:20.002Z"
   },
   {
    "duration": 25,
    "start_time": "2022-09-01T11:12:14.316Z"
   },
   {
    "duration": 58,
    "start_time": "2022-09-01T11:12:56.955Z"
   },
   {
    "duration": 13,
    "start_time": "2022-09-01T11:13:14.047Z"
   },
   {
    "duration": 11,
    "start_time": "2022-09-01T11:13:21.571Z"
   },
   {
    "duration": 27,
    "start_time": "2022-09-01T11:13:28.019Z"
   },
   {
    "duration": 12,
    "start_time": "2022-09-01T11:19:42.366Z"
   },
   {
    "duration": 1373,
    "start_time": "2022-09-01T11:30:10.276Z"
   },
   {
    "duration": 1380,
    "start_time": "2022-09-01T11:30:22.817Z"
   },
   {
    "duration": 15,
    "start_time": "2022-09-01T11:30:40.300Z"
   },
   {
    "duration": 3,
    "start_time": "2022-09-01T11:42:38.383Z"
   },
   {
    "duration": 26,
    "start_time": "2022-09-01T11:42:57.378Z"
   },
   {
    "duration": 9,
    "start_time": "2022-09-01T11:50:05.002Z"
   },
   {
    "duration": 3,
    "start_time": "2022-09-01T11:50:25.919Z"
   },
   {
    "duration": 336,
    "start_time": "2022-09-01T11:50:25.924Z"
   },
   {
    "duration": 14,
    "start_time": "2022-09-01T11:50:26.262Z"
   },
   {
    "duration": 31,
    "start_time": "2022-09-01T11:50:26.278Z"
   },
   {
    "duration": 15,
    "start_time": "2022-09-01T11:50:26.312Z"
   },
   {
    "duration": 22,
    "start_time": "2022-09-01T11:50:26.329Z"
   },
   {
    "duration": 10,
    "start_time": "2022-09-01T11:50:26.354Z"
   },
   {
    "duration": 17,
    "start_time": "2022-09-01T11:50:26.367Z"
   },
   {
    "duration": 9,
    "start_time": "2022-09-01T11:50:26.386Z"
   },
   {
    "duration": 27,
    "start_time": "2022-09-01T11:50:26.396Z"
   },
   {
    "duration": 24,
    "start_time": "2022-09-01T11:50:26.426Z"
   },
   {
    "duration": 8,
    "start_time": "2022-09-01T11:50:26.452Z"
   },
   {
    "duration": 19,
    "start_time": "2022-09-01T11:50:26.462Z"
   },
   {
    "duration": 9,
    "start_time": "2022-09-01T11:50:26.483Z"
   },
   {
    "duration": 34,
    "start_time": "2022-09-01T11:50:26.494Z"
   },
   {
    "duration": 5,
    "start_time": "2022-09-01T11:50:26.529Z"
   },
   {
    "duration": 18,
    "start_time": "2022-09-01T11:50:26.536Z"
   },
   {
    "duration": 20,
    "start_time": "2022-09-01T11:50:26.555Z"
   },
   {
    "duration": 35,
    "start_time": "2022-09-01T11:50:26.577Z"
   },
   {
    "duration": 8,
    "start_time": "2022-09-01T11:50:26.614Z"
   },
   {
    "duration": 11,
    "start_time": "2022-09-01T11:50:26.623Z"
   },
   {
    "duration": 17,
    "start_time": "2022-09-01T11:50:26.635Z"
   },
   {
    "duration": 17,
    "start_time": "2022-09-01T11:50:26.653Z"
   },
   {
    "duration": 9,
    "start_time": "2022-09-01T11:50:26.672Z"
   },
   {
    "duration": 30,
    "start_time": "2022-09-01T11:50:26.683Z"
   },
   {
    "duration": 17,
    "start_time": "2022-09-01T11:50:26.714Z"
   },
   {
    "duration": 7,
    "start_time": "2022-09-01T11:50:26.733Z"
   },
   {
    "duration": 35,
    "start_time": "2022-09-01T11:50:26.741Z"
   },
   {
    "duration": 42,
    "start_time": "2022-09-01T11:50:26.779Z"
   },
   {
    "duration": 18,
    "start_time": "2022-09-01T11:50:26.823Z"
   },
   {
    "duration": 9,
    "start_time": "2022-09-01T11:50:26.843Z"
   },
   {
    "duration": 33,
    "start_time": "2022-09-01T11:50:26.853Z"
   },
   {
    "duration": 39,
    "start_time": "2022-09-01T11:50:26.887Z"
   },
   {
    "duration": 16,
    "start_time": "2022-09-01T11:50:26.928Z"
   },
   {
    "duration": 20,
    "start_time": "2022-09-01T11:50:26.945Z"
   },
   {
    "duration": 54,
    "start_time": "2022-09-01T11:50:26.967Z"
   },
   {
    "duration": 9,
    "start_time": "2022-09-01T11:50:31.620Z"
   },
   {
    "duration": 11,
    "start_time": "2022-09-01T11:51:05.467Z"
   },
   {
    "duration": 17,
    "start_time": "2022-09-01T11:55:46.218Z"
   },
   {
    "duration": 3,
    "start_time": "2022-09-01T11:55:51.714Z"
   },
   {
    "duration": 312,
    "start_time": "2022-09-01T11:55:51.719Z"
   },
   {
    "duration": 11,
    "start_time": "2022-09-01T11:55:52.033Z"
   },
   {
    "duration": 15,
    "start_time": "2022-09-01T11:55:52.045Z"
   },
   {
    "duration": 12,
    "start_time": "2022-09-01T11:55:52.062Z"
   },
   {
    "duration": 14,
    "start_time": "2022-09-01T11:55:52.077Z"
   },
   {
    "duration": 17,
    "start_time": "2022-09-01T11:55:52.092Z"
   },
   {
    "duration": 2,
    "start_time": "2022-09-01T11:55:52.110Z"
   },
   {
    "duration": 16,
    "start_time": "2022-09-01T11:55:52.114Z"
   },
   {
    "duration": 19,
    "start_time": "2022-09-01T11:55:56.858Z"
   },
   {
    "duration": 13,
    "start_time": "2022-09-01T11:56:40.889Z"
   },
   {
    "duration": 3,
    "start_time": "2022-09-01T11:57:07.203Z"
   },
   {
    "duration": 381,
    "start_time": "2022-09-01T11:57:07.209Z"
   },
   {
    "duration": 10,
    "start_time": "2022-09-01T11:57:07.593Z"
   },
   {
    "duration": 14,
    "start_time": "2022-09-01T11:57:07.605Z"
   },
   {
    "duration": 8,
    "start_time": "2022-09-01T11:57:07.621Z"
   },
   {
    "duration": 15,
    "start_time": "2022-09-01T11:57:07.631Z"
   },
   {
    "duration": 19,
    "start_time": "2022-09-01T11:57:07.648Z"
   },
   {
    "duration": 6,
    "start_time": "2022-09-01T11:57:07.669Z"
   },
   {
    "duration": 11,
    "start_time": "2022-09-01T11:57:07.677Z"
   },
   {
    "duration": 24,
    "start_time": "2022-09-01T11:57:07.690Z"
   },
   {
    "duration": 19,
    "start_time": "2022-09-01T11:57:07.717Z"
   },
   {
    "duration": 8,
    "start_time": "2022-09-01T11:57:07.737Z"
   },
   {
    "duration": 16,
    "start_time": "2022-09-01T11:57:07.746Z"
   },
   {
    "duration": 4,
    "start_time": "2022-09-01T11:57:07.764Z"
   },
   {
    "duration": 48,
    "start_time": "2022-09-01T11:57:07.770Z"
   },
   {
    "duration": 5,
    "start_time": "2022-09-01T11:57:07.820Z"
   },
   {
    "duration": 43,
    "start_time": "2022-09-01T11:57:07.827Z"
   },
   {
    "duration": 19,
    "start_time": "2022-09-01T11:57:07.872Z"
   },
   {
    "duration": 13,
    "start_time": "2022-09-01T11:57:07.893Z"
   },
   {
    "duration": 7,
    "start_time": "2022-09-01T11:57:07.909Z"
   },
   {
    "duration": 10,
    "start_time": "2022-09-01T11:57:07.917Z"
   },
   {
    "duration": 14,
    "start_time": "2022-09-01T11:57:07.928Z"
   },
   {
    "duration": 23,
    "start_time": "2022-09-01T11:57:07.943Z"
   },
   {
    "duration": 9,
    "start_time": "2022-09-01T11:57:07.968Z"
   },
   {
    "duration": 18,
    "start_time": "2022-09-01T11:57:07.979Z"
   },
   {
    "duration": 17,
    "start_time": "2022-09-01T11:57:08.008Z"
   },
   {
    "duration": 7,
    "start_time": "2022-09-01T11:57:08.027Z"
   },
   {
    "duration": 39,
    "start_time": "2022-09-01T11:57:08.036Z"
   },
   {
    "duration": 40,
    "start_time": "2022-09-01T11:57:08.079Z"
   },
   {
    "duration": 17,
    "start_time": "2022-09-01T11:57:08.121Z"
   },
   {
    "duration": 8,
    "start_time": "2022-09-01T11:57:08.139Z"
   },
   {
    "duration": 54,
    "start_time": "2022-09-01T11:57:08.149Z"
   },
   {
    "duration": 26,
    "start_time": "2022-09-01T11:57:08.204Z"
   },
   {
    "duration": 27,
    "start_time": "2022-09-01T11:57:08.231Z"
   },
   {
    "duration": 28,
    "start_time": "2022-09-01T11:57:08.260Z"
   },
   {
    "duration": 43,
    "start_time": "2022-09-01T11:57:08.290Z"
   },
   {
    "duration": 44,
    "start_time": "2022-09-01T11:59:25.571Z"
   },
   {
    "duration": 19,
    "start_time": "2022-09-01T11:59:34.108Z"
   },
   {
    "duration": 51,
    "start_time": "2022-09-01T15:50:12.377Z"
   },
   {
    "duration": 5,
    "start_time": "2022-09-01T15:52:33.972Z"
   },
   {
    "duration": 1248,
    "start_time": "2022-09-01T15:52:50.545Z"
   },
   {
    "duration": 1362,
    "start_time": "2022-09-01T15:52:51.795Z"
   },
   {
    "duration": 10,
    "start_time": "2022-09-01T15:52:53.159Z"
   },
   {
    "duration": 13,
    "start_time": "2022-09-01T15:52:53.171Z"
   },
   {
    "duration": 3,
    "start_time": "2022-09-01T15:52:53.185Z"
   },
   {
    "duration": 12,
    "start_time": "2022-09-01T15:52:53.189Z"
   },
   {
    "duration": 10,
    "start_time": "2022-09-01T15:52:53.202Z"
   },
   {
    "duration": 4,
    "start_time": "2022-09-01T15:52:53.213Z"
   },
   {
    "duration": 8,
    "start_time": "2022-09-01T15:52:53.218Z"
   },
   {
    "duration": 17,
    "start_time": "2022-09-01T15:52:53.228Z"
   },
   {
    "duration": 17,
    "start_time": "2022-09-01T15:52:53.246Z"
   },
   {
    "duration": 7,
    "start_time": "2022-09-01T15:52:53.265Z"
   },
   {
    "duration": 16,
    "start_time": "2022-09-01T15:52:53.298Z"
   },
   {
    "duration": 2,
    "start_time": "2022-09-01T15:52:53.316Z"
   },
   {
    "duration": 22,
    "start_time": "2022-09-01T15:52:53.320Z"
   },
   {
    "duration": 5,
    "start_time": "2022-09-01T15:52:53.343Z"
   },
   {
    "duration": 15,
    "start_time": "2022-09-01T15:52:53.349Z"
   },
   {
    "duration": 35,
    "start_time": "2022-09-01T15:52:53.365Z"
   },
   {
    "duration": 12,
    "start_time": "2022-09-01T15:52:53.402Z"
   },
   {
    "duration": 8,
    "start_time": "2022-09-01T15:52:53.416Z"
   },
   {
    "duration": 3,
    "start_time": "2022-09-01T15:52:53.425Z"
   },
   {
    "duration": 9,
    "start_time": "2022-09-01T15:52:53.429Z"
   },
   {
    "duration": 13,
    "start_time": "2022-09-01T15:52:53.440Z"
   },
   {
    "duration": 9,
    "start_time": "2022-09-01T15:52:53.455Z"
   },
   {
    "duration": 36,
    "start_time": "2022-09-01T15:52:53.465Z"
   },
   {
    "duration": 14,
    "start_time": "2022-09-01T15:52:53.503Z"
   },
   {
    "duration": 6,
    "start_time": "2022-09-01T15:52:53.519Z"
   },
   {
    "duration": 30,
    "start_time": "2022-09-01T15:52:53.527Z"
   },
   {
    "duration": 13,
    "start_time": "2022-09-01T15:52:53.558Z"
   },
   {
    "duration": 34,
    "start_time": "2022-09-01T15:52:53.572Z"
   },
   {
    "duration": 7,
    "start_time": "2022-09-01T15:52:53.607Z"
   },
   {
    "duration": 28,
    "start_time": "2022-09-01T15:52:53.615Z"
   },
   {
    "duration": 21,
    "start_time": "2022-09-01T15:52:53.645Z"
   },
   {
    "duration": 38,
    "start_time": "2022-09-01T15:52:53.667Z"
   },
   {
    "duration": 20,
    "start_time": "2022-09-01T15:52:53.707Z"
   },
   {
    "duration": 27,
    "start_time": "2022-09-01T15:52:53.728Z"
   },
   {
    "duration": 19,
    "start_time": "2022-09-01T15:52:58.041Z"
   },
   {
    "duration": 65,
    "start_time": "2022-09-01T16:17:12.894Z"
   },
   {
    "duration": 14,
    "start_time": "2022-09-01T16:17:30.804Z"
   },
   {
    "duration": 11,
    "start_time": "2022-09-01T16:17:36.257Z"
   },
   {
    "duration": 12,
    "start_time": "2022-09-01T16:19:51.471Z"
   },
   {
    "duration": 3,
    "start_time": "2022-09-01T16:21:36.548Z"
   },
   {
    "duration": 3,
    "start_time": "2022-09-01T16:21:44.725Z"
   },
   {
    "duration": 11,
    "start_time": "2022-09-01T16:22:04.973Z"
   },
   {
    "duration": 3,
    "start_time": "2022-09-01T16:22:24.513Z"
   },
   {
    "duration": 297,
    "start_time": "2022-09-01T16:22:24.518Z"
   },
   {
    "duration": 9,
    "start_time": "2022-09-01T16:22:24.817Z"
   },
   {
    "duration": 10,
    "start_time": "2022-09-01T16:22:24.827Z"
   },
   {
    "duration": 6,
    "start_time": "2022-09-01T16:22:24.839Z"
   },
   {
    "duration": 10,
    "start_time": "2022-09-01T16:22:24.846Z"
   },
   {
    "duration": 11,
    "start_time": "2022-09-01T16:22:24.857Z"
   },
   {
    "duration": 4,
    "start_time": "2022-09-01T16:22:24.870Z"
   },
   {
    "duration": 27,
    "start_time": "2022-09-01T16:22:24.875Z"
   },
   {
    "duration": 28,
    "start_time": "2022-09-01T16:22:24.903Z"
   },
   {
    "duration": 19,
    "start_time": "2022-09-01T16:22:24.935Z"
   },
   {
    "duration": 12,
    "start_time": "2022-09-01T16:22:24.955Z"
   },
   {
    "duration": 19,
    "start_time": "2022-09-01T16:22:24.968Z"
   },
   {
    "duration": 9,
    "start_time": "2022-09-01T16:22:24.989Z"
   },
   {
    "duration": 22,
    "start_time": "2022-09-01T16:22:25.000Z"
   },
   {
    "duration": 4,
    "start_time": "2022-09-01T16:22:25.024Z"
   },
   {
    "duration": 15,
    "start_time": "2022-09-01T16:22:25.029Z"
   },
   {
    "duration": 14,
    "start_time": "2022-09-01T16:22:25.046Z"
   },
   {
    "duration": 12,
    "start_time": "2022-09-01T16:22:25.062Z"
   },
   {
    "duration": 26,
    "start_time": "2022-09-01T16:22:25.075Z"
   },
   {
    "duration": 6,
    "start_time": "2022-09-01T16:22:25.102Z"
   },
   {
    "duration": 13,
    "start_time": "2022-09-01T16:22:25.109Z"
   },
   {
    "duration": 15,
    "start_time": "2022-09-01T16:22:25.123Z"
   },
   {
    "duration": 10,
    "start_time": "2022-09-01T16:22:25.140Z"
   },
   {
    "duration": 13,
    "start_time": "2022-09-01T16:22:25.152Z"
   },
   {
    "duration": 43,
    "start_time": "2022-09-01T16:22:25.167Z"
   },
   {
    "duration": 10,
    "start_time": "2022-09-01T16:22:25.211Z"
   },
   {
    "duration": 45,
    "start_time": "2022-09-01T16:22:25.222Z"
   },
   {
    "duration": 33,
    "start_time": "2022-09-01T16:22:25.269Z"
   },
   {
    "duration": 15,
    "start_time": "2022-09-01T16:22:25.303Z"
   },
   {
    "duration": 9,
    "start_time": "2022-09-01T16:22:25.320Z"
   },
   {
    "duration": 30,
    "start_time": "2022-09-01T16:22:25.331Z"
   },
   {
    "duration": 36,
    "start_time": "2022-09-01T16:22:25.363Z"
   },
   {
    "duration": 16,
    "start_time": "2022-09-01T16:22:25.401Z"
   },
   {
    "duration": 18,
    "start_time": "2022-09-01T16:22:25.419Z"
   },
   {
    "duration": 30,
    "start_time": "2022-09-01T16:22:25.439Z"
   },
   {
    "duration": 17,
    "start_time": "2022-09-01T16:22:25.499Z"
   },
   {
    "duration": 20,
    "start_time": "2022-09-01T16:22:28.936Z"
   },
   {
    "duration": 17,
    "start_time": "2022-09-01T16:32:10.581Z"
   },
   {
    "duration": 3,
    "start_time": "2022-09-01T16:32:39.852Z"
   },
   {
    "duration": 10,
    "start_time": "2022-09-01T16:49:10.690Z"
   },
   {
    "duration": 29,
    "start_time": "2022-09-01T16:49:21.196Z"
   },
   {
    "duration": 16,
    "start_time": "2022-09-01T16:50:08.529Z"
   },
   {
    "duration": 17,
    "start_time": "2022-09-01T16:50:42.614Z"
   },
   {
    "duration": 18,
    "start_time": "2022-09-01T17:36:47.382Z"
   },
   {
    "duration": 5,
    "start_time": "2022-09-01T17:36:54.449Z"
   },
   {
    "duration": 16,
    "start_time": "2022-09-01T19:03:13.731Z"
   },
   {
    "duration": 18,
    "start_time": "2022-09-01T19:05:39.822Z"
   },
   {
    "duration": 18,
    "start_time": "2022-09-01T19:24:18.987Z"
   },
   {
    "duration": 6,
    "start_time": "2022-09-01T19:46:28.076Z"
   },
   {
    "duration": 10,
    "start_time": "2022-09-01T19:47:23.751Z"
   },
   {
    "duration": 3,
    "start_time": "2022-09-01T19:48:19.993Z"
   },
   {
    "duration": 270,
    "start_time": "2022-09-01T19:48:20.000Z"
   },
   {
    "duration": 9,
    "start_time": "2022-09-01T19:48:20.272Z"
   },
   {
    "duration": 9,
    "start_time": "2022-09-01T19:48:20.282Z"
   },
   {
    "duration": 6,
    "start_time": "2022-09-01T19:48:20.293Z"
   },
   {
    "duration": 14,
    "start_time": "2022-09-01T19:48:20.300Z"
   },
   {
    "duration": 9,
    "start_time": "2022-09-01T19:48:20.315Z"
   },
   {
    "duration": 4,
    "start_time": "2022-09-01T19:48:20.325Z"
   },
   {
    "duration": 8,
    "start_time": "2022-09-01T19:48:20.330Z"
   },
   {
    "duration": 23,
    "start_time": "2022-09-01T19:48:20.339Z"
   },
   {
    "duration": 39,
    "start_time": "2022-09-01T19:48:20.364Z"
   },
   {
    "duration": 7,
    "start_time": "2022-09-01T19:48:20.404Z"
   },
   {
    "duration": 15,
    "start_time": "2022-09-01T19:48:20.413Z"
   },
   {
    "duration": 4,
    "start_time": "2022-09-01T19:48:20.429Z"
   },
   {
    "duration": 23,
    "start_time": "2022-09-01T19:48:20.434Z"
   },
   {
    "duration": 4,
    "start_time": "2022-09-01T19:48:20.458Z"
   },
   {
    "duration": 41,
    "start_time": "2022-09-01T19:48:20.464Z"
   },
   {
    "duration": 10,
    "start_time": "2022-09-01T19:48:20.506Z"
   },
   {
    "duration": 6,
    "start_time": "2022-09-01T19:48:20.518Z"
   },
   {
    "duration": 15,
    "start_time": "2022-09-01T19:48:20.526Z"
   },
   {
    "duration": 6,
    "start_time": "2022-09-01T19:48:20.543Z"
   },
   {
    "duration": 7,
    "start_time": "2022-09-01T19:48:20.550Z"
   },
   {
    "duration": 40,
    "start_time": "2022-09-01T19:48:20.558Z"
   },
   {
    "duration": 12,
    "start_time": "2022-09-01T19:48:20.600Z"
   },
   {
    "duration": 10,
    "start_time": "2022-09-01T19:48:20.613Z"
   },
   {
    "duration": 11,
    "start_time": "2022-09-01T19:48:20.625Z"
   },
   {
    "duration": 15,
    "start_time": "2022-09-01T19:48:20.637Z"
   },
   {
    "duration": 7,
    "start_time": "2022-09-01T19:48:20.653Z"
   },
   {
    "duration": 60,
    "start_time": "2022-09-01T19:48:20.661Z"
   },
   {
    "duration": 14,
    "start_time": "2022-09-01T19:48:20.722Z"
   },
   {
    "duration": 6,
    "start_time": "2022-09-01T19:48:20.737Z"
   },
   {
    "duration": 7,
    "start_time": "2022-09-01T19:48:20.745Z"
   },
   {
    "duration": 8,
    "start_time": "2022-09-01T19:48:20.754Z"
   },
   {
    "duration": 57,
    "start_time": "2022-09-01T19:48:20.763Z"
   },
   {
    "duration": 22,
    "start_time": "2022-09-01T19:48:20.822Z"
   },
   {
    "duration": 16,
    "start_time": "2022-09-01T19:48:20.845Z"
   },
   {
    "duration": 46,
    "start_time": "2022-09-01T19:48:20.863Z"
   },
   {
    "duration": 31,
    "start_time": "2022-09-01T19:48:25.398Z"
   },
   {
    "duration": 9,
    "start_time": "2022-09-01T19:49:27.136Z"
   },
   {
    "duration": 21,
    "start_time": "2022-09-01T19:51:06.915Z"
   },
   {
    "duration": 31,
    "start_time": "2022-09-01T19:51:21.769Z"
   },
   {
    "duration": 19,
    "start_time": "2022-09-01T19:52:03.117Z"
   },
   {
    "duration": 19,
    "start_time": "2022-09-01T19:53:20.878Z"
   },
   {
    "duration": 139,
    "start_time": "2022-09-01T19:59:05.316Z"
   },
   {
    "duration": 69,
    "start_time": "2022-09-01T19:59:11.688Z"
   },
   {
    "duration": 147,
    "start_time": "2022-09-01T19:59:31.782Z"
   },
   {
    "duration": 92,
    "start_time": "2022-09-01T20:03:54.518Z"
   },
   {
    "duration": 99,
    "start_time": "2022-09-01T20:04:00.585Z"
   },
   {
    "duration": 6,
    "start_time": "2022-09-01T20:04:20.719Z"
   },
   {
    "duration": 128,
    "start_time": "2022-09-01T20:04:25.554Z"
   },
   {
    "duration": 5,
    "start_time": "2022-09-01T20:04:32.718Z"
   },
   {
    "duration": 6,
    "start_time": "2022-09-01T20:04:35.921Z"
   },
   {
    "duration": 25,
    "start_time": "2022-09-01T20:06:17.550Z"
   },
   {
    "duration": 5,
    "start_time": "2022-09-01T20:19:55.147Z"
   },
   {
    "duration": 27,
    "start_time": "2022-09-01T20:19:59.342Z"
   },
   {
    "duration": 4,
    "start_time": "2022-09-01T20:25:04.725Z"
   },
   {
    "duration": 42,
    "start_time": "2022-09-01T20:25:07.528Z"
   },
   {
    "duration": 4,
    "start_time": "2022-09-01T20:25:51.655Z"
   },
   {
    "duration": 934,
    "start_time": "2022-09-01T20:25:56.438Z"
   },
   {
    "duration": 1012,
    "start_time": "2022-09-01T20:25:59.760Z"
   },
   {
    "duration": 967,
    "start_time": "2022-09-01T20:26:07.749Z"
   },
   {
    "duration": 24,
    "start_time": "2022-09-01T20:28:11.119Z"
   },
   {
    "duration": 20,
    "start_time": "2022-09-01T20:30:33.064Z"
   },
   {
    "duration": 183,
    "start_time": "2022-09-01T20:31:20.891Z"
   },
   {
    "duration": 53,
    "start_time": "2022-09-01T20:31:40.099Z"
   },
   {
    "duration": 7,
    "start_time": "2022-09-01T20:37:04.933Z"
   },
   {
    "duration": 97,
    "start_time": "2022-09-01T20:37:10.375Z"
   },
   {
    "duration": 95,
    "start_time": "2022-09-01T20:37:22.770Z"
   },
   {
    "duration": 48,
    "start_time": "2022-09-04T07:38:59.984Z"
   },
   {
    "duration": 1298,
    "start_time": "2022-09-04T07:39:13.818Z"
   },
   {
    "duration": 838,
    "start_time": "2022-09-04T07:39:15.118Z"
   },
   {
    "duration": 12,
    "start_time": "2022-09-04T07:39:15.958Z"
   },
   {
    "duration": 15,
    "start_time": "2022-09-04T07:39:15.972Z"
   },
   {
    "duration": 3,
    "start_time": "2022-09-04T07:39:15.989Z"
   },
   {
    "duration": 16,
    "start_time": "2022-09-04T07:39:15.993Z"
   },
   {
    "duration": 12,
    "start_time": "2022-09-04T07:39:16.010Z"
   },
   {
    "duration": 7,
    "start_time": "2022-09-04T07:39:16.023Z"
   },
   {
    "duration": 10,
    "start_time": "2022-09-04T07:39:16.032Z"
   },
   {
    "duration": 21,
    "start_time": "2022-09-04T07:39:16.045Z"
   },
   {
    "duration": 40,
    "start_time": "2022-09-04T07:39:16.067Z"
   },
   {
    "duration": 9,
    "start_time": "2022-09-04T07:39:16.109Z"
   },
   {
    "duration": 21,
    "start_time": "2022-09-04T07:39:16.119Z"
   },
   {
    "duration": 7,
    "start_time": "2022-09-04T07:39:16.141Z"
   },
   {
    "duration": 25,
    "start_time": "2022-09-04T07:39:16.149Z"
   },
   {
    "duration": 27,
    "start_time": "2022-09-04T07:39:16.176Z"
   },
   {
    "duration": 16,
    "start_time": "2022-09-04T07:39:16.205Z"
   },
   {
    "duration": 17,
    "start_time": "2022-09-04T07:39:16.223Z"
   },
   {
    "duration": 8,
    "start_time": "2022-09-04T07:39:16.242Z"
   },
   {
    "duration": 18,
    "start_time": "2022-09-04T07:39:16.251Z"
   },
   {
    "duration": 35,
    "start_time": "2022-09-04T07:39:16.271Z"
   },
   {
    "duration": 8,
    "start_time": "2022-09-04T07:39:16.308Z"
   },
   {
    "duration": 13,
    "start_time": "2022-09-04T07:39:16.317Z"
   },
   {
    "duration": 19,
    "start_time": "2022-09-04T07:39:16.331Z"
   },
   {
    "duration": 11,
    "start_time": "2022-09-04T07:39:16.352Z"
   },
   {
    "duration": 16,
    "start_time": "2022-09-04T07:39:16.364Z"
   },
   {
    "duration": 21,
    "start_time": "2022-09-04T07:39:16.403Z"
   },
   {
    "duration": 8,
    "start_time": "2022-09-04T07:39:16.428Z"
   },
   {
    "duration": 42,
    "start_time": "2022-09-04T07:39:16.437Z"
   },
   {
    "duration": 39,
    "start_time": "2022-09-04T07:39:16.480Z"
   },
   {
    "duration": 8,
    "start_time": "2022-09-04T07:39:16.521Z"
   },
   {
    "duration": 18,
    "start_time": "2022-09-04T07:39:16.531Z"
   },
   {
    "duration": 11,
    "start_time": "2022-09-04T07:39:16.551Z"
   },
   {
    "duration": 53,
    "start_time": "2022-09-04T07:39:16.564Z"
   },
   {
    "duration": 26,
    "start_time": "2022-09-04T07:39:16.618Z"
   },
   {
    "duration": 19,
    "start_time": "2022-09-04T07:39:16.646Z"
   },
   {
    "duration": 45,
    "start_time": "2022-09-04T07:39:16.667Z"
   },
   {
    "duration": 33,
    "start_time": "2022-09-04T07:39:16.713Z"
   },
   {
    "duration": 22,
    "start_time": "2022-09-04T07:39:16.747Z"
   },
   {
    "duration": 24,
    "start_time": "2022-09-04T07:39:20.680Z"
   },
   {
    "duration": 34,
    "start_time": "2022-09-04T07:40:58.834Z"
   },
   {
    "duration": 40,
    "start_time": "2022-09-04T07:41:38.940Z"
   },
   {
    "duration": 33,
    "start_time": "2022-09-04T07:42:53.961Z"
   },
   {
    "duration": 1249,
    "start_time": "2022-09-04T07:59:03.578Z"
   },
   {
    "duration": 11,
    "start_time": "2022-09-04T07:59:28.230Z"
   },
   {
    "duration": 3,
    "start_time": "2022-09-04T07:59:54.730Z"
   },
   {
    "duration": 320,
    "start_time": "2022-09-04T07:59:54.735Z"
   },
   {
    "duration": 12,
    "start_time": "2022-09-04T07:59:55.057Z"
   },
   {
    "duration": 24,
    "start_time": "2022-09-04T07:59:55.070Z"
   },
   {
    "duration": 21,
    "start_time": "2022-09-04T07:59:55.096Z"
   },
   {
    "duration": 33,
    "start_time": "2022-09-04T07:59:55.119Z"
   },
   {
    "duration": 32,
    "start_time": "2022-09-04T07:59:55.154Z"
   },
   {
    "duration": 34,
    "start_time": "2022-09-04T07:59:55.187Z"
   },
   {
    "duration": 18,
    "start_time": "2022-09-04T07:59:55.222Z"
   },
   {
    "duration": 29,
    "start_time": "2022-09-04T07:59:55.242Z"
   },
   {
    "duration": 43,
    "start_time": "2022-09-04T07:59:55.274Z"
   },
   {
    "duration": 32,
    "start_time": "2022-09-04T07:59:55.318Z"
   },
   {
    "duration": 29,
    "start_time": "2022-09-04T07:59:55.352Z"
   },
   {
    "duration": 27,
    "start_time": "2022-09-04T07:59:55.383Z"
   },
   {
    "duration": 29,
    "start_time": "2022-09-04T07:59:55.412Z"
   },
   {
    "duration": 46,
    "start_time": "2022-09-04T07:59:55.443Z"
   },
   {
    "duration": 8,
    "start_time": "2022-09-04T07:59:55.491Z"
   },
   {
    "duration": 43,
    "start_time": "2022-09-04T07:59:55.500Z"
   },
   {
    "duration": 19,
    "start_time": "2022-09-04T07:59:55.544Z"
   },
   {
    "duration": 10,
    "start_time": "2022-09-04T07:59:55.565Z"
   },
   {
    "duration": 35,
    "start_time": "2022-09-04T07:59:55.577Z"
   },
   {
    "duration": 14,
    "start_time": "2022-09-04T07:59:55.614Z"
   },
   {
    "duration": 36,
    "start_time": "2022-09-04T07:59:55.630Z"
   },
   {
    "duration": 30,
    "start_time": "2022-09-04T07:59:55.667Z"
   },
   {
    "duration": 48,
    "start_time": "2022-09-04T07:59:55.699Z"
   },
   {
    "duration": 19,
    "start_time": "2022-09-04T07:59:55.749Z"
   },
   {
    "duration": 24,
    "start_time": "2022-09-04T07:59:55.769Z"
   },
   {
    "duration": 40,
    "start_time": "2022-09-04T07:59:55.795Z"
   },
   {
    "duration": 25,
    "start_time": "2022-09-04T07:59:55.838Z"
   },
   {
    "duration": 62,
    "start_time": "2022-09-04T07:59:55.865Z"
   },
   {
    "duration": 21,
    "start_time": "2022-09-04T07:59:55.929Z"
   },
   {
    "duration": 18,
    "start_time": "2022-09-04T07:59:55.952Z"
   },
   {
    "duration": 21,
    "start_time": "2022-09-04T07:59:55.971Z"
   },
   {
    "duration": 9,
    "start_time": "2022-09-04T07:59:58.510Z"
   },
   {
    "duration": 21,
    "start_time": "2022-09-04T08:00:07.013Z"
   },
   {
    "duration": 4,
    "start_time": "2022-09-04T08:04:27.276Z"
   },
   {
    "duration": 5,
    "start_time": "2022-09-04T08:04:43.918Z"
   },
   {
    "duration": 8349,
    "start_time": "2022-09-04T08:04:46.395Z"
   },
   {
    "duration": 3,
    "start_time": "2022-09-04T08:05:16.782Z"
   },
   {
    "duration": 308,
    "start_time": "2022-09-04T08:05:16.789Z"
   },
   {
    "duration": 12,
    "start_time": "2022-09-04T08:05:17.099Z"
   },
   {
    "duration": 11,
    "start_time": "2022-09-04T08:05:17.112Z"
   },
   {
    "duration": 7,
    "start_time": "2022-09-04T08:05:17.126Z"
   },
   {
    "duration": 13,
    "start_time": "2022-09-04T08:05:17.134Z"
   },
   {
    "duration": 25,
    "start_time": "2022-09-04T08:05:17.149Z"
   },
   {
    "duration": 16,
    "start_time": "2022-09-04T08:05:17.176Z"
   },
   {
    "duration": 8,
    "start_time": "2022-09-04T08:05:17.194Z"
   },
   {
    "duration": 7,
    "start_time": "2022-09-04T08:05:17.204Z"
   },
   {
    "duration": 20,
    "start_time": "2022-09-04T08:05:17.214Z"
   },
   {
    "duration": 22,
    "start_time": "2022-09-04T08:05:17.236Z"
   },
   {
    "duration": 8,
    "start_time": "2022-09-04T08:05:17.260Z"
   },
   {
    "duration": 15,
    "start_time": "2022-09-04T08:05:17.304Z"
   },
   {
    "duration": 6,
    "start_time": "2022-09-04T08:05:17.320Z"
   },
   {
    "duration": 24,
    "start_time": "2022-09-04T08:05:17.328Z"
   },
   {
    "duration": 5,
    "start_time": "2022-09-04T08:05:17.354Z"
   },
   {
    "duration": 20,
    "start_time": "2022-09-04T08:05:17.360Z"
   },
   {
    "duration": 35,
    "start_time": "2022-09-04T08:05:17.382Z"
   },
   {
    "duration": 8,
    "start_time": "2022-09-04T08:05:17.419Z"
   },
   {
    "duration": 22,
    "start_time": "2022-09-04T08:05:17.429Z"
   },
   {
    "duration": 8,
    "start_time": "2022-09-04T08:05:17.453Z"
   },
   {
    "duration": 28,
    "start_time": "2022-09-04T08:05:17.462Z"
   },
   {
    "duration": 23,
    "start_time": "2022-09-04T08:05:17.492Z"
   },
   {
    "duration": 23,
    "start_time": "2022-09-04T08:05:17.516Z"
   },
   {
    "duration": 11,
    "start_time": "2022-09-04T08:05:17.541Z"
   },
   {
    "duration": 27,
    "start_time": "2022-09-04T08:05:17.554Z"
   },
   {
    "duration": 22,
    "start_time": "2022-09-04T08:05:17.583Z"
   },
   {
    "duration": 8,
    "start_time": "2022-09-04T08:05:17.609Z"
   },
   {
    "duration": 38,
    "start_time": "2022-09-04T08:05:17.619Z"
   },
   {
    "duration": 19,
    "start_time": "2022-09-04T08:05:17.658Z"
   },
   {
    "duration": 31,
    "start_time": "2022-09-04T08:05:17.679Z"
   },
   {
    "duration": 9,
    "start_time": "2022-09-04T08:05:17.712Z"
   },
   {
    "duration": 14,
    "start_time": "2022-09-04T08:05:17.723Z"
   },
   {
    "duration": 40,
    "start_time": "2022-09-04T08:05:17.739Z"
   },
   {
    "duration": 36,
    "start_time": "2022-09-04T08:05:17.780Z"
   },
   {
    "duration": 17,
    "start_time": "2022-09-04T08:05:17.818Z"
   },
   {
    "duration": 21,
    "start_time": "2022-09-04T08:05:17.837Z"
   },
   {
    "duration": 56,
    "start_time": "2022-09-04T08:05:17.859Z"
   },
   {
    "duration": 22,
    "start_time": "2022-09-04T08:05:17.917Z"
   },
   {
    "duration": 28,
    "start_time": "2022-09-04T08:05:17.941Z"
   },
   {
    "duration": 4,
    "start_time": "2022-09-04T08:05:17.971Z"
   },
   {
    "duration": 29,
    "start_time": "2022-09-04T08:05:17.976Z"
   },
   {
    "duration": 115,
    "start_time": "2022-09-04T08:05:24.777Z"
   },
   {
    "duration": 13,
    "start_time": "2022-09-04T08:18:36.824Z"
   },
   {
    "duration": 18,
    "start_time": "2022-09-04T08:23:25.815Z"
   },
   {
    "duration": 18,
    "start_time": "2022-09-04T08:23:57.435Z"
   },
   {
    "duration": 49,
    "start_time": "2022-09-04T08:33:59.137Z"
   },
   {
    "duration": 86,
    "start_time": "2022-09-04T08:34:21.105Z"
   },
   {
    "duration": 48,
    "start_time": "2022-09-04T08:34:38.282Z"
   },
   {
    "duration": 49,
    "start_time": "2022-09-04T08:34:43.786Z"
   },
   {
    "duration": 50,
    "start_time": "2022-09-04T08:34:58.321Z"
   },
   {
    "duration": 53,
    "start_time": "2022-09-04T08:36:09.826Z"
   },
   {
    "duration": 13,
    "start_time": "2022-09-04T08:41:15.060Z"
   },
   {
    "duration": 112,
    "start_time": "2022-09-04T08:41:26.474Z"
   },
   {
    "duration": 934,
    "start_time": "2022-09-04T09:13:41.169Z"
   },
   {
    "duration": 16,
    "start_time": "2022-09-04T09:19:50.979Z"
   },
   {
    "duration": 16,
    "start_time": "2022-09-04T09:20:37.612Z"
   },
   {
    "duration": 16,
    "start_time": "2022-09-04T09:21:41.262Z"
   },
   {
    "duration": 23,
    "start_time": "2022-09-04T09:28:56.421Z"
   },
   {
    "duration": 0,
    "start_time": "2022-09-04T09:28:56.446Z"
   },
   {
    "duration": 0,
    "start_time": "2022-09-04T09:28:56.447Z"
   },
   {
    "duration": 0,
    "start_time": "2022-09-04T09:28:56.449Z"
   },
   {
    "duration": 0,
    "start_time": "2022-09-04T09:28:56.450Z"
   },
   {
    "duration": 0,
    "start_time": "2022-09-04T09:28:56.452Z"
   },
   {
    "duration": 0,
    "start_time": "2022-09-04T09:28:56.454Z"
   },
   {
    "duration": 0,
    "start_time": "2022-09-04T09:28:56.455Z"
   },
   {
    "duration": 0,
    "start_time": "2022-09-04T09:28:56.457Z"
   },
   {
    "duration": 0,
    "start_time": "2022-09-04T09:28:56.458Z"
   },
   {
    "duration": 0,
    "start_time": "2022-09-04T09:28:56.459Z"
   },
   {
    "duration": 0,
    "start_time": "2022-09-04T09:28:56.461Z"
   },
   {
    "duration": 0,
    "start_time": "2022-09-04T09:28:56.462Z"
   },
   {
    "duration": 0,
    "start_time": "2022-09-04T09:28:56.463Z"
   },
   {
    "duration": 0,
    "start_time": "2022-09-04T09:28:56.471Z"
   },
   {
    "duration": 0,
    "start_time": "2022-09-04T09:28:56.472Z"
   },
   {
    "duration": 1,
    "start_time": "2022-09-04T09:28:56.473Z"
   },
   {
    "duration": 0,
    "start_time": "2022-09-04T09:28:56.475Z"
   },
   {
    "duration": 0,
    "start_time": "2022-09-04T09:28:56.510Z"
   },
   {
    "duration": 0,
    "start_time": "2022-09-04T09:28:56.511Z"
   },
   {
    "duration": 0,
    "start_time": "2022-09-04T09:28:56.511Z"
   },
   {
    "duration": 1,
    "start_time": "2022-09-04T09:28:56.513Z"
   },
   {
    "duration": 0,
    "start_time": "2022-09-04T09:28:56.515Z"
   },
   {
    "duration": 0,
    "start_time": "2022-09-04T09:28:56.516Z"
   },
   {
    "duration": 0,
    "start_time": "2022-09-04T09:28:56.517Z"
   },
   {
    "duration": 0,
    "start_time": "2022-09-04T09:28:56.519Z"
   },
   {
    "duration": 0,
    "start_time": "2022-09-04T09:28:56.522Z"
   },
   {
    "duration": 0,
    "start_time": "2022-09-04T09:28:56.523Z"
   },
   {
    "duration": 0,
    "start_time": "2022-09-04T09:28:56.524Z"
   },
   {
    "duration": 0,
    "start_time": "2022-09-04T09:28:56.525Z"
   },
   {
    "duration": 1,
    "start_time": "2022-09-04T09:28:56.526Z"
   },
   {
    "duration": 0,
    "start_time": "2022-09-04T09:28:56.528Z"
   },
   {
    "duration": 0,
    "start_time": "2022-09-04T09:28:56.529Z"
   },
   {
    "duration": 0,
    "start_time": "2022-09-04T09:28:56.530Z"
   },
   {
    "duration": 1,
    "start_time": "2022-09-04T09:28:56.531Z"
   },
   {
    "duration": 0,
    "start_time": "2022-09-04T09:28:56.533Z"
   },
   {
    "duration": 0,
    "start_time": "2022-09-04T09:28:56.534Z"
   },
   {
    "duration": 0,
    "start_time": "2022-09-04T09:28:56.535Z"
   },
   {
    "duration": 0,
    "start_time": "2022-09-04T09:28:56.537Z"
   },
   {
    "duration": 0,
    "start_time": "2022-09-04T09:28:56.538Z"
   },
   {
    "duration": 0,
    "start_time": "2022-09-04T09:28:56.540Z"
   },
   {
    "duration": 0,
    "start_time": "2022-09-04T09:28:56.541Z"
   },
   {
    "duration": 0,
    "start_time": "2022-09-04T09:28:56.543Z"
   },
   {
    "duration": 0,
    "start_time": "2022-09-04T09:28:56.544Z"
   },
   {
    "duration": 0,
    "start_time": "2022-09-04T09:28:56.545Z"
   },
   {
    "duration": 17,
    "start_time": "2022-09-04T09:31:53.252Z"
   },
   {
    "duration": 44575,
    "start_time": "2022-09-04T09:32:05.776Z"
   },
   {
    "duration": 84,
    "start_time": "2022-09-04T09:32:50.427Z"
   },
   {
    "duration": 8,
    "start_time": "2022-09-04T09:32:50.518Z"
   },
   {
    "duration": 517,
    "start_time": "2022-09-04T09:32:50.530Z"
   },
   {
    "duration": 15,
    "start_time": "2022-09-04T09:32:51.049Z"
   },
   {
    "duration": 32,
    "start_time": "2022-09-04T09:32:51.068Z"
   },
   {
    "duration": 72,
    "start_time": "2022-09-04T09:32:51.103Z"
   },
   {
    "duration": 34,
    "start_time": "2022-09-04T09:32:51.177Z"
   },
   {
    "duration": 80,
    "start_time": "2022-09-04T09:32:51.216Z"
   },
   {
    "duration": 105,
    "start_time": "2022-09-04T09:32:51.299Z"
   },
   {
    "duration": 51,
    "start_time": "2022-09-04T09:32:51.407Z"
   },
   {
    "duration": 27,
    "start_time": "2022-09-04T09:32:51.464Z"
   },
   {
    "duration": 34,
    "start_time": "2022-09-04T09:32:51.493Z"
   },
   {
    "duration": 54,
    "start_time": "2022-09-04T09:32:51.533Z"
   },
   {
    "duration": 18,
    "start_time": "2022-09-04T09:32:51.589Z"
   },
   {
    "duration": 98,
    "start_time": "2022-09-04T09:32:51.613Z"
   },
   {
    "duration": 48,
    "start_time": "2022-09-04T09:32:51.721Z"
   },
   {
    "duration": 66,
    "start_time": "2022-09-04T09:32:51.772Z"
   },
   {
    "duration": 27,
    "start_time": "2022-09-04T09:32:51.844Z"
   },
   {
    "duration": 43,
    "start_time": "2022-09-04T09:32:51.874Z"
   },
   {
    "duration": 27,
    "start_time": "2022-09-04T09:32:51.919Z"
   },
   {
    "duration": 49,
    "start_time": "2022-09-04T09:32:51.953Z"
   },
   {
    "duration": 84,
    "start_time": "2022-09-04T09:32:52.005Z"
   },
   {
    "duration": 26,
    "start_time": "2022-09-04T09:32:52.092Z"
   },
   {
    "duration": 41,
    "start_time": "2022-09-04T09:32:52.133Z"
   },
   {
    "duration": 57,
    "start_time": "2022-09-04T09:32:52.177Z"
   },
   {
    "duration": 39,
    "start_time": "2022-09-04T09:32:52.254Z"
   },
   {
    "duration": 30,
    "start_time": "2022-09-04T09:32:52.300Z"
   },
   {
    "duration": 84,
    "start_time": "2022-09-04T09:32:52.338Z"
   },
   {
    "duration": 69,
    "start_time": "2022-09-04T09:32:52.442Z"
   },
   {
    "duration": 134,
    "start_time": "2022-09-04T09:32:52.514Z"
   },
   {
    "duration": 132,
    "start_time": "2022-09-04T09:32:52.650Z"
   },
   {
    "duration": 68,
    "start_time": "2022-09-04T09:32:52.784Z"
   },
   {
    "duration": 32,
    "start_time": "2022-09-04T09:32:52.859Z"
   },
   {
    "duration": 32,
    "start_time": "2022-09-04T09:32:52.895Z"
   },
   {
    "duration": 95,
    "start_time": "2022-09-04T09:32:52.930Z"
   },
   {
    "duration": 96,
    "start_time": "2022-09-04T09:32:53.033Z"
   },
   {
    "duration": 29,
    "start_time": "2022-09-04T09:32:53.134Z"
   },
   {
    "duration": 69,
    "start_time": "2022-09-04T09:32:53.170Z"
   },
   {
    "duration": 68,
    "start_time": "2022-09-04T09:32:53.241Z"
   },
   {
    "duration": 54,
    "start_time": "2022-09-04T09:32:53.316Z"
   },
   {
    "duration": 57,
    "start_time": "2022-09-04T09:32:53.373Z"
   },
   {
    "duration": 36309,
    "start_time": "2022-09-04T09:36:05.586Z"
   },
   {
    "duration": 302,
    "start_time": "2022-09-04T09:38:59.395Z"
   },
   {
    "duration": 93,
    "start_time": "2022-09-04T09:39:17.777Z"
   },
   {
    "duration": 109,
    "start_time": "2022-09-04T09:39:22.385Z"
   },
   {
    "duration": 116,
    "start_time": "2022-09-04T09:39:26.376Z"
   },
   {
    "duration": 91,
    "start_time": "2022-09-04T09:39:30.179Z"
   },
   {
    "duration": 318,
    "start_time": "2022-09-04T09:39:33.646Z"
   },
   {
    "duration": 32,
    "start_time": "2022-09-04T09:46:16.068Z"
   },
   {
    "duration": 329,
    "start_time": "2022-09-04T09:52:18.032Z"
   },
   {
    "duration": 11,
    "start_time": "2022-09-04T10:07:44.058Z"
   },
   {
    "duration": 25,
    "start_time": "2022-09-04T10:08:16.463Z"
   },
   {
    "duration": 25,
    "start_time": "2022-09-04T10:09:10.954Z"
   },
   {
    "duration": 23,
    "start_time": "2022-09-04T10:10:29.641Z"
   },
   {
    "duration": 49,
    "start_time": "2022-09-04T10:10:35.696Z"
   },
   {
    "duration": 24,
    "start_time": "2022-09-04T10:13:54.749Z"
   },
   {
    "duration": 4,
    "start_time": "2022-09-04T10:19:40.891Z"
   },
   {
    "duration": 129,
    "start_time": "2022-09-04T10:19:43.231Z"
   },
   {
    "duration": 9,
    "start_time": "2022-09-04T10:19:56.119Z"
   },
   {
    "duration": 68,
    "start_time": "2022-09-04T10:19:58.610Z"
   },
   {
    "duration": 4,
    "start_time": "2022-09-04T10:20:18.049Z"
   },
   {
    "duration": 9,
    "start_time": "2022-09-04T10:20:43.830Z"
   },
   {
    "duration": 4,
    "start_time": "2022-09-04T10:20:47.190Z"
   },
   {
    "duration": 84,
    "start_time": "2022-09-04T10:20:49.226Z"
   },
   {
    "duration": 114,
    "start_time": "2022-09-04T10:21:08.096Z"
   },
   {
    "duration": 89,
    "start_time": "2022-09-04T10:21:22.360Z"
   },
   {
    "duration": 110,
    "start_time": "2022-09-04T10:38:07.943Z"
   },
   {
    "duration": 8,
    "start_time": "2022-09-04T10:38:41.171Z"
   },
   {
    "duration": 9,
    "start_time": "2022-09-04T10:38:45.360Z"
   },
   {
    "duration": 84,
    "start_time": "2022-09-04T10:43:22.065Z"
   },
   {
    "duration": 144,
    "start_time": "2022-09-04T10:44:08.742Z"
   },
   {
    "duration": 5,
    "start_time": "2022-09-04T10:44:22.478Z"
   },
   {
    "duration": 7,
    "start_time": "2022-09-04T10:44:25.034Z"
   },
   {
    "duration": 144,
    "start_time": "2022-09-04T10:44:31.437Z"
   },
   {
    "duration": 12,
    "start_time": "2022-09-04T10:53:48.203Z"
   },
   {
    "duration": 26,
    "start_time": "2022-09-04T10:54:00.397Z"
   },
   {
    "duration": 10,
    "start_time": "2022-09-04T10:54:19.846Z"
   },
   {
    "duration": 10,
    "start_time": "2022-09-04T10:58:12.939Z"
   },
   {
    "duration": 6,
    "start_time": "2022-09-04T10:59:31.187Z"
   },
   {
    "duration": 154,
    "start_time": "2022-09-04T10:59:39.633Z"
   },
   {
    "duration": 10,
    "start_time": "2022-09-04T10:59:58.373Z"
   },
   {
    "duration": 5,
    "start_time": "2022-09-04T11:00:08.535Z"
   },
   {
    "duration": 405,
    "start_time": "2022-09-04T11:00:08.543Z"
   },
   {
    "duration": 17,
    "start_time": "2022-09-04T11:00:08.953Z"
   },
   {
    "duration": 44,
    "start_time": "2022-09-04T11:00:08.972Z"
   },
   {
    "duration": 69,
    "start_time": "2022-09-04T11:00:09.020Z"
   },
   {
    "duration": 81,
    "start_time": "2022-09-04T11:00:09.091Z"
   },
   {
    "duration": 54,
    "start_time": "2022-09-04T11:00:09.175Z"
   },
   {
    "duration": 37,
    "start_time": "2022-09-04T11:00:09.236Z"
   },
   {
    "duration": 16,
    "start_time": "2022-09-04T11:00:09.275Z"
   },
   {
    "duration": 69,
    "start_time": "2022-09-04T11:00:09.293Z"
   },
   {
    "duration": 123,
    "start_time": "2022-09-04T11:00:09.365Z"
   },
   {
    "duration": 27,
    "start_time": "2022-09-04T11:00:09.490Z"
   },
   {
    "duration": 51,
    "start_time": "2022-09-04T11:00:09.524Z"
   },
   {
    "duration": 45,
    "start_time": "2022-09-04T11:00:09.577Z"
   },
   {
    "duration": 46,
    "start_time": "2022-09-04T11:00:09.624Z"
   },
   {
    "duration": 41,
    "start_time": "2022-09-04T11:00:09.672Z"
   },
   {
    "duration": 38,
    "start_time": "2022-09-04T11:00:09.716Z"
   },
   {
    "duration": 26,
    "start_time": "2022-09-04T11:00:09.756Z"
   },
   {
    "duration": 81,
    "start_time": "2022-09-04T11:00:09.784Z"
   },
   {
    "duration": 15,
    "start_time": "2022-09-04T11:00:09.867Z"
   },
   {
    "duration": 49,
    "start_time": "2022-09-04T11:00:09.884Z"
   },
   {
    "duration": 34,
    "start_time": "2022-09-04T11:00:09.935Z"
   },
   {
    "duration": 42,
    "start_time": "2022-09-04T11:00:09.971Z"
   },
   {
    "duration": 40,
    "start_time": "2022-09-04T11:00:10.023Z"
   },
   {
    "duration": 58,
    "start_time": "2022-09-04T11:00:10.066Z"
   },
   {
    "duration": 46,
    "start_time": "2022-09-04T11:00:10.127Z"
   },
   {
    "duration": 52,
    "start_time": "2022-09-04T11:00:10.175Z"
   },
   {
    "duration": 65,
    "start_time": "2022-09-04T11:00:10.235Z"
   },
   {
    "duration": 27,
    "start_time": "2022-09-04T11:00:10.302Z"
   },
   {
    "duration": 92,
    "start_time": "2022-09-04T11:00:10.330Z"
   },
   {
    "duration": 79,
    "start_time": "2022-09-04T11:00:10.427Z"
   },
   {
    "duration": 45,
    "start_time": "2022-09-04T11:00:10.512Z"
   },
   {
    "duration": 21,
    "start_time": "2022-09-04T11:00:10.559Z"
   },
   {
    "duration": 66,
    "start_time": "2022-09-04T11:00:10.582Z"
   },
   {
    "duration": 44,
    "start_time": "2022-09-04T11:00:10.651Z"
   },
   {
    "duration": 36,
    "start_time": "2022-09-04T11:00:10.697Z"
   },
   {
    "duration": 44,
    "start_time": "2022-09-04T11:00:10.737Z"
   },
   {
    "duration": 32,
    "start_time": "2022-09-04T11:00:10.783Z"
   },
   {
    "duration": 82,
    "start_time": "2022-09-04T11:00:10.818Z"
   },
   {
    "duration": 32,
    "start_time": "2022-09-04T11:00:10.902Z"
   },
   {
    "duration": 59,
    "start_time": "2022-09-04T11:00:10.936Z"
   },
   {
    "duration": 21,
    "start_time": "2022-09-04T11:00:10.996Z"
   },
   {
    "duration": 58,
    "start_time": "2022-09-04T11:00:11.023Z"
   },
   {
    "duration": 138,
    "start_time": "2022-09-04T11:00:14.045Z"
   },
   {
    "duration": 315,
    "start_time": "2022-09-04T11:00:47.038Z"
   },
   {
    "duration": 9,
    "start_time": "2022-09-04T11:04:01.262Z"
   },
   {
    "duration": 9,
    "start_time": "2022-09-04T11:04:04.052Z"
   },
   {
    "duration": 9,
    "start_time": "2022-09-04T11:04:10.353Z"
   },
   {
    "duration": 4,
    "start_time": "2022-09-04T11:04:17.959Z"
   },
   {
    "duration": 383,
    "start_time": "2022-09-04T11:04:17.970Z"
   },
   {
    "duration": 16,
    "start_time": "2022-09-04T11:04:18.357Z"
   },
   {
    "duration": 21,
    "start_time": "2022-09-04T11:04:18.377Z"
   },
   {
    "duration": 26,
    "start_time": "2022-09-04T11:04:18.402Z"
   },
   {
    "duration": 49,
    "start_time": "2022-09-04T11:04:18.432Z"
   },
   {
    "duration": 25,
    "start_time": "2022-09-04T11:04:18.484Z"
   },
   {
    "duration": 47,
    "start_time": "2022-09-04T11:04:18.514Z"
   },
   {
    "duration": 4,
    "start_time": "2022-09-04T11:04:18.563Z"
   },
   {
    "duration": 12,
    "start_time": "2022-09-04T11:04:18.570Z"
   },
   {
    "duration": 52,
    "start_time": "2022-09-04T11:04:18.585Z"
   },
   {
    "duration": 50,
    "start_time": "2022-09-04T11:04:18.644Z"
   },
   {
    "duration": 17,
    "start_time": "2022-09-04T11:04:18.696Z"
   },
   {
    "duration": 66,
    "start_time": "2022-09-04T11:04:18.715Z"
   },
   {
    "duration": 5,
    "start_time": "2022-09-04T11:04:18.786Z"
   },
   {
    "duration": 86,
    "start_time": "2022-09-04T11:04:18.793Z"
   },
   {
    "duration": 7,
    "start_time": "2022-09-04T11:04:18.882Z"
   },
   {
    "duration": 69,
    "start_time": "2022-09-04T11:04:18.892Z"
   },
   {
    "duration": 23,
    "start_time": "2022-09-04T11:04:18.964Z"
   },
   {
    "duration": 34,
    "start_time": "2022-09-04T11:04:18.989Z"
   },
   {
    "duration": 55,
    "start_time": "2022-09-04T11:04:19.033Z"
   },
   {
    "duration": 71,
    "start_time": "2022-09-04T11:04:19.090Z"
   },
   {
    "duration": 17,
    "start_time": "2022-09-04T11:04:19.163Z"
   },
   {
    "duration": 29,
    "start_time": "2022-09-04T11:04:19.183Z"
   },
   {
    "duration": 75,
    "start_time": "2022-09-04T11:04:19.219Z"
   },
   {
    "duration": 21,
    "start_time": "2022-09-04T11:04:19.296Z"
   },
   {
    "duration": 65,
    "start_time": "2022-09-04T11:04:19.319Z"
   },
   {
    "duration": 43,
    "start_time": "2022-09-04T11:04:19.387Z"
   },
   {
    "duration": 41,
    "start_time": "2022-09-04T11:04:19.433Z"
   },
   {
    "duration": 64,
    "start_time": "2022-09-04T11:04:19.476Z"
   },
   {
    "duration": 54,
    "start_time": "2022-09-04T11:04:19.541Z"
   },
   {
    "duration": 47,
    "start_time": "2022-09-04T11:04:19.600Z"
   },
   {
    "duration": 28,
    "start_time": "2022-09-04T11:04:19.649Z"
   },
   {
    "duration": 18,
    "start_time": "2022-09-04T11:04:19.680Z"
   },
   {
    "duration": 81,
    "start_time": "2022-09-04T11:04:19.700Z"
   },
   {
    "duration": 48,
    "start_time": "2022-09-04T11:04:19.783Z"
   },
   {
    "duration": 20,
    "start_time": "2022-09-04T11:04:19.835Z"
   },
   {
    "duration": 29,
    "start_time": "2022-09-04T11:04:19.858Z"
   },
   {
    "duration": 51,
    "start_time": "2022-09-04T11:04:19.890Z"
   },
   {
    "duration": 33,
    "start_time": "2022-09-04T11:04:19.947Z"
   },
   {
    "duration": 56,
    "start_time": "2022-09-04T11:04:19.983Z"
   },
   {
    "duration": 5,
    "start_time": "2022-09-04T11:04:20.048Z"
   },
   {
    "duration": 7,
    "start_time": "2022-09-04T11:04:20.056Z"
   },
   {
    "duration": 177,
    "start_time": "2022-09-04T11:04:20.066Z"
   },
   {
    "duration": 11,
    "start_time": "2022-09-04T11:04:20.245Z"
   },
   {
    "duration": 19,
    "start_time": "2022-09-04T11:04:23.008Z"
   },
   {
    "duration": 10,
    "start_time": "2022-09-04T11:04:34.844Z"
   },
   {
    "duration": 10,
    "start_time": "2022-09-04T11:04:40.782Z"
   },
   {
    "duration": 19,
    "start_time": "2022-09-04T11:04:47.562Z"
   },
   {
    "duration": 26,
    "start_time": "2022-09-04T11:05:08.705Z"
   },
   {
    "duration": 283,
    "start_time": "2022-09-04T11:06:03.886Z"
   },
   {
    "duration": 10,
    "start_time": "2022-09-04T11:08:04.483Z"
   },
   {
    "duration": 14,
    "start_time": "2022-09-04T11:09:08.133Z"
   },
   {
    "duration": 3,
    "start_time": "2022-09-04T11:09:12.656Z"
   },
   {
    "duration": 381,
    "start_time": "2022-09-04T11:09:12.661Z"
   },
   {
    "duration": 14,
    "start_time": "2022-09-04T11:09:13.045Z"
   },
   {
    "duration": 13,
    "start_time": "2022-09-04T11:09:13.061Z"
   },
   {
    "duration": 31,
    "start_time": "2022-09-04T11:09:13.076Z"
   },
   {
    "duration": 46,
    "start_time": "2022-09-04T11:09:13.109Z"
   },
   {
    "duration": 15,
    "start_time": "2022-09-04T11:09:13.157Z"
   },
   {
    "duration": 15,
    "start_time": "2022-09-04T11:09:13.175Z"
   },
   {
    "duration": 7,
    "start_time": "2022-09-04T11:09:13.192Z"
   },
   {
    "duration": 48,
    "start_time": "2022-09-04T11:09:13.201Z"
   },
   {
    "duration": 26,
    "start_time": "2022-09-04T11:09:13.253Z"
   },
   {
    "duration": 43,
    "start_time": "2022-09-04T11:09:13.281Z"
   },
   {
    "duration": 42,
    "start_time": "2022-09-04T11:09:13.325Z"
   },
   {
    "duration": 48,
    "start_time": "2022-09-04T11:09:13.369Z"
   },
   {
    "duration": 40,
    "start_time": "2022-09-04T11:09:13.419Z"
   },
   {
    "duration": 27,
    "start_time": "2022-09-04T11:09:13.462Z"
   },
   {
    "duration": 5,
    "start_time": "2022-09-04T11:09:13.491Z"
   },
   {
    "duration": 59,
    "start_time": "2022-09-04T11:09:13.497Z"
   },
   {
    "duration": 18,
    "start_time": "2022-09-04T11:09:13.558Z"
   },
   {
    "duration": 8,
    "start_time": "2022-09-04T11:09:13.578Z"
   },
   {
    "duration": 22,
    "start_time": "2022-09-04T11:09:13.588Z"
   },
   {
    "duration": 50,
    "start_time": "2022-09-04T11:09:13.612Z"
   },
   {
    "duration": 7,
    "start_time": "2022-09-04T11:09:13.664Z"
   },
   {
    "duration": 16,
    "start_time": "2022-09-04T11:09:13.673Z"
   },
   {
    "duration": 27,
    "start_time": "2022-09-04T11:09:13.690Z"
   },
   {
    "duration": 45,
    "start_time": "2022-09-04T11:09:13.719Z"
   },
   {
    "duration": 15,
    "start_time": "2022-09-04T11:09:13.766Z"
   },
   {
    "duration": 17,
    "start_time": "2022-09-04T11:09:13.783Z"
   },
   {
    "duration": 30,
    "start_time": "2022-09-04T11:09:13.805Z"
   },
   {
    "duration": 43,
    "start_time": "2022-09-04T11:09:13.837Z"
   },
   {
    "duration": 19,
    "start_time": "2022-09-04T11:09:13.882Z"
   },
   {
    "duration": 23,
    "start_time": "2022-09-04T11:09:13.920Z"
   },
   {
    "duration": 23,
    "start_time": "2022-09-04T11:09:13.945Z"
   },
   {
    "duration": 15,
    "start_time": "2022-09-04T11:09:13.970Z"
   },
   {
    "duration": 51,
    "start_time": "2022-09-04T11:09:13.988Z"
   },
   {
    "duration": 24,
    "start_time": "2022-09-04T11:09:14.042Z"
   },
   {
    "duration": 19,
    "start_time": "2022-09-04T11:09:14.068Z"
   },
   {
    "duration": 52,
    "start_time": "2022-09-04T11:09:14.088Z"
   },
   {
    "duration": 43,
    "start_time": "2022-09-04T11:09:14.142Z"
   },
   {
    "duration": 44,
    "start_time": "2022-09-04T11:09:14.186Z"
   },
   {
    "duration": 33,
    "start_time": "2022-09-04T11:09:14.242Z"
   },
   {
    "duration": 4,
    "start_time": "2022-09-04T11:09:14.277Z"
   },
   {
    "duration": 7,
    "start_time": "2022-09-04T11:09:14.283Z"
   },
   {
    "duration": 168,
    "start_time": "2022-09-04T11:09:14.291Z"
   },
   {
    "duration": 9,
    "start_time": "2022-09-04T11:09:14.462Z"
   },
   {
    "duration": 20,
    "start_time": "2022-09-04T11:09:14.474Z"
   },
   {
    "duration": 9,
    "start_time": "2022-09-04T11:09:18.288Z"
   },
   {
    "duration": 10,
    "start_time": "2022-09-04T11:09:30.250Z"
   },
   {
    "duration": 8,
    "start_time": "2022-09-04T11:41:43.885Z"
   },
   {
    "duration": 28,
    "start_time": "2022-09-04T11:42:40.394Z"
   },
   {
    "duration": 245,
    "start_time": "2022-09-04T11:43:23.586Z"
   },
   {
    "duration": 251,
    "start_time": "2022-09-04T11:45:25.933Z"
   },
   {
    "duration": 258,
    "start_time": "2022-09-04T11:45:31.782Z"
   },
   {
    "duration": 241,
    "start_time": "2022-09-04T11:45:35.330Z"
   },
   {
    "duration": 255,
    "start_time": "2022-09-04T11:45:39.718Z"
   },
   {
    "duration": 271,
    "start_time": "2022-09-04T11:45:56.862Z"
   },
   {
    "duration": 242,
    "start_time": "2022-09-04T11:46:33.431Z"
   },
   {
    "duration": 254,
    "start_time": "2022-09-04T11:46:42.726Z"
   },
   {
    "duration": 256,
    "start_time": "2022-09-04T11:46:58.232Z"
   },
   {
    "duration": 1433,
    "start_time": "2022-09-04T11:55:16.538Z"
   },
   {
    "duration": 327,
    "start_time": "2022-09-04T11:55:18.739Z"
   },
   {
    "duration": 4,
    "start_time": "2022-09-04T12:12:47.439Z"
   },
   {
    "duration": 43,
    "start_time": "2022-09-04T12:12:49.531Z"
   },
   {
    "duration": 46,
    "start_time": "2022-09-04T12:12:52.308Z"
   },
   {
    "duration": 62,
    "start_time": "2022-09-04T12:13:04.958Z"
   },
   {
    "duration": 205,
    "start_time": "2022-09-04T12:14:11.030Z"
   },
   {
    "duration": 45,
    "start_time": "2022-09-04T12:15:58.689Z"
   },
   {
    "duration": 289,
    "start_time": "2022-09-04T12:16:03.531Z"
   },
   {
    "duration": 334,
    "start_time": "2022-09-04T12:16:14.574Z"
   },
   {
    "duration": 176,
    "start_time": "2022-09-04T12:16:19.963Z"
   },
   {
    "duration": 304,
    "start_time": "2022-09-04T12:22:48.844Z"
   },
   {
    "duration": 245,
    "start_time": "2022-09-04T12:23:56.426Z"
   },
   {
    "duration": 232,
    "start_time": "2022-09-04T12:24:50.264Z"
   },
   {
    "duration": 196,
    "start_time": "2022-09-04T12:27:56.530Z"
   },
   {
    "duration": 3,
    "start_time": "2022-09-04T12:28:01.719Z"
   },
   {
    "duration": 324,
    "start_time": "2022-09-04T12:28:01.724Z"
   },
   {
    "duration": 11,
    "start_time": "2022-09-04T12:28:02.051Z"
   },
   {
    "duration": 10,
    "start_time": "2022-09-04T12:28:02.063Z"
   },
   {
    "duration": 6,
    "start_time": "2022-09-04T12:28:02.076Z"
   },
   {
    "duration": 29,
    "start_time": "2022-09-04T12:28:02.083Z"
   },
   {
    "duration": 16,
    "start_time": "2022-09-04T12:28:02.113Z"
   },
   {
    "duration": 17,
    "start_time": "2022-09-04T12:28:02.131Z"
   },
   {
    "duration": 5,
    "start_time": "2022-09-04T12:28:02.149Z"
   },
   {
    "duration": 9,
    "start_time": "2022-09-04T12:28:02.155Z"
   },
   {
    "duration": 38,
    "start_time": "2022-09-04T12:28:02.166Z"
   },
   {
    "duration": 19,
    "start_time": "2022-09-04T12:28:02.205Z"
   },
   {
    "duration": 8,
    "start_time": "2022-09-04T12:28:02.226Z"
   },
   {
    "duration": 18,
    "start_time": "2022-09-04T12:28:02.236Z"
   },
   {
    "duration": 19,
    "start_time": "2022-09-04T12:28:02.256Z"
   },
   {
    "duration": 34,
    "start_time": "2022-09-04T12:28:02.277Z"
   },
   {
    "duration": 5,
    "start_time": "2022-09-04T12:28:02.313Z"
   },
   {
    "duration": 26,
    "start_time": "2022-09-04T12:28:02.320Z"
   },
   {
    "duration": 17,
    "start_time": "2022-09-04T12:28:02.348Z"
   },
   {
    "duration": 9,
    "start_time": "2022-09-04T12:28:02.366Z"
   },
   {
    "duration": 40,
    "start_time": "2022-09-04T12:28:02.376Z"
   },
   {
    "duration": 7,
    "start_time": "2022-09-04T12:28:02.418Z"
   },
   {
    "duration": 8,
    "start_time": "2022-09-04T12:28:02.427Z"
   },
   {
    "duration": 23,
    "start_time": "2022-09-04T12:28:02.437Z"
   },
   {
    "duration": 15,
    "start_time": "2022-09-04T12:28:02.462Z"
   },
   {
    "duration": 11,
    "start_time": "2022-09-04T12:28:02.478Z"
   },
   {
    "duration": 16,
    "start_time": "2022-09-04T12:28:02.503Z"
   },
   {
    "duration": 17,
    "start_time": "2022-09-04T12:28:02.520Z"
   },
   {
    "duration": 9,
    "start_time": "2022-09-04T12:28:02.540Z"
   },
   {
    "duration": 66,
    "start_time": "2022-09-04T12:28:02.550Z"
   },
   {
    "duration": 20,
    "start_time": "2022-09-04T12:28:02.618Z"
   },
   {
    "duration": 8,
    "start_time": "2022-09-04T12:28:02.640Z"
   },
   {
    "duration": 50,
    "start_time": "2022-09-04T12:28:02.650Z"
   },
   {
    "duration": 23,
    "start_time": "2022-09-04T12:28:02.701Z"
   },
   {
    "duration": 36,
    "start_time": "2022-09-04T12:28:02.726Z"
   },
   {
    "duration": 27,
    "start_time": "2022-09-04T12:28:02.763Z"
   },
   {
    "duration": 24,
    "start_time": "2022-09-04T12:28:02.791Z"
   },
   {
    "duration": 25,
    "start_time": "2022-09-04T12:28:02.817Z"
   },
   {
    "duration": 33,
    "start_time": "2022-09-04T12:28:02.843Z"
   },
   {
    "duration": 46,
    "start_time": "2022-09-04T12:28:02.878Z"
   },
   {
    "duration": 28,
    "start_time": "2022-09-04T12:28:02.926Z"
   },
   {
    "duration": 4,
    "start_time": "2022-09-04T12:28:02.955Z"
   },
   {
    "duration": 11,
    "start_time": "2022-09-04T12:28:02.961Z"
   },
   {
    "duration": 134,
    "start_time": "2022-09-04T12:28:02.973Z"
   },
   {
    "duration": 3,
    "start_time": "2022-09-04T12:28:03.108Z"
   },
   {
    "duration": 243,
    "start_time": "2022-09-04T12:28:03.112Z"
   },
   {
    "duration": 4,
    "start_time": "2022-09-04T12:28:03.357Z"
   },
   {
    "duration": 72,
    "start_time": "2022-09-04T12:28:03.363Z"
   },
   {
    "duration": 3,
    "start_time": "2022-09-04T12:28:03.436Z"
   },
   {
    "duration": 442,
    "start_time": "2022-09-04T12:28:05.675Z"
   },
   {
    "duration": 136,
    "start_time": "2022-09-04T12:28:57.333Z"
   },
   {
    "duration": 4,
    "start_time": "2022-09-04T12:29:01.295Z"
   },
   {
    "duration": 338,
    "start_time": "2022-09-04T12:29:01.301Z"
   },
   {
    "duration": 11,
    "start_time": "2022-09-04T12:29:01.641Z"
   },
   {
    "duration": 19,
    "start_time": "2022-09-04T12:29:01.654Z"
   },
   {
    "duration": 6,
    "start_time": "2022-09-04T12:29:01.675Z"
   },
   {
    "duration": 27,
    "start_time": "2022-09-04T12:29:01.683Z"
   },
   {
    "duration": 19,
    "start_time": "2022-09-04T12:29:01.712Z"
   },
   {
    "duration": 22,
    "start_time": "2022-09-04T12:29:01.733Z"
   },
   {
    "duration": 8,
    "start_time": "2022-09-04T12:29:01.756Z"
   },
   {
    "duration": 6,
    "start_time": "2022-09-04T12:29:01.767Z"
   },
   {
    "duration": 29,
    "start_time": "2022-09-04T12:29:01.775Z"
   },
   {
    "duration": 21,
    "start_time": "2022-09-04T12:29:01.805Z"
   },
   {
    "duration": 17,
    "start_time": "2022-09-04T12:29:01.827Z"
   },
   {
    "duration": 33,
    "start_time": "2022-09-04T12:29:01.845Z"
   },
   {
    "duration": 14,
    "start_time": "2022-09-04T12:29:01.880Z"
   },
   {
    "duration": 25,
    "start_time": "2022-09-04T12:29:01.896Z"
   },
   {
    "duration": 5,
    "start_time": "2022-09-04T12:29:01.923Z"
   },
   {
    "duration": 17,
    "start_time": "2022-09-04T12:29:01.929Z"
   },
   {
    "duration": 18,
    "start_time": "2022-09-04T12:29:01.947Z"
   },
   {
    "duration": 8,
    "start_time": "2022-09-04T12:29:01.966Z"
   },
   {
    "duration": 15,
    "start_time": "2022-09-04T12:29:02.002Z"
   },
   {
    "duration": 19,
    "start_time": "2022-09-04T12:29:02.019Z"
   },
   {
    "duration": 23,
    "start_time": "2022-09-04T12:29:02.040Z"
   },
   {
    "duration": 50,
    "start_time": "2022-09-04T12:29:02.065Z"
   },
   {
    "duration": 16,
    "start_time": "2022-09-04T12:29:02.116Z"
   },
   {
    "duration": 12,
    "start_time": "2022-09-04T12:29:02.134Z"
   },
   {
    "duration": 16,
    "start_time": "2022-09-04T12:29:02.147Z"
   },
   {
    "duration": 41,
    "start_time": "2022-09-04T12:29:02.168Z"
   },
   {
    "duration": 9,
    "start_time": "2022-09-04T12:29:02.211Z"
   },
   {
    "duration": 35,
    "start_time": "2022-09-04T12:29:02.222Z"
   },
   {
    "duration": 45,
    "start_time": "2022-09-04T12:29:02.259Z"
   },
   {
    "duration": 8,
    "start_time": "2022-09-04T12:29:02.306Z"
   },
   {
    "duration": 10,
    "start_time": "2022-09-04T12:29:02.316Z"
   },
   {
    "duration": 16,
    "start_time": "2022-09-04T12:29:02.328Z"
   },
   {
    "duration": 33,
    "start_time": "2022-09-04T12:29:02.346Z"
   },
   {
    "duration": 43,
    "start_time": "2022-09-04T12:29:02.381Z"
   },
   {
    "duration": 18,
    "start_time": "2022-09-04T12:29:02.426Z"
   },
   {
    "duration": 24,
    "start_time": "2022-09-04T12:29:02.445Z"
   },
   {
    "duration": 62,
    "start_time": "2022-09-04T12:29:02.471Z"
   },
   {
    "duration": 24,
    "start_time": "2022-09-04T12:29:02.535Z"
   },
   {
    "duration": 65,
    "start_time": "2022-09-04T12:29:02.561Z"
   },
   {
    "duration": 5,
    "start_time": "2022-09-04T12:29:02.628Z"
   },
   {
    "duration": 7,
    "start_time": "2022-09-04T12:29:02.635Z"
   },
   {
    "duration": 120,
    "start_time": "2022-09-04T12:29:02.644Z"
   },
   {
    "duration": 2,
    "start_time": "2022-09-04T12:29:02.766Z"
   },
   {
    "duration": 221,
    "start_time": "2022-09-04T12:29:02.770Z"
   },
   {
    "duration": 4,
    "start_time": "2022-09-04T12:29:02.993Z"
   },
   {
    "duration": 66,
    "start_time": "2022-09-04T12:29:02.998Z"
   },
   {
    "duration": 4,
    "start_time": "2022-09-04T12:29:03.065Z"
   },
   {
    "duration": 435,
    "start_time": "2022-09-04T12:29:03.070Z"
   },
   {
    "duration": 6,
    "start_time": "2022-09-04T12:29:03.506Z"
   },
   {
    "duration": 132,
    "start_time": "2022-09-04T12:29:05.683Z"
   },
   {
    "duration": 50,
    "start_time": "2022-09-04T12:32:17.935Z"
   },
   {
    "duration": 67,
    "start_time": "2022-09-04T12:32:26.609Z"
   },
   {
    "duration": 4,
    "start_time": "2022-09-04T12:32:45.030Z"
   },
   {
    "duration": 25,
    "start_time": "2022-09-04T12:32:47.313Z"
   },
   {
    "duration": 4,
    "start_time": "2022-09-04T12:33:09.690Z"
   },
   {
    "duration": 3,
    "start_time": "2022-09-04T12:33:13.308Z"
   },
   {
    "duration": 49,
    "start_time": "2022-09-04T12:33:15.623Z"
   },
   {
    "duration": 4,
    "start_time": "2022-09-04T12:33:21.896Z"
   },
   {
    "duration": 435,
    "start_time": "2022-09-04T12:33:54.546Z"
   },
   {
    "duration": 51,
    "start_time": "2022-09-04T12:34:27.420Z"
   },
   {
    "duration": 433,
    "start_time": "2022-09-04T12:34:35.636Z"
   },
   {
    "duration": 190,
    "start_time": "2022-09-04T12:35:20.398Z"
   },
   {
    "duration": 6,
    "start_time": "2022-09-04T12:39:40.897Z"
   },
   {
    "duration": 6,
    "start_time": "2022-09-04T12:39:43.191Z"
   },
   {
    "duration": 811,
    "start_time": "2022-09-04T12:48:52.961Z"
   },
   {
    "duration": 122,
    "start_time": "2022-09-04T12:49:10.016Z"
   },
   {
    "duration": 121,
    "start_time": "2022-09-04T12:49:15.550Z"
   },
   {
    "duration": 62,
    "start_time": "2022-09-04T12:49:44.508Z"
   },
   {
    "duration": 137,
    "start_time": "2022-09-04T12:50:04.803Z"
   },
   {
    "duration": 119,
    "start_time": "2022-09-04T12:51:55.884Z"
   },
   {
    "duration": 15,
    "start_time": "2022-09-04T12:53:12.951Z"
   },
   {
    "duration": 152,
    "start_time": "2022-09-04T12:55:47.608Z"
   },
   {
    "duration": 136,
    "start_time": "2022-09-04T12:55:58.690Z"
   },
   {
    "duration": 773,
    "start_time": "2022-09-04T17:29:55.659Z"
   },
   {
    "duration": 42,
    "start_time": "2022-09-04T17:30:29.120Z"
   },
   {
    "duration": 1226,
    "start_time": "2022-09-04T17:31:18.224Z"
   },
   {
    "duration": 1245,
    "start_time": "2022-09-04T17:31:19.452Z"
   },
   {
    "duration": 15,
    "start_time": "2022-09-04T17:31:20.699Z"
   },
   {
    "duration": 14,
    "start_time": "2022-09-04T17:31:20.716Z"
   },
   {
    "duration": 4,
    "start_time": "2022-09-04T17:31:20.731Z"
   },
   {
    "duration": 11,
    "start_time": "2022-09-04T17:31:20.736Z"
   },
   {
    "duration": 12,
    "start_time": "2022-09-04T17:31:20.748Z"
   },
   {
    "duration": 10,
    "start_time": "2022-09-04T17:31:20.761Z"
   },
   {
    "duration": 9,
    "start_time": "2022-09-04T17:31:20.772Z"
   },
   {
    "duration": 30,
    "start_time": "2022-09-04T17:31:20.783Z"
   },
   {
    "duration": 22,
    "start_time": "2022-09-04T17:31:20.814Z"
   },
   {
    "duration": 17,
    "start_time": "2022-09-04T17:31:20.837Z"
   },
   {
    "duration": 7,
    "start_time": "2022-09-04T17:31:20.855Z"
   },
   {
    "duration": 17,
    "start_time": "2022-09-04T17:31:20.863Z"
   },
   {
    "duration": 28,
    "start_time": "2022-09-04T17:31:20.881Z"
   },
   {
    "duration": 19,
    "start_time": "2022-09-04T17:31:20.910Z"
   },
   {
    "duration": 4,
    "start_time": "2022-09-04T17:31:20.931Z"
   },
   {
    "duration": 16,
    "start_time": "2022-09-04T17:31:20.937Z"
   },
   {
    "duration": 9,
    "start_time": "2022-09-04T17:31:20.955Z"
   },
   {
    "duration": 6,
    "start_time": "2022-09-04T17:31:20.966Z"
   },
   {
    "duration": 37,
    "start_time": "2022-09-04T17:31:20.974Z"
   },
   {
    "duration": 6,
    "start_time": "2022-09-04T17:31:21.013Z"
   },
   {
    "duration": 5,
    "start_time": "2022-09-04T17:31:21.020Z"
   },
   {
    "duration": 11,
    "start_time": "2022-09-04T17:31:21.026Z"
   },
   {
    "duration": 12,
    "start_time": "2022-09-04T17:31:21.039Z"
   },
   {
    "duration": 8,
    "start_time": "2022-09-04T17:31:21.053Z"
   },
   {
    "duration": 11,
    "start_time": "2022-09-04T17:31:21.062Z"
   },
   {
    "duration": 46,
    "start_time": "2022-09-04T17:31:21.075Z"
   },
   {
    "duration": 7,
    "start_time": "2022-09-04T17:31:21.123Z"
   },
   {
    "duration": 33,
    "start_time": "2022-09-04T17:31:21.132Z"
   },
   {
    "duration": 14,
    "start_time": "2022-09-04T17:31:21.167Z"
   },
   {
    "duration": 9,
    "start_time": "2022-09-04T17:31:21.199Z"
   },
   {
    "duration": 23,
    "start_time": "2022-09-04T17:31:21.209Z"
   },
   {
    "duration": 9,
    "start_time": "2022-09-04T17:31:21.233Z"
   },
   {
    "duration": 25,
    "start_time": "2022-09-04T17:31:21.243Z"
   },
   {
    "duration": 34,
    "start_time": "2022-09-04T17:31:21.270Z"
   },
   {
    "duration": 20,
    "start_time": "2022-09-04T17:31:21.305Z"
   },
   {
    "duration": 19,
    "start_time": "2022-09-04T17:31:21.327Z"
   },
   {
    "duration": 28,
    "start_time": "2022-09-04T17:31:21.347Z"
   },
   {
    "duration": 44,
    "start_time": "2022-09-04T17:31:21.376Z"
   },
   {
    "duration": 23,
    "start_time": "2022-09-04T17:31:21.421Z"
   },
   {
    "duration": 3,
    "start_time": "2022-09-04T17:31:21.445Z"
   },
   {
    "duration": 5,
    "start_time": "2022-09-04T17:31:21.449Z"
   },
   {
    "duration": 112,
    "start_time": "2022-09-04T17:31:21.455Z"
   },
   {
    "duration": 205,
    "start_time": "2022-09-04T17:31:21.569Z"
   },
   {
    "duration": 4,
    "start_time": "2022-09-04T17:31:21.775Z"
   },
   {
    "duration": 77,
    "start_time": "2022-09-04T17:31:21.780Z"
   },
   {
    "duration": 203,
    "start_time": "2022-09-04T17:31:25.088Z"
   },
   {
    "duration": 76,
    "start_time": "2022-09-04T17:32:03.657Z"
   },
   {
    "duration": 197,
    "start_time": "2022-09-04T17:32:09.831Z"
   },
   {
    "duration": 835,
    "start_time": "2022-09-04T17:32:27.067Z"
   },
   {
    "duration": 223,
    "start_time": "2022-09-04T17:32:35.196Z"
   },
   {
    "duration": 97,
    "start_time": "2022-09-04T17:32:53.718Z"
   },
   {
    "duration": 124,
    "start_time": "2022-09-04T17:33:10.258Z"
   },
   {
    "duration": 0,
    "start_time": "2022-09-04T17:33:10.384Z"
   },
   {
    "duration": 0,
    "start_time": "2022-09-04T17:33:10.386Z"
   },
   {
    "duration": 0,
    "start_time": "2022-09-04T17:33:10.387Z"
   },
   {
    "duration": 0,
    "start_time": "2022-09-04T17:33:10.388Z"
   },
   {
    "duration": 0,
    "start_time": "2022-09-04T17:33:10.389Z"
   },
   {
    "duration": 0,
    "start_time": "2022-09-04T17:33:10.390Z"
   },
   {
    "duration": 0,
    "start_time": "2022-09-04T17:33:10.391Z"
   },
   {
    "duration": 0,
    "start_time": "2022-09-04T17:33:10.392Z"
   },
   {
    "duration": 0,
    "start_time": "2022-09-04T17:33:10.393Z"
   },
   {
    "duration": 0,
    "start_time": "2022-09-04T17:33:10.394Z"
   },
   {
    "duration": 0,
    "start_time": "2022-09-04T17:33:10.395Z"
   },
   {
    "duration": 2,
    "start_time": "2022-09-04T17:33:21.465Z"
   },
   {
    "duration": 315,
    "start_time": "2022-09-04T17:33:21.477Z"
   },
   {
    "duration": 14,
    "start_time": "2022-09-04T17:33:21.794Z"
   },
   {
    "duration": 24,
    "start_time": "2022-09-04T17:33:21.810Z"
   },
   {
    "duration": 4,
    "start_time": "2022-09-04T17:33:21.835Z"
   },
   {
    "duration": 11,
    "start_time": "2022-09-04T17:33:21.840Z"
   },
   {
    "duration": 12,
    "start_time": "2022-09-04T17:33:21.853Z"
   },
   {
    "duration": 9,
    "start_time": "2022-09-04T17:33:21.867Z"
   },
   {
    "duration": 4,
    "start_time": "2022-09-04T17:33:21.878Z"
   },
   {
    "duration": 11,
    "start_time": "2022-09-04T17:33:21.883Z"
   },
   {
    "duration": 35,
    "start_time": "2022-09-04T17:33:21.898Z"
   },
   {
    "duration": 20,
    "start_time": "2022-09-04T17:33:21.935Z"
   },
   {
    "duration": 7,
    "start_time": "2022-09-04T17:33:21.956Z"
   },
   {
    "duration": 18,
    "start_time": "2022-09-04T17:33:21.965Z"
   },
   {
    "duration": 5,
    "start_time": "2022-09-04T17:33:21.984Z"
   },
   {
    "duration": 32,
    "start_time": "2022-09-04T17:33:21.990Z"
   },
   {
    "duration": 5,
    "start_time": "2022-09-04T17:33:22.024Z"
   },
   {
    "duration": 18,
    "start_time": "2022-09-04T17:33:22.031Z"
   },
   {
    "duration": 9,
    "start_time": "2022-09-04T17:33:22.051Z"
   },
   {
    "duration": 7,
    "start_time": "2022-09-04T17:33:22.061Z"
   },
   {
    "duration": 33,
    "start_time": "2022-09-04T17:33:22.069Z"
   },
   {
    "duration": 7,
    "start_time": "2022-09-04T17:33:22.104Z"
   },
   {
    "duration": 15,
    "start_time": "2022-09-04T17:33:22.117Z"
   },
   {
    "duration": 11,
    "start_time": "2022-09-04T17:33:22.133Z"
   },
   {
    "duration": 13,
    "start_time": "2022-09-04T17:33:22.145Z"
   },
   {
    "duration": 8,
    "start_time": "2022-09-04T17:33:22.159Z"
   },
   {
    "duration": 10,
    "start_time": "2022-09-04T17:33:22.169Z"
   },
   {
    "duration": 25,
    "start_time": "2022-09-04T17:33:22.180Z"
   },
   {
    "duration": 8,
    "start_time": "2022-09-04T17:33:22.209Z"
   },
   {
    "duration": 43,
    "start_time": "2022-09-04T17:33:22.218Z"
   },
   {
    "duration": 13,
    "start_time": "2022-09-04T17:33:22.263Z"
   },
   {
    "duration": 5,
    "start_time": "2022-09-04T17:33:22.278Z"
   },
   {
    "duration": 9,
    "start_time": "2022-09-04T17:33:22.298Z"
   },
   {
    "duration": 27,
    "start_time": "2022-09-04T17:33:22.309Z"
   },
   {
    "duration": 27,
    "start_time": "2022-09-04T17:33:22.337Z"
   },
   {
    "duration": 19,
    "start_time": "2022-09-04T17:33:22.366Z"
   },
   {
    "duration": 23,
    "start_time": "2022-09-04T17:33:22.387Z"
   },
   {
    "duration": 26,
    "start_time": "2022-09-04T17:33:22.411Z"
   },
   {
    "duration": 28,
    "start_time": "2022-09-04T17:33:22.439Z"
   },
   {
    "duration": 41,
    "start_time": "2022-09-04T17:33:22.468Z"
   },
   {
    "duration": 28,
    "start_time": "2022-09-04T17:33:22.511Z"
   },
   {
    "duration": 3,
    "start_time": "2022-09-04T17:33:22.540Z"
   },
   {
    "duration": 6,
    "start_time": "2022-09-04T17:33:22.544Z"
   },
   {
    "duration": 128,
    "start_time": "2022-09-04T17:33:22.552Z"
   },
   {
    "duration": 197,
    "start_time": "2022-09-04T17:33:22.681Z"
   },
   {
    "duration": 3,
    "start_time": "2022-09-04T17:33:22.880Z"
   },
   {
    "duration": 76,
    "start_time": "2022-09-04T17:33:22.884Z"
   },
   {
    "duration": 215,
    "start_time": "2022-09-04T17:33:22.962Z"
   },
   {
    "duration": 5,
    "start_time": "2022-09-04T17:33:23.178Z"
   },
   {
    "duration": 99,
    "start_time": "2022-09-04T17:33:23.184Z"
   },
   {
    "duration": 105,
    "start_time": "2022-09-04T17:33:40.723Z"
   },
   {
    "duration": 96,
    "start_time": "2022-09-04T17:34:35.852Z"
   },
   {
    "duration": 394,
    "start_time": "2022-09-04T17:34:46.457Z"
   },
   {
    "duration": 323,
    "start_time": "2022-09-04T17:34:55.253Z"
   },
   {
    "duration": 349,
    "start_time": "2022-09-04T17:35:40.781Z"
   },
   {
    "duration": 381,
    "start_time": "2022-09-04T17:39:52.266Z"
   },
   {
    "duration": 485,
    "start_time": "2022-09-04T17:40:44.474Z"
   },
   {
    "duration": 384,
    "start_time": "2022-09-04T17:40:57.362Z"
   },
   {
    "duration": 390,
    "start_time": "2022-09-04T17:41:16.699Z"
   },
   {
    "duration": 186,
    "start_time": "2022-09-04T17:41:47.707Z"
   },
   {
    "duration": 192,
    "start_time": "2022-09-04T17:42:57.223Z"
   },
   {
    "duration": 171,
    "start_time": "2022-09-04T17:43:40.575Z"
   },
   {
    "duration": 160,
    "start_time": "2022-09-04T17:44:58.393Z"
   },
   {
    "duration": 187,
    "start_time": "2022-09-04T17:45:20.413Z"
   },
   {
    "duration": 254,
    "start_time": "2022-09-04T17:45:43.672Z"
   },
   {
    "duration": 163,
    "start_time": "2022-09-04T17:45:55.376Z"
   },
   {
    "duration": 13,
    "start_time": "2022-09-04T17:46:28.574Z"
   },
   {
    "duration": 16,
    "start_time": "2022-09-04T17:46:40.939Z"
   },
   {
    "duration": 16,
    "start_time": "2022-09-04T17:46:44.892Z"
   },
   {
    "duration": 14,
    "start_time": "2022-09-04T17:46:48.493Z"
   },
   {
    "duration": 3,
    "start_time": "2022-09-04T17:46:59.324Z"
   },
   {
    "duration": 270,
    "start_time": "2022-09-04T17:46:59.330Z"
   },
   {
    "duration": 9,
    "start_time": "2022-09-04T17:46:59.602Z"
   },
   {
    "duration": 16,
    "start_time": "2022-09-04T17:46:59.612Z"
   },
   {
    "duration": 8,
    "start_time": "2022-09-04T17:46:59.629Z"
   },
   {
    "duration": 12,
    "start_time": "2022-09-04T17:46:59.639Z"
   },
   {
    "duration": 12,
    "start_time": "2022-09-04T17:46:59.652Z"
   },
   {
    "duration": 10,
    "start_time": "2022-09-04T17:46:59.665Z"
   },
   {
    "duration": 6,
    "start_time": "2022-09-04T17:46:59.677Z"
   },
   {
    "duration": 17,
    "start_time": "2022-09-04T17:46:59.684Z"
   },
   {
    "duration": 17,
    "start_time": "2022-09-04T17:46:59.703Z"
   },
   {
    "duration": 16,
    "start_time": "2022-09-04T17:46:59.722Z"
   },
   {
    "duration": 6,
    "start_time": "2022-09-04T17:46:59.740Z"
   },
   {
    "duration": 15,
    "start_time": "2022-09-04T17:46:59.747Z"
   },
   {
    "duration": 3,
    "start_time": "2022-09-04T17:46:59.764Z"
   },
   {
    "duration": 41,
    "start_time": "2022-09-04T17:46:59.768Z"
   },
   {
    "duration": 4,
    "start_time": "2022-09-04T17:46:59.810Z"
   },
   {
    "duration": 18,
    "start_time": "2022-09-04T17:46:59.816Z"
   },
   {
    "duration": 9,
    "start_time": "2022-09-04T17:46:59.835Z"
   },
   {
    "duration": 6,
    "start_time": "2022-09-04T17:46:59.845Z"
   },
   {
    "duration": 15,
    "start_time": "2022-09-04T17:46:59.853Z"
   },
   {
    "duration": 30,
    "start_time": "2022-09-04T17:46:59.870Z"
   },
   {
    "duration": 6,
    "start_time": "2022-09-04T17:46:59.901Z"
   },
   {
    "duration": 10,
    "start_time": "2022-09-04T17:46:59.909Z"
   },
   {
    "duration": 16,
    "start_time": "2022-09-04T17:46:59.920Z"
   },
   {
    "duration": 9,
    "start_time": "2022-09-04T17:46:59.937Z"
   },
   {
    "duration": 11,
    "start_time": "2022-09-04T17:46:59.947Z"
   },
   {
    "duration": 43,
    "start_time": "2022-09-04T17:46:59.960Z"
   },
   {
    "duration": 8,
    "start_time": "2022-09-04T17:47:00.007Z"
   },
   {
    "duration": 45,
    "start_time": "2022-09-04T17:47:00.016Z"
   },
   {
    "duration": 14,
    "start_time": "2022-09-04T17:47:00.063Z"
   },
   {
    "duration": 23,
    "start_time": "2022-09-04T17:47:00.079Z"
   },
   {
    "duration": 18,
    "start_time": "2022-09-04T17:47:00.103Z"
   },
   {
    "duration": 21,
    "start_time": "2022-09-04T17:47:00.122Z"
   },
   {
    "duration": 34,
    "start_time": "2022-09-04T17:47:00.144Z"
   },
   {
    "duration": 18,
    "start_time": "2022-09-04T17:47:00.179Z"
   },
   {
    "duration": 16,
    "start_time": "2022-09-04T17:47:00.199Z"
   },
   {
    "duration": 38,
    "start_time": "2022-09-04T17:47:00.217Z"
   },
   {
    "duration": 52,
    "start_time": "2022-09-04T17:47:00.256Z"
   },
   {
    "duration": 20,
    "start_time": "2022-09-04T17:47:00.309Z"
   },
   {
    "duration": 24,
    "start_time": "2022-09-04T17:47:00.330Z"
   },
   {
    "duration": 3,
    "start_time": "2022-09-04T17:47:00.355Z"
   },
   {
    "duration": 22,
    "start_time": "2022-09-04T17:47:00.360Z"
   },
   {
    "duration": 139,
    "start_time": "2022-09-04T17:47:00.384Z"
   },
   {
    "duration": 195,
    "start_time": "2022-09-04T17:47:00.525Z"
   },
   {
    "duration": 3,
    "start_time": "2022-09-04T17:47:00.721Z"
   },
   {
    "duration": 75,
    "start_time": "2022-09-04T17:47:00.726Z"
   },
   {
    "duration": 14,
    "start_time": "2022-09-04T17:47:02.556Z"
   },
   {
    "duration": 171,
    "start_time": "2022-09-04T17:47:14.930Z"
   },
   {
    "duration": 168,
    "start_time": "2022-09-04T17:59:56.677Z"
   },
   {
    "duration": 195,
    "start_time": "2022-09-04T18:00:59.717Z"
   },
   {
    "duration": 191,
    "start_time": "2022-09-04T18:01:24.783Z"
   },
   {
    "duration": 157,
    "start_time": "2022-09-04T18:02:01.767Z"
   },
   {
    "duration": 15,
    "start_time": "2022-09-04T18:02:33.659Z"
   },
   {
    "duration": 19,
    "start_time": "2022-09-04T18:02:36.992Z"
   },
   {
    "duration": 176,
    "start_time": "2022-09-04T18:02:53.383Z"
   },
   {
    "duration": 54,
    "start_time": "2022-09-04T18:05:54.530Z"
   },
   {
    "duration": 1147,
    "start_time": "2022-09-04T18:06:05.719Z"
   },
   {
    "duration": 1085,
    "start_time": "2022-09-04T18:06:09.670Z"
   },
   {
    "duration": 98,
    "start_time": "2022-09-04T18:06:26.793Z"
   },
   {
    "duration": 2294,
    "start_time": "2022-09-04T18:06:32.394Z"
   },
   {
    "duration": 1437,
    "start_time": "2022-09-04T18:06:37.323Z"
   },
   {
    "duration": 21,
    "start_time": "2022-09-04T18:07:42.090Z"
   },
   {
    "duration": 50,
    "start_time": "2022-09-04T18:11:09.972Z"
   },
   {
    "duration": 57,
    "start_time": "2022-09-04T18:11:28.584Z"
   },
   {
    "duration": 47,
    "start_time": "2022-09-04T18:11:53.836Z"
   },
   {
    "duration": 43,
    "start_time": "2022-09-04T18:11:57.616Z"
   },
   {
    "duration": 1410,
    "start_time": "2022-09-04T18:12:14.446Z"
   },
   {
    "duration": 43,
    "start_time": "2022-09-04T18:13:25.480Z"
   },
   {
    "duration": 17,
    "start_time": "2022-09-04T18:13:36.531Z"
   },
   {
    "duration": 880,
    "start_time": "2022-09-04T18:13:58.527Z"
   },
   {
    "duration": 179,
    "start_time": "2022-09-04T18:14:07.667Z"
   },
   {
    "duration": 284,
    "start_time": "2022-09-04T18:27:01.039Z"
   },
   {
    "duration": 12,
    "start_time": "2022-09-04T18:27:25.361Z"
   },
   {
    "duration": 269,
    "start_time": "2022-09-04T18:27:34.697Z"
   },
   {
    "duration": 762,
    "start_time": "2022-09-04T18:32:51.286Z"
   },
   {
    "duration": 229,
    "start_time": "2022-09-04T18:32:55.992Z"
   },
   {
    "duration": 219,
    "start_time": "2022-09-04T18:34:09.193Z"
   },
   {
    "duration": 19,
    "start_time": "2022-09-04T18:37:54.310Z"
   },
   {
    "duration": 18,
    "start_time": "2022-09-04T18:38:09.388Z"
   },
   {
    "duration": 25,
    "start_time": "2022-09-04T18:38:44.744Z"
   },
   {
    "duration": 15,
    "start_time": "2022-09-04T18:39:27.810Z"
   },
   {
    "duration": 36,
    "start_time": "2022-09-04T18:39:33.074Z"
   },
   {
    "duration": 404,
    "start_time": "2022-09-04T18:40:00.113Z"
   },
   {
    "duration": 383,
    "start_time": "2022-09-04T18:40:07.330Z"
   },
   {
    "duration": 244,
    "start_time": "2022-09-04T18:41:03.079Z"
   },
   {
    "duration": 32,
    "start_time": "2022-09-04T18:41:52.530Z"
   },
   {
    "duration": 207,
    "start_time": "2022-09-04T19:05:03.183Z"
   },
   {
    "duration": 214,
    "start_time": "2022-09-04T19:05:22.709Z"
   },
   {
    "duration": 209,
    "start_time": "2022-09-04T19:05:56.182Z"
   },
   {
    "duration": 220,
    "start_time": "2022-09-04T19:06:52.825Z"
   },
   {
    "duration": 65,
    "start_time": "2022-09-05T07:25:14.912Z"
   },
   {
    "duration": 1395,
    "start_time": "2022-09-05T07:25:55.349Z"
   },
   {
    "duration": 1030,
    "start_time": "2022-09-05T07:25:56.747Z"
   },
   {
    "duration": 13,
    "start_time": "2022-09-05T07:25:57.779Z"
   },
   {
    "duration": 15,
    "start_time": "2022-09-05T07:25:57.795Z"
   },
   {
    "duration": 4,
    "start_time": "2022-09-05T07:25:57.812Z"
   },
   {
    "duration": 15,
    "start_time": "2022-09-05T07:25:57.818Z"
   },
   {
    "duration": 17,
    "start_time": "2022-09-05T07:25:57.835Z"
   },
   {
    "duration": 33,
    "start_time": "2022-09-05T07:25:57.854Z"
   },
   {
    "duration": 3,
    "start_time": "2022-09-05T07:25:57.889Z"
   },
   {
    "duration": 12,
    "start_time": "2022-09-05T07:25:57.894Z"
   },
   {
    "duration": 21,
    "start_time": "2022-09-05T07:25:57.907Z"
   },
   {
    "duration": 21,
    "start_time": "2022-09-05T07:25:57.929Z"
   },
   {
    "duration": 8,
    "start_time": "2022-09-05T07:25:57.951Z"
   },
   {
    "duration": 21,
    "start_time": "2022-09-05T07:25:57.988Z"
   },
   {
    "duration": 12,
    "start_time": "2022-09-05T07:25:58.011Z"
   },
   {
    "duration": 27,
    "start_time": "2022-09-05T07:25:58.025Z"
   },
   {
    "duration": 5,
    "start_time": "2022-09-05T07:25:58.054Z"
   },
   {
    "duration": 31,
    "start_time": "2022-09-05T07:25:58.062Z"
   },
   {
    "duration": 16,
    "start_time": "2022-09-05T07:25:58.095Z"
   },
   {
    "duration": 7,
    "start_time": "2022-09-05T07:25:58.113Z"
   },
   {
    "duration": 18,
    "start_time": "2022-09-05T07:25:58.122Z"
   },
   {
    "duration": 8,
    "start_time": "2022-09-05T07:25:58.141Z"
   },
   {
    "duration": 39,
    "start_time": "2022-09-05T07:25:58.150Z"
   },
   {
    "duration": 20,
    "start_time": "2022-09-05T07:25:58.191Z"
   },
   {
    "duration": 16,
    "start_time": "2022-09-05T07:25:58.213Z"
   },
   {
    "duration": 11,
    "start_time": "2022-09-05T07:25:58.231Z"
   },
   {
    "duration": 46,
    "start_time": "2022-09-05T07:25:58.243Z"
   },
   {
    "duration": 18,
    "start_time": "2022-09-05T07:25:58.292Z"
   },
   {
    "duration": 8,
    "start_time": "2022-09-05T07:25:58.312Z"
   },
   {
    "duration": 65,
    "start_time": "2022-09-05T07:25:58.322Z"
   },
   {
    "duration": 18,
    "start_time": "2022-09-05T07:25:58.389Z"
   },
   {
    "duration": 8,
    "start_time": "2022-09-05T07:25:58.409Z"
   },
   {
    "duration": 11,
    "start_time": "2022-09-05T07:25:58.418Z"
   },
   {
    "duration": 13,
    "start_time": "2022-09-05T07:25:58.430Z"
   },
   {
    "duration": 57,
    "start_time": "2022-09-05T07:25:58.445Z"
   },
   {
    "duration": 23,
    "start_time": "2022-09-05T07:25:58.504Z"
   },
   {
    "duration": 18,
    "start_time": "2022-09-05T07:25:58.529Z"
   },
   {
    "duration": 47,
    "start_time": "2022-09-05T07:25:58.549Z"
   },
   {
    "duration": 32,
    "start_time": "2022-09-05T07:25:58.598Z"
   },
   {
    "duration": 22,
    "start_time": "2022-09-05T07:25:58.632Z"
   },
   {
    "duration": 52,
    "start_time": "2022-09-05T07:25:58.656Z"
   },
   {
    "duration": 3,
    "start_time": "2022-09-05T07:25:58.710Z"
   },
   {
    "duration": 7,
    "start_time": "2022-09-05T07:25:58.715Z"
   },
   {
    "duration": 117,
    "start_time": "2022-09-05T07:25:58.724Z"
   },
   {
    "duration": 226,
    "start_time": "2022-09-05T07:25:58.843Z"
   },
   {
    "duration": 20,
    "start_time": "2022-09-05T07:26:02.279Z"
   },
   {
    "duration": 28,
    "start_time": "2022-09-05T07:34:13.958Z"
   },
   {
    "duration": 37,
    "start_time": "2022-09-05T07:34:25.639Z"
   },
   {
    "duration": 79,
    "start_time": "2022-09-05T07:35:11.515Z"
   },
   {
    "duration": 27,
    "start_time": "2022-09-05T07:35:32.610Z"
   },
   {
    "duration": 44,
    "start_time": "2022-09-05T07:36:06.826Z"
   },
   {
    "duration": 3,
    "start_time": "2022-09-05T07:48:11.387Z"
   },
   {
    "duration": 3,
    "start_time": "2022-09-05T07:48:24.424Z"
   },
   {
    "duration": 45,
    "start_time": "2022-09-05T07:50:05.665Z"
   },
   {
    "duration": 44,
    "start_time": "2022-09-05T07:50:11.952Z"
   },
   {
    "duration": 4,
    "start_time": "2022-09-05T07:51:37.902Z"
   },
   {
    "duration": 3,
    "start_time": "2022-09-05T07:55:28.987Z"
   },
   {
    "duration": 4,
    "start_time": "2022-09-05T07:55:37.394Z"
   },
   {
    "duration": 13,
    "start_time": "2022-09-05T07:58:48.356Z"
   },
   {
    "duration": 3,
    "start_time": "2022-09-05T07:58:57.987Z"
   },
   {
    "duration": 325,
    "start_time": "2022-09-05T07:58:57.994Z"
   },
   {
    "duration": 10,
    "start_time": "2022-09-05T07:58:58.322Z"
   },
   {
    "duration": 20,
    "start_time": "2022-09-05T07:58:58.333Z"
   },
   {
    "duration": 4,
    "start_time": "2022-09-05T07:58:58.355Z"
   },
   {
    "duration": 16,
    "start_time": "2022-09-05T07:58:58.361Z"
   },
   {
    "duration": 19,
    "start_time": "2022-09-05T07:58:58.379Z"
   },
   {
    "duration": 12,
    "start_time": "2022-09-05T07:58:58.399Z"
   },
   {
    "duration": 7,
    "start_time": "2022-09-05T07:58:58.413Z"
   },
   {
    "duration": 10,
    "start_time": "2022-09-05T07:58:58.421Z"
   },
   {
    "duration": 18,
    "start_time": "2022-09-05T07:58:58.510Z"
   },
   {
    "duration": 23,
    "start_time": "2022-09-05T07:58:58.529Z"
   },
   {
    "duration": 8,
    "start_time": "2022-09-05T07:58:58.553Z"
   },
   {
    "duration": 19,
    "start_time": "2022-09-05T07:58:58.562Z"
   },
   {
    "duration": 4,
    "start_time": "2022-09-05T07:58:58.583Z"
   },
   {
    "duration": 24,
    "start_time": "2022-09-05T07:58:58.588Z"
   },
   {
    "duration": 4,
    "start_time": "2022-09-05T07:58:58.614Z"
   },
   {
    "duration": 15,
    "start_time": "2022-09-05T07:58:58.802Z"
   },
   {
    "duration": 16,
    "start_time": "2022-09-05T07:58:58.819Z"
   },
   {
    "duration": 9,
    "start_time": "2022-09-05T07:58:58.837Z"
   },
   {
    "duration": 16,
    "start_time": "2022-09-05T07:58:59.007Z"
   },
   {
    "duration": 8,
    "start_time": "2022-09-05T07:58:59.025Z"
   },
   {
    "duration": 7,
    "start_time": "2022-09-05T07:58:59.034Z"
   },
   {
    "duration": 13,
    "start_time": "2022-09-05T07:58:59.042Z"
   },
   {
    "duration": 18,
    "start_time": "2022-09-05T07:58:59.057Z"
   },
   {
    "duration": 9,
    "start_time": "2022-09-05T07:58:59.076Z"
   },
   {
    "duration": 14,
    "start_time": "2022-09-05T07:58:59.278Z"
   },
   {
    "duration": 17,
    "start_time": "2022-09-05T07:58:59.294Z"
   },
   {
    "duration": 10,
    "start_time": "2022-09-05T07:58:59.313Z"
   },
   {
    "duration": 38,
    "start_time": "2022-09-05T07:58:59.325Z"
   },
   {
    "duration": 19,
    "start_time": "2022-09-05T07:58:59.497Z"
   },
   {
    "duration": 6,
    "start_time": "2022-09-05T07:58:59.518Z"
   },
   {
    "duration": 14,
    "start_time": "2022-09-05T07:58:59.527Z"
   },
   {
    "duration": 11,
    "start_time": "2022-09-05T07:58:59.542Z"
   },
   {
    "duration": 33,
    "start_time": "2022-09-05T07:58:59.554Z"
   },
   {
    "duration": 22,
    "start_time": "2022-09-05T07:58:59.589Z"
   },
   {
    "duration": 17,
    "start_time": "2022-09-05T07:58:59.613Z"
   },
   {
    "duration": 22,
    "start_time": "2022-09-05T07:58:59.765Z"
   },
   {
    "duration": 28,
    "start_time": "2022-09-05T07:58:59.789Z"
   },
   {
    "duration": 20,
    "start_time": "2022-09-05T07:58:59.819Z"
   },
   {
    "duration": 47,
    "start_time": "2022-09-05T07:58:59.841Z"
   },
   {
    "duration": 4,
    "start_time": "2022-09-05T07:59:00.003Z"
   },
   {
    "duration": 13,
    "start_time": "2022-09-05T07:59:00.009Z"
   },
   {
    "duration": 130,
    "start_time": "2022-09-05T07:59:00.030Z"
   },
   {
    "duration": 221,
    "start_time": "2022-09-05T07:59:00.162Z"
   },
   {
    "duration": 3,
    "start_time": "2022-09-05T07:59:00.386Z"
   },
   {
    "duration": 0,
    "start_time": "2022-09-05T07:59:00.391Z"
   },
   {
    "duration": 0,
    "start_time": "2022-09-05T07:59:00.392Z"
   },
   {
    "duration": 13,
    "start_time": "2022-09-05T07:59:05.847Z"
   },
   {
    "duration": 8,
    "start_time": "2022-09-05T07:59:24.126Z"
   },
   {
    "duration": 3,
    "start_time": "2022-09-05T07:59:44.999Z"
   },
   {
    "duration": 39,
    "start_time": "2022-09-05T07:59:47.432Z"
   },
   {
    "duration": 201,
    "start_time": "2022-09-05T07:59:51.851Z"
   },
   {
    "duration": 209,
    "start_time": "2022-09-05T08:03:48.138Z"
   },
   {
    "duration": 193,
    "start_time": "2022-09-05T08:05:32.595Z"
   },
   {
    "duration": 258,
    "start_time": "2022-09-05T08:06:18.260Z"
   },
   {
    "duration": 48,
    "start_time": "2022-09-05T08:07:24.025Z"
   },
   {
    "duration": 50,
    "start_time": "2022-09-05T08:07:43.335Z"
   },
   {
    "duration": 8,
    "start_time": "2022-09-05T08:08:25.349Z"
   },
   {
    "duration": 2,
    "start_time": "2022-09-05T08:09:04.190Z"
   },
   {
    "duration": 308,
    "start_time": "2022-09-05T08:09:04.197Z"
   },
   {
    "duration": 10,
    "start_time": "2022-09-05T08:09:04.506Z"
   },
   {
    "duration": 27,
    "start_time": "2022-09-05T08:09:04.518Z"
   },
   {
    "duration": 8,
    "start_time": "2022-09-05T08:09:04.547Z"
   },
   {
    "duration": 21,
    "start_time": "2022-09-05T08:09:04.557Z"
   },
   {
    "duration": 15,
    "start_time": "2022-09-05T08:09:04.579Z"
   },
   {
    "duration": 12,
    "start_time": "2022-09-05T08:09:04.596Z"
   },
   {
    "duration": 7,
    "start_time": "2022-09-05T08:09:04.610Z"
   },
   {
    "duration": 7,
    "start_time": "2022-09-05T08:09:04.619Z"
   },
   {
    "duration": 20,
    "start_time": "2022-09-05T08:09:04.629Z"
   },
   {
    "duration": 19,
    "start_time": "2022-09-05T08:09:04.651Z"
   },
   {
    "duration": 9,
    "start_time": "2022-09-05T08:09:04.687Z"
   },
   {
    "duration": 21,
    "start_time": "2022-09-05T08:09:04.697Z"
   },
   {
    "duration": 5,
    "start_time": "2022-09-05T08:09:04.719Z"
   },
   {
    "duration": 21,
    "start_time": "2022-09-05T08:09:04.726Z"
   },
   {
    "duration": 5,
    "start_time": "2022-09-05T08:09:04.749Z"
   },
   {
    "duration": 33,
    "start_time": "2022-09-05T08:09:04.755Z"
   },
   {
    "duration": 16,
    "start_time": "2022-09-05T08:09:04.789Z"
   },
   {
    "duration": 12,
    "start_time": "2022-09-05T08:09:04.807Z"
   },
   {
    "duration": 22,
    "start_time": "2022-09-05T08:09:04.820Z"
   },
   {
    "duration": 10,
    "start_time": "2022-09-05T08:09:04.843Z"
   },
   {
    "duration": 9,
    "start_time": "2022-09-05T08:09:04.855Z"
   },
   {
    "duration": 22,
    "start_time": "2022-09-05T08:09:04.866Z"
   },
   {
    "duration": 19,
    "start_time": "2022-09-05T08:09:04.889Z"
   },
   {
    "duration": 11,
    "start_time": "2022-09-05T08:09:04.909Z"
   },
   {
    "duration": 22,
    "start_time": "2022-09-05T08:09:04.922Z"
   },
   {
    "duration": 17,
    "start_time": "2022-09-05T08:09:04.946Z"
   },
   {
    "duration": 7,
    "start_time": "2022-09-05T08:09:04.966Z"
   },
   {
    "duration": 32,
    "start_time": "2022-09-05T08:09:04.987Z"
   },
   {
    "duration": 18,
    "start_time": "2022-09-05T08:09:05.020Z"
   },
   {
    "duration": 5,
    "start_time": "2022-09-05T08:09:05.040Z"
   },
   {
    "duration": 12,
    "start_time": "2022-09-05T08:09:05.046Z"
   },
   {
    "duration": 29,
    "start_time": "2022-09-05T08:09:05.060Z"
   },
   {
    "duration": 33,
    "start_time": "2022-09-05T08:09:05.091Z"
   },
   {
    "duration": 18,
    "start_time": "2022-09-05T08:09:05.125Z"
   },
   {
    "duration": 16,
    "start_time": "2022-09-05T08:09:05.145Z"
   },
   {
    "duration": 42,
    "start_time": "2022-09-05T08:09:05.163Z"
   },
   {
    "duration": 31,
    "start_time": "2022-09-05T08:09:05.207Z"
   },
   {
    "duration": 32,
    "start_time": "2022-09-05T08:09:05.240Z"
   },
   {
    "duration": 41,
    "start_time": "2022-09-05T08:09:05.273Z"
   },
   {
    "duration": 3,
    "start_time": "2022-09-05T08:09:05.316Z"
   },
   {
    "duration": 17,
    "start_time": "2022-09-05T08:09:05.321Z"
   },
   {
    "duration": 170,
    "start_time": "2022-09-05T08:09:05.340Z"
   },
   {
    "duration": 217,
    "start_time": "2022-09-05T08:09:05.511Z"
   },
   {
    "duration": 4,
    "start_time": "2022-09-05T08:09:05.729Z"
   },
   {
    "duration": 0,
    "start_time": "2022-09-05T08:09:05.735Z"
   },
   {
    "duration": 0,
    "start_time": "2022-09-05T08:09:05.736Z"
   },
   {
    "duration": 0,
    "start_time": "2022-09-05T08:09:05.737Z"
   },
   {
    "duration": 0,
    "start_time": "2022-09-05T08:09:05.739Z"
   },
   {
    "duration": 12,
    "start_time": "2022-09-05T08:09:16.633Z"
   },
   {
    "duration": 5,
    "start_time": "2022-09-05T08:09:24.653Z"
   },
   {
    "duration": 11,
    "start_time": "2022-09-05T08:09:26.986Z"
   },
   {
    "duration": 40,
    "start_time": "2022-09-05T08:09:49.496Z"
   },
   {
    "duration": 11,
    "start_time": "2022-09-05T08:09:53.227Z"
   },
   {
    "duration": 12,
    "start_time": "2022-09-05T08:10:28.025Z"
   },
   {
    "duration": 12,
    "start_time": "2022-09-05T08:10:33.355Z"
   },
   {
    "duration": 15,
    "start_time": "2022-09-05T08:10:40.898Z"
   },
   {
    "duration": 15,
    "start_time": "2022-09-05T08:10:53.287Z"
   },
   {
    "duration": 11,
    "start_time": "2022-09-05T08:10:58.463Z"
   },
   {
    "duration": 6,
    "start_time": "2022-09-05T08:11:09.324Z"
   },
   {
    "duration": 22,
    "start_time": "2022-09-05T08:11:19.123Z"
   },
   {
    "duration": 21,
    "start_time": "2022-09-05T08:13:10.443Z"
   },
   {
    "duration": 2,
    "start_time": "2022-09-05T08:14:17.907Z"
   },
   {
    "duration": 328,
    "start_time": "2022-09-05T08:14:45.183Z"
   },
   {
    "duration": 369,
    "start_time": "2022-09-05T08:15:18.983Z"
   },
   {
    "duration": 426,
    "start_time": "2022-09-05T08:16:07.879Z"
   },
   {
    "duration": 297,
    "start_time": "2022-09-05T08:16:46.541Z"
   },
   {
    "duration": 135,
    "start_time": "2022-09-05T08:16:49.816Z"
   },
   {
    "duration": 3,
    "start_time": "2022-09-05T08:17:25.475Z"
   },
   {
    "duration": 10,
    "start_time": "2022-09-05T08:18:26.494Z"
   },
   {
    "duration": 8,
    "start_time": "2022-09-05T08:20:34.765Z"
   },
   {
    "duration": 10,
    "start_time": "2022-09-05T08:23:15.128Z"
   },
   {
    "duration": 10,
    "start_time": "2022-09-05T08:23:47.434Z"
   },
   {
    "duration": 8,
    "start_time": "2022-09-05T08:27:20.142Z"
   },
   {
    "duration": 194,
    "start_time": "2022-09-05T08:31:11.354Z"
   },
   {
    "duration": 136,
    "start_time": "2022-09-05T08:32:48.568Z"
   },
   {
    "duration": 129,
    "start_time": "2022-09-05T08:33:01.120Z"
   },
   {
    "duration": 125,
    "start_time": "2022-09-05T08:33:09.222Z"
   },
   {
    "duration": 1184,
    "start_time": "2022-09-05T08:38:36.189Z"
   },
   {
    "duration": 182,
    "start_time": "2022-09-05T08:39:47.001Z"
   },
   {
    "duration": 365,
    "start_time": "2022-09-05T08:41:19.642Z"
   },
   {
    "duration": 225,
    "start_time": "2022-09-05T08:41:26.319Z"
   },
   {
    "duration": 138,
    "start_time": "2022-09-05T08:44:57.878Z"
   },
   {
    "duration": 178,
    "start_time": "2022-09-05T08:45:15.533Z"
   },
   {
    "duration": 162,
    "start_time": "2022-09-05T08:45:38.637Z"
   },
   {
    "duration": 200,
    "start_time": "2022-09-05T08:45:49.820Z"
   },
   {
    "duration": 274,
    "start_time": "2022-09-05T08:46:57.970Z"
   },
   {
    "duration": 5,
    "start_time": "2022-09-05T08:59:17.031Z"
   },
   {
    "duration": 275,
    "start_time": "2022-09-05T08:59:48.869Z"
   },
   {
    "duration": 389,
    "start_time": "2022-09-05T09:02:52.242Z"
   },
   {
    "duration": 5,
    "start_time": "2022-09-05T09:03:06.280Z"
   },
   {
    "duration": 386,
    "start_time": "2022-09-05T09:03:06.288Z"
   },
   {
    "duration": 12,
    "start_time": "2022-09-05T09:03:06.675Z"
   },
   {
    "duration": 21,
    "start_time": "2022-09-05T09:03:06.689Z"
   },
   {
    "duration": 7,
    "start_time": "2022-09-05T09:03:06.711Z"
   },
   {
    "duration": 19,
    "start_time": "2022-09-05T09:03:06.719Z"
   },
   {
    "duration": 17,
    "start_time": "2022-09-05T09:03:06.739Z"
   },
   {
    "duration": 13,
    "start_time": "2022-09-05T09:03:06.758Z"
   },
   {
    "duration": 7,
    "start_time": "2022-09-05T09:03:06.773Z"
   },
   {
    "duration": 9,
    "start_time": "2022-09-05T09:03:06.781Z"
   },
   {
    "duration": 23,
    "start_time": "2022-09-05T09:03:06.792Z"
   },
   {
    "duration": 27,
    "start_time": "2022-09-05T09:03:06.816Z"
   },
   {
    "duration": 8,
    "start_time": "2022-09-05T09:03:06.845Z"
   },
   {
    "duration": 33,
    "start_time": "2022-09-05T09:03:06.854Z"
   },
   {
    "duration": 8,
    "start_time": "2022-09-05T09:03:06.889Z"
   },
   {
    "duration": 30,
    "start_time": "2022-09-05T09:03:06.899Z"
   },
   {
    "duration": 5,
    "start_time": "2022-09-05T09:03:06.931Z"
   },
   {
    "duration": 20,
    "start_time": "2022-09-05T09:03:06.937Z"
   },
   {
    "duration": 28,
    "start_time": "2022-09-05T09:03:06.959Z"
   },
   {
    "duration": 13,
    "start_time": "2022-09-05T09:03:06.989Z"
   },
   {
    "duration": 25,
    "start_time": "2022-09-05T09:03:07.004Z"
   },
   {
    "duration": 8,
    "start_time": "2022-09-05T09:03:07.031Z"
   },
   {
    "duration": 10,
    "start_time": "2022-09-05T09:03:07.041Z"
   },
   {
    "duration": 16,
    "start_time": "2022-09-05T09:03:07.053Z"
   },
   {
    "duration": 22,
    "start_time": "2022-09-05T09:03:07.071Z"
   },
   {
    "duration": 18,
    "start_time": "2022-09-05T09:03:07.095Z"
   },
   {
    "duration": 29,
    "start_time": "2022-09-05T09:03:07.115Z"
   },
   {
    "duration": 19,
    "start_time": "2022-09-05T09:03:07.145Z"
   },
   {
    "duration": 8,
    "start_time": "2022-09-05T09:03:07.167Z"
   },
   {
    "duration": 39,
    "start_time": "2022-09-05T09:03:07.177Z"
   },
   {
    "duration": 17,
    "start_time": "2022-09-05T09:03:07.218Z"
   },
   {
    "duration": 5,
    "start_time": "2022-09-05T09:03:07.237Z"
   },
   {
    "duration": 10,
    "start_time": "2022-09-05T09:03:07.244Z"
   },
   {
    "duration": 34,
    "start_time": "2022-09-05T09:03:07.256Z"
   },
   {
    "duration": 35,
    "start_time": "2022-09-05T09:03:07.291Z"
   },
   {
    "duration": 19,
    "start_time": "2022-09-05T09:03:07.327Z"
   },
   {
    "duration": 18,
    "start_time": "2022-09-05T09:03:07.348Z"
   },
   {
    "duration": 19,
    "start_time": "2022-09-05T09:03:07.386Z"
   },
   {
    "duration": 31,
    "start_time": "2022-09-05T09:03:07.406Z"
   },
   {
    "duration": 22,
    "start_time": "2022-09-05T09:03:07.439Z"
   },
   {
    "duration": 28,
    "start_time": "2022-09-05T09:03:07.486Z"
   },
   {
    "duration": 3,
    "start_time": "2022-09-05T09:03:07.516Z"
   },
   {
    "duration": 9,
    "start_time": "2022-09-05T09:03:07.521Z"
   },
   {
    "duration": 138,
    "start_time": "2022-09-05T09:03:07.531Z"
   },
   {
    "duration": 210,
    "start_time": "2022-09-05T09:03:07.671Z"
   },
   {
    "duration": 5,
    "start_time": "2022-09-05T09:03:07.886Z"
   },
   {
    "duration": 13,
    "start_time": "2022-09-05T09:03:07.892Z"
   },
   {
    "duration": 11,
    "start_time": "2022-09-05T09:03:07.906Z"
   },
   {
    "duration": 15,
    "start_time": "2022-09-05T09:03:07.919Z"
   },
   {
    "duration": 46,
    "start_time": "2022-09-05T09:03:07.936Z"
   },
   {
    "duration": 210,
    "start_time": "2022-09-05T09:03:07.984Z"
   },
   {
    "duration": 207,
    "start_time": "2022-09-05T09:03:08.195Z"
   },
   {
    "duration": 275,
    "start_time": "2022-09-05T09:03:08.404Z"
   },
   {
    "duration": 294,
    "start_time": "2022-09-05T09:03:11.388Z"
   },
   {
    "duration": 5,
    "start_time": "2022-09-05T09:03:17.910Z"
   },
   {
    "duration": 401,
    "start_time": "2022-09-05T09:03:20.123Z"
   },
   {
    "duration": 120,
    "start_time": "2022-09-05T09:10:22.330Z"
   },
   {
    "duration": 238,
    "start_time": "2022-09-05T09:10:38.322Z"
   },
   {
    "duration": 35,
    "start_time": "2022-09-05T09:16:04.928Z"
   },
   {
    "duration": 47,
    "start_time": "2022-09-05T09:21:04.519Z"
   },
   {
    "duration": 9,
    "start_time": "2022-09-05T09:21:08.827Z"
   },
   {
    "duration": 14,
    "start_time": "2022-09-05T09:21:34.867Z"
   },
   {
    "duration": 14,
    "start_time": "2022-09-05T09:22:52.422Z"
   },
   {
    "duration": 16,
    "start_time": "2022-09-05T09:23:08.850Z"
   },
   {
    "duration": 14,
    "start_time": "2022-09-05T09:23:18.952Z"
   },
   {
    "duration": 93,
    "start_time": "2022-09-05T09:24:19.493Z"
   },
   {
    "duration": 270,
    "start_time": "2022-09-05T09:24:41.928Z"
   },
   {
    "duration": 11,
    "start_time": "2022-09-05T09:24:55.654Z"
   },
   {
    "duration": 14,
    "start_time": "2022-09-05T09:25:14.419Z"
   },
   {
    "duration": 9,
    "start_time": "2022-09-05T09:26:11.812Z"
   },
   {
    "duration": 9,
    "start_time": "2022-09-05T09:26:44.254Z"
   },
   {
    "duration": 200,
    "start_time": "2022-09-05T09:29:41.364Z"
   },
   {
    "duration": 10,
    "start_time": "2022-09-05T09:37:55.731Z"
   },
   {
    "duration": 207,
    "start_time": "2022-09-05T09:41:34.837Z"
   },
   {
    "duration": 8,
    "start_time": "2022-09-05T09:46:47.215Z"
   },
   {
    "duration": 3,
    "start_time": "2022-09-05T09:46:53.723Z"
   },
   {
    "duration": 42,
    "start_time": "2022-09-05T09:46:55.837Z"
   },
   {
    "duration": 59,
    "start_time": "2022-09-05T09:47:03.341Z"
   },
   {
    "duration": 38,
    "start_time": "2022-09-05T09:47:24.432Z"
   },
   {
    "duration": 210,
    "start_time": "2022-09-05T09:50:02.139Z"
   },
   {
    "duration": 205,
    "start_time": "2022-09-05T09:50:47.733Z"
   },
   {
    "duration": 210,
    "start_time": "2022-09-05T09:51:16.626Z"
   },
   {
    "duration": 196,
    "start_time": "2022-09-05T09:51:44.519Z"
   },
   {
    "duration": 24,
    "start_time": "2022-09-05T09:54:42.578Z"
   },
   {
    "duration": 3,
    "start_time": "2022-09-05T09:54:46.574Z"
   },
   {
    "duration": 337,
    "start_time": "2022-09-05T09:54:46.580Z"
   },
   {
    "duration": 10,
    "start_time": "2022-09-05T09:54:46.919Z"
   },
   {
    "duration": 19,
    "start_time": "2022-09-05T09:54:46.931Z"
   },
   {
    "duration": 9,
    "start_time": "2022-09-05T09:54:46.952Z"
   },
   {
    "duration": 19,
    "start_time": "2022-09-05T09:54:46.963Z"
   },
   {
    "duration": 12,
    "start_time": "2022-09-05T09:54:46.986Z"
   },
   {
    "duration": 22,
    "start_time": "2022-09-05T09:54:47.000Z"
   },
   {
    "duration": 6,
    "start_time": "2022-09-05T09:54:47.024Z"
   },
   {
    "duration": 142,
    "start_time": "2022-09-05T09:54:47.032Z"
   },
   {
    "duration": 22,
    "start_time": "2022-09-05T09:54:47.186Z"
   },
   {
    "duration": 27,
    "start_time": "2022-09-05T09:54:47.210Z"
   },
   {
    "duration": 8,
    "start_time": "2022-09-05T09:54:47.238Z"
   },
   {
    "duration": 18,
    "start_time": "2022-09-05T09:54:47.248Z"
   },
   {
    "duration": 22,
    "start_time": "2022-09-05T09:54:47.267Z"
   },
   {
    "duration": 42,
    "start_time": "2022-09-05T09:54:47.291Z"
   },
   {
    "duration": 5,
    "start_time": "2022-09-05T09:54:47.335Z"
   },
   {
    "duration": 17,
    "start_time": "2022-09-05T09:54:47.341Z"
   },
   {
    "duration": 16,
    "start_time": "2022-09-05T09:54:47.359Z"
   },
   {
    "duration": 7,
    "start_time": "2022-09-05T09:54:47.376Z"
   },
   {
    "duration": 18,
    "start_time": "2022-09-05T09:54:47.384Z"
   },
   {
    "duration": 7,
    "start_time": "2022-09-05T09:54:47.404Z"
   },
   {
    "duration": 4,
    "start_time": "2022-09-05T09:54:47.413Z"
   },
   {
    "duration": 13,
    "start_time": "2022-09-05T09:54:47.419Z"
   },
   {
    "duration": 15,
    "start_time": "2022-09-05T09:54:47.433Z"
   },
   {
    "duration": 10,
    "start_time": "2022-09-05T09:54:47.450Z"
   },
   {
    "duration": 41,
    "start_time": "2022-09-05T09:54:47.461Z"
   },
   {
    "duration": 17,
    "start_time": "2022-09-05T09:54:47.504Z"
   },
   {
    "duration": 8,
    "start_time": "2022-09-05T09:54:47.524Z"
   },
   {
    "duration": 65,
    "start_time": "2022-09-05T09:54:47.534Z"
   },
   {
    "duration": 21,
    "start_time": "2022-09-05T09:54:47.601Z"
   },
   {
    "duration": 8,
    "start_time": "2022-09-05T09:54:47.623Z"
   },
   {
    "duration": 12,
    "start_time": "2022-09-05T09:54:47.633Z"
   },
   {
    "duration": 13,
    "start_time": "2022-09-05T09:54:47.646Z"
   },
   {
    "duration": 46,
    "start_time": "2022-09-05T09:54:47.660Z"
   },
   {
    "duration": 18,
    "start_time": "2022-09-05T09:54:47.708Z"
   },
   {
    "duration": 16,
    "start_time": "2022-09-05T09:54:47.727Z"
   },
   {
    "duration": 18,
    "start_time": "2022-09-05T09:54:47.744Z"
   },
   {
    "duration": 50,
    "start_time": "2022-09-05T09:54:47.763Z"
   },
   {
    "duration": 20,
    "start_time": "2022-09-05T09:54:47.815Z"
   },
   {
    "duration": 51,
    "start_time": "2022-09-05T09:54:47.837Z"
   },
   {
    "duration": 4,
    "start_time": "2022-09-05T09:54:47.889Z"
   },
   {
    "duration": 35,
    "start_time": "2022-09-05T09:54:47.894Z"
   },
   {
    "duration": 141,
    "start_time": "2022-09-05T09:54:47.931Z"
   },
   {
    "duration": 14,
    "start_time": "2022-09-05T09:54:48.074Z"
   },
   {
    "duration": 0,
    "start_time": "2022-09-05T09:54:48.090Z"
   },
   {
    "duration": 0,
    "start_time": "2022-09-05T09:54:48.092Z"
   },
   {
    "duration": 0,
    "start_time": "2022-09-05T09:54:48.094Z"
   },
   {
    "duration": 0,
    "start_time": "2022-09-05T09:54:48.095Z"
   },
   {
    "duration": 0,
    "start_time": "2022-09-05T09:54:48.097Z"
   },
   {
    "duration": 0,
    "start_time": "2022-09-05T09:54:48.098Z"
   },
   {
    "duration": 0,
    "start_time": "2022-09-05T09:54:48.099Z"
   },
   {
    "duration": 0,
    "start_time": "2022-09-05T09:54:48.100Z"
   },
   {
    "duration": 0,
    "start_time": "2022-09-05T09:54:48.102Z"
   },
   {
    "duration": 0,
    "start_time": "2022-09-05T09:54:48.104Z"
   },
   {
    "duration": 0,
    "start_time": "2022-09-05T09:54:48.105Z"
   },
   {
    "duration": 0,
    "start_time": "2022-09-05T09:54:48.106Z"
   },
   {
    "duration": 0,
    "start_time": "2022-09-05T09:54:48.108Z"
   },
   {
    "duration": 0,
    "start_time": "2022-09-05T09:54:48.109Z"
   },
   {
    "duration": 0,
    "start_time": "2022-09-05T09:54:48.110Z"
   },
   {
    "duration": 0,
    "start_time": "2022-09-05T09:54:48.112Z"
   },
   {
    "duration": 13,
    "start_time": "2022-09-05T09:54:52.270Z"
   },
   {
    "duration": 13,
    "start_time": "2022-09-05T09:55:05.418Z"
   },
   {
    "duration": 14,
    "start_time": "2022-09-05T09:55:10.030Z"
   },
   {
    "duration": 12,
    "start_time": "2022-09-05T09:55:31.597Z"
   },
   {
    "duration": 3,
    "start_time": "2022-09-05T09:55:41.729Z"
   },
   {
    "duration": 39,
    "start_time": "2022-09-05T09:55:43.657Z"
   },
   {
    "duration": 179,
    "start_time": "2022-09-05T09:55:45.804Z"
   },
   {
    "duration": 185,
    "start_time": "2022-09-05T09:55:48.979Z"
   },
   {
    "duration": 252,
    "start_time": "2022-09-05T09:55:56.228Z"
   },
   {
    "duration": 3,
    "start_time": "2022-09-05T09:56:04.402Z"
   },
   {
    "duration": 40,
    "start_time": "2022-09-05T09:56:07.003Z"
   },
   {
    "duration": 194,
    "start_time": "2022-09-05T09:56:09.743Z"
   },
   {
    "duration": 193,
    "start_time": "2022-09-05T09:56:14.442Z"
   },
   {
    "duration": 268,
    "start_time": "2022-09-05T09:59:49.057Z"
   },
   {
    "duration": 217,
    "start_time": "2022-09-05T10:04:35.580Z"
   },
   {
    "duration": 337,
    "start_time": "2022-09-05T10:04:50.377Z"
   },
   {
    "duration": 199,
    "start_time": "2022-09-05T10:07:27.796Z"
   },
   {
    "duration": 199,
    "start_time": "2022-09-05T10:11:04.445Z"
   },
   {
    "duration": 198,
    "start_time": "2022-09-05T10:14:23.055Z"
   },
   {
    "duration": 3,
    "start_time": "2022-09-05T10:17:58.045Z"
   },
   {
    "duration": 3,
    "start_time": "2022-09-05T10:18:10.169Z"
   },
   {
    "duration": 50,
    "start_time": "2022-09-05T10:18:12.121Z"
   },
   {
    "duration": 46,
    "start_time": "2022-09-05T10:18:34.453Z"
   },
   {
    "duration": 53,
    "start_time": "2022-09-05T10:18:42.899Z"
   },
   {
    "duration": 68,
    "start_time": "2022-09-05T10:18:53.993Z"
   },
   {
    "duration": 46,
    "start_time": "2022-09-05T10:19:09.462Z"
   },
   {
    "duration": 243,
    "start_time": "2022-09-05T10:19:56.201Z"
   },
   {
    "duration": 299,
    "start_time": "2022-09-05T10:22:36.104Z"
   },
   {
    "duration": 313,
    "start_time": "2022-09-05T10:25:05.373Z"
   },
   {
    "duration": 230,
    "start_time": "2022-09-05T10:36:41.323Z"
   },
   {
    "duration": 338,
    "start_time": "2022-09-05T10:36:46.945Z"
   },
   {
    "duration": 293,
    "start_time": "2022-09-05T10:42:21.134Z"
   },
   {
    "duration": 254,
    "start_time": "2022-09-05T10:43:33.439Z"
   },
   {
    "duration": 270,
    "start_time": "2022-09-05T10:47:32.108Z"
   },
   {
    "duration": 115,
    "start_time": "2022-09-05T10:49:27.714Z"
   },
   {
    "duration": 258,
    "start_time": "2022-09-05T10:49:34.719Z"
   },
   {
    "duration": 340,
    "start_time": "2022-09-05T10:51:42.789Z"
   },
   {
    "duration": 246,
    "start_time": "2022-09-05T10:51:58.605Z"
   },
   {
    "duration": 8,
    "start_time": "2022-09-05T10:57:43.087Z"
   },
   {
    "duration": 9,
    "start_time": "2022-09-05T10:57:53.900Z"
   },
   {
    "duration": 8,
    "start_time": "2022-09-05T10:58:42.904Z"
   },
   {
    "duration": 8,
    "start_time": "2022-09-05T10:58:53.279Z"
   },
   {
    "duration": 8,
    "start_time": "2022-09-05T10:58:59.669Z"
   },
   {
    "duration": 3,
    "start_time": "2022-09-05T11:01:01.151Z"
   },
   {
    "duration": 8,
    "start_time": "2022-09-05T11:01:11.240Z"
   },
   {
    "duration": 2,
    "start_time": "2022-09-05T11:01:16.843Z"
   },
   {
    "duration": 328,
    "start_time": "2022-09-05T11:01:16.851Z"
   },
   {
    "duration": 11,
    "start_time": "2022-09-05T11:01:17.181Z"
   },
   {
    "duration": 14,
    "start_time": "2022-09-05T11:01:17.193Z"
   },
   {
    "duration": 12,
    "start_time": "2022-09-05T11:01:17.208Z"
   },
   {
    "duration": 14,
    "start_time": "2022-09-05T11:01:17.222Z"
   },
   {
    "duration": 14,
    "start_time": "2022-09-05T11:01:17.238Z"
   },
   {
    "duration": 15,
    "start_time": "2022-09-05T11:01:17.253Z"
   },
   {
    "duration": 9,
    "start_time": "2022-09-05T11:01:17.269Z"
   },
   {
    "duration": 12,
    "start_time": "2022-09-05T11:01:17.287Z"
   },
   {
    "duration": 41,
    "start_time": "2022-09-05T11:01:17.302Z"
   },
   {
    "duration": 30,
    "start_time": "2022-09-05T11:01:17.345Z"
   },
   {
    "duration": 8,
    "start_time": "2022-09-05T11:01:17.376Z"
   },
   {
    "duration": 19,
    "start_time": "2022-09-05T11:01:17.386Z"
   },
   {
    "duration": 10,
    "start_time": "2022-09-05T11:01:17.407Z"
   },
   {
    "duration": 28,
    "start_time": "2022-09-05T11:01:17.418Z"
   },
   {
    "duration": 5,
    "start_time": "2022-09-05T11:01:17.447Z"
   },
   {
    "duration": 34,
    "start_time": "2022-09-05T11:01:17.453Z"
   },
   {
    "duration": 15,
    "start_time": "2022-09-05T11:01:17.488Z"
   },
   {
    "duration": 8,
    "start_time": "2022-09-05T11:01:17.504Z"
   },
   {
    "duration": 22,
    "start_time": "2022-09-05T11:01:17.513Z"
   },
   {
    "duration": 9,
    "start_time": "2022-09-05T11:01:17.537Z"
   },
   {
    "duration": 11,
    "start_time": "2022-09-05T11:01:17.547Z"
   },
   {
    "duration": 31,
    "start_time": "2022-09-05T11:01:17.559Z"
   },
   {
    "duration": 24,
    "start_time": "2022-09-05T11:01:17.592Z"
   },
   {
    "duration": 11,
    "start_time": "2022-09-05T11:01:17.617Z"
   },
   {
    "duration": 19,
    "start_time": "2022-09-05T11:01:17.629Z"
   },
   {
    "duration": 37,
    "start_time": "2022-09-05T11:01:17.650Z"
   },
   {
    "duration": 14,
    "start_time": "2022-09-05T11:01:17.691Z"
   },
   {
    "duration": 40,
    "start_time": "2022-09-05T11:01:17.707Z"
   },
   {
    "duration": 19,
    "start_time": "2022-09-05T11:01:17.749Z"
   },
   {
    "duration": 20,
    "start_time": "2022-09-05T11:01:17.769Z"
   },
   {
    "duration": 8,
    "start_time": "2022-09-05T11:01:17.791Z"
   },
   {
    "duration": 14,
    "start_time": "2022-09-05T11:01:17.800Z"
   },
   {
    "duration": 35,
    "start_time": "2022-09-05T11:01:17.815Z"
   },
   {
    "duration": 36,
    "start_time": "2022-09-05T11:01:17.851Z"
   },
   {
    "duration": 15,
    "start_time": "2022-09-05T11:01:17.889Z"
   },
   {
    "duration": 18,
    "start_time": "2022-09-05T11:01:17.906Z"
   },
   {
    "duration": 27,
    "start_time": "2022-09-05T11:01:17.926Z"
   },
   {
    "duration": 46,
    "start_time": "2022-09-05T11:01:17.955Z"
   },
   {
    "duration": 29,
    "start_time": "2022-09-05T11:01:18.002Z"
   },
   {
    "duration": 4,
    "start_time": "2022-09-05T11:01:18.032Z"
   },
   {
    "duration": 11,
    "start_time": "2022-09-05T11:01:18.038Z"
   },
   {
    "duration": 118,
    "start_time": "2022-09-05T11:01:18.050Z"
   },
   {
    "duration": 18,
    "start_time": "2022-09-05T11:01:18.170Z"
   },
   {
    "duration": 0,
    "start_time": "2022-09-05T11:01:18.190Z"
   },
   {
    "duration": 0,
    "start_time": "2022-09-05T11:01:18.192Z"
   },
   {
    "duration": 0,
    "start_time": "2022-09-05T11:01:18.193Z"
   },
   {
    "duration": 0,
    "start_time": "2022-09-05T11:01:18.194Z"
   },
   {
    "duration": 0,
    "start_time": "2022-09-05T11:01:18.195Z"
   },
   {
    "duration": 0,
    "start_time": "2022-09-05T11:01:18.196Z"
   },
   {
    "duration": 0,
    "start_time": "2022-09-05T11:01:18.197Z"
   },
   {
    "duration": 0,
    "start_time": "2022-09-05T11:01:18.198Z"
   },
   {
    "duration": 0,
    "start_time": "2022-09-05T11:01:18.199Z"
   },
   {
    "duration": 0,
    "start_time": "2022-09-05T11:01:18.200Z"
   },
   {
    "duration": 0,
    "start_time": "2022-09-05T11:01:18.201Z"
   },
   {
    "duration": 0,
    "start_time": "2022-09-05T11:01:18.201Z"
   },
   {
    "duration": 0,
    "start_time": "2022-09-05T11:01:18.202Z"
   },
   {
    "duration": 0,
    "start_time": "2022-09-05T11:01:18.203Z"
   },
   {
    "duration": 0,
    "start_time": "2022-09-05T11:01:18.204Z"
   },
   {
    "duration": 0,
    "start_time": "2022-09-05T11:01:18.206Z"
   },
   {
    "duration": 0,
    "start_time": "2022-09-05T11:01:18.206Z"
   },
   {
    "duration": 0,
    "start_time": "2022-09-05T11:01:18.207Z"
   },
   {
    "duration": 0,
    "start_time": "2022-09-05T11:01:18.208Z"
   },
   {
    "duration": 0,
    "start_time": "2022-09-05T11:01:18.209Z"
   },
   {
    "duration": 0,
    "start_time": "2022-09-05T11:01:18.210Z"
   },
   {
    "duration": 201,
    "start_time": "2022-09-05T11:01:18.266Z"
   },
   {
    "duration": 3,
    "start_time": "2022-09-05T11:01:18.469Z"
   },
   {
    "duration": 56,
    "start_time": "2022-09-05T11:01:18.474Z"
   },
   {
    "duration": 183,
    "start_time": "2022-09-05T11:01:18.532Z"
   },
   {
    "duration": 242,
    "start_time": "2022-09-05T11:01:18.717Z"
   },
   {
    "duration": 5,
    "start_time": "2022-09-05T11:01:18.961Z"
   },
   {
    "duration": 315,
    "start_time": "2022-09-05T11:01:18.967Z"
   },
   {
    "duration": 243,
    "start_time": "2022-09-05T11:01:19.283Z"
   },
   {
    "duration": 386,
    "start_time": "2022-09-05T11:01:19.527Z"
   },
   {
    "duration": 292,
    "start_time": "2022-09-05T11:01:19.915Z"
   },
   {
    "duration": 281,
    "start_time": "2022-09-05T11:01:20.208Z"
   },
   {
    "duration": 252,
    "start_time": "2022-09-05T11:01:20.490Z"
   },
   {
    "duration": 232,
    "start_time": "2022-09-05T11:01:20.744Z"
   },
   {
    "duration": 9,
    "start_time": "2022-09-05T11:01:29.985Z"
   },
   {
    "duration": 9,
    "start_time": "2022-09-05T11:01:35.282Z"
   },
   {
    "duration": 3,
    "start_time": "2022-09-05T11:05:20.598Z"
   },
   {
    "duration": 8,
    "start_time": "2022-09-05T11:05:28.452Z"
   },
   {
    "duration": 3,
    "start_time": "2022-09-05T11:05:31.744Z"
   },
   {
    "duration": 346,
    "start_time": "2022-09-05T11:05:31.752Z"
   },
   {
    "duration": 11,
    "start_time": "2022-09-05T11:05:32.100Z"
   },
   {
    "duration": 27,
    "start_time": "2022-09-05T11:05:32.113Z"
   },
   {
    "duration": 20,
    "start_time": "2022-09-05T11:05:32.142Z"
   },
   {
    "duration": 29,
    "start_time": "2022-09-05T11:05:32.164Z"
   },
   {
    "duration": 23,
    "start_time": "2022-09-05T11:05:32.195Z"
   },
   {
    "duration": 45,
    "start_time": "2022-09-05T11:05:32.220Z"
   },
   {
    "duration": 15,
    "start_time": "2022-09-05T11:05:32.266Z"
   },
   {
    "duration": 18,
    "start_time": "2022-09-05T11:05:32.283Z"
   },
   {
    "duration": 32,
    "start_time": "2022-09-05T11:05:32.304Z"
   },
   {
    "duration": 31,
    "start_time": "2022-09-05T11:05:32.337Z"
   },
   {
    "duration": 9,
    "start_time": "2022-09-05T11:05:32.369Z"
   },
   {
    "duration": 32,
    "start_time": "2022-09-05T11:05:32.381Z"
   },
   {
    "duration": 22,
    "start_time": "2022-09-05T11:05:32.415Z"
   },
   {
    "duration": 39,
    "start_time": "2022-09-05T11:05:32.439Z"
   },
   {
    "duration": 20,
    "start_time": "2022-09-05T11:05:32.480Z"
   },
   {
    "duration": 30,
    "start_time": "2022-09-05T11:05:32.502Z"
   },
   {
    "duration": 26,
    "start_time": "2022-09-05T11:05:32.535Z"
   },
   {
    "duration": 11,
    "start_time": "2022-09-05T11:05:32.563Z"
   },
   {
    "duration": 51,
    "start_time": "2022-09-05T11:05:32.576Z"
   },
   {
    "duration": 17,
    "start_time": "2022-09-05T11:05:32.629Z"
   },
   {
    "duration": 25,
    "start_time": "2022-09-05T11:05:32.648Z"
   },
   {
    "duration": 35,
    "start_time": "2022-09-05T11:05:32.675Z"
   },
   {
    "duration": 34,
    "start_time": "2022-09-05T11:05:32.712Z"
   },
   {
    "duration": 13,
    "start_time": "2022-09-05T11:05:32.748Z"
   },
   {
    "duration": 25,
    "start_time": "2022-09-05T11:05:32.762Z"
   },
   {
    "duration": 29,
    "start_time": "2022-09-05T11:05:32.789Z"
   },
   {
    "duration": 26,
    "start_time": "2022-09-05T11:05:32.822Z"
   },
   {
    "duration": 33,
    "start_time": "2022-09-05T11:05:32.849Z"
   },
   {
    "duration": 17,
    "start_time": "2022-09-05T11:05:32.884Z"
   },
   {
    "duration": 7,
    "start_time": "2022-09-05T11:05:32.903Z"
   },
   {
    "duration": 12,
    "start_time": "2022-09-05T11:05:32.911Z"
   },
   {
    "duration": 30,
    "start_time": "2022-09-05T11:05:32.925Z"
   },
   {
    "duration": 31,
    "start_time": "2022-09-05T11:05:32.956Z"
   },
   {
    "duration": 19,
    "start_time": "2022-09-05T11:05:32.989Z"
   },
   {
    "duration": 15,
    "start_time": "2022-09-05T11:05:33.009Z"
   },
   {
    "duration": 26,
    "start_time": "2022-09-05T11:05:33.025Z"
   },
   {
    "duration": 46,
    "start_time": "2022-09-05T11:05:33.053Z"
   },
   {
    "duration": 21,
    "start_time": "2022-09-05T11:05:33.100Z"
   },
   {
    "duration": 27,
    "start_time": "2022-09-05T11:05:33.123Z"
   },
   {
    "duration": 3,
    "start_time": "2022-09-05T11:05:33.152Z"
   },
   {
    "duration": 32,
    "start_time": "2022-09-05T11:05:33.157Z"
   },
   {
    "duration": 112,
    "start_time": "2022-09-05T11:05:33.190Z"
   },
   {
    "duration": 10,
    "start_time": "2022-09-05T11:05:33.303Z"
   },
   {
    "duration": 0,
    "start_time": "2022-09-05T11:05:33.314Z"
   },
   {
    "duration": 0,
    "start_time": "2022-09-05T11:05:33.315Z"
   },
   {
    "duration": 0,
    "start_time": "2022-09-05T11:05:33.316Z"
   },
   {
    "duration": 0,
    "start_time": "2022-09-05T11:05:33.318Z"
   },
   {
    "duration": 0,
    "start_time": "2022-09-05T11:05:33.319Z"
   },
   {
    "duration": 0,
    "start_time": "2022-09-05T11:05:33.320Z"
   },
   {
    "duration": 0,
    "start_time": "2022-09-05T11:05:33.321Z"
   },
   {
    "duration": 0,
    "start_time": "2022-09-05T11:05:33.322Z"
   },
   {
    "duration": 0,
    "start_time": "2022-09-05T11:05:33.323Z"
   },
   {
    "duration": 0,
    "start_time": "2022-09-05T11:05:33.324Z"
   },
   {
    "duration": 0,
    "start_time": "2022-09-05T11:05:33.325Z"
   },
   {
    "duration": 0,
    "start_time": "2022-09-05T11:05:33.326Z"
   },
   {
    "duration": 0,
    "start_time": "2022-09-05T11:05:33.327Z"
   },
   {
    "duration": 0,
    "start_time": "2022-09-05T11:05:33.328Z"
   },
   {
    "duration": 0,
    "start_time": "2022-09-05T11:05:33.329Z"
   },
   {
    "duration": 0,
    "start_time": "2022-09-05T11:05:33.330Z"
   },
   {
    "duration": 0,
    "start_time": "2022-09-05T11:05:33.331Z"
   },
   {
    "duration": 0,
    "start_time": "2022-09-05T11:05:33.332Z"
   },
   {
    "duration": 0,
    "start_time": "2022-09-05T11:05:33.333Z"
   },
   {
    "duration": 0,
    "start_time": "2022-09-05T11:05:33.334Z"
   },
   {
    "duration": 0,
    "start_time": "2022-09-05T11:05:33.334Z"
   },
   {
    "duration": 0,
    "start_time": "2022-09-05T11:05:33.335Z"
   },
   {
    "duration": 0,
    "start_time": "2022-09-05T11:05:33.336Z"
   },
   {
    "duration": 0,
    "start_time": "2022-09-05T11:05:33.337Z"
   },
   {
    "duration": 0,
    "start_time": "2022-09-05T11:05:33.338Z"
   },
   {
    "duration": 0,
    "start_time": "2022-09-05T11:05:33.339Z"
   },
   {
    "duration": 0,
    "start_time": "2022-09-05T11:05:33.340Z"
   },
   {
    "duration": 0,
    "start_time": "2022-09-05T11:05:33.387Z"
   },
   {
    "duration": 0,
    "start_time": "2022-09-05T11:05:33.389Z"
   },
   {
    "duration": 0,
    "start_time": "2022-09-05T11:05:33.390Z"
   },
   {
    "duration": 0,
    "start_time": "2022-09-05T11:05:33.391Z"
   },
   {
    "duration": 0,
    "start_time": "2022-09-05T11:05:33.392Z"
   },
   {
    "duration": 0,
    "start_time": "2022-09-05T11:05:33.393Z"
   },
   {
    "duration": 0,
    "start_time": "2022-09-05T11:05:33.394Z"
   },
   {
    "duration": 9,
    "start_time": "2022-09-05T11:05:37.879Z"
   },
   {
    "duration": 9,
    "start_time": "2022-09-05T11:05:40.140Z"
   },
   {
    "duration": 3,
    "start_time": "2022-09-05T11:05:56.793Z"
   },
   {
    "duration": 9,
    "start_time": "2022-09-05T11:06:10.714Z"
   },
   {
    "duration": 46,
    "start_time": "2022-09-05T11:07:31.899Z"
   },
   {
    "duration": 9,
    "start_time": "2022-09-05T11:07:40.142Z"
   },
   {
    "duration": 8,
    "start_time": "2022-09-05T11:07:55.776Z"
   },
   {
    "duration": 6,
    "start_time": "2022-09-05T11:08:02.631Z"
   },
   {
    "duration": 5,
    "start_time": "2022-09-05T11:08:22.418Z"
   },
   {
    "duration": 5,
    "start_time": "2022-09-05T11:08:51.109Z"
   },
   {
    "duration": 4,
    "start_time": "2022-09-05T11:08:54.249Z"
   },
   {
    "duration": 6,
    "start_time": "2022-09-05T11:09:14.994Z"
   },
   {
    "duration": 6,
    "start_time": "2022-09-05T11:11:57.956Z"
   },
   {
    "duration": 6,
    "start_time": "2022-09-05T11:19:04.465Z"
   },
   {
    "duration": 5,
    "start_time": "2022-09-05T11:19:09.979Z"
   },
   {
    "duration": 60,
    "start_time": "2022-09-05T11:22:59.460Z"
   },
   {
    "duration": 127,
    "start_time": "2022-09-05T11:23:19.474Z"
   },
   {
    "duration": 4,
    "start_time": "2022-09-05T11:23:34.253Z"
   },
   {
    "duration": 6,
    "start_time": "2022-09-05T11:29:20.605Z"
   },
   {
    "duration": 23,
    "start_time": "2022-09-05T11:29:31.476Z"
   },
   {
    "duration": 7,
    "start_time": "2022-09-05T11:39:42.766Z"
   },
   {
    "duration": 64,
    "start_time": "2022-09-05T11:42:52.059Z"
   },
   {
    "duration": 3,
    "start_time": "2022-09-05T11:43:02.570Z"
   },
   {
    "duration": 5,
    "start_time": "2022-09-05T11:43:43.631Z"
   },
   {
    "duration": 3,
    "start_time": "2022-09-05T11:46:13.287Z"
   },
   {
    "duration": 2,
    "start_time": "2022-09-05T11:47:35.766Z"
   },
   {
    "duration": 316,
    "start_time": "2022-09-05T11:47:35.775Z"
   },
   {
    "duration": 11,
    "start_time": "2022-09-05T11:47:36.092Z"
   },
   {
    "duration": 16,
    "start_time": "2022-09-05T11:47:36.104Z"
   },
   {
    "duration": 10,
    "start_time": "2022-09-05T11:47:36.122Z"
   },
   {
    "duration": 14,
    "start_time": "2022-09-05T11:47:36.134Z"
   },
   {
    "duration": 14,
    "start_time": "2022-09-05T11:47:36.149Z"
   },
   {
    "duration": 26,
    "start_time": "2022-09-05T11:47:36.165Z"
   },
   {
    "duration": 7,
    "start_time": "2022-09-05T11:47:36.192Z"
   },
   {
    "duration": 13,
    "start_time": "2022-09-05T11:47:36.201Z"
   },
   {
    "duration": 25,
    "start_time": "2022-09-05T11:47:36.218Z"
   },
   {
    "duration": 35,
    "start_time": "2022-09-05T11:47:36.245Z"
   },
   {
    "duration": 11,
    "start_time": "2022-09-05T11:47:36.288Z"
   },
   {
    "duration": 37,
    "start_time": "2022-09-05T11:47:36.301Z"
   },
   {
    "duration": 6,
    "start_time": "2022-09-05T11:47:36.341Z"
   },
   {
    "duration": 32,
    "start_time": "2022-09-05T11:47:36.348Z"
   },
   {
    "duration": 7,
    "start_time": "2022-09-05T11:47:36.382Z"
   },
   {
    "duration": 24,
    "start_time": "2022-09-05T11:47:36.391Z"
   },
   {
    "duration": 19,
    "start_time": "2022-09-05T11:47:36.417Z"
   },
   {
    "duration": 10,
    "start_time": "2022-09-05T11:47:36.438Z"
   },
   {
    "duration": 43,
    "start_time": "2022-09-05T11:47:36.450Z"
   },
   {
    "duration": 9,
    "start_time": "2022-09-05T11:47:36.495Z"
   },
   {
    "duration": 14,
    "start_time": "2022-09-05T11:47:36.506Z"
   },
   {
    "duration": 21,
    "start_time": "2022-09-05T11:47:36.522Z"
   },
   {
    "duration": 15,
    "start_time": "2022-09-05T11:47:36.545Z"
   },
   {
    "duration": 11,
    "start_time": "2022-09-05T11:47:36.562Z"
   },
   {
    "duration": 17,
    "start_time": "2022-09-05T11:47:36.587Z"
   },
   {
    "duration": 19,
    "start_time": "2022-09-05T11:47:36.606Z"
   },
   {
    "duration": 9,
    "start_time": "2022-09-05T11:47:36.630Z"
   },
   {
    "duration": 66,
    "start_time": "2022-09-05T11:47:36.641Z"
   },
   {
    "duration": 18,
    "start_time": "2022-09-05T11:47:36.709Z"
   },
   {
    "duration": 6,
    "start_time": "2022-09-05T11:47:36.728Z"
   },
   {
    "duration": 11,
    "start_time": "2022-09-05T11:47:36.736Z"
   },
   {
    "duration": 14,
    "start_time": "2022-09-05T11:47:36.748Z"
   },
   {
    "duration": 44,
    "start_time": "2022-09-05T11:47:36.764Z"
   },
   {
    "duration": 18,
    "start_time": "2022-09-05T11:47:36.810Z"
   },
   {
    "duration": 15,
    "start_time": "2022-09-05T11:47:36.830Z"
   },
   {
    "duration": 41,
    "start_time": "2022-09-05T11:47:36.847Z"
   },
   {
    "duration": 31,
    "start_time": "2022-09-05T11:47:36.889Z"
   },
   {
    "duration": 22,
    "start_time": "2022-09-05T11:47:36.921Z"
   },
   {
    "duration": 51,
    "start_time": "2022-09-05T11:47:36.945Z"
   },
   {
    "duration": 3,
    "start_time": "2022-09-05T11:47:36.998Z"
   },
   {
    "duration": 9,
    "start_time": "2022-09-05T11:47:37.003Z"
   },
   {
    "duration": 117,
    "start_time": "2022-09-05T11:47:37.013Z"
   },
   {
    "duration": 9,
    "start_time": "2022-09-05T11:47:37.132Z"
   },
   {
    "duration": 0,
    "start_time": "2022-09-05T11:47:37.142Z"
   },
   {
    "duration": 0,
    "start_time": "2022-09-05T11:47:37.144Z"
   },
   {
    "duration": 0,
    "start_time": "2022-09-05T11:47:37.145Z"
   },
   {
    "duration": 0,
    "start_time": "2022-09-05T11:47:37.146Z"
   },
   {
    "duration": 0,
    "start_time": "2022-09-05T11:47:37.147Z"
   },
   {
    "duration": 0,
    "start_time": "2022-09-05T11:47:37.148Z"
   },
   {
    "duration": 0,
    "start_time": "2022-09-05T11:47:37.149Z"
   },
   {
    "duration": 0,
    "start_time": "2022-09-05T11:47:37.150Z"
   },
   {
    "duration": 0,
    "start_time": "2022-09-05T11:47:37.151Z"
   },
   {
    "duration": 0,
    "start_time": "2022-09-05T11:47:37.152Z"
   },
   {
    "duration": 0,
    "start_time": "2022-09-05T11:47:37.153Z"
   },
   {
    "duration": 0,
    "start_time": "2022-09-05T11:47:37.154Z"
   },
   {
    "duration": 0,
    "start_time": "2022-09-05T11:47:37.155Z"
   },
   {
    "duration": 0,
    "start_time": "2022-09-05T11:47:37.187Z"
   },
   {
    "duration": 0,
    "start_time": "2022-09-05T11:47:37.188Z"
   },
   {
    "duration": 1,
    "start_time": "2022-09-05T11:47:37.189Z"
   },
   {
    "duration": 0,
    "start_time": "2022-09-05T11:47:37.191Z"
   },
   {
    "duration": 0,
    "start_time": "2022-09-05T11:47:37.192Z"
   },
   {
    "duration": 0,
    "start_time": "2022-09-05T11:47:37.194Z"
   },
   {
    "duration": 0,
    "start_time": "2022-09-05T11:47:37.195Z"
   },
   {
    "duration": 0,
    "start_time": "2022-09-05T11:47:37.196Z"
   },
   {
    "duration": 0,
    "start_time": "2022-09-05T11:47:37.198Z"
   },
   {
    "duration": 0,
    "start_time": "2022-09-05T11:47:37.199Z"
   },
   {
    "duration": 0,
    "start_time": "2022-09-05T11:47:37.201Z"
   },
   {
    "duration": 0,
    "start_time": "2022-09-05T11:47:37.202Z"
   },
   {
    "duration": 0,
    "start_time": "2022-09-05T11:47:37.203Z"
   },
   {
    "duration": 0,
    "start_time": "2022-09-05T11:47:37.204Z"
   },
   {
    "duration": 0,
    "start_time": "2022-09-05T11:47:37.206Z"
   },
   {
    "duration": 0,
    "start_time": "2022-09-05T11:47:37.207Z"
   },
   {
    "duration": 0,
    "start_time": "2022-09-05T11:47:37.208Z"
   },
   {
    "duration": 0,
    "start_time": "2022-09-05T11:47:37.209Z"
   },
   {
    "duration": 0,
    "start_time": "2022-09-05T11:47:37.210Z"
   },
   {
    "duration": 0,
    "start_time": "2022-09-05T11:47:37.211Z"
   },
   {
    "duration": 0,
    "start_time": "2022-09-05T11:47:37.212Z"
   },
   {
    "duration": 0,
    "start_time": "2022-09-05T11:47:37.213Z"
   },
   {
    "duration": 0,
    "start_time": "2022-09-05T11:47:37.214Z"
   },
   {
    "duration": 0,
    "start_time": "2022-09-05T11:47:37.215Z"
   },
   {
    "duration": 28,
    "start_time": "2022-09-05T11:47:43.529Z"
   },
   {
    "duration": 60,
    "start_time": "2022-09-05T11:48:23.323Z"
   },
   {
    "duration": 9,
    "start_time": "2022-09-05T11:48:28.565Z"
   },
   {
    "duration": 29,
    "start_time": "2022-09-05T11:48:46.409Z"
   },
   {
    "duration": 9,
    "start_time": "2022-09-05T11:49:19.252Z"
   },
   {
    "duration": 25,
    "start_time": "2022-09-05T11:49:22.804Z"
   },
   {
    "duration": 7,
    "start_time": "2022-09-05T11:49:45.757Z"
   },
   {
    "duration": 7,
    "start_time": "2022-09-05T11:49:47.252Z"
   },
   {
    "duration": 26,
    "start_time": "2022-09-05T11:50:59.780Z"
   },
   {
    "duration": 28,
    "start_time": "2022-09-05T11:51:17.961Z"
   },
   {
    "duration": 27,
    "start_time": "2022-09-05T11:52:28.216Z"
   },
   {
    "duration": 27,
    "start_time": "2022-09-05T11:53:19.831Z"
   },
   {
    "duration": 15,
    "start_time": "2022-09-05T11:53:30.125Z"
   },
   {
    "duration": 27,
    "start_time": "2022-09-05T11:55:45.254Z"
   },
   {
    "duration": 28,
    "start_time": "2022-09-05T11:56:11.078Z"
   },
   {
    "duration": 3,
    "start_time": "2022-09-05T11:59:19.087Z"
   },
   {
    "duration": 4,
    "start_time": "2022-09-05T11:59:50.460Z"
   },
   {
    "duration": 8,
    "start_time": "2022-09-05T12:15:34.559Z"
   },
   {
    "duration": 4,
    "start_time": "2022-09-05T12:15:37.367Z"
   },
   {
    "duration": 10,
    "start_time": "2022-09-05T13:08:09.650Z"
   },
   {
    "duration": 10,
    "start_time": "2022-09-05T13:13:32.115Z"
   },
   {
    "duration": 341,
    "start_time": "2022-09-05T13:13:41.319Z"
   },
   {
    "duration": 5,
    "start_time": "2022-09-05T13:23:50.308Z"
   },
   {
    "duration": 5,
    "start_time": "2022-09-05T13:23:52.610Z"
   },
   {
    "duration": 367,
    "start_time": "2022-09-05T13:23:56.113Z"
   },
   {
    "duration": 261,
    "start_time": "2022-09-05T13:30:50.402Z"
   },
   {
    "duration": 290,
    "start_time": "2022-09-05T13:36:49.457Z"
   },
   {
    "duration": 1037,
    "start_time": "2022-09-05T21:19:30.842Z"
   },
   {
    "duration": 288,
    "start_time": "2022-09-05T21:19:31.881Z"
   },
   {
    "duration": 10,
    "start_time": "2022-09-05T21:19:32.171Z"
   },
   {
    "duration": 18,
    "start_time": "2022-09-05T21:19:32.184Z"
   },
   {
    "duration": 3,
    "start_time": "2022-09-05T21:19:32.206Z"
   },
   {
    "duration": 12,
    "start_time": "2022-09-05T21:19:32.210Z"
   },
   {
    "duration": 11,
    "start_time": "2022-09-05T21:19:32.224Z"
   },
   {
    "duration": 11,
    "start_time": "2022-09-05T21:19:32.236Z"
   },
   {
    "duration": 8,
    "start_time": "2022-09-05T21:19:32.248Z"
   },
   {
    "duration": 18,
    "start_time": "2022-09-05T21:19:32.258Z"
   },
   {
    "duration": 40,
    "start_time": "2022-09-05T21:19:32.278Z"
   },
   {
    "duration": 12,
    "start_time": "2022-09-05T21:19:32.319Z"
   },
   {
    "duration": 23,
    "start_time": "2022-09-05T21:19:32.336Z"
   },
   {
    "duration": 5,
    "start_time": "2022-09-05T21:19:32.361Z"
   },
   {
    "duration": 20,
    "start_time": "2022-09-05T21:19:32.368Z"
   },
   {
    "duration": 4,
    "start_time": "2022-09-05T21:19:32.390Z"
   },
   {
    "duration": 13,
    "start_time": "2022-09-05T21:19:32.405Z"
   },
   {
    "duration": 15,
    "start_time": "2022-09-05T21:19:32.419Z"
   },
   {
    "duration": 6,
    "start_time": "2022-09-05T21:19:32.435Z"
   },
   {
    "duration": 15,
    "start_time": "2022-09-05T21:19:32.442Z"
   },
   {
    "duration": 6,
    "start_time": "2022-09-05T21:19:32.458Z"
   },
   {
    "duration": 5,
    "start_time": "2022-09-05T21:19:32.465Z"
   },
   {
    "duration": 36,
    "start_time": "2022-09-05T21:19:32.471Z"
   },
   {
    "duration": 10,
    "start_time": "2022-09-05T21:19:32.509Z"
   },
   {
    "duration": 9,
    "start_time": "2022-09-05T21:19:32.520Z"
   },
   {
    "duration": 13,
    "start_time": "2022-09-05T21:19:32.531Z"
   },
   {
    "duration": 14,
    "start_time": "2022-09-05T21:19:32.545Z"
   },
   {
    "duration": 7,
    "start_time": "2022-09-05T21:19:32.562Z"
   },
   {
    "duration": 58,
    "start_time": "2022-09-05T21:19:32.571Z"
   },
   {
    "duration": 16,
    "start_time": "2022-09-05T21:19:32.631Z"
   },
   {
    "duration": 7,
    "start_time": "2022-09-05T21:19:32.649Z"
   },
   {
    "duration": 18,
    "start_time": "2022-09-05T21:19:32.657Z"
   },
   {
    "duration": 12,
    "start_time": "2022-09-05T21:19:32.676Z"
   },
   {
    "duration": 30,
    "start_time": "2022-09-05T21:19:32.705Z"
   },
   {
    "duration": 24,
    "start_time": "2022-09-05T21:19:32.737Z"
   },
   {
    "duration": 18,
    "start_time": "2022-09-05T21:19:32.763Z"
   },
   {
    "duration": 22,
    "start_time": "2022-09-05T21:19:32.805Z"
   },
   {
    "duration": 28,
    "start_time": "2022-09-05T21:19:32.828Z"
   },
   {
    "duration": 18,
    "start_time": "2022-09-05T21:19:32.858Z"
   },
   {
    "duration": 51,
    "start_time": "2022-09-05T21:19:32.878Z"
   },
   {
    "duration": 3,
    "start_time": "2022-09-05T21:19:32.931Z"
   },
   {
    "duration": 7,
    "start_time": "2022-09-05T21:19:32.936Z"
   },
   {
    "duration": 109,
    "start_time": "2022-09-05T21:19:32.945Z"
   },
   {
    "duration": 202,
    "start_time": "2022-09-05T21:19:33.056Z"
   },
   {
    "duration": 6,
    "start_time": "2022-09-05T21:19:33.259Z"
   },
   {
    "duration": 10,
    "start_time": "2022-09-05T21:19:33.266Z"
   },
   {
    "duration": 9,
    "start_time": "2022-09-05T21:19:33.277Z"
   },
   {
    "duration": 19,
    "start_time": "2022-09-05T21:19:33.287Z"
   },
   {
    "duration": 43,
    "start_time": "2022-09-05T21:19:33.307Z"
   },
   {
    "duration": 173,
    "start_time": "2022-09-05T21:19:33.352Z"
   },
   {
    "duration": 190,
    "start_time": "2022-09-05T21:19:33.527Z"
   },
   {
    "duration": 5,
    "start_time": "2022-09-05T21:19:33.718Z"
   },
   {
    "duration": 261,
    "start_time": "2022-09-05T21:19:33.725Z"
   },
   {
    "duration": 307,
    "start_time": "2022-09-05T21:19:33.988Z"
   },
   {
    "duration": 217,
    "start_time": "2022-09-05T21:19:34.296Z"
   },
   {
    "duration": 179,
    "start_time": "2022-09-05T21:19:34.515Z"
   },
   {
    "duration": 10,
    "start_time": "2022-09-05T21:19:34.696Z"
   },
   {
    "duration": 37,
    "start_time": "2022-09-05T21:19:34.707Z"
   },
   {
    "duration": 189,
    "start_time": "2022-09-05T21:19:34.745Z"
   },
   {
    "duration": 184,
    "start_time": "2022-09-05T21:19:34.936Z"
   },
   {
    "duration": 4,
    "start_time": "2022-09-05T21:19:35.122Z"
   },
   {
    "duration": 270,
    "start_time": "2022-09-05T21:19:35.128Z"
   },
   {
    "duration": 216,
    "start_time": "2022-09-05T21:19:35.405Z"
   },
   {
    "duration": 307,
    "start_time": "2022-09-05T21:19:35.622Z"
   },
   {
    "duration": 236,
    "start_time": "2022-09-05T21:19:35.931Z"
   },
   {
    "duration": 4,
    "start_time": "2022-09-05T21:19:36.169Z"
   },
   {
    "duration": 65,
    "start_time": "2022-09-05T21:19:36.175Z"
   },
   {
    "duration": 178,
    "start_time": "2022-09-05T21:19:36.242Z"
   },
   {
    "duration": 261,
    "start_time": "2022-09-05T21:19:36.421Z"
   },
   {
    "duration": 5,
    "start_time": "2022-09-05T21:19:36.683Z"
   },
   {
    "duration": 271,
    "start_time": "2022-09-05T21:19:36.689Z"
   },
   {
    "duration": 213,
    "start_time": "2022-09-05T21:19:36.962Z"
   },
   {
    "duration": 301,
    "start_time": "2022-09-05T21:19:37.177Z"
   },
   {
    "duration": 236,
    "start_time": "2022-09-05T21:19:37.479Z"
   },
   {
    "duration": 246,
    "start_time": "2022-09-05T21:19:37.717Z"
   },
   {
    "duration": 252,
    "start_time": "2022-09-05T21:19:37.965Z"
   },
   {
    "duration": 246,
    "start_time": "2022-09-05T21:19:38.219Z"
   },
   {
    "duration": 4,
    "start_time": "2022-09-05T21:19:38.467Z"
   },
   {
    "duration": 21,
    "start_time": "2022-09-05T21:19:38.472Z"
   },
   {
    "duration": 11,
    "start_time": "2022-09-05T21:19:38.495Z"
   },
   {
    "duration": 13,
    "start_time": "2022-09-05T21:19:38.508Z"
   },
   {
    "duration": 25,
    "start_time": "2022-09-05T21:27:15.356Z"
   },
   {
    "duration": 3,
    "start_time": "2022-09-05T21:27:44.837Z"
   },
   {
    "duration": 22,
    "start_time": "2022-09-05T21:27:45.455Z"
   },
   {
    "duration": 55,
    "start_time": "2022-09-06T06:34:06.724Z"
   },
   {
    "duration": 1128,
    "start_time": "2022-09-06T06:34:11.308Z"
   },
   {
    "duration": 716,
    "start_time": "2022-09-06T06:34:12.438Z"
   },
   {
    "duration": 12,
    "start_time": "2022-09-06T06:34:13.155Z"
   },
   {
    "duration": 13,
    "start_time": "2022-09-06T06:34:13.169Z"
   },
   {
    "duration": 3,
    "start_time": "2022-09-06T06:34:13.183Z"
   },
   {
    "duration": 12,
    "start_time": "2022-09-06T06:34:13.188Z"
   },
   {
    "duration": 13,
    "start_time": "2022-09-06T06:34:13.201Z"
   },
   {
    "duration": 10,
    "start_time": "2022-09-06T06:34:13.216Z"
   },
   {
    "duration": 30,
    "start_time": "2022-09-06T06:34:13.227Z"
   },
   {
    "duration": 18,
    "start_time": "2022-09-06T06:34:13.259Z"
   },
   {
    "duration": 15,
    "start_time": "2022-09-06T06:34:13.279Z"
   },
   {
    "duration": 6,
    "start_time": "2022-09-06T06:34:13.296Z"
   },
   {
    "duration": 21,
    "start_time": "2022-09-06T06:34:13.303Z"
   },
   {
    "duration": 4,
    "start_time": "2022-09-06T06:34:13.325Z"
   },
   {
    "duration": 34,
    "start_time": "2022-09-06T06:34:13.330Z"
   },
   {
    "duration": 5,
    "start_time": "2022-09-06T06:34:14.227Z"
   },
   {
    "duration": 5,
    "start_time": "2022-09-06T06:34:18.006Z"
   },
   {
    "duration": 2,
    "start_time": "2022-09-06T06:51:58.643Z"
   },
   {
    "duration": 59,
    "start_time": "2022-09-06T06:55:23.477Z"
   },
   {
    "duration": 4,
    "start_time": "2022-09-06T06:55:27.425Z"
   },
   {
    "duration": 287,
    "start_time": "2022-09-06T06:55:27.431Z"
   },
   {
    "duration": 10,
    "start_time": "2022-09-06T06:55:27.719Z"
   },
   {
    "duration": 12,
    "start_time": "2022-09-06T06:55:27.730Z"
   },
   {
    "duration": 12,
    "start_time": "2022-09-06T06:55:27.743Z"
   },
   {
    "duration": 8,
    "start_time": "2022-09-06T06:55:27.756Z"
   },
   {
    "duration": 13,
    "start_time": "2022-09-06T06:55:27.765Z"
   },
   {
    "duration": 17,
    "start_time": "2022-09-06T06:55:27.779Z"
   },
   {
    "duration": 17,
    "start_time": "2022-09-06T06:55:27.797Z"
   },
   {
    "duration": 19,
    "start_time": "2022-09-06T06:55:27.816Z"
   },
   {
    "duration": 16,
    "start_time": "2022-09-06T06:55:27.836Z"
   },
   {
    "duration": 7,
    "start_time": "2022-09-06T06:55:27.854Z"
   },
   {
    "duration": 13,
    "start_time": "2022-09-06T06:55:27.863Z"
   },
   {
    "duration": 5,
    "start_time": "2022-09-06T06:55:27.877Z"
   },
   {
    "duration": 18,
    "start_time": "2022-09-06T06:55:27.883Z"
   },
   {
    "duration": 3,
    "start_time": "2022-09-06T06:55:27.903Z"
   },
   {
    "duration": 15,
    "start_time": "2022-09-06T06:55:27.908Z"
   },
   {
    "duration": 37,
    "start_time": "2022-09-06T06:55:27.924Z"
   },
   {
    "duration": 6,
    "start_time": "2022-09-06T06:55:27.962Z"
   },
   {
    "duration": 14,
    "start_time": "2022-09-06T06:55:27.969Z"
   },
   {
    "duration": 5,
    "start_time": "2022-09-06T06:55:27.985Z"
   },
   {
    "duration": 6,
    "start_time": "2022-09-06T06:55:27.992Z"
   },
   {
    "duration": 10,
    "start_time": "2022-09-06T06:55:28.000Z"
   },
   {
    "duration": 8,
    "start_time": "2022-09-06T06:55:30.401Z"
   },
   {
    "duration": 8,
    "start_time": "2022-09-06T07:03:00.837Z"
   },
   {
    "duration": 26,
    "start_time": "2022-09-06T07:05:53.418Z"
   },
   {
    "duration": 22,
    "start_time": "2022-09-06T07:06:45.223Z"
   },
   {
    "duration": 11,
    "start_time": "2022-09-06T07:23:29.175Z"
   },
   {
    "duration": 8,
    "start_time": "2022-09-06T07:23:49.926Z"
   },
   {
    "duration": 7,
    "start_time": "2022-09-06T07:23:58.282Z"
   },
   {
    "duration": 30,
    "start_time": "2022-09-06T07:26:30.349Z"
   },
   {
    "duration": 29,
    "start_time": "2022-09-06T07:28:19.051Z"
   },
   {
    "duration": 26,
    "start_time": "2022-09-06T07:28:45.935Z"
   },
   {
    "duration": 42,
    "start_time": "2022-09-06T07:28:53.877Z"
   },
   {
    "duration": 29,
    "start_time": "2022-09-06T07:29:05.640Z"
   },
   {
    "duration": 25,
    "start_time": "2022-09-06T07:29:18.042Z"
   },
   {
    "duration": 23,
    "start_time": "2022-09-06T07:29:36.031Z"
   },
   {
    "duration": 27,
    "start_time": "2022-09-06T07:29:47.838Z"
   },
   {
    "duration": 31,
    "start_time": "2022-09-06T07:30:36.238Z"
   },
   {
    "duration": 21,
    "start_time": "2022-09-06T07:30:59.432Z"
   },
   {
    "duration": 18,
    "start_time": "2022-09-06T07:37:08.905Z"
   },
   {
    "duration": 3,
    "start_time": "2022-09-06T07:37:26.954Z"
   },
   {
    "duration": 276,
    "start_time": "2022-09-06T07:37:26.958Z"
   },
   {
    "duration": 11,
    "start_time": "2022-09-06T07:37:27.235Z"
   },
   {
    "duration": 10,
    "start_time": "2022-09-06T07:37:27.247Z"
   },
   {
    "duration": 4,
    "start_time": "2022-09-06T07:37:27.258Z"
   },
   {
    "duration": 8,
    "start_time": "2022-09-06T07:37:27.263Z"
   },
   {
    "duration": 19,
    "start_time": "2022-09-06T07:37:27.272Z"
   },
   {
    "duration": 19,
    "start_time": "2022-09-06T07:37:27.293Z"
   },
   {
    "duration": 9,
    "start_time": "2022-09-06T07:37:27.314Z"
   },
   {
    "duration": 28,
    "start_time": "2022-09-06T07:37:27.325Z"
   },
   {
    "duration": 19,
    "start_time": "2022-09-06T07:37:27.355Z"
   },
   {
    "duration": 7,
    "start_time": "2022-09-06T07:37:27.376Z"
   },
   {
    "duration": 30,
    "start_time": "2022-09-06T07:37:27.385Z"
   },
   {
    "duration": 8,
    "start_time": "2022-09-06T07:37:27.419Z"
   },
   {
    "duration": 25,
    "start_time": "2022-09-06T07:37:27.430Z"
   },
   {
    "duration": 5,
    "start_time": "2022-09-06T07:37:27.456Z"
   },
   {
    "duration": 27,
    "start_time": "2022-09-06T07:37:27.463Z"
   },
   {
    "duration": 16,
    "start_time": "2022-09-06T07:37:27.492Z"
   },
   {
    "duration": 6,
    "start_time": "2022-09-06T07:37:27.509Z"
   },
   {
    "duration": 17,
    "start_time": "2022-09-06T07:37:27.516Z"
   },
   {
    "duration": 22,
    "start_time": "2022-09-06T07:37:27.534Z"
   },
   {
    "duration": 6,
    "start_time": "2022-09-06T07:37:27.557Z"
   },
   {
    "duration": 11,
    "start_time": "2022-09-06T07:37:27.564Z"
   },
   {
    "duration": 9,
    "start_time": "2022-09-06T07:37:27.576Z"
   },
   {
    "duration": 0,
    "start_time": "2022-09-06T07:37:27.587Z"
   },
   {
    "duration": 0,
    "start_time": "2022-09-06T07:37:27.588Z"
   },
   {
    "duration": 0,
    "start_time": "2022-09-06T07:37:27.589Z"
   },
   {
    "duration": 0,
    "start_time": "2022-09-06T07:37:27.590Z"
   },
   {
    "duration": 0,
    "start_time": "2022-09-06T07:37:27.591Z"
   },
   {
    "duration": 0,
    "start_time": "2022-09-06T07:37:27.592Z"
   },
   {
    "duration": 0,
    "start_time": "2022-09-06T07:37:27.593Z"
   },
   {
    "duration": 0,
    "start_time": "2022-09-06T07:37:27.594Z"
   },
   {
    "duration": 0,
    "start_time": "2022-09-06T07:37:27.595Z"
   },
   {
    "duration": 0,
    "start_time": "2022-09-06T07:37:27.596Z"
   },
   {
    "duration": 0,
    "start_time": "2022-09-06T07:37:27.596Z"
   },
   {
    "duration": 0,
    "start_time": "2022-09-06T07:37:27.597Z"
   },
   {
    "duration": 0,
    "start_time": "2022-09-06T07:37:27.598Z"
   },
   {
    "duration": 15,
    "start_time": "2022-09-06T07:37:30.556Z"
   },
   {
    "duration": 13,
    "start_time": "2022-09-06T07:38:32.601Z"
   },
   {
    "duration": 14,
    "start_time": "2022-09-06T07:38:43.979Z"
   },
   {
    "duration": 14,
    "start_time": "2022-09-06T07:38:53.363Z"
   },
   {
    "duration": 11,
    "start_time": "2022-09-06T07:41:24.741Z"
   },
   {
    "duration": 12,
    "start_time": "2022-09-06T07:41:57.629Z"
   },
   {
    "duration": 13,
    "start_time": "2022-09-06T07:42:05.978Z"
   },
   {
    "duration": 32,
    "start_time": "2022-09-06T07:42:19.142Z"
   },
   {
    "duration": 15,
    "start_time": "2022-09-06T07:42:28.331Z"
   },
   {
    "duration": 15,
    "start_time": "2022-09-06T07:42:43.003Z"
   },
   {
    "duration": 14,
    "start_time": "2022-09-06T07:42:52.628Z"
   },
   {
    "duration": 31,
    "start_time": "2022-09-06T07:43:16.377Z"
   },
   {
    "duration": 14,
    "start_time": "2022-09-06T07:43:36.404Z"
   },
   {
    "duration": 19,
    "start_time": "2022-09-06T07:43:44.682Z"
   },
   {
    "duration": 30,
    "start_time": "2022-09-06T07:44:19.057Z"
   },
   {
    "duration": 25,
    "start_time": "2022-09-06T07:44:59.241Z"
   },
   {
    "duration": 33,
    "start_time": "2022-09-06T07:45:05.926Z"
   },
   {
    "duration": 25,
    "start_time": "2022-09-06T07:47:15.623Z"
   },
   {
    "duration": 22,
    "start_time": "2022-09-06T07:47:19.274Z"
   },
   {
    "duration": 22,
    "start_time": "2022-09-06T07:47:31.679Z"
   },
   {
    "duration": 27,
    "start_time": "2022-09-06T07:47:46.538Z"
   },
   {
    "duration": 32,
    "start_time": "2022-09-06T07:49:46.650Z"
   },
   {
    "duration": 29,
    "start_time": "2022-09-06T07:50:25.334Z"
   },
   {
    "duration": 28,
    "start_time": "2022-09-06T07:50:35.440Z"
   },
   {
    "duration": 22,
    "start_time": "2022-09-06T07:51:30.223Z"
   },
   {
    "duration": 30,
    "start_time": "2022-09-06T07:51:47.421Z"
   },
   {
    "duration": 22,
    "start_time": "2022-09-06T07:52:58.048Z"
   },
   {
    "duration": 30,
    "start_time": "2022-09-06T07:54:13.360Z"
   },
   {
    "duration": 35,
    "start_time": "2022-09-06T07:54:21.273Z"
   },
   {
    "duration": 30,
    "start_time": "2022-09-06T07:55:13.682Z"
   },
   {
    "duration": 21,
    "start_time": "2022-09-06T07:55:34.875Z"
   },
   {
    "duration": 30,
    "start_time": "2022-09-06T07:56:12.088Z"
   },
   {
    "duration": 15,
    "start_time": "2022-09-06T07:56:26.635Z"
   },
   {
    "duration": 29,
    "start_time": "2022-09-06T07:56:35.338Z"
   },
   {
    "duration": 30,
    "start_time": "2022-09-06T07:56:40.784Z"
   },
   {
    "duration": 26,
    "start_time": "2022-09-06T07:57:07.877Z"
   },
   {
    "duration": 5,
    "start_time": "2022-09-06T07:57:18.863Z"
   },
   {
    "duration": 4968,
    "start_time": "2022-09-06T07:57:21.981Z"
   },
   {
    "duration": 3,
    "start_time": "2022-09-06T08:11:45.877Z"
   },
   {
    "duration": 3,
    "start_time": "2022-09-06T08:13:02.470Z"
   },
   {
    "duration": 278,
    "start_time": "2022-09-06T08:13:02.475Z"
   },
   {
    "duration": 9,
    "start_time": "2022-09-06T08:13:02.755Z"
   },
   {
    "duration": 9,
    "start_time": "2022-09-06T08:13:02.766Z"
   },
   {
    "duration": 9,
    "start_time": "2022-09-06T08:13:02.776Z"
   },
   {
    "duration": 9,
    "start_time": "2022-09-06T08:13:02.787Z"
   },
   {
    "duration": 12,
    "start_time": "2022-09-06T08:13:02.797Z"
   },
   {
    "duration": 13,
    "start_time": "2022-09-06T08:13:02.811Z"
   },
   {
    "duration": 7,
    "start_time": "2022-09-06T08:13:02.826Z"
   },
   {
    "duration": 27,
    "start_time": "2022-09-06T08:13:02.834Z"
   },
   {
    "duration": 15,
    "start_time": "2022-09-06T08:13:02.863Z"
   },
   {
    "duration": 7,
    "start_time": "2022-09-06T08:13:02.879Z"
   },
   {
    "duration": 15,
    "start_time": "2022-09-06T08:13:02.887Z"
   },
   {
    "duration": 5,
    "start_time": "2022-09-06T08:13:02.904Z"
   },
   {
    "duration": 23,
    "start_time": "2022-09-06T08:13:02.910Z"
   },
   {
    "duration": 23,
    "start_time": "2022-09-06T08:13:02.935Z"
   },
   {
    "duration": 16,
    "start_time": "2022-09-06T08:13:02.960Z"
   },
   {
    "duration": 17,
    "start_time": "2022-09-06T08:13:02.978Z"
   },
   {
    "duration": 7,
    "start_time": "2022-09-06T08:13:02.996Z"
   },
   {
    "duration": 17,
    "start_time": "2022-09-06T08:13:03.004Z"
   },
   {
    "duration": 33,
    "start_time": "2022-09-06T08:13:03.022Z"
   },
   {
    "duration": 3,
    "start_time": "2022-09-06T08:13:03.056Z"
   },
   {
    "duration": 12,
    "start_time": "2022-09-06T08:13:03.061Z"
   },
   {
    "duration": 12,
    "start_time": "2022-09-06T08:13:03.076Z"
   },
   {
    "duration": 8,
    "start_time": "2022-09-06T08:13:03.090Z"
   },
   {
    "duration": 7,
    "start_time": "2022-09-06T08:13:03.100Z"
   },
   {
    "duration": 16,
    "start_time": "2022-09-06T08:13:03.108Z"
   },
   {
    "duration": 41,
    "start_time": "2022-09-06T08:13:03.125Z"
   },
   {
    "duration": 7,
    "start_time": "2022-09-06T08:13:03.168Z"
   },
   {
    "duration": 35,
    "start_time": "2022-09-06T08:13:03.176Z"
   },
   {
    "duration": 16,
    "start_time": "2022-09-06T08:13:03.213Z"
   },
   {
    "duration": 3,
    "start_time": "2022-09-06T08:13:03.230Z"
   },
   {
    "duration": 21,
    "start_time": "2022-09-06T08:13:03.235Z"
   },
   {
    "duration": 9,
    "start_time": "2022-09-06T08:13:03.257Z"
   },
   {
    "duration": 25,
    "start_time": "2022-09-06T08:13:03.268Z"
   },
   {
    "duration": 18,
    "start_time": "2022-09-06T08:13:03.295Z"
   },
   {
    "duration": 47,
    "start_time": "2022-09-06T08:13:03.314Z"
   },
   {
    "duration": 18,
    "start_time": "2022-09-06T08:13:03.362Z"
   },
   {
    "duration": 3,
    "start_time": "2022-09-06T08:13:03.381Z"
   },
   {
    "duration": 5,
    "start_time": "2022-09-06T08:17:25.534Z"
   },
   {
    "duration": 9,
    "start_time": "2022-09-06T08:22:43.969Z"
   },
   {
    "duration": 8,
    "start_time": "2022-09-06T08:23:15.642Z"
   },
   {
    "duration": 23,
    "start_time": "2022-09-06T08:23:28.995Z"
   },
   {
    "duration": 8,
    "start_time": "2022-09-06T08:23:54.438Z"
   },
   {
    "duration": 16,
    "start_time": "2022-09-06T08:24:18.538Z"
   },
   {
    "duration": 18,
    "start_time": "2022-09-06T08:24:37.378Z"
   },
   {
    "duration": 15,
    "start_time": "2022-09-06T08:26:36.326Z"
   },
   {
    "duration": 59,
    "start_time": "2022-09-06T08:27:14.935Z"
   },
   {
    "duration": 77,
    "start_time": "2022-09-06T08:27:53.873Z"
   },
   {
    "duration": 27,
    "start_time": "2022-09-06T08:28:12.400Z"
   },
   {
    "duration": 30,
    "start_time": "2022-09-06T08:29:32.129Z"
   },
   {
    "duration": 247,
    "start_time": "2022-09-06T08:33:25.935Z"
   },
   {
    "duration": 106,
    "start_time": "2022-09-06T08:33:35.729Z"
   },
   {
    "duration": 25,
    "start_time": "2022-09-06T08:33:47.832Z"
   },
   {
    "duration": 26,
    "start_time": "2022-09-06T08:34:07.244Z"
   },
   {
    "duration": 3,
    "start_time": "2022-09-06T08:34:23.766Z"
   },
   {
    "duration": 287,
    "start_time": "2022-09-06T08:34:23.771Z"
   },
   {
    "duration": 9,
    "start_time": "2022-09-06T08:34:24.060Z"
   },
   {
    "duration": 23,
    "start_time": "2022-09-06T08:34:24.071Z"
   },
   {
    "duration": 30,
    "start_time": "2022-09-06T08:34:24.095Z"
   },
   {
    "duration": 28,
    "start_time": "2022-09-06T08:34:24.126Z"
   },
   {
    "duration": 35,
    "start_time": "2022-09-06T08:34:24.156Z"
   },
   {
    "duration": 39,
    "start_time": "2022-09-06T08:34:24.192Z"
   },
   {
    "duration": 37,
    "start_time": "2022-09-06T08:34:24.233Z"
   },
   {
    "duration": 46,
    "start_time": "2022-09-06T08:34:24.272Z"
   },
   {
    "duration": 46,
    "start_time": "2022-09-06T08:34:24.320Z"
   },
   {
    "duration": 12,
    "start_time": "2022-09-06T08:34:24.368Z"
   },
   {
    "duration": 31,
    "start_time": "2022-09-06T08:34:24.381Z"
   },
   {
    "duration": 26,
    "start_time": "2022-09-06T08:34:24.414Z"
   },
   {
    "duration": 43,
    "start_time": "2022-09-06T08:34:24.441Z"
   },
   {
    "duration": 6,
    "start_time": "2022-09-06T08:34:24.485Z"
   },
   {
    "duration": 16,
    "start_time": "2022-09-06T08:34:24.493Z"
   },
   {
    "duration": 15,
    "start_time": "2022-09-06T08:34:24.511Z"
   },
   {
    "duration": 7,
    "start_time": "2022-09-06T08:34:24.527Z"
   },
   {
    "duration": 26,
    "start_time": "2022-09-06T08:34:24.536Z"
   },
   {
    "duration": 8,
    "start_time": "2022-09-06T08:34:24.564Z"
   },
   {
    "duration": 5,
    "start_time": "2022-09-06T08:34:24.574Z"
   },
   {
    "duration": 12,
    "start_time": "2022-09-06T08:34:24.581Z"
   },
   {
    "duration": 10,
    "start_time": "2022-09-06T08:34:24.596Z"
   },
   {
    "duration": 9,
    "start_time": "2022-09-06T08:34:24.608Z"
   },
   {
    "duration": 8,
    "start_time": "2022-09-06T08:34:24.619Z"
   },
   {
    "duration": 15,
    "start_time": "2022-09-06T08:34:24.655Z"
   },
   {
    "duration": 16,
    "start_time": "2022-09-06T08:34:24.671Z"
   },
   {
    "duration": 16,
    "start_time": "2022-09-06T08:34:24.688Z"
   },
   {
    "duration": 30,
    "start_time": "2022-09-06T08:34:24.705Z"
   },
   {
    "duration": 16,
    "start_time": "2022-09-06T08:34:24.754Z"
   },
   {
    "duration": 2,
    "start_time": "2022-09-06T08:34:24.772Z"
   },
   {
    "duration": 9,
    "start_time": "2022-09-06T08:34:24.775Z"
   },
   {
    "duration": 9,
    "start_time": "2022-09-06T08:34:24.786Z"
   },
   {
    "duration": 25,
    "start_time": "2022-09-06T08:34:24.796Z"
   },
   {
    "duration": 40,
    "start_time": "2022-09-06T08:34:24.823Z"
   },
   {
    "duration": 14,
    "start_time": "2022-09-06T08:34:24.864Z"
   },
   {
    "duration": 18,
    "start_time": "2022-09-06T08:34:24.880Z"
   },
   {
    "duration": 28,
    "start_time": "2022-09-06T08:34:24.899Z"
   },
   {
    "duration": 44,
    "start_time": "2022-09-06T08:34:24.928Z"
   },
   {
    "duration": 25,
    "start_time": "2022-09-06T08:34:24.974Z"
   },
   {
    "duration": 3,
    "start_time": "2022-09-06T08:34:25.001Z"
   },
   {
    "duration": 23,
    "start_time": "2022-09-06T08:34:32.366Z"
   },
   {
    "duration": 22,
    "start_time": "2022-09-06T08:35:16.444Z"
   },
   {
    "duration": 777,
    "start_time": "2022-09-06T08:45:56.695Z"
   },
   {
    "duration": 3,
    "start_time": "2022-09-06T08:46:55.170Z"
   },
   {
    "duration": 4,
    "start_time": "2022-09-06T08:46:58.436Z"
   },
   {
    "duration": 3,
    "start_time": "2022-09-06T08:47:02.838Z"
   },
   {
    "duration": 3,
    "start_time": "2022-09-06T08:47:10.896Z"
   },
   {
    "duration": 2,
    "start_time": "2022-09-06T08:47:57.677Z"
   },
   {
    "duration": 266,
    "start_time": "2022-09-06T08:47:57.683Z"
   },
   {
    "duration": 9,
    "start_time": "2022-09-06T08:47:57.951Z"
   },
   {
    "duration": 9,
    "start_time": "2022-09-06T08:47:57.962Z"
   },
   {
    "duration": 6,
    "start_time": "2022-09-06T08:47:57.973Z"
   },
   {
    "duration": 4,
    "start_time": "2022-09-06T08:47:57.981Z"
   },
   {
    "duration": 11,
    "start_time": "2022-09-06T08:47:57.987Z"
   },
   {
    "duration": 13,
    "start_time": "2022-09-06T08:47:58.000Z"
   },
   {
    "duration": 8,
    "start_time": "2022-09-06T08:47:58.015Z"
   },
   {
    "duration": 31,
    "start_time": "2022-09-06T08:47:58.024Z"
   },
   {
    "duration": 16,
    "start_time": "2022-09-06T08:47:58.057Z"
   },
   {
    "duration": 7,
    "start_time": "2022-09-06T08:47:58.074Z"
   },
   {
    "duration": 15,
    "start_time": "2022-09-06T08:47:58.082Z"
   },
   {
    "duration": 5,
    "start_time": "2022-09-06T08:47:58.098Z"
   },
   {
    "duration": 20,
    "start_time": "2022-09-06T08:47:58.104Z"
   },
   {
    "duration": 4,
    "start_time": "2022-09-06T08:47:58.125Z"
   },
   {
    "duration": 36,
    "start_time": "2022-09-06T08:47:58.130Z"
   },
   {
    "duration": 14,
    "start_time": "2022-09-06T08:47:58.167Z"
   },
   {
    "duration": 7,
    "start_time": "2022-09-06T08:47:58.182Z"
   },
   {
    "duration": 14,
    "start_time": "2022-09-06T08:47:58.190Z"
   },
   {
    "duration": 6,
    "start_time": "2022-09-06T08:47:58.205Z"
   },
   {
    "duration": 5,
    "start_time": "2022-09-06T08:47:58.213Z"
   },
   {
    "duration": 37,
    "start_time": "2022-09-06T08:47:58.219Z"
   },
   {
    "duration": 13,
    "start_time": "2022-09-06T08:47:58.258Z"
   },
   {
    "duration": 10,
    "start_time": "2022-09-06T08:47:58.272Z"
   },
   {
    "duration": 7,
    "start_time": "2022-09-06T08:47:58.284Z"
   },
   {
    "duration": 12,
    "start_time": "2022-09-06T08:47:58.293Z"
   },
   {
    "duration": 14,
    "start_time": "2022-09-06T08:47:58.306Z"
   },
   {
    "duration": 34,
    "start_time": "2022-09-06T08:47:58.322Z"
   },
   {
    "duration": 30,
    "start_time": "2022-09-06T08:47:58.357Z"
   },
   {
    "duration": 15,
    "start_time": "2022-09-06T08:47:58.389Z"
   },
   {
    "duration": 2,
    "start_time": "2022-09-06T08:47:58.406Z"
   },
   {
    "duration": 14,
    "start_time": "2022-09-06T08:47:58.409Z"
   },
   {
    "duration": 9,
    "start_time": "2022-09-06T08:47:58.424Z"
   },
   {
    "duration": 42,
    "start_time": "2022-09-06T08:47:58.434Z"
   },
   {
    "duration": 18,
    "start_time": "2022-09-06T08:47:58.477Z"
   },
   {
    "duration": 14,
    "start_time": "2022-09-06T08:47:58.496Z"
   },
   {
    "duration": 16,
    "start_time": "2022-09-06T08:47:58.512Z"
   },
   {
    "duration": 52,
    "start_time": "2022-09-06T08:47:58.529Z"
   },
   {
    "duration": 20,
    "start_time": "2022-09-06T08:47:58.582Z"
   },
   {
    "duration": 51,
    "start_time": "2022-09-06T08:47:58.604Z"
   },
   {
    "duration": 5,
    "start_time": "2022-09-06T08:47:58.657Z"
   },
   {
    "duration": 5,
    "start_time": "2022-09-06T08:47:58.664Z"
   },
   {
    "duration": 54,
    "start_time": "2022-09-06T08:48:04.848Z"
   },
   {
    "duration": 59,
    "start_time": "2022-09-06T08:48:13.353Z"
   },
   {
    "duration": 60,
    "start_time": "2022-09-06T08:49:27.021Z"
   },
   {
    "duration": 30,
    "start_time": "2022-09-06T08:55:59.425Z"
   },
   {
    "duration": 30,
    "start_time": "2022-09-06T08:58:31.769Z"
   },
   {
    "duration": 27,
    "start_time": "2022-09-06T08:58:41.651Z"
   },
   {
    "duration": 29,
    "start_time": "2022-09-06T08:58:53.434Z"
   },
   {
    "duration": 27,
    "start_time": "2022-09-06T08:59:00.518Z"
   },
   {
    "duration": 26,
    "start_time": "2022-09-06T08:59:11.422Z"
   },
   {
    "duration": 27,
    "start_time": "2022-09-06T08:59:22.698Z"
   },
   {
    "duration": 26,
    "start_time": "2022-09-06T08:59:28.072Z"
   },
   {
    "duration": 33,
    "start_time": "2022-09-06T08:59:53.065Z"
   },
   {
    "duration": 34,
    "start_time": "2022-09-06T09:00:00.931Z"
   },
   {
    "duration": 30,
    "start_time": "2022-09-06T09:00:11.103Z"
   },
   {
    "duration": 24,
    "start_time": "2022-09-06T09:00:17.080Z"
   },
   {
    "duration": 22,
    "start_time": "2022-09-06T09:00:29.016Z"
   },
   {
    "duration": 33,
    "start_time": "2022-09-06T09:00:41.792Z"
   },
   {
    "duration": 28,
    "start_time": "2022-09-06T09:01:01.150Z"
   },
   {
    "duration": 37,
    "start_time": "2022-09-06T09:01:35.074Z"
   },
   {
    "duration": 35,
    "start_time": "2022-09-06T09:01:41.234Z"
   },
   {
    "duration": 28,
    "start_time": "2022-09-06T09:01:47.191Z"
   },
   {
    "duration": 31,
    "start_time": "2022-09-06T09:01:52.658Z"
   },
   {
    "duration": 31,
    "start_time": "2022-09-06T09:02:04.802Z"
   },
   {
    "duration": 36,
    "start_time": "2022-09-06T09:02:10.262Z"
   },
   {
    "duration": 3,
    "start_time": "2022-09-06T09:03:12.973Z"
   },
   {
    "duration": 55,
    "start_time": "2022-09-06T09:03:18.535Z"
   },
   {
    "duration": 5,
    "start_time": "2022-09-06T09:04:28.973Z"
   },
   {
    "duration": 5,
    "start_time": "2022-09-06T09:04:39.023Z"
   },
   {
    "duration": 22,
    "start_time": "2022-09-06T09:04:44.082Z"
   },
   {
    "duration": 4,
    "start_time": "2022-09-06T09:07:57.520Z"
   },
   {
    "duration": 25,
    "start_time": "2022-09-06T09:08:00.050Z"
   },
   {
    "duration": 3,
    "start_time": "2022-09-06T09:08:06.377Z"
   },
   {
    "duration": 287,
    "start_time": "2022-09-06T09:08:06.382Z"
   },
   {
    "duration": 10,
    "start_time": "2022-09-06T09:08:06.672Z"
   },
   {
    "duration": 15,
    "start_time": "2022-09-06T09:08:06.684Z"
   },
   {
    "duration": 6,
    "start_time": "2022-09-06T09:08:06.701Z"
   },
   {
    "duration": 8,
    "start_time": "2022-09-06T09:08:06.708Z"
   },
   {
    "duration": 16,
    "start_time": "2022-09-06T09:08:06.717Z"
   },
   {
    "duration": 20,
    "start_time": "2022-09-06T09:08:06.736Z"
   },
   {
    "duration": 11,
    "start_time": "2022-09-06T09:08:06.758Z"
   },
   {
    "duration": 21,
    "start_time": "2022-09-06T09:08:06.772Z"
   },
   {
    "duration": 23,
    "start_time": "2022-09-06T09:08:06.794Z"
   },
   {
    "duration": 10,
    "start_time": "2022-09-06T09:08:06.818Z"
   },
   {
    "duration": 37,
    "start_time": "2022-09-06T09:08:06.830Z"
   },
   {
    "duration": 6,
    "start_time": "2022-09-06T09:08:06.869Z"
   },
   {
    "duration": 21,
    "start_time": "2022-09-06T09:08:06.877Z"
   },
   {
    "duration": 5,
    "start_time": "2022-09-06T09:08:06.899Z"
   },
   {
    "duration": 15,
    "start_time": "2022-09-06T09:08:06.906Z"
   },
   {
    "duration": 37,
    "start_time": "2022-09-06T09:08:06.923Z"
   },
   {
    "duration": 8,
    "start_time": "2022-09-06T09:08:06.961Z"
   },
   {
    "duration": 17,
    "start_time": "2022-09-06T09:08:06.971Z"
   },
   {
    "duration": 6,
    "start_time": "2022-09-06T09:08:06.990Z"
   },
   {
    "duration": 4,
    "start_time": "2022-09-06T09:08:06.998Z"
   },
   {
    "duration": 29,
    "start_time": "2022-09-06T09:08:07.004Z"
   },
   {
    "duration": 15,
    "start_time": "2022-09-06T09:08:07.034Z"
   },
   {
    "duration": 9,
    "start_time": "2022-09-06T09:08:07.055Z"
   },
   {
    "duration": 7,
    "start_time": "2022-09-06T09:08:07.065Z"
   },
   {
    "duration": 15,
    "start_time": "2022-09-06T09:08:07.074Z"
   },
   {
    "duration": 14,
    "start_time": "2022-09-06T09:08:07.092Z"
   },
   {
    "duration": 7,
    "start_time": "2022-09-06T09:08:07.108Z"
   },
   {
    "duration": 59,
    "start_time": "2022-09-06T09:08:07.116Z"
   },
   {
    "duration": 16,
    "start_time": "2022-09-06T09:08:07.176Z"
   },
   {
    "duration": 7,
    "start_time": "2022-09-06T09:08:07.194Z"
   },
   {
    "duration": 8,
    "start_time": "2022-09-06T09:08:07.203Z"
   },
   {
    "duration": 48,
    "start_time": "2022-09-06T09:08:07.212Z"
   },
   {
    "duration": 28,
    "start_time": "2022-09-06T09:08:07.261Z"
   },
   {
    "duration": 20,
    "start_time": "2022-09-06T09:08:07.291Z"
   },
   {
    "duration": 44,
    "start_time": "2022-09-06T09:08:07.313Z"
   },
   {
    "duration": 38,
    "start_time": "2022-09-06T09:08:07.358Z"
   },
   {
    "duration": 34,
    "start_time": "2022-09-06T09:08:07.398Z"
   },
   {
    "duration": 31,
    "start_time": "2022-09-06T09:08:07.456Z"
   },
   {
    "duration": 4,
    "start_time": "2022-09-06T09:08:07.488Z"
   },
   {
    "duration": 9,
    "start_time": "2022-09-06T09:08:07.493Z"
   },
   {
    "duration": 87,
    "start_time": "2022-09-06T09:08:07.504Z"
   },
   {
    "duration": 5,
    "start_time": "2022-09-06T09:08:07.593Z"
   },
   {
    "duration": 26,
    "start_time": "2022-09-06T09:08:11.189Z"
   },
   {
    "duration": 4,
    "start_time": "2022-09-06T09:08:33.984Z"
   },
   {
    "duration": 85,
    "start_time": "2022-09-06T09:08:36.151Z"
   },
   {
    "duration": 81,
    "start_time": "2022-09-06T09:08:50.895Z"
   },
   {
    "duration": 3,
    "start_time": "2022-09-06T09:10:06.344Z"
   },
   {
    "duration": 2,
    "start_time": "2022-09-06T09:10:08.856Z"
   },
   {
    "duration": 88,
    "start_time": "2022-09-06T09:12:43.689Z"
   },
   {
    "duration": 166,
    "start_time": "2022-09-06T09:12:46.726Z"
   },
   {
    "duration": 90,
    "start_time": "2022-09-06T09:12:52.426Z"
   },
   {
    "duration": 3,
    "start_time": "2022-09-06T09:13:29.825Z"
   },
   {
    "duration": 92,
    "start_time": "2022-09-06T09:13:32.084Z"
   },
   {
    "duration": 3,
    "start_time": "2022-09-06T09:14:24.901Z"
   },
   {
    "duration": 310,
    "start_time": "2022-09-06T09:14:24.915Z"
   },
   {
    "duration": 11,
    "start_time": "2022-09-06T09:14:25.227Z"
   },
   {
    "duration": 24,
    "start_time": "2022-09-06T09:14:25.240Z"
   },
   {
    "duration": 7,
    "start_time": "2022-09-06T09:14:25.266Z"
   },
   {
    "duration": 8,
    "start_time": "2022-09-06T09:14:25.275Z"
   },
   {
    "duration": 12,
    "start_time": "2022-09-06T09:14:25.285Z"
   },
   {
    "duration": 15,
    "start_time": "2022-09-06T09:14:25.299Z"
   },
   {
    "duration": 14,
    "start_time": "2022-09-06T09:14:25.316Z"
   },
   {
    "duration": 35,
    "start_time": "2022-09-06T09:14:25.332Z"
   },
   {
    "duration": 45,
    "start_time": "2022-09-06T09:14:25.370Z"
   },
   {
    "duration": 10,
    "start_time": "2022-09-06T09:14:25.417Z"
   },
   {
    "duration": 37,
    "start_time": "2022-09-06T09:14:25.428Z"
   },
   {
    "duration": 16,
    "start_time": "2022-09-06T09:14:25.467Z"
   },
   {
    "duration": 37,
    "start_time": "2022-09-06T09:14:25.484Z"
   },
   {
    "duration": 5,
    "start_time": "2022-09-06T09:14:25.522Z"
   },
   {
    "duration": 25,
    "start_time": "2022-09-06T09:14:25.529Z"
   },
   {
    "duration": 16,
    "start_time": "2022-09-06T09:14:25.556Z"
   },
   {
    "duration": 8,
    "start_time": "2022-09-06T09:14:25.573Z"
   },
   {
    "duration": 22,
    "start_time": "2022-09-06T09:14:25.583Z"
   },
   {
    "duration": 10,
    "start_time": "2022-09-06T09:14:25.607Z"
   },
   {
    "duration": 16,
    "start_time": "2022-09-06T09:14:25.619Z"
   },
   {
    "duration": 21,
    "start_time": "2022-09-06T09:14:25.637Z"
   },
   {
    "duration": 24,
    "start_time": "2022-09-06T09:14:25.661Z"
   },
   {
    "duration": 19,
    "start_time": "2022-09-06T09:14:25.686Z"
   },
   {
    "duration": 12,
    "start_time": "2022-09-06T09:14:25.707Z"
   },
   {
    "duration": 17,
    "start_time": "2022-09-06T09:14:25.720Z"
   },
   {
    "duration": 33,
    "start_time": "2022-09-06T09:14:25.739Z"
   },
   {
    "duration": 10,
    "start_time": "2022-09-06T09:14:25.778Z"
   },
   {
    "duration": 54,
    "start_time": "2022-09-06T09:14:25.789Z"
   },
   {
    "duration": 19,
    "start_time": "2022-09-06T09:14:25.845Z"
   },
   {
    "duration": 9,
    "start_time": "2022-09-06T09:14:25.865Z"
   },
   {
    "duration": 24,
    "start_time": "2022-09-06T09:14:25.876Z"
   },
   {
    "duration": 50,
    "start_time": "2022-09-06T09:14:25.902Z"
   },
   {
    "duration": 19,
    "start_time": "2022-09-06T09:14:25.954Z"
   },
   {
    "duration": 20,
    "start_time": "2022-09-06T09:14:25.974Z"
   },
   {
    "duration": 31,
    "start_time": "2022-09-06T09:14:25.996Z"
   },
   {
    "duration": 46,
    "start_time": "2022-09-06T09:14:26.029Z"
   },
   {
    "duration": 32,
    "start_time": "2022-09-06T09:14:26.077Z"
   },
   {
    "duration": 46,
    "start_time": "2022-09-06T09:14:26.111Z"
   },
   {
    "duration": 3,
    "start_time": "2022-09-06T09:14:26.159Z"
   },
   {
    "duration": 17,
    "start_time": "2022-09-06T09:14:26.164Z"
   },
   {
    "duration": 73,
    "start_time": "2022-09-06T09:14:26.183Z"
   },
   {
    "duration": 4,
    "start_time": "2022-09-06T09:14:26.258Z"
   },
   {
    "duration": 21,
    "start_time": "2022-09-06T09:14:26.264Z"
   },
   {
    "duration": 99,
    "start_time": "2022-09-06T09:14:26.286Z"
   },
   {
    "duration": 242,
    "start_time": "2022-09-06T09:14:26.387Z"
   },
   {
    "duration": 6,
    "start_time": "2022-09-06T09:14:26.631Z"
   },
   {
    "duration": 34,
    "start_time": "2022-09-06T09:14:26.639Z"
   },
   {
    "duration": 44,
    "start_time": "2022-09-06T09:14:26.675Z"
   },
   {
    "duration": 4,
    "start_time": "2022-09-06T09:14:26.720Z"
   },
   {
    "duration": 80,
    "start_time": "2022-09-06T09:14:26.725Z"
   },
   {
    "duration": 214,
    "start_time": "2022-09-06T09:14:26.807Z"
   },
   {
    "duration": 211,
    "start_time": "2022-09-06T09:14:27.023Z"
   },
   {
    "duration": 5,
    "start_time": "2022-09-06T09:14:27.236Z"
   },
   {
    "duration": 381,
    "start_time": "2022-09-06T09:14:27.243Z"
   },
   {
    "duration": 282,
    "start_time": "2022-09-06T09:14:27.626Z"
   },
   {
    "duration": 352,
    "start_time": "2022-09-06T09:14:27.910Z"
   },
   {
    "duration": 225,
    "start_time": "2022-09-06T09:14:28.264Z"
   },
   {
    "duration": 4,
    "start_time": "2022-09-06T09:14:28.491Z"
   },
   {
    "duration": 60,
    "start_time": "2022-09-06T09:14:28.496Z"
   },
   {
    "duration": 255,
    "start_time": "2022-09-06T09:14:28.558Z"
   },
   {
    "duration": 255,
    "start_time": "2022-09-06T09:14:28.814Z"
   },
   {
    "duration": 8,
    "start_time": "2022-09-06T09:14:29.071Z"
   },
   {
    "duration": 321,
    "start_time": "2022-09-06T09:14:29.082Z"
   },
   {
    "duration": 257,
    "start_time": "2022-09-06T09:14:29.405Z"
   },
   {
    "duration": 304,
    "start_time": "2022-09-06T09:14:29.664Z"
   },
   {
    "duration": 332,
    "start_time": "2022-09-06T09:14:29.969Z"
   },
   {
    "duration": 4,
    "start_time": "2022-09-06T09:14:30.303Z"
   },
   {
    "duration": 1328,
    "start_time": "2022-09-06T09:14:30.308Z"
   },
   {
    "duration": 0,
    "start_time": "2022-09-06T09:14:31.638Z"
   },
   {
    "duration": 0,
    "start_time": "2022-09-06T09:14:31.639Z"
   },
   {
    "duration": 0,
    "start_time": "2022-09-06T09:14:31.641Z"
   },
   {
    "duration": 0,
    "start_time": "2022-09-06T09:14:31.642Z"
   },
   {
    "duration": 0,
    "start_time": "2022-09-06T09:14:31.643Z"
   },
   {
    "duration": 0,
    "start_time": "2022-09-06T09:14:31.644Z"
   },
   {
    "duration": 0,
    "start_time": "2022-09-06T09:14:31.645Z"
   },
   {
    "duration": 0,
    "start_time": "2022-09-06T09:14:31.646Z"
   },
   {
    "duration": 0,
    "start_time": "2022-09-06T09:14:31.647Z"
   },
   {
    "duration": 0,
    "start_time": "2022-09-06T09:14:31.648Z"
   },
   {
    "duration": 0,
    "start_time": "2022-09-06T09:14:31.649Z"
   },
   {
    "duration": 0,
    "start_time": "2022-09-06T09:14:31.650Z"
   },
   {
    "duration": 0,
    "start_time": "2022-09-06T09:14:31.652Z"
   },
   {
    "duration": 0,
    "start_time": "2022-09-06T09:14:31.653Z"
   },
   {
    "duration": 232,
    "start_time": "2022-09-06T09:16:37.477Z"
   },
   {
    "duration": 206,
    "start_time": "2022-09-06T09:18:02.323Z"
   },
   {
    "duration": 220,
    "start_time": "2022-09-06T09:23:40.358Z"
   },
   {
    "duration": 203,
    "start_time": "2022-09-06T09:23:53.377Z"
   },
   {
    "duration": 209,
    "start_time": "2022-09-06T09:24:29.430Z"
   },
   {
    "duration": 2815,
    "start_time": "2022-09-06T09:25:22.870Z"
   },
   {
    "duration": 2112,
    "start_time": "2022-09-06T09:25:26.053Z"
   },
   {
    "duration": 217,
    "start_time": "2022-09-06T09:27:42.329Z"
   },
   {
    "duration": 195,
    "start_time": "2022-09-06T09:27:54.547Z"
   },
   {
    "duration": 216,
    "start_time": "2022-09-06T09:28:23.736Z"
   },
   {
    "duration": 366,
    "start_time": "2022-09-06T09:28:37.398Z"
   },
   {
    "duration": 208,
    "start_time": "2022-09-06T09:30:24.904Z"
   },
   {
    "duration": 226,
    "start_time": "2022-09-06T09:30:52.755Z"
   },
   {
    "duration": 224,
    "start_time": "2022-09-06T09:33:22.758Z"
   },
   {
    "duration": 228,
    "start_time": "2022-09-06T09:33:36.649Z"
   },
   {
    "duration": 208,
    "start_time": "2022-09-06T09:33:41.375Z"
   },
   {
    "duration": 231,
    "start_time": "2022-09-06T09:34:11.426Z"
   },
   {
    "duration": 452,
    "start_time": "2022-09-06T09:34:47.751Z"
   },
   {
    "duration": 578,
    "start_time": "2022-09-06T09:35:24.382Z"
   },
   {
    "duration": 454,
    "start_time": "2022-09-06T09:35:39.463Z"
   },
   {
    "duration": 496,
    "start_time": "2022-09-06T09:37:35.939Z"
   },
   {
    "duration": 383,
    "start_time": "2022-09-06T09:37:42.551Z"
   },
   {
    "duration": 515,
    "start_time": "2022-09-06T09:37:46.481Z"
   },
   {
    "duration": 452,
    "start_time": "2022-09-06T09:39:56.552Z"
   },
   {
    "duration": 399,
    "start_time": "2022-09-06T09:40:41.832Z"
   },
   {
    "duration": 384,
    "start_time": "2022-09-06T09:41:04.347Z"
   },
   {
    "duration": 585,
    "start_time": "2022-09-06T09:41:16.645Z"
   },
   {
    "duration": 441,
    "start_time": "2022-09-06T09:43:44.741Z"
   },
   {
    "duration": 439,
    "start_time": "2022-09-06T09:44:34.102Z"
   },
   {
    "duration": 367,
    "start_time": "2022-09-06T09:46:09.106Z"
   },
   {
    "duration": 226,
    "start_time": "2022-09-06T09:46:28.968Z"
   },
   {
    "duration": 4,
    "start_time": "2022-09-06T09:49:13.678Z"
   },
   {
    "duration": 6,
    "start_time": "2022-09-06T09:49:16.000Z"
   },
   {
    "duration": 4,
    "start_time": "2022-09-06T09:49:37.028Z"
   },
   {
    "duration": 5,
    "start_time": "2022-09-06T09:50:20.436Z"
   },
   {
    "duration": 9,
    "start_time": "2022-09-06T09:50:25.002Z"
   },
   {
    "duration": 6,
    "start_time": "2022-09-06T09:50:27.889Z"
   },
   {
    "duration": 4,
    "start_time": "2022-09-06T10:44:30.383Z"
   },
   {
    "duration": 5,
    "start_time": "2022-09-06T10:45:02.427Z"
   },
   {
    "duration": 5,
    "start_time": "2022-09-06T10:45:16.468Z"
   },
   {
    "duration": 5,
    "start_time": "2022-09-06T10:45:29.431Z"
   },
   {
    "duration": 5,
    "start_time": "2022-09-06T10:47:59.365Z"
   },
   {
    "duration": 3,
    "start_time": "2022-09-06T10:51:38.905Z"
   },
   {
    "duration": 5,
    "start_time": "2022-09-06T10:51:42.426Z"
   },
   {
    "duration": 4,
    "start_time": "2022-09-06T10:51:45.269Z"
   },
   {
    "duration": 6,
    "start_time": "2022-09-06T10:55:13.839Z"
   },
   {
    "duration": 49,
    "start_time": "2022-09-06T16:15:09.599Z"
   },
   {
    "duration": 1247,
    "start_time": "2022-09-06T16:15:22.660Z"
   },
   {
    "duration": 713,
    "start_time": "2022-09-06T16:15:23.908Z"
   },
   {
    "duration": 14,
    "start_time": "2022-09-06T16:15:24.623Z"
   },
   {
    "duration": 13,
    "start_time": "2022-09-06T16:15:24.639Z"
   },
   {
    "duration": 3,
    "start_time": "2022-09-06T16:15:24.654Z"
   },
   {
    "duration": 4,
    "start_time": "2022-09-06T16:15:24.659Z"
   },
   {
    "duration": 15,
    "start_time": "2022-09-06T16:15:24.664Z"
   },
   {
    "duration": 25,
    "start_time": "2022-09-06T16:15:24.681Z"
   },
   {
    "duration": 12,
    "start_time": "2022-09-06T16:15:24.708Z"
   },
   {
    "duration": 20,
    "start_time": "2022-09-06T16:15:24.723Z"
   },
   {
    "duration": 19,
    "start_time": "2022-09-06T16:15:24.745Z"
   },
   {
    "duration": 7,
    "start_time": "2022-09-06T16:15:24.765Z"
   },
   {
    "duration": 32,
    "start_time": "2022-09-06T16:15:24.774Z"
   },
   {
    "duration": 3,
    "start_time": "2022-09-06T16:15:24.808Z"
   },
   {
    "duration": 25,
    "start_time": "2022-09-06T16:15:24.812Z"
   },
   {
    "duration": 4,
    "start_time": "2022-09-06T16:15:24.838Z"
   },
   {
    "duration": 17,
    "start_time": "2022-09-06T16:15:24.843Z"
   },
   {
    "duration": 14,
    "start_time": "2022-09-06T16:15:24.862Z"
   },
   {
    "duration": 7,
    "start_time": "2022-09-06T16:15:24.877Z"
   },
   {
    "duration": 32,
    "start_time": "2022-09-06T16:15:24.885Z"
   },
   {
    "duration": 6,
    "start_time": "2022-09-06T16:15:24.918Z"
   },
   {
    "duration": 4,
    "start_time": "2022-09-06T16:15:24.926Z"
   },
   {
    "duration": 14,
    "start_time": "2022-09-06T16:15:24.932Z"
   },
   {
    "duration": 13,
    "start_time": "2022-09-06T16:15:24.948Z"
   },
   {
    "duration": 9,
    "start_time": "2022-09-06T16:15:24.962Z"
   },
   {
    "duration": 8,
    "start_time": "2022-09-06T16:15:24.972Z"
   },
   {
    "duration": 17,
    "start_time": "2022-09-06T16:15:25.006Z"
   },
   {
    "duration": 18,
    "start_time": "2022-09-06T16:15:25.026Z"
   },
   {
    "duration": 8,
    "start_time": "2022-09-06T16:15:25.046Z"
   },
   {
    "duration": 66,
    "start_time": "2022-09-06T16:15:25.056Z"
   },
   {
    "duration": 18,
    "start_time": "2022-09-06T16:15:25.123Z"
   },
   {
    "duration": 8,
    "start_time": "2022-09-06T16:15:25.143Z"
   },
   {
    "duration": 13,
    "start_time": "2022-09-06T16:15:25.152Z"
   },
   {
    "duration": 56,
    "start_time": "2022-09-06T16:15:25.167Z"
   },
   {
    "duration": 26,
    "start_time": "2022-09-06T16:15:25.225Z"
   },
   {
    "duration": 19,
    "start_time": "2022-09-06T16:15:25.253Z"
   },
   {
    "duration": 49,
    "start_time": "2022-09-06T16:15:25.273Z"
   },
   {
    "duration": 32,
    "start_time": "2022-09-06T16:15:25.323Z"
   },
   {
    "duration": 51,
    "start_time": "2022-09-06T16:15:25.356Z"
   },
   {
    "duration": 28,
    "start_time": "2022-09-06T16:15:25.408Z"
   },
   {
    "duration": 4,
    "start_time": "2022-09-06T16:15:25.437Z"
   },
   {
    "duration": 6,
    "start_time": "2022-09-06T16:15:25.442Z"
   },
   {
    "duration": 84,
    "start_time": "2022-09-06T16:15:25.449Z"
   },
   {
    "duration": 5,
    "start_time": "2022-09-06T16:15:25.535Z"
   },
   {
    "duration": 6,
    "start_time": "2022-09-06T16:15:25.542Z"
   },
   {
    "duration": 110,
    "start_time": "2022-09-06T16:15:25.550Z"
   },
   {
    "duration": 73,
    "start_time": "2022-09-06T16:15:46.993Z"
   },
   {
    "duration": 16,
    "start_time": "2022-09-06T16:15:50.429Z"
   },
   {
    "duration": 14,
    "start_time": "2022-09-06T16:16:35.819Z"
   },
   {
    "duration": 7,
    "start_time": "2022-09-06T16:18:12.350Z"
   },
   {
    "duration": 33,
    "start_time": "2022-09-06T16:22:02.116Z"
   },
   {
    "duration": 35,
    "start_time": "2022-09-06T16:22:10.072Z"
   },
   {
    "duration": 22,
    "start_time": "2022-09-06T16:22:27.591Z"
   },
   {
    "duration": 31,
    "start_time": "2022-09-06T16:22:42.516Z"
   },
   {
    "duration": 24,
    "start_time": "2022-09-06T16:22:48.618Z"
   },
   {
    "duration": 33,
    "start_time": "2022-09-06T16:23:04.153Z"
   },
   {
    "duration": 34,
    "start_time": "2022-09-06T16:23:10.452Z"
   },
   {
    "duration": 26,
    "start_time": "2022-09-06T16:23:17.889Z"
   },
   {
    "duration": 66,
    "start_time": "2022-09-06T16:24:53.330Z"
   },
   {
    "duration": 5,
    "start_time": "2022-09-06T16:25:28.394Z"
   },
   {
    "duration": 3,
    "start_time": "2022-09-06T16:25:30.762Z"
   },
   {
    "duration": 86,
    "start_time": "2022-09-06T16:25:33.050Z"
   },
   {
    "duration": 3,
    "start_time": "2022-09-06T16:26:20.263Z"
   },
   {
    "duration": 38,
    "start_time": "2022-09-06T16:26:22.336Z"
   },
   {
    "duration": 197,
    "start_time": "2022-09-06T16:26:27.195Z"
   },
   {
    "duration": 179,
    "start_time": "2022-09-06T16:26:45.277Z"
   },
   {
    "duration": 11,
    "start_time": "2022-09-06T16:40:57.073Z"
   },
   {
    "duration": 3,
    "start_time": "2022-09-06T16:41:05.943Z"
   },
   {
    "duration": 344,
    "start_time": "2022-09-06T16:41:05.948Z"
   },
   {
    "duration": 18,
    "start_time": "2022-09-06T16:41:06.294Z"
   },
   {
    "duration": 22,
    "start_time": "2022-09-06T16:41:06.314Z"
   },
   {
    "duration": 6,
    "start_time": "2022-09-06T16:41:06.338Z"
   },
   {
    "duration": 5,
    "start_time": "2022-09-06T16:41:06.345Z"
   },
   {
    "duration": 13,
    "start_time": "2022-09-06T16:41:06.351Z"
   },
   {
    "duration": 10,
    "start_time": "2022-09-06T16:41:06.365Z"
   },
   {
    "duration": 6,
    "start_time": "2022-09-06T16:41:06.377Z"
   },
   {
    "duration": 34,
    "start_time": "2022-09-06T16:41:06.385Z"
   },
   {
    "duration": 22,
    "start_time": "2022-09-06T16:41:06.422Z"
   },
   {
    "duration": 9,
    "start_time": "2022-09-06T16:41:06.446Z"
   },
   {
    "duration": 49,
    "start_time": "2022-09-06T16:41:06.457Z"
   },
   {
    "duration": 10,
    "start_time": "2022-09-06T16:41:06.508Z"
   },
   {
    "duration": 24,
    "start_time": "2022-09-06T16:41:06.519Z"
   },
   {
    "duration": 5,
    "start_time": "2022-09-06T16:41:06.545Z"
   },
   {
    "duration": 28,
    "start_time": "2022-09-06T16:41:06.552Z"
   },
   {
    "duration": 33,
    "start_time": "2022-09-06T16:41:06.582Z"
   },
   {
    "duration": 8,
    "start_time": "2022-09-06T16:41:06.617Z"
   },
   {
    "duration": 21,
    "start_time": "2022-09-06T16:41:06.627Z"
   },
   {
    "duration": 7,
    "start_time": "2022-09-06T16:41:06.649Z"
   },
   {
    "duration": 5,
    "start_time": "2022-09-06T16:41:06.658Z"
   },
   {
    "duration": 41,
    "start_time": "2022-09-06T16:41:06.665Z"
   },
   {
    "duration": 11,
    "start_time": "2022-09-06T16:41:06.708Z"
   },
   {
    "duration": 10,
    "start_time": "2022-09-06T16:41:06.720Z"
   },
   {
    "duration": 13,
    "start_time": "2022-09-06T16:41:06.732Z"
   },
   {
    "duration": 16,
    "start_time": "2022-09-06T16:41:06.747Z"
   },
   {
    "duration": 7,
    "start_time": "2022-09-06T16:41:06.765Z"
   },
   {
    "duration": 31,
    "start_time": "2022-09-06T16:41:06.807Z"
   },
   {
    "duration": 19,
    "start_time": "2022-09-06T16:41:06.840Z"
   },
   {
    "duration": 7,
    "start_time": "2022-09-06T16:41:06.860Z"
   },
   {
    "duration": 11,
    "start_time": "2022-09-06T16:41:06.869Z"
   },
   {
    "duration": 24,
    "start_time": "2022-09-06T16:41:06.906Z"
   },
   {
    "duration": 17,
    "start_time": "2022-09-06T16:41:06.932Z"
   },
   {
    "duration": 15,
    "start_time": "2022-09-06T16:41:06.951Z"
   },
   {
    "duration": 40,
    "start_time": "2022-09-06T16:41:06.967Z"
   },
   {
    "duration": 34,
    "start_time": "2022-09-06T16:41:07.009Z"
   },
   {
    "duration": 29,
    "start_time": "2022-09-06T16:41:07.046Z"
   },
   {
    "duration": 49,
    "start_time": "2022-09-06T16:41:07.077Z"
   },
   {
    "duration": 4,
    "start_time": "2022-09-06T16:41:07.127Z"
   },
   {
    "duration": 6,
    "start_time": "2022-09-06T16:41:07.132Z"
   },
   {
    "duration": 76,
    "start_time": "2022-09-06T16:41:07.140Z"
   },
   {
    "duration": 4,
    "start_time": "2022-09-06T16:41:07.217Z"
   },
   {
    "duration": 8,
    "start_time": "2022-09-06T16:41:07.223Z"
   },
   {
    "duration": 103,
    "start_time": "2022-09-06T16:41:07.233Z"
   },
   {
    "duration": 218,
    "start_time": "2022-09-06T16:41:07.338Z"
   },
   {
    "duration": 6,
    "start_time": "2022-09-06T16:41:07.557Z"
   },
   {
    "duration": 15,
    "start_time": "2022-09-06T16:41:07.564Z"
   },
   {
    "duration": 13,
    "start_time": "2022-09-06T16:41:07.580Z"
   },
   {
    "duration": 12,
    "start_time": "2022-09-06T16:41:07.595Z"
   },
   {
    "duration": 50,
    "start_time": "2022-09-06T16:41:07.609Z"
   },
   {
    "duration": 275,
    "start_time": "2022-09-06T16:41:07.661Z"
   },
   {
    "duration": 309,
    "start_time": "2022-09-06T16:41:07.937Z"
   },
   {
    "duration": 8,
    "start_time": "2022-09-06T16:41:08.248Z"
   },
   {
    "duration": 332,
    "start_time": "2022-09-06T16:41:08.258Z"
   },
   {
    "duration": 275,
    "start_time": "2022-09-06T16:41:08.592Z"
   },
   {
    "duration": 271,
    "start_time": "2022-09-06T16:41:08.869Z"
   },
   {
    "duration": 217,
    "start_time": "2022-09-06T16:41:09.142Z"
   },
   {
    "duration": 3,
    "start_time": "2022-09-06T16:41:09.361Z"
   },
   {
    "duration": 56,
    "start_time": "2022-09-06T16:41:09.366Z"
   },
   {
    "duration": 218,
    "start_time": "2022-09-06T16:41:09.424Z"
   },
   {
    "duration": 233,
    "start_time": "2022-09-06T16:41:09.643Z"
   },
   {
    "duration": 5,
    "start_time": "2022-09-06T16:41:09.877Z"
   },
   {
    "duration": 406,
    "start_time": "2022-09-06T16:41:09.884Z"
   },
   {
    "duration": 261,
    "start_time": "2022-09-06T16:41:10.292Z"
   },
   {
    "duration": 239,
    "start_time": "2022-09-06T16:41:10.555Z"
   },
   {
    "duration": 201,
    "start_time": "2022-09-06T16:41:10.796Z"
   },
   {
    "duration": 209,
    "start_time": "2022-09-06T16:41:10.998Z"
   },
   {
    "duration": 450,
    "start_time": "2022-09-06T16:41:11.211Z"
   },
   {
    "duration": 4,
    "start_time": "2022-09-06T16:41:11.663Z"
   },
   {
    "duration": 450,
    "start_time": "2022-09-06T16:41:11.669Z"
   },
   {
    "duration": 245,
    "start_time": "2022-09-06T16:41:12.120Z"
   },
   {
    "duration": 8,
    "start_time": "2022-09-06T16:47:49.494Z"
   },
   {
    "duration": 3,
    "start_time": "2022-09-06T16:48:01.229Z"
   },
   {
    "duration": 324,
    "start_time": "2022-09-06T16:48:01.237Z"
   },
   {
    "duration": 11,
    "start_time": "2022-09-06T16:48:01.563Z"
   },
   {
    "duration": 59,
    "start_time": "2022-09-06T16:48:01.576Z"
   },
   {
    "duration": 15,
    "start_time": "2022-09-06T16:48:01.637Z"
   },
   {
    "duration": 17,
    "start_time": "2022-09-06T16:48:01.654Z"
   },
   {
    "duration": 26,
    "start_time": "2022-09-06T16:48:01.673Z"
   },
   {
    "duration": 60,
    "start_time": "2022-09-06T16:48:01.701Z"
   },
   {
    "duration": 53,
    "start_time": "2022-09-06T16:48:01.763Z"
   },
   {
    "duration": 39,
    "start_time": "2022-09-06T16:48:01.820Z"
   },
   {
    "duration": 83,
    "start_time": "2022-09-06T16:48:01.862Z"
   },
   {
    "duration": 7,
    "start_time": "2022-09-06T16:48:01.947Z"
   },
   {
    "duration": 31,
    "start_time": "2022-09-06T16:48:01.955Z"
   },
   {
    "duration": 42,
    "start_time": "2022-09-06T16:48:01.988Z"
   },
   {
    "duration": 34,
    "start_time": "2022-09-06T16:48:02.031Z"
   },
   {
    "duration": 21,
    "start_time": "2022-09-06T16:48:02.066Z"
   },
   {
    "duration": 30,
    "start_time": "2022-09-06T16:48:02.089Z"
   },
   {
    "duration": 53,
    "start_time": "2022-09-06T16:48:02.120Z"
   },
   {
    "duration": 22,
    "start_time": "2022-09-06T16:48:02.175Z"
   },
   {
    "duration": 34,
    "start_time": "2022-09-06T16:48:02.198Z"
   },
   {
    "duration": 7,
    "start_time": "2022-09-06T16:48:02.234Z"
   },
   {
    "duration": 4,
    "start_time": "2022-09-06T16:48:02.243Z"
   },
   {
    "duration": 15,
    "start_time": "2022-09-06T16:48:02.249Z"
   },
   {
    "duration": 13,
    "start_time": "2022-09-06T16:48:02.266Z"
   },
   {
    "duration": 9,
    "start_time": "2022-09-06T16:48:02.281Z"
   },
   {
    "duration": 30,
    "start_time": "2022-09-06T16:48:02.291Z"
   },
   {
    "duration": 16,
    "start_time": "2022-09-06T16:48:02.322Z"
   },
   {
    "duration": 8,
    "start_time": "2022-09-06T16:48:02.340Z"
   },
   {
    "duration": 32,
    "start_time": "2022-09-06T16:48:02.353Z"
   },
   {
    "duration": 35,
    "start_time": "2022-09-06T16:48:02.386Z"
   },
   {
    "duration": 8,
    "start_time": "2022-09-06T16:48:02.423Z"
   },
   {
    "duration": 13,
    "start_time": "2022-09-06T16:48:02.432Z"
   },
   {
    "duration": 34,
    "start_time": "2022-09-06T16:48:02.447Z"
   },
   {
    "duration": 37,
    "start_time": "2022-09-06T16:48:02.483Z"
   },
   {
    "duration": 15,
    "start_time": "2022-09-06T16:48:02.522Z"
   },
   {
    "duration": 20,
    "start_time": "2022-09-06T16:48:02.539Z"
   },
   {
    "duration": 58,
    "start_time": "2022-09-06T16:48:02.560Z"
   },
   {
    "duration": 31,
    "start_time": "2022-09-06T16:48:02.619Z"
   },
   {
    "duration": 22,
    "start_time": "2022-09-06T16:48:02.652Z"
   },
   {
    "duration": 4,
    "start_time": "2022-09-06T16:48:02.675Z"
   },
   {
    "duration": 15,
    "start_time": "2022-09-06T16:48:02.681Z"
   },
   {
    "duration": 84,
    "start_time": "2022-09-06T16:48:02.697Z"
   },
   {
    "duration": 5,
    "start_time": "2022-09-06T16:48:02.782Z"
   },
   {
    "duration": 13,
    "start_time": "2022-09-06T16:48:02.788Z"
   },
   {
    "duration": 116,
    "start_time": "2022-09-06T16:48:02.803Z"
   },
   {
    "duration": 223,
    "start_time": "2022-09-06T16:48:02.921Z"
   },
   {
    "duration": 6,
    "start_time": "2022-09-06T16:48:03.147Z"
   },
   {
    "duration": 19,
    "start_time": "2022-09-06T16:48:03.155Z"
   },
   {
    "duration": 11,
    "start_time": "2022-09-06T16:48:03.176Z"
   },
   {
    "duration": 13,
    "start_time": "2022-09-06T16:48:03.188Z"
   },
   {
    "duration": 58,
    "start_time": "2022-09-06T16:48:03.206Z"
   },
   {
    "duration": 192,
    "start_time": "2022-09-06T16:48:03.265Z"
   },
   {
    "duration": 204,
    "start_time": "2022-09-06T16:48:03.458Z"
   },
   {
    "duration": 5,
    "start_time": "2022-09-06T16:48:03.664Z"
   },
   {
    "duration": 297,
    "start_time": "2022-09-06T16:48:03.670Z"
   },
   {
    "duration": 354,
    "start_time": "2022-09-06T16:48:03.968Z"
   },
   {
    "duration": 260,
    "start_time": "2022-09-06T16:48:04.323Z"
   },
   {
    "duration": 207,
    "start_time": "2022-09-06T16:48:04.585Z"
   },
   {
    "duration": 4,
    "start_time": "2022-09-06T16:48:04.794Z"
   },
   {
    "duration": 49,
    "start_time": "2022-09-06T16:48:04.806Z"
   },
   {
    "duration": 198,
    "start_time": "2022-09-06T16:48:04.857Z"
   },
   {
    "duration": 216,
    "start_time": "2022-09-06T16:48:05.056Z"
   },
   {
    "duration": 5,
    "start_time": "2022-09-06T16:48:05.274Z"
   },
   {
    "duration": 308,
    "start_time": "2022-09-06T16:48:05.280Z"
   },
   {
    "duration": 333,
    "start_time": "2022-09-06T16:48:05.590Z"
   },
   {
    "duration": 325,
    "start_time": "2022-09-06T16:48:05.925Z"
   },
   {
    "duration": 244,
    "start_time": "2022-09-06T16:48:06.252Z"
   },
   {
    "duration": 227,
    "start_time": "2022-09-06T16:48:06.498Z"
   },
   {
    "duration": 436,
    "start_time": "2022-09-06T16:48:06.727Z"
   },
   {
    "duration": 5,
    "start_time": "2022-09-06T16:48:07.165Z"
   },
   {
    "duration": 406,
    "start_time": "2022-09-06T16:48:07.171Z"
   },
   {
    "duration": 378,
    "start_time": "2022-09-06T16:48:07.579Z"
   },
   {
    "duration": 279,
    "start_time": "2022-09-06T16:48:07.959Z"
   },
   {
    "duration": 454,
    "start_time": "2022-09-06T16:48:08.239Z"
   },
   {
    "duration": 470,
    "start_time": "2022-09-06T16:48:08.695Z"
   },
   {
    "duration": 277,
    "start_time": "2022-09-06T16:48:09.167Z"
   },
   {
    "duration": 385,
    "start_time": "2022-09-06T16:48:09.445Z"
   },
   {
    "duration": 8,
    "start_time": "2022-09-06T16:48:09.832Z"
   },
   {
    "duration": 28,
    "start_time": "2022-09-06T16:48:09.841Z"
   },
   {
    "duration": 54,
    "start_time": "2022-09-06T16:48:09.871Z"
   },
   {
    "duration": 14,
    "start_time": "2022-09-06T16:48:09.927Z"
   },
   {
    "duration": 13,
    "start_time": "2022-09-06T16:48:09.943Z"
   },
   {
    "duration": 4,
    "start_time": "2022-09-06T16:48:13.521Z"
   },
   {
    "duration": 1189,
    "start_time": "2022-09-06T21:10:05.617Z"
   },
   {
    "duration": 1311,
    "start_time": "2022-09-06T21:10:06.808Z"
   },
   {
    "duration": 13,
    "start_time": "2022-09-06T21:10:08.121Z"
   },
   {
    "duration": 21,
    "start_time": "2022-09-06T21:10:08.136Z"
   },
   {
    "duration": 6,
    "start_time": "2022-09-06T21:10:08.160Z"
   },
   {
    "duration": 7,
    "start_time": "2022-09-06T21:10:08.168Z"
   },
   {
    "duration": 20,
    "start_time": "2022-09-06T21:10:08.177Z"
   },
   {
    "duration": 19,
    "start_time": "2022-09-06T21:10:08.199Z"
   },
   {
    "duration": 10,
    "start_time": "2022-09-06T21:10:08.220Z"
   },
   {
    "duration": 24,
    "start_time": "2022-09-06T21:10:08.233Z"
   },
   {
    "duration": 18,
    "start_time": "2022-09-06T21:10:08.259Z"
   },
   {
    "duration": 25,
    "start_time": "2022-09-06T21:10:08.279Z"
   },
   {
    "duration": 18,
    "start_time": "2022-09-06T21:10:08.305Z"
   },
   {
    "duration": 6,
    "start_time": "2022-09-06T21:10:08.325Z"
   },
   {
    "duration": 23,
    "start_time": "2022-09-06T21:10:08.332Z"
   },
   {
    "duration": 4,
    "start_time": "2022-09-06T21:10:08.357Z"
   },
   {
    "duration": 19,
    "start_time": "2022-09-06T21:10:08.363Z"
   },
   {
    "duration": 18,
    "start_time": "2022-09-06T21:10:08.407Z"
   },
   {
    "duration": 16,
    "start_time": "2022-09-06T21:10:08.428Z"
   },
   {
    "duration": 18,
    "start_time": "2022-09-06T21:10:08.446Z"
   },
   {
    "duration": 7,
    "start_time": "2022-09-06T21:10:08.465Z"
   },
   {
    "duration": 4,
    "start_time": "2022-09-06T21:10:08.474Z"
   },
   {
    "duration": 31,
    "start_time": "2022-09-06T21:10:08.480Z"
   },
   {
    "duration": 14,
    "start_time": "2022-09-06T21:10:08.513Z"
   },
   {
    "duration": 12,
    "start_time": "2022-09-06T21:10:08.529Z"
   },
   {
    "duration": 15,
    "start_time": "2022-09-06T21:10:08.543Z"
   },
   {
    "duration": 46,
    "start_time": "2022-09-06T21:10:08.560Z"
   },
   {
    "duration": 8,
    "start_time": "2022-09-06T21:10:08.612Z"
   },
   {
    "duration": 40,
    "start_time": "2022-09-06T21:10:08.622Z"
   },
   {
    "duration": 39,
    "start_time": "2022-09-06T21:10:08.665Z"
   },
   {
    "duration": 10,
    "start_time": "2022-09-06T21:10:08.706Z"
   },
   {
    "duration": 16,
    "start_time": "2022-09-06T21:10:08.718Z"
   },
   {
    "duration": 35,
    "start_time": "2022-09-06T21:10:08.736Z"
   },
   {
    "duration": 51,
    "start_time": "2022-09-06T21:10:08.773Z"
   },
   {
    "duration": 28,
    "start_time": "2022-09-06T21:10:08.826Z"
   },
   {
    "duration": 49,
    "start_time": "2022-09-06T21:10:08.857Z"
   },
   {
    "duration": 46,
    "start_time": "2022-09-06T21:10:08.909Z"
   },
   {
    "duration": 58,
    "start_time": "2022-09-06T21:10:08.957Z"
   },
   {
    "duration": 34,
    "start_time": "2022-09-06T21:10:09.017Z"
   },
   {
    "duration": 4,
    "start_time": "2022-09-06T21:10:09.054Z"
   },
   {
    "duration": 5,
    "start_time": "2022-09-06T21:10:09.062Z"
   },
   {
    "duration": 99,
    "start_time": "2022-09-06T21:10:09.069Z"
   },
   {
    "duration": 5,
    "start_time": "2022-09-06T21:10:09.170Z"
   },
   {
    "duration": 4,
    "start_time": "2022-09-06T21:10:09.177Z"
   },
   {
    "duration": 112,
    "start_time": "2022-09-06T21:10:09.182Z"
   },
   {
    "duration": 235,
    "start_time": "2022-09-06T21:10:09.296Z"
   },
   {
    "duration": 6,
    "start_time": "2022-09-06T21:10:09.533Z"
   },
   {
    "duration": 9,
    "start_time": "2022-09-06T21:10:09.541Z"
   },
   {
    "duration": 9,
    "start_time": "2022-09-06T21:10:09.551Z"
   },
   {
    "duration": 5,
    "start_time": "2022-09-06T21:10:09.561Z"
   },
   {
    "duration": 75,
    "start_time": "2022-09-06T21:10:09.568Z"
   },
   {
    "duration": 206,
    "start_time": "2022-09-06T21:10:09.645Z"
   },
   {
    "duration": 220,
    "start_time": "2022-09-06T21:10:09.853Z"
   },
   {
    "duration": 5,
    "start_time": "2022-09-06T21:10:10.074Z"
   },
   {
    "duration": 327,
    "start_time": "2022-09-06T21:10:10.081Z"
   },
   {
    "duration": 358,
    "start_time": "2022-09-06T21:10:10.410Z"
   },
   {
    "duration": 255,
    "start_time": "2022-09-06T21:10:10.770Z"
   },
   {
    "duration": 218,
    "start_time": "2022-09-06T21:10:11.027Z"
   },
   {
    "duration": 4,
    "start_time": "2022-09-06T21:10:11.246Z"
   },
   {
    "duration": 71,
    "start_time": "2022-09-06T21:10:11.252Z"
   },
   {
    "duration": 221,
    "start_time": "2022-09-06T21:10:11.325Z"
   },
   {
    "duration": 221,
    "start_time": "2022-09-06T21:10:11.548Z"
   },
   {
    "duration": 5,
    "start_time": "2022-09-06T21:10:11.771Z"
   },
   {
    "duration": 315,
    "start_time": "2022-09-06T21:10:11.778Z"
   },
   {
    "duration": 264,
    "start_time": "2022-09-06T21:10:12.102Z"
   },
   {
    "duration": 351,
    "start_time": "2022-09-06T21:10:12.368Z"
   },
   {
    "duration": 232,
    "start_time": "2022-09-06T21:10:12.721Z"
   },
   {
    "duration": 224,
    "start_time": "2022-09-06T21:10:12.954Z"
   },
   {
    "duration": 448,
    "start_time": "2022-09-06T21:10:13.180Z"
   },
   {
    "duration": 5,
    "start_time": "2022-09-06T21:10:13.630Z"
   },
   {
    "duration": 374,
    "start_time": "2022-09-06T21:10:13.636Z"
   },
   {
    "duration": 262,
    "start_time": "2022-09-06T21:10:14.012Z"
   },
   {
    "duration": 365,
    "start_time": "2022-09-06T21:10:14.276Z"
   },
   {
    "duration": 444,
    "start_time": "2022-09-06T21:10:14.642Z"
   },
   {
    "duration": 434,
    "start_time": "2022-09-06T21:10:15.088Z"
   },
   {
    "duration": 256,
    "start_time": "2022-09-06T21:10:15.524Z"
   },
   {
    "duration": 345,
    "start_time": "2022-09-06T21:10:15.781Z"
   },
   {
    "duration": 5,
    "start_time": "2022-09-06T21:10:16.128Z"
   },
   {
    "duration": 6,
    "start_time": "2022-09-06T21:10:16.135Z"
   },
   {
    "duration": 10,
    "start_time": "2022-09-06T21:10:16.142Z"
   },
   {
    "duration": 13,
    "start_time": "2022-09-06T21:10:16.154Z"
   },
   {
    "duration": 8,
    "start_time": "2022-09-06T21:10:16.172Z"
   },
   {
    "duration": 9,
    "start_time": "2022-09-06T21:10:16.202Z"
   }
  ],
  "kernelspec": {
   "display_name": "Python 3 (ipykernel)",
   "language": "python",
   "name": "python3"
  },
  "language_info": {
   "codemirror_mode": {
    "name": "ipython",
    "version": 3
   },
   "file_extension": ".py",
   "mimetype": "text/x-python",
   "name": "python",
   "nbconvert_exporter": "python",
   "pygments_lexer": "ipython3",
   "version": "3.9.12"
  },
  "toc": {
   "base_numbering": 1,
   "nav_menu": {},
   "number_sections": true,
   "sideBar": true,
   "skip_h1_title": false,
   "title_cell": "Table of Contents",
   "title_sidebar": "Contents",
   "toc_cell": false,
   "toc_position": {
    "height": "calc(100% - 180px)",
    "left": "10px",
    "top": "150px",
    "width": "252.797px"
   },
   "toc_section_display": true,
   "toc_window_display": true
  }
 },
 "nbformat": 4,
 "nbformat_minor": 4
}
