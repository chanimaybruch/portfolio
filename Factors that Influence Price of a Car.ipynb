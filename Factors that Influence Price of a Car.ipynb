{
 "cells": [
  {
   "cell_type": "markdown",
   "metadata": {},
   "source": [
    "Hello Chana!\n",
    "\n",
    "My name is Karina. Today I'm reviewing your project. \n",
    "\n",
    "Firstly, I'll only mark mistakes, if you have them. I'll give you oppotunity to fix it yourself. Of course, I'll add details if where are any difficulties.\n",
    "\n",
    "Good luck!\n",
    "\n",
    "Please respond to my comments and mark changes using color codes. \n",
    "Below you will find my comments - please do not change them.\n",
    "You can find my comments in green, yellow or red boxes like this:\n",
    "\n",
    "<div class=\"alert alert-block alert-success\">\n",
    "<b>Reviewer's comment</b> <a class=\"tocSkip\"></a>\n",
    "\n",
    "Success. Everything is done succesfully.\n",
    "</div>\n",
    "\n",
    "<div class=\"alert alert-block alert-warning\">\n",
    "<b>Reviewer's comment</b> <a class=\"tocSkip\"></a>\n",
    "\n",
    "Remarks. Some recommendations.\n",
    "</div>\n",
    "\n",
    "<div class=\"alert alert-block alert-danger\">\n",
    "\n",
    "<b>Reviewer's comment</b> <a class=\"tocSkip\"></a>\n",
    "\n",
    "Needs fixing. The block requires some corrections. Work can't be accepted with the red comments.\n",
    "</div>\n",
    "\n",
    "You can answer me by using this:\n",
    "\n",
    "<div class=\"alert alert-block alert-info\">\n",
    "<b>Student answer.</b> <a class=\"tocSkip\"></a>\n",
    "\n",
    "Text here)\n",
    "\n",
    "</div>"
   ]
  },
  {
   "cell_type": "markdown",
   "metadata": {},
   "source": [
    "# What sells a car?\n",
    "\n",
    "Here at Crankshaft List, hundreds of free advertisements for vehicles are published on our site every day. We need to study data collected from these advertisements over the last few years and determine which factors influence the price of a vehicle.\n",
    "\n",
    "We will preprocess the data to address any issues with missing values, duplicates, data type, and perform exploratory data analysis to selectively slice the data.\n",
    "\n",
    "This will allow us to analyze what factors impact the price of a car most. We will identify the most popular types of vehicles listed in the advertisements and study whether the price depends on age, mileage, condition, transmission type, and color. \n"
   ]
  },
  {
   "cell_type": "markdown",
   "metadata": {},
   "source": [
    "<div class=\"alert alert-block alert-success\">\n",
    "<b>Reviewer's comment</b> <a class=\"tocSkip\"></a>\n",
    "\n",
    "Nice introduction)"
   ]
  },
  {
   "cell_type": "markdown",
   "metadata": {},
   "source": [
    "## Initialization"
   ]
  },
  {
   "cell_type": "code",
   "execution_count": 598,
   "metadata": {},
   "outputs": [],
   "source": [
    "# Loading all the libraries\n",
    "\n",
    "import pandas as pd\n",
    "import numpy as np\n",
    "import matplotlib.pyplot as plt"
   ]
  },
  {
   "cell_type": "markdown",
   "metadata": {},
   "source": [
    "### Load data"
   ]
  },
  {
   "cell_type": "code",
   "execution_count": 599,
   "metadata": {},
   "outputs": [],
   "source": [
    "# Loading the data file into a DataFrame\n",
    "\n",
    "try:\n",
    "    data = pd.read_csv('/vehicles_us.csv.')\n",
    "except:\n",
    "    data = pd.read_csv('/datasets/vehicles_us.csv')"
   ]
  },
  {
   "cell_type": "markdown",
   "metadata": {},
   "source": [
    "### Explore initial data"
   ]
  },
  {
   "cell_type": "markdown",
   "metadata": {},
   "source": [
    "The dataset contains the following fields:\n",
    "\n",
    "- `price`\n",
    "- `model_year`\n",
    "- `model`\n",
    "- `condition`\n",
    "- `cylinders`\n",
    "- `fuel` — gas, diesel, etc.\n",
    "- `odometer` — the vehicle's mileage when the ad was published\n",
    "- `transmission'\n",
    "- `type'\n",
    "- `paint_color`\n",
    "- `is_4wd` — whether the vehicle has 4-wheel drive (Boolean type)\n",
    "- `date_posted` — the date the ad was published\n",
    "- `days_listed` — from publication to removal"
   ]
  },
  {
   "cell_type": "code",
   "execution_count": 600,
   "metadata": {},
   "outputs": [
    {
     "name": "stdout",
     "output_type": "stream",
     "text": [
      "<class 'pandas.core.frame.DataFrame'>\n",
      "RangeIndex: 51525 entries, 0 to 51524\n",
      "Data columns (total 13 columns):\n",
      " #   Column        Non-Null Count  Dtype  \n",
      "---  ------        --------------  -----  \n",
      " 0   price         51525 non-null  int64  \n",
      " 1   model_year    47906 non-null  float64\n",
      " 2   model         51525 non-null  object \n",
      " 3   condition     51525 non-null  object \n",
      " 4   cylinders     46265 non-null  float64\n",
      " 5   fuel          51525 non-null  object \n",
      " 6   odometer      43633 non-null  float64\n",
      " 7   transmission  51525 non-null  object \n",
      " 8   type          51525 non-null  object \n",
      " 9   paint_color   42258 non-null  object \n",
      " 10  is_4wd        25572 non-null  float64\n",
      " 11  date_posted   51525 non-null  object \n",
      " 12  days_listed   51525 non-null  int64  \n",
      "dtypes: float64(4), int64(2), object(7)\n",
      "memory usage: 5.1+ MB\n"
     ]
    }
   ],
   "source": [
    "# printing the general/summary information about the DataFrame\n",
    "\n",
    "data.info()"
   ]
  },
  {
   "cell_type": "markdown",
   "metadata": {},
   "source": [
    "There are 13 columns and 51525 rows in the dataframe.\n",
    "The data contains 51525 ads with data on 12 variables."
   ]
  },
  {
   "cell_type": "code",
   "execution_count": 601,
   "metadata": {},
   "outputs": [
    {
     "data": {
      "text/html": [
       "<div>\n",
       "<style scoped>\n",
       "    .dataframe tbody tr th:only-of-type {\n",
       "        vertical-align: middle;\n",
       "    }\n",
       "\n",
       "    .dataframe tbody tr th {\n",
       "        vertical-align: top;\n",
       "    }\n",
       "\n",
       "    .dataframe thead th {\n",
       "        text-align: right;\n",
       "    }\n",
       "</style>\n",
       "<table border=\"1\" class=\"dataframe\">\n",
       "  <thead>\n",
       "    <tr style=\"text-align: right;\">\n",
       "      <th></th>\n",
       "      <th>price</th>\n",
       "      <th>model_year</th>\n",
       "      <th>model</th>\n",
       "      <th>condition</th>\n",
       "      <th>cylinders</th>\n",
       "      <th>fuel</th>\n",
       "      <th>odometer</th>\n",
       "      <th>transmission</th>\n",
       "      <th>type</th>\n",
       "      <th>paint_color</th>\n",
       "      <th>is_4wd</th>\n",
       "      <th>date_posted</th>\n",
       "      <th>days_listed</th>\n",
       "    </tr>\n",
       "  </thead>\n",
       "  <tbody>\n",
       "    <tr>\n",
       "      <th>0</th>\n",
       "      <td>9400</td>\n",
       "      <td>2011.0</td>\n",
       "      <td>bmw x5</td>\n",
       "      <td>good</td>\n",
       "      <td>6.0</td>\n",
       "      <td>gas</td>\n",
       "      <td>145000.0</td>\n",
       "      <td>automatic</td>\n",
       "      <td>SUV</td>\n",
       "      <td>NaN</td>\n",
       "      <td>1.0</td>\n",
       "      <td>2018-06-23</td>\n",
       "      <td>19</td>\n",
       "    </tr>\n",
       "    <tr>\n",
       "      <th>1</th>\n",
       "      <td>25500</td>\n",
       "      <td>NaN</td>\n",
       "      <td>ford f-150</td>\n",
       "      <td>good</td>\n",
       "      <td>6.0</td>\n",
       "      <td>gas</td>\n",
       "      <td>88705.0</td>\n",
       "      <td>automatic</td>\n",
       "      <td>pickup</td>\n",
       "      <td>white</td>\n",
       "      <td>1.0</td>\n",
       "      <td>2018-10-19</td>\n",
       "      <td>50</td>\n",
       "    </tr>\n",
       "    <tr>\n",
       "      <th>2</th>\n",
       "      <td>5500</td>\n",
       "      <td>2013.0</td>\n",
       "      <td>hyundai sonata</td>\n",
       "      <td>like new</td>\n",
       "      <td>4.0</td>\n",
       "      <td>gas</td>\n",
       "      <td>110000.0</td>\n",
       "      <td>automatic</td>\n",
       "      <td>sedan</td>\n",
       "      <td>red</td>\n",
       "      <td>NaN</td>\n",
       "      <td>2019-02-07</td>\n",
       "      <td>79</td>\n",
       "    </tr>\n",
       "    <tr>\n",
       "      <th>3</th>\n",
       "      <td>1500</td>\n",
       "      <td>2003.0</td>\n",
       "      <td>ford f-150</td>\n",
       "      <td>fair</td>\n",
       "      <td>8.0</td>\n",
       "      <td>gas</td>\n",
       "      <td>NaN</td>\n",
       "      <td>automatic</td>\n",
       "      <td>pickup</td>\n",
       "      <td>NaN</td>\n",
       "      <td>NaN</td>\n",
       "      <td>2019-03-22</td>\n",
       "      <td>9</td>\n",
       "    </tr>\n",
       "    <tr>\n",
       "      <th>4</th>\n",
       "      <td>14900</td>\n",
       "      <td>2017.0</td>\n",
       "      <td>chrysler 200</td>\n",
       "      <td>excellent</td>\n",
       "      <td>4.0</td>\n",
       "      <td>gas</td>\n",
       "      <td>80903.0</td>\n",
       "      <td>automatic</td>\n",
       "      <td>sedan</td>\n",
       "      <td>black</td>\n",
       "      <td>NaN</td>\n",
       "      <td>2019-04-02</td>\n",
       "      <td>28</td>\n",
       "    </tr>\n",
       "    <tr>\n",
       "      <th>5</th>\n",
       "      <td>14990</td>\n",
       "      <td>2014.0</td>\n",
       "      <td>chrysler 300</td>\n",
       "      <td>excellent</td>\n",
       "      <td>6.0</td>\n",
       "      <td>gas</td>\n",
       "      <td>57954.0</td>\n",
       "      <td>automatic</td>\n",
       "      <td>sedan</td>\n",
       "      <td>black</td>\n",
       "      <td>1.0</td>\n",
       "      <td>2018-06-20</td>\n",
       "      <td>15</td>\n",
       "    </tr>\n",
       "    <tr>\n",
       "      <th>6</th>\n",
       "      <td>12990</td>\n",
       "      <td>2015.0</td>\n",
       "      <td>toyota camry</td>\n",
       "      <td>excellent</td>\n",
       "      <td>4.0</td>\n",
       "      <td>gas</td>\n",
       "      <td>79212.0</td>\n",
       "      <td>automatic</td>\n",
       "      <td>sedan</td>\n",
       "      <td>white</td>\n",
       "      <td>NaN</td>\n",
       "      <td>2018-12-27</td>\n",
       "      <td>73</td>\n",
       "    </tr>\n",
       "    <tr>\n",
       "      <th>7</th>\n",
       "      <td>15990</td>\n",
       "      <td>2013.0</td>\n",
       "      <td>honda pilot</td>\n",
       "      <td>excellent</td>\n",
       "      <td>6.0</td>\n",
       "      <td>gas</td>\n",
       "      <td>109473.0</td>\n",
       "      <td>automatic</td>\n",
       "      <td>SUV</td>\n",
       "      <td>black</td>\n",
       "      <td>1.0</td>\n",
       "      <td>2019-01-07</td>\n",
       "      <td>68</td>\n",
       "    </tr>\n",
       "    <tr>\n",
       "      <th>8</th>\n",
       "      <td>11500</td>\n",
       "      <td>2012.0</td>\n",
       "      <td>kia sorento</td>\n",
       "      <td>excellent</td>\n",
       "      <td>4.0</td>\n",
       "      <td>gas</td>\n",
       "      <td>104174.0</td>\n",
       "      <td>automatic</td>\n",
       "      <td>SUV</td>\n",
       "      <td>NaN</td>\n",
       "      <td>1.0</td>\n",
       "      <td>2018-07-16</td>\n",
       "      <td>19</td>\n",
       "    </tr>\n",
       "    <tr>\n",
       "      <th>9</th>\n",
       "      <td>9200</td>\n",
       "      <td>2008.0</td>\n",
       "      <td>honda pilot</td>\n",
       "      <td>excellent</td>\n",
       "      <td>NaN</td>\n",
       "      <td>gas</td>\n",
       "      <td>147191.0</td>\n",
       "      <td>automatic</td>\n",
       "      <td>SUV</td>\n",
       "      <td>blue</td>\n",
       "      <td>1.0</td>\n",
       "      <td>2019-02-15</td>\n",
       "      <td>17</td>\n",
       "    </tr>\n",
       "  </tbody>\n",
       "</table>\n",
       "</div>"
      ],
      "text/plain": [
       "   price  model_year           model  condition  cylinders fuel  odometer  \\\n",
       "0   9400      2011.0          bmw x5       good        6.0  gas  145000.0   \n",
       "1  25500         NaN      ford f-150       good        6.0  gas   88705.0   \n",
       "2   5500      2013.0  hyundai sonata   like new        4.0  gas  110000.0   \n",
       "3   1500      2003.0      ford f-150       fair        8.0  gas       NaN   \n",
       "4  14900      2017.0    chrysler 200  excellent        4.0  gas   80903.0   \n",
       "5  14990      2014.0    chrysler 300  excellent        6.0  gas   57954.0   \n",
       "6  12990      2015.0    toyota camry  excellent        4.0  gas   79212.0   \n",
       "7  15990      2013.0     honda pilot  excellent        6.0  gas  109473.0   \n",
       "8  11500      2012.0     kia sorento  excellent        4.0  gas  104174.0   \n",
       "9   9200      2008.0     honda pilot  excellent        NaN  gas  147191.0   \n",
       "\n",
       "  transmission    type paint_color  is_4wd date_posted  days_listed  \n",
       "0    automatic     SUV         NaN     1.0  2018-06-23           19  \n",
       "1    automatic  pickup       white     1.0  2018-10-19           50  \n",
       "2    automatic   sedan         red     NaN  2019-02-07           79  \n",
       "3    automatic  pickup         NaN     NaN  2019-03-22            9  \n",
       "4    automatic   sedan       black     NaN  2019-04-02           28  \n",
       "5    automatic   sedan       black     1.0  2018-06-20           15  \n",
       "6    automatic   sedan       white     NaN  2018-12-27           73  \n",
       "7    automatic     SUV       black     1.0  2019-01-07           68  \n",
       "8    automatic     SUV         NaN     1.0  2018-07-16           19  \n",
       "9    automatic     SUV        blue     1.0  2019-02-15           17  "
      ]
     },
     "execution_count": 601,
     "metadata": {},
     "output_type": "execute_result"
    }
   ],
   "source": [
    "# printing a sample of data\n",
    "\n",
    "data.head(10)"
   ]
  },
  {
   "cell_type": "code",
   "execution_count": 602,
   "metadata": {},
   "outputs": [
    {
     "data": {
      "text/plain": [
       "price               0\n",
       "model_year       3619\n",
       "model               0\n",
       "condition           0\n",
       "cylinders        5260\n",
       "fuel                0\n",
       "odometer         7892\n",
       "transmission        0\n",
       "type                0\n",
       "paint_color      9267\n",
       "is_4wd          25953\n",
       "date_posted         0\n",
       "days_listed         0\n",
       "dtype: int64"
      ]
     },
     "execution_count": 602,
     "metadata": {},
     "output_type": "execute_result"
    }
   ],
   "source": [
    "#Checking for missing value counts per column\n",
    "\n",
    "data.isna().sum()"
   ]
  },
  {
   "cell_type": "markdown",
   "metadata": {},
   "source": [
    "An initial review of the data allows us to already identify some issues with the data:\n",
    "There are missing values in several columns and columns with inappropriate data types."
   ]
  },
  {
   "cell_type": "markdown",
   "metadata": {},
   "source": [
    "There are several columns with inappropriate data types. The columns 'model_year', 'cylinders', 'odometer' and 'is_4wd' are float types, yet they should be integers. Also, 'date_posted' is a string, yet it should be a datetime type. Also, the 'condition' column is a string variable which should be converted to an integer based on a categorical scale to enable further analysis. "
   ]
  },
  {
   "cell_type": "markdown",
   "metadata": {},
   "source": [
    "There are missing values in the 'model_year', 'cylinders', 'odometer', paint_color', and 'is_4wd' columns. More than half of the data in 'is_4wd' has missing values."
   ]
  },
  {
   "cell_type": "markdown",
   "metadata": {},
   "source": [
    "### Conclusions and further steps"
   ]
  },
  {
   "cell_type": "markdown",
   "metadata": {},
   "source": [
    "We need to convert several columns to new data types. But first, we need to address the missing values in some of these columns.\n",
    "\n",
    "One column stands out in particular. The majority of the values in 'is_4wd' are missing. This may have been the result of a technical or programming error. Since the data in this column is similar to a Boolean value, where 1.0 is true if there is four-wheel drive and 0.0 is false if there is no four-wheel drive, it is possible that the missing values in that column represent 0.0 values. We will, therefore, replace the NaN values with 0.\n",
    "\n",
    "We will then calculate the percentage of missing values in each of the columns with missing values to help us determine how to fill the missing values. "
   ]
  },
  {
   "cell_type": "markdown",
   "metadata": {},
   "source": [
    "<div class=\"alert alert-block alert-success\">\n",
    "<b>Reviewer's comment</b> <a class=\"tocSkip\"></a>\n",
    "\n",
    "Great notes) Everything is correct here)"
   ]
  },
  {
   "cell_type": "markdown",
   "metadata": {},
   "source": [
    "## Treat missing values (if any)"
   ]
  },
  {
   "cell_type": "code",
   "execution_count": 603,
   "metadata": {},
   "outputs": [],
   "source": [
    "# Replacing the missing values in 'is_4wd' with 0.\n",
    "\n",
    "data['is_4wd']= data['is_4wd'].fillna(0)"
   ]
  },
  {
   "cell_type": "code",
   "execution_count": 604,
   "metadata": {},
   "outputs": [
    {
     "name": "stdout",
     "output_type": "stream",
     "text": [
      "<class 'pandas.core.frame.DataFrame'>\n",
      "RangeIndex: 51525 entries, 0 to 51524\n",
      "Data columns (total 13 columns):\n",
      " #   Column        Non-Null Count  Dtype  \n",
      "---  ------        --------------  -----  \n",
      " 0   price         51525 non-null  int64  \n",
      " 1   model_year    47906 non-null  float64\n",
      " 2   model         51525 non-null  object \n",
      " 3   condition     51525 non-null  object \n",
      " 4   cylinders     46265 non-null  float64\n",
      " 5   fuel          51525 non-null  object \n",
      " 6   odometer      43633 non-null  float64\n",
      " 7   transmission  51525 non-null  object \n",
      " 8   type          51525 non-null  object \n",
      " 9   paint_color   42258 non-null  object \n",
      " 10  is_4wd        51525 non-null  float64\n",
      " 11  date_posted   51525 non-null  object \n",
      " 12  days_listed   51525 non-null  int64  \n",
      "dtypes: float64(4), int64(2), object(7)\n",
      "memory usage: 5.1+ MB\n"
     ]
    }
   ],
   "source": [
    "# Checking that missing values are filled in for 'is_4wd'.\n",
    "\n",
    "data.info()"
   ]
  },
  {
   "cell_type": "markdown",
   "metadata": {},
   "source": [
    "The missing values in 'is_4wd' have been filled in. Now let's calculate the percentage of missing values in the remaining columns."
   ]
  },
  {
   "cell_type": "markdown",
   "metadata": {},
   "source": [
    "<div class=\"alert alert-block alert-success\">\n",
    "<b>Reviewer's comment</b> <a class=\"tocSkip\"></a>\n",
    "\n",
    "Correct replacement)"
   ]
  },
  {
   "cell_type": "code",
   "execution_count": 605,
   "metadata": {},
   "outputs": [
    {
     "data": {
      "text/plain": [
       "price           0.000000\n",
       "model_year      0.070238\n",
       "model           0.000000\n",
       "condition       0.000000\n",
       "cylinders       0.102086\n",
       "fuel            0.000000\n",
       "odometer        0.153168\n",
       "transmission    0.000000\n",
       "type            0.000000\n",
       "paint_color     0.179854\n",
       "is_4wd          0.000000\n",
       "date_posted     0.000000\n",
       "days_listed     0.000000\n",
       "dtype: float64"
      ]
     },
     "execution_count": 605,
     "metadata": {},
     "output_type": "execute_result"
    }
   ],
   "source": [
    "# Checking percentage of missing values in each column\n",
    "\n",
    "data.isnull().sum()/len(data)"
   ]
  },
  {
   "cell_type": "markdown",
   "metadata": {},
   "source": [
    "There are 7% missing values in 'model_year', 10% missing in 'cylinders', 15% in 'odometer', and 18% in 'paint_color'. Let's examine if there is a relationship between the missing values in these columns. We will slice the dataframe to create a slice with only missing values so we can see if the rows where there are missing values in these columns overlap one another. We will also check the distribution in the missing values data sample compared to the distribution of the entire data sample."
   ]
  },
  {
   "cell_type": "code",
   "execution_count": 606,
   "metadata": {},
   "outputs": [
    {
     "name": "stdout",
     "output_type": "stream",
     "text": [
      "       price  model_year                    model  condition  cylinders fuel  \\\n",
      "0       9400      2011.0                   bmw x5       good        6.0  gas   \n",
      "1      25500         NaN               ford f-150       good        6.0  gas   \n",
      "3       1500      2003.0               ford f-150       fair        8.0  gas   \n",
      "8      11500      2012.0              kia sorento  excellent        4.0  gas   \n",
      "9       9200      2008.0              honda pilot  excellent        NaN  gas   \n",
      "...      ...         ...                      ...        ...        ...  ...   \n",
      "51507  29500      2012.0            toyota tundra       good        8.0  gas   \n",
      "51508   4950         NaN  chrysler town & country  excellent        6.0  gas   \n",
      "51516   8999      2011.0      jeep grand cherokee       good        6.0  gas   \n",
      "51519  11750      2015.0             honda accord  excellent        4.0  gas   \n",
      "51524   6300      2014.0            nissan altima       good        4.0  gas   \n",
      "\n",
      "       odometer transmission      type paint_color  is_4wd date_posted  \\\n",
      "0      145000.0    automatic       SUV         NaN     1.0  2018-06-23   \n",
      "1       88705.0    automatic    pickup       white     1.0  2018-10-19   \n",
      "3           NaN    automatic    pickup         NaN     0.0  2019-03-22   \n",
      "8      104174.0    automatic       SUV         NaN     1.0  2018-07-16   \n",
      "9      147191.0    automatic       SUV        blue     1.0  2019-02-15   \n",
      "...         ...          ...       ...         ...     ...         ...   \n",
      "51507       NaN    automatic    pickup        grey     1.0  2018-05-01   \n",
      "51508  150000.0    automatic  mini-van      silver     0.0  2018-06-30   \n",
      "51516       NaN    automatic       SUV       white     1.0  2018-11-01   \n",
      "51519       NaN    automatic     coupe         NaN     0.0  2018-11-24   \n",
      "51524       NaN    automatic     sedan         NaN     0.0  2018-06-05   \n",
      "\n",
      "       days_listed  \n",
      "0               19  \n",
      "1               50  \n",
      "3                9  \n",
      "8               19  \n",
      "9               17  \n",
      "...            ...  \n",
      "51507           31  \n",
      "51508           48  \n",
      "51516           51  \n",
      "51519           89  \n",
      "51524           10  \n",
      "\n",
      "[21609 rows x 13 columns]\n"
     ]
    }
   ],
   "source": [
    "#Slicing the data to create a sample containing all missing values.\n",
    "\n",
    "data_missing = data[data.model_year.isna() | data.cylinders.isna() | data.odometer.isna() | data.paint_color.isna()]\n",
    "print(data_missing)\n"
   ]
  },
  {
   "cell_type": "markdown",
   "metadata": {},
   "source": [
    "There are 21609 rows containing missing values. There is no clear relationship among the columns with missing values. Some rows contain missing values in more than one column, others have missing values in only one column.\n",
    "If we drop the rows with missing values, we will lose around 42% of the data.\n",
    "There are many possible reasons for missing values in the data. Some reasons for the missing values might be: Seller forgot to fill in a field. There might have been a technical or programming error.\n"
   ]
  },
  {
   "cell_type": "markdown",
   "metadata": {},
   "source": [
    "<div class=\"alert alert-block alert-success\">\n",
    "<b>Reviewer's comment</b> <a class=\"tocSkip\"></a>\n",
    "\n",
    "I really like your notes here!"
   ]
  },
  {
   "cell_type": "markdown",
   "metadata": {},
   "source": [
    "We need to fill in the missing values in 'paint_color' since the rows with missing values represent 18% of the data. Let's check the distribution of 'paint_color' to see the range of colors."
   ]
  },
  {
   "cell_type": "code",
   "execution_count": 607,
   "metadata": {},
   "outputs": [
    {
     "name": "stdout",
     "output_type": "stream",
     "text": [
      "white     0.234079\n",
      "black     0.183115\n",
      "silver    0.148760\n",
      "grey      0.119430\n",
      "blue      0.107195\n",
      "red       0.100632\n",
      "green     0.036137\n",
      "brown     0.030060\n",
      "custom    0.026576\n",
      "yellow    0.005915\n",
      "orange    0.005591\n",
      "purple    0.002512\n",
      "Name: paint_color, dtype: float64\n",
      "\n",
      "white     0.237328\n",
      "black     0.182025\n",
      "silver    0.147759\n",
      "grey      0.119196\n",
      "blue      0.105897\n",
      "red       0.104619\n",
      "green     0.033035\n",
      "brown     0.028941\n",
      "custom    0.027285\n",
      "yellow    0.006034\n",
      "orange    0.005466\n",
      "purple    0.002414\n",
      "Name: paint_color, dtype: float64\n"
     ]
    }
   ],
   "source": [
    "# Comparing the percentages of 'paint_color' values in the sample with missing values and the entire data\n",
    "\n",
    "print(data_missing['paint_color'].sort_values().value_counts(normalize=True, ascending=False))\n",
    "print()\n",
    "print(data['paint_color'].sort_values().value_counts(normalize=True, ascending=False))"
   ]
  },
  {
   "cell_type": "markdown",
   "metadata": {},
   "source": [
    "The distribution of paint colors in the missing_data and data samples are similar. The most popular colors in each sample are white, black, silver, and grey. If we fill in the missing values for paint color with one paint color, we will skew the data. \n",
    "\n",
    "The missing values in 'paint_color' cannot be filled in accurately based on the data in the other columns. There is no way of knowing the paint color of a vehicle based on 'model' or 'condition'.\n",
    "\n",
    "Therefore, we will replace the missing value with 'unknown'. "
   ]
  },
  {
   "cell_type": "code",
   "execution_count": 608,
   "metadata": {},
   "outputs": [],
   "source": [
    "# Filling in missing values in 'paint_color' with 'unknown'.\n",
    "\n",
    "data['paint_color']= data['paint_color'].fillna('unknown')"
   ]
  },
  {
   "cell_type": "markdown",
   "metadata": {},
   "source": [
    "<div class=\"alert alert-block alert-success\">\n",
    "<b>Reviewer's comment</b> <a class=\"tocSkip\"></a>\n",
    "\n",
    "Filling by 'unknown' is the best idea here) "
   ]
  },
  {
   "cell_type": "markdown",
   "metadata": {},
   "source": [
    "Now that we have filled in the categorical variable 'paint_color', let's fill in the missing values in 'cylinders', 'model_year' and 'odometer' with the mean or median for each variable taken per group from a relevant category."
   ]
  },
  {
   "cell_type": "markdown",
   "metadata": {},
   "source": [
    "The most relevant category to obtain a median number of cylinders from is the 'model' vehicle. Let's fill in the missing values in cylinder using the median of 'cylinders' for each 'model' vehicle."
   ]
  },
  {
   "cell_type": "code",
   "execution_count": 609,
   "metadata": {},
   "outputs": [
    {
     "data": {
      "text/html": [
       "<div>\n",
       "<style scoped>\n",
       "    .dataframe tbody tr th:only-of-type {\n",
       "        vertical-align: middle;\n",
       "    }\n",
       "\n",
       "    .dataframe tbody tr th {\n",
       "        vertical-align: top;\n",
       "    }\n",
       "\n",
       "    .dataframe thead th {\n",
       "        text-align: right;\n",
       "    }\n",
       "</style>\n",
       "<table border=\"1\" class=\"dataframe\">\n",
       "  <thead>\n",
       "    <tr style=\"text-align: right;\">\n",
       "      <th></th>\n",
       "      <th>price</th>\n",
       "      <th>model_year</th>\n",
       "      <th>model</th>\n",
       "      <th>condition</th>\n",
       "      <th>cylinders</th>\n",
       "      <th>fuel</th>\n",
       "      <th>odometer</th>\n",
       "      <th>transmission</th>\n",
       "      <th>type</th>\n",
       "      <th>paint_color</th>\n",
       "      <th>is_4wd</th>\n",
       "      <th>date_posted</th>\n",
       "      <th>days_listed</th>\n",
       "    </tr>\n",
       "  </thead>\n",
       "  <tbody>\n",
       "    <tr>\n",
       "      <th>0</th>\n",
       "      <td>9400</td>\n",
       "      <td>2011.0</td>\n",
       "      <td>bmw x5</td>\n",
       "      <td>good</td>\n",
       "      <td>6.0</td>\n",
       "      <td>gas</td>\n",
       "      <td>145000.0</td>\n",
       "      <td>automatic</td>\n",
       "      <td>SUV</td>\n",
       "      <td>unknown</td>\n",
       "      <td>1.0</td>\n",
       "      <td>2018-06-23</td>\n",
       "      <td>19</td>\n",
       "    </tr>\n",
       "    <tr>\n",
       "      <th>1</th>\n",
       "      <td>25500</td>\n",
       "      <td>NaN</td>\n",
       "      <td>ford f-150</td>\n",
       "      <td>good</td>\n",
       "      <td>6.0</td>\n",
       "      <td>gas</td>\n",
       "      <td>88705.0</td>\n",
       "      <td>automatic</td>\n",
       "      <td>pickup</td>\n",
       "      <td>white</td>\n",
       "      <td>1.0</td>\n",
       "      <td>2018-10-19</td>\n",
       "      <td>50</td>\n",
       "    </tr>\n",
       "    <tr>\n",
       "      <th>2</th>\n",
       "      <td>5500</td>\n",
       "      <td>2013.0</td>\n",
       "      <td>hyundai sonata</td>\n",
       "      <td>like new</td>\n",
       "      <td>4.0</td>\n",
       "      <td>gas</td>\n",
       "      <td>110000.0</td>\n",
       "      <td>automatic</td>\n",
       "      <td>sedan</td>\n",
       "      <td>red</td>\n",
       "      <td>0.0</td>\n",
       "      <td>2019-02-07</td>\n",
       "      <td>79</td>\n",
       "    </tr>\n",
       "    <tr>\n",
       "      <th>3</th>\n",
       "      <td>1500</td>\n",
       "      <td>2003.0</td>\n",
       "      <td>ford f-150</td>\n",
       "      <td>fair</td>\n",
       "      <td>8.0</td>\n",
       "      <td>gas</td>\n",
       "      <td>NaN</td>\n",
       "      <td>automatic</td>\n",
       "      <td>pickup</td>\n",
       "      <td>unknown</td>\n",
       "      <td>0.0</td>\n",
       "      <td>2019-03-22</td>\n",
       "      <td>9</td>\n",
       "    </tr>\n",
       "    <tr>\n",
       "      <th>4</th>\n",
       "      <td>14900</td>\n",
       "      <td>2017.0</td>\n",
       "      <td>chrysler 200</td>\n",
       "      <td>excellent</td>\n",
       "      <td>4.0</td>\n",
       "      <td>gas</td>\n",
       "      <td>80903.0</td>\n",
       "      <td>automatic</td>\n",
       "      <td>sedan</td>\n",
       "      <td>black</td>\n",
       "      <td>0.0</td>\n",
       "      <td>2019-04-02</td>\n",
       "      <td>28</td>\n",
       "    </tr>\n",
       "    <tr>\n",
       "      <th>5</th>\n",
       "      <td>14990</td>\n",
       "      <td>2014.0</td>\n",
       "      <td>chrysler 300</td>\n",
       "      <td>excellent</td>\n",
       "      <td>6.0</td>\n",
       "      <td>gas</td>\n",
       "      <td>57954.0</td>\n",
       "      <td>automatic</td>\n",
       "      <td>sedan</td>\n",
       "      <td>black</td>\n",
       "      <td>1.0</td>\n",
       "      <td>2018-06-20</td>\n",
       "      <td>15</td>\n",
       "    </tr>\n",
       "    <tr>\n",
       "      <th>6</th>\n",
       "      <td>12990</td>\n",
       "      <td>2015.0</td>\n",
       "      <td>toyota camry</td>\n",
       "      <td>excellent</td>\n",
       "      <td>4.0</td>\n",
       "      <td>gas</td>\n",
       "      <td>79212.0</td>\n",
       "      <td>automatic</td>\n",
       "      <td>sedan</td>\n",
       "      <td>white</td>\n",
       "      <td>0.0</td>\n",
       "      <td>2018-12-27</td>\n",
       "      <td>73</td>\n",
       "    </tr>\n",
       "    <tr>\n",
       "      <th>7</th>\n",
       "      <td>15990</td>\n",
       "      <td>2013.0</td>\n",
       "      <td>honda pilot</td>\n",
       "      <td>excellent</td>\n",
       "      <td>6.0</td>\n",
       "      <td>gas</td>\n",
       "      <td>109473.0</td>\n",
       "      <td>automatic</td>\n",
       "      <td>SUV</td>\n",
       "      <td>black</td>\n",
       "      <td>1.0</td>\n",
       "      <td>2019-01-07</td>\n",
       "      <td>68</td>\n",
       "    </tr>\n",
       "    <tr>\n",
       "      <th>8</th>\n",
       "      <td>11500</td>\n",
       "      <td>2012.0</td>\n",
       "      <td>kia sorento</td>\n",
       "      <td>excellent</td>\n",
       "      <td>4.0</td>\n",
       "      <td>gas</td>\n",
       "      <td>104174.0</td>\n",
       "      <td>automatic</td>\n",
       "      <td>SUV</td>\n",
       "      <td>unknown</td>\n",
       "      <td>1.0</td>\n",
       "      <td>2018-07-16</td>\n",
       "      <td>19</td>\n",
       "    </tr>\n",
       "    <tr>\n",
       "      <th>9</th>\n",
       "      <td>9200</td>\n",
       "      <td>2008.0</td>\n",
       "      <td>honda pilot</td>\n",
       "      <td>excellent</td>\n",
       "      <td>6.0</td>\n",
       "      <td>gas</td>\n",
       "      <td>147191.0</td>\n",
       "      <td>automatic</td>\n",
       "      <td>SUV</td>\n",
       "      <td>blue</td>\n",
       "      <td>1.0</td>\n",
       "      <td>2019-02-15</td>\n",
       "      <td>17</td>\n",
       "    </tr>\n",
       "  </tbody>\n",
       "</table>\n",
       "</div>"
      ],
      "text/plain": [
       "   price  model_year           model  condition  cylinders fuel  odometer  \\\n",
       "0   9400      2011.0          bmw x5       good        6.0  gas  145000.0   \n",
       "1  25500         NaN      ford f-150       good        6.0  gas   88705.0   \n",
       "2   5500      2013.0  hyundai sonata   like new        4.0  gas  110000.0   \n",
       "3   1500      2003.0      ford f-150       fair        8.0  gas       NaN   \n",
       "4  14900      2017.0    chrysler 200  excellent        4.0  gas   80903.0   \n",
       "5  14990      2014.0    chrysler 300  excellent        6.0  gas   57954.0   \n",
       "6  12990      2015.0    toyota camry  excellent        4.0  gas   79212.0   \n",
       "7  15990      2013.0     honda pilot  excellent        6.0  gas  109473.0   \n",
       "8  11500      2012.0     kia sorento  excellent        4.0  gas  104174.0   \n",
       "9   9200      2008.0     honda pilot  excellent        6.0  gas  147191.0   \n",
       "\n",
       "  transmission    type paint_color  is_4wd date_posted  days_listed  \n",
       "0    automatic     SUV     unknown     1.0  2018-06-23           19  \n",
       "1    automatic  pickup       white     1.0  2018-10-19           50  \n",
       "2    automatic   sedan         red     0.0  2019-02-07           79  \n",
       "3    automatic  pickup     unknown     0.0  2019-03-22            9  \n",
       "4    automatic   sedan       black     0.0  2019-04-02           28  \n",
       "5    automatic   sedan       black     1.0  2018-06-20           15  \n",
       "6    automatic   sedan       white     0.0  2018-12-27           73  \n",
       "7    automatic     SUV       black     1.0  2019-01-07           68  \n",
       "8    automatic     SUV     unknown     1.0  2018-07-16           19  \n",
       "9    automatic     SUV        blue     1.0  2019-02-15           17  "
      ]
     },
     "execution_count": 609,
     "metadata": {},
     "output_type": "execute_result"
    }
   ],
   "source": [
    "# Filling in missing values in 'cylinders' with the median per 'model'\n",
    "\n",
    "cols = ['model','cylinders']\n",
    "data['cylinders'] = data[cols].groupby('model').transform(lambda x: x.fillna(x.median()))\n",
    "data.head(10)"
   ]
  },
  {
   "cell_type": "markdown",
   "metadata": {},
   "source": [
    "<div class=\"alert alert-block alert-danger\">\n",
    "<b>Reviewer's comment</b> <a class=\"tocSkip\"></a>\n",
    "\n",
    "Here I recommend you to fill missed values by median, counted for each model. So, it's possible to use groupby() by model column and 'median' as an aggregation function. \n",
    "    \n",
    "As we're talking about vehicles, it'll save the original cylinders count for each vehicle type) \n",
    "    \n",
    "And it'll save the original distribution as well)"
   ]
  },
  {
   "cell_type": "markdown",
   "metadata": {},
   "source": [
    "<div class=\"alert alert-block alert-info\">\n",
    "<b>Student answer.</b> <a class=\"tocSkip\"></a>\n",
    "\n",
    "I fixed this. Thank you! :) \n",
    "\n",
    "</div>"
   ]
  },
  {
   "cell_type": "markdown",
   "metadata": {},
   "source": [
    "<div class=\"alert alert-block alert-success\">\n",
    "<b>Reviewer's comment v.1.</b> <a class=\"tocSkip\"></a>\n",
    "\n",
    "Correct now)"
   ]
  },
  {
   "cell_type": "code",
   "execution_count": 610,
   "metadata": {},
   "outputs": [
    {
     "name": "stdout",
     "output_type": "stream",
     "text": [
      "<class 'pandas.core.frame.DataFrame'>\n",
      "RangeIndex: 51525 entries, 0 to 51524\n",
      "Data columns (total 13 columns):\n",
      " #   Column        Non-Null Count  Dtype  \n",
      "---  ------        --------------  -----  \n",
      " 0   price         51525 non-null  int64  \n",
      " 1   model_year    47906 non-null  float64\n",
      " 2   model         51525 non-null  object \n",
      " 3   condition     51525 non-null  object \n",
      " 4   cylinders     51525 non-null  float64\n",
      " 5   fuel          51525 non-null  object \n",
      " 6   odometer      43633 non-null  float64\n",
      " 7   transmission  51525 non-null  object \n",
      " 8   type          51525 non-null  object \n",
      " 9   paint_color   51525 non-null  object \n",
      " 10  is_4wd        51525 non-null  float64\n",
      " 11  date_posted   51525 non-null  object \n",
      " 12  days_listed   51525 non-null  int64  \n",
      "dtypes: float64(4), int64(2), object(7)\n",
      "memory usage: 5.1+ MB\n"
     ]
    }
   ],
   "source": [
    "# Checking that missing values are filled in for 'cylinders'.\n",
    "\n",
    "data.info()"
   ]
  },
  {
   "cell_type": "markdown",
   "metadata": {},
   "source": [
    "The missing values of 'cylinders' are filled in."
   ]
  },
  {
   "cell_type": "markdown",
   "metadata": {},
   "source": [
    "In order to fill in the missing data in 'odometer' and 'model_year', we will need to use a mean of the existing data."
   ]
  },
  {
   "cell_type": "markdown",
   "metadata": {},
   "source": [
    "We can use the 'condition' column to find means based on condition so that we can fill in the missing values in 'odometer' and 'model_year' with more accurate means.\n",
    "\n",
    "Let's categorize the 'condition' column using a numeric scale to enable further analysis."
   ]
  },
  {
   "cell_type": "code",
   "execution_count": 611,
   "metadata": {},
   "outputs": [
    {
     "data": {
      "text/plain": [
       "excellent    0.480796\n",
       "good         0.390975\n",
       "like new     0.092033\n",
       "fair         0.031189\n",
       "new          0.002775\n",
       "salvage      0.002232\n",
       "Name: condition, dtype: float64"
      ]
     },
     "execution_count": 611,
     "metadata": {},
     "output_type": "execute_result"
    }
   ],
   "source": [
    "#Reviewing the percentages of values in 'condition'\n",
    "\n",
    "data['condition'].sort_values().value_counts(normalize=True, ascending=False)"
   ]
  },
  {
   "cell_type": "markdown",
   "metadata": {},
   "source": [
    "There are six values in 'condition' ranging from new to salvage. We will rank these string values and assign each value to a numerical value, ranging from 0-5, based on the condition, with 0 being worst and 5 being best."
   ]
  },
  {
   "cell_type": "code",
   "execution_count": 612,
   "metadata": {},
   "outputs": [],
   "source": [
    "# Replacing string values with numeric scale in condition\n",
    "\n",
    "data['condition'] = data['condition'].replace(['new', 'like new', 'excellent', 'good', 'fair', 'salvage'],['5', '4', '3', '2', '1', '0'])\n"
   ]
  },
  {
   "cell_type": "markdown",
   "metadata": {},
   "source": [
    "<div class=\"alert alert-block alert-success\">\n",
    "<b>Reviewer's comment</b> <a class=\"tocSkip\"></a>\n",
    "\n",
    "Great usage of replace()"
   ]
  },
  {
   "cell_type": "code",
   "execution_count": 613,
   "metadata": {},
   "outputs": [
    {
     "data": {
      "text/html": [
       "<div>\n",
       "<style scoped>\n",
       "    .dataframe tbody tr th:only-of-type {\n",
       "        vertical-align: middle;\n",
       "    }\n",
       "\n",
       "    .dataframe tbody tr th {\n",
       "        vertical-align: top;\n",
       "    }\n",
       "\n",
       "    .dataframe thead th {\n",
       "        text-align: right;\n",
       "    }\n",
       "</style>\n",
       "<table border=\"1\" class=\"dataframe\">\n",
       "  <thead>\n",
       "    <tr style=\"text-align: right;\">\n",
       "      <th></th>\n",
       "      <th>price</th>\n",
       "      <th>model_year</th>\n",
       "      <th>model</th>\n",
       "      <th>condition</th>\n",
       "      <th>cylinders</th>\n",
       "      <th>fuel</th>\n",
       "      <th>odometer</th>\n",
       "      <th>transmission</th>\n",
       "      <th>type</th>\n",
       "      <th>paint_color</th>\n",
       "      <th>is_4wd</th>\n",
       "      <th>date_posted</th>\n",
       "      <th>days_listed</th>\n",
       "    </tr>\n",
       "  </thead>\n",
       "  <tbody>\n",
       "    <tr>\n",
       "      <th>0</th>\n",
       "      <td>9400</td>\n",
       "      <td>2011.0</td>\n",
       "      <td>bmw x5</td>\n",
       "      <td>2</td>\n",
       "      <td>6.0</td>\n",
       "      <td>gas</td>\n",
       "      <td>145000.0</td>\n",
       "      <td>automatic</td>\n",
       "      <td>SUV</td>\n",
       "      <td>unknown</td>\n",
       "      <td>1.0</td>\n",
       "      <td>2018-06-23</td>\n",
       "      <td>19</td>\n",
       "    </tr>\n",
       "    <tr>\n",
       "      <th>1</th>\n",
       "      <td>25500</td>\n",
       "      <td>NaN</td>\n",
       "      <td>ford f-150</td>\n",
       "      <td>2</td>\n",
       "      <td>6.0</td>\n",
       "      <td>gas</td>\n",
       "      <td>88705.0</td>\n",
       "      <td>automatic</td>\n",
       "      <td>pickup</td>\n",
       "      <td>white</td>\n",
       "      <td>1.0</td>\n",
       "      <td>2018-10-19</td>\n",
       "      <td>50</td>\n",
       "    </tr>\n",
       "    <tr>\n",
       "      <th>2</th>\n",
       "      <td>5500</td>\n",
       "      <td>2013.0</td>\n",
       "      <td>hyundai sonata</td>\n",
       "      <td>4</td>\n",
       "      <td>4.0</td>\n",
       "      <td>gas</td>\n",
       "      <td>110000.0</td>\n",
       "      <td>automatic</td>\n",
       "      <td>sedan</td>\n",
       "      <td>red</td>\n",
       "      <td>0.0</td>\n",
       "      <td>2019-02-07</td>\n",
       "      <td>79</td>\n",
       "    </tr>\n",
       "    <tr>\n",
       "      <th>3</th>\n",
       "      <td>1500</td>\n",
       "      <td>2003.0</td>\n",
       "      <td>ford f-150</td>\n",
       "      <td>1</td>\n",
       "      <td>8.0</td>\n",
       "      <td>gas</td>\n",
       "      <td>NaN</td>\n",
       "      <td>automatic</td>\n",
       "      <td>pickup</td>\n",
       "      <td>unknown</td>\n",
       "      <td>0.0</td>\n",
       "      <td>2019-03-22</td>\n",
       "      <td>9</td>\n",
       "    </tr>\n",
       "    <tr>\n",
       "      <th>4</th>\n",
       "      <td>14900</td>\n",
       "      <td>2017.0</td>\n",
       "      <td>chrysler 200</td>\n",
       "      <td>3</td>\n",
       "      <td>4.0</td>\n",
       "      <td>gas</td>\n",
       "      <td>80903.0</td>\n",
       "      <td>automatic</td>\n",
       "      <td>sedan</td>\n",
       "      <td>black</td>\n",
       "      <td>0.0</td>\n",
       "      <td>2019-04-02</td>\n",
       "      <td>28</td>\n",
       "    </tr>\n",
       "  </tbody>\n",
       "</table>\n",
       "</div>"
      ],
      "text/plain": [
       "   price  model_year           model condition  cylinders fuel  odometer  \\\n",
       "0   9400      2011.0          bmw x5         2        6.0  gas  145000.0   \n",
       "1  25500         NaN      ford f-150         2        6.0  gas   88705.0   \n",
       "2   5500      2013.0  hyundai sonata         4        4.0  gas  110000.0   \n",
       "3   1500      2003.0      ford f-150         1        8.0  gas       NaN   \n",
       "4  14900      2017.0    chrysler 200         3        4.0  gas   80903.0   \n",
       "\n",
       "  transmission    type paint_color  is_4wd date_posted  days_listed  \n",
       "0    automatic     SUV     unknown     1.0  2018-06-23           19  \n",
       "1    automatic  pickup       white     1.0  2018-10-19           50  \n",
       "2    automatic   sedan         red     0.0  2019-02-07           79  \n",
       "3    automatic  pickup     unknown     0.0  2019-03-22            9  \n",
       "4    automatic   sedan       black     0.0  2019-04-02           28  "
      ]
     },
     "execution_count": 613,
     "metadata": {},
     "output_type": "execute_result"
    }
   ],
   "source": [
    "#Checking to make sure condition column string values have been replaced by numeric scale\n",
    "\n",
    "data.head()"
   ]
  },
  {
   "cell_type": "markdown",
   "metadata": {},
   "source": [
    "Now that we replaced the categorical values with a numeric scale in 'condition', we can use it to fill in them missing values for 'model_year' based on the means or medians per condition rank of the vehicle. \n",
    "Let's check the medians for 'model_year' based on condition rank to see if these can be used to fill in the missing values in 'model_year'."
   ]
  },
  {
   "cell_type": "code",
   "execution_count": 614,
   "metadata": {},
   "outputs": [
    {
     "data": {
      "text/plain": [
       "condition\n",
       "0    2005.0\n",
       "1    2003.0\n",
       "2    2009.0\n",
       "3    2012.0\n",
       "4    2014.0\n",
       "5    2018.0\n",
       "Name: model_year, dtype: float64"
      ]
     },
     "execution_count": 614,
     "metadata": {},
     "output_type": "execute_result"
    }
   ],
   "source": [
    "# Checking medians for 'model_year' based on 'condition'\n",
    "\n",
    "data['model_year']. groupby(data['condition']).median()"
   ]
  },
  {
   "cell_type": "markdown",
   "metadata": {},
   "source": [
    "There is a surprising mean for condition rank 1. The value of 1 is fair and the value of 0 is salvage. We might have expected that the median model year for a car ranked as salvage would be older than for a car ranked as fair, since a conditon rank of 0 is worse than 1.\n",
    "\n",
    "Yet, it makes sense that the median model year for a car ranked as salvage could be more recent than a car marked as fair since a car that is considered a salvage does not indicate it is an old car. It may have been driven very little but have been in a car accident so it is considered salvage, which means a \"total loss\" for an auto insurance company.\n",
    "\n",
    "Other than condition 0, the median model years for conditions 2-5 are in order of increasing model years so that the better the condition of the car, the younger the car. This is what we would expect so we will fill in the missing values in model year using the medians of model year grouped by condition rank."
   ]
  },
  {
   "cell_type": "markdown",
   "metadata": {},
   "source": [
    "<div class=\"alert alert-block alert-success\">\n",
    "<b>Reviewer's comment</b> <a class=\"tocSkip\"></a>\n",
    "\n",
    "I agree with your notes)"
   ]
  },
  {
   "cell_type": "code",
   "execution_count": 615,
   "metadata": {},
   "outputs": [
    {
     "data": {
      "text/html": [
       "<div>\n",
       "<style scoped>\n",
       "    .dataframe tbody tr th:only-of-type {\n",
       "        vertical-align: middle;\n",
       "    }\n",
       "\n",
       "    .dataframe tbody tr th {\n",
       "        vertical-align: top;\n",
       "    }\n",
       "\n",
       "    .dataframe thead th {\n",
       "        text-align: right;\n",
       "    }\n",
       "</style>\n",
       "<table border=\"1\" class=\"dataframe\">\n",
       "  <thead>\n",
       "    <tr style=\"text-align: right;\">\n",
       "      <th></th>\n",
       "      <th>price</th>\n",
       "      <th>model_year</th>\n",
       "      <th>model</th>\n",
       "      <th>condition</th>\n",
       "      <th>cylinders</th>\n",
       "      <th>fuel</th>\n",
       "      <th>odometer</th>\n",
       "      <th>transmission</th>\n",
       "      <th>type</th>\n",
       "      <th>paint_color</th>\n",
       "      <th>is_4wd</th>\n",
       "      <th>date_posted</th>\n",
       "      <th>days_listed</th>\n",
       "      <th>model_year_new</th>\n",
       "    </tr>\n",
       "  </thead>\n",
       "  <tbody>\n",
       "    <tr>\n",
       "      <th>0</th>\n",
       "      <td>9400</td>\n",
       "      <td>2011.0</td>\n",
       "      <td>bmw x5</td>\n",
       "      <td>2</td>\n",
       "      <td>6.0</td>\n",
       "      <td>gas</td>\n",
       "      <td>145000.0</td>\n",
       "      <td>automatic</td>\n",
       "      <td>SUV</td>\n",
       "      <td>unknown</td>\n",
       "      <td>1.0</td>\n",
       "      <td>2018-06-23</td>\n",
       "      <td>19</td>\n",
       "      <td>2011.0</td>\n",
       "    </tr>\n",
       "    <tr>\n",
       "      <th>1</th>\n",
       "      <td>25500</td>\n",
       "      <td>NaN</td>\n",
       "      <td>ford f-150</td>\n",
       "      <td>2</td>\n",
       "      <td>6.0</td>\n",
       "      <td>gas</td>\n",
       "      <td>88705.0</td>\n",
       "      <td>automatic</td>\n",
       "      <td>pickup</td>\n",
       "      <td>white</td>\n",
       "      <td>1.0</td>\n",
       "      <td>2018-10-19</td>\n",
       "      <td>50</td>\n",
       "      <td>2009.0</td>\n",
       "    </tr>\n",
       "    <tr>\n",
       "      <th>2</th>\n",
       "      <td>5500</td>\n",
       "      <td>2013.0</td>\n",
       "      <td>hyundai sonata</td>\n",
       "      <td>4</td>\n",
       "      <td>4.0</td>\n",
       "      <td>gas</td>\n",
       "      <td>110000.0</td>\n",
       "      <td>automatic</td>\n",
       "      <td>sedan</td>\n",
       "      <td>red</td>\n",
       "      <td>0.0</td>\n",
       "      <td>2019-02-07</td>\n",
       "      <td>79</td>\n",
       "      <td>2013.0</td>\n",
       "    </tr>\n",
       "    <tr>\n",
       "      <th>3</th>\n",
       "      <td>1500</td>\n",
       "      <td>2003.0</td>\n",
       "      <td>ford f-150</td>\n",
       "      <td>1</td>\n",
       "      <td>8.0</td>\n",
       "      <td>gas</td>\n",
       "      <td>NaN</td>\n",
       "      <td>automatic</td>\n",
       "      <td>pickup</td>\n",
       "      <td>unknown</td>\n",
       "      <td>0.0</td>\n",
       "      <td>2019-03-22</td>\n",
       "      <td>9</td>\n",
       "      <td>2003.0</td>\n",
       "    </tr>\n",
       "    <tr>\n",
       "      <th>4</th>\n",
       "      <td>14900</td>\n",
       "      <td>2017.0</td>\n",
       "      <td>chrysler 200</td>\n",
       "      <td>3</td>\n",
       "      <td>4.0</td>\n",
       "      <td>gas</td>\n",
       "      <td>80903.0</td>\n",
       "      <td>automatic</td>\n",
       "      <td>sedan</td>\n",
       "      <td>black</td>\n",
       "      <td>0.0</td>\n",
       "      <td>2019-04-02</td>\n",
       "      <td>28</td>\n",
       "      <td>2017.0</td>\n",
       "    </tr>\n",
       "  </tbody>\n",
       "</table>\n",
       "</div>"
      ],
      "text/plain": [
       "   price  model_year           model condition  cylinders fuel  odometer  \\\n",
       "0   9400      2011.0          bmw x5         2        6.0  gas  145000.0   \n",
       "1  25500         NaN      ford f-150         2        6.0  gas   88705.0   \n",
       "2   5500      2013.0  hyundai sonata         4        4.0  gas  110000.0   \n",
       "3   1500      2003.0      ford f-150         1        8.0  gas       NaN   \n",
       "4  14900      2017.0    chrysler 200         3        4.0  gas   80903.0   \n",
       "\n",
       "  transmission    type paint_color  is_4wd date_posted  days_listed  \\\n",
       "0    automatic     SUV     unknown     1.0  2018-06-23           19   \n",
       "1    automatic  pickup       white     1.0  2018-10-19           50   \n",
       "2    automatic   sedan         red     0.0  2019-02-07           79   \n",
       "3    automatic  pickup     unknown     0.0  2019-03-22            9   \n",
       "4    automatic   sedan       black     0.0  2019-04-02           28   \n",
       "\n",
       "   model_year_new  \n",
       "0          2011.0  \n",
       "1          2009.0  \n",
       "2          2013.0  \n",
       "3          2003.0  \n",
       "4          2017.0  "
      ]
     },
     "execution_count": 615,
     "metadata": {},
     "output_type": "execute_result"
    }
   ],
   "source": [
    "# Using median of 'model_year' grouped by 'condition' to replace missing values in 'model_year'\n",
    "\n",
    "cols = ['condition','model_year']\n",
    "data['model_year_new'] = data[cols].groupby('condition').transform(lambda x: x.fillna(x.median()))\n",
    "data.head()"
   ]
  },
  {
   "cell_type": "markdown",
   "metadata": {},
   "source": [
    "<div class=\"alert alert-block alert-warning\">\n",
    "<b>Reviewer's comment</b> <a class=\"tocSkip\"></a>\n",
    "\n",
    "It's also possible to replace years by median of 'model'"
   ]
  },
  {
   "cell_type": "markdown",
   "metadata": {},
   "source": [
    "<div class=\"alert alert-block alert-info\">\n",
    "<b>Student answer.</b> <a class=\"tocSkip\"></a>\n",
    "\n",
    "Thanks for the tip! I thought that model_year would be more closely related to 'condition'.\n",
    "\n",
    "</div>"
   ]
  },
  {
   "cell_type": "markdown",
   "metadata": {},
   "source": [
    "Let's replace model_year with the model_year_new values."
   ]
  },
  {
   "cell_type": "code",
   "execution_count": 616,
   "metadata": {},
   "outputs": [
    {
     "data": {
      "text/html": [
       "<div>\n",
       "<style scoped>\n",
       "    .dataframe tbody tr th:only-of-type {\n",
       "        vertical-align: middle;\n",
       "    }\n",
       "\n",
       "    .dataframe tbody tr th {\n",
       "        vertical-align: top;\n",
       "    }\n",
       "\n",
       "    .dataframe thead th {\n",
       "        text-align: right;\n",
       "    }\n",
       "</style>\n",
       "<table border=\"1\" class=\"dataframe\">\n",
       "  <thead>\n",
       "    <tr style=\"text-align: right;\">\n",
       "      <th></th>\n",
       "      <th>price</th>\n",
       "      <th>model_year</th>\n",
       "      <th>model</th>\n",
       "      <th>condition</th>\n",
       "      <th>cylinders</th>\n",
       "      <th>fuel</th>\n",
       "      <th>odometer</th>\n",
       "      <th>transmission</th>\n",
       "      <th>type</th>\n",
       "      <th>paint_color</th>\n",
       "      <th>is_4wd</th>\n",
       "      <th>date_posted</th>\n",
       "      <th>days_listed</th>\n",
       "      <th>model_year_new</th>\n",
       "    </tr>\n",
       "  </thead>\n",
       "  <tbody>\n",
       "    <tr>\n",
       "      <th>0</th>\n",
       "      <td>9400</td>\n",
       "      <td>2011.0</td>\n",
       "      <td>bmw x5</td>\n",
       "      <td>2</td>\n",
       "      <td>6.0</td>\n",
       "      <td>gas</td>\n",
       "      <td>145000.0</td>\n",
       "      <td>automatic</td>\n",
       "      <td>SUV</td>\n",
       "      <td>unknown</td>\n",
       "      <td>1.0</td>\n",
       "      <td>2018-06-23</td>\n",
       "      <td>19</td>\n",
       "      <td>2011.0</td>\n",
       "    </tr>\n",
       "    <tr>\n",
       "      <th>1</th>\n",
       "      <td>25500</td>\n",
       "      <td>2009.0</td>\n",
       "      <td>ford f-150</td>\n",
       "      <td>2</td>\n",
       "      <td>6.0</td>\n",
       "      <td>gas</td>\n",
       "      <td>88705.0</td>\n",
       "      <td>automatic</td>\n",
       "      <td>pickup</td>\n",
       "      <td>white</td>\n",
       "      <td>1.0</td>\n",
       "      <td>2018-10-19</td>\n",
       "      <td>50</td>\n",
       "      <td>2009.0</td>\n",
       "    </tr>\n",
       "    <tr>\n",
       "      <th>2</th>\n",
       "      <td>5500</td>\n",
       "      <td>2013.0</td>\n",
       "      <td>hyundai sonata</td>\n",
       "      <td>4</td>\n",
       "      <td>4.0</td>\n",
       "      <td>gas</td>\n",
       "      <td>110000.0</td>\n",
       "      <td>automatic</td>\n",
       "      <td>sedan</td>\n",
       "      <td>red</td>\n",
       "      <td>0.0</td>\n",
       "      <td>2019-02-07</td>\n",
       "      <td>79</td>\n",
       "      <td>2013.0</td>\n",
       "    </tr>\n",
       "    <tr>\n",
       "      <th>3</th>\n",
       "      <td>1500</td>\n",
       "      <td>2003.0</td>\n",
       "      <td>ford f-150</td>\n",
       "      <td>1</td>\n",
       "      <td>8.0</td>\n",
       "      <td>gas</td>\n",
       "      <td>NaN</td>\n",
       "      <td>automatic</td>\n",
       "      <td>pickup</td>\n",
       "      <td>unknown</td>\n",
       "      <td>0.0</td>\n",
       "      <td>2019-03-22</td>\n",
       "      <td>9</td>\n",
       "      <td>2003.0</td>\n",
       "    </tr>\n",
       "    <tr>\n",
       "      <th>4</th>\n",
       "      <td>14900</td>\n",
       "      <td>2017.0</td>\n",
       "      <td>chrysler 200</td>\n",
       "      <td>3</td>\n",
       "      <td>4.0</td>\n",
       "      <td>gas</td>\n",
       "      <td>80903.0</td>\n",
       "      <td>automatic</td>\n",
       "      <td>sedan</td>\n",
       "      <td>black</td>\n",
       "      <td>0.0</td>\n",
       "      <td>2019-04-02</td>\n",
       "      <td>28</td>\n",
       "      <td>2017.0</td>\n",
       "    </tr>\n",
       "  </tbody>\n",
       "</table>\n",
       "</div>"
      ],
      "text/plain": [
       "   price  model_year           model condition  cylinders fuel  odometer  \\\n",
       "0   9400      2011.0          bmw x5         2        6.0  gas  145000.0   \n",
       "1  25500      2009.0      ford f-150         2        6.0  gas   88705.0   \n",
       "2   5500      2013.0  hyundai sonata         4        4.0  gas  110000.0   \n",
       "3   1500      2003.0      ford f-150         1        8.0  gas       NaN   \n",
       "4  14900      2017.0    chrysler 200         3        4.0  gas   80903.0   \n",
       "\n",
       "  transmission    type paint_color  is_4wd date_posted  days_listed  \\\n",
       "0    automatic     SUV     unknown     1.0  2018-06-23           19   \n",
       "1    automatic  pickup       white     1.0  2018-10-19           50   \n",
       "2    automatic   sedan         red     0.0  2019-02-07           79   \n",
       "3    automatic  pickup     unknown     0.0  2019-03-22            9   \n",
       "4    automatic   sedan       black     0.0  2019-04-02           28   \n",
       "\n",
       "   model_year_new  \n",
       "0          2011.0  \n",
       "1          2009.0  \n",
       "2          2013.0  \n",
       "3          2003.0  \n",
       "4          2017.0  "
      ]
     },
     "execution_count": 616,
     "metadata": {},
     "output_type": "execute_result"
    }
   ],
   "source": [
    "# Replacing model_year with the values of model_year_new.\n",
    "\n",
    "data['model_year'] = data['model_year_new']\n",
    "data.head()"
   ]
  },
  {
   "cell_type": "markdown",
   "metadata": {},
   "source": [
    "Now that we filled in the missing values in 'model_year', let's check if we can fill in the missing values in 'odometer' with the means of 'odometer' grouped by 'model_year'."
   ]
  },
  {
   "cell_type": "code",
   "execution_count": 617,
   "metadata": {},
   "outputs": [
    {
     "data": {
      "text/plain": [
       "model_year\n",
       "1908.0    169328.000000\n",
       "1929.0              NaN\n",
       "1936.0     30000.000000\n",
       "1948.0      4000.000000\n",
       "1949.0      1800.000000\n",
       "              ...      \n",
       "2015.0     82501.745817\n",
       "2016.0     61455.480876\n",
       "2017.0     47557.926471\n",
       "2018.0     25463.388740\n",
       "2019.0     17076.810976\n",
       "Name: odometer, Length: 68, dtype: float64"
      ]
     },
     "execution_count": 617,
     "metadata": {},
     "output_type": "execute_result"
    }
   ],
   "source": [
    "# Calculating the vehicle's average mileage per year\n",
    "\n",
    "data['odometer'].groupby(data['model_year']).mean()"
   ]
  },
  {
   "cell_type": "markdown",
   "metadata": {},
   "source": [
    "It looks like we cannot use the means of 'model_year' to fill in all of the missing values in 'model_year' because at least in 1929 there is a missing value so we cannot obtain a mean for 1929 with which to replace the missing value in odometer.\n",
    "\n",
    "Let's proceed and fill in the missing values in 'odometer' using the means of 'odometer' grouped by 'model_year' and then check how many missing values in 'odometer' remain. "
   ]
  },
  {
   "cell_type": "code",
   "execution_count": 618,
   "metadata": {},
   "outputs": [
    {
     "data": {
      "text/plain": [
       "price                0\n",
       "model_year           0\n",
       "model                0\n",
       "condition            0\n",
       "cylinders            0\n",
       "fuel                 0\n",
       "odometer          7892\n",
       "transmission         0\n",
       "type                 0\n",
       "paint_color          0\n",
       "is_4wd               0\n",
       "date_posted          0\n",
       "days_listed          0\n",
       "model_year_new       0\n",
       "odometer_new         1\n",
       "dtype: int64"
      ]
     },
     "execution_count": 618,
     "metadata": {},
     "output_type": "execute_result"
    }
   ],
   "source": [
    "# Filling in missing values in 'odometer' using means of 'odometer' grouped by 'model_year'\n",
    "\n",
    "cols = ['model_year','odometer']\n",
    "data['odometer_new'] = data[cols].groupby('model_year').transform(lambda x: x.fillna(x.mean()))\n",
    "data.isna().sum()"
   ]
  },
  {
   "cell_type": "markdown",
   "metadata": {},
   "source": [
    "There is only one remaining missing value in odometer_new and we know the year is 1929, so we will drop the row containing that missing value after we fill in all other missing values.\n",
    "\n",
    "Let's replace 'odometer' with 'odometer_new' to fill in the missing values."
   ]
  },
  {
   "cell_type": "code",
   "execution_count": 619,
   "metadata": {},
   "outputs": [],
   "source": [
    "# Replacing 'odometer' with the values of 'odometer_new'.\n",
    "\n",
    "data['odometer'] = data['odometer_new']"
   ]
  },
  {
   "cell_type": "code",
   "execution_count": 620,
   "metadata": {},
   "outputs": [
    {
     "name": "stdout",
     "output_type": "stream",
     "text": [
      "<class 'pandas.core.frame.DataFrame'>\n",
      "RangeIndex: 51525 entries, 0 to 51524\n",
      "Data columns (total 15 columns):\n",
      " #   Column          Non-Null Count  Dtype  \n",
      "---  ------          --------------  -----  \n",
      " 0   price           51525 non-null  int64  \n",
      " 1   model_year      51525 non-null  float64\n",
      " 2   model           51525 non-null  object \n",
      " 3   condition       51525 non-null  object \n",
      " 4   cylinders       51525 non-null  float64\n",
      " 5   fuel            51525 non-null  object \n",
      " 6   odometer        51524 non-null  float64\n",
      " 7   transmission    51525 non-null  object \n",
      " 8   type            51525 non-null  object \n",
      " 9   paint_color     51525 non-null  object \n",
      " 10  is_4wd          51525 non-null  float64\n",
      " 11  date_posted     51525 non-null  object \n",
      " 12  days_listed     51525 non-null  int64  \n",
      " 13  model_year_new  51525 non-null  float64\n",
      " 14  odometer_new    51524 non-null  float64\n",
      "dtypes: float64(6), int64(2), object(7)\n",
      "memory usage: 5.9+ MB\n"
     ]
    }
   ],
   "source": [
    "data.info()"
   ]
  },
  {
   "cell_type": "code",
   "execution_count": 621,
   "metadata": {},
   "outputs": [
    {
     "name": "stdout",
     "output_type": "stream",
     "text": [
      "<class 'pandas.core.frame.DataFrame'>\n",
      "Int64Index: 51524 entries, 0 to 51524\n",
      "Data columns (total 15 columns):\n",
      " #   Column          Non-Null Count  Dtype  \n",
      "---  ------          --------------  -----  \n",
      " 0   price           51524 non-null  int64  \n",
      " 1   model_year      51524 non-null  float64\n",
      " 2   model           51524 non-null  object \n",
      " 3   condition       51524 non-null  object \n",
      " 4   cylinders       51524 non-null  float64\n",
      " 5   fuel            51524 non-null  object \n",
      " 6   odometer        51524 non-null  float64\n",
      " 7   transmission    51524 non-null  object \n",
      " 8   type            51524 non-null  object \n",
      " 9   paint_color     51524 non-null  object \n",
      " 10  is_4wd          51524 non-null  float64\n",
      " 11  date_posted     51524 non-null  object \n",
      " 12  days_listed     51524 non-null  int64  \n",
      " 13  model_year_new  51524 non-null  float64\n",
      " 14  odometer_new    51524 non-null  float64\n",
      "dtypes: float64(6), int64(2), object(7)\n",
      "memory usage: 6.3+ MB\n"
     ]
    }
   ],
   "source": [
    "# Dropping the one row with a missing value in 'odometer'\n",
    "\n",
    "data.dropna(how='any', inplace= True)\n",
    "data.info()"
   ]
  },
  {
   "cell_type": "markdown",
   "metadata": {},
   "source": [
    "<div class=\"alert alert-block alert-success\">\n",
    "<b>Reviewer's comment</b> <a class=\"tocSkip\"></a>\n",
    "\n",
    "Pretty good part)"
   ]
  },
  {
   "cell_type": "markdown",
   "metadata": {},
   "source": [
    "## Fix data types"
   ]
  },
  {
   "cell_type": "markdown",
   "metadata": {},
   "source": [
    "Now that the data is more or less complete, we need to fix the data types. After filling in the missing values, some of the columns became object types. We need to convert these to a numeric type first.\n",
    "\n",
    "Let's convert the columns 'model_year', 'condition','cylinders', 'odometer', and 'is_4wd' into integer types. "
   ]
  },
  {
   "cell_type": "code",
   "execution_count": 622,
   "metadata": {},
   "outputs": [],
   "source": [
    "# Converting columns from float to integer type\n",
    "\n",
    "data['model_year'] = data['model_year'].astype(int)\n",
    "data['condition'] = data['condition'].astype(int)\n",
    "data['cylinders'] = data['cylinders'].astype(int)\n",
    "data['odometer'] = data['odometer'].astype(int)\n",
    "data['is_4wd'] = data['is_4wd'].astype(int)\n"
   ]
  },
  {
   "cell_type": "markdown",
   "metadata": {},
   "source": [
    "<div class=\"alert alert-block alert-success\">\n",
    "<b>Reviewer's comment</b> <a class=\"tocSkip\"></a>\n",
    "\n",
    "Correct)"
   ]
  },
  {
   "cell_type": "code",
   "execution_count": 623,
   "metadata": {},
   "outputs": [
    {
     "name": "stdout",
     "output_type": "stream",
     "text": [
      "<class 'pandas.core.frame.DataFrame'>\n",
      "Int64Index: 51524 entries, 0 to 51524\n",
      "Data columns (total 15 columns):\n",
      " #   Column          Non-Null Count  Dtype  \n",
      "---  ------          --------------  -----  \n",
      " 0   price           51524 non-null  int64  \n",
      " 1   model_year      51524 non-null  int64  \n",
      " 2   model           51524 non-null  object \n",
      " 3   condition       51524 non-null  int64  \n",
      " 4   cylinders       51524 non-null  int64  \n",
      " 5   fuel            51524 non-null  object \n",
      " 6   odometer        51524 non-null  int64  \n",
      " 7   transmission    51524 non-null  object \n",
      " 8   type            51524 non-null  object \n",
      " 9   paint_color     51524 non-null  object \n",
      " 10  is_4wd          51524 non-null  int64  \n",
      " 11  date_posted     51524 non-null  object \n",
      " 12  days_listed     51524 non-null  int64  \n",
      " 13  model_year_new  51524 non-null  float64\n",
      " 14  odometer_new    51524 non-null  float64\n",
      "dtypes: float64(2), int64(7), object(6)\n",
      "memory usage: 6.3+ MB\n"
     ]
    }
   ],
   "source": [
    "# Checking that data types were converted to integers\n",
    "\n",
    "data.info()"
   ]
  },
  {
   "cell_type": "markdown",
   "metadata": {},
   "source": [
    "Now that the data is complete, let's check for duplicates in the data."
   ]
  },
  {
   "cell_type": "code",
   "execution_count": 624,
   "metadata": {},
   "outputs": [
    {
     "data": {
      "text/plain": [
       "0"
      ]
     },
     "execution_count": 624,
     "metadata": {},
     "output_type": "execute_result"
    }
   ],
   "source": [
    "# Checking for duplicates in the data\n",
    "\n",
    "data.duplicated().sum()"
   ]
  },
  {
   "cell_type": "markdown",
   "metadata": {},
   "source": [
    "## Enrich data"
   ]
  },
  {
   "cell_type": "markdown",
   "metadata": {},
   "source": [
    "We will need to use 'date_posted' to calculate the age of the ad.\n",
    "Let's convert 'date_posted' to a datetime type for further analysis. "
   ]
  },
  {
   "cell_type": "code",
   "execution_count": 625,
   "metadata": {},
   "outputs": [],
   "source": [
    "# Converting 'date_posted' to a datetime value\n",
    "\n",
    "data['date_posted'] = pd.to_datetime(data['date_posted'], format='%Y-%m-%d')"
   ]
  },
  {
   "cell_type": "code",
   "execution_count": 626,
   "metadata": {},
   "outputs": [
    {
     "name": "stdout",
     "output_type": "stream",
     "text": [
      "<class 'pandas.core.frame.DataFrame'>\n",
      "Int64Index: 51524 entries, 0 to 51524\n",
      "Data columns (total 15 columns):\n",
      " #   Column          Non-Null Count  Dtype         \n",
      "---  ------          --------------  -----         \n",
      " 0   price           51524 non-null  int64         \n",
      " 1   model_year      51524 non-null  int64         \n",
      " 2   model           51524 non-null  object        \n",
      " 3   condition       51524 non-null  int64         \n",
      " 4   cylinders       51524 non-null  int64         \n",
      " 5   fuel            51524 non-null  object        \n",
      " 6   odometer        51524 non-null  int64         \n",
      " 7   transmission    51524 non-null  object        \n",
      " 8   type            51524 non-null  object        \n",
      " 9   paint_color     51524 non-null  object        \n",
      " 10  is_4wd          51524 non-null  int64         \n",
      " 11  date_posted     51524 non-null  datetime64[ns]\n",
      " 12  days_listed     51524 non-null  int64         \n",
      " 13  model_year_new  51524 non-null  float64       \n",
      " 14  odometer_new    51524 non-null  float64       \n",
      "dtypes: datetime64[ns](1), float64(2), int64(7), object(5)\n",
      "memory usage: 6.3+ MB\n"
     ]
    }
   ],
   "source": [
    "# Checking that datetime value was assigned to 'date_posted'\n",
    "\n",
    "data.info()"
   ]
  },
  {
   "cell_type": "markdown",
   "metadata": {},
   "source": [
    "We need to calculate the vehicle's age when the ad was placed. We will extract the year from 'date_posted' and assign it to a new column 'year_posted'."
   ]
  },
  {
   "cell_type": "code",
   "execution_count": 627,
   "metadata": {},
   "outputs": [
    {
     "data": {
      "text/html": [
       "<div>\n",
       "<style scoped>\n",
       "    .dataframe tbody tr th:only-of-type {\n",
       "        vertical-align: middle;\n",
       "    }\n",
       "\n",
       "    .dataframe tbody tr th {\n",
       "        vertical-align: top;\n",
       "    }\n",
       "\n",
       "    .dataframe thead th {\n",
       "        text-align: right;\n",
       "    }\n",
       "</style>\n",
       "<table border=\"1\" class=\"dataframe\">\n",
       "  <thead>\n",
       "    <tr style=\"text-align: right;\">\n",
       "      <th></th>\n",
       "      <th>price</th>\n",
       "      <th>model_year</th>\n",
       "      <th>model</th>\n",
       "      <th>condition</th>\n",
       "      <th>cylinders</th>\n",
       "      <th>fuel</th>\n",
       "      <th>odometer</th>\n",
       "      <th>transmission</th>\n",
       "      <th>type</th>\n",
       "      <th>paint_color</th>\n",
       "      <th>is_4wd</th>\n",
       "      <th>date_posted</th>\n",
       "      <th>days_listed</th>\n",
       "      <th>model_year_new</th>\n",
       "      <th>odometer_new</th>\n",
       "      <th>year_posted</th>\n",
       "    </tr>\n",
       "  </thead>\n",
       "  <tbody>\n",
       "    <tr>\n",
       "      <th>0</th>\n",
       "      <td>9400</td>\n",
       "      <td>2011</td>\n",
       "      <td>bmw x5</td>\n",
       "      <td>2</td>\n",
       "      <td>6</td>\n",
       "      <td>gas</td>\n",
       "      <td>145000</td>\n",
       "      <td>automatic</td>\n",
       "      <td>SUV</td>\n",
       "      <td>unknown</td>\n",
       "      <td>1</td>\n",
       "      <td>2018-06-23</td>\n",
       "      <td>19</td>\n",
       "      <td>2011.0</td>\n",
       "      <td>145000.000000</td>\n",
       "      <td>2018</td>\n",
       "    </tr>\n",
       "    <tr>\n",
       "      <th>1</th>\n",
       "      <td>25500</td>\n",
       "      <td>2009</td>\n",
       "      <td>ford f-150</td>\n",
       "      <td>2</td>\n",
       "      <td>6</td>\n",
       "      <td>gas</td>\n",
       "      <td>88705</td>\n",
       "      <td>automatic</td>\n",
       "      <td>pickup</td>\n",
       "      <td>white</td>\n",
       "      <td>1</td>\n",
       "      <td>2018-10-19</td>\n",
       "      <td>50</td>\n",
       "      <td>2009.0</td>\n",
       "      <td>88705.000000</td>\n",
       "      <td>2018</td>\n",
       "    </tr>\n",
       "    <tr>\n",
       "      <th>2</th>\n",
       "      <td>5500</td>\n",
       "      <td>2013</td>\n",
       "      <td>hyundai sonata</td>\n",
       "      <td>4</td>\n",
       "      <td>4</td>\n",
       "      <td>gas</td>\n",
       "      <td>110000</td>\n",
       "      <td>automatic</td>\n",
       "      <td>sedan</td>\n",
       "      <td>red</td>\n",
       "      <td>0</td>\n",
       "      <td>2019-02-07</td>\n",
       "      <td>79</td>\n",
       "      <td>2013.0</td>\n",
       "      <td>110000.000000</td>\n",
       "      <td>2019</td>\n",
       "    </tr>\n",
       "    <tr>\n",
       "      <th>3</th>\n",
       "      <td>1500</td>\n",
       "      <td>2003</td>\n",
       "      <td>ford f-150</td>\n",
       "      <td>1</td>\n",
       "      <td>8</td>\n",
       "      <td>gas</td>\n",
       "      <td>163440</td>\n",
       "      <td>automatic</td>\n",
       "      <td>pickup</td>\n",
       "      <td>unknown</td>\n",
       "      <td>0</td>\n",
       "      <td>2019-03-22</td>\n",
       "      <td>9</td>\n",
       "      <td>2003.0</td>\n",
       "      <td>163440.501893</td>\n",
       "      <td>2019</td>\n",
       "    </tr>\n",
       "    <tr>\n",
       "      <th>4</th>\n",
       "      <td>14900</td>\n",
       "      <td>2017</td>\n",
       "      <td>chrysler 200</td>\n",
       "      <td>3</td>\n",
       "      <td>4</td>\n",
       "      <td>gas</td>\n",
       "      <td>80903</td>\n",
       "      <td>automatic</td>\n",
       "      <td>sedan</td>\n",
       "      <td>black</td>\n",
       "      <td>0</td>\n",
       "      <td>2019-04-02</td>\n",
       "      <td>28</td>\n",
       "      <td>2017.0</td>\n",
       "      <td>80903.000000</td>\n",
       "      <td>2019</td>\n",
       "    </tr>\n",
       "  </tbody>\n",
       "</table>\n",
       "</div>"
      ],
      "text/plain": [
       "   price  model_year           model  condition  cylinders fuel  odometer  \\\n",
       "0   9400        2011          bmw x5          2          6  gas    145000   \n",
       "1  25500        2009      ford f-150          2          6  gas     88705   \n",
       "2   5500        2013  hyundai sonata          4          4  gas    110000   \n",
       "3   1500        2003      ford f-150          1          8  gas    163440   \n",
       "4  14900        2017    chrysler 200          3          4  gas     80903   \n",
       "\n",
       "  transmission    type paint_color  is_4wd date_posted  days_listed  \\\n",
       "0    automatic     SUV     unknown       1  2018-06-23           19   \n",
       "1    automatic  pickup       white       1  2018-10-19           50   \n",
       "2    automatic   sedan         red       0  2019-02-07           79   \n",
       "3    automatic  pickup     unknown       0  2019-03-22            9   \n",
       "4    automatic   sedan       black       0  2019-04-02           28   \n",
       "\n",
       "   model_year_new   odometer_new  year_posted  \n",
       "0          2011.0  145000.000000         2018  \n",
       "1          2009.0   88705.000000         2018  \n",
       "2          2013.0  110000.000000         2019  \n",
       "3          2003.0  163440.501893         2019  \n",
       "4          2017.0   80903.000000         2019  "
      ]
     },
     "execution_count": 627,
     "metadata": {},
     "output_type": "execute_result"
    }
   ],
   "source": [
    "# Extracting the year from 'date_posted'\n",
    "\n",
    "data['year_posted'] = pd.DatetimeIndex(data['date_posted']).year\n",
    "\n",
    "data.head()"
   ]
  },
  {
   "cell_type": "markdown",
   "metadata": {},
   "source": [
    "Let's create a function to subtract the model_year from the year_posted."
   ]
  },
  {
   "cell_type": "code",
   "execution_count": 628,
   "metadata": {},
   "outputs": [],
   "source": [
    "# Creating a function to calculate vehicle age\n",
    "\n",
    "def age(year_posted, model_year):\n",
    "    for year in year_posted:\n",
    "        data['age'] = data['year_posted'] - data['model_year'] + 1"
   ]
  },
  {
   "cell_type": "markdown",
   "metadata": {},
   "source": [
    "<div class=\"alert alert-block alert-warning\">\n",
    "<b>Reviewer's comment</b> <a class=\"tocSkip\"></a>\n",
    "\n",
    "Some good advice: add +1 into age calculations. Some companies calculate extra months as a year. This will also help to avoid nulls.\n",
    "    \n",
    "</div> "
   ]
  },
  {
   "cell_type": "markdown",
   "metadata": {},
   "source": [
    "<div class=\"alert alert-block alert-danger\">\n",
    "<b>Reviewer's comment</b> <a class=\"tocSkip\"></a>\n",
    "\n",
    "Have you counted it later?\n",
    "\n",
    "    The vehicle's average mileage per year\n",
    "    \n",
    "if not, please, add it here, we'll need to study it later)"
   ]
  },
  {
   "cell_type": "markdown",
   "metadata": {},
   "source": [
    "<div class=\"alert alert-block alert-info\">\n",
    "<b>Student answer.</b> <a class=\"tocSkip\"></a>\n",
    "\n",
    "I included vehicle's average mileage per year above - see my comment above in blue.\n",
    "I see that I should have used this calculation to study the core parameters later, not only to use when filling in the missing values. I will save this calculation to a new column below. Thank you!\n",
    "    \n",
    " I also added +1 to the function for age.\n",
    "\n",
    "</div>"
   ]
  },
  {
   "cell_type": "markdown",
   "metadata": {},
   "source": [
    "<div class=\"alert alert-block alert-success\">\n",
    "<b>Reviewer's comment v.1.</b> <a class=\"tocSkip\"></a>\n",
    "\n",
    "Thanks for your answer)"
   ]
  },
  {
   "cell_type": "code",
   "execution_count": 629,
   "metadata": {},
   "outputs": [],
   "source": [
    "# Applying the age function to create a new column 'age'\n",
    "\n",
    "age(data['year_posted'], data['model_year'])"
   ]
  },
  {
   "cell_type": "code",
   "execution_count": 630,
   "metadata": {},
   "outputs": [
    {
     "data": {
      "text/html": [
       "<div>\n",
       "<style scoped>\n",
       "    .dataframe tbody tr th:only-of-type {\n",
       "        vertical-align: middle;\n",
       "    }\n",
       "\n",
       "    .dataframe tbody tr th {\n",
       "        vertical-align: top;\n",
       "    }\n",
       "\n",
       "    .dataframe thead th {\n",
       "        text-align: right;\n",
       "    }\n",
       "</style>\n",
       "<table border=\"1\" class=\"dataframe\">\n",
       "  <thead>\n",
       "    <tr style=\"text-align: right;\">\n",
       "      <th></th>\n",
       "      <th>price</th>\n",
       "      <th>model_year</th>\n",
       "      <th>model</th>\n",
       "      <th>condition</th>\n",
       "      <th>cylinders</th>\n",
       "      <th>fuel</th>\n",
       "      <th>odometer</th>\n",
       "      <th>transmission</th>\n",
       "      <th>type</th>\n",
       "      <th>paint_color</th>\n",
       "      <th>is_4wd</th>\n",
       "      <th>date_posted</th>\n",
       "      <th>days_listed</th>\n",
       "      <th>model_year_new</th>\n",
       "      <th>odometer_new</th>\n",
       "      <th>year_posted</th>\n",
       "      <th>age</th>\n",
       "    </tr>\n",
       "  </thead>\n",
       "  <tbody>\n",
       "    <tr>\n",
       "      <th>0</th>\n",
       "      <td>9400</td>\n",
       "      <td>2011</td>\n",
       "      <td>bmw x5</td>\n",
       "      <td>2</td>\n",
       "      <td>6</td>\n",
       "      <td>gas</td>\n",
       "      <td>145000</td>\n",
       "      <td>automatic</td>\n",
       "      <td>SUV</td>\n",
       "      <td>unknown</td>\n",
       "      <td>1</td>\n",
       "      <td>2018-06-23</td>\n",
       "      <td>19</td>\n",
       "      <td>2011.0</td>\n",
       "      <td>145000.000000</td>\n",
       "      <td>2018</td>\n",
       "      <td>8</td>\n",
       "    </tr>\n",
       "    <tr>\n",
       "      <th>1</th>\n",
       "      <td>25500</td>\n",
       "      <td>2009</td>\n",
       "      <td>ford f-150</td>\n",
       "      <td>2</td>\n",
       "      <td>6</td>\n",
       "      <td>gas</td>\n",
       "      <td>88705</td>\n",
       "      <td>automatic</td>\n",
       "      <td>pickup</td>\n",
       "      <td>white</td>\n",
       "      <td>1</td>\n",
       "      <td>2018-10-19</td>\n",
       "      <td>50</td>\n",
       "      <td>2009.0</td>\n",
       "      <td>88705.000000</td>\n",
       "      <td>2018</td>\n",
       "      <td>10</td>\n",
       "    </tr>\n",
       "    <tr>\n",
       "      <th>2</th>\n",
       "      <td>5500</td>\n",
       "      <td>2013</td>\n",
       "      <td>hyundai sonata</td>\n",
       "      <td>4</td>\n",
       "      <td>4</td>\n",
       "      <td>gas</td>\n",
       "      <td>110000</td>\n",
       "      <td>automatic</td>\n",
       "      <td>sedan</td>\n",
       "      <td>red</td>\n",
       "      <td>0</td>\n",
       "      <td>2019-02-07</td>\n",
       "      <td>79</td>\n",
       "      <td>2013.0</td>\n",
       "      <td>110000.000000</td>\n",
       "      <td>2019</td>\n",
       "      <td>7</td>\n",
       "    </tr>\n",
       "    <tr>\n",
       "      <th>3</th>\n",
       "      <td>1500</td>\n",
       "      <td>2003</td>\n",
       "      <td>ford f-150</td>\n",
       "      <td>1</td>\n",
       "      <td>8</td>\n",
       "      <td>gas</td>\n",
       "      <td>163440</td>\n",
       "      <td>automatic</td>\n",
       "      <td>pickup</td>\n",
       "      <td>unknown</td>\n",
       "      <td>0</td>\n",
       "      <td>2019-03-22</td>\n",
       "      <td>9</td>\n",
       "      <td>2003.0</td>\n",
       "      <td>163440.501893</td>\n",
       "      <td>2019</td>\n",
       "      <td>17</td>\n",
       "    </tr>\n",
       "    <tr>\n",
       "      <th>4</th>\n",
       "      <td>14900</td>\n",
       "      <td>2017</td>\n",
       "      <td>chrysler 200</td>\n",
       "      <td>3</td>\n",
       "      <td>4</td>\n",
       "      <td>gas</td>\n",
       "      <td>80903</td>\n",
       "      <td>automatic</td>\n",
       "      <td>sedan</td>\n",
       "      <td>black</td>\n",
       "      <td>0</td>\n",
       "      <td>2019-04-02</td>\n",
       "      <td>28</td>\n",
       "      <td>2017.0</td>\n",
       "      <td>80903.000000</td>\n",
       "      <td>2019</td>\n",
       "      <td>3</td>\n",
       "    </tr>\n",
       "  </tbody>\n",
       "</table>\n",
       "</div>"
      ],
      "text/plain": [
       "   price  model_year           model  condition  cylinders fuel  odometer  \\\n",
       "0   9400        2011          bmw x5          2          6  gas    145000   \n",
       "1  25500        2009      ford f-150          2          6  gas     88705   \n",
       "2   5500        2013  hyundai sonata          4          4  gas    110000   \n",
       "3   1500        2003      ford f-150          1          8  gas    163440   \n",
       "4  14900        2017    chrysler 200          3          4  gas     80903   \n",
       "\n",
       "  transmission    type paint_color  is_4wd date_posted  days_listed  \\\n",
       "0    automatic     SUV     unknown       1  2018-06-23           19   \n",
       "1    automatic  pickup       white       1  2018-10-19           50   \n",
       "2    automatic   sedan         red       0  2019-02-07           79   \n",
       "3    automatic  pickup     unknown       0  2019-03-22            9   \n",
       "4    automatic   sedan       black       0  2019-04-02           28   \n",
       "\n",
       "   model_year_new   odometer_new  year_posted  age  \n",
       "0          2011.0  145000.000000         2018    8  \n",
       "1          2009.0   88705.000000         2018   10  \n",
       "2          2013.0  110000.000000         2019    7  \n",
       "3          2003.0  163440.501893         2019   17  \n",
       "4          2017.0   80903.000000         2019    3  "
      ]
     },
     "execution_count": 630,
     "metadata": {},
     "output_type": "execute_result"
    }
   ],
   "source": [
    "# Checking the age function worked and created a new column 'age'\n",
    "\n",
    "data.head()"
   ]
  },
  {
   "cell_type": "markdown",
   "metadata": {},
   "source": [
    "We will need to use the average mileage per year to calculate correlations. Let's create a column assigning the average mileage per year to each ad listing."
   ]
  },
  {
   "cell_type": "code",
   "execution_count": 631,
   "metadata": {},
   "outputs": [
    {
     "data": {
      "text/html": [
       "<div>\n",
       "<style scoped>\n",
       "    .dataframe tbody tr th:only-of-type {\n",
       "        vertical-align: middle;\n",
       "    }\n",
       "\n",
       "    .dataframe tbody tr th {\n",
       "        vertical-align: top;\n",
       "    }\n",
       "\n",
       "    .dataframe thead th {\n",
       "        text-align: right;\n",
       "    }\n",
       "</style>\n",
       "<table border=\"1\" class=\"dataframe\">\n",
       "  <thead>\n",
       "    <tr style=\"text-align: right;\">\n",
       "      <th></th>\n",
       "      <th>price</th>\n",
       "      <th>model_year</th>\n",
       "      <th>model</th>\n",
       "      <th>condition</th>\n",
       "      <th>cylinders</th>\n",
       "      <th>fuel</th>\n",
       "      <th>odometer</th>\n",
       "      <th>transmission</th>\n",
       "      <th>type</th>\n",
       "      <th>paint_color</th>\n",
       "      <th>is_4wd</th>\n",
       "      <th>date_posted</th>\n",
       "      <th>days_listed</th>\n",
       "      <th>model_year_new</th>\n",
       "      <th>odometer_new</th>\n",
       "      <th>year_posted</th>\n",
       "      <th>age</th>\n",
       "      <th>avg_mileage</th>\n",
       "    </tr>\n",
       "  </thead>\n",
       "  <tbody>\n",
       "    <tr>\n",
       "      <th>0</th>\n",
       "      <td>9400</td>\n",
       "      <td>2011</td>\n",
       "      <td>bmw x5</td>\n",
       "      <td>2</td>\n",
       "      <td>6</td>\n",
       "      <td>gas</td>\n",
       "      <td>145000</td>\n",
       "      <td>automatic</td>\n",
       "      <td>SUV</td>\n",
       "      <td>unknown</td>\n",
       "      <td>1</td>\n",
       "      <td>2018-06-23</td>\n",
       "      <td>19</td>\n",
       "      <td>2011.0</td>\n",
       "      <td>145000.000000</td>\n",
       "      <td>2018</td>\n",
       "      <td>8</td>\n",
       "      <td>145000</td>\n",
       "    </tr>\n",
       "    <tr>\n",
       "      <th>1</th>\n",
       "      <td>25500</td>\n",
       "      <td>2009</td>\n",
       "      <td>ford f-150</td>\n",
       "      <td>2</td>\n",
       "      <td>6</td>\n",
       "      <td>gas</td>\n",
       "      <td>88705</td>\n",
       "      <td>automatic</td>\n",
       "      <td>pickup</td>\n",
       "      <td>white</td>\n",
       "      <td>1</td>\n",
       "      <td>2018-10-19</td>\n",
       "      <td>50</td>\n",
       "      <td>2009.0</td>\n",
       "      <td>88705.000000</td>\n",
       "      <td>2018</td>\n",
       "      <td>10</td>\n",
       "      <td>88705</td>\n",
       "    </tr>\n",
       "    <tr>\n",
       "      <th>2</th>\n",
       "      <td>5500</td>\n",
       "      <td>2013</td>\n",
       "      <td>hyundai sonata</td>\n",
       "      <td>4</td>\n",
       "      <td>4</td>\n",
       "      <td>gas</td>\n",
       "      <td>110000</td>\n",
       "      <td>automatic</td>\n",
       "      <td>sedan</td>\n",
       "      <td>red</td>\n",
       "      <td>0</td>\n",
       "      <td>2019-02-07</td>\n",
       "      <td>79</td>\n",
       "      <td>2013.0</td>\n",
       "      <td>110000.000000</td>\n",
       "      <td>2019</td>\n",
       "      <td>7</td>\n",
       "      <td>110000</td>\n",
       "    </tr>\n",
       "    <tr>\n",
       "      <th>3</th>\n",
       "      <td>1500</td>\n",
       "      <td>2003</td>\n",
       "      <td>ford f-150</td>\n",
       "      <td>1</td>\n",
       "      <td>8</td>\n",
       "      <td>gas</td>\n",
       "      <td>163440</td>\n",
       "      <td>automatic</td>\n",
       "      <td>pickup</td>\n",
       "      <td>unknown</td>\n",
       "      <td>0</td>\n",
       "      <td>2019-03-22</td>\n",
       "      <td>9</td>\n",
       "      <td>2003.0</td>\n",
       "      <td>163440.501893</td>\n",
       "      <td>2019</td>\n",
       "      <td>17</td>\n",
       "      <td>163440</td>\n",
       "    </tr>\n",
       "    <tr>\n",
       "      <th>4</th>\n",
       "      <td>14900</td>\n",
       "      <td>2017</td>\n",
       "      <td>chrysler 200</td>\n",
       "      <td>3</td>\n",
       "      <td>4</td>\n",
       "      <td>gas</td>\n",
       "      <td>80903</td>\n",
       "      <td>automatic</td>\n",
       "      <td>sedan</td>\n",
       "      <td>black</td>\n",
       "      <td>0</td>\n",
       "      <td>2019-04-02</td>\n",
       "      <td>28</td>\n",
       "      <td>2017.0</td>\n",
       "      <td>80903.000000</td>\n",
       "      <td>2019</td>\n",
       "      <td>3</td>\n",
       "      <td>80903</td>\n",
       "    </tr>\n",
       "  </tbody>\n",
       "</table>\n",
       "</div>"
      ],
      "text/plain": [
       "   price  model_year           model  condition  cylinders fuel  odometer  \\\n",
       "0   9400        2011          bmw x5          2          6  gas    145000   \n",
       "1  25500        2009      ford f-150          2          6  gas     88705   \n",
       "2   5500        2013  hyundai sonata          4          4  gas    110000   \n",
       "3   1500        2003      ford f-150          1          8  gas    163440   \n",
       "4  14900        2017    chrysler 200          3          4  gas     80903   \n",
       "\n",
       "  transmission    type paint_color  is_4wd date_posted  days_listed  \\\n",
       "0    automatic     SUV     unknown       1  2018-06-23           19   \n",
       "1    automatic  pickup       white       1  2018-10-19           50   \n",
       "2    automatic   sedan         red       0  2019-02-07           79   \n",
       "3    automatic  pickup     unknown       0  2019-03-22            9   \n",
       "4    automatic   sedan       black       0  2019-04-02           28   \n",
       "\n",
       "   model_year_new   odometer_new  year_posted  age  avg_mileage  \n",
       "0          2011.0  145000.000000         2018    8       145000  \n",
       "1          2009.0   88705.000000         2018   10        88705  \n",
       "2          2013.0  110000.000000         2019    7       110000  \n",
       "3          2003.0  163440.501893         2019   17       163440  \n",
       "4          2017.0   80903.000000         2019    3        80903  "
      ]
     },
     "execution_count": 631,
     "metadata": {},
     "output_type": "execute_result"
    }
   ],
   "source": [
    "# Creating new column with the average mileage per year per ad\n",
    "\n",
    "data['avg_mileage'] = data['odometer'].fillna(data.groupby('odometer')['model_year'].transform('mean'))\n",
    "\n",
    "data.head()"
   ]
  },
  {
   "cell_type": "markdown",
   "metadata": {},
   "source": [
    "## Check clean data"
   ]
  },
  {
   "cell_type": "markdown",
   "metadata": {},
   "source": [
    "We will need the average mileage per vehicle to study the mileage parameter and determine it's correlation with the price. Let's save the average mileage per vehicle to a new column."
   ]
  },
  {
   "cell_type": "markdown",
   "metadata": {},
   "source": [
    "[Given the data is ready for the analysis, take just another quick look at it. It is helpful to see what exactly you are going to use for the analysis.]"
   ]
  },
  {
   "cell_type": "markdown",
   "metadata": {},
   "source": [
    "Now that the data has been preprocessed, let's take another overview of it."
   ]
  },
  {
   "cell_type": "code",
   "execution_count": 632,
   "metadata": {},
   "outputs": [
    {
     "name": "stdout",
     "output_type": "stream",
     "text": [
      "<class 'pandas.core.frame.DataFrame'>\n",
      "Int64Index: 51524 entries, 0 to 51524\n",
      "Data columns (total 18 columns):\n",
      " #   Column          Non-Null Count  Dtype         \n",
      "---  ------          --------------  -----         \n",
      " 0   price           51524 non-null  int64         \n",
      " 1   model_year      51524 non-null  int64         \n",
      " 2   model           51524 non-null  object        \n",
      " 3   condition       51524 non-null  int64         \n",
      " 4   cylinders       51524 non-null  int64         \n",
      " 5   fuel            51524 non-null  object        \n",
      " 6   odometer        51524 non-null  int64         \n",
      " 7   transmission    51524 non-null  object        \n",
      " 8   type            51524 non-null  object        \n",
      " 9   paint_color     51524 non-null  object        \n",
      " 10  is_4wd          51524 non-null  int64         \n",
      " 11  date_posted     51524 non-null  datetime64[ns]\n",
      " 12  days_listed     51524 non-null  int64         \n",
      " 13  model_year_new  51524 non-null  float64       \n",
      " 14  odometer_new    51524 non-null  float64       \n",
      " 15  year_posted     51524 non-null  int64         \n",
      " 16  age             51524 non-null  int64         \n",
      " 17  avg_mileage     51524 non-null  int64         \n",
      "dtypes: datetime64[ns](1), float64(2), int64(10), object(5)\n",
      "memory usage: 7.5+ MB\n"
     ]
    }
   ],
   "source": [
    "# print the general/summary information about the DataFrame\n",
    "\n",
    "data.info()"
   ]
  },
  {
   "cell_type": "code",
   "execution_count": 633,
   "metadata": {},
   "outputs": [
    {
     "data": {
      "text/html": [
       "<div>\n",
       "<style scoped>\n",
       "    .dataframe tbody tr th:only-of-type {\n",
       "        vertical-align: middle;\n",
       "    }\n",
       "\n",
       "    .dataframe tbody tr th {\n",
       "        vertical-align: top;\n",
       "    }\n",
       "\n",
       "    .dataframe thead th {\n",
       "        text-align: right;\n",
       "    }\n",
       "</style>\n",
       "<table border=\"1\" class=\"dataframe\">\n",
       "  <thead>\n",
       "    <tr style=\"text-align: right;\">\n",
       "      <th></th>\n",
       "      <th>price</th>\n",
       "      <th>model_year</th>\n",
       "      <th>model</th>\n",
       "      <th>condition</th>\n",
       "      <th>cylinders</th>\n",
       "      <th>fuel</th>\n",
       "      <th>odometer</th>\n",
       "      <th>transmission</th>\n",
       "      <th>type</th>\n",
       "      <th>paint_color</th>\n",
       "      <th>is_4wd</th>\n",
       "      <th>date_posted</th>\n",
       "      <th>days_listed</th>\n",
       "      <th>model_year_new</th>\n",
       "      <th>odometer_new</th>\n",
       "      <th>year_posted</th>\n",
       "      <th>age</th>\n",
       "      <th>avg_mileage</th>\n",
       "    </tr>\n",
       "  </thead>\n",
       "  <tbody>\n",
       "    <tr>\n",
       "      <th>0</th>\n",
       "      <td>9400</td>\n",
       "      <td>2011</td>\n",
       "      <td>bmw x5</td>\n",
       "      <td>2</td>\n",
       "      <td>6</td>\n",
       "      <td>gas</td>\n",
       "      <td>145000</td>\n",
       "      <td>automatic</td>\n",
       "      <td>SUV</td>\n",
       "      <td>unknown</td>\n",
       "      <td>1</td>\n",
       "      <td>2018-06-23</td>\n",
       "      <td>19</td>\n",
       "      <td>2011.0</td>\n",
       "      <td>145000.000000</td>\n",
       "      <td>2018</td>\n",
       "      <td>8</td>\n",
       "      <td>145000</td>\n",
       "    </tr>\n",
       "    <tr>\n",
       "      <th>1</th>\n",
       "      <td>25500</td>\n",
       "      <td>2009</td>\n",
       "      <td>ford f-150</td>\n",
       "      <td>2</td>\n",
       "      <td>6</td>\n",
       "      <td>gas</td>\n",
       "      <td>88705</td>\n",
       "      <td>automatic</td>\n",
       "      <td>pickup</td>\n",
       "      <td>white</td>\n",
       "      <td>1</td>\n",
       "      <td>2018-10-19</td>\n",
       "      <td>50</td>\n",
       "      <td>2009.0</td>\n",
       "      <td>88705.000000</td>\n",
       "      <td>2018</td>\n",
       "      <td>10</td>\n",
       "      <td>88705</td>\n",
       "    </tr>\n",
       "    <tr>\n",
       "      <th>2</th>\n",
       "      <td>5500</td>\n",
       "      <td>2013</td>\n",
       "      <td>hyundai sonata</td>\n",
       "      <td>4</td>\n",
       "      <td>4</td>\n",
       "      <td>gas</td>\n",
       "      <td>110000</td>\n",
       "      <td>automatic</td>\n",
       "      <td>sedan</td>\n",
       "      <td>red</td>\n",
       "      <td>0</td>\n",
       "      <td>2019-02-07</td>\n",
       "      <td>79</td>\n",
       "      <td>2013.0</td>\n",
       "      <td>110000.000000</td>\n",
       "      <td>2019</td>\n",
       "      <td>7</td>\n",
       "      <td>110000</td>\n",
       "    </tr>\n",
       "    <tr>\n",
       "      <th>3</th>\n",
       "      <td>1500</td>\n",
       "      <td>2003</td>\n",
       "      <td>ford f-150</td>\n",
       "      <td>1</td>\n",
       "      <td>8</td>\n",
       "      <td>gas</td>\n",
       "      <td>163440</td>\n",
       "      <td>automatic</td>\n",
       "      <td>pickup</td>\n",
       "      <td>unknown</td>\n",
       "      <td>0</td>\n",
       "      <td>2019-03-22</td>\n",
       "      <td>9</td>\n",
       "      <td>2003.0</td>\n",
       "      <td>163440.501893</td>\n",
       "      <td>2019</td>\n",
       "      <td>17</td>\n",
       "      <td>163440</td>\n",
       "    </tr>\n",
       "    <tr>\n",
       "      <th>4</th>\n",
       "      <td>14900</td>\n",
       "      <td>2017</td>\n",
       "      <td>chrysler 200</td>\n",
       "      <td>3</td>\n",
       "      <td>4</td>\n",
       "      <td>gas</td>\n",
       "      <td>80903</td>\n",
       "      <td>automatic</td>\n",
       "      <td>sedan</td>\n",
       "      <td>black</td>\n",
       "      <td>0</td>\n",
       "      <td>2019-04-02</td>\n",
       "      <td>28</td>\n",
       "      <td>2017.0</td>\n",
       "      <td>80903.000000</td>\n",
       "      <td>2019</td>\n",
       "      <td>3</td>\n",
       "      <td>80903</td>\n",
       "    </tr>\n",
       "  </tbody>\n",
       "</table>\n",
       "</div>"
      ],
      "text/plain": [
       "   price  model_year           model  condition  cylinders fuel  odometer  \\\n",
       "0   9400        2011          bmw x5          2          6  gas    145000   \n",
       "1  25500        2009      ford f-150          2          6  gas     88705   \n",
       "2   5500        2013  hyundai sonata          4          4  gas    110000   \n",
       "3   1500        2003      ford f-150          1          8  gas    163440   \n",
       "4  14900        2017    chrysler 200          3          4  gas     80903   \n",
       "\n",
       "  transmission    type paint_color  is_4wd date_posted  days_listed  \\\n",
       "0    automatic     SUV     unknown       1  2018-06-23           19   \n",
       "1    automatic  pickup       white       1  2018-10-19           50   \n",
       "2    automatic   sedan         red       0  2019-02-07           79   \n",
       "3    automatic  pickup     unknown       0  2019-03-22            9   \n",
       "4    automatic   sedan       black       0  2019-04-02           28   \n",
       "\n",
       "   model_year_new   odometer_new  year_posted  age  avg_mileage  \n",
       "0          2011.0  145000.000000         2018    8       145000  \n",
       "1          2009.0   88705.000000         2018   10        88705  \n",
       "2          2013.0  110000.000000         2019    7       110000  \n",
       "3          2003.0  163440.501893         2019   17       163440  \n",
       "4          2017.0   80903.000000         2019    3        80903  "
      ]
     },
     "execution_count": 633,
     "metadata": {},
     "output_type": "execute_result"
    }
   ],
   "source": [
    "# print a sample of data\n",
    "\n",
    "data.head()"
   ]
  },
  {
   "cell_type": "markdown",
   "metadata": {},
   "source": [
    "## Study core parameters"
   ]
  },
  {
   "cell_type": "markdown",
   "metadata": {},
   "source": [
    "Now that our data is preprocessed, we can explore our parameters.\n",
    "\n",
    "The parameters we will explore are:\n",
    "- Condition\n",
    "- The vehicle's age when the ad was placed\n",
    "- Number of cylinders\n",
    "- Mileage\n",
    "- Price"
   ]
  },
  {
   "cell_type": "markdown",
   "metadata": {},
   "source": [
    "Let's create a function to automate the plotting of histograms to explore these parameters."
   ]
  },
  {
   "cell_type": "code",
   "execution_count": 634,
   "metadata": {},
   "outputs": [],
   "source": [
    "# Creating a function to plot histograms\n",
    "\n",
    "def hist_plot(data, column):\n",
    "        fig, ax = plt.subplots(1, 1)\n",
    "        ax.hist(data[column], bins=100)\n",
    "        ax.set_title(column)\n",
    "        ax.set_xlabel(column)\n",
    "        ax.set_ylabel('frequency')\n",
    "        plt.show()"
   ]
  },
  {
   "cell_type": "markdown",
   "metadata": {},
   "source": [
    "<div class=\"alert alert-block alert-info\">\n",
    "<b>Student answer.</b> <a class=\"tocSkip\"></a>\n",
    "\n",
    "I changed the bins parameter to 100 for the function so it will be easiert to see the distribution, as in the distribution of price below (where you commented).\n",
    "\n",
    "</div>"
   ]
  },
  {
   "cell_type": "markdown",
   "metadata": {},
   "source": [
    "<div class=\"alert alert-block alert-success\">\n",
    "<b>Reviewer's comment v.1.</b> <a class=\"tocSkip\"></a>\n",
    "\n",
    "Age hist looks really good now)"
   ]
  },
  {
   "cell_type": "code",
   "execution_count": 635,
   "metadata": {},
   "outputs": [
    {
     "data": {
      "image/png": "[encoded data removed]",
      "text/plain": [
       "<Figure size 432x288 with 1 Axes>"
      ]
     },
     "metadata": {
      "needs_background": "light"
     },
     "output_type": "display_data"
    }
   ],
   "source": [
    "# Plotting the distribution of 'condition'\n",
    "\n",
    "hist_plot(data, 'condition')"
   ]
  },
  {
   "cell_type": "code",
   "execution_count": 636,
   "metadata": {},
   "outputs": [
    {
     "data": {
      "text/plain": [
       "3    0.480805\n",
       "2    0.390963\n",
       "4    0.092035\n",
       "1    0.031189\n",
       "5    0.002775\n",
       "0    0.002232\n",
       "Name: condition, dtype: float64"
      ]
     },
     "execution_count": 636,
     "metadata": {},
     "output_type": "execute_result"
    }
   ],
   "source": [
    "# Checking the number of ads for each 'condition'\n",
    "\n",
    "data['condition'].value_counts(normalize=True)"
   ]
  },
  {
   "cell_type": "markdown",
   "metadata": {},
   "source": [
    "The majority of vehicles are within the condition of 3 (excellent, 48%) and 2 (good, 39%), with very few ranked as 5 (new, 0.3%) or 0 (salvage, 0.2%)"
   ]
  },
  {
   "cell_type": "markdown",
   "metadata": {},
   "source": [
    "Let's explore the vehicle's age when the ad was posted using the 'age' parameter."
   ]
  },
  {
   "cell_type": "code",
   "execution_count": 637,
   "metadata": {},
   "outputs": [
    {
     "data": {
      "image/png": "[encoded data removed]",
      "text/plain": [
       "<Figure size 432x288 with 1 Axes>"
      ]
     },
     "metadata": {
      "needs_background": "light"
     },
     "output_type": "display_data"
    }
   ],
   "source": [
    "# Plotting the distribution of 'age'\n",
    "\n",
    "hist_plot(data, 'age')"
   ]
  },
  {
   "cell_type": "markdown",
   "metadata": {},
   "source": [
    "<div class=\"alert alert-block alert-success\">\n",
    "<b>Reviewer's comment</b> <a class=\"tocSkip\"></a>\n",
    "\n",
    "Great usage of functions)"
   ]
  },
  {
   "cell_type": "markdown",
   "metadata": {},
   "source": [
    "A majority of vehicles were in the lower age range of 0-10 years. Yet there are outliers that are significantly older.\n",
    "Let's examine the statistics to get a clarify the range."
   ]
  },
  {
   "cell_type": "code",
   "execution_count": 638,
   "metadata": {},
   "outputs": [
    {
     "data": {
      "text/plain": [
       "count    51524.000000\n",
       "mean         9.489481\n",
       "std          6.095366\n",
       "min          1.000000\n",
       "25%          5.000000\n",
       "50%          8.000000\n",
       "75%         13.000000\n",
       "max        111.000000\n",
       "Name: age, dtype: float64"
      ]
     },
     "execution_count": 638,
     "metadata": {},
     "output_type": "execute_result"
    }
   ],
   "source": [
    "# Checking the distribution of age of vehicle using value counts\n",
    "\n",
    "data['age'].describe()"
   ]
  },
  {
   "cell_type": "markdown",
   "metadata": {},
   "source": [
    "The distibution of ages of vehicle has a range of 67 different age values from 0 to 110. The median is 7.0 but the mean is 8.5. There are significantly higher values skewing the distribution and raising the mean.\n",
    "Let's take a closer look at the distribution using a boxplot."
   ]
  },
  {
   "cell_type": "code",
   "execution_count": 639,
   "metadata": {},
   "outputs": [
    {
     "data": {
      "text/plain": [
       "<AxesSubplot:>"
      ]
     },
     "execution_count": 639,
     "metadata": {},
     "output_type": "execute_result"
    },
    {
     "data": {
      "image/png": "[encoded data removed]",
      "text/plain": [
       "<Figure size 432x288 with 1 Axes>"
      ]
     },
     "metadata": {
      "needs_background": "light"
     },
     "output_type": "display_data"
    }
   ],
   "source": [
    "data.boxplot(column='age')"
   ]
  },
  {
   "cell_type": "markdown",
   "metadata": {},
   "source": [
    "Let's slice the data at the Q3 level to examine the higher ages more closely."
   ]
  },
  {
   "cell_type": "code",
   "execution_count": 640,
   "metadata": {},
   "outputs": [
    {
     "data": {
      "image/png": "[encoded data removed]",
      "text/plain": [
       "<Figure size 432x288 with 1 Axes>"
      ]
     },
     "metadata": {
      "needs_background": "light"
     },
     "output_type": "display_data"
    },
    {
     "data": {
      "image/png": "[encoded data removed]",
      "text/plain": [
       "<Figure size 432x288 with 1 Axes>"
      ]
     },
     "metadata": {
      "needs_background": "light"
     },
     "output_type": "display_data"
    }
   ],
   "source": [
    "# Checking data with ages above 12\n",
    "\n",
    "high_odometer_data = data.query('age > 12')\n",
    "\n",
    "data.hist('age', bins=100)\n",
    "plt.show()\n",
    "\n",
    "high_odometer_data.hist('age', bins=100)\n",
    "plt.show()"
   ]
  },
  {
   "cell_type": "markdown",
   "metadata": {},
   "source": [
    "The distribution of ages above Q3 looks like the normal higher end distribution of a bell curve. The data has a wide range but the majority of the ages looks consistent with what we would expect. The median age is 7. The higher values for age looks like a normal feature of the data. We would expect older vehicles to be listed on a user car website.\n",
    "Let's check the value count for the 10 most common ages in the data."
   ]
  },
  {
   "cell_type": "code",
   "execution_count": 641,
   "metadata": {},
   "outputs": [
    {
     "data": {
      "text/plain": [
       "<AxesSubplot:>"
      ]
     },
     "execution_count": 641,
     "metadata": {},
     "output_type": "execute_result"
    },
    {
     "data": {
      "image/png": "[encoded data removed]",
      "text/plain": [
       "<Figure size 432x288 with 1 Axes>"
      ]
     },
     "metadata": {
      "needs_background": "light"
     },
     "output_type": "display_data"
    }
   ],
   "source": [
    "# Plotting 10 most common ages of vehicles in the data\n",
    "\n",
    "data['age'].value_counts().head(10).plot.bar(x='age')"
   ]
  },
  {
   "cell_type": "markdown",
   "metadata": {},
   "source": [
    "The top ten ages of vehicles range from 2-11 years. This makes sense since 87% of vehicles were listed as in \"good\" or \"excellent\" condition. We would have expected the cars to be between mostly 5-10 years in age. "
   ]
  },
  {
   "cell_type": "markdown",
   "metadata": {},
   "source": [
    "Let's check the distribution of 'cylinders'. Cylinders is categorical data so we will use a bar chart to display the distribution"
   ]
  },
  {
   "cell_type": "code",
   "execution_count": 642,
   "metadata": {},
   "outputs": [
    {
     "data": {
      "image/png": "[encoded data removed]",
      "text/plain": [
       "<Figure size 432x288 with 1 Axes>"
      ]
     },
     "metadata": {
      "needs_background": "light"
     },
     "output_type": "display_data"
    }
   ],
   "source": [
    "# Plotting the distribution of 'cylinders'\n",
    "\n",
    "hist_plot(data, 'cylinders')"
   ]
  },
  {
   "cell_type": "markdown",
   "metadata": {},
   "source": [
    "<div class=\"alert alert-block alert-warning\">\n",
    "<b>Reviewer's comment</b> <a class=\"tocSkip\"></a>\n",
    "\n",
    "I'm sure this plot will change after changing the 1.2 part, please, don't forget to check it)"
   ]
  },
  {
   "cell_type": "code",
   "execution_count": 643,
   "metadata": {},
   "outputs": [
    {
     "data": {
      "text/plain": [
       "count    51524.000000\n",
       "mean         6.121031\n",
       "std          1.657452\n",
       "min          3.000000\n",
       "25%          4.000000\n",
       "50%          6.000000\n",
       "75%          8.000000\n",
       "max         12.000000\n",
       "Name: cylinders, dtype: float64"
      ]
     },
     "execution_count": 643,
     "metadata": {},
     "output_type": "execute_result"
    }
   ],
   "source": [
    "# Checking the distribution of 'cylinders' using describe\n",
    "\n",
    "data['cylinders'].describe()"
   ]
  },
  {
   "cell_type": "code",
   "execution_count": 644,
   "metadata": {},
   "outputs": [
    {
     "data": {
      "text/plain": [
       "8     0.343743\n",
       "6     0.338386\n",
       "4     0.300811\n",
       "10    0.010655\n",
       "5     0.005706\n",
       "3     0.000660\n",
       "12    0.000039\n",
       "Name: cylinders, dtype: float64"
      ]
     },
     "execution_count": 644,
     "metadata": {},
     "output_type": "execute_result"
    }
   ],
   "source": [
    "# Checking the distribution of 'cylinders'\n",
    "\n",
    "data['cylinders'].value_counts(normalize=True)"
   ]
  },
  {
   "cell_type": "markdown",
   "metadata": {},
   "source": [
    "The number of cylinders range from 3-12. The median is 6 and the mean is 6.1. The distribution looks normal. The majority of vehicles have 8 (34%), 6 (34%), or 4 (30%) cylinders."
   ]
  },
  {
   "cell_type": "markdown",
   "metadata": {},
   "source": [
    "Let's check the distribution for 'avg_mileage' values. Since 'avg_mileage' is a quantitative parameter, we will use a histogram and a boxplot."
   ]
  },
  {
   "cell_type": "code",
   "execution_count": 645,
   "metadata": {},
   "outputs": [
    {
     "data": {
      "image/png": "[encoded data removed]",
      "text/plain": [
       "<Figure size 432x288 with 1 Axes>"
      ]
     },
     "metadata": {
      "needs_background": "light"
     },
     "output_type": "display_data"
    }
   ],
   "source": [
    "# Plotting the distribution of 'avg_mileage'\n",
    "\n",
    "hist_plot(data, 'avg_mileage')"
   ]
  },
  {
   "cell_type": "markdown",
   "metadata": {},
   "source": [
    "There is a high number of vehicles with low mileage readings. This is surprising for a used car website, especially when the majority of vehicles are listed in 'good' to 'excellent' but not 'new' condition. Let's check the distribution of 'avg_mileage' for outliers using describe() and a boxplot."
   ]
  },
  {
   "cell_type": "markdown",
   "metadata": {},
   "source": [
    "<div class=\"alert alert-block alert-warning\">\n",
    "<b>Reviewer's comment</b> <a class=\"tocSkip\"></a>\n",
    "\n",
    "Here it's better to study not odometer, but 'The vehicle's average mileage per year'"
   ]
  },
  {
   "cell_type": "code",
   "execution_count": 646,
   "metadata": {},
   "outputs": [
    {
     "data": {
      "text/plain": [
       "count     51524.000000\n",
       "mean     115557.311855\n",
       "std       61875.413509\n",
       "min           0.000000\n",
       "25%       73597.000000\n",
       "50%      113896.000000\n",
       "75%      151881.000000\n",
       "max      990000.000000\n",
       "Name: avg_mileage, dtype: float64"
      ]
     },
     "execution_count": 646,
     "metadata": {},
     "output_type": "execute_result"
    }
   ],
   "source": [
    "data['avg_mileage'].describe()"
   ]
  },
  {
   "cell_type": "raw",
   "metadata": {},
   "source": [
    "The range of 'avg_mileage' levels is 0-990,000, the median is 113,896, the mean is 115,557, and the standard deviation is 61875, so there are outliers skewing the mean to the high end. At the same time, the median mileage is low.\n",
    "Let's examine the data in odometer further using a boxplot."
   ]
  },
  {
   "cell_type": "code",
   "execution_count": 517,
   "metadata": {},
   "outputs": [
    {
     "data": {
      "text/plain": [
       "<AxesSubplot:>"
      ]
     },
     "execution_count": 517,
     "metadata": {},
     "output_type": "execute_result"
    },
    {
     "data": {
      "image/png": "[encoded data removed]",
      "text/plain": [
       "<Figure size 432x288 with 1 Axes>"
      ]
     },
     "metadata": {
      "needs_background": "light"
     },
     "output_type": "display_data"
    }
   ],
   "source": [
    "# Exploring the distribution of 'avg_mileage' with a boxplot\n",
    "\n",
    "data.boxplot(column='avg_mileage')"
   ]
  },
  {
   "cell_type": "markdown",
   "metadata": {},
   "source": [
    "The majority of vehicles have a relatively low mileage. This is surprising for used cars that mostly described as 'excellent' or 'good' condition. But there are still many vehicles with mileages above the Q3 level that must be skewing the mean to the higher end.  \n",
    "Let's explore the data at the two extremes.\n",
    "We will slice the data above the Q3 level and below the Q1 level."
   ]
  },
  {
   "cell_type": "markdown",
   "metadata": {},
   "source": [
    "Let's slice the vehicles with high mileage above the Q3 level to compare the distribution of these vehicles with the entire data."
   ]
  },
  {
   "cell_type": "code",
   "execution_count": 518,
   "metadata": {},
   "outputs": [
    {
     "data": {
      "image/png": "[encoded data removed]",
      "text/plain": [
       "<Figure size 432x288 with 1 Axes>"
      ]
     },
     "metadata": {
      "needs_background": "light"
     },
     "output_type": "display_data"
    },
    {
     "data": {
      "image/png": "[encoded data removed]",
      "text/plain": [
       "<Figure size 432x288 with 1 Axes>"
      ]
     },
     "metadata": {
      "needs_background": "light"
     },
     "output_type": "display_data"
    }
   ],
   "source": [
    "# Checking data with 'avg_mileage' value above 150000\n",
    "\n",
    "high_odometer_data = data.query('avg_mileage > 150000')\n",
    "\n",
    "data.hist('avg_mileage', bins=100)\n",
    "plt.show()\n",
    "\n",
    "high_odometer_data.hist('avg_mileage', bins=100)\n",
    "plt.show()"
   ]
  },
  {
   "cell_type": "markdown",
   "metadata": {},
   "source": [
    "We will look at the value counts to investigate where the high counts in the high odometer levels are coming from."
   ]
  },
  {
   "cell_type": "code",
   "execution_count": 519,
   "metadata": {},
   "outputs": [
    {
     "data": {
      "text/plain": [
       "151881    323\n",
       "151854    318\n",
       "158872    244\n",
       "163440    231\n",
       "160000    167\n",
       "200000    166\n",
       "158508    162\n",
       "180000    161\n",
       "170000    146\n",
       "174683    132\n",
       "176735    130\n",
       "185000    110\n",
       "152000    106\n",
       "190000    106\n",
       "165000    100\n",
       "157000     94\n",
       "156000     86\n",
       "154000     85\n",
       "175000     84\n",
       "168000     82\n",
       "Name: avg_mileage, dtype: int64"
      ]
     },
     "execution_count": 519,
     "metadata": {},
     "output_type": "execute_result"
    }
   ],
   "source": [
    "# Checking value counts for high_odometer_databases\n",
    "\n",
    "high_odometer_data['avg_mileage'].value_counts().head(20)"
   ]
  },
  {
   "cell_type": "markdown",
   "metadata": {},
   "source": [
    "The distribution of odometer values above the Q3 level seems like a normal distribution. It looks like the reason these values ended up above Q3 is because something is unusual about the values below Q1 that must be skewing the mean and the median to the lower end."
   ]
  },
  {
   "cell_type": "markdown",
   "metadata": {},
   "source": [
    "Let's slice the vehicles with low mileage below the Q1 level to compare the distribution of these vehicles with the entire data."
   ]
  },
  {
   "cell_type": "code",
   "execution_count": 520,
   "metadata": {},
   "outputs": [
    {
     "data": {
      "image/png": "[encoded data removed]",
      "text/plain": [
       "<Figure size 432x288 with 1 Axes>"
      ]
     },
     "metadata": {
      "needs_background": "light"
     },
     "output_type": "display_data"
    },
    {
     "data": {
      "image/png": "[encoded data removed]",
      "text/plain": [
       "<Figure size 432x288 with 1 Axes>"
      ]
     },
     "metadata": {
      "needs_background": "light"
     },
     "output_type": "display_data"
    }
   ],
   "source": [
    "# Checking data with odometer value below 73000\n",
    "\n",
    "low_odometer_data = data.query('avg_mileage < 73000')\n",
    "\n",
    "data.hist('avg_mileage', bins=100)\n",
    "plt.show()\n",
    "low_odometer_data.hist('avg_mileage', bins=100)\n",
    "plt.show()"
   ]
  },
  {
   "cell_type": "markdown",
   "metadata": {},
   "source": [
    "<div class=\"alert alert-block alert-success\">\n",
    "<b>Reviewer's comment v.1.</b> <a class=\"tocSkip\"></a>\n",
    "\n",
    "Great study of mileage)"
   ]
  },
  {
   "cell_type": "markdown",
   "metadata": {},
   "source": [
    "There are mostly higher values within the low_odometer_data, yet there are four spikes of unusually popular odometer levels below the 25% level. Let's explore this data slice of low odometer levels to understand these spikes.\n",
    "We will look at the value counts to investigate where the high counts are coming from."
   ]
  },
  {
   "cell_type": "code",
   "execution_count": 521,
   "metadata": {},
   "outputs": [
    {
     "data": {
      "text/plain": [
       "61455    444\n",
       "47557    379\n",
       "25463    338\n",
       "0        185\n",
       "70000     72\n",
       "49000     71\n",
       "59000     63\n",
       "55000     63\n",
       "68000     61\n",
       "50000     60\n",
       "64000     59\n",
       "65000     58\n",
       "71000     55\n",
       "69000     54\n",
       "60000     54\n",
       "17076     52\n",
       "52000     51\n",
       "38000     49\n",
       "72000     49\n",
       "62000     48\n",
       "Name: avg_mileage, dtype: int64"
      ]
     },
     "execution_count": 521,
     "metadata": {},
     "output_type": "execute_result"
    }
   ],
   "source": [
    "low_odometer_data['avg_mileage'].value_counts().head(20)"
   ]
  },
  {
   "cell_type": "markdown",
   "metadata": {},
   "source": [
    "There are 13,208 vehicles with odometer readings below 75,000. Most of the the odometer readings are rounded off to the nearest thousand and there are a less than 100 ads with that value. It is surprising that the top four most common odometer readings are: 61455, 47557, 25463, and 0. The top three readings are very specific readings and there is a low probability that these odometer readings were genuinely the most common in the ads. It is possible that these odomoter values were generated by a technical error or a programming error.\n",
    "Let's group odometer by condition for low_odometer_data to see if the values make sense."
   ]
  },
  {
   "cell_type": "code",
   "execution_count": 522,
   "metadata": {},
   "outputs": [
    {
     "data": {
      "text/plain": [
       "condition  avg_mileage\n",
       "0          0              2\n",
       "           9621           2\n",
       "           29328          2\n",
       "           38000          2\n",
       "           60925          2\n",
       "                         ..\n",
       "5          52975          1\n",
       "           58000          1\n",
       "           69000          1\n",
       "           69500          1\n",
       "           70000          1\n",
       "Name: avg_mileage, Length: 5295, dtype: int64"
      ]
     },
     "execution_count": 522,
     "metadata": {},
     "output_type": "execute_result"
    }
   ],
   "source": [
    "low_odometer_data.groupby('condition')['avg_mileage'].value_counts()"
   ]
  },
  {
   "cell_type": "markdown",
   "metadata": {},
   "source": [
    "There are only two vehicles listed as \"new\" (condition rank 1) with a 0 value. That means the remaining 183 values of 0 are inaccurate. A car listed as something other than \"new\" cannot have 0 mileage.\n",
    "\n",
    "Let's check what percentage of the data the 0 values and the other top 3 values in low_odometer_data represent."
   ]
  },
  {
   "cell_type": "code",
   "execution_count": 523,
   "metadata": {},
   "outputs": [
    {
     "data": {
      "text/plain": [
       "0.10607612893056978"
      ]
     },
     "execution_count": 523,
     "metadata": {},
     "output_type": "execute_result"
    }
   ],
   "source": [
    "# Checking the percentage of the low odometer data outliers data in low_odometer_data\n",
    "\n",
    "low_odometer_data['avg_mileage'].value_counts().head(4).sum()/len(low_odometer_data)"
   ]
  },
  {
   "cell_type": "markdown",
   "metadata": {},
   "source": [
    "These peculiar odometer values represent 10% of the low_odometer_data."
   ]
  },
  {
   "cell_type": "code",
   "execution_count": 524,
   "metadata": {},
   "outputs": [
    {
     "data": {
      "text/plain": [
       "0.026123748156199052"
      ]
     },
     "execution_count": 524,
     "metadata": {},
     "output_type": "execute_result"
    }
   ],
   "source": [
    "# Checking the percentage of the low odometer data outliers data in the entire data\n",
    "\n",
    "low_odometer_data['avg_mileage'].value_counts().head(4).sum()/len(data)"
   ]
  },
  {
   "cell_type": "markdown",
   "metadata": {},
   "source": [
    "The peculiar odometer values represent 2.6% of the entire data.\n",
    "We will, therefore, exclude these values from further analysis by slicing the data above the Q1 level."
   ]
  },
  {
   "cell_type": "markdown",
   "metadata": {},
   "source": [
    "<div class=\"alert alert-block alert-success\">\n",
    "<b>Reviewer's comment</b> <a class=\"tocSkip\"></a>\n",
    "\n",
    "I really like your researches)"
   ]
  },
  {
   "cell_type": "markdown",
   "metadata": {},
   "source": [
    "Let's explore the 'price' parameter using a histogram and a boxplot."
   ]
  },
  {
   "cell_type": "code",
   "execution_count": 525,
   "metadata": {},
   "outputs": [
    {
     "data": {
      "image/png": "[encoded data removed]",
      "text/plain": [
       "<Figure size 432x288 with 1 Axes>"
      ]
     },
     "metadata": {
      "needs_background": "light"
     },
     "output_type": "display_data"
    }
   ],
   "source": [
    "# Plotting the price distribution\n",
    "\n",
    "hist_plot(data, 'price')"
   ]
  },
  {
   "cell_type": "markdown",
   "metadata": {},
   "source": [
    "<div class=\"alert alert-block alert-warning\">\n",
    "<b>Reviewer's comment</b> <a class=\"tocSkip\"></a>\n",
    "\n",
    "Better to use more bins for this column, it's unreal to make conclusions from this hist"
   ]
  },
  {
   "cell_type": "markdown",
   "metadata": {},
   "source": [
    "<div class=\"alert alert-block alert-success\">\n",
    "<b>Reviewer's comment v.1.</b> <a class=\"tocSkip\"></a>\n",
    "\n",
    "really good now)"
   ]
  },
  {
   "cell_type": "markdown",
   "metadata": {},
   "source": [
    "The price distribution is skewed to the low end and there are several high spikes that stand out in the low end of the data. Let's explore these more using a boxplot."
   ]
  },
  {
   "cell_type": "code",
   "execution_count": 526,
   "metadata": {},
   "outputs": [
    {
     "data": {
      "text/plain": [
       "<AxesSubplot:>"
      ]
     },
     "execution_count": 526,
     "metadata": {},
     "output_type": "execute_result"
    },
    {
     "data": {
      "image/png": "[encoded data removed]",
      "text/plain": [
       "<Figure size 432x288 with 1 Axes>"
      ]
     },
     "metadata": {
      "needs_background": "light"
     },
     "output_type": "display_data"
    }
   ],
   "source": [
    "# Exploring the distribution of 'price' with a boxplot\n",
    "\n",
    "data.boxplot(column='price')"
   ]
  },
  {
   "cell_type": "markdown",
   "metadata": {},
   "source": [
    "The whiskers are very asymmetrical. The median of 'price' is surprisingly low, near zero. At the other end, there are many outliers on the higher end of the price distribution. Let's explore these two extremes more closely."
   ]
  },
  {
   "cell_type": "code",
   "execution_count": 527,
   "metadata": {},
   "outputs": [
    {
     "data": {
      "text/plain": [
       "count     51524.00000\n",
       "mean      12132.35104\n",
       "std       10040.86718\n",
       "min           1.00000\n",
       "25%        5000.00000\n",
       "50%        9000.00000\n",
       "75%       16836.00000\n",
       "max      375000.00000\n",
       "Name: price, dtype: float64"
      ]
     },
     "execution_count": 527,
     "metadata": {},
     "output_type": "execute_result"
    }
   ],
   "source": [
    "# Checking distribution of 'price'\n",
    "\n",
    "data['price'].describe()"
   ]
  },
  {
   "cell_type": "markdown",
   "metadata": {},
   "source": [
    "There is a wide range of price (1-375000.) The median price is 9000, the mean is 12132, and the standard deviation is 10040, so there are high priced outliers skewing the distribution to the high end. "
   ]
  },
  {
   "cell_type": "markdown",
   "metadata": {},
   "source": [
    "Let's slice the vehicles with high prices above the Q3 level to compare the distribution of these vehicles with the entire data."
   ]
  },
  {
   "cell_type": "code",
   "execution_count": 528,
   "metadata": {
    "scrolled": true
   },
   "outputs": [
    {
     "data": {
      "image/png": "[encoded data removed]",
      "text/plain": [
       "<Figure size 432x288 with 1 Axes>"
      ]
     },
     "metadata": {
      "needs_background": "light"
     },
     "output_type": "display_data"
    },
    {
     "data": {
      "image/png": "[encoded data removed]",
      "text/plain": [
       "<Figure size 432x288 with 1 Axes>"
      ]
     },
     "metadata": {
      "needs_background": "light"
     },
     "output_type": "display_data"
    }
   ],
   "source": [
    "# Checking data with price values above 17000\n",
    "\n",
    "high_price_data = data.query('price > 17000')\n",
    "\n",
    "data.hist('price', bins=100)\n",
    "plt.show()\n",
    "\n",
    "high_price_data.hist('price', bins=100)\n",
    "plt.show()"
   ]
  },
  {
   "cell_type": "markdown",
   "metadata": {},
   "source": [
    "<div class=\"alert alert-block alert-success\">\n",
    "<b>Reviewer's comment</b> <a class=\"tocSkip\"></a>\n",
    "\n",
    "This bins count is much better)"
   ]
  },
  {
   "cell_type": "markdown",
   "metadata": {},
   "source": [
    "The distribution of prices above the Q3 level seems like a normal distribution. It looks like the reason these values ended up above Q3 is because something is unusual about the values below Q1 that must be skewing the mean and the median to the lower end."
   ]
  },
  {
   "cell_type": "markdown",
   "metadata": {},
   "source": [
    "Let's slice the vehicles with low mileage below the Q1 level to compare the distribution of these vehicles with the entire data."
   ]
  },
  {
   "cell_type": "code",
   "execution_count": 529,
   "metadata": {},
   "outputs": [
    {
     "data": {
      "image/png": "[encoded data removed]",
      "text/plain": [
       "<Figure size 432x288 with 1 Axes>"
      ]
     },
     "metadata": {
      "needs_background": "light"
     },
     "output_type": "display_data"
    },
    {
     "data": {
      "image/png": "[encoded data removed]",
      "text/plain": [
       "<Figure size 432x288 with 1 Axes>"
      ]
     },
     "metadata": {
      "needs_background": "light"
     },
     "output_type": "display_data"
    }
   ],
   "source": [
    "# Checking data with prices below 5000\n",
    "\n",
    "low_price_data = data.query('price < 5000')\n",
    "\n",
    "data.hist('price', bins=100)\n",
    "plt.show()\n",
    "low_price_data.hist('price', bins=100)\n",
    "plt.show()"
   ]
  },
  {
   "cell_type": "markdown",
   "metadata": {},
   "source": [
    "There is an overall upwards trend within the low_price_data, yet there are ten spikes of unusually high prices below the 25% level. Let's explore this data slice of low odometer levels to understand these spikes.\n",
    "We will look at the value counts to investigate where the high counts for these prices are coming from."
   ]
  },
  {
   "cell_type": "code",
   "execution_count": 530,
   "metadata": {},
   "outputs": [
    {
     "data": {
      "text/plain": [
       "1       798\n",
       "4995    624\n",
       "3500    620\n",
       "4500    608\n",
       "3995    512\n",
       "2500    476\n",
       "4000    364\n",
       "3000    357\n",
       "4900    304\n",
       "2995    277\n",
       "1500    247\n",
       "3900    243\n",
       "2000    216\n",
       "3800    203\n",
       "2900    186\n",
       "Name: price, dtype: int64"
      ]
     },
     "execution_count": 530,
     "metadata": {},
     "output_type": "execute_result"
    }
   ],
   "source": [
    "low_price_data['price'].value_counts().head(15)"
   ]
  },
  {
   "cell_type": "markdown",
   "metadata": {},
   "source": [
    "The spikes mostly represent values that seem reasonable for used car prices. There is, however, a surprisingly high value of cars priced at 1. This seems like an inaccuracy due to a technical or processing error.\n",
    "Let's graph prices by condition for low_price_data to explore these values further."
   ]
  },
  {
   "cell_type": "code",
   "execution_count": 531,
   "metadata": {},
   "outputs": [
    {
     "data": {
      "image/png": "[encoded data removed]",
      "text/plain": [
       "<Figure size 720x360 with 1 Axes>"
      ]
     },
     "metadata": {
      "needs_background": "light"
     },
     "output_type": "display_data"
    }
   ],
   "source": [
    "# Plotting low_price_data prices by condition\n",
    "\n",
    "low_price_data.pivot(values='price', columns='condition').boxplot(figsize=(10,5))\n",
    "plt.show()"
   ]
  },
  {
   "cell_type": "markdown",
   "metadata": {},
   "source": [
    "<div class=\"alert alert-block alert-warning\">\n",
    "<b>Reviewer's comment</b> <a class=\"tocSkip\"></a>\n",
    "\n",
    "Also possible to use boxplots in such cases, condition is a categorical variable  here)\n",
    "    \n",
    "And it will possibly be easier to make conclusions)"
   ]
  },
  {
   "cell_type": "markdown",
   "metadata": {},
   "source": [
    "<div class=\"alert alert-block alert-success\">\n",
    "<b>Reviewer's comment v.1.</b> <a class=\"tocSkip\"></a>\n",
    "\n",
    "More informative)"
   ]
  },
  {
   "cell_type": "markdown",
   "metadata": {},
   "source": [
    "There are prices are abnormally distributed based on condition. We would have expected to find higher prices at the condition level 5 (\"new\") and lower prices at condition level of 0 (\"salvage\"). Yet, there are low and high values throughout both of these columns. There are surprisingly low levels in the \"new\" column, such as values near 0. The data in low_price_data is therefore faulty and we need to exclude it from further analysis.\n",
    "Let's check the percentage of the low_price_data in the entire data."
   ]
  },
  {
   "cell_type": "code",
   "execution_count": 532,
   "metadata": {},
   "outputs": [
    {
     "data": {
      "text/plain": [
       "0.2490878037419455"
      ]
     },
     "execution_count": 532,
     "metadata": {},
     "output_type": "execute_result"
    }
   ],
   "source": [
    "# Checking the percentage of the low_price_data outliers data in the entire data\n",
    "\n",
    "len(low_price_data)/len(data)"
   ]
  },
  {
   "cell_type": "markdown",
   "metadata": {},
   "source": [
    "The data in low_price_data represents almost 25% of the data. This is a significant amount of data, but since it contains outliers that seem to be skewing the data, we need to slice the data to exclude data below the Q1 level for further analysis."
   ]
  },
  {
   "cell_type": "markdown",
   "metadata": {},
   "source": [
    "\n",
    "## Study and treat outliers"
   ]
  },
  {
   "cell_type": "markdown",
   "metadata": {},
   "source": [
    "The 'avg_mileage' and 'price' contain outliers that skew their distributions. We will therefore slice the data to exclude these outliers before we conduct further analysis."
   ]
  },
  {
   "cell_type": "markdown",
   "metadata": {},
   "source": [
    "There are abnormal avg_mileage values below the Q1 level in the avg_mileage distribution and they represent 2.6% of the entire data.\n",
    "We will, therefore, exclude these values from further analysis by slicing the data above the Q1 level."
   ]
  },
  {
   "cell_type": "code",
   "execution_count": 647,
   "metadata": {},
   "outputs": [
    {
     "data": {
      "image/png": "[encoded data removed]",
      "text/plain": [
       "<Figure size 432x288 with 1 Axes>"
      ]
     },
     "metadata": {
      "needs_background": "light"
     },
     "output_type": "display_data"
    },
    {
     "data": {
      "image/png": "[encoded data removed]",
      "text/plain": [
       "<Figure size 432x288 with 1 Axes>"
      ]
     },
     "metadata": {
      "needs_background": "light"
     },
     "output_type": "display_data"
    }
   ],
   "source": [
    "# Slicing the 'avg_mileage' data above the Q1 level of 73000\n",
    "\n",
    "new_odometer_data = data.query('avg_mileage > 73000')\n",
    "\n",
    "data.hist('avg_mileage', bins=100)\n",
    "plt.show()\n",
    "new_odometer_data.hist('avg_mileage', bins=100)\n",
    "plt.show()"
   ]
  },
  {
   "cell_type": "markdown",
   "metadata": {},
   "source": [
    "The 'price' data is also skewed by outliers below the Q1 level. Even though this data represents 25% of the data, we need to to exclude these outliers by slicing the data above the Q1 level for further analysis."
   ]
  },
  {
   "cell_type": "code",
   "execution_count": 534,
   "metadata": {},
   "outputs": [
    {
     "data": {
      "image/png": "[encoded data removed]",
      "text/plain": [
       "<Figure size 432x288 with 1 Axes>"
      ]
     },
     "metadata": {
      "needs_background": "light"
     },
     "output_type": "display_data"
    },
    {
     "data": {
      "image/png": "[encoded data removed]",
      "text/plain": [
       "<Figure size 432x288 with 1 Axes>"
      ]
     },
     "metadata": {
      "needs_background": "light"
     },
     "output_type": "display_data"
    }
   ],
   "source": [
    "# Slicing the 'price' data above the Q1 level of 5000 using the new_odometer_data\n",
    "\n",
    "new_price_data = new_odometer_data.query('price > 5000')\n",
    "\n",
    "data.hist('price', bins=100)\n",
    "plt.show()\n",
    "new_price_data.hist('price', bins=100)\n",
    "plt.show()"
   ]
  },
  {
   "cell_type": "markdown",
   "metadata": {},
   "source": [
    "<div class=\"alert alert-block alert-success\">\n",
    "<b>Reviewer's comment</b> <a class=\"tocSkip\"></a>\n",
    "\n",
    "Pretty good part)"
   ]
  },
  {
   "cell_type": "markdown",
   "metadata": {},
   "source": [
    "## Study core parameters without outliers"
   ]
  },
  {
   "cell_type": "markdown",
   "metadata": {},
   "source": [
    "Let's compare the distributions in the newly created data compared to the original data that included outliers."
   ]
  },
  {
   "cell_type": "code",
   "execution_count": 648,
   "metadata": {},
   "outputs": [
    {
     "data": {
      "image/png": "[encoded data removed]",
      "text/plain": [
       "<Figure size 432x288 with 1 Axes>"
      ]
     },
     "metadata": {
      "needs_background": "light"
     },
     "output_type": "display_data"
    }
   ],
   "source": [
    "# Plotting new and old data for avg_mileage to check distribution\n",
    "\n",
    "fig, ax = plt.subplots(1, 1)\n",
    "ax.hist(data['avg_mileage'], bins=100)\n",
    "ax.hist(new_price_data['avg_mileage'], bins=100)\n",
    "ax.set_title('Comparing mileage in new and original data')\n",
    "ax.set_xlabel('avg_mileage')\n",
    "ax.set_ylabel('frequency')\n",
    "plt.show()"
   ]
  },
  {
   "cell_type": "markdown",
   "metadata": {},
   "source": [
    "Let's explore the distributions of 'price' in the newly created data compared to the original data."
   ]
  },
  {
   "cell_type": "code",
   "execution_count": 536,
   "metadata": {},
   "outputs": [
    {
     "data": {
      "image/png": "[encoded data removed]",
      "text/plain": [
       "<Figure size 432x288 with 1 Axes>"
      ]
     },
     "metadata": {
      "needs_background": "light"
     },
     "output_type": "display_data"
    }
   ],
   "source": [
    "# Plotting new and old data for price to check distribution\n",
    "\n",
    "fig, ax = plt.subplots(1, 1)\n",
    "ax.hist(data['price'], bins=100)\n",
    "ax.hist(new_price_data['price'], bins=100)\n",
    "ax.set_title('Comparing price in new and original data')\n",
    "ax.set_xlabel('price')\n",
    "ax.set_ylabel('frequency')\n",
    "plt.show()"
   ]
  },
  {
   "cell_type": "markdown",
   "metadata": {},
   "source": [
    "The distribution of new_price_data has less outliers which will enable more accurate further analysis."
   ]
  },
  {
   "cell_type": "markdown",
   "metadata": {},
   "source": [
    "<div class=\"alert alert-block alert-danger\">\n",
    "<b>Reviewer's comment</b> <a class=\"tocSkip\"></a>\n",
    "\n",
    "Please, don't forget to add titles ans axises names for each plot) "
   ]
  },
  {
   "cell_type": "markdown",
   "metadata": {},
   "source": [
    "<div class=\"alert alert-block alert-success\">\n",
    "<b>Reviewer's comment v.1.</b> <a class=\"tocSkip\"></a>\n",
    "\n",
    "Great corrections)"
   ]
  },
  {
   "cell_type": "markdown",
   "metadata": {},
   "source": [
    "## Ads lifetime"
   ]
  },
  {
   "cell_type": "markdown",
   "metadata": {},
   "source": [
    "Let's explore how many days advertisements were displayed (days_listed). We want to describe the typical lifetime of an ad and determine when ads were removed quickly or listed for an abnormally long time."
   ]
  },
  {
   "cell_type": "code",
   "execution_count": 537,
   "metadata": {
    "scrolled": true
   },
   "outputs": [
    {
     "data": {
      "text/plain": [
       "count    51524.000000\n",
       "mean        39.554382\n",
       "std         28.204413\n",
       "min          0.000000\n",
       "25%         19.000000\n",
       "50%         33.000000\n",
       "75%         53.000000\n",
       "max        271.000000\n",
       "Name: days_listed, dtype: float64"
      ]
     },
     "execution_count": 537,
     "metadata": {},
     "output_type": "execute_result"
    }
   ],
   "source": [
    "data['days_listed'].describe()"
   ]
  },
  {
   "cell_type": "markdown",
   "metadata": {},
   "source": [
    "The typical lifetime of an ad shows a mean of 39 days, and a median of 33 days. The range is between 0 and 271. There are significant outliers here.\n",
    "Let's explore 'days_listed' through a histogram and a boxplot."
   ]
  },
  {
   "cell_type": "code",
   "execution_count": 538,
   "metadata": {},
   "outputs": [
    {
     "data": {
      "image/png": "[encoded data removed]",
      "text/plain": [
       "<Figure size 432x288 with 1 Axes>"
      ]
     },
     "metadata": {
      "needs_background": "light"
     },
     "output_type": "display_data"
    }
   ],
   "source": [
    "# Plotting the distribution of 'days_listed'\n",
    "\n",
    "hist_plot(data, 'days_listed')"
   ]
  },
  {
   "cell_type": "code",
   "execution_count": 539,
   "metadata": {},
   "outputs": [
    {
     "data": {
      "text/plain": [
       "<AxesSubplot:>"
      ]
     },
     "execution_count": 539,
     "metadata": {},
     "output_type": "execute_result"
    },
    {
     "data": {
      "image/png": "[encoded data removed]",
      "text/plain": [
       "<Figure size 432x288 with 1 Axes>"
      ]
     },
     "metadata": {
      "needs_background": "light"
     },
     "output_type": "display_data"
    }
   ],
   "source": [
    "# Exploring the distribution of 'days_listed' with a boxplot\n",
    "\n",
    "data.boxplot(column='days_listed')"
   ]
  },
  {
   "cell_type": "markdown",
   "metadata": {},
   "source": [
    "There are significant outliers above the Q3 level skewing the mean to the higher end.\n",
    "Let's explore these outliers further by slicing the data above the Q3 level."
   ]
  },
  {
   "cell_type": "code",
   "execution_count": 540,
   "metadata": {},
   "outputs": [
    {
     "data": {
      "image/png": "[encoded data removed]",
      "text/plain": [
       "<Figure size 432x288 with 1 Axes>"
      ]
     },
     "metadata": {
      "needs_background": "light"
     },
     "output_type": "display_data"
    },
    {
     "data": {
      "image/png": "[encoded data removed]",
      "text/plain": [
       "<Figure size 432x288 with 1 Axes>"
      ]
     },
     "metadata": {
      "needs_background": "light"
     },
     "output_type": "display_data"
    }
   ],
   "source": [
    "# Checking data with 'days_listed' above Q3\n",
    "\n",
    "high_days_listed_data = data.query('days_listed > 53')\n",
    "\n",
    "data.hist('days_listed', bins=100)\n",
    "plt.show()\n",
    "\n",
    "high_days_listed_data.hist('days_listed', bins=100)\n",
    "plt.show()"
   ]
  },
  {
   "cell_type": "markdown",
   "metadata": {},
   "source": [
    "The distribution of ads lifetime for days_listed longer than 53 days looks similar to the distribution of the entire data. Let's check the statistical distribution of the data of days_listed for a long time with data of ads posted less than 53 days to compare the distributions. Let's create a data slice with days_listed at or below 53 to compare it with the data of high_days_listed."
   ]
  },
  {
   "cell_type": "code",
   "execution_count": 541,
   "metadata": {},
   "outputs": [
    {
     "data": {
      "image/png": "[encoded data removed]",
      "text/plain": [
       "<Figure size 432x288 with 1 Axes>"
      ]
     },
     "metadata": {
      "needs_background": "light"
     },
     "output_type": "display_data"
    },
    {
     "data": {
      "image/png": "[encoded data removed]",
      "text/plain": [
       "<Figure size 432x288 with 1 Axes>"
      ]
     },
     "metadata": {
      "needs_background": "light"
     },
     "output_type": "display_data"
    }
   ],
   "source": [
    "# Checking data with 'days_listed' at or below 53\n",
    "\n",
    "low_days_listed_data = data.query('days_listed <= 53')\n",
    "\n",
    "data.hist('days_listed', bins=100)\n",
    "plt.show()\n",
    "\n",
    "low_days_listed_data.hist('days_listed', bins=100)\n",
    "plt.show()"
   ]
  },
  {
   "cell_type": "markdown",
   "metadata": {},
   "source": [
    "When the data excludes the high end outliers there is a more normal distribution. Let's compare the means for condition and age for data and low_days_listed_data."
   ]
  },
  {
   "cell_type": "code",
   "execution_count": 542,
   "metadata": {},
   "outputs": [
    {
     "data": {
      "text/html": [
       "<div>\n",
       "<style scoped>\n",
       "    .dataframe tbody tr th:only-of-type {\n",
       "        vertical-align: middle;\n",
       "    }\n",
       "\n",
       "    .dataframe tbody tr th {\n",
       "        vertical-align: top;\n",
       "    }\n",
       "\n",
       "    .dataframe thead th {\n",
       "        text-align: right;\n",
       "    }\n",
       "</style>\n",
       "<table border=\"1\" class=\"dataframe\">\n",
       "  <thead>\n",
       "    <tr style=\"text-align: right;\">\n",
       "      <th></th>\n",
       "      <th>price</th>\n",
       "      <th>model_year</th>\n",
       "      <th>condition</th>\n",
       "      <th>cylinders</th>\n",
       "      <th>odometer</th>\n",
       "      <th>is_4wd</th>\n",
       "      <th>days_listed</th>\n",
       "      <th>model_year_new</th>\n",
       "      <th>odometer_new</th>\n",
       "      <th>year_posted</th>\n",
       "      <th>age</th>\n",
       "      <th>avg_mileage</th>\n",
       "    </tr>\n",
       "  </thead>\n",
       "  <tbody>\n",
       "    <tr>\n",
       "      <th>count</th>\n",
       "      <td>12806.000000</td>\n",
       "      <td>12806.000000</td>\n",
       "      <td>12806.000000</td>\n",
       "      <td>12806.000000</td>\n",
       "      <td>12806.000000</td>\n",
       "      <td>12806.000000</td>\n",
       "      <td>12806.000000</td>\n",
       "      <td>12806.000000</td>\n",
       "      <td>12806.000000</td>\n",
       "      <td>12806.000000</td>\n",
       "      <td>12806.000000</td>\n",
       "      <td>12806.000000</td>\n",
       "    </tr>\n",
       "    <tr>\n",
       "      <th>mean</th>\n",
       "      <td>12133.614087</td>\n",
       "      <td>2009.790255</td>\n",
       "      <td>2.637982</td>\n",
       "      <td>6.134312</td>\n",
       "      <td>115452.593784</td>\n",
       "      <td>0.497735</td>\n",
       "      <td>78.782680</td>\n",
       "      <td>2009.790255</td>\n",
       "      <td>115452.681460</td>\n",
       "      <td>2018.313056</td>\n",
       "      <td>9.522802</td>\n",
       "      <td>115452.593784</td>\n",
       "    </tr>\n",
       "    <tr>\n",
       "      <th>std</th>\n",
       "      <td>9981.682935</td>\n",
       "      <td>6.092984</td>\n",
       "      <td>0.711246</td>\n",
       "      <td>1.663654</td>\n",
       "      <td>60752.770686</td>\n",
       "      <td>0.500014</td>\n",
       "      <td>24.294854</td>\n",
       "      <td>6.092984</td>\n",
       "      <td>60752.767164</td>\n",
       "      <td>0.463755</td>\n",
       "      <td>6.108436</td>\n",
       "      <td>60752.770686</td>\n",
       "    </tr>\n",
       "    <tr>\n",
       "      <th>min</th>\n",
       "      <td>1.000000</td>\n",
       "      <td>1955.000000</td>\n",
       "      <td>0.000000</td>\n",
       "      <td>3.000000</td>\n",
       "      <td>0.000000</td>\n",
       "      <td>0.000000</td>\n",
       "      <td>54.000000</td>\n",
       "      <td>1955.000000</td>\n",
       "      <td>0.000000</td>\n",
       "      <td>2018.000000</td>\n",
       "      <td>1.000000</td>\n",
       "      <td>0.000000</td>\n",
       "    </tr>\n",
       "    <tr>\n",
       "      <th>25%</th>\n",
       "      <td>4999.000000</td>\n",
       "      <td>2007.000000</td>\n",
       "      <td>2.000000</td>\n",
       "      <td>4.000000</td>\n",
       "      <td>73711.250000</td>\n",
       "      <td>0.000000</td>\n",
       "      <td>61.000000</td>\n",
       "      <td>2007.000000</td>\n",
       "      <td>73711.250000</td>\n",
       "      <td>2018.000000</td>\n",
       "      <td>5.000000</td>\n",
       "      <td>73711.250000</td>\n",
       "    </tr>\n",
       "    <tr>\n",
       "      <th>50%</th>\n",
       "      <td>9300.000000</td>\n",
       "      <td>2011.000000</td>\n",
       "      <td>3.000000</td>\n",
       "      <td>6.000000</td>\n",
       "      <td>114161.500000</td>\n",
       "      <td>0.000000</td>\n",
       "      <td>72.000000</td>\n",
       "      <td>2011.000000</td>\n",
       "      <td>114161.500000</td>\n",
       "      <td>2018.000000</td>\n",
       "      <td>8.000000</td>\n",
       "      <td>114161.500000</td>\n",
       "    </tr>\n",
       "    <tr>\n",
       "      <th>75%</th>\n",
       "      <td>16800.000000</td>\n",
       "      <td>2014.000000</td>\n",
       "      <td>3.000000</td>\n",
       "      <td>8.000000</td>\n",
       "      <td>151881.000000</td>\n",
       "      <td>1.000000</td>\n",
       "      <td>89.000000</td>\n",
       "      <td>2014.000000</td>\n",
       "      <td>151881.764877</td>\n",
       "      <td>2019.000000</td>\n",
       "      <td>13.000000</td>\n",
       "      <td>151881.000000</td>\n",
       "    </tr>\n",
       "    <tr>\n",
       "      <th>max</th>\n",
       "      <td>189000.000000</td>\n",
       "      <td>2019.000000</td>\n",
       "      <td>5.000000</td>\n",
       "      <td>10.000000</td>\n",
       "      <td>700047.000000</td>\n",
       "      <td>1.000000</td>\n",
       "      <td>271.000000</td>\n",
       "      <td>2019.000000</td>\n",
       "      <td>700047.000000</td>\n",
       "      <td>2019.000000</td>\n",
       "      <td>64.000000</td>\n",
       "      <td>700047.000000</td>\n",
       "    </tr>\n",
       "  </tbody>\n",
       "</table>\n",
       "</div>"
      ],
      "text/plain": [
       "               price    model_year     condition     cylinders       odometer  \\\n",
       "count   12806.000000  12806.000000  12806.000000  12806.000000   12806.000000   \n",
       "mean    12133.614087   2009.790255      2.637982      6.134312  115452.593784   \n",
       "std      9981.682935      6.092984      0.711246      1.663654   60752.770686   \n",
       "min         1.000000   1955.000000      0.000000      3.000000       0.000000   \n",
       "25%      4999.000000   2007.000000      2.000000      4.000000   73711.250000   \n",
       "50%      9300.000000   2011.000000      3.000000      6.000000  114161.500000   \n",
       "75%     16800.000000   2014.000000      3.000000      8.000000  151881.000000   \n",
       "max    189000.000000   2019.000000      5.000000     10.000000  700047.000000   \n",
       "\n",
       "             is_4wd   days_listed  model_year_new   odometer_new  \\\n",
       "count  12806.000000  12806.000000    12806.000000   12806.000000   \n",
       "mean       0.497735     78.782680     2009.790255  115452.681460   \n",
       "std        0.500014     24.294854        6.092984   60752.767164   \n",
       "min        0.000000     54.000000     1955.000000       0.000000   \n",
       "25%        0.000000     61.000000     2007.000000   73711.250000   \n",
       "50%        0.000000     72.000000     2011.000000  114161.500000   \n",
       "75%        1.000000     89.000000     2014.000000  151881.764877   \n",
       "max        1.000000    271.000000     2019.000000  700047.000000   \n",
       "\n",
       "        year_posted           age    avg_mileage  \n",
       "count  12806.000000  12806.000000   12806.000000  \n",
       "mean    2018.313056      9.522802  115452.593784  \n",
       "std        0.463755      6.108436   60752.770686  \n",
       "min     2018.000000      1.000000       0.000000  \n",
       "25%     2018.000000      5.000000   73711.250000  \n",
       "50%     2018.000000      8.000000  114161.500000  \n",
       "75%     2019.000000     13.000000  151881.000000  \n",
       "max     2019.000000     64.000000  700047.000000  "
      ]
     },
     "execution_count": 542,
     "metadata": {},
     "output_type": "execute_result"
    }
   ],
   "source": [
    "high_days_listed_data.describe()"
   ]
  },
  {
   "cell_type": "code",
   "execution_count": 543,
   "metadata": {},
   "outputs": [
    {
     "data": {
      "text/html": [
       "<div>\n",
       "<style scoped>\n",
       "    .dataframe tbody tr th:only-of-type {\n",
       "        vertical-align: middle;\n",
       "    }\n",
       "\n",
       "    .dataframe tbody tr th {\n",
       "        vertical-align: top;\n",
       "    }\n",
       "\n",
       "    .dataframe thead th {\n",
       "        text-align: right;\n",
       "    }\n",
       "</style>\n",
       "<table border=\"1\" class=\"dataframe\">\n",
       "  <thead>\n",
       "    <tr style=\"text-align: right;\">\n",
       "      <th></th>\n",
       "      <th>price</th>\n",
       "      <th>model_year</th>\n",
       "      <th>condition</th>\n",
       "      <th>cylinders</th>\n",
       "      <th>odometer</th>\n",
       "      <th>is_4wd</th>\n",
       "      <th>days_listed</th>\n",
       "      <th>model_year_new</th>\n",
       "      <th>odometer_new</th>\n",
       "      <th>year_posted</th>\n",
       "      <th>age</th>\n",
       "      <th>avg_mileage</th>\n",
       "    </tr>\n",
       "  </thead>\n",
       "  <tbody>\n",
       "    <tr>\n",
       "      <th>count</th>\n",
       "      <td>38718.000000</td>\n",
       "      <td>38718.000000</td>\n",
       "      <td>38718.000000</td>\n",
       "      <td>38718.000000</td>\n",
       "      <td>38718.000000</td>\n",
       "      <td>38718.000000</td>\n",
       "      <td>38718.000000</td>\n",
       "      <td>38718.000000</td>\n",
       "      <td>38718.000000</td>\n",
       "      <td>38718.000000</td>\n",
       "      <td>38718.000000</td>\n",
       "      <td>38718.000000</td>\n",
       "    </tr>\n",
       "    <tr>\n",
       "      <th>mean</th>\n",
       "      <td>12131.933287</td>\n",
       "      <td>2009.827160</td>\n",
       "      <td>2.637404</td>\n",
       "      <td>6.116638</td>\n",
       "      <td>115591.947415</td>\n",
       "      <td>0.495842</td>\n",
       "      <td>26.579601</td>\n",
       "      <td>2009.827160</td>\n",
       "      <td>115592.038160</td>\n",
       "      <td>2018.305620</td>\n",
       "      <td>9.478460</td>\n",
       "      <td>115591.947415</td>\n",
       "    </tr>\n",
       "    <tr>\n",
       "      <th>std</th>\n",
       "      <td>10060.494143</td>\n",
       "      <td>6.077415</td>\n",
       "      <td>0.712855</td>\n",
       "      <td>1.655393</td>\n",
       "      <td>62243.008672</td>\n",
       "      <td>0.499989</td>\n",
       "      <td>13.640057</td>\n",
       "      <td>6.077415</td>\n",
       "      <td>62243.005682</td>\n",
       "      <td>0.460676</td>\n",
       "      <td>6.091076</td>\n",
       "      <td>62243.008672</td>\n",
       "    </tr>\n",
       "    <tr>\n",
       "      <th>min</th>\n",
       "      <td>1.000000</td>\n",
       "      <td>1908.000000</td>\n",
       "      <td>0.000000</td>\n",
       "      <td>3.000000</td>\n",
       "      <td>0.000000</td>\n",
       "      <td>0.000000</td>\n",
       "      <td>0.000000</td>\n",
       "      <td>1908.000000</td>\n",
       "      <td>0.000000</td>\n",
       "      <td>2018.000000</td>\n",
       "      <td>1.000000</td>\n",
       "      <td>0.000000</td>\n",
       "    </tr>\n",
       "    <tr>\n",
       "      <th>25%</th>\n",
       "      <td>5000.000000</td>\n",
       "      <td>2007.000000</td>\n",
       "      <td>2.000000</td>\n",
       "      <td>4.000000</td>\n",
       "      <td>73500.000000</td>\n",
       "      <td>0.000000</td>\n",
       "      <td>15.000000</td>\n",
       "      <td>2007.000000</td>\n",
       "      <td>73500.000000</td>\n",
       "      <td>2018.000000</td>\n",
       "      <td>5.000000</td>\n",
       "      <td>73500.000000</td>\n",
       "    </tr>\n",
       "    <tr>\n",
       "      <th>50%</th>\n",
       "      <td>9000.000000</td>\n",
       "      <td>2011.000000</td>\n",
       "      <td>3.000000</td>\n",
       "      <td>6.000000</td>\n",
       "      <td>113649.000000</td>\n",
       "      <td>0.000000</td>\n",
       "      <td>26.000000</td>\n",
       "      <td>2011.000000</td>\n",
       "      <td>113649.000000</td>\n",
       "      <td>2018.000000</td>\n",
       "      <td>8.000000</td>\n",
       "      <td>113649.000000</td>\n",
       "    </tr>\n",
       "    <tr>\n",
       "      <th>75%</th>\n",
       "      <td>16860.750000</td>\n",
       "      <td>2014.000000</td>\n",
       "      <td>3.000000</td>\n",
       "      <td>8.000000</td>\n",
       "      <td>151881.000000</td>\n",
       "      <td>1.000000</td>\n",
       "      <td>37.000000</td>\n",
       "      <td>2014.000000</td>\n",
       "      <td>151881.764877</td>\n",
       "      <td>2019.000000</td>\n",
       "      <td>13.000000</td>\n",
       "      <td>151881.000000</td>\n",
       "    </tr>\n",
       "    <tr>\n",
       "      <th>max</th>\n",
       "      <td>375000.000000</td>\n",
       "      <td>2019.000000</td>\n",
       "      <td>5.000000</td>\n",
       "      <td>12.000000</td>\n",
       "      <td>990000.000000</td>\n",
       "      <td>1.000000</td>\n",
       "      <td>53.000000</td>\n",
       "      <td>2019.000000</td>\n",
       "      <td>990000.000000</td>\n",
       "      <td>2019.000000</td>\n",
       "      <td>111.000000</td>\n",
       "      <td>990000.000000</td>\n",
       "    </tr>\n",
       "  </tbody>\n",
       "</table>\n",
       "</div>"
      ],
      "text/plain": [
       "               price    model_year     condition     cylinders       odometer  \\\n",
       "count   38718.000000  38718.000000  38718.000000  38718.000000   38718.000000   \n",
       "mean    12131.933287   2009.827160      2.637404      6.116638  115591.947415   \n",
       "std     10060.494143      6.077415      0.712855      1.655393   62243.008672   \n",
       "min         1.000000   1908.000000      0.000000      3.000000       0.000000   \n",
       "25%      5000.000000   2007.000000      2.000000      4.000000   73500.000000   \n",
       "50%      9000.000000   2011.000000      3.000000      6.000000  113649.000000   \n",
       "75%     16860.750000   2014.000000      3.000000      8.000000  151881.000000   \n",
       "max    375000.000000   2019.000000      5.000000     12.000000  990000.000000   \n",
       "\n",
       "             is_4wd   days_listed  model_year_new   odometer_new  \\\n",
       "count  38718.000000  38718.000000    38718.000000   38718.000000   \n",
       "mean       0.495842     26.579601     2009.827160  115592.038160   \n",
       "std        0.499989     13.640057        6.077415   62243.005682   \n",
       "min        0.000000      0.000000     1908.000000       0.000000   \n",
       "25%        0.000000     15.000000     2007.000000   73500.000000   \n",
       "50%        0.000000     26.000000     2011.000000  113649.000000   \n",
       "75%        1.000000     37.000000     2014.000000  151881.764877   \n",
       "max        1.000000     53.000000     2019.000000  990000.000000   \n",
       "\n",
       "        year_posted           age    avg_mileage  \n",
       "count  38718.000000  38718.000000   38718.000000  \n",
       "mean    2018.305620      9.478460  115591.947415  \n",
       "std        0.460676      6.091076   62243.008672  \n",
       "min     2018.000000      1.000000       0.000000  \n",
       "25%     2018.000000      5.000000   73500.000000  \n",
       "50%     2018.000000      8.000000  113649.000000  \n",
       "75%     2019.000000     13.000000  151881.000000  \n",
       "max     2019.000000    111.000000  990000.000000  "
      ]
     },
     "execution_count": 543,
     "metadata": {},
     "output_type": "execute_result"
    }
   ],
   "source": [
    "low_days_listed_data.describe()"
   ]
  },
  {
   "cell_type": "markdown",
   "metadata": {},
   "source": [
    "Interestingly, the high_days_listed_data does not seem to vary significantly from the distribution of the entire data.  We might have expected that the ads remained longer because the vehicles were of poor quality. Yet, in both, the mean condition was 2.6 and the mean age was 8.5. Although a high price might caused the ad to remain londer, the mean for price was the same as well. It looks like removing the high end data does not signicantly affect the distribution."
   ]
  },
  {
   "cell_type": "markdown",
   "metadata": {},
   "source": [
    "A comparison of the data of ads with significantly higher days listed and ads with lower days listed does not show a reason for why the ads would remain listed for relatively more days."
   ]
  },
  {
   "cell_type": "markdown",
   "metadata": {},
   "source": [
    "<div class=\"alert alert-block alert-success\">\n",
    "<b>Reviewer's comment</b> <a class=\"tocSkip\"></a>\n",
    "\n",
    "I agree with you conclusions)\n",
    "   "
   ]
  },
  {
   "cell_type": "markdown",
   "metadata": {},
   "source": [
    "## Average price per each type of vehicle"
   ]
  },
  {
   "cell_type": "markdown",
   "metadata": {},
   "source": [
    "Let's find the most popular type of vehicles listed. We will plot a graph showing the dependence of the number of ads on the vehicle type and select the two types with the greatest number of ads."
   ]
  },
  {
   "cell_type": "code",
   "execution_count": 651,
   "metadata": {},
   "outputs": [
    {
     "data": {
      "image/png": "[encoded data removed]",
      "text/plain": [
       "<Figure size 432x288 with 1 Axes>"
      ]
     },
     "metadata": {
      "needs_background": "light"
     },
     "output_type": "display_data"
    }
   ],
   "source": [
    "# Plotting the distribution of vehicle type\n",
    "\n",
    "hist_plot(new_price_data,'type')"
   ]
  },
  {
   "cell_type": "markdown",
   "metadata": {},
   "source": [
    "<div class=\"alert alert-block alert-danger\">\n",
    "<b>Reviewer's comment</b> <a class=\"tocSkip\"></a>\n",
    "\n",
    "It's possible to rotate xtixks or increase the plot size.\n",
    "\n",
    "Also, if we have more than 10 model types, it's incorrect to use 10 bins. Please, try to fix it)\n",
    "    \n",
    "    \n",
    "On the other hand, brief suggests to study not model, but type of vehicles. It makes sense, cause you'll possibly get more data for each type. More data will increase the quolity of the next research) Please, try to change model into type here) "
   ]
  },
  {
   "cell_type": "markdown",
   "metadata": {},
   "source": [
    "<div class=\"alert alert-block alert-info\">\n",
    "<b>Student answer.</b> <a class=\"tocSkip\"></a>\n",
    "\n",
    "Thank you! I was looking at the list of fields in the intialization section of the project and there was an error. One field was 'transmission type' instead of 'transmission' and 'type'. The field 'type' was accidentally added to transmission. Since it read 'transmission type' and it was missing 'type' as a field, I didn't realize I could use type so I used model. After you pointed this out, I saw the error and fixed it. I appreciate it!\n",
    "</div>"
   ]
  },
  {
   "cell_type": "markdown",
   "metadata": {},
   "source": [
    "<div class=\"alert alert-block alert-success\">\n",
    "<b>Reviewer's comment v.1.</b> <a class=\"tocSkip\"></a>\n",
    "\n",
    "Thanks for your answer) Happy to help you)"
   ]
  },
  {
   "cell_type": "code",
   "execution_count": 652,
   "metadata": {},
   "outputs": [
    {
     "data": {
      "text/plain": [
       "truck          0.299996\n",
       "SUV            0.256082\n",
       "sedan          0.170400\n",
       "pickup         0.150924\n",
       "wagon          0.031621\n",
       "coupe          0.024438\n",
       "mini-van       0.020513\n",
       "hatchback      0.015033\n",
       "van            0.013034\n",
       "convertible    0.007072\n",
       "other          0.005332\n",
       "offroad        0.005258\n",
       "bus            0.000296\n",
       "Name: type, dtype: float64"
      ]
     },
     "execution_count": 652,
     "metadata": {},
     "output_type": "execute_result"
    }
   ],
   "source": [
    "# Identifying the most common vehicle types\n",
    "\n",
    "new_price_data['type'].value_counts(normalize=True)"
   ]
  },
  {
   "cell_type": "markdown",
   "metadata": {},
   "source": [
    "The two most popular types are SUV (25.6%) and truck (29.9%).\n",
    "Let's find the average price for each type. First, we will slice the data to extract the data for the SUV and truck."
   ]
  },
  {
   "cell_type": "markdown",
   "metadata": {},
   "source": [
    "<div class=\"alert alert-block alert-success\">\n",
    "<b>Reviewer's comment</b> <a class=\"tocSkip\"></a>\n",
    "\n",
    "This plot is much better)"
   ]
  },
  {
   "cell_type": "code",
   "execution_count": 653,
   "metadata": {},
   "outputs": [
    {
     "data": {
      "text/html": [
       "<div>\n",
       "<style scoped>\n",
       "    .dataframe tbody tr th:only-of-type {\n",
       "        vertical-align: middle;\n",
       "    }\n",
       "\n",
       "    .dataframe tbody tr th {\n",
       "        vertical-align: top;\n",
       "    }\n",
       "\n",
       "    .dataframe thead th {\n",
       "        text-align: right;\n",
       "    }\n",
       "</style>\n",
       "<table border=\"1\" class=\"dataframe\">\n",
       "  <thead>\n",
       "    <tr style=\"text-align: right;\">\n",
       "      <th></th>\n",
       "      <th>price</th>\n",
       "      <th>model_year</th>\n",
       "      <th>model</th>\n",
       "      <th>condition</th>\n",
       "      <th>cylinders</th>\n",
       "      <th>fuel</th>\n",
       "      <th>odometer</th>\n",
       "      <th>transmission</th>\n",
       "      <th>type</th>\n",
       "      <th>paint_color</th>\n",
       "      <th>is_4wd</th>\n",
       "      <th>date_posted</th>\n",
       "      <th>days_listed</th>\n",
       "      <th>model_year_new</th>\n",
       "      <th>odometer_new</th>\n",
       "      <th>year_posted</th>\n",
       "      <th>age</th>\n",
       "      <th>avg_mileage</th>\n",
       "    </tr>\n",
       "  </thead>\n",
       "  <tbody>\n",
       "    <tr>\n",
       "      <th>0</th>\n",
       "      <td>9400</td>\n",
       "      <td>2011</td>\n",
       "      <td>bmw x5</td>\n",
       "      <td>2</td>\n",
       "      <td>6</td>\n",
       "      <td>gas</td>\n",
       "      <td>145000</td>\n",
       "      <td>automatic</td>\n",
       "      <td>SUV</td>\n",
       "      <td>unknown</td>\n",
       "      <td>1</td>\n",
       "      <td>2018-06-23</td>\n",
       "      <td>19</td>\n",
       "      <td>2011.0</td>\n",
       "      <td>145000.000000</td>\n",
       "      <td>2018</td>\n",
       "      <td>8</td>\n",
       "      <td>145000</td>\n",
       "    </tr>\n",
       "    <tr>\n",
       "      <th>7</th>\n",
       "      <td>15990</td>\n",
       "      <td>2013</td>\n",
       "      <td>honda pilot</td>\n",
       "      <td>3</td>\n",
       "      <td>6</td>\n",
       "      <td>gas</td>\n",
       "      <td>109473</td>\n",
       "      <td>automatic</td>\n",
       "      <td>SUV</td>\n",
       "      <td>black</td>\n",
       "      <td>1</td>\n",
       "      <td>2019-01-07</td>\n",
       "      <td>68</td>\n",
       "      <td>2013.0</td>\n",
       "      <td>109473.000000</td>\n",
       "      <td>2019</td>\n",
       "      <td>7</td>\n",
       "      <td>109473</td>\n",
       "    </tr>\n",
       "    <tr>\n",
       "      <th>8</th>\n",
       "      <td>11500</td>\n",
       "      <td>2012</td>\n",
       "      <td>kia sorento</td>\n",
       "      <td>3</td>\n",
       "      <td>4</td>\n",
       "      <td>gas</td>\n",
       "      <td>104174</td>\n",
       "      <td>automatic</td>\n",
       "      <td>SUV</td>\n",
       "      <td>unknown</td>\n",
       "      <td>1</td>\n",
       "      <td>2018-07-16</td>\n",
       "      <td>19</td>\n",
       "      <td>2012.0</td>\n",
       "      <td>104174.000000</td>\n",
       "      <td>2018</td>\n",
       "      <td>7</td>\n",
       "      <td>104174</td>\n",
       "    </tr>\n",
       "    <tr>\n",
       "      <th>9</th>\n",
       "      <td>9200</td>\n",
       "      <td>2008</td>\n",
       "      <td>honda pilot</td>\n",
       "      <td>3</td>\n",
       "      <td>6</td>\n",
       "      <td>gas</td>\n",
       "      <td>147191</td>\n",
       "      <td>automatic</td>\n",
       "      <td>SUV</td>\n",
       "      <td>blue</td>\n",
       "      <td>1</td>\n",
       "      <td>2019-02-15</td>\n",
       "      <td>17</td>\n",
       "      <td>2008.0</td>\n",
       "      <td>147191.000000</td>\n",
       "      <td>2019</td>\n",
       "      <td>12</td>\n",
       "      <td>147191</td>\n",
       "    </tr>\n",
       "    <tr>\n",
       "      <th>14</th>\n",
       "      <td>12990</td>\n",
       "      <td>2009</td>\n",
       "      <td>gmc yukon</td>\n",
       "      <td>3</td>\n",
       "      <td>8</td>\n",
       "      <td>gas</td>\n",
       "      <td>132285</td>\n",
       "      <td>automatic</td>\n",
       "      <td>SUV</td>\n",
       "      <td>black</td>\n",
       "      <td>1</td>\n",
       "      <td>2019-01-31</td>\n",
       "      <td>24</td>\n",
       "      <td>2009.0</td>\n",
       "      <td>132285.000000</td>\n",
       "      <td>2019</td>\n",
       "      <td>11</td>\n",
       "      <td>132285</td>\n",
       "    </tr>\n",
       "    <tr>\n",
       "      <th>...</th>\n",
       "      <td>...</td>\n",
       "      <td>...</td>\n",
       "      <td>...</td>\n",
       "      <td>...</td>\n",
       "      <td>...</td>\n",
       "      <td>...</td>\n",
       "      <td>...</td>\n",
       "      <td>...</td>\n",
       "      <td>...</td>\n",
       "      <td>...</td>\n",
       "      <td>...</td>\n",
       "      <td>...</td>\n",
       "      <td>...</td>\n",
       "      <td>...</td>\n",
       "      <td>...</td>\n",
       "      <td>...</td>\n",
       "      <td>...</td>\n",
       "      <td>...</td>\n",
       "    </tr>\n",
       "    <tr>\n",
       "      <th>51494</th>\n",
       "      <td>7999</td>\n",
       "      <td>2009</td>\n",
       "      <td>chevrolet equinox</td>\n",
       "      <td>3</td>\n",
       "      <td>6</td>\n",
       "      <td>gas</td>\n",
       "      <td>95021</td>\n",
       "      <td>automatic</td>\n",
       "      <td>SUV</td>\n",
       "      <td>silver</td>\n",
       "      <td>1</td>\n",
       "      <td>2019-01-03</td>\n",
       "      <td>8</td>\n",
       "      <td>2009.0</td>\n",
       "      <td>95021.000000</td>\n",
       "      <td>2019</td>\n",
       "      <td>11</td>\n",
       "      <td>95021</td>\n",
       "    </tr>\n",
       "    <tr>\n",
       "      <th>51495</th>\n",
       "      <td>9500</td>\n",
       "      <td>2012</td>\n",
       "      <td>chevrolet traverse</td>\n",
       "      <td>2</td>\n",
       "      <td>6</td>\n",
       "      <td>gas</td>\n",
       "      <td>144500</td>\n",
       "      <td>automatic</td>\n",
       "      <td>SUV</td>\n",
       "      <td>unknown</td>\n",
       "      <td>1</td>\n",
       "      <td>2019-03-05</td>\n",
       "      <td>1</td>\n",
       "      <td>2012.0</td>\n",
       "      <td>144500.000000</td>\n",
       "      <td>2019</td>\n",
       "      <td>8</td>\n",
       "      <td>144500</td>\n",
       "    </tr>\n",
       "    <tr>\n",
       "      <th>51500</th>\n",
       "      <td>6995</td>\n",
       "      <td>2012</td>\n",
       "      <td>buick enclave</td>\n",
       "      <td>3</td>\n",
       "      <td>6</td>\n",
       "      <td>gas</td>\n",
       "      <td>157000</td>\n",
       "      <td>automatic</td>\n",
       "      <td>SUV</td>\n",
       "      <td>white</td>\n",
       "      <td>1</td>\n",
       "      <td>2018-08-04</td>\n",
       "      <td>17</td>\n",
       "      <td>2012.0</td>\n",
       "      <td>157000.000000</td>\n",
       "      <td>2018</td>\n",
       "      <td>7</td>\n",
       "      <td>157000</td>\n",
       "    </tr>\n",
       "    <tr>\n",
       "      <th>51502</th>\n",
       "      <td>7995</td>\n",
       "      <td>2011</td>\n",
       "      <td>chevrolet equinox</td>\n",
       "      <td>4</td>\n",
       "      <td>4</td>\n",
       "      <td>gas</td>\n",
       "      <td>111088</td>\n",
       "      <td>automatic</td>\n",
       "      <td>SUV</td>\n",
       "      <td>unknown</td>\n",
       "      <td>0</td>\n",
       "      <td>2019-04-01</td>\n",
       "      <td>175</td>\n",
       "      <td>2011.0</td>\n",
       "      <td>111088.000000</td>\n",
       "      <td>2019</td>\n",
       "      <td>9</td>\n",
       "      <td>111088</td>\n",
       "    </tr>\n",
       "    <tr>\n",
       "      <th>51516</th>\n",
       "      <td>8999</td>\n",
       "      <td>2011</td>\n",
       "      <td>jeep grand cherokee</td>\n",
       "      <td>2</td>\n",
       "      <td>6</td>\n",
       "      <td>gas</td>\n",
       "      <td>125142</td>\n",
       "      <td>automatic</td>\n",
       "      <td>SUV</td>\n",
       "      <td>white</td>\n",
       "      <td>1</td>\n",
       "      <td>2018-11-01</td>\n",
       "      <td>51</td>\n",
       "      <td>2011.0</td>\n",
       "      <td>125142.825966</td>\n",
       "      <td>2018</td>\n",
       "      <td>8</td>\n",
       "      <td>125142</td>\n",
       "    </tr>\n",
       "  </tbody>\n",
       "</table>\n",
       "<p>6916 rows × 18 columns</p>\n",
       "</div>"
      ],
      "text/plain": [
       "       price  model_year                model  condition  cylinders fuel  \\\n",
       "0       9400        2011               bmw x5          2          6  gas   \n",
       "7      15990        2013          honda pilot          3          6  gas   \n",
       "8      11500        2012          kia sorento          3          4  gas   \n",
       "9       9200        2008          honda pilot          3          6  gas   \n",
       "14     12990        2009            gmc yukon          3          8  gas   \n",
       "...      ...         ...                  ...        ...        ...  ...   \n",
       "51494   7999        2009    chevrolet equinox          3          6  gas   \n",
       "51495   9500        2012   chevrolet traverse          2          6  gas   \n",
       "51500   6995        2012        buick enclave          3          6  gas   \n",
       "51502   7995        2011    chevrolet equinox          4          4  gas   \n",
       "51516   8999        2011  jeep grand cherokee          2          6  gas   \n",
       "\n",
       "       odometer transmission type paint_color  is_4wd date_posted  \\\n",
       "0        145000    automatic  SUV     unknown       1  2018-06-23   \n",
       "7        109473    automatic  SUV       black       1  2019-01-07   \n",
       "8        104174    automatic  SUV     unknown       1  2018-07-16   \n",
       "9        147191    automatic  SUV        blue       1  2019-02-15   \n",
       "14       132285    automatic  SUV       black       1  2019-01-31   \n",
       "...         ...          ...  ...         ...     ...         ...   \n",
       "51494     95021    automatic  SUV      silver       1  2019-01-03   \n",
       "51495    144500    automatic  SUV     unknown       1  2019-03-05   \n",
       "51500    157000    automatic  SUV       white       1  2018-08-04   \n",
       "51502    111088    automatic  SUV     unknown       0  2019-04-01   \n",
       "51516    125142    automatic  SUV       white       1  2018-11-01   \n",
       "\n",
       "       days_listed  model_year_new   odometer_new  year_posted  age  \\\n",
       "0               19          2011.0  145000.000000         2018    8   \n",
       "7               68          2013.0  109473.000000         2019    7   \n",
       "8               19          2012.0  104174.000000         2018    7   \n",
       "9               17          2008.0  147191.000000         2019   12   \n",
       "14              24          2009.0  132285.000000         2019   11   \n",
       "...            ...             ...            ...          ...  ...   \n",
       "51494            8          2009.0   95021.000000         2019   11   \n",
       "51495            1          2012.0  144500.000000         2019    8   \n",
       "51500           17          2012.0  157000.000000         2018    7   \n",
       "51502          175          2011.0  111088.000000         2019    9   \n",
       "51516           51          2011.0  125142.825966         2018    8   \n",
       "\n",
       "       avg_mileage  \n",
       "0           145000  \n",
       "7           109473  \n",
       "8           104174  \n",
       "9           147191  \n",
       "14          132285  \n",
       "...            ...  \n",
       "51494        95021  \n",
       "51495       144500  \n",
       "51500       157000  \n",
       "51502       111088  \n",
       "51516       125142  \n",
       "\n",
       "[6916 rows x 18 columns]"
      ]
     },
     "execution_count": 653,
     "metadata": {},
     "output_type": "execute_result"
    }
   ],
   "source": [
    "# Slicing to extract data for SUV\n",
    "\n",
    "SUV_data = new_price_data[(new_price_data['type'] == 'SUV')]\n",
    "SUV_data"
   ]
  },
  {
   "cell_type": "code",
   "execution_count": 654,
   "metadata": {},
   "outputs": [
    {
     "data": {
      "text/plain": [
       "count      6916.000000\n",
       "mean      11376.556246\n",
       "std        5720.008554\n",
       "min        5065.000000\n",
       "25%        7075.000000\n",
       "50%        9900.000000\n",
       "75%       13995.000000\n",
       "max      123456.000000\n",
       "Name: price, dtype: float64"
      ]
     },
     "execution_count": 654,
     "metadata": {},
     "output_type": "execute_result"
    }
   ],
   "source": [
    "# Checking average price for SUV\n",
    "\n",
    "SUV_data['price'].describe()"
   ]
  },
  {
   "cell_type": "markdown",
   "metadata": {},
   "source": [
    "The average price for an SUV is 11376."
   ]
  },
  {
   "cell_type": "code",
   "execution_count": 655,
   "metadata": {},
   "outputs": [
    {
     "data": {
      "text/html": [
       "<div>\n",
       "<style scoped>\n",
       "    .dataframe tbody tr th:only-of-type {\n",
       "        vertical-align: middle;\n",
       "    }\n",
       "\n",
       "    .dataframe tbody tr th {\n",
       "        vertical-align: top;\n",
       "    }\n",
       "\n",
       "    .dataframe thead th {\n",
       "        text-align: right;\n",
       "    }\n",
       "</style>\n",
       "<table border=\"1\" class=\"dataframe\">\n",
       "  <thead>\n",
       "    <tr style=\"text-align: right;\">\n",
       "      <th></th>\n",
       "      <th>price</th>\n",
       "      <th>model_year</th>\n",
       "      <th>model</th>\n",
       "      <th>condition</th>\n",
       "      <th>cylinders</th>\n",
       "      <th>fuel</th>\n",
       "      <th>odometer</th>\n",
       "      <th>transmission</th>\n",
       "      <th>type</th>\n",
       "      <th>paint_color</th>\n",
       "      <th>is_4wd</th>\n",
       "      <th>date_posted</th>\n",
       "      <th>days_listed</th>\n",
       "      <th>model_year_new</th>\n",
       "      <th>odometer_new</th>\n",
       "      <th>year_posted</th>\n",
       "      <th>age</th>\n",
       "      <th>avg_mileage</th>\n",
       "    </tr>\n",
       "  </thead>\n",
       "  <tbody>\n",
       "    <tr>\n",
       "      <th>22</th>\n",
       "      <td>7500</td>\n",
       "      <td>2004</td>\n",
       "      <td>chevrolet silverado</td>\n",
       "      <td>4</td>\n",
       "      <td>8</td>\n",
       "      <td>gas</td>\n",
       "      <td>180000</td>\n",
       "      <td>automatic</td>\n",
       "      <td>truck</td>\n",
       "      <td>red</td>\n",
       "      <td>1</td>\n",
       "      <td>2019-01-05</td>\n",
       "      <td>64</td>\n",
       "      <td>2004.0</td>\n",
       "      <td>180000.000000</td>\n",
       "      <td>2019</td>\n",
       "      <td>16</td>\n",
       "      <td>180000</td>\n",
       "    </tr>\n",
       "    <tr>\n",
       "      <th>39</th>\n",
       "      <td>8000</td>\n",
       "      <td>2009</td>\n",
       "      <td>ford f-150</td>\n",
       "      <td>2</td>\n",
       "      <td>8</td>\n",
       "      <td>gas</td>\n",
       "      <td>234000</td>\n",
       "      <td>automatic</td>\n",
       "      <td>truck</td>\n",
       "      <td>black</td>\n",
       "      <td>1</td>\n",
       "      <td>2019-03-31</td>\n",
       "      <td>1</td>\n",
       "      <td>2009.0</td>\n",
       "      <td>234000.000000</td>\n",
       "      <td>2019</td>\n",
       "      <td>11</td>\n",
       "      <td>234000</td>\n",
       "    </tr>\n",
       "    <tr>\n",
       "      <th>53</th>\n",
       "      <td>10400</td>\n",
       "      <td>2012</td>\n",
       "      <td>chevrolet colorado</td>\n",
       "      <td>3</td>\n",
       "      <td>5</td>\n",
       "      <td>gas</td>\n",
       "      <td>111871</td>\n",
       "      <td>automatic</td>\n",
       "      <td>truck</td>\n",
       "      <td>red</td>\n",
       "      <td>1</td>\n",
       "      <td>2019-01-30</td>\n",
       "      <td>27</td>\n",
       "      <td>2012.0</td>\n",
       "      <td>111871.000000</td>\n",
       "      <td>2019</td>\n",
       "      <td>8</td>\n",
       "      <td>111871</td>\n",
       "    </tr>\n",
       "    <tr>\n",
       "      <th>60</th>\n",
       "      <td>13000</td>\n",
       "      <td>2005</td>\n",
       "      <td>ram 1500</td>\n",
       "      <td>2</td>\n",
       "      <td>8</td>\n",
       "      <td>gas</td>\n",
       "      <td>146000</td>\n",
       "      <td>automatic</td>\n",
       "      <td>truck</td>\n",
       "      <td>grey</td>\n",
       "      <td>1</td>\n",
       "      <td>2019-03-14</td>\n",
       "      <td>26</td>\n",
       "      <td>2005.0</td>\n",
       "      <td>146000.000000</td>\n",
       "      <td>2019</td>\n",
       "      <td>15</td>\n",
       "      <td>146000</td>\n",
       "    </tr>\n",
       "    <tr>\n",
       "      <th>61</th>\n",
       "      <td>16999</td>\n",
       "      <td>2013</td>\n",
       "      <td>chevrolet silverado 1500</td>\n",
       "      <td>2</td>\n",
       "      <td>8</td>\n",
       "      <td>gas</td>\n",
       "      <td>137230</td>\n",
       "      <td>automatic</td>\n",
       "      <td>truck</td>\n",
       "      <td>white</td>\n",
       "      <td>1</td>\n",
       "      <td>2018-05-29</td>\n",
       "      <td>24</td>\n",
       "      <td>2013.0</td>\n",
       "      <td>137230.000000</td>\n",
       "      <td>2018</td>\n",
       "      <td>6</td>\n",
       "      <td>137230</td>\n",
       "    </tr>\n",
       "    <tr>\n",
       "      <th>...</th>\n",
       "      <td>...</td>\n",
       "      <td>...</td>\n",
       "      <td>...</td>\n",
       "      <td>...</td>\n",
       "      <td>...</td>\n",
       "      <td>...</td>\n",
       "      <td>...</td>\n",
       "      <td>...</td>\n",
       "      <td>...</td>\n",
       "      <td>...</td>\n",
       "      <td>...</td>\n",
       "      <td>...</td>\n",
       "      <td>...</td>\n",
       "      <td>...</td>\n",
       "      <td>...</td>\n",
       "      <td>...</td>\n",
       "      <td>...</td>\n",
       "      <td>...</td>\n",
       "    </tr>\n",
       "    <tr>\n",
       "      <th>51467</th>\n",
       "      <td>38995</td>\n",
       "      <td>2014</td>\n",
       "      <td>ram 2500</td>\n",
       "      <td>3</td>\n",
       "      <td>6</td>\n",
       "      <td>diesel</td>\n",
       "      <td>111623</td>\n",
       "      <td>automatic</td>\n",
       "      <td>truck</td>\n",
       "      <td>white</td>\n",
       "      <td>1</td>\n",
       "      <td>2018-05-03</td>\n",
       "      <td>64</td>\n",
       "      <td>2014.0</td>\n",
       "      <td>111623.000000</td>\n",
       "      <td>2018</td>\n",
       "      <td>5</td>\n",
       "      <td>111623</td>\n",
       "    </tr>\n",
       "    <tr>\n",
       "      <th>51470</th>\n",
       "      <td>22000</td>\n",
       "      <td>2004</td>\n",
       "      <td>ram 1500</td>\n",
       "      <td>4</td>\n",
       "      <td>8</td>\n",
       "      <td>gas</td>\n",
       "      <td>158872</td>\n",
       "      <td>automatic</td>\n",
       "      <td>truck</td>\n",
       "      <td>silver</td>\n",
       "      <td>0</td>\n",
       "      <td>2019-03-22</td>\n",
       "      <td>33</td>\n",
       "      <td>2004.0</td>\n",
       "      <td>158872.435047</td>\n",
       "      <td>2019</td>\n",
       "      <td>16</td>\n",
       "      <td>158872</td>\n",
       "    </tr>\n",
       "    <tr>\n",
       "      <th>51482</th>\n",
       "      <td>13900</td>\n",
       "      <td>2006</td>\n",
       "      <td>chevrolet silverado 1500</td>\n",
       "      <td>3</td>\n",
       "      <td>8</td>\n",
       "      <td>gas</td>\n",
       "      <td>152000</td>\n",
       "      <td>automatic</td>\n",
       "      <td>truck</td>\n",
       "      <td>unknown</td>\n",
       "      <td>1</td>\n",
       "      <td>2018-05-08</td>\n",
       "      <td>33</td>\n",
       "      <td>2006.0</td>\n",
       "      <td>152000.000000</td>\n",
       "      <td>2018</td>\n",
       "      <td>13</td>\n",
       "      <td>152000</td>\n",
       "    </tr>\n",
       "    <tr>\n",
       "      <th>51488</th>\n",
       "      <td>21900</td>\n",
       "      <td>2012</td>\n",
       "      <td>chevrolet silverado 3500hd</td>\n",
       "      <td>3</td>\n",
       "      <td>8</td>\n",
       "      <td>diesel</td>\n",
       "      <td>203000</td>\n",
       "      <td>automatic</td>\n",
       "      <td>truck</td>\n",
       "      <td>white</td>\n",
       "      <td>1</td>\n",
       "      <td>2018-12-27</td>\n",
       "      <td>37</td>\n",
       "      <td>2012.0</td>\n",
       "      <td>203000.000000</td>\n",
       "      <td>2018</td>\n",
       "      <td>7</td>\n",
       "      <td>203000</td>\n",
       "    </tr>\n",
       "    <tr>\n",
       "      <th>51498</th>\n",
       "      <td>15900</td>\n",
       "      <td>2011</td>\n",
       "      <td>gmc sierra 1500</td>\n",
       "      <td>3</td>\n",
       "      <td>8</td>\n",
       "      <td>gas</td>\n",
       "      <td>125142</td>\n",
       "      <td>automatic</td>\n",
       "      <td>truck</td>\n",
       "      <td>unknown</td>\n",
       "      <td>1</td>\n",
       "      <td>2019-01-25</td>\n",
       "      <td>69</td>\n",
       "      <td>2011.0</td>\n",
       "      <td>125142.825966</td>\n",
       "      <td>2019</td>\n",
       "      <td>9</td>\n",
       "      <td>125142</td>\n",
       "    </tr>\n",
       "  </tbody>\n",
       "</table>\n",
       "<p>8102 rows × 18 columns</p>\n",
       "</div>"
      ],
      "text/plain": [
       "       price  model_year                       model  condition  cylinders  \\\n",
       "22      7500        2004         chevrolet silverado          4          8   \n",
       "39      8000        2009                  ford f-150          2          8   \n",
       "53     10400        2012          chevrolet colorado          3          5   \n",
       "60     13000        2005                    ram 1500          2          8   \n",
       "61     16999        2013    chevrolet silverado 1500          2          8   \n",
       "...      ...         ...                         ...        ...        ...   \n",
       "51467  38995        2014                    ram 2500          3          6   \n",
       "51470  22000        2004                    ram 1500          4          8   \n",
       "51482  13900        2006    chevrolet silverado 1500          3          8   \n",
       "51488  21900        2012  chevrolet silverado 3500hd          3          8   \n",
       "51498  15900        2011             gmc sierra 1500          3          8   \n",
       "\n",
       "         fuel  odometer transmission   type paint_color  is_4wd date_posted  \\\n",
       "22        gas    180000    automatic  truck         red       1  2019-01-05   \n",
       "39        gas    234000    automatic  truck       black       1  2019-03-31   \n",
       "53        gas    111871    automatic  truck         red       1  2019-01-30   \n",
       "60        gas    146000    automatic  truck        grey       1  2019-03-14   \n",
       "61        gas    137230    automatic  truck       white       1  2018-05-29   \n",
       "...       ...       ...          ...    ...         ...     ...         ...   \n",
       "51467  diesel    111623    automatic  truck       white       1  2018-05-03   \n",
       "51470     gas    158872    automatic  truck      silver       0  2019-03-22   \n",
       "51482     gas    152000    automatic  truck     unknown       1  2018-05-08   \n",
       "51488  diesel    203000    automatic  truck       white       1  2018-12-27   \n",
       "51498     gas    125142    automatic  truck     unknown       1  2019-01-25   \n",
       "\n",
       "       days_listed  model_year_new   odometer_new  year_posted  age  \\\n",
       "22              64          2004.0  180000.000000         2019   16   \n",
       "39               1          2009.0  234000.000000         2019   11   \n",
       "53              27          2012.0  111871.000000         2019    8   \n",
       "60              26          2005.0  146000.000000         2019   15   \n",
       "61              24          2013.0  137230.000000         2018    6   \n",
       "...            ...             ...            ...          ...  ...   \n",
       "51467           64          2014.0  111623.000000         2018    5   \n",
       "51470           33          2004.0  158872.435047         2019   16   \n",
       "51482           33          2006.0  152000.000000         2018   13   \n",
       "51488           37          2012.0  203000.000000         2018    7   \n",
       "51498           69          2011.0  125142.825966         2019    9   \n",
       "\n",
       "       avg_mileage  \n",
       "22          180000  \n",
       "39          234000  \n",
       "53          111871  \n",
       "60          146000  \n",
       "61          137230  \n",
       "...            ...  \n",
       "51467       111623  \n",
       "51470       158872  \n",
       "51482       152000  \n",
       "51488       203000  \n",
       "51498       125142  \n",
       "\n",
       "[8102 rows x 18 columns]"
      ]
     },
     "execution_count": 655,
     "metadata": {},
     "output_type": "execute_result"
    }
   ],
   "source": [
    "# Slicing to extract data for truck\n",
    "\n",
    "truck_data = new_price_data[(new_price_data['type'] == 'truck')]\n",
    "truck_data"
   ]
  },
  {
   "cell_type": "code",
   "execution_count": 656,
   "metadata": {},
   "outputs": [
    {
     "data": {
      "text/plain": [
       "count      8102.000000\n",
       "mean      16107.982720\n",
       "std       10064.493318\n",
       "min        5100.000000\n",
       "25%        9950.000000\n",
       "50%       14900.000000\n",
       "75%       19995.000000\n",
       "max      300000.000000\n",
       "Name: price, dtype: float64"
      ]
     },
     "execution_count": 656,
     "metadata": {},
     "output_type": "execute_result"
    }
   ],
   "source": [
    "# Checking average price for truck\n",
    "\n",
    "truck_data['price'].describe()"
   ]
  },
  {
   "cell_type": "raw",
   "metadata": {},
   "source": [
    "The average price for a truck is 16107. Higher than the average price of an SUV."
   ]
  },
  {
   "cell_type": "markdown",
   "metadata": {},
   "source": [
    "<div class=\"alert alert-block alert-success\">\n",
    "<b>Reviewer's comment</b> <a class=\"tocSkip\"></a>\n",
    "\n",
    "This part is pretty good except that issue with types and models. I'm sure this will be easy for you to fix)"
   ]
  },
  {
   "cell_type": "markdown",
   "metadata": {},
   "source": [
    "## Price factors"
   ]
  },
  {
   "cell_type": "markdown",
   "metadata": {},
   "source": [
    "Using the most popular types of vehicles listed in the advertisements we will study whether the price depends on age, mileage, condition, transmission type, and color. This will allow us to analyze what factors impact the price of a car most.\n",
    "We will correlate price and each of the parameters for the SUV and truck separately."
   ]
  },
  {
   "cell_type": "code",
   "execution_count": 550,
   "metadata": {},
   "outputs": [
    {
     "data": {
      "text/plain": [
       "<AxesSubplot:>"
      ]
     },
     "execution_count": 550,
     "metadata": {},
     "output_type": "execute_result"
    },
    {
     "data": {
      "image/png": "[encoded data removed]",
      "text/plain": [
       "<Figure size 720x360 with 1 Axes>"
      ]
     },
     "metadata": {
      "needs_background": "light"
     },
     "output_type": "display_data"
    }
   ],
   "source": [
    "#Plotting SUV price based on transmission using a boxplot\n",
    "\n",
    "SUV_data.pivot(values='price', columns='transmission').boxplot(figsize=(10,5))"
   ]
  },
  {
   "cell_type": "markdown",
   "metadata": {},
   "source": [
    "The medians and distributions are similar across transmission types. There was no correlation between price and transmission type for SUVs."
   ]
  },
  {
   "cell_type": "code",
   "execution_count": 551,
   "metadata": {},
   "outputs": [
    {
     "data": {
      "text/plain": [
       "<AxesSubplot:>"
      ]
     },
     "execution_count": 551,
     "metadata": {},
     "output_type": "execute_result"
    },
    {
     "data": {
      "image/png": "[encoded data removed]",
      "text/plain": [
       "<Figure size 720x360 with 1 Axes>"
      ]
     },
     "metadata": {
      "needs_background": "light"
     },
     "output_type": "display_data"
    }
   ],
   "source": [
    "#Plotting truck price based on transmission type using a boxplot\n",
    "\n",
    "truck_data.pivot(values='price', columns='transmission').boxplot(figsize=(10,5))"
   ]
  },
  {
   "cell_type": "markdown",
   "metadata": {},
   "source": [
    "The medians and distributions are similar. There is no correlation between price and transmission for trucks."
   ]
  },
  {
   "cell_type": "code",
   "execution_count": 448,
   "metadata": {},
   "outputs": [
    {
     "data": {
      "text/plain": [
       "<AxesSubplot:>"
      ]
     },
     "execution_count": 448,
     "metadata": {},
     "output_type": "execute_result"
    },
    {
     "data": {
      "image/png": "[encoded data removed]",
      "text/plain": [
       "<Figure size 720x360 with 1 Axes>"
      ]
     },
     "metadata": {
      "needs_background": "light"
     },
     "output_type": "display_data"
    }
   ],
   "source": [
    "# Plotting SUV price based on paint color using box-and-whisker chart\n",
    "\n",
    "SUV_data.pivot(values='price', columns='paint_color').boxplot(figsize=(10,5))"
   ]
  },
  {
   "cell_type": "markdown",
   "metadata": {},
   "source": [
    "The SUV price was partially correlated with paint color such that orange was correlated with a higher price."
   ]
  },
  {
   "cell_type": "code",
   "execution_count": 450,
   "metadata": {},
   "outputs": [
    {
     "data": {
      "text/plain": [
       "<AxesSubplot:>"
      ]
     },
     "execution_count": 450,
     "metadata": {},
     "output_type": "execute_result"
    },
    {
     "data": {
      "image/png": "[encoded data removed]",
      "text/plain": [
       "<Figure size 720x720 with 1 Axes>"
      ]
     },
     "metadata": {
      "needs_background": "light"
     },
     "output_type": "display_data"
    }
   ],
   "source": [
    "# Plotting truck price based on paint color using box-and-whisker chart\n",
    "\n",
    "truck_data.pivot(values='price', columns='paint_color').boxplot(figsize=(10,10))"
   ]
  },
  {
   "cell_type": "raw",
   "metadata": {},
   "source": [
    "For trucks, there was a fairly even distribution of prices across colors. The truck price was not correlated with price color."
   ]
  },
  {
   "cell_type": "code",
   "execution_count": 456,
   "metadata": {},
   "outputs": [
    {
     "data": {
      "text/plain": [
       "<AxesSubplot:>"
      ]
     },
     "execution_count": 456,
     "metadata": {},
     "output_type": "execute_result"
    },
    {
     "data": {
      "image/png": "[encoded data removed]",
      "text/plain": [
       "<Figure size 720x720 with 1 Axes>"
      ]
     },
     "metadata": {
      "needs_background": "light"
     },
     "output_type": "display_data"
    }
   ],
   "source": [
    "# Plotting SUV price based on condition using box-and-whisker chart\n",
    "\n",
    "SUV_data.pivot(values='price', columns='condition').boxplot(figsize=(10,10))"
   ]
  },
  {
   "cell_type": "markdown",
   "metadata": {},
   "source": [
    "The 0 (\"salvage\") condition has a higher median than the 5 (\"new\") condition. Obvioulsy, SUV price was not correlated with condition."
   ]
  },
  {
   "cell_type": "code",
   "execution_count": 455,
   "metadata": {},
   "outputs": [
    {
     "data": {
      "text/plain": [
       "<AxesSubplot:>"
      ]
     },
     "execution_count": 455,
     "metadata": {},
     "output_type": "execute_result"
    },
    {
     "data": {
      "image/png": "[encoded data removed]",
      "text/plain": [
       "<Figure size 720x720 with 1 Axes>"
      ]
     },
     "metadata": {
      "needs_background": "light"
     },
     "output_type": "display_data"
    }
   ],
   "source": [
    "# Plotting truck price based on condition using box-and-whisker chart\n",
    "\n",
    "truck_data.pivot(values='price', columns='condition').boxplot(figsize=(10,10))"
   ]
  },
  {
   "cell_type": "markdown",
   "metadata": {},
   "source": [
    "The truck price was not correlated with condition."
   ]
  },
  {
   "cell_type": "markdown",
   "metadata": {},
   "source": [
    "<div class=\"alert alert-block alert-success\">\n",
    "<b>Reviewer's comment</b> <a class=\"tocSkip\"></a>\n",
    "\n",
    "Your boxplots are really good! "
   ]
  },
  {
   "cell_type": "markdown",
   "metadata": {},
   "source": [
    "<div class=\"alert alert-block alert-warning\">\n",
    "<b>Reviewer's comment</b> <a class=\"tocSkip\"></a>\n",
    "\n",
    "Well, it's also good to use boxplots for condition) Condition includes only numbers, but we now that they mean category here)"
   ]
  },
  {
   "cell_type": "markdown",
   "metadata": {},
   "source": [
    "<div class=\"alert alert-block alert-info\">\n",
    "<b>Student answer.</b> <a class=\"tocSkip\"></a>\n",
    "\n",
    "I agree. I noticed that the project guidelines said to use boxplots for transmission and paint color and scatterplots for every other parameter, so this included condition. That's why I used a scatterplot. I changed condition to a boxplot.\n",
    "\n",
    "</div>"
   ]
  },
  {
   "cell_type": "markdown",
   "metadata": {},
   "source": [
    "<div class=\"alert alert-block alert-success\">\n",
    "<b>Reviewer's comment v.1.</b> <a class=\"tocSkip\"></a>\n",
    "\n",
    "I think it looks better now) More informative and easy to undestand)"
   ]
  },
  {
   "cell_type": "code",
   "execution_count": 457,
   "metadata": {},
   "outputs": [
    {
     "data": {
      "image/png": "[encoded data removed]",
      "text/plain": [
       "<Figure size 432x288 with 1 Axes>"
      ]
     },
     "metadata": {
      "needs_background": "light"
     },
     "output_type": "display_data"
    }
   ],
   "source": [
    "# Plotting SUV price based on age using a scatterplot\n",
    "#df.plot.scatter(x='col1', y='col2',label = 'label')\n",
    "#plt.legend()\n",
    "#plt.show()\n",
    "\n",
    "SUV_data.plot.scatter(x='age', y='price',label = 'SUV')\n",
    "plt.legend()\n",
    "plt.show()"
   ]
  },
  {
   "cell_type": "markdown",
   "metadata": {},
   "source": [
    "SUV price looks slightly negatively correlated with age based on this scatterplot. We need to check the statistical correlations for a more accurate measure of correlation."
   ]
  },
  {
   "cell_type": "code",
   "execution_count": 553,
   "metadata": {},
   "outputs": [
    {
     "data": {
      "image/png": "[encoded data removed]",
      "text/plain": [
       "<Figure size 432x288 with 1 Axes>"
      ]
     },
     "metadata": {
      "needs_background": "light"
     },
     "output_type": "display_data"
    }
   ],
   "source": [
    "# Plotting truck price based on age using a scatterplot\n",
    "\n",
    "truck_data.plot.scatter(x='age', y='price',label = 'truck')\n",
    "plt.legend()\n",
    "plt.show()"
   ]
  },
  {
   "cell_type": "markdown",
   "metadata": {},
   "source": [
    "Truck price was not correlated with age."
   ]
  },
  {
   "cell_type": "code",
   "execution_count": 554,
   "metadata": {},
   "outputs": [
    {
     "data": {
      "image/png": "[encoded data removed]",
      "text/plain": [
       "<Figure size 432x288 with 1 Axes>"
      ]
     },
     "metadata": {
      "needs_background": "light"
     },
     "output_type": "display_data"
    }
   ],
   "source": [
    "# Plotting SUV price based on mileage using a scatterplot\n",
    "\n",
    "SUV_data.plot.scatter(x='avg_mileage', y='price',label = 'SUV')\n",
    "plt.legend()\n",
    "plt.show()"
   ]
  },
  {
   "cell_type": "markdown",
   "metadata": {},
   "source": [
    "SUV price was slightly negatively correlated with mileage. We need to check the statistical correlations for a more accurate measure of correlation."
   ]
  },
  {
   "cell_type": "code",
   "execution_count": 555,
   "metadata": {},
   "outputs": [
    {
     "data": {
      "image/png": "[encoded data removed]",
      "text/plain": [
       "<Figure size 432x288 with 1 Axes>"
      ]
     },
     "metadata": {
      "needs_background": "light"
     },
     "output_type": "display_data"
    }
   ],
   "source": [
    "# Plotting truck price based on mileage using a scatterplot\n",
    "\n",
    "truck_data.plot.scatter(x='avg_mileage', y='price',label = 'truck')\n",
    "plt.legend()\n",
    "plt.show()"
   ]
  },
  {
   "cell_type": "raw",
   "metadata": {},
   "source": [
    "The truck price was not correlated wtih mileage."
   ]
  },
  {
   "cell_type": "markdown",
   "metadata": {},
   "source": [
    "Let's calculate the correlation of price with all of the numeric parameters using a correlation matrix for both SUVs and trucks. First we will create a separate dataframe for the SUV_data and the truck_data to use for a correlation matrix."
   ]
  },
  {
   "cell_type": "code",
   "execution_count": 657,
   "metadata": {},
   "outputs": [
    {
     "data": {
      "text/html": [
       "<div>\n",
       "<style scoped>\n",
       "    .dataframe tbody tr th:only-of-type {\n",
       "        vertical-align: middle;\n",
       "    }\n",
       "\n",
       "    .dataframe tbody tr th {\n",
       "        vertical-align: top;\n",
       "    }\n",
       "\n",
       "    .dataframe thead th {\n",
       "        text-align: right;\n",
       "    }\n",
       "</style>\n",
       "<table border=\"1\" class=\"dataframe\">\n",
       "  <thead>\n",
       "    <tr style=\"text-align: right;\">\n",
       "      <th></th>\n",
       "      <th>price</th>\n",
       "      <th>age</th>\n",
       "      <th>mileage</th>\n",
       "    </tr>\n",
       "  </thead>\n",
       "  <tbody>\n",
       "    <tr>\n",
       "      <th>price</th>\n",
       "      <td>1.000000</td>\n",
       "      <td>-0.369150</td>\n",
       "      <td>-0.371004</td>\n",
       "    </tr>\n",
       "    <tr>\n",
       "      <th>age</th>\n",
       "      <td>-0.369150</td>\n",
       "      <td>1.000000</td>\n",
       "      <td>0.356638</td>\n",
       "    </tr>\n",
       "    <tr>\n",
       "      <th>mileage</th>\n",
       "      <td>-0.371004</td>\n",
       "      <td>0.356638</td>\n",
       "      <td>1.000000</td>\n",
       "    </tr>\n",
       "  </tbody>\n",
       "</table>\n",
       "</div>"
      ],
      "text/plain": [
       "            price       age   mileage\n",
       "price    1.000000 -0.369150 -0.371004\n",
       "age     -0.369150  1.000000  0.356638\n",
       "mileage -0.371004  0.356638  1.000000"
      ]
     },
     "execution_count": 657,
     "metadata": {},
     "output_type": "execute_result"
    }
   ],
   "source": [
    "# Creating a dataframe for ford parameters based on new_price_data including price, age, and avg_mileage\n",
    "SUV_corr_data = pd.DataFrame().assign(price=SUV_data['price'], age=SUV_data['age'], mileage=SUV_data['avg_mileage'])\n",
    "SUV_corr_data.corr()"
   ]
  },
  {
   "cell_type": "markdown",
   "metadata": {},
   "source": [
    "For the SUV, price is not significantly correlated with age or mileage."
   ]
  },
  {
   "cell_type": "code",
   "execution_count": 658,
   "metadata": {},
   "outputs": [
    {
     "data": {
      "text/html": [
       "<div>\n",
       "<style scoped>\n",
       "    .dataframe tbody tr th:only-of-type {\n",
       "        vertical-align: middle;\n",
       "    }\n",
       "\n",
       "    .dataframe tbody tr th {\n",
       "        vertical-align: top;\n",
       "    }\n",
       "\n",
       "    .dataframe thead th {\n",
       "        text-align: right;\n",
       "    }\n",
       "</style>\n",
       "<table border=\"1\" class=\"dataframe\">\n",
       "  <thead>\n",
       "    <tr style=\"text-align: right;\">\n",
       "      <th></th>\n",
       "      <th>price</th>\n",
       "      <th>age</th>\n",
       "      <th>mileage</th>\n",
       "    </tr>\n",
       "  </thead>\n",
       "  <tbody>\n",
       "    <tr>\n",
       "      <th>price</th>\n",
       "      <td>1.000000</td>\n",
       "      <td>-0.434286</td>\n",
       "      <td>-0.281786</td>\n",
       "    </tr>\n",
       "    <tr>\n",
       "      <th>age</th>\n",
       "      <td>-0.434286</td>\n",
       "      <td>1.000000</td>\n",
       "      <td>0.399105</td>\n",
       "    </tr>\n",
       "    <tr>\n",
       "      <th>mileage</th>\n",
       "      <td>-0.281786</td>\n",
       "      <td>0.399105</td>\n",
       "      <td>1.000000</td>\n",
       "    </tr>\n",
       "  </tbody>\n",
       "</table>\n",
       "</div>"
      ],
      "text/plain": [
       "            price       age   mileage\n",
       "price    1.000000 -0.434286 -0.281786\n",
       "age     -0.434286  1.000000  0.399105\n",
       "mileage -0.281786  0.399105  1.000000"
      ]
     },
     "execution_count": 658,
     "metadata": {},
     "output_type": "execute_result"
    }
   ],
   "source": [
    "# Creating a dataframe for truck parameters based on new_price_data including price, age, and odometer\n",
    "truck_corr_data = pd.DataFrame().assign(price=truck_data['price'], age=truck_data['age'], mileage=truck_data['avg_mileage'])\n",
    "truck_corr_data.corr()"
   ]
  },
  {
   "cell_type": "markdown",
   "metadata": {},
   "source": [
    "For trucks, price is not correlated with mileage and age."
   ]
  },
  {
   "cell_type": "markdown",
   "metadata": {},
   "source": [
    "<div class=\"alert alert-block alert-success\">\n",
    "<b>Reviewer's comment</b> <a class=\"tocSkip\"></a>\n",
    "\n",
    "Correct interpretation of corr matrices!"
   ]
  },
  {
   "cell_type": "markdown",
   "metadata": {},
   "source": [
    "## General conclusion"
   ]
  },
  {
   "cell_type": "markdown",
   "metadata": {},
   "source": [
    "We explored data from free advertisements published on the Crankshaft List to determine which factors influence the price of a vehicle.\n",
    "\n",
    "Before our exploratory analysis, we preprocessed the data to address any issues with missing values, duplicates, data type, and perform exploratory data analysis to selectively slice the data.\n",
    "\n",
    "This would allow us to analyze what factors impact the price of a car most. We aimed to identify the most popular types of vehicles listed in the advertisements and study whether the price depends on age, mileage, condition, transmission type, and color.\n",
    "\n",
    "The data contained 51525 ads with data on 12 variables, including price, model year, model, condition, cylinders, fuel, odometer, transmission type, paint color, wehter the vehicle has 4-wheel drive, the date the ad was published, and the days it was listed from publication to removal.\n",
    "There were several columns with inappropriate data types. The columns 'model_year', 'cylinders', 'odometer' and 'is_4wd' were float types, yet they should have been integers. Also, 'date_posted' was a string, yet it should have been a datetime type. Also, the 'condition' column was a string categorical variable which needed to be converted to an integer based on a categorical scale to enable further analysis.\n",
    "\n",
    "There were missing values in the 'model_year', 'cylinders', 'odometer', paint_color', and 'is_4wd' columns. More than half of the data in 'is_4wd' had missing values.\n",
    "\n",
    "Before we converted several columns to new data types, we addressed the missing values in some columns. The majority of the values in 'is_4wd' were missing. This may have been the result of a technical or programming error. Since the data in this column is similar to a Boolean value, where 1.0 is true if there is four-wheel drive and 0.0 is false if there is no four-wheel drive, it is possible that the missing values in that column represent 0.0 values. We, therefore, replaced the NaN values with 0.\n",
    "\n",
    "We then calculated the percentage of missing values in each of the columns with missing values to help us determine how to fill the missing values.\n",
    "\n",
    "There were 7% missing values in 'model_year', 10% missing in 'cylinders', 15% in 'odometer', and 18% in 'paint_color'. We sliced the dataframe to create a slice with only missing values so we can see if the rows where there are missing values in these columns overlap one another to check if there is a relationship between the missing values in these columns. We also checked the distribution in the missing values data sample compared to the distribution of the entire data sample.\n",
    "\n",
    "There were 21609 rows containing missing values. There was no clear relationship among the columns with missing values. Some rows contained missing values in more than one column, others had missing values in only one column. The missing values represented 42% of the data. There are many possible reasons for missing values in the data. Some reasons for the missing values might be: Seller forgot to fill in a field. There might have been a technical or programming error. We decided to fill in the missing values.\n",
    "\n",
    "We replaced the missing values in ‘paint_color’ with the category 'unknown'. We then compared the distributions of the data with missing values and the entire data to see how we can fill in the missing values in 'cylinders', 'model_year' and 'odometer'. The distributions of the data with missing values was very similar to the distribution of the entire data. We, therefore chose to use a median or a mean of the data to fill in the missing values.\n",
    "\n",
    "We filled in the missing values in cylinders with the median of cylinders grouped per model. We converted the condition column to a numeric scale ranging from 0-5 (0 being worst and 5 being best) to enable further analysis. We used the median of 'model_year' grouped by 'condition' to replace missing values in 'model_year.' We then calculated the average mileage per year and filled in the missing values in 'odometer' using the means of 'odometer' grouped by 'model_year'. We were unable to replace the missing value in ‘odometer’ for the ‘model_year’ 1929 because it has only one value so there was no mean. We therefore dropped the row containing 1929 for model_year.\n",
    "\n",
    "We fixed the data types by converting 'model_year', 'condition','cylinders', 'odometer', and 'is_4wd' into integer types.  We checked for duplicates and there were no duplicates in the data. We converted 'date_posted' to a datetime value.\n",
    "\n",
    "In order to calculate the vehicle's age when the ad was placed, we extracted the year from 'date_posted' and assigned it to a new column 'year_posted'. We created a function to subtract the model_year from the year_posted to determine the vehicle’s age and saved this data to the ‘age’ column.\n",
    "\n",
    "After the data was preprocessed, we explored condition, age, cyclinders, mileage, and price by plotting histograms for each parameter.\n",
    "\n",
    "For condition, the majority of vehicles were within the condition of 3 (excellent, 48%) and 2 (good, 39%), with very few ranked as 5 (new, 0.3%) or 0 (salvage, 0.2%).\n",
    "\n",
    "A majority of vehicles were in the lower age range of 0-10 years. Yet there are outliers that are significantly older. The distibution of ages of vehicle had a range from 0 to 110. The median was 7.0 but the mean was 8.5. Significantly higher values were skewing the distribution and raising the mean for age. After plotting a box plot and exploring these higher values by slicing data above the Q3 level, we found that the distribution of ages above Q3 looks like the normal higher end distribution of a bell curve. The data has a wide range but the majority of the ages was consistent with what we would expect. The median age was 7. The higher values for age looked like a normal feature of the data. We would expect older vehicles to be listed on a user car website. The top ten ages of vehicles range from 2-11 years. This makes sense since 87% of vehicles were listed as in \"good\" or \"excellent\" condition. We would have expected the cars to be between mostly 5-10 years in age.\n",
    "\n",
    "The number of cylinders ranged from 3-12. The median was 6 and the mean was 6.1. The distribution looks normal. The majority of vehicles had 8 (34%), 6 (34%), or 4 (30%) cylinders.\n",
    "\n",
    "There was a high number of vehicles with low mileage readings. This is surprising for a used car website, especially when the majority of vehicles are listed in 'good' to 'excellent' but not 'new' condition. We checked the distribution of 'odometer' for outliers using describe() and a boxplot. We explored the data of age of vehicles at the two extremes. We sliced the data of vehicles above the Q3 level and below the Q1 level and compared the distribution of these data slices with the entire data. We also looked at the value counts to investigate where the high counts in the high odometer levels were coming from. The distribution of odometer values above the Q3 level seems like a normal distribution. Below the Q1 level, on the other hand, there were mostly higher values, yet there were four spikes of unusually popular odometer levels below the 25% level. We explored this data slice of low odometer levels to understand these spikes and look at the value counts to investigate where the high counts are coming from. The spikes were from the four most common odometer readings are: 61455, 47557, 25463, and 0. The top three readings are very specific readings and there is a low probability that these odometer readings were genuinely the most common in the ads. It is possible that these odomoter values were generated by a technical error or a programming error. We also grouped odometer by condition for the slice of odometer below Q1 to see if the values make sense. We found only two vehicles listed as \"new\" (condition 0) with a 0 value. This implied that the remaining 183 values of 0 are inaccurate. A car listed as something other than \"new\" cannot have 0 mileage. We calculated the percentage of the data in the slice of data below Q1. These peculiar odometer values represented 2.6% of the entire data. We, therefore, excluded these values from further analysis by slicing the data above the Q1 level.\n",
    "\n",
    "We explored price distribution and found that the median of 'price' was surprisingly low, near zero. At the other end, there were many outliers on the higher end of the price distribution. We sliced the price data at the Q3 and Q1 levels to explore the slices of data containing the two extremes. The distribution of prices above the Q3 level seemed like a normal distribution. Yet, within the data sliced below Q1, there was a surprisingly high value of cars priced at 1. This seemed like an inaccuracy due to a technical or processing error. We graphed prices by condition for low_price_data to explore these values further.\n",
    "\n",
    "There were prices abnormally distributed based on condition. We would have expected to find higher prices at the condition_rank level of 5 (\"new\") and lower prices at condition level of 0 (\"salvage\"). Yet, there were low and high values throughout both of these columns. The data in low_price_data was therefore faulty so we exclude it from further analysis. This excluded 25% of our data.\n",
    "We then explored how many days advertisements were displayed (days_listed) to describe the typical lifetime of an ad and determine when ads were removed quickly or listed for an abnormally long time. The typical lifetime of an ad shows a mean of 39 days, and a median of 33 days. The range is between 0 and 271. We sliced the data for ‘days_listed’ above the Q3  to compare its distribution with the data below the Q3 level. Interestingly, the high_days_listed_data did not vary significantly from the distribution of the rest of the data. We might have expected that the ads remained longer because the vehicles were of poor quality. Yet, in both, the mean condition was 2.6 and the mean age was 8.5. Although a high price might caused the ad to remain londer, the mean for price was the same as well. A comparison of the data of ads with significantly higher days listed and ads with lower days listed does not show a reasons for why the ads would remain listed for relatively more days. Since removing the high end data did not signicantly affect the distribution, we did not exclude any data based on days_listed.\n",
    "\n",
    "We found the average price for the two most popular types of vehicles listed on the site: The average price for an SUV is 11376. The average price for a truck is 16107.\n",
    "\n",
    "We then explored the correlation between price and various parameters for each of these popular vehicles. We plotted box and whisker charts to explore the correlation between price and transmission, paint color, and condition. We also plotted scatterplots to explore the correlations between price and age, and mileage.\n",
    "\n",
    "The SUV price was partially correlated with paint color such that orange was correlated with a higher price. For trucks, there was a fairly even distribution of prices across colors. The truck price was not correlated with price color.\n",
    "\n",
    "SUV price and truck price were not correlated with condition, age or mileage."
   ]
  },
  {
   "cell_type": "markdown",
   "metadata": {},
   "source": [
    "<div class=\"alert alert-block alert-success\">\n",
    "<b>Reviewer's comment</b> <a class=\"tocSkip\"></a>\n",
    "\n",
    "I'm really impressed with your conclusion!\n",
    "\n",
    "It's a really great work!"
   ]
  },
  {
   "cell_type": "markdown",
   "metadata": {},
   "source": [
    "<b>Overall reviewer's comment</b> <a class=\"tocSkip\"></a>\n",
    "    \n",
    "Thank you for sending your project. Your project is really good!\n",
    "\n",
    "I especially liked your work with pandas, correlations and different plot types!)\n",
    "\n",
    "And the final conclusion is also really good)\n",
    "        \n",
    "<span class=\"text-danger\">\n",
    "    \n",
    "However, I cann't accept it this time. \n",
    "    \n",
    "Please, pay attention to the data preparation part) Look through my yellow comments - hope they will help you)\n",
    "\n",
    "Also, I recommend you to change the part 1.11 (type or model).\n",
    "    \n",
    "</span>\n",
    "\n",
    "<span class=\"text-success\"> \n",
    "    \n",
    "    \n",
    "Hope I managed to help you)\n",
    "    \n",
    "\n",
    "    \n",
    "Good luck!\n",
    "\n",
    "One more time and you'll have it!\n",
    "\n",
    "🍀\n",
    "</div>"
   ]
  },
  {
   "cell_type": "markdown",
   "metadata": {},
   "source": [
    "<b>Overall reviewer's comment v.1.</b> <a class=\"tocSkip\"></a>\n",
    "    \n",
    "Hello!\n",
    "\n",
    "Thanks for your corrections and answers) It's great to get answers and feedback)\n",
    "\n",
    "As for your project, I checked all of your corrections, and your project is perfect now!\n",
    "\n",
    "I'm glad to say that your project has passed review!\n",
    "\n",
    "Congratulations and good luck on the next sprint!\n",
    "\n",
    "&#127881;\n",
    "&#127881;\n",
    "&#127881;\n"
   ]
  },
  {
   "cell_type": "code",
   "execution_count": null,
   "metadata": {},
   "outputs": [],
   "source": []
  }
 ],
 "metadata": {
  "ExecuteTimeLog": [
   {
    "duration": 828,
    "start_time": "2021-11-16T09:21:11.304Z"
   },
   {
    "duration": 893,
    "start_time": "2021-11-16T09:21:17.728Z"
   },
   {
    "duration": 1150,
    "start_time": "2021-11-16T09:21:29.568Z"
   },
   {
    "duration": 3,
    "start_time": "2021-11-16T09:24:14.495Z"
   },
   {
    "duration": 120,
    "start_time": "2021-11-16T09:24:46.630Z"
   },
   {
    "duration": 3,
    "start_time": "2021-11-16T09:28:27.882Z"
   },
   {
    "duration": 4,
    "start_time": "2021-11-16T09:29:54.281Z"
   },
   {
    "duration": 3,
    "start_time": "2021-11-16T09:30:45.936Z"
   },
   {
    "duration": 4,
    "start_time": "2021-11-16T09:31:06.300Z"
   },
   {
    "duration": 113,
    "start_time": "2021-11-16T09:31:37.208Z"
   },
   {
    "duration": 143,
    "start_time": "2021-11-16T09:31:48.656Z"
   },
   {
    "duration": 98,
    "start_time": "2021-11-16T09:31:55.678Z"
   },
   {
    "duration": 3,
    "start_time": "2021-11-16T09:32:08.535Z"
   },
   {
    "duration": 111,
    "start_time": "2021-11-16T09:32:10.120Z"
   },
   {
    "duration": 3,
    "start_time": "2021-11-16T09:32:15.732Z"
   },
   {
    "duration": 4,
    "start_time": "2021-11-16T09:32:29.423Z"
   },
   {
    "duration": 3,
    "start_time": "2021-11-16T10:03:03.074Z"
   },
   {
    "duration": 3,
    "start_time": "2021-11-16T10:10:01.288Z"
   },
   {
    "duration": 3,
    "start_time": "2021-11-16T10:10:46.923Z"
   },
   {
    "duration": 121,
    "start_time": "2021-11-16T10:37:46.494Z"
   },
   {
    "duration": 125,
    "start_time": "2021-11-16T10:38:20.632Z"
   },
   {
    "duration": 112,
    "start_time": "2021-11-16T10:46:53.001Z"
   },
   {
    "duration": 110,
    "start_time": "2021-11-16T10:48:25.775Z"
   },
   {
    "duration": 3,
    "start_time": "2021-11-16T10:50:18.720Z"
   },
   {
    "duration": 4,
    "start_time": "2021-11-16T10:50:37.649Z"
   },
   {
    "duration": 2,
    "start_time": "2021-11-16T10:50:51.884Z"
   },
   {
    "duration": 3,
    "start_time": "2021-11-16T10:51:56.237Z"
   },
   {
    "duration": 101,
    "start_time": "2021-11-16T10:53:13.791Z"
   },
   {
    "duration": 3,
    "start_time": "2021-11-16T10:55:59.186Z"
   },
   {
    "duration": 3,
    "start_time": "2021-11-16T10:56:10.751Z"
   },
   {
    "duration": 3,
    "start_time": "2021-11-16T10:56:49.038Z"
   },
   {
    "duration": 3,
    "start_time": "2021-11-16T10:56:49.174Z"
   },
   {
    "duration": 4,
    "start_time": "2021-11-16T10:56:49.414Z"
   },
   {
    "duration": 3,
    "start_time": "2021-11-16T10:56:49.680Z"
   },
   {
    "duration": 3,
    "start_time": "2021-11-16T10:56:50.370Z"
   },
   {
    "duration": 114,
    "start_time": "2021-11-16T10:59:34.518Z"
   },
   {
    "duration": 3,
    "start_time": "2021-11-16T11:01:41.201Z"
   },
   {
    "duration": 116,
    "start_time": "2021-11-16T11:01:48.754Z"
   },
   {
    "duration": 3,
    "start_time": "2021-11-16T11:02:16.685Z"
   },
   {
    "duration": 3,
    "start_time": "2021-11-16T11:02:19.479Z"
   },
   {
    "duration": 3,
    "start_time": "2021-11-16T11:02:47.067Z"
   },
   {
    "duration": 3,
    "start_time": "2021-11-16T11:02:49.353Z"
   },
   {
    "duration": 3,
    "start_time": "2021-11-16T11:03:07.835Z"
   },
   {
    "duration": 3,
    "start_time": "2021-11-16T11:03:07.953Z"
   },
   {
    "duration": 112,
    "start_time": "2021-11-16T11:07:52.072Z"
   },
   {
    "duration": 187,
    "start_time": "2021-11-16T11:09:23.468Z"
   },
   {
    "duration": 4,
    "start_time": "2021-11-16T11:10:01.455Z"
   },
   {
    "duration": 3,
    "start_time": "2021-11-16T11:10:05.069Z"
   },
   {
    "duration": 4,
    "start_time": "2021-11-16T11:10:13.376Z"
   },
   {
    "duration": 3,
    "start_time": "2021-11-16T11:10:14.434Z"
   },
   {
    "duration": 3,
    "start_time": "2021-11-16T11:10:22.853Z"
   },
   {
    "duration": 4,
    "start_time": "2021-11-16T11:27:29.279Z"
   },
   {
    "duration": 4,
    "start_time": "2021-11-16T11:29:08.919Z"
   },
   {
    "duration": 118,
    "start_time": "2021-11-16T11:29:46.703Z"
   },
   {
    "duration": 437,
    "start_time": "2021-11-16T11:36:02.181Z"
   },
   {
    "duration": 157,
    "start_time": "2021-11-16T11:36:14.388Z"
   },
   {
    "duration": 207,
    "start_time": "2021-11-16T11:47:15.898Z"
   },
   {
    "duration": 3,
    "start_time": "2021-11-16T11:53:52.092Z"
   },
   {
    "duration": 3,
    "start_time": "2021-11-16T11:53:52.236Z"
   },
   {
    "duration": 3,
    "start_time": "2021-11-16T11:59:12.005Z"
   },
   {
    "duration": 112,
    "start_time": "2021-11-16T12:00:33.446Z"
   },
   {
    "duration": 3,
    "start_time": "2021-11-16T12:02:14.453Z"
   },
   {
    "duration": 3,
    "start_time": "2021-11-16T12:02:39.512Z"
   },
   {
    "duration": 106,
    "start_time": "2021-11-16T12:03:03.460Z"
   },
   {
    "duration": 43,
    "start_time": "2022-08-03T12:23:06.146Z"
   },
   {
    "duration": 760,
    "start_time": "2022-08-03T12:23:14.922Z"
   },
   {
    "duration": 424,
    "start_time": "2022-08-03T12:23:15.684Z"
   },
   {
    "duration": 33,
    "start_time": "2022-08-03T12:23:16.872Z"
   },
   {
    "duration": 9,
    "start_time": "2022-08-03T12:23:19.689Z"
   },
   {
    "duration": 3,
    "start_time": "2022-08-03T12:23:26.242Z"
   },
   {
    "duration": 116,
    "start_time": "2022-08-03T12:23:26.250Z"
   },
   {
    "duration": 8,
    "start_time": "2022-08-03T12:23:28.653Z"
   },
   {
    "duration": 3,
    "start_time": "2022-08-03T12:24:21.331Z"
   },
   {
    "duration": 103,
    "start_time": "2022-08-03T12:24:21.337Z"
   },
   {
    "duration": 9,
    "start_time": "2022-08-03T12:24:23.455Z"
   },
   {
    "duration": 21,
    "start_time": "2022-08-03T12:24:43.873Z"
   },
   {
    "duration": 19,
    "start_time": "2022-08-03T12:25:08.336Z"
   },
   {
    "duration": 29,
    "start_time": "2022-08-03T12:25:18.979Z"
   },
   {
    "duration": 7,
    "start_time": "2022-08-03T12:39:27.166Z"
   },
   {
    "duration": 19,
    "start_time": "2022-08-03T12:39:46.958Z"
   },
   {
    "duration": 68,
    "start_time": "2022-08-03T13:12:19.444Z"
   },
   {
    "duration": 9,
    "start_time": "2022-08-03T13:12:32.524Z"
   },
   {
    "duration": 25,
    "start_time": "2022-08-03T13:13:20.872Z"
   },
   {
    "duration": 18,
    "start_time": "2022-08-03T13:15:04.447Z"
   },
   {
    "duration": 47,
    "start_time": "2022-08-03T19:05:37.956Z"
   },
   {
    "duration": 837,
    "start_time": "2022-08-03T19:06:39.430Z"
   },
   {
    "duration": 168,
    "start_time": "2022-08-03T19:06:40.269Z"
   },
   {
    "duration": 31,
    "start_time": "2022-08-03T19:06:40.439Z"
   },
   {
    "duration": 31,
    "start_time": "2022-08-03T19:06:40.472Z"
   },
   {
    "duration": 13,
    "start_time": "2022-08-03T19:06:40.505Z"
   },
   {
    "duration": 46,
    "start_time": "2022-08-03T19:06:40.520Z"
   },
   {
    "duration": 49,
    "start_time": "2022-08-03T19:06:40.568Z"
   },
   {
    "duration": 29,
    "start_time": "2022-08-03T19:06:43.750Z"
   },
   {
    "duration": 28,
    "start_time": "2022-08-03T19:14:40.946Z"
   },
   {
    "duration": 35,
    "start_time": "2022-08-03T19:18:46.779Z"
   },
   {
    "duration": 37,
    "start_time": "2022-08-03T19:25:00.738Z"
   },
   {
    "duration": 3,
    "start_time": "2022-08-03T19:25:07.053Z"
   },
   {
    "duration": 129,
    "start_time": "2022-08-03T19:25:07.059Z"
   },
   {
    "duration": 28,
    "start_time": "2022-08-03T19:25:07.189Z"
   },
   {
    "duration": 22,
    "start_time": "2022-08-03T19:25:07.219Z"
   },
   {
    "duration": 30,
    "start_time": "2022-08-03T19:25:07.244Z"
   },
   {
    "duration": 26,
    "start_time": "2022-08-03T19:25:07.275Z"
   },
   {
    "duration": 20,
    "start_time": "2022-08-03T19:25:07.303Z"
   },
   {
    "duration": 24,
    "start_time": "2022-08-03T19:25:07.325Z"
   },
   {
    "duration": 28,
    "start_time": "2022-08-03T19:25:07.351Z"
   },
   {
    "duration": 35,
    "start_time": "2022-08-03T19:25:07.402Z"
   },
   {
    "duration": 8,
    "start_time": "2022-08-03T19:25:12.745Z"
   },
   {
    "duration": 9,
    "start_time": "2022-08-03T19:30:43.341Z"
   },
   {
    "duration": 14,
    "start_time": "2022-08-03T19:36:23.849Z"
   },
   {
    "duration": 16,
    "start_time": "2022-08-03T19:36:34.376Z"
   },
   {
    "duration": 9,
    "start_time": "2022-08-03T20:10:18.534Z"
   },
   {
    "duration": 24,
    "start_time": "2022-08-03T20:10:57.988Z"
   },
   {
    "duration": 901,
    "start_time": "2022-08-03T20:13:40.538Z"
   },
   {
    "duration": 2,
    "start_time": "2022-08-03T20:13:48.620Z"
   },
   {
    "duration": 104,
    "start_time": "2022-08-03T20:13:48.631Z"
   },
   {
    "duration": 22,
    "start_time": "2022-08-03T20:13:48.737Z"
   },
   {
    "duration": 17,
    "start_time": "2022-08-03T20:13:48.760Z"
   },
   {
    "duration": 25,
    "start_time": "2022-08-03T20:13:48.779Z"
   },
   {
    "duration": 25,
    "start_time": "2022-08-03T20:13:48.805Z"
   },
   {
    "duration": 24,
    "start_time": "2022-08-03T20:13:48.832Z"
   },
   {
    "duration": 55,
    "start_time": "2022-08-03T20:13:48.858Z"
   },
   {
    "duration": 32,
    "start_time": "2022-08-03T20:13:48.916Z"
   },
   {
    "duration": 63,
    "start_time": "2022-08-03T20:13:48.951Z"
   },
   {
    "duration": 18,
    "start_time": "2022-08-03T20:13:49.056Z"
   },
   {
    "duration": 9,
    "start_time": "2022-08-03T20:13:49.248Z"
   },
   {
    "duration": 26,
    "start_time": "2022-08-03T20:13:49.262Z"
   },
   {
    "duration": 820,
    "start_time": "2022-08-03T20:13:53.075Z"
   },
   {
    "duration": 3,
    "start_time": "2022-08-03T20:14:18.443Z"
   },
   {
    "duration": 115,
    "start_time": "2022-08-03T20:14:18.452Z"
   },
   {
    "duration": 22,
    "start_time": "2022-08-03T20:14:18.569Z"
   },
   {
    "duration": 23,
    "start_time": "2022-08-03T20:14:18.603Z"
   },
   {
    "duration": 31,
    "start_time": "2022-08-03T20:14:18.628Z"
   },
   {
    "duration": 37,
    "start_time": "2022-08-03T20:14:18.661Z"
   },
   {
    "duration": 20,
    "start_time": "2022-08-03T20:14:18.699Z"
   },
   {
    "duration": 37,
    "start_time": "2022-08-03T20:14:18.721Z"
   },
   {
    "duration": 38,
    "start_time": "2022-08-03T20:14:18.759Z"
   },
   {
    "duration": 32,
    "start_time": "2022-08-03T20:14:18.799Z"
   },
   {
    "duration": 20,
    "start_time": "2022-08-03T20:14:18.834Z"
   },
   {
    "duration": 18,
    "start_time": "2022-08-03T20:14:18.856Z"
   },
   {
    "duration": 49,
    "start_time": "2022-08-03T20:14:18.879Z"
   },
   {
    "duration": 789,
    "start_time": "2022-08-03T20:14:41.781Z"
   },
   {
    "duration": 13,
    "start_time": "2022-08-03T20:15:52.590Z"
   },
   {
    "duration": 9,
    "start_time": "2022-08-03T20:21:51.918Z"
   },
   {
    "duration": 33,
    "start_time": "2022-08-03T20:22:27.516Z"
   },
   {
    "duration": 30,
    "start_time": "2022-08-03T20:37:17.032Z"
   },
   {
    "duration": 14,
    "start_time": "2022-08-03T20:37:37.571Z"
   },
   {
    "duration": 41,
    "start_time": "2022-08-03T20:52:57.074Z"
   },
   {
    "duration": 57,
    "start_time": "2022-08-04T12:55:25.632Z"
   },
   {
    "duration": 886,
    "start_time": "2022-08-04T12:55:48.531Z"
   },
   {
    "duration": 164,
    "start_time": "2022-08-04T12:55:49.419Z"
   },
   {
    "duration": 34,
    "start_time": "2022-08-04T12:55:49.585Z"
   },
   {
    "duration": 21,
    "start_time": "2022-08-04T12:55:49.621Z"
   },
   {
    "duration": 21,
    "start_time": "2022-08-04T12:55:49.644Z"
   },
   {
    "duration": 33,
    "start_time": "2022-08-04T12:55:49.668Z"
   },
   {
    "duration": 21,
    "start_time": "2022-08-04T12:55:49.703Z"
   },
   {
    "duration": 56,
    "start_time": "2022-08-04T12:55:49.726Z"
   },
   {
    "duration": 26,
    "start_time": "2022-08-04T12:55:49.784Z"
   },
   {
    "duration": 51,
    "start_time": "2022-08-04T12:55:49.811Z"
   },
   {
    "duration": 20,
    "start_time": "2022-08-04T12:55:49.865Z"
   },
   {
    "duration": 10,
    "start_time": "2022-08-04T12:55:49.887Z"
   },
   {
    "duration": 29,
    "start_time": "2022-08-04T12:55:49.899Z"
   },
   {
    "duration": 40,
    "start_time": "2022-08-04T12:55:49.930Z"
   },
   {
    "duration": 12,
    "start_time": "2022-08-04T12:55:49.973Z"
   },
   {
    "duration": 28,
    "start_time": "2022-08-04T12:55:49.987Z"
   },
   {
    "duration": 12,
    "start_time": "2022-08-04T12:55:50.017Z"
   },
   {
    "duration": 28,
    "start_time": "2022-08-04T12:56:26.517Z"
   },
   {
    "duration": 35,
    "start_time": "2022-08-04T12:58:52.547Z"
   },
   {
    "duration": 3,
    "start_time": "2022-08-04T12:59:02.485Z"
   },
   {
    "duration": 118,
    "start_time": "2022-08-04T12:59:02.499Z"
   },
   {
    "duration": 21,
    "start_time": "2022-08-04T12:59:02.618Z"
   },
   {
    "duration": 43,
    "start_time": "2022-08-04T12:59:02.641Z"
   },
   {
    "duration": 38,
    "start_time": "2022-08-04T12:59:02.686Z"
   },
   {
    "duration": 53,
    "start_time": "2022-08-04T12:59:02.726Z"
   },
   {
    "duration": 33,
    "start_time": "2022-08-04T15:02:44.314Z"
   },
   {
    "duration": 24,
    "start_time": "2022-08-04T15:02:49.293Z"
   },
   {
    "duration": 3,
    "start_time": "2022-08-04T15:02:57.273Z"
   },
   {
    "duration": 94,
    "start_time": "2022-08-04T15:02:57.283Z"
   },
   {
    "duration": 21,
    "start_time": "2022-08-04T15:02:57.379Z"
   },
   {
    "duration": 15,
    "start_time": "2022-08-04T15:02:57.401Z"
   },
   {
    "duration": 11,
    "start_time": "2022-08-04T15:02:57.418Z"
   },
   {
    "duration": 40,
    "start_time": "2022-08-04T15:02:57.430Z"
   },
   {
    "duration": 20,
    "start_time": "2022-08-04T15:02:57.472Z"
   },
   {
    "duration": 24,
    "start_time": "2022-08-04T15:02:57.494Z"
   },
   {
    "duration": 46,
    "start_time": "2022-08-04T15:02:57.520Z"
   },
   {
    "duration": 31,
    "start_time": "2022-08-04T15:02:57.568Z"
   },
   {
    "duration": 12,
    "start_time": "2022-08-04T15:02:57.600Z"
   },
   {
    "duration": 6,
    "start_time": "2022-08-04T15:02:57.614Z"
   },
   {
    "duration": 48,
    "start_time": "2022-08-04T15:02:57.622Z"
   },
   {
    "duration": 10,
    "start_time": "2022-08-04T15:02:57.673Z"
   },
   {
    "duration": 8,
    "start_time": "2022-08-04T15:02:57.684Z"
   },
   {
    "duration": 33,
    "start_time": "2022-08-04T15:02:57.693Z"
   },
   {
    "duration": 8,
    "start_time": "2022-08-04T15:02:57.728Z"
   },
   {
    "duration": 30,
    "start_time": "2022-08-04T15:02:57.758Z"
   },
   {
    "duration": 35,
    "start_time": "2022-08-04T15:02:57.790Z"
   },
   {
    "duration": 5,
    "start_time": "2022-08-04T15:02:57.827Z"
   },
   {
    "duration": 27,
    "start_time": "2022-08-04T15:03:00.958Z"
   },
   {
    "duration": 211,
    "start_time": "2022-08-04T15:22:35.994Z"
   },
   {
    "duration": 2,
    "start_time": "2022-08-04T15:23:03.730Z"
   },
   {
    "duration": 129,
    "start_time": "2022-08-04T15:23:03.734Z"
   },
   {
    "duration": 21,
    "start_time": "2022-08-04T15:23:03.865Z"
   },
   {
    "duration": 22,
    "start_time": "2022-08-04T15:23:03.888Z"
   },
   {
    "duration": 37,
    "start_time": "2022-08-04T15:23:03.912Z"
   },
   {
    "duration": 33,
    "start_time": "2022-08-04T15:23:03.950Z"
   },
   {
    "duration": 18,
    "start_time": "2022-08-04T15:23:03.985Z"
   },
   {
    "duration": 37,
    "start_time": "2022-08-04T15:23:04.004Z"
   },
   {
    "duration": 36,
    "start_time": "2022-08-04T15:23:04.043Z"
   },
   {
    "duration": 30,
    "start_time": "2022-08-04T15:23:04.081Z"
   },
   {
    "duration": 12,
    "start_time": "2022-08-04T15:23:04.112Z"
   },
   {
    "duration": 18,
    "start_time": "2022-08-04T15:23:04.126Z"
   },
   {
    "duration": 37,
    "start_time": "2022-08-04T15:23:04.146Z"
   },
   {
    "duration": 11,
    "start_time": "2022-08-04T15:23:04.184Z"
   },
   {
    "duration": 22,
    "start_time": "2022-08-04T15:23:04.196Z"
   },
   {
    "duration": 37,
    "start_time": "2022-08-04T15:23:04.220Z"
   },
   {
    "duration": 15,
    "start_time": "2022-08-04T15:23:04.258Z"
   },
   {
    "duration": 49,
    "start_time": "2022-08-04T15:23:04.275Z"
   },
   {
    "duration": 48,
    "start_time": "2022-08-04T15:23:04.325Z"
   },
   {
    "duration": 5,
    "start_time": "2022-08-04T15:23:04.375Z"
   },
   {
    "duration": 40,
    "start_time": "2022-08-04T15:23:04.382Z"
   },
   {
    "duration": 861,
    "start_time": "2022-08-04T15:23:06.928Z"
   },
   {
    "duration": 8,
    "start_time": "2022-08-04T15:26:15.555Z"
   },
   {
    "duration": 3,
    "start_time": "2022-08-04T15:26:20.711Z"
   },
   {
    "duration": 94,
    "start_time": "2022-08-04T15:26:20.750Z"
   },
   {
    "duration": 20,
    "start_time": "2022-08-04T15:26:20.846Z"
   },
   {
    "duration": 15,
    "start_time": "2022-08-04T15:26:20.867Z"
   },
   {
    "duration": 21,
    "start_time": "2022-08-04T15:26:20.883Z"
   },
   {
    "duration": 22,
    "start_time": "2022-08-04T15:26:20.906Z"
   },
   {
    "duration": 28,
    "start_time": "2022-08-04T15:26:20.930Z"
   },
   {
    "duration": 24,
    "start_time": "2022-08-04T15:26:20.959Z"
   },
   {
    "duration": 27,
    "start_time": "2022-08-04T15:26:20.985Z"
   },
   {
    "duration": 56,
    "start_time": "2022-08-04T15:26:21.013Z"
   },
   {
    "duration": 13,
    "start_time": "2022-08-04T15:26:21.070Z"
   },
   {
    "duration": 14,
    "start_time": "2022-08-04T15:26:21.084Z"
   },
   {
    "duration": 34,
    "start_time": "2022-08-04T15:26:21.100Z"
   },
   {
    "duration": 24,
    "start_time": "2022-08-04T15:26:21.136Z"
   },
   {
    "duration": 15,
    "start_time": "2022-08-04T15:26:21.161Z"
   },
   {
    "duration": 45,
    "start_time": "2022-08-04T15:26:21.178Z"
   },
   {
    "duration": 13,
    "start_time": "2022-08-04T15:26:21.225Z"
   },
   {
    "duration": 47,
    "start_time": "2022-08-04T15:26:21.240Z"
   },
   {
    "duration": 44,
    "start_time": "2022-08-04T15:26:21.289Z"
   },
   {
    "duration": 5,
    "start_time": "2022-08-04T15:26:21.334Z"
   },
   {
    "duration": 31,
    "start_time": "2022-08-04T15:26:21.341Z"
   },
   {
    "duration": 9,
    "start_time": "2022-08-04T15:26:23.267Z"
   },
   {
    "duration": 8,
    "start_time": "2022-08-04T15:26:34.892Z"
   },
   {
    "duration": 9,
    "start_time": "2022-08-04T15:26:44.027Z"
   },
   {
    "duration": 9,
    "start_time": "2022-08-04T15:26:58.941Z"
   },
   {
    "duration": 3,
    "start_time": "2022-08-04T15:27:17.972Z"
   },
   {
    "duration": 96,
    "start_time": "2022-08-04T15:27:18.036Z"
   },
   {
    "duration": 29,
    "start_time": "2022-08-04T15:27:18.134Z"
   },
   {
    "duration": 24,
    "start_time": "2022-08-04T15:27:18.165Z"
   },
   {
    "duration": 28,
    "start_time": "2022-08-04T15:27:18.190Z"
   },
   {
    "duration": 34,
    "start_time": "2022-08-04T15:27:18.220Z"
   },
   {
    "duration": 27,
    "start_time": "2022-08-04T15:27:18.256Z"
   },
   {
    "duration": 31,
    "start_time": "2022-08-04T15:27:18.284Z"
   },
   {
    "duration": 27,
    "start_time": "2022-08-04T15:27:18.316Z"
   },
   {
    "duration": 30,
    "start_time": "2022-08-04T15:27:18.345Z"
   },
   {
    "duration": 12,
    "start_time": "2022-08-04T15:27:18.377Z"
   },
   {
    "duration": 34,
    "start_time": "2022-08-04T15:27:18.390Z"
   },
   {
    "duration": 45,
    "start_time": "2022-08-04T15:27:18.426Z"
   },
   {
    "duration": 20,
    "start_time": "2022-08-04T15:27:18.473Z"
   },
   {
    "duration": 30,
    "start_time": "2022-08-04T15:27:18.494Z"
   },
   {
    "duration": 30,
    "start_time": "2022-08-04T15:27:18.526Z"
   },
   {
    "duration": 13,
    "start_time": "2022-08-04T15:27:18.557Z"
   },
   {
    "duration": 50,
    "start_time": "2022-08-04T15:27:18.571Z"
   },
   {
    "duration": 38,
    "start_time": "2022-08-04T15:27:18.623Z"
   },
   {
    "duration": 5,
    "start_time": "2022-08-04T15:27:18.663Z"
   },
   {
    "duration": 39,
    "start_time": "2022-08-04T15:27:18.669Z"
   },
   {
    "duration": 9,
    "start_time": "2022-08-04T15:27:21.560Z"
   },
   {
    "duration": 3,
    "start_time": "2022-08-04T15:30:12.968Z"
   },
   {
    "duration": 108,
    "start_time": "2022-08-04T15:30:12.980Z"
   },
   {
    "duration": 21,
    "start_time": "2022-08-04T15:30:13.090Z"
   },
   {
    "duration": 15,
    "start_time": "2022-08-04T15:30:13.138Z"
   },
   {
    "duration": 23,
    "start_time": "2022-08-04T15:30:13.155Z"
   },
   {
    "duration": 30,
    "start_time": "2022-08-04T15:30:13.180Z"
   },
   {
    "duration": 29,
    "start_time": "2022-08-04T15:30:13.212Z"
   },
   {
    "duration": 30,
    "start_time": "2022-08-04T15:30:13.243Z"
   },
   {
    "duration": 25,
    "start_time": "2022-08-04T15:30:13.275Z"
   },
   {
    "duration": 30,
    "start_time": "2022-08-04T15:30:13.301Z"
   },
   {
    "duration": 30,
    "start_time": "2022-08-04T15:30:13.333Z"
   },
   {
    "duration": 9,
    "start_time": "2022-08-04T15:30:13.364Z"
   },
   {
    "duration": 48,
    "start_time": "2022-08-04T15:30:13.374Z"
   },
   {
    "duration": 22,
    "start_time": "2022-08-04T15:30:13.424Z"
   },
   {
    "duration": 29,
    "start_time": "2022-08-04T15:30:13.448Z"
   },
   {
    "duration": 34,
    "start_time": "2022-08-04T15:30:13.478Z"
   },
   {
    "duration": 7,
    "start_time": "2022-08-04T15:30:13.514Z"
   },
   {
    "duration": 27,
    "start_time": "2022-08-04T15:30:17.815Z"
   },
   {
    "duration": 3,
    "start_time": "2022-08-04T15:30:37.829Z"
   },
   {
    "duration": 108,
    "start_time": "2022-08-04T15:30:37.833Z"
   },
   {
    "duration": 19,
    "start_time": "2022-08-04T15:30:37.943Z"
   },
   {
    "duration": 24,
    "start_time": "2022-08-04T15:30:37.964Z"
   },
   {
    "duration": 29,
    "start_time": "2022-08-04T15:30:37.990Z"
   },
   {
    "duration": 23,
    "start_time": "2022-08-04T15:30:38.021Z"
   },
   {
    "duration": 20,
    "start_time": "2022-08-04T15:30:38.045Z"
   },
   {
    "duration": 23,
    "start_time": "2022-08-04T15:30:38.067Z"
   },
   {
    "duration": 23,
    "start_time": "2022-08-04T15:30:38.092Z"
   },
   {
    "duration": 47,
    "start_time": "2022-08-04T15:30:38.117Z"
   },
   {
    "duration": 12,
    "start_time": "2022-08-04T15:30:38.165Z"
   },
   {
    "duration": 8,
    "start_time": "2022-08-04T15:30:38.179Z"
   },
   {
    "duration": 26,
    "start_time": "2022-08-04T15:30:38.188Z"
   },
   {
    "duration": 10,
    "start_time": "2022-08-04T15:30:38.216Z"
   },
   {
    "duration": 30,
    "start_time": "2022-08-04T15:30:38.228Z"
   },
   {
    "duration": 26,
    "start_time": "2022-08-04T15:30:43.734Z"
   },
   {
    "duration": 7,
    "start_time": "2022-08-04T15:31:03.515Z"
   },
   {
    "duration": 26,
    "start_time": "2022-08-04T15:31:05.978Z"
   },
   {
    "duration": 8,
    "start_time": "2022-08-04T15:32:01.319Z"
   },
   {
    "duration": 26,
    "start_time": "2022-08-04T15:32:04.293Z"
   },
   {
    "duration": 3,
    "start_time": "2022-08-04T15:32:20.469Z"
   },
   {
    "duration": 96,
    "start_time": "2022-08-04T15:32:20.485Z"
   },
   {
    "duration": 19,
    "start_time": "2022-08-04T15:32:20.583Z"
   },
   {
    "duration": 16,
    "start_time": "2022-08-04T15:32:20.604Z"
   },
   {
    "duration": 6,
    "start_time": "2022-08-04T15:32:20.622Z"
   },
   {
    "duration": 20,
    "start_time": "2022-08-04T15:32:24.518Z"
   },
   {
    "duration": 8,
    "start_time": "2022-08-04T15:33:02.414Z"
   },
   {
    "duration": 12,
    "start_time": "2022-08-04T15:34:00.859Z"
   },
   {
    "duration": 2,
    "start_time": "2022-08-04T15:34:07.641Z"
   },
   {
    "duration": 94,
    "start_time": "2022-08-04T15:34:07.659Z"
   },
   {
    "duration": 22,
    "start_time": "2022-08-04T15:34:07.754Z"
   },
   {
    "duration": 18,
    "start_time": "2022-08-04T15:34:07.777Z"
   },
   {
    "duration": 31,
    "start_time": "2022-08-04T15:34:07.798Z"
   },
   {
    "duration": 39,
    "start_time": "2022-08-04T15:34:07.830Z"
   },
   {
    "duration": 23,
    "start_time": "2022-08-04T15:34:07.871Z"
   },
   {
    "duration": 34,
    "start_time": "2022-08-04T15:34:07.896Z"
   },
   {
    "duration": 39,
    "start_time": "2022-08-04T15:34:07.932Z"
   },
   {
    "duration": 34,
    "start_time": "2022-08-04T15:34:07.973Z"
   },
   {
    "duration": 13,
    "start_time": "2022-08-04T15:34:08.009Z"
   },
   {
    "duration": 7,
    "start_time": "2022-08-04T15:34:08.023Z"
   },
   {
    "duration": 40,
    "start_time": "2022-08-04T15:34:08.032Z"
   },
   {
    "duration": 28,
    "start_time": "2022-08-04T15:34:08.074Z"
   },
   {
    "duration": 14,
    "start_time": "2022-08-04T15:34:08.104Z"
   },
   {
    "duration": 35,
    "start_time": "2022-08-04T15:34:08.119Z"
   },
   {
    "duration": 6,
    "start_time": "2022-08-04T15:34:08.155Z"
   },
   {
    "duration": 41,
    "start_time": "2022-08-04T15:34:08.162Z"
   },
   {
    "duration": 37,
    "start_time": "2022-08-04T15:34:08.205Z"
   },
   {
    "duration": 5,
    "start_time": "2022-08-04T15:34:08.244Z"
   },
   {
    "duration": 43,
    "start_time": "2022-08-04T15:34:08.250Z"
   },
   {
    "duration": 6,
    "start_time": "2022-08-04T15:34:14.481Z"
   },
   {
    "duration": 7,
    "start_time": "2022-08-04T15:34:26.058Z"
   },
   {
    "duration": 7,
    "start_time": "2022-08-04T15:34:31.022Z"
   },
   {
    "duration": 20,
    "start_time": "2022-08-04T15:34:36.977Z"
   },
   {
    "duration": 738,
    "start_time": "2022-08-04T19:10:34.139Z"
   },
   {
    "duration": 156,
    "start_time": "2022-08-04T19:10:34.879Z"
   },
   {
    "duration": 22,
    "start_time": "2022-08-04T19:10:35.037Z"
   },
   {
    "duration": 19,
    "start_time": "2022-08-04T19:10:35.061Z"
   },
   {
    "duration": 4,
    "start_time": "2022-08-04T19:10:35.081Z"
   },
   {
    "duration": 28,
    "start_time": "2022-08-04T19:10:35.086Z"
   },
   {
    "duration": 17,
    "start_time": "2022-08-04T19:10:35.116Z"
   },
   {
    "duration": 18,
    "start_time": "2022-08-04T19:10:35.134Z"
   },
   {
    "duration": 53,
    "start_time": "2022-08-04T19:10:35.154Z"
   },
   {
    "duration": 37,
    "start_time": "2022-08-04T19:10:35.209Z"
   },
   {
    "duration": 13,
    "start_time": "2022-08-04T19:10:35.247Z"
   },
   {
    "duration": 3,
    "start_time": "2022-08-04T19:10:35.262Z"
   },
   {
    "duration": 44,
    "start_time": "2022-08-04T19:10:35.267Z"
   },
   {
    "duration": 10,
    "start_time": "2022-08-04T19:10:35.313Z"
   },
   {
    "duration": 3,
    "start_time": "2022-08-04T19:10:35.325Z"
   },
   {
    "duration": 32,
    "start_time": "2022-08-04T19:10:35.329Z"
   },
   {
    "duration": 3,
    "start_time": "2022-08-04T19:10:35.363Z"
   },
   {
    "duration": 45,
    "start_time": "2022-08-04T19:10:35.367Z"
   },
   {
    "duration": 32,
    "start_time": "2022-08-04T19:10:35.413Z"
   },
   {
    "duration": 5,
    "start_time": "2022-08-04T19:10:35.446Z"
   },
   {
    "duration": 25,
    "start_time": "2022-08-04T19:10:35.453Z"
   },
   {
    "duration": 24,
    "start_time": "2022-08-04T19:10:35.480Z"
   },
   {
    "duration": 20,
    "start_time": "2022-08-04T19:10:35.505Z"
   },
   {
    "duration": 823,
    "start_time": "2022-08-04T19:10:40.025Z"
   },
   {
    "duration": 13,
    "start_time": "2022-08-04T19:10:52.274Z"
   },
   {
    "duration": 20,
    "start_time": "2022-08-04T19:11:04.887Z"
   },
   {
    "duration": 834,
    "start_time": "2022-08-04T19:12:04.121Z"
   },
   {
    "duration": 3,
    "start_time": "2022-08-04T19:12:11.829Z"
   },
   {
    "duration": 93,
    "start_time": "2022-08-04T19:12:11.840Z"
   },
   {
    "duration": 21,
    "start_time": "2022-08-04T19:12:11.935Z"
   },
   {
    "duration": 15,
    "start_time": "2022-08-04T19:12:11.957Z"
   },
   {
    "duration": 6,
    "start_time": "2022-08-04T19:12:11.975Z"
   },
   {
    "duration": 40,
    "start_time": "2022-08-04T19:12:11.982Z"
   },
   {
    "duration": 19,
    "start_time": "2022-08-04T19:12:12.023Z"
   },
   {
    "duration": 19,
    "start_time": "2022-08-04T19:12:12.044Z"
   },
   {
    "duration": 58,
    "start_time": "2022-08-04T19:12:12.064Z"
   },
   {
    "duration": 34,
    "start_time": "2022-08-04T19:12:12.124Z"
   },
   {
    "duration": 13,
    "start_time": "2022-08-04T19:12:12.160Z"
   },
   {
    "duration": 4,
    "start_time": "2022-08-04T19:12:12.199Z"
   },
   {
    "duration": 24,
    "start_time": "2022-08-04T19:12:12.205Z"
   },
   {
    "duration": 11,
    "start_time": "2022-08-04T19:12:12.231Z"
   },
   {
    "duration": 3,
    "start_time": "2022-08-04T19:12:12.243Z"
   },
   {
    "duration": 21,
    "start_time": "2022-08-04T19:12:12.248Z"
   },
   {
    "duration": 31,
    "start_time": "2022-08-04T19:12:12.271Z"
   },
   {
    "duration": 35,
    "start_time": "2022-08-04T19:12:12.304Z"
   },
   {
    "duration": 38,
    "start_time": "2022-08-04T19:12:12.340Z"
   },
   {
    "duration": 26,
    "start_time": "2022-08-04T19:12:12.379Z"
   },
   {
    "duration": 36,
    "start_time": "2022-08-04T19:12:12.407Z"
   },
   {
    "duration": 7,
    "start_time": "2022-08-04T19:12:12.444Z"
   },
   {
    "duration": 27,
    "start_time": "2022-08-04T19:12:12.453Z"
   },
   {
    "duration": 18,
    "start_time": "2022-08-04T19:12:12.482Z"
   },
   {
    "duration": 22,
    "start_time": "2022-08-04T19:12:12.502Z"
   },
   {
    "duration": 9,
    "start_time": "2022-08-04T19:12:18.342Z"
   },
   {
    "duration": 9,
    "start_time": "2022-08-04T19:12:23.959Z"
   },
   {
    "duration": 7,
    "start_time": "2022-08-04T19:12:39.187Z"
   },
   {
    "duration": 11,
    "start_time": "2022-08-04T19:12:52.825Z"
   },
   {
    "duration": 5,
    "start_time": "2022-08-04T19:14:21.143Z"
   },
   {
    "duration": 28,
    "start_time": "2022-08-04T19:14:29.968Z"
   },
   {
    "duration": 9,
    "start_time": "2022-08-04T19:27:52.804Z"
   },
   {
    "duration": 3,
    "start_time": "2022-08-04T19:27:57.940Z"
   },
   {
    "duration": 123,
    "start_time": "2022-08-04T19:27:57.951Z"
   },
   {
    "duration": 42,
    "start_time": "2022-08-04T19:27:58.076Z"
   },
   {
    "duration": 21,
    "start_time": "2022-08-04T19:27:58.122Z"
   },
   {
    "duration": 10,
    "start_time": "2022-08-04T19:27:58.145Z"
   },
   {
    "duration": 23,
    "start_time": "2022-08-04T19:27:58.156Z"
   },
   {
    "duration": 42,
    "start_time": "2022-08-04T19:27:58.180Z"
   },
   {
    "duration": 18,
    "start_time": "2022-08-04T19:27:58.224Z"
   },
   {
    "duration": 29,
    "start_time": "2022-08-04T19:27:58.244Z"
   },
   {
    "duration": 64,
    "start_time": "2022-08-04T19:27:58.274Z"
   },
   {
    "duration": 18,
    "start_time": "2022-08-04T19:27:58.342Z"
   },
   {
    "duration": 4,
    "start_time": "2022-08-04T19:27:58.362Z"
   },
   {
    "duration": 56,
    "start_time": "2022-08-04T19:27:58.368Z"
   },
   {
    "duration": 12,
    "start_time": "2022-08-04T19:27:58.425Z"
   },
   {
    "duration": 3,
    "start_time": "2022-08-04T19:27:58.438Z"
   },
   {
    "duration": 21,
    "start_time": "2022-08-04T19:27:58.443Z"
   },
   {
    "duration": 3,
    "start_time": "2022-08-04T19:27:58.466Z"
   },
   {
    "duration": 54,
    "start_time": "2022-08-04T19:27:58.471Z"
   },
   {
    "duration": 37,
    "start_time": "2022-08-04T19:27:58.526Z"
   },
   {
    "duration": 5,
    "start_time": "2022-08-04T19:27:58.565Z"
   },
   {
    "duration": 59,
    "start_time": "2022-08-04T19:27:58.571Z"
   },
   {
    "duration": 6,
    "start_time": "2022-08-04T19:27:58.632Z"
   },
   {
    "duration": 20,
    "start_time": "2022-08-04T19:27:58.639Z"
   },
   {
    "duration": 10,
    "start_time": "2022-08-04T19:27:58.660Z"
   },
   {
    "duration": 51,
    "start_time": "2022-08-04T19:27:58.671Z"
   },
   {
    "duration": 27,
    "start_time": "2022-08-04T19:27:58.725Z"
   },
   {
    "duration": 4,
    "start_time": "2022-08-04T19:27:58.753Z"
   },
   {
    "duration": 3,
    "start_time": "2022-08-04T19:28:04.355Z"
   },
   {
    "duration": 8,
    "start_time": "2022-08-04T19:28:10.266Z"
   },
   {
    "duration": 5,
    "start_time": "2022-08-04T19:28:33.225Z"
   },
   {
    "duration": 3,
    "start_time": "2022-08-04T19:29:38.881Z"
   },
   {
    "duration": 4,
    "start_time": "2022-08-04T19:29:42.115Z"
   },
   {
    "duration": 60,
    "start_time": "2022-08-04T19:30:11.866Z"
   },
   {
    "duration": 3,
    "start_time": "2022-08-04T19:30:26.133Z"
   },
   {
    "duration": 4,
    "start_time": "2022-08-04T19:30:28.452Z"
   },
   {
    "duration": 3,
    "start_time": "2022-08-04T19:30:31.715Z"
   },
   {
    "duration": 2,
    "start_time": "2022-08-04T19:30:44.093Z"
   },
   {
    "duration": 103,
    "start_time": "2022-08-04T19:30:44.111Z"
   },
   {
    "duration": 19,
    "start_time": "2022-08-04T19:30:44.216Z"
   },
   {
    "duration": 14,
    "start_time": "2022-08-04T19:30:44.236Z"
   },
   {
    "duration": 5,
    "start_time": "2022-08-04T19:30:44.252Z"
   },
   {
    "duration": 24,
    "start_time": "2022-08-04T19:30:44.258Z"
   },
   {
    "duration": 34,
    "start_time": "2022-08-04T19:30:44.283Z"
   },
   {
    "duration": 17,
    "start_time": "2022-08-04T19:30:44.319Z"
   },
   {
    "duration": 27,
    "start_time": "2022-08-04T19:30:44.337Z"
   },
   {
    "duration": 58,
    "start_time": "2022-08-04T19:30:44.366Z"
   },
   {
    "duration": 13,
    "start_time": "2022-08-04T19:30:44.427Z"
   },
   {
    "duration": 3,
    "start_time": "2022-08-04T19:30:44.441Z"
   },
   {
    "duration": 22,
    "start_time": "2022-08-04T19:30:44.445Z"
   },
   {
    "duration": 44,
    "start_time": "2022-08-04T19:30:44.469Z"
   },
   {
    "duration": 4,
    "start_time": "2022-08-04T19:30:44.514Z"
   },
   {
    "duration": 23,
    "start_time": "2022-08-04T19:30:44.519Z"
   },
   {
    "duration": 3,
    "start_time": "2022-08-04T19:30:44.544Z"
   },
   {
    "duration": 23,
    "start_time": "2022-08-04T19:30:44.548Z"
   },
   {
    "duration": 53,
    "start_time": "2022-08-04T19:30:44.572Z"
   },
   {
    "duration": 6,
    "start_time": "2022-08-04T19:30:44.627Z"
   },
   {
    "duration": 22,
    "start_time": "2022-08-04T19:30:44.634Z"
   },
   {
    "duration": 7,
    "start_time": "2022-08-04T19:30:44.658Z"
   },
   {
    "duration": 47,
    "start_time": "2022-08-04T19:30:44.666Z"
   },
   {
    "duration": 11,
    "start_time": "2022-08-04T19:30:44.714Z"
   },
   {
    "duration": 21,
    "start_time": "2022-08-04T19:30:44.726Z"
   },
   {
    "duration": 25,
    "start_time": "2022-08-04T19:30:44.749Z"
   },
   {
    "duration": 3,
    "start_time": "2022-08-04T19:30:44.777Z"
   },
   {
    "duration": 8,
    "start_time": "2022-08-04T19:30:49.299Z"
   },
   {
    "duration": 3,
    "start_time": "2022-08-04T19:37:38.728Z"
   },
   {
    "duration": 5,
    "start_time": "2022-08-04T19:37:41.644Z"
   },
   {
    "duration": 18,
    "start_time": "2022-08-04T19:38:46.798Z"
   },
   {
    "duration": 3,
    "start_time": "2022-08-04T19:40:02.947Z"
   },
   {
    "duration": 104,
    "start_time": "2022-08-04T19:40:02.952Z"
   },
   {
    "duration": 19,
    "start_time": "2022-08-04T19:40:03.058Z"
   },
   {
    "duration": 36,
    "start_time": "2022-08-04T19:40:03.078Z"
   },
   {
    "duration": 6,
    "start_time": "2022-08-04T19:40:03.116Z"
   },
   {
    "duration": 22,
    "start_time": "2022-08-04T19:40:03.123Z"
   },
   {
    "duration": 15,
    "start_time": "2022-08-04T19:40:03.146Z"
   },
   {
    "duration": 20,
    "start_time": "2022-08-04T19:40:03.162Z"
   },
   {
    "duration": 40,
    "start_time": "2022-08-04T19:40:03.183Z"
   },
   {
    "duration": 31,
    "start_time": "2022-08-04T19:40:03.225Z"
   },
   {
    "duration": 12,
    "start_time": "2022-08-04T19:40:03.258Z"
   },
   {
    "duration": 3,
    "start_time": "2022-08-04T19:40:03.272Z"
   },
   {
    "duration": 27,
    "start_time": "2022-08-04T19:40:03.300Z"
   },
   {
    "duration": 11,
    "start_time": "2022-08-04T19:40:03.329Z"
   },
   {
    "duration": 3,
    "start_time": "2022-08-04T19:40:03.342Z"
   },
   {
    "duration": 26,
    "start_time": "2022-08-04T19:40:03.346Z"
   },
   {
    "duration": 3,
    "start_time": "2022-08-04T19:40:03.373Z"
   },
   {
    "duration": 45,
    "start_time": "2022-08-04T19:40:03.378Z"
   },
   {
    "duration": 48,
    "start_time": "2022-08-04T19:40:03.424Z"
   },
   {
    "duration": 5,
    "start_time": "2022-08-04T19:40:03.474Z"
   },
   {
    "duration": 33,
    "start_time": "2022-08-04T19:40:03.480Z"
   },
   {
    "duration": 6,
    "start_time": "2022-08-04T19:40:03.515Z"
   },
   {
    "duration": 20,
    "start_time": "2022-08-04T19:40:03.523Z"
   },
   {
    "duration": 23,
    "start_time": "2022-08-04T19:40:03.544Z"
   },
   {
    "duration": 17,
    "start_time": "2022-08-04T19:40:03.569Z"
   },
   {
    "duration": 33,
    "start_time": "2022-08-04T19:40:03.588Z"
   },
   {
    "duration": 3,
    "start_time": "2022-08-04T19:40:03.622Z"
   },
   {
    "duration": 4,
    "start_time": "2022-08-04T19:40:07.839Z"
   },
   {
    "duration": 17,
    "start_time": "2022-08-04T19:40:15.053Z"
   },
   {
    "duration": 14,
    "start_time": "2022-08-04T19:40:27.847Z"
   },
   {
    "duration": 12,
    "start_time": "2022-08-04T19:40:41.835Z"
   },
   {
    "duration": 18,
    "start_time": "2022-08-04T19:45:01.651Z"
   },
   {
    "duration": 3,
    "start_time": "2022-08-04T19:49:15.029Z"
   },
   {
    "duration": 109,
    "start_time": "2022-08-04T19:49:15.043Z"
   },
   {
    "duration": 19,
    "start_time": "2022-08-04T19:49:15.154Z"
   },
   {
    "duration": 29,
    "start_time": "2022-08-04T19:49:15.174Z"
   },
   {
    "duration": 23,
    "start_time": "2022-08-04T19:49:15.205Z"
   },
   {
    "duration": 34,
    "start_time": "2022-08-04T19:49:15.229Z"
   },
   {
    "duration": 15,
    "start_time": "2022-08-04T19:49:15.265Z"
   },
   {
    "duration": 20,
    "start_time": "2022-08-04T19:49:15.282Z"
   },
   {
    "duration": 35,
    "start_time": "2022-08-04T19:49:15.303Z"
   },
   {
    "duration": 34,
    "start_time": "2022-08-04T19:49:15.340Z"
   },
   {
    "duration": 28,
    "start_time": "2022-08-04T19:49:15.376Z"
   },
   {
    "duration": 3,
    "start_time": "2022-08-04T19:49:15.406Z"
   },
   {
    "duration": 35,
    "start_time": "2022-08-04T19:49:15.410Z"
   },
   {
    "duration": 25,
    "start_time": "2022-08-04T19:49:15.446Z"
   },
   {
    "duration": 16,
    "start_time": "2022-08-04T19:49:15.473Z"
   },
   {
    "duration": 37,
    "start_time": "2022-08-04T19:49:15.491Z"
   },
   {
    "duration": 22,
    "start_time": "2022-08-04T19:49:15.529Z"
   },
   {
    "duration": 30,
    "start_time": "2022-08-04T19:49:15.553Z"
   },
   {
    "duration": 40,
    "start_time": "2022-08-04T19:49:15.584Z"
   },
   {
    "duration": 6,
    "start_time": "2022-08-04T19:49:15.626Z"
   },
   {
    "duration": 40,
    "start_time": "2022-08-04T19:49:15.634Z"
   },
   {
    "duration": 7,
    "start_time": "2022-08-04T19:49:15.677Z"
   },
   {
    "duration": 37,
    "start_time": "2022-08-04T19:49:15.685Z"
   },
   {
    "duration": 36,
    "start_time": "2022-08-04T19:49:15.724Z"
   },
   {
    "duration": 3,
    "start_time": "2022-08-04T19:49:15.761Z"
   },
   {
    "duration": 21,
    "start_time": "2022-08-04T19:49:15.766Z"
   },
   {
    "duration": 60,
    "start_time": "2022-08-04T19:49:15.788Z"
   },
   {
    "duration": 33,
    "start_time": "2022-08-04T19:49:15.849Z"
   },
   {
    "duration": 35,
    "start_time": "2022-08-04T19:49:15.884Z"
   },
   {
    "duration": 34,
    "start_time": "2022-08-04T19:49:15.921Z"
   },
   {
    "duration": 426,
    "start_time": "2022-08-04T19:49:21.240Z"
   },
   {
    "duration": 359,
    "start_time": "2022-08-04T19:55:02.430Z"
   },
   {
    "duration": 40,
    "start_time": "2022-08-04T19:58:10.118Z"
   },
   {
    "duration": 3,
    "start_time": "2022-08-04T19:58:16.755Z"
   },
   {
    "duration": 95,
    "start_time": "2022-08-04T19:58:16.771Z"
   },
   {
    "duration": 20,
    "start_time": "2022-08-04T19:58:16.868Z"
   },
   {
    "duration": 23,
    "start_time": "2022-08-04T19:58:16.889Z"
   },
   {
    "duration": 9,
    "start_time": "2022-08-04T19:58:16.913Z"
   },
   {
    "duration": 24,
    "start_time": "2022-08-04T19:58:16.924Z"
   },
   {
    "duration": 15,
    "start_time": "2022-08-04T19:58:16.950Z"
   },
   {
    "duration": 37,
    "start_time": "2022-08-04T19:58:16.966Z"
   },
   {
    "duration": 30,
    "start_time": "2022-08-04T19:58:17.005Z"
   },
   {
    "duration": 35,
    "start_time": "2022-08-04T19:58:17.036Z"
   },
   {
    "duration": 36,
    "start_time": "2022-08-04T19:58:17.072Z"
   },
   {
    "duration": 4,
    "start_time": "2022-08-04T19:58:17.109Z"
   },
   {
    "duration": 21,
    "start_time": "2022-08-04T19:58:17.114Z"
   },
   {
    "duration": 11,
    "start_time": "2022-08-04T19:58:17.136Z"
   },
   {
    "duration": 3,
    "start_time": "2022-08-04T19:58:17.148Z"
   },
   {
    "duration": 48,
    "start_time": "2022-08-04T19:58:17.153Z"
   },
   {
    "duration": 4,
    "start_time": "2022-08-04T19:58:17.202Z"
   },
   {
    "duration": 25,
    "start_time": "2022-08-04T19:58:17.207Z"
   },
   {
    "duration": 33,
    "start_time": "2022-08-04T19:58:17.234Z"
   },
   {
    "duration": 6,
    "start_time": "2022-08-04T19:58:17.268Z"
   },
   {
    "duration": 21,
    "start_time": "2022-08-04T19:58:17.299Z"
   },
   {
    "duration": 7,
    "start_time": "2022-08-04T19:58:17.321Z"
   },
   {
    "duration": 23,
    "start_time": "2022-08-04T19:58:17.329Z"
   },
   {
    "duration": 48,
    "start_time": "2022-08-04T19:58:17.353Z"
   },
   {
    "duration": 4,
    "start_time": "2022-08-04T19:58:17.402Z"
   },
   {
    "duration": 5,
    "start_time": "2022-08-04T19:58:17.408Z"
   },
   {
    "duration": 19,
    "start_time": "2022-08-04T19:58:17.414Z"
   },
   {
    "duration": 13,
    "start_time": "2022-08-04T19:58:17.434Z"
   },
   {
    "duration": 13,
    "start_time": "2022-08-04T19:58:17.449Z"
   },
   {
    "duration": 42,
    "start_time": "2022-08-04T19:58:17.463Z"
   },
   {
    "duration": 61,
    "start_time": "2022-08-04T19:58:22.331Z"
   },
   {
    "duration": 57,
    "start_time": "2022-08-04T19:58:31.119Z"
   },
   {
    "duration": 11,
    "start_time": "2022-08-04T19:58:35.536Z"
   },
   {
    "duration": 24,
    "start_time": "2022-08-04T20:06:53.061Z"
   },
   {
    "duration": 18,
    "start_time": "2022-08-04T20:07:00.459Z"
   },
   {
    "duration": 44,
    "start_time": "2022-08-04T20:19:09.580Z"
   },
   {
    "duration": 51,
    "start_time": "2022-08-04T20:36:43.630Z"
   },
   {
    "duration": 2,
    "start_time": "2022-08-04T20:36:52.752Z"
   },
   {
    "duration": 13,
    "start_time": "2022-08-04T20:36:56.025Z"
   },
   {
    "duration": 4,
    "start_time": "2022-08-04T20:37:22.395Z"
   },
   {
    "duration": 10,
    "start_time": "2022-08-04T20:45:54.200Z"
   },
   {
    "duration": 8683,
    "start_time": "2022-08-04T20:49:23.707Z"
   },
   {
    "duration": 3,
    "start_time": "2022-08-04T21:00:18.742Z"
   },
   {
    "duration": 100,
    "start_time": "2022-08-04T21:00:18.760Z"
   },
   {
    "duration": 39,
    "start_time": "2022-08-04T21:00:18.863Z"
   },
   {
    "duration": 15,
    "start_time": "2022-08-04T21:00:18.904Z"
   },
   {
    "duration": 10,
    "start_time": "2022-08-04T21:00:18.922Z"
   },
   {
    "duration": 29,
    "start_time": "2022-08-04T21:00:18.934Z"
   },
   {
    "duration": 38,
    "start_time": "2022-08-04T21:00:18.965Z"
   },
   {
    "duration": 20,
    "start_time": "2022-08-04T21:00:19.005Z"
   },
   {
    "duration": 30,
    "start_time": "2022-08-04T21:00:19.027Z"
   },
   {
    "duration": 64,
    "start_time": "2022-08-04T21:00:19.059Z"
   },
   {
    "duration": 12,
    "start_time": "2022-08-04T21:00:19.126Z"
   },
   {
    "duration": 4,
    "start_time": "2022-08-04T21:00:19.140Z"
   },
   {
    "duration": 26,
    "start_time": "2022-08-04T21:00:19.146Z"
   },
   {
    "duration": 35,
    "start_time": "2022-08-04T21:00:19.173Z"
   },
   {
    "duration": 4,
    "start_time": "2022-08-04T21:00:19.210Z"
   },
   {
    "duration": 23,
    "start_time": "2022-08-04T21:00:19.216Z"
   },
   {
    "duration": 3,
    "start_time": "2022-08-04T21:00:19.241Z"
   },
   {
    "duration": 20,
    "start_time": "2022-08-04T21:00:19.246Z"
   },
   {
    "duration": 61,
    "start_time": "2022-08-04T21:00:19.268Z"
   },
   {
    "duration": 6,
    "start_time": "2022-08-04T21:00:19.331Z"
   },
   {
    "duration": 34,
    "start_time": "2022-08-04T21:00:19.339Z"
   },
   {
    "duration": 7,
    "start_time": "2022-08-04T21:00:19.375Z"
   },
   {
    "duration": 34,
    "start_time": "2022-08-04T21:00:19.384Z"
   },
   {
    "duration": 28,
    "start_time": "2022-08-04T21:00:19.420Z"
   },
   {
    "duration": 4,
    "start_time": "2022-08-04T21:00:19.450Z"
   },
   {
    "duration": 7,
    "start_time": "2022-08-04T21:00:19.455Z"
   },
   {
    "duration": 44,
    "start_time": "2022-08-04T21:00:19.464Z"
   },
   {
    "duration": 12,
    "start_time": "2022-08-04T21:00:19.511Z"
   },
   {
    "duration": 17,
    "start_time": "2022-08-04T21:00:19.524Z"
   },
   {
    "duration": 22,
    "start_time": "2022-08-04T21:00:19.542Z"
   },
   {
    "duration": 34,
    "start_time": "2022-08-04T21:00:19.566Z"
   },
   {
    "duration": 3,
    "start_time": "2022-08-04T21:00:19.671Z"
   },
   {
    "duration": 20291,
    "start_time": "2022-08-04T21:00:19.700Z"
   },
   {
    "duration": 17,
    "start_time": "2022-08-04T21:00:40.008Z"
   },
   {
    "duration": 3,
    "start_time": "2022-08-04T21:02:11.827Z"
   },
   {
    "duration": 20677,
    "start_time": "2022-08-04T21:02:13.728Z"
   },
   {
    "duration": 13,
    "start_time": "2022-08-04T21:02:34.630Z"
   },
   {
    "duration": 113,
    "start_time": "2022-08-04T21:15:08.694Z"
   },
   {
    "duration": 806,
    "start_time": "2022-08-04T21:15:23.862Z"
   },
   {
    "duration": 109,
    "start_time": "2022-08-04T21:15:39.178Z"
   },
   {
    "duration": 99,
    "start_time": "2022-08-04T21:16:25.627Z"
   },
   {
    "duration": 5,
    "start_time": "2022-08-04T21:16:42.137Z"
   },
   {
    "duration": 868,
    "start_time": "2022-08-09T13:37:09.963Z"
   },
   {
    "duration": 183,
    "start_time": "2022-08-09T13:37:10.834Z"
   },
   {
    "duration": 25,
    "start_time": "2022-08-09T13:37:11.019Z"
   },
   {
    "duration": 31,
    "start_time": "2022-08-09T13:37:11.046Z"
   },
   {
    "duration": 3,
    "start_time": "2022-08-09T13:37:11.079Z"
   },
   {
    "duration": 54,
    "start_time": "2022-08-09T13:37:11.084Z"
   },
   {
    "duration": 35,
    "start_time": "2022-08-09T13:37:11.139Z"
   },
   {
    "duration": 19,
    "start_time": "2022-08-09T13:37:11.175Z"
   },
   {
    "duration": 47,
    "start_time": "2022-08-09T13:37:11.197Z"
   },
   {
    "duration": 46,
    "start_time": "2022-08-09T13:37:11.247Z"
   },
   {
    "duration": 18,
    "start_time": "2022-08-09T13:37:11.295Z"
   },
   {
    "duration": 3,
    "start_time": "2022-08-09T13:37:11.316Z"
   },
   {
    "duration": 33,
    "start_time": "2022-08-09T13:37:11.321Z"
   },
   {
    "duration": 29,
    "start_time": "2022-08-09T13:37:11.356Z"
   },
   {
    "duration": 3,
    "start_time": "2022-08-09T13:37:11.387Z"
   },
   {
    "duration": 45,
    "start_time": "2022-08-09T13:37:11.392Z"
   },
   {
    "duration": 188,
    "start_time": "2022-08-09T13:37:11.438Z"
   },
   {
    "duration": 0,
    "start_time": "2022-08-09T13:37:11.628Z"
   },
   {
    "duration": 0,
    "start_time": "2022-08-09T13:37:11.630Z"
   },
   {
    "duration": 0,
    "start_time": "2022-08-09T13:37:11.632Z"
   },
   {
    "duration": 0,
    "start_time": "2022-08-09T13:37:11.633Z"
   },
   {
    "duration": 0,
    "start_time": "2022-08-09T13:37:11.635Z"
   },
   {
    "duration": 0,
    "start_time": "2022-08-09T13:37:11.637Z"
   },
   {
    "duration": 0,
    "start_time": "2022-08-09T13:37:11.639Z"
   },
   {
    "duration": 0,
    "start_time": "2022-08-09T13:37:11.641Z"
   },
   {
    "duration": 0,
    "start_time": "2022-08-09T13:37:11.642Z"
   },
   {
    "duration": 0,
    "start_time": "2022-08-09T13:37:11.644Z"
   },
   {
    "duration": 0,
    "start_time": "2022-08-09T13:37:11.646Z"
   },
   {
    "duration": 0,
    "start_time": "2022-08-09T13:37:11.647Z"
   },
   {
    "duration": 0,
    "start_time": "2022-08-09T13:37:11.649Z"
   },
   {
    "duration": 128,
    "start_time": "2022-08-09T13:37:21.682Z"
   },
   {
    "duration": 132,
    "start_time": "2022-08-09T13:37:35.897Z"
   },
   {
    "duration": 127,
    "start_time": "2022-08-09T13:38:27.827Z"
   },
   {
    "duration": 144,
    "start_time": "2022-08-09T13:38:34.436Z"
   },
   {
    "duration": 141,
    "start_time": "2022-08-09T13:38:42.286Z"
   },
   {
    "duration": 132,
    "start_time": "2022-08-09T13:39:09.863Z"
   },
   {
    "duration": 135,
    "start_time": "2022-08-09T13:39:41.681Z"
   },
   {
    "duration": 77,
    "start_time": "2022-08-09T13:49:43.103Z"
   },
   {
    "duration": 2,
    "start_time": "2022-08-09T13:49:49.486Z"
   },
   {
    "duration": 107,
    "start_time": "2022-08-09T13:49:49.508Z"
   },
   {
    "duration": 23,
    "start_time": "2022-08-09T13:49:49.617Z"
   },
   {
    "duration": 21,
    "start_time": "2022-08-09T13:49:49.642Z"
   },
   {
    "duration": 9,
    "start_time": "2022-08-09T13:49:49.666Z"
   },
   {
    "duration": 33,
    "start_time": "2022-08-09T13:49:49.677Z"
   },
   {
    "duration": 18,
    "start_time": "2022-08-09T13:49:49.712Z"
   },
   {
    "duration": 22,
    "start_time": "2022-08-09T13:49:49.732Z"
   },
   {
    "duration": 58,
    "start_time": "2022-08-09T13:49:49.756Z"
   },
   {
    "duration": 40,
    "start_time": "2022-08-09T13:49:49.816Z"
   },
   {
    "duration": 15,
    "start_time": "2022-08-09T13:49:49.859Z"
   },
   {
    "duration": 4,
    "start_time": "2022-08-09T13:49:49.903Z"
   },
   {
    "duration": 25,
    "start_time": "2022-08-09T13:49:49.909Z"
   },
   {
    "duration": 11,
    "start_time": "2022-08-09T13:49:49.937Z"
   },
   {
    "duration": 3,
    "start_time": "2022-08-09T13:49:49.950Z"
   },
   {
    "duration": 49,
    "start_time": "2022-08-09T13:49:49.955Z"
   },
   {
    "duration": 56,
    "start_time": "2022-08-09T13:49:50.005Z"
   },
   {
    "duration": 0,
    "start_time": "2022-08-09T13:49:50.064Z"
   },
   {
    "duration": 0,
    "start_time": "2022-08-09T13:49:50.065Z"
   },
   {
    "duration": 0,
    "start_time": "2022-08-09T13:49:50.066Z"
   },
   {
    "duration": 0,
    "start_time": "2022-08-09T13:49:50.067Z"
   },
   {
    "duration": 0,
    "start_time": "2022-08-09T13:49:50.068Z"
   },
   {
    "duration": 0,
    "start_time": "2022-08-09T13:49:50.069Z"
   },
   {
    "duration": 0,
    "start_time": "2022-08-09T13:49:50.070Z"
   },
   {
    "duration": 0,
    "start_time": "2022-08-09T13:49:50.072Z"
   },
   {
    "duration": 0,
    "start_time": "2022-08-09T13:49:50.073Z"
   },
   {
    "duration": 0,
    "start_time": "2022-08-09T13:49:50.074Z"
   },
   {
    "duration": 0,
    "start_time": "2022-08-09T13:49:50.075Z"
   },
   {
    "duration": 0,
    "start_time": "2022-08-09T13:49:50.076Z"
   },
   {
    "duration": 17,
    "start_time": "2022-08-09T13:49:50.079Z"
   },
   {
    "duration": 33,
    "start_time": "2022-08-09T13:49:50.098Z"
   },
   {
    "duration": 4,
    "start_time": "2022-08-09T13:49:50.132Z"
   },
   {
    "duration": 11,
    "start_time": "2022-08-09T13:49:50.138Z"
   },
   {
    "duration": 20,
    "start_time": "2022-08-09T13:49:50.151Z"
   },
   {
    "duration": 39,
    "start_time": "2022-08-09T13:49:50.173Z"
   },
   {
    "duration": 11,
    "start_time": "2022-08-09T13:49:55.990Z"
   },
   {
    "duration": 10,
    "start_time": "2022-08-09T13:50:05.768Z"
   },
   {
    "duration": 10,
    "start_time": "2022-08-09T13:51:09.088Z"
   },
   {
    "duration": 44,
    "start_time": "2022-08-09T13:53:35.019Z"
   },
   {
    "duration": 11,
    "start_time": "2022-08-09T13:55:14.773Z"
   },
   {
    "duration": 7,
    "start_time": "2022-08-09T13:55:44.769Z"
   },
   {
    "duration": 2,
    "start_time": "2022-08-09T13:55:50.116Z"
   },
   {
    "duration": 105,
    "start_time": "2022-08-09T13:55:50.135Z"
   },
   {
    "duration": 24,
    "start_time": "2022-08-09T13:55:50.242Z"
   },
   {
    "duration": 35,
    "start_time": "2022-08-09T13:55:50.268Z"
   },
   {
    "duration": 4,
    "start_time": "2022-08-09T13:55:50.305Z"
   },
   {
    "duration": 25,
    "start_time": "2022-08-09T13:55:50.310Z"
   },
   {
    "duration": 18,
    "start_time": "2022-08-09T13:55:50.337Z"
   },
   {
    "duration": 48,
    "start_time": "2022-08-09T13:55:50.357Z"
   },
   {
    "duration": 37,
    "start_time": "2022-08-09T13:55:50.407Z"
   },
   {
    "duration": 62,
    "start_time": "2022-08-09T13:55:50.445Z"
   },
   {
    "duration": 16,
    "start_time": "2022-08-09T13:55:50.510Z"
   },
   {
    "duration": 4,
    "start_time": "2022-08-09T13:55:50.528Z"
   },
   {
    "duration": 24,
    "start_time": "2022-08-09T13:55:50.534Z"
   },
   {
    "duration": 43,
    "start_time": "2022-08-09T13:55:50.560Z"
   },
   {
    "duration": 3,
    "start_time": "2022-08-09T13:55:50.605Z"
   },
   {
    "duration": 26,
    "start_time": "2022-08-09T13:55:50.610Z"
   },
   {
    "duration": 50,
    "start_time": "2022-08-09T13:55:50.637Z"
   },
   {
    "duration": 0,
    "start_time": "2022-08-09T13:55:50.689Z"
   },
   {
    "duration": 0,
    "start_time": "2022-08-09T13:55:50.691Z"
   },
   {
    "duration": 0,
    "start_time": "2022-08-09T13:55:50.693Z"
   },
   {
    "duration": 0,
    "start_time": "2022-08-09T13:55:50.694Z"
   },
   {
    "duration": 0,
    "start_time": "2022-08-09T13:55:50.696Z"
   },
   {
    "duration": 0,
    "start_time": "2022-08-09T13:55:50.697Z"
   },
   {
    "duration": 0,
    "start_time": "2022-08-09T13:55:50.699Z"
   },
   {
    "duration": 0,
    "start_time": "2022-08-09T13:55:50.700Z"
   },
   {
    "duration": 0,
    "start_time": "2022-08-09T13:55:50.702Z"
   },
   {
    "duration": 0,
    "start_time": "2022-08-09T13:55:50.704Z"
   },
   {
    "duration": 0,
    "start_time": "2022-08-09T13:55:50.705Z"
   },
   {
    "duration": 0,
    "start_time": "2022-08-09T13:55:50.707Z"
   },
   {
    "duration": 0,
    "start_time": "2022-08-09T13:55:50.708Z"
   },
   {
    "duration": 0,
    "start_time": "2022-08-09T13:55:50.710Z"
   },
   {
    "duration": 0,
    "start_time": "2022-08-09T13:55:50.711Z"
   },
   {
    "duration": 0,
    "start_time": "2022-08-09T13:55:50.713Z"
   },
   {
    "duration": 0,
    "start_time": "2022-08-09T13:55:50.715Z"
   },
   {
    "duration": 0,
    "start_time": "2022-08-09T13:55:50.716Z"
   },
   {
    "duration": 1008,
    "start_time": "2022-08-09T13:55:59.083Z"
   },
   {
    "duration": 986,
    "start_time": "2022-08-09T13:56:05.739Z"
   },
   {
    "duration": 939,
    "start_time": "2022-08-09T13:57:21.645Z"
   },
   {
    "duration": 2,
    "start_time": "2022-08-09T13:57:27.425Z"
   },
   {
    "duration": 108,
    "start_time": "2022-08-09T13:57:27.435Z"
   },
   {
    "duration": 24,
    "start_time": "2022-08-09T13:57:27.545Z"
   },
   {
    "duration": 16,
    "start_time": "2022-08-09T13:57:27.571Z"
   },
   {
    "duration": 3,
    "start_time": "2022-08-09T13:57:27.605Z"
   },
   {
    "duration": 27,
    "start_time": "2022-08-09T13:57:27.610Z"
   },
   {
    "duration": 18,
    "start_time": "2022-08-09T13:57:27.638Z"
   },
   {
    "duration": 46,
    "start_time": "2022-08-09T13:57:27.657Z"
   },
   {
    "duration": 32,
    "start_time": "2022-08-09T13:57:27.704Z"
   },
   {
    "duration": 39,
    "start_time": "2022-08-09T13:57:27.738Z"
   },
   {
    "duration": 15,
    "start_time": "2022-08-09T13:57:27.803Z"
   },
   {
    "duration": 4,
    "start_time": "2022-08-09T13:57:27.820Z"
   },
   {
    "duration": 25,
    "start_time": "2022-08-09T13:57:27.825Z"
   },
   {
    "duration": 13,
    "start_time": "2022-08-09T13:57:27.851Z"
   },
   {
    "duration": 3,
    "start_time": "2022-08-09T13:57:27.866Z"
   },
   {
    "duration": 52,
    "start_time": "2022-08-09T13:57:27.871Z"
   },
   {
    "duration": 50,
    "start_time": "2022-08-09T13:57:27.924Z"
   },
   {
    "duration": 0,
    "start_time": "2022-08-09T13:57:27.976Z"
   },
   {
    "duration": 0,
    "start_time": "2022-08-09T13:57:27.977Z"
   },
   {
    "duration": 0,
    "start_time": "2022-08-09T13:57:27.979Z"
   },
   {
    "duration": 0,
    "start_time": "2022-08-09T13:57:27.980Z"
   },
   {
    "duration": 0,
    "start_time": "2022-08-09T13:57:27.981Z"
   },
   {
    "duration": 0,
    "start_time": "2022-08-09T13:57:27.982Z"
   },
   {
    "duration": 0,
    "start_time": "2022-08-09T13:57:27.984Z"
   },
   {
    "duration": 0,
    "start_time": "2022-08-09T13:57:27.984Z"
   },
   {
    "duration": 0,
    "start_time": "2022-08-09T13:57:27.985Z"
   },
   {
    "duration": 0,
    "start_time": "2022-08-09T13:57:27.986Z"
   },
   {
    "duration": 0,
    "start_time": "2022-08-09T13:57:27.988Z"
   },
   {
    "duration": 0,
    "start_time": "2022-08-09T13:57:27.989Z"
   },
   {
    "duration": 0,
    "start_time": "2022-08-09T13:57:27.990Z"
   },
   {
    "duration": 0,
    "start_time": "2022-08-09T13:57:27.991Z"
   },
   {
    "duration": 0,
    "start_time": "2022-08-09T13:57:27.992Z"
   },
   {
    "duration": 0,
    "start_time": "2022-08-09T13:57:27.993Z"
   },
   {
    "duration": 0,
    "start_time": "2022-08-09T13:57:27.994Z"
   },
   {
    "duration": 0,
    "start_time": "2022-08-09T13:57:27.995Z"
   },
   {
    "duration": 962,
    "start_time": "2022-08-09T13:57:31.095Z"
   },
   {
    "duration": 9,
    "start_time": "2022-08-09T13:58:00.330Z"
   },
   {
    "duration": 1146,
    "start_time": "2022-08-09T13:58:22.172Z"
   },
   {
    "duration": 2,
    "start_time": "2022-08-09T13:58:56.113Z"
   },
   {
    "duration": 102,
    "start_time": "2022-08-09T13:58:56.129Z"
   },
   {
    "duration": 23,
    "start_time": "2022-08-09T13:58:56.232Z"
   },
   {
    "duration": 27,
    "start_time": "2022-08-09T13:58:56.256Z"
   },
   {
    "duration": 19,
    "start_time": "2022-08-09T13:58:56.285Z"
   },
   {
    "duration": 23,
    "start_time": "2022-08-09T13:58:56.306Z"
   },
   {
    "duration": 18,
    "start_time": "2022-08-09T13:58:56.331Z"
   },
   {
    "duration": 20,
    "start_time": "2022-08-09T13:58:56.351Z"
   },
   {
    "duration": 61,
    "start_time": "2022-08-09T13:58:56.372Z"
   },
   {
    "duration": 38,
    "start_time": "2022-08-09T13:58:56.435Z"
   },
   {
    "duration": 38,
    "start_time": "2022-08-09T13:58:56.475Z"
   },
   {
    "duration": 3,
    "start_time": "2022-08-09T13:58:56.515Z"
   },
   {
    "duration": 24,
    "start_time": "2022-08-09T13:58:56.520Z"
   },
   {
    "duration": 12,
    "start_time": "2022-08-09T13:58:56.546Z"
   },
   {
    "duration": 3,
    "start_time": "2022-08-09T13:58:56.560Z"
   },
   {
    "duration": 56,
    "start_time": "2022-08-09T13:58:56.565Z"
   },
   {
    "duration": 46,
    "start_time": "2022-08-09T13:58:56.623Z"
   },
   {
    "duration": 0,
    "start_time": "2022-08-09T13:58:56.671Z"
   },
   {
    "duration": 0,
    "start_time": "2022-08-09T13:58:56.672Z"
   },
   {
    "duration": 0,
    "start_time": "2022-08-09T13:58:56.674Z"
   },
   {
    "duration": 0,
    "start_time": "2022-08-09T13:58:56.675Z"
   },
   {
    "duration": 0,
    "start_time": "2022-08-09T13:58:56.676Z"
   },
   {
    "duration": 0,
    "start_time": "2022-08-09T13:58:56.678Z"
   },
   {
    "duration": 0,
    "start_time": "2022-08-09T13:58:56.679Z"
   },
   {
    "duration": 0,
    "start_time": "2022-08-09T13:58:56.680Z"
   },
   {
    "duration": 0,
    "start_time": "2022-08-09T13:58:56.682Z"
   },
   {
    "duration": 0,
    "start_time": "2022-08-09T13:58:56.683Z"
   },
   {
    "duration": 0,
    "start_time": "2022-08-09T13:58:56.684Z"
   },
   {
    "duration": 0,
    "start_time": "2022-08-09T13:58:56.685Z"
   },
   {
    "duration": 0,
    "start_time": "2022-08-09T13:58:56.686Z"
   },
   {
    "duration": 0,
    "start_time": "2022-08-09T13:58:56.687Z"
   },
   {
    "duration": 0,
    "start_time": "2022-08-09T13:58:56.689Z"
   },
   {
    "duration": 0,
    "start_time": "2022-08-09T13:58:56.690Z"
   },
   {
    "duration": 0,
    "start_time": "2022-08-09T13:58:56.691Z"
   },
   {
    "duration": 0,
    "start_time": "2022-08-09T13:58:56.693Z"
   },
   {
    "duration": 1265,
    "start_time": "2022-08-09T13:59:02.099Z"
   },
   {
    "duration": 9,
    "start_time": "2022-08-09T13:59:40.491Z"
   },
   {
    "duration": 44,
    "start_time": "2022-08-10T09:23:35.861Z"
   },
   {
    "duration": 814,
    "start_time": "2022-08-10T09:26:30.793Z"
   },
   {
    "duration": 169,
    "start_time": "2022-08-10T09:26:31.609Z"
   },
   {
    "duration": 25,
    "start_time": "2022-08-10T09:26:31.779Z"
   },
   {
    "duration": 20,
    "start_time": "2022-08-10T09:26:31.806Z"
   },
   {
    "duration": 4,
    "start_time": "2022-08-10T09:26:31.827Z"
   },
   {
    "duration": 28,
    "start_time": "2022-08-10T09:26:31.832Z"
   },
   {
    "duration": 39,
    "start_time": "2022-08-10T09:26:31.862Z"
   },
   {
    "duration": 21,
    "start_time": "2022-08-10T09:26:31.902Z"
   },
   {
    "duration": 30,
    "start_time": "2022-08-10T09:26:31.925Z"
   },
   {
    "duration": 65,
    "start_time": "2022-08-10T09:26:31.958Z"
   },
   {
    "duration": 17,
    "start_time": "2022-08-10T09:26:32.025Z"
   },
   {
    "duration": 11,
    "start_time": "2022-08-10T09:26:32.045Z"
   },
   {
    "duration": 31,
    "start_time": "2022-08-10T09:26:32.058Z"
   },
   {
    "duration": 14,
    "start_time": "2022-08-10T09:26:32.091Z"
   },
   {
    "duration": 3,
    "start_time": "2022-08-10T09:26:32.106Z"
   },
   {
    "duration": 24,
    "start_time": "2022-08-10T09:26:32.111Z"
   },
   {
    "duration": 62,
    "start_time": "2022-08-10T09:26:32.137Z"
   },
   {
    "duration": 0,
    "start_time": "2022-08-10T09:26:32.201Z"
   },
   {
    "duration": 0,
    "start_time": "2022-08-10T09:26:32.203Z"
   },
   {
    "duration": 0,
    "start_time": "2022-08-10T09:26:32.204Z"
   },
   {
    "duration": 0,
    "start_time": "2022-08-10T09:26:32.205Z"
   },
   {
    "duration": 0,
    "start_time": "2022-08-10T09:26:32.206Z"
   },
   {
    "duration": 0,
    "start_time": "2022-08-10T09:26:32.207Z"
   },
   {
    "duration": 0,
    "start_time": "2022-08-10T09:26:32.208Z"
   },
   {
    "duration": 0,
    "start_time": "2022-08-10T09:26:32.209Z"
   },
   {
    "duration": 0,
    "start_time": "2022-08-10T09:26:32.211Z"
   },
   {
    "duration": 0,
    "start_time": "2022-08-10T09:26:32.212Z"
   },
   {
    "duration": 0,
    "start_time": "2022-08-10T09:26:32.213Z"
   },
   {
    "duration": 0,
    "start_time": "2022-08-10T09:26:32.214Z"
   },
   {
    "duration": 0,
    "start_time": "2022-08-10T09:26:32.215Z"
   },
   {
    "duration": 0,
    "start_time": "2022-08-10T09:26:32.216Z"
   },
   {
    "duration": 0,
    "start_time": "2022-08-10T09:26:32.217Z"
   },
   {
    "duration": 0,
    "start_time": "2022-08-10T09:26:32.218Z"
   },
   {
    "duration": 1,
    "start_time": "2022-08-10T09:26:32.219Z"
   },
   {
    "duration": 0,
    "start_time": "2022-08-10T09:26:32.221Z"
   },
   {
    "duration": 0,
    "start_time": "2022-08-10T09:26:32.222Z"
   },
   {
    "duration": 0,
    "start_time": "2022-08-10T09:26:32.223Z"
   },
   {
    "duration": 995,
    "start_time": "2022-08-10T09:26:39.720Z"
   },
   {
    "duration": 3,
    "start_time": "2022-08-10T09:27:33.232Z"
   },
   {
    "duration": 7,
    "start_time": "2022-08-10T09:27:35.533Z"
   },
   {
    "duration": 3,
    "start_time": "2022-08-10T09:27:51.389Z"
   },
   {
    "duration": 19,
    "start_time": "2022-08-10T09:28:11.007Z"
   },
   {
    "duration": 21,
    "start_time": "2022-08-10T09:28:15.900Z"
   },
   {
    "duration": 3,
    "start_time": "2022-08-10T09:40:20.757Z"
   },
   {
    "duration": 73,
    "start_time": "2022-08-10T09:40:31.012Z"
   },
   {
    "duration": 47,
    "start_time": "2022-08-10T09:40:41.726Z"
   },
   {
    "duration": 15,
    "start_time": "2022-08-10T09:41:30.539Z"
   },
   {
    "duration": 24,
    "start_time": "2022-08-10T09:41:48.031Z"
   },
   {
    "duration": 16,
    "start_time": "2022-08-10T09:42:26.864Z"
   },
   {
    "duration": 23,
    "start_time": "2022-08-10T09:42:29.371Z"
   },
   {
    "duration": 12,
    "start_time": "2022-08-10T09:42:41.023Z"
   },
   {
    "duration": 2,
    "start_time": "2022-08-10T09:42:45.357Z"
   },
   {
    "duration": 106,
    "start_time": "2022-08-10T09:42:45.361Z"
   },
   {
    "duration": 22,
    "start_time": "2022-08-10T09:42:45.469Z"
   },
   {
    "duration": 18,
    "start_time": "2022-08-10T09:42:45.492Z"
   },
   {
    "duration": 9,
    "start_time": "2022-08-10T09:42:45.511Z"
   },
   {
    "duration": 28,
    "start_time": "2022-08-10T09:42:45.521Z"
   },
   {
    "duration": 37,
    "start_time": "2022-08-10T09:42:45.550Z"
   },
   {
    "duration": 18,
    "start_time": "2022-08-10T09:42:45.588Z"
   },
   {
    "duration": 28,
    "start_time": "2022-08-10T09:42:45.607Z"
   },
   {
    "duration": 56,
    "start_time": "2022-08-10T09:42:45.636Z"
   },
   {
    "duration": 13,
    "start_time": "2022-08-10T09:42:45.694Z"
   },
   {
    "duration": 3,
    "start_time": "2022-08-10T09:42:45.709Z"
   },
   {
    "duration": 25,
    "start_time": "2022-08-10T09:42:45.713Z"
   },
   {
    "duration": 10,
    "start_time": "2022-08-10T09:42:45.740Z"
   },
   {
    "duration": 3,
    "start_time": "2022-08-10T09:42:45.752Z"
   },
   {
    "duration": 22,
    "start_time": "2022-08-10T09:42:45.787Z"
   },
   {
    "duration": 62,
    "start_time": "2022-08-10T09:42:45.810Z"
   },
   {
    "duration": 0,
    "start_time": "2022-08-10T09:42:45.874Z"
   },
   {
    "duration": 0,
    "start_time": "2022-08-10T09:42:45.875Z"
   },
   {
    "duration": 0,
    "start_time": "2022-08-10T09:42:45.877Z"
   },
   {
    "duration": 0,
    "start_time": "2022-08-10T09:42:45.878Z"
   },
   {
    "duration": 0,
    "start_time": "2022-08-10T09:42:45.879Z"
   },
   {
    "duration": 0,
    "start_time": "2022-08-10T09:42:45.880Z"
   },
   {
    "duration": 0,
    "start_time": "2022-08-10T09:42:45.881Z"
   },
   {
    "duration": 0,
    "start_time": "2022-08-10T09:42:45.882Z"
   },
   {
    "duration": 0,
    "start_time": "2022-08-10T09:42:45.882Z"
   },
   {
    "duration": 0,
    "start_time": "2022-08-10T09:42:45.883Z"
   },
   {
    "duration": 0,
    "start_time": "2022-08-10T09:42:45.884Z"
   },
   {
    "duration": 0,
    "start_time": "2022-08-10T09:42:45.885Z"
   },
   {
    "duration": 0,
    "start_time": "2022-08-10T09:42:45.886Z"
   },
   {
    "duration": 0,
    "start_time": "2022-08-10T09:42:45.887Z"
   },
   {
    "duration": 0,
    "start_time": "2022-08-10T09:42:45.888Z"
   },
   {
    "duration": 0,
    "start_time": "2022-08-10T09:42:45.889Z"
   },
   {
    "duration": 0,
    "start_time": "2022-08-10T09:42:45.890Z"
   },
   {
    "duration": 0,
    "start_time": "2022-08-10T09:42:45.891Z"
   },
   {
    "duration": 0,
    "start_time": "2022-08-10T09:42:45.892Z"
   },
   {
    "duration": 0,
    "start_time": "2022-08-10T09:42:45.893Z"
   },
   {
    "duration": 844,
    "start_time": "2022-08-10T09:42:46.082Z"
   },
   {
    "duration": 1022,
    "start_time": "2022-08-10T09:42:52.789Z"
   },
   {
    "duration": 853,
    "start_time": "2022-08-10T09:42:59.414Z"
   },
   {
    "duration": 13,
    "start_time": "2022-08-10T09:43:28.944Z"
   },
   {
    "duration": 19,
    "start_time": "2022-08-10T09:43:45.450Z"
   },
   {
    "duration": 14,
    "start_time": "2022-08-10T09:43:49.347Z"
   },
   {
    "duration": 3,
    "start_time": "2022-08-10T09:44:00.120Z"
   },
   {
    "duration": 103,
    "start_time": "2022-08-10T09:44:00.135Z"
   },
   {
    "duration": 23,
    "start_time": "2022-08-10T09:44:00.241Z"
   },
   {
    "duration": 24,
    "start_time": "2022-08-10T09:44:00.266Z"
   },
   {
    "duration": 12,
    "start_time": "2022-08-10T09:44:00.292Z"
   },
   {
    "duration": 27,
    "start_time": "2022-08-10T09:44:00.305Z"
   },
   {
    "duration": 18,
    "start_time": "2022-08-10T09:44:00.334Z"
   },
   {
    "duration": 34,
    "start_time": "2022-08-10T09:44:00.353Z"
   },
   {
    "duration": 27,
    "start_time": "2022-08-10T09:44:00.389Z"
   },
   {
    "duration": 34,
    "start_time": "2022-08-10T09:44:00.418Z"
   },
   {
    "duration": 35,
    "start_time": "2022-08-10T09:44:00.455Z"
   },
   {
    "duration": 3,
    "start_time": "2022-08-10T09:44:00.492Z"
   },
   {
    "duration": 35,
    "start_time": "2022-08-10T09:44:00.496Z"
   },
   {
    "duration": 10,
    "start_time": "2022-08-10T09:44:00.533Z"
   },
   {
    "duration": 11,
    "start_time": "2022-08-10T09:44:00.545Z"
   },
   {
    "duration": 44,
    "start_time": "2022-08-10T09:44:00.558Z"
   },
   {
    "duration": 55,
    "start_time": "2022-08-10T09:44:00.603Z"
   },
   {
    "duration": 0,
    "start_time": "2022-08-10T09:44:00.661Z"
   },
   {
    "duration": 0,
    "start_time": "2022-08-10T09:44:00.663Z"
   },
   {
    "duration": 0,
    "start_time": "2022-08-10T09:44:00.664Z"
   },
   {
    "duration": 0,
    "start_time": "2022-08-10T09:44:00.665Z"
   },
   {
    "duration": 0,
    "start_time": "2022-08-10T09:44:00.666Z"
   },
   {
    "duration": 0,
    "start_time": "2022-08-10T09:44:00.666Z"
   },
   {
    "duration": 0,
    "start_time": "2022-08-10T09:44:00.667Z"
   },
   {
    "duration": 0,
    "start_time": "2022-08-10T09:44:00.668Z"
   },
   {
    "duration": 0,
    "start_time": "2022-08-10T09:44:00.669Z"
   },
   {
    "duration": 0,
    "start_time": "2022-08-10T09:44:00.670Z"
   },
   {
    "duration": 0,
    "start_time": "2022-08-10T09:44:00.671Z"
   },
   {
    "duration": 0,
    "start_time": "2022-08-10T09:44:00.672Z"
   },
   {
    "duration": 0,
    "start_time": "2022-08-10T09:44:00.673Z"
   },
   {
    "duration": 0,
    "start_time": "2022-08-10T09:44:00.674Z"
   },
   {
    "duration": 0,
    "start_time": "2022-08-10T09:44:00.675Z"
   },
   {
    "duration": 0,
    "start_time": "2022-08-10T09:44:00.676Z"
   },
   {
    "duration": 0,
    "start_time": "2022-08-10T09:44:00.677Z"
   },
   {
    "duration": 0,
    "start_time": "2022-08-10T09:44:00.678Z"
   },
   {
    "duration": 0,
    "start_time": "2022-08-10T09:44:00.679Z"
   },
   {
    "duration": 0,
    "start_time": "2022-08-10T09:44:00.680Z"
   },
   {
    "duration": 1045,
    "start_time": "2022-08-10T09:44:08.673Z"
   },
   {
    "duration": 1124,
    "start_time": "2022-08-10T09:44:12.822Z"
   },
   {
    "duration": 13,
    "start_time": "2022-08-10T09:44:28.268Z"
   },
   {
    "duration": 3,
    "start_time": "2022-08-10T09:44:39.759Z"
   },
   {
    "duration": 3,
    "start_time": "2022-08-10T09:44:42.468Z"
   },
   {
    "duration": 18,
    "start_time": "2022-08-10T09:44:45.485Z"
   },
   {
    "duration": 15,
    "start_time": "2022-08-10T09:44:47.597Z"
   },
   {
    "duration": 9,
    "start_time": "2022-08-10T09:44:52.358Z"
   },
   {
    "duration": 8,
    "start_time": "2022-08-10T09:45:02.406Z"
   },
   {
    "duration": 18,
    "start_time": "2022-08-10T09:45:12.407Z"
   },
   {
    "duration": 10,
    "start_time": "2022-08-10T09:45:34.159Z"
   },
   {
    "duration": 25,
    "start_time": "2022-08-10T09:45:40.393Z"
   },
   {
    "duration": 11,
    "start_time": "2022-08-10T09:46:42.342Z"
   },
   {
    "duration": 8,
    "start_time": "2022-08-10T09:46:48.672Z"
   },
   {
    "duration": 22,
    "start_time": "2022-08-10T09:46:57.094Z"
   },
   {
    "duration": 20,
    "start_time": "2022-08-10T09:47:37.085Z"
   },
   {
    "duration": 3,
    "start_time": "2022-08-10T09:47:53.205Z"
   },
   {
    "duration": 104,
    "start_time": "2022-08-10T09:47:53.221Z"
   },
   {
    "duration": 23,
    "start_time": "2022-08-10T09:47:53.326Z"
   },
   {
    "duration": 16,
    "start_time": "2022-08-10T09:47:53.350Z"
   },
   {
    "duration": 19,
    "start_time": "2022-08-10T09:47:53.368Z"
   },
   {
    "duration": 23,
    "start_time": "2022-08-10T09:47:53.388Z"
   },
   {
    "duration": 19,
    "start_time": "2022-08-10T09:47:53.413Z"
   },
   {
    "duration": 21,
    "start_time": "2022-08-10T09:47:53.433Z"
   },
   {
    "duration": 54,
    "start_time": "2022-08-10T09:47:53.455Z"
   },
   {
    "duration": 36,
    "start_time": "2022-08-10T09:47:53.511Z"
   },
   {
    "duration": 13,
    "start_time": "2022-08-10T09:47:53.549Z"
   },
   {
    "duration": 4,
    "start_time": "2022-08-10T09:47:53.586Z"
   },
   {
    "duration": 26,
    "start_time": "2022-08-10T09:47:53.592Z"
   },
   {
    "duration": 11,
    "start_time": "2022-08-10T09:47:53.619Z"
   },
   {
    "duration": 3,
    "start_time": "2022-08-10T09:47:53.631Z"
   },
   {
    "duration": 23,
    "start_time": "2022-08-10T09:47:53.636Z"
   },
   {
    "duration": 126,
    "start_time": "2022-08-10T09:47:53.661Z"
   },
   {
    "duration": 0,
    "start_time": "2022-08-10T09:47:53.789Z"
   },
   {
    "duration": 0,
    "start_time": "2022-08-10T09:47:53.791Z"
   },
   {
    "duration": 0,
    "start_time": "2022-08-10T09:47:53.791Z"
   },
   {
    "duration": 0,
    "start_time": "2022-08-10T09:47:53.792Z"
   },
   {
    "duration": 0,
    "start_time": "2022-08-10T09:47:53.793Z"
   },
   {
    "duration": 0,
    "start_time": "2022-08-10T09:47:53.794Z"
   },
   {
    "duration": 0,
    "start_time": "2022-08-10T09:47:53.796Z"
   },
   {
    "duration": 0,
    "start_time": "2022-08-10T09:47:53.797Z"
   },
   {
    "duration": 0,
    "start_time": "2022-08-10T09:47:53.798Z"
   },
   {
    "duration": 0,
    "start_time": "2022-08-10T09:47:53.799Z"
   },
   {
    "duration": 0,
    "start_time": "2022-08-10T09:47:53.801Z"
   },
   {
    "duration": 0,
    "start_time": "2022-08-10T09:47:53.802Z"
   },
   {
    "duration": 0,
    "start_time": "2022-08-10T09:47:53.803Z"
   },
   {
    "duration": 0,
    "start_time": "2022-08-10T09:47:53.804Z"
   },
   {
    "duration": 0,
    "start_time": "2022-08-10T09:47:53.805Z"
   },
   {
    "duration": 0,
    "start_time": "2022-08-10T09:47:53.806Z"
   },
   {
    "duration": 0,
    "start_time": "2022-08-10T09:47:53.807Z"
   },
   {
    "duration": 0,
    "start_time": "2022-08-10T09:47:53.808Z"
   },
   {
    "duration": 0,
    "start_time": "2022-08-10T09:47:53.809Z"
   },
   {
    "duration": 0,
    "start_time": "2022-08-10T09:47:53.810Z"
   },
   {
    "duration": 1310,
    "start_time": "2022-08-10T09:48:01.066Z"
   },
   {
    "duration": 952,
    "start_time": "2022-08-10T09:48:05.853Z"
   },
   {
    "duration": 20,
    "start_time": "2022-08-10T09:48:17.794Z"
   },
   {
    "duration": 15,
    "start_time": "2022-08-10T09:48:20.417Z"
   },
   {
    "duration": 8,
    "start_time": "2022-08-10T09:48:24.950Z"
   },
   {
    "duration": 7,
    "start_time": "2022-08-10T09:48:27.949Z"
   },
   {
    "duration": 20,
    "start_time": "2022-08-10T09:48:31.186Z"
   },
   {
    "duration": 10,
    "start_time": "2022-08-10T09:50:04.295Z"
   },
   {
    "duration": 9,
    "start_time": "2022-08-10T09:50:10.486Z"
   },
   {
    "duration": 21,
    "start_time": "2022-08-10T10:07:11.306Z"
   },
   {
    "duration": 3,
    "start_time": "2022-08-10T10:07:27.940Z"
   },
   {
    "duration": 103,
    "start_time": "2022-08-10T10:07:27.964Z"
   },
   {
    "duration": 23,
    "start_time": "2022-08-10T10:07:28.069Z"
   },
   {
    "duration": 15,
    "start_time": "2022-08-10T10:07:28.094Z"
   },
   {
    "duration": 19,
    "start_time": "2022-08-10T10:07:33.242Z"
   },
   {
    "duration": 11,
    "start_time": "2022-08-10T10:36:59.714Z"
   },
   {
    "duration": 31,
    "start_time": "2022-08-10T10:38:24.863Z"
   },
   {
    "duration": 4,
    "start_time": "2022-08-10T10:38:28.517Z"
   },
   {
    "duration": 3,
    "start_time": "2022-08-10T10:38:30.069Z"
   },
   {
    "duration": 19,
    "start_time": "2022-08-10T10:38:32.888Z"
   },
   {
    "duration": 32,
    "start_time": "2022-08-10T10:38:36.176Z"
   },
   {
    "duration": 13,
    "start_time": "2022-08-10T10:38:39.196Z"
   },
   {
    "duration": 9,
    "start_time": "2022-08-10T10:38:44.889Z"
   },
   {
    "duration": 7,
    "start_time": "2022-08-10T10:39:08.463Z"
   },
   {
    "duration": 818,
    "start_time": "2022-08-11T10:56:28.051Z"
   },
   {
    "duration": 185,
    "start_time": "2022-08-11T10:56:28.872Z"
   },
   {
    "duration": 26,
    "start_time": "2022-08-11T10:56:29.059Z"
   },
   {
    "duration": 25,
    "start_time": "2022-08-11T10:56:29.088Z"
   },
   {
    "duration": 19,
    "start_time": "2022-08-11T10:56:29.115Z"
   },
   {
    "duration": 4,
    "start_time": "2022-08-11T10:56:29.136Z"
   },
   {
    "duration": 24,
    "start_time": "2022-08-11T10:56:29.141Z"
   },
   {
    "duration": 43,
    "start_time": "2022-08-11T10:56:29.167Z"
   },
   {
    "duration": 19,
    "start_time": "2022-08-11T10:56:29.212Z"
   },
   {
    "duration": 33,
    "start_time": "2022-08-11T10:56:29.233Z"
   },
   {
    "duration": 41,
    "start_time": "2022-08-11T10:56:29.267Z"
   },
   {
    "duration": 5,
    "start_time": "2022-08-11T10:56:29.309Z"
   },
   {
    "duration": 28,
    "start_time": "2022-08-11T10:56:29.316Z"
   },
   {
    "duration": 33,
    "start_time": "2022-08-11T10:56:29.345Z"
   },
   {
    "duration": 24,
    "start_time": "2022-08-11T10:56:29.379Z"
   },
   {
    "duration": 6,
    "start_time": "2022-08-11T10:56:29.405Z"
   },
   {
    "duration": 26,
    "start_time": "2022-08-11T10:56:29.413Z"
   },
   {
    "duration": 16,
    "start_time": "2022-08-11T10:56:29.441Z"
   },
   {
    "duration": 13,
    "start_time": "2022-08-11T10:56:29.458Z"
   },
   {
    "duration": 41,
    "start_time": "2022-08-11T10:56:29.473Z"
   },
   {
    "duration": 13,
    "start_time": "2022-08-11T10:56:35.404Z"
   },
   {
    "duration": 52,
    "start_time": "2022-08-11T10:57:13.491Z"
   },
   {
    "duration": 3,
    "start_time": "2022-08-11T10:57:22.236Z"
   },
   {
    "duration": 43,
    "start_time": "2022-08-11T10:57:32.886Z"
   },
   {
    "duration": 83,
    "start_time": "2022-08-11T11:00:32.651Z"
   },
   {
    "duration": 12,
    "start_time": "2022-08-11T11:00:45.160Z"
   },
   {
    "duration": 17,
    "start_time": "2022-08-11T11:01:00.038Z"
   },
   {
    "duration": 13,
    "start_time": "2022-08-11T11:01:03.728Z"
   },
   {
    "duration": 3,
    "start_time": "2022-08-11T11:01:12.077Z"
   },
   {
    "duration": 110,
    "start_time": "2022-08-11T11:01:12.096Z"
   },
   {
    "duration": 24,
    "start_time": "2022-08-11T11:01:12.208Z"
   },
   {
    "duration": 18,
    "start_time": "2022-08-11T11:01:12.233Z"
   },
   {
    "duration": 25,
    "start_time": "2022-08-11T11:01:12.253Z"
   },
   {
    "duration": 23,
    "start_time": "2022-08-11T11:01:12.280Z"
   },
   {
    "duration": 26,
    "start_time": "2022-08-11T11:01:12.305Z"
   },
   {
    "duration": 20,
    "start_time": "2022-08-11T11:01:12.333Z"
   },
   {
    "duration": 53,
    "start_time": "2022-08-11T11:01:12.355Z"
   },
   {
    "duration": 36,
    "start_time": "2022-08-11T11:01:12.411Z"
   },
   {
    "duration": 15,
    "start_time": "2022-08-11T11:01:12.449Z"
   },
   {
    "duration": 4,
    "start_time": "2022-08-11T11:01:12.466Z"
   },
   {
    "duration": 50,
    "start_time": "2022-08-11T11:01:12.472Z"
   },
   {
    "duration": 32,
    "start_time": "2022-08-11T11:01:12.524Z"
   },
   {
    "duration": 3,
    "start_time": "2022-08-11T11:01:12.558Z"
   },
   {
    "duration": 10,
    "start_time": "2022-08-11T11:01:12.563Z"
   },
   {
    "duration": 44,
    "start_time": "2022-08-11T11:01:12.575Z"
   },
   {
    "duration": 16,
    "start_time": "2022-08-11T11:01:12.621Z"
   },
   {
    "duration": 10,
    "start_time": "2022-08-11T11:01:12.639Z"
   },
   {
    "duration": 22,
    "start_time": "2022-08-11T11:01:12.651Z"
   },
   {
    "duration": 2,
    "start_time": "2022-08-11T11:01:12.675Z"
   },
   {
    "duration": 12,
    "start_time": "2022-08-11T11:01:19.469Z"
   },
   {
    "duration": 13,
    "start_time": "2022-08-11T11:01:28.390Z"
   },
   {
    "duration": 4,
    "start_time": "2022-08-11T11:01:43.498Z"
   },
   {
    "duration": 3,
    "start_time": "2022-08-11T11:01:46.626Z"
   },
   {
    "duration": 20,
    "start_time": "2022-08-11T11:01:51.087Z"
   },
   {
    "duration": 15,
    "start_time": "2022-08-11T11:01:53.826Z"
   },
   {
    "duration": 8,
    "start_time": "2022-08-11T11:01:58.178Z"
   },
   {
    "duration": 21,
    "start_time": "2022-08-11T11:02:03.089Z"
   },
   {
    "duration": 12,
    "start_time": "2022-08-11T11:02:08.630Z"
   },
   {
    "duration": 13,
    "start_time": "2022-08-11T11:02:12.929Z"
   },
   {
    "duration": 12,
    "start_time": "2022-08-11T11:02:17.075Z"
   },
   {
    "duration": 11,
    "start_time": "2022-08-11T11:02:24.972Z"
   },
   {
    "duration": 41,
    "start_time": "2022-08-11T11:02:51.003Z"
   },
   {
    "duration": 45,
    "start_time": "2022-08-11T11:07:16.331Z"
   },
   {
    "duration": 8,
    "start_time": "2022-08-11T11:21:26.068Z"
   },
   {
    "duration": 21,
    "start_time": "2022-08-11T11:22:03.076Z"
   },
   {
    "duration": 8,
    "start_time": "2022-08-11T11:23:25.950Z"
   },
   {
    "duration": 9,
    "start_time": "2022-08-11T11:23:39.522Z"
   },
   {
    "duration": 378,
    "start_time": "2022-08-11T11:32:48.569Z"
   },
   {
    "duration": 9,
    "start_time": "2022-08-11T11:35:49.096Z"
   },
   {
    "duration": 43,
    "start_time": "2022-08-11T11:43:09.724Z"
   },
   {
    "duration": 49,
    "start_time": "2022-08-11T11:44:57.941Z"
   },
   {
    "duration": 20,
    "start_time": "2022-08-11T11:47:05.178Z"
   },
   {
    "duration": 10,
    "start_time": "2022-08-11T11:49:04.048Z"
   },
   {
    "duration": 145,
    "start_time": "2022-08-11T11:51:27.684Z"
   },
   {
    "duration": 3,
    "start_time": "2022-08-11T11:52:34.247Z"
   },
   {
    "duration": 105,
    "start_time": "2022-08-11T11:52:34.266Z"
   },
   {
    "duration": 35,
    "start_time": "2022-08-11T11:52:34.373Z"
   },
   {
    "duration": 24,
    "start_time": "2022-08-11T11:52:34.410Z"
   },
   {
    "duration": 21,
    "start_time": "2022-08-11T11:52:34.436Z"
   },
   {
    "duration": 4,
    "start_time": "2022-08-11T11:52:34.458Z"
   },
   {
    "duration": 47,
    "start_time": "2022-08-11T11:52:34.464Z"
   },
   {
    "duration": 18,
    "start_time": "2022-08-11T11:52:34.513Z"
   },
   {
    "duration": 20,
    "start_time": "2022-08-11T11:52:34.533Z"
   },
   {
    "duration": 56,
    "start_time": "2022-08-11T11:52:34.554Z"
   },
   {
    "duration": 15,
    "start_time": "2022-08-11T11:52:34.612Z"
   },
   {
    "duration": 4,
    "start_time": "2022-08-11T11:52:34.629Z"
   },
   {
    "duration": 39,
    "start_time": "2022-08-11T11:52:34.635Z"
   },
   {
    "duration": 8,
    "start_time": "2022-08-11T11:52:34.766Z"
   },
   {
    "duration": 34,
    "start_time": "2022-08-11T11:52:35.075Z"
   },
   {
    "duration": 4,
    "start_time": "2022-08-11T11:52:35.111Z"
   },
   {
    "duration": 6,
    "start_time": "2022-08-11T11:52:35.117Z"
   },
   {
    "duration": 45,
    "start_time": "2022-08-11T11:52:35.126Z"
   },
   {
    "duration": 30,
    "start_time": "2022-08-11T11:52:35.173Z"
   },
   {
    "duration": 44,
    "start_time": "2022-08-11T11:52:35.313Z"
   },
   {
    "duration": 18,
    "start_time": "2022-08-11T11:52:35.500Z"
   },
   {
    "duration": 143,
    "start_time": "2022-08-11T11:52:42.062Z"
   },
   {
    "duration": 8,
    "start_time": "2022-08-11T11:53:56.503Z"
   },
   {
    "duration": 16,
    "start_time": "2022-08-11T11:56:55.009Z"
   },
   {
    "duration": 19,
    "start_time": "2022-08-11T11:58:32.651Z"
   },
   {
    "duration": 13,
    "start_time": "2022-08-11T11:58:43.360Z"
   },
   {
    "duration": 14,
    "start_time": "2022-08-11T11:58:48.539Z"
   },
   {
    "duration": 23,
    "start_time": "2022-08-11T11:59:11.924Z"
   },
   {
    "duration": 7,
    "start_time": "2022-08-11T12:01:42.986Z"
   },
   {
    "duration": 11,
    "start_time": "2022-08-11T12:07:12.037Z"
   },
   {
    "duration": 10,
    "start_time": "2022-08-11T12:07:28.071Z"
   },
   {
    "duration": 225,
    "start_time": "2022-08-11T12:11:08.990Z"
   },
   {
    "duration": 167,
    "start_time": "2022-08-11T12:12:47.566Z"
   },
   {
    "duration": 154,
    "start_time": "2022-08-11T12:15:42.675Z"
   },
   {
    "duration": 7,
    "start_time": "2022-08-11T12:21:56.737Z"
   },
   {
    "duration": 6,
    "start_time": "2022-08-11T12:22:10.326Z"
   },
   {
    "duration": 8,
    "start_time": "2022-08-11T12:22:19.823Z"
   },
   {
    "duration": 43,
    "start_time": "2022-08-11T12:22:43.076Z"
   },
   {
    "duration": 15,
    "start_time": "2022-08-11T12:26:12.623Z"
   },
   {
    "duration": 18,
    "start_time": "2022-08-11T12:30:07.873Z"
   },
   {
    "duration": 27,
    "start_time": "2022-08-11T12:30:21.485Z"
   },
   {
    "duration": 64,
    "start_time": "2022-08-11T12:41:49.883Z"
   },
   {
    "duration": 52,
    "start_time": "2022-08-11T12:45:04.145Z"
   },
   {
    "duration": 25,
    "start_time": "2022-08-11T12:47:37.874Z"
   },
   {
    "duration": 2,
    "start_time": "2022-08-11T12:47:41.958Z"
   },
   {
    "duration": 105,
    "start_time": "2022-08-11T12:47:41.972Z"
   },
   {
    "duration": 30,
    "start_time": "2022-08-11T12:47:42.079Z"
   },
   {
    "duration": 16,
    "start_time": "2022-08-11T12:47:42.111Z"
   },
   {
    "duration": 25,
    "start_time": "2022-08-11T12:47:42.130Z"
   },
   {
    "duration": 7,
    "start_time": "2022-08-11T12:47:42.157Z"
   },
   {
    "duration": 43,
    "start_time": "2022-08-11T12:47:42.165Z"
   },
   {
    "duration": 19,
    "start_time": "2022-08-11T12:47:42.209Z"
   },
   {
    "duration": 20,
    "start_time": "2022-08-11T12:47:42.229Z"
   },
   {
    "duration": 41,
    "start_time": "2022-08-11T12:47:42.507Z"
   },
   {
    "duration": 6,
    "start_time": "2022-08-11T12:47:42.765Z"
   },
   {
    "duration": 33,
    "start_time": "2022-08-11T12:47:42.945Z"
   },
   {
    "duration": 40,
    "start_time": "2022-08-11T12:47:42.980Z"
   },
   {
    "duration": 13,
    "start_time": "2022-08-11T12:47:43.022Z"
   },
   {
    "duration": 6,
    "start_time": "2022-08-11T12:47:43.037Z"
   },
   {
    "duration": 27,
    "start_time": "2022-08-11T12:47:43.045Z"
   },
   {
    "duration": 32,
    "start_time": "2022-08-11T12:47:43.073Z"
   },
   {
    "duration": 33,
    "start_time": "2022-08-11T12:47:43.290Z"
   },
   {
    "duration": 4,
    "start_time": "2022-08-11T12:47:43.435Z"
   },
   {
    "duration": 21,
    "start_time": "2022-08-11T12:47:43.459Z"
   },
   {
    "duration": 24,
    "start_time": "2022-08-11T12:47:43.482Z"
   },
   {
    "duration": 18,
    "start_time": "2022-08-11T12:47:43.508Z"
   },
   {
    "duration": 8,
    "start_time": "2022-08-11T12:47:43.614Z"
   },
   {
    "duration": 45,
    "start_time": "2022-08-11T12:47:43.772Z"
   },
   {
    "duration": 17,
    "start_time": "2022-08-11T12:47:43.819Z"
   },
   {
    "duration": 10,
    "start_time": "2022-08-11T12:47:43.955Z"
   },
   {
    "duration": 143,
    "start_time": "2022-08-11T12:47:44.149Z"
   },
   {
    "duration": 24,
    "start_time": "2022-08-11T12:47:44.334Z"
   },
   {
    "duration": 26,
    "start_time": "2022-08-11T12:49:07.467Z"
   },
   {
    "duration": 43,
    "start_time": "2022-08-11T12:49:17.130Z"
   },
   {
    "duration": 9,
    "start_time": "2022-08-11T12:49:49.897Z"
   },
   {
    "duration": 23,
    "start_time": "2022-08-11T12:49:51.710Z"
   },
   {
    "duration": 52,
    "start_time": "2022-08-11T12:50:05.187Z"
   },
   {
    "duration": 44,
    "start_time": "2022-08-11T12:50:55.377Z"
   },
   {
    "duration": 42,
    "start_time": "2022-08-11T12:55:35.753Z"
   },
   {
    "duration": 2,
    "start_time": "2022-08-11T12:57:29.565Z"
   },
   {
    "duration": 105,
    "start_time": "2022-08-11T12:57:29.589Z"
   },
   {
    "duration": 23,
    "start_time": "2022-08-11T12:57:29.696Z"
   },
   {
    "duration": 21,
    "start_time": "2022-08-11T12:57:29.720Z"
   },
   {
    "duration": 25,
    "start_time": "2022-08-11T12:57:29.743Z"
   },
   {
    "duration": 14,
    "start_time": "2022-08-11T12:57:29.770Z"
   },
   {
    "duration": 35,
    "start_time": "2022-08-11T12:57:29.786Z"
   },
   {
    "duration": 20,
    "start_time": "2022-08-11T12:57:29.823Z"
   },
   {
    "duration": 20,
    "start_time": "2022-08-11T12:57:29.846Z"
   },
   {
    "duration": 66,
    "start_time": "2022-08-11T12:57:29.868Z"
   },
   {
    "duration": 6,
    "start_time": "2022-08-11T12:57:29.935Z"
   },
   {
    "duration": 38,
    "start_time": "2022-08-11T12:57:29.942Z"
   },
   {
    "duration": 59,
    "start_time": "2022-08-11T12:57:29.981Z"
   },
   {
    "duration": 13,
    "start_time": "2022-08-11T12:57:30.042Z"
   },
   {
    "duration": 3,
    "start_time": "2022-08-11T12:57:30.057Z"
   },
   {
    "duration": 52,
    "start_time": "2022-08-11T12:57:30.062Z"
   },
   {
    "duration": 8,
    "start_time": "2022-08-11T12:57:30.116Z"
   },
   {
    "duration": 31,
    "start_time": "2022-08-11T12:57:30.126Z"
   },
   {
    "duration": 3,
    "start_time": "2022-08-11T12:57:30.159Z"
   },
   {
    "duration": 13,
    "start_time": "2022-08-11T12:57:30.164Z"
   },
   {
    "duration": 23,
    "start_time": "2022-08-11T12:57:30.203Z"
   },
   {
    "duration": 34,
    "start_time": "2022-08-11T12:57:30.228Z"
   },
   {
    "duration": 34,
    "start_time": "2022-08-11T12:57:30.264Z"
   },
   {
    "duration": 57,
    "start_time": "2022-08-11T12:57:30.300Z"
   },
   {
    "duration": 17,
    "start_time": "2022-08-11T12:57:30.359Z"
   },
   {
    "duration": 22,
    "start_time": "2022-08-11T12:57:30.378Z"
   },
   {
    "duration": 162,
    "start_time": "2022-08-11T12:57:30.402Z"
   },
   {
    "duration": 3,
    "start_time": "2022-08-11T12:57:30.566Z"
   },
   {
    "duration": 48,
    "start_time": "2022-08-11T12:57:30.571Z"
   },
   {
    "duration": 44,
    "start_time": "2022-08-11T12:57:30.620Z"
   },
   {
    "duration": 7,
    "start_time": "2022-08-11T12:57:30.666Z"
   },
   {
    "duration": 41,
    "start_time": "2022-08-11T12:57:30.675Z"
   },
   {
    "duration": 57,
    "start_time": "2022-08-11T12:57:30.717Z"
   },
   {
    "duration": 13,
    "start_time": "2022-08-11T12:57:30.776Z"
   },
   {
    "duration": 30,
    "start_time": "2022-08-11T12:57:30.791Z"
   },
   {
    "duration": 46,
    "start_time": "2022-08-11T12:57:30.823Z"
   },
   {
    "duration": 4,
    "start_time": "2022-08-11T12:57:30.871Z"
   },
   {
    "duration": 22635,
    "start_time": "2022-08-11T12:57:30.876Z"
   },
   {
    "duration": 15,
    "start_time": "2022-08-11T12:57:53.513Z"
   },
   {
    "duration": 43,
    "start_time": "2022-08-11T12:57:53.559Z"
   },
   {
    "duration": 15,
    "start_time": "2022-08-11T12:58:20.792Z"
   },
   {
    "duration": 8,
    "start_time": "2022-08-11T13:06:48.774Z"
   },
   {
    "duration": 13,
    "start_time": "2022-08-11T13:07:08.900Z"
   },
   {
    "duration": 10,
    "start_time": "2022-08-11T14:45:03.892Z"
   },
   {
    "duration": 10,
    "start_time": "2022-08-11T14:51:19.250Z"
   },
   {
    "duration": 185,
    "start_time": "2022-08-11T15:45:15.141Z"
   },
   {
    "duration": 164,
    "start_time": "2022-08-11T15:45:30.130Z"
   },
   {
    "duration": 217,
    "start_time": "2022-08-11T15:48:28.757Z"
   },
   {
    "duration": 139,
    "start_time": "2022-08-11T15:48:45.104Z"
   },
   {
    "duration": 151,
    "start_time": "2022-08-11T15:49:03.163Z"
   },
   {
    "duration": 115,
    "start_time": "2022-08-11T17:46:41.741Z"
   },
   {
    "duration": 120,
    "start_time": "2022-08-11T17:47:04.556Z"
   },
   {
    "duration": 112,
    "start_time": "2022-08-11T17:47:29.634Z"
   },
   {
    "duration": 115,
    "start_time": "2022-08-11T17:48:33.134Z"
   },
   {
    "duration": 120,
    "start_time": "2022-08-11T17:48:51.761Z"
   },
   {
    "duration": 157,
    "start_time": "2022-08-11T17:50:24.116Z"
   },
   {
    "duration": 174,
    "start_time": "2022-08-11T17:50:38.382Z"
   },
   {
    "duration": 153,
    "start_time": "2022-08-11T17:50:44.872Z"
   },
   {
    "duration": 331,
    "start_time": "2022-08-11T17:50:52.760Z"
   },
   {
    "duration": 137,
    "start_time": "2022-08-11T17:51:01.488Z"
   },
   {
    "duration": 138,
    "start_time": "2022-08-11T17:53:41.019Z"
   },
   {
    "duration": 7,
    "start_time": "2022-08-11T17:55:01.960Z"
   },
   {
    "duration": 162,
    "start_time": "2022-08-11T17:57:11.803Z"
   },
   {
    "duration": 137,
    "start_time": "2022-08-11T17:57:24.617Z"
   },
   {
    "duration": 168,
    "start_time": "2022-08-11T18:17:33.573Z"
   },
   {
    "duration": 179,
    "start_time": "2022-08-11T18:18:05.579Z"
   },
   {
    "duration": 270,
    "start_time": "2022-08-11T18:18:23.243Z"
   },
   {
    "duration": 160,
    "start_time": "2022-08-11T18:18:29.330Z"
   },
   {
    "duration": 282,
    "start_time": "2022-08-11T18:24:09.006Z"
   },
   {
    "duration": 183,
    "start_time": "2022-08-11T18:24:15.388Z"
   },
   {
    "duration": 163,
    "start_time": "2022-08-11T18:24:19.852Z"
   },
   {
    "duration": 171,
    "start_time": "2022-08-11T18:24:33.681Z"
   },
   {
    "duration": 49,
    "start_time": "2022-08-14T10:22:05.538Z"
   },
   {
    "duration": 6,
    "start_time": "2022-08-14T10:22:10.746Z"
   },
   {
    "duration": 6,
    "start_time": "2022-08-14T10:22:12.746Z"
   },
   {
    "duration": 806,
    "start_time": "2022-08-14T10:22:16.275Z"
   },
   {
    "duration": 168,
    "start_time": "2022-08-14T10:22:17.084Z"
   },
   {
    "duration": 23,
    "start_time": "2022-08-14T10:22:17.254Z"
   },
   {
    "duration": 18,
    "start_time": "2022-08-14T10:22:17.279Z"
   },
   {
    "duration": 17,
    "start_time": "2022-08-14T10:22:17.298Z"
   },
   {
    "duration": 18,
    "start_time": "2022-08-14T10:22:17.316Z"
   },
   {
    "duration": 23,
    "start_time": "2022-08-14T10:22:17.335Z"
   },
   {
    "duration": 17,
    "start_time": "2022-08-14T10:22:17.360Z"
   },
   {
    "duration": 15,
    "start_time": "2022-08-14T10:22:17.378Z"
   },
   {
    "duration": 59,
    "start_time": "2022-08-14T10:22:17.395Z"
   },
   {
    "duration": 5,
    "start_time": "2022-08-14T10:22:17.456Z"
   },
   {
    "duration": 31,
    "start_time": "2022-08-14T10:22:17.463Z"
   },
   {
    "duration": 53,
    "start_time": "2022-08-14T10:22:17.496Z"
   },
   {
    "duration": 11,
    "start_time": "2022-08-14T10:22:17.551Z"
   },
   {
    "duration": 4,
    "start_time": "2022-08-14T10:22:17.563Z"
   },
   {
    "duration": 24,
    "start_time": "2022-08-14T10:22:17.568Z"
   },
   {
    "duration": 18,
    "start_time": "2022-08-14T10:22:17.611Z"
   },
   {
    "duration": 33,
    "start_time": "2022-08-14T10:22:17.630Z"
   },
   {
    "duration": 4,
    "start_time": "2022-08-14T10:22:17.664Z"
   },
   {
    "duration": 5,
    "start_time": "2022-08-14T10:22:17.669Z"
   },
   {
    "duration": 20,
    "start_time": "2022-08-14T10:22:17.675Z"
   },
   {
    "duration": 18,
    "start_time": "2022-08-14T10:22:17.717Z"
   },
   {
    "duration": 8,
    "start_time": "2022-08-14T10:22:17.736Z"
   },
   {
    "duration": 38,
    "start_time": "2022-08-14T10:22:17.745Z"
   },
   {
    "duration": 37,
    "start_time": "2022-08-14T10:22:17.785Z"
   },
   {
    "duration": 9,
    "start_time": "2022-08-14T10:22:17.824Z"
   },
   {
    "duration": 129,
    "start_time": "2022-08-14T10:22:17.835Z"
   },
   {
    "duration": 3,
    "start_time": "2022-08-14T10:22:17.968Z"
   },
   {
    "duration": 24,
    "start_time": "2022-08-14T10:22:17.973Z"
   },
   {
    "duration": 65,
    "start_time": "2022-08-14T10:22:17.998Z"
   },
   {
    "duration": 8,
    "start_time": "2022-08-14T10:22:18.065Z"
   },
   {
    "duration": 39,
    "start_time": "2022-08-14T10:22:18.074Z"
   },
   {
    "duration": 42,
    "start_time": "2022-08-14T10:22:18.115Z"
   },
   {
    "duration": 13,
    "start_time": "2022-08-14T10:22:18.159Z"
   },
   {
    "duration": 49,
    "start_time": "2022-08-14T10:22:18.173Z"
   },
   {
    "duration": 17,
    "start_time": "2022-08-14T10:22:18.224Z"
   },
   {
    "duration": 3,
    "start_time": "2022-08-14T10:22:18.242Z"
   },
   {
    "duration": 18292,
    "start_time": "2022-08-14T10:22:18.246Z"
   },
   {
    "duration": 12,
    "start_time": "2022-08-14T10:22:36.540Z"
   },
   {
    "duration": 42,
    "start_time": "2022-08-14T10:22:36.553Z"
   },
   {
    "duration": 12,
    "start_time": "2022-08-14T10:22:36.597Z"
   },
   {
    "duration": 23,
    "start_time": "2022-08-14T10:22:36.610Z"
   },
   {
    "duration": 123,
    "start_time": "2022-08-14T10:22:36.634Z"
   },
   {
    "duration": 122,
    "start_time": "2022-08-14T10:22:36.759Z"
   },
   {
    "duration": 3,
    "start_time": "2022-08-14T10:22:36.882Z"
   },
   {
    "duration": 55,
    "start_time": "2022-08-14T10:22:36.886Z"
   },
   {
    "duration": 0,
    "start_time": "2022-08-14T10:22:36.942Z"
   },
   {
    "duration": 0,
    "start_time": "2022-08-14T10:22:36.943Z"
   },
   {
    "duration": 0,
    "start_time": "2022-08-14T10:22:36.945Z"
   },
   {
    "duration": 0,
    "start_time": "2022-08-14T10:22:36.946Z"
   },
   {
    "duration": 0,
    "start_time": "2022-08-14T10:22:36.946Z"
   },
   {
    "duration": 0,
    "start_time": "2022-08-14T10:22:36.947Z"
   },
   {
    "duration": 0,
    "start_time": "2022-08-14T10:22:36.948Z"
   },
   {
    "duration": 0,
    "start_time": "2022-08-14T10:22:36.948Z"
   },
   {
    "duration": 0,
    "start_time": "2022-08-14T10:22:36.949Z"
   },
   {
    "duration": 0,
    "start_time": "2022-08-14T10:22:36.951Z"
   },
   {
    "duration": 9,
    "start_time": "2022-08-14T10:22:38.524Z"
   },
   {
    "duration": 7,
    "start_time": "2022-08-14T10:32:21.524Z"
   },
   {
    "duration": 9,
    "start_time": "2022-08-14T10:32:30.201Z"
   },
   {
    "duration": 1062,
    "start_time": "2022-08-14T10:37:17.335Z"
   },
   {
    "duration": 14,
    "start_time": "2022-08-14T10:38:10.973Z"
   },
   {
    "duration": 9,
    "start_time": "2022-08-14T10:39:52.923Z"
   },
   {
    "duration": 2,
    "start_time": "2022-08-14T10:40:09.268Z"
   },
   {
    "duration": 111,
    "start_time": "2022-08-14T10:40:09.287Z"
   },
   {
    "duration": 26,
    "start_time": "2022-08-14T10:40:09.400Z"
   },
   {
    "duration": 17,
    "start_time": "2022-08-14T10:40:09.427Z"
   },
   {
    "duration": 22,
    "start_time": "2022-08-14T10:40:09.446Z"
   },
   {
    "duration": 3,
    "start_time": "2022-08-14T10:40:09.469Z"
   },
   {
    "duration": 48,
    "start_time": "2022-08-14T10:40:09.474Z"
   },
   {
    "duration": 16,
    "start_time": "2022-08-14T10:40:09.524Z"
   },
   {
    "duration": 18,
    "start_time": "2022-08-14T10:40:09.542Z"
   },
   {
    "duration": 66,
    "start_time": "2022-08-14T10:40:09.561Z"
   },
   {
    "duration": 7,
    "start_time": "2022-08-14T10:40:09.631Z"
   },
   {
    "duration": 30,
    "start_time": "2022-08-14T10:40:09.639Z"
   },
   {
    "duration": 56,
    "start_time": "2022-08-14T10:40:09.670Z"
   },
   {
    "duration": 15,
    "start_time": "2022-08-14T10:40:09.728Z"
   },
   {
    "duration": 3,
    "start_time": "2022-08-14T10:40:09.745Z"
   },
   {
    "duration": 39,
    "start_time": "2022-08-14T10:40:09.750Z"
   },
   {
    "duration": 9,
    "start_time": "2022-08-14T10:40:09.791Z"
   },
   {
    "duration": 44,
    "start_time": "2022-08-14T10:40:09.810Z"
   },
   {
    "duration": 3,
    "start_time": "2022-08-14T10:40:09.856Z"
   },
   {
    "duration": 9,
    "start_time": "2022-08-14T10:40:09.860Z"
   },
   {
    "duration": 24,
    "start_time": "2022-08-14T10:40:09.870Z"
   },
   {
    "duration": 30,
    "start_time": "2022-08-14T10:40:09.895Z"
   },
   {
    "duration": 12,
    "start_time": "2022-08-14T10:40:09.927Z"
   },
   {
    "duration": 37,
    "start_time": "2022-08-14T10:40:09.942Z"
   },
   {
    "duration": 15,
    "start_time": "2022-08-14T10:40:09.981Z"
   },
   {
    "duration": 29,
    "start_time": "2022-08-14T10:40:09.998Z"
   },
   {
    "duration": 130,
    "start_time": "2022-08-14T10:40:10.029Z"
   },
   {
    "duration": 3,
    "start_time": "2022-08-14T10:40:10.160Z"
   },
   {
    "duration": 28,
    "start_time": "2022-08-14T10:40:10.164Z"
   },
   {
    "duration": 63,
    "start_time": "2022-08-14T10:40:10.193Z"
   },
   {
    "duration": 6,
    "start_time": "2022-08-14T10:40:10.258Z"
   },
   {
    "duration": 24,
    "start_time": "2022-08-14T10:40:10.266Z"
   },
   {
    "duration": 56,
    "start_time": "2022-08-14T10:40:10.292Z"
   },
   {
    "duration": 12,
    "start_time": "2022-08-14T10:40:10.350Z"
   },
   {
    "duration": 22,
    "start_time": "2022-08-14T10:40:10.364Z"
   },
   {
    "duration": 41,
    "start_time": "2022-08-14T10:40:10.388Z"
   },
   {
    "duration": 3,
    "start_time": "2022-08-14T10:40:10.430Z"
   },
   {
    "duration": 19316,
    "start_time": "2022-08-14T10:40:10.435Z"
   },
   {
    "duration": 13,
    "start_time": "2022-08-14T10:40:29.753Z"
   },
   {
    "duration": 34,
    "start_time": "2022-08-14T10:40:29.768Z"
   },
   {
    "duration": 31,
    "start_time": "2022-08-14T10:40:29.804Z"
   },
   {
    "duration": 12,
    "start_time": "2022-08-14T10:40:29.836Z"
   },
   {
    "duration": 123,
    "start_time": "2022-08-14T10:40:29.850Z"
   },
   {
    "duration": 169,
    "start_time": "2022-08-14T10:40:29.976Z"
   },
   {
    "duration": 3,
    "start_time": "2022-08-14T10:40:30.146Z"
   },
   {
    "duration": 107,
    "start_time": "2022-08-14T10:40:30.150Z"
   },
   {
    "duration": 0,
    "start_time": "2022-08-14T10:40:30.259Z"
   },
   {
    "duration": 0,
    "start_time": "2022-08-14T10:40:30.260Z"
   },
   {
    "duration": 0,
    "start_time": "2022-08-14T10:40:30.261Z"
   },
   {
    "duration": 0,
    "start_time": "2022-08-14T10:40:30.262Z"
   },
   {
    "duration": 1,
    "start_time": "2022-08-14T10:40:30.263Z"
   },
   {
    "duration": 0,
    "start_time": "2022-08-14T10:40:30.265Z"
   },
   {
    "duration": 0,
    "start_time": "2022-08-14T10:40:30.266Z"
   },
   {
    "duration": 0,
    "start_time": "2022-08-14T10:40:30.267Z"
   },
   {
    "duration": 0,
    "start_time": "2022-08-14T10:40:30.267Z"
   },
   {
    "duration": 0,
    "start_time": "2022-08-14T10:40:30.268Z"
   },
   {
    "duration": 10,
    "start_time": "2022-08-14T10:40:30.692Z"
   },
   {
    "duration": 9,
    "start_time": "2022-08-14T10:42:13.361Z"
   },
   {
    "duration": 10,
    "start_time": "2022-08-14T10:42:36.679Z"
   },
   {
    "duration": 1631,
    "start_time": "2022-08-14T10:43:25.964Z"
   },
   {
    "duration": 130,
    "start_time": "2022-08-14T10:52:38.201Z"
   },
   {
    "duration": 1580,
    "start_time": "2022-08-14T10:52:43.393Z"
   },
   {
    "duration": 89,
    "start_time": "2022-08-14T10:53:00.488Z"
   },
   {
    "duration": 65,
    "start_time": "2022-08-14T10:53:09.923Z"
   },
   {
    "duration": 63,
    "start_time": "2022-08-14T10:53:21.278Z"
   },
   {
    "duration": 24,
    "start_time": "2022-08-14T10:53:27.503Z"
   },
   {
    "duration": 1519,
    "start_time": "2022-08-14T10:54:19.409Z"
   },
   {
    "duration": 17,
    "start_time": "2022-08-14T10:55:34.035Z"
   },
   {
    "duration": 11,
    "start_time": "2022-08-14T10:55:36.661Z"
   },
   {
    "duration": 1663,
    "start_time": "2022-08-14T10:55:43.075Z"
   },
   {
    "duration": 1619,
    "start_time": "2022-08-14T10:55:52.690Z"
   },
   {
    "duration": 8,
    "start_time": "2022-08-14T10:56:29.541Z"
   },
   {
    "duration": 12,
    "start_time": "2022-08-14T10:56:33.978Z"
   },
   {
    "duration": 1645,
    "start_time": "2022-08-14T10:58:01.547Z"
   },
   {
    "duration": 936,
    "start_time": "2022-08-14T10:59:17.739Z"
   },
   {
    "duration": 1057,
    "start_time": "2022-08-14T10:59:36.907Z"
   },
   {
    "duration": 64,
    "start_time": "2022-08-14T11:02:07.383Z"
   },
   {
    "duration": 53,
    "start_time": "2022-08-14T11:02:33.601Z"
   },
   {
    "duration": 5,
    "start_time": "2022-08-14T11:02:39.950Z"
   },
   {
    "duration": 5,
    "start_time": "2022-08-14T11:03:55.642Z"
   },
   {
    "duration": 591,
    "start_time": "2022-08-14T11:04:13.755Z"
   },
   {
    "duration": 188,
    "start_time": "2022-08-14T11:04:14.347Z"
   },
   {
    "duration": 22,
    "start_time": "2022-08-14T11:04:14.536Z"
   },
   {
    "duration": 19,
    "start_time": "2022-08-14T11:04:14.560Z"
   },
   {
    "duration": 18,
    "start_time": "2022-08-14T11:04:14.580Z"
   },
   {
    "duration": 5,
    "start_time": "2022-08-14T11:04:14.599Z"
   },
   {
    "duration": 32,
    "start_time": "2022-08-14T11:04:14.605Z"
   },
   {
    "duration": 18,
    "start_time": "2022-08-14T11:04:14.639Z"
   },
   {
    "duration": 16,
    "start_time": "2022-08-14T11:04:14.659Z"
   },
   {
    "duration": 74,
    "start_time": "2022-08-14T11:04:14.678Z"
   },
   {
    "duration": 5,
    "start_time": "2022-08-14T11:04:14.753Z"
   },
   {
    "duration": 29,
    "start_time": "2022-08-14T11:04:14.760Z"
   },
   {
    "duration": 51,
    "start_time": "2022-08-14T11:04:14.790Z"
   },
   {
    "duration": 13,
    "start_time": "2022-08-14T11:04:14.842Z"
   },
   {
    "duration": 10,
    "start_time": "2022-08-14T11:04:14.856Z"
   },
   {
    "duration": 58,
    "start_time": "2022-08-14T11:04:14.868Z"
   },
   {
    "duration": 8,
    "start_time": "2022-08-14T11:04:14.928Z"
   },
   {
    "duration": 29,
    "start_time": "2022-08-14T11:04:14.937Z"
   },
   {
    "duration": 4,
    "start_time": "2022-08-14T11:04:14.967Z"
   },
   {
    "duration": 9,
    "start_time": "2022-08-14T11:04:14.972Z"
   },
   {
    "duration": 48,
    "start_time": "2022-08-14T11:04:14.983Z"
   },
   {
    "duration": 12,
    "start_time": "2022-08-14T11:04:15.033Z"
   },
   {
    "duration": 8,
    "start_time": "2022-08-14T11:04:15.047Z"
   },
   {
    "duration": 61,
    "start_time": "2022-08-14T11:04:15.056Z"
   },
   {
    "duration": 16,
    "start_time": "2022-08-14T11:04:15.118Z"
   },
   {
    "duration": 14,
    "start_time": "2022-08-14T11:04:15.136Z"
   },
   {
    "duration": 139,
    "start_time": "2022-08-14T11:04:15.151Z"
   },
   {
    "duration": 3,
    "start_time": "2022-08-14T11:04:15.293Z"
   },
   {
    "duration": 38,
    "start_time": "2022-08-14T11:04:15.298Z"
   },
   {
    "duration": 42,
    "start_time": "2022-08-14T11:04:15.338Z"
   },
   {
    "duration": 7,
    "start_time": "2022-08-14T11:04:15.381Z"
   },
   {
    "duration": 43,
    "start_time": "2022-08-14T11:04:15.389Z"
   },
   {
    "duration": 43,
    "start_time": "2022-08-14T11:04:15.434Z"
   },
   {
    "duration": 13,
    "start_time": "2022-08-14T11:04:15.478Z"
   },
   {
    "duration": 42,
    "start_time": "2022-08-14T11:04:15.492Z"
   },
   {
    "duration": 16,
    "start_time": "2022-08-14T11:04:15.535Z"
   },
   {
    "duration": 2,
    "start_time": "2022-08-14T11:04:15.553Z"
   },
   {
    "duration": 19212,
    "start_time": "2022-08-14T11:04:15.557Z"
   },
   {
    "duration": 15,
    "start_time": "2022-08-14T11:04:34.771Z"
   },
   {
    "duration": 41,
    "start_time": "2022-08-14T11:04:34.788Z"
   },
   {
    "duration": 15,
    "start_time": "2022-08-14T11:04:34.831Z"
   },
   {
    "duration": 8,
    "start_time": "2022-08-14T11:04:34.847Z"
   },
   {
    "duration": 139,
    "start_time": "2022-08-14T11:04:34.857Z"
   },
   {
    "duration": 142,
    "start_time": "2022-08-14T11:04:34.998Z"
   },
   {
    "duration": 2,
    "start_time": "2022-08-14T11:04:35.142Z"
   },
   {
    "duration": 111,
    "start_time": "2022-08-14T11:04:35.146Z"
   },
   {
    "duration": 0,
    "start_time": "2022-08-14T11:04:35.259Z"
   },
   {
    "duration": 0,
    "start_time": "2022-08-14T11:04:35.259Z"
   },
   {
    "duration": 0,
    "start_time": "2022-08-14T11:04:35.260Z"
   },
   {
    "duration": 0,
    "start_time": "2022-08-14T11:04:35.261Z"
   },
   {
    "duration": 0,
    "start_time": "2022-08-14T11:04:35.262Z"
   },
   {
    "duration": 0,
    "start_time": "2022-08-14T11:04:35.263Z"
   },
   {
    "duration": 0,
    "start_time": "2022-08-14T11:04:35.264Z"
   },
   {
    "duration": 0,
    "start_time": "2022-08-14T11:04:35.265Z"
   },
   {
    "duration": 0,
    "start_time": "2022-08-14T11:04:35.266Z"
   },
   {
    "duration": 0,
    "start_time": "2022-08-14T11:04:35.267Z"
   },
   {
    "duration": 0,
    "start_time": "2022-08-14T11:04:35.269Z"
   },
   {
    "duration": 1602,
    "start_time": "2022-08-14T11:05:04.765Z"
   },
   {
    "duration": 1511,
    "start_time": "2022-08-14T11:06:00.575Z"
   },
   {
    "duration": 1486,
    "start_time": "2022-08-14T11:06:24.310Z"
   },
   {
    "duration": 1618,
    "start_time": "2022-08-14T11:06:32.339Z"
   },
   {
    "duration": 206,
    "start_time": "2022-08-14T11:06:47.184Z"
   },
   {
    "duration": 13,
    "start_time": "2022-08-14T11:07:15.748Z"
   },
   {
    "duration": 144,
    "start_time": "2022-08-14T11:07:34.563Z"
   },
   {
    "duration": 135,
    "start_time": "2022-08-14T11:07:45.950Z"
   },
   {
    "duration": 144,
    "start_time": "2022-08-14T11:07:53.789Z"
   },
   {
    "duration": 157,
    "start_time": "2022-08-14T11:08:23.610Z"
   },
   {
    "duration": 10,
    "start_time": "2022-08-14T11:08:37.633Z"
   },
   {
    "duration": 155,
    "start_time": "2022-08-14T11:09:37.334Z"
   },
   {
    "duration": 159,
    "start_time": "2022-08-14T11:11:42.302Z"
   },
   {
    "duration": 146,
    "start_time": "2022-08-14T11:12:06.197Z"
   },
   {
    "duration": 142,
    "start_time": "2022-08-14T11:12:20.603Z"
   },
   {
    "duration": 8,
    "start_time": "2022-08-14T11:12:41.842Z"
   },
   {
    "duration": 155,
    "start_time": "2022-08-14T11:17:42.884Z"
   },
   {
    "duration": 3,
    "start_time": "2022-08-14T11:18:44.293Z"
   },
   {
    "duration": 112,
    "start_time": "2022-08-14T11:18:44.322Z"
   },
   {
    "duration": 22,
    "start_time": "2022-08-14T11:18:44.436Z"
   },
   {
    "duration": 14,
    "start_time": "2022-08-14T11:18:44.459Z"
   },
   {
    "duration": 17,
    "start_time": "2022-08-14T11:18:44.475Z"
   },
   {
    "duration": 30,
    "start_time": "2022-08-14T11:18:44.493Z"
   },
   {
    "duration": 37,
    "start_time": "2022-08-14T11:18:44.525Z"
   },
   {
    "duration": 29,
    "start_time": "2022-08-14T11:18:44.564Z"
   },
   {
    "duration": 34,
    "start_time": "2022-08-14T11:18:44.595Z"
   },
   {
    "duration": 37,
    "start_time": "2022-08-14T11:18:44.632Z"
   },
   {
    "duration": 6,
    "start_time": "2022-08-14T11:18:44.670Z"
   },
   {
    "duration": 59,
    "start_time": "2022-08-14T11:18:44.677Z"
   },
   {
    "duration": 32,
    "start_time": "2022-08-14T11:18:44.737Z"
   },
   {
    "duration": 11,
    "start_time": "2022-08-14T11:18:44.771Z"
   },
   {
    "duration": 2,
    "start_time": "2022-08-14T11:18:44.784Z"
   },
   {
    "duration": 21,
    "start_time": "2022-08-14T11:18:44.821Z"
   },
   {
    "duration": 8,
    "start_time": "2022-08-14T11:18:44.843Z"
   },
   {
    "duration": 30,
    "start_time": "2022-08-14T11:18:44.852Z"
   },
   {
    "duration": 3,
    "start_time": "2022-08-14T11:18:44.884Z"
   },
   {
    "duration": 11,
    "start_time": "2022-08-14T11:18:44.915Z"
   },
   {
    "duration": 21,
    "start_time": "2022-08-14T11:18:44.927Z"
   },
   {
    "duration": 13,
    "start_time": "2022-08-14T11:18:44.950Z"
   },
   {
    "duration": 10,
    "start_time": "2022-08-14T11:18:44.964Z"
   },
   {
    "duration": 53,
    "start_time": "2022-08-14T11:18:44.976Z"
   },
   {
    "duration": 14,
    "start_time": "2022-08-14T11:18:45.031Z"
   },
   {
    "duration": 9,
    "start_time": "2022-08-14T11:18:45.047Z"
   },
   {
    "duration": 138,
    "start_time": "2022-08-14T11:18:45.058Z"
   },
   {
    "duration": 3,
    "start_time": "2022-08-14T11:18:45.198Z"
   },
   {
    "duration": 25,
    "start_time": "2022-08-14T11:18:45.218Z"
   },
   {
    "duration": 41,
    "start_time": "2022-08-14T11:18:45.244Z"
   },
   {
    "duration": 6,
    "start_time": "2022-08-14T11:18:45.287Z"
   },
   {
    "duration": 33,
    "start_time": "2022-08-14T11:18:45.310Z"
   },
   {
    "duration": 43,
    "start_time": "2022-08-14T11:18:45.345Z"
   },
   {
    "duration": 45,
    "start_time": "2022-08-14T11:18:45.389Z"
   },
   {
    "duration": 27,
    "start_time": "2022-08-14T11:18:45.436Z"
   },
   {
    "duration": 23,
    "start_time": "2022-08-14T11:18:45.464Z"
   },
   {
    "duration": 2,
    "start_time": "2022-08-14T11:18:45.490Z"
   },
   {
    "duration": 19086,
    "start_time": "2022-08-14T11:18:45.494Z"
   },
   {
    "duration": 12,
    "start_time": "2022-08-14T11:19:04.582Z"
   },
   {
    "duration": 32,
    "start_time": "2022-08-14T11:19:04.596Z"
   },
   {
    "duration": 19,
    "start_time": "2022-08-14T11:19:04.629Z"
   },
   {
    "duration": 22,
    "start_time": "2022-08-14T11:19:04.650Z"
   },
   {
    "duration": 129,
    "start_time": "2022-08-14T11:19:04.674Z"
   },
   {
    "duration": 2,
    "start_time": "2022-08-14T11:19:04.805Z"
   },
   {
    "duration": 78,
    "start_time": "2022-08-14T11:19:04.810Z"
   },
   {
    "duration": 0,
    "start_time": "2022-08-14T11:19:04.893Z"
   },
   {
    "duration": 163,
    "start_time": "2022-08-14T11:19:15.315Z"
   },
   {
    "duration": 235,
    "start_time": "2022-08-14T11:19:21.100Z"
   },
   {
    "duration": 125,
    "start_time": "2022-08-14T11:20:06.282Z"
   },
   {
    "duration": 123,
    "start_time": "2022-08-14T11:20:20.331Z"
   },
   {
    "duration": 124,
    "start_time": "2022-08-14T11:20:25.124Z"
   },
   {
    "duration": 119,
    "start_time": "2022-08-14T11:20:33.336Z"
   },
   {
    "duration": 152,
    "start_time": "2022-08-14T11:20:37.005Z"
   },
   {
    "duration": 126,
    "start_time": "2022-08-14T11:20:45.461Z"
   },
   {
    "duration": 132,
    "start_time": "2022-08-14T11:21:14.305Z"
   },
   {
    "duration": 125,
    "start_time": "2022-08-14T11:21:20.476Z"
   },
   {
    "duration": 40,
    "start_time": "2022-08-14T11:24:12.943Z"
   },
   {
    "duration": 99,
    "start_time": "2022-08-14T11:24:53.567Z"
   },
   {
    "duration": 127,
    "start_time": "2022-08-14T11:25:02.346Z"
   },
   {
    "duration": 11,
    "start_time": "2022-08-14T11:25:29.680Z"
   },
   {
    "duration": 108,
    "start_time": "2022-08-14T11:25:38.923Z"
   },
   {
    "duration": 6,
    "start_time": "2022-08-14T11:25:47.427Z"
   },
   {
    "duration": 4,
    "start_time": "2022-08-14T11:25:54.824Z"
   },
   {
    "duration": 8,
    "start_time": "2022-08-14T11:26:01.992Z"
   },
   {
    "duration": 99,
    "start_time": "2022-08-14T11:26:06.165Z"
   },
   {
    "duration": 193,
    "start_time": "2022-08-14T11:30:20.165Z"
   },
   {
    "duration": 102,
    "start_time": "2022-08-14T11:30:30.292Z"
   },
   {
    "duration": 95,
    "start_time": "2022-08-14T11:30:48.965Z"
   },
   {
    "duration": 44,
    "start_time": "2022-08-14T11:30:54.662Z"
   },
   {
    "duration": 4,
    "start_time": "2022-08-14T11:31:01.274Z"
   },
   {
    "duration": 124,
    "start_time": "2022-08-14T11:31:43.701Z"
   },
   {
    "duration": 99,
    "start_time": "2022-08-14T11:31:46.062Z"
   },
   {
    "duration": 106,
    "start_time": "2022-08-14T11:32:08.973Z"
   },
   {
    "duration": 241,
    "start_time": "2022-08-14T11:33:53.125Z"
   },
   {
    "duration": 131,
    "start_time": "2022-08-14T11:34:03.989Z"
   },
   {
    "duration": 153,
    "start_time": "2022-08-14T11:34:15.520Z"
   },
   {
    "duration": 126,
    "start_time": "2022-08-14T11:34:24.378Z"
   },
   {
    "duration": 142,
    "start_time": "2022-08-14T11:34:32.495Z"
   },
   {
    "duration": 118,
    "start_time": "2022-08-14T11:34:39.210Z"
   },
   {
    "duration": 115,
    "start_time": "2022-08-14T11:35:01.667Z"
   },
   {
    "duration": 3,
    "start_time": "2022-08-14T11:35:19.474Z"
   },
   {
    "duration": 121,
    "start_time": "2022-08-14T11:35:19.489Z"
   },
   {
    "duration": 32,
    "start_time": "2022-08-14T11:35:19.618Z"
   },
   {
    "duration": 18,
    "start_time": "2022-08-14T11:35:19.651Z"
   },
   {
    "duration": 47,
    "start_time": "2022-08-14T11:35:19.672Z"
   },
   {
    "duration": 4,
    "start_time": "2022-08-14T11:35:19.726Z"
   },
   {
    "duration": 26,
    "start_time": "2022-08-14T11:35:19.732Z"
   },
   {
    "duration": 26,
    "start_time": "2022-08-14T11:35:19.760Z"
   },
   {
    "duration": 39,
    "start_time": "2022-08-14T11:35:19.789Z"
   },
   {
    "duration": 40,
    "start_time": "2022-08-14T11:35:19.830Z"
   },
   {
    "duration": 5,
    "start_time": "2022-08-14T11:35:19.873Z"
   },
   {
    "duration": 56,
    "start_time": "2022-08-14T11:35:19.880Z"
   },
   {
    "duration": 40,
    "start_time": "2022-08-14T11:35:19.938Z"
   },
   {
    "duration": 37,
    "start_time": "2022-08-14T11:35:19.980Z"
   },
   {
    "duration": 9,
    "start_time": "2022-08-14T11:35:20.018Z"
   },
   {
    "duration": 32,
    "start_time": "2022-08-14T11:35:20.029Z"
   },
   {
    "duration": 9,
    "start_time": "2022-08-14T11:35:20.063Z"
   },
   {
    "duration": 53,
    "start_time": "2022-08-14T11:35:20.073Z"
   },
   {
    "duration": 4,
    "start_time": "2022-08-14T11:35:20.128Z"
   },
   {
    "duration": 7,
    "start_time": "2022-08-14T11:35:20.133Z"
   },
   {
    "duration": 18,
    "start_time": "2022-08-14T11:35:20.142Z"
   },
   {
    "duration": 12,
    "start_time": "2022-08-14T11:35:20.162Z"
   },
   {
    "duration": 9,
    "start_time": "2022-08-14T11:35:20.176Z"
   },
   {
    "duration": 53,
    "start_time": "2022-08-14T11:35:20.187Z"
   },
   {
    "duration": 13,
    "start_time": "2022-08-14T11:35:20.242Z"
   },
   {
    "duration": 12,
    "start_time": "2022-08-14T11:35:20.257Z"
   },
   {
    "duration": 133,
    "start_time": "2022-08-14T11:35:20.270Z"
   },
   {
    "duration": 7,
    "start_time": "2022-08-14T11:35:20.404Z"
   },
   {
    "duration": 35,
    "start_time": "2022-08-14T11:35:20.414Z"
   },
   {
    "duration": 39,
    "start_time": "2022-08-14T11:35:20.451Z"
   },
   {
    "duration": 5,
    "start_time": "2022-08-14T11:35:20.492Z"
   },
   {
    "duration": 36,
    "start_time": "2022-08-14T11:35:20.499Z"
   },
   {
    "duration": 38,
    "start_time": "2022-08-14T11:35:20.536Z"
   },
   {
    "duration": 11,
    "start_time": "2022-08-14T11:35:20.575Z"
   },
   {
    "duration": 48,
    "start_time": "2022-08-14T11:35:20.588Z"
   },
   {
    "duration": 15,
    "start_time": "2022-08-14T11:35:20.638Z"
   },
   {
    "duration": 2,
    "start_time": "2022-08-14T11:35:20.655Z"
   },
   {
    "duration": 19237,
    "start_time": "2022-08-14T11:35:20.659Z"
   },
   {
    "duration": 29,
    "start_time": "2022-08-14T11:35:39.897Z"
   },
   {
    "duration": 24,
    "start_time": "2022-08-14T11:35:39.928Z"
   },
   {
    "duration": 20,
    "start_time": "2022-08-14T11:35:39.953Z"
   },
   {
    "duration": 23,
    "start_time": "2022-08-14T11:35:39.975Z"
   },
   {
    "duration": 128,
    "start_time": "2022-08-14T11:35:39.999Z"
   },
   {
    "duration": 122,
    "start_time": "2022-08-14T11:35:40.129Z"
   },
   {
    "duration": 3,
    "start_time": "2022-08-14T11:35:40.253Z"
   },
   {
    "duration": 55,
    "start_time": "2022-08-14T11:35:40.257Z"
   },
   {
    "duration": 0,
    "start_time": "2022-08-14T11:35:40.315Z"
   },
   {
    "duration": 123,
    "start_time": "2022-08-14T11:35:46.423Z"
   },
   {
    "duration": 115,
    "start_time": "2022-08-14T11:37:44.325Z"
   },
   {
    "duration": 141,
    "start_time": "2022-08-14T11:37:50.769Z"
   },
   {
    "duration": 127,
    "start_time": "2022-08-14T11:38:03.724Z"
   },
   {
    "duration": 144,
    "start_time": "2022-08-14T11:38:13.483Z"
   },
   {
    "duration": 138,
    "start_time": "2022-08-14T11:38:25.947Z"
   },
   {
    "duration": 123,
    "start_time": "2022-08-14T11:43:57.464Z"
   },
   {
    "duration": 122,
    "start_time": "2022-08-14T11:45:09.826Z"
   },
   {
    "duration": 248,
    "start_time": "2022-08-14T11:45:28.829Z"
   },
   {
    "duration": 122,
    "start_time": "2022-08-14T11:45:32.242Z"
   },
   {
    "duration": 118,
    "start_time": "2022-08-14T11:45:41.793Z"
   },
   {
    "duration": 10,
    "start_time": "2022-08-14T12:04:35.909Z"
   },
   {
    "duration": 130,
    "start_time": "2022-08-14T12:12:37.519Z"
   },
   {
    "duration": 9,
    "start_time": "2022-08-14T12:23:06.789Z"
   },
   {
    "duration": 11,
    "start_time": "2022-08-14T12:23:23.034Z"
   },
   {
    "duration": 36,
    "start_time": "2022-08-14T12:38:52.709Z"
   },
   {
    "duration": 7,
    "start_time": "2022-08-14T12:39:45.558Z"
   },
   {
    "duration": 240,
    "start_time": "2022-08-14T12:41:09.190Z"
   },
   {
    "duration": 433,
    "start_time": "2022-08-14T12:41:29.575Z"
   },
   {
    "duration": 425,
    "start_time": "2022-08-14T12:41:53.348Z"
   },
   {
    "duration": 550,
    "start_time": "2022-08-14T12:42:41.271Z"
   },
   {
    "duration": 329,
    "start_time": "2022-08-14T12:43:05.645Z"
   },
   {
    "duration": 340,
    "start_time": "2022-08-14T12:43:24.207Z"
   },
   {
    "duration": 27,
    "start_time": "2022-08-14T12:43:49.508Z"
   },
   {
    "duration": 391,
    "start_time": "2022-08-14T12:44:05.895Z"
   },
   {
    "duration": 325,
    "start_time": "2022-08-14T12:44:24.107Z"
   },
   {
    "duration": 496,
    "start_time": "2022-08-14T12:44:36.148Z"
   },
   {
    "duration": 160,
    "start_time": "2022-08-14T12:44:53.443Z"
   },
   {
    "duration": 181,
    "start_time": "2022-08-14T12:45:07.106Z"
   },
   {
    "duration": 136,
    "start_time": "2022-08-14T12:51:53.408Z"
   },
   {
    "duration": 231,
    "start_time": "2022-08-14T12:52:06.740Z"
   },
   {
    "duration": 172,
    "start_time": "2022-08-14T12:52:15.009Z"
   },
   {
    "duration": 151,
    "start_time": "2022-08-14T12:52:23.907Z"
   },
   {
    "duration": 72,
    "start_time": "2022-08-14T12:52:41.730Z"
   },
   {
    "duration": 48,
    "start_time": "2022-08-14T12:52:46.823Z"
   },
   {
    "duration": 44,
    "start_time": "2022-08-14T12:52:54.923Z"
   },
   {
    "duration": 91,
    "start_time": "2022-08-14T12:53:11.338Z"
   },
   {
    "duration": 155,
    "start_time": "2022-08-14T12:53:24.808Z"
   },
   {
    "duration": 102,
    "start_time": "2022-08-14T12:55:56.077Z"
   },
   {
    "duration": 957,
    "start_time": "2022-08-14T12:58:42.279Z"
   },
   {
    "duration": 11,
    "start_time": "2022-08-14T12:58:55.246Z"
   },
   {
    "duration": 8,
    "start_time": "2022-08-14T12:58:58.828Z"
   },
   {
    "duration": 724,
    "start_time": "2022-08-14T12:59:05.931Z"
   },
   {
    "duration": 723,
    "start_time": "2022-08-14T13:01:06.331Z"
   },
   {
    "duration": 841,
    "start_time": "2022-08-14T14:19:13.868Z"
   },
   {
    "duration": 125,
    "start_time": "2022-08-14T14:19:26.595Z"
   },
   {
    "duration": 6,
    "start_time": "2022-08-14T14:22:06.150Z"
   },
   {
    "duration": 6,
    "start_time": "2022-08-14T14:23:08.148Z"
   },
   {
    "duration": 5,
    "start_time": "2022-08-14T14:23:30.226Z"
   },
   {
    "duration": 9,
    "start_time": "2022-08-14T14:23:57.791Z"
   },
   {
    "duration": 5,
    "start_time": "2022-08-14T14:24:02.124Z"
   },
   {
    "duration": 6,
    "start_time": "2022-08-14T14:24:13.024Z"
   },
   {
    "duration": 2,
    "start_time": "2022-08-14T14:28:31.360Z"
   },
   {
    "duration": 3,
    "start_time": "2022-08-14T14:31:12.559Z"
   },
   {
    "duration": 2,
    "start_time": "2022-08-14T14:31:18.191Z"
   },
   {
    "duration": 108,
    "start_time": "2022-08-14T14:31:18.224Z"
   },
   {
    "duration": 19,
    "start_time": "2022-08-14T14:31:18.334Z"
   },
   {
    "duration": 26,
    "start_time": "2022-08-14T14:31:18.355Z"
   },
   {
    "duration": 20,
    "start_time": "2022-08-14T14:31:18.383Z"
   },
   {
    "duration": 20,
    "start_time": "2022-08-14T14:31:18.405Z"
   },
   {
    "duration": 37,
    "start_time": "2022-08-14T14:31:18.427Z"
   },
   {
    "duration": 25,
    "start_time": "2022-08-14T14:31:18.465Z"
   },
   {
    "duration": 41,
    "start_time": "2022-08-14T14:31:18.491Z"
   },
   {
    "duration": 45,
    "start_time": "2022-08-14T14:31:18.534Z"
   },
   {
    "duration": 5,
    "start_time": "2022-08-14T14:31:18.581Z"
   },
   {
    "duration": 37,
    "start_time": "2022-08-14T14:31:18.587Z"
   },
   {
    "duration": 36,
    "start_time": "2022-08-14T14:31:18.626Z"
   },
   {
    "duration": 11,
    "start_time": "2022-08-14T14:31:18.663Z"
   },
   {
    "duration": 3,
    "start_time": "2022-08-14T14:31:18.675Z"
   },
   {
    "duration": 50,
    "start_time": "2022-08-14T14:31:18.680Z"
   },
   {
    "duration": 8,
    "start_time": "2022-08-14T14:31:18.732Z"
   },
   {
    "duration": 30,
    "start_time": "2022-08-14T14:31:18.742Z"
   },
   {
    "duration": 4,
    "start_time": "2022-08-14T14:31:18.774Z"
   },
   {
    "duration": 5,
    "start_time": "2022-08-14T14:31:18.779Z"
   },
   {
    "duration": 48,
    "start_time": "2022-08-14T14:31:18.786Z"
   },
   {
    "duration": 14,
    "start_time": "2022-08-14T14:31:18.836Z"
   },
   {
    "duration": 10,
    "start_time": "2022-08-14T14:31:18.851Z"
   },
   {
    "duration": 63,
    "start_time": "2022-08-14T14:31:18.862Z"
   },
   {
    "duration": 15,
    "start_time": "2022-08-14T14:31:18.929Z"
   },
   {
    "duration": 10,
    "start_time": "2022-08-14T14:31:18.945Z"
   },
   {
    "duration": 129,
    "start_time": "2022-08-14T14:31:18.956Z"
   },
   {
    "duration": 3,
    "start_time": "2022-08-14T14:31:19.087Z"
   },
   {
    "duration": 38,
    "start_time": "2022-08-14T14:31:19.092Z"
   },
   {
    "duration": 40,
    "start_time": "2022-08-14T14:31:19.132Z"
   },
   {
    "duration": 7,
    "start_time": "2022-08-14T14:31:19.174Z"
   },
   {
    "duration": 49,
    "start_time": "2022-08-14T14:31:19.182Z"
   },
   {
    "duration": 37,
    "start_time": "2022-08-14T14:31:19.233Z"
   },
   {
    "duration": 12,
    "start_time": "2022-08-14T14:31:19.271Z"
   },
   {
    "duration": 38,
    "start_time": "2022-08-14T14:31:19.284Z"
   },
   {
    "duration": 17,
    "start_time": "2022-08-14T14:31:19.324Z"
   },
   {
    "duration": 4,
    "start_time": "2022-08-14T14:31:19.342Z"
   },
   {
    "duration": 19031,
    "start_time": "2022-08-14T14:31:19.347Z"
   },
   {
    "duration": 13,
    "start_time": "2022-08-14T14:31:38.380Z"
   },
   {
    "duration": 38,
    "start_time": "2022-08-14T14:31:38.394Z"
   },
   {
    "duration": 13,
    "start_time": "2022-08-14T14:31:38.433Z"
   },
   {
    "duration": 6,
    "start_time": "2022-08-14T14:31:38.449Z"
   },
   {
    "duration": 111,
    "start_time": "2022-08-14T14:31:38.457Z"
   },
   {
    "duration": 6,
    "start_time": "2022-08-14T14:31:38.569Z"
   },
   {
    "duration": 696,
    "start_time": "2022-08-14T14:31:38.577Z"
   },
   {
    "duration": 132,
    "start_time": "2022-08-14T14:31:39.274Z"
   },
   {
    "duration": 2,
    "start_time": "2022-08-14T14:31:39.408Z"
   },
   {
    "duration": 17,
    "start_time": "2022-08-14T14:31:39.422Z"
   },
   {
    "duration": 45,
    "start_time": "2022-08-14T14:31:39.440Z"
   },
   {
    "duration": 2,
    "start_time": "2022-08-14T14:32:04.231Z"
   },
   {
    "duration": 2,
    "start_time": "2022-08-14T14:32:07.506Z"
   },
   {
    "duration": 3,
    "start_time": "2022-08-14T14:32:12.224Z"
   },
   {
    "duration": 108,
    "start_time": "2022-08-14T14:32:12.257Z"
   },
   {
    "duration": 20,
    "start_time": "2022-08-14T14:32:12.367Z"
   },
   {
    "duration": 14,
    "start_time": "2022-08-14T14:32:12.389Z"
   },
   {
    "duration": 19,
    "start_time": "2022-08-14T14:32:12.418Z"
   },
   {
    "duration": 8,
    "start_time": "2022-08-14T14:32:12.438Z"
   },
   {
    "duration": 24,
    "start_time": "2022-08-14T14:32:12.448Z"
   },
   {
    "duration": 39,
    "start_time": "2022-08-14T14:32:12.473Z"
   },
   {
    "duration": 26,
    "start_time": "2022-08-14T14:32:12.514Z"
   },
   {
    "duration": 39,
    "start_time": "2022-08-14T14:32:12.542Z"
   },
   {
    "duration": 6,
    "start_time": "2022-08-14T14:32:12.584Z"
   },
   {
    "duration": 38,
    "start_time": "2022-08-14T14:32:12.614Z"
   },
   {
    "duration": 37,
    "start_time": "2022-08-14T14:32:12.653Z"
   },
   {
    "duration": 37,
    "start_time": "2022-08-14T14:32:12.693Z"
   },
   {
    "duration": 9,
    "start_time": "2022-08-14T14:32:12.732Z"
   },
   {
    "duration": 30,
    "start_time": "2022-08-14T14:32:12.742Z"
   },
   {
    "duration": 8,
    "start_time": "2022-08-14T14:32:12.775Z"
   },
   {
    "duration": 57,
    "start_time": "2022-08-14T14:32:12.786Z"
   },
   {
    "duration": 3,
    "start_time": "2022-08-14T14:32:12.845Z"
   },
   {
    "duration": 11,
    "start_time": "2022-08-14T14:32:12.850Z"
   },
   {
    "duration": 21,
    "start_time": "2022-08-14T14:32:12.862Z"
   },
   {
    "duration": 44,
    "start_time": "2022-08-14T14:32:12.885Z"
   },
   {
    "duration": 14,
    "start_time": "2022-08-14T14:32:12.930Z"
   },
   {
    "duration": 35,
    "start_time": "2022-08-14T14:32:12.947Z"
   },
   {
    "duration": 13,
    "start_time": "2022-08-14T14:32:12.984Z"
   },
   {
    "duration": 25,
    "start_time": "2022-08-14T14:32:12.998Z"
   },
   {
    "duration": 125,
    "start_time": "2022-08-14T14:32:13.025Z"
   },
   {
    "duration": 3,
    "start_time": "2022-08-14T14:32:13.152Z"
   },
   {
    "duration": 21,
    "start_time": "2022-08-14T14:32:13.157Z"
   },
   {
    "duration": 56,
    "start_time": "2022-08-14T14:32:13.180Z"
   },
   {
    "duration": 7,
    "start_time": "2022-08-14T14:32:13.238Z"
   },
   {
    "duration": 20,
    "start_time": "2022-08-14T14:32:13.246Z"
   },
   {
    "duration": 69,
    "start_time": "2022-08-14T14:32:13.268Z"
   },
   {
    "duration": 12,
    "start_time": "2022-08-14T14:32:13.338Z"
   },
   {
    "duration": 19,
    "start_time": "2022-08-14T14:32:13.352Z"
   },
   {
    "duration": 15,
    "start_time": "2022-08-14T14:32:13.372Z"
   },
   {
    "duration": 2,
    "start_time": "2022-08-14T14:32:13.389Z"
   },
   {
    "duration": 18385,
    "start_time": "2022-08-14T14:32:13.393Z"
   },
   {
    "duration": 14,
    "start_time": "2022-08-14T14:32:31.779Z"
   },
   {
    "duration": 39,
    "start_time": "2022-08-14T14:32:31.794Z"
   },
   {
    "duration": 13,
    "start_time": "2022-08-14T14:32:31.835Z"
   },
   {
    "duration": 9,
    "start_time": "2022-08-14T14:32:31.850Z"
   },
   {
    "duration": 133,
    "start_time": "2022-08-14T14:32:31.861Z"
   },
   {
    "duration": 6,
    "start_time": "2022-08-14T14:32:31.996Z"
   },
   {
    "duration": 825,
    "start_time": "2022-08-14T14:32:32.012Z"
   },
   {
    "duration": 132,
    "start_time": "2022-08-14T14:32:32.839Z"
   },
   {
    "duration": 3,
    "start_time": "2022-08-14T14:32:32.973Z"
   },
   {
    "duration": 15,
    "start_time": "2022-08-14T14:32:32.977Z"
   },
   {
    "duration": 153,
    "start_time": "2022-08-14T14:32:32.994Z"
   },
   {
    "duration": 0,
    "start_time": "2022-08-14T14:32:33.149Z"
   },
   {
    "duration": 2,
    "start_time": "2022-08-14T14:32:39.727Z"
   },
   {
    "duration": 2,
    "start_time": "2022-08-14T14:32:45.758Z"
   },
   {
    "duration": 8,
    "start_time": "2022-08-14T14:32:54.876Z"
   },
   {
    "duration": 324,
    "start_time": "2022-08-14T14:34:48.962Z"
   },
   {
    "duration": 344,
    "start_time": "2022-08-14T14:38:14.924Z"
   },
   {
    "duration": 323,
    "start_time": "2022-08-14T14:38:24.624Z"
   },
   {
    "duration": 203,
    "start_time": "2022-08-14T14:39:52.158Z"
   },
   {
    "duration": 529,
    "start_time": "2022-08-14T14:40:01.428Z"
   },
   {
    "duration": 42,
    "start_time": "2022-08-14T14:40:12.727Z"
   },
   {
    "duration": 12,
    "start_time": "2022-08-14T14:41:00.674Z"
   },
   {
    "duration": 48,
    "start_time": "2022-08-14T14:45:12.910Z"
   },
   {
    "duration": 6,
    "start_time": "2022-08-14T14:45:31.492Z"
   },
   {
    "duration": 6,
    "start_time": "2022-08-14T14:45:43.628Z"
   },
   {
    "duration": 7,
    "start_time": "2022-08-14T14:53:14.724Z"
   },
   {
    "duration": 6,
    "start_time": "2022-08-14T14:53:27.523Z"
   },
   {
    "duration": 7,
    "start_time": "2022-08-14T14:58:09.031Z"
   },
   {
    "duration": 3,
    "start_time": "2022-08-14T14:59:01.269Z"
   },
   {
    "duration": 111,
    "start_time": "2022-08-14T14:59:01.277Z"
   },
   {
    "duration": 36,
    "start_time": "2022-08-14T14:59:01.389Z"
   },
   {
    "duration": 16,
    "start_time": "2022-08-14T14:59:01.429Z"
   },
   {
    "duration": 23,
    "start_time": "2022-08-14T14:59:01.447Z"
   },
   {
    "duration": 9,
    "start_time": "2022-08-14T14:59:01.472Z"
   },
   {
    "duration": 31,
    "start_time": "2022-08-14T14:59:01.483Z"
   },
   {
    "duration": 30,
    "start_time": "2022-08-14T14:59:01.515Z"
   },
   {
    "duration": 20,
    "start_time": "2022-08-14T14:59:01.547Z"
   },
   {
    "duration": 37,
    "start_time": "2022-08-14T14:59:01.569Z"
   },
   {
    "duration": 12,
    "start_time": "2022-08-14T14:59:01.611Z"
   },
   {
    "duration": 31,
    "start_time": "2022-08-14T14:59:01.625Z"
   },
   {
    "duration": 31,
    "start_time": "2022-08-14T14:59:01.658Z"
   },
   {
    "duration": 35,
    "start_time": "2022-08-14T14:59:01.691Z"
   },
   {
    "duration": 3,
    "start_time": "2022-08-14T14:59:01.728Z"
   },
   {
    "duration": 23,
    "start_time": "2022-08-14T14:59:01.733Z"
   },
   {
    "duration": 8,
    "start_time": "2022-08-14T14:59:01.757Z"
   },
   {
    "duration": 56,
    "start_time": "2022-08-14T14:59:01.766Z"
   },
   {
    "duration": 4,
    "start_time": "2022-08-14T14:59:01.824Z"
   },
   {
    "duration": 15,
    "start_time": "2022-08-14T14:59:01.830Z"
   },
   {
    "duration": 22,
    "start_time": "2022-08-14T14:59:01.847Z"
   },
   {
    "duration": 20,
    "start_time": "2022-08-14T14:59:01.872Z"
   },
   {
    "duration": 14,
    "start_time": "2022-08-14T14:59:01.893Z"
   },
   {
    "duration": 46,
    "start_time": "2022-08-14T14:59:01.909Z"
   },
   {
    "duration": 13,
    "start_time": "2022-08-14T14:59:01.957Z"
   },
   {
    "duration": 15,
    "start_time": "2022-08-14T14:59:01.971Z"
   },
   {
    "duration": 158,
    "start_time": "2022-08-14T14:59:01.987Z"
   },
   {
    "duration": 3,
    "start_time": "2022-08-14T14:59:02.147Z"
   },
   {
    "duration": 30,
    "start_time": "2022-08-14T14:59:02.152Z"
   },
   {
    "duration": 52,
    "start_time": "2022-08-14T14:59:02.184Z"
   },
   {
    "duration": 7,
    "start_time": "2022-08-14T14:59:02.238Z"
   },
   {
    "duration": 22,
    "start_time": "2022-08-14T14:59:02.246Z"
   },
   {
    "duration": 58,
    "start_time": "2022-08-14T14:59:02.269Z"
   },
   {
    "duration": 13,
    "start_time": "2022-08-14T14:59:02.329Z"
   },
   {
    "duration": 21,
    "start_time": "2022-08-14T14:59:02.344Z"
   },
   {
    "duration": 19,
    "start_time": "2022-08-14T14:59:02.366Z"
   },
   {
    "duration": 27,
    "start_time": "2022-08-14T14:59:02.386Z"
   },
   {
    "duration": 19231,
    "start_time": "2022-08-14T14:59:02.418Z"
   },
   {
    "duration": 13,
    "start_time": "2022-08-14T14:59:21.650Z"
   },
   {
    "duration": 22,
    "start_time": "2022-08-14T14:59:21.666Z"
   },
   {
    "duration": 35,
    "start_time": "2022-08-14T14:59:21.690Z"
   },
   {
    "duration": 11,
    "start_time": "2022-08-14T14:59:21.728Z"
   },
   {
    "duration": 109,
    "start_time": "2022-08-14T14:59:21.740Z"
   },
   {
    "duration": 6,
    "start_time": "2022-08-14T14:59:21.851Z"
   },
   {
    "duration": 770,
    "start_time": "2022-08-14T14:59:21.858Z"
   },
   {
    "duration": 179,
    "start_time": "2022-08-14T14:59:22.630Z"
   },
   {
    "duration": 10,
    "start_time": "2022-08-14T14:59:22.817Z"
   },
   {
    "duration": 22,
    "start_time": "2022-08-14T14:59:22.833Z"
   },
   {
    "duration": 64,
    "start_time": "2022-08-14T14:59:22.857Z"
   },
   {
    "duration": 0,
    "start_time": "2022-08-14T14:59:22.931Z"
   },
   {
    "duration": 0,
    "start_time": "2022-08-14T14:59:22.934Z"
   },
   {
    "duration": 0,
    "start_time": "2022-08-14T14:59:22.936Z"
   },
   {
    "duration": 0,
    "start_time": "2022-08-14T14:59:22.938Z"
   },
   {
    "duration": 0,
    "start_time": "2022-08-14T14:59:22.939Z"
   },
   {
    "duration": 0,
    "start_time": "2022-08-14T14:59:22.941Z"
   },
   {
    "duration": 10,
    "start_time": "2022-08-14T14:59:26.980Z"
   },
   {
    "duration": 11,
    "start_time": "2022-08-14T15:00:03.426Z"
   },
   {
    "duration": 6,
    "start_time": "2022-08-14T15:03:06.092Z"
   },
   {
    "duration": 8,
    "start_time": "2022-08-14T15:04:20.326Z"
   },
   {
    "duration": 58,
    "start_time": "2022-08-14T15:07:39.468Z"
   },
   {
    "duration": 6,
    "start_time": "2022-08-14T15:07:46.724Z"
   },
   {
    "duration": 44,
    "start_time": "2022-08-14T16:55:01.577Z"
   },
   {
    "duration": 824,
    "start_time": "2022-08-14T16:55:41.650Z"
   },
   {
    "duration": 174,
    "start_time": "2022-08-14T16:55:42.476Z"
   },
   {
    "duration": 31,
    "start_time": "2022-08-14T16:55:42.652Z"
   },
   {
    "duration": 20,
    "start_time": "2022-08-14T16:55:42.686Z"
   },
   {
    "duration": 17,
    "start_time": "2022-08-14T16:55:42.707Z"
   },
   {
    "duration": 3,
    "start_time": "2022-08-14T16:55:42.726Z"
   },
   {
    "duration": 44,
    "start_time": "2022-08-14T16:55:42.731Z"
   },
   {
    "duration": 22,
    "start_time": "2022-08-14T16:55:42.776Z"
   },
   {
    "duration": 19,
    "start_time": "2022-08-14T16:55:42.799Z"
   },
   {
    "duration": 71,
    "start_time": "2022-08-14T16:55:42.821Z"
   },
   {
    "duration": 6,
    "start_time": "2022-08-14T16:55:42.893Z"
   },
   {
    "duration": 35,
    "start_time": "2022-08-14T16:55:42.901Z"
   },
   {
    "duration": 48,
    "start_time": "2022-08-14T16:55:42.938Z"
   },
   {
    "duration": 12,
    "start_time": "2022-08-14T16:55:42.988Z"
   },
   {
    "duration": 4,
    "start_time": "2022-08-14T16:55:43.001Z"
   },
   {
    "duration": 25,
    "start_time": "2022-08-14T16:55:43.007Z"
   },
   {
    "duration": 37,
    "start_time": "2022-08-14T16:55:43.033Z"
   },
   {
    "duration": 34,
    "start_time": "2022-08-14T16:55:43.072Z"
   },
   {
    "duration": 3,
    "start_time": "2022-08-14T16:55:43.108Z"
   },
   {
    "duration": 5,
    "start_time": "2022-08-14T16:55:43.113Z"
   },
   {
    "duration": 21,
    "start_time": "2022-08-14T16:55:43.120Z"
   },
   {
    "duration": 35,
    "start_time": "2022-08-14T16:55:43.143Z"
   },
   {
    "duration": 10,
    "start_time": "2022-08-14T16:55:43.179Z"
   },
   {
    "duration": 44,
    "start_time": "2022-08-14T16:55:43.191Z"
   },
   {
    "duration": 39,
    "start_time": "2022-08-14T16:55:43.237Z"
   },
   {
    "duration": 12,
    "start_time": "2022-08-14T16:55:43.278Z"
   },
   {
    "duration": 167,
    "start_time": "2022-08-14T16:55:43.292Z"
   },
   {
    "duration": 3,
    "start_time": "2022-08-14T16:55:43.474Z"
   },
   {
    "duration": 26,
    "start_time": "2022-08-14T16:55:43.478Z"
   },
   {
    "duration": 45,
    "start_time": "2022-08-14T16:55:43.505Z"
   },
   {
    "duration": 15,
    "start_time": "2022-08-14T16:55:43.557Z"
   },
   {
    "duration": 25,
    "start_time": "2022-08-14T16:55:43.574Z"
   },
   {
    "duration": 41,
    "start_time": "2022-08-14T16:55:43.601Z"
   },
   {
    "duration": 28,
    "start_time": "2022-08-14T16:55:43.644Z"
   },
   {
    "duration": 33,
    "start_time": "2022-08-14T16:55:43.674Z"
   },
   {
    "duration": 19,
    "start_time": "2022-08-14T16:55:43.709Z"
   },
   {
    "duration": 3,
    "start_time": "2022-08-14T16:55:43.729Z"
   },
   {
    "duration": 17,
    "start_time": "2022-08-14T16:56:06.086Z"
   },
   {
    "duration": 128,
    "start_time": "2022-08-14T16:56:06.104Z"
   },
   {
    "duration": 27,
    "start_time": "2022-08-14T16:56:06.234Z"
   },
   {
    "duration": 39,
    "start_time": "2022-08-14T16:56:06.263Z"
   },
   {
    "duration": 27,
    "start_time": "2022-08-14T16:56:06.303Z"
   },
   {
    "duration": 4,
    "start_time": "2022-08-14T16:56:06.332Z"
   },
   {
    "duration": 35,
    "start_time": "2022-08-14T16:56:06.338Z"
   },
   {
    "duration": 21,
    "start_time": "2022-08-14T16:56:06.375Z"
   },
   {
    "duration": 17,
    "start_time": "2022-08-14T16:56:06.398Z"
   },
   {
    "duration": 34,
    "start_time": "2022-08-14T16:56:06.417Z"
   },
   {
    "duration": 12,
    "start_time": "2022-08-14T16:56:06.453Z"
   },
   {
    "duration": 39,
    "start_time": "2022-08-14T16:56:06.467Z"
   },
   {
    "duration": 35,
    "start_time": "2022-08-14T16:56:06.507Z"
   },
   {
    "duration": 18,
    "start_time": "2022-08-14T16:56:06.544Z"
   },
   {
    "duration": 4,
    "start_time": "2022-08-14T16:56:06.564Z"
   },
   {
    "duration": 27,
    "start_time": "2022-08-14T16:56:06.570Z"
   },
   {
    "duration": 9,
    "start_time": "2022-08-14T16:56:06.598Z"
   },
   {
    "duration": 62,
    "start_time": "2022-08-14T16:56:06.609Z"
   },
   {
    "duration": 5,
    "start_time": "2022-08-14T16:56:06.673Z"
   },
   {
    "duration": 6,
    "start_time": "2022-08-14T16:56:06.680Z"
   },
   {
    "duration": 22,
    "start_time": "2022-08-14T16:56:06.688Z"
   },
   {
    "duration": 17,
    "start_time": "2022-08-14T16:56:06.712Z"
   },
   {
    "duration": 10,
    "start_time": "2022-08-14T16:56:06.731Z"
   },
   {
    "duration": 55,
    "start_time": "2022-08-14T16:56:06.742Z"
   },
   {
    "duration": 17,
    "start_time": "2022-08-14T16:56:06.799Z"
   },
   {
    "duration": 10,
    "start_time": "2022-08-14T16:56:06.818Z"
   },
   {
    "duration": 178,
    "start_time": "2022-08-14T16:56:06.829Z"
   },
   {
    "duration": 3,
    "start_time": "2022-08-14T16:56:07.009Z"
   },
   {
    "duration": 35,
    "start_time": "2022-08-14T16:56:07.013Z"
   },
   {
    "duration": 55,
    "start_time": "2022-08-14T16:56:07.050Z"
   },
   {
    "duration": 7,
    "start_time": "2022-08-14T16:56:07.106Z"
   },
   {
    "duration": 40,
    "start_time": "2022-08-14T16:56:07.118Z"
   },
   {
    "duration": 44,
    "start_time": "2022-08-14T16:56:07.160Z"
   },
   {
    "duration": 14,
    "start_time": "2022-08-14T16:56:07.207Z"
   },
   {
    "duration": 49,
    "start_time": "2022-08-14T16:56:07.223Z"
   },
   {
    "duration": 21,
    "start_time": "2022-08-14T16:56:07.273Z"
   },
   {
    "duration": 3,
    "start_time": "2022-08-14T16:56:07.296Z"
   },
   {
    "duration": 22597,
    "start_time": "2022-08-14T16:56:07.301Z"
   },
   {
    "duration": 14,
    "start_time": "2022-08-14T16:56:29.899Z"
   },
   {
    "duration": 22,
    "start_time": "2022-08-14T16:56:29.915Z"
   },
   {
    "duration": 39,
    "start_time": "2022-08-14T16:56:29.938Z"
   },
   {
    "duration": 6,
    "start_time": "2022-08-14T16:56:29.979Z"
   },
   {
    "duration": 136,
    "start_time": "2022-08-14T16:56:29.986Z"
   },
   {
    "duration": 6,
    "start_time": "2022-08-14T16:56:30.123Z"
   },
   {
    "duration": 862,
    "start_time": "2022-08-14T16:56:30.131Z"
   },
   {
    "duration": 203,
    "start_time": "2022-08-14T16:56:30.995Z"
   },
   {
    "duration": 3,
    "start_time": "2022-08-14T16:56:31.199Z"
   },
   {
    "duration": 6,
    "start_time": "2022-08-14T16:56:31.204Z"
   },
   {
    "duration": 64,
    "start_time": "2022-08-14T16:56:31.212Z"
   },
   {
    "duration": 0,
    "start_time": "2022-08-14T16:56:31.280Z"
   },
   {
    "duration": 0,
    "start_time": "2022-08-14T16:56:31.282Z"
   },
   {
    "duration": 0,
    "start_time": "2022-08-14T16:56:31.283Z"
   },
   {
    "duration": 0,
    "start_time": "2022-08-14T16:56:31.285Z"
   },
   {
    "duration": 0,
    "start_time": "2022-08-14T16:56:31.286Z"
   },
   {
    "duration": 0,
    "start_time": "2022-08-14T16:56:31.287Z"
   },
   {
    "duration": 0,
    "start_time": "2022-08-14T16:56:31.290Z"
   },
   {
    "duration": 3,
    "start_time": "2022-08-14T16:56:47.793Z"
   },
   {
    "duration": 100,
    "start_time": "2022-08-14T16:56:47.829Z"
   },
   {
    "duration": 39,
    "start_time": "2022-08-14T16:56:47.932Z"
   },
   {
    "duration": 18,
    "start_time": "2022-08-14T16:56:47.973Z"
   },
   {
    "duration": 18,
    "start_time": "2022-08-14T16:56:47.993Z"
   },
   {
    "duration": 4,
    "start_time": "2022-08-14T16:56:48.015Z"
   },
   {
    "duration": 31,
    "start_time": "2022-08-14T16:56:48.028Z"
   },
   {
    "duration": 27,
    "start_time": "2022-08-14T16:56:48.072Z"
   },
   {
    "duration": 19,
    "start_time": "2022-08-14T16:56:48.101Z"
   },
   {
    "duration": 56,
    "start_time": "2022-08-14T16:56:48.121Z"
   },
   {
    "duration": 6,
    "start_time": "2022-08-14T16:56:48.178Z"
   },
   {
    "duration": 31,
    "start_time": "2022-08-14T16:56:48.185Z"
   },
   {
    "duration": 64,
    "start_time": "2022-08-14T16:56:48.218Z"
   },
   {
    "duration": 12,
    "start_time": "2022-08-14T16:56:48.284Z"
   },
   {
    "duration": 3,
    "start_time": "2022-08-14T16:56:48.298Z"
   },
   {
    "duration": 27,
    "start_time": "2022-08-14T16:56:48.303Z"
   },
   {
    "duration": 34,
    "start_time": "2022-08-14T16:56:48.332Z"
   },
   {
    "duration": 31,
    "start_time": "2022-08-14T16:56:48.369Z"
   },
   {
    "duration": 3,
    "start_time": "2022-08-14T16:56:48.401Z"
   },
   {
    "duration": 7,
    "start_time": "2022-08-14T16:56:48.406Z"
   },
   {
    "duration": 52,
    "start_time": "2022-08-14T16:56:48.415Z"
   },
   {
    "duration": 15,
    "start_time": "2022-08-14T16:56:48.469Z"
   },
   {
    "duration": 8,
    "start_time": "2022-08-14T16:56:48.486Z"
   },
   {
    "duration": 40,
    "start_time": "2022-08-14T16:56:48.495Z"
   },
   {
    "duration": 40,
    "start_time": "2022-08-14T16:56:48.537Z"
   },
   {
    "duration": 8,
    "start_time": "2022-08-14T16:56:48.579Z"
   },
   {
    "duration": 152,
    "start_time": "2022-08-14T16:56:48.589Z"
   },
   {
    "duration": 4,
    "start_time": "2022-08-14T16:56:48.742Z"
   },
   {
    "duration": 40,
    "start_time": "2022-08-14T16:56:48.747Z"
   },
   {
    "duration": 42,
    "start_time": "2022-08-14T16:56:48.788Z"
   },
   {
    "duration": 39,
    "start_time": "2022-08-14T16:56:48.832Z"
   },
   {
    "duration": 23,
    "start_time": "2022-08-14T16:56:48.874Z"
   },
   {
    "duration": 37,
    "start_time": "2022-08-14T16:56:48.898Z"
   },
   {
    "duration": 28,
    "start_time": "2022-08-14T16:56:48.937Z"
   },
   {
    "duration": 35,
    "start_time": "2022-08-14T16:56:48.967Z"
   },
   {
    "duration": 19,
    "start_time": "2022-08-14T16:56:49.004Z"
   },
   {
    "duration": 4,
    "start_time": "2022-08-14T16:56:49.024Z"
   },
   {
    "duration": 22481,
    "start_time": "2022-08-14T16:56:49.029Z"
   },
   {
    "duration": 16,
    "start_time": "2022-08-14T16:57:11.512Z"
   },
   {
    "duration": 32,
    "start_time": "2022-08-14T16:57:11.529Z"
   },
   {
    "duration": 21,
    "start_time": "2022-08-14T16:57:11.566Z"
   },
   {
    "duration": 6,
    "start_time": "2022-08-14T16:57:11.589Z"
   },
   {
    "duration": 124,
    "start_time": "2022-08-14T16:57:11.597Z"
   },
   {
    "duration": 7,
    "start_time": "2022-08-14T16:57:11.722Z"
   },
   {
    "duration": 870,
    "start_time": "2022-08-14T16:57:11.730Z"
   },
   {
    "duration": 137,
    "start_time": "2022-08-14T16:57:12.602Z"
   },
   {
    "duration": 3,
    "start_time": "2022-08-14T16:57:12.741Z"
   },
   {
    "duration": 19,
    "start_time": "2022-08-14T16:57:12.746Z"
   },
   {
    "duration": 51,
    "start_time": "2022-08-14T16:57:12.769Z"
   },
   {
    "duration": 0,
    "start_time": "2022-08-14T16:57:12.822Z"
   },
   {
    "duration": 0,
    "start_time": "2022-08-14T16:57:12.823Z"
   },
   {
    "duration": 0,
    "start_time": "2022-08-14T16:57:12.825Z"
   },
   {
    "duration": 0,
    "start_time": "2022-08-14T16:57:12.826Z"
   },
   {
    "duration": 0,
    "start_time": "2022-08-14T16:57:12.827Z"
   },
   {
    "duration": 0,
    "start_time": "2022-08-14T16:57:12.829Z"
   },
   {
    "duration": 0,
    "start_time": "2022-08-14T16:57:12.830Z"
   },
   {
    "duration": 34,
    "start_time": "2022-08-14T16:57:17.999Z"
   },
   {
    "duration": 9,
    "start_time": "2022-08-14T16:57:21.490Z"
   },
   {
    "duration": 3,
    "start_time": "2022-08-14T16:57:28.643Z"
   },
   {
    "duration": 105,
    "start_time": "2022-08-14T16:57:28.679Z"
   },
   {
    "duration": 21,
    "start_time": "2022-08-14T16:57:28.786Z"
   },
   {
    "duration": 16,
    "start_time": "2022-08-14T16:57:28.809Z"
   },
   {
    "duration": 46,
    "start_time": "2022-08-14T16:57:28.826Z"
   },
   {
    "duration": 3,
    "start_time": "2022-08-14T16:57:28.874Z"
   },
   {
    "duration": 24,
    "start_time": "2022-08-14T16:57:28.879Z"
   },
   {
    "duration": 17,
    "start_time": "2022-08-14T16:57:28.904Z"
   },
   {
    "duration": 19,
    "start_time": "2022-08-14T16:57:28.923Z"
   },
   {
    "duration": 41,
    "start_time": "2022-08-14T16:57:28.957Z"
   },
   {
    "duration": 6,
    "start_time": "2022-08-14T16:57:29.000Z"
   },
   {
    "duration": 35,
    "start_time": "2022-08-14T16:57:29.007Z"
   },
   {
    "duration": 38,
    "start_time": "2022-08-14T16:57:29.068Z"
   },
   {
    "duration": 12,
    "start_time": "2022-08-14T16:57:29.107Z"
   },
   {
    "duration": 4,
    "start_time": "2022-08-14T16:57:29.121Z"
   },
   {
    "duration": 47,
    "start_time": "2022-08-14T16:57:29.127Z"
   },
   {
    "duration": 11,
    "start_time": "2022-08-14T16:57:29.175Z"
   },
   {
    "duration": 29,
    "start_time": "2022-08-14T16:57:29.188Z"
   },
   {
    "duration": 3,
    "start_time": "2022-08-14T16:57:29.219Z"
   },
   {
    "duration": 14,
    "start_time": "2022-08-14T16:57:29.223Z"
   },
   {
    "duration": 49,
    "start_time": "2022-08-14T16:57:29.238Z"
   },
   {
    "duration": 16,
    "start_time": "2022-08-14T16:57:29.289Z"
   },
   {
    "duration": 8,
    "start_time": "2022-08-14T16:57:29.307Z"
   },
   {
    "duration": 66,
    "start_time": "2022-08-14T16:57:29.317Z"
   },
   {
    "duration": 16,
    "start_time": "2022-08-14T16:57:29.385Z"
   },
   {
    "duration": 11,
    "start_time": "2022-08-14T16:57:29.402Z"
   },
   {
    "duration": 163,
    "start_time": "2022-08-14T16:57:29.415Z"
   },
   {
    "duration": 3,
    "start_time": "2022-08-14T16:57:29.580Z"
   },
   {
    "duration": 25,
    "start_time": "2022-08-14T16:57:29.585Z"
   },
   {
    "duration": 74,
    "start_time": "2022-08-14T16:57:29.612Z"
   },
   {
    "duration": 7,
    "start_time": "2022-08-14T16:57:29.688Z"
   },
   {
    "duration": 24,
    "start_time": "2022-08-14T16:57:29.697Z"
   },
   {
    "duration": 65,
    "start_time": "2022-08-14T16:57:29.723Z"
   },
   {
    "duration": 12,
    "start_time": "2022-08-14T16:57:29.790Z"
   },
   {
    "duration": 22,
    "start_time": "2022-08-14T16:57:29.804Z"
   },
   {
    "duration": 36,
    "start_time": "2022-08-14T16:57:29.827Z"
   },
   {
    "duration": 8,
    "start_time": "2022-08-14T16:57:29.865Z"
   },
   {
    "duration": 22895,
    "start_time": "2022-08-14T16:57:29.874Z"
   },
   {
    "duration": 23,
    "start_time": "2022-08-14T16:57:52.776Z"
   },
   {
    "duration": 32,
    "start_time": "2022-08-14T16:57:52.803Z"
   },
   {
    "duration": 37,
    "start_time": "2022-08-14T16:57:52.837Z"
   },
   {
    "duration": 11,
    "start_time": "2022-08-14T16:57:52.878Z"
   },
   {
    "duration": 129,
    "start_time": "2022-08-14T16:57:52.891Z"
   },
   {
    "duration": 7,
    "start_time": "2022-08-14T16:57:53.021Z"
   },
   {
    "duration": 878,
    "start_time": "2022-08-14T16:57:53.030Z"
   },
   {
    "duration": 161,
    "start_time": "2022-08-14T16:57:53.910Z"
   },
   {
    "duration": 2,
    "start_time": "2022-08-14T16:57:54.075Z"
   },
   {
    "duration": 6,
    "start_time": "2022-08-14T16:57:54.079Z"
   },
   {
    "duration": 52,
    "start_time": "2022-08-14T16:57:54.087Z"
   },
   {
    "duration": 0,
    "start_time": "2022-08-14T16:57:54.141Z"
   },
   {
    "duration": 0,
    "start_time": "2022-08-14T16:57:54.142Z"
   },
   {
    "duration": 0,
    "start_time": "2022-08-14T16:57:54.143Z"
   },
   {
    "duration": 0,
    "start_time": "2022-08-14T16:57:54.144Z"
   },
   {
    "duration": 0,
    "start_time": "2022-08-14T16:57:54.145Z"
   },
   {
    "duration": 7,
    "start_time": "2022-08-14T16:57:59.471Z"
   },
   {
    "duration": 7,
    "start_time": "2022-08-14T16:58:02.520Z"
   },
   {
    "duration": 457,
    "start_time": "2022-08-14T16:58:11.129Z"
   },
   {
    "duration": 6,
    "start_time": "2022-08-14T16:58:16.004Z"
   },
   {
    "duration": 18,
    "start_time": "2022-08-14T16:58:25.053Z"
   },
   {
    "duration": 9,
    "start_time": "2022-08-14T16:59:02.778Z"
   },
   {
    "duration": 8,
    "start_time": "2022-08-14T16:59:10.175Z"
   },
   {
    "duration": 8,
    "start_time": "2022-08-14T16:59:19.070Z"
   },
   {
    "duration": 5,
    "start_time": "2022-08-14T17:00:05.251Z"
   },
   {
    "duration": 6,
    "start_time": "2022-08-14T17:00:44.333Z"
   },
   {
    "duration": 6,
    "start_time": "2022-08-14T17:01:39.516Z"
   },
   {
    "duration": 9,
    "start_time": "2022-08-14T17:01:43.777Z"
   },
   {
    "duration": 6,
    "start_time": "2022-08-14T17:01:52.753Z"
   },
   {
    "duration": 6,
    "start_time": "2022-08-14T17:01:56.470Z"
   },
   {
    "duration": 203,
    "start_time": "2022-08-14T17:05:39.119Z"
   },
   {
    "duration": 201,
    "start_time": "2022-08-14T17:05:39.324Z"
   },
   {
    "duration": 3,
    "start_time": "2022-08-14T17:05:39.527Z"
   },
   {
    "duration": 12,
    "start_time": "2022-08-14T17:05:39.532Z"
   },
   {
    "duration": 14,
    "start_time": "2022-08-14T17:05:39.546Z"
   },
   {
    "duration": 9,
    "start_time": "2022-08-14T17:05:39.562Z"
   },
   {
    "duration": 19,
    "start_time": "2022-08-14T17:05:39.573Z"
   },
   {
    "duration": 14,
    "start_time": "2022-08-14T17:05:39.594Z"
   },
   {
    "duration": 163,
    "start_time": "2022-08-14T17:05:39.610Z"
   },
   {
    "duration": 180,
    "start_time": "2022-08-14T17:12:15.994Z"
   },
   {
    "duration": 158,
    "start_time": "2022-08-14T17:12:26.920Z"
   },
   {
    "duration": 127,
    "start_time": "2022-08-14T17:13:27.733Z"
   },
   {
    "duration": 266,
    "start_time": "2022-08-14T17:13:54.333Z"
   },
   {
    "duration": 208,
    "start_time": "2022-08-14T17:19:06.373Z"
   },
   {
    "duration": 1069,
    "start_time": "2022-08-14T17:23:37.376Z"
   },
   {
    "duration": 916,
    "start_time": "2022-08-14T17:23:41.370Z"
   },
   {
    "duration": 13,
    "start_time": "2022-08-14T17:23:47.127Z"
   },
   {
    "duration": 15,
    "start_time": "2022-08-14T17:23:50.123Z"
   },
   {
    "duration": 3,
    "start_time": "2022-08-14T17:24:42.670Z"
   },
   {
    "duration": 102,
    "start_time": "2022-08-14T17:24:42.689Z"
   },
   {
    "duration": 21,
    "start_time": "2022-08-14T17:24:42.793Z"
   },
   {
    "duration": 15,
    "start_time": "2022-08-14T17:24:42.815Z"
   },
   {
    "duration": 37,
    "start_time": "2022-08-14T17:24:42.832Z"
   },
   {
    "duration": 4,
    "start_time": "2022-08-14T17:24:42.871Z"
   },
   {
    "duration": 22,
    "start_time": "2022-08-14T17:24:42.876Z"
   },
   {
    "duration": 18,
    "start_time": "2022-08-14T17:24:42.900Z"
   },
   {
    "duration": 143,
    "start_time": "2022-08-14T17:24:42.921Z"
   },
   {
    "duration": 36,
    "start_time": "2022-08-14T17:24:43.065Z"
   },
   {
    "duration": 6,
    "start_time": "2022-08-14T17:24:43.102Z"
   },
   {
    "duration": 59,
    "start_time": "2022-08-14T17:24:43.110Z"
   },
   {
    "duration": 36,
    "start_time": "2022-08-14T17:24:43.171Z"
   },
   {
    "duration": 11,
    "start_time": "2022-08-14T17:24:43.209Z"
   },
   {
    "duration": 4,
    "start_time": "2022-08-14T17:24:43.222Z"
   },
   {
    "duration": 47,
    "start_time": "2022-08-14T17:24:43.227Z"
   },
   {
    "duration": 7,
    "start_time": "2022-08-14T17:24:43.276Z"
   },
   {
    "duration": 28,
    "start_time": "2022-08-14T17:24:43.285Z"
   },
   {
    "duration": 3,
    "start_time": "2022-08-14T17:24:43.315Z"
   },
   {
    "duration": 44,
    "start_time": "2022-08-14T17:24:43.319Z"
   },
   {
    "duration": 19,
    "start_time": "2022-08-14T17:24:43.365Z"
   },
   {
    "duration": 17,
    "start_time": "2022-08-14T17:24:43.386Z"
   },
   {
    "duration": 9,
    "start_time": "2022-08-14T17:24:43.404Z"
   },
   {
    "duration": 59,
    "start_time": "2022-08-14T17:24:43.415Z"
   },
   {
    "duration": 16,
    "start_time": "2022-08-14T17:24:43.475Z"
   },
   {
    "duration": 11,
    "start_time": "2022-08-14T17:24:43.493Z"
   },
   {
    "duration": 162,
    "start_time": "2022-08-14T17:24:43.506Z"
   },
   {
    "duration": 2,
    "start_time": "2022-08-14T17:24:43.672Z"
   },
   {
    "duration": 28,
    "start_time": "2022-08-14T17:24:43.676Z"
   },
   {
    "duration": 38,
    "start_time": "2022-08-14T17:24:43.706Z"
   },
   {
    "duration": 8,
    "start_time": "2022-08-14T17:24:43.756Z"
   },
   {
    "duration": 20,
    "start_time": "2022-08-14T17:24:43.766Z"
   },
   {
    "duration": 36,
    "start_time": "2022-08-14T17:24:43.788Z"
   },
   {
    "duration": 36,
    "start_time": "2022-08-14T17:24:43.826Z"
   },
   {
    "duration": 22,
    "start_time": "2022-08-14T17:24:43.864Z"
   },
   {
    "duration": 19,
    "start_time": "2022-08-14T17:24:43.887Z"
   },
   {
    "duration": 3,
    "start_time": "2022-08-14T17:24:43.908Z"
   },
   {
    "duration": 22003,
    "start_time": "2022-08-14T17:24:43.912Z"
   },
   {
    "duration": 14,
    "start_time": "2022-08-14T17:25:05.917Z"
   },
   {
    "duration": 41,
    "start_time": "2022-08-14T17:25:05.933Z"
   },
   {
    "duration": 21,
    "start_time": "2022-08-14T17:25:05.976Z"
   },
   {
    "duration": 21,
    "start_time": "2022-08-14T17:25:05.999Z"
   },
   {
    "duration": 120,
    "start_time": "2022-08-14T17:25:06.022Z"
   },
   {
    "duration": 6,
    "start_time": "2022-08-14T17:25:06.144Z"
   },
   {
    "duration": 826,
    "start_time": "2022-08-14T17:25:06.157Z"
   },
   {
    "duration": 163,
    "start_time": "2022-08-14T17:25:06.985Z"
   },
   {
    "duration": 9,
    "start_time": "2022-08-14T17:25:07.150Z"
   },
   {
    "duration": 6,
    "start_time": "2022-08-14T17:25:07.161Z"
   },
   {
    "duration": 166,
    "start_time": "2022-08-14T17:25:07.168Z"
   },
   {
    "duration": 0,
    "start_time": "2022-08-14T17:25:07.336Z"
   },
   {
    "duration": 0,
    "start_time": "2022-08-14T17:25:07.337Z"
   },
   {
    "duration": 12,
    "start_time": "2022-08-14T17:25:18.271Z"
   },
   {
    "duration": 897,
    "start_time": "2022-08-14T18:11:03.032Z"
   },
   {
    "duration": 1028,
    "start_time": "2022-08-14T18:11:09.928Z"
   },
   {
    "duration": 947,
    "start_time": "2022-08-14T18:11:17.103Z"
   },
   {
    "duration": 224,
    "start_time": "2022-08-14T18:13:04.530Z"
   },
   {
    "duration": 340,
    "start_time": "2022-08-14T18:13:29.079Z"
   },
   {
    "duration": 285,
    "start_time": "2022-08-14T18:13:44.034Z"
   },
   {
    "duration": 357,
    "start_time": "2022-08-14T18:13:53.093Z"
   },
   {
    "duration": 166,
    "start_time": "2022-08-14T20:45:17.806Z"
   },
   {
    "duration": 124,
    "start_time": "2022-08-14T20:45:33.926Z"
   },
   {
    "duration": 6,
    "start_time": "2022-08-14T20:46:11.996Z"
   },
   {
    "duration": 6,
    "start_time": "2022-08-14T20:46:20.849Z"
   },
   {
    "duration": 7,
    "start_time": "2022-08-14T20:48:20.669Z"
   },
   {
    "duration": 136,
    "start_time": "2022-08-14T20:56:22.268Z"
   },
   {
    "duration": 149,
    "start_time": "2022-08-14T20:56:29.317Z"
   },
   {
    "duration": 138,
    "start_time": "2022-08-14T20:56:32.991Z"
   },
   {
    "duration": 162,
    "start_time": "2022-08-14T20:56:38.777Z"
   },
   {
    "duration": 148,
    "start_time": "2022-08-14T20:56:50.769Z"
   },
   {
    "duration": 377,
    "start_time": "2022-08-14T20:56:55.647Z"
   },
   {
    "duration": 372,
    "start_time": "2022-08-14T20:57:05.028Z"
   },
   {
    "duration": 123,
    "start_time": "2022-08-14T20:58:39.411Z"
   },
   {
    "duration": 5,
    "start_time": "2022-08-14T21:04:02.325Z"
   },
   {
    "duration": 9,
    "start_time": "2022-08-14T21:04:09.266Z"
   },
   {
    "duration": 9,
    "start_time": "2022-08-14T21:07:21.721Z"
   },
   {
    "duration": 6,
    "start_time": "2022-08-14T21:16:01.382Z"
   },
   {
    "duration": 7,
    "start_time": "2022-08-14T21:19:08.659Z"
   },
   {
    "duration": 359,
    "start_time": "2022-08-14T21:19:35.710Z"
   },
   {
    "duration": 290,
    "start_time": "2022-08-14T21:20:57.690Z"
   },
   {
    "duration": 500,
    "start_time": "2022-08-14T21:21:14.695Z"
   },
   {
    "duration": 420,
    "start_time": "2022-08-14T21:21:28.642Z"
   },
   {
    "duration": 429,
    "start_time": "2022-08-14T21:23:45.312Z"
   },
   {
    "duration": 504,
    "start_time": "2022-08-14T21:23:58.794Z"
   },
   {
    "duration": 5,
    "start_time": "2022-08-14T21:24:17.986Z"
   },
   {
    "duration": 5,
    "start_time": "2022-08-14T21:24:24.998Z"
   },
   {
    "duration": 320,
    "start_time": "2022-08-14T21:27:34.529Z"
   },
   {
    "duration": 227,
    "start_time": "2022-08-14T21:28:20.457Z"
   },
   {
    "duration": 9,
    "start_time": "2022-08-14T21:31:27.365Z"
   },
   {
    "duration": 456,
    "start_time": "2022-08-14T21:34:00.821Z"
   },
   {
    "duration": 438,
    "start_time": "2022-08-14T21:39:01.151Z"
   },
   {
    "duration": 6,
    "start_time": "2022-08-14T21:41:38.874Z"
   },
   {
    "duration": 6,
    "start_time": "2022-08-14T21:42:35.329Z"
   },
   {
    "duration": 9,
    "start_time": "2022-08-14T21:47:41.980Z"
   },
   {
    "duration": 8,
    "start_time": "2022-08-14T21:47:50.309Z"
   },
   {
    "duration": 9,
    "start_time": "2022-08-14T21:47:54.858Z"
   },
   {
    "duration": 2,
    "start_time": "2022-08-14T21:48:09.960Z"
   },
   {
    "duration": 91,
    "start_time": "2022-08-14T21:48:09.986Z"
   },
   {
    "duration": 22,
    "start_time": "2022-08-14T21:48:10.080Z"
   },
   {
    "duration": 27,
    "start_time": "2022-08-14T21:48:10.104Z"
   },
   {
    "duration": 38,
    "start_time": "2022-08-14T21:48:10.133Z"
   },
   {
    "duration": 3,
    "start_time": "2022-08-14T21:48:10.174Z"
   },
   {
    "duration": 36,
    "start_time": "2022-08-14T21:48:10.179Z"
   },
   {
    "duration": 17,
    "start_time": "2022-08-14T21:48:10.217Z"
   },
   {
    "duration": 29,
    "start_time": "2022-08-14T21:48:10.236Z"
   },
   {
    "duration": 32,
    "start_time": "2022-08-14T21:48:10.266Z"
   },
   {
    "duration": 5,
    "start_time": "2022-08-14T21:48:10.299Z"
   },
   {
    "duration": 36,
    "start_time": "2022-08-14T21:48:10.306Z"
   },
   {
    "duration": 35,
    "start_time": "2022-08-14T21:48:10.356Z"
   },
   {
    "duration": 10,
    "start_time": "2022-08-14T21:48:10.393Z"
   },
   {
    "duration": 6,
    "start_time": "2022-08-14T21:48:10.405Z"
   },
   {
    "duration": 35,
    "start_time": "2022-08-14T21:48:10.412Z"
   },
   {
    "duration": 13,
    "start_time": "2022-08-14T21:48:10.448Z"
   },
   {
    "duration": 32,
    "start_time": "2022-08-14T21:48:10.462Z"
   },
   {
    "duration": 3,
    "start_time": "2022-08-14T21:48:10.495Z"
   },
   {
    "duration": 17,
    "start_time": "2022-08-14T21:48:10.500Z"
   },
   {
    "duration": 56,
    "start_time": "2022-08-14T21:48:10.519Z"
   },
   {
    "duration": 44,
    "start_time": "2022-08-14T21:48:10.577Z"
   },
   {
    "duration": 36,
    "start_time": "2022-08-14T21:48:10.623Z"
   },
   {
    "duration": 54,
    "start_time": "2022-08-14T21:48:10.662Z"
   },
   {
    "duration": 16,
    "start_time": "2022-08-14T21:48:10.717Z"
   },
   {
    "duration": 13,
    "start_time": "2022-08-14T21:48:10.734Z"
   },
   {
    "duration": 135,
    "start_time": "2022-08-14T21:48:10.749Z"
   },
   {
    "duration": 2,
    "start_time": "2022-08-14T21:48:10.886Z"
   },
   {
    "duration": 23,
    "start_time": "2022-08-14T21:48:10.889Z"
   },
   {
    "duration": 49,
    "start_time": "2022-08-14T21:48:10.914Z"
   },
   {
    "duration": 7,
    "start_time": "2022-08-14T21:48:10.964Z"
   },
   {
    "duration": 19,
    "start_time": "2022-08-14T21:48:10.973Z"
   },
   {
    "duration": 33,
    "start_time": "2022-08-14T21:48:10.994Z"
   },
   {
    "duration": 35,
    "start_time": "2022-08-14T21:48:11.029Z"
   },
   {
    "duration": 20,
    "start_time": "2022-08-14T21:48:11.066Z"
   },
   {
    "duration": 18,
    "start_time": "2022-08-14T21:48:11.089Z"
   },
   {
    "duration": 3,
    "start_time": "2022-08-14T21:48:11.109Z"
   },
   {
    "duration": 20997,
    "start_time": "2022-08-14T21:48:11.113Z"
   },
   {
    "duration": 15,
    "start_time": "2022-08-14T21:48:32.111Z"
   },
   {
    "duration": 33,
    "start_time": "2022-08-14T21:48:32.128Z"
   },
   {
    "duration": 15,
    "start_time": "2022-08-14T21:48:32.163Z"
   },
   {
    "duration": 14,
    "start_time": "2022-08-14T21:48:32.180Z"
   },
   {
    "duration": 125,
    "start_time": "2022-08-14T21:48:32.196Z"
   },
   {
    "duration": 8,
    "start_time": "2022-08-14T21:48:32.323Z"
   },
   {
    "duration": 940,
    "start_time": "2022-08-14T21:48:32.332Z"
   },
   {
    "duration": 127,
    "start_time": "2022-08-14T21:48:33.274Z"
   },
   {
    "duration": 1020,
    "start_time": "2022-08-14T21:48:33.402Z"
   },
   {
    "duration": 0,
    "start_time": "2022-08-14T21:48:34.424Z"
   },
   {
    "duration": 0,
    "start_time": "2022-08-14T21:48:34.425Z"
   },
   {
    "duration": 0,
    "start_time": "2022-08-14T21:48:34.426Z"
   },
   {
    "duration": 0,
    "start_time": "2022-08-14T21:48:34.427Z"
   },
   {
    "duration": 0,
    "start_time": "2022-08-14T21:48:34.428Z"
   },
   {
    "duration": 0,
    "start_time": "2022-08-14T21:48:34.428Z"
   },
   {
    "duration": 0,
    "start_time": "2022-08-14T21:48:34.430Z"
   },
   {
    "duration": 0,
    "start_time": "2022-08-14T21:48:34.431Z"
   },
   {
    "duration": 0,
    "start_time": "2022-08-14T21:48:34.432Z"
   },
   {
    "duration": 0,
    "start_time": "2022-08-14T21:48:34.433Z"
   },
   {
    "duration": 0,
    "start_time": "2022-08-14T21:48:34.434Z"
   },
   {
    "duration": 0,
    "start_time": "2022-08-14T21:48:34.435Z"
   },
   {
    "duration": 0,
    "start_time": "2022-08-14T21:48:34.458Z"
   },
   {
    "duration": 0,
    "start_time": "2022-08-14T21:48:34.459Z"
   },
   {
    "duration": 0,
    "start_time": "2022-08-14T21:48:34.461Z"
   },
   {
    "duration": 0,
    "start_time": "2022-08-14T21:48:34.461Z"
   },
   {
    "duration": 0,
    "start_time": "2022-08-14T21:48:34.462Z"
   },
   {
    "duration": 0,
    "start_time": "2022-08-14T21:48:34.463Z"
   },
   {
    "duration": 0,
    "start_time": "2022-08-14T21:48:34.465Z"
   },
   {
    "duration": 0,
    "start_time": "2022-08-14T21:48:34.466Z"
   },
   {
    "duration": 5,
    "start_time": "2022-08-14T21:48:45.756Z"
   },
   {
    "duration": 9,
    "start_time": "2022-08-14T21:48:52.904Z"
   },
   {
    "duration": 10,
    "start_time": "2022-08-14T21:49:08.179Z"
   },
   {
    "duration": 4,
    "start_time": "2022-08-14T21:54:49.498Z"
   },
   {
    "duration": 158,
    "start_time": "2022-08-14T22:01:52.125Z"
   },
   {
    "duration": 116,
    "start_time": "2022-08-14T22:02:20.002Z"
   },
   {
    "duration": 120,
    "start_time": "2022-08-14T22:04:41.657Z"
   },
   {
    "duration": 417,
    "start_time": "2022-08-14T22:05:46.491Z"
   },
   {
    "duration": 39,
    "start_time": "2022-08-14T22:08:58.866Z"
   },
   {
    "duration": 50,
    "start_time": "2022-08-14T22:10:40.219Z"
   },
   {
    "duration": 39,
    "start_time": "2022-08-14T22:11:00.272Z"
   },
   {
    "duration": 47,
    "start_time": "2022-08-14T22:11:09.168Z"
   },
   {
    "duration": 31,
    "start_time": "2022-08-14T22:15:18.839Z"
   },
   {
    "duration": 640,
    "start_time": "2022-08-14T22:15:35.258Z"
   },
   {
    "duration": 45,
    "start_time": "2022-08-14T22:16:30.430Z"
   },
   {
    "duration": 44,
    "start_time": "2022-08-15T06:06:34.524Z"
   },
   {
    "duration": 755,
    "start_time": "2022-08-15T06:06:42.316Z"
   },
   {
    "duration": 168,
    "start_time": "2022-08-15T06:06:43.073Z"
   },
   {
    "duration": 26,
    "start_time": "2022-08-15T06:06:43.242Z"
   },
   {
    "duration": 20,
    "start_time": "2022-08-15T06:06:43.269Z"
   },
   {
    "duration": 18,
    "start_time": "2022-08-15T06:06:43.291Z"
   },
   {
    "duration": 8,
    "start_time": "2022-08-15T06:06:43.311Z"
   },
   {
    "duration": 24,
    "start_time": "2022-08-15T06:06:43.321Z"
   },
   {
    "duration": 19,
    "start_time": "2022-08-15T06:06:43.346Z"
   },
   {
    "duration": 15,
    "start_time": "2022-08-15T06:06:43.387Z"
   },
   {
    "duration": 36,
    "start_time": "2022-08-15T06:06:43.405Z"
   },
   {
    "duration": 6,
    "start_time": "2022-08-15T06:06:43.443Z"
   },
   {
    "duration": 55,
    "start_time": "2022-08-15T06:06:43.451Z"
   },
   {
    "duration": 33,
    "start_time": "2022-08-15T06:06:43.508Z"
   },
   {
    "duration": 10,
    "start_time": "2022-08-15T06:06:43.542Z"
   },
   {
    "duration": 3,
    "start_time": "2022-08-15T06:06:43.553Z"
   },
   {
    "duration": 45,
    "start_time": "2022-08-15T06:06:43.558Z"
   },
   {
    "duration": 9,
    "start_time": "2022-08-15T06:06:43.605Z"
   },
   {
    "duration": 35,
    "start_time": "2022-08-15T06:06:43.615Z"
   },
   {
    "duration": 3,
    "start_time": "2022-08-15T06:06:43.652Z"
   },
   {
    "duration": 29,
    "start_time": "2022-08-15T06:06:43.657Z"
   },
   {
    "duration": 21,
    "start_time": "2022-08-15T06:06:43.688Z"
   },
   {
    "duration": 26,
    "start_time": "2022-08-15T06:06:43.710Z"
   },
   {
    "duration": 12,
    "start_time": "2022-08-15T06:06:43.737Z"
   },
   {
    "duration": 52,
    "start_time": "2022-08-15T06:06:43.751Z"
   },
   {
    "duration": 16,
    "start_time": "2022-08-15T06:06:43.804Z"
   },
   {
    "duration": 19,
    "start_time": "2022-08-15T06:06:43.821Z"
   },
   {
    "duration": 161,
    "start_time": "2022-08-15T06:06:43.842Z"
   },
   {
    "duration": 3,
    "start_time": "2022-08-15T06:06:44.008Z"
   },
   {
    "duration": 42,
    "start_time": "2022-08-15T06:06:44.013Z"
   },
   {
    "duration": 51,
    "start_time": "2022-08-15T06:06:44.057Z"
   },
   {
    "duration": 8,
    "start_time": "2022-08-15T06:06:44.109Z"
   },
   {
    "duration": 23,
    "start_time": "2022-08-15T06:06:44.119Z"
   },
   {
    "duration": 56,
    "start_time": "2022-08-15T06:06:44.143Z"
   },
   {
    "duration": 16,
    "start_time": "2022-08-15T06:06:44.201Z"
   },
   {
    "duration": 21,
    "start_time": "2022-08-15T06:06:44.219Z"
   },
   {
    "duration": 18,
    "start_time": "2022-08-15T06:06:44.242Z"
   },
   {
    "duration": 26,
    "start_time": "2022-08-15T06:06:44.261Z"
   },
   {
    "duration": 20183,
    "start_time": "2022-08-15T06:06:44.288Z"
   },
   {
    "duration": 25,
    "start_time": "2022-08-15T06:07:04.473Z"
   },
   {
    "duration": 32,
    "start_time": "2022-08-15T06:07:04.499Z"
   },
   {
    "duration": 16,
    "start_time": "2022-08-15T06:07:04.533Z"
   },
   {
    "duration": 8,
    "start_time": "2022-08-15T06:07:04.550Z"
   },
   {
    "duration": 133,
    "start_time": "2022-08-15T06:07:04.559Z"
   },
   {
    "duration": 7,
    "start_time": "2022-08-15T06:07:04.693Z"
   },
   {
    "duration": 810,
    "start_time": "2022-08-15T06:07:04.701Z"
   },
   {
    "duration": 169,
    "start_time": "2022-08-15T06:07:05.512Z"
   },
   {
    "duration": 1208,
    "start_time": "2022-08-15T06:07:05.682Z"
   },
   {
    "duration": 0,
    "start_time": "2022-08-15T06:07:06.892Z"
   },
   {
    "duration": 0,
    "start_time": "2022-08-15T06:07:06.893Z"
   },
   {
    "duration": 0,
    "start_time": "2022-08-15T06:07:06.894Z"
   },
   {
    "duration": 0,
    "start_time": "2022-08-15T06:07:06.895Z"
   },
   {
    "duration": 0,
    "start_time": "2022-08-15T06:07:06.897Z"
   },
   {
    "duration": 0,
    "start_time": "2022-08-15T06:07:06.898Z"
   },
   {
    "duration": 0,
    "start_time": "2022-08-15T06:07:06.899Z"
   },
   {
    "duration": 0,
    "start_time": "2022-08-15T06:07:06.900Z"
   },
   {
    "duration": 0,
    "start_time": "2022-08-15T06:07:06.901Z"
   },
   {
    "duration": 0,
    "start_time": "2022-08-15T06:07:06.903Z"
   },
   {
    "duration": 0,
    "start_time": "2022-08-15T06:07:06.904Z"
   },
   {
    "duration": 0,
    "start_time": "2022-08-15T06:07:06.905Z"
   },
   {
    "duration": 0,
    "start_time": "2022-08-15T06:07:06.906Z"
   },
   {
    "duration": 0,
    "start_time": "2022-08-15T06:07:06.907Z"
   },
   {
    "duration": 0,
    "start_time": "2022-08-15T06:07:06.908Z"
   },
   {
    "duration": 0,
    "start_time": "2022-08-15T06:07:06.909Z"
   },
   {
    "duration": 0,
    "start_time": "2022-08-15T06:07:06.910Z"
   },
   {
    "duration": 0,
    "start_time": "2022-08-15T06:07:06.912Z"
   },
   {
    "duration": 0,
    "start_time": "2022-08-15T06:07:06.914Z"
   },
   {
    "duration": 1,
    "start_time": "2022-08-15T06:07:06.915Z"
   },
   {
    "duration": 0,
    "start_time": "2022-08-15T06:07:06.917Z"
   },
   {
    "duration": 0,
    "start_time": "2022-08-15T06:07:06.918Z"
   },
   {
    "duration": 0,
    "start_time": "2022-08-15T06:07:06.920Z"
   },
   {
    "duration": 0,
    "start_time": "2022-08-15T06:07:06.921Z"
   },
   {
    "duration": 0,
    "start_time": "2022-08-15T06:07:06.922Z"
   },
   {
    "duration": 0,
    "start_time": "2022-08-15T06:07:06.924Z"
   },
   {
    "duration": 0,
    "start_time": "2022-08-15T06:07:06.925Z"
   },
   {
    "duration": 0,
    "start_time": "2022-08-15T06:07:06.927Z"
   },
   {
    "duration": 0,
    "start_time": "2022-08-15T06:07:06.928Z"
   },
   {
    "duration": 0,
    "start_time": "2022-08-15T06:07:06.987Z"
   },
   {
    "duration": 0,
    "start_time": "2022-08-15T06:07:06.988Z"
   },
   {
    "duration": 0,
    "start_time": "2022-08-15T06:07:06.989Z"
   },
   {
    "duration": 0,
    "start_time": "2022-08-15T06:07:06.990Z"
   },
   {
    "duration": 0,
    "start_time": "2022-08-15T06:07:06.991Z"
   },
   {
    "duration": 0,
    "start_time": "2022-08-15T06:07:06.992Z"
   },
   {
    "duration": 16,
    "start_time": "2022-08-15T06:16:00.694Z"
   },
   {
    "duration": 2,
    "start_time": "2022-08-15T06:17:09.685Z"
   },
   {
    "duration": 98,
    "start_time": "2022-08-15T06:17:09.705Z"
   },
   {
    "duration": 21,
    "start_time": "2022-08-15T06:17:09.806Z"
   },
   {
    "duration": 15,
    "start_time": "2022-08-15T06:17:09.961Z"
   },
   {
    "duration": 18,
    "start_time": "2022-08-15T06:17:09.979Z"
   },
   {
    "duration": 3,
    "start_time": "2022-08-15T06:17:10.033Z"
   },
   {
    "duration": 27,
    "start_time": "2022-08-15T06:17:10.046Z"
   },
   {
    "duration": 19,
    "start_time": "2022-08-15T06:17:10.074Z"
   },
   {
    "duration": 16,
    "start_time": "2022-08-15T06:17:10.094Z"
   },
   {
    "duration": 38,
    "start_time": "2022-08-15T06:17:10.112Z"
   },
   {
    "duration": 5,
    "start_time": "2022-08-15T06:17:10.152Z"
   },
   {
    "duration": 48,
    "start_time": "2022-08-15T06:17:10.163Z"
   },
   {
    "duration": 40,
    "start_time": "2022-08-15T06:17:10.212Z"
   },
   {
    "duration": 34,
    "start_time": "2022-08-15T06:17:10.254Z"
   },
   {
    "duration": 4,
    "start_time": "2022-08-15T06:17:10.290Z"
   },
   {
    "duration": 31,
    "start_time": "2022-08-15T06:17:10.296Z"
   },
   {
    "duration": 9,
    "start_time": "2022-08-15T06:17:10.329Z"
   },
   {
    "duration": 35,
    "start_time": "2022-08-15T06:17:10.362Z"
   },
   {
    "duration": 3,
    "start_time": "2022-08-15T06:17:10.439Z"
   },
   {
    "duration": 3,
    "start_time": "2022-08-15T06:17:10.478Z"
   },
   {
    "duration": 17,
    "start_time": "2022-08-15T06:17:10.498Z"
   },
   {
    "duration": 16,
    "start_time": "2022-08-15T06:17:10.522Z"
   },
   {
    "duration": 7,
    "start_time": "2022-08-15T06:17:10.547Z"
   },
   {
    "duration": 39,
    "start_time": "2022-08-15T06:17:10.583Z"
   },
   {
    "duration": 14,
    "start_time": "2022-08-15T06:17:10.623Z"
   },
   {
    "duration": 10,
    "start_time": "2022-08-15T06:17:10.639Z"
   },
   {
    "duration": 155,
    "start_time": "2022-08-15T06:17:10.655Z"
   },
   {
    "duration": 3,
    "start_time": "2022-08-15T06:17:10.812Z"
   },
   {
    "duration": 26,
    "start_time": "2022-08-15T06:17:10.816Z"
   },
   {
    "duration": 62,
    "start_time": "2022-08-15T06:17:10.844Z"
   },
   {
    "duration": 7,
    "start_time": "2022-08-15T06:17:10.907Z"
   },
   {
    "duration": 25,
    "start_time": "2022-08-15T06:17:10.915Z"
   },
   {
    "duration": 54,
    "start_time": "2022-08-15T06:17:10.942Z"
   },
   {
    "duration": 12,
    "start_time": "2022-08-15T06:17:10.998Z"
   },
   {
    "duration": 22,
    "start_time": "2022-08-15T06:17:11.012Z"
   },
   {
    "duration": 20,
    "start_time": "2022-08-15T06:17:11.035Z"
   },
   {
    "duration": 31,
    "start_time": "2022-08-15T06:17:11.056Z"
   },
   {
    "duration": 21263,
    "start_time": "2022-08-15T06:17:11.089Z"
   },
   {
    "duration": 13,
    "start_time": "2022-08-15T06:17:32.354Z"
   },
   {
    "duration": 29,
    "start_time": "2022-08-15T06:17:32.368Z"
   },
   {
    "duration": 12,
    "start_time": "2022-08-15T06:17:32.399Z"
   },
   {
    "duration": 14,
    "start_time": "2022-08-15T06:17:32.413Z"
   },
   {
    "duration": 132,
    "start_time": "2022-08-15T06:17:32.429Z"
   },
   {
    "duration": 6,
    "start_time": "2022-08-15T06:17:32.564Z"
   },
   {
    "duration": 746,
    "start_time": "2022-08-15T06:17:32.571Z"
   },
   {
    "duration": 121,
    "start_time": "2022-08-15T06:17:33.319Z"
   },
   {
    "duration": 921,
    "start_time": "2022-08-15T06:17:33.441Z"
   },
   {
    "duration": 0,
    "start_time": "2022-08-15T06:17:34.364Z"
   },
   {
    "duration": 0,
    "start_time": "2022-08-15T06:17:34.365Z"
   },
   {
    "duration": 0,
    "start_time": "2022-08-15T06:17:34.366Z"
   },
   {
    "duration": 0,
    "start_time": "2022-08-15T06:17:34.367Z"
   },
   {
    "duration": 0,
    "start_time": "2022-08-15T06:17:34.367Z"
   },
   {
    "duration": 0,
    "start_time": "2022-08-15T06:17:34.369Z"
   },
   {
    "duration": 0,
    "start_time": "2022-08-15T06:17:34.370Z"
   },
   {
    "duration": 0,
    "start_time": "2022-08-15T06:17:34.386Z"
   },
   {
    "duration": 0,
    "start_time": "2022-08-15T06:17:34.387Z"
   },
   {
    "duration": 0,
    "start_time": "2022-08-15T06:17:34.388Z"
   },
   {
    "duration": 0,
    "start_time": "2022-08-15T06:17:34.390Z"
   },
   {
    "duration": 0,
    "start_time": "2022-08-15T06:17:34.390Z"
   },
   {
    "duration": 0,
    "start_time": "2022-08-15T06:17:34.391Z"
   },
   {
    "duration": 0,
    "start_time": "2022-08-15T06:17:34.392Z"
   },
   {
    "duration": 0,
    "start_time": "2022-08-15T06:17:34.393Z"
   },
   {
    "duration": 0,
    "start_time": "2022-08-15T06:17:34.394Z"
   },
   {
    "duration": 0,
    "start_time": "2022-08-15T06:17:34.395Z"
   },
   {
    "duration": 0,
    "start_time": "2022-08-15T06:17:34.396Z"
   },
   {
    "duration": 0,
    "start_time": "2022-08-15T06:17:34.397Z"
   },
   {
    "duration": 0,
    "start_time": "2022-08-15T06:17:34.398Z"
   },
   {
    "duration": 0,
    "start_time": "2022-08-15T06:17:34.398Z"
   },
   {
    "duration": 0,
    "start_time": "2022-08-15T06:17:34.399Z"
   },
   {
    "duration": 0,
    "start_time": "2022-08-15T06:17:34.400Z"
   },
   {
    "duration": 0,
    "start_time": "2022-08-15T06:17:34.401Z"
   },
   {
    "duration": 0,
    "start_time": "2022-08-15T06:17:34.402Z"
   },
   {
    "duration": 0,
    "start_time": "2022-08-15T06:17:34.403Z"
   },
   {
    "duration": 0,
    "start_time": "2022-08-15T06:17:34.404Z"
   },
   {
    "duration": 0,
    "start_time": "2022-08-15T06:17:34.405Z"
   },
   {
    "duration": 0,
    "start_time": "2022-08-15T06:17:34.406Z"
   },
   {
    "duration": 0,
    "start_time": "2022-08-15T06:17:34.406Z"
   },
   {
    "duration": 0,
    "start_time": "2022-08-15T06:17:34.407Z"
   },
   {
    "duration": 0,
    "start_time": "2022-08-15T06:17:34.408Z"
   },
   {
    "duration": 0,
    "start_time": "2022-08-15T06:17:34.409Z"
   },
   {
    "duration": 9,
    "start_time": "2022-08-15T06:18:13.032Z"
   },
   {
    "duration": 10,
    "start_time": "2022-08-15T06:20:15.231Z"
   },
   {
    "duration": 9,
    "start_time": "2022-08-15T06:20:18.422Z"
   },
   {
    "duration": 131,
    "start_time": "2022-08-15T06:23:48.158Z"
   },
   {
    "duration": 131,
    "start_time": "2022-08-15T06:31:29.418Z"
   },
   {
    "duration": 10,
    "start_time": "2022-08-15T08:34:06.718Z"
   },
   {
    "duration": 9,
    "start_time": "2022-08-15T08:37:20.635Z"
   },
   {
    "duration": 3,
    "start_time": "2022-08-15T08:37:25.461Z"
   },
   {
    "duration": 99,
    "start_time": "2022-08-15T08:37:25.483Z"
   },
   {
    "duration": 22,
    "start_time": "2022-08-15T08:37:25.584Z"
   },
   {
    "duration": 22,
    "start_time": "2022-08-15T08:37:25.608Z"
   },
   {
    "duration": 23,
    "start_time": "2022-08-15T08:37:25.633Z"
   },
   {
    "duration": 4,
    "start_time": "2022-08-15T08:37:25.657Z"
   },
   {
    "duration": 59,
    "start_time": "2022-08-15T08:37:25.663Z"
   },
   {
    "duration": 19,
    "start_time": "2022-08-15T08:37:25.724Z"
   },
   {
    "duration": 103,
    "start_time": "2022-08-15T08:37:25.746Z"
   },
   {
    "duration": 52,
    "start_time": "2022-08-15T08:37:25.851Z"
   },
   {
    "duration": 6,
    "start_time": "2022-08-15T08:37:25.905Z"
   },
   {
    "duration": 43,
    "start_time": "2022-08-15T08:37:25.914Z"
   },
   {
    "duration": 65,
    "start_time": "2022-08-15T08:37:25.958Z"
   },
   {
    "duration": 13,
    "start_time": "2022-08-15T08:37:26.025Z"
   },
   {
    "duration": 3,
    "start_time": "2022-08-15T08:37:26.043Z"
   },
   {
    "duration": 50,
    "start_time": "2022-08-15T08:37:26.048Z"
   },
   {
    "duration": 7,
    "start_time": "2022-08-15T08:37:26.100Z"
   },
   {
    "duration": 32,
    "start_time": "2022-08-15T08:37:26.109Z"
   },
   {
    "duration": 4,
    "start_time": "2022-08-15T08:37:26.143Z"
   },
   {
    "duration": 10,
    "start_time": "2022-08-15T08:37:26.149Z"
   },
   {
    "duration": 56,
    "start_time": "2022-08-15T08:37:26.161Z"
   },
   {
    "duration": 34,
    "start_time": "2022-08-15T08:37:26.219Z"
   },
   {
    "duration": 18,
    "start_time": "2022-08-15T08:37:26.254Z"
   },
   {
    "duration": 71,
    "start_time": "2022-08-15T08:37:26.275Z"
   },
   {
    "duration": 20,
    "start_time": "2022-08-15T08:37:26.348Z"
   },
   {
    "duration": 22,
    "start_time": "2022-08-15T08:37:26.370Z"
   },
   {
    "duration": 207,
    "start_time": "2022-08-15T08:37:26.394Z"
   },
   {
    "duration": 5,
    "start_time": "2022-08-15T08:37:26.603Z"
   },
   {
    "duration": 26,
    "start_time": "2022-08-15T08:37:26.612Z"
   },
   {
    "duration": 64,
    "start_time": "2022-08-15T08:37:26.639Z"
   },
   {
    "duration": 7,
    "start_time": "2022-08-15T08:37:26.706Z"
   },
   {
    "duration": 25,
    "start_time": "2022-08-15T08:37:26.715Z"
   },
   {
    "duration": 61,
    "start_time": "2022-08-15T08:37:26.742Z"
   },
   {
    "duration": 12,
    "start_time": "2022-08-15T08:37:26.804Z"
   },
   {
    "duration": 30,
    "start_time": "2022-08-15T08:37:26.818Z"
   },
   {
    "duration": 42,
    "start_time": "2022-08-15T08:37:26.850Z"
   },
   {
    "duration": 4,
    "start_time": "2022-08-15T08:37:26.894Z"
   },
   {
    "duration": 21894,
    "start_time": "2022-08-15T08:37:26.899Z"
   },
   {
    "duration": 14,
    "start_time": "2022-08-15T08:37:48.794Z"
   },
   {
    "duration": 26,
    "start_time": "2022-08-15T08:37:48.810Z"
   },
   {
    "duration": 13,
    "start_time": "2022-08-15T08:37:48.837Z"
   },
   {
    "duration": 10,
    "start_time": "2022-08-15T08:38:00.537Z"
   },
   {
    "duration": 126,
    "start_time": "2022-08-15T08:39:21.162Z"
   },
   {
    "duration": 121,
    "start_time": "2022-08-15T08:39:24.758Z"
   },
   {
    "duration": 263,
    "start_time": "2022-08-15T08:40:22.847Z"
   },
   {
    "duration": 163,
    "start_time": "2022-08-15T08:45:41.126Z"
   },
   {
    "duration": 256,
    "start_time": "2022-08-15T08:48:56.338Z"
   },
   {
    "duration": 130,
    "start_time": "2022-08-15T08:49:58.386Z"
   },
   {
    "duration": 160,
    "start_time": "2022-08-15T09:37:55.626Z"
   },
   {
    "duration": 123,
    "start_time": "2022-08-15T09:38:13.147Z"
   },
   {
    "duration": 130,
    "start_time": "2022-08-15T09:38:28.490Z"
   },
   {
    "duration": 132,
    "start_time": "2022-08-15T09:40:48.375Z"
   },
   {
    "duration": 12,
    "start_time": "2022-08-15T09:42:36.388Z"
   },
   {
    "duration": 12,
    "start_time": "2022-08-15T09:43:06.201Z"
   },
   {
    "duration": 125,
    "start_time": "2022-08-15T09:44:54.109Z"
   },
   {
    "duration": 220,
    "start_time": "2022-08-15T09:48:09.903Z"
   },
   {
    "duration": 437,
    "start_time": "2022-08-15T09:53:53.089Z"
   },
   {
    "duration": 8,
    "start_time": "2022-08-15T09:57:07.819Z"
   },
   {
    "duration": 64,
    "start_time": "2022-08-15T09:57:43.747Z"
   },
   {
    "duration": 140,
    "start_time": "2022-08-15T09:58:06.819Z"
   },
   {
    "duration": 11,
    "start_time": "2022-08-15T09:59:03.016Z"
   },
   {
    "duration": 122,
    "start_time": "2022-08-15T10:02:46.696Z"
   },
   {
    "duration": 11,
    "start_time": "2022-08-15T10:02:59.106Z"
   },
   {
    "duration": 136,
    "start_time": "2022-08-15T10:03:59.841Z"
   },
   {
    "duration": 5,
    "start_time": "2022-08-15T10:04:44.666Z"
   },
   {
    "duration": 617,
    "start_time": "2022-08-15T10:04:51.931Z"
   },
   {
    "duration": 7,
    "start_time": "2022-08-15T10:05:29.610Z"
   },
   {
    "duration": 470,
    "start_time": "2022-08-15T10:05:49.672Z"
   },
   {
    "duration": 6,
    "start_time": "2022-08-15T10:05:54.240Z"
   },
   {
    "duration": 12,
    "start_time": "2022-08-15T10:06:01.839Z"
   },
   {
    "duration": 6,
    "start_time": "2022-08-15T10:06:08.622Z"
   },
   {
    "duration": 6,
    "start_time": "2022-08-15T10:06:12.610Z"
   },
   {
    "duration": 505,
    "start_time": "2022-08-15T10:09:10.519Z"
   },
   {
    "duration": 567,
    "start_time": "2022-08-15T10:10:49.443Z"
   },
   {
    "duration": 141,
    "start_time": "2022-08-15T10:13:01.801Z"
   },
   {
    "duration": 145,
    "start_time": "2022-08-15T10:13:23.679Z"
   },
   {
    "duration": 9,
    "start_time": "2022-08-15T10:14:25.803Z"
   },
   {
    "duration": 462,
    "start_time": "2022-08-15T10:14:37.983Z"
   },
   {
    "duration": 563,
    "start_time": "2022-08-15T10:14:58.680Z"
   },
   {
    "duration": 6,
    "start_time": "2022-08-15T10:15:05.914Z"
   },
   {
    "duration": 9,
    "start_time": "2022-08-15T10:15:21.153Z"
   },
   {
    "duration": 1065,
    "start_time": "2022-08-15T10:20:29.461Z"
   },
   {
    "duration": 972,
    "start_time": "2022-08-15T10:20:34.602Z"
   },
   {
    "duration": 300,
    "start_time": "2022-08-15T10:20:46.468Z"
   },
   {
    "duration": 322,
    "start_time": "2022-08-15T10:20:49.557Z"
   },
   {
    "duration": 77,
    "start_time": "2022-08-15T10:22:53.639Z"
   },
   {
    "duration": 60,
    "start_time": "2022-08-15T10:23:16.916Z"
   },
   {
    "duration": 68,
    "start_time": "2022-08-15T10:23:46.993Z"
   },
   {
    "duration": 52,
    "start_time": "2022-08-15T10:23:58.799Z"
   },
   {
    "duration": 47,
    "start_time": "2022-08-15T10:24:25.034Z"
   },
   {
    "duration": 346,
    "start_time": "2022-08-15T10:30:16.714Z"
   },
   {
    "duration": 6,
    "start_time": "2022-08-15T10:30:38.863Z"
   },
   {
    "duration": 477,
    "start_time": "2022-08-15T10:34:13.839Z"
   },
   {
    "duration": 478,
    "start_time": "2022-08-15T10:35:37.711Z"
   },
   {
    "duration": 366,
    "start_time": "2022-08-15T10:38:17.910Z"
   },
   {
    "duration": 486,
    "start_time": "2022-08-15T10:40:40.213Z"
   },
   {
    "duration": 124,
    "start_time": "2022-08-15T10:42:17.713Z"
   },
   {
    "duration": 134,
    "start_time": "2022-08-15T10:42:47.951Z"
   },
   {
    "duration": 9,
    "start_time": "2022-08-15T10:44:51.203Z"
   },
   {
    "duration": 116,
    "start_time": "2022-08-15T10:45:43.319Z"
   },
   {
    "duration": 422,
    "start_time": "2022-08-15T10:45:51.914Z"
   },
   {
    "duration": 37,
    "start_time": "2022-08-15T10:46:26.113Z"
   },
   {
    "duration": 52,
    "start_time": "2022-08-15T10:46:30.890Z"
   },
   {
    "duration": 120,
    "start_time": "2022-08-15T10:49:57.212Z"
   },
   {
    "duration": 120,
    "start_time": "2022-08-15T10:50:53.245Z"
   },
   {
    "duration": 7,
    "start_time": "2022-08-15T10:57:06.464Z"
   },
   {
    "duration": 551,
    "start_time": "2022-08-15T10:57:10.340Z"
   },
   {
    "duration": 46,
    "start_time": "2022-08-15T10:57:27.253Z"
   },
   {
    "duration": 250,
    "start_time": "2022-08-15T11:04:59.628Z"
   },
   {
    "duration": 9,
    "start_time": "2022-08-15T11:16:30.337Z"
   },
   {
    "duration": 9,
    "start_time": "2022-08-15T11:17:02.865Z"
   },
   {
    "duration": 37,
    "start_time": "2022-08-15T11:25:13.353Z"
   },
   {
    "duration": 7,
    "start_time": "2022-08-15T11:26:31.396Z"
   },
   {
    "duration": 192,
    "start_time": "2022-08-15T11:26:31.413Z"
   },
   {
    "duration": 24,
    "start_time": "2022-08-15T11:26:31.608Z"
   },
   {
    "duration": 66,
    "start_time": "2022-08-15T11:26:31.634Z"
   },
   {
    "duration": 27,
    "start_time": "2022-08-15T11:26:31.703Z"
   },
   {
    "duration": 15,
    "start_time": "2022-08-15T11:26:31.732Z"
   },
   {
    "duration": 40,
    "start_time": "2022-08-15T11:26:31.749Z"
   },
   {
    "duration": 28,
    "start_time": "2022-08-15T11:26:31.790Z"
   },
   {
    "duration": 19,
    "start_time": "2022-08-15T11:26:31.819Z"
   },
   {
    "duration": 71,
    "start_time": "2022-08-15T11:26:31.840Z"
   },
   {
    "duration": 5,
    "start_time": "2022-08-15T11:26:31.914Z"
   },
   {
    "duration": 36,
    "start_time": "2022-08-15T11:26:31.921Z"
   },
   {
    "duration": 60,
    "start_time": "2022-08-15T11:26:31.959Z"
   },
   {
    "duration": 12,
    "start_time": "2022-08-15T11:26:32.021Z"
   },
   {
    "duration": 8,
    "start_time": "2022-08-15T11:26:32.034Z"
   },
   {
    "duration": 53,
    "start_time": "2022-08-15T11:26:32.044Z"
   },
   {
    "duration": 20,
    "start_time": "2022-08-15T11:26:32.100Z"
   },
   {
    "duration": 47,
    "start_time": "2022-08-15T11:26:32.122Z"
   },
   {
    "duration": 4,
    "start_time": "2022-08-15T11:26:32.171Z"
   },
   {
    "duration": 6,
    "start_time": "2022-08-15T11:26:32.177Z"
   },
   {
    "duration": 35,
    "start_time": "2022-08-15T11:26:32.185Z"
   },
   {
    "duration": 14,
    "start_time": "2022-08-15T11:26:32.222Z"
   },
   {
    "duration": 9,
    "start_time": "2022-08-15T11:26:32.237Z"
   },
   {
    "duration": 46,
    "start_time": "2022-08-15T11:26:32.248Z"
   },
   {
    "duration": 18,
    "start_time": "2022-08-15T11:26:32.301Z"
   },
   {
    "duration": 24,
    "start_time": "2022-08-15T11:26:32.320Z"
   },
   {
    "duration": 168,
    "start_time": "2022-08-15T11:26:32.346Z"
   },
   {
    "duration": 4,
    "start_time": "2022-08-15T11:26:32.516Z"
   },
   {
    "duration": 29,
    "start_time": "2022-08-15T11:26:32.521Z"
   },
   {
    "duration": 59,
    "start_time": "2022-08-15T11:26:32.552Z"
   },
   {
    "duration": 7,
    "start_time": "2022-08-15T11:26:32.613Z"
   },
   {
    "duration": 22,
    "start_time": "2022-08-15T11:26:32.621Z"
   },
   {
    "duration": 65,
    "start_time": "2022-08-15T11:26:32.645Z"
   },
   {
    "duration": 14,
    "start_time": "2022-08-15T11:26:32.712Z"
   },
   {
    "duration": 43,
    "start_time": "2022-08-15T11:26:32.728Z"
   },
   {
    "duration": 37,
    "start_time": "2022-08-15T11:26:32.772Z"
   },
   {
    "duration": 3,
    "start_time": "2022-08-15T11:26:32.811Z"
   },
   {
    "duration": 21608,
    "start_time": "2022-08-15T11:26:32.816Z"
   },
   {
    "duration": 14,
    "start_time": "2022-08-15T11:26:54.426Z"
   },
   {
    "duration": 26,
    "start_time": "2022-08-15T11:26:54.442Z"
   },
   {
    "duration": 24,
    "start_time": "2022-08-15T11:26:54.469Z"
   },
   {
    "duration": 156,
    "start_time": "2022-08-15T11:26:54.495Z"
   },
   {
    "duration": 123,
    "start_time": "2022-08-15T11:26:54.653Z"
   },
   {
    "duration": 13,
    "start_time": "2022-08-15T11:26:54.777Z"
   },
   {
    "duration": 138,
    "start_time": "2022-08-15T11:26:54.793Z"
   },
   {
    "duration": 8,
    "start_time": "2022-08-15T11:26:54.933Z"
   },
   {
    "duration": 135,
    "start_time": "2022-08-15T11:26:54.943Z"
   },
   {
    "duration": 474,
    "start_time": "2022-08-15T11:26:55.087Z"
   },
   {
    "duration": 135,
    "start_time": "2022-08-15T11:26:55.563Z"
   },
   {
    "duration": 142,
    "start_time": "2022-08-15T11:26:55.699Z"
   },
   {
    "duration": 10,
    "start_time": "2022-08-15T11:26:55.842Z"
   },
   {
    "duration": 9,
    "start_time": "2022-08-15T11:26:55.854Z"
   },
   {
    "duration": 279,
    "start_time": "2022-08-15T11:26:55.865Z"
   },
   {
    "duration": 0,
    "start_time": "2022-08-15T11:26:56.147Z"
   },
   {
    "duration": 0,
    "start_time": "2022-08-15T11:26:56.148Z"
   },
   {
    "duration": 0,
    "start_time": "2022-08-15T11:26:56.150Z"
   },
   {
    "duration": 0,
    "start_time": "2022-08-15T11:26:56.151Z"
   },
   {
    "duration": 0,
    "start_time": "2022-08-15T11:26:56.152Z"
   },
   {
    "duration": 0,
    "start_time": "2022-08-15T11:26:56.153Z"
   },
   {
    "duration": 0,
    "start_time": "2022-08-15T11:26:56.154Z"
   },
   {
    "duration": 0,
    "start_time": "2022-08-15T11:26:56.155Z"
   },
   {
    "duration": 0,
    "start_time": "2022-08-15T11:26:56.156Z"
   },
   {
    "duration": 0,
    "start_time": "2022-08-15T11:26:56.158Z"
   },
   {
    "duration": 0,
    "start_time": "2022-08-15T11:26:56.159Z"
   },
   {
    "duration": 0,
    "start_time": "2022-08-15T11:26:56.160Z"
   },
   {
    "duration": 0,
    "start_time": "2022-08-15T11:26:56.161Z"
   },
   {
    "duration": 0,
    "start_time": "2022-08-15T11:26:56.162Z"
   },
   {
    "duration": 0,
    "start_time": "2022-08-15T11:26:56.163Z"
   },
   {
    "duration": 0,
    "start_time": "2022-08-15T11:26:56.164Z"
   },
   {
    "duration": 0,
    "start_time": "2022-08-15T11:26:56.165Z"
   },
   {
    "duration": 0,
    "start_time": "2022-08-15T11:26:56.167Z"
   },
   {
    "duration": 0,
    "start_time": "2022-08-15T11:26:56.168Z"
   },
   {
    "duration": 0,
    "start_time": "2022-08-15T11:26:56.169Z"
   },
   {
    "duration": 0,
    "start_time": "2022-08-15T11:26:56.170Z"
   },
   {
    "duration": 0,
    "start_time": "2022-08-15T11:26:56.176Z"
   },
   {
    "duration": 0,
    "start_time": "2022-08-15T11:26:56.179Z"
   },
   {
    "duration": 0,
    "start_time": "2022-08-15T11:26:56.180Z"
   },
   {
    "duration": 0,
    "start_time": "2022-08-15T11:26:56.182Z"
   },
   {
    "duration": 0,
    "start_time": "2022-08-15T11:26:56.183Z"
   },
   {
    "duration": 0,
    "start_time": "2022-08-15T11:26:56.188Z"
   },
   {
    "duration": 0,
    "start_time": "2022-08-15T11:26:56.189Z"
   },
   {
    "duration": 0,
    "start_time": "2022-08-15T11:26:56.190Z"
   },
   {
    "duration": 0,
    "start_time": "2022-08-15T11:26:56.191Z"
   },
   {
    "duration": 0,
    "start_time": "2022-08-15T11:26:56.192Z"
   },
   {
    "duration": 69,
    "start_time": "2022-08-15T11:27:03.002Z"
   },
   {
    "duration": 19,
    "start_time": "2022-08-15T11:31:14.997Z"
   },
   {
    "duration": 15,
    "start_time": "2022-08-15T11:31:43.503Z"
   },
   {
    "duration": 13,
    "start_time": "2022-08-15T11:38:46.689Z"
   },
   {
    "duration": 57,
    "start_time": "2022-08-15T11:38:58.339Z"
   },
   {
    "duration": 239,
    "start_time": "2022-08-15T11:39:15.284Z"
   },
   {
    "duration": 73,
    "start_time": "2022-08-15T11:39:19.305Z"
   },
   {
    "duration": 36,
    "start_time": "2022-08-15T11:39:23.925Z"
   },
   {
    "duration": 211,
    "start_time": "2022-08-15T11:40:39.915Z"
   },
   {
    "duration": 57,
    "start_time": "2022-08-15T11:41:21.418Z"
   },
   {
    "duration": 7,
    "start_time": "2022-08-15T11:42:38.473Z"
   },
   {
    "duration": 36,
    "start_time": "2022-08-15T11:42:44.604Z"
   },
   {
    "duration": 35,
    "start_time": "2022-08-15T11:51:44.849Z"
   },
   {
    "duration": 24,
    "start_time": "2022-08-15T11:51:57.839Z"
   },
   {
    "duration": 3,
    "start_time": "2022-08-15T11:52:51.567Z"
   },
   {
    "duration": 3,
    "start_time": "2022-08-15T11:52:55.126Z"
   },
   {
    "duration": 4,
    "start_time": "2022-08-15T11:52:59.711Z"
   },
   {
    "duration": 8,
    "start_time": "2022-08-15T11:53:16.399Z"
   },
   {
    "duration": 22,
    "start_time": "2022-08-15T11:53:39.286Z"
   },
   {
    "duration": 8,
    "start_time": "2022-08-15T11:54:12.223Z"
   },
   {
    "duration": 8,
    "start_time": "2022-08-15T11:54:24.631Z"
   },
   {
    "duration": 9,
    "start_time": "2022-08-15T11:54:30.837Z"
   },
   {
    "duration": 7,
    "start_time": "2022-08-15T11:54:36.875Z"
   },
   {
    "duration": 9,
    "start_time": "2022-08-15T11:54:40.930Z"
   },
   {
    "duration": 8,
    "start_time": "2022-08-15T11:55:47.463Z"
   },
   {
    "duration": 172,
    "start_time": "2022-08-15T11:56:02.167Z"
   },
   {
    "duration": 34,
    "start_time": "2022-08-15T11:56:28.968Z"
   },
   {
    "duration": 9,
    "start_time": "2022-08-15T11:57:01.477Z"
   },
   {
    "duration": 8,
    "start_time": "2022-08-15T11:57:47.671Z"
   },
   {
    "duration": 13,
    "start_time": "2022-08-15T12:08:00.983Z"
   },
   {
    "duration": 494,
    "start_time": "2022-08-15T12:08:12.295Z"
   },
   {
    "duration": 417,
    "start_time": "2022-08-15T12:08:37.054Z"
   },
   {
    "duration": 418,
    "start_time": "2022-08-15T12:09:21.772Z"
   },
   {
    "duration": 538,
    "start_time": "2022-08-15T12:10:31.975Z"
   },
   {
    "duration": 379,
    "start_time": "2022-08-15T12:11:19.299Z"
   },
   {
    "duration": 382,
    "start_time": "2022-08-15T12:11:32.625Z"
   },
   {
    "duration": 387,
    "start_time": "2022-08-15T12:12:09.359Z"
   },
   {
    "duration": 1361,
    "start_time": "2022-08-15T12:13:07.255Z"
   },
   {
    "duration": 1731,
    "start_time": "2022-08-15T12:13:10.234Z"
   },
   {
    "duration": 412,
    "start_time": "2022-08-15T12:13:17.431Z"
   },
   {
    "duration": 10,
    "start_time": "2022-08-15T12:34:56.240Z"
   },
   {
    "duration": 442,
    "start_time": "2022-08-15T12:35:05.500Z"
   },
   {
    "duration": 126,
    "start_time": "2022-08-15T12:35:05.944Z"
   },
   {
    "duration": 37,
    "start_time": "2022-08-15T12:35:06.072Z"
   },
   {
    "duration": 31,
    "start_time": "2022-08-15T12:35:06.111Z"
   },
   {
    "duration": 36,
    "start_time": "2022-08-15T12:35:06.144Z"
   },
   {
    "duration": 26,
    "start_time": "2022-08-15T12:35:06.182Z"
   },
   {
    "duration": 42,
    "start_time": "2022-08-15T12:35:06.210Z"
   },
   {
    "duration": 63,
    "start_time": "2022-08-15T12:35:06.253Z"
   },
   {
    "duration": 49,
    "start_time": "2022-08-15T12:35:06.318Z"
   },
   {
    "duration": 64,
    "start_time": "2022-08-15T12:35:06.371Z"
   },
   {
    "duration": 7,
    "start_time": "2022-08-15T12:35:06.437Z"
   },
   {
    "duration": 64,
    "start_time": "2022-08-15T12:35:06.446Z"
   },
   {
    "duration": 49,
    "start_time": "2022-08-15T12:35:06.512Z"
   },
   {
    "duration": 34,
    "start_time": "2022-08-15T12:35:06.563Z"
   },
   {
    "duration": 11,
    "start_time": "2022-08-15T12:35:06.599Z"
   },
   {
    "duration": 39,
    "start_time": "2022-08-15T12:35:06.612Z"
   },
   {
    "duration": 63,
    "start_time": "2022-08-15T12:35:06.652Z"
   },
   {
    "duration": 52,
    "start_time": "2022-08-15T12:35:06.717Z"
   },
   {
    "duration": 3,
    "start_time": "2022-08-15T12:35:06.771Z"
   },
   {
    "duration": 26,
    "start_time": "2022-08-15T12:35:06.776Z"
   },
   {
    "duration": 38,
    "start_time": "2022-08-15T12:35:06.804Z"
   },
   {
    "duration": 34,
    "start_time": "2022-08-15T12:35:06.844Z"
   },
   {
    "duration": 27,
    "start_time": "2022-08-15T12:35:06.880Z"
   },
   {
    "duration": 51,
    "start_time": "2022-08-15T12:35:06.909Z"
   },
   {
    "duration": 14,
    "start_time": "2022-08-15T12:35:06.962Z"
   },
   {
    "duration": 22,
    "start_time": "2022-08-15T12:35:06.978Z"
   },
   {
    "duration": 306,
    "start_time": "2022-08-15T12:35:07.002Z"
   },
   {
    "duration": 3,
    "start_time": "2022-08-15T12:35:07.312Z"
   },
   {
    "duration": 51,
    "start_time": "2022-08-15T12:35:07.316Z"
   },
   {
    "duration": 49,
    "start_time": "2022-08-15T12:35:07.369Z"
   },
   {
    "duration": 8,
    "start_time": "2022-08-15T12:35:07.419Z"
   },
   {
    "duration": 31,
    "start_time": "2022-08-15T12:35:07.428Z"
   },
   {
    "duration": 57,
    "start_time": "2022-08-15T12:35:07.461Z"
   },
   {
    "duration": 13,
    "start_time": "2022-08-15T12:35:07.521Z"
   },
   {
    "duration": 28,
    "start_time": "2022-08-15T12:35:07.536Z"
   },
   {
    "duration": 74,
    "start_time": "2022-08-15T12:35:07.567Z"
   },
   {
    "duration": 6,
    "start_time": "2022-08-15T12:35:07.643Z"
   },
   {
    "duration": 21952,
    "start_time": "2022-08-15T12:35:07.651Z"
   },
   {
    "duration": 14,
    "start_time": "2022-08-15T12:35:29.605Z"
   },
   {
    "duration": 29,
    "start_time": "2022-08-15T12:35:29.620Z"
   },
   {
    "duration": 13,
    "start_time": "2022-08-15T12:35:29.651Z"
   },
   {
    "duration": 165,
    "start_time": "2022-08-15T12:35:29.665Z"
   },
   {
    "duration": 131,
    "start_time": "2022-08-15T12:35:29.832Z"
   },
   {
    "duration": 5,
    "start_time": "2022-08-15T12:35:29.965Z"
   },
   {
    "duration": 168,
    "start_time": "2022-08-15T12:35:29.972Z"
   },
   {
    "duration": 9,
    "start_time": "2022-08-15T12:35:30.142Z"
   },
   {
    "duration": 150,
    "start_time": "2022-08-15T12:35:30.153Z"
   },
   {
    "duration": 474,
    "start_time": "2022-08-15T12:35:30.305Z"
   },
   {
    "duration": 148,
    "start_time": "2022-08-15T12:35:30.780Z"
   },
   {
    "duration": 172,
    "start_time": "2022-08-15T12:35:30.929Z"
   },
   {
    "duration": 9,
    "start_time": "2022-08-15T12:35:31.103Z"
   },
   {
    "duration": 16,
    "start_time": "2022-08-15T12:35:31.113Z"
   },
   {
    "duration": 70,
    "start_time": "2022-08-15T12:35:31.130Z"
   },
   {
    "duration": 0,
    "start_time": "2022-08-15T12:35:31.202Z"
   },
   {
    "duration": 0,
    "start_time": "2022-08-15T12:35:31.203Z"
   },
   {
    "duration": 0,
    "start_time": "2022-08-15T12:35:31.204Z"
   },
   {
    "duration": 0,
    "start_time": "2022-08-15T12:35:31.205Z"
   },
   {
    "duration": 0,
    "start_time": "2022-08-15T12:35:31.206Z"
   },
   {
    "duration": 0,
    "start_time": "2022-08-15T12:35:31.206Z"
   },
   {
    "duration": 0,
    "start_time": "2022-08-15T12:35:31.207Z"
   },
   {
    "duration": 0,
    "start_time": "2022-08-15T12:35:31.209Z"
   },
   {
    "duration": 0,
    "start_time": "2022-08-15T12:35:31.209Z"
   },
   {
    "duration": 0,
    "start_time": "2022-08-15T12:35:31.210Z"
   },
   {
    "duration": 0,
    "start_time": "2022-08-15T12:35:31.211Z"
   },
   {
    "duration": 0,
    "start_time": "2022-08-15T12:35:31.212Z"
   },
   {
    "duration": 0,
    "start_time": "2022-08-15T12:35:31.213Z"
   },
   {
    "duration": 0,
    "start_time": "2022-08-15T12:35:31.214Z"
   },
   {
    "duration": 0,
    "start_time": "2022-08-15T12:35:31.215Z"
   },
   {
    "duration": 0,
    "start_time": "2022-08-15T12:35:31.216Z"
   },
   {
    "duration": 0,
    "start_time": "2022-08-15T12:35:31.218Z"
   },
   {
    "duration": 0,
    "start_time": "2022-08-15T12:35:31.219Z"
   },
   {
    "duration": 0,
    "start_time": "2022-08-15T12:35:31.220Z"
   },
   {
    "duration": 0,
    "start_time": "2022-08-15T12:35:31.221Z"
   },
   {
    "duration": 0,
    "start_time": "2022-08-15T12:35:31.222Z"
   },
   {
    "duration": 0,
    "start_time": "2022-08-15T12:35:31.223Z"
   },
   {
    "duration": 0,
    "start_time": "2022-08-15T12:35:31.224Z"
   },
   {
    "duration": 0,
    "start_time": "2022-08-15T12:35:31.225Z"
   },
   {
    "duration": 0,
    "start_time": "2022-08-15T12:35:31.226Z"
   },
   {
    "duration": 0,
    "start_time": "2022-08-15T12:35:31.227Z"
   },
   {
    "duration": 0,
    "start_time": "2022-08-15T12:35:31.228Z"
   },
   {
    "duration": 0,
    "start_time": "2022-08-15T12:35:31.229Z"
   },
   {
    "duration": 0,
    "start_time": "2022-08-15T12:35:31.230Z"
   },
   {
    "duration": 0,
    "start_time": "2022-08-15T12:35:31.231Z"
   },
   {
    "duration": 0,
    "start_time": "2022-08-15T12:35:31.232Z"
   },
   {
    "duration": 0,
    "start_time": "2022-08-15T12:35:31.233Z"
   },
   {
    "duration": 0,
    "start_time": "2022-08-15T12:35:31.234Z"
   },
   {
    "duration": 0,
    "start_time": "2022-08-15T12:35:31.235Z"
   },
   {
    "duration": 1,
    "start_time": "2022-08-15T12:35:31.235Z"
   },
   {
    "duration": 608,
    "start_time": "2022-08-15T12:43:47.458Z"
   },
   {
    "duration": 331,
    "start_time": "2022-08-15T12:51:50.581Z"
   },
   {
    "duration": 361,
    "start_time": "2022-08-15T12:52:01.129Z"
   },
   {
    "duration": 393,
    "start_time": "2022-08-15T12:52:07.588Z"
   },
   {
    "duration": 16,
    "start_time": "2022-08-15T13:01:38.710Z"
   },
   {
    "duration": 26,
    "start_time": "2022-08-15T13:01:51.421Z"
   },
   {
    "duration": 39,
    "start_time": "2022-08-15T13:08:27.591Z"
   },
   {
    "duration": 8,
    "start_time": "2022-08-15T13:08:35.675Z"
   },
   {
    "duration": 9,
    "start_time": "2022-08-15T13:10:02.416Z"
   },
   {
    "duration": 9,
    "start_time": "2022-08-15T13:13:27.132Z"
   },
   {
    "duration": 3,
    "start_time": "2022-08-15T13:13:36.564Z"
   },
   {
    "duration": 122,
    "start_time": "2022-08-15T13:13:36.570Z"
   },
   {
    "duration": 24,
    "start_time": "2022-08-15T13:13:36.694Z"
   },
   {
    "duration": 20,
    "start_time": "2022-08-15T13:13:36.720Z"
   },
   {
    "duration": 22,
    "start_time": "2022-08-15T13:13:36.743Z"
   },
   {
    "duration": 20,
    "start_time": "2022-08-15T13:13:36.767Z"
   },
   {
    "duration": 26,
    "start_time": "2022-08-15T13:13:36.788Z"
   },
   {
    "duration": 18,
    "start_time": "2022-08-15T13:13:36.816Z"
   },
   {
    "duration": 18,
    "start_time": "2022-08-15T13:13:36.836Z"
   },
   {
    "duration": 66,
    "start_time": "2022-08-15T13:13:36.855Z"
   },
   {
    "duration": 7,
    "start_time": "2022-08-15T13:13:36.923Z"
   },
   {
    "duration": 32,
    "start_time": "2022-08-15T13:13:36.931Z"
   },
   {
    "duration": 56,
    "start_time": "2022-08-15T13:13:36.965Z"
   },
   {
    "duration": 12,
    "start_time": "2022-08-15T13:13:37.025Z"
   },
   {
    "duration": 4,
    "start_time": "2022-08-15T13:13:37.038Z"
   },
   {
    "duration": 48,
    "start_time": "2022-08-15T13:13:37.044Z"
   },
   {
    "duration": 7,
    "start_time": "2022-08-15T13:13:37.094Z"
   },
   {
    "duration": 32,
    "start_time": "2022-08-15T13:13:37.103Z"
   },
   {
    "duration": 4,
    "start_time": "2022-08-15T13:13:37.137Z"
   },
   {
    "duration": 9,
    "start_time": "2022-08-15T13:13:37.142Z"
   },
   {
    "duration": 43,
    "start_time": "2022-08-15T13:13:37.152Z"
   },
   {
    "duration": 14,
    "start_time": "2022-08-15T13:13:37.196Z"
   },
   {
    "duration": 14,
    "start_time": "2022-08-15T13:13:37.211Z"
   },
   {
    "duration": 37,
    "start_time": "2022-08-15T13:13:37.227Z"
   },
   {
    "duration": 28,
    "start_time": "2022-08-15T13:13:37.266Z"
   },
   {
    "duration": 12,
    "start_time": "2022-08-15T13:13:37.296Z"
   },
   {
    "duration": 157,
    "start_time": "2022-08-15T13:13:37.309Z"
   },
   {
    "duration": 2,
    "start_time": "2022-08-15T13:13:37.468Z"
   },
   {
    "duration": 35,
    "start_time": "2022-08-15T13:13:37.472Z"
   },
   {
    "duration": 44,
    "start_time": "2022-08-15T13:13:37.509Z"
   },
   {
    "duration": 8,
    "start_time": "2022-08-15T13:13:37.555Z"
   },
   {
    "duration": 46,
    "start_time": "2022-08-15T13:13:37.564Z"
   },
   {
    "duration": 40,
    "start_time": "2022-08-15T13:13:37.612Z"
   },
   {
    "duration": 11,
    "start_time": "2022-08-15T13:13:37.653Z"
   },
   {
    "duration": 35,
    "start_time": "2022-08-15T13:13:37.666Z"
   },
   {
    "duration": 18,
    "start_time": "2022-08-15T13:13:37.703Z"
   },
   {
    "duration": 2,
    "start_time": "2022-08-15T13:13:37.723Z"
   },
   {
    "duration": 22388,
    "start_time": "2022-08-15T13:13:37.726Z"
   },
   {
    "duration": 13,
    "start_time": "2022-08-15T13:14:00.116Z"
   },
   {
    "duration": 36,
    "start_time": "2022-08-15T13:14:00.130Z"
   },
   {
    "duration": 14,
    "start_time": "2022-08-15T13:14:00.170Z"
   },
   {
    "duration": 148,
    "start_time": "2022-08-15T13:14:00.185Z"
   },
   {
    "duration": 129,
    "start_time": "2022-08-15T13:14:00.335Z"
   },
   {
    "duration": 5,
    "start_time": "2022-08-15T13:14:00.466Z"
   },
   {
    "duration": 147,
    "start_time": "2022-08-15T13:14:00.473Z"
   },
   {
    "duration": 8,
    "start_time": "2022-08-15T13:14:00.622Z"
   },
   {
    "duration": 127,
    "start_time": "2022-08-15T13:14:00.631Z"
   },
   {
    "duration": 452,
    "start_time": "2022-08-15T13:14:00.760Z"
   },
   {
    "duration": 131,
    "start_time": "2022-08-15T13:14:01.214Z"
   },
   {
    "duration": 141,
    "start_time": "2022-08-15T13:14:01.347Z"
   },
   {
    "duration": 9,
    "start_time": "2022-08-15T13:14:01.490Z"
   },
   {
    "duration": 33,
    "start_time": "2022-08-15T13:14:01.501Z"
   },
   {
    "duration": 131,
    "start_time": "2022-08-15T13:14:01.536Z"
   },
   {
    "duration": 0,
    "start_time": "2022-08-15T13:14:01.669Z"
   },
   {
    "duration": 0,
    "start_time": "2022-08-15T13:14:01.670Z"
   },
   {
    "duration": 0,
    "start_time": "2022-08-15T13:14:01.672Z"
   },
   {
    "duration": 0,
    "start_time": "2022-08-15T13:14:01.673Z"
   },
   {
    "duration": 0,
    "start_time": "2022-08-15T13:14:01.674Z"
   },
   {
    "duration": 0,
    "start_time": "2022-08-15T13:14:01.676Z"
   },
   {
    "duration": 0,
    "start_time": "2022-08-15T13:14:01.677Z"
   },
   {
    "duration": 0,
    "start_time": "2022-08-15T13:14:01.679Z"
   },
   {
    "duration": 0,
    "start_time": "2022-08-15T13:14:01.680Z"
   },
   {
    "duration": 0,
    "start_time": "2022-08-15T13:14:01.681Z"
   },
   {
    "duration": 0,
    "start_time": "2022-08-15T13:14:01.683Z"
   },
   {
    "duration": 0,
    "start_time": "2022-08-15T13:14:01.684Z"
   },
   {
    "duration": 0,
    "start_time": "2022-08-15T13:14:01.686Z"
   },
   {
    "duration": 0,
    "start_time": "2022-08-15T13:14:01.687Z"
   },
   {
    "duration": 0,
    "start_time": "2022-08-15T13:14:01.689Z"
   },
   {
    "duration": 0,
    "start_time": "2022-08-15T13:14:01.690Z"
   },
   {
    "duration": 0,
    "start_time": "2022-08-15T13:14:01.691Z"
   },
   {
    "duration": 0,
    "start_time": "2022-08-15T13:14:01.692Z"
   },
   {
    "duration": 0,
    "start_time": "2022-08-15T13:14:01.693Z"
   },
   {
    "duration": 0,
    "start_time": "2022-08-15T13:14:01.694Z"
   },
   {
    "duration": 0,
    "start_time": "2022-08-15T13:14:01.694Z"
   },
   {
    "duration": 0,
    "start_time": "2022-08-15T13:14:01.695Z"
   },
   {
    "duration": 0,
    "start_time": "2022-08-15T13:14:01.696Z"
   },
   {
    "duration": 0,
    "start_time": "2022-08-15T13:14:01.697Z"
   },
   {
    "duration": 0,
    "start_time": "2022-08-15T13:14:01.698Z"
   },
   {
    "duration": 0,
    "start_time": "2022-08-15T13:14:01.698Z"
   },
   {
    "duration": 0,
    "start_time": "2022-08-15T13:14:01.699Z"
   },
   {
    "duration": 0,
    "start_time": "2022-08-15T13:14:01.700Z"
   },
   {
    "duration": 0,
    "start_time": "2022-08-15T13:14:01.701Z"
   },
   {
    "duration": 1,
    "start_time": "2022-08-15T13:14:01.711Z"
   },
   {
    "duration": 0,
    "start_time": "2022-08-15T13:14:01.713Z"
   },
   {
    "duration": 0,
    "start_time": "2022-08-15T13:14:01.715Z"
   },
   {
    "duration": 0,
    "start_time": "2022-08-15T13:14:01.716Z"
   },
   {
    "duration": 0,
    "start_time": "2022-08-15T13:14:01.717Z"
   },
   {
    "duration": 0,
    "start_time": "2022-08-15T13:14:01.719Z"
   },
   {
    "duration": 0,
    "start_time": "2022-08-15T13:14:01.720Z"
   },
   {
    "duration": 0,
    "start_time": "2022-08-15T13:14:01.721Z"
   },
   {
    "duration": 0,
    "start_time": "2022-08-15T13:14:01.723Z"
   },
   {
    "duration": 0,
    "start_time": "2022-08-15T13:14:01.724Z"
   },
   {
    "duration": 0,
    "start_time": "2022-08-15T13:14:01.726Z"
   },
   {
    "duration": 0,
    "start_time": "2022-08-15T13:14:01.727Z"
   },
   {
    "duration": 9,
    "start_time": "2022-08-15T13:14:09.060Z"
   },
   {
    "duration": 9,
    "start_time": "2022-08-15T13:14:22.169Z"
   },
   {
    "duration": 9,
    "start_time": "2022-08-15T13:14:38.901Z"
   },
   {
    "duration": 9,
    "start_time": "2022-08-15T13:14:41.703Z"
   },
   {
    "duration": 795,
    "start_time": "2022-08-15T13:15:19.157Z"
   },
   {
    "duration": 1024,
    "start_time": "2022-08-15T13:15:24.629Z"
   },
   {
    "duration": 12,
    "start_time": "2022-08-15T13:15:56.125Z"
   },
   {
    "duration": 1353,
    "start_time": "2022-08-15T13:16:15.127Z"
   },
   {
    "duration": 11,
    "start_time": "2022-08-15T13:18:30.660Z"
   },
   {
    "duration": 14,
    "start_time": "2022-08-15T13:18:40.606Z"
   },
   {
    "duration": 17,
    "start_time": "2022-08-15T13:18:59.862Z"
   },
   {
    "duration": 18,
    "start_time": "2022-08-15T13:22:16.644Z"
   },
   {
    "duration": 3,
    "start_time": "2022-08-15T13:22:47.151Z"
   },
   {
    "duration": 11,
    "start_time": "2022-08-15T13:28:46.392Z"
   },
   {
    "duration": 4,
    "start_time": "2022-08-15T13:31:11.396Z"
   },
   {
    "duration": 4,
    "start_time": "2022-08-15T13:31:14.482Z"
   },
   {
    "duration": 9,
    "start_time": "2022-08-15T13:31:25.260Z"
   },
   {
    "duration": 48,
    "start_time": "2022-08-15T13:44:59.773Z"
   },
   {
    "duration": 18,
    "start_time": "2022-08-15T13:45:11.186Z"
   },
   {
    "duration": 71,
    "start_time": "2022-08-15T21:51:12.499Z"
   },
   {
    "duration": 40,
    "start_time": "2022-08-15T21:51:17.341Z"
   },
   {
    "duration": 1312,
    "start_time": "2022-08-15T21:56:42.519Z"
   },
   {
    "duration": 163,
    "start_time": "2022-08-15T21:56:43.833Z"
   },
   {
    "duration": 22,
    "start_time": "2022-08-15T21:56:43.998Z"
   },
   {
    "duration": 20,
    "start_time": "2022-08-15T21:56:44.022Z"
   },
   {
    "duration": 17,
    "start_time": "2022-08-15T21:56:44.043Z"
   },
   {
    "duration": 5,
    "start_time": "2022-08-15T21:56:44.061Z"
   },
   {
    "duration": 29,
    "start_time": "2022-08-15T21:56:44.068Z"
   },
   {
    "duration": 19,
    "start_time": "2022-08-15T21:56:44.099Z"
   },
   {
    "duration": 34,
    "start_time": "2022-08-15T21:56:44.119Z"
   },
   {
    "duration": 36,
    "start_time": "2022-08-15T21:56:44.156Z"
   },
   {
    "duration": 5,
    "start_time": "2022-08-15T21:56:44.193Z"
   },
   {
    "duration": 52,
    "start_time": "2022-08-15T21:56:44.200Z"
   },
   {
    "duration": 37,
    "start_time": "2022-08-15T21:56:44.254Z"
   },
   {
    "duration": 11,
    "start_time": "2022-08-15T21:56:44.293Z"
   },
   {
    "duration": 4,
    "start_time": "2022-08-15T21:56:44.305Z"
   },
   {
    "duration": 56,
    "start_time": "2022-08-15T21:56:44.310Z"
   },
   {
    "duration": 8,
    "start_time": "2022-08-15T21:56:44.367Z"
   },
   {
    "duration": 34,
    "start_time": "2022-08-15T21:56:44.376Z"
   },
   {
    "duration": 4,
    "start_time": "2022-08-15T21:56:44.412Z"
   },
   {
    "duration": 22,
    "start_time": "2022-08-15T21:56:44.417Z"
   },
   {
    "duration": 23,
    "start_time": "2022-08-15T21:56:44.441Z"
   },
   {
    "duration": 14,
    "start_time": "2022-08-15T21:56:44.465Z"
   },
   {
    "duration": 10,
    "start_time": "2022-08-15T21:56:44.481Z"
   },
   {
    "duration": 61,
    "start_time": "2022-08-15T21:56:44.492Z"
   },
   {
    "duration": 14,
    "start_time": "2022-08-15T21:56:44.554Z"
   },
   {
    "duration": 11,
    "start_time": "2022-08-15T21:56:44.569Z"
   },
   {
    "duration": 144,
    "start_time": "2022-08-15T21:56:44.582Z"
   },
   {
    "duration": 3,
    "start_time": "2022-08-15T21:56:44.729Z"
   },
   {
    "duration": 32,
    "start_time": "2022-08-15T21:56:44.738Z"
   },
   {
    "duration": 45,
    "start_time": "2022-08-15T21:56:44.771Z"
   },
   {
    "duration": 7,
    "start_time": "2022-08-15T21:56:44.817Z"
   },
   {
    "duration": 29,
    "start_time": "2022-08-15T21:56:44.825Z"
   },
   {
    "duration": 39,
    "start_time": "2022-08-15T21:56:44.855Z"
   },
   {
    "duration": 11,
    "start_time": "2022-08-15T21:56:44.895Z"
   },
   {
    "duration": 35,
    "start_time": "2022-08-15T21:56:44.908Z"
   },
   {
    "duration": 17,
    "start_time": "2022-08-15T21:56:44.944Z"
   },
   {
    "duration": 5,
    "start_time": "2022-08-15T21:56:44.962Z"
   },
   {
    "duration": 20455,
    "start_time": "2022-08-15T21:56:44.969Z"
   },
   {
    "duration": 21,
    "start_time": "2022-08-15T21:57:05.426Z"
   },
   {
    "duration": 35,
    "start_time": "2022-08-15T21:57:05.449Z"
   },
   {
    "duration": 13,
    "start_time": "2022-08-15T21:57:05.485Z"
   },
   {
    "duration": 181,
    "start_time": "2022-08-15T21:57:05.500Z"
   },
   {
    "duration": 68,
    "start_time": "2022-08-15T21:57:08.923Z"
   },
   {
    "duration": 45,
    "start_time": "2022-08-15T21:57:52.622Z"
   },
   {
    "duration": 5,
    "start_time": "2022-08-15T22:01:29.506Z"
   },
   {
    "duration": 4,
    "start_time": "2022-08-15T22:01:37.441Z"
   },
   {
    "duration": 81,
    "start_time": "2022-08-15T22:01:41.822Z"
   },
   {
    "duration": 101,
    "start_time": "2022-08-15T22:01:50.840Z"
   },
   {
    "duration": 66,
    "start_time": "2022-08-15T22:02:02.951Z"
   },
   {
    "duration": 15,
    "start_time": "2022-08-15T22:02:17.468Z"
   },
   {
    "duration": 60,
    "start_time": "2022-08-15T22:13:58.741Z"
   },
   {
    "duration": 8,
    "start_time": "2022-08-15T22:14:12.014Z"
   },
   {
    "duration": 58,
    "start_time": "2022-08-15T22:15:28.833Z"
   },
   {
    "duration": 52,
    "start_time": "2022-08-15T22:15:51.220Z"
   },
   {
    "duration": 9,
    "start_time": "2022-08-15T22:15:57.638Z"
   },
   {
    "duration": 9,
    "start_time": "2022-08-15T22:16:29.150Z"
   },
   {
    "duration": 18,
    "start_time": "2022-08-15T22:45:49.999Z"
   },
   {
    "duration": 23,
    "start_time": "2022-08-15T22:46:03.541Z"
   },
   {
    "duration": 12,
    "start_time": "2022-08-15T22:47:25.774Z"
   },
   {
    "duration": 14,
    "start_time": "2022-08-15T22:47:30.333Z"
   },
   {
    "duration": 3,
    "start_time": "2022-08-15T22:47:39.214Z"
   },
   {
    "duration": 101,
    "start_time": "2022-08-15T22:47:39.240Z"
   },
   {
    "duration": 22,
    "start_time": "2022-08-15T22:47:39.343Z"
   },
   {
    "duration": 15,
    "start_time": "2022-08-15T22:47:39.366Z"
   },
   {
    "duration": 23,
    "start_time": "2022-08-15T22:47:39.383Z"
   },
   {
    "duration": 3,
    "start_time": "2022-08-15T22:47:39.408Z"
   },
   {
    "duration": 41,
    "start_time": "2022-08-15T22:47:39.412Z"
   },
   {
    "duration": 16,
    "start_time": "2022-08-15T22:47:39.455Z"
   },
   {
    "duration": 20,
    "start_time": "2022-08-15T22:47:39.473Z"
   },
   {
    "duration": 49,
    "start_time": "2022-08-15T22:47:39.494Z"
   },
   {
    "duration": 6,
    "start_time": "2022-08-15T22:47:39.544Z"
   },
   {
    "duration": 35,
    "start_time": "2022-08-15T22:47:39.551Z"
   },
   {
    "duration": 31,
    "start_time": "2022-08-15T22:47:39.587Z"
   },
   {
    "duration": 24,
    "start_time": "2022-08-15T22:47:39.620Z"
   },
   {
    "duration": 3,
    "start_time": "2022-08-15T22:47:39.645Z"
   },
   {
    "duration": 24,
    "start_time": "2022-08-15T22:47:39.649Z"
   },
   {
    "duration": 36,
    "start_time": "2022-08-15T22:47:40.288Z"
   },
   {
    "duration": 14,
    "start_time": "2022-08-15T22:47:40.326Z"
   },
   {
    "duration": 14,
    "start_time": "2022-08-15T22:47:44.407Z"
   },
   {
    "duration": 1244,
    "start_time": "2022-08-15T22:49:04.728Z"
   },
   {
    "duration": 955,
    "start_time": "2022-08-15T22:49:08.848Z"
   },
   {
    "duration": 1003,
    "start_time": "2022-08-15T22:50:09.667Z"
   },
   {
    "duration": 9,
    "start_time": "2022-08-15T22:50:21.472Z"
   },
   {
    "duration": 37,
    "start_time": "2022-08-15T22:52:16.617Z"
   },
   {
    "duration": 14,
    "start_time": "2022-08-15T22:52:32.374Z"
   },
   {
    "duration": 7,
    "start_time": "2022-08-15T22:53:47.437Z"
   },
   {
    "duration": 7,
    "start_time": "2022-08-15T22:54:06.618Z"
   },
   {
    "duration": 140,
    "start_time": "2022-08-15T22:55:12.160Z"
   },
   {
    "duration": 4,
    "start_time": "2022-08-15T22:55:26.395Z"
   },
   {
    "duration": 42,
    "start_time": "2022-08-15T22:55:34.703Z"
   },
   {
    "duration": 7290,
    "start_time": "2022-08-15T22:57:57.857Z"
   },
   {
    "duration": 110,
    "start_time": "2022-08-15T23:08:05.951Z"
   },
   {
    "duration": 9,
    "start_time": "2022-08-15T23:09:06.210Z"
   },
   {
    "duration": 4,
    "start_time": "2022-08-15T23:10:58.075Z"
   },
   {
    "duration": 62,
    "start_time": "2022-08-15T23:11:02.000Z"
   },
   {
    "duration": 4,
    "start_time": "2022-08-15T23:11:09.970Z"
   },
   {
    "duration": 4,
    "start_time": "2022-08-15T23:11:19.463Z"
   },
   {
    "duration": 13,
    "start_time": "2022-08-15T23:11:38.804Z"
   },
   {
    "duration": 13,
    "start_time": "2022-08-15T23:11:42.853Z"
   },
   {
    "duration": 9,
    "start_time": "2022-08-15T23:13:21.000Z"
   },
   {
    "duration": 3,
    "start_time": "2022-08-15T23:13:26.818Z"
   },
   {
    "duration": 96,
    "start_time": "2022-08-15T23:13:26.840Z"
   },
   {
    "duration": 20,
    "start_time": "2022-08-15T23:13:26.938Z"
   },
   {
    "duration": 16,
    "start_time": "2022-08-15T23:13:26.960Z"
   },
   {
    "duration": 30,
    "start_time": "2022-08-15T23:13:26.978Z"
   },
   {
    "duration": 6,
    "start_time": "2022-08-15T23:13:27.010Z"
   },
   {
    "duration": 38,
    "start_time": "2022-08-15T23:13:27.018Z"
   },
   {
    "duration": 19,
    "start_time": "2022-08-15T23:13:27.057Z"
   },
   {
    "duration": 35,
    "start_time": "2022-08-15T23:13:27.078Z"
   },
   {
    "duration": 44,
    "start_time": "2022-08-15T23:13:27.114Z"
   },
   {
    "duration": 5,
    "start_time": "2022-08-15T23:13:27.160Z"
   },
   {
    "duration": 31,
    "start_time": "2022-08-15T23:13:27.166Z"
   },
   {
    "duration": 46,
    "start_time": "2022-08-15T23:13:27.198Z"
   },
   {
    "duration": 11,
    "start_time": "2022-08-15T23:13:27.245Z"
   },
   {
    "duration": 3,
    "start_time": "2022-08-15T23:13:27.257Z"
   },
   {
    "duration": 26,
    "start_time": "2022-08-15T23:13:27.261Z"
   },
   {
    "duration": 29,
    "start_time": "2022-08-15T23:13:27.289Z"
   },
   {
    "duration": 14,
    "start_time": "2022-08-15T23:13:27.338Z"
   },
   {
    "duration": 13,
    "start_time": "2022-08-15T23:13:27.353Z"
   },
   {
    "duration": 12,
    "start_time": "2022-08-15T23:13:27.368Z"
   },
   {
    "duration": 38,
    "start_time": "2022-08-15T23:13:27.521Z"
   },
   {
    "duration": 13,
    "start_time": "2022-08-15T23:13:27.573Z"
   },
   {
    "duration": 9,
    "start_time": "2022-08-15T23:13:27.795Z"
   },
   {
    "duration": 158,
    "start_time": "2022-08-15T23:13:28.044Z"
   },
   {
    "duration": 3,
    "start_time": "2022-08-15T23:13:28.204Z"
   },
   {
    "duration": 44,
    "start_time": "2022-08-15T23:13:28.209Z"
   },
   {
    "duration": 46,
    "start_time": "2022-08-15T23:13:28.255Z"
   },
   {
    "duration": 7,
    "start_time": "2022-08-15T23:13:28.303Z"
   },
   {
    "duration": 47,
    "start_time": "2022-08-15T23:13:28.311Z"
   },
   {
    "duration": 37,
    "start_time": "2022-08-15T23:13:28.360Z"
   },
   {
    "duration": 12,
    "start_time": "2022-08-15T23:13:28.399Z"
   },
   {
    "duration": 47,
    "start_time": "2022-08-15T23:13:28.413Z"
   },
   {
    "duration": 43,
    "start_time": "2022-08-15T23:13:28.462Z"
   },
   {
    "duration": 3,
    "start_time": "2022-08-15T23:13:28.507Z"
   },
   {
    "duration": 20577,
    "start_time": "2022-08-15T23:13:28.512Z"
   },
   {
    "duration": 13,
    "start_time": "2022-08-15T23:13:49.091Z"
   },
   {
    "duration": 33,
    "start_time": "2022-08-15T23:13:49.105Z"
   },
   {
    "duration": 11,
    "start_time": "2022-08-15T23:13:49.140Z"
   },
   {
    "duration": 14,
    "start_time": "2022-08-15T23:13:49.153Z"
   },
   {
    "duration": 0,
    "start_time": "2022-08-15T23:13:49.168Z"
   },
   {
    "duration": 0,
    "start_time": "2022-08-15T23:13:49.170Z"
   },
   {
    "duration": 0,
    "start_time": "2022-08-15T23:13:49.171Z"
   },
   {
    "duration": 0,
    "start_time": "2022-08-15T23:13:49.172Z"
   },
   {
    "duration": 0,
    "start_time": "2022-08-15T23:13:49.173Z"
   },
   {
    "duration": 0,
    "start_time": "2022-08-15T23:13:49.174Z"
   },
   {
    "duration": 0,
    "start_time": "2022-08-15T23:13:49.175Z"
   },
   {
    "duration": 0,
    "start_time": "2022-08-15T23:13:49.176Z"
   },
   {
    "duration": 0,
    "start_time": "2022-08-15T23:13:49.177Z"
   },
   {
    "duration": 0,
    "start_time": "2022-08-15T23:13:49.178Z"
   },
   {
    "duration": 1,
    "start_time": "2022-08-15T23:13:49.179Z"
   },
   {
    "duration": 0,
    "start_time": "2022-08-15T23:13:49.180Z"
   },
   {
    "duration": 0,
    "start_time": "2022-08-15T23:13:49.181Z"
   },
   {
    "duration": 0,
    "start_time": "2022-08-15T23:13:49.182Z"
   },
   {
    "duration": 0,
    "start_time": "2022-08-15T23:13:49.183Z"
   },
   {
    "duration": 0,
    "start_time": "2022-08-15T23:13:49.184Z"
   },
   {
    "duration": 0,
    "start_time": "2022-08-15T23:13:49.184Z"
   },
   {
    "duration": 0,
    "start_time": "2022-08-15T23:13:49.185Z"
   },
   {
    "duration": 0,
    "start_time": "2022-08-15T23:13:49.186Z"
   },
   {
    "duration": 0,
    "start_time": "2022-08-15T23:13:49.186Z"
   },
   {
    "duration": 0,
    "start_time": "2022-08-15T23:13:49.187Z"
   },
   {
    "duration": 0,
    "start_time": "2022-08-15T23:13:49.188Z"
   },
   {
    "duration": 0,
    "start_time": "2022-08-15T23:13:49.189Z"
   },
   {
    "duration": 0,
    "start_time": "2022-08-15T23:13:49.190Z"
   },
   {
    "duration": 0,
    "start_time": "2022-08-15T23:13:49.191Z"
   },
   {
    "duration": 0,
    "start_time": "2022-08-15T23:13:49.238Z"
   },
   {
    "duration": 0,
    "start_time": "2022-08-15T23:13:49.239Z"
   },
   {
    "duration": 0,
    "start_time": "2022-08-15T23:13:49.240Z"
   },
   {
    "duration": 0,
    "start_time": "2022-08-15T23:13:49.241Z"
   },
   {
    "duration": 0,
    "start_time": "2022-08-15T23:13:49.241Z"
   },
   {
    "duration": 0,
    "start_time": "2022-08-15T23:13:49.242Z"
   },
   {
    "duration": 8,
    "start_time": "2022-08-15T23:13:56.156Z"
   },
   {
    "duration": 9,
    "start_time": "2022-08-15T23:13:59.422Z"
   },
   {
    "duration": 434,
    "start_time": "2022-08-15T23:14:08.272Z"
   },
   {
    "duration": 514,
    "start_time": "2022-08-15T23:14:14.792Z"
   },
   {
    "duration": 318,
    "start_time": "2022-08-15T23:15:43.612Z"
   },
   {
    "duration": 121,
    "start_time": "2022-08-15T23:16:42.316Z"
   },
   {
    "duration": 115,
    "start_time": "2022-08-15T23:16:47.024Z"
   },
   {
    "duration": 471,
    "start_time": "2022-08-15T23:16:53.039Z"
   },
   {
    "duration": 483,
    "start_time": "2022-08-15T23:17:05.059Z"
   },
   {
    "duration": 40,
    "start_time": "2022-08-15T23:17:24.570Z"
   },
   {
    "duration": 43,
    "start_time": "2022-08-15T23:17:46.885Z"
   },
   {
    "duration": 43,
    "start_time": "2022-08-15T23:17:50.191Z"
   },
   {
    "duration": 10,
    "start_time": "2022-08-15T23:18:39.840Z"
   },
   {
    "duration": 20,
    "start_time": "2022-08-15T23:18:46.242Z"
   },
   {
    "duration": 38,
    "start_time": "2022-08-15T23:19:04.875Z"
   },
   {
    "duration": 3,
    "start_time": "2022-08-15T23:19:16.092Z"
   },
   {
    "duration": 99,
    "start_time": "2022-08-15T23:19:16.121Z"
   },
   {
    "duration": 21,
    "start_time": "2022-08-15T23:19:16.222Z"
   },
   {
    "duration": 14,
    "start_time": "2022-08-15T23:19:16.245Z"
   },
   {
    "duration": 20,
    "start_time": "2022-08-15T23:19:16.261Z"
   },
   {
    "duration": 4,
    "start_time": "2022-08-15T23:19:16.287Z"
   },
   {
    "duration": 21,
    "start_time": "2022-08-15T23:19:16.303Z"
   },
   {
    "duration": 19,
    "start_time": "2022-08-15T23:19:16.331Z"
   },
   {
    "duration": 17,
    "start_time": "2022-08-15T23:19:16.359Z"
   },
   {
    "duration": 36,
    "start_time": "2022-08-15T23:19:16.400Z"
   },
   {
    "duration": 6,
    "start_time": "2022-08-15T23:19:16.437Z"
   },
   {
    "duration": 28,
    "start_time": "2022-08-15T23:19:16.444Z"
   },
   {
    "duration": 31,
    "start_time": "2022-08-15T23:19:16.474Z"
   },
   {
    "duration": 11,
    "start_time": "2022-08-15T23:19:16.506Z"
   },
   {
    "duration": 4,
    "start_time": "2022-08-15T23:19:16.537Z"
   },
   {
    "duration": 25,
    "start_time": "2022-08-15T23:19:16.543Z"
   },
   {
    "duration": 30,
    "start_time": "2022-08-15T23:19:16.569Z"
   },
   {
    "duration": 13,
    "start_time": "2022-08-15T23:19:16.601Z"
   },
   {
    "duration": 30,
    "start_time": "2022-08-15T23:19:16.618Z"
   },
   {
    "duration": 10,
    "start_time": "2022-08-15T23:19:16.650Z"
   },
   {
    "duration": 38,
    "start_time": "2022-08-15T23:19:16.669Z"
   },
   {
    "duration": 14,
    "start_time": "2022-08-15T23:19:16.709Z"
   },
   {
    "duration": 6,
    "start_time": "2022-08-15T23:19:16.739Z"
   },
   {
    "duration": 135,
    "start_time": "2022-08-15T23:19:16.763Z"
   },
   {
    "duration": 3,
    "start_time": "2022-08-15T23:19:16.899Z"
   },
   {
    "duration": 26,
    "start_time": "2022-08-15T23:19:16.903Z"
   },
   {
    "duration": 40,
    "start_time": "2022-08-15T23:19:16.939Z"
   },
   {
    "duration": 11,
    "start_time": "2022-08-15T23:19:16.981Z"
   },
   {
    "duration": 19,
    "start_time": "2022-08-15T23:19:16.994Z"
   },
   {
    "duration": 55,
    "start_time": "2022-08-15T23:19:17.015Z"
   },
   {
    "duration": 12,
    "start_time": "2022-08-15T23:19:17.072Z"
   },
   {
    "duration": 19,
    "start_time": "2022-08-15T23:19:17.085Z"
   },
   {
    "duration": 38,
    "start_time": "2022-08-15T23:19:17.106Z"
   },
   {
    "duration": 2,
    "start_time": "2022-08-15T23:19:17.146Z"
   },
   {
    "duration": 20086,
    "start_time": "2022-08-15T23:19:17.149Z"
   },
   {
    "duration": 13,
    "start_time": "2022-08-15T23:19:37.237Z"
   },
   {
    "duration": 23,
    "start_time": "2022-08-15T23:19:37.251Z"
   },
   {
    "duration": 12,
    "start_time": "2022-08-15T23:19:37.275Z"
   },
   {
    "duration": 16,
    "start_time": "2022-08-15T23:19:37.289Z"
   },
   {
    "duration": 0,
    "start_time": "2022-08-15T23:19:37.308Z"
   },
   {
    "duration": 0,
    "start_time": "2022-08-15T23:19:37.309Z"
   },
   {
    "duration": 0,
    "start_time": "2022-08-15T23:19:37.310Z"
   },
   {
    "duration": 0,
    "start_time": "2022-08-15T23:19:37.311Z"
   },
   {
    "duration": 0,
    "start_time": "2022-08-15T23:19:37.312Z"
   },
   {
    "duration": 0,
    "start_time": "2022-08-15T23:19:37.338Z"
   },
   {
    "duration": 0,
    "start_time": "2022-08-15T23:19:37.339Z"
   },
   {
    "duration": 0,
    "start_time": "2022-08-15T23:19:37.340Z"
   },
   {
    "duration": 0,
    "start_time": "2022-08-15T23:19:37.341Z"
   },
   {
    "duration": 0,
    "start_time": "2022-08-15T23:19:37.342Z"
   },
   {
    "duration": 0,
    "start_time": "2022-08-15T23:19:37.343Z"
   },
   {
    "duration": 0,
    "start_time": "2022-08-15T23:19:37.344Z"
   },
   {
    "duration": 0,
    "start_time": "2022-08-15T23:19:37.345Z"
   },
   {
    "duration": 0,
    "start_time": "2022-08-15T23:19:37.346Z"
   },
   {
    "duration": 0,
    "start_time": "2022-08-15T23:19:37.347Z"
   },
   {
    "duration": 0,
    "start_time": "2022-08-15T23:19:37.348Z"
   },
   {
    "duration": 0,
    "start_time": "2022-08-15T23:19:37.349Z"
   },
   {
    "duration": 0,
    "start_time": "2022-08-15T23:19:37.350Z"
   },
   {
    "duration": 0,
    "start_time": "2022-08-15T23:19:37.351Z"
   },
   {
    "duration": 0,
    "start_time": "2022-08-15T23:19:37.352Z"
   },
   {
    "duration": 0,
    "start_time": "2022-08-15T23:19:37.353Z"
   },
   {
    "duration": 0,
    "start_time": "2022-08-15T23:19:37.354Z"
   },
   {
    "duration": 0,
    "start_time": "2022-08-15T23:19:37.355Z"
   },
   {
    "duration": 0,
    "start_time": "2022-08-15T23:19:37.356Z"
   },
   {
    "duration": 0,
    "start_time": "2022-08-15T23:19:37.357Z"
   },
   {
    "duration": 0,
    "start_time": "2022-08-15T23:19:37.358Z"
   },
   {
    "duration": 0,
    "start_time": "2022-08-15T23:19:37.359Z"
   },
   {
    "duration": 0,
    "start_time": "2022-08-15T23:19:37.360Z"
   },
   {
    "duration": 0,
    "start_time": "2022-08-15T23:19:37.361Z"
   },
   {
    "duration": 0,
    "start_time": "2022-08-15T23:19:37.362Z"
   },
   {
    "duration": 0,
    "start_time": "2022-08-15T23:19:37.363Z"
   },
   {
    "duration": 0,
    "start_time": "2022-08-15T23:19:37.364Z"
   },
   {
    "duration": 0,
    "start_time": "2022-08-15T23:19:37.365Z"
   },
   {
    "duration": 0,
    "start_time": "2022-08-15T23:19:37.366Z"
   },
   {
    "duration": 0,
    "start_time": "2022-08-15T23:19:37.367Z"
   },
   {
    "duration": 0,
    "start_time": "2022-08-15T23:19:37.368Z"
   },
   {
    "duration": 0,
    "start_time": "2022-08-15T23:19:37.369Z"
   },
   {
    "duration": 0,
    "start_time": "2022-08-15T23:19:37.370Z"
   },
   {
    "duration": 51,
    "start_time": "2022-08-15T23:19:44.908Z"
   },
   {
    "duration": 38,
    "start_time": "2022-08-15T23:20:37.048Z"
   },
   {
    "duration": 42,
    "start_time": "2022-08-15T23:20:44.275Z"
   },
   {
    "duration": 40,
    "start_time": "2022-08-15T23:20:54.158Z"
   },
   {
    "duration": 43,
    "start_time": "2022-08-15T23:21:12.337Z"
   },
   {
    "duration": 131,
    "start_time": "2022-08-15T23:23:16.823Z"
   },
   {
    "duration": 141,
    "start_time": "2022-08-15T23:25:00.897Z"
   },
   {
    "duration": 1393,
    "start_time": "2022-08-15T23:26:44.725Z"
   },
   {
    "duration": 1368,
    "start_time": "2022-08-15T23:28:17.013Z"
   },
   {
    "duration": 6,
    "start_time": "2022-08-15T23:29:43.260Z"
   },
   {
    "duration": 8,
    "start_time": "2022-08-15T23:33:20.623Z"
   },
   {
    "duration": 9,
    "start_time": "2022-08-15T23:36:37.940Z"
   },
   {
    "duration": 10,
    "start_time": "2022-08-15T23:37:12.278Z"
   },
   {
    "duration": 9,
    "start_time": "2022-08-15T23:37:39.962Z"
   },
   {
    "duration": 213,
    "start_time": "2022-08-15T23:37:53.306Z"
   },
   {
    "duration": 136,
    "start_time": "2022-08-15T23:38:12.634Z"
   },
   {
    "duration": 3447,
    "start_time": "2022-08-15T23:38:30.646Z"
   },
   {
    "duration": 15,
    "start_time": "2022-08-15T23:42:12.501Z"
   },
   {
    "duration": 14,
    "start_time": "2022-08-15T23:42:31.040Z"
   },
   {
    "duration": 7,
    "start_time": "2022-08-15T23:44:31.877Z"
   },
   {
    "duration": 8,
    "start_time": "2022-08-15T23:44:35.038Z"
   },
   {
    "duration": 23,
    "start_time": "2022-08-15T23:44:39.050Z"
   },
   {
    "duration": 8,
    "start_time": "2022-08-15T23:44:46.521Z"
   },
   {
    "duration": 26,
    "start_time": "2022-08-15T23:45:10.480Z"
   },
   {
    "duration": 7,
    "start_time": "2022-08-15T23:45:18.590Z"
   },
   {
    "duration": 23,
    "start_time": "2022-08-15T23:46:05.185Z"
   },
   {
    "duration": 7,
    "start_time": "2022-08-15T23:46:09.519Z"
   },
   {
    "duration": 22,
    "start_time": "2022-08-15T23:46:15.611Z"
   },
   {
    "duration": 8,
    "start_time": "2022-08-15T23:46:23.831Z"
   },
   {
    "duration": 110,
    "start_time": "2022-08-15T23:48:22.411Z"
   },
   {
    "duration": 107,
    "start_time": "2022-08-15T23:51:09.203Z"
   },
   {
    "duration": 3,
    "start_time": "2022-08-15T23:53:06.949Z"
   },
   {
    "duration": 124,
    "start_time": "2022-08-15T23:53:32.651Z"
   },
   {
    "duration": 127,
    "start_time": "2022-08-15T23:53:51.176Z"
   },
   {
    "duration": 129,
    "start_time": "2022-08-15T23:54:15.638Z"
   },
   {
    "duration": 216,
    "start_time": "2022-08-15T23:54:34.305Z"
   },
   {
    "duration": 124,
    "start_time": "2022-08-15T23:54:55.031Z"
   },
   {
    "duration": 118,
    "start_time": "2022-08-15T23:55:33.381Z"
   },
   {
    "duration": 121,
    "start_time": "2022-08-15T23:55:45.704Z"
   },
   {
    "duration": 121,
    "start_time": "2022-08-15T23:56:13.284Z"
   },
   {
    "duration": 1410,
    "start_time": "2022-08-15T23:56:44.044Z"
   },
   {
    "duration": 134,
    "start_time": "2022-08-16T00:10:19.753Z"
   },
   {
    "duration": 130,
    "start_time": "2022-08-16T00:10:32.650Z"
   },
   {
    "duration": 149,
    "start_time": "2022-08-16T00:11:56.115Z"
   },
   {
    "duration": 128,
    "start_time": "2022-08-16T00:12:06.702Z"
   },
   {
    "duration": 147,
    "start_time": "2022-08-16T00:13:25.875Z"
   },
   {
    "duration": 147,
    "start_time": "2022-08-16T00:13:44.891Z"
   },
   {
    "duration": 230,
    "start_time": "2022-08-16T00:13:53.852Z"
   },
   {
    "duration": 150,
    "start_time": "2022-08-16T00:14:22.491Z"
   },
   {
    "duration": 159,
    "start_time": "2022-08-16T00:15:53.152Z"
   },
   {
    "duration": 138,
    "start_time": "2022-08-16T00:15:59.394Z"
   },
   {
    "duration": 146,
    "start_time": "2022-08-16T00:16:44.141Z"
   },
   {
    "duration": 133,
    "start_time": "2022-08-16T00:17:40.783Z"
   },
   {
    "duration": 14,
    "start_time": "2022-08-16T00:18:50.356Z"
   },
   {
    "duration": 13,
    "start_time": "2022-08-16T00:20:04.128Z"
   },
   {
    "duration": 852,
    "start_time": "2022-08-16T00:22:58.309Z"
   },
   {
    "duration": 1128,
    "start_time": "2022-08-16T00:23:08.622Z"
   },
   {
    "duration": 2,
    "start_time": "2022-08-16T00:23:24.239Z"
   },
   {
    "duration": 101,
    "start_time": "2022-08-16T00:23:24.267Z"
   },
   {
    "duration": 22,
    "start_time": "2022-08-16T00:23:24.369Z"
   },
   {
    "duration": 14,
    "start_time": "2022-08-16T00:23:24.393Z"
   },
   {
    "duration": 33,
    "start_time": "2022-08-16T00:23:24.410Z"
   },
   {
    "duration": 4,
    "start_time": "2022-08-16T00:23:24.444Z"
   },
   {
    "duration": 23,
    "start_time": "2022-08-16T00:23:24.450Z"
   },
   {
    "duration": 19,
    "start_time": "2022-08-16T00:23:24.475Z"
   },
   {
    "duration": 47,
    "start_time": "2022-08-16T00:23:24.496Z"
   },
   {
    "duration": 37,
    "start_time": "2022-08-16T00:23:24.545Z"
   },
   {
    "duration": 5,
    "start_time": "2022-08-16T00:23:24.585Z"
   },
   {
    "duration": 46,
    "start_time": "2022-08-16T00:23:24.592Z"
   },
   {
    "duration": 33,
    "start_time": "2022-08-16T00:23:24.640Z"
   },
   {
    "duration": 11,
    "start_time": "2022-08-16T00:23:24.675Z"
   },
   {
    "duration": 3,
    "start_time": "2022-08-16T00:23:24.688Z"
   },
   {
    "duration": 47,
    "start_time": "2022-08-16T00:23:24.694Z"
   },
   {
    "duration": 31,
    "start_time": "2022-08-16T00:23:24.743Z"
   },
   {
    "duration": 14,
    "start_time": "2022-08-16T00:23:24.776Z"
   },
   {
    "duration": 13,
    "start_time": "2022-08-16T00:23:24.791Z"
   },
   {
    "duration": 34,
    "start_time": "2022-08-16T00:23:24.805Z"
   },
   {
    "duration": 36,
    "start_time": "2022-08-16T00:23:24.841Z"
   },
   {
    "duration": 14,
    "start_time": "2022-08-16T00:23:24.878Z"
   },
   {
    "duration": 9,
    "start_time": "2022-08-16T00:23:24.893Z"
   },
   {
    "duration": 130,
    "start_time": "2022-08-16T00:23:25.039Z"
   },
   {
    "duration": 2,
    "start_time": "2022-08-16T00:23:25.171Z"
   },
   {
    "duration": 27,
    "start_time": "2022-08-16T00:23:25.175Z"
   },
   {
    "duration": 55,
    "start_time": "2022-08-16T00:23:25.203Z"
   },
   {
    "duration": 11,
    "start_time": "2022-08-16T00:23:25.260Z"
   },
   {
    "duration": 20,
    "start_time": "2022-08-16T00:23:25.272Z"
   },
   {
    "duration": 52,
    "start_time": "2022-08-16T00:23:25.294Z"
   },
   {
    "duration": 12,
    "start_time": "2022-08-16T00:23:25.347Z"
   },
   {
    "duration": 18,
    "start_time": "2022-08-16T00:23:25.361Z"
   },
   {
    "duration": 17,
    "start_time": "2022-08-16T00:23:25.381Z"
   },
   {
    "duration": 2,
    "start_time": "2022-08-16T00:23:25.399Z"
   },
   {
    "duration": 20023,
    "start_time": "2022-08-16T00:23:25.403Z"
   },
   {
    "duration": 15,
    "start_time": "2022-08-16T00:23:45.427Z"
   },
   {
    "duration": 21,
    "start_time": "2022-08-16T00:23:45.443Z"
   },
   {
    "duration": 12,
    "start_time": "2022-08-16T00:23:45.465Z"
   },
   {
    "duration": 3,
    "start_time": "2022-08-16T00:23:45.479Z"
   },
   {
    "duration": 126,
    "start_time": "2022-08-16T00:23:45.484Z"
   },
   {
    "duration": 6,
    "start_time": "2022-08-16T00:23:45.611Z"
   },
   {
    "duration": 134,
    "start_time": "2022-08-16T00:23:45.618Z"
   },
   {
    "duration": 8,
    "start_time": "2022-08-16T00:23:45.753Z"
   },
   {
    "duration": 133,
    "start_time": "2022-08-16T00:23:45.762Z"
   },
   {
    "duration": 543,
    "start_time": "2022-08-16T00:23:45.896Z"
   },
   {
    "duration": 117,
    "start_time": "2022-08-16T00:23:46.441Z"
   },
   {
    "duration": 122,
    "start_time": "2022-08-16T00:23:46.560Z"
   },
   {
    "duration": 7,
    "start_time": "2022-08-16T00:23:46.684Z"
   },
   {
    "duration": 7,
    "start_time": "2022-08-16T00:23:46.693Z"
   },
   {
    "duration": 125,
    "start_time": "2022-08-16T00:23:46.701Z"
   },
   {
    "duration": 15,
    "start_time": "2022-08-16T00:23:46.827Z"
   },
   {
    "duration": 125,
    "start_time": "2022-08-16T00:23:46.843Z"
   },
   {
    "duration": 410,
    "start_time": "2022-08-16T00:23:46.969Z"
   },
   {
    "duration": 5,
    "start_time": "2022-08-16T00:23:47.382Z"
   },
   {
    "duration": 551,
    "start_time": "2022-08-16T00:23:47.389Z"
   },
   {
    "duration": 6,
    "start_time": "2022-08-16T00:23:47.941Z"
   },
   {
    "duration": 12,
    "start_time": "2022-08-16T00:23:47.948Z"
   },
   {
    "duration": 0,
    "start_time": "2022-08-16T00:23:47.961Z"
   },
   {
    "duration": 0,
    "start_time": "2022-08-16T00:23:47.962Z"
   },
   {
    "duration": 0,
    "start_time": "2022-08-16T00:23:47.963Z"
   },
   {
    "duration": 0,
    "start_time": "2022-08-16T00:23:47.964Z"
   },
   {
    "duration": 0,
    "start_time": "2022-08-16T00:23:47.965Z"
   },
   {
    "duration": 0,
    "start_time": "2022-08-16T00:23:47.966Z"
   },
   {
    "duration": 0,
    "start_time": "2022-08-16T00:23:47.967Z"
   },
   {
    "duration": 0,
    "start_time": "2022-08-16T00:23:47.968Z"
   },
   {
    "duration": 0,
    "start_time": "2022-08-16T00:23:47.968Z"
   },
   {
    "duration": 0,
    "start_time": "2022-08-16T00:23:47.970Z"
   },
   {
    "duration": 0,
    "start_time": "2022-08-16T00:23:47.970Z"
   },
   {
    "duration": 0,
    "start_time": "2022-08-16T00:23:47.971Z"
   },
   {
    "duration": 0,
    "start_time": "2022-08-16T00:23:47.972Z"
   },
   {
    "duration": 0,
    "start_time": "2022-08-16T00:23:47.974Z"
   },
   {
    "duration": 0,
    "start_time": "2022-08-16T00:23:47.975Z"
   },
   {
    "duration": 0,
    "start_time": "2022-08-16T00:23:47.976Z"
   },
   {
    "duration": 0,
    "start_time": "2022-08-16T00:23:47.977Z"
   },
   {
    "duration": 0,
    "start_time": "2022-08-16T00:23:47.978Z"
   },
   {
    "duration": 0,
    "start_time": "2022-08-16T00:23:47.979Z"
   },
   {
    "duration": 0,
    "start_time": "2022-08-16T00:23:47.980Z"
   },
   {
    "duration": 1,
    "start_time": "2022-08-16T00:23:47.981Z"
   },
   {
    "duration": 0,
    "start_time": "2022-08-16T00:23:47.983Z"
   },
   {
    "duration": 0,
    "start_time": "2022-08-16T00:23:47.984Z"
   },
   {
    "duration": 0,
    "start_time": "2022-08-16T00:23:47.986Z"
   },
   {
    "duration": 0,
    "start_time": "2022-08-16T00:23:47.987Z"
   },
   {
    "duration": 0,
    "start_time": "2022-08-16T00:23:48.039Z"
   },
   {
    "duration": 0,
    "start_time": "2022-08-16T00:23:48.040Z"
   },
   {
    "duration": 0,
    "start_time": "2022-08-16T00:23:48.041Z"
   },
   {
    "duration": 0,
    "start_time": "2022-08-16T00:23:48.042Z"
   },
   {
    "duration": 0,
    "start_time": "2022-08-16T00:23:48.043Z"
   },
   {
    "duration": 0,
    "start_time": "2022-08-16T00:23:48.045Z"
   },
   {
    "duration": 0,
    "start_time": "2022-08-16T00:23:48.046Z"
   },
   {
    "duration": 0,
    "start_time": "2022-08-16T00:23:48.047Z"
   },
   {
    "duration": 0,
    "start_time": "2022-08-16T00:23:48.048Z"
   },
   {
    "duration": 0,
    "start_time": "2022-08-16T00:23:48.050Z"
   },
   {
    "duration": 0,
    "start_time": "2022-08-16T00:23:48.051Z"
   },
   {
    "duration": 0,
    "start_time": "2022-08-16T00:23:48.052Z"
   },
   {
    "duration": 1,
    "start_time": "2022-08-16T00:23:48.053Z"
   },
   {
    "duration": 817,
    "start_time": "2022-08-16T00:26:11.856Z"
   },
   {
    "duration": 13,
    "start_time": "2022-08-16T00:26:23.423Z"
   },
   {
    "duration": 9,
    "start_time": "2022-08-16T00:27:09.146Z"
   },
   {
    "duration": 12,
    "start_time": "2022-08-16T00:27:40.354Z"
   },
   {
    "duration": 12,
    "start_time": "2022-08-16T00:27:47.851Z"
   },
   {
    "duration": 11,
    "start_time": "2022-08-16T00:27:57.109Z"
   },
   {
    "duration": 13,
    "start_time": "2022-08-16T00:28:06.051Z"
   },
   {
    "duration": 11,
    "start_time": "2022-08-16T00:29:57.297Z"
   },
   {
    "duration": 16,
    "start_time": "2022-08-16T00:31:05.685Z"
   },
   {
    "duration": 11,
    "start_time": "2022-08-16T00:34:09.753Z"
   },
   {
    "duration": 100,
    "start_time": "2022-08-16T00:40:51.112Z"
   },
   {
    "duration": 281,
    "start_time": "2022-08-16T00:41:56.876Z"
   },
   {
    "duration": 14,
    "start_time": "2022-08-16T00:42:45.240Z"
   },
   {
    "duration": 4,
    "start_time": "2022-08-16T00:45:40.634Z"
   },
   {
    "duration": 80,
    "start_time": "2022-08-16T00:45:57.268Z"
   },
   {
    "duration": 47,
    "start_time": "2022-08-16T00:46:20.308Z"
   },
   {
    "duration": 747,
    "start_time": "2022-08-16T00:46:33.816Z"
   },
   {
    "duration": 289,
    "start_time": "2022-08-16T00:48:11.136Z"
   },
   {
    "duration": 198,
    "start_time": "2022-08-16T00:48:53.440Z"
   },
   {
    "duration": 44,
    "start_time": "2022-08-16T08:33:27.500Z"
   },
   {
    "duration": 8,
    "start_time": "2022-08-16T08:33:34.445Z"
   },
   {
    "duration": 8,
    "start_time": "2022-08-16T08:33:39.020Z"
   },
   {
    "duration": 830,
    "start_time": "2022-08-16T08:33:43.142Z"
   },
   {
    "duration": 168,
    "start_time": "2022-08-16T08:33:43.974Z"
   },
   {
    "duration": 24,
    "start_time": "2022-08-16T08:33:44.144Z"
   },
   {
    "duration": 20,
    "start_time": "2022-08-16T08:33:44.171Z"
   },
   {
    "duration": 19,
    "start_time": "2022-08-16T08:33:44.193Z"
   },
   {
    "duration": 6,
    "start_time": "2022-08-16T08:33:44.214Z"
   },
   {
    "duration": 33,
    "start_time": "2022-08-16T08:33:44.221Z"
   },
   {
    "duration": 19,
    "start_time": "2022-08-16T08:33:44.256Z"
   },
   {
    "duration": 36,
    "start_time": "2022-08-16T08:33:44.276Z"
   },
   {
    "duration": 35,
    "start_time": "2022-08-16T08:33:44.314Z"
   },
   {
    "duration": 5,
    "start_time": "2022-08-16T08:33:44.351Z"
   },
   {
    "duration": 53,
    "start_time": "2022-08-16T08:33:44.358Z"
   },
   {
    "duration": 38,
    "start_time": "2022-08-16T08:33:44.414Z"
   },
   {
    "duration": 12,
    "start_time": "2022-08-16T08:33:44.454Z"
   },
   {
    "duration": 3,
    "start_time": "2022-08-16T08:33:44.468Z"
   },
   {
    "duration": 50,
    "start_time": "2022-08-16T08:33:44.472Z"
   },
   {
    "duration": 40,
    "start_time": "2022-08-16T08:33:44.523Z"
   },
   {
    "duration": 16,
    "start_time": "2022-08-16T08:33:44.586Z"
   },
   {
    "duration": 14,
    "start_time": "2022-08-16T08:33:44.604Z"
   },
   {
    "duration": 11,
    "start_time": "2022-08-16T08:33:44.622Z"
   },
   {
    "duration": 43,
    "start_time": "2022-08-16T08:33:44.641Z"
   },
   {
    "duration": 15,
    "start_time": "2022-08-16T08:33:44.701Z"
   },
   {
    "duration": 10,
    "start_time": "2022-08-16T08:33:44.718Z"
   },
   {
    "duration": 155,
    "start_time": "2022-08-16T08:33:44.730Z"
   },
   {
    "duration": 3,
    "start_time": "2022-08-16T08:33:44.886Z"
   },
   {
    "duration": 29,
    "start_time": "2022-08-16T08:33:44.890Z"
   },
   {
    "duration": 43,
    "start_time": "2022-08-16T08:33:44.921Z"
   },
   {
    "duration": 16,
    "start_time": "2022-08-16T08:33:45.089Z"
   },
   {
    "duration": 20,
    "start_time": "2022-08-16T08:33:45.109Z"
   },
   {
    "duration": 40,
    "start_time": "2022-08-16T08:33:45.132Z"
   },
   {
    "duration": 30,
    "start_time": "2022-08-16T08:33:45.175Z"
   },
   {
    "duration": 20,
    "start_time": "2022-08-16T08:33:45.206Z"
   },
   {
    "duration": 23,
    "start_time": "2022-08-16T08:33:45.228Z"
   },
   {
    "duration": 3,
    "start_time": "2022-08-16T08:33:45.512Z"
   },
   {
    "duration": 21124,
    "start_time": "2022-08-16T08:33:45.524Z"
   },
   {
    "duration": 14,
    "start_time": "2022-08-16T08:34:06.649Z"
   },
   {
    "duration": 50,
    "start_time": "2022-08-16T08:34:06.664Z"
   },
   {
    "duration": 13,
    "start_time": "2022-08-16T08:34:06.715Z"
   },
   {
    "duration": 37,
    "start_time": "2022-08-16T08:34:06.730Z"
   },
   {
    "duration": 141,
    "start_time": "2022-08-16T08:34:06.769Z"
   },
   {
    "duration": 7,
    "start_time": "2022-08-16T08:34:06.913Z"
   },
   {
    "duration": 186,
    "start_time": "2022-08-16T08:34:06.922Z"
   },
   {
    "duration": 11,
    "start_time": "2022-08-16T08:34:07.110Z"
   },
   {
    "duration": 144,
    "start_time": "2022-08-16T08:34:07.125Z"
   },
   {
    "duration": 548,
    "start_time": "2022-08-16T08:34:07.271Z"
   },
   {
    "duration": 125,
    "start_time": "2022-08-16T08:34:07.822Z"
   },
   {
    "duration": 139,
    "start_time": "2022-08-16T08:34:07.948Z"
   },
   {
    "duration": 17,
    "start_time": "2022-08-16T08:34:08.089Z"
   },
   {
    "duration": 30,
    "start_time": "2022-08-16T08:34:08.107Z"
   },
   {
    "duration": 160,
    "start_time": "2022-08-16T08:34:08.138Z"
   },
   {
    "duration": 9,
    "start_time": "2022-08-16T08:34:08.299Z"
   },
   {
    "duration": 160,
    "start_time": "2022-08-16T08:34:08.310Z"
   },
   {
    "duration": 488,
    "start_time": "2022-08-16T08:34:08.472Z"
   },
   {
    "duration": 6,
    "start_time": "2022-08-16T08:34:08.961Z"
   },
   {
    "duration": 558,
    "start_time": "2022-08-16T08:34:08.969Z"
   },
   {
    "duration": 6,
    "start_time": "2022-08-16T08:34:09.528Z"
   },
   {
    "duration": 15,
    "start_time": "2022-08-16T08:35:20.065Z"
   },
   {
    "duration": 148,
    "start_time": "2022-08-16T08:37:31.827Z"
   },
   {
    "duration": 37,
    "start_time": "2022-08-16T08:42:35.305Z"
   },
   {
    "duration": 12,
    "start_time": "2022-08-16T08:42:41.028Z"
   },
   {
    "duration": 4,
    "start_time": "2022-08-16T08:42:47.772Z"
   },
   {
    "duration": 106,
    "start_time": "2022-08-16T08:42:47.791Z"
   },
   {
    "duration": 22,
    "start_time": "2022-08-16T08:42:47.899Z"
   },
   {
    "duration": 17,
    "start_time": "2022-08-16T08:42:47.922Z"
   },
   {
    "duration": 17,
    "start_time": "2022-08-16T08:42:47.941Z"
   },
   {
    "duration": 4,
    "start_time": "2022-08-16T08:42:47.960Z"
   },
   {
    "duration": 50,
    "start_time": "2022-08-16T08:42:47.966Z"
   },
   {
    "duration": 22,
    "start_time": "2022-08-16T08:42:48.018Z"
   },
   {
    "duration": 19,
    "start_time": "2022-08-16T08:42:48.042Z"
   },
   {
    "duration": 59,
    "start_time": "2022-08-16T08:42:48.062Z"
   },
   {
    "duration": 6,
    "start_time": "2022-08-16T08:42:48.123Z"
   },
   {
    "duration": 45,
    "start_time": "2022-08-16T08:42:48.132Z"
   },
   {
    "duration": 56,
    "start_time": "2022-08-16T08:42:48.179Z"
   },
   {
    "duration": 13,
    "start_time": "2022-08-16T08:42:48.236Z"
   },
   {
    "duration": 4,
    "start_time": "2022-08-16T08:42:48.251Z"
   },
   {
    "duration": 47,
    "start_time": "2022-08-16T08:42:48.256Z"
   },
   {
    "duration": 27,
    "start_time": "2022-08-16T08:42:48.305Z"
   },
   {
    "duration": 12,
    "start_time": "2022-08-16T08:42:48.334Z"
   },
   {
    "duration": 13,
    "start_time": "2022-08-16T08:42:48.348Z"
   },
   {
    "duration": 43,
    "start_time": "2022-08-16T08:42:48.363Z"
   },
   {
    "duration": 39,
    "start_time": "2022-08-16T08:42:48.407Z"
   },
   {
    "duration": 15,
    "start_time": "2022-08-16T08:42:48.447Z"
   },
   {
    "duration": 11,
    "start_time": "2022-08-16T08:42:48.463Z"
   },
   {
    "duration": 137,
    "start_time": "2022-08-16T08:42:48.500Z"
   },
   {
    "duration": 4,
    "start_time": "2022-08-16T08:42:48.638Z"
   },
   {
    "duration": 27,
    "start_time": "2022-08-16T08:42:48.643Z"
   },
   {
    "duration": 55,
    "start_time": "2022-08-16T08:42:48.672Z"
   },
   {
    "duration": 12,
    "start_time": "2022-08-16T08:42:48.729Z"
   },
   {
    "duration": 19,
    "start_time": "2022-08-16T08:42:48.742Z"
   },
   {
    "duration": 63,
    "start_time": "2022-08-16T08:42:48.762Z"
   },
   {
    "duration": 10,
    "start_time": "2022-08-16T08:42:48.827Z"
   },
   {
    "duration": 20,
    "start_time": "2022-08-16T08:42:48.839Z"
   },
   {
    "duration": 41,
    "start_time": "2022-08-16T08:42:48.861Z"
   },
   {
    "duration": 3,
    "start_time": "2022-08-16T08:42:48.903Z"
   },
   {
    "duration": 21288,
    "start_time": "2022-08-16T08:42:48.907Z"
   },
   {
    "duration": 19,
    "start_time": "2022-08-16T08:43:10.198Z"
   },
   {
    "duration": 38,
    "start_time": "2022-08-16T08:43:10.220Z"
   },
   {
    "duration": 22,
    "start_time": "2022-08-16T08:43:10.260Z"
   },
   {
    "duration": 23,
    "start_time": "2022-08-16T08:43:10.285Z"
   },
   {
    "duration": 149,
    "start_time": "2022-08-16T08:43:10.310Z"
   },
   {
    "duration": 6,
    "start_time": "2022-08-16T08:43:10.460Z"
   },
   {
    "duration": 147,
    "start_time": "2022-08-16T08:43:10.468Z"
   },
   {
    "duration": 13,
    "start_time": "2022-08-16T08:43:10.617Z"
   },
   {
    "duration": 142,
    "start_time": "2022-08-16T08:43:10.632Z"
   },
   {
    "duration": 577,
    "start_time": "2022-08-16T08:43:10.776Z"
   },
   {
    "duration": 170,
    "start_time": "2022-08-16T08:43:11.355Z"
   },
   {
    "duration": 157,
    "start_time": "2022-08-16T08:43:11.527Z"
   },
   {
    "duration": 16,
    "start_time": "2022-08-16T08:43:11.686Z"
   },
   {
    "duration": 23,
    "start_time": "2022-08-16T08:43:11.704Z"
   },
   {
    "duration": 143,
    "start_time": "2022-08-16T08:43:11.729Z"
   },
   {
    "duration": 11,
    "start_time": "2022-08-16T08:43:11.875Z"
   },
   {
    "duration": 157,
    "start_time": "2022-08-16T08:43:11.900Z"
   },
   {
    "duration": 468,
    "start_time": "2022-08-16T08:43:12.059Z"
   },
   {
    "duration": 6,
    "start_time": "2022-08-16T08:43:12.528Z"
   },
   {
    "duration": 613,
    "start_time": "2022-08-16T08:43:12.535Z"
   },
   {
    "duration": 7,
    "start_time": "2022-08-16T08:43:13.150Z"
   },
   {
    "duration": 42,
    "start_time": "2022-08-16T08:43:13.158Z"
   },
   {
    "duration": 36,
    "start_time": "2022-08-16T08:43:13.201Z"
   },
   {
    "duration": 29,
    "start_time": "2022-08-16T08:43:13.238Z"
   },
   {
    "duration": 148,
    "start_time": "2022-08-16T08:43:13.269Z"
   },
   {
    "duration": 142,
    "start_time": "2022-08-16T08:43:13.419Z"
   },
   {
    "duration": 10,
    "start_time": "2022-08-16T08:43:13.562Z"
   },
   {
    "duration": 489,
    "start_time": "2022-08-16T08:43:13.573Z"
   },
   {
    "duration": 584,
    "start_time": "2022-08-16T08:43:14.064Z"
   },
   {
    "duration": 23,
    "start_time": "2022-08-16T08:43:14.658Z"
   },
   {
    "duration": 508,
    "start_time": "2022-08-16T08:44:37.235Z"
   },
   {
    "duration": 272,
    "start_time": "2022-08-16T08:46:51.090Z"
   },
   {
    "duration": 3,
    "start_time": "2022-08-16T08:47:13.260Z"
   },
   {
    "duration": 117,
    "start_time": "2022-08-16T08:47:13.276Z"
   },
   {
    "duration": 31,
    "start_time": "2022-08-16T08:47:13.395Z"
   },
   {
    "duration": 16,
    "start_time": "2022-08-16T08:47:13.428Z"
   },
   {
    "duration": 23,
    "start_time": "2022-08-16T08:47:13.446Z"
   },
   {
    "duration": 4,
    "start_time": "2022-08-16T08:47:13.471Z"
   },
   {
    "duration": 53,
    "start_time": "2022-08-16T08:47:13.477Z"
   },
   {
    "duration": 18,
    "start_time": "2022-08-16T08:47:13.531Z"
   },
   {
    "duration": 20,
    "start_time": "2022-08-16T08:47:13.551Z"
   },
   {
    "duration": 46,
    "start_time": "2022-08-16T08:47:13.599Z"
   },
   {
    "duration": 6,
    "start_time": "2022-08-16T08:47:13.647Z"
   },
   {
    "duration": 57,
    "start_time": "2022-08-16T08:47:13.655Z"
   },
   {
    "duration": 45,
    "start_time": "2022-08-16T08:47:13.714Z"
   },
   {
    "duration": 14,
    "start_time": "2022-08-16T08:47:13.760Z"
   },
   {
    "duration": 29,
    "start_time": "2022-08-16T08:47:13.775Z"
   },
   {
    "duration": 32,
    "start_time": "2022-08-16T08:47:13.807Z"
   },
   {
    "duration": 32,
    "start_time": "2022-08-16T08:47:13.842Z"
   },
   {
    "duration": 37,
    "start_time": "2022-08-16T08:47:13.878Z"
   },
   {
    "duration": 31,
    "start_time": "2022-08-16T08:47:13.917Z"
   },
   {
    "duration": 14,
    "start_time": "2022-08-16T08:47:13.950Z"
   },
   {
    "duration": 55,
    "start_time": "2022-08-16T08:47:13.966Z"
   },
   {
    "duration": 16,
    "start_time": "2022-08-16T08:47:14.024Z"
   },
   {
    "duration": 11,
    "start_time": "2022-08-16T08:47:14.041Z"
   },
   {
    "duration": 171,
    "start_time": "2022-08-16T08:47:14.053Z"
   },
   {
    "duration": 4,
    "start_time": "2022-08-16T08:47:14.226Z"
   },
   {
    "duration": 26,
    "start_time": "2022-08-16T08:47:14.232Z"
   },
   {
    "duration": 67,
    "start_time": "2022-08-16T08:47:14.260Z"
   },
   {
    "duration": 13,
    "start_time": "2022-08-16T08:47:14.329Z"
   },
   {
    "duration": 22,
    "start_time": "2022-08-16T08:47:14.345Z"
   },
   {
    "duration": 61,
    "start_time": "2022-08-16T08:47:14.369Z"
   },
   {
    "duration": 11,
    "start_time": "2022-08-16T08:47:14.432Z"
   },
   {
    "duration": 19,
    "start_time": "2022-08-16T08:47:14.445Z"
   },
   {
    "duration": 47,
    "start_time": "2022-08-16T08:47:14.466Z"
   },
   {
    "duration": 4,
    "start_time": "2022-08-16T08:47:14.515Z"
   },
   {
    "duration": 21827,
    "start_time": "2022-08-16T08:47:14.520Z"
   },
   {
    "duration": 15,
    "start_time": "2022-08-16T08:47:36.350Z"
   },
   {
    "duration": 40,
    "start_time": "2022-08-16T08:47:36.367Z"
   },
   {
    "duration": 16,
    "start_time": "2022-08-16T08:47:36.410Z"
   },
   {
    "duration": 9,
    "start_time": "2022-08-16T08:47:36.428Z"
   },
   {
    "duration": 148,
    "start_time": "2022-08-16T08:47:36.438Z"
   },
   {
    "duration": 7,
    "start_time": "2022-08-16T08:47:36.587Z"
   },
   {
    "duration": 138,
    "start_time": "2022-08-16T08:47:36.600Z"
   },
   {
    "duration": 9,
    "start_time": "2022-08-16T08:47:36.740Z"
   },
   {
    "duration": 136,
    "start_time": "2022-08-16T08:47:36.751Z"
   },
   {
    "duration": 585,
    "start_time": "2022-08-16T08:47:36.890Z"
   },
   {
    "duration": 136,
    "start_time": "2022-08-16T08:47:37.477Z"
   },
   {
    "duration": 145,
    "start_time": "2022-08-16T08:47:37.615Z"
   },
   {
    "duration": 10,
    "start_time": "2022-08-16T08:47:37.761Z"
   },
   {
    "duration": 7,
    "start_time": "2022-08-16T08:47:37.773Z"
   },
   {
    "duration": 144,
    "start_time": "2022-08-16T08:47:37.799Z"
   },
   {
    "duration": 10,
    "start_time": "2022-08-16T08:47:37.945Z"
   },
   {
    "duration": 151,
    "start_time": "2022-08-16T08:47:37.957Z"
   },
   {
    "duration": 501,
    "start_time": "2022-08-16T08:47:38.110Z"
   },
   {
    "duration": 5,
    "start_time": "2022-08-16T08:47:38.613Z"
   },
   {
    "duration": 602,
    "start_time": "2022-08-16T08:47:38.620Z"
   },
   {
    "duration": 7,
    "start_time": "2022-08-16T08:47:39.223Z"
   },
   {
    "duration": 23,
    "start_time": "2022-08-16T08:47:39.231Z"
   },
   {
    "duration": 6,
    "start_time": "2022-08-16T08:47:39.255Z"
   },
   {
    "duration": 14,
    "start_time": "2022-08-16T08:47:39.262Z"
   },
   {
    "duration": 142,
    "start_time": "2022-08-16T08:47:39.277Z"
   },
   {
    "duration": 143,
    "start_time": "2022-08-16T08:47:39.420Z"
   },
   {
    "duration": 9,
    "start_time": "2022-08-16T08:47:39.564Z"
   },
   {
    "duration": 492,
    "start_time": "2022-08-16T08:47:39.574Z"
   },
   {
    "duration": 607,
    "start_time": "2022-08-16T08:47:40.067Z"
   },
   {
    "duration": 6,
    "start_time": "2022-08-16T08:47:40.675Z"
   },
   {
    "duration": 484,
    "start_time": "2022-08-16T08:47:40.683Z"
   },
   {
    "duration": 4,
    "start_time": "2022-08-16T08:47:41.169Z"
   },
   {
    "duration": 555,
    "start_time": "2022-08-16T08:47:41.174Z"
   },
   {
    "duration": 471,
    "start_time": "2022-08-16T08:47:41.730Z"
   },
   {
    "duration": 438,
    "start_time": "2022-08-16T08:47:42.203Z"
   },
   {
    "duration": 334,
    "start_time": "2022-08-16T08:47:52.278Z"
   },
   {
    "duration": 7,
    "start_time": "2022-08-16T08:51:54.260Z"
   },
   {
    "duration": 8,
    "start_time": "2022-08-16T08:55:17.433Z"
   },
   {
    "duration": 3,
    "start_time": "2022-08-16T08:55:24.035Z"
   },
   {
    "duration": 117,
    "start_time": "2022-08-16T08:55:24.052Z"
   },
   {
    "duration": 28,
    "start_time": "2022-08-16T08:55:24.172Z"
   },
   {
    "duration": 18,
    "start_time": "2022-08-16T08:55:24.201Z"
   },
   {
    "duration": 37,
    "start_time": "2022-08-16T08:55:24.221Z"
   },
   {
    "duration": 20,
    "start_time": "2022-08-16T08:55:24.259Z"
   },
   {
    "duration": 41,
    "start_time": "2022-08-16T08:55:24.281Z"
   },
   {
    "duration": 30,
    "start_time": "2022-08-16T08:55:24.324Z"
   },
   {
    "duration": 32,
    "start_time": "2022-08-16T08:55:24.356Z"
   },
   {
    "duration": 37,
    "start_time": "2022-08-16T08:55:24.391Z"
   },
   {
    "duration": 6,
    "start_time": "2022-08-16T08:55:24.429Z"
   },
   {
    "duration": 50,
    "start_time": "2022-08-16T08:55:24.436Z"
   },
   {
    "duration": 36,
    "start_time": "2022-08-16T08:55:24.488Z"
   },
   {
    "duration": 12,
    "start_time": "2022-08-16T08:55:24.526Z"
   },
   {
    "duration": 25,
    "start_time": "2022-08-16T08:55:24.540Z"
   },
   {
    "duration": 42,
    "start_time": "2022-08-16T08:55:24.567Z"
   },
   {
    "duration": 31,
    "start_time": "2022-08-16T08:55:24.612Z"
   },
   {
    "duration": 12,
    "start_time": "2022-08-16T08:55:24.644Z"
   },
   {
    "duration": 25,
    "start_time": "2022-08-16T08:55:24.658Z"
   },
   {
    "duration": 30,
    "start_time": "2022-08-16T08:55:24.684Z"
   },
   {
    "duration": 53,
    "start_time": "2022-08-16T08:55:24.715Z"
   },
   {
    "duration": 14,
    "start_time": "2022-08-16T08:55:24.769Z"
   },
   {
    "duration": 28,
    "start_time": "2022-08-16T08:55:24.784Z"
   },
   {
    "duration": 131,
    "start_time": "2022-08-16T08:55:24.814Z"
   },
   {
    "duration": 3,
    "start_time": "2022-08-16T08:55:24.947Z"
   },
   {
    "duration": 30,
    "start_time": "2022-08-16T08:55:24.952Z"
   },
   {
    "duration": 47,
    "start_time": "2022-08-16T08:55:24.984Z"
   },
   {
    "duration": 14,
    "start_time": "2022-08-16T08:55:25.033Z"
   },
   {
    "duration": 50,
    "start_time": "2022-08-16T08:55:25.048Z"
   },
   {
    "duration": 55,
    "start_time": "2022-08-16T08:55:25.100Z"
   },
   {
    "duration": 11,
    "start_time": "2022-08-16T08:55:25.157Z"
   },
   {
    "duration": 29,
    "start_time": "2022-08-16T08:55:25.170Z"
   },
   {
    "duration": 29,
    "start_time": "2022-08-16T08:55:25.201Z"
   },
   {
    "duration": 13,
    "start_time": "2022-08-16T08:55:25.231Z"
   },
   {
    "duration": 21369,
    "start_time": "2022-08-16T08:55:25.246Z"
   },
   {
    "duration": 14,
    "start_time": "2022-08-16T08:55:46.617Z"
   },
   {
    "duration": 27,
    "start_time": "2022-08-16T08:55:46.633Z"
   },
   {
    "duration": 13,
    "start_time": "2022-08-16T08:55:46.662Z"
   },
   {
    "duration": 23,
    "start_time": "2022-08-16T08:55:46.677Z"
   },
   {
    "duration": 130,
    "start_time": "2022-08-16T08:55:46.702Z"
   },
   {
    "duration": 7,
    "start_time": "2022-08-16T08:55:46.835Z"
   },
   {
    "duration": 147,
    "start_time": "2022-08-16T08:55:46.843Z"
   },
   {
    "duration": 12,
    "start_time": "2022-08-16T08:55:46.993Z"
   },
   {
    "duration": 150,
    "start_time": "2022-08-16T08:55:47.007Z"
   },
   {
    "duration": 595,
    "start_time": "2022-08-16T08:55:47.159Z"
   },
   {
    "duration": 151,
    "start_time": "2022-08-16T08:55:47.756Z"
   },
   {
    "duration": 142,
    "start_time": "2022-08-16T08:55:47.909Z"
   },
   {
    "duration": 9,
    "start_time": "2022-08-16T08:55:48.053Z"
   },
   {
    "duration": 7,
    "start_time": "2022-08-16T08:55:48.064Z"
   },
   {
    "duration": 158,
    "start_time": "2022-08-16T08:55:48.073Z"
   },
   {
    "duration": 10,
    "start_time": "2022-08-16T08:55:48.233Z"
   },
   {
    "duration": 142,
    "start_time": "2022-08-16T08:55:48.245Z"
   },
   {
    "duration": 482,
    "start_time": "2022-08-16T08:55:48.400Z"
   },
   {
    "duration": 7,
    "start_time": "2022-08-16T08:55:48.885Z"
   },
   {
    "duration": 665,
    "start_time": "2022-08-16T08:55:48.893Z"
   },
   {
    "duration": 7,
    "start_time": "2022-08-16T08:55:49.559Z"
   },
   {
    "duration": 26,
    "start_time": "2022-08-16T08:55:49.568Z"
   },
   {
    "duration": 23,
    "start_time": "2022-08-16T08:55:49.596Z"
   },
   {
    "duration": 23,
    "start_time": "2022-08-16T08:55:49.620Z"
   },
   {
    "duration": 167,
    "start_time": "2022-08-16T08:55:49.645Z"
   },
   {
    "duration": 145,
    "start_time": "2022-08-16T08:55:49.813Z"
   },
   {
    "duration": 10,
    "start_time": "2022-08-16T08:55:49.960Z"
   },
   {
    "duration": 572,
    "start_time": "2022-08-16T08:55:49.972Z"
   },
   {
    "duration": 662,
    "start_time": "2022-08-16T08:55:50.546Z"
   },
   {
    "duration": 6,
    "start_time": "2022-08-16T08:55:51.209Z"
   },
   {
    "duration": 514,
    "start_time": "2022-08-16T08:55:51.217Z"
   },
   {
    "duration": 4,
    "start_time": "2022-08-16T08:55:51.733Z"
   },
   {
    "duration": 489,
    "start_time": "2022-08-16T08:55:51.739Z"
   },
   {
    "duration": 634,
    "start_time": "2022-08-16T08:55:52.229Z"
   },
   {
    "duration": 361,
    "start_time": "2022-08-16T08:55:52.865Z"
   },
   {
    "duration": 358,
    "start_time": "2022-08-16T08:55:53.227Z"
   },
   {
    "duration": 17,
    "start_time": "2022-08-16T08:55:53.586Z"
   },
   {
    "duration": 149,
    "start_time": "2022-08-16T08:55:53.605Z"
   },
   {
    "duration": 139,
    "start_time": "2022-08-16T08:55:53.755Z"
   },
   {
    "duration": 612,
    "start_time": "2022-08-16T08:55:53.895Z"
   },
   {
    "duration": 460,
    "start_time": "2022-08-16T08:55:54.509Z"
   },
   {
    "duration": 50,
    "start_time": "2022-08-16T08:55:54.970Z"
   },
   {
    "duration": 47,
    "start_time": "2022-08-16T08:56:11.074Z"
   },
   {
    "duration": 8,
    "start_time": "2022-08-16T09:03:57.604Z"
   },
   {
    "duration": 3,
    "start_time": "2022-08-16T09:04:09.299Z"
   },
   {
    "duration": 110,
    "start_time": "2022-08-16T09:04:09.318Z"
   },
   {
    "duration": 21,
    "start_time": "2022-08-16T09:04:09.430Z"
   },
   {
    "duration": 39,
    "start_time": "2022-08-16T09:04:09.453Z"
   },
   {
    "duration": 31,
    "start_time": "2022-08-16T09:04:09.495Z"
   },
   {
    "duration": 5,
    "start_time": "2022-08-16T09:04:09.528Z"
   },
   {
    "duration": 54,
    "start_time": "2022-08-16T09:04:09.535Z"
   },
   {
    "duration": 41,
    "start_time": "2022-08-16T09:04:09.591Z"
   },
   {
    "duration": 38,
    "start_time": "2022-08-16T09:04:09.633Z"
   },
   {
    "duration": 43,
    "start_time": "2022-08-16T09:04:09.673Z"
   },
   {
    "duration": 5,
    "start_time": "2022-08-16T09:04:09.718Z"
   },
   {
    "duration": 37,
    "start_time": "2022-08-16T09:04:09.724Z"
   },
   {
    "duration": 46,
    "start_time": "2022-08-16T09:04:09.763Z"
   },
   {
    "duration": 13,
    "start_time": "2022-08-16T09:04:09.811Z"
   },
   {
    "duration": 3,
    "start_time": "2022-08-16T09:04:09.826Z"
   },
   {
    "duration": 22,
    "start_time": "2022-08-16T09:04:09.830Z"
   },
   {
    "duration": 26,
    "start_time": "2022-08-16T09:04:09.853Z"
   },
   {
    "duration": 12,
    "start_time": "2022-08-16T09:04:09.901Z"
   },
   {
    "duration": 13,
    "start_time": "2022-08-16T09:04:09.914Z"
   },
   {
    "duration": 11,
    "start_time": "2022-08-16T09:04:09.928Z"
   },
   {
    "duration": 61,
    "start_time": "2022-08-16T09:04:09.940Z"
   },
   {
    "duration": 17,
    "start_time": "2022-08-16T09:04:10.003Z"
   },
   {
    "duration": 24,
    "start_time": "2022-08-16T09:04:10.023Z"
   },
   {
    "duration": 152,
    "start_time": "2022-08-16T09:04:10.049Z"
   },
   {
    "duration": 3,
    "start_time": "2022-08-16T09:04:10.203Z"
   },
   {
    "duration": 34,
    "start_time": "2022-08-16T09:04:10.207Z"
   },
   {
    "duration": 58,
    "start_time": "2022-08-16T09:04:10.243Z"
   },
   {
    "duration": 14,
    "start_time": "2022-08-16T09:04:10.302Z"
   },
   {
    "duration": 25,
    "start_time": "2022-08-16T09:04:10.318Z"
   },
   {
    "duration": 33,
    "start_time": "2022-08-16T09:04:10.348Z"
   },
   {
    "duration": 25,
    "start_time": "2022-08-16T09:04:10.382Z"
   },
   {
    "duration": 18,
    "start_time": "2022-08-16T09:04:10.408Z"
   },
   {
    "duration": 18,
    "start_time": "2022-08-16T09:04:10.427Z"
   },
   {
    "duration": 3,
    "start_time": "2022-08-16T09:04:10.446Z"
   },
   {
    "duration": 21006,
    "start_time": "2022-08-16T09:04:10.450Z"
   },
   {
    "duration": 18,
    "start_time": "2022-08-16T09:04:31.459Z"
   },
   {
    "duration": 38,
    "start_time": "2022-08-16T09:04:31.479Z"
   },
   {
    "duration": 37,
    "start_time": "2022-08-16T09:04:31.519Z"
   },
   {
    "duration": 5,
    "start_time": "2022-08-16T09:04:31.558Z"
   },
   {
    "duration": 147,
    "start_time": "2022-08-16T09:04:31.565Z"
   },
   {
    "duration": 5,
    "start_time": "2022-08-16T09:04:31.714Z"
   },
   {
    "duration": 130,
    "start_time": "2022-08-16T09:04:31.721Z"
   },
   {
    "duration": 10,
    "start_time": "2022-08-16T09:04:31.852Z"
   },
   {
    "duration": 130,
    "start_time": "2022-08-16T09:04:31.863Z"
   },
   {
    "duration": 616,
    "start_time": "2022-08-16T09:04:31.999Z"
   },
   {
    "duration": 135,
    "start_time": "2022-08-16T09:04:32.617Z"
   },
   {
    "duration": 150,
    "start_time": "2022-08-16T09:04:32.753Z"
   },
   {
    "duration": 11,
    "start_time": "2022-08-16T09:04:32.904Z"
   },
   {
    "duration": 8,
    "start_time": "2022-08-16T09:04:32.917Z"
   },
   {
    "duration": 161,
    "start_time": "2022-08-16T09:04:32.927Z"
   },
   {
    "duration": 18,
    "start_time": "2022-08-16T09:04:33.089Z"
   },
   {
    "duration": 153,
    "start_time": "2022-08-16T09:04:33.111Z"
   },
   {
    "duration": 506,
    "start_time": "2022-08-16T09:04:33.265Z"
   },
   {
    "duration": 7,
    "start_time": "2022-08-16T09:04:33.773Z"
   },
   {
    "duration": 739,
    "start_time": "2022-08-16T09:04:33.782Z"
   },
   {
    "duration": 5,
    "start_time": "2022-08-16T09:04:34.523Z"
   },
   {
    "duration": 22,
    "start_time": "2022-08-16T09:04:34.530Z"
   },
   {
    "duration": 20,
    "start_time": "2022-08-16T09:04:34.554Z"
   },
   {
    "duration": 12,
    "start_time": "2022-08-16T09:04:34.575Z"
   },
   {
    "duration": 158,
    "start_time": "2022-08-16T09:04:34.589Z"
   },
   {
    "duration": 136,
    "start_time": "2022-08-16T09:04:34.749Z"
   },
   {
    "duration": 15,
    "start_time": "2022-08-16T09:04:34.886Z"
   },
   {
    "duration": 520,
    "start_time": "2022-08-16T09:04:34.902Z"
   },
   {
    "duration": 648,
    "start_time": "2022-08-16T09:04:35.424Z"
   },
   {
    "duration": 6,
    "start_time": "2022-08-16T09:04:36.073Z"
   },
   {
    "duration": 490,
    "start_time": "2022-08-16T09:04:36.081Z"
   },
   {
    "duration": 4,
    "start_time": "2022-08-16T09:04:36.572Z"
   },
   {
    "duration": 491,
    "start_time": "2022-08-16T09:04:36.577Z"
   },
   {
    "duration": 487,
    "start_time": "2022-08-16T09:04:37.069Z"
   },
   {
    "duration": 522,
    "start_time": "2022-08-16T09:04:37.558Z"
   },
   {
    "duration": 377,
    "start_time": "2022-08-16T09:04:38.081Z"
   },
   {
    "duration": 10,
    "start_time": "2022-08-16T09:04:38.460Z"
   },
   {
    "duration": 153,
    "start_time": "2022-08-16T09:04:38.472Z"
   },
   {
    "duration": 127,
    "start_time": "2022-08-16T09:04:38.627Z"
   },
   {
    "duration": 634,
    "start_time": "2022-08-16T09:04:38.756Z"
   },
   {
    "duration": 462,
    "start_time": "2022-08-16T09:04:39.391Z"
   },
   {
    "duration": 46,
    "start_time": "2022-08-16T09:04:39.855Z"
   },
   {
    "duration": 44,
    "start_time": "2022-08-16T09:04:39.902Z"
   },
   {
    "duration": 1462,
    "start_time": "2022-08-16T09:04:39.948Z"
   },
   {
    "duration": 190,
    "start_time": "2022-08-16T09:04:41.412Z"
   },
   {
    "duration": 7,
    "start_time": "2022-08-16T09:04:41.604Z"
   },
   {
    "duration": 26,
    "start_time": "2022-08-16T09:04:41.612Z"
   },
   {
    "duration": 9,
    "start_time": "2022-08-16T09:04:41.639Z"
   },
   {
    "duration": 25,
    "start_time": "2022-08-16T09:04:41.649Z"
   },
   {
    "duration": 28,
    "start_time": "2022-08-16T09:04:41.676Z"
   },
   {
    "duration": 157,
    "start_time": "2022-08-16T09:04:51.588Z"
   },
   {
    "duration": 154,
    "start_time": "2022-08-16T09:05:51.326Z"
   },
   {
    "duration": 132,
    "start_time": "2022-08-16T09:08:16.004Z"
   },
   {
    "duration": 249,
    "start_time": "2022-08-16T09:10:26.604Z"
   },
   {
    "duration": 405,
    "start_time": "2022-08-16T09:12:00.424Z"
   },
   {
    "duration": 125,
    "start_time": "2022-08-16T09:12:12.791Z"
   },
   {
    "duration": 130,
    "start_time": "2022-08-16T09:13:39.295Z"
   },
   {
    "duration": 217,
    "start_time": "2022-08-16T09:14:26.437Z"
   },
   {
    "duration": 253,
    "start_time": "2022-08-16T09:16:03.818Z"
   },
   {
    "duration": 182,
    "start_time": "2022-08-16T09:21:32.947Z"
   },
   {
    "duration": 159,
    "start_time": "2022-08-16T09:23:01.186Z"
   },
   {
    "duration": 154,
    "start_time": "2022-08-16T09:25:07.015Z"
   },
   {
    "duration": 152,
    "start_time": "2022-08-16T09:26:13.053Z"
   },
   {
    "duration": 167,
    "start_time": "2022-08-16T09:26:53.884Z"
   },
   {
    "duration": 153,
    "start_time": "2022-08-16T09:27:43.023Z"
   },
   {
    "duration": 835,
    "start_time": "2022-08-17T06:23:37.034Z"
   },
   {
    "duration": 163,
    "start_time": "2022-08-17T06:23:37.871Z"
   },
   {
    "duration": 24,
    "start_time": "2022-08-17T06:23:38.036Z"
   },
   {
    "duration": 27,
    "start_time": "2022-08-17T06:23:38.062Z"
   },
   {
    "duration": 18,
    "start_time": "2022-08-17T06:23:38.091Z"
   },
   {
    "duration": 3,
    "start_time": "2022-08-17T06:23:38.111Z"
   },
   {
    "duration": 35,
    "start_time": "2022-08-17T06:23:38.116Z"
   },
   {
    "duration": 41,
    "start_time": "2022-08-17T06:23:38.153Z"
   },
   {
    "duration": 25,
    "start_time": "2022-08-17T06:23:38.195Z"
   },
   {
    "duration": 37,
    "start_time": "2022-08-17T06:23:38.222Z"
   },
   {
    "duration": 5,
    "start_time": "2022-08-17T06:23:38.261Z"
   },
   {
    "duration": 45,
    "start_time": "2022-08-17T06:23:38.267Z"
   },
   {
    "duration": 37,
    "start_time": "2022-08-17T06:23:38.313Z"
   },
   {
    "duration": 35,
    "start_time": "2022-08-17T06:23:38.352Z"
   },
   {
    "duration": 35,
    "start_time": "2022-08-17T06:23:45.554Z"
   },
   {
    "duration": 229,
    "start_time": "2022-08-17T06:32:34.913Z"
   },
   {
    "duration": 209,
    "start_time": "2022-08-17T06:34:55.070Z"
   },
   {
    "duration": 218,
    "start_time": "2022-08-17T06:35:45.064Z"
   },
   {
    "duration": 7,
    "start_time": "2022-08-17T06:39:09.617Z"
   },
   {
    "duration": 2,
    "start_time": "2022-08-17T06:39:30.389Z"
   },
   {
    "duration": 99,
    "start_time": "2022-08-17T06:39:30.409Z"
   },
   {
    "duration": 23,
    "start_time": "2022-08-17T06:39:30.510Z"
   },
   {
    "duration": 25,
    "start_time": "2022-08-17T06:39:30.534Z"
   },
   {
    "duration": 32,
    "start_time": "2022-08-17T06:39:30.561Z"
   },
   {
    "duration": 4,
    "start_time": "2022-08-17T06:39:30.594Z"
   },
   {
    "duration": 48,
    "start_time": "2022-08-17T06:39:30.599Z"
   },
   {
    "duration": 30,
    "start_time": "2022-08-17T06:39:30.649Z"
   },
   {
    "duration": 16,
    "start_time": "2022-08-17T06:39:30.680Z"
   },
   {
    "duration": 40,
    "start_time": "2022-08-17T06:39:30.698Z"
   },
   {
    "duration": 6,
    "start_time": "2022-08-17T06:39:30.739Z"
   },
   {
    "duration": 222,
    "start_time": "2022-08-17T06:39:31.172Z"
   },
   {
    "duration": 24,
    "start_time": "2022-08-17T06:39:31.396Z"
   },
   {
    "duration": 32,
    "start_time": "2022-08-17T06:39:31.422Z"
   },
   {
    "duration": 45,
    "start_time": "2022-08-17T06:39:31.457Z"
   },
   {
    "duration": 19,
    "start_time": "2022-08-17T06:39:31.504Z"
   },
   {
    "duration": 25,
    "start_time": "2022-08-17T06:39:31.525Z"
   },
   {
    "duration": 52,
    "start_time": "2022-08-17T06:39:31.552Z"
   },
   {
    "duration": 15,
    "start_time": "2022-08-17T06:39:31.606Z"
   },
   {
    "duration": 11,
    "start_time": "2022-08-17T06:39:31.623Z"
   },
   {
    "duration": 162,
    "start_time": "2022-08-17T06:39:31.636Z"
   },
   {
    "duration": 3,
    "start_time": "2022-08-17T06:39:31.800Z"
   },
   {
    "duration": 60,
    "start_time": "2022-08-17T06:39:31.805Z"
   },
   {
    "duration": 56,
    "start_time": "2022-08-17T06:39:31.867Z"
   },
   {
    "duration": 14,
    "start_time": "2022-08-17T06:39:31.925Z"
   },
   {
    "duration": 24,
    "start_time": "2022-08-17T06:39:31.940Z"
   },
   {
    "duration": 67,
    "start_time": "2022-08-17T06:39:31.965Z"
   },
   {
    "duration": 12,
    "start_time": "2022-08-17T06:39:32.034Z"
   },
   {
    "duration": 42,
    "start_time": "2022-08-17T06:39:32.048Z"
   },
   {
    "duration": 22,
    "start_time": "2022-08-17T06:39:32.091Z"
   },
   {
    "duration": 3,
    "start_time": "2022-08-17T06:39:32.115Z"
   },
   {
    "duration": 20691,
    "start_time": "2022-08-17T06:39:32.120Z"
   },
   {
    "duration": 13,
    "start_time": "2022-08-17T06:39:52.812Z"
   },
   {
    "duration": 24,
    "start_time": "2022-08-17T06:39:52.827Z"
   },
   {
    "duration": 13,
    "start_time": "2022-08-17T06:39:52.853Z"
   },
   {
    "duration": 20,
    "start_time": "2022-08-17T06:39:52.867Z"
   },
   {
    "duration": 130,
    "start_time": "2022-08-17T06:39:52.888Z"
   },
   {
    "duration": 6,
    "start_time": "2022-08-17T06:39:53.019Z"
   },
   {
    "duration": 137,
    "start_time": "2022-08-17T06:39:53.026Z"
   },
   {
    "duration": 8,
    "start_time": "2022-08-17T06:39:53.165Z"
   },
   {
    "duration": 136,
    "start_time": "2022-08-17T06:39:53.174Z"
   },
   {
    "duration": 492,
    "start_time": "2022-08-17T06:39:53.312Z"
   },
   {
    "duration": 131,
    "start_time": "2022-08-17T06:39:53.805Z"
   },
   {
    "duration": 133,
    "start_time": "2022-08-17T06:39:53.938Z"
   },
   {
    "duration": 14,
    "start_time": "2022-08-17T06:39:54.073Z"
   },
   {
    "duration": 6,
    "start_time": "2022-08-17T06:39:54.089Z"
   },
   {
    "duration": 150,
    "start_time": "2022-08-17T06:39:54.100Z"
   },
   {
    "duration": 10,
    "start_time": "2022-08-17T06:39:54.252Z"
   },
   {
    "duration": 152,
    "start_time": "2022-08-17T06:39:54.263Z"
   },
   {
    "duration": 511,
    "start_time": "2022-08-17T06:39:54.417Z"
   },
   {
    "duration": 6,
    "start_time": "2022-08-17T06:39:54.929Z"
   },
   {
    "duration": 472,
    "start_time": "2022-08-17T06:39:54.936Z"
   },
   {
    "duration": 5,
    "start_time": "2022-08-17T06:39:55.410Z"
   },
   {
    "duration": 20,
    "start_time": "2022-08-17T06:39:55.417Z"
   },
   {
    "duration": 5,
    "start_time": "2022-08-17T06:39:55.438Z"
   },
   {
    "duration": 10,
    "start_time": "2022-08-17T06:39:55.445Z"
   },
   {
    "duration": 141,
    "start_time": "2022-08-17T06:39:55.456Z"
   },
   {
    "duration": 149,
    "start_time": "2022-08-17T06:39:55.598Z"
   },
   {
    "duration": 9,
    "start_time": "2022-08-17T06:39:55.748Z"
   },
   {
    "duration": 534,
    "start_time": "2022-08-17T06:39:55.759Z"
   },
   {
    "duration": 600,
    "start_time": "2022-08-17T06:39:56.295Z"
   },
   {
    "duration": 6,
    "start_time": "2022-08-17T06:39:56.896Z"
   },
   {
    "duration": 445,
    "start_time": "2022-08-17T06:39:56.903Z"
   },
   {
    "duration": 3,
    "start_time": "2022-08-17T06:39:57.350Z"
   },
   {
    "duration": 475,
    "start_time": "2022-08-17T06:39:57.355Z"
   },
   {
    "duration": 539,
    "start_time": "2022-08-17T06:39:57.832Z"
   },
   {
    "duration": 348,
    "start_time": "2022-08-17T06:39:58.373Z"
   },
   {
    "duration": 332,
    "start_time": "2022-08-17T06:39:58.723Z"
   },
   {
    "duration": 9,
    "start_time": "2022-08-17T06:39:59.056Z"
   },
   {
    "duration": 135,
    "start_time": "2022-08-17T06:39:59.067Z"
   },
   {
    "duration": 129,
    "start_time": "2022-08-17T06:39:59.203Z"
   },
   {
    "duration": 516,
    "start_time": "2022-08-17T06:39:59.334Z"
   },
   {
    "duration": 477,
    "start_time": "2022-08-17T06:39:59.851Z"
   },
   {
    "duration": 38,
    "start_time": "2022-08-17T06:40:00.329Z"
   },
   {
    "duration": 53,
    "start_time": "2022-08-17T06:40:00.369Z"
   },
   {
    "duration": 1478,
    "start_time": "2022-08-17T06:40:00.424Z"
   },
   {
    "duration": 167,
    "start_time": "2022-08-17T06:40:01.904Z"
   },
   {
    "duration": 7,
    "start_time": "2022-08-17T06:40:02.073Z"
   },
   {
    "duration": 29,
    "start_time": "2022-08-17T06:40:02.087Z"
   },
   {
    "duration": 8,
    "start_time": "2022-08-17T06:40:02.117Z"
   },
   {
    "duration": 36,
    "start_time": "2022-08-17T06:40:02.127Z"
   },
   {
    "duration": 23,
    "start_time": "2022-08-17T06:40:02.165Z"
   },
   {
    "duration": 174,
    "start_time": "2022-08-17T06:40:02.190Z"
   },
   {
    "duration": 249,
    "start_time": "2022-08-17T06:40:02.365Z"
   },
   {
    "duration": 250,
    "start_time": "2022-08-17T06:40:02.616Z"
   },
   {
    "duration": 252,
    "start_time": "2022-08-17T06:40:02.868Z"
   },
   {
    "duration": 173,
    "start_time": "2022-08-17T06:40:03.121Z"
   },
   {
    "duration": 168,
    "start_time": "2022-08-17T06:40:03.296Z"
   },
   {
    "duration": 166,
    "start_time": "2022-08-17T06:40:03.466Z"
   },
   {
    "duration": 164,
    "start_time": "2022-08-17T06:40:03.633Z"
   },
   {
    "duration": 160,
    "start_time": "2022-08-17T06:40:03.799Z"
   },
   {
    "duration": 164,
    "start_time": "2022-08-17T06:40:03.961Z"
   },
   {
    "duration": 12,
    "start_time": "2022-08-17T06:40:04.126Z"
   },
   {
    "duration": 11,
    "start_time": "2022-08-17T06:40:04.144Z"
   },
   {
    "duration": 8,
    "start_time": "2022-08-17T06:41:57.841Z"
   },
   {
    "duration": 5,
    "start_time": "2022-08-17T06:42:02.817Z"
   },
   {
    "duration": 8,
    "start_time": "2022-08-17T07:01:25.060Z"
   },
   {
    "duration": 20,
    "start_time": "2022-08-17T07:01:33.995Z"
   },
   {
    "duration": 19,
    "start_time": "2022-08-17T07:02:02.886Z"
   },
   {
    "duration": 20,
    "start_time": "2022-08-17T07:02:12.026Z"
   },
   {
    "duration": 17,
    "start_time": "2022-08-17T07:06:23.156Z"
   },
   {
    "duration": 2,
    "start_time": "2022-08-17T07:06:34.172Z"
   },
   {
    "duration": 104,
    "start_time": "2022-08-17T07:06:34.193Z"
   },
   {
    "duration": 23,
    "start_time": "2022-08-17T07:06:34.299Z"
   },
   {
    "duration": 16,
    "start_time": "2022-08-17T07:06:34.324Z"
   },
   {
    "duration": 20,
    "start_time": "2022-08-17T07:06:34.342Z"
   },
   {
    "duration": 3,
    "start_time": "2022-08-17T07:06:34.364Z"
   },
   {
    "duration": 38,
    "start_time": "2022-08-17T07:06:34.368Z"
   },
   {
    "duration": 18,
    "start_time": "2022-08-17T07:06:34.407Z"
   },
   {
    "duration": 115,
    "start_time": "2022-08-17T07:06:34.426Z"
   },
   {
    "duration": 46,
    "start_time": "2022-08-17T07:06:34.542Z"
   },
   {
    "duration": 6,
    "start_time": "2022-08-17T07:06:34.589Z"
   },
   {
    "duration": 222,
    "start_time": "2022-08-17T07:06:34.596Z"
   },
   {
    "duration": 23,
    "start_time": "2022-08-17T07:06:34.820Z"
   },
   {
    "duration": 44,
    "start_time": "2022-08-17T07:06:34.845Z"
   },
   {
    "duration": 14,
    "start_time": "2022-08-17T07:06:34.891Z"
   },
   {
    "duration": 14,
    "start_time": "2022-08-17T07:06:34.906Z"
   },
   {
    "duration": 9,
    "start_time": "2022-08-17T07:06:34.952Z"
   },
   {
    "duration": 40,
    "start_time": "2022-08-17T07:06:35.015Z"
   },
   {
    "duration": 17,
    "start_time": "2022-08-17T07:06:35.607Z"
   },
   {
    "duration": 8,
    "start_time": "2022-08-17T07:06:35.630Z"
   },
   {
    "duration": 131,
    "start_time": "2022-08-17T07:06:35.651Z"
   },
   {
    "duration": 3,
    "start_time": "2022-08-17T07:06:35.786Z"
   },
   {
    "duration": 26,
    "start_time": "2022-08-17T07:06:35.791Z"
   },
   {
    "duration": 45,
    "start_time": "2022-08-17T07:06:35.819Z"
   },
   {
    "duration": 12,
    "start_time": "2022-08-17T07:06:35.887Z"
   },
   {
    "duration": 20,
    "start_time": "2022-08-17T07:06:35.900Z"
   },
   {
    "duration": 35,
    "start_time": "2022-08-17T07:06:35.922Z"
   },
   {
    "duration": 28,
    "start_time": "2022-08-17T07:06:35.959Z"
   },
   {
    "duration": 23,
    "start_time": "2022-08-17T07:06:35.988Z"
   },
   {
    "duration": 18,
    "start_time": "2022-08-17T07:06:36.013Z"
   },
   {
    "duration": 4,
    "start_time": "2022-08-17T07:06:36.032Z"
   },
   {
    "duration": 20841,
    "start_time": "2022-08-17T07:06:36.246Z"
   },
   {
    "duration": 13,
    "start_time": "2022-08-17T07:06:57.089Z"
   },
   {
    "duration": 20,
    "start_time": "2022-08-17T07:06:58.025Z"
   },
   {
    "duration": 18,
    "start_time": "2022-08-17T07:07:13.049Z"
   },
   {
    "duration": 17,
    "start_time": "2022-08-17T07:07:40.934Z"
   },
   {
    "duration": 9,
    "start_time": "2022-08-17T07:15:09.591Z"
   },
   {
    "duration": 8,
    "start_time": "2022-08-17T07:15:26.059Z"
   },
   {
    "duration": 9,
    "start_time": "2022-08-17T07:16:08.938Z"
   },
   {
    "duration": 166,
    "start_time": "2022-08-17T07:16:43.509Z"
   },
   {
    "duration": 63,
    "start_time": "2022-08-17T07:23:57.079Z"
   },
   {
    "duration": 9,
    "start_time": "2022-08-17T07:24:04.032Z"
   },
   {
    "duration": 12,
    "start_time": "2022-08-17T07:24:39.838Z"
   },
   {
    "duration": 24,
    "start_time": "2022-08-17T07:24:47.236Z"
   },
   {
    "duration": 11,
    "start_time": "2022-08-17T07:25:18.327Z"
   },
   {
    "duration": 102,
    "start_time": "2022-08-17T07:25:29.778Z"
   },
   {
    "duration": 99,
    "start_time": "2022-08-17T07:25:36.071Z"
   },
   {
    "duration": 14,
    "start_time": "2022-08-17T07:37:12.214Z"
   },
   {
    "duration": 7,
    "start_time": "2022-08-17T07:37:46.138Z"
   },
   {
    "duration": 1480,
    "start_time": "2022-08-17T07:52:49.778Z"
   },
   {
    "duration": 56,
    "start_time": "2022-08-17T07:55:58.043Z"
   },
   {
    "duration": 10,
    "start_time": "2022-08-17T07:56:04.053Z"
   },
   {
    "duration": 157,
    "start_time": "2022-08-17T08:03:43.587Z"
   },
   {
    "duration": 13,
    "start_time": "2022-08-17T08:05:39.416Z"
   },
   {
    "duration": 8,
    "start_time": "2022-08-17T08:07:05.483Z"
   },
   {
    "duration": 177,
    "start_time": "2022-08-17T08:07:15.944Z"
   },
   {
    "duration": 9,
    "start_time": "2022-08-17T08:07:53.745Z"
   },
   {
    "duration": 164,
    "start_time": "2022-08-17T08:17:53.751Z"
   },
   {
    "duration": 10,
    "start_time": "2022-08-17T08:18:21.696Z"
   },
   {
    "duration": 8,
    "start_time": "2022-08-17T08:18:33.395Z"
   },
   {
    "duration": 11,
    "start_time": "2022-08-17T08:18:40.016Z"
   },
   {
    "duration": 10,
    "start_time": "2022-08-17T08:19:24.182Z"
   },
   {
    "duration": 188,
    "start_time": "2022-08-17T08:19:37.552Z"
   },
   {
    "duration": 10,
    "start_time": "2022-08-17T08:20:13.794Z"
   },
   {
    "duration": 236,
    "start_time": "2022-08-17T08:21:13.825Z"
   },
   {
    "duration": 18,
    "start_time": "2022-08-17T08:23:21.539Z"
   },
   {
    "duration": 3,
    "start_time": "2022-08-17T08:23:36.527Z"
   },
   {
    "duration": 106,
    "start_time": "2022-08-17T08:23:36.551Z"
   },
   {
    "duration": 23,
    "start_time": "2022-08-17T08:23:36.815Z"
   },
   {
    "duration": 14,
    "start_time": "2022-08-17T08:23:36.842Z"
   },
   {
    "duration": 21,
    "start_time": "2022-08-17T08:23:36.860Z"
   },
   {
    "duration": 4,
    "start_time": "2022-08-17T08:23:36.922Z"
   },
   {
    "duration": 22,
    "start_time": "2022-08-17T08:23:36.938Z"
   },
   {
    "duration": 19,
    "start_time": "2022-08-17T08:23:36.968Z"
   },
   {
    "duration": 17,
    "start_time": "2022-08-17T08:23:36.994Z"
   },
   {
    "duration": 38,
    "start_time": "2022-08-17T08:23:37.029Z"
   },
   {
    "duration": 5,
    "start_time": "2022-08-17T08:23:37.069Z"
   },
   {
    "duration": 227,
    "start_time": "2022-08-17T08:23:37.097Z"
   },
   {
    "duration": 23,
    "start_time": "2022-08-17T08:23:37.326Z"
   },
   {
    "duration": 48,
    "start_time": "2022-08-17T08:23:37.351Z"
   },
   {
    "duration": 14,
    "start_time": "2022-08-17T08:23:37.401Z"
   },
   {
    "duration": 15,
    "start_time": "2022-08-17T08:23:37.416Z"
   },
   {
    "duration": 16,
    "start_time": "2022-08-17T08:23:37.433Z"
   },
   {
    "duration": 69,
    "start_time": "2022-08-17T08:23:37.451Z"
   },
   {
    "duration": 17,
    "start_time": "2022-08-17T08:23:37.521Z"
   },
   {
    "duration": 22,
    "start_time": "2022-08-17T08:23:37.542Z"
   },
   {
    "duration": 162,
    "start_time": "2022-08-17T08:23:37.566Z"
   },
   {
    "duration": 3,
    "start_time": "2022-08-17T08:23:37.730Z"
   },
   {
    "duration": 27,
    "start_time": "2022-08-17T08:23:37.735Z"
   },
   {
    "duration": 52,
    "start_time": "2022-08-17T08:23:37.764Z"
   },
   {
    "duration": 13,
    "start_time": "2022-08-17T08:23:37.818Z"
   },
   {
    "duration": 23,
    "start_time": "2022-08-17T08:23:37.832Z"
   },
   {
    "duration": 61,
    "start_time": "2022-08-17T08:23:37.856Z"
   },
   {
    "duration": 13,
    "start_time": "2022-08-17T08:23:37.918Z"
   },
   {
    "duration": 25,
    "start_time": "2022-08-17T08:23:37.932Z"
   },
   {
    "duration": 30,
    "start_time": "2022-08-17T08:23:37.959Z"
   },
   {
    "duration": 3,
    "start_time": "2022-08-17T08:23:37.991Z"
   },
   {
    "duration": 21552,
    "start_time": "2022-08-17T08:23:37.996Z"
   },
   {
    "duration": 13,
    "start_time": "2022-08-17T08:23:59.550Z"
   },
   {
    "duration": 29,
    "start_time": "2022-08-17T08:23:59.565Z"
   },
   {
    "duration": 9,
    "start_time": "2022-08-17T08:24:46.583Z"
   },
   {
    "duration": 25,
    "start_time": "2022-08-17T08:31:18.002Z"
   },
   {
    "duration": 10,
    "start_time": "2022-08-17T08:38:17.061Z"
   },
   {
    "duration": 20,
    "start_time": "2022-08-17T08:38:28.391Z"
   },
   {
    "duration": 1831,
    "start_time": "2022-08-17T08:40:15.261Z"
   },
   {
    "duration": 954,
    "start_time": "2022-08-17T08:40:36.609Z"
   },
   {
    "duration": 3,
    "start_time": "2022-08-17T08:40:41.452Z"
   },
   {
    "duration": 103,
    "start_time": "2022-08-17T08:40:41.478Z"
   },
   {
    "duration": 22,
    "start_time": "2022-08-17T08:40:41.583Z"
   },
   {
    "duration": 15,
    "start_time": "2022-08-17T08:40:41.607Z"
   },
   {
    "duration": 22,
    "start_time": "2022-08-17T08:40:41.624Z"
   },
   {
    "duration": 4,
    "start_time": "2022-08-17T08:40:41.648Z"
   },
   {
    "duration": 45,
    "start_time": "2022-08-17T08:40:41.654Z"
   },
   {
    "duration": 19,
    "start_time": "2022-08-17T08:40:41.701Z"
   },
   {
    "duration": 18,
    "start_time": "2022-08-17T08:40:41.722Z"
   },
   {
    "duration": 61,
    "start_time": "2022-08-17T08:40:41.742Z"
   },
   {
    "duration": 6,
    "start_time": "2022-08-17T08:40:41.804Z"
   },
   {
    "duration": 240,
    "start_time": "2022-08-17T08:40:41.812Z"
   },
   {
    "duration": 34,
    "start_time": "2022-08-17T08:40:42.054Z"
   },
   {
    "duration": 34,
    "start_time": "2022-08-17T08:40:42.089Z"
   },
   {
    "duration": 16,
    "start_time": "2022-08-17T08:40:42.124Z"
   },
   {
    "duration": 14,
    "start_time": "2022-08-17T08:40:42.141Z"
   },
   {
    "duration": 33,
    "start_time": "2022-08-17T08:40:42.156Z"
   },
   {
    "duration": 40,
    "start_time": "2022-08-17T08:40:42.191Z"
   },
   {
    "duration": 16,
    "start_time": "2022-08-17T08:40:42.233Z"
   },
   {
    "duration": 41,
    "start_time": "2022-08-17T08:40:42.250Z"
   },
   {
    "duration": 143,
    "start_time": "2022-08-17T08:40:42.293Z"
   },
   {
    "duration": 3,
    "start_time": "2022-08-17T08:40:42.438Z"
   },
   {
    "duration": 50,
    "start_time": "2022-08-17T08:40:42.443Z"
   },
   {
    "duration": 55,
    "start_time": "2022-08-17T08:40:42.495Z"
   },
   {
    "duration": 13,
    "start_time": "2022-08-17T08:40:42.551Z"
   },
   {
    "duration": 39,
    "start_time": "2022-08-17T08:40:42.566Z"
   },
   {
    "duration": 36,
    "start_time": "2022-08-17T08:40:42.607Z"
   },
   {
    "duration": 13,
    "start_time": "2022-08-17T08:40:42.645Z"
   },
   {
    "duration": 41,
    "start_time": "2022-08-17T08:40:42.660Z"
   },
   {
    "duration": 21,
    "start_time": "2022-08-17T08:40:42.703Z"
   },
   {
    "duration": 3,
    "start_time": "2022-08-17T08:40:42.725Z"
   },
   {
    "duration": 21695,
    "start_time": "2022-08-17T08:40:42.761Z"
   },
   {
    "duration": 13,
    "start_time": "2022-08-17T08:41:04.458Z"
   },
   {
    "duration": 30,
    "start_time": "2022-08-17T08:41:04.473Z"
   },
   {
    "duration": 22,
    "start_time": "2022-08-17T08:41:04.505Z"
   },
   {
    "duration": 13,
    "start_time": "2022-08-17T08:41:04.529Z"
   },
   {
    "duration": 7,
    "start_time": "2022-08-17T08:41:04.544Z"
   },
   {
    "duration": 150,
    "start_time": "2022-08-17T08:41:04.552Z"
   },
   {
    "duration": 6,
    "start_time": "2022-08-17T08:41:04.704Z"
   },
   {
    "duration": 155,
    "start_time": "2022-08-17T08:41:04.711Z"
   },
   {
    "duration": 18,
    "start_time": "2022-08-17T08:41:04.869Z"
   },
   {
    "duration": 140,
    "start_time": "2022-08-17T08:41:04.888Z"
   },
   {
    "duration": 616,
    "start_time": "2022-08-17T08:41:05.030Z"
   },
   {
    "duration": 131,
    "start_time": "2022-08-17T08:41:05.648Z"
   },
   {
    "duration": 133,
    "start_time": "2022-08-17T08:41:05.786Z"
   },
   {
    "duration": 8,
    "start_time": "2022-08-17T08:41:05.921Z"
   },
   {
    "duration": 5,
    "start_time": "2022-08-17T08:41:05.931Z"
   },
   {
    "duration": 189,
    "start_time": "2022-08-17T08:41:05.938Z"
   },
   {
    "duration": 10,
    "start_time": "2022-08-17T08:41:06.129Z"
   },
   {
    "duration": 195,
    "start_time": "2022-08-17T08:41:06.141Z"
   },
   {
    "duration": 664,
    "start_time": "2022-08-17T08:41:06.337Z"
   },
   {
    "duration": 5,
    "start_time": "2022-08-17T08:41:07.003Z"
   },
   {
    "duration": 502,
    "start_time": "2022-08-17T08:41:07.010Z"
   },
   {
    "duration": 5,
    "start_time": "2022-08-17T08:41:07.514Z"
   },
   {
    "duration": 11,
    "start_time": "2022-08-17T08:41:07.521Z"
   },
   {
    "duration": 6,
    "start_time": "2022-08-17T08:41:07.534Z"
   },
   {
    "duration": 8,
    "start_time": "2022-08-17T08:41:07.542Z"
   },
   {
    "duration": 178,
    "start_time": "2022-08-17T08:41:07.551Z"
   },
   {
    "duration": 163,
    "start_time": "2022-08-17T08:41:07.733Z"
   },
   {
    "duration": 11,
    "start_time": "2022-08-17T08:41:07.898Z"
   },
   {
    "duration": 511,
    "start_time": "2022-08-17T08:41:07.910Z"
   },
   {
    "duration": 601,
    "start_time": "2022-08-17T08:41:08.423Z"
   },
   {
    "duration": 6,
    "start_time": "2022-08-17T08:41:09.025Z"
   },
   {
    "duration": 478,
    "start_time": "2022-08-17T08:41:09.032Z"
   },
   {
    "duration": 4,
    "start_time": "2022-08-17T08:41:09.511Z"
   },
   {
    "duration": 489,
    "start_time": "2022-08-17T08:41:09.516Z"
   },
   {
    "duration": 647,
    "start_time": "2022-08-17T08:41:10.007Z"
   },
   {
    "duration": 381,
    "start_time": "2022-08-17T08:41:10.655Z"
   },
   {
    "duration": 366,
    "start_time": "2022-08-17T08:41:11.037Z"
   },
   {
    "duration": 11,
    "start_time": "2022-08-17T08:41:11.405Z"
   },
   {
    "duration": 156,
    "start_time": "2022-08-17T08:41:11.418Z"
   },
   {
    "duration": 134,
    "start_time": "2022-08-17T08:41:11.576Z"
   },
   {
    "duration": 610,
    "start_time": "2022-08-17T08:41:11.712Z"
   },
   {
    "duration": 483,
    "start_time": "2022-08-17T08:41:12.325Z"
   },
   {
    "duration": 41,
    "start_time": "2022-08-17T08:41:12.810Z"
   },
   {
    "duration": 69,
    "start_time": "2022-08-17T08:41:12.853Z"
   },
   {
    "duration": 178,
    "start_time": "2022-08-17T08:41:12.923Z"
   },
   {
    "duration": 10,
    "start_time": "2022-08-17T08:41:13.103Z"
   },
   {
    "duration": 29,
    "start_time": "2022-08-17T08:41:13.114Z"
   },
   {
    "duration": 8,
    "start_time": "2022-08-17T08:41:13.144Z"
   },
   {
    "duration": 47,
    "start_time": "2022-08-17T08:41:13.153Z"
   },
   {
    "duration": 7,
    "start_time": "2022-08-17T08:41:13.202Z"
   },
   {
    "duration": 157,
    "start_time": "2022-08-17T08:41:13.211Z"
   },
   {
    "duration": 143,
    "start_time": "2022-08-17T08:41:13.369Z"
   },
   {
    "duration": 250,
    "start_time": "2022-08-17T08:41:13.513Z"
   },
   {
    "duration": 405,
    "start_time": "2022-08-17T08:41:13.764Z"
   },
   {
    "duration": 171,
    "start_time": "2022-08-17T08:41:14.171Z"
   },
   {
    "duration": 179,
    "start_time": "2022-08-17T08:41:14.344Z"
   },
   {
    "duration": 194,
    "start_time": "2022-08-17T08:41:14.525Z"
   },
   {
    "duration": 159,
    "start_time": "2022-08-17T08:41:14.721Z"
   },
   {
    "duration": 162,
    "start_time": "2022-08-17T08:41:14.887Z"
   },
   {
    "duration": 157,
    "start_time": "2022-08-17T08:41:31.426Z"
   },
   {
    "duration": 4,
    "start_time": "2022-08-17T08:42:06.885Z"
   },
   {
    "duration": 29993,
    "start_time": "2022-08-17T08:42:14.461Z"
   },
   {
    "duration": 34,
    "start_time": "2022-08-17T08:42:44.495Z"
   },
   {
    "duration": 138,
    "start_time": "2022-08-17T08:44:35.963Z"
   },
   {
    "duration": 127,
    "start_time": "2022-08-17T08:45:29.509Z"
   },
   {
    "duration": 53,
    "start_time": "2022-08-17T08:47:08.846Z"
   },
   {
    "duration": 54,
    "start_time": "2022-08-17T08:47:14.071Z"
   },
   {
    "duration": 3,
    "start_time": "2022-08-17T08:47:18.226Z"
   },
   {
    "duration": 110,
    "start_time": "2022-08-17T08:47:18.249Z"
   },
   {
    "duration": 32,
    "start_time": "2022-08-17T08:47:18.361Z"
   },
   {
    "duration": 167,
    "start_time": "2022-08-17T08:47:18.394Z"
   },
   {
    "duration": 39,
    "start_time": "2022-08-17T08:47:18.563Z"
   },
   {
    "duration": 4,
    "start_time": "2022-08-17T08:47:18.604Z"
   },
   {
    "duration": 26,
    "start_time": "2022-08-17T08:47:18.610Z"
   },
   {
    "duration": 18,
    "start_time": "2022-08-17T08:47:18.638Z"
   },
   {
    "duration": 39,
    "start_time": "2022-08-17T08:47:18.658Z"
   },
   {
    "duration": 39,
    "start_time": "2022-08-17T08:47:18.698Z"
   },
   {
    "duration": 5,
    "start_time": "2022-08-17T08:47:18.740Z"
   },
   {
    "duration": 257,
    "start_time": "2022-08-17T08:47:18.747Z"
   },
   {
    "duration": 22,
    "start_time": "2022-08-17T08:47:19.006Z"
   },
   {
    "duration": 31,
    "start_time": "2022-08-17T08:47:19.030Z"
   },
   {
    "duration": 37,
    "start_time": "2022-08-17T08:47:19.063Z"
   },
   {
    "duration": 14,
    "start_time": "2022-08-17T08:47:19.102Z"
   },
   {
    "duration": 13,
    "start_time": "2022-08-17T08:47:19.118Z"
   },
   {
    "duration": 58,
    "start_time": "2022-08-17T08:47:19.133Z"
   },
   {
    "duration": 16,
    "start_time": "2022-08-17T08:47:19.193Z"
   },
   {
    "duration": 12,
    "start_time": "2022-08-17T08:47:19.212Z"
   },
   {
    "duration": 180,
    "start_time": "2022-08-17T08:47:19.226Z"
   },
   {
    "duration": 3,
    "start_time": "2022-08-17T08:47:19.407Z"
   },
   {
    "duration": 33,
    "start_time": "2022-08-17T08:47:19.412Z"
   },
   {
    "duration": 56,
    "start_time": "2022-08-17T08:47:19.447Z"
   },
   {
    "duration": 13,
    "start_time": "2022-08-17T08:47:19.505Z"
   },
   {
    "duration": 23,
    "start_time": "2022-08-17T08:47:19.520Z"
   },
   {
    "duration": 58,
    "start_time": "2022-08-17T08:47:19.544Z"
   },
   {
    "duration": 14,
    "start_time": "2022-08-17T08:47:19.604Z"
   },
   {
    "duration": 22,
    "start_time": "2022-08-17T08:47:19.620Z"
   },
   {
    "duration": 44,
    "start_time": "2022-08-17T08:47:19.644Z"
   },
   {
    "duration": 3,
    "start_time": "2022-08-17T08:47:19.689Z"
   },
   {
    "duration": 31561,
    "start_time": "2022-08-17T08:47:19.695Z"
   },
   {
    "duration": 14,
    "start_time": "2022-08-17T08:47:51.258Z"
   },
   {
    "duration": 35,
    "start_time": "2022-08-17T08:47:51.274Z"
   },
   {
    "duration": 22,
    "start_time": "2022-08-17T08:47:51.311Z"
   },
   {
    "duration": 15,
    "start_time": "2022-08-17T08:47:51.335Z"
   },
   {
    "duration": 38,
    "start_time": "2022-08-17T08:47:51.352Z"
   },
   {
    "duration": 143,
    "start_time": "2022-08-17T08:47:51.392Z"
   },
   {
    "duration": 7,
    "start_time": "2022-08-17T08:47:51.537Z"
   },
   {
    "duration": 157,
    "start_time": "2022-08-17T08:47:51.545Z"
   },
   {
    "duration": 9,
    "start_time": "2022-08-17T08:47:51.703Z"
   },
   {
    "duration": 145,
    "start_time": "2022-08-17T08:47:51.714Z"
   },
   {
    "duration": 625,
    "start_time": "2022-08-17T08:47:51.861Z"
   },
   {
    "duration": 144,
    "start_time": "2022-08-17T08:47:52.488Z"
   },
   {
    "duration": 145,
    "start_time": "2022-08-17T08:47:52.635Z"
   },
   {
    "duration": 12,
    "start_time": "2022-08-17T08:47:52.781Z"
   },
   {
    "duration": 5,
    "start_time": "2022-08-17T08:47:52.795Z"
   },
   {
    "duration": 144,
    "start_time": "2022-08-17T08:47:52.802Z"
   },
   {
    "duration": 58,
    "start_time": "2022-08-17T08:48:06.978Z"
   },
   {
    "duration": 10,
    "start_time": "2022-08-17T08:48:17.208Z"
   },
   {
    "duration": 141,
    "start_time": "2022-08-17T08:48:55.975Z"
   },
   {
    "duration": 51,
    "start_time": "2022-08-17T08:49:56.078Z"
   },
   {
    "duration": 486,
    "start_time": "2022-08-17T08:50:08.787Z"
   },
   {
    "duration": 8,
    "start_time": "2022-08-17T08:50:23.186Z"
   },
   {
    "duration": 595,
    "start_time": "2022-08-17T08:50:46.146Z"
   },
   {
    "duration": 7,
    "start_time": "2022-08-17T08:51:04.453Z"
   },
   {
    "duration": 15,
    "start_time": "2022-08-17T08:51:16.413Z"
   },
   {
    "duration": 9,
    "start_time": "2022-08-17T08:51:30.694Z"
   },
   {
    "duration": 6,
    "start_time": "2022-08-17T08:51:37.328Z"
   },
   {
    "duration": 128,
    "start_time": "2022-08-17T08:52:34.728Z"
   },
   {
    "duration": 295,
    "start_time": "2022-08-17T08:52:42.928Z"
   },
   {
    "duration": 137,
    "start_time": "2022-08-17T08:52:53.013Z"
   },
   {
    "duration": 245,
    "start_time": "2022-08-17T08:54:27.133Z"
   },
   {
    "duration": 387,
    "start_time": "2022-08-17T08:54:36.680Z"
   },
   {
    "duration": 241,
    "start_time": "2022-08-17T08:54:42.606Z"
   },
   {
    "duration": 871,
    "start_time": "2022-08-17T08:55:01.025Z"
   },
   {
    "duration": 1511,
    "start_time": "2022-08-17T08:55:09.029Z"
   },
   {
    "duration": 735,
    "start_time": "2022-08-17T08:55:20.309Z"
   },
   {
    "duration": 732,
    "start_time": "2022-08-17T08:55:49.110Z"
   },
   {
    "duration": 1622,
    "start_time": "2022-08-17T08:56:08.353Z"
   },
   {
    "duration": 488,
    "start_time": "2022-08-17T08:56:24.576Z"
   },
   {
    "duration": 76,
    "start_time": "2022-08-17T08:58:12.094Z"
   },
   {
    "duration": 46,
    "start_time": "2022-08-17T08:58:20.324Z"
   },
   {
    "duration": 3,
    "start_time": "2022-08-17T10:27:18.246Z"
   },
   {
    "duration": 288,
    "start_time": "2022-08-17T10:28:56.370Z"
   },
   {
    "duration": 133,
    "start_time": "2022-08-17T10:29:24.230Z"
   },
   {
    "duration": 6,
    "start_time": "2022-08-17T10:30:23.781Z"
   },
   {
    "duration": 430,
    "start_time": "2022-08-17T10:30:40.690Z"
   },
   {
    "duration": 4,
    "start_time": "2022-08-17T10:32:43.143Z"
   },
   {
    "duration": 3,
    "start_time": "2022-08-17T10:32:45.766Z"
   },
   {
    "duration": 239,
    "start_time": "2022-08-17T10:32:48.081Z"
   },
   {
    "duration": 245,
    "start_time": "2022-08-17T10:33:07.069Z"
   },
   {
    "duration": 237,
    "start_time": "2022-08-17T10:33:40.900Z"
   },
   {
    "duration": 248,
    "start_time": "2022-08-17T10:34:11.290Z"
   },
   {
    "duration": 299,
    "start_time": "2022-08-17T10:36:08.012Z"
   },
   {
    "duration": 10,
    "start_time": "2022-08-17T10:36:33.919Z"
   },
   {
    "duration": 6,
    "start_time": "2022-08-17T10:36:36.900Z"
   },
   {
    "duration": 427,
    "start_time": "2022-08-17T10:36:44.301Z"
   },
   {
    "duration": 194,
    "start_time": "2022-08-17T10:38:45.242Z"
   },
   {
    "duration": 179,
    "start_time": "2022-08-17T10:39:04.941Z"
   },
   {
    "duration": 9,
    "start_time": "2022-08-17T10:42:52.500Z"
   },
   {
    "duration": 10,
    "start_time": "2022-08-17T10:43:06.352Z"
   },
   {
    "duration": 9,
    "start_time": "2022-08-17T10:43:14.381Z"
   },
   {
    "duration": 399,
    "start_time": "2022-08-17T10:44:22.536Z"
   },
   {
    "duration": 339,
    "start_time": "2022-08-17T10:44:55.267Z"
   },
   {
    "duration": 528,
    "start_time": "2022-08-17T10:45:08.250Z"
   },
   {
    "duration": 50,
    "start_time": "2022-08-17T10:50:31.328Z"
   },
   {
    "duration": 55,
    "start_time": "2022-08-17T10:52:31.319Z"
   },
   {
    "duration": 45,
    "start_time": "2022-08-17T10:52:50.808Z"
   },
   {
    "duration": 114,
    "start_time": "2022-08-17T10:53:12.957Z"
   },
   {
    "duration": 246,
    "start_time": "2022-08-17T10:53:21.241Z"
   },
   {
    "duration": 251,
    "start_time": "2022-08-17T10:53:34.565Z"
   },
   {
    "duration": 235,
    "start_time": "2022-08-17T10:53:43.669Z"
   },
   {
    "duration": 376,
    "start_time": "2022-08-17T10:55:04.176Z"
   },
   {
    "duration": 560,
    "start_time": "2022-08-17T10:56:38.427Z"
   },
   {
    "duration": 230,
    "start_time": "2022-08-17T10:56:59.068Z"
   },
   {
    "duration": 252,
    "start_time": "2022-08-17T10:57:32.735Z"
   },
   {
    "duration": 10,
    "start_time": "2022-08-17T10:58:45.754Z"
   },
   {
    "duration": 26,
    "start_time": "2022-08-17T11:02:38.736Z"
   },
   {
    "duration": 8,
    "start_time": "2022-08-17T11:03:13.018Z"
   },
   {
    "duration": 25,
    "start_time": "2022-08-17T11:04:38.442Z"
   },
   {
    "duration": 8,
    "start_time": "2022-08-17T11:04:54.892Z"
   },
   {
    "duration": 140,
    "start_time": "2022-08-17T11:06:04.207Z"
   },
   {
    "duration": 139,
    "start_time": "2022-08-17T11:08:02.670Z"
   },
   {
    "duration": 353,
    "start_time": "2022-08-17T11:08:54.265Z"
   },
   {
    "duration": 255,
    "start_time": "2022-08-17T11:09:20.492Z"
   },
   {
    "duration": 302,
    "start_time": "2022-08-17T11:10:16.038Z"
   },
   {
    "duration": 244,
    "start_time": "2022-08-17T11:10:22.250Z"
   },
   {
    "duration": 512,
    "start_time": "2022-08-17T11:10:25.875Z"
   },
   {
    "duration": 261,
    "start_time": "2022-08-17T11:11:01.243Z"
   },
   {
    "duration": 270,
    "start_time": "2022-08-17T11:11:15.425Z"
   },
   {
    "duration": 278,
    "start_time": "2022-08-17T11:12:11.212Z"
   },
   {
    "duration": 173,
    "start_time": "2022-08-17T11:13:49.129Z"
   },
   {
    "duration": 203,
    "start_time": "2022-08-17T11:14:41.374Z"
   },
   {
    "duration": 189,
    "start_time": "2022-08-17T11:36:13.646Z"
   },
   {
    "duration": 187,
    "start_time": "2022-08-17T11:37:12.085Z"
   },
   {
    "duration": 179,
    "start_time": "2022-08-17T11:37:44.475Z"
   },
   {
    "duration": 173,
    "start_time": "2022-08-17T11:39:29.046Z"
   },
   {
    "duration": 171,
    "start_time": "2022-08-17T11:47:02.834Z"
   },
   {
    "duration": 11,
    "start_time": "2022-08-17T11:48:00.683Z"
   },
   {
    "duration": 11,
    "start_time": "2022-08-17T11:48:13.565Z"
   },
   {
    "duration": 13,
    "start_time": "2022-08-17T11:49:28.635Z"
   },
   {
    "duration": 13,
    "start_time": "2022-08-17T11:50:22.672Z"
   },
   {
    "duration": 11,
    "start_time": "2022-08-17T11:51:23.574Z"
   },
   {
    "duration": 12,
    "start_time": "2022-08-17T11:51:57.087Z"
   },
   {
    "duration": 293,
    "start_time": "2022-08-17T12:06:04.104Z"
   },
   {
    "duration": 254,
    "start_time": "2022-08-17T12:06:49.546Z"
   },
   {
    "duration": 293,
    "start_time": "2022-08-17T12:08:36.270Z"
   },
   {
    "duration": 23,
    "start_time": "2022-08-17T12:19:45.162Z"
   },
   {
    "duration": 3,
    "start_time": "2022-08-17T12:19:52.926Z"
   },
   {
    "duration": 114,
    "start_time": "2022-08-17T12:19:52.947Z"
   },
   {
    "duration": 30,
    "start_time": "2022-08-17T12:19:53.063Z"
   },
   {
    "duration": 27,
    "start_time": "2022-08-17T12:19:53.095Z"
   },
   {
    "duration": 27,
    "start_time": "2022-08-17T12:19:53.124Z"
   },
   {
    "duration": 3,
    "start_time": "2022-08-17T12:19:53.152Z"
   },
   {
    "duration": 28,
    "start_time": "2022-08-17T12:19:53.156Z"
   },
   {
    "duration": 30,
    "start_time": "2022-08-17T12:19:53.187Z"
   },
   {
    "duration": 23,
    "start_time": "2022-08-17T12:19:53.219Z"
   },
   {
    "duration": 59,
    "start_time": "2022-08-17T12:19:53.244Z"
   },
   {
    "duration": 5,
    "start_time": "2022-08-17T12:19:53.306Z"
   },
   {
    "duration": 493,
    "start_time": "2022-08-17T12:19:53.313Z"
   },
   {
    "duration": 24,
    "start_time": "2022-08-17T12:19:53.807Z"
   },
   {
    "duration": 33,
    "start_time": "2022-08-17T12:19:53.833Z"
   },
   {
    "duration": 35,
    "start_time": "2022-08-17T12:19:53.869Z"
   },
   {
    "duration": 18,
    "start_time": "2022-08-17T12:19:53.906Z"
   },
   {
    "duration": 13,
    "start_time": "2022-08-17T12:19:53.926Z"
   },
   {
    "duration": 85,
    "start_time": "2022-08-17T12:19:53.941Z"
   },
   {
    "duration": 16,
    "start_time": "2022-08-17T12:19:54.029Z"
   },
   {
    "duration": 15,
    "start_time": "2022-08-17T12:19:54.047Z"
   },
   {
    "duration": 159,
    "start_time": "2022-08-17T12:19:54.064Z"
   },
   {
    "duration": 3,
    "start_time": "2022-08-17T12:19:54.225Z"
   },
   {
    "duration": 26,
    "start_time": "2022-08-17T12:19:54.231Z"
   },
   {
    "duration": 60,
    "start_time": "2022-08-17T12:19:54.258Z"
   },
   {
    "duration": 12,
    "start_time": "2022-08-17T12:19:54.320Z"
   },
   {
    "duration": 26,
    "start_time": "2022-08-17T12:19:54.333Z"
   },
   {
    "duration": 72,
    "start_time": "2022-08-17T12:19:54.361Z"
   },
   {
    "duration": 11,
    "start_time": "2022-08-17T12:19:54.435Z"
   },
   {
    "duration": 23,
    "start_time": "2022-08-17T12:19:54.448Z"
   },
   {
    "duration": 34,
    "start_time": "2022-08-17T12:19:54.473Z"
   },
   {
    "duration": 3,
    "start_time": "2022-08-17T12:19:54.509Z"
   },
   {
    "duration": 30794,
    "start_time": "2022-08-17T12:19:54.514Z"
   },
   {
    "duration": 14,
    "start_time": "2022-08-17T12:20:25.310Z"
   },
   {
    "duration": 25,
    "start_time": "2022-08-17T12:20:25.325Z"
   },
   {
    "duration": 41,
    "start_time": "2022-08-17T12:20:25.352Z"
   },
   {
    "duration": 15,
    "start_time": "2022-08-17T12:20:25.398Z"
   },
   {
    "duration": 6,
    "start_time": "2022-08-17T12:20:25.415Z"
   },
   {
    "duration": 238,
    "start_time": "2022-08-17T12:20:25.425Z"
   },
   {
    "duration": 7,
    "start_time": "2022-08-17T12:20:25.666Z"
   },
   {
    "duration": 238,
    "start_time": "2022-08-17T12:20:25.674Z"
   },
   {
    "duration": 10,
    "start_time": "2022-08-17T12:20:25.914Z"
   },
   {
    "duration": 179,
    "start_time": "2022-08-17T12:20:25.925Z"
   },
   {
    "duration": 578,
    "start_time": "2022-08-17T12:20:26.105Z"
   },
   {
    "duration": 129,
    "start_time": "2022-08-17T12:20:26.687Z"
   },
   {
    "duration": 243,
    "start_time": "2022-08-17T12:20:26.818Z"
   },
   {
    "duration": 8,
    "start_time": "2022-08-17T12:20:27.062Z"
   },
   {
    "duration": 17,
    "start_time": "2022-08-17T12:20:27.072Z"
   },
   {
    "duration": 244,
    "start_time": "2022-08-17T12:20:27.098Z"
   },
   {
    "duration": 9,
    "start_time": "2022-08-17T12:20:27.343Z"
   },
   {
    "duration": 150,
    "start_time": "2022-08-17T12:20:27.354Z"
   },
   {
    "duration": 474,
    "start_time": "2022-08-17T12:20:27.505Z"
   },
   {
    "duration": 9,
    "start_time": "2022-08-17T12:20:27.981Z"
   },
   {
    "duration": 757,
    "start_time": "2022-08-17T12:20:27.994Z"
   },
   {
    "duration": 6,
    "start_time": "2022-08-17T12:20:28.752Z"
   },
   {
    "duration": 16,
    "start_time": "2022-08-17T12:20:28.760Z"
   },
   {
    "duration": 25,
    "start_time": "2022-08-17T12:20:28.777Z"
   },
   {
    "duration": 11,
    "start_time": "2022-08-17T12:20:28.803Z"
   },
   {
    "duration": 237,
    "start_time": "2022-08-17T12:20:28.815Z"
   },
   {
    "duration": 153,
    "start_time": "2022-08-17T12:20:29.053Z"
   },
   {
    "duration": 8,
    "start_time": "2022-08-17T12:20:29.208Z"
   },
   {
    "duration": 499,
    "start_time": "2022-08-17T12:20:29.218Z"
   },
   {
    "duration": 500,
    "start_time": "2022-08-17T12:20:29.719Z"
   },
   {
    "duration": 6,
    "start_time": "2022-08-17T12:20:30.222Z"
   },
   {
    "duration": 192,
    "start_time": "2022-08-17T12:20:30.230Z"
   },
   {
    "duration": 4,
    "start_time": "2022-08-17T12:20:30.424Z"
   },
   {
    "duration": 486,
    "start_time": "2022-08-17T12:20:30.430Z"
   },
   {
    "duration": 790,
    "start_time": "2022-08-17T12:20:30.919Z"
   },
   {
    "duration": 391,
    "start_time": "2022-08-17T12:20:31.711Z"
   },
   {
    "duration": 375,
    "start_time": "2022-08-17T12:20:32.104Z"
   },
   {
    "duration": 20,
    "start_time": "2022-08-17T12:20:32.481Z"
   },
   {
    "duration": 221,
    "start_time": "2022-08-17T12:20:32.503Z"
   },
   {
    "duration": 126,
    "start_time": "2022-08-17T12:20:32.726Z"
   },
   {
    "duration": 529,
    "start_time": "2022-08-17T12:20:32.854Z"
   },
   {
    "duration": 454,
    "start_time": "2022-08-17T12:20:33.387Z"
   },
   {
    "duration": 55,
    "start_time": "2022-08-17T12:20:33.846Z"
   },
   {
    "duration": 48,
    "start_time": "2022-08-17T12:20:33.903Z"
   },
   {
    "duration": 280,
    "start_time": "2022-08-17T12:20:33.953Z"
   },
   {
    "duration": 11,
    "start_time": "2022-08-17T12:20:34.235Z"
   },
   {
    "duration": 30,
    "start_time": "2022-08-17T12:20:34.248Z"
   },
   {
    "duration": 13,
    "start_time": "2022-08-17T12:20:34.290Z"
   },
   {
    "duration": 26,
    "start_time": "2022-08-17T12:20:34.304Z"
   },
   {
    "duration": 7,
    "start_time": "2022-08-17T12:20:34.332Z"
   },
   {
    "duration": 411,
    "start_time": "2022-08-17T12:20:34.341Z"
   },
   {
    "duration": 150,
    "start_time": "2022-08-17T12:20:34.754Z"
   },
   {
    "duration": 28,
    "start_time": "2022-08-17T12:21:00.980Z"
   },
   {
    "duration": 179,
    "start_time": "2022-08-17T12:26:40.113Z"
   },
   {
    "duration": 209,
    "start_time": "2022-08-17T12:27:16.567Z"
   },
   {
    "duration": 183,
    "start_time": "2022-08-17T12:28:09.860Z"
   },
   {
    "duration": 12,
    "start_time": "2022-08-17T12:29:22.528Z"
   },
   {
    "duration": 12,
    "start_time": "2022-08-17T12:29:32.699Z"
   },
   {
    "duration": 30215,
    "start_time": "2022-08-17T12:48:32.857Z"
   },
   {
    "duration": 3,
    "start_time": "2022-08-17T12:49:03.074Z"
   },
   {
    "duration": 106,
    "start_time": "2022-08-17T12:49:03.080Z"
   },
   {
    "duration": 23,
    "start_time": "2022-08-17T12:49:03.188Z"
   },
   {
    "duration": 15,
    "start_time": "2022-08-17T12:49:03.213Z"
   },
   {
    "duration": 27,
    "start_time": "2022-08-17T12:49:03.230Z"
   },
   {
    "duration": 3,
    "start_time": "2022-08-17T12:49:03.259Z"
   },
   {
    "duration": 42,
    "start_time": "2022-08-17T12:49:03.264Z"
   },
   {
    "duration": 19,
    "start_time": "2022-08-17T12:49:03.309Z"
   },
   {
    "duration": 18,
    "start_time": "2022-08-17T12:49:03.329Z"
   },
   {
    "duration": 59,
    "start_time": "2022-08-17T12:49:03.349Z"
   },
   {
    "duration": 6,
    "start_time": "2022-08-17T12:49:03.410Z"
   },
   {
    "duration": 246,
    "start_time": "2022-08-17T12:49:03.418Z"
   },
   {
    "duration": 29,
    "start_time": "2022-08-17T12:49:03.665Z"
   },
   {
    "duration": 33,
    "start_time": "2022-08-17T12:49:03.696Z"
   },
   {
    "duration": 15,
    "start_time": "2022-08-17T12:49:03.730Z"
   },
   {
    "duration": 15,
    "start_time": "2022-08-17T12:49:03.746Z"
   },
   {
    "duration": 10,
    "start_time": "2022-08-17T12:49:03.787Z"
   },
   {
    "duration": 45,
    "start_time": "2022-08-17T12:49:03.798Z"
   },
   {
    "duration": 17,
    "start_time": "2022-08-17T12:49:03.845Z"
   },
   {
    "duration": 27,
    "start_time": "2022-08-17T12:49:03.863Z"
   },
   {
    "duration": 157,
    "start_time": "2022-08-17T12:49:03.892Z"
   },
   {
    "duration": 3,
    "start_time": "2022-08-17T12:49:04.051Z"
   },
   {
    "duration": 39,
    "start_time": "2022-08-17T12:49:04.056Z"
   },
   {
    "duration": 60,
    "start_time": "2022-08-17T12:49:04.097Z"
   },
   {
    "duration": 30,
    "start_time": "2022-08-17T12:49:04.159Z"
   },
   {
    "duration": 22,
    "start_time": "2022-08-17T12:49:04.192Z"
   },
   {
    "duration": 34,
    "start_time": "2022-08-17T12:49:04.216Z"
   },
   {
    "duration": 12,
    "start_time": "2022-08-17T12:49:04.252Z"
   },
   {
    "duration": 40,
    "start_time": "2022-08-17T12:49:04.265Z"
   },
   {
    "duration": 18,
    "start_time": "2022-08-17T12:49:04.307Z"
   },
   {
    "duration": 3,
    "start_time": "2022-08-17T12:49:04.327Z"
   },
   {
    "duration": 31036,
    "start_time": "2022-08-17T12:49:49.492Z"
   },
   {
    "duration": 28,
    "start_time": "2022-08-17T12:50:20.535Z"
   },
   {
    "duration": 19,
    "start_time": "2022-08-17T12:50:20.565Z"
   },
   {
    "duration": 785,
    "start_time": "2022-08-17T12:55:00.689Z"
   },
   {
    "duration": 3,
    "start_time": "2022-08-17T12:55:08.116Z"
   },
   {
    "duration": 102,
    "start_time": "2022-08-17T12:55:08.142Z"
   },
   {
    "duration": 23,
    "start_time": "2022-08-17T12:55:08.246Z"
   },
   {
    "duration": 22,
    "start_time": "2022-08-17T12:55:08.270Z"
   },
   {
    "duration": 21,
    "start_time": "2022-08-17T12:55:08.294Z"
   },
   {
    "duration": 3,
    "start_time": "2022-08-17T12:55:08.317Z"
   },
   {
    "duration": 30,
    "start_time": "2022-08-17T12:55:08.321Z"
   },
   {
    "duration": 38,
    "start_time": "2022-08-17T12:55:08.353Z"
   },
   {
    "duration": 32,
    "start_time": "2022-08-17T12:55:08.393Z"
   },
   {
    "duration": 39,
    "start_time": "2022-08-17T12:55:08.427Z"
   },
   {
    "duration": 6,
    "start_time": "2022-08-17T12:55:08.467Z"
   },
   {
    "duration": 243,
    "start_time": "2022-08-17T12:55:08.487Z"
   },
   {
    "duration": 22,
    "start_time": "2022-08-17T12:55:08.732Z"
   },
   {
    "duration": 49,
    "start_time": "2022-08-17T12:55:08.756Z"
   },
   {
    "duration": 22,
    "start_time": "2022-08-17T12:55:08.807Z"
   },
   {
    "duration": 15,
    "start_time": "2022-08-17T12:55:08.830Z"
   },
   {
    "duration": 15,
    "start_time": "2022-08-17T12:55:08.847Z"
   },
   {
    "duration": 58,
    "start_time": "2022-08-17T12:55:08.863Z"
   },
   {
    "duration": 16,
    "start_time": "2022-08-17T12:55:08.923Z"
   },
   {
    "duration": 11,
    "start_time": "2022-08-17T12:55:08.942Z"
   },
   {
    "duration": 183,
    "start_time": "2022-08-17T12:55:08.957Z"
   },
   {
    "duration": 2,
    "start_time": "2022-08-17T12:55:09.142Z"
   },
   {
    "duration": 53,
    "start_time": "2022-08-17T12:55:09.146Z"
   },
   {
    "duration": 47,
    "start_time": "2022-08-17T12:55:09.200Z"
   },
   {
    "duration": 13,
    "start_time": "2022-08-17T12:55:09.248Z"
   },
   {
    "duration": 42,
    "start_time": "2022-08-17T12:55:09.263Z"
   },
   {
    "duration": 37,
    "start_time": "2022-08-17T12:55:09.307Z"
   },
   {
    "duration": 14,
    "start_time": "2022-08-17T12:55:09.346Z"
   },
   {
    "duration": 40,
    "start_time": "2022-08-17T12:55:09.362Z"
   },
   {
    "duration": 18,
    "start_time": "2022-08-17T12:55:09.404Z"
   },
   {
    "duration": 3,
    "start_time": "2022-08-17T12:55:09.424Z"
   },
   {
    "duration": 32000,
    "start_time": "2022-08-17T12:55:09.428Z"
   },
   {
    "duration": 14,
    "start_time": "2022-08-17T12:55:41.429Z"
   },
   {
    "duration": 28,
    "start_time": "2022-08-17T12:55:41.446Z"
   },
   {
    "duration": 31,
    "start_time": "2022-08-17T12:55:41.475Z"
   },
   {
    "duration": 15,
    "start_time": "2022-08-17T12:55:41.508Z"
   },
   {
    "duration": 8,
    "start_time": "2022-08-17T12:55:41.525Z"
   },
   {
    "duration": 245,
    "start_time": "2022-08-17T12:55:41.535Z"
   },
   {
    "duration": 8,
    "start_time": "2022-08-17T12:55:41.782Z"
   },
   {
    "duration": 236,
    "start_time": "2022-08-17T12:55:41.791Z"
   },
   {
    "duration": 11,
    "start_time": "2022-08-17T12:55:42.028Z"
   },
   {
    "duration": 151,
    "start_time": "2022-08-17T12:55:42.040Z"
   },
   {
    "duration": 452,
    "start_time": "2022-08-17T12:55:42.192Z"
   },
   {
    "duration": 129,
    "start_time": "2022-08-17T12:55:42.645Z"
   },
   {
    "duration": 239,
    "start_time": "2022-08-17T12:55:42.776Z"
   },
   {
    "duration": 9,
    "start_time": "2022-08-17T12:55:43.016Z"
   },
   {
    "duration": 6,
    "start_time": "2022-08-17T12:55:43.026Z"
   },
   {
    "duration": 249,
    "start_time": "2022-08-17T12:55:43.033Z"
   },
   {
    "duration": 10,
    "start_time": "2022-08-17T12:55:47.540Z"
   },
   {
    "duration": 439,
    "start_time": "2022-08-17T12:58:34.022Z"
   },
   {
    "duration": 647,
    "start_time": "2022-08-17T13:01:53.673Z"
   },
   {
    "duration": 265,
    "start_time": "2022-08-17T13:05:54.916Z"
   },
   {
    "duration": 12,
    "start_time": "2022-08-17T13:08:02.087Z"
   },
   {
    "duration": 263,
    "start_time": "2022-08-17T13:11:07.750Z"
   },
   {
    "duration": 9,
    "start_time": "2022-08-17T13:11:15.164Z"
   },
   {
    "duration": 23,
    "start_time": "2022-08-17T13:11:37.348Z"
   },
   {
    "duration": 8,
    "start_time": "2022-08-17T13:11:45.882Z"
   },
   {
    "duration": 35,
    "start_time": "2022-08-17T13:11:52.621Z"
   },
   {
    "duration": 8,
    "start_time": "2022-08-17T13:11:59.119Z"
   },
   {
    "duration": 12,
    "start_time": "2022-08-17T13:15:25.091Z"
   },
   {
    "duration": 13,
    "start_time": "2022-08-17T13:15:30.738Z"
   }
  ],
  "kernelspec": {
   "display_name": "Python 3 (ipykernel)",
   "language": "python",
   "name": "python3"
  },
  "language_info": {
   "codemirror_mode": {
    "name": "ipython",
    "version": 3
   },
   "file_extension": ".py",
   "mimetype": "text/x-python",
   "name": "python",
   "nbconvert_exporter": "python",
   "pygments_lexer": "ipython3",
   "version": "3.9.5"
  },
  "toc": {
   "base_numbering": 1,
   "nav_menu": {},
   "number_sections": true,
   "sideBar": true,
   "skip_h1_title": false,
   "title_cell": "Table of Contents",
   "title_sidebar": "Contents",
   "toc_cell": false,
   "toc_position": {
    "height": "calc(100% - 180px)",
    "left": "10px",
    "top": "150px",
    "width": "165px"
   },
   "toc_section_display": true,
   "toc_window_display": true
  }
 },
 "nbformat": 4,
 "nbformat_minor": 2
}
