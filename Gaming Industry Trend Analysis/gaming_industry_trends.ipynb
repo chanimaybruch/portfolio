{
 "cells": [
  {
   "cell_type": "markdown",
   "metadata": {},
   "source": [
    "# Project Goal\n",
    "\n",
    "The online store Ice, which sells video games all over the world, would like to understand user behavior for its game sales. Ice would like to identify patterns that determine whether a game succeeds or not. This will allow the company to spot potential big winners and plan advertising campaigns."
   ]
  },
  {
   "cell_type": "markdown",
   "metadata": {},
   "source": [
    "## Initializing Data\n",
    "\n",
    "Importing libraries and data"
   ]
  },
  {
   "cell_type": "code",
   "execution_count": 1,
   "metadata": {},
   "outputs": [],
   "source": [
    "import pandas as pd\n",
    "import numpy as np\n",
    "import matplotlib.pyplot as plt\n",
    "import seaborn as sns\n",
    "from scipy import stats"
   ]
  },
  {
   "cell_type": "code",
   "execution_count": 2,
   "metadata": {},
   "outputs": [],
   "source": [
    "data = pd.read_csv('games.csv')"
   ]
  },
  {
   "cell_type": "code",
   "execution_count": 3,
   "metadata": {},
   "outputs": [
    {
     "data": {
      "text/html": [
       "<div>\n",
       "<style scoped>\n",
       "    .dataframe tbody tr th:only-of-type {\n",
       "        vertical-align: middle;\n",
       "    }\n",
       "\n",
       "    .dataframe tbody tr th {\n",
       "        vertical-align: top;\n",
       "    }\n",
       "\n",
       "    .dataframe thead th {\n",
       "        text-align: right;\n",
       "    }\n",
       "</style>\n",
       "<table border=\"1\" class=\"dataframe\">\n",
       "  <thead>\n",
       "    <tr style=\"text-align: right;\">\n",
       "      <th></th>\n",
       "      <th>Name</th>\n",
       "      <th>Platform</th>\n",
       "      <th>Year_of_Release</th>\n",
       "      <th>Genre</th>\n",
       "      <th>NA_sales</th>\n",
       "      <th>EU_sales</th>\n",
       "      <th>JP_sales</th>\n",
       "      <th>Other_sales</th>\n",
       "      <th>Critic_Score</th>\n",
       "      <th>User_Score</th>\n",
       "      <th>Rating</th>\n",
       "    </tr>\n",
       "  </thead>\n",
       "  <tbody>\n",
       "    <tr>\n",
       "      <th>0</th>\n",
       "      <td>Wii Sports</td>\n",
       "      <td>Wii</td>\n",
       "      <td>2006.0</td>\n",
       "      <td>Sports</td>\n",
       "      <td>41.36</td>\n",
       "      <td>28.96</td>\n",
       "      <td>3.77</td>\n",
       "      <td>8.45</td>\n",
       "      <td>76.0</td>\n",
       "      <td>8</td>\n",
       "      <td>E</td>\n",
       "    </tr>\n",
       "    <tr>\n",
       "      <th>1</th>\n",
       "      <td>Super Mario Bros.</td>\n",
       "      <td>NES</td>\n",
       "      <td>1985.0</td>\n",
       "      <td>Platform</td>\n",
       "      <td>29.08</td>\n",
       "      <td>3.58</td>\n",
       "      <td>6.81</td>\n",
       "      <td>0.77</td>\n",
       "      <td>NaN</td>\n",
       "      <td>NaN</td>\n",
       "      <td>NaN</td>\n",
       "    </tr>\n",
       "    <tr>\n",
       "      <th>2</th>\n",
       "      <td>Mario Kart Wii</td>\n",
       "      <td>Wii</td>\n",
       "      <td>2008.0</td>\n",
       "      <td>Racing</td>\n",
       "      <td>15.68</td>\n",
       "      <td>12.76</td>\n",
       "      <td>3.79</td>\n",
       "      <td>3.29</td>\n",
       "      <td>82.0</td>\n",
       "      <td>8.3</td>\n",
       "      <td>E</td>\n",
       "    </tr>\n",
       "    <tr>\n",
       "      <th>3</th>\n",
       "      <td>Wii Sports Resort</td>\n",
       "      <td>Wii</td>\n",
       "      <td>2009.0</td>\n",
       "      <td>Sports</td>\n",
       "      <td>15.61</td>\n",
       "      <td>10.93</td>\n",
       "      <td>3.28</td>\n",
       "      <td>2.95</td>\n",
       "      <td>80.0</td>\n",
       "      <td>8</td>\n",
       "      <td>E</td>\n",
       "    </tr>\n",
       "    <tr>\n",
       "      <th>4</th>\n",
       "      <td>Pokemon Red/Pokemon Blue</td>\n",
       "      <td>GB</td>\n",
       "      <td>1996.0</td>\n",
       "      <td>Role-Playing</td>\n",
       "      <td>11.27</td>\n",
       "      <td>8.89</td>\n",
       "      <td>10.22</td>\n",
       "      <td>1.00</td>\n",
       "      <td>NaN</td>\n",
       "      <td>NaN</td>\n",
       "      <td>NaN</td>\n",
       "    </tr>\n",
       "  </tbody>\n",
       "</table>\n",
       "</div>"
      ],
      "text/plain": [
       "                       Name Platform  Year_of_Release         Genre  NA_sales  \\\n",
       "0                Wii Sports      Wii           2006.0        Sports     41.36   \n",
       "1         Super Mario Bros.      NES           1985.0      Platform     29.08   \n",
       "2            Mario Kart Wii      Wii           2008.0        Racing     15.68   \n",
       "3         Wii Sports Resort      Wii           2009.0        Sports     15.61   \n",
       "4  Pokemon Red/Pokemon Blue       GB           1996.0  Role-Playing     11.27   \n",
       "\n",
       "   EU_sales  JP_sales  Other_sales  Critic_Score User_Score Rating  \n",
       "0     28.96      3.77         8.45          76.0          8      E  \n",
       "1      3.58      6.81         0.77           NaN        NaN    NaN  \n",
       "2     12.76      3.79         3.29          82.0        8.3      E  \n",
       "3     10.93      3.28         2.95          80.0          8      E  \n",
       "4      8.89     10.22         1.00           NaN        NaN    NaN  "
      ]
     },
     "execution_count": 3,
     "metadata": {},
     "output_type": "execute_result"
    }
   ],
   "source": [
    "# Checking the dataframe\n",
    "data.head()"
   ]
  },
  {
   "cell_type": "markdown",
   "metadata": {},
   "source": [
    "## Data Description"
   ]
  },
  {
   "cell_type": "code",
   "execution_count": 4,
   "metadata": {},
   "outputs": [
    {
     "name": "stdout",
     "output_type": "stream",
     "text": [
      "<class 'pandas.core.frame.DataFrame'>\n",
      "RangeIndex: 16715 entries, 0 to 16714\n",
      "Data columns (total 11 columns):\n",
      " #   Column           Non-Null Count  Dtype  \n",
      "---  ------           --------------  -----  \n",
      " 0   Name             16713 non-null  object \n",
      " 1   Platform         16715 non-null  object \n",
      " 2   Year_of_Release  16446 non-null  float64\n",
      " 3   Genre            16713 non-null  object \n",
      " 4   NA_sales         16715 non-null  float64\n",
      " 5   EU_sales         16715 non-null  float64\n",
      " 6   JP_sales         16715 non-null  float64\n",
      " 7   Other_sales      16715 non-null  float64\n",
      " 8   Critic_Score     8137 non-null   float64\n",
      " 9   User_Score       10014 non-null  object \n",
      " 10  Rating           9949 non-null   object \n",
      "dtypes: float64(6), object(5)\n",
      "memory usage: 1.4+ MB\n"
     ]
    }
   ],
   "source": [
    "# Reviewing general info on dataframe\n",
    "data.info()"
   ]
  },
  {
   "cell_type": "markdown",
   "metadata": {},
   "source": [
    "The dataframe contains 16715 rows and 11 columns including:\n",
    "\n",
    " - Name\n",
    " - Platform\n",
    " - Year_of_Release\n",
    " - Genre\n",
    " - NA_sales (North American sales in USD million)\n",
    " - EU_sales (sales in Europe in USD million)\n",
    " - JP_sales (sales in Japan in USD million)\n",
    " - Other_sales (sales in other countries in USD million)\n",
    " - Critic_Score (maximum of 100)\n",
    " - User_Score (maximum of 10)\n",
    " - Rating (ESRB) The Entertainment Software Rating Board evaluates a game's content and assigns an age rating such as Teen or Mature."
   ]
  },
  {
   "cell_type": "code",
   "execution_count": 5,
   "metadata": {},
   "outputs": [
    {
     "data": {
      "text/plain": [
       "Name               0.000120\n",
       "Platform           0.000000\n",
       "Year_of_Release    0.016093\n",
       "Genre              0.000120\n",
       "NA_sales           0.000000\n",
       "EU_sales           0.000000\n",
       "JP_sales           0.000000\n",
       "Other_sales        0.000000\n",
       "Critic_Score       0.513192\n",
       "User_Score         0.400897\n",
       "Rating             0.404786\n",
       "dtype: float64"
      ]
     },
     "execution_count": 5,
     "metadata": {},
     "output_type": "execute_result"
    }
   ],
   "source": [
    "# Checking the percentages of missing values\n",
    "data.isnull().sum()/len(data)"
   ]
  },
  {
   "cell_type": "markdown",
   "metadata": {},
   "source": [
    "# Data Preprocessing\n",
    "\n",
    "At first glance, the dataframe has several issues:\n",
    "\n",
    "The column names need to be converted to lowercase.\n",
    "\n",
    "There are several columns with missing values: 'year_of_release' has 1.6%, 'name' has .012%, 'genre' has .012%, 'critic_score' has 51%, 'user_score' has 40%, and 'rating' has 40% missing values. \n",
    "\n",
    "These missing values may result from an error in the data collection such as a technical error or a processing error. For example, some of the data may have not been filled in properly.\n",
    "\n",
    "We will need to decide how to handle these missing values as we prepare the data. \n",
    "\n",
    "Since the percentage of rows with missing values in 'year_of_release', 'name' and 'genre' is relatively low, we will drop their rows with missing values. On the other hand, since the number of rows with missing values in 'critic_score', 'user_score', and 'rating' is so significant, we will keep these rows and leave the missing values as is.\n",
    "\n",
    "The 'year_of_release' needs to be converted from a float to an integer type. The 'user_score' needs to be changed from an object type to a float for future calculations."
   ]
  },
  {
   "cell_type": "code",
   "execution_count": 6,
   "metadata": {},
   "outputs": [
    {
     "data": {
      "text/html": [
       "<div>\n",
       "<style scoped>\n",
       "    .dataframe tbody tr th:only-of-type {\n",
       "        vertical-align: middle;\n",
       "    }\n",
       "\n",
       "    .dataframe tbody tr th {\n",
       "        vertical-align: top;\n",
       "    }\n",
       "\n",
       "    .dataframe thead th {\n",
       "        text-align: right;\n",
       "    }\n",
       "</style>\n",
       "<table border=\"1\" class=\"dataframe\">\n",
       "  <thead>\n",
       "    <tr style=\"text-align: right;\">\n",
       "      <th></th>\n",
       "      <th>name</th>\n",
       "      <th>platform</th>\n",
       "      <th>year_of_release</th>\n",
       "      <th>genre</th>\n",
       "      <th>na_sales</th>\n",
       "      <th>eu_sales</th>\n",
       "      <th>jp_sales</th>\n",
       "      <th>other_sales</th>\n",
       "      <th>critic_score</th>\n",
       "      <th>user_score</th>\n",
       "      <th>rating</th>\n",
       "    </tr>\n",
       "  </thead>\n",
       "  <tbody>\n",
       "    <tr>\n",
       "      <th>0</th>\n",
       "      <td>Wii Sports</td>\n",
       "      <td>Wii</td>\n",
       "      <td>2006.0</td>\n",
       "      <td>Sports</td>\n",
       "      <td>41.36</td>\n",
       "      <td>28.96</td>\n",
       "      <td>3.77</td>\n",
       "      <td>8.45</td>\n",
       "      <td>76.0</td>\n",
       "      <td>8</td>\n",
       "      <td>E</td>\n",
       "    </tr>\n",
       "    <tr>\n",
       "      <th>1</th>\n",
       "      <td>Super Mario Bros.</td>\n",
       "      <td>NES</td>\n",
       "      <td>1985.0</td>\n",
       "      <td>Platform</td>\n",
       "      <td>29.08</td>\n",
       "      <td>3.58</td>\n",
       "      <td>6.81</td>\n",
       "      <td>0.77</td>\n",
       "      <td>NaN</td>\n",
       "      <td>NaN</td>\n",
       "      <td>NaN</td>\n",
       "    </tr>\n",
       "    <tr>\n",
       "      <th>2</th>\n",
       "      <td>Mario Kart Wii</td>\n",
       "      <td>Wii</td>\n",
       "      <td>2008.0</td>\n",
       "      <td>Racing</td>\n",
       "      <td>15.68</td>\n",
       "      <td>12.76</td>\n",
       "      <td>3.79</td>\n",
       "      <td>3.29</td>\n",
       "      <td>82.0</td>\n",
       "      <td>8.3</td>\n",
       "      <td>E</td>\n",
       "    </tr>\n",
       "    <tr>\n",
       "      <th>3</th>\n",
       "      <td>Wii Sports Resort</td>\n",
       "      <td>Wii</td>\n",
       "      <td>2009.0</td>\n",
       "      <td>Sports</td>\n",
       "      <td>15.61</td>\n",
       "      <td>10.93</td>\n",
       "      <td>3.28</td>\n",
       "      <td>2.95</td>\n",
       "      <td>80.0</td>\n",
       "      <td>8</td>\n",
       "      <td>E</td>\n",
       "    </tr>\n",
       "    <tr>\n",
       "      <th>4</th>\n",
       "      <td>Pokemon Red/Pokemon Blue</td>\n",
       "      <td>GB</td>\n",
       "      <td>1996.0</td>\n",
       "      <td>Role-Playing</td>\n",
       "      <td>11.27</td>\n",
       "      <td>8.89</td>\n",
       "      <td>10.22</td>\n",
       "      <td>1.00</td>\n",
       "      <td>NaN</td>\n",
       "      <td>NaN</td>\n",
       "      <td>NaN</td>\n",
       "    </tr>\n",
       "  </tbody>\n",
       "</table>\n",
       "</div>"
      ],
      "text/plain": [
       "                       name platform  year_of_release         genre  na_sales  \\\n",
       "0                Wii Sports      Wii           2006.0        Sports     41.36   \n",
       "1         Super Mario Bros.      NES           1985.0      Platform     29.08   \n",
       "2            Mario Kart Wii      Wii           2008.0        Racing     15.68   \n",
       "3         Wii Sports Resort      Wii           2009.0        Sports     15.61   \n",
       "4  Pokemon Red/Pokemon Blue       GB           1996.0  Role-Playing     11.27   \n",
       "\n",
       "   eu_sales  jp_sales  other_sales  critic_score user_score rating  \n",
       "0     28.96      3.77         8.45          76.0          8      E  \n",
       "1      3.58      6.81         0.77           NaN        NaN    NaN  \n",
       "2     12.76      3.79         3.29          82.0        8.3      E  \n",
       "3     10.93      3.28         2.95          80.0          8      E  \n",
       "4      8.89     10.22         1.00           NaN        NaN    NaN  "
      ]
     },
     "execution_count": 6,
     "metadata": {},
     "output_type": "execute_result"
    }
   ],
   "source": [
    "# Changing column names to lower case\n",
    "data.columns= data.columns.str.lower()\n",
    "data.head()"
   ]
  },
  {
   "cell_type": "code",
   "execution_count": 7,
   "metadata": {
    "scrolled": true
   },
   "outputs": [
    {
     "name": "stdout",
     "output_type": "stream",
     "text": [
      "<class 'pandas.core.frame.DataFrame'>\n",
      "Int64Index: 16444 entries, 0 to 16714\n",
      "Data columns (total 11 columns):\n",
      " #   Column           Non-Null Count  Dtype  \n",
      "---  ------           --------------  -----  \n",
      " 0   name             16444 non-null  object \n",
      " 1   platform         16444 non-null  object \n",
      " 2   year_of_release  16444 non-null  float64\n",
      " 3   genre            16444 non-null  object \n",
      " 4   na_sales         16444 non-null  float64\n",
      " 5   eu_sales         16444 non-null  float64\n",
      " 6   jp_sales         16444 non-null  float64\n",
      " 7   other_sales      16444 non-null  float64\n",
      " 8   critic_score     7983 non-null   float64\n",
      " 9   user_score       9839 non-null   object \n",
      " 10  rating           9768 non-null   object \n",
      "dtypes: float64(6), object(5)\n",
      "memory usage: 1.5+ MB\n"
     ]
    }
   ],
   "source": [
    "# Dropping rows with NaN values in 'year_of_release', 'name', and 'genre'\n",
    "\n",
    "# Drop rows which contain any NaN value in the selected columns\n",
    "data = data.dropna(subset=['year_of_release', 'name', 'genre'])\n",
    "data.info()"
   ]
  },
  {
   "cell_type": "markdown",
   "metadata": {},
   "source": [
    "After dropping rows with NaN values, the dataframe was reduced by 1.6% to 16444 rows."
   ]
  },
  {
   "cell_type": "code",
   "execution_count": 8,
   "metadata": {
    "scrolled": true
   },
   "outputs": [
    {
     "data": {
      "text/html": [
       "<div>\n",
       "<style scoped>\n",
       "    .dataframe tbody tr th:only-of-type {\n",
       "        vertical-align: middle;\n",
       "    }\n",
       "\n",
       "    .dataframe tbody tr th {\n",
       "        vertical-align: top;\n",
       "    }\n",
       "\n",
       "    .dataframe thead th {\n",
       "        text-align: right;\n",
       "    }\n",
       "</style>\n",
       "<table border=\"1\" class=\"dataframe\">\n",
       "  <thead>\n",
       "    <tr style=\"text-align: right;\">\n",
       "      <th></th>\n",
       "      <th>name</th>\n",
       "      <th>platform</th>\n",
       "      <th>year_of_release</th>\n",
       "      <th>genre</th>\n",
       "      <th>na_sales</th>\n",
       "      <th>eu_sales</th>\n",
       "      <th>jp_sales</th>\n",
       "      <th>other_sales</th>\n",
       "      <th>critic_score</th>\n",
       "      <th>user_score</th>\n",
       "      <th>rating</th>\n",
       "    </tr>\n",
       "  </thead>\n",
       "  <tbody>\n",
       "    <tr>\n",
       "      <th>0</th>\n",
       "      <td>Wii Sports</td>\n",
       "      <td>Wii</td>\n",
       "      <td>2006</td>\n",
       "      <td>Sports</td>\n",
       "      <td>41.36</td>\n",
       "      <td>28.96</td>\n",
       "      <td>3.77</td>\n",
       "      <td>8.45</td>\n",
       "      <td>76.0</td>\n",
       "      <td>8</td>\n",
       "      <td>E</td>\n",
       "    </tr>\n",
       "    <tr>\n",
       "      <th>1</th>\n",
       "      <td>Super Mario Bros.</td>\n",
       "      <td>NES</td>\n",
       "      <td>1985</td>\n",
       "      <td>Platform</td>\n",
       "      <td>29.08</td>\n",
       "      <td>3.58</td>\n",
       "      <td>6.81</td>\n",
       "      <td>0.77</td>\n",
       "      <td>NaN</td>\n",
       "      <td>NaN</td>\n",
       "      <td>NaN</td>\n",
       "    </tr>\n",
       "    <tr>\n",
       "      <th>2</th>\n",
       "      <td>Mario Kart Wii</td>\n",
       "      <td>Wii</td>\n",
       "      <td>2008</td>\n",
       "      <td>Racing</td>\n",
       "      <td>15.68</td>\n",
       "      <td>12.76</td>\n",
       "      <td>3.79</td>\n",
       "      <td>3.29</td>\n",
       "      <td>82.0</td>\n",
       "      <td>8.3</td>\n",
       "      <td>E</td>\n",
       "    </tr>\n",
       "    <tr>\n",
       "      <th>3</th>\n",
       "      <td>Wii Sports Resort</td>\n",
       "      <td>Wii</td>\n",
       "      <td>2009</td>\n",
       "      <td>Sports</td>\n",
       "      <td>15.61</td>\n",
       "      <td>10.93</td>\n",
       "      <td>3.28</td>\n",
       "      <td>2.95</td>\n",
       "      <td>80.0</td>\n",
       "      <td>8</td>\n",
       "      <td>E</td>\n",
       "    </tr>\n",
       "    <tr>\n",
       "      <th>4</th>\n",
       "      <td>Pokemon Red/Pokemon Blue</td>\n",
       "      <td>GB</td>\n",
       "      <td>1996</td>\n",
       "      <td>Role-Playing</td>\n",
       "      <td>11.27</td>\n",
       "      <td>8.89</td>\n",
       "      <td>10.22</td>\n",
       "      <td>1.00</td>\n",
       "      <td>NaN</td>\n",
       "      <td>NaN</td>\n",
       "      <td>NaN</td>\n",
       "    </tr>\n",
       "  </tbody>\n",
       "</table>\n",
       "</div>"
      ],
      "text/plain": [
       "                       name platform  year_of_release         genre  na_sales  \\\n",
       "0                Wii Sports      Wii             2006        Sports     41.36   \n",
       "1         Super Mario Bros.      NES             1985      Platform     29.08   \n",
       "2            Mario Kart Wii      Wii             2008        Racing     15.68   \n",
       "3         Wii Sports Resort      Wii             2009        Sports     15.61   \n",
       "4  Pokemon Red/Pokemon Blue       GB             1996  Role-Playing     11.27   \n",
       "\n",
       "   eu_sales  jp_sales  other_sales  critic_score user_score rating  \n",
       "0     28.96      3.77         8.45          76.0          8      E  \n",
       "1      3.58      6.81         0.77           NaN        NaN    NaN  \n",
       "2     12.76      3.79         3.29          82.0        8.3      E  \n",
       "3     10.93      3.28         2.95          80.0          8      E  \n",
       "4      8.89     10.22         1.00           NaN        NaN    NaN  "
      ]
     },
     "execution_count": 8,
     "metadata": {},
     "output_type": "execute_result"
    }
   ],
   "source": [
    "# Converting 'year_of_release' to an integer\n",
    "data['year_of_release'] = data['year_of_release'].astype(int)\n",
    "data.head()"
   ]
  },
  {
   "cell_type": "markdown",
   "metadata": {},
   "source": [
    "When trying to convert 'user_score' to a float type, we found a string 'tbd' in the column. Let's check unique values in 'user_score'."
   ]
  },
  {
   "cell_type": "code",
   "execution_count": 9,
   "metadata": {},
   "outputs": [
    {
     "data": {
      "text/plain": [
       "array(['8', nan, '8.3', '8.5', '6.6', '8.4', '8.6', '7.7', '6.3', '7.4',\n",
       "       '8.2', '9', '7.9', '8.1', '8.7', '7.1', '3.4', '5.3', '4.8', '3.2',\n",
       "       '8.9', '6.4', '7.8', '7.5', '2.6', '7.2', '9.2', '7', '7.3', '4.3',\n",
       "       '7.6', '5.7', '5', '9.1', '6.5', 'tbd', '8.8', '6.9', '9.4', '6.8',\n",
       "       '6.1', '6.7', '5.4', '4', '4.9', '4.5', '9.3', '6.2', '4.2', '6',\n",
       "       '3.7', '4.1', '5.8', '5.6', '5.5', '4.4', '4.6', '5.9', '3.9',\n",
       "       '3.1', '2.9', '5.2', '3.3', '4.7', '5.1', '3.5', '2.5', '1.9', '3',\n",
       "       '2.7', '2.2', '2', '9.5', '2.1', '3.6', '2.8', '1.8', '3.8', '0',\n",
       "       '1.6', '9.6', '2.4', '1.7', '1.1', '0.3', '1.5', '0.7', '1.2',\n",
       "       '2.3', '0.5', '1.3', '0.2', '0.6', '1.4', '0.9', '1', '9.7'],\n",
       "      dtype=object)"
      ]
     },
     "execution_count": 9,
     "metadata": {},
     "output_type": "execute_result"
    }
   ],
   "source": [
    "# Checking values in 'user_score'\n",
    "\n",
    "data['user_score'].unique()"
   ]
  },
  {
   "cell_type": "markdown",
   "metadata": {},
   "source": [
    "There are NaN values and a string value 'tbd' in 'user_score'. It is unclear why the column contains both NaN values and 'tbd' values. We presume that 'tbd' stands for 'to be determined' which essentially is the same as a missing value. Maybe there were two different methods for data collection and one offered 'tbd' as an option. Before we can convert this column to a float type, we need to replace the 'tbd' with a NaN value. "
   ]
  },
  {
   "cell_type": "markdown",
   "metadata": {},
   "source": [
    "Let's replace 'tbd' with NaN and convert 'user_score' to a float in one step."
   ]
  },
  {
   "cell_type": "code",
   "execution_count": 10,
   "metadata": {},
   "outputs": [
    {
     "name": "stdout",
     "output_type": "stream",
     "text": [
      "<class 'pandas.core.frame.DataFrame'>\n",
      "Int64Index: 16444 entries, 0 to 16714\n",
      "Data columns (total 11 columns):\n",
      " #   Column           Non-Null Count  Dtype  \n",
      "---  ------           --------------  -----  \n",
      " 0   name             16444 non-null  object \n",
      " 1   platform         16444 non-null  object \n",
      " 2   year_of_release  16444 non-null  int32  \n",
      " 3   genre            16444 non-null  object \n",
      " 4   na_sales         16444 non-null  float64\n",
      " 5   eu_sales         16444 non-null  float64\n",
      " 6   jp_sales         16444 non-null  float64\n",
      " 7   other_sales      16444 non-null  float64\n",
      " 8   critic_score     7983 non-null   float64\n",
      " 9   user_score       7463 non-null   float64\n",
      " 10  rating           9768 non-null   object \n",
      "dtypes: float64(6), int32(1), object(4)\n",
      "memory usage: 1.4+ MB\n"
     ]
    }
   ],
   "source": [
    "# Replacing 'tbd' with nan and converting 'user_score' to a float\n",
    "\n",
    "data['user_score'] = pd.to_numeric(data['user_score'], errors='coerce')\n",
    "data.info()"
   ]
  },
  {
   "cell_type": "code",
   "execution_count": 11,
   "metadata": {},
   "outputs": [
    {
     "data": {
      "text/plain": [
       "0.5461566528825104"
      ]
     },
     "execution_count": 11,
     "metadata": {},
     "output_type": "execute_result"
    }
   ],
   "source": [
    "# Rechecking percentage of NaN values in 'user_score'\n",
    "data['user_score'].isnull().sum()/len(data)"
   ]
  },
  {
   "cell_type": "markdown",
   "metadata": {},
   "source": [
    "The number of missing values in 'user_score' jumped from 40% to 54% after converting 'tbd' to NaN values.\n",
    "There is a significant number of missing values in 'user_score' (55%), 'critic_score' (51%), and rating (40%).\n",
    "\n",
    "The missing values may have been the result of users not filling in a value or due to a technical error.\n",
    "Yet, there is no clear method we can use to accurately fill them. Let's leave these missing values as is."
   ]
  },
  {
   "cell_type": "markdown",
   "metadata": {},
   "source": [
    "## Enriching the Data"
   ]
  },
  {
   "cell_type": "markdown",
   "metadata": {},
   "source": [
    "We will create a column calculating the total sales for future analysis."
   ]
  },
  {
   "cell_type": "code",
   "execution_count": 12,
   "metadata": {},
   "outputs": [
    {
     "data": {
      "text/html": [
       "<div>\n",
       "<style scoped>\n",
       "    .dataframe tbody tr th:only-of-type {\n",
       "        vertical-align: middle;\n",
       "    }\n",
       "\n",
       "    .dataframe tbody tr th {\n",
       "        vertical-align: top;\n",
       "    }\n",
       "\n",
       "    .dataframe thead th {\n",
       "        text-align: right;\n",
       "    }\n",
       "</style>\n",
       "<table border=\"1\" class=\"dataframe\">\n",
       "  <thead>\n",
       "    <tr style=\"text-align: right;\">\n",
       "      <th></th>\n",
       "      <th>name</th>\n",
       "      <th>platform</th>\n",
       "      <th>year_of_release</th>\n",
       "      <th>genre</th>\n",
       "      <th>na_sales</th>\n",
       "      <th>eu_sales</th>\n",
       "      <th>jp_sales</th>\n",
       "      <th>other_sales</th>\n",
       "      <th>critic_score</th>\n",
       "      <th>user_score</th>\n",
       "      <th>rating</th>\n",
       "      <th>total_sales</th>\n",
       "    </tr>\n",
       "  </thead>\n",
       "  <tbody>\n",
       "    <tr>\n",
       "      <th>0</th>\n",
       "      <td>Wii Sports</td>\n",
       "      <td>Wii</td>\n",
       "      <td>2006</td>\n",
       "      <td>Sports</td>\n",
       "      <td>41.36</td>\n",
       "      <td>28.96</td>\n",
       "      <td>3.77</td>\n",
       "      <td>8.45</td>\n",
       "      <td>76.0</td>\n",
       "      <td>8.0</td>\n",
       "      <td>E</td>\n",
       "      <td>82.54</td>\n",
       "    </tr>\n",
       "    <tr>\n",
       "      <th>1</th>\n",
       "      <td>Super Mario Bros.</td>\n",
       "      <td>NES</td>\n",
       "      <td>1985</td>\n",
       "      <td>Platform</td>\n",
       "      <td>29.08</td>\n",
       "      <td>3.58</td>\n",
       "      <td>6.81</td>\n",
       "      <td>0.77</td>\n",
       "      <td>NaN</td>\n",
       "      <td>NaN</td>\n",
       "      <td>NaN</td>\n",
       "      <td>40.24</td>\n",
       "    </tr>\n",
       "    <tr>\n",
       "      <th>2</th>\n",
       "      <td>Mario Kart Wii</td>\n",
       "      <td>Wii</td>\n",
       "      <td>2008</td>\n",
       "      <td>Racing</td>\n",
       "      <td>15.68</td>\n",
       "      <td>12.76</td>\n",
       "      <td>3.79</td>\n",
       "      <td>3.29</td>\n",
       "      <td>82.0</td>\n",
       "      <td>8.3</td>\n",
       "      <td>E</td>\n",
       "      <td>35.52</td>\n",
       "    </tr>\n",
       "    <tr>\n",
       "      <th>3</th>\n",
       "      <td>Wii Sports Resort</td>\n",
       "      <td>Wii</td>\n",
       "      <td>2009</td>\n",
       "      <td>Sports</td>\n",
       "      <td>15.61</td>\n",
       "      <td>10.93</td>\n",
       "      <td>3.28</td>\n",
       "      <td>2.95</td>\n",
       "      <td>80.0</td>\n",
       "      <td>8.0</td>\n",
       "      <td>E</td>\n",
       "      <td>32.77</td>\n",
       "    </tr>\n",
       "    <tr>\n",
       "      <th>4</th>\n",
       "      <td>Pokemon Red/Pokemon Blue</td>\n",
       "      <td>GB</td>\n",
       "      <td>1996</td>\n",
       "      <td>Role-Playing</td>\n",
       "      <td>11.27</td>\n",
       "      <td>8.89</td>\n",
       "      <td>10.22</td>\n",
       "      <td>1.00</td>\n",
       "      <td>NaN</td>\n",
       "      <td>NaN</td>\n",
       "      <td>NaN</td>\n",
       "      <td>31.38</td>\n",
       "    </tr>\n",
       "  </tbody>\n",
       "</table>\n",
       "</div>"
      ],
      "text/plain": [
       "                       name platform  year_of_release         genre  na_sales  \\\n",
       "0                Wii Sports      Wii             2006        Sports     41.36   \n",
       "1         Super Mario Bros.      NES             1985      Platform     29.08   \n",
       "2            Mario Kart Wii      Wii             2008        Racing     15.68   \n",
       "3         Wii Sports Resort      Wii             2009        Sports     15.61   \n",
       "4  Pokemon Red/Pokemon Blue       GB             1996  Role-Playing     11.27   \n",
       "\n",
       "   eu_sales  jp_sales  other_sales  critic_score  user_score rating  \\\n",
       "0     28.96      3.77         8.45          76.0         8.0      E   \n",
       "1      3.58      6.81         0.77           NaN         NaN    NaN   \n",
       "2     12.76      3.79         3.29          82.0         8.3      E   \n",
       "3     10.93      3.28         2.95          80.0         8.0      E   \n",
       "4      8.89     10.22         1.00           NaN         NaN    NaN   \n",
       "\n",
       "   total_sales  \n",
       "0        82.54  \n",
       "1        40.24  \n",
       "2        35.52  \n",
       "3        32.77  \n",
       "4        31.38  "
      ]
     },
     "execution_count": 12,
     "metadata": {},
     "output_type": "execute_result"
    }
   ],
   "source": [
    "data['total_sales'] = data['na_sales'] + data['eu_sales'] + data['jp_sales'] + data['other_sales']\n",
    "data.head()"
   ]
  },
  {
   "cell_type": "markdown",
   "metadata": {},
   "source": [
    "# Exploratory Data Analysis <a class=\"anchor\" id=\"chapter2\"></a>\n",
    "We need to collect data that will help us make a prognosis for what sales will be like in 2017. So let's identify the pattern of games released across the years.\n",
    "\n",
    "## Years Released   <a class=\"anchor\" id=\"section_2_1\"></a>"
   ]
  },
  {
   "cell_type": "markdown",
   "metadata": {},
   "source": [
    "Let's look at how many games were released in different years. We will create a function to plot histograms and apply it to 'year_of_release'."
   ]
  },
  {
   "cell_type": "code",
   "execution_count": 15,
   "metadata": {},
   "outputs": [],
   "source": [
    "# Creating a function to plot histograms\n",
    " \n",
    "def hist_plot(data, column):\n",
    "        fig, ax = plt.subplots(1, 1)\n",
    "        ax.hist(data[column], bins=100)\n",
    "        ax.set_title(column)\n",
    "        ax.set_xlabel(column)\n",
    "        ax.set_ylabel('frequency')\n",
    "        plt.show()"
   ]
  },
  {
   "cell_type": "code",
   "execution_count": 16,
   "metadata": {},
   "outputs": [
    {
     "data": {
      "image/png": "[encoded data removed]",
      "text/plain": [
       "<Figure size 432x288 with 1 Axes>"
      ]
     },
     "metadata": {
      "needs_background": "light"
     },
     "output_type": "display_data"
    }
   ],
   "source": [
    "# Plotting the distribution of 'year_of_release'\n",
    "hist_plot(data, 'year_of_release')"
   ]
  },
  {
   "cell_type": "markdown",
   "metadata": {},
   "source": [
    "The data ranges from years 1980-2016. The years ranging from 1980-1993 have less than 100 games released. Starting from 1994 and on, the number of games released per year increased from over 100 to a peak in 2008-2009 at around 1400. After 2009, the number of games released per year declined, yet it was still around 500 games per year across platforms. "
   ]
  },
  {
   "cell_type": "markdown",
   "metadata": {},
   "source": [
    "## Platforms <a class=\"anchor\" id=\"section_2_2\"></a>\n",
    "\n",
    "Let's explore the data based on different platforms. There are many rows of data so we will set the display limit to 240 so we can see all of the rows based on the platform and year of release."
   ]
  },
  {
   "cell_type": "code",
   "execution_count": 17,
   "metadata": {},
   "outputs": [],
   "source": [
    "pd.set_option('display.max_rows', 240)"
   ]
  },
  {
   "cell_type": "code",
   "execution_count": 18,
   "metadata": {},
   "outputs": [
    {
     "data": {
      "text/html": [
       "<div>\n",
       "<style scoped>\n",
       "    .dataframe tbody tr th:only-of-type {\n",
       "        vertical-align: middle;\n",
       "    }\n",
       "\n",
       "    .dataframe tbody tr th {\n",
       "        vertical-align: top;\n",
       "    }\n",
       "\n",
       "    .dataframe thead th {\n",
       "        text-align: right;\n",
       "    }\n",
       "</style>\n",
       "<table border=\"1\" class=\"dataframe\">\n",
       "  <thead>\n",
       "    <tr style=\"text-align: right;\">\n",
       "      <th></th>\n",
       "      <th></th>\n",
       "      <th>na_sales</th>\n",
       "      <th>eu_sales</th>\n",
       "      <th>jp_sales</th>\n",
       "      <th>other_sales</th>\n",
       "      <th>critic_score</th>\n",
       "      <th>user_score</th>\n",
       "      <th>total_sales</th>\n",
       "    </tr>\n",
       "    <tr>\n",
       "      <th>platform</th>\n",
       "      <th>year_of_release</th>\n",
       "      <th></th>\n",
       "      <th></th>\n",
       "      <th></th>\n",
       "      <th></th>\n",
       "      <th></th>\n",
       "      <th></th>\n",
       "      <th></th>\n",
       "    </tr>\n",
       "  </thead>\n",
       "  <tbody>\n",
       "    <tr>\n",
       "      <th rowspan=\"10\" valign=\"top\">2600</th>\n",
       "      <th>1980</th>\n",
       "      <td>10.59</td>\n",
       "      <td>0.67</td>\n",
       "      <td>0.00</td>\n",
       "      <td>0.12</td>\n",
       "      <td>0.0</td>\n",
       "      <td>0.0</td>\n",
       "      <td>11.38</td>\n",
       "    </tr>\n",
       "    <tr>\n",
       "      <th>1981</th>\n",
       "      <td>33.40</td>\n",
       "      <td>1.96</td>\n",
       "      <td>0.00</td>\n",
       "      <td>0.32</td>\n",
       "      <td>0.0</td>\n",
       "      <td>0.0</td>\n",
       "      <td>35.68</td>\n",
       "    </tr>\n",
       "    <tr>\n",
       "      <th>1982</th>\n",
       "      <td>26.92</td>\n",
       "      <td>1.65</td>\n",
       "      <td>0.00</td>\n",
       "      <td>0.31</td>\n",
       "      <td>0.0</td>\n",
       "      <td>0.0</td>\n",
       "      <td>28.88</td>\n",
       "    </tr>\n",
       "    <tr>\n",
       "      <th>1983</th>\n",
       "      <td>5.44</td>\n",
       "      <td>0.34</td>\n",
       "      <td>0.00</td>\n",
       "      <td>0.06</td>\n",
       "      <td>0.0</td>\n",
       "      <td>0.0</td>\n",
       "      <td>5.84</td>\n",
       "    </tr>\n",
       "    <tr>\n",
       "      <th>1984</th>\n",
       "      <td>0.26</td>\n",
       "      <td>0.01</td>\n",
       "      <td>0.00</td>\n",
       "      <td>0.00</td>\n",
       "      <td>0.0</td>\n",
       "      <td>0.0</td>\n",
       "      <td>0.27</td>\n",
       "    </tr>\n",
       "    <tr>\n",
       "      <th>1985</th>\n",
       "      <td>0.42</td>\n",
       "      <td>0.03</td>\n",
       "      <td>0.00</td>\n",
       "      <td>0.00</td>\n",
       "      <td>0.0</td>\n",
       "      <td>0.0</td>\n",
       "      <td>0.45</td>\n",
       "    </tr>\n",
       "    <tr>\n",
       "      <th>1986</th>\n",
       "      <td>0.63</td>\n",
       "      <td>0.04</td>\n",
       "      <td>0.00</td>\n",
       "      <td>0.00</td>\n",
       "      <td>0.0</td>\n",
       "      <td>0.0</td>\n",
       "      <td>0.67</td>\n",
       "    </tr>\n",
       "    <tr>\n",
       "      <th>1987</th>\n",
       "      <td>1.84</td>\n",
       "      <td>0.09</td>\n",
       "      <td>0.00</td>\n",
       "      <td>0.01</td>\n",
       "      <td>0.0</td>\n",
       "      <td>0.0</td>\n",
       "      <td>1.94</td>\n",
       "    </tr>\n",
       "    <tr>\n",
       "      <th>1988</th>\n",
       "      <td>0.69</td>\n",
       "      <td>0.04</td>\n",
       "      <td>0.00</td>\n",
       "      <td>0.01</td>\n",
       "      <td>0.0</td>\n",
       "      <td>0.0</td>\n",
       "      <td>0.74</td>\n",
       "    </tr>\n",
       "    <tr>\n",
       "      <th>1989</th>\n",
       "      <td>0.59</td>\n",
       "      <td>0.03</td>\n",
       "      <td>0.00</td>\n",
       "      <td>0.01</td>\n",
       "      <td>0.0</td>\n",
       "      <td>0.0</td>\n",
       "      <td>0.63</td>\n",
       "    </tr>\n",
       "    <tr>\n",
       "      <th rowspan=\"2\" valign=\"top\">3DO</th>\n",
       "      <th>1994</th>\n",
       "      <td>0.00</td>\n",
       "      <td>0.00</td>\n",
       "      <td>0.02</td>\n",
       "      <td>0.00</td>\n",
       "      <td>0.0</td>\n",
       "      <td>0.0</td>\n",
       "      <td>0.02</td>\n",
       "    </tr>\n",
       "    <tr>\n",
       "      <th>1995</th>\n",
       "      <td>0.00</td>\n",
       "      <td>0.00</td>\n",
       "      <td>0.08</td>\n",
       "      <td>0.00</td>\n",
       "      <td>0.0</td>\n",
       "      <td>0.0</td>\n",
       "      <td>0.08</td>\n",
       "    </tr>\n",
       "    <tr>\n",
       "      <th rowspan=\"6\" valign=\"top\">3DS</th>\n",
       "      <th>2011</th>\n",
       "      <td>27.34</td>\n",
       "      <td>18.63</td>\n",
       "      <td>12.83</td>\n",
       "      <td>4.40</td>\n",
       "      <td>3887.0</td>\n",
       "      <td>369.9</td>\n",
       "      <td>63.20</td>\n",
       "    </tr>\n",
       "    <tr>\n",
       "      <th>2012</th>\n",
       "      <td>17.11</td>\n",
       "      <td>11.68</td>\n",
       "      <td>19.98</td>\n",
       "      <td>2.59</td>\n",
       "      <td>2409.0</td>\n",
       "      <td>243.7</td>\n",
       "      <td>51.36</td>\n",
       "    </tr>\n",
       "    <tr>\n",
       "      <th>2013</th>\n",
       "      <td>15.56</td>\n",
       "      <td>14.84</td>\n",
       "      <td>23.57</td>\n",
       "      <td>2.60</td>\n",
       "      <td>1334.0</td>\n",
       "      <td>165.5</td>\n",
       "      <td>56.57</td>\n",
       "    </tr>\n",
       "    <tr>\n",
       "      <th>2014</th>\n",
       "      <td>12.33</td>\n",
       "      <td>8.73</td>\n",
       "      <td>20.69</td>\n",
       "      <td>2.01</td>\n",
       "      <td>1448.0</td>\n",
       "      <td>145.0</td>\n",
       "      <td>43.76</td>\n",
       "    </tr>\n",
       "    <tr>\n",
       "      <th>2015</th>\n",
       "      <td>6.17</td>\n",
       "      <td>5.06</td>\n",
       "      <td>15.52</td>\n",
       "      <td>1.03</td>\n",
       "      <td>1351.0</td>\n",
       "      <td>159.2</td>\n",
       "      <td>27.78</td>\n",
       "    </tr>\n",
       "    <tr>\n",
       "      <th>2016</th>\n",
       "      <td>4.14</td>\n",
       "      <td>2.33</td>\n",
       "      <td>8.03</td>\n",
       "      <td>0.64</td>\n",
       "      <td>719.0</td>\n",
       "      <td>88.4</td>\n",
       "      <td>15.14</td>\n",
       "    </tr>\n",
       "    <tr>\n",
       "      <th rowspan=\"7\" valign=\"top\">DC</th>\n",
       "      <th>1998</th>\n",
       "      <td>1.26</td>\n",
       "      <td>0.61</td>\n",
       "      <td>1.43</td>\n",
       "      <td>0.08</td>\n",
       "      <td>0.0</td>\n",
       "      <td>0.0</td>\n",
       "      <td>3.38</td>\n",
       "    </tr>\n",
       "    <tr>\n",
       "      <th>1999</th>\n",
       "      <td>1.64</td>\n",
       "      <td>0.29</td>\n",
       "      <td>3.17</td>\n",
       "      <td>0.06</td>\n",
       "      <td>268.0</td>\n",
       "      <td>26.6</td>\n",
       "      <td>5.16</td>\n",
       "    </tr>\n",
       "    <tr>\n",
       "      <th>2000</th>\n",
       "      <td>2.53</td>\n",
       "      <td>0.79</td>\n",
       "      <td>2.54</td>\n",
       "      <td>0.13</td>\n",
       "      <td>616.0</td>\n",
       "      <td>57.8</td>\n",
       "      <td>5.99</td>\n",
       "    </tr>\n",
       "    <tr>\n",
       "      <th>2001</th>\n",
       "      <td>0.00</td>\n",
       "      <td>0.00</td>\n",
       "      <td>1.07</td>\n",
       "      <td>0.00</td>\n",
       "      <td>339.0</td>\n",
       "      <td>35.0</td>\n",
       "      <td>1.07</td>\n",
       "    </tr>\n",
       "    <tr>\n",
       "      <th>2002</th>\n",
       "      <td>0.00</td>\n",
       "      <td>0.00</td>\n",
       "      <td>0.29</td>\n",
       "      <td>0.00</td>\n",
       "      <td>0.0</td>\n",
       "      <td>0.0</td>\n",
       "      <td>0.29</td>\n",
       "    </tr>\n",
       "    <tr>\n",
       "      <th>2007</th>\n",
       "      <td>0.00</td>\n",
       "      <td>0.00</td>\n",
       "      <td>0.02</td>\n",
       "      <td>0.00</td>\n",
       "      <td>0.0</td>\n",
       "      <td>0.0</td>\n",
       "      <td>0.02</td>\n",
       "    </tr>\n",
       "    <tr>\n",
       "      <th>2008</th>\n",
       "      <td>0.00</td>\n",
       "      <td>0.00</td>\n",
       "      <td>0.04</td>\n",
       "      <td>0.00</td>\n",
       "      <td>0.0</td>\n",
       "      <td>0.0</td>\n",
       "      <td>0.04</td>\n",
       "    </tr>\n",
       "    <tr>\n",
       "      <th rowspan=\"11\" valign=\"top\">DS</th>\n",
       "      <th>1985</th>\n",
       "      <td>0.00</td>\n",
       "      <td>0.00</td>\n",
       "      <td>0.02</td>\n",
       "      <td>0.00</td>\n",
       "      <td>0.0</td>\n",
       "      <td>0.0</td>\n",
       "      <td>0.02</td>\n",
       "    </tr>\n",
       "    <tr>\n",
       "      <th>2004</th>\n",
       "      <td>8.33</td>\n",
       "      <td>3.93</td>\n",
       "      <td>3.65</td>\n",
       "      <td>1.36</td>\n",
       "      <td>682.0</td>\n",
       "      <td>77.0</td>\n",
       "      <td>17.27</td>\n",
       "    </tr>\n",
       "    <tr>\n",
       "      <th>2005</th>\n",
       "      <td>47.99</td>\n",
       "      <td>41.49</td>\n",
       "      <td>29.86</td>\n",
       "      <td>10.80</td>\n",
       "      <td>4602.0</td>\n",
       "      <td>418.4</td>\n",
       "      <td>130.14</td>\n",
       "    </tr>\n",
       "    <tr>\n",
       "      <th>2006</th>\n",
       "      <td>50.01</td>\n",
       "      <td>23.07</td>\n",
       "      <td>38.56</td>\n",
       "      <td>8.17</td>\n",
       "      <td>6016.0</td>\n",
       "      <td>559.9</td>\n",
       "      <td>119.81</td>\n",
       "    </tr>\n",
       "    <tr>\n",
       "      <th>2007</th>\n",
       "      <td>75.25</td>\n",
       "      <td>33.79</td>\n",
       "      <td>26.81</td>\n",
       "      <td>11.09</td>\n",
       "      <td>10163.0</td>\n",
       "      <td>792.8</td>\n",
       "      <td>146.94</td>\n",
       "    </tr>\n",
       "    <tr>\n",
       "      <th>2008</th>\n",
       "      <td>78.12</td>\n",
       "      <td>32.24</td>\n",
       "      <td>24.01</td>\n",
       "      <td>10.94</td>\n",
       "      <td>11817.0</td>\n",
       "      <td>858.5</td>\n",
       "      <td>145.31</td>\n",
       "    </tr>\n",
       "    <tr>\n",
       "      <th>2009</th>\n",
       "      <td>60.95</td>\n",
       "      <td>25.83</td>\n",
       "      <td>24.21</td>\n",
       "      <td>8.55</td>\n",
       "      <td>6738.0</td>\n",
       "      <td>544.0</td>\n",
       "      <td>119.54</td>\n",
       "    </tr>\n",
       "    <tr>\n",
       "      <th>2010</th>\n",
       "      <td>40.80</td>\n",
       "      <td>18.82</td>\n",
       "      <td>19.86</td>\n",
       "      <td>5.54</td>\n",
       "      <td>3793.0</td>\n",
       "      <td>254.2</td>\n",
       "      <td>85.02</td>\n",
       "    </tr>\n",
       "    <tr>\n",
       "      <th>2011</th>\n",
       "      <td>14.27</td>\n",
       "      <td>5.71</td>\n",
       "      <td>4.32</td>\n",
       "      <td>1.88</td>\n",
       "      <td>1229.0</td>\n",
       "      <td>69.8</td>\n",
       "      <td>26.18</td>\n",
       "    </tr>\n",
       "    <tr>\n",
       "      <th>2012</th>\n",
       "      <td>4.02</td>\n",
       "      <td>2.68</td>\n",
       "      <td>3.72</td>\n",
       "      <td>0.59</td>\n",
       "      <td>80.0</td>\n",
       "      <td>16.2</td>\n",
       "      <td>11.01</td>\n",
       "    </tr>\n",
       "    <tr>\n",
       "      <th>2013</th>\n",
       "      <td>0.57</td>\n",
       "      <td>0.85</td>\n",
       "      <td>0.00</td>\n",
       "      <td>0.12</td>\n",
       "      <td>0.0</td>\n",
       "      <td>4.8</td>\n",
       "      <td>1.54</td>\n",
       "    </tr>\n",
       "    <tr>\n",
       "      <th rowspan=\"13\" valign=\"top\">GB</th>\n",
       "      <th>1988</th>\n",
       "      <td>0.82</td>\n",
       "      <td>0.23</td>\n",
       "      <td>0.35</td>\n",
       "      <td>0.03</td>\n",
       "      <td>0.0</td>\n",
       "      <td>0.0</td>\n",
       "      <td>1.43</td>\n",
       "    </tr>\n",
       "    <tr>\n",
       "      <th>1989</th>\n",
       "      <td>39.81</td>\n",
       "      <td>7.60</td>\n",
       "      <td>16.16</td>\n",
       "      <td>1.40</td>\n",
       "      <td>0.0</td>\n",
       "      <td>0.0</td>\n",
       "      <td>64.97</td>\n",
       "    </tr>\n",
       "    <tr>\n",
       "      <th>1990</th>\n",
       "      <td>2.24</td>\n",
       "      <td>0.89</td>\n",
       "      <td>1.33</td>\n",
       "      <td>0.43</td>\n",
       "      <td>0.0</td>\n",
       "      <td>0.0</td>\n",
       "      <td>4.89</td>\n",
       "    </tr>\n",
       "    <tr>\n",
       "      <th>1991</th>\n",
       "      <td>1.43</td>\n",
       "      <td>0.68</td>\n",
       "      <td>3.38</td>\n",
       "      <td>0.08</td>\n",
       "      <td>0.0</td>\n",
       "      <td>0.0</td>\n",
       "      <td>5.57</td>\n",
       "    </tr>\n",
       "    <tr>\n",
       "      <th>1992</th>\n",
       "      <td>13.10</td>\n",
       "      <td>4.24</td>\n",
       "      <td>7.51</td>\n",
       "      <td>0.64</td>\n",
       "      <td>0.0</td>\n",
       "      <td>0.0</td>\n",
       "      <td>25.49</td>\n",
       "    </tr>\n",
       "    <tr>\n",
       "      <th>1994</th>\n",
       "      <td>6.03</td>\n",
       "      <td>2.36</td>\n",
       "      <td>3.19</td>\n",
       "      <td>0.60</td>\n",
       "      <td>0.0</td>\n",
       "      <td>0.0</td>\n",
       "      <td>12.18</td>\n",
       "    </tr>\n",
       "    <tr>\n",
       "      <th>1995</th>\n",
       "      <td>0.69</td>\n",
       "      <td>0.14</td>\n",
       "      <td>2.72</td>\n",
       "      <td>0.05</td>\n",
       "      <td>0.0</td>\n",
       "      <td>0.0</td>\n",
       "      <td>3.60</td>\n",
       "    </tr>\n",
       "    <tr>\n",
       "      <th>1996</th>\n",
       "      <td>12.66</td>\n",
       "      <td>9.37</td>\n",
       "      <td>12.91</td>\n",
       "      <td>1.09</td>\n",
       "      <td>0.0</td>\n",
       "      <td>0.0</td>\n",
       "      <td>36.03</td>\n",
       "    </tr>\n",
       "    <tr>\n",
       "      <th>1997</th>\n",
       "      <td>2.09</td>\n",
       "      <td>0.90</td>\n",
       "      <td>3.26</td>\n",
       "      <td>0.12</td>\n",
       "      <td>0.0</td>\n",
       "      <td>0.0</td>\n",
       "      <td>6.37</td>\n",
       "    </tr>\n",
       "    <tr>\n",
       "      <th>1998</th>\n",
       "      <td>9.44</td>\n",
       "      <td>7.00</td>\n",
       "      <td>9.55</td>\n",
       "      <td>0.91</td>\n",
       "      <td>0.0</td>\n",
       "      <td>0.0</td>\n",
       "      <td>26.90</td>\n",
       "    </tr>\n",
       "    <tr>\n",
       "      <th>1999</th>\n",
       "      <td>16.21</td>\n",
       "      <td>8.91</td>\n",
       "      <td>11.75</td>\n",
       "      <td>1.13</td>\n",
       "      <td>0.0</td>\n",
       "      <td>0.0</td>\n",
       "      <td>38.00</td>\n",
       "    </tr>\n",
       "    <tr>\n",
       "      <th>2000</th>\n",
       "      <td>6.39</td>\n",
       "      <td>3.52</td>\n",
       "      <td>8.36</td>\n",
       "      <td>1.49</td>\n",
       "      <td>0.0</td>\n",
       "      <td>0.0</td>\n",
       "      <td>19.76</td>\n",
       "    </tr>\n",
       "    <tr>\n",
       "      <th>2001</th>\n",
       "      <td>2.73</td>\n",
       "      <td>1.67</td>\n",
       "      <td>4.65</td>\n",
       "      <td>0.19</td>\n",
       "      <td>0.0</td>\n",
       "      <td>0.0</td>\n",
       "      <td>9.24</td>\n",
       "    </tr>\n",
       "    <tr>\n",
       "      <th rowspan=\"8\" valign=\"top\">GBA</th>\n",
       "      <th>2000</th>\n",
       "      <td>0.05</td>\n",
       "      <td>0.02</td>\n",
       "      <td>0.00</td>\n",
       "      <td>0.00</td>\n",
       "      <td>0.0</td>\n",
       "      <td>0.0</td>\n",
       "      <td>0.07</td>\n",
       "    </tr>\n",
       "    <tr>\n",
       "      <th>2001</th>\n",
       "      <td>36.24</td>\n",
       "      <td>15.92</td>\n",
       "      <td>7.46</td>\n",
       "      <td>1.91</td>\n",
       "      <td>4901.0</td>\n",
       "      <td>227.1</td>\n",
       "      <td>61.53</td>\n",
       "    </tr>\n",
       "    <tr>\n",
       "      <th>2002</th>\n",
       "      <td>43.02</td>\n",
       "      <td>17.12</td>\n",
       "      <td>12.21</td>\n",
       "      <td>1.81</td>\n",
       "      <td>8758.0</td>\n",
       "      <td>417.3</td>\n",
       "      <td>74.16</td>\n",
       "    </tr>\n",
       "    <tr>\n",
       "      <th>2003</th>\n",
       "      <td>33.53</td>\n",
       "      <td>13.19</td>\n",
       "      <td>8.59</td>\n",
       "      <td>1.36</td>\n",
       "      <td>6438.0</td>\n",
       "      <td>565.2</td>\n",
       "      <td>56.67</td>\n",
       "    </tr>\n",
       "    <tr>\n",
       "      <th>2004</th>\n",
       "      <td>44.43</td>\n",
       "      <td>18.15</td>\n",
       "      <td>13.52</td>\n",
       "      <td>1.81</td>\n",
       "      <td>5326.0</td>\n",
       "      <td>436.6</td>\n",
       "      <td>77.91</td>\n",
       "    </tr>\n",
       "    <tr>\n",
       "      <th>2005</th>\n",
       "      <td>21.70</td>\n",
       "      <td>8.31</td>\n",
       "      <td>3.27</td>\n",
       "      <td>0.58</td>\n",
       "      <td>2529.0</td>\n",
       "      <td>195.6</td>\n",
       "      <td>33.86</td>\n",
       "    </tr>\n",
       "    <tr>\n",
       "      <th>2006</th>\n",
       "      <td>2.70</td>\n",
       "      <td>0.98</td>\n",
       "      <td>1.51</td>\n",
       "      <td>0.09</td>\n",
       "      <td>927.0</td>\n",
       "      <td>83.2</td>\n",
       "      <td>5.28</td>\n",
       "    </tr>\n",
       "    <tr>\n",
       "      <th>2007</th>\n",
       "      <td>2.45</td>\n",
       "      <td>0.90</td>\n",
       "      <td>0.00</td>\n",
       "      <td>0.05</td>\n",
       "      <td>65.0</td>\n",
       "      <td>0.0</td>\n",
       "      <td>3.40</td>\n",
       "    </tr>\n",
       "    <tr>\n",
       "      <th rowspan=\"7\" valign=\"top\">GC</th>\n",
       "      <th>2001</th>\n",
       "      <td>16.91</td>\n",
       "      <td>4.80</td>\n",
       "      <td>3.85</td>\n",
       "      <td>0.78</td>\n",
       "      <td>1689.0</td>\n",
       "      <td>155.0</td>\n",
       "      <td>26.34</td>\n",
       "    </tr>\n",
       "    <tr>\n",
       "      <th>2002</th>\n",
       "      <td>34.71</td>\n",
       "      <td>10.49</td>\n",
       "      <td>5.28</td>\n",
       "      <td>1.33</td>\n",
       "      <td>8914.0</td>\n",
       "      <td>744.3</td>\n",
       "      <td>51.81</td>\n",
       "    </tr>\n",
       "    <tr>\n",
       "      <th>2003</th>\n",
       "      <td>32.64</td>\n",
       "      <td>10.23</td>\n",
       "      <td>6.43</td>\n",
       "      <td>1.31</td>\n",
       "      <td>7813.0</td>\n",
       "      <td>746.4</td>\n",
       "      <td>50.61</td>\n",
       "    </tr>\n",
       "    <tr>\n",
       "      <th>2004</th>\n",
       "      <td>19.71</td>\n",
       "      <td>5.33</td>\n",
       "      <td>3.00</td>\n",
       "      <td>0.78</td>\n",
       "      <td>4785.0</td>\n",
       "      <td>426.4</td>\n",
       "      <td>28.82</td>\n",
       "    </tr>\n",
       "    <tr>\n",
       "      <th>2005</th>\n",
       "      <td>19.25</td>\n",
       "      <td>5.13</td>\n",
       "      <td>2.57</td>\n",
       "      <td>0.67</td>\n",
       "      <td>4979.0</td>\n",
       "      <td>441.0</td>\n",
       "      <td>27.62</td>\n",
       "    </tr>\n",
       "    <tr>\n",
       "      <th>2006</th>\n",
       "      <td>8.51</td>\n",
       "      <td>2.28</td>\n",
       "      <td>0.21</td>\n",
       "      <td>0.26</td>\n",
       "      <td>2033.0</td>\n",
       "      <td>193.1</td>\n",
       "      <td>11.26</td>\n",
       "    </tr>\n",
       "    <tr>\n",
       "      <th>2007</th>\n",
       "      <td>0.21</td>\n",
       "      <td>0.06</td>\n",
       "      <td>0.00</td>\n",
       "      <td>0.00</td>\n",
       "      <td>203.0</td>\n",
       "      <td>12.6</td>\n",
       "      <td>0.27</td>\n",
       "    </tr>\n",
       "    <tr>\n",
       "      <th rowspan=\"5\" valign=\"top\">GEN</th>\n",
       "      <th>1990</th>\n",
       "      <td>1.86</td>\n",
       "      <td>0.55</td>\n",
       "      <td>0.11</td>\n",
       "      <td>0.08</td>\n",
       "      <td>0.0</td>\n",
       "      <td>0.0</td>\n",
       "      <td>2.60</td>\n",
       "    </tr>\n",
       "    <tr>\n",
       "      <th>1991</th>\n",
       "      <td>3.03</td>\n",
       "      <td>0.91</td>\n",
       "      <td>0.26</td>\n",
       "      <td>0.13</td>\n",
       "      <td>0.0</td>\n",
       "      <td>0.0</td>\n",
       "      <td>4.33</td>\n",
       "    </tr>\n",
       "    <tr>\n",
       "      <th>1992</th>\n",
       "      <td>9.17</td>\n",
       "      <td>2.38</td>\n",
       "      <td>0.72</td>\n",
       "      <td>0.37</td>\n",
       "      <td>0.0</td>\n",
       "      <td>0.0</td>\n",
       "      <td>12.64</td>\n",
       "    </tr>\n",
       "    <tr>\n",
       "      <th>1993</th>\n",
       "      <td>0.00</td>\n",
       "      <td>0.00</td>\n",
       "      <td>0.65</td>\n",
       "      <td>0.00</td>\n",
       "      <td>0.0</td>\n",
       "      <td>0.0</td>\n",
       "      <td>0.65</td>\n",
       "    </tr>\n",
       "    <tr>\n",
       "      <th>1994</th>\n",
       "      <td>5.21</td>\n",
       "      <td>1.68</td>\n",
       "      <td>0.93</td>\n",
       "      <td>0.31</td>\n",
       "      <td>0.0</td>\n",
       "      <td>0.0</td>\n",
       "      <td>8.13</td>\n",
       "    </tr>\n",
       "    <tr>\n",
       "      <th>GG</th>\n",
       "      <th>1992</th>\n",
       "      <td>0.00</td>\n",
       "      <td>0.00</td>\n",
       "      <td>0.04</td>\n",
       "      <td>0.00</td>\n",
       "      <td>0.0</td>\n",
       "      <td>0.0</td>\n",
       "      <td>0.04</td>\n",
       "    </tr>\n",
       "    <tr>\n",
       "      <th rowspan=\"7\" valign=\"top\">N64</th>\n",
       "      <th>1996</th>\n",
       "      <td>21.03</td>\n",
       "      <td>6.72</td>\n",
       "      <td>5.77</td>\n",
       "      <td>0.58</td>\n",
       "      <td>0.0</td>\n",
       "      <td>0.0</td>\n",
       "      <td>34.10</td>\n",
       "    </tr>\n",
       "    <tr>\n",
       "      <th>1997</th>\n",
       "      <td>25.84</td>\n",
       "      <td>8.09</td>\n",
       "      <td>4.66</td>\n",
       "      <td>0.91</td>\n",
       "      <td>0.0</td>\n",
       "      <td>0.0</td>\n",
       "      <td>39.50</td>\n",
       "    </tr>\n",
       "    <tr>\n",
       "      <th>1998</th>\n",
       "      <td>31.39</td>\n",
       "      <td>10.35</td>\n",
       "      <td>6.54</td>\n",
       "      <td>0.96</td>\n",
       "      <td>0.0</td>\n",
       "      <td>0.0</td>\n",
       "      <td>49.24</td>\n",
       "    </tr>\n",
       "    <tr>\n",
       "      <th>1999</th>\n",
       "      <td>38.77</td>\n",
       "      <td>9.74</td>\n",
       "      <td>8.54</td>\n",
       "      <td>0.82</td>\n",
       "      <td>0.0</td>\n",
       "      <td>0.0</td>\n",
       "      <td>57.87</td>\n",
       "    </tr>\n",
       "    <tr>\n",
       "      <th>2000</th>\n",
       "      <td>19.74</td>\n",
       "      <td>5.59</td>\n",
       "      <td>7.72</td>\n",
       "      <td>0.92</td>\n",
       "      <td>0.0</td>\n",
       "      <td>0.0</td>\n",
       "      <td>33.97</td>\n",
       "    </tr>\n",
       "    <tr>\n",
       "      <th>2001</th>\n",
       "      <td>2.08</td>\n",
       "      <td>0.52</td>\n",
       "      <td>0.53</td>\n",
       "      <td>0.12</td>\n",
       "      <td>0.0</td>\n",
       "      <td>0.0</td>\n",
       "      <td>3.25</td>\n",
       "    </tr>\n",
       "    <tr>\n",
       "      <th>2002</th>\n",
       "      <td>0.06</td>\n",
       "      <td>0.02</td>\n",
       "      <td>0.00</td>\n",
       "      <td>0.00</td>\n",
       "      <td>0.0</td>\n",
       "      <td>0.0</td>\n",
       "      <td>0.08</td>\n",
       "    </tr>\n",
       "    <tr>\n",
       "      <th rowspan=\"12\" valign=\"top\">NES</th>\n",
       "      <th>1983</th>\n",
       "      <td>2.32</td>\n",
       "      <td>0.46</td>\n",
       "      <td>8.10</td>\n",
       "      <td>0.08</td>\n",
       "      <td>0.0</td>\n",
       "      <td>0.0</td>\n",
       "      <td>10.96</td>\n",
       "    </tr>\n",
       "    <tr>\n",
       "      <th>1984</th>\n",
       "      <td>33.02</td>\n",
       "      <td>2.09</td>\n",
       "      <td>14.27</td>\n",
       "      <td>0.70</td>\n",
       "      <td>0.0</td>\n",
       "      <td>0.0</td>\n",
       "      <td>50.08</td>\n",
       "    </tr>\n",
       "    <tr>\n",
       "      <th>1985</th>\n",
       "      <td>33.31</td>\n",
       "      <td>4.68</td>\n",
       "      <td>14.54</td>\n",
       "      <td>0.91</td>\n",
       "      <td>0.0</td>\n",
       "      <td>0.0</td>\n",
       "      <td>53.44</td>\n",
       "    </tr>\n",
       "    <tr>\n",
       "      <th>1986</th>\n",
       "      <td>11.87</td>\n",
       "      <td>2.80</td>\n",
       "      <td>19.81</td>\n",
       "      <td>1.93</td>\n",
       "      <td>0.0</td>\n",
       "      <td>0.0</td>\n",
       "      <td>36.41</td>\n",
       "    </tr>\n",
       "    <tr>\n",
       "      <th>1987</th>\n",
       "      <td>6.62</td>\n",
       "      <td>1.32</td>\n",
       "      <td>11.63</td>\n",
       "      <td>0.19</td>\n",
       "      <td>0.0</td>\n",
       "      <td>0.0</td>\n",
       "      <td>19.76</td>\n",
       "    </tr>\n",
       "    <tr>\n",
       "      <th>1988</th>\n",
       "      <td>22.36</td>\n",
       "      <td>6.30</td>\n",
       "      <td>15.41</td>\n",
       "      <td>0.94</td>\n",
       "      <td>0.0</td>\n",
       "      <td>0.0</td>\n",
       "      <td>45.01</td>\n",
       "    </tr>\n",
       "    <tr>\n",
       "      <th>1989</th>\n",
       "      <td>4.75</td>\n",
       "      <td>0.81</td>\n",
       "      <td>2.20</td>\n",
       "      <td>0.09</td>\n",
       "      <td>0.0</td>\n",
       "      <td>0.0</td>\n",
       "      <td>7.85</td>\n",
       "    </tr>\n",
       "    <tr>\n",
       "      <th>1990</th>\n",
       "      <td>6.08</td>\n",
       "      <td>1.59</td>\n",
       "      <td>7.84</td>\n",
       "      <td>0.22</td>\n",
       "      <td>0.0</td>\n",
       "      <td>0.0</td>\n",
       "      <td>15.73</td>\n",
       "    </tr>\n",
       "    <tr>\n",
       "      <th>1991</th>\n",
       "      <td>2.83</td>\n",
       "      <td>0.52</td>\n",
       "      <td>2.60</td>\n",
       "      <td>0.16</td>\n",
       "      <td>0.0</td>\n",
       "      <td>0.0</td>\n",
       "      <td>6.11</td>\n",
       "    </tr>\n",
       "    <tr>\n",
       "      <th>1992</th>\n",
       "      <td>0.84</td>\n",
       "      <td>0.14</td>\n",
       "      <td>0.97</td>\n",
       "      <td>0.03</td>\n",
       "      <td>0.0</td>\n",
       "      <td>0.0</td>\n",
       "      <td>1.98</td>\n",
       "    </tr>\n",
       "    <tr>\n",
       "      <th>1993</th>\n",
       "      <td>1.94</td>\n",
       "      <td>0.44</td>\n",
       "      <td>1.17</td>\n",
       "      <td>0.06</td>\n",
       "      <td>0.0</td>\n",
       "      <td>0.0</td>\n",
       "      <td>3.61</td>\n",
       "    </tr>\n",
       "    <tr>\n",
       "      <th>1994</th>\n",
       "      <td>0.00</td>\n",
       "      <td>0.00</td>\n",
       "      <td>0.11</td>\n",
       "      <td>0.00</td>\n",
       "      <td>0.0</td>\n",
       "      <td>0.0</td>\n",
       "      <td>0.11</td>\n",
       "    </tr>\n",
       "    <tr>\n",
       "      <th rowspan=\"4\" valign=\"top\">NG</th>\n",
       "      <th>1993</th>\n",
       "      <td>0.00</td>\n",
       "      <td>0.00</td>\n",
       "      <td>0.21</td>\n",
       "      <td>0.00</td>\n",
       "      <td>0.0</td>\n",
       "      <td>0.0</td>\n",
       "      <td>0.21</td>\n",
       "    </tr>\n",
       "    <tr>\n",
       "      <th>1994</th>\n",
       "      <td>0.00</td>\n",
       "      <td>0.00</td>\n",
       "      <td>0.80</td>\n",
       "      <td>0.00</td>\n",
       "      <td>0.0</td>\n",
       "      <td>0.0</td>\n",
       "      <td>0.80</td>\n",
       "    </tr>\n",
       "    <tr>\n",
       "      <th>1995</th>\n",
       "      <td>0.00</td>\n",
       "      <td>0.00</td>\n",
       "      <td>0.33</td>\n",
       "      <td>0.00</td>\n",
       "      <td>0.0</td>\n",
       "      <td>0.0</td>\n",
       "      <td>0.33</td>\n",
       "    </tr>\n",
       "    <tr>\n",
       "      <th>1996</th>\n",
       "      <td>0.00</td>\n",
       "      <td>0.00</td>\n",
       "      <td>0.10</td>\n",
       "      <td>0.00</td>\n",
       "      <td>0.0</td>\n",
       "      <td>0.0</td>\n",
       "      <td>0.10</td>\n",
       "    </tr>\n",
       "    <tr>\n",
       "      <th rowspan=\"26\" valign=\"top\">PC</th>\n",
       "      <th>1985</th>\n",
       "      <td>0.00</td>\n",
       "      <td>0.03</td>\n",
       "      <td>0.00</td>\n",
       "      <td>0.01</td>\n",
       "      <td>59.0</td>\n",
       "      <td>5.8</td>\n",
       "      <td>0.04</td>\n",
       "    </tr>\n",
       "    <tr>\n",
       "      <th>1988</th>\n",
       "      <td>0.00</td>\n",
       "      <td>0.02</td>\n",
       "      <td>0.00</td>\n",
       "      <td>0.01</td>\n",
       "      <td>64.0</td>\n",
       "      <td>2.2</td>\n",
       "      <td>0.03</td>\n",
       "    </tr>\n",
       "    <tr>\n",
       "      <th>1992</th>\n",
       "      <td>1.26</td>\n",
       "      <td>1.66</td>\n",
       "      <td>0.00</td>\n",
       "      <td>0.11</td>\n",
       "      <td>85.0</td>\n",
       "      <td>8.2</td>\n",
       "      <td>3.03</td>\n",
       "    </tr>\n",
       "    <tr>\n",
       "      <th>1994</th>\n",
       "      <td>5.56</td>\n",
       "      <td>6.85</td>\n",
       "      <td>0.00</td>\n",
       "      <td>0.46</td>\n",
       "      <td>0.0</td>\n",
       "      <td>0.0</td>\n",
       "      <td>12.87</td>\n",
       "    </tr>\n",
       "    <tr>\n",
       "      <th>1995</th>\n",
       "      <td>1.72</td>\n",
       "      <td>2.27</td>\n",
       "      <td>0.00</td>\n",
       "      <td>0.23</td>\n",
       "      <td>0.0</td>\n",
       "      <td>0.0</td>\n",
       "      <td>4.22</td>\n",
       "    </tr>\n",
       "    <tr>\n",
       "      <th>1996</th>\n",
       "      <td>5.56</td>\n",
       "      <td>4.68</td>\n",
       "      <td>0.00</td>\n",
       "      <td>0.34</td>\n",
       "      <td>180.0</td>\n",
       "      <td>17.2</td>\n",
       "      <td>10.58</td>\n",
       "    </tr>\n",
       "    <tr>\n",
       "      <th>1997</th>\n",
       "      <td>8.76</td>\n",
       "      <td>2.19</td>\n",
       "      <td>0.09</td>\n",
       "      <td>0.23</td>\n",
       "      <td>179.0</td>\n",
       "      <td>42.0</td>\n",
       "      <td>11.27</td>\n",
       "    </tr>\n",
       "    <tr>\n",
       "      <th>1998</th>\n",
       "      <td>3.05</td>\n",
       "      <td>0.20</td>\n",
       "      <td>0.00</td>\n",
       "      <td>0.01</td>\n",
       "      <td>272.0</td>\n",
       "      <td>69.7</td>\n",
       "      <td>3.26</td>\n",
       "    </tr>\n",
       "    <tr>\n",
       "      <th>1999</th>\n",
       "      <td>3.50</td>\n",
       "      <td>1.13</td>\n",
       "      <td>0.00</td>\n",
       "      <td>0.11</td>\n",
       "      <td>183.0</td>\n",
       "      <td>26.7</td>\n",
       "      <td>4.74</td>\n",
       "    </tr>\n",
       "    <tr>\n",
       "      <th>2000</th>\n",
       "      <td>3.03</td>\n",
       "      <td>1.45</td>\n",
       "      <td>0.00</td>\n",
       "      <td>0.18</td>\n",
       "      <td>352.0</td>\n",
       "      <td>48.6</td>\n",
       "      <td>4.66</td>\n",
       "    </tr>\n",
       "    <tr>\n",
       "      <th>2001</th>\n",
       "      <td>4.08</td>\n",
       "      <td>1.24</td>\n",
       "      <td>0.00</td>\n",
       "      <td>0.15</td>\n",
       "      <td>886.0</td>\n",
       "      <td>92.3</td>\n",
       "      <td>5.47</td>\n",
       "    </tr>\n",
       "    <tr>\n",
       "      <th>2002</th>\n",
       "      <td>5.03</td>\n",
       "      <td>3.18</td>\n",
       "      <td>0.00</td>\n",
       "      <td>0.36</td>\n",
       "      <td>1390.0</td>\n",
       "      <td>140.4</td>\n",
       "      <td>8.57</td>\n",
       "    </tr>\n",
       "    <tr>\n",
       "      <th>2003</th>\n",
       "      <td>3.41</td>\n",
       "      <td>4.92</td>\n",
       "      <td>0.00</td>\n",
       "      <td>0.51</td>\n",
       "      <td>2180.0</td>\n",
       "      <td>245.4</td>\n",
       "      <td>8.84</td>\n",
       "    </tr>\n",
       "    <tr>\n",
       "      <th>2004</th>\n",
       "      <td>2.54</td>\n",
       "      <td>7.54</td>\n",
       "      <td>0.08</td>\n",
       "      <td>0.23</td>\n",
       "      <td>2092.0</td>\n",
       "      <td>202.4</td>\n",
       "      <td>10.39</td>\n",
       "    </tr>\n",
       "    <tr>\n",
       "      <th>2005</th>\n",
       "      <td>1.39</td>\n",
       "      <td>2.69</td>\n",
       "      <td>0.00</td>\n",
       "      <td>0.29</td>\n",
       "      <td>2256.0</td>\n",
       "      <td>233.4</td>\n",
       "      <td>4.37</td>\n",
       "    </tr>\n",
       "    <tr>\n",
       "      <th>2006</th>\n",
       "      <td>0.61</td>\n",
       "      <td>1.94</td>\n",
       "      <td>0.00</td>\n",
       "      <td>0.30</td>\n",
       "      <td>3090.0</td>\n",
       "      <td>337.4</td>\n",
       "      <td>2.85</td>\n",
       "    </tr>\n",
       "    <tr>\n",
       "      <th>2007</th>\n",
       "      <td>2.77</td>\n",
       "      <td>6.21</td>\n",
       "      <td>0.00</td>\n",
       "      <td>0.30</td>\n",
       "      <td>3845.0</td>\n",
       "      <td>403.6</td>\n",
       "      <td>9.28</td>\n",
       "    </tr>\n",
       "    <tr>\n",
       "      <th>2008</th>\n",
       "      <td>0.58</td>\n",
       "      <td>9.85</td>\n",
       "      <td>0.00</td>\n",
       "      <td>1.99</td>\n",
       "      <td>4042.0</td>\n",
       "      <td>419.5</td>\n",
       "      <td>12.42</td>\n",
       "    </tr>\n",
       "    <tr>\n",
       "      <th>2009</th>\n",
       "      <td>1.42</td>\n",
       "      <td>13.50</td>\n",
       "      <td>0.00</td>\n",
       "      <td>1.99</td>\n",
       "      <td>5832.0</td>\n",
       "      <td>602.2</td>\n",
       "      <td>16.91</td>\n",
       "    </tr>\n",
       "    <tr>\n",
       "      <th>2010</th>\n",
       "      <td>9.19</td>\n",
       "      <td>12.12</td>\n",
       "      <td>0.00</td>\n",
       "      <td>2.97</td>\n",
       "      <td>4454.0</td>\n",
       "      <td>457.1</td>\n",
       "      <td>24.28</td>\n",
       "    </tr>\n",
       "    <tr>\n",
       "      <th>2011</th>\n",
       "      <td>10.76</td>\n",
       "      <td>18.94</td>\n",
       "      <td>0.00</td>\n",
       "      <td>5.33</td>\n",
       "      <td>6616.0</td>\n",
       "      <td>656.4</td>\n",
       "      <td>35.03</td>\n",
       "    </tr>\n",
       "    <tr>\n",
       "      <th>2012</th>\n",
       "      <td>8.01</td>\n",
       "      <td>12.40</td>\n",
       "      <td>0.00</td>\n",
       "      <td>2.81</td>\n",
       "      <td>3759.0</td>\n",
       "      <td>352.5</td>\n",
       "      <td>23.22</td>\n",
       "    </tr>\n",
       "    <tr>\n",
       "      <th>2013</th>\n",
       "      <td>3.88</td>\n",
       "      <td>7.39</td>\n",
       "      <td>0.00</td>\n",
       "      <td>1.11</td>\n",
       "      <td>2416.0</td>\n",
       "      <td>203.4</td>\n",
       "      <td>12.38</td>\n",
       "    </tr>\n",
       "    <tr>\n",
       "      <th>2014</th>\n",
       "      <td>3.51</td>\n",
       "      <td>8.87</td>\n",
       "      <td>0.00</td>\n",
       "      <td>0.90</td>\n",
       "      <td>2896.0</td>\n",
       "      <td>239.5</td>\n",
       "      <td>13.28</td>\n",
       "    </tr>\n",
       "    <tr>\n",
       "      <th>2015</th>\n",
       "      <td>2.36</td>\n",
       "      <td>5.57</td>\n",
       "      <td>0.00</td>\n",
       "      <td>0.59</td>\n",
       "      <td>2543.0</td>\n",
       "      <td>245.5</td>\n",
       "      <td>8.52</td>\n",
       "    </tr>\n",
       "    <tr>\n",
       "      <th>2016</th>\n",
       "      <td>1.36</td>\n",
       "      <td>3.53</td>\n",
       "      <td>0.00</td>\n",
       "      <td>0.36</td>\n",
       "      <td>3402.0</td>\n",
       "      <td>283.4</td>\n",
       "      <td>5.25</td>\n",
       "    </tr>\n",
       "    <tr>\n",
       "      <th>PCFX</th>\n",
       "      <th>1996</th>\n",
       "      <td>0.00</td>\n",
       "      <td>0.00</td>\n",
       "      <td>0.03</td>\n",
       "      <td>0.00</td>\n",
       "      <td>0.0</td>\n",
       "      <td>0.0</td>\n",
       "      <td>0.03</td>\n",
       "    </tr>\n",
       "    <tr>\n",
       "      <th rowspan=\"10\" valign=\"top\">PS</th>\n",
       "      <th>1994</th>\n",
       "      <td>1.76</td>\n",
       "      <td>1.20</td>\n",
       "      <td>2.67</td>\n",
       "      <td>0.40</td>\n",
       "      <td>69.0</td>\n",
       "      <td>6.3</td>\n",
       "      <td>6.03</td>\n",
       "    </tr>\n",
       "    <tr>\n",
       "      <th>1995</th>\n",
       "      <td>14.61</td>\n",
       "      <td>9.85</td>\n",
       "      <td>9.54</td>\n",
       "      <td>1.96</td>\n",
       "      <td>0.0</td>\n",
       "      <td>0.0</td>\n",
       "      <td>35.96</td>\n",
       "    </tr>\n",
       "    <tr>\n",
       "      <th>1996</th>\n",
       "      <td>45.42</td>\n",
       "      <td>25.92</td>\n",
       "      <td>17.82</td>\n",
       "      <td>5.54</td>\n",
       "      <td>539.0</td>\n",
       "      <td>50.0</td>\n",
       "      <td>94.70</td>\n",
       "    </tr>\n",
       "    <tr>\n",
       "      <th>1997</th>\n",
       "      <td>58.06</td>\n",
       "      <td>37.14</td>\n",
       "      <td>33.10</td>\n",
       "      <td>7.87</td>\n",
       "      <td>1271.0</td>\n",
       "      <td>110.5</td>\n",
       "      <td>136.17</td>\n",
       "    </tr>\n",
       "    <tr>\n",
       "      <th>1998</th>\n",
       "      <td>83.22</td>\n",
       "      <td>48.74</td>\n",
       "      <td>28.48</td>\n",
       "      <td>9.05</td>\n",
       "      <td>2019.0</td>\n",
       "      <td>194.0</td>\n",
       "      <td>169.49</td>\n",
       "    </tr>\n",
       "    <tr>\n",
       "      <th>1999</th>\n",
       "      <td>65.94</td>\n",
       "      <td>42.60</td>\n",
       "      <td>28.07</td>\n",
       "      <td>7.92</td>\n",
       "      <td>2504.0</td>\n",
       "      <td>209.6</td>\n",
       "      <td>144.53</td>\n",
       "    </tr>\n",
       "    <tr>\n",
       "      <th>2000</th>\n",
       "      <td>45.94</td>\n",
       "      <td>30.55</td>\n",
       "      <td>14.60</td>\n",
       "      <td>5.28</td>\n",
       "      <td>4960.0</td>\n",
       "      <td>388.5</td>\n",
       "      <td>96.37</td>\n",
       "    </tr>\n",
       "    <tr>\n",
       "      <th>2001</th>\n",
       "      <td>15.84</td>\n",
       "      <td>13.72</td>\n",
       "      <td>3.86</td>\n",
       "      <td>2.17</td>\n",
       "      <td>2600.0</td>\n",
       "      <td>265.9</td>\n",
       "      <td>35.59</td>\n",
       "    </tr>\n",
       "    <tr>\n",
       "      <th>2002</th>\n",
       "      <td>2.78</td>\n",
       "      <td>1.89</td>\n",
       "      <td>1.64</td>\n",
       "      <td>0.36</td>\n",
       "      <td>69.0</td>\n",
       "      <td>24.7</td>\n",
       "      <td>6.67</td>\n",
       "    </tr>\n",
       "    <tr>\n",
       "      <th>2003</th>\n",
       "      <td>1.15</td>\n",
       "      <td>0.78</td>\n",
       "      <td>0.00</td>\n",
       "      <td>0.14</td>\n",
       "      <td>0.0</td>\n",
       "      <td>0.0</td>\n",
       "      <td>2.07</td>\n",
       "    </tr>\n",
       "    <tr>\n",
       "      <th rowspan=\"12\" valign=\"top\">PS2</th>\n",
       "      <th>2000</th>\n",
       "      <td>16.08</td>\n",
       "      <td>10.64</td>\n",
       "      <td>8.87</td>\n",
       "      <td>3.58</td>\n",
       "      <td>3910.0</td>\n",
       "      <td>302.5</td>\n",
       "      <td>39.17</td>\n",
       "    </tr>\n",
       "    <tr>\n",
       "      <th>2001</th>\n",
       "      <td>79.49</td>\n",
       "      <td>52.37</td>\n",
       "      <td>17.79</td>\n",
       "      <td>16.78</td>\n",
       "      <td>10552.0</td>\n",
       "      <td>978.2</td>\n",
       "      <td>166.43</td>\n",
       "    </tr>\n",
       "    <tr>\n",
       "      <th>2002</th>\n",
       "      <td>96.54</td>\n",
       "      <td>65.27</td>\n",
       "      <td>21.85</td>\n",
       "      <td>21.72</td>\n",
       "      <td>14545.0</td>\n",
       "      <td>1404.3</td>\n",
       "      <td>205.38</td>\n",
       "    </tr>\n",
       "    <tr>\n",
       "      <th>2003</th>\n",
       "      <td>83.54</td>\n",
       "      <td>61.20</td>\n",
       "      <td>18.88</td>\n",
       "      <td>20.69</td>\n",
       "      <td>13374.0</td>\n",
       "      <td>1471.0</td>\n",
       "      <td>184.31</td>\n",
       "    </tr>\n",
       "    <tr>\n",
       "      <th>2004</th>\n",
       "      <td>96.78</td>\n",
       "      <td>56.01</td>\n",
       "      <td>19.17</td>\n",
       "      <td>39.85</td>\n",
       "      <td>14554.0</td>\n",
       "      <td>1608.5</td>\n",
       "      <td>211.81</td>\n",
       "    </tr>\n",
       "    <tr>\n",
       "      <th>2005</th>\n",
       "      <td>85.60</td>\n",
       "      <td>40.86</td>\n",
       "      <td>15.05</td>\n",
       "      <td>19.15</td>\n",
       "      <td>13413.0</td>\n",
       "      <td>1487.8</td>\n",
       "      <td>160.66</td>\n",
       "    </tr>\n",
       "    <tr>\n",
       "      <th>2006</th>\n",
       "      <td>49.93</td>\n",
       "      <td>21.61</td>\n",
       "      <td>17.64</td>\n",
       "      <td>14.24</td>\n",
       "      <td>8651.0</td>\n",
       "      <td>908.2</td>\n",
       "      <td>103.42</td>\n",
       "    </tr>\n",
       "    <tr>\n",
       "      <th>2007</th>\n",
       "      <td>32.05</td>\n",
       "      <td>10.43</td>\n",
       "      <td>9.82</td>\n",
       "      <td>23.69</td>\n",
       "      <td>4807.0</td>\n",
       "      <td>496.7</td>\n",
       "      <td>75.99</td>\n",
       "    </tr>\n",
       "    <tr>\n",
       "      <th>2008</th>\n",
       "      <td>21.23</td>\n",
       "      <td>7.63</td>\n",
       "      <td>5.73</td>\n",
       "      <td>19.31</td>\n",
       "      <td>2816.0</td>\n",
       "      <td>387.8</td>\n",
       "      <td>53.90</td>\n",
       "    </tr>\n",
       "    <tr>\n",
       "      <th>2009</th>\n",
       "      <td>9.36</td>\n",
       "      <td>4.94</td>\n",
       "      <td>1.94</td>\n",
       "      <td>10.16</td>\n",
       "      <td>912.0</td>\n",
       "      <td>197.3</td>\n",
       "      <td>26.40</td>\n",
       "    </tr>\n",
       "    <tr>\n",
       "      <th>2010</th>\n",
       "      <td>2.19</td>\n",
       "      <td>1.54</td>\n",
       "      <td>0.71</td>\n",
       "      <td>1.20</td>\n",
       "      <td>77.0</td>\n",
       "      <td>42.8</td>\n",
       "      <td>5.64</td>\n",
       "    </tr>\n",
       "    <tr>\n",
       "      <th>2011</th>\n",
       "      <td>0.13</td>\n",
       "      <td>0.13</td>\n",
       "      <td>0.09</td>\n",
       "      <td>0.10</td>\n",
       "      <td>0.0</td>\n",
       "      <td>17.8</td>\n",
       "      <td>0.45</td>\n",
       "    </tr>\n",
       "    <tr>\n",
       "      <th rowspan=\"11\" valign=\"top\">PS3</th>\n",
       "      <th>2006</th>\n",
       "      <td>8.84</td>\n",
       "      <td>7.38</td>\n",
       "      <td>1.08</td>\n",
       "      <td>3.66</td>\n",
       "      <td>1407.0</td>\n",
       "      <td>127.5</td>\n",
       "      <td>20.96</td>\n",
       "    </tr>\n",
       "    <tr>\n",
       "      <th>2007</th>\n",
       "      <td>32.16</td>\n",
       "      <td>26.10</td>\n",
       "      <td>4.22</td>\n",
       "      <td>10.71</td>\n",
       "      <td>5677.0</td>\n",
       "      <td>519.9</td>\n",
       "      <td>73.19</td>\n",
       "    </tr>\n",
       "    <tr>\n",
       "      <th>2008</th>\n",
       "      <td>57.23</td>\n",
       "      <td>38.73</td>\n",
       "      <td>5.82</td>\n",
       "      <td>16.74</td>\n",
       "      <td>7914.0</td>\n",
       "      <td>754.0</td>\n",
       "      <td>118.52</td>\n",
       "    </tr>\n",
       "    <tr>\n",
       "      <th>2009</th>\n",
       "      <td>62.65</td>\n",
       "      <td>41.40</td>\n",
       "      <td>9.03</td>\n",
       "      <td>17.85</td>\n",
       "      <td>8333.0</td>\n",
       "      <td>806.5</td>\n",
       "      <td>130.93</td>\n",
       "    </tr>\n",
       "    <tr>\n",
       "      <th>2010</th>\n",
       "      <td>60.99</td>\n",
       "      <td>50.50</td>\n",
       "      <td>9.87</td>\n",
       "      <td>20.81</td>\n",
       "      <td>8506.0</td>\n",
       "      <td>820.2</td>\n",
       "      <td>142.17</td>\n",
       "    </tr>\n",
       "    <tr>\n",
       "      <th>2011</th>\n",
       "      <td>64.88</td>\n",
       "      <td>56.24</td>\n",
       "      <td>14.10</td>\n",
       "      <td>21.56</td>\n",
       "      <td>9505.0</td>\n",
       "      <td>908.6</td>\n",
       "      <td>156.78</td>\n",
       "    </tr>\n",
       "    <tr>\n",
       "      <th>2012</th>\n",
       "      <td>39.88</td>\n",
       "      <td>39.05</td>\n",
       "      <td>11.94</td>\n",
       "      <td>16.49</td>\n",
       "      <td>6821.0</td>\n",
       "      <td>668.0</td>\n",
       "      <td>107.36</td>\n",
       "    </tr>\n",
       "    <tr>\n",
       "      <th>2013</th>\n",
       "      <td>41.45</td>\n",
       "      <td>42.27</td>\n",
       "      <td>12.13</td>\n",
       "      <td>17.40</td>\n",
       "      <td>6098.0</td>\n",
       "      <td>591.4</td>\n",
       "      <td>113.25</td>\n",
       "    </tr>\n",
       "    <tr>\n",
       "      <th>2014</th>\n",
       "      <td>16.39</td>\n",
       "      <td>18.24</td>\n",
       "      <td>6.25</td>\n",
       "      <td>6.88</td>\n",
       "      <td>2333.0</td>\n",
       "      <td>395.1</td>\n",
       "      <td>47.76</td>\n",
       "    </tr>\n",
       "    <tr>\n",
       "      <th>2015</th>\n",
       "      <td>4.99</td>\n",
       "      <td>6.04</td>\n",
       "      <td>3.67</td>\n",
       "      <td>2.12</td>\n",
       "      <td>63.0</td>\n",
       "      <td>154.6</td>\n",
       "      <td>16.82</td>\n",
       "    </tr>\n",
       "    <tr>\n",
       "      <th>2016</th>\n",
       "      <td>0.67</td>\n",
       "      <td>1.26</td>\n",
       "      <td>1.30</td>\n",
       "      <td>0.37</td>\n",
       "      <td>0.0</td>\n",
       "      <td>39.7</td>\n",
       "      <td>3.60</td>\n",
       "    </tr>\n",
       "    <tr>\n",
       "      <th rowspan=\"4\" valign=\"top\">PS4</th>\n",
       "      <th>2013</th>\n",
       "      <td>10.13</td>\n",
       "      <td>11.05</td>\n",
       "      <td>0.94</td>\n",
       "      <td>3.87</td>\n",
       "      <td>1064.0</td>\n",
       "      <td>81.9</td>\n",
       "      <td>25.99</td>\n",
       "    </tr>\n",
       "    <tr>\n",
       "      <th>2014</th>\n",
       "      <td>34.75</td>\n",
       "      <td>46.50</td>\n",
       "      <td>2.97</td>\n",
       "      <td>15.78</td>\n",
       "      <td>3803.0</td>\n",
       "      <td>350.5</td>\n",
       "      <td>100.00</td>\n",
       "    </tr>\n",
       "    <tr>\n",
       "      <th>2015</th>\n",
       "      <td>42.37</td>\n",
       "      <td>51.76</td>\n",
       "      <td>6.31</td>\n",
       "      <td>18.46</td>\n",
       "      <td>6276.0</td>\n",
       "      <td>607.6</td>\n",
       "      <td>118.90</td>\n",
       "    </tr>\n",
       "    <tr>\n",
       "      <th>2016</th>\n",
       "      <td>21.49</td>\n",
       "      <td>31.78</td>\n",
       "      <td>5.74</td>\n",
       "      <td>10.24</td>\n",
       "      <td>7024.0</td>\n",
       "      <td>694.3</td>\n",
       "      <td>69.25</td>\n",
       "    </tr>\n",
       "    <tr>\n",
       "      <th rowspan=\"12\" valign=\"top\">PSP</th>\n",
       "      <th>2004</th>\n",
       "      <td>2.25</td>\n",
       "      <td>1.70</td>\n",
       "      <td>2.03</td>\n",
       "      <td>1.08</td>\n",
       "      <td>563.0</td>\n",
       "      <td>44.8</td>\n",
       "      <td>7.06</td>\n",
       "    </tr>\n",
       "    <tr>\n",
       "      <th>2005</th>\n",
       "      <td>24.48</td>\n",
       "      <td>9.71</td>\n",
       "      <td>3.22</td>\n",
       "      <td>6.43</td>\n",
       "      <td>4848.0</td>\n",
       "      <td>512.8</td>\n",
       "      <td>43.84</td>\n",
       "    </tr>\n",
       "    <tr>\n",
       "      <th>2006</th>\n",
       "      <td>28.04</td>\n",
       "      <td>13.92</td>\n",
       "      <td>4.39</td>\n",
       "      <td>8.97</td>\n",
       "      <td>8452.0</td>\n",
       "      <td>756.0</td>\n",
       "      <td>55.32</td>\n",
       "    </tr>\n",
       "    <tr>\n",
       "      <th>2007</th>\n",
       "      <td>18.46</td>\n",
       "      <td>14.08</td>\n",
       "      <td>5.78</td>\n",
       "      <td>8.61</td>\n",
       "      <td>5970.0</td>\n",
       "      <td>554.6</td>\n",
       "      <td>46.93</td>\n",
       "    </tr>\n",
       "    <tr>\n",
       "      <th>2008</th>\n",
       "      <td>11.77</td>\n",
       "      <td>7.97</td>\n",
       "      <td>10.07</td>\n",
       "      <td>4.74</td>\n",
       "      <td>3269.0</td>\n",
       "      <td>337.0</td>\n",
       "      <td>34.55</td>\n",
       "    </tr>\n",
       "    <tr>\n",
       "      <th>2009</th>\n",
       "      <td>12.62</td>\n",
       "      <td>10.65</td>\n",
       "      <td>8.19</td>\n",
       "      <td>6.32</td>\n",
       "      <td>3756.0</td>\n",
       "      <td>393.7</td>\n",
       "      <td>37.78</td>\n",
       "    </tr>\n",
       "    <tr>\n",
       "      <th>2010</th>\n",
       "      <td>7.46</td>\n",
       "      <td>5.82</td>\n",
       "      <td>18.16</td>\n",
       "      <td>3.60</td>\n",
       "      <td>2954.0</td>\n",
       "      <td>318.5</td>\n",
       "      <td>35.04</td>\n",
       "    </tr>\n",
       "    <tr>\n",
       "      <th>2011</th>\n",
       "      <td>2.06</td>\n",
       "      <td>1.35</td>\n",
       "      <td>13.57</td>\n",
       "      <td>0.84</td>\n",
       "      <td>910.0</td>\n",
       "      <td>83.8</td>\n",
       "      <td>17.82</td>\n",
       "    </tr>\n",
       "    <tr>\n",
       "      <th>2012</th>\n",
       "      <td>0.13</td>\n",
       "      <td>0.25</td>\n",
       "      <td>7.18</td>\n",
       "      <td>0.13</td>\n",
       "      <td>0.0</td>\n",
       "      <td>12.1</td>\n",
       "      <td>7.69</td>\n",
       "    </tr>\n",
       "    <tr>\n",
       "      <th>2013</th>\n",
       "      <td>0.00</td>\n",
       "      <td>0.17</td>\n",
       "      <td>2.93</td>\n",
       "      <td>0.04</td>\n",
       "      <td>74.0</td>\n",
       "      <td>11.7</td>\n",
       "      <td>3.14</td>\n",
       "    </tr>\n",
       "    <tr>\n",
       "      <th>2014</th>\n",
       "      <td>0.00</td>\n",
       "      <td>0.00</td>\n",
       "      <td>0.24</td>\n",
       "      <td>0.00</td>\n",
       "      <td>0.0</td>\n",
       "      <td>0.0</td>\n",
       "      <td>0.24</td>\n",
       "    </tr>\n",
       "    <tr>\n",
       "      <th>2015</th>\n",
       "      <td>0.00</td>\n",
       "      <td>0.00</td>\n",
       "      <td>0.12</td>\n",
       "      <td>0.00</td>\n",
       "      <td>0.0</td>\n",
       "      <td>0.0</td>\n",
       "      <td>0.12</td>\n",
       "    </tr>\n",
       "    <tr>\n",
       "      <th rowspan=\"6\" valign=\"top\">PSV</th>\n",
       "      <th>2011</th>\n",
       "      <td>1.49</td>\n",
       "      <td>1.71</td>\n",
       "      <td>0.80</td>\n",
       "      <td>0.63</td>\n",
       "      <td>785.0</td>\n",
       "      <td>78.2</td>\n",
       "      <td>4.63</td>\n",
       "    </tr>\n",
       "    <tr>\n",
       "      <th>2012</th>\n",
       "      <td>5.94</td>\n",
       "      <td>5.26</td>\n",
       "      <td>2.45</td>\n",
       "      <td>2.54</td>\n",
       "      <td>2116.0</td>\n",
       "      <td>218.1</td>\n",
       "      <td>16.19</td>\n",
       "    </tr>\n",
       "    <tr>\n",
       "      <th>2013</th>\n",
       "      <td>2.52</td>\n",
       "      <td>2.57</td>\n",
       "      <td>4.05</td>\n",
       "      <td>1.45</td>\n",
       "      <td>1614.0</td>\n",
       "      <td>186.3</td>\n",
       "      <td>10.59</td>\n",
       "    </tr>\n",
       "    <tr>\n",
       "      <th>2014</th>\n",
       "      <td>1.98</td>\n",
       "      <td>2.45</td>\n",
       "      <td>6.13</td>\n",
       "      <td>1.34</td>\n",
       "      <td>2156.0</td>\n",
       "      <td>277.8</td>\n",
       "      <td>11.90</td>\n",
       "    </tr>\n",
       "    <tr>\n",
       "      <th>2015</th>\n",
       "      <td>0.39</td>\n",
       "      <td>0.69</td>\n",
       "      <td>4.85</td>\n",
       "      <td>0.32</td>\n",
       "      <td>1003.0</td>\n",
       "      <td>180.0</td>\n",
       "      <td>6.25</td>\n",
       "    </tr>\n",
       "    <tr>\n",
       "      <th>2016</th>\n",
       "      <td>0.15</td>\n",
       "      <td>0.39</td>\n",
       "      <td>3.56</td>\n",
       "      <td>0.15</td>\n",
       "      <td>743.0</td>\n",
       "      <td>101.1</td>\n",
       "      <td>4.25</td>\n",
       "    </tr>\n",
       "    <tr>\n",
       "      <th rowspan=\"6\" valign=\"top\">SAT</th>\n",
       "      <th>1994</th>\n",
       "      <td>0.17</td>\n",
       "      <td>0.12</td>\n",
       "      <td>3.34</td>\n",
       "      <td>0.02</td>\n",
       "      <td>0.0</td>\n",
       "      <td>0.0</td>\n",
       "      <td>3.65</td>\n",
       "    </tr>\n",
       "    <tr>\n",
       "      <th>1995</th>\n",
       "      <td>0.55</td>\n",
       "      <td>0.42</td>\n",
       "      <td>10.55</td>\n",
       "      <td>0.05</td>\n",
       "      <td>0.0</td>\n",
       "      <td>0.0</td>\n",
       "      <td>11.57</td>\n",
       "    </tr>\n",
       "    <tr>\n",
       "      <th>1996</th>\n",
       "      <td>0.00</td>\n",
       "      <td>0.00</td>\n",
       "      <td>7.69</td>\n",
       "      <td>0.00</td>\n",
       "      <td>0.0</td>\n",
       "      <td>0.0</td>\n",
       "      <td>7.69</td>\n",
       "    </tr>\n",
       "    <tr>\n",
       "      <th>1997</th>\n",
       "      <td>0.00</td>\n",
       "      <td>0.00</td>\n",
       "      <td>6.77</td>\n",
       "      <td>0.00</td>\n",
       "      <td>0.0</td>\n",
       "      <td>0.0</td>\n",
       "      <td>6.77</td>\n",
       "    </tr>\n",
       "    <tr>\n",
       "      <th>1998</th>\n",
       "      <td>0.00</td>\n",
       "      <td>0.00</td>\n",
       "      <td>3.82</td>\n",
       "      <td>0.00</td>\n",
       "      <td>0.0</td>\n",
       "      <td>0.0</td>\n",
       "      <td>3.82</td>\n",
       "    </tr>\n",
       "    <tr>\n",
       "      <th>1999</th>\n",
       "      <td>0.00</td>\n",
       "      <td>0.00</td>\n",
       "      <td>0.09</td>\n",
       "      <td>0.00</td>\n",
       "      <td>0.0</td>\n",
       "      <td>0.0</td>\n",
       "      <td>0.09</td>\n",
       "    </tr>\n",
       "    <tr>\n",
       "      <th rowspan=\"2\" valign=\"top\">SCD</th>\n",
       "      <th>1993</th>\n",
       "      <td>1.00</td>\n",
       "      <td>0.36</td>\n",
       "      <td>0.09</td>\n",
       "      <td>0.05</td>\n",
       "      <td>0.0</td>\n",
       "      <td>0.0</td>\n",
       "      <td>1.50</td>\n",
       "    </tr>\n",
       "    <tr>\n",
       "      <th>1994</th>\n",
       "      <td>0.00</td>\n",
       "      <td>0.00</td>\n",
       "      <td>0.36</td>\n",
       "      <td>0.00</td>\n",
       "      <td>0.0</td>\n",
       "      <td>0.0</td>\n",
       "      <td>0.36</td>\n",
       "    </tr>\n",
       "    <tr>\n",
       "      <th rowspan=\"10\" valign=\"top\">SNES</th>\n",
       "      <th>1990</th>\n",
       "      <td>15.28</td>\n",
       "      <td>4.60</td>\n",
       "      <td>5.60</td>\n",
       "      <td>0.67</td>\n",
       "      <td>0.0</td>\n",
       "      <td>0.0</td>\n",
       "      <td>26.15</td>\n",
       "    </tr>\n",
       "    <tr>\n",
       "      <th>1991</th>\n",
       "      <td>5.47</td>\n",
       "      <td>1.84</td>\n",
       "      <td>8.54</td>\n",
       "      <td>0.37</td>\n",
       "      <td>0.0</td>\n",
       "      <td>0.0</td>\n",
       "      <td>16.22</td>\n",
       "    </tr>\n",
       "    <tr>\n",
       "      <th>1992</th>\n",
       "      <td>9.52</td>\n",
       "      <td>3.29</td>\n",
       "      <td>19.67</td>\n",
       "      <td>0.50</td>\n",
       "      <td>0.0</td>\n",
       "      <td>0.0</td>\n",
       "      <td>32.98</td>\n",
       "    </tr>\n",
       "    <tr>\n",
       "      <th>1993</th>\n",
       "      <td>12.18</td>\n",
       "      <td>3.85</td>\n",
       "      <td>23.21</td>\n",
       "      <td>0.78</td>\n",
       "      <td>0.0</td>\n",
       "      <td>0.0</td>\n",
       "      <td>40.02</td>\n",
       "    </tr>\n",
       "    <tr>\n",
       "      <th>1994</th>\n",
       "      <td>9.43</td>\n",
       "      <td>2.67</td>\n",
       "      <td>22.57</td>\n",
       "      <td>0.41</td>\n",
       "      <td>0.0</td>\n",
       "      <td>0.0</td>\n",
       "      <td>35.08</td>\n",
       "    </tr>\n",
       "    <tr>\n",
       "      <th>1995</th>\n",
       "      <td>7.26</td>\n",
       "      <td>2.22</td>\n",
       "      <td>22.37</td>\n",
       "      <td>0.35</td>\n",
       "      <td>0.0</td>\n",
       "      <td>0.0</td>\n",
       "      <td>32.20</td>\n",
       "    </tr>\n",
       "    <tr>\n",
       "      <th>1996</th>\n",
       "      <td>2.09</td>\n",
       "      <td>0.57</td>\n",
       "      <td>13.12</td>\n",
       "      <td>0.14</td>\n",
       "      <td>0.0</td>\n",
       "      <td>0.0</td>\n",
       "      <td>15.92</td>\n",
       "    </tr>\n",
       "    <tr>\n",
       "      <th>1997</th>\n",
       "      <td>0.00</td>\n",
       "      <td>0.00</td>\n",
       "      <td>0.99</td>\n",
       "      <td>0.00</td>\n",
       "      <td>0.0</td>\n",
       "      <td>0.0</td>\n",
       "      <td>0.99</td>\n",
       "    </tr>\n",
       "    <tr>\n",
       "      <th>1998</th>\n",
       "      <td>0.00</td>\n",
       "      <td>0.00</td>\n",
       "      <td>0.22</td>\n",
       "      <td>0.00</td>\n",
       "      <td>0.0</td>\n",
       "      <td>0.0</td>\n",
       "      <td>0.22</td>\n",
       "    </tr>\n",
       "    <tr>\n",
       "      <th>1999</th>\n",
       "      <td>0.00</td>\n",
       "      <td>0.00</td>\n",
       "      <td>0.26</td>\n",
       "      <td>0.00</td>\n",
       "      <td>0.0</td>\n",
       "      <td>0.0</td>\n",
       "      <td>0.26</td>\n",
       "    </tr>\n",
       "    <tr>\n",
       "      <th>TG16</th>\n",
       "      <th>1995</th>\n",
       "      <td>0.00</td>\n",
       "      <td>0.00</td>\n",
       "      <td>0.16</td>\n",
       "      <td>0.00</td>\n",
       "      <td>0.0</td>\n",
       "      <td>0.0</td>\n",
       "      <td>0.16</td>\n",
       "    </tr>\n",
       "    <tr>\n",
       "      <th rowspan=\"3\" valign=\"top\">WS</th>\n",
       "      <th>1999</th>\n",
       "      <td>0.00</td>\n",
       "      <td>0.00</td>\n",
       "      <td>0.46</td>\n",
       "      <td>0.00</td>\n",
       "      <td>0.0</td>\n",
       "      <td>0.0</td>\n",
       "      <td>0.46</td>\n",
       "    </tr>\n",
       "    <tr>\n",
       "      <th>2000</th>\n",
       "      <td>0.00</td>\n",
       "      <td>0.00</td>\n",
       "      <td>0.68</td>\n",
       "      <td>0.00</td>\n",
       "      <td>0.0</td>\n",
       "      <td>0.0</td>\n",
       "      <td>0.68</td>\n",
       "    </tr>\n",
       "    <tr>\n",
       "      <th>2001</th>\n",
       "      <td>0.00</td>\n",
       "      <td>0.00</td>\n",
       "      <td>0.28</td>\n",
       "      <td>0.00</td>\n",
       "      <td>0.0</td>\n",
       "      <td>0.0</td>\n",
       "      <td>0.28</td>\n",
       "    </tr>\n",
       "    <tr>\n",
       "      <th rowspan=\"11\" valign=\"top\">Wii</th>\n",
       "      <th>2006</th>\n",
       "      <td>70.86</td>\n",
       "      <td>43.62</td>\n",
       "      <td>9.15</td>\n",
       "      <td>13.52</td>\n",
       "      <td>2140.0</td>\n",
       "      <td>223.6</td>\n",
       "      <td>137.15</td>\n",
       "    </tr>\n",
       "    <tr>\n",
       "      <th>2007</th>\n",
       "      <td>83.14</td>\n",
       "      <td>43.96</td>\n",
       "      <td>12.12</td>\n",
       "      <td>13.55</td>\n",
       "      <td>7243.0</td>\n",
       "      <td>804.4</td>\n",
       "      <td>152.77</td>\n",
       "    </tr>\n",
       "    <tr>\n",
       "      <th>2008</th>\n",
       "      <td>97.12</td>\n",
       "      <td>46.52</td>\n",
       "      <td>12.69</td>\n",
       "      <td>14.99</td>\n",
       "      <td>8660.0</td>\n",
       "      <td>972.7</td>\n",
       "      <td>171.32</td>\n",
       "    </tr>\n",
       "    <tr>\n",
       "      <th>2009</th>\n",
       "      <td>114.55</td>\n",
       "      <td>58.31</td>\n",
       "      <td>16.57</td>\n",
       "      <td>17.54</td>\n",
       "      <td>9351.0</td>\n",
       "      <td>855.5</td>\n",
       "      <td>206.97</td>\n",
       "    </tr>\n",
       "    <tr>\n",
       "      <th>2010</th>\n",
       "      <td>72.64</td>\n",
       "      <td>36.31</td>\n",
       "      <td>8.78</td>\n",
       "      <td>10.22</td>\n",
       "      <td>5020.0</td>\n",
       "      <td>441.7</td>\n",
       "      <td>127.95</td>\n",
       "    </tr>\n",
       "    <tr>\n",
       "      <th>2011</th>\n",
       "      <td>31.11</td>\n",
       "      <td>17.68</td>\n",
       "      <td>5.58</td>\n",
       "      <td>5.28</td>\n",
       "      <td>2863.0</td>\n",
       "      <td>291.1</td>\n",
       "      <td>59.65</td>\n",
       "    </tr>\n",
       "    <tr>\n",
       "      <th>2012</th>\n",
       "      <td>10.89</td>\n",
       "      <td>5.99</td>\n",
       "      <td>3.34</td>\n",
       "      <td>1.49</td>\n",
       "      <td>381.0</td>\n",
       "      <td>66.6</td>\n",
       "      <td>21.71</td>\n",
       "    </tr>\n",
       "    <tr>\n",
       "      <th>2013</th>\n",
       "      <td>4.48</td>\n",
       "      <td>3.34</td>\n",
       "      <td>0.05</td>\n",
       "      <td>0.72</td>\n",
       "      <td>0.0</td>\n",
       "      <td>24.1</td>\n",
       "      <td>8.59</td>\n",
       "    </tr>\n",
       "    <tr>\n",
       "      <th>2014</th>\n",
       "      <td>1.59</td>\n",
       "      <td>1.86</td>\n",
       "      <td>0.00</td>\n",
       "      <td>0.30</td>\n",
       "      <td>0.0</td>\n",
       "      <td>12.7</td>\n",
       "      <td>3.75</td>\n",
       "    </tr>\n",
       "    <tr>\n",
       "      <th>2015</th>\n",
       "      <td>0.43</td>\n",
       "      <td>0.62</td>\n",
       "      <td>0.00</td>\n",
       "      <td>0.09</td>\n",
       "      <td>0.0</td>\n",
       "      <td>0.0</td>\n",
       "      <td>1.14</td>\n",
       "    </tr>\n",
       "    <tr>\n",
       "      <th>2016</th>\n",
       "      <td>0.06</td>\n",
       "      <td>0.11</td>\n",
       "      <td>0.00</td>\n",
       "      <td>0.01</td>\n",
       "      <td>0.0</td>\n",
       "      <td>0.0</td>\n",
       "      <td>0.18</td>\n",
       "    </tr>\n",
       "    <tr>\n",
       "      <th rowspan=\"5\" valign=\"top\">WiiU</th>\n",
       "      <th>2012</th>\n",
       "      <td>8.89</td>\n",
       "      <td>5.28</td>\n",
       "      <td>2.13</td>\n",
       "      <td>1.26</td>\n",
       "      <td>1351.0</td>\n",
       "      <td>129.0</td>\n",
       "      <td>17.56</td>\n",
       "    </tr>\n",
       "    <tr>\n",
       "      <th>2013</th>\n",
       "      <td>9.85</td>\n",
       "      <td>6.70</td>\n",
       "      <td>3.57</td>\n",
       "      <td>1.53</td>\n",
       "      <td>1954.0</td>\n",
       "      <td>221.2</td>\n",
       "      <td>21.65</td>\n",
       "    </tr>\n",
       "    <tr>\n",
       "      <th>2014</th>\n",
       "      <td>10.50</td>\n",
       "      <td>6.66</td>\n",
       "      <td>3.19</td>\n",
       "      <td>1.68</td>\n",
       "      <td>1061.0</td>\n",
       "      <td>135.9</td>\n",
       "      <td>22.03</td>\n",
       "    </tr>\n",
       "    <tr>\n",
       "      <th>2015</th>\n",
       "      <td>6.76</td>\n",
       "      <td>5.01</td>\n",
       "      <td>3.45</td>\n",
       "      <td>1.13</td>\n",
       "      <td>1346.0</td>\n",
       "      <td>138.9</td>\n",
       "      <td>16.35</td>\n",
       "    </tr>\n",
       "    <tr>\n",
       "      <th>2016</th>\n",
       "      <td>2.10</td>\n",
       "      <td>1.48</td>\n",
       "      <td>0.67</td>\n",
       "      <td>0.35</td>\n",
       "      <td>654.0</td>\n",
       "      <td>65.4</td>\n",
       "      <td>4.60</td>\n",
       "    </tr>\n",
       "    <tr>\n",
       "      <th rowspan=\"12\" valign=\"top\">X360</th>\n",
       "      <th>2005</th>\n",
       "      <td>6.90</td>\n",
       "      <td>0.43</td>\n",
       "      <td>0.28</td>\n",
       "      <td>0.64</td>\n",
       "      <td>1227.0</td>\n",
       "      <td>117.7</td>\n",
       "      <td>8.25</td>\n",
       "    </tr>\n",
       "    <tr>\n",
       "      <th>2006</th>\n",
       "      <td>35.16</td>\n",
       "      <td>10.84</td>\n",
       "      <td>1.20</td>\n",
       "      <td>4.42</td>\n",
       "      <td>5308.0</td>\n",
       "      <td>530.8</td>\n",
       "      <td>51.62</td>\n",
       "    </tr>\n",
       "    <tr>\n",
       "      <th>2007</th>\n",
       "      <td>62.99</td>\n",
       "      <td>22.17</td>\n",
       "      <td>1.52</td>\n",
       "      <td>8.73</td>\n",
       "      <td>7603.0</td>\n",
       "      <td>731.1</td>\n",
       "      <td>95.41</td>\n",
       "    </tr>\n",
       "    <tr>\n",
       "      <th>2008</th>\n",
       "      <td>82.51</td>\n",
       "      <td>38.16</td>\n",
       "      <td>1.89</td>\n",
       "      <td>12.70</td>\n",
       "      <td>8604.0</td>\n",
       "      <td>859.6</td>\n",
       "      <td>135.26</td>\n",
       "    </tr>\n",
       "    <tr>\n",
       "      <th>2009</th>\n",
       "      <td>74.00</td>\n",
       "      <td>33.31</td>\n",
       "      <td>1.95</td>\n",
       "      <td>11.03</td>\n",
       "      <td>9056.0</td>\n",
       "      <td>893.1</td>\n",
       "      <td>120.29</td>\n",
       "    </tr>\n",
       "    <tr>\n",
       "      <th>2010</th>\n",
       "      <td>107.38</td>\n",
       "      <td>46.31</td>\n",
       "      <td>2.11</td>\n",
       "      <td>14.23</td>\n",
       "      <td>8937.0</td>\n",
       "      <td>876.3</td>\n",
       "      <td>170.03</td>\n",
       "    </tr>\n",
       "    <tr>\n",
       "      <th>2011</th>\n",
       "      <td>86.75</td>\n",
       "      <td>42.58</td>\n",
       "      <td>1.78</td>\n",
       "      <td>12.73</td>\n",
       "      <td>8551.0</td>\n",
       "      <td>842.8</td>\n",
       "      <td>143.84</td>\n",
       "    </tr>\n",
       "    <tr>\n",
       "      <th>2012</th>\n",
       "      <td>58.39</td>\n",
       "      <td>32.00</td>\n",
       "      <td>1.06</td>\n",
       "      <td>8.29</td>\n",
       "      <td>6511.0</td>\n",
       "      <td>604.9</td>\n",
       "      <td>99.74</td>\n",
       "    </tr>\n",
       "    <tr>\n",
       "      <th>2013</th>\n",
       "      <td>53.36</td>\n",
       "      <td>27.03</td>\n",
       "      <td>0.43</td>\n",
       "      <td>7.76</td>\n",
       "      <td>3951.0</td>\n",
       "      <td>378.0</td>\n",
       "      <td>88.58</td>\n",
       "    </tr>\n",
       "    <tr>\n",
       "      <th>2014</th>\n",
       "      <td>20.25</td>\n",
       "      <td>11.28</td>\n",
       "      <td>0.08</td>\n",
       "      <td>3.13</td>\n",
       "      <td>1657.0</td>\n",
       "      <td>311.9</td>\n",
       "      <td>34.74</td>\n",
       "    </tr>\n",
       "    <tr>\n",
       "      <th>2015</th>\n",
       "      <td>7.36</td>\n",
       "      <td>3.50</td>\n",
       "      <td>0.00</td>\n",
       "      <td>1.10</td>\n",
       "      <td>0.0</td>\n",
       "      <td>137.9</td>\n",
       "      <td>11.96</td>\n",
       "    </tr>\n",
       "    <tr>\n",
       "      <th>2016</th>\n",
       "      <td>0.69</td>\n",
       "      <td>0.71</td>\n",
       "      <td>0.00</td>\n",
       "      <td>0.12</td>\n",
       "      <td>0.0</td>\n",
       "      <td>29.2</td>\n",
       "      <td>1.52</td>\n",
       "    </tr>\n",
       "    <tr>\n",
       "      <th rowspan=\"9\" valign=\"top\">XB</th>\n",
       "      <th>2000</th>\n",
       "      <td>0.74</td>\n",
       "      <td>0.21</td>\n",
       "      <td>0.00</td>\n",
       "      <td>0.04</td>\n",
       "      <td>79.0</td>\n",
       "      <td>8.5</td>\n",
       "      <td>0.99</td>\n",
       "    </tr>\n",
       "    <tr>\n",
       "      <th>2001</th>\n",
       "      <td>16.61</td>\n",
       "      <td>4.65</td>\n",
       "      <td>0.37</td>\n",
       "      <td>0.63</td>\n",
       "      <td>2314.0</td>\n",
       "      <td>198.4</td>\n",
       "      <td>22.26</td>\n",
       "    </tr>\n",
       "    <tr>\n",
       "      <th>2002</th>\n",
       "      <td>34.05</td>\n",
       "      <td>11.78</td>\n",
       "      <td>0.49</td>\n",
       "      <td>1.69</td>\n",
       "      <td>9616.0</td>\n",
       "      <td>788.5</td>\n",
       "      <td>48.01</td>\n",
       "    </tr>\n",
       "    <tr>\n",
       "      <th>2003</th>\n",
       "      <td>39.34</td>\n",
       "      <td>13.49</td>\n",
       "      <td>0.30</td>\n",
       "      <td>1.91</td>\n",
       "      <td>11251.0</td>\n",
       "      <td>1027.7</td>\n",
       "      <td>55.04</td>\n",
       "    </tr>\n",
       "    <tr>\n",
       "      <th>2004</th>\n",
       "      <td>48.47</td>\n",
       "      <td>14.62</td>\n",
       "      <td>0.20</td>\n",
       "      <td>2.13</td>\n",
       "      <td>10928.0</td>\n",
       "      <td>994.3</td>\n",
       "      <td>65.42</td>\n",
       "    </tr>\n",
       "    <tr>\n",
       "      <th>2005</th>\n",
       "      <td>34.84</td>\n",
       "      <td>12.49</td>\n",
       "      <td>0.02</td>\n",
       "      <td>1.73</td>\n",
       "      <td>11223.0</td>\n",
       "      <td>971.4</td>\n",
       "      <td>49.08</td>\n",
       "    </tr>\n",
       "    <tr>\n",
       "      <th>2006</th>\n",
       "      <td>7.47</td>\n",
       "      <td>2.25</td>\n",
       "      <td>0.00</td>\n",
       "      <td>0.32</td>\n",
       "      <td>3726.0</td>\n",
       "      <td>280.8</td>\n",
       "      <td>10.04</td>\n",
       "    </tr>\n",
       "    <tr>\n",
       "      <th>2007</th>\n",
       "      <td>0.41</td>\n",
       "      <td>0.12</td>\n",
       "      <td>0.00</td>\n",
       "      <td>0.02</td>\n",
       "      <td>221.0</td>\n",
       "      <td>21.7</td>\n",
       "      <td>0.55</td>\n",
       "    </tr>\n",
       "    <tr>\n",
       "      <th>2008</th>\n",
       "      <td>0.13</td>\n",
       "      <td>0.04</td>\n",
       "      <td>0.00</td>\n",
       "      <td>0.01</td>\n",
       "      <td>0.0</td>\n",
       "      <td>5.5</td>\n",
       "      <td>0.18</td>\n",
       "    </tr>\n",
       "    <tr>\n",
       "      <th rowspan=\"4\" valign=\"top\">XOne</th>\n",
       "      <th>2013</th>\n",
       "      <td>11.85</td>\n",
       "      <td>5.34</td>\n",
       "      <td>0.02</td>\n",
       "      <td>1.75</td>\n",
       "      <td>954.0</td>\n",
       "      <td>98.8</td>\n",
       "      <td>18.96</td>\n",
       "    </tr>\n",
       "    <tr>\n",
       "      <th>2014</th>\n",
       "      <td>30.97</td>\n",
       "      <td>18.15</td>\n",
       "      <td>0.14</td>\n",
       "      <td>4.81</td>\n",
       "      <td>3194.0</td>\n",
       "      <td>296.5</td>\n",
       "      <td>54.07</td>\n",
       "    </tr>\n",
       "    <tr>\n",
       "      <th>2015</th>\n",
       "      <td>36.03</td>\n",
       "      <td>18.47</td>\n",
       "      <td>0.17</td>\n",
       "      <td>5.47</td>\n",
       "      <td>3814.0</td>\n",
       "      <td>356.1</td>\n",
       "      <td>60.14</td>\n",
       "    </tr>\n",
       "    <tr>\n",
       "      <th>2016</th>\n",
       "      <td>14.27</td>\n",
       "      <td>9.63</td>\n",
       "      <td>0.01</td>\n",
       "      <td>2.24</td>\n",
       "      <td>4430.0</td>\n",
       "      <td>435.5</td>\n",
       "      <td>26.15</td>\n",
       "    </tr>\n",
       "  </tbody>\n",
       "</table>\n",
       "</div>"
      ],
      "text/plain": [
       "                          na_sales  eu_sales  jp_sales  other_sales  \\\n",
       "platform year_of_release                                              \n",
       "2600     1980                10.59      0.67      0.00         0.12   \n",
       "         1981                33.40      1.96      0.00         0.32   \n",
       "         1982                26.92      1.65      0.00         0.31   \n",
       "         1983                 5.44      0.34      0.00         0.06   \n",
       "         1984                 0.26      0.01      0.00         0.00   \n",
       "         1985                 0.42      0.03      0.00         0.00   \n",
       "         1986                 0.63      0.04      0.00         0.00   \n",
       "         1987                 1.84      0.09      0.00         0.01   \n",
       "         1988                 0.69      0.04      0.00         0.01   \n",
       "         1989                 0.59      0.03      0.00         0.01   \n",
       "3DO      1994                 0.00      0.00      0.02         0.00   \n",
       "         1995                 0.00      0.00      0.08         0.00   \n",
       "3DS      2011                27.34     18.63     12.83         4.40   \n",
       "         2012                17.11     11.68     19.98         2.59   \n",
       "         2013                15.56     14.84     23.57         2.60   \n",
       "         2014                12.33      8.73     20.69         2.01   \n",
       "         2015                 6.17      5.06     15.52         1.03   \n",
       "         2016                 4.14      2.33      8.03         0.64   \n",
       "DC       1998                 1.26      0.61      1.43         0.08   \n",
       "         1999                 1.64      0.29      3.17         0.06   \n",
       "         2000                 2.53      0.79      2.54         0.13   \n",
       "         2001                 0.00      0.00      1.07         0.00   \n",
       "         2002                 0.00      0.00      0.29         0.00   \n",
       "         2007                 0.00      0.00      0.02         0.00   \n",
       "         2008                 0.00      0.00      0.04         0.00   \n",
       "DS       1985                 0.00      0.00      0.02         0.00   \n",
       "         2004                 8.33      3.93      3.65         1.36   \n",
       "         2005                47.99     41.49     29.86        10.80   \n",
       "         2006                50.01     23.07     38.56         8.17   \n",
       "         2007                75.25     33.79     26.81        11.09   \n",
       "         2008                78.12     32.24     24.01        10.94   \n",
       "         2009                60.95     25.83     24.21         8.55   \n",
       "         2010                40.80     18.82     19.86         5.54   \n",
       "         2011                14.27      5.71      4.32         1.88   \n",
       "         2012                 4.02      2.68      3.72         0.59   \n",
       "         2013                 0.57      0.85      0.00         0.12   \n",
       "GB       1988                 0.82      0.23      0.35         0.03   \n",
       "         1989                39.81      7.60     16.16         1.40   \n",
       "         1990                 2.24      0.89      1.33         0.43   \n",
       "         1991                 1.43      0.68      3.38         0.08   \n",
       "         1992                13.10      4.24      7.51         0.64   \n",
       "         1994                 6.03      2.36      3.19         0.60   \n",
       "         1995                 0.69      0.14      2.72         0.05   \n",
       "         1996                12.66      9.37     12.91         1.09   \n",
       "         1997                 2.09      0.90      3.26         0.12   \n",
       "         1998                 9.44      7.00      9.55         0.91   \n",
       "         1999                16.21      8.91     11.75         1.13   \n",
       "         2000                 6.39      3.52      8.36         1.49   \n",
       "         2001                 2.73      1.67      4.65         0.19   \n",
       "GBA      2000                 0.05      0.02      0.00         0.00   \n",
       "         2001                36.24     15.92      7.46         1.91   \n",
       "         2002                43.02     17.12     12.21         1.81   \n",
       "         2003                33.53     13.19      8.59         1.36   \n",
       "         2004                44.43     18.15     13.52         1.81   \n",
       "         2005                21.70      8.31      3.27         0.58   \n",
       "         2006                 2.70      0.98      1.51         0.09   \n",
       "         2007                 2.45      0.90      0.00         0.05   \n",
       "GC       2001                16.91      4.80      3.85         0.78   \n",
       "         2002                34.71     10.49      5.28         1.33   \n",
       "         2003                32.64     10.23      6.43         1.31   \n",
       "         2004                19.71      5.33      3.00         0.78   \n",
       "         2005                19.25      5.13      2.57         0.67   \n",
       "         2006                 8.51      2.28      0.21         0.26   \n",
       "         2007                 0.21      0.06      0.00         0.00   \n",
       "GEN      1990                 1.86      0.55      0.11         0.08   \n",
       "         1991                 3.03      0.91      0.26         0.13   \n",
       "         1992                 9.17      2.38      0.72         0.37   \n",
       "         1993                 0.00      0.00      0.65         0.00   \n",
       "         1994                 5.21      1.68      0.93         0.31   \n",
       "GG       1992                 0.00      0.00      0.04         0.00   \n",
       "N64      1996                21.03      6.72      5.77         0.58   \n",
       "         1997                25.84      8.09      4.66         0.91   \n",
       "         1998                31.39     10.35      6.54         0.96   \n",
       "         1999                38.77      9.74      8.54         0.82   \n",
       "         2000                19.74      5.59      7.72         0.92   \n",
       "         2001                 2.08      0.52      0.53         0.12   \n",
       "         2002                 0.06      0.02      0.00         0.00   \n",
       "NES      1983                 2.32      0.46      8.10         0.08   \n",
       "         1984                33.02      2.09     14.27         0.70   \n",
       "         1985                33.31      4.68     14.54         0.91   \n",
       "         1986                11.87      2.80     19.81         1.93   \n",
       "         1987                 6.62      1.32     11.63         0.19   \n",
       "         1988                22.36      6.30     15.41         0.94   \n",
       "         1989                 4.75      0.81      2.20         0.09   \n",
       "         1990                 6.08      1.59      7.84         0.22   \n",
       "         1991                 2.83      0.52      2.60         0.16   \n",
       "         1992                 0.84      0.14      0.97         0.03   \n",
       "         1993                 1.94      0.44      1.17         0.06   \n",
       "         1994                 0.00      0.00      0.11         0.00   \n",
       "NG       1993                 0.00      0.00      0.21         0.00   \n",
       "         1994                 0.00      0.00      0.80         0.00   \n",
       "         1995                 0.00      0.00      0.33         0.00   \n",
       "         1996                 0.00      0.00      0.10         0.00   \n",
       "PC       1985                 0.00      0.03      0.00         0.01   \n",
       "         1988                 0.00      0.02      0.00         0.01   \n",
       "         1992                 1.26      1.66      0.00         0.11   \n",
       "         1994                 5.56      6.85      0.00         0.46   \n",
       "         1995                 1.72      2.27      0.00         0.23   \n",
       "         1996                 5.56      4.68      0.00         0.34   \n",
       "         1997                 8.76      2.19      0.09         0.23   \n",
       "         1998                 3.05      0.20      0.00         0.01   \n",
       "         1999                 3.50      1.13      0.00         0.11   \n",
       "         2000                 3.03      1.45      0.00         0.18   \n",
       "         2001                 4.08      1.24      0.00         0.15   \n",
       "         2002                 5.03      3.18      0.00         0.36   \n",
       "         2003                 3.41      4.92      0.00         0.51   \n",
       "         2004                 2.54      7.54      0.08         0.23   \n",
       "         2005                 1.39      2.69      0.00         0.29   \n",
       "         2006                 0.61      1.94      0.00         0.30   \n",
       "         2007                 2.77      6.21      0.00         0.30   \n",
       "         2008                 0.58      9.85      0.00         1.99   \n",
       "         2009                 1.42     13.50      0.00         1.99   \n",
       "         2010                 9.19     12.12      0.00         2.97   \n",
       "         2011                10.76     18.94      0.00         5.33   \n",
       "         2012                 8.01     12.40      0.00         2.81   \n",
       "         2013                 3.88      7.39      0.00         1.11   \n",
       "         2014                 3.51      8.87      0.00         0.90   \n",
       "         2015                 2.36      5.57      0.00         0.59   \n",
       "         2016                 1.36      3.53      0.00         0.36   \n",
       "PCFX     1996                 0.00      0.00      0.03         0.00   \n",
       "PS       1994                 1.76      1.20      2.67         0.40   \n",
       "         1995                14.61      9.85      9.54         1.96   \n",
       "         1996                45.42     25.92     17.82         5.54   \n",
       "         1997                58.06     37.14     33.10         7.87   \n",
       "         1998                83.22     48.74     28.48         9.05   \n",
       "         1999                65.94     42.60     28.07         7.92   \n",
       "         2000                45.94     30.55     14.60         5.28   \n",
       "         2001                15.84     13.72      3.86         2.17   \n",
       "         2002                 2.78      1.89      1.64         0.36   \n",
       "         2003                 1.15      0.78      0.00         0.14   \n",
       "PS2      2000                16.08     10.64      8.87         3.58   \n",
       "         2001                79.49     52.37     17.79        16.78   \n",
       "         2002                96.54     65.27     21.85        21.72   \n",
       "         2003                83.54     61.20     18.88        20.69   \n",
       "         2004                96.78     56.01     19.17        39.85   \n",
       "         2005                85.60     40.86     15.05        19.15   \n",
       "         2006                49.93     21.61     17.64        14.24   \n",
       "         2007                32.05     10.43      9.82        23.69   \n",
       "         2008                21.23      7.63      5.73        19.31   \n",
       "         2009                 9.36      4.94      1.94        10.16   \n",
       "         2010                 2.19      1.54      0.71         1.20   \n",
       "         2011                 0.13      0.13      0.09         0.10   \n",
       "PS3      2006                 8.84      7.38      1.08         3.66   \n",
       "         2007                32.16     26.10      4.22        10.71   \n",
       "         2008                57.23     38.73      5.82        16.74   \n",
       "         2009                62.65     41.40      9.03        17.85   \n",
       "         2010                60.99     50.50      9.87        20.81   \n",
       "         2011                64.88     56.24     14.10        21.56   \n",
       "         2012                39.88     39.05     11.94        16.49   \n",
       "         2013                41.45     42.27     12.13        17.40   \n",
       "         2014                16.39     18.24      6.25         6.88   \n",
       "         2015                 4.99      6.04      3.67         2.12   \n",
       "         2016                 0.67      1.26      1.30         0.37   \n",
       "PS4      2013                10.13     11.05      0.94         3.87   \n",
       "         2014                34.75     46.50      2.97        15.78   \n",
       "         2015                42.37     51.76      6.31        18.46   \n",
       "         2016                21.49     31.78      5.74        10.24   \n",
       "PSP      2004                 2.25      1.70      2.03         1.08   \n",
       "         2005                24.48      9.71      3.22         6.43   \n",
       "         2006                28.04     13.92      4.39         8.97   \n",
       "         2007                18.46     14.08      5.78         8.61   \n",
       "         2008                11.77      7.97     10.07         4.74   \n",
       "         2009                12.62     10.65      8.19         6.32   \n",
       "         2010                 7.46      5.82     18.16         3.60   \n",
       "         2011                 2.06      1.35     13.57         0.84   \n",
       "         2012                 0.13      0.25      7.18         0.13   \n",
       "         2013                 0.00      0.17      2.93         0.04   \n",
       "         2014                 0.00      0.00      0.24         0.00   \n",
       "         2015                 0.00      0.00      0.12         0.00   \n",
       "PSV      2011                 1.49      1.71      0.80         0.63   \n",
       "         2012                 5.94      5.26      2.45         2.54   \n",
       "         2013                 2.52      2.57      4.05         1.45   \n",
       "         2014                 1.98      2.45      6.13         1.34   \n",
       "         2015                 0.39      0.69      4.85         0.32   \n",
       "         2016                 0.15      0.39      3.56         0.15   \n",
       "SAT      1994                 0.17      0.12      3.34         0.02   \n",
       "         1995                 0.55      0.42     10.55         0.05   \n",
       "         1996                 0.00      0.00      7.69         0.00   \n",
       "         1997                 0.00      0.00      6.77         0.00   \n",
       "         1998                 0.00      0.00      3.82         0.00   \n",
       "         1999                 0.00      0.00      0.09         0.00   \n",
       "SCD      1993                 1.00      0.36      0.09         0.05   \n",
       "         1994                 0.00      0.00      0.36         0.00   \n",
       "SNES     1990                15.28      4.60      5.60         0.67   \n",
       "         1991                 5.47      1.84      8.54         0.37   \n",
       "         1992                 9.52      3.29     19.67         0.50   \n",
       "         1993                12.18      3.85     23.21         0.78   \n",
       "         1994                 9.43      2.67     22.57         0.41   \n",
       "         1995                 7.26      2.22     22.37         0.35   \n",
       "         1996                 2.09      0.57     13.12         0.14   \n",
       "         1997                 0.00      0.00      0.99         0.00   \n",
       "         1998                 0.00      0.00      0.22         0.00   \n",
       "         1999                 0.00      0.00      0.26         0.00   \n",
       "TG16     1995                 0.00      0.00      0.16         0.00   \n",
       "WS       1999                 0.00      0.00      0.46         0.00   \n",
       "         2000                 0.00      0.00      0.68         0.00   \n",
       "         2001                 0.00      0.00      0.28         0.00   \n",
       "Wii      2006                70.86     43.62      9.15        13.52   \n",
       "         2007                83.14     43.96     12.12        13.55   \n",
       "         2008                97.12     46.52     12.69        14.99   \n",
       "         2009               114.55     58.31     16.57        17.54   \n",
       "         2010                72.64     36.31      8.78        10.22   \n",
       "         2011                31.11     17.68      5.58         5.28   \n",
       "         2012                10.89      5.99      3.34         1.49   \n",
       "         2013                 4.48      3.34      0.05         0.72   \n",
       "         2014                 1.59      1.86      0.00         0.30   \n",
       "         2015                 0.43      0.62      0.00         0.09   \n",
       "         2016                 0.06      0.11      0.00         0.01   \n",
       "WiiU     2012                 8.89      5.28      2.13         1.26   \n",
       "         2013                 9.85      6.70      3.57         1.53   \n",
       "         2014                10.50      6.66      3.19         1.68   \n",
       "         2015                 6.76      5.01      3.45         1.13   \n",
       "         2016                 2.10      1.48      0.67         0.35   \n",
       "X360     2005                 6.90      0.43      0.28         0.64   \n",
       "         2006                35.16     10.84      1.20         4.42   \n",
       "         2007                62.99     22.17      1.52         8.73   \n",
       "         2008                82.51     38.16      1.89        12.70   \n",
       "         2009                74.00     33.31      1.95        11.03   \n",
       "         2010               107.38     46.31      2.11        14.23   \n",
       "         2011                86.75     42.58      1.78        12.73   \n",
       "         2012                58.39     32.00      1.06         8.29   \n",
       "         2013                53.36     27.03      0.43         7.76   \n",
       "         2014                20.25     11.28      0.08         3.13   \n",
       "         2015                 7.36      3.50      0.00         1.10   \n",
       "         2016                 0.69      0.71      0.00         0.12   \n",
       "XB       2000                 0.74      0.21      0.00         0.04   \n",
       "         2001                16.61      4.65      0.37         0.63   \n",
       "         2002                34.05     11.78      0.49         1.69   \n",
       "         2003                39.34     13.49      0.30         1.91   \n",
       "         2004                48.47     14.62      0.20         2.13   \n",
       "         2005                34.84     12.49      0.02         1.73   \n",
       "         2006                 7.47      2.25      0.00         0.32   \n",
       "         2007                 0.41      0.12      0.00         0.02   \n",
       "         2008                 0.13      0.04      0.00         0.01   \n",
       "XOne     2013                11.85      5.34      0.02         1.75   \n",
       "         2014                30.97     18.15      0.14         4.81   \n",
       "         2015                36.03     18.47      0.17         5.47   \n",
       "         2016                14.27      9.63      0.01         2.24   \n",
       "\n",
       "                          critic_score  user_score  total_sales  \n",
       "platform year_of_release                                         \n",
       "2600     1980                      0.0         0.0        11.38  \n",
       "         1981                      0.0         0.0        35.68  \n",
       "         1982                      0.0         0.0        28.88  \n",
       "         1983                      0.0         0.0         5.84  \n",
       "         1984                      0.0         0.0         0.27  \n",
       "         1985                      0.0         0.0         0.45  \n",
       "         1986                      0.0         0.0         0.67  \n",
       "         1987                      0.0         0.0         1.94  \n",
       "         1988                      0.0         0.0         0.74  \n",
       "         1989                      0.0         0.0         0.63  \n",
       "3DO      1994                      0.0         0.0         0.02  \n",
       "         1995                      0.0         0.0         0.08  \n",
       "3DS      2011                   3887.0       369.9        63.20  \n",
       "         2012                   2409.0       243.7        51.36  \n",
       "         2013                   1334.0       165.5        56.57  \n",
       "         2014                   1448.0       145.0        43.76  \n",
       "         2015                   1351.0       159.2        27.78  \n",
       "         2016                    719.0        88.4        15.14  \n",
       "DC       1998                      0.0         0.0         3.38  \n",
       "         1999                    268.0        26.6         5.16  \n",
       "         2000                    616.0        57.8         5.99  \n",
       "         2001                    339.0        35.0         1.07  \n",
       "         2002                      0.0         0.0         0.29  \n",
       "         2007                      0.0         0.0         0.02  \n",
       "         2008                      0.0         0.0         0.04  \n",
       "DS       1985                      0.0         0.0         0.02  \n",
       "         2004                    682.0        77.0        17.27  \n",
       "         2005                   4602.0       418.4       130.14  \n",
       "         2006                   6016.0       559.9       119.81  \n",
       "         2007                  10163.0       792.8       146.94  \n",
       "         2008                  11817.0       858.5       145.31  \n",
       "         2009                   6738.0       544.0       119.54  \n",
       "         2010                   3793.0       254.2        85.02  \n",
       "         2011                   1229.0        69.8        26.18  \n",
       "         2012                     80.0        16.2        11.01  \n",
       "         2013                      0.0         4.8         1.54  \n",
       "GB       1988                      0.0         0.0         1.43  \n",
       "         1989                      0.0         0.0        64.97  \n",
       "         1990                      0.0         0.0         4.89  \n",
       "         1991                      0.0         0.0         5.57  \n",
       "         1992                      0.0         0.0        25.49  \n",
       "         1994                      0.0         0.0        12.18  \n",
       "         1995                      0.0         0.0         3.60  \n",
       "         1996                      0.0         0.0        36.03  \n",
       "         1997                      0.0         0.0         6.37  \n",
       "         1998                      0.0         0.0        26.90  \n",
       "         1999                      0.0         0.0        38.00  \n",
       "         2000                      0.0         0.0        19.76  \n",
       "         2001                      0.0         0.0         9.24  \n",
       "GBA      2000                      0.0         0.0         0.07  \n",
       "         2001                   4901.0       227.1        61.53  \n",
       "         2002                   8758.0       417.3        74.16  \n",
       "         2003                   6438.0       565.2        56.67  \n",
       "         2004                   5326.0       436.6        77.91  \n",
       "         2005                   2529.0       195.6        33.86  \n",
       "         2006                    927.0        83.2         5.28  \n",
       "         2007                     65.0         0.0         3.40  \n",
       "GC       2001                   1689.0       155.0        26.34  \n",
       "         2002                   8914.0       744.3        51.81  \n",
       "         2003                   7813.0       746.4        50.61  \n",
       "         2004                   4785.0       426.4        28.82  \n",
       "         2005                   4979.0       441.0        27.62  \n",
       "         2006                   2033.0       193.1        11.26  \n",
       "         2007                    203.0        12.6         0.27  \n",
       "GEN      1990                      0.0         0.0         2.60  \n",
       "         1991                      0.0         0.0         4.33  \n",
       "         1992                      0.0         0.0        12.64  \n",
       "         1993                      0.0         0.0         0.65  \n",
       "         1994                      0.0         0.0         8.13  \n",
       "GG       1992                      0.0         0.0         0.04  \n",
       "N64      1996                      0.0         0.0        34.10  \n",
       "         1997                      0.0         0.0        39.50  \n",
       "         1998                      0.0         0.0        49.24  \n",
       "         1999                      0.0         0.0        57.87  \n",
       "         2000                      0.0         0.0        33.97  \n",
       "         2001                      0.0         0.0         3.25  \n",
       "         2002                      0.0         0.0         0.08  \n",
       "NES      1983                      0.0         0.0        10.96  \n",
       "         1984                      0.0         0.0        50.08  \n",
       "         1985                      0.0         0.0        53.44  \n",
       "         1986                      0.0         0.0        36.41  \n",
       "         1987                      0.0         0.0        19.76  \n",
       "         1988                      0.0         0.0        45.01  \n",
       "         1989                      0.0         0.0         7.85  \n",
       "         1990                      0.0         0.0        15.73  \n",
       "         1991                      0.0         0.0         6.11  \n",
       "         1992                      0.0         0.0         1.98  \n",
       "         1993                      0.0         0.0         3.61  \n",
       "         1994                      0.0         0.0         0.11  \n",
       "NG       1993                      0.0         0.0         0.21  \n",
       "         1994                      0.0         0.0         0.80  \n",
       "         1995                      0.0         0.0         0.33  \n",
       "         1996                      0.0         0.0         0.10  \n",
       "PC       1985                     59.0         5.8         0.04  \n",
       "         1988                     64.0         2.2         0.03  \n",
       "         1992                     85.0         8.2         3.03  \n",
       "         1994                      0.0         0.0        12.87  \n",
       "         1995                      0.0         0.0         4.22  \n",
       "         1996                    180.0        17.2        10.58  \n",
       "         1997                    179.0        42.0        11.27  \n",
       "         1998                    272.0        69.7         3.26  \n",
       "         1999                    183.0        26.7         4.74  \n",
       "         2000                    352.0        48.6         4.66  \n",
       "         2001                    886.0        92.3         5.47  \n",
       "         2002                   1390.0       140.4         8.57  \n",
       "         2003                   2180.0       245.4         8.84  \n",
       "         2004                   2092.0       202.4        10.39  \n",
       "         2005                   2256.0       233.4         4.37  \n",
       "         2006                   3090.0       337.4         2.85  \n",
       "         2007                   3845.0       403.6         9.28  \n",
       "         2008                   4042.0       419.5        12.42  \n",
       "         2009                   5832.0       602.2        16.91  \n",
       "         2010                   4454.0       457.1        24.28  \n",
       "         2011                   6616.0       656.4        35.03  \n",
       "         2012                   3759.0       352.5        23.22  \n",
       "         2013                   2416.0       203.4        12.38  \n",
       "         2014                   2896.0       239.5        13.28  \n",
       "         2015                   2543.0       245.5         8.52  \n",
       "         2016                   3402.0       283.4         5.25  \n",
       "PCFX     1996                      0.0         0.0         0.03  \n",
       "PS       1994                     69.0         6.3         6.03  \n",
       "         1995                      0.0         0.0        35.96  \n",
       "         1996                    539.0        50.0        94.70  \n",
       "         1997                   1271.0       110.5       136.17  \n",
       "         1998                   2019.0       194.0       169.49  \n",
       "         1999                   2504.0       209.6       144.53  \n",
       "         2000                   4960.0       388.5        96.37  \n",
       "         2001                   2600.0       265.9        35.59  \n",
       "         2002                     69.0        24.7         6.67  \n",
       "         2003                      0.0         0.0         2.07  \n",
       "PS2      2000                   3910.0       302.5        39.17  \n",
       "         2001                  10552.0       978.2       166.43  \n",
       "         2002                  14545.0      1404.3       205.38  \n",
       "         2003                  13374.0      1471.0       184.31  \n",
       "         2004                  14554.0      1608.5       211.81  \n",
       "         2005                  13413.0      1487.8       160.66  \n",
       "         2006                   8651.0       908.2       103.42  \n",
       "         2007                   4807.0       496.7        75.99  \n",
       "         2008                   2816.0       387.8        53.90  \n",
       "         2009                    912.0       197.3        26.40  \n",
       "         2010                     77.0        42.8         5.64  \n",
       "         2011                      0.0        17.8         0.45  \n",
       "PS3      2006                   1407.0       127.5        20.96  \n",
       "         2007                   5677.0       519.9        73.19  \n",
       "         2008                   7914.0       754.0       118.52  \n",
       "         2009                   8333.0       806.5       130.93  \n",
       "         2010                   8506.0       820.2       142.17  \n",
       "         2011                   9505.0       908.6       156.78  \n",
       "         2012                   6821.0       668.0       107.36  \n",
       "         2013                   6098.0       591.4       113.25  \n",
       "         2014                   2333.0       395.1        47.76  \n",
       "         2015                     63.0       154.6        16.82  \n",
       "         2016                      0.0        39.7         3.60  \n",
       "PS4      2013                   1064.0        81.9        25.99  \n",
       "         2014                   3803.0       350.5       100.00  \n",
       "         2015                   6276.0       607.6       118.90  \n",
       "         2016                   7024.0       694.3        69.25  \n",
       "PSP      2004                    563.0        44.8         7.06  \n",
       "         2005                   4848.0       512.8        43.84  \n",
       "         2006                   8452.0       756.0        55.32  \n",
       "         2007                   5970.0       554.6        46.93  \n",
       "         2008                   3269.0       337.0        34.55  \n",
       "         2009                   3756.0       393.7        37.78  \n",
       "         2010                   2954.0       318.5        35.04  \n",
       "         2011                    910.0        83.8        17.82  \n",
       "         2012                      0.0        12.1         7.69  \n",
       "         2013                     74.0        11.7         3.14  \n",
       "         2014                      0.0         0.0         0.24  \n",
       "         2015                      0.0         0.0         0.12  \n",
       "PSV      2011                    785.0        78.2         4.63  \n",
       "         2012                   2116.0       218.1        16.19  \n",
       "         2013                   1614.0       186.3        10.59  \n",
       "         2014                   2156.0       277.8        11.90  \n",
       "         2015                   1003.0       180.0         6.25  \n",
       "         2016                    743.0       101.1         4.25  \n",
       "SAT      1994                      0.0         0.0         3.65  \n",
       "         1995                      0.0         0.0        11.57  \n",
       "         1996                      0.0         0.0         7.69  \n",
       "         1997                      0.0         0.0         6.77  \n",
       "         1998                      0.0         0.0         3.82  \n",
       "         1999                      0.0         0.0         0.09  \n",
       "SCD      1993                      0.0         0.0         1.50  \n",
       "         1994                      0.0         0.0         0.36  \n",
       "SNES     1990                      0.0         0.0        26.15  \n",
       "         1991                      0.0         0.0        16.22  \n",
       "         1992                      0.0         0.0        32.98  \n",
       "         1993                      0.0         0.0        40.02  \n",
       "         1994                      0.0         0.0        35.08  \n",
       "         1995                      0.0         0.0        32.20  \n",
       "         1996                      0.0         0.0        15.92  \n",
       "         1997                      0.0         0.0         0.99  \n",
       "         1998                      0.0         0.0         0.22  \n",
       "         1999                      0.0         0.0         0.26  \n",
       "TG16     1995                      0.0         0.0         0.16  \n",
       "WS       1999                      0.0         0.0         0.46  \n",
       "         2000                      0.0         0.0         0.68  \n",
       "         2001                      0.0         0.0         0.28  \n",
       "Wii      2006                   2140.0       223.6       137.15  \n",
       "         2007                   7243.0       804.4       152.77  \n",
       "         2008                   8660.0       972.7       171.32  \n",
       "         2009                   9351.0       855.5       206.97  \n",
       "         2010                   5020.0       441.7       127.95  \n",
       "         2011                   2863.0       291.1        59.65  \n",
       "         2012                    381.0        66.6        21.71  \n",
       "         2013                      0.0        24.1         8.59  \n",
       "         2014                      0.0        12.7         3.75  \n",
       "         2015                      0.0         0.0         1.14  \n",
       "         2016                      0.0         0.0         0.18  \n",
       "WiiU     2012                   1351.0       129.0        17.56  \n",
       "         2013                   1954.0       221.2        21.65  \n",
       "         2014                   1061.0       135.9        22.03  \n",
       "         2015                   1346.0       138.9        16.35  \n",
       "         2016                    654.0        65.4         4.60  \n",
       "X360     2005                   1227.0       117.7         8.25  \n",
       "         2006                   5308.0       530.8        51.62  \n",
       "         2007                   7603.0       731.1        95.41  \n",
       "         2008                   8604.0       859.6       135.26  \n",
       "         2009                   9056.0       893.1       120.29  \n",
       "         2010                   8937.0       876.3       170.03  \n",
       "         2011                   8551.0       842.8       143.84  \n",
       "         2012                   6511.0       604.9        99.74  \n",
       "         2013                   3951.0       378.0        88.58  \n",
       "         2014                   1657.0       311.9        34.74  \n",
       "         2015                      0.0       137.9        11.96  \n",
       "         2016                      0.0        29.2         1.52  \n",
       "XB       2000                     79.0         8.5         0.99  \n",
       "         2001                   2314.0       198.4        22.26  \n",
       "         2002                   9616.0       788.5        48.01  \n",
       "         2003                  11251.0      1027.7        55.04  \n",
       "         2004                  10928.0       994.3        65.42  \n",
       "         2005                  11223.0       971.4        49.08  \n",
       "         2006                   3726.0       280.8        10.04  \n",
       "         2007                    221.0        21.7         0.55  \n",
       "         2008                      0.0         5.5         0.18  \n",
       "XOne     2013                    954.0        98.8        18.96  \n",
       "         2014                   3194.0       296.5        54.07  \n",
       "         2015                   3814.0       356.1        60.14  \n",
       "         2016                   4430.0       435.5        26.15  "
      ]
     },
     "execution_count": 18,
     "metadata": {},
     "output_type": "execute_result"
    }
   ],
   "source": [
    "# Checking the data on games based on platform\n",
    "\n",
    "data.groupby(['platform', 'year_of_release']).sum()"
   ]
  },
  {
   "cell_type": "markdown",
   "metadata": {},
   "source": [
    "There are platforms that performed well but then stopped releasing games over time. We need to explore this further with visualizations."
   ]
  },
  {
   "cell_type": "markdown",
   "metadata": {},
   "source": [
    "## Platforms with Highest Sales <a class=\"anchor\" id=\"section_2_3\"></a>\n",
    "\n",
    "Let's plot platforms with the greatest total sales so we see how long it takes for platforms sales to grow and fade.\n",
    "\n",
    "First, we will find platforms with the highest total sales and use these for our plot."
   ]
  },
  {
   "cell_type": "code",
   "execution_count": 19,
   "metadata": {},
   "outputs": [
    {
     "data": {
      "text/html": [
       "<div>\n",
       "<style scoped>\n",
       "    .dataframe tbody tr th:only-of-type {\n",
       "        vertical-align: middle;\n",
       "    }\n",
       "\n",
       "    .dataframe tbody tr th {\n",
       "        vertical-align: top;\n",
       "    }\n",
       "\n",
       "    .dataframe thead th {\n",
       "        text-align: right;\n",
       "    }\n",
       "</style>\n",
       "<table border=\"1\" class=\"dataframe\">\n",
       "  <thead>\n",
       "    <tr style=\"text-align: right;\">\n",
       "      <th></th>\n",
       "      <th>total_sales</th>\n",
       "    </tr>\n",
       "    <tr>\n",
       "      <th>platform</th>\n",
       "      <th></th>\n",
       "    </tr>\n",
       "  </thead>\n",
       "  <tbody>\n",
       "    <tr>\n",
       "      <th>PS2</th>\n",
       "      <td>1233.56</td>\n",
       "    </tr>\n",
       "    <tr>\n",
       "      <th>X360</th>\n",
       "      <td>961.24</td>\n",
       "    </tr>\n",
       "    <tr>\n",
       "      <th>PS3</th>\n",
       "      <td>931.34</td>\n",
       "    </tr>\n",
       "    <tr>\n",
       "      <th>Wii</th>\n",
       "      <td>891.18</td>\n",
       "    </tr>\n",
       "    <tr>\n",
       "      <th>DS</th>\n",
       "      <td>802.78</td>\n",
       "    </tr>\n",
       "    <tr>\n",
       "      <th>PS</th>\n",
       "      <td>727.58</td>\n",
       "    </tr>\n",
       "    <tr>\n",
       "      <th>PS4</th>\n",
       "      <td>314.14</td>\n",
       "    </tr>\n",
       "    <tr>\n",
       "      <th>GBA</th>\n",
       "      <td>312.88</td>\n",
       "    </tr>\n",
       "    <tr>\n",
       "      <th>PSP</th>\n",
       "      <td>289.53</td>\n",
       "    </tr>\n",
       "    <tr>\n",
       "      <th>3DS</th>\n",
       "      <td>257.81</td>\n",
       "    </tr>\n",
       "    <tr>\n",
       "      <th>PC</th>\n",
       "      <td>255.76</td>\n",
       "    </tr>\n",
       "    <tr>\n",
       "      <th>GB</th>\n",
       "      <td>254.43</td>\n",
       "    </tr>\n",
       "    <tr>\n",
       "      <th>XB</th>\n",
       "      <td>251.57</td>\n",
       "    </tr>\n",
       "    <tr>\n",
       "      <th>NES</th>\n",
       "      <td>251.05</td>\n",
       "    </tr>\n",
       "    <tr>\n",
       "      <th>N64</th>\n",
       "      <td>218.01</td>\n",
       "    </tr>\n",
       "    <tr>\n",
       "      <th>SNES</th>\n",
       "      <td>200.04</td>\n",
       "    </tr>\n",
       "    <tr>\n",
       "      <th>GC</th>\n",
       "      <td>196.73</td>\n",
       "    </tr>\n",
       "    <tr>\n",
       "      <th>XOne</th>\n",
       "      <td>159.32</td>\n",
       "    </tr>\n",
       "    <tr>\n",
       "      <th>2600</th>\n",
       "      <td>86.48</td>\n",
       "    </tr>\n",
       "    <tr>\n",
       "      <th>WiiU</th>\n",
       "      <td>82.19</td>\n",
       "    </tr>\n",
       "    <tr>\n",
       "      <th>PSV</th>\n",
       "      <td>53.81</td>\n",
       "    </tr>\n",
       "    <tr>\n",
       "      <th>SAT</th>\n",
       "      <td>33.59</td>\n",
       "    </tr>\n",
       "    <tr>\n",
       "      <th>GEN</th>\n",
       "      <td>28.35</td>\n",
       "    </tr>\n",
       "    <tr>\n",
       "      <th>DC</th>\n",
       "      <td>15.95</td>\n",
       "    </tr>\n",
       "    <tr>\n",
       "      <th>SCD</th>\n",
       "      <td>1.86</td>\n",
       "    </tr>\n",
       "    <tr>\n",
       "      <th>NG</th>\n",
       "      <td>1.44</td>\n",
       "    </tr>\n",
       "    <tr>\n",
       "      <th>WS</th>\n",
       "      <td>1.42</td>\n",
       "    </tr>\n",
       "    <tr>\n",
       "      <th>TG16</th>\n",
       "      <td>0.16</td>\n",
       "    </tr>\n",
       "    <tr>\n",
       "      <th>3DO</th>\n",
       "      <td>0.10</td>\n",
       "    </tr>\n",
       "    <tr>\n",
       "      <th>GG</th>\n",
       "      <td>0.04</td>\n",
       "    </tr>\n",
       "    <tr>\n",
       "      <th>PCFX</th>\n",
       "      <td>0.03</td>\n",
       "    </tr>\n",
       "  </tbody>\n",
       "</table>\n",
       "</div>"
      ],
      "text/plain": [
       "          total_sales\n",
       "platform             \n",
       "PS2           1233.56\n",
       "X360           961.24\n",
       "PS3            931.34\n",
       "Wii            891.18\n",
       "DS             802.78\n",
       "PS             727.58\n",
       "PS4            314.14\n",
       "GBA            312.88\n",
       "PSP            289.53\n",
       "3DS            257.81\n",
       "PC             255.76\n",
       "GB             254.43\n",
       "XB             251.57\n",
       "NES            251.05\n",
       "N64            218.01\n",
       "SNES           200.04\n",
       "GC             196.73\n",
       "XOne           159.32\n",
       "2600            86.48\n",
       "WiiU            82.19\n",
       "PSV             53.81\n",
       "SAT             33.59\n",
       "GEN             28.35\n",
       "DC              15.95\n",
       "SCD              1.86\n",
       "NG               1.44\n",
       "WS               1.42\n",
       "TG16             0.16\n",
       "3DO              0.10\n",
       "GG               0.04\n",
       "PCFX             0.03"
      ]
     },
     "execution_count": 19,
     "metadata": {},
     "output_type": "execute_result"
    }
   ],
   "source": [
    "# Aggregating total_sales per platform\n",
    "\n",
    "data.pivot_table(index='platform',values='total_sales',aggfunc=np.sum).sort_values(by='total_sales', ascending=False)"
   ]
  },
  {
   "cell_type": "markdown",
   "metadata": {},
   "source": [
    "The platforms with the greatest total sales over time, over 500, are DS, PS, PS2, PS3, Wii, X360."
   ]
  },
  {
   "cell_type": "markdown",
   "metadata": {},
   "source": [
    "## Top Platforms <a class=\"anchor\" id=\"section_2_4\"></a>\n",
    "\n",
    "We will explore the distribution of sales over the years for six platforms with the greatest total annual sales over time, sales over 500: DS, PS, PS2, PS3, Wii, X360 to identify any patterns."
   ]
  },
  {
   "cell_type": "code",
   "execution_count": 20,
   "metadata": {},
   "outputs": [],
   "source": [
    "# Filtering the data to create a dataframe\n",
    "\n",
    "platform_sales=data.loc[data['platform'].isin([\"DS\",\"PS\", \"PS2\", \"PS3\", \"Wii\", \"X360\"])]"
   ]
  },
  {
   "cell_type": "code",
   "execution_count": 21,
   "metadata": {},
   "outputs": [
    {
     "data": {
      "image/png": "[encoded data removed]",
      "text/plain": [
       "<Figure size 864x360 with 1 Axes>"
      ]
     },
     "metadata": {
      "needs_background": "light"
     },
     "output_type": "display_data"
    }
   ],
   "source": [
    "platform_sales.pivot_table(index='year_of_release', columns='platform', values='total_sales', aggfunc='sum').plot.line(grid=True, figsize=(12, 5))\n",
    "\n",
    "plt.xlabel(\"year_of_release\")\n",
    "plt.ylabel(\"total_sales\")\n",
    "plt.title(\"Platform Sales Per Year\")\n",
    "plt.show()"
   ]
  },
  {
   "cell_type": "markdown",
   "metadata": {},
   "source": [
    "The plot demonstrates that there is around a ten year period over which platform sales tend to rise and then decline. This can be seen in the inverted \"v\", \"u\" and \"w\" shapes of the platform sales over time. It is particularly noticeable in the sales for PS, PS2, PS3, Wii and X360. After around a ten year period, the sales on these platforms approached zero. It is helpful to keep this trend of gradual rising and declining over ten years in mind as we predict sales for 2017."
   ]
  },
  {
   "cell_type": "markdown",
   "metadata": {},
   "source": [
    "## Top Current Platforms <a class=\"anchor\" id=\"section_2_5\"></a>\n",
    "\n",
    "We need to analyze the data to know how to choose which games and platforms have the most potential for 2017. Let's filter the data for platforms that released games in 2013-2016 and focus on the platforms with the highest total sales."
   ]
  },
  {
   "cell_type": "code",
   "execution_count": 22,
   "metadata": {},
   "outputs": [
    {
     "data": {
      "text/html": [
       "<div>\n",
       "<style scoped>\n",
       "    .dataframe tbody tr th:only-of-type {\n",
       "        vertical-align: middle;\n",
       "    }\n",
       "\n",
       "    .dataframe tbody tr th {\n",
       "        vertical-align: top;\n",
       "    }\n",
       "\n",
       "    .dataframe thead th {\n",
       "        text-align: right;\n",
       "    }\n",
       "</style>\n",
       "<table border=\"1\" class=\"dataframe\">\n",
       "  <thead>\n",
       "    <tr style=\"text-align: right;\">\n",
       "      <th></th>\n",
       "      <th>total_sales</th>\n",
       "    </tr>\n",
       "    <tr>\n",
       "      <th>platform</th>\n",
       "      <th></th>\n",
       "    </tr>\n",
       "  </thead>\n",
       "  <tbody>\n",
       "    <tr>\n",
       "      <th>PS4</th>\n",
       "      <td>314.14</td>\n",
       "    </tr>\n",
       "    <tr>\n",
       "      <th>PS3</th>\n",
       "      <td>181.43</td>\n",
       "    </tr>\n",
       "    <tr>\n",
       "      <th>XOne</th>\n",
       "      <td>159.32</td>\n",
       "    </tr>\n",
       "    <tr>\n",
       "      <th>3DS</th>\n",
       "      <td>143.25</td>\n",
       "    </tr>\n",
       "    <tr>\n",
       "      <th>X360</th>\n",
       "      <td>136.80</td>\n",
       "    </tr>\n",
       "    <tr>\n",
       "      <th>WiiU</th>\n",
       "      <td>64.63</td>\n",
       "    </tr>\n",
       "    <tr>\n",
       "      <th>PC</th>\n",
       "      <td>39.43</td>\n",
       "    </tr>\n",
       "    <tr>\n",
       "      <th>PSV</th>\n",
       "      <td>32.99</td>\n",
       "    </tr>\n",
       "    <tr>\n",
       "      <th>Wii</th>\n",
       "      <td>13.66</td>\n",
       "    </tr>\n",
       "    <tr>\n",
       "      <th>PSP</th>\n",
       "      <td>3.50</td>\n",
       "    </tr>\n",
       "    <tr>\n",
       "      <th>DS</th>\n",
       "      <td>1.54</td>\n",
       "    </tr>\n",
       "  </tbody>\n",
       "</table>\n",
       "</div>"
      ],
      "text/plain": [
       "          total_sales\n",
       "platform             \n",
       "PS4            314.14\n",
       "PS3            181.43\n",
       "XOne           159.32\n",
       "3DS            143.25\n",
       "X360           136.80\n",
       "WiiU            64.63\n",
       "PC              39.43\n",
       "PSV             32.99\n",
       "Wii             13.66\n",
       "PSP              3.50\n",
       "DS               1.54"
      ]
     },
     "execution_count": 22,
     "metadata": {},
     "output_type": "execute_result"
    }
   ],
   "source": [
    "# Aggregating the data to sort platforms that released games in 2013-2016 based on total sales\n",
    "\n",
    "current_platforms=data.loc[data['year_of_release'] >=2013]\n",
    "current_platforms.pivot_table(index='platform',values='total_sales',aggfunc=np.sum).sort_values(by='total_sales', ascending=False)"
   ]
  },
  {
   "cell_type": "code",
   "execution_count": 23,
   "metadata": {},
   "outputs": [
    {
     "data": {
      "text/html": [
       "<div>\n",
       "<style scoped>\n",
       "    .dataframe tbody tr th:only-of-type {\n",
       "        vertical-align: middle;\n",
       "    }\n",
       "\n",
       "    .dataframe tbody tr th {\n",
       "        vertical-align: top;\n",
       "    }\n",
       "\n",
       "    .dataframe thead th {\n",
       "        text-align: right;\n",
       "    }\n",
       "</style>\n",
       "<table border=\"1\" class=\"dataframe\">\n",
       "  <thead>\n",
       "    <tr style=\"text-align: right;\">\n",
       "      <th></th>\n",
       "      <th>name</th>\n",
       "      <th>platform</th>\n",
       "      <th>year_of_release</th>\n",
       "      <th>genre</th>\n",
       "      <th>na_sales</th>\n",
       "      <th>eu_sales</th>\n",
       "      <th>jp_sales</th>\n",
       "      <th>other_sales</th>\n",
       "      <th>critic_score</th>\n",
       "      <th>user_score</th>\n",
       "      <th>rating</th>\n",
       "      <th>total_sales</th>\n",
       "    </tr>\n",
       "  </thead>\n",
       "  <tbody>\n",
       "    <tr>\n",
       "      <th>16</th>\n",
       "      <td>Grand Theft Auto V</td>\n",
       "      <td>PS3</td>\n",
       "      <td>2013</td>\n",
       "      <td>Action</td>\n",
       "      <td>7.02</td>\n",
       "      <td>9.09</td>\n",
       "      <td>0.98</td>\n",
       "      <td>3.96</td>\n",
       "      <td>97.0</td>\n",
       "      <td>8.2</td>\n",
       "      <td>M</td>\n",
       "      <td>21.05</td>\n",
       "    </tr>\n",
       "    <tr>\n",
       "      <th>23</th>\n",
       "      <td>Grand Theft Auto V</td>\n",
       "      <td>X360</td>\n",
       "      <td>2013</td>\n",
       "      <td>Action</td>\n",
       "      <td>9.66</td>\n",
       "      <td>5.14</td>\n",
       "      <td>0.06</td>\n",
       "      <td>1.41</td>\n",
       "      <td>97.0</td>\n",
       "      <td>8.1</td>\n",
       "      <td>M</td>\n",
       "      <td>16.27</td>\n",
       "    </tr>\n",
       "    <tr>\n",
       "      <th>31</th>\n",
       "      <td>Call of Duty: Black Ops 3</td>\n",
       "      <td>PS4</td>\n",
       "      <td>2015</td>\n",
       "      <td>Shooter</td>\n",
       "      <td>6.03</td>\n",
       "      <td>5.86</td>\n",
       "      <td>0.36</td>\n",
       "      <td>2.38</td>\n",
       "      <td>NaN</td>\n",
       "      <td>NaN</td>\n",
       "      <td>NaN</td>\n",
       "      <td>14.63</td>\n",
       "    </tr>\n",
       "    <tr>\n",
       "      <th>33</th>\n",
       "      <td>Pokemon X/Pokemon Y</td>\n",
       "      <td>3DS</td>\n",
       "      <td>2013</td>\n",
       "      <td>Role-Playing</td>\n",
       "      <td>5.28</td>\n",
       "      <td>4.19</td>\n",
       "      <td>4.35</td>\n",
       "      <td>0.78</td>\n",
       "      <td>NaN</td>\n",
       "      <td>NaN</td>\n",
       "      <td>NaN</td>\n",
       "      <td>14.60</td>\n",
       "    </tr>\n",
       "    <tr>\n",
       "      <th>42</th>\n",
       "      <td>Grand Theft Auto V</td>\n",
       "      <td>PS4</td>\n",
       "      <td>2014</td>\n",
       "      <td>Action</td>\n",
       "      <td>3.96</td>\n",
       "      <td>6.31</td>\n",
       "      <td>0.38</td>\n",
       "      <td>1.97</td>\n",
       "      <td>97.0</td>\n",
       "      <td>8.3</td>\n",
       "      <td>M</td>\n",
       "      <td>12.62</td>\n",
       "    </tr>\n",
       "  </tbody>\n",
       "</table>\n",
       "</div>"
      ],
      "text/plain": [
       "                         name platform  year_of_release         genre  \\\n",
       "16         Grand Theft Auto V      PS3             2013        Action   \n",
       "23         Grand Theft Auto V     X360             2013        Action   \n",
       "31  Call of Duty: Black Ops 3      PS4             2015       Shooter   \n",
       "33        Pokemon X/Pokemon Y      3DS             2013  Role-Playing   \n",
       "42         Grand Theft Auto V      PS4             2014        Action   \n",
       "\n",
       "    na_sales  eu_sales  jp_sales  other_sales  critic_score  user_score  \\\n",
       "16      7.02      9.09      0.98         3.96          97.0         8.2   \n",
       "23      9.66      5.14      0.06         1.41          97.0         8.1   \n",
       "31      6.03      5.86      0.36         2.38           NaN         NaN   \n",
       "33      5.28      4.19      4.35         0.78           NaN         NaN   \n",
       "42      3.96      6.31      0.38         1.97          97.0         8.3   \n",
       "\n",
       "   rating  total_sales  \n",
       "16      M        21.05  \n",
       "23      M        16.27  \n",
       "31    NaN        14.63  \n",
       "33    NaN        14.60  \n",
       "42      M        12.62  "
      ]
     },
     "execution_count": 23,
     "metadata": {},
     "output_type": "execute_result"
    }
   ],
   "source": [
    "# Filtering the data to select platforms with highest total sales that released games in 2013-2016\n",
    "\n",
    "current_top_platforms=current_platforms.loc[current_platforms['platform'].isin([\"3DS\",\"PS3\", \"PS4\", \"X360\", \"XOne\"])]\n",
    "current_top_platforms.head()"
   ]
  },
  {
   "cell_type": "code",
   "execution_count": 24,
   "metadata": {},
   "outputs": [
    {
     "data": {
      "image/png": "[encoded data removed]",
      "text/plain": [
       "<Figure size 864x360 with 1 Axes>"
      ]
     },
     "metadata": {
      "needs_background": "light"
     },
     "output_type": "display_data"
    }
   ],
   "source": [
    "# Plotting the sales per year for the current top selling platforms\n",
    "\n",
    "current_top_platforms.pivot_table(index='year_of_release', columns='platform', values='total_sales', aggfunc='sum').plot.line(grid=True, figsize=(12, 5))\n",
    "\n",
    "plt.xlabel(\"year_of_release\")\n",
    "plt.ylabel(\"total_sales\")\n",
    "plt.title(\"Platform Sales Per Year\")\n",
    "plt.show()"
   ]
  },
  {
   "cell_type": "markdown",
   "metadata": {},
   "source": [
    "The top selling platforms that released games in 2013-2016 appear to be in the declining part of the trend for platforms. The peaks seem to have been reached before 2013 for 3DS, X360, and PS3, and in 2015 for PS4 and XOne. We need to take this trend information into account when creating a marketing strategy for 2017."
   ]
  },
  {
   "cell_type": "code",
   "execution_count": 25,
   "metadata": {},
   "outputs": [
    {
     "data": {
      "image/png": "[encoded data removed]",
      "text/plain": [
       "<Figure size 1080x360 with 1 Axes>"
      ]
     },
     "metadata": {
      "needs_background": "light"
     },
     "output_type": "display_data"
    }
   ],
   "source": [
    "current_top_platforms.pivot(values='total_sales', columns='platform').boxplot(figsize=(15,5))\n",
    "plt.xlabel(\"platforms\")\n",
    "plt.ylabel(\"total_sales\")\n",
    "plt.title(\"Platform Sales Per Year\")\n",
    "plt.show()"
   ]
  },
  {
   "cell_type": "markdown",
   "metadata": {},
   "source": [
    "Based on the boxplot of sales per platform, the range of sales across platforms is similar. There is a slightly lower range for sales in 3DS yet we would need to check if this difference is statistically significant. The average sales is similar across platforms."
   ]
  },
  {
   "cell_type": "markdown",
   "metadata": {},
   "source": [
    "## Game Reviews and Sales <a class=\"anchor\" id=\"section_2_6\"></a>\n",
    "\n",
    "Let's explore how user and professional reviews affect sales. We will use data for the PS4 platform. We'll build a scatter plot and calculate the correlation between reviews and sales."
   ]
  },
  {
   "cell_type": "code",
   "execution_count": 26,
   "metadata": {},
   "outputs": [],
   "source": [
    "# Filtering the data for PS4\n",
    "\n",
    "PS4 = current_top_platforms.loc[current_top_platforms['platform'] == 'PS4']"
   ]
  },
  {
   "cell_type": "code",
   "execution_count": 27,
   "metadata": {},
   "outputs": [
    {
     "data": {
      "image/png": "[encoded data removed]",
      "text/plain": [
       "<Figure size 432x288 with 1 Axes>"
      ]
     },
     "metadata": {
      "needs_background": "light"
     },
     "output_type": "display_data"
    },
    {
     "data": {
      "image/png": "[encoded data removed]",
      "text/plain": [
       "<Figure size 432x288 with 1 Axes>"
      ]
     },
     "metadata": {
      "needs_background": "light"
     },
     "output_type": "display_data"
    }
   ],
   "source": [
    "# Creating scatterplots to visualize the correlation between critics scores and sales, and user scores and sales\n",
    "\n",
    "PS4.plot.scatter(x='critic_score', y='total_sales', label='sales')\n",
    "plt.title(\"critic score vs sales\")\n",
    "PS4.plot.scatter(x='user_score', y='total_sales', label='sales')\n",
    "plt.title(\"user score vs sales\")\n",
    "plt.legend()\n",
    "plt.show()"
   ]
  },
  {
   "cell_type": "markdown",
   "metadata": {},
   "source": [
    "Based on the scatterplots, there appears to be a positive correlation between critic scores and sales such that the higher the critic scores the higher the sales for a game. Yet, there is no correlation between user scores and sales such that even games with lower user scores had higher sales."
   ]
  },
  {
   "cell_type": "code",
   "execution_count": 28,
   "metadata": {},
   "outputs": [
    {
     "data": {
      "text/html": [
       "<div>\n",
       "<style scoped>\n",
       "    .dataframe tbody tr th:only-of-type {\n",
       "        vertical-align: middle;\n",
       "    }\n",
       "\n",
       "    .dataframe tbody tr th {\n",
       "        vertical-align: top;\n",
       "    }\n",
       "\n",
       "    .dataframe thead th {\n",
       "        text-align: right;\n",
       "    }\n",
       "</style>\n",
       "<table border=\"1\" class=\"dataframe\">\n",
       "  <thead>\n",
       "    <tr style=\"text-align: right;\">\n",
       "      <th></th>\n",
       "      <th>critic_score</th>\n",
       "      <th>user_score</th>\n",
       "      <th>total_sales</th>\n",
       "    </tr>\n",
       "  </thead>\n",
       "  <tbody>\n",
       "    <tr>\n",
       "      <th>critic_score</th>\n",
       "      <td>1.000000</td>\n",
       "      <td>0.557654</td>\n",
       "      <td>0.406568</td>\n",
       "    </tr>\n",
       "    <tr>\n",
       "      <th>user_score</th>\n",
       "      <td>0.557654</td>\n",
       "      <td>1.000000</td>\n",
       "      <td>-0.031957</td>\n",
       "    </tr>\n",
       "    <tr>\n",
       "      <th>total_sales</th>\n",
       "      <td>0.406568</td>\n",
       "      <td>-0.031957</td>\n",
       "      <td>1.000000</td>\n",
       "    </tr>\n",
       "  </tbody>\n",
       "</table>\n",
       "</div>"
      ],
      "text/plain": [
       "              critic_score  user_score  total_sales\n",
       "critic_score      1.000000    0.557654     0.406568\n",
       "user_score        0.557654    1.000000    -0.031957\n",
       "total_sales       0.406568   -0.031957     1.000000"
      ]
     },
     "execution_count": 28,
     "metadata": {},
     "output_type": "execute_result"
    }
   ],
   "source": [
    "# Calculation the correlation between reviews and sales\n",
    "\n",
    "review_corr_data = pd.DataFrame().assign(critic_score=PS4['critic_score'], user_score=PS4['user_score'], total_sales=PS4['total_sales'])\n",
    "review_corr_data.corr()"
   ]
  },
  {
   "cell_type": "markdown",
   "metadata": {},
   "source": [
    "Statiscal analysis found a moderate positive correlation between critic scores and total sales. There was no correlation between user scores and total sales."
   ]
  },
  {
   "cell_type": "markdown",
   "metadata": {},
   "source": [
    "## Top Selling Games <a class=\"anchor\" id=\"section_2_7\"></a>\n",
    "\n",
    "Let's look more closely at the top selling games on PS4 and compare their performance on other platforms. We need to aggregate the total sales in the PS4 data and select the top 10 games with the highest sales to use for our analysis."
   ]
  },
  {
   "cell_type": "code",
   "execution_count": 29,
   "metadata": {},
   "outputs": [
    {
     "data": {
      "text/html": [
       "<div>\n",
       "<style scoped>\n",
       "    .dataframe tbody tr th:only-of-type {\n",
       "        vertical-align: middle;\n",
       "    }\n",
       "\n",
       "    .dataframe tbody tr th {\n",
       "        vertical-align: top;\n",
       "    }\n",
       "\n",
       "    .dataframe thead th {\n",
       "        text-align: right;\n",
       "    }\n",
       "</style>\n",
       "<table border=\"1\" class=\"dataframe\">\n",
       "  <thead>\n",
       "    <tr style=\"text-align: right;\">\n",
       "      <th></th>\n",
       "      <th>total_sales</th>\n",
       "    </tr>\n",
       "    <tr>\n",
       "      <th>name</th>\n",
       "      <th></th>\n",
       "    </tr>\n",
       "  </thead>\n",
       "  <tbody>\n",
       "    <tr>\n",
       "      <th>Call of Duty: Black Ops 3</th>\n",
       "      <td>14.63</td>\n",
       "    </tr>\n",
       "    <tr>\n",
       "      <th>Grand Theft Auto V</th>\n",
       "      <td>12.62</td>\n",
       "    </tr>\n",
       "    <tr>\n",
       "      <th>FIFA 16</th>\n",
       "      <td>8.58</td>\n",
       "    </tr>\n",
       "    <tr>\n",
       "      <th>Star Wars Battlefront (2015)</th>\n",
       "      <td>7.98</td>\n",
       "    </tr>\n",
       "    <tr>\n",
       "      <th>Call of Duty: Advanced Warfare</th>\n",
       "      <td>7.66</td>\n",
       "    </tr>\n",
       "    <tr>\n",
       "      <th>FIFA 17</th>\n",
       "      <td>7.60</td>\n",
       "    </tr>\n",
       "    <tr>\n",
       "      <th>Fallout 4</th>\n",
       "      <td>7.17</td>\n",
       "    </tr>\n",
       "    <tr>\n",
       "      <th>FIFA 15</th>\n",
       "      <td>6.08</td>\n",
       "    </tr>\n",
       "    <tr>\n",
       "      <th>Destiny</th>\n",
       "      <td>5.64</td>\n",
       "    </tr>\n",
       "    <tr>\n",
       "      <th>Uncharted 4: A Thief's End</th>\n",
       "      <td>5.39</td>\n",
       "    </tr>\n",
       "  </tbody>\n",
       "</table>\n",
       "</div>"
      ],
      "text/plain": [
       "                                total_sales\n",
       "name                                       \n",
       "Call of Duty: Black Ops 3             14.63\n",
       "Grand Theft Auto V                    12.62\n",
       "FIFA 16                                8.58\n",
       "Star Wars Battlefront (2015)           7.98\n",
       "Call of Duty: Advanced Warfare         7.66\n",
       "FIFA 17                                7.60\n",
       "Fallout 4                              7.17\n",
       "FIFA 15                                6.08\n",
       "Destiny                                5.64\n",
       "Uncharted 4: A Thief's End             5.39"
      ]
     },
     "execution_count": 29,
     "metadata": {},
     "output_type": "execute_result"
    }
   ],
   "source": [
    "# Filtering data in PS4 to select top performing games\n",
    "\n",
    "top_games = PS4.pivot_table(index='name',values='total_sales',aggfunc=np.sum).sort_values(by='total_sales', ascending=False)\n",
    "top_games.head(10)"
   ]
  },
  {
   "cell_type": "markdown",
   "metadata": {},
   "source": [
    "Focusing on the top 10 performing games in PS4, we will filter current_top_platforms to focus on these games."
   ]
  },
  {
   "cell_type": "code",
   "execution_count": 30,
   "metadata": {},
   "outputs": [],
   "source": [
    "# Slicing the data to focus on top 10 performing games in PS4\n",
    "\n",
    "top_games_sales=current_top_platforms.loc[current_top_platforms['name'].isin([\"Call of Duty: Black Ops 3\", \"Grand Theft Auto V\", \"FIFA 16\" ,\"Star Wars Battlefront (2015)\", \"Call of Duty: Advanced Warfare\",\"FIFA 17\",\"Fallout 4\", \"FIFA 15\", \"Destiny\", \"Uncharted 4: A Thief's End\"])]"
   ]
  },
  {
   "cell_type": "markdown",
   "metadata": {},
   "source": [
    "Let's compare the sales for the top performing games on PS4 with the same games on other platforms using a boxplot."
   ]
  },
  {
   "cell_type": "code",
   "execution_count": 31,
   "metadata": {},
   "outputs": [
    {
     "data": {
      "image/png": "[encoded data removed]",
      "text/plain": [
       "<Figure size 1440x720 with 1 Axes>"
      ]
     },
     "metadata": {
      "needs_background": "light"
     },
     "output_type": "display_data"
    }
   ],
   "source": [
    "# Comparing the sales for the top performing games on PS4 with the same games on other platforms.\n",
    "\n",
    "top_games_sales.pivot(index='name', columns='platform', values='total_sales').boxplot(figsize=(20,10))\n",
    "plt.xlabel(\"platforms\")\n",
    "plt.ylabel(\"total_sales\")\n",
    "plt.title(\"Platform Sales Per Year\")\n",
    "plt.show()"
   ]
  },
  {
   "cell_type": "markdown",
   "metadata": {},
   "source": [
    "The sales of the top performing games on PS4 did not perform as well on the other platforms. Based on the boxplots, there is a difference between the sales for these games on PS4 and other platforms, such that the average sales for these games was higher on PS4 than for any other platform."
   ]
  },
  {
   "cell_type": "markdown",
   "metadata": {},
   "source": [
    "Let's use a grouped bar chart to see the total sales per platform for each of the top 10 performing games on PS4 more clearly."
   ]
  },
  {
   "cell_type": "code",
   "execution_count": 32,
   "metadata": {},
   "outputs": [
    {
     "data": {
      "image/png": "[encoded data removed]",
      "text/plain": [
       "<Figure size 1440x720 with 1 Axes>"
      ]
     },
     "metadata": {
      "needs_background": "light"
     },
     "output_type": "display_data"
    }
   ],
   "source": [
    "# Plotting sales for the top performing games on PS4 across platforms\n",
    "\n",
    "top_games_sales = top_games_sales.pivot_table(index='name', columns= 'platform', values='total_sales', aggfunc=np.sum)\n",
    "top_games_sales.plot(kind='bar', figsize=(20,10))\n",
    "\n",
    "plt.xlabel(\"Games\")\n",
    "plt.ylabel(\"Total Sales\")\n",
    "plt.title(\"Game Sales Per Platform\")\n",
    "plt.grid(True)\n",
    "plt.show()"
   ]
  },
  {
   "cell_type": "markdown",
   "metadata": {},
   "source": [
    "Based on the barchart for the top 10 games on PS4, there was a range of performance. The top three performing games across platforms in general were Grand Theft Auto V, Call of Duty: Black Ops 3, and Call of Duty: Advanced Warfare. Even though on PS4 Call of Duty: Black Ops 3 had the highest sales, Grand Theft Auto V and Call of Duty: Advanced Warfare outperformed this game on PS3 and X360. For 3DS, FIFA 15 was the only game with sales. There is clearly a difference in game performance per platform."
   ]
  },
  {
   "cell_type": "markdown",
   "metadata": {},
   "source": [
    "## Game Genres <a class=\"anchor\" id=\"section_2_8\"></a>\n",
    "\n",
    "Let's explore the general distribution of games by genre to identify the most profitable genres."
   ]
  },
  {
   "cell_type": "code",
   "execution_count": 33,
   "metadata": {},
   "outputs": [
    {
     "data": {
      "text/html": [
       "<div>\n",
       "<style scoped>\n",
       "    .dataframe tbody tr th:only-of-type {\n",
       "        vertical-align: middle;\n",
       "    }\n",
       "\n",
       "    .dataframe tbody tr th {\n",
       "        vertical-align: top;\n",
       "    }\n",
       "\n",
       "    .dataframe thead th {\n",
       "        text-align: right;\n",
       "    }\n",
       "</style>\n",
       "<table border=\"1\" class=\"dataframe\">\n",
       "  <thead>\n",
       "    <tr style=\"text-align: right;\">\n",
       "      <th></th>\n",
       "      <th>genre</th>\n",
       "      <th>total_sales</th>\n",
       "    </tr>\n",
       "  </thead>\n",
       "  <tbody>\n",
       "    <tr>\n",
       "      <th>0</th>\n",
       "      <td>Action</td>\n",
       "      <td>321.87</td>\n",
       "    </tr>\n",
       "    <tr>\n",
       "      <th>1</th>\n",
       "      <td>Shooter</td>\n",
       "      <td>232.98</td>\n",
       "    </tr>\n",
       "    <tr>\n",
       "      <th>2</th>\n",
       "      <td>Sports</td>\n",
       "      <td>150.65</td>\n",
       "    </tr>\n",
       "    <tr>\n",
       "      <th>3</th>\n",
       "      <td>Role-Playing</td>\n",
       "      <td>145.89</td>\n",
       "    </tr>\n",
       "    <tr>\n",
       "      <th>4</th>\n",
       "      <td>Misc</td>\n",
       "      <td>62.82</td>\n",
       "    </tr>\n",
       "    <tr>\n",
       "      <th>5</th>\n",
       "      <td>Platform</td>\n",
       "      <td>42.63</td>\n",
       "    </tr>\n",
       "    <tr>\n",
       "      <th>6</th>\n",
       "      <td>Racing</td>\n",
       "      <td>39.89</td>\n",
       "    </tr>\n",
       "    <tr>\n",
       "      <th>7</th>\n",
       "      <td>Fighting</td>\n",
       "      <td>35.31</td>\n",
       "    </tr>\n",
       "    <tr>\n",
       "      <th>8</th>\n",
       "      <td>Adventure</td>\n",
       "      <td>23.64</td>\n",
       "    </tr>\n",
       "    <tr>\n",
       "      <th>9</th>\n",
       "      <td>Simulation</td>\n",
       "      <td>21.76</td>\n",
       "    </tr>\n",
       "    <tr>\n",
       "      <th>10</th>\n",
       "      <td>Strategy</td>\n",
       "      <td>10.08</td>\n",
       "    </tr>\n",
       "    <tr>\n",
       "      <th>11</th>\n",
       "      <td>Puzzle</td>\n",
       "      <td>3.17</td>\n",
       "    </tr>\n",
       "  </tbody>\n",
       "</table>\n",
       "</div>"
      ],
      "text/plain": [
       "           genre  total_sales\n",
       "0         Action       321.87\n",
       "1        Shooter       232.98\n",
       "2         Sports       150.65\n",
       "3   Role-Playing       145.89\n",
       "4           Misc        62.82\n",
       "5       Platform        42.63\n",
       "6         Racing        39.89\n",
       "7       Fighting        35.31\n",
       "8      Adventure        23.64\n",
       "9     Simulation        21.76\n",
       "10      Strategy        10.08\n",
       "11        Puzzle         3.17"
      ]
     },
     "execution_count": 33,
     "metadata": {},
     "output_type": "execute_result"
    }
   ],
   "source": [
    "games_genres = data.loc[data['year_of_release'] >=2013] \\\n",
    "    .groupby('genre') \\\n",
    "    .agg(total_sales=('total_sales', 'sum')) \\\n",
    "    .sort_values(by='total_sales', ascending=False) \\\n",
    "    .reset_index()\n",
    "\n",
    "games_genres.head(50)"
   ]
  },
  {
   "cell_type": "markdown",
   "metadata": {},
   "source": [
    "Games performance varied by genre: Between 2013-2016, combined total_sales for the top 5 games per genre was: Action- 322, Shooter- 233, Sports- 150, Role-Playing- 146, and Misc- was 63. It seems that games that involved action and shooting had higher sales, while games with less action had lower sales. Yet, the genre categorization is somewhat unclear since there are separate categories for action, shooter, fighting, and adventure. We would need clarification about these categories to draw further conclusions. There are 11 categories for genre. We will select the top 5 genres and visualize their distribution."
   ]
  },
  {
   "cell_type": "code",
   "execution_count": 34,
   "metadata": {},
   "outputs": [
    {
     "data": {
      "text/html": [
       "<div>\n",
       "<style scoped>\n",
       "    .dataframe tbody tr th:only-of-type {\n",
       "        vertical-align: middle;\n",
       "    }\n",
       "\n",
       "    .dataframe tbody tr th {\n",
       "        vertical-align: top;\n",
       "    }\n",
       "\n",
       "    .dataframe thead th {\n",
       "        text-align: right;\n",
       "    }\n",
       "</style>\n",
       "<table border=\"1\" class=\"dataframe\">\n",
       "  <thead>\n",
       "    <tr style=\"text-align: right;\">\n",
       "      <th></th>\n",
       "      <th>genre</th>\n",
       "      <th>total_sales</th>\n",
       "    </tr>\n",
       "  </thead>\n",
       "  <tbody>\n",
       "    <tr>\n",
       "      <th>0</th>\n",
       "      <td>Action</td>\n",
       "      <td>321.87</td>\n",
       "    </tr>\n",
       "    <tr>\n",
       "      <th>1</th>\n",
       "      <td>Shooter</td>\n",
       "      <td>232.98</td>\n",
       "    </tr>\n",
       "    <tr>\n",
       "      <th>2</th>\n",
       "      <td>Sports</td>\n",
       "      <td>150.65</td>\n",
       "    </tr>\n",
       "    <tr>\n",
       "      <th>3</th>\n",
       "      <td>Role-Playing</td>\n",
       "      <td>145.89</td>\n",
       "    </tr>\n",
       "    <tr>\n",
       "      <th>4</th>\n",
       "      <td>Misc</td>\n",
       "      <td>62.82</td>\n",
       "    </tr>\n",
       "  </tbody>\n",
       "</table>\n",
       "</div>"
      ],
      "text/plain": [
       "          genre  total_sales\n",
       "0        Action       321.87\n",
       "1       Shooter       232.98\n",
       "2        Sports       150.65\n",
       "3  Role-Playing       145.89\n",
       "4          Misc        62.82"
      ]
     },
     "execution_count": 34,
     "metadata": {},
     "output_type": "execute_result"
    }
   ],
   "source": [
    "# Slicing the data to focus on top 5 genres in 2013-2016\n",
    "\n",
    "top_genres=games_genres.loc[games_genres['genre'].isin([\"Action\", \"Shooter\", \"Sports\", \"Role-Playing\", \"Misc\"])]\n",
    "                                                         \n",
    "top_genres.head()"
   ]
  },
  {
   "cell_type": "code",
   "execution_count": 35,
   "metadata": {},
   "outputs": [
    {
     "data": {
      "image/png": "[encoded data removed]",
      "text/plain": [
       "<Figure size 720x720 with 1 Axes>"
      ]
     },
     "metadata": {
      "needs_background": "light"
     },
     "output_type": "display_data"
    }
   ],
   "source": [
    "# Plotting the distribution of games by genre\n",
    "\n",
    "top_genres.pivot_table(index='genre', columns= 'genre', values='total_sales', aggfunc=np.sum) \\\n",
    "    .plot(kind='bar', figsize=(10,10)) \\\n",
    "\n",
    "plt.xlabel(\"Games\")\n",
    "plt.ylabel(\"Total Sales\")\n",
    "plt.title(\"Game Sales Per Platform\")\n",
    "plt.grid(True)\n",
    "plt.show()"
   ]
  },
  {
   "cell_type": "markdown",
   "metadata": {},
   "source": [
    "We can see that sales of the genres Action and Shooter greatly exceed the sales of other genres."
   ]
  },
  {
   "cell_type": "markdown",
   "metadata": {},
   "source": [
    "## Regional Sales<a class=\"anchor\" id=\"chapter3\"></a>\n",
    "\n",
    "We need to understand market share per region. We will analyze data on regional sales per platform and per genre.\n",
    "\n",
    "### Regional Sales Per Platform <a class=\"anchor\" id=\"section_3_1\"></a>\n",
    "\n",
    "We need to analyze sales by region (NA, EU, JP). We will use the top five performing platforms in 2013-2016 to analyze their variations in market share.\n",
    "\n",
    "We will visualize the variation in market share per region per platform using a 3-column barplot."
   ]
  },
  {
   "cell_type": "code",
   "execution_count": 36,
   "metadata": {},
   "outputs": [
    {
     "data": {
      "image/png": "[encoded data removed]",
      "text/plain": [
       "<Figure size 1440x360 with 3 Axes>"
      ]
     },
     "metadata": {},
     "output_type": "display_data"
    }
   ],
   "source": [
    "#Plotting a multiple column barplot for Regional Market Shares Per Platform\n",
    "\n",
    "#set seaborn plotting aesthetics as default\n",
    "sns.set()\n",
    "\n",
    "na = current_top_platforms\\\n",
    "    .groupby([\"platform\"]) \\\n",
    "    .agg(na_sales=('na_sales', 'sum')) \\\n",
    "    .reset_index()\n",
    "\n",
    "eu = current_top_platforms\\\n",
    "    .groupby([\"platform\"]) \\\n",
    "    .agg(eu_sales=('eu_sales', 'sum')) \\\n",
    "    .reset_index()\n",
    "\n",
    "jp = current_top_platforms\\\n",
    "    .groupby([\"platform\"]) \\\n",
    "    .agg(jp_sales=('jp_sales', 'sum')) \\\n",
    "    .reset_index()\n",
    "\n",
    "\n",
    "#define plotting region (1 row, 3 columns)\n",
    "fig, axs = plt.subplots(1, 3, figsize=(20, 5))\n",
    "fig.suptitle('Regional Market Shares Across Platforms (sales in USD million)', fontsize=20)\n",
    "\n",
    "\n",
    "#create barplot in each subplot\n",
    "sns.barplot(data=na, x='platform', y='na_sales', ax=axs[0])\n",
    "axs[0].set_title('North America Sales', fontsize=12)\n",
    "axs[0].set_ylabel('Total Sales', fontsize=12)\n",
    "axs[0].set_xlabel('Platforms', fontsize=12)\n",
    "\n",
    "\n",
    "sns.barplot(data=eu, x='platform', y='eu_sales', ax=axs[1])\n",
    "axs[1].set_title('Europe Sales', fontsize=12)\n",
    "axs[1].set_ylabel('Total Sales', fontsize=12)\n",
    "axs[1].set_xlabel('Platforms', fontsize=12)\n",
    "\n",
    "\n",
    "sns.barplot(data=jp, x='platform', y='jp_sales', ax=axs[2])\n",
    "axs[2].set_title('Japan Sales', fontsize=12)\n",
    "axs[2].set_ylabel('Total Sales', fontsize=12)\n",
    "axs[2].set_xlabel('Platforms', fontsize=12)\n",
    "\n",
    "plt.show()"
   ]
  },
  {
   "cell_type": "markdown",
   "metadata": {},
   "source": [
    "We can see from this multiple barplot that platform sales vary across regions. The highest performing platforms were PS4 for North America and Europe and 3DS for Japan. The lowest performing platforms were 3DS for North America and Europe, and XOne for Japan."
   ]
  },
  {
   "cell_type": "markdown",
   "metadata": {},
   "source": [
    "### Regional Sales Per Genre <a class=\"anchor\" id=\"section_3_2\"></a>\n",
    "\n",
    "Now let's analyze sales by region for the top five performing genres in 2013-2016 to analyze their variations in market share.\n",
    "\n",
    "In order to analyze by the top five peforming genres, we need to slice the data."
   ]
  },
  {
   "cell_type": "code",
   "execution_count": 37,
   "metadata": {},
   "outputs": [
    {
     "data": {
      "text/html": [
       "<div>\n",
       "<style scoped>\n",
       "    .dataframe tbody tr th:only-of-type {\n",
       "        vertical-align: middle;\n",
       "    }\n",
       "\n",
       "    .dataframe tbody tr th {\n",
       "        vertical-align: top;\n",
       "    }\n",
       "\n",
       "    .dataframe thead th {\n",
       "        text-align: right;\n",
       "    }\n",
       "</style>\n",
       "<table border=\"1\" class=\"dataframe\">\n",
       "  <thead>\n",
       "    <tr style=\"text-align: right;\">\n",
       "      <th></th>\n",
       "      <th>name</th>\n",
       "      <th>platform</th>\n",
       "      <th>year_of_release</th>\n",
       "      <th>genre</th>\n",
       "      <th>na_sales</th>\n",
       "      <th>eu_sales</th>\n",
       "      <th>jp_sales</th>\n",
       "      <th>other_sales</th>\n",
       "      <th>critic_score</th>\n",
       "      <th>user_score</th>\n",
       "      <th>rating</th>\n",
       "      <th>total_sales</th>\n",
       "    </tr>\n",
       "  </thead>\n",
       "  <tbody>\n",
       "    <tr>\n",
       "      <th>16</th>\n",
       "      <td>Grand Theft Auto V</td>\n",
       "      <td>PS3</td>\n",
       "      <td>2013</td>\n",
       "      <td>Action</td>\n",
       "      <td>7.02</td>\n",
       "      <td>9.09</td>\n",
       "      <td>0.98</td>\n",
       "      <td>3.96</td>\n",
       "      <td>97.0</td>\n",
       "      <td>8.2</td>\n",
       "      <td>M</td>\n",
       "      <td>21.05</td>\n",
       "    </tr>\n",
       "    <tr>\n",
       "      <th>23</th>\n",
       "      <td>Grand Theft Auto V</td>\n",
       "      <td>X360</td>\n",
       "      <td>2013</td>\n",
       "      <td>Action</td>\n",
       "      <td>9.66</td>\n",
       "      <td>5.14</td>\n",
       "      <td>0.06</td>\n",
       "      <td>1.41</td>\n",
       "      <td>97.0</td>\n",
       "      <td>8.1</td>\n",
       "      <td>M</td>\n",
       "      <td>16.27</td>\n",
       "    </tr>\n",
       "  </tbody>\n",
       "</table>\n",
       "</div>"
      ],
      "text/plain": [
       "                  name platform  year_of_release   genre  na_sales  eu_sales  \\\n",
       "16  Grand Theft Auto V      PS3             2013  Action      7.02      9.09   \n",
       "23  Grand Theft Auto V     X360             2013  Action      9.66      5.14   \n",
       "\n",
       "    jp_sales  other_sales  critic_score  user_score rating  total_sales  \n",
       "16      0.98         3.96          97.0         8.2      M        21.05  \n",
       "23      0.06         1.41          97.0         8.1      M        16.27  "
      ]
     },
     "execution_count": 37,
     "metadata": {},
     "output_type": "execute_result"
    }
   ],
   "source": [
    "# Slicing data to get top 5 genres in 2013-2016\n",
    "\n",
    "top_genres= data.loc[(data['year_of_release'] >=2013) & (data['genre'].isin([\"Action\", \"Shooter\", \"Sports\", \"Role-Playing\", \"Misc\"]))]\n",
    "top_genres.head(2)"
   ]
  },
  {
   "cell_type": "markdown",
   "metadata": {},
   "source": [
    "We will visualize the variation in market share per region per genre using a 3-column barplot."
   ]
  },
  {
   "cell_type": "code",
   "execution_count": 38,
   "metadata": {},
   "outputs": [
    {
     "data": {
      "image/png": "[encoded data removed]",
      "text/plain": [
       "<Figure size 1440x360 with 3 Axes>"
      ]
     },
     "metadata": {},
     "output_type": "display_data"
    }
   ],
   "source": [
    "#Plotting a multiple column barplot for Regional Market Shares Per Genre\n",
    "\n",
    "#set seaborn plotting aesthetics as default\n",
    "sns.set()\n",
    "\n",
    "na_genre = top_genres\\\n",
    "    .groupby([\"genre\"]) \\\n",
    "    .agg(na_sales=('na_sales', 'sum')) \\\n",
    "    .reset_index()\n",
    "\n",
    "eu_genre = top_genres\\\n",
    "    .groupby([\"genre\"]) \\\n",
    "    .agg(eu_sales=('eu_sales', 'sum')) \\\n",
    "    .reset_index()\n",
    "\n",
    "jp_genre = top_genres\\\n",
    "    .groupby([\"genre\"]) \\\n",
    "    .agg(jp_sales=('jp_sales', 'sum')) \\\n",
    "    .reset_index()\n",
    "\n",
    "\n",
    "#define plotting region (1 row, 3 columns)\n",
    "fig, axs = plt.subplots(1, 3, figsize=(20, 5))\n",
    "fig.suptitle('Regional Market Shares Across Genres (sales in USD million)', fontsize=20)\n",
    "\n",
    "\n",
    "#create barplot in each subplot\n",
    "sns.barplot(data=na_genre, x='genre', y='na_sales', ax=axs[0])\n",
    "axs[0].set_title('North America Sales', fontsize=12)\n",
    "axs[0].set_ylabel('Total Sales', fontsize=12)\n",
    "axs[0].set_xlabel('Genres', fontsize=12)\n",
    "\n",
    "\n",
    "sns.barplot(data=eu_genre, x='genre', y='eu_sales', ax=axs[1])\n",
    "axs[1].set_title('Europe Sales', fontsize=12)\n",
    "axs[1].set_ylabel('Total Sales', fontsize=12)\n",
    "axs[1].set_xlabel('Genres', fontsize=12)\n",
    "\n",
    "\n",
    "sns.barplot(data=jp_genre, x='genre', y='jp_sales', ax=axs[2])\n",
    "axs[2].set_title('Japan Sales', fontsize=12)\n",
    "axs[2].set_ylabel('Total Sales', fontsize=12)\n",
    "axs[2].set_xlabel('Genres', fontsize=12)\n",
    "\n",
    "plt.show()"
   ]
  },
  {
   "cell_type": "markdown",
   "metadata": {},
   "source": [
    "The market share per genre varied per region. Action games were popular across regions, but Japan had a unique market for Role-Playing games. In North America and Europe, sales for Action was highest, followed by Shooter. Yet, in Japan, Role-Playing was highest, followed by Action. "
   ]
  },
  {
   "cell_type": "markdown",
   "metadata": {},
   "source": [
    "### Regional Sales per ESRB rating <a class=\"anchor\" id=\"section_3_3\"></a>\n",
    "\n",
    "Let's check how ESRB ratings affect sales in individual regions. Let's slicing the data based on ESRB rating and group sales based on region for our plot"
   ]
  },
  {
   "cell_type": "code",
   "execution_count": 39,
   "metadata": {},
   "outputs": [
    {
     "data": {
      "image/png": "[encoded data removed]",
      "text/plain": [
       "<Figure size 1440x360 with 3 Axes>"
      ]
     },
     "metadata": {},
     "output_type": "display_data"
    }
   ],
   "source": [
    "#Plotting a multiple column barplot for Regional Market Shares Per Genre\n",
    "\n",
    "#set seaborn plotting aesthetics as default\n",
    "sns.set()\n",
    "\n",
    "na_genre = top_genres\\\n",
    "    .groupby([\"rating\"]) \\\n",
    "    .agg(na_sales=('na_sales', 'sum')) \\\n",
    "    .reset_index()\n",
    "\n",
    "eu_genre = top_genres\\\n",
    "    .groupby([\"rating\"]) \\\n",
    "    .agg(eu_sales=('eu_sales', 'sum')) \\\n",
    "    .reset_index()\n",
    "\n",
    "jp_genre = top_genres\\\n",
    "    .groupby([\"rating\"]) \\\n",
    "    .agg(jp_sales=('jp_sales', 'sum')) \\\n",
    "    .reset_index()\n",
    "\n",
    "\n",
    "#define plotting region (1 row, 3 columns)\n",
    "fig, axs = plt.subplots(1, 3, figsize=(20, 5))\n",
    "fig.suptitle('Regional Market Shares Across Ratings (sales in USD million)', fontsize=20)\n",
    "\n",
    "\n",
    "#create barplot in each subplot\n",
    "sns.barplot(data=na_genre, x='rating', y='na_sales', ax=axs[0])\n",
    "axs[0].set_title('North America Sales', fontsize=12)\n",
    "axs[0].set_ylabel('Total Sales', fontsize=12)\n",
    "axs[0].set_xlabel('Rating', fontsize=12)\n",
    "\n",
    "\n",
    "sns.barplot(data=eu_genre, x='rating', y='eu_sales', ax=axs[1])\n",
    "axs[1].set_title('Europe Sales', fontsize=12)\n",
    "axs[1].set_ylabel('Total Sales', fontsize=12)\n",
    "axs[1].set_xlabel('Rating', fontsize=12)\n",
    "\n",
    "\n",
    "sns.barplot(data=jp_genre, x='rating', y='jp_sales', ax=axs[2])\n",
    "axs[2].set_title('Japan Sales', fontsize=12)\n",
    "axs[2].set_ylabel('Total Sales', fontsize=12)\n",
    "axs[2].set_xlabel('Rating', fontsize=12)\n",
    "\n",
    "plt.show()"
   ]
  },
  {
   "cell_type": "markdown",
   "metadata": {},
   "source": [
    "Based on these barplots, ESRB rating affected sales in individual regions. Games rated \"M\" for Mature had the most market share in North America and Europe, followed by E ratings for Everyone ages 6+ while games rated \"T\" for Teen had the most market share in Japan, followed by Mature ratings."
   ]
  },
  {
   "cell_type": "markdown",
   "metadata": {},
   "source": [
    "# Testing Statistical Hypotheses <a class=\"anchor\" id=\"chapter4\"></a>\n",
    "\n",
    "We will test average user ratings for different platforms and for different genres to see if average user rating vary between platforms or between genres."
   ]
  },
  {
   "cell_type": "markdown",
   "metadata": {},
   "source": [
    "We will evaluate if the average user ratings of the Xbox One and PC platforms are the same.\n",
    "\n",
    "Null Hypothesis: Average user ratings of the Xbox One and PC platforms are the same.\n",
    "Alternative Hypothesis: Average user ratings of the Xbox One and PC platforms differ.\n",
    "We will use a ttest_ind since there are two independent samples.\n",
    "We will use an alpha level of 0.05.\n",
    "\n",
    "Before we can test the hypothesis, we need to filter our dataframe for XOne and PC."
   ]
  },
  {
   "cell_type": "code",
   "execution_count": 40,
   "metadata": {},
   "outputs": [],
   "source": [
    "# Filtering data for XOne and PC\n",
    "\n",
    "xone = data.loc[data['platform'] == 'XOne']\n",
    "pc = data.loc[data['platform'] == 'PC']"
   ]
  },
  {
   "cell_type": "markdown",
   "metadata": {},
   "source": [
    "Since there are NaN values in our samples, we will use a student's t-test with a parameter for omitting nan values."
   ]
  },
  {
   "cell_type": "code",
   "execution_count": 41,
   "metadata": {},
   "outputs": [],
   "source": [
    "# Creating a function to test hypothesis\n",
    "\n",
    "def ttest(sample1, sample2):\n",
    "\n",
    "    alpha = 0.05\n",
    "    results = stats.ttest_ind(sample1,sample2, nan_policy='omit')\n",
    "\n",
    "    print('p-value: ', results.pvalue) \n",
    "\n",
    "    if results.pvalue < alpha:\n",
    "        print('We reject the null hypothesis')\n",
    "    else:\n",
    "        print(\"We can't reject the null hypothesis\")"
   ]
  },
  {
   "cell_type": "code",
   "execution_count": 42,
   "metadata": {},
   "outputs": [
    {
     "name": "stdout",
     "output_type": "stream",
     "text": [
      "p-value:  1.3037979620152955e-05\n",
      "We reject the null hypothesis\n"
     ]
    }
   ],
   "source": [
    "# Testing the hypothesis\n",
    "ttest(xone['user_score'], pc['user_score'])"
   ]
  },
  {
   "cell_type": "markdown",
   "metadata": {},
   "source": [
    "The p-value was close to zero indicating that the chances of obtaining this result by chance are very small and our results are statistically significant. We reject the null hypothesis: Average user ratings of the Xbox One and PC platforms differ."
   ]
  },
  {
   "cell_type": "markdown",
   "metadata": {},
   "source": [
    "Now let's evaluate if the average user ratings for the Action and Sports genres are different.\n",
    "\n",
    "Null Hypothesis: Average user ratings for the Action and Sports genres are different.\n",
    "Alternative Hypothesis: Average user ratings for the Action and Sports genres are not different.\n",
    "We will use a ttest_ind since there are two independent samples.\n",
    "We will use an alpha level of 0.05.\n",
    "\n",
    "Before we can test the hypothesis, we need to filter our dataframe for Action and Sports."
   ]
  },
  {
   "cell_type": "code",
   "execution_count": 43,
   "metadata": {},
   "outputs": [],
   "source": [
    "#Filtering data Before we can test the hypothesis, we need to filter our dataframe for Action and Sports.\n",
    "\n",
    "action = data.loc[data['genre'] == 'Action']\n",
    "sports = data.loc[data['genre'] == 'Sports']"
   ]
  },
  {
   "cell_type": "code",
   "execution_count": 44,
   "metadata": {},
   "outputs": [
    {
     "name": "stdout",
     "output_type": "stream",
     "text": [
      "p-value:  0.06480928064412463\n",
      "We can't reject the null hypothesis\n"
     ]
    }
   ],
   "source": [
    "# Testing the hypothesis\n",
    "ttest(action['user_score'], sports['user_score'])"
   ]
  },
  {
   "cell_type": "markdown",
   "metadata": {},
   "source": [
    "The p-value for our test was greater than our alpha level of 0.05, indicating that we cannot reject the null hypothesis: Average user ratings for the Action and Sports genres are not different. "
   ]
  },
  {
   "cell_type": "markdown",
   "metadata": {},
   "source": [
    "General Conclusion\n",
    "\n",
    "We analyzed data from Ice to understand user behavior for its game sales and to identify patterns that determine whether a game succeeds or not. This will allow the company to spot potential big winners and plan advertising campaigns.\n",
    " \n",
    "Data Preprocessing\n",
    "At first glance, the data had several issues:\n",
    "The column names need to be converted to lowercase.\n",
    "\n",
    "There were several columns with missing values: 'year_of_release' has 1.6%, 'name' has .012%, 'genre' has .012%, 'critic_score' has 51%, 'user_score' has 40%, and 'rating' has 40% missing values.\n",
    "\n",
    "These missing values may have resulted from an error in the data collection such as a technical error or a processing error. For example, some of the data may have not been filled in properly.\n",
    "\n",
    "Since the percentage of rows with missing values in 'year_of_release', 'name' and 'genre' was relatively low, we dropped their rows with missing values. After dropping rows with NaN values, the data was reduced by 1.6% to 16444 rows.\n",
    "\n",
    "On the other hand, since the number of rows with missing values in 'critic_score', 'user_score', and 'rating' was so significant, and there was no clear method to accurately fill them, we decided to keep these rows and leave the missing values as is. The ‘user_score’ column contained NaN and TBD values aside from numeric values. We presumed that 'tbd' stands for 'to be determined' which essentially is the same as a missing value. Maybe there were two different methods for data collection and one offered 'tbd' as an option. Before we could convert this column to a float type, we needed to replace the 'tbd' with a NaN value. The number of missing values in 'user_score' jumped from 40% to 54% after converting 'tbd' to NaN values.\n",
    "The 'year_of_release' was converted from a float to an integer type. The 'user_score' was changed from an object type to a float for future calculations.\n",
    " \n",
    "Data Enrichment\n",
    "We created a column calculating total sales for future analysis.\n",
    " \n",
    "Data Analysis\n",
    "We needed to analyze data to help us make a prognosis for what sales would be like in 2017. \n",
    "Years Released\n",
    "The data ranged from years 1980-2016. The years ranging from 1980-1993 had less than 100 games released. Starting from 1994 and on, the number of games released per year increased from over 100 to a peak in 2008-2009 at around 1400. After 2009, the number of games released per year declined, yet it was still around 500 games per year across platforms.\n",
    " \n",
    "Platforms\n",
    " \n",
    "There were platforms that performed well but then stopped releasing games over time. We explored this further with visualizations. We plotted platforms with the greatest total sales to see how long it takes for platforms sales to grow and fade. Across the entire dataframe, the platforms with the greatest total sales over time, over 500, were DS, PS, PS2, PS3, Wii, X360. We explored the distribution of sales over time using a line plot.. The plot demonstrated that there is around a ten year period over which platform sales tend to rise and then decline. This can be seen in the inverted \"v\", \"u\" and \"w\" shapes of the platform sales over time. It is particularly noticeable in the sales for PS, PS2, PS3, Wii and X360. After around a ten year period, the sales on these platforms approached zero. It is helpful to keep this trend of gradual rising and declining over ten years in mind as we predict sales for 2017.\n",
    " \n",
    "Top Current Platforms\n",
    "We selected data from 2013-2016, because recent data would be most relevant to predict trends for 2017. Based on line plots, the top selling platforms that released games in 2013-2016 appear to be in the declining part of the trend for platforms. The peaks seem to have been reached before 2013 for 3DS, X360, and PS3, and in 2015 for PS4 and XOne. We need to take this trend information into account when creating a marketing strategy for 2017.\n",
    "Based on the boxplot of sales per platform, the range of sales across platforms was similar. There was a slightly lower range for sales in 3DS yet we would need to check if this difference is statistically significant. The average sales was similar across platforms.\n",
    "\n",
    "Game Reviews and Sales \n",
    "Based on scatterplots, there appeared to be a positive correlation between critic scores and sales such that the higher the critic scores the higher the sales for a game. Yet, there was no correlation between user scores and sales such that even games with lower user scores had higher sales.\n",
    "Statiscal analysis found a moderate positive correlation between critic scores and total sales. There was no correlation between user scores and total sales.\n",
    "\n",
    "Top Selling Games\n",
    "The sales of the top performing games on PS4 did not perform as well on the other platforms. Based on the boxplots, there was a difference between the sales for these games on PS4 and other platforms, such that the average sales for these games was higher on PS4 than for any other platform.\n",
    "Based on the barchart for the top 10 games on PS4, there was a range of performance. The top three performing games across platforms in general were Grand Theft Auto V, Call of Duty: Black Ops 3, and Call of Duty: Advanced Warfare. Even though on PS4 Call of Duty: Black Ops 3 had the highest sales, Grand Theft Auto V and Call of Duty: Advanced Warfare outperformed this game on PS3 and X360. For 3DS, FIFA 15 was the only game with sales. There is clearly a difference in game performance per platform.\n",
    " \n",
    "Game Genres\n",
    "Games performance varied by genre: Between 2013-2016, combined total_sales for the top 5 games per genre was: Action- 322, Shooter- 233, Sports- 150, Role-Playing- 146, and Misc- was 63. It seems that games that involved action and shooting had higher sales, while games with less action had lower sales. Yet, the genre categorization is somewhat unclear since there are separate categories for action, shooter, fighting, and adventure. We would need clarification about these categories to draw further conclusions. There are 11 categories for genre. We will select the top 5 genres and visualize their distribution. Based on a bar chart we can see that sales of the genres Action and Shooter greatly exceed the sales of other genres.\n",
    " \n",
    "Regional Sales\n",
    "\n",
    "Regional Sales Per Platform\n",
    "Platform sales varied across regions. The highest performing platforms were PS4 for North America and Europe and 3DS for Japan. The lowest performing platforms were 3DS for North America and Europe, and XOne for Japan.\n",
    " \n",
    "Regional Sales Per Genre\n",
    "The market share per genre varied per region. Action games were popular across regions, but Japan had a unique market for Role-Playing games. In North America and Europe, sales for Action was highest, followed by Shooter. Yet, in Japan, Role-Playing was highest, followed by Action.\n",
    " \n",
    "Regional Sales per ESRB rating\n",
    "ESRB rating affected sales in individual regions. Games rated \"M\" for Mature had the most market share in North America and Europe, followed by E ratings for Everyone ages 6+ while games rated \"T\" for Teen had the most market share in Japan, followed by Mature ratings.\n",
    " \n",
    "Statistical Hypotheses\n",
    "We evaluated if the average user ratings of the Xbox One and PC platforms are the same. Since there are NaN values in our samples, we used a student's t-test with a parameter for omitting nan values.\n",
    "The p-value was close to zero indicating that the chances of obtaining this result by chance are very small and our results are statistically significant. We rejected the null hypothesis. Our conclusion was that average user ratings of the Xbox One and PC platforms differ.\n",
    "\n",
    "We evaluated if the average user ratings for the Action and Sports genres are different. The p-value for our test was greater than our alpha level of 0.05, indicating that we could not reject the null hypothesis. We concluded that average user ratings for the Action and Sports genres are not different. \n"
   ]
  }
 ],
 "metadata": {
  "ExecuteTimeLog": [
   {
    "duration": 50,
    "start_time": "2022-09-11T09:28:07.880Z"
   },
   {
    "duration": 6,
    "start_time": "2022-09-11T09:28:30.150Z"
   },
   {
    "duration": 6,
    "start_time": "2022-09-11T09:32:25.450Z"
   },
   {
    "duration": 887,
    "start_time": "2022-09-11T09:32:32.461Z"
   },
   {
    "duration": 3,
    "start_time": "2022-09-11T09:32:37.680Z"
   },
   {
    "duration": 213,
    "start_time": "2022-09-11T09:32:37.692Z"
   },
   {
    "duration": 25,
    "start_time": "2022-09-11T09:32:40.077Z"
   },
   {
    "duration": 57,
    "start_time": "2022-09-11T09:33:04.066Z"
   },
   {
    "duration": 16,
    "start_time": "2022-09-11T09:33:06.592Z"
   },
   {
    "duration": 4,
    "start_time": "2022-09-11T09:35:14.880Z"
   },
   {
    "duration": 15,
    "start_time": "2022-09-11T09:35:20.884Z"
   },
   {
    "duration": 76,
    "start_time": "2022-09-11T09:50:38.014Z"
   },
   {
    "duration": 16,
    "start_time": "2022-09-11T09:57:36.615Z"
   },
   {
    "duration": 16,
    "start_time": "2022-09-11T09:57:51.777Z"
   },
   {
    "duration": 1488,
    "start_time": "2022-09-11T10:14:14.636Z"
   },
   {
    "duration": 1142,
    "start_time": "2022-09-11T10:14:27.391Z"
   },
   {
    "duration": 3,
    "start_time": "2022-09-11T10:14:34.700Z"
   },
   {
    "duration": 60,
    "start_time": "2022-09-11T10:14:34.705Z"
   },
   {
    "duration": 16,
    "start_time": "2022-09-11T10:14:34.767Z"
   },
   {
    "duration": 19,
    "start_time": "2022-09-11T10:14:34.784Z"
   },
   {
    "duration": 22,
    "start_time": "2022-09-11T10:14:34.805Z"
   },
   {
    "duration": 1167,
    "start_time": "2022-09-11T10:14:37.695Z"
   },
   {
    "duration": 16,
    "start_time": "2022-09-11T10:14:51.092Z"
   },
   {
    "duration": 24,
    "start_time": "2022-09-11T10:22:09.810Z"
   },
   {
    "duration": 8,
    "start_time": "2022-09-11T10:24:55.668Z"
   },
   {
    "duration": 12,
    "start_time": "2022-09-11T10:25:37.072Z"
   },
   {
    "duration": 23,
    "start_time": "2022-09-11T10:25:47.872Z"
   },
   {
    "duration": 12,
    "start_time": "2022-09-11T10:25:58.598Z"
   },
   {
    "duration": 3,
    "start_time": "2022-09-11T10:26:21.126Z"
   },
   {
    "duration": 6,
    "start_time": "2022-09-11T10:26:38.234Z"
   },
   {
    "duration": 8,
    "start_time": "2022-09-11T10:30:28.675Z"
   },
   {
    "duration": 13,
    "start_time": "2022-09-11T10:31:24.662Z"
   },
   {
    "duration": 11,
    "start_time": "2022-09-11T10:32:02.341Z"
   },
   {
    "duration": 10,
    "start_time": "2022-09-11T10:42:23.304Z"
   },
   {
    "duration": 8,
    "start_time": "2022-09-11T10:51:40.321Z"
   },
   {
    "duration": 6,
    "start_time": "2022-09-11T10:52:35.303Z"
   },
   {
    "duration": 14,
    "start_time": "2022-09-11T11:01:05.890Z"
   },
   {
    "duration": 17,
    "start_time": "2022-09-11T11:01:40.794Z"
   },
   {
    "duration": 2,
    "start_time": "2022-09-11T11:03:27.975Z"
   },
   {
    "duration": 17,
    "start_time": "2022-09-11T11:05:36.800Z"
   },
   {
    "duration": 5,
    "start_time": "2022-09-11T11:06:17.715Z"
   },
   {
    "duration": 4,
    "start_time": "2022-09-11T11:06:21.718Z"
   },
   {
    "duration": 10,
    "start_time": "2022-09-11T11:06:32.447Z"
   },
   {
    "duration": 5,
    "start_time": "2022-09-11T11:06:37.758Z"
   },
   {
    "duration": 3,
    "start_time": "2022-09-11T11:06:43.768Z"
   },
   {
    "duration": 63,
    "start_time": "2022-09-11T11:06:43.777Z"
   },
   {
    "duration": 14,
    "start_time": "2022-09-11T11:06:43.842Z"
   },
   {
    "duration": 24,
    "start_time": "2022-09-11T11:06:43.858Z"
   },
   {
    "duration": 10,
    "start_time": "2022-09-11T11:06:43.884Z"
   },
   {
    "duration": 19,
    "start_time": "2022-09-11T11:06:43.963Z"
   },
   {
    "duration": 27,
    "start_time": "2022-09-11T11:06:43.984Z"
   },
   {
    "duration": 5,
    "start_time": "2022-09-11T11:06:47.062Z"
   },
   {
    "duration": 5,
    "start_time": "2022-09-11T11:07:10.444Z"
   },
   {
    "duration": 4,
    "start_time": "2022-09-11T11:07:13.635Z"
   },
   {
    "duration": 13,
    "start_time": "2022-09-11T11:22:30.047Z"
   },
   {
    "duration": 5,
    "start_time": "2022-09-11T11:22:51.612Z"
   },
   {
    "duration": 29,
    "start_time": "2022-09-11T11:23:11.091Z"
   },
   {
    "duration": 13,
    "start_time": "2022-09-11T11:24:12.216Z"
   },
   {
    "duration": 105,
    "start_time": "2022-09-11T11:25:51.768Z"
   },
   {
    "duration": 36,
    "start_time": "2022-09-11T11:26:16.867Z"
   },
   {
    "duration": 24,
    "start_time": "2022-09-11T11:28:03.554Z"
   },
   {
    "duration": 11,
    "start_time": "2022-09-11T11:28:46.936Z"
   },
   {
    "duration": 5,
    "start_time": "2022-09-11T11:29:20.486Z"
   },
   {
    "duration": 15,
    "start_time": "2022-09-11T12:16:57.836Z"
   },
   {
    "duration": 15,
    "start_time": "2022-09-11T12:17:31.134Z"
   },
   {
    "duration": 17,
    "start_time": "2022-09-11T12:17:45.518Z"
   },
   {
    "duration": 18,
    "start_time": "2022-09-11T12:17:48.177Z"
   },
   {
    "duration": 15,
    "start_time": "2022-09-11T12:17:56.077Z"
   },
   {
    "duration": 5,
    "start_time": "2022-09-11T12:18:04.519Z"
   },
   {
    "duration": 78,
    "start_time": "2022-09-11T12:31:54.874Z"
   },
   {
    "duration": 96,
    "start_time": "2022-09-11T12:31:58.865Z"
   },
   {
    "duration": 147,
    "start_time": "2022-09-11T12:32:12.510Z"
   },
   {
    "duration": 70,
    "start_time": "2022-09-11T12:32:19.213Z"
   },
   {
    "duration": 75,
    "start_time": "2022-09-11T12:32:26.860Z"
   },
   {
    "duration": 3,
    "start_time": "2022-09-11T12:44:19.545Z"
   },
   {
    "duration": 116,
    "start_time": "2022-09-11T12:44:22.396Z"
   },
   {
    "duration": 3,
    "start_time": "2022-09-11T12:44:49.230Z"
   },
   {
    "duration": 78,
    "start_time": "2022-09-11T12:44:51.758Z"
   },
   {
    "duration": 3,
    "start_time": "2022-09-11T12:45:16.508Z"
   },
   {
    "duration": 49,
    "start_time": "2022-09-11T12:45:34.016Z"
   },
   {
    "duration": 4,
    "start_time": "2022-09-11T12:48:13.269Z"
   },
   {
    "duration": 7,
    "start_time": "2022-09-11T12:48:16.165Z"
   },
   {
    "duration": 718,
    "start_time": "2022-09-11T12:48:38.963Z"
   },
   {
    "duration": 197,
    "start_time": "2022-09-11T12:48:39.682Z"
   },
   {
    "duration": 18,
    "start_time": "2022-09-11T12:48:39.880Z"
   },
   {
    "duration": 16,
    "start_time": "2022-09-11T12:48:39.900Z"
   },
   {
    "duration": 11,
    "start_time": "2022-09-11T12:48:39.918Z"
   },
   {
    "duration": 14,
    "start_time": "2022-09-11T12:48:39.931Z"
   },
   {
    "duration": 49,
    "start_time": "2022-09-11T12:48:39.947Z"
   },
   {
    "duration": 5,
    "start_time": "2022-09-11T12:48:39.998Z"
   },
   {
    "duration": 23,
    "start_time": "2022-09-11T12:48:40.004Z"
   },
   {
    "duration": 4,
    "start_time": "2022-09-11T12:48:40.029Z"
   },
   {
    "duration": 8,
    "start_time": "2022-09-11T12:48:40.035Z"
   },
   {
    "duration": 8,
    "start_time": "2022-09-11T12:49:36.505Z"
   },
   {
    "duration": 51,
    "start_time": "2022-09-11T12:49:38.521Z"
   },
   {
    "duration": 3,
    "start_time": "2022-09-11T12:54:08.881Z"
   },
   {
    "duration": 7,
    "start_time": "2022-09-11T12:54:11.275Z"
   },
   {
    "duration": 680,
    "start_time": "2022-09-11T12:54:32.972Z"
   },
   {
    "duration": 196,
    "start_time": "2022-09-11T12:54:33.654Z"
   },
   {
    "duration": 17,
    "start_time": "2022-09-11T12:54:33.851Z"
   },
   {
    "duration": 15,
    "start_time": "2022-09-11T12:54:33.870Z"
   },
   {
    "duration": 10,
    "start_time": "2022-09-11T12:54:33.886Z"
   },
   {
    "duration": 14,
    "start_time": "2022-09-11T12:54:33.898Z"
   },
   {
    "duration": 17,
    "start_time": "2022-09-11T12:54:33.913Z"
   },
   {
    "duration": 6,
    "start_time": "2022-09-11T12:54:33.932Z"
   },
   {
    "duration": 21,
    "start_time": "2022-09-11T12:54:33.939Z"
   },
   {
    "duration": 29,
    "start_time": "2022-09-11T12:54:33.963Z"
   },
   {
    "duration": 10,
    "start_time": "2022-09-11T12:54:33.994Z"
   },
   {
    "duration": 709,
    "start_time": "2022-09-11T16:41:15.889Z"
   },
   {
    "duration": 96,
    "start_time": "2022-09-11T16:41:16.600Z"
   },
   {
    "duration": 17,
    "start_time": "2022-09-11T16:41:16.698Z"
   },
   {
    "duration": 14,
    "start_time": "2022-09-11T16:41:16.716Z"
   },
   {
    "duration": 10,
    "start_time": "2022-09-11T16:41:16.732Z"
   },
   {
    "duration": 13,
    "start_time": "2022-09-11T16:41:16.744Z"
   },
   {
    "duration": 19,
    "start_time": "2022-09-11T16:41:16.759Z"
   },
   {
    "duration": 5,
    "start_time": "2022-09-11T16:41:16.779Z"
   },
   {
    "duration": 18,
    "start_time": "2022-09-11T16:41:16.785Z"
   },
   {
    "duration": 4,
    "start_time": "2022-09-11T16:41:16.805Z"
   },
   {
    "duration": 79,
    "start_time": "2022-09-11T16:41:16.838Z"
   },
   {
    "duration": 3,
    "start_time": "2022-09-11T16:41:34.868Z"
   },
   {
    "duration": 2,
    "start_time": "2022-09-11T16:41:42.283Z"
   },
   {
    "duration": 57,
    "start_time": "2022-09-11T16:41:42.289Z"
   },
   {
    "duration": 12,
    "start_time": "2022-09-11T16:41:42.348Z"
   },
   {
    "duration": 18,
    "start_time": "2022-09-11T16:41:42.362Z"
   },
   {
    "duration": 10,
    "start_time": "2022-09-11T16:41:42.382Z"
   },
   {
    "duration": 18,
    "start_time": "2022-09-11T16:41:42.394Z"
   },
   {
    "duration": 33,
    "start_time": "2022-09-11T16:41:42.413Z"
   },
   {
    "duration": 5,
    "start_time": "2022-09-11T16:41:42.447Z"
   },
   {
    "duration": 20,
    "start_time": "2022-09-11T16:41:42.453Z"
   },
   {
    "duration": 6,
    "start_time": "2022-09-11T16:41:42.475Z"
   },
   {
    "duration": 6,
    "start_time": "2022-09-11T16:41:42.482Z"
   },
   {
    "duration": 640,
    "start_time": "2022-09-11T16:56:12.862Z"
   },
   {
    "duration": 111,
    "start_time": "2022-09-11T16:56:13.503Z"
   },
   {
    "duration": 16,
    "start_time": "2022-09-11T16:56:13.616Z"
   },
   {
    "duration": 13,
    "start_time": "2022-09-11T16:56:13.634Z"
   },
   {
    "duration": 11,
    "start_time": "2022-09-11T16:56:13.649Z"
   },
   {
    "duration": 12,
    "start_time": "2022-09-11T16:56:13.662Z"
   },
   {
    "duration": 17,
    "start_time": "2022-09-11T16:56:13.676Z"
   },
   {
    "duration": 4,
    "start_time": "2022-09-11T16:56:13.695Z"
   },
   {
    "duration": 42,
    "start_time": "2022-09-11T16:56:13.701Z"
   },
   {
    "duration": 4,
    "start_time": "2022-09-11T16:56:13.745Z"
   },
   {
    "duration": 56,
    "start_time": "2022-09-11T16:56:13.751Z"
   },
   {
    "duration": 4,
    "start_time": "2022-09-11T16:56:26.653Z"
   },
   {
    "duration": 2,
    "start_time": "2022-09-11T16:56:35.516Z"
   },
   {
    "duration": 65,
    "start_time": "2022-09-11T16:56:35.523Z"
   },
   {
    "duration": 13,
    "start_time": "2022-09-11T16:56:35.590Z"
   },
   {
    "duration": 38,
    "start_time": "2022-09-11T16:56:35.605Z"
   },
   {
    "duration": 14,
    "start_time": "2022-09-11T16:56:35.645Z"
   },
   {
    "duration": 25,
    "start_time": "2022-09-11T16:56:35.660Z"
   },
   {
    "duration": 32,
    "start_time": "2022-09-11T16:56:35.686Z"
   },
   {
    "duration": 8,
    "start_time": "2022-09-11T16:56:35.719Z"
   },
   {
    "duration": 36,
    "start_time": "2022-09-11T16:56:35.728Z"
   },
   {
    "duration": 7,
    "start_time": "2022-09-11T16:56:35.766Z"
   },
   {
    "duration": 65,
    "start_time": "2022-09-11T17:03:56.996Z"
   },
   {
    "duration": 8,
    "start_time": "2022-09-11T17:04:23.931Z"
   },
   {
    "duration": 3,
    "start_time": "2022-09-11T17:04:28.373Z"
   },
   {
    "duration": 64,
    "start_time": "2022-09-11T17:04:28.381Z"
   },
   {
    "duration": 20,
    "start_time": "2022-09-11T17:04:28.448Z"
   },
   {
    "duration": 18,
    "start_time": "2022-09-11T17:04:28.470Z"
   },
   {
    "duration": 9,
    "start_time": "2022-09-11T17:04:28.490Z"
   },
   {
    "duration": 14,
    "start_time": "2022-09-11T17:04:28.501Z"
   },
   {
    "duration": 17,
    "start_time": "2022-09-11T17:04:28.537Z"
   },
   {
    "duration": 5,
    "start_time": "2022-09-11T17:04:28.556Z"
   },
   {
    "duration": 23,
    "start_time": "2022-09-11T17:04:28.562Z"
   },
   {
    "duration": 5,
    "start_time": "2022-09-11T17:04:28.586Z"
   },
   {
    "duration": 5,
    "start_time": "2022-09-11T17:04:28.594Z"
   },
   {
    "duration": 15,
    "start_time": "2022-09-11T17:04:31.384Z"
   },
   {
    "duration": 3,
    "start_time": "2022-09-11T17:14:06.921Z"
   },
   {
    "duration": 23,
    "start_time": "2022-09-11T17:14:10.396Z"
   },
   {
    "duration": 3,
    "start_time": "2022-09-11T17:15:06.083Z"
   },
   {
    "duration": 26,
    "start_time": "2022-09-11T17:15:12.896Z"
   },
   {
    "duration": 3,
    "start_time": "2022-09-11T17:15:52.103Z"
   },
   {
    "duration": 2,
    "start_time": "2022-09-11T17:15:58.574Z"
   },
   {
    "duration": 72,
    "start_time": "2022-09-11T17:15:58.580Z"
   },
   {
    "duration": 12,
    "start_time": "2022-09-11T17:15:58.654Z"
   },
   {
    "duration": 20,
    "start_time": "2022-09-11T17:15:58.668Z"
   },
   {
    "duration": 16,
    "start_time": "2022-09-11T17:15:58.690Z"
   },
   {
    "duration": 24,
    "start_time": "2022-09-11T17:15:58.708Z"
   },
   {
    "duration": 20,
    "start_time": "2022-09-11T17:15:58.734Z"
   },
   {
    "duration": 5,
    "start_time": "2022-09-11T17:15:58.755Z"
   },
   {
    "duration": 19,
    "start_time": "2022-09-11T17:15:58.761Z"
   },
   {
    "duration": 4,
    "start_time": "2022-09-11T17:15:58.782Z"
   },
   {
    "duration": 17,
    "start_time": "2022-09-11T17:16:06.901Z"
   },
   {
    "duration": 21,
    "start_time": "2022-09-11T17:20:40.730Z"
   },
   {
    "duration": 15,
    "start_time": "2022-09-11T17:20:53.846Z"
   },
   {
    "duration": 30,
    "start_time": "2022-09-11T17:21:36.690Z"
   },
   {
    "duration": 20,
    "start_time": "2022-09-11T17:21:42.211Z"
   },
   {
    "duration": 2,
    "start_time": "2022-09-11T17:22:03.213Z"
   },
   {
    "duration": 57,
    "start_time": "2022-09-11T17:22:03.220Z"
   },
   {
    "duration": 12,
    "start_time": "2022-09-11T17:22:03.279Z"
   },
   {
    "duration": 21,
    "start_time": "2022-09-11T17:22:03.293Z"
   },
   {
    "duration": 9,
    "start_time": "2022-09-11T17:22:03.316Z"
   },
   {
    "duration": 13,
    "start_time": "2022-09-11T17:22:03.357Z"
   },
   {
    "duration": 15,
    "start_time": "2022-09-11T17:22:09.921Z"
   },
   {
    "duration": 5,
    "start_time": "2022-09-11T17:57:33.090Z"
   },
   {
    "duration": 5,
    "start_time": "2022-09-11T17:58:32.662Z"
   },
   {
    "duration": 14,
    "start_time": "2022-09-11T17:58:40.883Z"
   },
   {
    "duration": 52,
    "start_time": "2022-09-11T18:00:57.296Z"
   },
   {
    "duration": 47,
    "start_time": "2022-09-11T18:01:42.648Z"
   },
   {
    "duration": 20,
    "start_time": "2022-09-11T18:03:51.107Z"
   },
   {
    "duration": 9,
    "start_time": "2022-09-11T18:06:19.421Z"
   },
   {
    "duration": 60,
    "start_time": "2022-09-11T18:11:40.919Z"
   },
   {
    "duration": 3,
    "start_time": "2022-09-11T18:11:47.450Z"
   },
   {
    "duration": 87,
    "start_time": "2022-09-11T18:11:47.456Z"
   },
   {
    "duration": 13,
    "start_time": "2022-09-11T18:11:47.545Z"
   },
   {
    "duration": 24,
    "start_time": "2022-09-11T18:11:47.560Z"
   },
   {
    "duration": 25,
    "start_time": "2022-09-11T18:11:47.586Z"
   },
   {
    "duration": 19,
    "start_time": "2022-09-11T18:11:47.612Z"
   },
   {
    "duration": 46,
    "start_time": "2022-09-11T18:11:47.633Z"
   },
   {
    "duration": 15,
    "start_time": "2022-09-11T18:11:51.199Z"
   },
   {
    "duration": 2,
    "start_time": "2022-09-11T18:12:06.435Z"
   },
   {
    "duration": 55,
    "start_time": "2022-09-11T18:12:06.441Z"
   },
   {
    "duration": 13,
    "start_time": "2022-09-11T18:12:06.498Z"
   },
   {
    "duration": 16,
    "start_time": "2022-09-11T18:12:06.512Z"
   },
   {
    "duration": 9,
    "start_time": "2022-09-11T18:12:06.530Z"
   },
   {
    "duration": 18,
    "start_time": "2022-09-11T18:12:06.540Z"
   },
   {
    "duration": 24,
    "start_time": "2022-09-11T18:12:06.560Z"
   },
   {
    "duration": 15,
    "start_time": "2022-09-11T18:12:09.835Z"
   },
   {
    "duration": 13,
    "start_time": "2022-09-11T18:15:14.102Z"
   },
   {
    "duration": 22,
    "start_time": "2022-09-11T18:23:32.459Z"
   },
   {
    "duration": 6,
    "start_time": "2022-09-11T18:24:23.434Z"
   },
   {
    "duration": 14,
    "start_time": "2022-09-11T18:26:08.939Z"
   },
   {
    "duration": 5,
    "start_time": "2022-09-11T19:27:58.599Z"
   },
   {
    "duration": 6,
    "start_time": "2022-09-11T19:28:06.214Z"
   },
   {
    "duration": 50,
    "start_time": "2022-09-11T20:26:47.865Z"
   },
   {
    "duration": 3,
    "start_time": "2022-09-11T20:26:55.611Z"
   },
   {
    "duration": 57,
    "start_time": "2022-09-11T20:26:55.618Z"
   },
   {
    "duration": 13,
    "start_time": "2022-09-11T20:26:55.677Z"
   },
   {
    "duration": 15,
    "start_time": "2022-09-11T20:26:55.691Z"
   },
   {
    "duration": 9,
    "start_time": "2022-09-11T20:26:55.708Z"
   },
   {
    "duration": 29,
    "start_time": "2022-09-11T20:26:55.718Z"
   },
   {
    "duration": 23,
    "start_time": "2022-09-11T20:26:55.749Z"
   },
   {
    "duration": 13,
    "start_time": "2022-09-11T20:26:55.774Z"
   },
   {
    "duration": 6,
    "start_time": "2022-09-11T20:26:55.788Z"
   },
   {
    "duration": 41,
    "start_time": "2022-09-11T20:26:55.796Z"
   },
   {
    "duration": 5,
    "start_time": "2022-09-11T20:26:55.839Z"
   },
   {
    "duration": 6,
    "start_time": "2022-09-11T20:26:55.845Z"
   },
   {
    "duration": 18,
    "start_time": "2022-09-11T20:26:55.852Z"
   },
   {
    "duration": 47,
    "start_time": "2022-09-11T20:27:03.748Z"
   },
   {
    "duration": 60,
    "start_time": "2022-09-11T20:28:39.057Z"
   },
   {
    "duration": 55,
    "start_time": "2022-09-11T20:28:44.063Z"
   },
   {
    "duration": 19,
    "start_time": "2022-09-11T20:28:59.610Z"
   },
   {
    "duration": 2,
    "start_time": "2022-09-11T20:36:50.519Z"
   },
   {
    "duration": 52,
    "start_time": "2022-09-11T20:36:50.533Z"
   },
   {
    "duration": 13,
    "start_time": "2022-09-11T20:36:50.587Z"
   },
   {
    "duration": 14,
    "start_time": "2022-09-11T20:36:50.737Z"
   },
   {
    "duration": 9,
    "start_time": "2022-09-11T20:36:50.753Z"
   },
   {
    "duration": 16,
    "start_time": "2022-09-11T20:36:50.764Z"
   },
   {
    "duration": 20,
    "start_time": "2022-09-11T20:36:50.781Z"
   },
   {
    "duration": 37,
    "start_time": "2022-09-11T20:36:50.802Z"
   },
   {
    "duration": 4,
    "start_time": "2022-09-11T20:36:50.943Z"
   },
   {
    "duration": 25,
    "start_time": "2022-09-11T20:36:50.949Z"
   },
   {
    "duration": 4,
    "start_time": "2022-09-11T20:36:50.976Z"
   },
   {
    "duration": 29,
    "start_time": "2022-09-11T20:36:50.983Z"
   },
   {
    "duration": 16,
    "start_time": "2022-09-11T20:36:51.069Z"
   },
   {
    "duration": 19,
    "start_time": "2022-09-11T20:36:51.087Z"
   },
   {
    "duration": 59,
    "start_time": "2022-09-11T20:36:58.073Z"
   },
   {
    "duration": 21,
    "start_time": "2022-09-11T20:38:45.425Z"
   },
   {
    "duration": 13,
    "start_time": "2022-09-11T20:39:25.079Z"
   },
   {
    "duration": 19,
    "start_time": "2022-09-11T20:39:32.189Z"
   },
   {
    "duration": 11,
    "start_time": "2022-09-11T20:40:00.728Z"
   },
   {
    "duration": 10,
    "start_time": "2022-09-11T20:40:05.750Z"
   },
   {
    "duration": 34,
    "start_time": "2022-09-11T20:40:15.934Z"
   },
   {
    "duration": 19,
    "start_time": "2022-09-11T20:40:39.538Z"
   },
   {
    "duration": 6,
    "start_time": "2022-09-11T20:43:18.444Z"
   },
   {
    "duration": 25,
    "start_time": "2022-09-11T20:43:29.706Z"
   },
   {
    "duration": 28,
    "start_time": "2022-09-11T20:44:04.439Z"
   },
   {
    "duration": 39,
    "start_time": "2022-09-11T20:47:51.410Z"
   },
   {
    "duration": 851,
    "start_time": "2022-09-11T20:50:33.386Z"
   },
   {
    "duration": 223,
    "start_time": "2022-09-11T20:50:44.567Z"
   },
   {
    "duration": 219,
    "start_time": "2022-09-11T20:52:27.905Z"
   },
   {
    "duration": 4,
    "start_time": "2022-09-11T20:52:30.149Z"
   },
   {
    "duration": 297,
    "start_time": "2022-09-11T20:54:32.925Z"
   },
   {
    "duration": 68,
    "start_time": "2022-09-12T07:17:47.513Z"
   },
   {
    "duration": 57,
    "start_time": "2022-09-12T07:17:58.978Z"
   },
   {
    "duration": 40,
    "start_time": "2022-09-12T07:18:12.757Z"
   },
   {
    "duration": 761,
    "start_time": "2022-09-12T07:18:47.445Z"
   },
   {
    "duration": 102,
    "start_time": "2022-09-12T07:18:48.208Z"
   },
   {
    "duration": 19,
    "start_time": "2022-09-12T07:18:48.312Z"
   },
   {
    "duration": 22,
    "start_time": "2022-09-12T07:18:48.334Z"
   },
   {
    "duration": 11,
    "start_time": "2022-09-12T07:18:48.358Z"
   },
   {
    "duration": 16,
    "start_time": "2022-09-12T07:18:48.371Z"
   },
   {
    "duration": 27,
    "start_time": "2022-09-12T07:18:48.388Z"
   },
   {
    "duration": 14,
    "start_time": "2022-09-12T07:18:48.417Z"
   },
   {
    "duration": 11,
    "start_time": "2022-09-12T07:18:48.433Z"
   },
   {
    "duration": 36,
    "start_time": "2022-09-12T07:18:48.446Z"
   },
   {
    "duration": 5,
    "start_time": "2022-09-12T07:18:48.484Z"
   },
   {
    "duration": 12,
    "start_time": "2022-09-12T07:18:48.491Z"
   },
   {
    "duration": 19,
    "start_time": "2022-09-12T07:18:48.505Z"
   },
   {
    "duration": 4,
    "start_time": "2022-09-12T07:18:48.526Z"
   },
   {
    "duration": 276,
    "start_time": "2022-09-12T07:18:48.532Z"
   },
   {
    "duration": 323,
    "start_time": "2022-09-12T07:18:48.809Z"
   },
   {
    "duration": 24,
    "start_time": "2022-09-12T07:18:52.190Z"
   },
   {
    "duration": 23,
    "start_time": "2022-09-12T07:20:29.398Z"
   },
   {
    "duration": 21,
    "start_time": "2022-09-12T07:20:41.544Z"
   },
   {
    "duration": 9,
    "start_time": "2022-09-12T07:21:28.386Z"
   },
   {
    "duration": 3,
    "start_time": "2022-09-12T07:21:40.837Z"
   },
   {
    "duration": 22,
    "start_time": "2022-09-12T07:21:42.695Z"
   },
   {
    "duration": 2,
    "start_time": "2022-09-12T07:21:51.271Z"
   },
   {
    "duration": 21,
    "start_time": "2022-09-12T07:21:53.308Z"
   },
   {
    "duration": 8,
    "start_time": "2022-09-12T07:22:05.692Z"
   },
   {
    "duration": 8,
    "start_time": "2022-09-12T07:22:09.808Z"
   },
   {
    "duration": 2,
    "start_time": "2022-09-12T07:22:14.161Z"
   },
   {
    "duration": 21,
    "start_time": "2022-09-12T07:22:15.937Z"
   },
   {
    "duration": 5,
    "start_time": "2022-09-12T07:22:30.035Z"
   },
   {
    "duration": 73,
    "start_time": "2022-09-12T07:22:43.755Z"
   },
   {
    "duration": 42,
    "start_time": "2022-09-12T07:23:55.262Z"
   },
   {
    "duration": 3,
    "start_time": "2022-09-12T07:24:01.172Z"
   },
   {
    "duration": 2,
    "start_time": "2022-09-12T07:24:22.016Z"
   },
   {
    "duration": 86,
    "start_time": "2022-09-12T07:24:23.942Z"
   },
   {
    "duration": 10,
    "start_time": "2022-09-12T07:43:29.927Z"
   },
   {
    "duration": 574,
    "start_time": "2022-09-12T07:43:36.942Z"
   },
   {
    "duration": 14,
    "start_time": "2022-09-12T07:49:13.289Z"
   },
   {
    "duration": 91,
    "start_time": "2022-09-12T07:49:43.692Z"
   },
   {
    "duration": 21,
    "start_time": "2022-09-12T07:50:28.828Z"
   },
   {
    "duration": 100,
    "start_time": "2022-09-12T07:50:37.716Z"
   },
   {
    "duration": 5,
    "start_time": "2022-09-12T07:52:47.866Z"
   },
   {
    "duration": 10,
    "start_time": "2022-09-12T07:52:55.199Z"
   },
   {
    "duration": 10,
    "start_time": "2022-09-12T07:54:09.503Z"
   },
   {
    "duration": 11,
    "start_time": "2022-09-12T07:54:32.388Z"
   },
   {
    "duration": 8,
    "start_time": "2022-09-12T07:54:51.619Z"
   },
   {
    "duration": 15,
    "start_time": "2022-09-12T07:57:55.731Z"
   },
   {
    "duration": 80,
    "start_time": "2022-09-12T07:58:03.050Z"
   },
   {
    "duration": 7,
    "start_time": "2022-09-12T07:59:45.908Z"
   },
   {
    "duration": 9,
    "start_time": "2022-09-12T07:59:56.975Z"
   },
   {
    "duration": 14448,
    "start_time": "2022-09-12T08:00:02.769Z"
   },
   {
    "duration": 22,
    "start_time": "2022-09-12T08:00:42.403Z"
   },
   {
    "duration": 7,
    "start_time": "2022-09-12T08:03:24.225Z"
   },
   {
    "duration": 15,
    "start_time": "2022-09-12T08:03:32.032Z"
   },
   {
    "duration": 16,
    "start_time": "2022-09-12T08:05:54.663Z"
   },
   {
    "duration": 49,
    "start_time": "2022-09-12T08:11:52.175Z"
   },
   {
    "duration": 48,
    "start_time": "2022-09-12T08:11:59.941Z"
   },
   {
    "duration": 46,
    "start_time": "2022-09-12T08:12:06.838Z"
   },
   {
    "duration": 27,
    "start_time": "2022-09-12T08:12:33.993Z"
   },
   {
    "duration": 73,
    "start_time": "2022-09-12T08:15:27.961Z"
   },
   {
    "duration": 46,
    "start_time": "2022-09-12T08:16:50.572Z"
   },
   {
    "duration": 49,
    "start_time": "2022-09-12T08:20:40.137Z"
   },
   {
    "duration": 49,
    "start_time": "2022-09-12T08:22:49.131Z"
   },
   {
    "duration": 103,
    "start_time": "2022-09-12T08:25:48.593Z"
   },
   {
    "duration": 56,
    "start_time": "2022-09-12T08:25:58.088Z"
   },
   {
    "duration": 75,
    "start_time": "2022-09-12T08:26:08.796Z"
   },
   {
    "duration": 59,
    "start_time": "2022-09-12T08:26:22.205Z"
   },
   {
    "duration": 49,
    "start_time": "2022-09-12T08:26:31.571Z"
   },
   {
    "duration": 59,
    "start_time": "2022-09-12T08:26:39.264Z"
   },
   {
    "duration": 9,
    "start_time": "2022-09-12T08:26:47.017Z"
   },
   {
    "duration": 59,
    "start_time": "2022-09-12T09:24:30.556Z"
   },
   {
    "duration": 75,
    "start_time": "2022-09-12T09:24:38.401Z"
   },
   {
    "duration": 56,
    "start_time": "2022-09-12T09:25:26.082Z"
   },
   {
    "duration": 71,
    "start_time": "2022-09-12T09:25:48.410Z"
   },
   {
    "duration": 172,
    "start_time": "2022-09-12T09:26:25.367Z"
   },
   {
    "duration": 64,
    "start_time": "2022-09-12T09:26:40.672Z"
   },
   {
    "duration": 49,
    "start_time": "2022-09-12T09:26:56.917Z"
   },
   {
    "duration": 3,
    "start_time": "2022-09-12T09:27:10.701Z"
   },
   {
    "duration": 54,
    "start_time": "2022-09-12T09:27:10.706Z"
   },
   {
    "duration": 14,
    "start_time": "2022-09-12T09:27:10.762Z"
   },
   {
    "duration": 16,
    "start_time": "2022-09-12T09:27:10.778Z"
   },
   {
    "duration": 9,
    "start_time": "2022-09-12T09:27:10.795Z"
   },
   {
    "duration": 15,
    "start_time": "2022-09-12T09:27:10.805Z"
   },
   {
    "duration": 20,
    "start_time": "2022-09-12T09:27:10.822Z"
   },
   {
    "duration": 44,
    "start_time": "2022-09-12T09:27:10.843Z"
   },
   {
    "duration": 5,
    "start_time": "2022-09-12T09:27:10.889Z"
   },
   {
    "duration": 21,
    "start_time": "2022-09-12T09:27:10.896Z"
   },
   {
    "duration": 4,
    "start_time": "2022-09-12T09:27:10.919Z"
   },
   {
    "duration": 4,
    "start_time": "2022-09-12T09:27:10.925Z"
   },
   {
    "duration": 48,
    "start_time": "2022-09-12T09:27:10.930Z"
   },
   {
    "duration": 3,
    "start_time": "2022-09-12T09:27:10.980Z"
   },
   {
    "duration": 271,
    "start_time": "2022-09-12T09:27:10.984Z"
   },
   {
    "duration": 3,
    "start_time": "2022-09-12T09:27:11.257Z"
   },
   {
    "duration": 116,
    "start_time": "2022-09-12T09:27:11.262Z"
   },
   {
    "duration": 10,
    "start_time": "2022-09-12T09:27:11.379Z"
   },
   {
    "duration": 43,
    "start_time": "2022-09-12T09:27:13.983Z"
   },
   {
    "duration": 178,
    "start_time": "2022-09-12T09:27:57.527Z"
   },
   {
    "duration": 79,
    "start_time": "2022-09-12T09:28:04.521Z"
   },
   {
    "duration": 82,
    "start_time": "2022-09-12T09:28:20.521Z"
   },
   {
    "duration": 62,
    "start_time": "2022-09-12T09:28:43.471Z"
   },
   {
    "duration": 44,
    "start_time": "2022-09-12T09:28:58.162Z"
   },
   {
    "duration": 118,
    "start_time": "2022-09-12T09:29:16.188Z"
   },
   {
    "duration": 81,
    "start_time": "2022-09-12T09:39:21.082Z"
   },
   {
    "duration": 64,
    "start_time": "2022-09-12T09:39:24.201Z"
   },
   {
    "duration": 252,
    "start_time": "2022-09-12T09:39:31.228Z"
   },
   {
    "duration": 50,
    "start_time": "2022-09-12T09:39:35.524Z"
   },
   {
    "duration": 123,
    "start_time": "2022-09-12T09:40:53.469Z"
   },
   {
    "duration": 70,
    "start_time": "2022-09-12T09:40:59.101Z"
   },
   {
    "duration": 7,
    "start_time": "2022-09-12T09:42:17.293Z"
   },
   {
    "duration": 53,
    "start_time": "2022-09-12T09:42:28.237Z"
   },
   {
    "duration": 17,
    "start_time": "2022-09-12T09:42:35.298Z"
   },
   {
    "duration": 8,
    "start_time": "2022-09-12T09:42:42.655Z"
   },
   {
    "duration": 9,
    "start_time": "2022-09-12T09:42:45.364Z"
   },
   {
    "duration": 8,
    "start_time": "2022-09-12T09:42:58.271Z"
   },
   {
    "duration": 75,
    "start_time": "2022-09-12T09:43:00.035Z"
   },
   {
    "duration": 9,
    "start_time": "2022-09-12T09:43:17.189Z"
   },
   {
    "duration": 4,
    "start_time": "2022-09-12T09:59:15.555Z"
   },
   {
    "duration": 4,
    "start_time": "2022-09-12T09:59:24.206Z"
   },
   {
    "duration": 8,
    "start_time": "2022-09-12T09:59:32.287Z"
   },
   {
    "duration": 9,
    "start_time": "2022-09-12T09:59:47.527Z"
   },
   {
    "duration": 4,
    "start_time": "2022-09-12T09:59:52.668Z"
   },
   {
    "duration": 9,
    "start_time": "2022-09-12T10:00:02.870Z"
   },
   {
    "duration": 9,
    "start_time": "2022-09-12T10:00:07.030Z"
   },
   {
    "duration": 9,
    "start_time": "2022-09-12T10:00:30.586Z"
   },
   {
    "duration": 3,
    "start_time": "2022-09-12T10:00:56.435Z"
   },
   {
    "duration": 52,
    "start_time": "2022-09-12T10:00:56.440Z"
   },
   {
    "duration": 13,
    "start_time": "2022-09-12T10:00:56.494Z"
   },
   {
    "duration": 16,
    "start_time": "2022-09-12T10:00:56.508Z"
   },
   {
    "duration": 11,
    "start_time": "2022-09-12T10:00:56.526Z"
   },
   {
    "duration": 38,
    "start_time": "2022-09-12T10:00:56.539Z"
   },
   {
    "duration": 22,
    "start_time": "2022-09-12T10:00:56.579Z"
   },
   {
    "duration": 14,
    "start_time": "2022-09-12T10:00:56.602Z"
   },
   {
    "duration": 5,
    "start_time": "2022-09-12T10:00:56.618Z"
   },
   {
    "duration": 21,
    "start_time": "2022-09-12T10:00:56.625Z"
   },
   {
    "duration": 6,
    "start_time": "2022-09-12T10:00:56.676Z"
   },
   {
    "duration": 5,
    "start_time": "2022-09-12T10:00:56.684Z"
   },
   {
    "duration": 27,
    "start_time": "2022-09-12T10:00:56.692Z"
   },
   {
    "duration": 3,
    "start_time": "2022-09-12T10:00:56.722Z"
   },
   {
    "duration": 285,
    "start_time": "2022-09-12T10:00:56.727Z"
   },
   {
    "duration": 10,
    "start_time": "2022-09-12T10:01:00.095Z"
   },
   {
    "duration": 26,
    "start_time": "2022-09-12T10:05:08.447Z"
   },
   {
    "duration": 23,
    "start_time": "2022-09-12T10:08:46.901Z"
   },
   {
    "duration": 23,
    "start_time": "2022-09-12T10:11:46.083Z"
   },
   {
    "duration": 9,
    "start_time": "2022-09-12T10:12:44.488Z"
   },
   {
    "duration": 11,
    "start_time": "2022-09-12T10:12:46.584Z"
   },
   {
    "duration": 3,
    "start_time": "2022-09-12T10:12:51.754Z"
   },
   {
    "duration": 53,
    "start_time": "2022-09-12T10:12:51.759Z"
   },
   {
    "duration": 15,
    "start_time": "2022-09-12T10:12:51.813Z"
   },
   {
    "duration": 16,
    "start_time": "2022-09-12T10:12:51.830Z"
   },
   {
    "duration": 8,
    "start_time": "2022-09-12T10:12:51.848Z"
   },
   {
    "duration": 21,
    "start_time": "2022-09-12T10:12:51.857Z"
   },
   {
    "duration": 19,
    "start_time": "2022-09-12T10:12:51.880Z"
   },
   {
    "duration": 13,
    "start_time": "2022-09-12T10:12:51.901Z"
   },
   {
    "duration": 8,
    "start_time": "2022-09-12T10:12:51.915Z"
   },
   {
    "duration": 18,
    "start_time": "2022-09-12T10:12:51.924Z"
   },
   {
    "duration": 4,
    "start_time": "2022-09-12T10:12:51.944Z"
   },
   {
    "duration": 28,
    "start_time": "2022-09-12T10:12:51.950Z"
   },
   {
    "duration": 17,
    "start_time": "2022-09-12T10:12:51.980Z"
   },
   {
    "duration": 3,
    "start_time": "2022-09-12T10:12:51.999Z"
   },
   {
    "duration": 269,
    "start_time": "2022-09-12T10:12:52.004Z"
   },
   {
    "duration": 2,
    "start_time": "2022-09-12T10:12:52.276Z"
   },
   {
    "duration": 103,
    "start_time": "2022-09-12T10:12:52.280Z"
   },
   {
    "duration": 10,
    "start_time": "2022-09-12T10:12:59.651Z"
   },
   {
    "duration": 10,
    "start_time": "2022-09-12T10:13:03.268Z"
   },
   {
    "duration": 10,
    "start_time": "2022-09-12T10:19:44.850Z"
   },
   {
    "duration": 3,
    "start_time": "2022-09-12T10:19:49.764Z"
   },
   {
    "duration": 57,
    "start_time": "2022-09-12T10:19:49.769Z"
   },
   {
    "duration": 14,
    "start_time": "2022-09-12T10:19:49.827Z"
   },
   {
    "duration": 15,
    "start_time": "2022-09-12T10:19:49.842Z"
   },
   {
    "duration": 9,
    "start_time": "2022-09-12T10:19:49.860Z"
   },
   {
    "duration": 14,
    "start_time": "2022-09-12T10:19:49.871Z"
   },
   {
    "duration": 27,
    "start_time": "2022-09-12T10:19:49.887Z"
   },
   {
    "duration": 15,
    "start_time": "2022-09-12T10:19:49.916Z"
   },
   {
    "duration": 5,
    "start_time": "2022-09-12T10:19:49.933Z"
   },
   {
    "duration": 39,
    "start_time": "2022-09-12T10:19:49.940Z"
   },
   {
    "duration": 4,
    "start_time": "2022-09-12T10:19:49.982Z"
   },
   {
    "duration": 5,
    "start_time": "2022-09-12T10:19:49.988Z"
   },
   {
    "duration": 20,
    "start_time": "2022-09-12T10:19:49.994Z"
   },
   {
    "duration": 3,
    "start_time": "2022-09-12T10:19:50.016Z"
   },
   {
    "duration": 267,
    "start_time": "2022-09-12T10:19:50.021Z"
   },
   {
    "duration": 3,
    "start_time": "2022-09-12T10:19:50.289Z"
   },
   {
    "duration": 167,
    "start_time": "2022-09-12T10:19:50.294Z"
   },
   {
    "duration": 10,
    "start_time": "2022-09-12T10:19:53.241Z"
   },
   {
    "duration": 14,
    "start_time": "2022-09-12T10:20:00.173Z"
   }
  ],
  "kernelspec": {
   "display_name": "Python 3 (ipykernel)",
   "language": "python",
   "name": "python3"
  },
  "language_info": {
   "codemirror_mode": {
    "name": "ipython",
    "version": 3
   },
   "file_extension": ".py",
   "mimetype": "text/x-python",
   "name": "python",
   "nbconvert_exporter": "python",
   "pygments_lexer": "ipython3",
   "version": "3.9.12"
  },
  "toc": {
   "base_numbering": 1,
   "nav_menu": {},
   "number_sections": true,
   "sideBar": true,
   "skip_h1_title": true,
   "title_cell": "Table of Contents",
   "title_sidebar": "Table of Contents",
   "toc_cell": false,
   "toc_position": {
    "height": "calc(100% - 180px)",
    "left": "10px",
    "top": "150px",
    "width": "236.172px"
   },
   "toc_section_display": true,
   "toc_window_display": false
  }
 },
 "nbformat": 4,
 "nbformat_minor": 4
}
