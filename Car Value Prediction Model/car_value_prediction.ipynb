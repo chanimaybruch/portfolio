{
 "cells": [
  {
   "cell_type": "markdown",
   "metadata": {},
   "source": [
    "# Project Goal\n",
    "Rusty Bargain used car sales service is developing an app to attract new customers. In that app, you can quickly find out the market value of your car. You have access to historical data: technical specifications, trim versions, and prices. You need to build the model to determine the value. \n",
    "\n",
    "Rusty Bargain is interested in:\n",
    "\n",
    "- the quality of the prediction;\n",
    "- the speed of the prediction;\n",
    "- the time required for training"
   ]
  },
  {
   "cell_type": "markdown",
   "metadata": {},
   "source": [
    "# Data Preprocessing & Exploration\n",
    "## Initialization"
   ]
  },
  {
   "cell_type": "code",
   "execution_count": 14,
   "metadata": {},
   "outputs": [],
   "source": [
    "import warnings\n",
    "warnings.filterwarnings('ignore')\n",
    "warnings.simplefilter('ignore')"
   ]
  },
  {
   "cell_type": "code",
   "execution_count": 15,
   "metadata": {},
   "outputs": [
    {
     "name": "stdout",
     "output_type": "stream",
     "text": [
      "Requirement already satisfied: scikit-learn in c:\\users\\abba\\anaconda3\\lib\\site-packages (1.2.2)Note: you may need to restart the kernel to use updated packages.\n",
      "\n",
      "Requirement already satisfied: numpy>=1.17.3 in c:\\users\\abba\\anaconda3\\lib\\site-packages (from scikit-learn) (1.22.4)\n",
      "Requirement already satisfied: scipy>=1.3.2 in c:\\users\\abba\\anaconda3\\lib\\site-packages (from scikit-learn) (1.7.3)\n",
      "Requirement already satisfied: joblib>=1.1.1 in c:\\users\\abba\\anaconda3\\lib\\site-packages (from scikit-learn) (1.2.0)\n",
      "Requirement already satisfied: threadpoolctl>=2.0.0 in c:\\users\\abba\\anaconda3\\lib\\site-packages (from scikit-learn) (3.1.0)\n"
     ]
    }
   ],
   "source": [
    "pip install scikit-learn --upgrade"
   ]
  },
  {
   "cell_type": "code",
   "execution_count": 16,
   "metadata": {},
   "outputs": [
    {
     "name": "stdout",
     "output_type": "stream",
     "text": [
      "Requirement already satisfied: category_encoders in c:\\users\\abba\\anaconda3\\lib\\site-packages (2.5.1.post0)\n",
      "Requirement already satisfied: numpy>=1.14.0 in c:\\users\\abba\\anaconda3\\lib\\site-packages (from category_encoders) (1.22.4)\n",
      "Requirement already satisfied: scikit-learn>=0.20.0 in c:\\users\\abba\\anaconda3\\lib\\site-packages (from category_encoders) (1.2.2)\n",
      "Requirement already satisfied: scipy>=1.0.0 in c:\\users\\abba\\anaconda3\\lib\\site-packages (from category_encoders) (1.7.3)\n",
      "Requirement already satisfied: statsmodels>=0.9.0 in c:\\users\\abba\\anaconda3\\lib\\site-packages (from category_encoders) (0.13.2)\n",
      "Requirement already satisfied: pandas>=1.0.5 in c:\\users\\abba\\anaconda3\\lib\\site-packages (from category_encoders) (1.4.2)\n",
      "Requirement already satisfied: patsy>=0.5.1 in c:\\users\\abba\\anaconda3\\lib\\site-packages (from category_encoders) (0.5.2)\n",
      "Requirement already satisfied: python-dateutil>=2.8.1 in c:\\users\\abba\\anaconda3\\lib\\site-packages (from pandas>=1.0.5->category_encoders) (2.8.2)\n",
      "Requirement already satisfied: pytz>=2020.1 in c:\\users\\abba\\anaconda3\\lib\\site-packages (from pandas>=1.0.5->category_encoders) (2021.3)\n",
      "Requirement already satisfied: six in c:\\users\\abba\\anaconda3\\lib\\site-packages (from patsy>=0.5.1->category_encoders) (1.16.0)Note: you may need to restart the kernel to use updated packages.\n",
      "\n",
      "Requirement already satisfied: joblib>=1.1.1 in c:\\users\\abba\\anaconda3\\lib\\site-packages (from scikit-learn>=0.20.0->category_encoders) (1.2.0)\n",
      "Requirement already satisfied: threadpoolctl>=2.0.0 in c:\\users\\abba\\anaconda3\\lib\\site-packages (from scikit-learn>=0.20.0->category_encoders) (3.1.0)\n",
      "Requirement already satisfied: packaging>=21.3 in c:\\users\\abba\\anaconda3\\lib\\site-packages (from statsmodels>=0.9.0->category_encoders) (21.3)\n",
      "Requirement already satisfied: pyparsing!=3.0.5,>=2.0.2 in c:\\users\\abba\\anaconda3\\lib\\site-packages (from packaging>=21.3->statsmodels>=0.9.0->category_encoders) (3.0.4)\n"
     ]
    }
   ],
   "source": [
    "pip install category_encoders"
   ]
  },
  {
   "cell_type": "code",
   "execution_count": 17,
   "metadata": {},
   "outputs": [
    {
     "name": "stdout",
     "output_type": "stream",
     "text": [
      "Requirement already satisfied: lightgbm in c:\\users\\abba\\anaconda3\\lib\\site-packages (3.3.3)\n",
      "Requirement already satisfied: wheel in c:\\users\\abba\\anaconda3\\lib\\site-packages (from lightgbm) (0.37.1)\n",
      "Requirement already satisfied: numpy in c:\\users\\abba\\anaconda3\\lib\\site-packages (from lightgbm) (1.22.4)\n",
      "Requirement already satisfied: scipy in c:\\users\\abba\\anaconda3\\lib\\site-packages (from lightgbm) (1.7.3)\n",
      "Requirement already satisfied: scikit-learn!=0.22.0 in c:\\users\\abba\\anaconda3\\lib\\site-packages (from lightgbm) (1.2.2)\n",
      "Requirement already satisfied: joblib>=1.1.1 in c:\\users\\abba\\anaconda3\\lib\\site-packages (from scikit-learn!=0.22.0->lightgbm) (1.2.0)\n",
      "Requirement already satisfied: threadpoolctl>=2.0.0 in c:\\users\\abba\\anaconda3\\lib\\site-packages (from scikit-learn!=0.22.0->lightgbm) (3.1.0)\n",
      "Note: you may need to restart the kernel to use updated packages.\n"
     ]
    }
   ],
   "source": [
    "pip install lightgbm "
   ]
  },
  {
   "cell_type": "code",
   "execution_count": 18,
   "metadata": {},
   "outputs": [
    {
     "name": "stdout",
     "output_type": "stream",
     "text": [
      "Requirement already satisfied: catboost in c:\\users\\abba\\anaconda3\\lib\\site-packages (1.1.1)\n",
      "Requirement already satisfied: graphviz in c:\\users\\abba\\anaconda3\\lib\\site-packages (from catboost) (0.20.1)\n",
      "Requirement already satisfied: matplotlib in c:\\users\\abba\\anaconda3\\lib\\site-packages (from catboost) (3.5.1)\n",
      "Requirement already satisfied: numpy>=1.16.0 in c:\\users\\abba\\anaconda3\\lib\\site-packages (from catboost) (1.22.4)\n",
      "Requirement already satisfied: pandas>=0.24.0 in c:\\users\\abba\\anaconda3\\lib\\site-packages (from catboost) (1.4.2)\n",
      "Requirement already satisfied: scipy in c:\\users\\abba\\anaconda3\\lib\\site-packages (from catboost) (1.7.3)\n",
      "Requirement already satisfied: plotly in c:\\users\\abba\\anaconda3\\lib\\site-packages (from catboost) (4.5.4)\n",
      "Requirement already satisfied: six in c:\\users\\abba\\anaconda3\\lib\\site-packages (from catboost) (1.16.0)\n",
      "Requirement already satisfied: python-dateutil>=2.8.1 in c:\\users\\abba\\anaconda3\\lib\\site-packages (from pandas>=0.24.0->catboost) (2.8.2)\n",
      "Requirement already satisfied: pytz>=2020.1 in c:\\users\\abba\\anaconda3\\lib\\site-packages (from pandas>=0.24.0->catboost) (2021.3)\n",
      "Requirement already satisfied: cycler>=0.10 in c:\\users\\abba\\anaconda3\\lib\\site-packages (from matplotlib->catboost) (0.11.0)\n",
      "Requirement already satisfied: fonttools>=4.22.0 in c:\\users\\abba\\anaconda3\\lib\\site-packages (from matplotlib->catboost) (4.25.0)\n",
      "Requirement already satisfied: kiwisolver>=1.0.1 in c:\\users\\abba\\anaconda3\\lib\\site-packages (from matplotlib->catboost) (1.3.2)\n",
      "Requirement already satisfied: packaging>=20.0 in c:\\users\\abba\\anaconda3\\lib\\site-packages (from matplotlib->catboost) (21.3)\n",
      "Requirement already satisfied: pillow>=6.2.0 in c:\\users\\abba\\anaconda3\\lib\\site-packages (from matplotlib->catboost) (9.0.1)\n",
      "Requirement already satisfied: pyparsing>=2.2.1 in c:\\users\\abba\\anaconda3\\lib\\site-packages (from matplotlib->catboost) (3.0.4)\n",
      "Requirement already satisfied: retrying>=1.3.3 in c:\\users\\abba\\anaconda3\\lib\\site-packages (from plotly->catboost) (1.3.4)\n",
      "Note: you may need to restart the kernel to use updated packages.\n"
     ]
    }
   ],
   "source": [
    "pip install catboost"
   ]
  },
  {
   "cell_type": "code",
   "execution_count": 19,
   "metadata": {},
   "outputs": [],
   "source": [
    "import numpy as np\n",
    "import pandas as pd\n",
    "import matplotlib.pyplot as plt\n",
    "from sklearn.preprocessing import OneHotEncoder\n",
    "import category_encoders as ce\n",
    "import sklearn.linear_model\n",
    "from sklearn.linear_model import LinearRegression\n",
    "from sklearn.ensemble import RandomForestRegressor\n",
    "from sklearn.dummy import DummyRegressor\n",
    "import lightgbm as lgb\n",
    "from catboost import CatBoostRegressor\n",
    "import sklearn.metrics\n",
    "from sklearn.metrics import mean_squared_error\n",
    "import sklearn.preprocessing\n",
    "from sklearn.model_selection import train_test_split\n",
    "import math\n",
    "import timeit"
   ]
  },
  {
   "cell_type": "markdown",
   "metadata": {},
   "source": [
    "### Load Data"
   ]
  },
  {
   "cell_type": "code",
   "execution_count": 20,
   "metadata": {},
   "outputs": [],
   "source": [
    "auto_df = pd.read_csv('car_data.csv')"
   ]
  },
  {
   "cell_type": "code",
   "execution_count": 21,
   "metadata": {},
   "outputs": [
    {
     "name": "stdout",
     "output_type": "stream",
     "text": [
      "<class 'pandas.core.frame.DataFrame'>\n",
      "RangeIndex: 354369 entries, 0 to 354368\n",
      "Data columns (total 16 columns):\n",
      " #   Column             Non-Null Count   Dtype \n",
      "---  ------             --------------   ----- \n",
      " 0   DateCrawled        354369 non-null  object\n",
      " 1   Price              354369 non-null  int64 \n",
      " 2   VehicleType        316879 non-null  object\n",
      " 3   RegistrationYear   354369 non-null  int64 \n",
      " 4   Gearbox            334536 non-null  object\n",
      " 5   Power              354369 non-null  int64 \n",
      " 6   Model              334664 non-null  object\n",
      " 7   Mileage            354369 non-null  int64 \n",
      " 8   RegistrationMonth  354369 non-null  int64 \n",
      " 9   FuelType           321474 non-null  object\n",
      " 10  Brand              354369 non-null  object\n",
      " 11  NotRepaired        283215 non-null  object\n",
      " 12  DateCreated        354369 non-null  object\n",
      " 13  NumberOfPictures   354369 non-null  int64 \n",
      " 14  PostalCode         354369 non-null  int64 \n",
      " 15  LastSeen           354369 non-null  object\n",
      "dtypes: int64(7), object(9)\n",
      "memory usage: 43.3+ MB\n"
     ]
    }
   ],
   "source": [
    "auto_df.info()"
   ]
  },
  {
   "cell_type": "markdown",
   "metadata": {},
   "source": [
    "## Data Preprocessing"
   ]
  },
  {
   "cell_type": "markdown",
   "metadata": {},
   "source": [
    "There are 354369 rows and 15 columns. The names of the columns are in uppercase format and many of the features are in datatypes that need to be converted. There are also missing values.\n",
    "\n",
    "Features\n",
    " - DateCrawled — date profile was downloaded from the database\n",
    " - VehicleType — vehicle body type\n",
    " - RegistrationYear — year of original vehicle registration\n",
    " - Gearbox — gearbox type\n",
    " - Power — power (hp)\n",
    " - Model — vehicle model\n",
    " - Mileage — mileage (measured in km due to dataset's regional specifics)\n",
    " - RegistrationMonth — month of original vehicle registration\n",
    " - FuelType — fuel type\n",
    " - Brand — vehicle brand\n",
    " - NotRepaired — vehicle repaired or not\n",
    " - DateCreated — date of profile creation\n",
    " - NumberOfPictures — number of vehicle pictures\n",
    " - PostalCode — postal code of profile owner (user)\n",
    " - LastSeen — date of the last activity of the user\n",
    " \n",
    "Target\n",
    " - Price — price (Euro)\n"
   ]
  },
  {
   "cell_type": "code",
   "execution_count": 22,
   "metadata": {},
   "outputs": [],
   "source": [
    "# Converting all features into lowercase names with underscores between terms\n",
    "auto_df = auto_df.rename(columns={'DateCrawled': 'date_crawled', 'Price': 'price', 'VehicleType': 'vehicle_type',\\\n",
    "                        'RegistrationYear': 'registration_year', 'Gearbox': 'gearbox', 'Power': 'power', 'Model': 'model',\\\n",
    "                        'Mileage': 'mileage', 'RegistrationMonth': 'registration_month', 'FuelType': 'fuel_type',\\\n",
    "                        'Brand': 'brand', 'NotRepaired': 'not_repaired', 'DateCreated': 'date_created',\\\n",
    "                        'NumberOfPictures': 'number_of_pictures', 'PostalCode': 'postal_code', 'LastSeen': 'last_seen'})\n"
   ]
  },
  {
   "cell_type": "code",
   "execution_count": 23,
   "metadata": {},
   "outputs": [
    {
     "data": {
      "text/html": [
       "<div>\n",
       "<style scoped>\n",
       "    .dataframe tbody tr th:only-of-type {\n",
       "        vertical-align: middle;\n",
       "    }\n",
       "\n",
       "    .dataframe tbody tr th {\n",
       "        vertical-align: top;\n",
       "    }\n",
       "\n",
       "    .dataframe thead th {\n",
       "        text-align: right;\n",
       "    }\n",
       "</style>\n",
       "<table border=\"1\" class=\"dataframe\">\n",
       "  <thead>\n",
       "    <tr style=\"text-align: right;\">\n",
       "      <th></th>\n",
       "      <th>date_crawled</th>\n",
       "      <th>price</th>\n",
       "      <th>vehicle_type</th>\n",
       "      <th>registration_year</th>\n",
       "      <th>gearbox</th>\n",
       "      <th>power</th>\n",
       "      <th>model</th>\n",
       "      <th>mileage</th>\n",
       "      <th>registration_month</th>\n",
       "      <th>fuel_type</th>\n",
       "      <th>brand</th>\n",
       "      <th>not_repaired</th>\n",
       "      <th>date_created</th>\n",
       "      <th>number_of_pictures</th>\n",
       "      <th>postal_code</th>\n",
       "      <th>last_seen</th>\n",
       "    </tr>\n",
       "  </thead>\n",
       "  <tbody>\n",
       "    <tr>\n",
       "      <th>0</th>\n",
       "      <td>24/03/2016 11:52</td>\n",
       "      <td>480</td>\n",
       "      <td>NaN</td>\n",
       "      <td>1993</td>\n",
       "      <td>manual</td>\n",
       "      <td>0</td>\n",
       "      <td>golf</td>\n",
       "      <td>150000</td>\n",
       "      <td>0</td>\n",
       "      <td>petrol</td>\n",
       "      <td>volkswagen</td>\n",
       "      <td>NaN</td>\n",
       "      <td>24/03/2016 00:00</td>\n",
       "      <td>0</td>\n",
       "      <td>70435</td>\n",
       "      <td>07/04/2016 03:16</td>\n",
       "    </tr>\n",
       "    <tr>\n",
       "      <th>1</th>\n",
       "      <td>24/03/2016 10:58</td>\n",
       "      <td>18300</td>\n",
       "      <td>coupe</td>\n",
       "      <td>2011</td>\n",
       "      <td>manual</td>\n",
       "      <td>190</td>\n",
       "      <td>NaN</td>\n",
       "      <td>125000</td>\n",
       "      <td>5</td>\n",
       "      <td>gasoline</td>\n",
       "      <td>audi</td>\n",
       "      <td>yes</td>\n",
       "      <td>24/03/2016 00:00</td>\n",
       "      <td>0</td>\n",
       "      <td>66954</td>\n",
       "      <td>07/04/2016 01:46</td>\n",
       "    </tr>\n",
       "    <tr>\n",
       "      <th>2</th>\n",
       "      <td>14/03/2016 12:52</td>\n",
       "      <td>9800</td>\n",
       "      <td>suv</td>\n",
       "      <td>2004</td>\n",
       "      <td>auto</td>\n",
       "      <td>163</td>\n",
       "      <td>grand</td>\n",
       "      <td>125000</td>\n",
       "      <td>8</td>\n",
       "      <td>gasoline</td>\n",
       "      <td>jeep</td>\n",
       "      <td>NaN</td>\n",
       "      <td>14/03/2016 00:00</td>\n",
       "      <td>0</td>\n",
       "      <td>90480</td>\n",
       "      <td>05/04/2016 12:47</td>\n",
       "    </tr>\n",
       "    <tr>\n",
       "      <th>3</th>\n",
       "      <td>17/03/2016 16:54</td>\n",
       "      <td>1500</td>\n",
       "      <td>small</td>\n",
       "      <td>2001</td>\n",
       "      <td>manual</td>\n",
       "      <td>75</td>\n",
       "      <td>golf</td>\n",
       "      <td>150000</td>\n",
       "      <td>6</td>\n",
       "      <td>petrol</td>\n",
       "      <td>volkswagen</td>\n",
       "      <td>no</td>\n",
       "      <td>17/03/2016 00:00</td>\n",
       "      <td>0</td>\n",
       "      <td>91074</td>\n",
       "      <td>17/03/2016 17:40</td>\n",
       "    </tr>\n",
       "    <tr>\n",
       "      <th>4</th>\n",
       "      <td>31/03/2016 17:25</td>\n",
       "      <td>3600</td>\n",
       "      <td>small</td>\n",
       "      <td>2008</td>\n",
       "      <td>manual</td>\n",
       "      <td>69</td>\n",
       "      <td>fabia</td>\n",
       "      <td>90000</td>\n",
       "      <td>7</td>\n",
       "      <td>gasoline</td>\n",
       "      <td>skoda</td>\n",
       "      <td>no</td>\n",
       "      <td>31/03/2016 00:00</td>\n",
       "      <td>0</td>\n",
       "      <td>60437</td>\n",
       "      <td>06/04/2016 10:17</td>\n",
       "    </tr>\n",
       "  </tbody>\n",
       "</table>\n",
       "</div>"
      ],
      "text/plain": [
       "       date_crawled  price vehicle_type  registration_year gearbox  power  \\\n",
       "0  24/03/2016 11:52    480          NaN               1993  manual      0   \n",
       "1  24/03/2016 10:58  18300        coupe               2011  manual    190   \n",
       "2  14/03/2016 12:52   9800          suv               2004    auto    163   \n",
       "3  17/03/2016 16:54   1500        small               2001  manual     75   \n",
       "4  31/03/2016 17:25   3600        small               2008  manual     69   \n",
       "\n",
       "   model  mileage  registration_month fuel_type       brand not_repaired  \\\n",
       "0   golf   150000                   0    petrol  volkswagen          NaN   \n",
       "1    NaN   125000                   5  gasoline        audi          yes   \n",
       "2  grand   125000                   8  gasoline        jeep          NaN   \n",
       "3   golf   150000                   6    petrol  volkswagen           no   \n",
       "4  fabia    90000                   7  gasoline       skoda           no   \n",
       "\n",
       "       date_created  number_of_pictures  postal_code         last_seen  \n",
       "0  24/03/2016 00:00                   0        70435  07/04/2016 03:16  \n",
       "1  24/03/2016 00:00                   0        66954  07/04/2016 01:46  \n",
       "2  14/03/2016 00:00                   0        90480  05/04/2016 12:47  \n",
       "3  17/03/2016 00:00                   0        91074  17/03/2016 17:40  \n",
       "4  31/03/2016 00:00                   0        60437  06/04/2016 10:17  "
      ]
     },
     "execution_count": 23,
     "metadata": {},
     "output_type": "execute_result"
    }
   ],
   "source": [
    "auto_df.head()"
   ]
  },
  {
   "cell_type": "markdown",
   "metadata": {},
   "source": [
    "We need to select the most import features we need to predict the price to improve the speed and accuracy of our model. It looks like the three column containing date information should not impact the price so we will drop these columns for model training. Likewise, the price of the vehicle should not be affected by the postal code of the owner or the registration month, so we will also drop these columns as well. "
   ]
  },
  {
   "cell_type": "code",
   "execution_count": 24,
   "metadata": {},
   "outputs": [],
   "source": [
    "# Dropping the columns\n",
    "\n",
    "auto_df = auto_df.drop(columns=['date_crawled', 'date_created', 'last_seen', 'postal_code', 'registration_month'], axis=1)"
   ]
  },
  {
   "cell_type": "code",
   "execution_count": 25,
   "metadata": {},
   "outputs": [
    {
     "data": {
      "text/plain": [
       "False    309329\n",
       "True      45040\n",
       "dtype: int64"
      ]
     },
     "execution_count": 25,
     "metadata": {},
     "output_type": "execute_result"
    }
   ],
   "source": [
    "# Checking for duplicate rows\n",
    "\n",
    "auto_df.duplicated().value_counts()"
   ]
  },
  {
   "cell_type": "code",
   "execution_count": 26,
   "metadata": {},
   "outputs": [],
   "source": [
    "# Dropping duplicated rows\n",
    "\n",
    "auto_df = auto_df.drop_duplicates()"
   ]
  },
  {
   "cell_type": "code",
   "execution_count": 27,
   "metadata": {},
   "outputs": [
    {
     "data": {
      "text/plain": [
       "price                     0\n",
       "vehicle_type          34559\n",
       "registration_year         0\n",
       "gearbox               17207\n",
       "power                     0\n",
       "model                 18361\n",
       "mileage                   0\n",
       "fuel_type             30764\n",
       "brand                     0\n",
       "not_repaired          64558\n",
       "number_of_pictures        0\n",
       "dtype: int64"
      ]
     },
     "execution_count": 27,
     "metadata": {},
     "output_type": "execute_result"
    }
   ],
   "source": [
    "# Checking for missing values\n",
    "\n",
    "auto_df.isnull().sum()"
   ]
  },
  {
   "cell_type": "markdown",
   "metadata": {},
   "source": [
    "There are missing values in vehicle_type (37484), gearbox (19830), model (19701), fuel_type(32889), and not_repaired (71145). The data may be missing because it was left out by the user or it could be the result of a technical error. Since there does not seem to be a meaningful way to fill these missing values (other than replacing with \"unknown\"), and these features are important for predicting our target, we will drop all rows with missing values. Let's see if the remaining data will be sufficient to develop the models."
   ]
  },
  {
   "cell_type": "code",
   "execution_count": 28,
   "metadata": {},
   "outputs": [
    {
     "name": "stdout",
     "output_type": "stream",
     "text": [
      "<class 'pandas.core.frame.DataFrame'>\n",
      "Int64Index: 209576 entries, 3 to 354367\n",
      "Data columns (total 11 columns):\n",
      " #   Column              Non-Null Count   Dtype \n",
      "---  ------              --------------   ----- \n",
      " 0   price               209576 non-null  int64 \n",
      " 1   vehicle_type        209576 non-null  object\n",
      " 2   registration_year   209576 non-null  int64 \n",
      " 3   gearbox             209576 non-null  object\n",
      " 4   power               209576 non-null  int64 \n",
      " 5   model               209576 non-null  object\n",
      " 6   mileage             209576 non-null  int64 \n",
      " 7   fuel_type           209576 non-null  object\n",
      " 8   brand               209576 non-null  object\n",
      " 9   not_repaired        209576 non-null  object\n",
      " 10  number_of_pictures  209576 non-null  int64 \n",
      "dtypes: int64(5), object(6)\n",
      "memory usage: 19.2+ MB\n"
     ]
    }
   ],
   "source": [
    "# Dropping rows with missing values\n",
    "\n",
    "auto_df = auto_df.dropna()\n",
    "auto_df.info()"
   ]
  },
  {
   "cell_type": "markdown",
   "metadata": {},
   "source": [
    "After dropping duplicates and missing values, 245567 rows (69%) of data remain. This is sufficient for model development."
   ]
  },
  {
   "cell_type": "markdown",
   "metadata": {},
   "source": [
    "## Exploratory Data Analysis\n",
    "\n",
    "We will check the data statistics to identify any issues."
   ]
  },
  {
   "cell_type": "code",
   "execution_count": 29,
   "metadata": {},
   "outputs": [
    {
     "data": {
      "text/html": [
       "<div>\n",
       "<style scoped>\n",
       "    .dataframe tbody tr th:only-of-type {\n",
       "        vertical-align: middle;\n",
       "    }\n",
       "\n",
       "    .dataframe tbody tr th {\n",
       "        vertical-align: top;\n",
       "    }\n",
       "\n",
       "    .dataframe thead th {\n",
       "        text-align: right;\n",
       "    }\n",
       "</style>\n",
       "<table border=\"1\" class=\"dataframe\">\n",
       "  <thead>\n",
       "    <tr style=\"text-align: right;\">\n",
       "      <th></th>\n",
       "      <th>price</th>\n",
       "      <th>registration_year</th>\n",
       "      <th>power</th>\n",
       "      <th>mileage</th>\n",
       "      <th>number_of_pictures</th>\n",
       "    </tr>\n",
       "  </thead>\n",
       "  <tbody>\n",
       "    <tr>\n",
       "      <th>count</th>\n",
       "      <td>209576.000000</td>\n",
       "      <td>209576.000000</td>\n",
       "      <td>209576.000000</td>\n",
       "      <td>209576.000000</td>\n",
       "      <td>209576.0</td>\n",
       "    </tr>\n",
       "    <tr>\n",
       "      <th>mean</th>\n",
       "      <td>5261.494527</td>\n",
       "      <td>2002.991278</td>\n",
       "      <td>121.071091</td>\n",
       "      <td>126003.192159</td>\n",
       "      <td>0.0</td>\n",
       "    </tr>\n",
       "    <tr>\n",
       "      <th>std</th>\n",
       "      <td>4779.064833</td>\n",
       "      <td>6.305215</td>\n",
       "      <td>149.265029</td>\n",
       "      <td>37817.461136</td>\n",
       "      <td>0.0</td>\n",
       "    </tr>\n",
       "    <tr>\n",
       "      <th>min</th>\n",
       "      <td>0.000000</td>\n",
       "      <td>1910.000000</td>\n",
       "      <td>0.000000</td>\n",
       "      <td>5000.000000</td>\n",
       "      <td>0.0</td>\n",
       "    </tr>\n",
       "    <tr>\n",
       "      <th>25%</th>\n",
       "      <td>1500.000000</td>\n",
       "      <td>1999.000000</td>\n",
       "      <td>76.000000</td>\n",
       "      <td>100000.000000</td>\n",
       "      <td>0.0</td>\n",
       "    </tr>\n",
       "    <tr>\n",
       "      <th>50%</th>\n",
       "      <td>3600.000000</td>\n",
       "      <td>2004.000000</td>\n",
       "      <td>114.000000</td>\n",
       "      <td>150000.000000</td>\n",
       "      <td>0.0</td>\n",
       "    </tr>\n",
       "    <tr>\n",
       "      <th>75%</th>\n",
       "      <td>7750.000000</td>\n",
       "      <td>2007.000000</td>\n",
       "      <td>150.000000</td>\n",
       "      <td>150000.000000</td>\n",
       "      <td>0.0</td>\n",
       "    </tr>\n",
       "    <tr>\n",
       "      <th>max</th>\n",
       "      <td>20000.000000</td>\n",
       "      <td>2018.000000</td>\n",
       "      <td>20000.000000</td>\n",
       "      <td>150000.000000</td>\n",
       "      <td>0.0</td>\n",
       "    </tr>\n",
       "  </tbody>\n",
       "</table>\n",
       "</div>"
      ],
      "text/plain": [
       "               price  registration_year          power        mileage  \\\n",
       "count  209576.000000      209576.000000  209576.000000  209576.000000   \n",
       "mean     5261.494527        2002.991278     121.071091  126003.192159   \n",
       "std      4779.064833           6.305215     149.265029   37817.461136   \n",
       "min         0.000000        1910.000000       0.000000    5000.000000   \n",
       "25%      1500.000000        1999.000000      76.000000  100000.000000   \n",
       "50%      3600.000000        2004.000000     114.000000  150000.000000   \n",
       "75%      7750.000000        2007.000000     150.000000  150000.000000   \n",
       "max     20000.000000        2018.000000   20000.000000  150000.000000   \n",
       "\n",
       "       number_of_pictures  \n",
       "count            209576.0  \n",
       "mean                  0.0  \n",
       "std                   0.0  \n",
       "min                   0.0  \n",
       "25%                   0.0  \n",
       "50%                   0.0  \n",
       "75%                   0.0  \n",
       "max                   0.0  "
      ]
     },
     "execution_count": 29,
     "metadata": {},
     "output_type": "execute_result"
    }
   ],
   "source": [
    "# Checking the data's descriptive statistics. \n",
    "\n",
    "auto_df.describe()"
   ]
  },
  {
   "cell_type": "markdown",
   "metadata": {},
   "source": [
    "There are seven columns with numerical data. The range of price was from 0 to 20000 and the median was 3500. The range of power was from 0 to 20000 and the median was 110. The range for mileage was from 5000 to 150000 and the median was 150000. We will explore the presence of outliers in price, power, and mileage further. Outliers do not pertain to registration_year, registration_month, and postal_code. The feature 'number_of_pictures' contains only zero values so we will drop this feature as well. We need to explore registration_year and registration_month. The minimum registration yaer is 1910 which is an outlier compared to the median which is 2003."
   ]
  },
  {
   "cell_type": "code",
   "execution_count": 30,
   "metadata": {},
   "outputs": [],
   "source": [
    "# Dropping 'number_of_pictures' column\n",
    "\n",
    "auto_df = auto_df.drop(columns=['number_of_pictures'])"
   ]
  },
  {
   "cell_type": "code",
   "execution_count": 31,
   "metadata": {},
   "outputs": [],
   "source": [
    "# Creating a function to plot the distribution of numerical features with continuous variables: price, power and mileage\n",
    "\n",
    "def boxplot(column):\n",
    "    boxplot = auto_df.boxplot(column)\n",
    "    \n",
    "    # x-axis label\n",
    "    xlabel = (column)\n",
    "\n",
    "    # Adding title\n",
    "    plt.title(\"Distribution\")\n",
    "\n",
    "    # show plot\n",
    "    plt.show()"
   ]
  },
  {
   "cell_type": "code",
   "execution_count": 32,
   "metadata": {},
   "outputs": [
    {
     "data": {
      "image/png": "[encoded data removed]",
      "text/plain": [
       "<Figure size 432x288 with 1 Axes>"
      ]
     },
     "metadata": {
      "needs_background": "light"
     },
     "output_type": "display_data"
    }
   ],
   "source": [
    "boxplot(['price'])"
   ]
  },
  {
   "cell_type": "code",
   "execution_count": 33,
   "metadata": {},
   "outputs": [
    {
     "data": {
      "image/png": "[encoded data removed]",
      "text/plain": [
       "<Figure size 432x288 with 1 Axes>"
      ]
     },
     "metadata": {
      "needs_background": "light"
     },
     "output_type": "display_data"
    }
   ],
   "source": [
    "boxplot(['power'])"
   ]
  },
  {
   "cell_type": "code",
   "execution_count": 34,
   "metadata": {},
   "outputs": [
    {
     "data": {
      "image/png": "[encoded data removed]",
      "text/plain": [
       "<Figure size 432x288 with 1 Axes>"
      ]
     },
     "metadata": {
      "needs_background": "light"
     },
     "output_type": "display_data"
    }
   ],
   "source": [
    "boxplot(['mileage'])"
   ]
  },
  {
   "cell_type": "code",
   "execution_count": 35,
   "metadata": {},
   "outputs": [
    {
     "data": {
      "image/png": "[encoded data removed]",
      "text/plain": [
       "<Figure size 432x288 with 1 Axes>"
      ]
     },
     "metadata": {
      "needs_background": "light"
     },
     "output_type": "display_data"
    }
   ],
   "source": [
    "boxplot(['registration_year'])"
   ]
  },
  {
   "cell_type": "markdown",
   "metadata": {},
   "source": [
    "We will eliminate the outliers in price, power and mileage to aid model development. The registration year may significantly impact the price and we would like to keep a range of vehicles to aid in predicting the price of older vehicles. But since there are fewer instances of the cars below 1990, we may end up with a year in the valid or test set that did not get trained by the model. Therefore, we will also eliminate outliers in registration year."
   ]
  },
  {
   "cell_type": "code",
   "execution_count": 36,
   "metadata": {},
   "outputs": [],
   "source": [
    "# Creating function for eliminating outliers\n",
    "\n",
    "def outliers(df, column):\n",
    "        \n",
    "        #finding Q1 and Q2\n",
    "        Q1 = column.quantile(0.25)\n",
    "        Q3 = column.quantile(0.75)\n",
    "       \n",
    "        #finding the IQR\n",
    "        IQR = Q3-Q1\n",
    "        \n",
    "        #finding the upper and lower limit\n",
    "        upper_limit = Q3 + 1.5*IQR\n",
    "        lower_limit = Q1 - 1.5*IQR\n",
    "        \n",
    "        #finding outliers\n",
    "        df[column > upper_limit]\n",
    "        df[column < lower_limit]\n",
    "        \n",
    "        #trimming\n",
    "        df = df[column < upper_limit] \n",
    "        df = df[column > lower_limit]\n",
    "    \n",
    "        return df        "
   ]
  },
  {
   "cell_type": "code",
   "execution_count": 37,
   "metadata": {},
   "outputs": [
    {
     "name": "stdout",
     "output_type": "stream",
     "text": [
      "<class 'pandas.core.frame.DataFrame'>\n",
      "Int64Index: 164891 entries, 3 to 354367\n",
      "Data columns (total 10 columns):\n",
      " #   Column             Non-Null Count   Dtype \n",
      "---  ------             --------------   ----- \n",
      " 0   price              164891 non-null  int64 \n",
      " 1   vehicle_type       164891 non-null  object\n",
      " 2   registration_year  164891 non-null  int64 \n",
      " 3   gearbox            164891 non-null  object\n",
      " 4   power              164891 non-null  int64 \n",
      " 5   model              164891 non-null  object\n",
      " 6   mileage            164891 non-null  int64 \n",
      " 7   fuel_type          164891 non-null  object\n",
      " 8   brand              164891 non-null  object\n",
      " 9   not_repaired       164891 non-null  object\n",
      "dtypes: int64(4), object(6)\n",
      "memory usage: 13.8+ MB\n"
     ]
    }
   ],
   "source": [
    "# Eliminating outliers\n",
    "\n",
    "auto_df= outliers(auto_df, auto_df['price']) \n",
    "auto_df= outliers(auto_df, auto_df['power'])\n",
    "auto_df= outliers(auto_df, auto_df['mileage'])\n",
    "auto_df= outliers(auto_df, auto_df['registration_year']) \n",
    "auto_df.info()"
   ]
  },
  {
   "cell_type": "code",
   "execution_count": 38,
   "metadata": {},
   "outputs": [
    {
     "data": {
      "text/html": [
       "<div>\n",
       "<style scoped>\n",
       "    .dataframe tbody tr th:only-of-type {\n",
       "        vertical-align: middle;\n",
       "    }\n",
       "\n",
       "    .dataframe tbody tr th {\n",
       "        vertical-align: top;\n",
       "    }\n",
       "\n",
       "    .dataframe thead th {\n",
       "        text-align: right;\n",
       "    }\n",
       "</style>\n",
       "<table border=\"1\" class=\"dataframe\">\n",
       "  <thead>\n",
       "    <tr style=\"text-align: right;\">\n",
       "      <th></th>\n",
       "      <th>price</th>\n",
       "      <th>registration_year</th>\n",
       "      <th>power</th>\n",
       "      <th>mileage</th>\n",
       "    </tr>\n",
       "  </thead>\n",
       "  <tbody>\n",
       "    <tr>\n",
       "      <th>count</th>\n",
       "      <td>164891.000000</td>\n",
       "      <td>164891.000000</td>\n",
       "      <td>164891.000000</td>\n",
       "      <td>164891.000000</td>\n",
       "    </tr>\n",
       "    <tr>\n",
       "      <th>mean</th>\n",
       "      <td>4156.387911</td>\n",
       "      <td>2002.380003</td>\n",
       "      <td>116.071860</td>\n",
       "      <td>141026.223384</td>\n",
       "    </tr>\n",
       "    <tr>\n",
       "      <th>std</th>\n",
       "      <td>3780.509306</td>\n",
       "      <td>4.799548</td>\n",
       "      <td>51.530739</td>\n",
       "      <td>17571.125505</td>\n",
       "    </tr>\n",
       "    <tr>\n",
       "      <th>min</th>\n",
       "      <td>0.000000</td>\n",
       "      <td>1989.000000</td>\n",
       "      <td>0.000000</td>\n",
       "      <td>90000.000000</td>\n",
       "    </tr>\n",
       "    <tr>\n",
       "      <th>25%</th>\n",
       "      <td>1300.000000</td>\n",
       "      <td>1999.000000</td>\n",
       "      <td>80.000000</td>\n",
       "      <td>150000.000000</td>\n",
       "    </tr>\n",
       "    <tr>\n",
       "      <th>50%</th>\n",
       "      <td>2900.000000</td>\n",
       "      <td>2003.000000</td>\n",
       "      <td>115.000000</td>\n",
       "      <td>150000.000000</td>\n",
       "    </tr>\n",
       "    <tr>\n",
       "      <th>75%</th>\n",
       "      <td>5950.000000</td>\n",
       "      <td>2006.000000</td>\n",
       "      <td>150.000000</td>\n",
       "      <td>150000.000000</td>\n",
       "    </tr>\n",
       "    <tr>\n",
       "      <th>max</th>\n",
       "      <td>17111.000000</td>\n",
       "      <td>2016.000000</td>\n",
       "      <td>262.000000</td>\n",
       "      <td>150000.000000</td>\n",
       "    </tr>\n",
       "  </tbody>\n",
       "</table>\n",
       "</div>"
      ],
      "text/plain": [
       "               price  registration_year          power        mileage\n",
       "count  164891.000000      164891.000000  164891.000000  164891.000000\n",
       "mean     4156.387911        2002.380003     116.071860  141026.223384\n",
       "std      3780.509306           4.799548      51.530739   17571.125505\n",
       "min         0.000000        1989.000000       0.000000   90000.000000\n",
       "25%      1300.000000        1999.000000      80.000000  150000.000000\n",
       "50%      2900.000000        2003.000000     115.000000  150000.000000\n",
       "75%      5950.000000        2006.000000     150.000000  150000.000000\n",
       "max     17111.000000        2016.000000     262.000000  150000.000000"
      ]
     },
     "execution_count": 38,
     "metadata": {},
     "output_type": "execute_result"
    }
   ],
   "source": [
    "# Checking the distributions after eliminating outliers\n",
    "\n",
    "auto_df.describe()"
   ]
  },
  {
   "cell_type": "markdown",
   "metadata": {},
   "source": [
    "After eliminating outliers, the data distribution is more normal and 164891 rows (47%) of our original data remained. We will now prepare the data for model training."
   ]
  },
  {
   "cell_type": "markdown",
   "metadata": {},
   "source": [
    "We need to prepare the categorical features for training. First we will select the categorical features. "
   ]
  },
  {
   "cell_type": "code",
   "execution_count": 39,
   "metadata": {},
   "outputs": [],
   "source": [
    "# Preparing categorical features for encoding\n",
    "\n",
    "categorical_features = ['vehicle_type', 'gearbox', 'model','fuel_type', 'brand', 'not_repaired']"
   ]
  },
  {
   "cell_type": "markdown",
   "metadata": {},
   "source": [
    "We will use one-hot encoding since in this categorical data no relationship exists between categories. We need to check how many unique values the categorical features have so that we know how encoding may affect model training. If there are many unique categories, OHE will create many new columns which will slow down the machine learning. Let's explore the unique values of the categorical features."
   ]
  },
  {
   "cell_type": "code",
   "execution_count": 40,
   "metadata": {},
   "outputs": [
    {
     "data": {
      "image/png": "[encoded data removed]",
      "text/plain": [
       "<Figure size 1080x576 with 1 Axes>"
      ]
     },
     "metadata": {
      "needs_background": "light"
     },
     "output_type": "display_data"
    }
   ],
   "source": [
    "# Plotting the number of unique values in column in the dataframe\n",
    "\n",
    "plt.figure(figsize=(15, 8))\n",
    "auto_df[categorical_features].nunique().sort_values().plot(kind='bar')\n",
    "plt.show()"
   ]
  },
  {
   "cell_type": "code",
   "execution_count": 41,
   "metadata": {},
   "outputs": [
    {
     "name": "stdout",
     "output_type": "stream",
     "text": [
      "vehicle_type : 8\n",
      "....................\n",
      "gearbox : 2\n",
      "....................\n",
      "model : 245\n",
      "....................\n",
      "fuel_type : 7\n",
      "....................\n",
      "brand : 39\n",
      "....................\n",
      "not_repaired : 2\n",
      "....................\n"
     ]
    }
   ],
   "source": [
    "for feature in categorical_features:\n",
    "    print(feature, ':', auto_df[feature].value_counts().count())\n",
    "    print(\"....................\")"
   ]
  },
  {
   "cell_type": "code",
   "execution_count": 42,
   "metadata": {},
   "outputs": [
    {
     "name": "stdout",
     "output_type": "stream",
     "text": [
      "vehicle_type : sedan          48405\n",
      "wagon          38530\n",
      "small          35201\n",
      "bus            17686\n",
      "convertible    10047\n",
      "coupe           7899\n",
      "suv             5796\n",
      "other           1327\n",
      "Name: vehicle_type, dtype: int64\n",
      "....................\n",
      "gearbox : manual    131657\n",
      "auto       33234\n",
      "Name: gearbox, dtype: int64\n",
      "....................\n",
      "model : golf          12597\n",
      "other         11817\n",
      "3er           11025\n",
      "a4             5707\n",
      "passat         5459\n",
      "              ...  \n",
      "kalina            2\n",
      "gl                2\n",
      "rangerover        2\n",
      "samara            1\n",
      "b_max             1\n",
      "Name: model, Length: 245, dtype: int64\n",
      "....................\n",
      "fuel_type : petrol      103330\n",
      "gasoline     58047\n",
      "lpg           3046\n",
      "cng            358\n",
      "hybrid          67\n",
      "other           31\n",
      "electric        12\n",
      "Name: fuel_type, dtype: int64\n",
      "....................\n",
      "brand : volkswagen       33470\n",
      "bmw              18986\n",
      "opel             17607\n",
      "mercedes_benz    16595\n",
      "audi             15094\n",
      "ford             11722\n",
      "renault           8131\n",
      "peugeot           5380\n",
      "fiat              3943\n",
      "seat              3235\n",
      "mazda             2910\n",
      "skoda             2835\n",
      "citroen           2568\n",
      "toyota            2453\n",
      "nissan            2324\n",
      "volvo             1957\n",
      "smart             1736\n",
      "hyundai           1539\n",
      "mitsubishi        1526\n",
      "honda             1446\n",
      "mini              1352\n",
      "alfa_romeo        1274\n",
      "kia               1133\n",
      "suzuki            1004\n",
      "chrysler           812\n",
      "chevrolet          626\n",
      "subaru             396\n",
      "jeep               374\n",
      "daihatsu           352\n",
      "saab               339\n",
      "land_rover         300\n",
      "dacia              299\n",
      "daewoo             270\n",
      "jaguar             236\n",
      "lancia             225\n",
      "rover              211\n",
      "porsche            183\n",
      "lada                36\n",
      "trabant             12\n",
      "Name: brand, dtype: int64\n",
      "....................\n",
      "not_repaired : no     142424\n",
      "yes     22467\n",
      "Name: not_repaired, dtype: int64\n",
      "....................\n"
     ]
    }
   ],
   "source": [
    "for feature in categorical_features:\n",
    "    print(feature, ':', auto_df[feature].value_counts())\n",
    "    print(\"....................\")"
   ]
  },
  {
   "cell_type": "markdown",
   "metadata": {},
   "source": [
    "The features with the highest number of unique values are model (249) and brand (39). We might be able to regroup the values into fewer categories based on popularity but we cannot group the smaller categories into a group such as \"other\" since there are categories with less instances that are very different in price. This would mislead the model and affect model training. Therefore, we will keep all of the categories. Hopefully these will not slow down the model training too much."
   ]
  },
  {
   "cell_type": "markdown",
   "metadata": {},
   "source": [
    "The best practice when encoding variables is to fit the encoding on the training dataset, then apply it to the validation and test sets. We will first split the dataset, then fit the encoding on the training set, and apply it to the validation and test sets."
   ]
  },
  {
   "cell_type": "markdown",
   "metadata": {},
   "source": [
    "## Model Training"
   ]
  },
  {
   "cell_type": "markdown",
   "metadata": {},
   "source": [
    "We will train different models with various hyperparameters. First we prepare the data for model training by assigning the features and target. We will then split the data into a 3 sets for training, validation and testing the final model. We will create a function using the RMSE metric to evaluate the models. We will then create a dummy model for a sanity check. We will then build several models using a linear regression, a random forest with hyperparameter tuning, LightGBM, and CatBoost. We will analyze the quality of the models. Then we will measure the speed of the most accurate models to compare the speed of the most accurate models."
   ]
  },
  {
   "cell_type": "code",
   "execution_count": 43,
   "metadata": {},
   "outputs": [
    {
     "name": "stdout",
     "output_type": "stream",
     "text": [
      "<class 'pandas.core.frame.DataFrame'>\n",
      "Int64Index: 164891 entries, 3 to 354367\n",
      "Data columns (total 10 columns):\n",
      " #   Column             Non-Null Count   Dtype \n",
      "---  ------             --------------   ----- \n",
      " 0   price              164891 non-null  int64 \n",
      " 1   vehicle_type       164891 non-null  object\n",
      " 2   registration_year  164891 non-null  int64 \n",
      " 3   gearbox            164891 non-null  object\n",
      " 4   power              164891 non-null  int64 \n",
      " 5   model              164891 non-null  object\n",
      " 6   mileage            164891 non-null  int64 \n",
      " 7   fuel_type          164891 non-null  object\n",
      " 8   brand              164891 non-null  object\n",
      " 9   not_repaired       164891 non-null  object\n",
      "dtypes: int64(4), object(6)\n",
      "memory usage: 13.8+ MB\n"
     ]
    }
   ],
   "source": [
    "auto_df.info()"
   ]
  },
  {
   "cell_type": "code",
   "execution_count": 44,
   "metadata": {},
   "outputs": [],
   "source": [
    "# Converting objects to categorical type needed for LightGBM\n",
    "\n",
    "auto_df['vehicle_type'] = auto_df.vehicle_type.astype('category')\n",
    "auto_df['gearbox'] = auto_df.gearbox .astype('category')\n",
    "auto_df['model'] = auto_df.model.astype('category')\n",
    "auto_df['fuel_type'] = auto_df.fuel_type.astype('category')\n",
    "auto_df['brand'] = auto_df.brand.astype('category')\n",
    "auto_df['not_repaired'] = auto_df.not_repaired.astype('category')"
   ]
  },
  {
   "cell_type": "code",
   "execution_count": 45,
   "metadata": {},
   "outputs": [],
   "source": [
    "# Preparing data for model training\n",
    "\n",
    "X = auto_df.drop(['price'], axis=1)\n",
    "y = auto_df['price']"
   ]
  },
  {
   "cell_type": "code",
   "execution_count": 46,
   "metadata": {},
   "outputs": [],
   "source": [
    "# Splitting the data using indexing twice to create a 3:1:1 split for training, validation, and testing.\n",
    "\n",
    "X_train, X_test, y_train, y_test = train_test_split(X, y, test_size=0.2, random_state=12345)\n",
    "X_train, X_valid, y_train, y_valid = train_test_split(X_train, y_train, test_size=0.25, random_state=12345)\n",
    "\n",
    "# We will use valid sets for model training and test set for the final model"
   ]
  },
  {
   "cell_type": "code",
   "execution_count": 47,
   "metadata": {
    "scrolled": true
   },
   "outputs": [],
   "source": [
    "# Encoding OHE by fitting features on the training data to avoid target leakage\n",
    "\n",
    "ohe_encoder = ce.OneHotEncoder(cols = ['vehicle_type', 'gearbox', 'model','fuel_type', 'brand', 'not_repaired'])\n",
    "X_train_ohe = ohe_encoder.fit_transform(X_train)\n",
    "X_test_ohe = ohe_encoder.transform(X_test)\n",
    "X_valid_ohe = ohe_encoder.transform(X_valid)\n"
   ]
  },
  {
   "cell_type": "code",
   "execution_count": 48,
   "metadata": {},
   "outputs": [],
   "source": [
    "# Creating a function to calculate RMSE\n",
    "\n",
    "def rmse(y_valid, y_pred):\n",
    "    rmse = mean_squared_error(y_valid, y_pred)**0.5\n",
    "    print(\"The rmse is:\", rmse)"
   ]
  },
  {
   "cell_type": "markdown",
   "metadata": {},
   "source": [
    "### Dummy Regressor Baseline\n",
    "\n",
    "We will use the mean of all of the prices in the dataset to generate a dummy regressor prediction. We will use this as our baseline for all other RMSE scores."
   ]
  },
  {
   "cell_type": "code",
   "execution_count": 49,
   "metadata": {},
   "outputs": [
    {
     "name": "stdout",
     "output_type": "stream",
     "text": [
      "The rmse is: 3791.586038794882\n",
      "CPU times: total: 31.2 ms\n",
      "Wall time: 82 ms\n"
     ]
    }
   ],
   "source": [
    "%%time\n",
    "# Creating a dummy model as a baseline\n",
    "\n",
    "# create a dummy regressor\n",
    "dummy_reg = DummyRegressor(strategy='mean')\n",
    "# fit it on the training set\n",
    "dummy_reg.fit(X_train_ohe, y_train)\n",
    "# make predictions on the test set\n",
    "y_pred = dummy_reg.predict(X_valid_ohe)\n",
    "\n",
    "# calculate root mean squared error\n",
    "rmse(y_valid, y_pred)"
   ]
  },
  {
   "cell_type": "markdown",
   "metadata": {},
   "source": [
    "### Linear Regression\n",
    "\n",
    "We will use a linear regression as a sanity check for our model."
   ]
  },
  {
   "cell_type": "code",
   "execution_count": 50,
   "metadata": {},
   "outputs": [
    {
     "name": "stdout",
     "output_type": "stream",
     "text": [
      "The rmse is: 1991.9172288888392\n",
      "CPU times: total: 11.2 s\n",
      "Wall time: 21.9 s\n"
     ]
    }
   ],
   "source": [
    "%%time\n",
    "# Training a linear regression model for a sanity check\n",
    "\n",
    "lr_model = LinearRegression()\n",
    "lr_model_fit = lr_model.fit(X_train_ohe,y_train)\n",
    "y_pred = lr_model.predict(X_valid_ohe)\n",
    "rmse(y_valid, y_pred)"
   ]
  },
  {
   "cell_type": "markdown",
   "metadata": {},
   "source": [
    "### RandomForestRegressor"
   ]
  },
  {
   "cell_type": "code",
   "execution_count": 51,
   "metadata": {},
   "outputs": [
    {
     "name": "stdout",
     "output_type": "stream",
     "text": [
      "RMSE of the best model on the validation set (n_estimators = 4): 1574.0930858564923\n",
      "CPU times: total: 31.9 s\n",
      "Wall time: 35.5 s\n"
     ]
    }
   ],
   "source": [
    "%%time\n",
    "# Developing a model with RandomForestRegressor. Using best score of 3800 from dummy regressor\n",
    " \n",
    "best_score = 3800\n",
    "best_est = 0\n",
    "for est in range(1, 5):\n",
    "    RFR_model = RandomForestRegressor(random_state=12345, n_estimators= est) \n",
    "    RFR_model.fit(X_train_ohe,y_train)\n",
    "    y_pred = RFR_model.predict(X_valid_ohe)\n",
    "    score = mean_squared_error(y_valid, y_pred)**0.5\n",
    "    if score < best_score:\n",
    "        best_score = score # save best score on validation set\n",
    "        best_est = est # save number of estimators corresponding to best score\n",
    "        \n",
    "print(\"RMSE of the best model on the validation set (n_estimators = {}): {}\".format(best_est, best_score))"
   ]
  },
  {
   "cell_type": "markdown",
   "metadata": {},
   "source": [
    "### LightGBMRegressor\n",
    "\n",
    "LightGBMRegressor is a gradient boosting framework that uses tree based learning algorithms. We previously converted all categorical features to category types so that LightGBM can recognize the categorical features."
   ]
  },
  {
   "cell_type": "code",
   "execution_count": 52,
   "metadata": {},
   "outputs": [
    {
     "name": "stdout",
     "output_type": "stream",
     "text": [
      "[LightGBM] [Warning] feature_fraction is set=0.6, colsample_bytree=1.0 will be ignored. Current value: feature_fraction=0.6\n",
      "[LightGBM] [Warning] min_data_in_leaf is set=7, min_child_samples=20 will be ignored. Current value: min_data_in_leaf=7\n",
      "[LightGBM] [Warning] bagging_fraction is set=1, subsample=1.0 will be ignored. Current value: bagging_fraction=1\n",
      "[LightGBM] [Warning] bagging_freq is set=100, subsample_freq=0 will be ignored. Current value: bagging_freq=100\n",
      "The rmse is: 1421.87496516309\n",
      "CPU times: total: 16.9 s\n",
      "Wall time: 6.23 s\n"
     ]
    }
   ],
   "source": [
    "%%time\n",
    "# Building a model using LightGBMRegressor\n",
    "    \n",
    "lgb_model = lgb.LGBMRegressor(\n",
    "    categorical_feature= [1,3,5,7,8,9],\n",
    "    task = 'predict',\n",
    "    application = 'regression',\n",
    "    objective = 'root_mean_squared_error',\n",
    "    boosting_type=\"gbdt\",\n",
    "    num_iterations = 1000,\n",
    "    learning_rate = 0.05,\n",
    "    num_leaves=15,\n",
    "    tree_learner='feature',\n",
    "    max_depth =10,\n",
    "    min_data_in_leaf=7,\n",
    "    bagging_fraction = 1,\n",
    "    bagging_freq = 100,\n",
    "    reg_sqrt='True',\n",
    "    metric ='rmse',\n",
    "    feature_fraction = 0.6,\n",
    "    random_state=12345)\n",
    "\n",
    "\n",
    "lgb_model = lgb_model.fit(X_train, y_train, categorical_feature=categorical_features) \n",
    "\n",
    "y_pred = lgb_model.predict(X_valid)\n",
    "rmse(y_valid, y_pred)"
   ]
  },
  {
   "cell_type": "markdown",
   "metadata": {},
   "source": [
    "### Catboost"
   ]
  },
  {
   "cell_type": "code",
   "execution_count": 53,
   "metadata": {},
   "outputs": [
    {
     "name": "stdout",
     "output_type": "stream",
     "text": [
      "Learning rate set to 0.15988\n",
      "0:\tlearn: 3383.3317803\ttest: 3391.2440743\tbest: 3391.2440743 (0)\ttotal: 319ms\tremaining: 2m 39s\n",
      "50:\tlearn: 1517.6947238\ttest: 1524.8464008\tbest: 1524.8464008 (50)\ttotal: 7.35s\tremaining: 1m 4s\n",
      "100:\tlearn: 1463.7997024\ttest: 1479.9832760\tbest: 1479.9832760 (100)\ttotal: 13.1s\tremaining: 51.9s\n",
      "150:\tlearn: 1437.6004058\ttest: 1461.7458445\tbest: 1461.7458445 (150)\ttotal: 19.8s\tremaining: 45.8s\n",
      "200:\tlearn: 1419.2091277\ttest: 1448.9239082\tbest: 1448.9239082 (200)\ttotal: 25.6s\tremaining: 38.1s\n",
      "250:\tlearn: 1406.2304520\ttest: 1442.5192962\tbest: 1442.5192962 (250)\ttotal: 31.9s\tremaining: 31.7s\n",
      "300:\tlearn: 1396.0579279\ttest: 1437.2635654\tbest: 1437.2635654 (300)\ttotal: 38.6s\tremaining: 25.5s\n",
      "350:\tlearn: 1386.1814312\ttest: 1433.6973634\tbest: 1433.6973634 (350)\ttotal: 45.6s\tremaining: 19.3s\n",
      "400:\tlearn: 1378.2092790\ttest: 1431.3272524\tbest: 1431.3272524 (400)\ttotal: 55s\tremaining: 13.6s\n",
      "450:\tlearn: 1370.3242137\ttest: 1428.5428153\tbest: 1428.5428153 (450)\ttotal: 1m 1s\tremaining: 6.72s\n",
      "499:\tlearn: 1364.3619803\ttest: 1426.2491967\tbest: 1426.2491967 (499)\ttotal: 1m 8s\tremaining: 0us\n",
      "\n",
      "bestTest = 1426.249197\n",
      "bestIteration = 499\n",
      "\n",
      "The rmse is: 1426.2491966520113\n",
      "CPU times: total: 2min 31s\n",
      "Wall time: 1min 9s\n"
     ]
    }
   ],
   "source": [
    "%%time\n",
    "# Developing a model with CatBoostRegressor\n",
    "\n",
    "categorical_features = ['vehicle_type', 'gearbox', 'model','fuel_type', 'brand', 'not_repaired']\n",
    "\n",
    "CBR_model = CatBoostRegressor(iterations=500, cat_features=categorical_features, metric_period=50)\n",
    "CBR_model.fit(X_train, y_train, eval_set=(X_valid,y_valid))\n",
    "y_pred = CBR_model.predict(X_valid)\n",
    "rmse(y_valid, y_pred)"
   ]
  },
  {
   "cell_type": "code",
   "execution_count": 54,
   "metadata": {},
   "outputs": [
    {
     "data": {
      "text/plain": [
       "array([ 7.96245974, 39.81577165,  0.58445176, 21.77003828,  6.11394458,\n",
       "        4.13060443,  1.96330413, 14.29254262,  3.36688281])"
      ]
     },
     "execution_count": 54,
     "metadata": {},
     "output_type": "execute_result"
    }
   ],
   "source": [
    "# Checking feature importances of CatBoost\n",
    "\n",
    "CBR_model.feature_importances_"
   ]
  },
  {
   "cell_type": "markdown",
   "metadata": {},
   "source": [
    "The CatBoostRegressor found that 'vehicle_type' and 'gearbox' are relatively important predictors of price."
   ]
  },
  {
   "cell_type": "markdown",
   "metadata": {},
   "source": [
    "# Model analysis\n",
    "\n",
    "The LightGBMRegressor and CatBoostRegressor models had the best performance overall, but the LightGBMRegressor was the highest combined for speed and score so we will use this model for our test set."
   ]
  },
  {
   "cell_type": "code",
   "execution_count": 55,
   "metadata": {},
   "outputs": [
    {
     "name": "stdout",
     "output_type": "stream",
     "text": [
      "[LightGBM] [Warning] feature_fraction is set=0.6, colsample_bytree=1.0 will be ignored. Current value: feature_fraction=0.6\n",
      "[LightGBM] [Warning] min_data_in_leaf is set=7, min_child_samples=20 will be ignored. Current value: min_data_in_leaf=7\n",
      "[LightGBM] [Warning] bagging_fraction is set=1, subsample=1.0 will be ignored. Current value: bagging_fraction=1\n",
      "[LightGBM] [Warning] bagging_freq is set=100, subsample_freq=0 will be ignored. Current value: bagging_freq=100\n",
      "The rmse is: 1389.0992289826563\n",
      "CPU times: total: 18 s\n",
      "Wall time: 6.86 s\n"
     ]
    }
   ],
   "source": [
    "%%time\n",
    "#Evaluting best model using test set\n",
    "\n",
    "lgb_model = lgb.LGBMRegressor(\n",
    "    categorical_feature= [1,3,5,7,8,9],\n",
    "    task = 'predict',\n",
    "    application = 'regression',\n",
    "    objective = 'root_mean_squared_error',\n",
    "    boosting_type=\"gbdt\",\n",
    "    num_iterations = 1000,\n",
    "    learning_rate = 0.05,\n",
    "    num_leaves=15,\n",
    "    tree_learner='feature',\n",
    "    max_depth =10,\n",
    "    min_data_in_leaf=7,\n",
    "    bagging_fraction = 1,\n",
    "    bagging_freq = 100,\n",
    "    reg_sqrt='True',\n",
    "    metric ='rmse',\n",
    "    feature_fraction = 0.6,\n",
    "    random_state=12345)\n",
    "\n",
    "\n",
    "lgb_model = lgb_model.fit(X_train, y_train, categorical_feature=categorical_features) \n",
    "\n",
    "y_pred = lgb_model.predict(X_test)\n",
    "rmse(y_test, y_pred)"
   ]
  },
  {
   "cell_type": "markdown",
   "metadata": {},
   "source": [
    "## General Conclusions\n",
    "\n",
    "We used Rusty Bargain used car sales data to build a model to predict the value of a car based on its features. We aimed to find the model that had the best combined quality and speed\n",
    "\n",
    "There were 354369 rows and 15 columns in the dataframe. There wee missing values in vehicle_type (37484), gearbox (19830), model (19701), fuel_type (32889), and not_repaired (71145). The data might be missing because it was left out by the user or it could be the result of a technical error. Since there did not seem to be a meaninful way to fill these missing values (other than replacing with \"unknown\"), and these features were important for predicting our target, we dropped all rows with missing values.\n",
    "\n",
    "The three column containing date information should not impact the price so we dropped these columns for model training. Likewise, the price of the vehicle should not be affected by the postal code of the owner or the registration month, so we dropped these columns as well.\n",
    "\n",
    "There were seven columns with numerical data. We eliminated the outliers in price, power, registration_year, and mileage to aid model development. After eliminating outliers, 164891 rows (47%) of our original data remained.\n",
    "\n",
    "We encoded categorical variables ('vehicle_type', 'gearbox', 'model','fuel_type', 'brand', 'not_repaired') using one-hot encoding. We checked how many unique values the categorical features have so that we know how encoding may affect model training. The features with the highest number of unique values were model (249) and brand (39). We could not group the smaller categories into a group such as \"other\" since there are categories with less instances that are very different in price. This would mislead the model and affect model training. Therefore, we kept all of the categories. We converted all categorical features to category types for LightGBM. We first split the dataset, then fit OHE encoding on the training set, and applied it to the validation and test sets so we could use OHE for models that need encoding. We used RMSE to evaluate our models and time magic command to evaluate the speed.\n",
    "\n",
    "#### The model that had the best combined speed and score was LightGBM.\n",
    "\n",
    "LightGBMRegressor with the test set\n",
    " \n",
    "The rmse is: 1389.0992289826563\n",
    "CPU times: total: 18 s\n",
    "Wall time: 6.86 s\n",
    "\n",
    "The performance and speed for the LightGBM was better than for all other models and improved from the validation to the test set."
   ]
  }
 ],
 "metadata": {
  "kernelspec": {
   "display_name": "Python 3 (ipykernel)",
   "language": "python",
   "name": "python3"
  },
  "language_info": {
   "codemirror_mode": {
    "name": "ipython",
    "version": 3
   },
   "file_extension": ".py",
   "mimetype": "text/x-python",
   "name": "python",
   "nbconvert_exporter": "python",
   "pygments_lexer": "ipython3",
   "version": "3.9.12"
  },
  "toc": {
   "base_numbering": 1,
   "nav_menu": {},
   "number_sections": true,
   "sideBar": true,
   "skip_h1_title": true,
   "title_cell": "Table of Contents",
   "title_sidebar": "Contents",
   "toc_cell": false,
   "toc_position": {},
   "toc_section_display": true,
   "toc_window_display": true
  }
 },
 "nbformat": 4,
 "nbformat_minor": 4
}
